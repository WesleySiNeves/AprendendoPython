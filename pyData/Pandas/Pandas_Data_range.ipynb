{
 "nbformat": 4,
 "nbformat_minor": 2,
 "metadata": {
  "language_info": {
   "name": "python",
   "codemirror_mode": {
    "name": "ipython",
    "version": 3
   },
   "version": "3.7.0-final"
  },
  "orig_nbformat": 2,
  "file_extension": ".py",
  "mimetype": "text/x-python",
  "name": "python",
  "npconvert_exporter": "python",
  "pygments_lexer": "ipython3",
  "version": 3,
  "kernelspec": {
   "name": "python3",
   "display_name": "Python 3"
  }
 },
 "cells": [
  {
   "cell_type": "code",
   "execution_count": 32,
   "metadata": {},
   "outputs": [],
   "source": [
    "import pandas as pd\n",
    "import numpy as np\n",
    "import datetime as dt"
   ]
  },
  {
   "cell_type": "markdown",
   "metadata": {},
   "source": [
    "## gerando dias"
   ]
  },
  {
   "cell_type": "code",
   "execution_count": 15,
   "metadata": {},
   "outputs": [
    {
     "data": {
      "text/plain": "DatetimeIndex(['2019-01-01', '2019-01-02', '2019-01-03', '2019-01-04',\n               '2019-01-05', '2019-01-06', '2019-01-07', '2019-01-08',\n               '2019-01-09', '2019-01-10', '2019-01-11', '2019-01-12',\n               '2019-01-13', '2019-01-14', '2019-01-15', '2019-01-16',\n               '2019-01-17', '2019-01-18', '2019-01-19', '2019-01-20',\n               '2019-01-21', '2019-01-22', '2019-01-23', '2019-01-24',\n               '2019-01-25', '2019-01-26', '2019-01-27', '2019-01-28',\n               '2019-01-29', '2019-01-30', '2019-01-31', '2019-02-01',\n               '2019-02-02', '2019-02-03', '2019-02-04', '2019-02-05',\n               '2019-02-06', '2019-02-07', '2019-02-08', '2019-02-09',\n               '2019-02-10', '2019-02-11', '2019-02-12', '2019-02-13',\n               '2019-02-14', '2019-02-15', '2019-02-16', '2019-02-17',\n               '2019-02-18', '2019-02-19'],\n              dtype='datetime64[ns]', freq='D')"
     },
     "execution_count": 15,
     "metadata": {},
     "output_type": "execute_result"
    }
   ],
   "source": [
    "data_dia =  pd.date_range('20190101',periods=1000,freq='D')\n",
    "\n",
    "data_dia[0:50]"
   ]
  },
  {
   "cell_type": "code",
   "execution_count": 14,
   "metadata": {},
   "outputs": [
    {
     "data": {
      "text/html": "<div>\n<style scoped>\n    .dataframe tbody tr th:only-of-type {\n        vertical-align: middle;\n    }\n\n    .dataframe tbody tr th {\n        vertical-align: top;\n    }\n\n    .dataframe thead th {\n        text-align: right;\n    }\n</style>\n<table border=\"1\" class=\"dataframe\">\n  <thead>\n    <tr style=\"text-align: right;\">\n      <th></th>\n      <th>Data</th>\n    </tr>\n  </thead>\n  <tbody>\n    <tr>\n      <th>0</th>\n      <td>2019-01-01</td>\n    </tr>\n    <tr>\n      <th>1</th>\n      <td>2019-01-02</td>\n    </tr>\n    <tr>\n      <th>2</th>\n      <td>2019-01-03</td>\n    </tr>\n    <tr>\n      <th>3</th>\n      <td>2019-01-04</td>\n    </tr>\n    <tr>\n      <th>4</th>\n      <td>2019-01-05</td>\n    </tr>\n    <tr>\n      <th>5</th>\n      <td>2019-01-06</td>\n    </tr>\n    <tr>\n      <th>6</th>\n      <td>2019-01-07</td>\n    </tr>\n    <tr>\n      <th>7</th>\n      <td>2019-01-08</td>\n    </tr>\n    <tr>\n      <th>8</th>\n      <td>2019-01-09</td>\n    </tr>\n    <tr>\n      <th>9</th>\n      <td>2019-01-10</td>\n    </tr>\n  </tbody>\n</table>\n</div>",
      "text/plain": "        Data\n0 2019-01-01\n1 2019-01-02\n2 2019-01-03\n3 2019-01-04\n4 2019-01-05\n5 2019-01-06\n6 2019-01-07\n7 2019-01-08\n8 2019-01-09\n9 2019-01-10"
     },
     "execution_count": 14,
     "metadata": {},
     "output_type": "execute_result"
    }
   ],
   "source": [
    "time_dimension  = pd.DataFrame(data_dia,columns=[\"Data\"])\n",
    "\n",
    "time_dimension[0:10]"
   ]
  },
  {
   "cell_type": "markdown",
   "metadata": {},
   "source": [
    "## gerando Mes\n"
   ]
  },
  {
   "cell_type": "code",
   "execution_count": 17,
   "metadata": {},
   "outputs": [
    {
     "data": {
      "text/plain": "DatetimeIndex(['2019-01-31', '2019-02-28', '2019-03-31', '2019-04-30',\n               '2019-05-31', '2019-06-30', '2019-07-31', '2019-08-31',\n               '2019-09-30', '2019-10-31', '2019-11-30', '2019-12-31'],\n              dtype='datetime64[ns]', freq='M')"
     },
     "execution_count": 17,
     "metadata": {},
     "output_type": "execute_result"
    }
   ],
   "source": [
    "data_Mes =  pd.date_range('20190101',periods=12,freq='M')\n",
    "\n",
    "data_Mes"
   ]
  },
  {
   "cell_type": "markdown",
   "metadata": {},
   "source": [
    "## gerando Anos\n"
   ]
  },
  {
   "cell_type": "code",
   "execution_count": 20,
   "metadata": {},
   "outputs": [
    {
     "name": "stdout",
     "output_type": "stream",
     "text": "DatetimeIndex(['2019-12-31', '2020-12-31', '2021-12-31', '2022-12-31',\n               '2023-12-31', '2024-12-31', '2025-12-31', '2026-12-31',\n               '2027-12-31', '2028-12-31', '2029-12-31', '2030-12-31'],\n              dtype='datetime64[ns]', freq='A-DEC')\n"
    }
   ],
   "source": [
    "data_Ano =  pd.date_range('20190101',periods=12,freq='A')\n",
    "\n",
    "print(data_Ano)"
   ]
  },
  {
   "cell_type": "code",
   "execution_count": 38,
   "metadata": {},
   "outputs": [
    {
     "data": {
      "text/plain": "1"
     },
     "execution_count": 38,
     "metadata": {},
     "output_type": "execute_result"
    }
   ],
   "source": [
    "\n",
    "\n",
    "date_time_obj = dt.datetime.strptime('2019-01-01', '%Y-%m-%d')\n"
   ]
  },
  {
   "cell_type": "code",
   "execution_count": 61,
   "metadata": {},
   "outputs": [
    {
     "ename": "TypeError",
     "evalue": "strptime() argument 1 must be str, not Timestamp",
     "output_type": "error",
     "traceback": [
      "\u001b[1;31m---------------------------------------------------------------------------\u001b[0m",
      "\u001b[1;31mTypeError\u001b[0m                                 Traceback (most recent call last)",
      "\u001b[1;32m<ipython-input-61-ca415f1cc6de>\u001b[0m in \u001b[0;36m<module>\u001b[1;34m()\u001b[0m\n\u001b[0;32m      1\u001b[0m \u001b[1;32mfor\u001b[0m \u001b[0mitem\u001b[0m \u001b[1;32min\u001b[0m \u001b[0mtime_dimension\u001b[0m\u001b[1;33m[\u001b[0m\u001b[1;34m\"Data\"\u001b[0m\u001b[1;33m]\u001b[0m\u001b[1;33m:\u001b[0m\u001b[1;33m\u001b[0m\u001b[0m\n\u001b[1;32m----> 2\u001b[1;33m     \u001b[0mprint\u001b[0m\u001b[1;33m(\u001b[0m\u001b[0mdt\u001b[0m\u001b[1;33m.\u001b[0m\u001b[0mdatetime\u001b[0m\u001b[1;33m.\u001b[0m\u001b[0mstrptime\u001b[0m\u001b[1;33m(\u001b[0m\u001b[0mitem\u001b[0m\u001b[1;33m,\u001b[0m \u001b[1;34m'%m/%d/%y %H:%M:%S'\u001b[0m\u001b[1;33m)\u001b[0m\u001b[1;33m)\u001b[0m\u001b[1;33m\u001b[0m\u001b[0m\n\u001b[0m",
      "\u001b[1;31mTypeError\u001b[0m: strptime() argument 1 must be str, not Timestamp"
     ]
    }
   ],
   "source": [
    "for item in time_dimension[\"Data\"]:\n",
    "    print(dt.datetime.strptime(item, '%m/%d/%y %H:%M:%S'))"
   ]
  },
  {
   "cell_type": "code",
   "execution_count": 44,
   "metadata": {},
   "outputs": [
    {
     "ename": "TypeError",
     "evalue": "strptime() argument 1 must be str, not Timestamp",
     "output_type": "error",
     "traceback": [
      "\u001b[1;31m---------------------------------------------------------------------------\u001b[0m",
      "\u001b[1;31mTypeError\u001b[0m                                 Traceback (most recent call last)",
      "\u001b[1;32m<ipython-input-44-97a3a6666423>\u001b[0m in \u001b[0;36m<module>\u001b[1;34m()\u001b[0m\n\u001b[0;32m      1\u001b[0m \u001b[0mtime_dimension\u001b[0m\u001b[1;33m[\u001b[0m\u001b[1;34m\"Dia\"\u001b[0m\u001b[1;33m]\u001b[0m \u001b[1;33m=\u001b[0m\u001b[1;34m''\u001b[0m\u001b[1;33m\u001b[0m\u001b[0m\n\u001b[0;32m      2\u001b[0m \u001b[1;33m\u001b[0m\u001b[0m\n\u001b[1;32m----> 3\u001b[1;33m \u001b[0mtime_dimension\u001b[0m\u001b[1;33m[\u001b[0m\u001b[1;34m\"Dia\"\u001b[0m\u001b[1;33m]\u001b[0m  \u001b[1;33m=\u001b[0m\u001b[1;33m[\u001b[0m\u001b[0mdt\u001b[0m\u001b[1;33m.\u001b[0m\u001b[0mdatetime\u001b[0m\u001b[1;33m.\u001b[0m\u001b[0mstrptime\u001b[0m\u001b[1;33m(\u001b[0m\u001b[0mitem\u001b[0m\u001b[1;33m,\u001b[0m \u001b[1;34m'%Y-%m-%d'\u001b[0m\u001b[1;33m)\u001b[0m\u001b[1;33m.\u001b[0m\u001b[0mday\u001b[0m \u001b[1;32mfor\u001b[0m \u001b[0mitem\u001b[0m  \u001b[1;32min\u001b[0m \u001b[0mtime_dimension\u001b[0m\u001b[1;33m[\u001b[0m\u001b[1;34m\"Data\"\u001b[0m\u001b[1;33m]\u001b[0m\u001b[1;33m]\u001b[0m\u001b[1;33m\u001b[0m\u001b[0m\n\u001b[0m",
      "\u001b[1;32m<ipython-input-44-97a3a6666423>\u001b[0m in \u001b[0;36m<listcomp>\u001b[1;34m(.0)\u001b[0m\n\u001b[0;32m      1\u001b[0m \u001b[0mtime_dimension\u001b[0m\u001b[1;33m[\u001b[0m\u001b[1;34m\"Dia\"\u001b[0m\u001b[1;33m]\u001b[0m \u001b[1;33m=\u001b[0m\u001b[1;34m''\u001b[0m\u001b[1;33m\u001b[0m\u001b[0m\n\u001b[0;32m      2\u001b[0m \u001b[1;33m\u001b[0m\u001b[0m\n\u001b[1;32m----> 3\u001b[1;33m \u001b[0mtime_dimension\u001b[0m\u001b[1;33m[\u001b[0m\u001b[1;34m\"Dia\"\u001b[0m\u001b[1;33m]\u001b[0m  \u001b[1;33m=\u001b[0m\u001b[1;33m[\u001b[0m\u001b[0mdt\u001b[0m\u001b[1;33m.\u001b[0m\u001b[0mdatetime\u001b[0m\u001b[1;33m.\u001b[0m\u001b[0mstrptime\u001b[0m\u001b[1;33m(\u001b[0m\u001b[0mitem\u001b[0m\u001b[1;33m,\u001b[0m \u001b[1;34m'%Y-%m-%d'\u001b[0m\u001b[1;33m)\u001b[0m\u001b[1;33m.\u001b[0m\u001b[0mday\u001b[0m \u001b[1;32mfor\u001b[0m \u001b[0mitem\u001b[0m  \u001b[1;32min\u001b[0m \u001b[0mtime_dimension\u001b[0m\u001b[1;33m[\u001b[0m\u001b[1;34m\"Data\"\u001b[0m\u001b[1;33m]\u001b[0m\u001b[1;33m]\u001b[0m\u001b[1;33m\u001b[0m\u001b[0m\n\u001b[0m",
      "\u001b[1;31mTypeError\u001b[0m: strptime() argument 1 must be str, not Timestamp"
     ]
    }
   ],
   "source": [
    "time_dimension[\"Dia\"] =''\n",
    "\n",
    "time_dimension[\"Dia\"]  =[dt.datetime.strptime(item, '%Y-%m-%d').day for item  in time_dimension[\"Data\"]]"
   ]
  }
 ]
}