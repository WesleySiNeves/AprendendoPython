{
 "nbformat": 4,
 "nbformat_minor": 2,
 "metadata": {
  "language_info": {
   "name": "python",
   "codemirror_mode": {
    "name": "ipython",
    "version": 3
   },
   "version": "3.7.0-final"
  },
  "orig_nbformat": 2,
  "file_extension": ".py",
  "mimetype": "text/x-python",
  "name": "python",
  "npconvert_exporter": "python",
  "pygments_lexer": "ipython3",
  "version": 3,
  "kernelspec": {
   "name": "python3",
   "display_name": "Python 3"
  }
 },
 "cells": [
  {
   "cell_type": "code",
   "execution_count": 1,
   "metadata": {},
   "outputs": [],
   "source": [
    "import pandas as pd\n",
    "import numpy as np\n",
    "import datetime as dt\n",
    "from dateutil.parser import parse"
   ]
  },
  {
   "cell_type": "markdown",
   "metadata": {},
   "source": [
    "## gerando dias"
   ]
  },
  {
   "cell_type": "code",
   "execution_count": 2,
   "metadata": {},
   "outputs": [
    {
     "data": {
      "text/plain": "DatetimeIndex(['2019-01-01', '2019-01-02', '2019-01-03', '2019-01-04',\n               '2019-01-05', '2019-01-06', '2019-01-07', '2019-01-08',\n               '2019-01-09', '2019-01-10', '2019-01-11', '2019-01-12',\n               '2019-01-13', '2019-01-14', '2019-01-15', '2019-01-16',\n               '2019-01-17', '2019-01-18', '2019-01-19', '2019-01-20',\n               '2019-01-21', '2019-01-22', '2019-01-23', '2019-01-24',\n               '2019-01-25', '2019-01-26', '2019-01-27', '2019-01-28',\n               '2019-01-29', '2019-01-30', '2019-01-31', '2019-02-01',\n               '2019-02-02', '2019-02-03', '2019-02-04', '2019-02-05',\n               '2019-02-06', '2019-02-07', '2019-02-08', '2019-02-09',\n               '2019-02-10', '2019-02-11', '2019-02-12', '2019-02-13',\n               '2019-02-14', '2019-02-15', '2019-02-16', '2019-02-17',\n               '2019-02-18', '2019-02-19'],\n              dtype='datetime64[ns]', freq='D')"
     },
     "execution_count": 2,
     "metadata": {},
     "output_type": "execute_result"
    }
   ],
   "source": [
    "data_dia =  pd.date_range('20190101',periods=1000,freq='D')\n",
    "\n",
    "data_dia[0:50]"
   ]
  },
  {
   "cell_type": "code",
   "execution_count": 3,
   "metadata": {},
   "outputs": [
    {
     "data": {
      "text/html": "<div>\n<style scoped>\n    .dataframe tbody tr th:only-of-type {\n        vertical-align: middle;\n    }\n\n    .dataframe tbody tr th {\n        vertical-align: top;\n    }\n\n    .dataframe thead th {\n        text-align: right;\n    }\n</style>\n<table border=\"1\" class=\"dataframe\">\n  <thead>\n    <tr style=\"text-align: right;\">\n      <th></th>\n      <th>Data</th>\n    </tr>\n  </thead>\n  <tbody>\n    <tr>\n      <th>0</th>\n      <td>2019-01-01</td>\n    </tr>\n    <tr>\n      <th>1</th>\n      <td>2019-01-02</td>\n    </tr>\n    <tr>\n      <th>2</th>\n      <td>2019-01-03</td>\n    </tr>\n    <tr>\n      <th>3</th>\n      <td>2019-01-04</td>\n    </tr>\n    <tr>\n      <th>4</th>\n      <td>2019-01-05</td>\n    </tr>\n  </tbody>\n</table>\n</div>",
      "text/plain": "        Data\n0 2019-01-01\n1 2019-01-02\n2 2019-01-03\n3 2019-01-04\n4 2019-01-05"
     },
     "execution_count": 3,
     "metadata": {},
     "output_type": "execute_result"
    }
   ],
   "source": [
    "time_dimension  = pd.DataFrame(data_dia,columns=[\"Data\"])\n",
    "\n",
    "time_dimension[0:5]"
   ]
  },
  {
   "cell_type": "markdown",
   "metadata": {},
   "source": [
    "## gerando o dia"
   ]
  },
  {
   "cell_type": "code",
   "execution_count": 23,
   "metadata": {},
   "outputs": [],
   "source": [
    "time_dimension[\"Dia\"] = time_dimension['Data'].dt.day"
   ]
  },
  {
   "cell_type": "markdown",
   "metadata": {},
   "source": [
    "## gerando o Mes"
   ]
  },
  {
   "cell_type": "code",
   "execution_count": 25,
   "metadata": {},
   "outputs": [],
   "source": [
    "time_dimension[\"Mes\"] = time_dimension['Data'].dt.month"
   ]
  },
  {
   "cell_type": "code",
   "execution_count": 26,
   "metadata": {},
   "outputs": [],
   "source": [
    "time_dimension[\"Ano\"] = time_dimension['Data'].dt.year"
   ]
  },
  {
   "cell_type": "code",
   "execution_count": 27,
   "metadata": {},
   "outputs": [
    {
     "data": {
      "text/html": "<div>\n<style scoped>\n    .dataframe tbody tr th:only-of-type {\n        vertical-align: middle;\n    }\n\n    .dataframe tbody tr th {\n        vertical-align: top;\n    }\n\n    .dataframe thead th {\n        text-align: right;\n    }\n</style>\n<table border=\"1\" class=\"dataframe\">\n  <thead>\n    <tr style=\"text-align: right;\">\n      <th></th>\n      <th>Data</th>\n      <th>Dia</th>\n      <th>Mes</th>\n      <th>Ano</th>\n    </tr>\n  </thead>\n  <tbody>\n    <tr>\n      <th>0</th>\n      <td>2019-01-01</td>\n      <td>1</td>\n      <td>1</td>\n      <td>2019</td>\n    </tr>\n    <tr>\n      <th>1</th>\n      <td>2019-01-02</td>\n      <td>2</td>\n      <td>1</td>\n      <td>2019</td>\n    </tr>\n    <tr>\n      <th>2</th>\n      <td>2019-01-03</td>\n      <td>3</td>\n      <td>1</td>\n      <td>2019</td>\n    </tr>\n    <tr>\n      <th>3</th>\n      <td>2019-01-04</td>\n      <td>4</td>\n      <td>1</td>\n      <td>2019</td>\n    </tr>\n    <tr>\n      <th>4</th>\n      <td>2019-01-05</td>\n      <td>5</td>\n      <td>1</td>\n      <td>2019</td>\n    </tr>\n  </tbody>\n</table>\n</div>",
      "text/plain": "        Data  Dia  Mes   Ano\n0 2019-01-01    1    1  2019\n1 2019-01-02    2    1  2019\n2 2019-01-03    3    1  2019\n3 2019-01-04    4    1  2019\n4 2019-01-05    5    1  2019"
     },
     "execution_count": 27,
     "metadata": {},
     "output_type": "execute_result"
    }
   ],
   "source": [
    "time_dimension[0:5]"
   ]
  },
  {
   "cell_type": "markdown",
   "metadata": {},
   "source": [
    "## Dia da semana"
   ]
  },
  {
   "cell_type": "code",
   "execution_count": 30,
   "metadata": {},
   "outputs": [],
   "source": [
    "time_dimension['DiaSemana'] = time_dimension['Data'].dt.dayofweek"
   ]
  },
  {
   "cell_type": "markdown",
   "metadata": {},
   "source": [
    "## gerando Mes\n"
   ]
  },
  {
   "cell_type": "code",
   "execution_count": 17,
   "metadata": {},
   "outputs": [
    {
     "data": {
      "text/plain": "DatetimeIndex(['2019-01-31', '2019-02-28', '2019-03-31', '2019-04-30',\n               '2019-05-31', '2019-06-30', '2019-07-31', '2019-08-31',\n               '2019-09-30', '2019-10-31', '2019-11-30', '2019-12-31'],\n              dtype='datetime64[ns]', freq='M')"
     },
     "execution_count": 17,
     "metadata": {},
     "output_type": "execute_result"
    }
   ],
   "source": [
    "data_Mes =  pd.date_range('20190101',periods=12,freq='M')\n",
    "\n",
    "data_Mes"
   ]
  },
  {
   "cell_type": "markdown",
   "metadata": {},
   "source": [
    "## gerando Anos\n"
   ]
  },
  {
   "cell_type": "code",
   "execution_count": 20,
   "metadata": {},
   "outputs": [
    {
     "name": "stdout",
     "output_type": "stream",
     "text": "DatetimeIndex(['2019-12-31', '2020-12-31', '2021-12-31', '2022-12-31',\n               '2023-12-31', '2024-12-31', '2025-12-31', '2026-12-31',\n               '2027-12-31', '2028-12-31', '2029-12-31', '2030-12-31'],\n              dtype='datetime64[ns]', freq='A-DEC')\n"
    }
   ],
   "source": [
    "data_Ano =  pd.date_range('20190101',periods=12,freq='A')\n",
    "\n",
    "print(data_Ano)"
   ]
  },
  {
   "cell_type": "markdown",
   "metadata": {},
   "source": [
    "## trimestre"
   ]
  },
  {
   "cell_type": "code",
   "execution_count": 35,
   "metadata": {},
   "outputs": [],
   "source": [
    "time_dimension['Trimestre'] = time_dimension['Data'].dt.quarter"
   ]
  },
  {
   "cell_type": "code",
   "execution_count": 32,
   "metadata": {},
   "outputs": [
    {
     "data": {
      "text/html": "<div>\n<style scoped>\n    .dataframe tbody tr th:only-of-type {\n        vertical-align: middle;\n    }\n\n    .dataframe tbody tr th {\n        vertical-align: top;\n    }\n\n    .dataframe thead th {\n        text-align: right;\n    }\n</style>\n<table border=\"1\" class=\"dataframe\">\n  <thead>\n    <tr style=\"text-align: right;\">\n      <th></th>\n      <th>Data</th>\n      <th>Dia</th>\n      <th>Mes</th>\n      <th>Ano</th>\n      <th>DiaSemana</th>\n      <th>Trimestre</th>\n    </tr>\n  </thead>\n  <tbody>\n    <tr>\n      <th>0</th>\n      <td>2019-01-01</td>\n      <td>1</td>\n      <td>1</td>\n      <td>2019</td>\n      <td>1</td>\n      <td>1</td>\n    </tr>\n    <tr>\n      <th>1</th>\n      <td>2019-01-02</td>\n      <td>2</td>\n      <td>1</td>\n      <td>2019</td>\n      <td>2</td>\n      <td>1</td>\n    </tr>\n    <tr>\n      <th>2</th>\n      <td>2019-01-03</td>\n      <td>3</td>\n      <td>1</td>\n      <td>2019</td>\n      <td>3</td>\n      <td>1</td>\n    </tr>\n    <tr>\n      <th>3</th>\n      <td>2019-01-04</td>\n      <td>4</td>\n      <td>1</td>\n      <td>2019</td>\n      <td>4</td>\n      <td>1</td>\n    </tr>\n    <tr>\n      <th>4</th>\n      <td>2019-01-05</td>\n      <td>5</td>\n      <td>1</td>\n      <td>2019</td>\n      <td>5</td>\n      <td>1</td>\n    </tr>\n    <tr>\n      <th>5</th>\n      <td>2019-01-06</td>\n      <td>6</td>\n      <td>1</td>\n      <td>2019</td>\n      <td>6</td>\n      <td>1</td>\n    </tr>\n    <tr>\n      <th>6</th>\n      <td>2019-01-07</td>\n      <td>7</td>\n      <td>1</td>\n      <td>2019</td>\n      <td>0</td>\n      <td>1</td>\n    </tr>\n    <tr>\n      <th>7</th>\n      <td>2019-01-08</td>\n      <td>8</td>\n      <td>1</td>\n      <td>2019</td>\n      <td>1</td>\n      <td>1</td>\n    </tr>\n    <tr>\n      <th>8</th>\n      <td>2019-01-09</td>\n      <td>9</td>\n      <td>1</td>\n      <td>2019</td>\n      <td>2</td>\n      <td>1</td>\n    </tr>\n    <tr>\n      <th>9</th>\n      <td>2019-01-10</td>\n      <td>10</td>\n      <td>1</td>\n      <td>2019</td>\n      <td>3</td>\n      <td>1</td>\n    </tr>\n  </tbody>\n</table>\n</div>",
      "text/plain": "        Data  Dia  Mes   Ano  DiaSemana  Trimestre\n0 2019-01-01    1    1  2019          1          1\n1 2019-01-02    2    1  2019          2          1\n2 2019-01-03    3    1  2019          3          1\n3 2019-01-04    4    1  2019          4          1\n4 2019-01-05    5    1  2019          5          1\n5 2019-01-06    6    1  2019          6          1\n6 2019-01-07    7    1  2019          0          1\n7 2019-01-08    8    1  2019          1          1\n8 2019-01-09    9    1  2019          2          1\n9 2019-01-10   10    1  2019          3          1"
     },
     "execution_count": 32,
     "metadata": {},
     "output_type": "execute_result"
    }
   ],
   "source": [
    "time_dimension[0:2]"
   ]
  },
  {
   "cell_type": "code",
   "execution_count": 42,
   "metadata": {},
   "outputs": [],
   "source": [
    "def get_mes(valor):\n",
    "    switcher = {\n",
    "    1: \"January\",\n",
    "    2: \"February\",\n",
    "    3: \"March\",\n",
    "    4: \"April\",\n",
    "    5: \"May\",\n",
    "    6: \"June\",\n",
    "    7: \"July\",\n",
    "    8: \"August\",\n",
    "    9: \"September\",\n",
    "    10: \"October\",\n",
    "    11: \"November\",\n",
    "    12: \"December\"\n",
    "}\n",
    "    return switcher[valor]\n",
    "\n",
    "\n"
   ]
  },
  {
   "cell_type": "code",
   "execution_count": 50,
   "metadata": {},
   "outputs": [],
   "source": [
    "def get_dia_semana(valor):\n",
    "    switcher = {\n",
    "    1: \"Monday\",\n",
    "    2: \"Tuesday\",\n",
    "    3: \"Wednesday\",\n",
    "    4: \"Thursday\",\n",
    "    5: \"Friday\",\n",
    "    6: \"Saturday\",\n",
    "    0: \"Sunday\"\n",
    "}\n",
    "    return switcher[valor]\n",
    "    \n"
   ]
  },
  {
   "cell_type": "code",
   "execution_count": 43,
   "metadata": {},
   "outputs": [],
   "source": [
    "time_dimension['Mes_Extenso'] = [get_mes(item) for item in time_dimension[\"Mes\"]]"
   ]
  },
  {
   "cell_type": "code",
   "execution_count": 52,
   "metadata": {},
   "outputs": [
    {
     "data": {
      "text/plain": "['Data', 'Dia', 'Mes', 'Ano', 'DiaSemana', 'Trimestre', 'Mes_Extenso']"
     },
     "execution_count": 52,
     "metadata": {},
     "output_type": "execute_result"
    }
   ],
   "source": [
    "list(time_dimension)"
   ]
  },
  {
   "cell_type": "code",
   "execution_count": 53,
   "metadata": {},
   "outputs": [],
   "source": [
    "time_dimension['DiaSemanaExtenso'] = [get_dia_semana(item) for item in time_dimension[\"DiaSemana\"]]"
   ]
  },
  {
   "cell_type": "code",
   "execution_count": 54,
   "metadata": {},
   "outputs": [
    {
     "data": {
      "text/html": "<div>\n<style scoped>\n    .dataframe tbody tr th:only-of-type {\n        vertical-align: middle;\n    }\n\n    .dataframe tbody tr th {\n        vertical-align: top;\n    }\n\n    .dataframe thead th {\n        text-align: right;\n    }\n</style>\n<table border=\"1\" class=\"dataframe\">\n  <thead>\n    <tr style=\"text-align: right;\">\n      <th></th>\n      <th>Data</th>\n      <th>Dia</th>\n      <th>Mes</th>\n      <th>Ano</th>\n      <th>DiaSemana</th>\n      <th>Trimestre</th>\n      <th>Mes_Extenso</th>\n      <th>DiaSemanaExtenso</th>\n    </tr>\n  </thead>\n  <tbody>\n    <tr>\n      <th>0</th>\n      <td>2019-01-01</td>\n      <td>1</td>\n      <td>1</td>\n      <td>2019</td>\n      <td>1</td>\n      <td>1</td>\n      <td>January</td>\n      <td>Monday</td>\n    </tr>\n    <tr>\n      <th>1</th>\n      <td>2019-01-02</td>\n      <td>2</td>\n      <td>1</td>\n      <td>2019</td>\n      <td>2</td>\n      <td>1</td>\n      <td>January</td>\n      <td>Tuesday</td>\n    </tr>\n    <tr>\n      <th>2</th>\n      <td>2019-01-03</td>\n      <td>3</td>\n      <td>1</td>\n      <td>2019</td>\n      <td>3</td>\n      <td>1</td>\n      <td>January</td>\n      <td>Wednesday</td>\n    </tr>\n    <tr>\n      <th>3</th>\n      <td>2019-01-04</td>\n      <td>4</td>\n      <td>1</td>\n      <td>2019</td>\n      <td>4</td>\n      <td>1</td>\n      <td>January</td>\n      <td>Thursday</td>\n    </tr>\n    <tr>\n      <th>4</th>\n      <td>2019-01-05</td>\n      <td>5</td>\n      <td>1</td>\n      <td>2019</td>\n      <td>5</td>\n      <td>1</td>\n      <td>January</td>\n      <td>Friday</td>\n    </tr>\n    <tr>\n      <th>5</th>\n      <td>2019-01-06</td>\n      <td>6</td>\n      <td>1</td>\n      <td>2019</td>\n      <td>6</td>\n      <td>1</td>\n      <td>January</td>\n      <td>Saturday</td>\n    </tr>\n    <tr>\n      <th>6</th>\n      <td>2019-01-07</td>\n      <td>7</td>\n      <td>1</td>\n      <td>2019</td>\n      <td>0</td>\n      <td>1</td>\n      <td>January</td>\n      <td>Sunday</td>\n    </tr>\n    <tr>\n      <th>7</th>\n      <td>2019-01-08</td>\n      <td>8</td>\n      <td>1</td>\n      <td>2019</td>\n      <td>1</td>\n      <td>1</td>\n      <td>January</td>\n      <td>Monday</td>\n    </tr>\n    <tr>\n      <th>8</th>\n      <td>2019-01-09</td>\n      <td>9</td>\n      <td>1</td>\n      <td>2019</td>\n      <td>2</td>\n      <td>1</td>\n      <td>January</td>\n      <td>Tuesday</td>\n    </tr>\n    <tr>\n      <th>9</th>\n      <td>2019-01-10</td>\n      <td>10</td>\n      <td>1</td>\n      <td>2019</td>\n      <td>3</td>\n      <td>1</td>\n      <td>January</td>\n      <td>Wednesday</td>\n    </tr>\n  </tbody>\n</table>\n</div>",
      "text/plain": "        Data  Dia  Mes   Ano  DiaSemana  Trimestre Mes_Extenso  \\\n0 2019-01-01    1    1  2019          1          1     January   \n1 2019-01-02    2    1  2019          2          1     January   \n2 2019-01-03    3    1  2019          3          1     January   \n3 2019-01-04    4    1  2019          4          1     January   \n4 2019-01-05    5    1  2019          5          1     January   \n5 2019-01-06    6    1  2019          6          1     January   \n6 2019-01-07    7    1  2019          0          1     January   \n7 2019-01-08    8    1  2019          1          1     January   \n8 2019-01-09    9    1  2019          2          1     January   \n9 2019-01-10   10    1  2019          3          1     January   \n\n  DiaSemanaExtenso  \n0           Monday  \n1          Tuesday  \n2        Wednesday  \n3         Thursday  \n4           Friday  \n5         Saturday  \n6           Sunday  \n7           Monday  \n8          Tuesday  \n9        Wednesday  "
     },
     "execution_count": 54,
     "metadata": {},
     "output_type": "execute_result"
    }
   ],
   "source": [
    "time_dimension[0:10]"
   ]
  }
 ]
}