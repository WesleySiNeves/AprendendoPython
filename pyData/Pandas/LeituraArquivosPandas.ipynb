{
 "cells": [
  {
   "cell_type": "code",
   "execution_count": 31,
   "metadata": {},
   "outputs": [],
   "source": [
    "import pandas as pd\n",
    "import os \n",
    "import string\n",
    "\n",
    "diretorio_Arquivo = r'D:\\Wesley\\VersionCode\\AprendendoPython\\AprendendoPython\\pyData\\Pandas\\Arquivos'\n",
    "ful_path_json =diretorio_Arquivo +r'\\aluguel.json'\n",
    "ful_path_txt =diretorio_Arquivo +r'\\aluguel.txt'\n",
    "ful_path_xlsx =diretorio_Arquivo +r'\\aluguel.xlsx'\n",
    "ful_path_html =diretorio_Arquivo +r'\\dados_html_1.html'\n",
    "\n",
    "\n",
    "\n",
    "\n"
   ]
  },
  {
   "cell_type": "code",
   "execution_count": 22,
   "metadata": {},
   "outputs": [
    {
     "name": "stdout",
     "output_type": "stream",
     "text": "[{\"Tipo\":\"Quitinete\",\"Bairro\":\"Copacabana\",\"Quartos\":1,\"Vagas\":0,\"Suites\":0,\"Area\":40,\"Valor\":1700.0,\"Condominio\":500.0,\"IPTU\":60.0},\n{\"Tipo\":\"Casa\",\"Bairro\":\"Jardim Bot\\u00e2nico\",\"Quartos\":2,\"Vagas\":0,\"Suites\":1,\"Area\":100,\"Valor\":7000.0,\"Condominio\":null,\"IPTU\":null},\n{\"Tipo\":\"Conjunto Comercial\\/Sala\",\"Bairro\":\"Barra da Tijuca\",\"Quartos\":0,\"Vagas\":4,\"Suites\":0,\"Area\":150,\"Valor\":5200.0,\"Condominio\":4020.0,\"IPTU\":1111.0},\n{\"Tipo\":\"Apartamento\",\"Bairro\":\"Centro\",\"Quartos\":1,\"Vagas\":0,\"Suites\":0,\"Area\":15,\"Valor\":800.0,\"Condominio\":390.0,\"IPTU\":20.0},\n{\"Tipo\":\"Apartamento\",\"Bairro\":\"Higien\\u00f3polis\",\"Quartos\":1,\"Vagas\":0,\"Suites\":0,\"Area\":48,\"Valor\":800.0,\"Condominio\":230.0,\"IPTU\":null},\n{\"Tipo\":\"Apartamento\",\"Bairro\":\"Vista Alegre\",\"Quartos\":3,\"Vagas\":1,\"Suites\":0,\"Area\":70,\"Valor\":1200.0,\"Condominio\":null,\"IPTU\":null},\n{\"Tipo\":\"Apartamento\",\"Bairro\":\"Cachambi\",\"Quartos\":2,\"Vagas\":0,\"Suites\":0,\"Area\":50,\"Valor\":1300.0,\"Condominio\":301.0,\"IPTU\":17.0},\n{\"Tipo\":\"Casa de Condom\\u00ednio\",\"Bairro\":\"Barra da Tijuca\",\"Quartos\":5,\"Vagas\":4,\"Suites\":5,\"Area\":750,\"Valor\":22000.0,\"Condominio\":null,\"IPTU\":null},\n{\"Tipo\":\"Casa de Condom\\u00ednio\",\"Bairro\":\"Ramos\",\"Quartos\":2,\"Vagas\":2,\"Suites\":0,\"Area\":65,\"Valor\":1000.0,\"Condominio\":null,\"IPTU\":null},\n{\"Tipo\":\"Conjunto Comercial\\/Sala\",\"Bairro\":\"Centro\",\"Quartos\":0,\"Vagas\":3,\"Suites\":0,\"Area\":695,\"Valor\":35000.0,\"Condominio\":19193.0,\"IPTU\":3030.0}]\n"
    }
   ],
   "source": [
    "json = open(ful_path_json)\n",
    "print(json.read())"
   ]
  },
  {
   "cell_type": "code",
   "execution_count": 23,
   "metadata": {},
   "outputs": [
    {
     "data": {
      "text/html": "<div>\n<style scoped>\n    .dataframe tbody tr th:only-of-type {\n        vertical-align: middle;\n    }\n\n    .dataframe tbody tr th {\n        vertical-align: top;\n    }\n\n    .dataframe thead th {\n        text-align: right;\n    }\n</style>\n<table border=\"1\" class=\"dataframe\">\n  <thead>\n    <tr style=\"text-align: right;\">\n      <th></th>\n      <th>Area</th>\n      <th>Bairro</th>\n      <th>Condominio</th>\n      <th>IPTU</th>\n      <th>Quartos</th>\n      <th>Suites</th>\n      <th>Tipo</th>\n      <th>Vagas</th>\n      <th>Valor</th>\n    </tr>\n  </thead>\n  <tbody>\n    <tr>\n      <th>0</th>\n      <td>40</td>\n      <td>Copacabana</td>\n      <td>500.0</td>\n      <td>60.0</td>\n      <td>1</td>\n      <td>0</td>\n      <td>Quitinete</td>\n      <td>0</td>\n      <td>1700</td>\n    </tr>\n    <tr>\n      <th>1</th>\n      <td>100</td>\n      <td>Jardim Botânico</td>\n      <td>NaN</td>\n      <td>NaN</td>\n      <td>2</td>\n      <td>1</td>\n      <td>Casa</td>\n      <td>0</td>\n      <td>7000</td>\n    </tr>\n    <tr>\n      <th>2</th>\n      <td>150</td>\n      <td>Barra da Tijuca</td>\n      <td>4020.0</td>\n      <td>1111.0</td>\n      <td>0</td>\n      <td>0</td>\n      <td>Conjunto Comercial/Sala</td>\n      <td>4</td>\n      <td>5200</td>\n    </tr>\n    <tr>\n      <th>3</th>\n      <td>15</td>\n      <td>Centro</td>\n      <td>390.0</td>\n      <td>20.0</td>\n      <td>1</td>\n      <td>0</td>\n      <td>Apartamento</td>\n      <td>0</td>\n      <td>800</td>\n    </tr>\n    <tr>\n      <th>4</th>\n      <td>48</td>\n      <td>Higienópolis</td>\n      <td>230.0</td>\n      <td>NaN</td>\n      <td>1</td>\n      <td>0</td>\n      <td>Apartamento</td>\n      <td>0</td>\n      <td>800</td>\n    </tr>\n    <tr>\n      <th>5</th>\n      <td>70</td>\n      <td>Vista Alegre</td>\n      <td>NaN</td>\n      <td>NaN</td>\n      <td>3</td>\n      <td>0</td>\n      <td>Apartamento</td>\n      <td>1</td>\n      <td>1200</td>\n    </tr>\n    <tr>\n      <th>6</th>\n      <td>50</td>\n      <td>Cachambi</td>\n      <td>301.0</td>\n      <td>17.0</td>\n      <td>2</td>\n      <td>0</td>\n      <td>Apartamento</td>\n      <td>0</td>\n      <td>1300</td>\n    </tr>\n    <tr>\n      <th>7</th>\n      <td>750</td>\n      <td>Barra da Tijuca</td>\n      <td>NaN</td>\n      <td>NaN</td>\n      <td>5</td>\n      <td>5</td>\n      <td>Casa de Condomínio</td>\n      <td>4</td>\n      <td>22000</td>\n    </tr>\n    <tr>\n      <th>8</th>\n      <td>65</td>\n      <td>Ramos</td>\n      <td>NaN</td>\n      <td>NaN</td>\n      <td>2</td>\n      <td>0</td>\n      <td>Casa de Condomínio</td>\n      <td>2</td>\n      <td>1000</td>\n    </tr>\n    <tr>\n      <th>9</th>\n      <td>695</td>\n      <td>Centro</td>\n      <td>19193.0</td>\n      <td>3030.0</td>\n      <td>0</td>\n      <td>0</td>\n      <td>Conjunto Comercial/Sala</td>\n      <td>3</td>\n      <td>35000</td>\n    </tr>\n  </tbody>\n</table>\n</div>",
      "text/plain": "   Area           Bairro  Condominio    IPTU  Quartos  Suites  \\\n0    40       Copacabana       500.0    60.0        1       0   \n1   100  Jardim Botânico         NaN     NaN        2       1   \n2   150  Barra da Tijuca      4020.0  1111.0        0       0   \n3    15           Centro       390.0    20.0        1       0   \n4    48     Higienópolis       230.0     NaN        1       0   \n5    70     Vista Alegre         NaN     NaN        3       0   \n6    50         Cachambi       301.0    17.0        2       0   \n7   750  Barra da Tijuca         NaN     NaN        5       5   \n8    65            Ramos         NaN     NaN        2       0   \n9   695           Centro     19193.0  3030.0        0       0   \n\n                      Tipo  Vagas  Valor  \n0                Quitinete      0   1700  \n1                     Casa      0   7000  \n2  Conjunto Comercial/Sala      4   5200  \n3              Apartamento      0    800  \n4              Apartamento      0    800  \n5              Apartamento      1   1200  \n6              Apartamento      0   1300  \n7       Casa de Condomínio      4  22000  \n8       Casa de Condomínio      2   1000  \n9  Conjunto Comercial/Sala      3  35000  "
     },
     "execution_count": 23,
     "metadata": {},
     "output_type": "execute_result"
    }
   ],
   "source": [
    "df_json = pd.read_json(ful_path_json)\n",
    "df_json"
   ]
  },
  {
   "cell_type": "code",
   "execution_count": 28,
   "metadata": {},
   "outputs": [
    {
     "name": "stdout",
     "output_type": "stream",
     "text": "Tipo\tBairro\tQuartos\tVagas\tSuites\tArea\tValor\tCondominio\tIPTU\nQuitinete\tCopacabana\t1\t0\t0\t40\t1700\t500\t60\nCasa\tJardim BotÃ¢nico\t2\t0\t1\t100\t7000\t\t\nConjunto Comercial/Sala\tBarra da Tijuca\t0\t4\t0\t150\t5200\t4020\t1111\nApartamento\tCentro\t1\t0\t0\t15\t800\t390\t20\nApartamento\tHigienÃ³polis\t1\t0\t0\t48\t800\t230\t\nApartamento\tVista Alegre\t3\t1\t0\t70\t1200\t\t\nApartamento\tCachambi\t2\t0\t0\t50\t1300\t301\t17\nCasa de CondomÃ­nio\tBarra da Tijuca\t5\t4\t5\t750\t22000\t\t\nCasa de CondomÃ­nio\tRamos\t2\t2\t0\t65\t1000\t\t\nConjunto Comercial/Sala\tCentro\t0\t3\t0\t695\t35000\t19193\t3030\n\n"
    }
   ],
   "source": [
    "txt = open(ful_path_txt)\n",
    "print(txt.read())"
   ]
  },
  {
   "cell_type": "code",
   "execution_count": 27,
   "metadata": {},
   "outputs": [
    {
     "data": {
      "text/html": "<div>\n<style scoped>\n    .dataframe tbody tr th:only-of-type {\n        vertical-align: middle;\n    }\n\n    .dataframe tbody tr th {\n        vertical-align: top;\n    }\n\n    .dataframe thead th {\n        text-align: right;\n    }\n</style>\n<table border=\"1\" class=\"dataframe\">\n  <thead>\n    <tr style=\"text-align: right;\">\n      <th></th>\n      <th>Tipo</th>\n      <th>Bairro</th>\n      <th>Quartos</th>\n      <th>Vagas</th>\n      <th>Suites</th>\n      <th>Area</th>\n      <th>Valor</th>\n      <th>Condominio</th>\n      <th>IPTU</th>\n    </tr>\n  </thead>\n  <tbody>\n    <tr>\n      <th>0</th>\n      <td>Quitinete</td>\n      <td>Copacabana</td>\n      <td>1</td>\n      <td>0</td>\n      <td>0</td>\n      <td>40</td>\n      <td>1700</td>\n      <td>500.0</td>\n      <td>60.0</td>\n    </tr>\n    <tr>\n      <th>1</th>\n      <td>Casa</td>\n      <td>Jardim Botânico</td>\n      <td>2</td>\n      <td>0</td>\n      <td>1</td>\n      <td>100</td>\n      <td>7000</td>\n      <td>NaN</td>\n      <td>NaN</td>\n    </tr>\n    <tr>\n      <th>2</th>\n      <td>Conjunto Comercial/Sala</td>\n      <td>Barra da Tijuca</td>\n      <td>0</td>\n      <td>4</td>\n      <td>0</td>\n      <td>150</td>\n      <td>5200</td>\n      <td>4020.0</td>\n      <td>1111.0</td>\n    </tr>\n    <tr>\n      <th>3</th>\n      <td>Apartamento</td>\n      <td>Centro</td>\n      <td>1</td>\n      <td>0</td>\n      <td>0</td>\n      <td>15</td>\n      <td>800</td>\n      <td>390.0</td>\n      <td>20.0</td>\n    </tr>\n    <tr>\n      <th>4</th>\n      <td>Apartamento</td>\n      <td>Higienópolis</td>\n      <td>1</td>\n      <td>0</td>\n      <td>0</td>\n      <td>48</td>\n      <td>800</td>\n      <td>230.0</td>\n      <td>NaN</td>\n    </tr>\n    <tr>\n      <th>5</th>\n      <td>Apartamento</td>\n      <td>Vista Alegre</td>\n      <td>3</td>\n      <td>1</td>\n      <td>0</td>\n      <td>70</td>\n      <td>1200</td>\n      <td>NaN</td>\n      <td>NaN</td>\n    </tr>\n    <tr>\n      <th>6</th>\n      <td>Apartamento</td>\n      <td>Cachambi</td>\n      <td>2</td>\n      <td>0</td>\n      <td>0</td>\n      <td>50</td>\n      <td>1300</td>\n      <td>301.0</td>\n      <td>17.0</td>\n    </tr>\n    <tr>\n      <th>7</th>\n      <td>Casa de Condomínio</td>\n      <td>Barra da Tijuca</td>\n      <td>5</td>\n      <td>4</td>\n      <td>5</td>\n      <td>750</td>\n      <td>22000</td>\n      <td>NaN</td>\n      <td>NaN</td>\n    </tr>\n    <tr>\n      <th>8</th>\n      <td>Casa de Condomínio</td>\n      <td>Ramos</td>\n      <td>2</td>\n      <td>2</td>\n      <td>0</td>\n      <td>65</td>\n      <td>1000</td>\n      <td>NaN</td>\n      <td>NaN</td>\n    </tr>\n    <tr>\n      <th>9</th>\n      <td>Conjunto Comercial/Sala</td>\n      <td>Centro</td>\n      <td>0</td>\n      <td>3</td>\n      <td>0</td>\n      <td>695</td>\n      <td>35000</td>\n      <td>19193.0</td>\n      <td>3030.0</td>\n    </tr>\n  </tbody>\n</table>\n</div>",
      "text/plain": "                      Tipo           Bairro  Quartos  Vagas  Suites  Area  \\\n0                Quitinete       Copacabana        1      0       0    40   \n1                     Casa  Jardim Botânico        2      0       1   100   \n2  Conjunto Comercial/Sala  Barra da Tijuca        0      4       0   150   \n3              Apartamento           Centro        1      0       0    15   \n4              Apartamento     Higienópolis        1      0       0    48   \n5              Apartamento     Vista Alegre        3      1       0    70   \n6              Apartamento         Cachambi        2      0       0    50   \n7       Casa de Condomínio  Barra da Tijuca        5      4       5   750   \n8       Casa de Condomínio            Ramos        2      2       0    65   \n9  Conjunto Comercial/Sala           Centro        0      3       0   695   \n\n   Valor  Condominio    IPTU  \n0   1700       500.0    60.0  \n1   7000         NaN     NaN  \n2   5200      4020.0  1111.0  \n3    800       390.0    20.0  \n4    800       230.0     NaN  \n5   1200         NaN     NaN  \n6   1300       301.0    17.0  \n7  22000         NaN     NaN  \n8   1000         NaN     NaN  \n9  35000     19193.0  3030.0  "
     },
     "execution_count": 27,
     "metadata": {},
     "output_type": "execute_result"
    }
   ],
   "source": [
    "df_txt = pd.read_table(ful_path_txt)\n",
    "df_txt"
   ]
  },
  {
   "cell_type": "code",
   "execution_count": 30,
   "metadata": {},
   "outputs": [
    {
     "data": {
      "text/html": "<div>\n<style scoped>\n    .dataframe tbody tr th:only-of-type {\n        vertical-align: middle;\n    }\n\n    .dataframe tbody tr th {\n        vertical-align: top;\n    }\n\n    .dataframe thead th {\n        text-align: right;\n    }\n</style>\n<table border=\"1\" class=\"dataframe\">\n  <thead>\n    <tr style=\"text-align: right;\">\n      <th></th>\n      <th>Tipo</th>\n      <th>Bairro</th>\n      <th>Quartos</th>\n      <th>Vagas</th>\n      <th>Suites</th>\n      <th>Area</th>\n      <th>Valor</th>\n      <th>Condominio</th>\n      <th>IPTU</th>\n    </tr>\n  </thead>\n  <tbody>\n    <tr>\n      <th>0</th>\n      <td>Quitinete</td>\n      <td>Copacabana</td>\n      <td>1</td>\n      <td>0</td>\n      <td>0</td>\n      <td>40</td>\n      <td>1700</td>\n      <td>500.0</td>\n      <td>60.0</td>\n    </tr>\n    <tr>\n      <th>1</th>\n      <td>Casa</td>\n      <td>Jardim Botânico</td>\n      <td>2</td>\n      <td>0</td>\n      <td>1</td>\n      <td>100</td>\n      <td>7000</td>\n      <td>NaN</td>\n      <td>NaN</td>\n    </tr>\n    <tr>\n      <th>2</th>\n      <td>Conjunto Comercial/Sala</td>\n      <td>Barra da Tijuca</td>\n      <td>0</td>\n      <td>4</td>\n      <td>0</td>\n      <td>150</td>\n      <td>5200</td>\n      <td>4020.0</td>\n      <td>1111.0</td>\n    </tr>\n    <tr>\n      <th>3</th>\n      <td>Apartamento</td>\n      <td>Centro</td>\n      <td>1</td>\n      <td>0</td>\n      <td>0</td>\n      <td>15</td>\n      <td>800</td>\n      <td>390.0</td>\n      <td>20.0</td>\n    </tr>\n    <tr>\n      <th>4</th>\n      <td>Apartamento</td>\n      <td>Higienópolis</td>\n      <td>1</td>\n      <td>0</td>\n      <td>0</td>\n      <td>48</td>\n      <td>800</td>\n      <td>230.0</td>\n      <td>NaN</td>\n    </tr>\n    <tr>\n      <th>5</th>\n      <td>Apartamento</td>\n      <td>Vista Alegre</td>\n      <td>3</td>\n      <td>1</td>\n      <td>0</td>\n      <td>70</td>\n      <td>1200</td>\n      <td>NaN</td>\n      <td>NaN</td>\n    </tr>\n    <tr>\n      <th>6</th>\n      <td>Apartamento</td>\n      <td>Cachambi</td>\n      <td>2</td>\n      <td>0</td>\n      <td>0</td>\n      <td>50</td>\n      <td>1300</td>\n      <td>301.0</td>\n      <td>17.0</td>\n    </tr>\n    <tr>\n      <th>7</th>\n      <td>Casa de Condomínio</td>\n      <td>Barra da Tijuca</td>\n      <td>5</td>\n      <td>4</td>\n      <td>5</td>\n      <td>750</td>\n      <td>22000</td>\n      <td>NaN</td>\n      <td>NaN</td>\n    </tr>\n    <tr>\n      <th>8</th>\n      <td>Casa de Condomínio</td>\n      <td>Ramos</td>\n      <td>2</td>\n      <td>2</td>\n      <td>0</td>\n      <td>65</td>\n      <td>1000</td>\n      <td>NaN</td>\n      <td>NaN</td>\n    </tr>\n    <tr>\n      <th>9</th>\n      <td>Conjunto Comercial/Sala</td>\n      <td>Centro</td>\n      <td>0</td>\n      <td>3</td>\n      <td>0</td>\n      <td>695</td>\n      <td>35000</td>\n      <td>19193.0</td>\n      <td>3030.0</td>\n    </tr>\n  </tbody>\n</table>\n</div>",
      "text/plain": "                      Tipo           Bairro  Quartos  Vagas  Suites  Area  \\\n0                Quitinete       Copacabana        1      0       0    40   \n1                     Casa  Jardim Botânico        2      0       1   100   \n2  Conjunto Comercial/Sala  Barra da Tijuca        0      4       0   150   \n3              Apartamento           Centro        1      0       0    15   \n4              Apartamento     Higienópolis        1      0       0    48   \n5              Apartamento     Vista Alegre        3      1       0    70   \n6              Apartamento         Cachambi        2      0       0    50   \n7       Casa de Condomínio  Barra da Tijuca        5      4       5   750   \n8       Casa de Condomínio            Ramos        2      2       0    65   \n9  Conjunto Comercial/Sala           Centro        0      3       0   695   \n\n   Valor  Condominio    IPTU  \n0   1700       500.0    60.0  \n1   7000         NaN     NaN  \n2   5200      4020.0  1111.0  \n3    800       390.0    20.0  \n4    800       230.0     NaN  \n5   1200         NaN     NaN  \n6   1300       301.0    17.0  \n7  22000         NaN     NaN  \n8   1000         NaN     NaN  \n9  35000     19193.0  3030.0  "
     },
     "execution_count": 30,
     "metadata": {},
     "output_type": "execute_result"
    }
   ],
   "source": [
    "df_xlsx = pd.read_excel(ful_path_xlsx)\n",
    "df_xlsx"
   ]
  },
  {
   "cell_type": "code",
   "execution_count": 32,
   "metadata": {},
   "outputs": [
    {
     "data": {
      "text/html": "<div>\n<style scoped>\n    .dataframe tbody tr th:only-of-type {\n        vertical-align: middle;\n    }\n\n    .dataframe tbody tr th {\n        vertical-align: top;\n    }\n\n    .dataframe thead th {\n        text-align: right;\n    }\n</style>\n<table border=\"1\" class=\"dataframe\">\n  <thead>\n    <tr style=\"text-align: right;\">\n      <th></th>\n      <th>FAIXA ETÁRIA</th>\n      <th>UNAFISCO SAÚDE SOFT II</th>\n      <th>SOFT PARTICIPATIVO</th>\n      <th>UNIQUE</th>\n    </tr>\n  </thead>\n  <tbody>\n    <tr>\n      <th>0</th>\n      <td>00 A 18</td>\n      <td>R$218,99</td>\n      <td>R$192,60</td>\n      <td>R$334,48</td>\n    </tr>\n    <tr>\n      <th>1</th>\n      <td>19 A 23</td>\n      <td>R$263,63</td>\n      <td>R$207,67</td>\n      <td>R$380,06</td>\n    </tr>\n    <tr>\n      <th>2</th>\n      <td>24 A 28</td>\n      <td>R$322,44</td>\n      <td>R$224,26</td>\n      <td>R$464,39</td>\n    </tr>\n    <tr>\n      <th>3</th>\n      <td>29 A 33</td>\n      <td>R$402,05</td>\n      <td>R$258,63</td>\n      <td>R$566,68</td>\n    </tr>\n    <tr>\n      <th>4</th>\n      <td>34 A 38</td>\n      <td>R$455,17</td>\n      <td>R$306,37</td>\n      <td>R$664,61</td>\n    </tr>\n    <tr>\n      <th>5</th>\n      <td>39 A 43</td>\n      <td>R$489,29</td>\n      <td>R$417,93</td>\n      <td>R$742,72</td>\n    </tr>\n    <tr>\n      <th>6</th>\n      <td>44 A 48</td>\n      <td>R$582,65</td>\n      <td>R$495,24</td>\n      <td>R$869,47</td>\n    </tr>\n    <tr>\n      <th>7</th>\n      <td>49 A 53</td>\n      <td>R$718,86</td>\n      <td>R$562,64</td>\n      <td>R$1.046,29</td>\n    </tr>\n    <tr>\n      <th>8</th>\n      <td>54 A 58</td>\n      <td>R$908,54</td>\n      <td>R$721,00</td>\n      <td>R$1.355,74</td>\n    </tr>\n    <tr>\n      <th>9</th>\n      <td>59 OU MAIS</td>\n      <td>R$1.244,50</td>\n      <td>R$1.151,62</td>\n      <td>R$2.003,53</td>\n    </tr>\n  </tbody>\n</table>\n</div>",
      "text/plain": "  FAIXA ETÁRIA UNAFISCO SAÚDE SOFT II SOFT PARTICIPATIVO      UNIQUE\n0      00 A 18               R$218,99           R$192,60    R$334,48\n1      19 A 23               R$263,63           R$207,67    R$380,06\n2      24 A 28               R$322,44           R$224,26    R$464,39\n3      29 A 33               R$402,05           R$258,63    R$566,68\n4      34 A 38               R$455,17           R$306,37    R$664,61\n5      39 A 43               R$489,29           R$417,93    R$742,72\n6      44 A 48               R$582,65           R$495,24    R$869,47\n7      49 A 53               R$718,86           R$562,64  R$1.046,29\n8      54 A 58               R$908,54           R$721,00  R$1.355,74\n9   59 OU MAIS             R$1.244,50         R$1.151,62  R$2.003,53"
     },
     "execution_count": 32,
     "metadata": {},
     "output_type": "execute_result"
    }
   ],
   "source": [
    "df_html = pd.read_html(ful_path_html)\n",
    "df_html[0]"
   ]
  },
  {
   "cell_type": "code",
   "execution_count": 33,
   "metadata": {},
   "outputs": [
    {
     "data": {
      "text/html": "<div>\n<style scoped>\n    .dataframe tbody tr th:only-of-type {\n        vertical-align: middle;\n    }\n\n    .dataframe tbody tr th {\n        vertical-align: top;\n    }\n\n    .dataframe thead th {\n        text-align: right;\n    }\n</style>\n<table border=\"1\" class=\"dataframe\">\n  <thead>\n    <tr style=\"text-align: right;\">\n      <th></th>\n      <th>FAIXA ETÁRIA</th>\n      <th>UNAFISCO SAÚDE SOFT II</th>\n      <th>SOFT PARTICIPATIVO</th>\n      <th>UNIQUE</th>\n    </tr>\n  </thead>\n  <tbody>\n    <tr>\n      <th>0</th>\n      <td>00 A 18</td>\n      <td>R$218,99</td>\n      <td>R$192,60</td>\n      <td>R$334,48</td>\n    </tr>\n    <tr>\n      <th>1</th>\n      <td>19 A 23</td>\n      <td>R$263,63</td>\n      <td>R$207,67</td>\n      <td>R$380,06</td>\n    </tr>\n    <tr>\n      <th>2</th>\n      <td>24 A 28</td>\n      <td>R$322,44</td>\n      <td>R$224,26</td>\n      <td>R$464,39</td>\n    </tr>\n    <tr>\n      <th>3</th>\n      <td>29 A 33</td>\n      <td>R$402,05</td>\n      <td>R$258,63</td>\n      <td>R$566,68</td>\n    </tr>\n    <tr>\n      <th>4</th>\n      <td>34 A 38</td>\n      <td>R$455,17</td>\n      <td>R$306,37</td>\n      <td>R$664,61</td>\n    </tr>\n    <tr>\n      <th>5</th>\n      <td>39 A 43</td>\n      <td>R$489,29</td>\n      <td>R$417,93</td>\n      <td>R$742,72</td>\n    </tr>\n    <tr>\n      <th>6</th>\n      <td>44 A 48</td>\n      <td>R$582,65</td>\n      <td>R$495,24</td>\n      <td>R$869,47</td>\n    </tr>\n    <tr>\n      <th>7</th>\n      <td>49 A 53</td>\n      <td>R$718,86</td>\n      <td>R$562,64</td>\n      <td>R$1.046,29</td>\n    </tr>\n    <tr>\n      <th>8</th>\n      <td>54 A 58</td>\n      <td>R$908,54</td>\n      <td>R$721,00</td>\n      <td>R$1.355,74</td>\n    </tr>\n    <tr>\n      <th>9</th>\n      <td>59 OU MAIS</td>\n      <td>R$1.244,50</td>\n      <td>R$1.151,62</td>\n      <td>R$2.003,53</td>\n    </tr>\n  </tbody>\n</table>\n</div>",
      "text/plain": "  FAIXA ETÁRIA UNAFISCO SAÚDE SOFT II SOFT PARTICIPATIVO      UNIQUE\n0      00 A 18               R$218,99           R$192,60    R$334,48\n1      19 A 23               R$263,63           R$207,67    R$380,06\n2      24 A 28               R$322,44           R$224,26    R$464,39\n3      29 A 33               R$402,05           R$258,63    R$566,68\n4      34 A 38               R$455,17           R$306,37    R$664,61\n5      39 A 43               R$489,29           R$417,93    R$742,72\n6      44 A 48               R$582,65           R$495,24    R$869,47\n7      49 A 53               R$718,86           R$562,64  R$1.046,29\n8      54 A 58               R$908,54           R$721,00  R$1.355,74\n9   59 OU MAIS             R$1.244,50         R$1.151,62  R$2.003,53"
     },
     "execution_count": 33,
     "metadata": {},
     "output_type": "execute_result"
    }
   ],
   "source": [
    "df_html = pd.read_html('https://unafiscosaude.org.br/site/tabelas-de-precos-dos-planos-ativos-para-comercializacao/')\n",
    "df_html[0]"
   ]
  },
  {
   "cell_type": "code",
   "execution_count": 34,
   "metadata": {},
   "outputs": [],
   "source": [
    "df_html = pd.read_html('https://www.federalreserve.gov/releases/h3/current/default.htm')"
   ]
  },
  {
   "cell_type": "code",
   "execution_count": 35,
   "metadata": {},
   "outputs": [
    {
     "data": {
      "text/plain": "3"
     },
     "execution_count": 35,
     "metadata": {},
     "output_type": "execute_result"
    }
   ],
   "source": [
    "len(df_html)"
   ]
  },
  {
   "cell_type": "code",
   "execution_count": 36,
   "metadata": {},
   "outputs": [
    {
     "data": {
      "text/html": "<div>\n<style scoped>\n    .dataframe tbody tr th:only-of-type {\n        vertical-align: middle;\n    }\n\n    .dataframe tbody tr th {\n        vertical-align: top;\n    }\n\n    .dataframe thead tr th {\n        text-align: left;\n    }\n</style>\n<table border=\"1\" class=\"dataframe\">\n  <thead>\n    <tr>\n      <th></th>\n      <th>Date</th>\n      <th>Reserve balances required</th>\n      <th>Reserve balances maintained 4</th>\n      <th>Unnamed: 3_level_0</th>\n      <th>Unnamed: 4_level_0</th>\n      <th>Unnamed: 5_level_0</th>\n      <th>Unnamed: 6_level_0</th>\n    </tr>\n    <tr>\n      <th></th>\n      <th>Reserve balance requirements 1</th>\n      <th>Top of penalty- free band 2</th>\n      <th>Bottom of penalty- free band 3</th>\n      <th>Total</th>\n      <th>Balances maintained to satisfy reserve balance requirements 5</th>\n      <th>Balances maintained that exceed the top of the penalty- free band 6</th>\n      <th>Unnamed: 6_level_1</th>\n    </tr>\n  </thead>\n  <tbody>\n    <tr>\n      <th>0</th>\n      <td>Month 7</td>\n      <td>NaN</td>\n      <td>NaN</td>\n      <td>NaN</td>\n      <td>NaN</td>\n      <td>NaN</td>\n      <td>NaN</td>\n    </tr>\n    <tr>\n      <th>1</th>\n      <td>Jan. 2019</td>\n      <td>131130.0</td>\n      <td>144255.0</td>\n      <td>118006.0</td>\n      <td>1639030.0</td>\n      <td>143615.0</td>\n      <td>1495414.0</td>\n    </tr>\n    <tr>\n      <th>2</th>\n      <td>Feb. 2019</td>\n      <td>125129.0</td>\n      <td>137655.0</td>\n      <td>112606.0</td>\n      <td>1645233.0</td>\n      <td>137128.0</td>\n      <td>1508105.0</td>\n    </tr>\n    <tr>\n      <th>3</th>\n      <td>Mar. 2019</td>\n      <td>128423.0</td>\n      <td>141279.0</td>\n      <td>115569.0</td>\n      <td>1661297.0</td>\n      <td>140926.0</td>\n      <td>1520371.0</td>\n    </tr>\n    <tr>\n      <th>4</th>\n      <td>Apr. 2019</td>\n      <td>130120.0</td>\n      <td>143144.0</td>\n      <td>117098.0</td>\n      <td>1559450.0</td>\n      <td>142641.0</td>\n      <td>1416809.0</td>\n    </tr>\n    <tr>\n      <th>5</th>\n      <td>May 2019</td>\n      <td>134717.0</td>\n      <td>148200.0</td>\n      <td>121237.0</td>\n      <td>1511285.0</td>\n      <td>147792.0</td>\n      <td>1363493.0</td>\n    </tr>\n    <tr>\n      <th>6</th>\n      <td>June 2019</td>\n      <td>134908.0</td>\n      <td>148409.0</td>\n      <td>121408.0</td>\n      <td>1535857.0</td>\n      <td>148025.0</td>\n      <td>1387832.0</td>\n    </tr>\n    <tr>\n      <th>7</th>\n      <td>July 2019</td>\n      <td>135103.0</td>\n      <td>148624.0</td>\n      <td>121584.0</td>\n      <td>1513550.0</td>\n      <td>148191.0</td>\n      <td>1365359.0</td>\n    </tr>\n    <tr>\n      <th>8</th>\n      <td>Aug. 2019</td>\n      <td>134639.0</td>\n      <td>148114.0</td>\n      <td>121167.0</td>\n      <td>1520876.0</td>\n      <td>147555.0</td>\n      <td>1373321.0</td>\n    </tr>\n    <tr>\n      <th>9</th>\n      <td>Sept. 2019</td>\n      <td>134707.0</td>\n      <td>148188.0</td>\n      <td>121227.0</td>\n      <td>1439771.0</td>\n      <td>147498.0</td>\n      <td>1292273.0</td>\n    </tr>\n    <tr>\n      <th>10</th>\n      <td>Oct. 2019</td>\n      <td>134998.0</td>\n      <td>148509.0</td>\n      <td>121489.0</td>\n      <td>1481513.0</td>\n      <td>148050.0</td>\n      <td>1333462.0</td>\n    </tr>\n    <tr>\n      <th>11</th>\n      <td>Nov. 2019</td>\n      <td>140705.0</td>\n      <td>154787.0</td>\n      <td>126625.0</td>\n      <td>1529341.0</td>\n      <td>154256.0</td>\n      <td>1375085.0</td>\n    </tr>\n    <tr>\n      <th>12</th>\n      <td>Dec. 2019</td>\n      <td>138984.0</td>\n      <td>152893.0</td>\n      <td>125076.0</td>\n      <td>1630090.0</td>\n      <td>152562.0</td>\n      <td>1477528.0</td>\n    </tr>\n    <tr>\n      <th>13</th>\n      <td>Jan. 2020</td>\n      <td>144816.0</td>\n      <td>159309.0</td>\n      <td>130326.0</td>\n      <td>1645384.0</td>\n      <td>158765.0</td>\n      <td>1486619.0</td>\n    </tr>\n    <tr>\n      <th>14</th>\n      <td>NaN</td>\n      <td>NaN</td>\n      <td>NaN</td>\n      <td>NaN</td>\n      <td>NaN</td>\n      <td>NaN</td>\n      <td>NaN</td>\n    </tr>\n    <tr>\n      <th>15</th>\n      <td>Two weeks ending 8</td>\n      <td>NaN</td>\n      <td>NaN</td>\n      <td>NaN</td>\n      <td>NaN</td>\n      <td>NaN</td>\n      <td>NaN</td>\n    </tr>\n    <tr>\n      <th>16</th>\n      <td>Jan. 1, 2020</td>\n      <td>146015.0</td>\n      <td>160627.0</td>\n      <td>131404.0</td>\n      <td>1633887.0</td>\n      <td>160418.0</td>\n      <td>1473469.0</td>\n    </tr>\n    <tr>\n      <th>17</th>\n      <td>Jan. 15, 2020</td>\n      <td>135017.0</td>\n      <td>148531.0</td>\n      <td>121506.0</td>\n      <td>1670444.0</td>\n      <td>148025.0</td>\n      <td>1522419.0</td>\n    </tr>\n    <tr>\n      <th>18</th>\n      <td>Jan. 29, 2020</td>\n      <td>156503.0</td>\n      <td>172164.0</td>\n      <td>140844.0</td>\n      <td>1619016.0</td>\n      <td>171564.0</td>\n      <td>1447452.0</td>\n    </tr>\n    <tr>\n      <th>19</th>\n      <td>Feb. 12, 2020</td>\n      <td>131006.0</td>\n      <td>144118.0</td>\n      <td>117897.0</td>\n      <td>1660291.0</td>\n      <td>143526.0</td>\n      <td>1516765.0</td>\n    </tr>\n    <tr>\n      <th>20</th>\n      <td>Feb. 26, 2020</td>\n      <td>143140.0</td>\n      <td>157465.0</td>\n      <td>128817.0</td>\n      <td>1640294.0</td>\n      <td>156831.0</td>\n      <td>1483463.0</td>\n    </tr>\n  </tbody>\n</table>\n</div>",
      "text/plain": "                             Date   Reserve balances required  \\\n   Reserve balance requirements 1 Top of penalty- free band 2   \n0                         Month 7                         NaN   \n1                       Jan. 2019                    131130.0   \n2                       Feb. 2019                    125129.0   \n3                       Mar. 2019                    128423.0   \n4                       Apr. 2019                    130120.0   \n5                        May 2019                    134717.0   \n6                       June 2019                    134908.0   \n7                       July 2019                    135103.0   \n8                       Aug. 2019                    134639.0   \n9                      Sept. 2019                    134707.0   \n10                      Oct. 2019                    134998.0   \n11                      Nov. 2019                    140705.0   \n12                      Dec. 2019                    138984.0   \n13                      Jan. 2020                    144816.0   \n14                            NaN                         NaN   \n15             Two weeks ending 8                         NaN   \n16                   Jan. 1, 2020                    146015.0   \n17                  Jan. 15, 2020                    135017.0   \n18                  Jan. 29, 2020                    156503.0   \n19                  Feb. 12, 2020                    131006.0   \n20                  Feb. 26, 2020                    143140.0   \n\n    Reserve balances maintained 4 Unnamed: 3_level_0  \\\n   Bottom of penalty- free band 3              Total   \n0                             NaN                NaN   \n1                        144255.0           118006.0   \n2                        137655.0           112606.0   \n3                        141279.0           115569.0   \n4                        143144.0           117098.0   \n5                        148200.0           121237.0   \n6                        148409.0           121408.0   \n7                        148624.0           121584.0   \n8                        148114.0           121167.0   \n9                        148188.0           121227.0   \n10                       148509.0           121489.0   \n11                       154787.0           126625.0   \n12                       152893.0           125076.0   \n13                       159309.0           130326.0   \n14                            NaN                NaN   \n15                            NaN                NaN   \n16                       160627.0           131404.0   \n17                       148531.0           121506.0   \n18                       172164.0           140844.0   \n19                       144118.0           117897.0   \n20                       157465.0           128817.0   \n\n                                              Unnamed: 4_level_0  \\\n   Balances maintained to satisfy reserve balance requirements 5   \n0                                                 NaN              \n1                                           1639030.0              \n2                                           1645233.0              \n3                                           1661297.0              \n4                                           1559450.0              \n5                                           1511285.0              \n6                                           1535857.0              \n7                                           1513550.0              \n8                                           1520876.0              \n9                                           1439771.0              \n10                                          1481513.0              \n11                                          1529341.0              \n12                                          1630090.0              \n13                                          1645384.0              \n14                                                NaN              \n15                                                NaN              \n16                                          1633887.0              \n17                                          1670444.0              \n18                                          1619016.0              \n19                                          1660291.0              \n20                                          1640294.0              \n\n                                                    Unnamed: 5_level_0  \\\n   Balances maintained that exceed the top of the penalty- free band 6   \n0                                                 NaN                    \n1                                            143615.0                    \n2                                            137128.0                    \n3                                            140926.0                    \n4                                            142641.0                    \n5                                            147792.0                    \n6                                            148025.0                    \n7                                            148191.0                    \n8                                            147555.0                    \n9                                            147498.0                    \n10                                           148050.0                    \n11                                           154256.0                    \n12                                           152562.0                    \n13                                           158765.0                    \n14                                                NaN                    \n15                                                NaN                    \n16                                           160418.0                    \n17                                           148025.0                    \n18                                           171564.0                    \n19                                           143526.0                    \n20                                           156831.0                    \n\n   Unnamed: 6_level_0  \n   Unnamed: 6_level_1  \n0                 NaN  \n1           1495414.0  \n2           1508105.0  \n3           1520371.0  \n4           1416809.0  \n5           1363493.0  \n6           1387832.0  \n7           1365359.0  \n8           1373321.0  \n9           1292273.0  \n10          1333462.0  \n11          1375085.0  \n12          1477528.0  \n13          1486619.0  \n14                NaN  \n15                NaN  \n16          1473469.0  \n17          1522419.0  \n18          1447452.0  \n19          1516765.0  \n20          1483463.0  "
     },
     "execution_count": 36,
     "metadata": {},
     "output_type": "execute_result"
    }
   ],
   "source": [
    "df_html[0]"
   ]
  },
  {
   "cell_type": "code",
   "execution_count": 13,
   "metadata": {},
   "outputs": [
    {
     "data": {
      "text/html": [
       "<div>\n",
       "<style scoped>\n",
       "    .dataframe tbody tr th:only-of-type {\n",
       "        vertical-align: middle;\n",
       "    }\n",
       "\n",
       "    .dataframe tbody tr th {\n",
       "        vertical-align: top;\n",
       "    }\n",
       "\n",
       "    .dataframe thead tr th {\n",
       "        text-align: left;\n",
       "    }\n",
       "</style>\n",
       "<table border=\"1\" class=\"dataframe\">\n",
       "  <thead>\n",
       "    <tr>\n",
       "      <th></th>\n",
       "      <th>Date</th>\n",
       "      <th>Reserves</th>\n",
       "      <th>Vault cash  2</th>\n",
       "      <th>Monetary base</th>\n",
       "      <th>Unnamed: 4_level_0</th>\n",
       "      <th>Unnamed: 5_level_0</th>\n",
       "      <th>Unnamed: 6_level_0</th>\n",
       "      <th>Unnamed: 7_level_0</th>\n",
       "      <th>Unnamed: 8_level_0</th>\n",
       "    </tr>\n",
       "    <tr>\n",
       "      <th></th>\n",
       "      <th>Total  1</th>\n",
       "      <th>Required</th>\n",
       "      <th>Total</th>\n",
       "      <th>Used to satisfy  \\n\\n required  \\n\\n reserves  3</th>\n",
       "      <th>Surplus  4</th>\n",
       "      <th>Total  5</th>\n",
       "      <th>Total balances  \\n\\nmaintained  6</th>\n",
       "      <th>Currency in  \\n\\ncirculation</th>\n",
       "      <th>Unnamed: 8_level_1</th>\n",
       "    </tr>\n",
       "  </thead>\n",
       "  <tbody>\n",
       "    <tr>\n",
       "      <th>0</th>\n",
       "      <td>Month 7</td>\n",
       "      <td>NaN</td>\n",
       "      <td>NaN</td>\n",
       "      <td>NaN</td>\n",
       "      <td>NaN</td>\n",
       "      <td>NaN</td>\n",
       "      <td>NaN</td>\n",
       "      <td>NaN</td>\n",
       "      <td>NaN</td>\n",
       "    </tr>\n",
       "    <tr>\n",
       "      <th>1</th>\n",
       "      <td>Apr. 2017</td>\n",
       "      <td>2344812.0</td>\n",
       "      <td>176616.0</td>\n",
       "      <td>74055.0</td>\n",
       "      <td>63392.0</td>\n",
       "      <td>10663.0</td>\n",
       "      <td>3821697.0</td>\n",
       "      <td>2281420.0</td>\n",
       "      <td>1540277.0</td>\n",
       "    </tr>\n",
       "    <tr>\n",
       "      <th>2</th>\n",
       "      <td>May 2017</td>\n",
       "      <td>2288936.0</td>\n",
       "      <td>178630.0</td>\n",
       "      <td>72954.0</td>\n",
       "      <td>63167.0</td>\n",
       "      <td>9787.0</td>\n",
       "      <td>3774412.0</td>\n",
       "      <td>2225769.0</td>\n",
       "      <td>1548643.0</td>\n",
       "    </tr>\n",
       "    <tr>\n",
       "      <th>3</th>\n",
       "      <td>June 2017</td>\n",
       "      <td>2269683.0</td>\n",
       "      <td>181324.0</td>\n",
       "      <td>72881.0</td>\n",
       "      <td>63137.0</td>\n",
       "      <td>9745.0</td>\n",
       "      <td>3762780.0</td>\n",
       "      <td>2206547.0</td>\n",
       "      <td>1556234.0</td>\n",
       "    </tr>\n",
       "    <tr>\n",
       "      <th>4</th>\n",
       "      <td>July 2017</td>\n",
       "      <td>2296929.0</td>\n",
       "      <td>184242.0</td>\n",
       "      <td>73572.0</td>\n",
       "      <td>63606.0</td>\n",
       "      <td>9966.0</td>\n",
       "      <td>3795430.0</td>\n",
       "      <td>2233323.0</td>\n",
       "      <td>1562107.0</td>\n",
       "    </tr>\n",
       "    <tr>\n",
       "      <th>5</th>\n",
       "      <td>Aug. 2017</td>\n",
       "      <td>2407173.0</td>\n",
       "      <td>183249.0</td>\n",
       "      <td>74401.0</td>\n",
       "      <td>63158.0</td>\n",
       "      <td>11243.0</td>\n",
       "      <td>3910022.0</td>\n",
       "      <td>2344015.0</td>\n",
       "      <td>1566007.0</td>\n",
       "    </tr>\n",
       "    <tr>\n",
       "      <th>6</th>\n",
       "      <td>Sept. 2017</td>\n",
       "      <td>2357875.0</td>\n",
       "      <td>184248.0</td>\n",
       "      <td>73042.0</td>\n",
       "      <td>62140.0</td>\n",
       "      <td>10902.0</td>\n",
       "      <td>3874490.0</td>\n",
       "      <td>2295735.0</td>\n",
       "      <td>1578756.0</td>\n",
       "    </tr>\n",
       "    <tr>\n",
       "      <th>7</th>\n",
       "      <td>Oct. 2017</td>\n",
       "      <td>2310902.0</td>\n",
       "      <td>182074.0</td>\n",
       "      <td>76481.0</td>\n",
       "      <td>65200.0</td>\n",
       "      <td>11281.0</td>\n",
       "      <td>3829910.0</td>\n",
       "      <td>2245701.0</td>\n",
       "      <td>1584208.0</td>\n",
       "    </tr>\n",
       "    <tr>\n",
       "      <th>8</th>\n",
       "      <td>Nov. 2017</td>\n",
       "      <td>2378282.0</td>\n",
       "      <td>186968.0</td>\n",
       "      <td>74574.0</td>\n",
       "      <td>63827.0</td>\n",
       "      <td>10747.0</td>\n",
       "      <td>3907735.0</td>\n",
       "      <td>2314455.0</td>\n",
       "      <td>1593280.0</td>\n",
       "    </tr>\n",
       "    <tr>\n",
       "      <th>9</th>\n",
       "      <td>Dec. 2017</td>\n",
       "      <td>2309823.0</td>\n",
       "      <td>189269.0</td>\n",
       "      <td>76633.0</td>\n",
       "      <td>65549.0</td>\n",
       "      <td>11085.0</td>\n",
       "      <td>3850969.0</td>\n",
       "      <td>2244274.0</td>\n",
       "      <td>1606695.0</td>\n",
       "    </tr>\n",
       "    <tr>\n",
       "      <th>10</th>\n",
       "      <td>Jan. 2018</td>\n",
       "      <td>2281018.0</td>\n",
       "      <td>193209.0</td>\n",
       "      <td>77218.0</td>\n",
       "      <td>66417.0</td>\n",
       "      <td>10801.0</td>\n",
       "      <td>3824795.0</td>\n",
       "      <td>2214601.0</td>\n",
       "      <td>1610195.0</td>\n",
       "    </tr>\n",
       "    <tr>\n",
       "      <th>11</th>\n",
       "      <td>Feb. 2018</td>\n",
       "      <td>2305256.0</td>\n",
       "      <td>190487.0</td>\n",
       "      <td>78800.0</td>\n",
       "      <td>66481.0</td>\n",
       "      <td>12319.0</td>\n",
       "      <td>3855091.0</td>\n",
       "      <td>2238775.0</td>\n",
       "      <td>1616316.0</td>\n",
       "    </tr>\n",
       "    <tr>\n",
       "      <th>12</th>\n",
       "      <td>Mar. 2018</td>\n",
       "      <td>2230875.0</td>\n",
       "      <td>184151.0</td>\n",
       "      <td>75286.0</td>\n",
       "      <td>63866.0</td>\n",
       "      <td>11420.0</td>\n",
       "      <td>3800660.0</td>\n",
       "      <td>2167009.0</td>\n",
       "      <td>1633651.0</td>\n",
       "    </tr>\n",
       "    <tr>\n",
       "      <th>13</th>\n",
       "      <td>Apr. 2018</td>\n",
       "      <td>2151047.0</td>\n",
       "      <td>191270.0</td>\n",
       "      <td>75657.0</td>\n",
       "      <td>64855.0</td>\n",
       "      <td>10801.0</td>\n",
       "      <td>3727183.0</td>\n",
       "      <td>2086192.0</td>\n",
       "      <td>1640991.0</td>\n",
       "    </tr>\n",
       "    <tr>\n",
       "      <th>14</th>\n",
       "      <td>NaN</td>\n",
       "      <td>NaN</td>\n",
       "      <td>NaN</td>\n",
       "      <td>NaN</td>\n",
       "      <td>NaN</td>\n",
       "      <td>NaN</td>\n",
       "      <td>NaN</td>\n",
       "      <td>NaN</td>\n",
       "      <td>NaN</td>\n",
       "    </tr>\n",
       "    <tr>\n",
       "      <th>15</th>\n",
       "      <td>Two weeks ending 8</td>\n",
       "      <td>NaN</td>\n",
       "      <td>NaN</td>\n",
       "      <td>NaN</td>\n",
       "      <td>NaN</td>\n",
       "      <td>NaN</td>\n",
       "      <td>NaN</td>\n",
       "      <td>NaN</td>\n",
       "      <td>NaN</td>\n",
       "    </tr>\n",
       "    <tr>\n",
       "      <th>16</th>\n",
       "      <td>Mar. 14, 2018</td>\n",
       "      <td>2290434.0</td>\n",
       "      <td>180526.0</td>\n",
       "      <td>73805.0</td>\n",
       "      <td>62011.0</td>\n",
       "      <td>11794.0</td>\n",
       "      <td>3859851.0</td>\n",
       "      <td>2228423.0</td>\n",
       "      <td>1631428.0</td>\n",
       "    </tr>\n",
       "    <tr>\n",
       "      <th>17</th>\n",
       "      <td>Mar. 28, 2018</td>\n",
       "      <td>2184214.0</td>\n",
       "      <td>187557.0</td>\n",
       "      <td>76641.0</td>\n",
       "      <td>65760.0</td>\n",
       "      <td>10881.0</td>\n",
       "      <td>3753207.0</td>\n",
       "      <td>2118454.0</td>\n",
       "      <td>1634753.0</td>\n",
       "    </tr>\n",
       "    <tr>\n",
       "      <th>18</th>\n",
       "      <td>Apr. 11, 2018</td>\n",
       "      <td>2170690.0</td>\n",
       "      <td>185173.0</td>\n",
       "      <td>75879.0</td>\n",
       "      <td>63685.0</td>\n",
       "      <td>12194.0</td>\n",
       "      <td>3745889.0</td>\n",
       "      <td>2107005.0</td>\n",
       "      <td>1638884.0</td>\n",
       "    </tr>\n",
       "    <tr>\n",
       "      <th>19</th>\n",
       "      <td>Apr. 25, 2018</td>\n",
       "      <td>2162634.0</td>\n",
       "      <td>194180.0</td>\n",
       "      <td>75843.0</td>\n",
       "      <td>65644.0</td>\n",
       "      <td>10199.0</td>\n",
       "      <td>3738127.0</td>\n",
       "      <td>2096990.0</td>\n",
       "      <td>1641137.0</td>\n",
       "    </tr>\n",
       "    <tr>\n",
       "      <th>20</th>\n",
       "      <td>May 9, 2018</td>\n",
       "      <td>2075389.0</td>\n",
       "      <td>196538.0</td>\n",
       "      <td>74646.0</td>\n",
       "      <td>65222.0</td>\n",
       "      <td>9424.0</td>\n",
       "      <td>3655386.0</td>\n",
       "      <td>2010167.0</td>\n",
       "      <td>1645219.0</td>\n",
       "    </tr>\n",
       "  </tbody>\n",
       "</table>\n",
       "</div>"
      ],
      "text/plain": [
       "                  Date   Reserves Vault cash  2  \\\n",
       "              Total  1   Required         Total   \n",
       "0              Month 7        NaN           NaN   \n",
       "1            Apr. 2017  2344812.0      176616.0   \n",
       "2             May 2017  2288936.0      178630.0   \n",
       "3            June 2017  2269683.0      181324.0   \n",
       "4            July 2017  2296929.0      184242.0   \n",
       "5            Aug. 2017  2407173.0      183249.0   \n",
       "6           Sept. 2017  2357875.0      184248.0   \n",
       "7            Oct. 2017  2310902.0      182074.0   \n",
       "8            Nov. 2017  2378282.0      186968.0   \n",
       "9            Dec. 2017  2309823.0      189269.0   \n",
       "10           Jan. 2018  2281018.0      193209.0   \n",
       "11           Feb. 2018  2305256.0      190487.0   \n",
       "12           Mar. 2018  2230875.0      184151.0   \n",
       "13           Apr. 2018  2151047.0      191270.0   \n",
       "14                 NaN        NaN           NaN   \n",
       "15  Two weeks ending 8        NaN           NaN   \n",
       "16       Mar. 14, 2018  2290434.0      180526.0   \n",
       "17       Mar. 28, 2018  2184214.0      187557.0   \n",
       "18       Apr. 11, 2018  2170690.0      185173.0   \n",
       "19       Apr. 25, 2018  2162634.0      194180.0   \n",
       "20         May 9, 2018  2075389.0      196538.0   \n",
       "\n",
       "                                      Monetary base Unnamed: 4_level_0  \\\n",
       "   Used to satisfy  \\n\\n required  \\n\\n reserves  3         Surplus  4   \n",
       "0                                               NaN                NaN   \n",
       "1                                           74055.0            63392.0   \n",
       "2                                           72954.0            63167.0   \n",
       "3                                           72881.0            63137.0   \n",
       "4                                           73572.0            63606.0   \n",
       "5                                           74401.0            63158.0   \n",
       "6                                           73042.0            62140.0   \n",
       "7                                           76481.0            65200.0   \n",
       "8                                           74574.0            63827.0   \n",
       "9                                           76633.0            65549.0   \n",
       "10                                          77218.0            66417.0   \n",
       "11                                          78800.0            66481.0   \n",
       "12                                          75286.0            63866.0   \n",
       "13                                          75657.0            64855.0   \n",
       "14                                              NaN                NaN   \n",
       "15                                              NaN                NaN   \n",
       "16                                          73805.0            62011.0   \n",
       "17                                          76641.0            65760.0   \n",
       "18                                          75879.0            63685.0   \n",
       "19                                          75843.0            65644.0   \n",
       "20                                          74646.0            65222.0   \n",
       "\n",
       "   Unnamed: 5_level_0                Unnamed: 6_level_0  \\\n",
       "             Total  5 Total balances  \\n\\nmaintained  6   \n",
       "0                 NaN                               NaN   \n",
       "1             10663.0                         3821697.0   \n",
       "2              9787.0                         3774412.0   \n",
       "3              9745.0                         3762780.0   \n",
       "4              9966.0                         3795430.0   \n",
       "5             11243.0                         3910022.0   \n",
       "6             10902.0                         3874490.0   \n",
       "7             11281.0                         3829910.0   \n",
       "8             10747.0                         3907735.0   \n",
       "9             11085.0                         3850969.0   \n",
       "10            10801.0                         3824795.0   \n",
       "11            12319.0                         3855091.0   \n",
       "12            11420.0                         3800660.0   \n",
       "13            10801.0                         3727183.0   \n",
       "14                NaN                               NaN   \n",
       "15                NaN                               NaN   \n",
       "16            11794.0                         3859851.0   \n",
       "17            10881.0                         3753207.0   \n",
       "18            12194.0                         3745889.0   \n",
       "19            10199.0                         3738127.0   \n",
       "20             9424.0                         3655386.0   \n",
       "\n",
       "             Unnamed: 7_level_0 Unnamed: 8_level_0  \n",
       "   Currency in  \\n\\ncirculation Unnamed: 8_level_1  \n",
       "0                           NaN                NaN  \n",
       "1                     2281420.0          1540277.0  \n",
       "2                     2225769.0          1548643.0  \n",
       "3                     2206547.0          1556234.0  \n",
       "4                     2233323.0          1562107.0  \n",
       "5                     2344015.0          1566007.0  \n",
       "6                     2295735.0          1578756.0  \n",
       "7                     2245701.0          1584208.0  \n",
       "8                     2314455.0          1593280.0  \n",
       "9                     2244274.0          1606695.0  \n",
       "10                    2214601.0          1610195.0  \n",
       "11                    2238775.0          1616316.0  \n",
       "12                    2167009.0          1633651.0  \n",
       "13                    2086192.0          1640991.0  \n",
       "14                          NaN                NaN  \n",
       "15                          NaN                NaN  \n",
       "16                    2228423.0          1631428.0  \n",
       "17                    2118454.0          1634753.0  \n",
       "18                    2107005.0          1638884.0  \n",
       "19                    2096990.0          1641137.0  \n",
       "20                    2010167.0          1645219.0  "
      ]
     },
     "execution_count": 13,
     "metadata": {},
     "output_type": "execute_result"
    }
   ],
   "source": [
    "df_html[1]"
   ]
  },
  {
   "cell_type": "code",
   "execution_count": 37,
   "metadata": {},
   "outputs": [
    {
     "data": {
      "text/html": "<div>\n<style scoped>\n    .dataframe tbody tr th:only-of-type {\n        vertical-align: middle;\n    }\n\n    .dataframe tbody tr th {\n        vertical-align: top;\n    }\n\n    .dataframe thead tr th {\n        text-align: left;\n    }\n</style>\n<table border=\"1\" class=\"dataframe\">\n  <thead>\n    <tr>\n      <th></th>\n      <th>Date</th>\n      <th>Borrowings from the Federal Reserve</th>\n      <th>Nonborrowed reserves 1</th>\n      <th>Unnamed: 3_level_0</th>\n      <th>Unnamed: 4_level_0</th>\n      <th>Unnamed: 5_level_0</th>\n      <th>Unnamed: 6_level_0</th>\n    </tr>\n    <tr>\n      <th></th>\n      <th>Total</th>\n      <th>Primary</th>\n      <th>Secondary</th>\n      <th>Seasonal</th>\n      <th>Other credit extensions</th>\n      <th>Unnamed: 5_level_1</th>\n      <th>Unnamed: 6_level_1</th>\n    </tr>\n  </thead>\n  <tbody>\n    <tr>\n      <th>0</th>\n      <td>Month 2</td>\n      <td>NaN</td>\n      <td>NaN</td>\n      <td>NaN</td>\n      <td>NaN</td>\n      <td>NaN</td>\n      <td>NaN</td>\n    </tr>\n    <tr>\n      <th>1</th>\n      <td>Jan. 2019</td>\n      <td>26.0</td>\n      <td>20.0</td>\n      <td>0.0</td>\n      <td>6.0</td>\n      <td>0.0</td>\n      <td>1707230.0</td>\n    </tr>\n    <tr>\n      <th>2</th>\n      <td>Feb. 2019</td>\n      <td>19.0</td>\n      <td>7.0</td>\n      <td>0.0</td>\n      <td>12.0</td>\n      <td>0.0</td>\n      <td>1713664.0</td>\n    </tr>\n    <tr>\n      <th>3</th>\n      <td>Mar. 2019</td>\n      <td>15.0</td>\n      <td>7.0</td>\n      <td>0.0</td>\n      <td>8.0</td>\n      <td>0.0</td>\n      <td>1725923.0</td>\n    </tr>\n    <tr>\n      <th>4</th>\n      <td>Apr. 2019</td>\n      <td>30.0</td>\n      <td>14.0</td>\n      <td>0.0</td>\n      <td>15.0</td>\n      <td>0.0</td>\n      <td>1623875.0</td>\n    </tr>\n    <tr>\n      <th>5</th>\n      <td>May 2019</td>\n      <td>56.0</td>\n      <td>18.0</td>\n      <td>0.0</td>\n      <td>38.0</td>\n      <td>0.0</td>\n      <td>1576254.0</td>\n    </tr>\n    <tr>\n      <th>6</th>\n      <td>June 2019</td>\n      <td>80.0</td>\n      <td>20.0</td>\n      <td>0.0</td>\n      <td>60.0</td>\n      <td>0.0</td>\n      <td>1601229.0</td>\n    </tr>\n    <tr>\n      <th>7</th>\n      <td>July 2019</td>\n      <td>120.0</td>\n      <td>9.0</td>\n      <td>0.0</td>\n      <td>111.0</td>\n      <td>0.0</td>\n      <td>1578495.0</td>\n    </tr>\n    <tr>\n      <th>8</th>\n      <td>Aug. 2019</td>\n      <td>117.0</td>\n      <td>16.0</td>\n      <td>0.0</td>\n      <td>101.0</td>\n      <td>0.0</td>\n      <td>1586727.0</td>\n    </tr>\n    <tr>\n      <th>9</th>\n      <td>Sept. 2019</td>\n      <td>101.0</td>\n      <td>15.0</td>\n      <td>0.0</td>\n      <td>86.0</td>\n      <td>0.0</td>\n      <td>1504704.0</td>\n    </tr>\n    <tr>\n      <th>10</th>\n      <td>Oct. 2019</td>\n      <td>63.0</td>\n      <td>4.0</td>\n      <td>0.0</td>\n      <td>59.0</td>\n      <td>0.0</td>\n      <td>1547073.0</td>\n    </tr>\n    <tr>\n      <th>11</th>\n      <td>Nov. 2019</td>\n      <td>26.0</td>\n      <td>4.0</td>\n      <td>0.0</td>\n      <td>22.0</td>\n      <td>0.0</td>\n      <td>1595196.0</td>\n    </tr>\n    <tr>\n      <th>12</th>\n      <td>Dec. 2019</td>\n      <td>21.0</td>\n      <td>10.0</td>\n      <td>0.0</td>\n      <td>11.0</td>\n      <td>0.0</td>\n      <td>1698323.0</td>\n    </tr>\n    <tr>\n      <th>13</th>\n      <td>Jan. 2020</td>\n      <td>6.0</td>\n      <td>5.0</td>\n      <td>0.0</td>\n      <td>1.0</td>\n      <td>0.0</td>\n      <td>1715213.0</td>\n    </tr>\n    <tr>\n      <th>14</th>\n      <td>NaN</td>\n      <td>NaN</td>\n      <td>NaN</td>\n      <td>NaN</td>\n      <td>NaN</td>\n      <td>NaN</td>\n      <td>NaN</td>\n    </tr>\n    <tr>\n      <th>15</th>\n      <td>Two weeks ending 3</td>\n      <td>NaN</td>\n      <td>NaN</td>\n      <td>NaN</td>\n      <td>NaN</td>\n      <td>NaN</td>\n      <td>NaN</td>\n    </tr>\n    <tr>\n      <th>16</th>\n      <td>Jan. 1, 2020</td>\n      <td>20.0</td>\n      <td>9.0</td>\n      <td>0.0</td>\n      <td>11.0</td>\n      <td>0.0</td>\n      <td>1704375.0</td>\n    </tr>\n    <tr>\n      <th>17</th>\n      <td>Jan. 15, 2020</td>\n      <td>5.0</td>\n      <td>4.0</td>\n      <td>0.0</td>\n      <td>2.0</td>\n      <td>0.0</td>\n      <td>1738000.0</td>\n    </tr>\n    <tr>\n      <th>18</th>\n      <td>Jan. 29, 2020</td>\n      <td>6.0</td>\n      <td>6.0</td>\n      <td>0.0</td>\n      <td>0.0</td>\n      <td>0.0</td>\n      <td>1690753.0</td>\n    </tr>\n    <tr>\n      <th>19</th>\n      <td>Feb. 12, 2020</td>\n      <td>3.0</td>\n      <td>3.0</td>\n      <td>0.0</td>\n      <td>0.0</td>\n      <td>0.0</td>\n      <td>1732352.0</td>\n    </tr>\n    <tr>\n      <th>20</th>\n      <td>Feb. 26, 2020</td>\n      <td>2.0</td>\n      <td>2.0</td>\n      <td>0.0</td>\n      <td>0.0</td>\n      <td>0.0</td>\n      <td>1709134.0</td>\n    </tr>\n  </tbody>\n</table>\n</div>",
      "text/plain": "                  Date Borrowings from the Federal Reserve  \\\n                 Total                             Primary   \n0              Month 2                                 NaN   \n1            Jan. 2019                                26.0   \n2            Feb. 2019                                19.0   \n3            Mar. 2019                                15.0   \n4            Apr. 2019                                30.0   \n5             May 2019                                56.0   \n6            June 2019                                80.0   \n7            July 2019                               120.0   \n8            Aug. 2019                               117.0   \n9           Sept. 2019                               101.0   \n10           Oct. 2019                                63.0   \n11           Nov. 2019                                26.0   \n12           Dec. 2019                                21.0   \n13           Jan. 2020                                 6.0   \n14                 NaN                                 NaN   \n15  Two weeks ending 3                                 NaN   \n16        Jan. 1, 2020                                20.0   \n17       Jan. 15, 2020                                 5.0   \n18       Jan. 29, 2020                                 6.0   \n19       Feb. 12, 2020                                 3.0   \n20       Feb. 26, 2020                                 2.0   \n\n   Nonborrowed reserves 1 Unnamed: 3_level_0      Unnamed: 4_level_0  \\\n                Secondary           Seasonal Other credit extensions   \n0                     NaN                NaN                     NaN   \n1                    20.0                0.0                     6.0   \n2                     7.0                0.0                    12.0   \n3                     7.0                0.0                     8.0   \n4                    14.0                0.0                    15.0   \n5                    18.0                0.0                    38.0   \n6                    20.0                0.0                    60.0   \n7                     9.0                0.0                   111.0   \n8                    16.0                0.0                   101.0   \n9                    15.0                0.0                    86.0   \n10                    4.0                0.0                    59.0   \n11                    4.0                0.0                    22.0   \n12                   10.0                0.0                    11.0   \n13                    5.0                0.0                     1.0   \n14                    NaN                NaN                     NaN   \n15                    NaN                NaN                     NaN   \n16                    9.0                0.0                    11.0   \n17                    4.0                0.0                     2.0   \n18                    6.0                0.0                     0.0   \n19                    3.0                0.0                     0.0   \n20                    2.0                0.0                     0.0   \n\n   Unnamed: 5_level_0 Unnamed: 6_level_0  \n   Unnamed: 5_level_1 Unnamed: 6_level_1  \n0                 NaN                NaN  \n1                 0.0          1707230.0  \n2                 0.0          1713664.0  \n3                 0.0          1725923.0  \n4                 0.0          1623875.0  \n5                 0.0          1576254.0  \n6                 0.0          1601229.0  \n7                 0.0          1578495.0  \n8                 0.0          1586727.0  \n9                 0.0          1504704.0  \n10                0.0          1547073.0  \n11                0.0          1595196.0  \n12                0.0          1698323.0  \n13                0.0          1715213.0  \n14                NaN                NaN  \n15                NaN                NaN  \n16                0.0          1704375.0  \n17                0.0          1738000.0  \n18                0.0          1690753.0  \n19                0.0          1732352.0  \n20                0.0          1709134.0  "
     },
     "execution_count": 37,
     "metadata": {},
     "output_type": "execute_result"
    }
   ],
   "source": [
    "df_html[2]"
   ]
  },
  {
   "cell_type": "code",
   "execution_count": null,
   "metadata": {},
   "outputs": [],
   "source": []
  }
 ],
 "metadata": {
  "kernelspec": {
   "display_name": "Python 3",
   "language": "python",
   "name": "python3"
  },
  "language_info": {
   "codemirror_mode": {
    "name": "ipython",
    "version": 3
   },
   "file_extension": ".py",
   "mimetype": "text/x-python",
   "name": "python",
   "nbconvert_exporter": "python",
   "pygments_lexer": "ipython3",
   "version": "3.7.0-final"
  }
 },
 "nbformat": 4,
 "nbformat_minor": 2
}