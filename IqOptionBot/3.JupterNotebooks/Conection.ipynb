{
 "metadata": {
  "language_info": {
   "codemirror_mode": {
    "name": "ipython",
    "version": 3
   },
   "file_extension": ".py",
   "mimetype": "text/x-python",
   "name": "python",
   "nbconvert_exporter": "python",
   "pygments_lexer": "ipython3",
   "version": "3.8.5-final"
  },
  "orig_nbformat": 2,
  "kernelspec": {
   "name": "python3",
   "display_name": "Python 3.8.5 64-bit (conda)",
   "metadata": {
    "interpreter": {
     "hash": "4f5fd65116d98c778731dcaf9e4b589b7136819a97f5eed575b66b67955b7fbe"
    }
   }
  }
 },
 "nbformat": 4,
 "nbformat_minor": 2,
 "cells": [
  {
   "source": [
    "Conect  in Api "
   ],
   "cell_type": "markdown",
   "metadata": {}
  },
  {
   "cell_type": "code",
   "execution_count": null,
   "metadata": {},
   "outputs": [],
   "source": [
    "https://medium.com/@joaogabriellima/778-75-em-um-dia-investindo-no-mercado-financeiro-com-uma-deep-neural-network-2b5a917e31d4\n",
    "https://towardsdatascience.com/detection-of-price-support-and-resistance-levels-in-python-baedc44c34c9\n",
    "https://www.youtube.com/watch?v=p4MV8KKP70g&list=PLVFOwQ7soOcplVJlXmZhmbphnj_0lwShL&index=10"
   ]
  },
  {
   "cell_type": "code",
   "execution_count": 2,
   "metadata": {},
   "outputs": [],
   "source": [
    "from iqoptionapi.stable_api import  IQ_Option\n",
    "import time\n",
    "import pandas as pd\n",
    "import json\n",
    "from datetime import datetime\n",
    "from dateutil import tz\n",
    "import schedule as tarefa"
   ]
  },
  {
   "source": [
    "variaveis"
   ],
   "cell_type": "markdown",
   "metadata": {}
  },
  {
   "cell_type": "code",
   "execution_count": 3,
   "metadata": {},
   "outputs": [],
   "source": [
    "\n",
    "user ='wesley.si.neves@hotmail.com';\n",
    "password  ='96086512'\n"
   ]
  },
  {
   "cell_type": "code",
   "execution_count": 4,
   "metadata": {},
   "outputs": [],
   "source": [
    "def get_Api(user,password):\n",
    "    API = IQ_Option(user,password)\n",
    "    return API\n"
   ]
  },
  {
   "cell_type": "code",
   "execution_count": 5,
   "metadata": {},
   "outputs": [],
   "source": [
    "API = get_Api(user,password)"
   ]
  },
  {
   "cell_type": "code",
   "execution_count": 6,
   "metadata": {},
   "outputs": [
    {
     "output_type": "stream",
     "name": "stdout",
     "text": [
      "Api conectada com sucesso\n"
     ]
    },
    {
     "output_type": "execute_result",
     "data": {
      "text/plain": [
       "(True, None)"
      ]
     },
     "metadata": {},
     "execution_count": 6
    }
   ],
   "source": [
    "while True:\n",
    "    if(API.check_connect() ==False):\n",
    "        print(\"Tentando conectar\")\n",
    "        API.reconnect()\n",
    "    \n",
    "    else:\n",
    "        print(\"Api conectada com sucesso\")\n",
    "        break;\n",
    "    \n",
    "    time.sleep(1)\n",
    "        \n",
    "API.connect()  "
   ]
  },
  {
   "cell_type": "code",
   "execution_count": 8,
   "metadata": {},
   "outputs": [],
   "source": [
    "def get_perfil():\n",
    "    perfil = json.loads(json.dumps(API.get_profile_ansyc()))\n",
    "    \n",
    "    return perfil\n",
    "\n",
    "\n",
    "   "
   ]
  },
  {
   "cell_type": "code",
   "execution_count": 9,
   "metadata": {},
   "outputs": [],
   "source": [
    "data =  get_perfil()"
   ]
  },
  {
   "cell_type": "code",
   "execution_count": 10,
   "metadata": {},
   "outputs": [],
   "source": [
    "def time_convert(x):\n",
    "    hora =datetime.strptime(datetime.utcfromtimestamp(x).strftime('%Y-%m-%d %H:%M:%S'),'%Y-%m-%d %H:%M:%S')\n",
    "    hora = hora.replace(tzinfo = tz.gettz('GMT'))\n",
    "\n",
    "    return str(hora.astimezone(tz.gettz('America/Sao Paulo')))\n",
    "\n",
    "def get_balance():\n",
    "    return API.get_balance()\n",
    "\n",
    "\n"
   ]
  },
  {
   "cell_type": "code",
   "execution_count": 10,
   "metadata": {},
   "outputs": [
    {
     "output_type": "execute_result",
     "data": {
      "text/plain": [
       "'1987-01-07 01:00:00-03:00'"
      ]
     },
     "metadata": {},
     "execution_count": 10
    }
   ],
   "source": [
    "time_convert(data[\"birthdate\"])"
   ]
  },
  {
   "cell_type": "code",
   "execution_count": 11,
   "metadata": {},
   "outputs": [
    {
     "output_type": "execute_result",
     "data": {
      "text/plain": [
       "20278.97"
      ]
     },
     "metadata": {},
     "execution_count": 11
    }
   ],
   "source": [
    "get_balance()\n"
   ]
  },
  {
   "cell_type": "code",
   "execution_count": 12,
   "metadata": {},
   "outputs": [
    {
     "output_type": "execute_result",
     "data": {
      "text/plain": [
       "'2021-03-21 15:28:56-03:00'"
      ]
     },
     "metadata": {},
     "execution_count": 12
    }
   ],
   "source": [
    "time_convert(time.time())"
   ]
  },
  {
   "cell_type": "code",
   "execution_count": 13,
   "metadata": {},
   "outputs": [],
   "source": [
    "par = \"EURUSD\"\n",
    "quantidades_velas =1  # Valor Maximo de 1000 velas\n",
    "tempoEmMinutos =1\n",
    "\n",
    "\n",
    "velas = API.get_candles(par,(tempoEmMinutos *60) ,quantidades_velas,time.time())"
   ]
  },
  {
   "cell_type": "code",
   "execution_count": 16,
   "metadata": {},
   "outputs": [
    {
     "output_type": "execute_result",
     "data": {
      "text/plain": [
       "'2021-03-19 17:59:00-03:00'"
      ]
     },
     "metadata": {},
     "execution_count": 16
    }
   ],
   "source": [
    "time_convert(velas[0][\"from\"])"
   ]
  },
  {
   "cell_type": "code",
   "execution_count": 14,
   "metadata": {},
   "outputs": [
    {
     "output_type": "stream",
     "name": "stdout",
     "text": [
      "2021-03-19 17:59:00-03:00  Abertura  1.19045  Fechamento  1.19039\n"
     ]
    }
   ],
   "source": [
    "for vela in velas:\n",
    "    print(time_convert(vela[\"from\"]),' Abertura ',vela[\"open\"],' Fechamento ',vela[\"close\"])\n",
    "    \n"
   ]
  },
  {
   "cell_type": "code",
   "execution_count": null,
   "metadata": {},
   "outputs": [],
   "source": [
    "quantidades_velas =1"
   ]
  },
  {
   "cell_type": "code",
   "execution_count": 20,
   "metadata": {},
   "outputs": [
    {
     "output_type": "stream",
     "name": "stdout",
     "text": [
      "1.19045\n",
      "1.19045\n",
      "1.19045\n",
      "1.19045\n",
      "1.19045\n",
      "1.19045\n",
      "1.19045\n",
      "1.19045\n",
      "1.19045\n",
      "1.19045\n",
      "1.19045\n",
      "1.19045\n",
      "1.19045\n",
      "1.19045\n",
      "1.19045\n",
      "1.19045\n",
      "1.19045\n",
      "1.19045\n",
      "1.19045\n",
      "1.19045\n",
      "1.19045\n",
      "1.19045\n",
      "1.19045\n",
      "1.19045\n",
      "1.19045\n",
      "1.19045\n",
      "1.19045\n",
      "1.19045\n",
      "1.19045\n",
      "1.19045\n",
      "1.19045\n",
      "1.19045\n",
      "1.19045\n",
      "1.19045\n",
      "1.19045\n",
      "1.19045\n",
      "1.19045\n",
      "1.19045\n",
      "1.19045\n",
      "1.19045\n",
      "1.19045\n",
      "1.19045\n",
      "1.19045\n",
      "1.19045\n",
      "1.19045\n",
      "1.19045\n",
      "1.19045\n",
      "1.19045\n",
      "1.19045\n",
      "1.19045\n",
      "1.19045\n",
      "1.19045\n",
      "1.19045\n",
      "1.19045\n",
      "1.19045\n",
      "1.19045\n",
      "1.19045\n",
      "1.19045\n",
      "1.19045\n",
      "1.19045\n",
      "1.19045\n",
      "1.19045\n",
      "1.19045\n",
      "1.19045\n",
      "1.19045\n",
      "1.19045\n",
      "1.19045\n",
      "1.19045\n",
      "1.19045\n",
      "1.19045\n",
      "1.19045\n",
      "1.19045\n",
      "1.19045\n",
      "1.19045\n",
      "1.19045\n",
      "1.19045\n",
      "1.19045\n",
      "1.19045\n",
      "1.19045\n",
      "1.19045\n",
      "1.19045\n",
      "1.19045\n",
      "1.19045\n",
      "1.19045\n",
      "1.19045\n",
      "1.19045\n",
      "1.19045\n",
      "1.19045\n",
      "1.19045\n",
      "1.19045\n",
      "1.19045\n",
      "1.19045\n",
      "1.19045\n",
      "1.19045\n",
      "1.19045\n",
      "1.19045\n",
      "1.19045\n",
      "1.19045\n",
      "1.19045\n",
      "1.19045\n",
      "1.19045\n",
      "1.19045\n",
      "1.19045\n",
      "1.19045\n",
      "1.19045\n",
      "1.19045\n",
      "1.19045\n",
      "1.19045\n",
      "1.19045\n",
      "1.19045\n",
      "1.19045\n",
      "1.19045\n",
      "1.19045\n",
      "1.19045\n",
      "1.19045\n",
      "1.19045\n",
      "1.19045\n",
      "1.19045\n",
      "1.19045\n",
      "1.19045\n",
      "1.19045\n",
      "1.19045\n",
      "1.19045\n",
      "1.19045\n",
      "1.19045\n",
      "1.19045\n",
      "1.19045\n",
      "1.19045\n",
      "1.19045\n",
      "1.19045\n",
      "1.19045\n",
      "1.19045\n",
      "1.19045\n",
      "1.19045\n",
      "1.19045\n",
      "1.19045\n",
      "1.19045\n",
      "1.19045\n",
      "1.19045\n",
      "1.19045\n",
      "1.19045\n",
      "1.19045\n",
      "1.19045\n",
      "1.19045\n",
      "1.19045\n",
      "1.19045\n",
      "1.19045\n",
      "1.19045\n",
      "1.19045\n",
      "1.19045\n",
      "1.19045\n",
      "1.19045\n",
      "1.19045\n",
      "1.19045\n",
      "1.19045\n",
      "1.19045\n",
      "1.19045\n",
      "1.19045\n"
     ]
    },
    {
     "output_type": "error",
     "ename": "KeyboardInterrupt",
     "evalue": "",
     "traceback": [
      "\u001b[1;31m---------------------------------------------------------------------------\u001b[0m",
      "\u001b[1;31mKeyboardInterrupt\u001b[0m                         Traceback (most recent call last)",
      "\u001b[1;32m<ipython-input-20-53d181c73921>\u001b[0m in \u001b[0;36m<module>\u001b[1;34m\u001b[0m\n\u001b[0;32m      7\u001b[0m     \u001b[1;32mfor\u001b[0m \u001b[0mvelas\u001b[0m \u001b[1;32min\u001b[0m  \u001b[0mvela\u001b[0m\u001b[1;33m:\u001b[0m\u001b[1;33m\u001b[0m\u001b[1;33m\u001b[0m\u001b[0m\n\u001b[0;32m      8\u001b[0m         \u001b[0mprint\u001b[0m\u001b[1;33m(\u001b[0m\u001b[0mvela\u001b[0m\u001b[1;33m[\u001b[0m\u001b[0mvelas\u001b[0m\u001b[1;33m]\u001b[0m\u001b[1;33m[\u001b[0m\u001b[1;34m\"open\"\u001b[0m\u001b[1;33m]\u001b[0m\u001b[1;33m)\u001b[0m\u001b[1;33m\u001b[0m\u001b[1;33m\u001b[0m\u001b[0m\n\u001b[1;32m----> 9\u001b[1;33m     \u001b[0mtime\u001b[0m\u001b[1;33m.\u001b[0m\u001b[0msleep\u001b[0m\u001b[1;33m(\u001b[0m\u001b[1;36m1\u001b[0m\u001b[1;33m)\u001b[0m\u001b[1;33m\u001b[0m\u001b[1;33m\u001b[0m\u001b[0m\n\u001b[0m\u001b[0;32m     10\u001b[0m \u001b[1;33m\u001b[0m\u001b[0m\n\u001b[0;32m     11\u001b[0m \u001b[0mAPI\u001b[0m\u001b[1;33m.\u001b[0m\u001b[0mstop_candles_stream\u001b[0m\u001b[1;33m(\u001b[0m\u001b[0mpar\u001b[0m\u001b[1;33m,\u001b[0m\u001b[1;33m(\u001b[0m\u001b[0mtempoEmMinutos\u001b[0m \u001b[1;33m*\u001b[0m\u001b[1;36m60\u001b[0m\u001b[1;33m)\u001b[0m\u001b[1;33m)\u001b[0m\u001b[1;33m\u001b[0m\u001b[1;33m\u001b[0m\u001b[0m\n",
      "\u001b[1;31mKeyboardInterrupt\u001b[0m: "
     ]
    }
   ],
   "source": [
    "API.start_candles_stream(par,(tempoEmMinutos *60),quantidades_velas)\n",
    "time.sleep(1)\n",
    "\n",
    "vela = API.get_realtime_candles(par,(tempoEmMinutos *60))\n",
    "\n",
    "while True:\n",
    "    for velas in  vela:\n",
    "        print(vela[velas][\"open\"])\n",
    "    time.sleep(1)\n",
    "    \n",
    "API.stop_candles_stream(par,(tempoEmMinutos *60))     \n",
    "\n"
   ]
  },
  {
   "cell_type": "code",
   "execution_count": 25,
   "metadata": {},
   "outputs": [
    {
     "output_type": "stream",
     "name": "stdout",
     "text": [
      "33\n",
      "33\n",
      "33\n",
      "33\n",
      "34\n"
     ]
    },
    {
     "output_type": "error",
     "ename": "KeyboardInterrupt",
     "evalue": "",
     "traceback": [
      "\u001b[1;31m---------------------------------------------------------------------------\u001b[0m",
      "\u001b[1;31mKeyboardInterrupt\u001b[0m                         Traceback (most recent call last)",
      "\u001b[1;32m<ipython-input-25-852f5b73992e>\u001b[0m in \u001b[0;36m<module>\u001b[1;34m\u001b[0m\n\u001b[0;32m      5\u001b[0m    \u001b[0mresult\u001b[0m \u001b[1;33m=\u001b[0m \u001b[0mAPI\u001b[0m\u001b[1;33m.\u001b[0m\u001b[0mget_traders_mood\u001b[0m\u001b[1;33m(\u001b[0m\u001b[0mpar\u001b[0m\u001b[1;33m)\u001b[0m\u001b[1;33m\u001b[0m\u001b[1;33m\u001b[0m\u001b[0m\n\u001b[0;32m      6\u001b[0m    \u001b[0mprint\u001b[0m\u001b[1;33m(\u001b[0m\u001b[0mint\u001b[0m\u001b[1;33m(\u001b[0m\u001b[1;36m100\u001b[0m \u001b[1;33m*\u001b[0m \u001b[0mround\u001b[0m\u001b[1;33m(\u001b[0m\u001b[0mresult\u001b[0m\u001b[1;33m,\u001b[0m\u001b[1;36m2\u001b[0m\u001b[1;33m)\u001b[0m\u001b[1;33m)\u001b[0m\u001b[1;33m)\u001b[0m\u001b[1;33m\u001b[0m\u001b[1;33m\u001b[0m\u001b[0m\n\u001b[1;32m----> 7\u001b[1;33m    \u001b[0mtime\u001b[0m\u001b[1;33m.\u001b[0m\u001b[0msleep\u001b[0m\u001b[1;33m(\u001b[0m\u001b[1;36m1\u001b[0m\u001b[1;33m)\u001b[0m\u001b[1;33m\u001b[0m\u001b[1;33m\u001b[0m\u001b[0m\n\u001b[0m\u001b[0;32m      8\u001b[0m \u001b[1;33m\u001b[0m\u001b[0m\n\u001b[0;32m      9\u001b[0m \u001b[0mAPI\u001b[0m\u001b[1;33m.\u001b[0m\u001b[0mstop_mood_stream\u001b[0m\u001b[1;33m(\u001b[0m\u001b[0mpar\u001b[0m\u001b[1;33m)\u001b[0m\u001b[1;33m\u001b[0m\u001b[1;33m\u001b[0m\u001b[0m\n",
      "\u001b[1;31mKeyboardInterrupt\u001b[0m: "
     ]
    }
   ],
   "source": [
    " par ='USDCHF-OTC'\n",
    " API.start_mood_stream(par)\n",
    "\n",
    "while(True):\n",
    "    result = API.get_traders_mood(par)\n",
    "    print(int(100 * round(result,2)))\n",
    "    time.sleep(1)\n",
    "\n",
    "API.stop_mood_stream(par)"
   ]
  },
  {
   "cell_type": "code",
   "execution_count": 15,
   "metadata": {},
   "outputs": [
    {
     "output_type": "stream",
     "name": "stdout",
     "text": [
      "EURUSD-OTC\nGBPUSD-OTC\nEURGBP-OTC\nNZDUSD-OTC\nAUDCAD-OTC\nUSDCHF-OTC\nEURJPY-OTC\n"
     ]
    }
   ],
   "source": [
    "moedas = API.get_all_open_time()\n",
    "tipo ='turbo' # turbo/binary\n",
    "\n",
    "for paridade in moedas['turbo']:\n",
    "    if( moedas['turbo'][paridade]['open'] ==True):\n",
    "        print(paridade)\n",
    "    \n",
    "\n",
    "\n",
    "   \n",
    "\n"
   ]
  },
  {
   "cell_type": "code",
   "execution_count": 14,
   "metadata": {},
   "outputs": [
    {
     "output_type": "execute_result",
     "data": {
      "text/plain": [
       "['EURJPY-OTC',\n",
       " 'EURUSD-OTC',\n",
       " 'GBPUSD-OTC',\n",
       " 'EURGBP-OTC',\n",
       " 'NZDUSD-OTC',\n",
       " 'AUDCAD-OTC',\n",
       " 'USDCHF-OTC']"
      ]
     },
     "metadata": {},
     "execution_count": 14
    }
   ],
   "source": [
    "def get_moedas_abertas(tipo ='turbo'):\n",
    "        moedas = API.get_all_open_time()\n",
    "        # lista = []\n",
    "        # dicionario = {}\n",
    "        # tupla = ()\n",
    "        # turbo/binary\n",
    "        retorno = []\n",
    "\n",
    "        for paridade in moedas['turbo']:\n",
    "            if( moedas['turbo'][paridade]['open'] ==True):\n",
    "                retorno.append(paridade)\n",
    "        \n",
    "        return retorno\n",
    "\n",
    "\n",
    "get_moedas_abertas('bynary')"
   ]
  },
  {
   "cell_type": "code",
   "execution_count": 15,
   "metadata": {},
   "outputs": [
    {
     "output_type": "stream",
     "name": "stdout",
     "text": [
      "EURJPY-OTC ('turbo', 85.0)\n",
      "EURUSD-OTC ('turbo', 85.0)\n",
      "GBPUSD-OTC ('turbo', 85.0)\n",
      "EURGBP-OTC ('turbo', 85.0)\n",
      "NZDUSD-OTC ('turbo', 85.0)\n",
      "AUDCAD-OTC ('turbo', 85.0)\n",
      "USDCHF-OTC ('turbo', 85.0)\n",
      "EURJPY-OTC ('bynary', 98)\n",
      "EURUSD-OTC ('bynary', 98)\n",
      "GBPUSD-OTC ('bynary', 98)\n",
      "EURGBP-OTC ('bynary', 98)\n",
      "AUDCAD-OTC ('bynary', 98)\n",
      "NZDUSD-OTC ('bynary', 98)\n",
      "USDCHF-OTC ('bynary', 98)\n"
     ]
    }
   ],
   "source": [
    "def get_payout(par,tipo,tempovela =1):\n",
    "\n",
    "    if(tipo  =='turbo'):\n",
    "        result = API.get_all_profit()\n",
    "        return ('turbo',(100 * result[par][tipo]))\n",
    "    elif(tipo =='bynary'):\n",
    "        API.subscribe_strike_list(par,tempovela)\n",
    "        while True:\n",
    "            d = API.get_digital_current_profit(par,tempovela)\n",
    "            if(d != False):\n",
    "                d = int(d)\n",
    "                break;\n",
    "            time.sleep(1)\n",
    "        API.unsubscribe_strike_list(par,tempovela)\n",
    "        return ('bynary',(d))\n",
    "\n",
    "\n",
    "\n",
    "result = ()\n",
    "\n",
    "for par in get_moedas_abertas('turbo'):\n",
    "     payout=  get_payout(par,'turbo')\n",
    "     print(par,str(payout))\n",
    "\n",
    "\n",
    "for par in get_moedas_abertas('bynary'):\n",
    "     payout=  get_payout(par,'bynary')\n",
    "     print(par,str(payout))\n",
    "        \n",
    "\n",
    "\n",
    "\n",
    "# get_payout('EURGBP-OTC','turbo')"
   ]
  },
  {
   "cell_type": "code",
   "execution_count": 16,
   "metadata": {},
   "outputs": [
    {
     "output_type": "execute_result",
     "data": {
      "text/plain": [
       "('bynary', 98)"
      ]
     },
     "metadata": {},
     "execution_count": 16
    }
   ],
   "source": [
    "get_payout('EURJPY-OTC','bynary')"
   ]
  },
  {
   "cell_type": "code",
   "execution_count": null,
   "metadata": {},
   "outputs": [],
   "source": []
  },
  {
   "cell_type": "code",
   "execution_count": 19,
   "metadata": {},
   "outputs": [
    {
     "output_type": "stream",
     "name": "stdout",
     "text": [
      "Hora: 2021-03-20 20:22:00-03:00 PAR: GBPUSD-OTC Investimento: 200 Direção: call Resultado: Loss Lucro: -200\nHora: 2021-03-20 20:22:00-03:00 PAR: GBPUSD-OTC Investimento: 200 Direção: call Resultado: Loss Lucro: -200\nHora: 2021-03-20 20:09:00-03:00 PAR: GBPJPY-OTC Investimento: 400 Direção: put Resultado: Win Lucro: 304.21\nHora: 2021-03-20 20:07:00-03:00 PAR: GBPUSD-OTC Investimento: 200 Direção: call Resultado: Win Lucro: 152.12\nHora: 2021-03-20 20:05:00-03:00 PAR: EURUSD-OTC Investimento: 400 Direção: call Resultado: Win Lucro: 304.24\nHora: 2021-03-20 19:58:00-03:00 PAR: GBPUSD-OTC Investimento: 400 Direção: put Resultado: Loss Lucro: -400\nHora: 2021-03-20 19:57:00-03:00 PAR: USDCHF-OTC Investimento: 400 Direção: call Resultado: Win Lucro: 365.13\nHora: 2021-03-20 19:57:00-03:00 PAR: USDCHF-OTC Investimento: 400 Direção: call Resultado: Win Lucro: 365.13\nHora: 2021-03-20 19:53:00-03:00 PAR: GBPJPY-OTC Investimento: 200 Direção: call Resultado: Loss Lucro: -200\nHora: 2021-03-20 19:50:00-03:00 PAR: EURUSD-OTC Investimento: 200 Direção: put Resultado: Win Lucro: 182.55\n"
     ]
    }
   ],
   "source": [
    "tipo ='digital-option'  # 'digital-option' / 'turbo-option'\n",
    "status,historico  =API.get_position_history_v2(tipo,10,0,0,0)\n",
    "#/\n",
    "# \n",
    "# \n",
    "# **/\n",
    "\n",
    "\n",
    "if(tipo =='digital-option'):\n",
    "    for item in historico['positions']:\n",
    "        print('Hora:',time_convert(item['close_time'] /1000), 'PAR:',str(item['raw_event']['instrument_underlying']) ,\n",
    "            'Investimento:',str(item['invest']),\n",
    "            'Direção:',str(item['raw_event']['instrument_dir']),\n",
    "            'Resultado:', 'Loss' if  item['close_profit'] == 0 else 'Win' ,\n",
    "            'Lucro:',round (item['close_profit'] - item['invest'],2)  if item['close_profit'] != 0 else item['invest'] * -1)\n",
    "else:\n",
    "    for item in historico['positions']:\n",
    "        print('Hora:',time_convert(item['close_time'] /1000), 'PAR:',str(item['raw_event']['currency']) ,\n",
    "            'Investimento:',str(item['invest']),\n",
    "            'Direção:',str(item['raw_event']['direction']),\n",
    "            'Resultado:',  item['raw_event']['result'],\n",
    "            'Lucro:',round (item['close_profit'] - item['invest'],2)  if item['close_profit'] != 0 else item['invest'] * -1)\n",
    "\n",
    "    "
   ]
  },
  {
   "source": [
    "Comprar na digital"
   ],
   "cell_type": "markdown",
   "metadata": {}
  },
  {
   "cell_type": "code",
   "execution_count": null,
   "metadata": {},
   "outputs": [],
   "source": [
    "par ='EURUSD-OTC'\n",
    "entrada =2\n",
    "direcao ='call'\n",
    "tempoOperacao =1 # (1,5,15)\n",
    "\n",
    "id = API.buy_digital_spot(entrada,par,direcao,tempoOperacao)\n",
    "\n",
    "if isinstance(id,int):\n",
    "    while True:\n",
    "        status,lucro =API.check_win_digital_v2(id)\n",
    "        if(status):\n",
    "            if(lucro < 0):\n",
    "                print('resultado: Win', 'Ganho:',str(round(lucro,2)))\n",
    "            else:\n",
    "                print('resultado: Loss', 'Perca:',str(round(entrada,2))) \n",
    "            break\n",
    "\n",
    "        "
   ]
  },
  {
   "cell_type": "code",
   "execution_count": 14,
   "metadata": {},
   "outputs": [
    {
     "output_type": "execute_result",
     "data": {
      "text/plain": [
       "Empty DataFrame\n",
       "Columns: [acao, mensagem]\n",
       "Index: []"
      ],
      "text/html": "<div>\n<style scoped>\n    .dataframe tbody tr th:only-of-type {\n        vertical-align: middle;\n    }\n\n    .dataframe tbody tr th {\n        vertical-align: top;\n    }\n\n    .dataframe thead th {\n        text-align: right;\n    }\n</style>\n<table border=\"1\" class=\"dataframe\">\n  <thead>\n    <tr style=\"text-align: right;\">\n      <th></th>\n      <th>acao</th>\n      <th>mensagem</th>\n    </tr>\n  </thead>\n  <tbody>\n  </tbody>\n</table>\n</div>"
     },
     "metadata": {},
     "execution_count": 14
    }
   ],
   "source": [
    "\n",
    "\n",
    "log = pd.DataFrame(columns=['acao','mensagem']);\n",
    "\n",
    "log\n"
   ]
  },
  {
   "cell_type": "code",
   "execution_count": 11,
   "metadata": {},
   "outputs": [],
   "source": [
    "def Call(par,entrada,tempoOperacao =1,is_digital = 0):\n",
    "    # par ='EURUSD-OTC'\n",
    "    tentativasMaxima =3\n",
    "    tentativa =1\n",
    "\n",
    "    status = -1\n",
    "    id = 0\n",
    "    direcao ='call'\n",
    "\n",
    "    while(tentativa <= tentativasMaxima):\n",
    "        \n",
    "        if(is_digital ==0):\n",
    "            status,id = API.buy(entrada,par,direcao,tempoOperacao)\n",
    "        else:\n",
    "            status,id = API.buy_digital_spot(entrada,par,direcao,tempoOperacao)\n",
    "        \n",
    "        print(status)\n",
    "        result  =API.check_win_v3(id)\n",
    "        if(result > 0):\n",
    "            print('resultado:Win', 'Valor:',str(round(result,2)))\n",
    "            break\n",
    "        else:\n",
    "            print('resultado:Loss', 'Valor:',str(round((result * -1),2)))\n",
    "            tentativa +=1\n",
    "            entrada  += entrada\n",
    "\n",
    "\n",
    "def Call_StopLoss(par,entrada,tempoOperacao =1,is_digital = 0):\n",
    "    # par ='EURUSD-OTC'\n",
    "    tentativasMaxima =3\n",
    "    tentativa =1\n",
    "\n",
    "    status = -1\n",
    "    id = 0\n",
    "    direcao ='call'\n",
    "    isWin = False\n",
    "\n",
    "    while(tentativa <= tentativasMaxima):\n",
    "        \n",
    "        if(isWin):\n",
    "            entrada =2\n",
    "\n",
    "        if(is_digital ==0):\n",
    "            status,id = API.buy(entrada,par,direcao,tempoOperacao)\n",
    "        else:\n",
    "            status,id = API.buy_digital_spot(entrada,par,direcao,tempoOperacao)\n",
    "        \n",
    "        print(status)\n",
    "        result  =API.check_win_v3(id)\n",
    "        if(result > 0):\n",
    "            isWin = True\n",
    "            print('resultado:Win', 'Valor:',str(round(result,2)))\n",
    "        else:\n",
    "            print('resultado:Loss', 'Valor:',str(round((result * -1),2)))\n",
    "            tentativa +=1\n",
    "            entrada  += entrada\n",
    "            isWin = False\n",
    "\n",
    "\n",
    "def Put(par,entrada,tempoOperacao =1,is_digital = 0):\n",
    "    # par ='EURUSD-OTC'\n",
    "    tentativasMaxima =3\n",
    "    tentativa =1\n",
    "\n",
    "    status = -1\n",
    "    id = 0\n",
    "    direcao ='put'\n",
    "\n",
    "    while(tentativa <= tentativasMaxima):\n",
    "        \n",
    "        if(is_digital ==0):\n",
    "            status,id = API.buy(entrada,par,direcao,tempoOperacao)\n",
    "        else:\n",
    "            status,id = API.buy_digital_spot(entrada,par,direcao,tempoOperacao)\n",
    "        \n",
    "        print(status)\n",
    "        result  =API.check_win_v3(id)\n",
    "        if(result > 0):\n",
    "            print('resultado:Win', 'Valor:',str(round(result,2)))\n",
    "            break\n",
    "        else:\n",
    "            print('resultado:Loss', 'Valor:',str(round((result * -1),2)))\n",
    "            tentativa +=1\n",
    "            entrada  += entrada\n",
    "            \n",
    "        "
   ]
  },
  {
   "cell_type": "code",
   "execution_count": 12,
   "metadata": {},
   "outputs": [],
   "source": [
    "def coding():\n",
    "    print('execution at:', time_convert(time.time()))\n",
    "\n"
   ]
  },
  {
   "cell_type": "code",
   "execution_count": null,
   "metadata": {},
   "outputs": [
    {
     "output_type": "error",
     "ename": "Error",
     "evalue": "Pip module Unable to parse debugpy output, please log an issue with https://github.com/microsoft/vscode-jupyter is required for debugging cells. You will need to install it to debug cells.",
     "traceback": [
      "Error: Pip module Unable to parse debugpy output, please log an issue with https://github.com/microsoft/vscode-jupyter is required for debugging cells. You will need to install it to debug cells.",
      "at b.parseConnectInfo (c:\\Users\\wesley.neves\\.vscode\\extensions\\ms-toolsai.jupyter-2021.3.619093157\\out\\client\\extension.js:49:476602)",
      "at b.connectToLocal (c:\\Users\\wesley.neves\\.vscode\\extensions\\ms-toolsai.jupyter-2021.3.619093157\\out\\client\\extension.js:49:477129)",
      "at runMicrotasks (<anonymous>)",
      "at processTicksAndRejections (internal/process/task_queues.js:97:5)",
      "at async b.connect (c:\\Users\\wesley.neves\\.vscode\\extensions\\ms-toolsai.jupyter-2021.3.619093157\\out\\client\\extension.js:49:475006)",
      "at async b.startDebugSession (c:\\Users\\wesley.neves\\.vscode\\extensions\\ms-toolsai.jupyter-2021.3.619093157\\out\\client\\extension.js:49:474153)",
      "at async T.submitCode (c:\\Users\\wesley.neves\\.vscode\\extensions\\ms-toolsai.jupyter-2021.3.619093157\\out\\client\\extension.js:32:610139)",
      "at async T.handleRunByLine (c:\\Users\\wesley.neves\\.vscode\\extensions\\ms-toolsai.jupyter-2021.3.619093157\\out\\client\\extension.js:32:598085)"
     ]
    }
   ],
   "source": [
    "\n",
    "while True:\n",
    "    tarefa.run_pending()\n",
    "    time.sleep(1)"
   ]
  },
  {
   "cell_type": "code",
   "execution_count": 50,
   "metadata": {},
   "outputs": [],
   "source": [
    "tarefa.clear()"
   ]
  },
  {
   "cell_type": "code",
   "execution_count": 13,
   "metadata": {
    "tags": []
   },
   "outputs": [],
   "source": [
    "tarefa.every(10).seconds.do(coding)\n",
    "tarefa.every().day.at('10:40:57').do(Put,par ='EURUSD-OTC',entrada=2,tempoOperacao=1,is_digital=0);#10:40:57-PUT  #M1-\n",
    "tarefa.every().day.at('10:43:57').do(Put,par ='EURUSD-OTC',entrada=2,tempoOperacao=1,is_digital=0);#10:43:57-PUT   #M1-\n",
    "tarefa.every().day.at('10:45:57').do(Put,par ='EURUSD-OTC',entrada=2,tempoOperacao=1,is_digital=0);#10:45:57-PUT   #M1-\n",
    "tarefa.every().day.at('11:33:57').do(Put,par ='USDCHF-OTC',entrada=2,tempoOperacao=1,is_digital=0);#11:33:57-PUT   #M1-\n",
    "tarefa.every().day.at('11:35:57').do(Put,par ='EURGBP-OTC',entrada=2,tempoOperacao=1,is_digital=0);#11:35:57-PUT   #M1-\n",
    "tarefa.every().day.at('15:20:57').do(Put,par ='USDJPY-OTC',entrada=2,tempoOperacao=1,is_digital=0);#15:20:57-PUT   #M1-\n",
    "tarefa.every().day.at('16:03:57').do(Put,par ='EURGBP-OTC',entrada=2,tempoOperacao=1,is_digital=0);#16:03:57-PUT   #M1-\n",
    "\n",
    "tarefa.every().day.at('16:11:56').do(Put,par ='GBPUSD-OTC',entrada=2,tempoOperacao=1,is_digital=0);#16:03:57-PUT   #M1-\n",
    "tarefa.every().day.at('16:11:57').do(Put,par ='AUDCAD-OTC',entrada=2,tempoOperacao=1,is_digital=0);#16:25:57-PUT   #M1-\n",
    "\n",
    "tarefa.every().day.at('16:03:57').do(Put,par ='GBPUSD-OTC',entrada=2,tempoOperacao=1,is_digital=0);#16:03:57-PUT   #M1-\n",
    "tarefa.every().day.at('16:25:57').do(Put,par ='AUDCAD-OTC',entrada=2,tempoOperacao=1,is_digital=0);#16:25:57-PUT   #M1-\n",
    "tarefa.every().day.at('16:53:57').do(Put,par ='USDCHF-OTC',entrada=2,tempoOperacao=1,is_digital=0);#16:53:57-PUT   #M1-\n",
    "tarefa.every().day.at('18:03:57').do(Put,par ='EURGBP-OTC',entrada=2,tempoOperacao=1,is_digital=0);#18:03:57-PUT   #M1-\n",
    "tarefa.every().day.at('18:13:57').do(Put,par ='GBPUSD-OTC',entrada=2,tempoOperacao=1,is_digital=0);#18:13:57-PUT   #M1-\n",
    "tarefa.every().day.at('18:20:57').do(Put,par ='EURUSD-OTC',entrada=2,tempoOperacao=1,is_digital=0);#18:20:57-PUT   #M1-\n",
    "tarefa.every().day.at('19:18:57').do(Put,par ='USDJPY-OTC',entrada=2,tempoOperacao=1,is_digital=0);#19:18:57-PUT   #M1-\n",
    "tarefa.every().day.at('19:23:57').do(Put,par ='USDJPY-OTC',entrada=2,tempoOperacao=1,is_digital=0);#19:23:57-PUT   #M1-\n",
    "tarefa.every().day.at('10:39:57').do(Put,par ='EURUSD-OTC',entrada=2,tempoOperacao=5,is_digital=0);#10:39:57-PUT M5-\n",
    "tarefa.every().day.at('11:19:57').do(Put,par ='EURJPY-OTC',entrada=2,tempoOperacao=5,is_digital=0);#11:19:57-PUT M5-\n",
    "tarefa.every().day.at('11:29:57').do(Put,par ='EURGBP-OTC',entrada=2,tempoOperacao=5,is_digital=0);#11:29:57-PUT M5-\n",
    "tarefa.every().day.at('11:34:57').do(Put,par ='EURGBP-OTC',entrada=2,tempoOperacao=5,is_digital=0);#11:34:57-PUT M5-\n",
    "tarefa.every().day.at('11:49:57').do(Put,par ='USDCHF-OTC',entrada=2,tempoOperacao=5,is_digital=0);#11:49:57-PUT M5-\n",
    "tarefa.every().day.at('12:44:57').do(Put,par ='USDJPY-OTC',entrada=2,tempoOperacao=5,is_digital=0);#12:44:57-PUT M5-\n",
    "tarefa.every().day.at('14:34:57').do(Put,par ='AUDCAD-OTC',entrada=2,tempoOperacao=5,is_digital=0);#14:34:57-PUT M5-\n",
    "tarefa.every().day.at('14:59:57').do(Put,par ='GBPUSD-OTC',entrada=2,tempoOperacao=5,is_digital=0);#14:59:57-PUT M5-\n",
    "tarefa.every().day.at('15:14:57').do(Put,par ='USDJPY-OTC',entrada=2,tempoOperacao=5,is_digital=0);#15:14:57-PUT M5-\n",
    "tarefa.every().day.at('15:19:57').do(Put,par ='AUDCAD-OTC',entrada=2,tempoOperacao=5,is_digital=0);#15:19:57-PUT M5-\n",
    "tarefa.every().day.at('13:59:57').do(Put,par ='GBPUSD-OTC',entrada=2,tempoOperacao=5,is_digital=0);#13:59:57-PUT M5-\n",
    "tarefa.every().day.at('16:04:57').do(Put,par ='EURGBP-OTC',entrada=2,tempoOperacao=5,is_digital=0);#16:04:57-PUT M5-\n",
    "tarefa.every().day.at('16:09:57').do(Put,par ='NZDUSD-OTC',entrada=2,tempoOperacao=5,is_digital=0);#16:09:57-PUT M5-\n",
    "tarefa.every().day.at('17:04:57').do(Put,par ='AUDCAD-OTC',entrada=2,tempoOperacao=5,is_digital=0);#17:04:57-PUT M5-\n",
    "tarefa.every().day.at('17:44:57').do(Put,par ='EURUSD-OTC',entrada=2,tempoOperacao=5,is_digital=0);#17:44:57-PUT M5-\n",
    "tarefa.every().day.at('18:09:57').do(Put,par ='GBPUSD-OTC',entrada=2,tempoOperacao=5,is_digital=0);#18:09:57-PUT M5-\n",
    "tarefa.every().day.at('18:24:57').do(Put,par ='USDJPY-OTC',entrada=2,tempoOperacao=5,is_digital=0);#18:24:57-PUT M5-\n",
    "tarefa.every().day.at('19:19:57').do(Put,par ='USDJPY-OTC',entrada=2,tempoOperacao=5,is_digital=0);#19:19:57-PUT M5-\n",
    "tarefa.every().day.at('19:24:57').do(Put,par ='NZDUSD-OTC',entrada=2,tempoOperacao=5,is_digital=0);#19:24:57-PUT M5-\n",
    "tarefa.every().day.at('19:29:57').do(Put,par ='NZDUSD-OTC',entrada=2,tempoOperacao=5,is_digital=0);#19:29:57-PUT M5-\n",
    "tarefa.every().day.at('19:49:57').do(Put,par ='USDCHF-OTC',entrada=2,tempoOperacao=5,is_digital=0);#19:49:57-PUT M5-\n",
    "tarefa.every().day.at('11:14:57').do(Put,par ='AUDCAD-OTC',entrada=2,tempoOperacao=15,is_digital=0);#11:14:57-PUT    #M15-\n",
    "tarefa.every().day.at('13:14:57').do(Put,par ='EURGBP-OTC',entrada=2,tempoOperacao=15,is_digital=0);#13:14:57-PUT    #M15-\n",
    "tarefa.every().day.at('13:29:57').do(Put,par ='AUDCAD-OTC',entrada=2,tempoOperacao=15,is_digital=0);#13:29:57-PUT    #M15-\n",
    "tarefa.every().day.at('14:59:57').do(Put,par ='AUDCAD-OTC',entrada=2,tempoOperacao=15,is_digital=0);#14:59:57-PUT    #M15-\n",
    "tarefa.every().day.at('15:44:57').do(Put,par ='EURJPY-OTC',entrada=2,tempoOperacao=15,is_digital=0);#15:44:57-PUT    #M15-\n",
    "tarefa.every().day.at('16:29:57').do(Put,par ='NZDUSD-OTC',entrada=2,tempoOperacao=15,is_digital=0);#16:29:57-PUT    #M15-\n",
    "tarefa.every().day.at('16:29:57').do(Put,par ='USDCHF-OTC',entrada=2,tempoOperacao=15,is_digital=0);#16:29:57-PUT    #M15-\n",
    "tarefa.every().day.at('17:44:57').do(Put,par ='USDJPY-OTC',entrada=2,tempoOperacao=15,is_digital=0);#17:44:57-PUT    #M15-\n",
    "tarefa.every().day.at('18:44:57').do(Put,par ='USDCHF-OTC',entrada=2,tempoOperacao=15,is_digital=0);#18:44:57-PUT    #M15-\n",
    "tarefa.every().day.at('18:59:57').do(Put,par ='USDCHF-OTC',entrada=2,tempoOperacao=15,is_digital=0);#18:59:57-PUT    #M15-\n",
    "\n",
    "# tarefa.run_pending()\n",
    "\n",
    "# while True:\n",
    "#     tarefa.run_pending()\n",
    "    \n"
   ]
  },
  {
   "cell_type": "code",
   "execution_count": null,
   "metadata": {},
   "outputs": [],
   "source": [
    "while True:\n",
    "    tarefa.run_pending()"
   ]
  }
 ]
}