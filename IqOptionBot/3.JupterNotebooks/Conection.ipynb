{
 "metadata": {
  "language_info": {
   "codemirror_mode": {
    "name": "ipython",
    "version": 3
   },
   "file_extension": ".py",
   "mimetype": "text/x-python",
   "name": "python",
   "nbconvert_exporter": "python",
   "pygments_lexer": "ipython3",
   "version": "3.8.5-final"
  },
  "orig_nbformat": 2,
  "kernelspec": {
   "name": "python3",
   "display_name": "Python 3.8.5 64-bit ('wesley.neves': virtualenv)",
   "metadata": {
    "interpreter": {
     "hash": "4f5fd65116d98c778731dcaf9e4b589b7136819a97f5eed575b66b67955b7fbe"
    }
   }
  }
 },
 "nbformat": 4,
 "nbformat_minor": 2,
 "cells": [
  {
   "source": [
    "Conect  in Api "
   ],
   "cell_type": "markdown",
   "metadata": {}
  },
  {
   "cell_type": "code",
   "execution_count": null,
   "metadata": {},
   "outputs": [],
   "source": [
    "https://medium.com/@joaogabriellima/778-75-em-um-dia-investindo-no-mercado-financeiro-com-uma-deep-neural-network-2b5a917e31d4\n",
    "https://towardsdatascience.com/detection-of-price-support-and-resistance-levels-in-python-baedc44c34c9\n",
    "https://www.youtube.com/watch?v=p4MV8KKP70g&list=PLVFOwQ7soOcplVJlXmZhmbphnj_0lwShL&index=10"
   ]
  },
  {
   "cell_type": "code",
   "execution_count": 1,
   "metadata": {},
   "outputs": [],
   "source": [
    "from iqoptionapi.stable_api import  IQ_Option\n",
    "import time\n",
    "import pandas as pd\n",
    "import json\n",
    "from datetime import datetime\n",
    "from dateutil import tz\n",
    "import schedule as tarefa"
   ]
  },
  {
   "source": [
    "variaveis"
   ],
   "cell_type": "markdown",
   "metadata": {}
  },
  {
   "cell_type": "code",
   "execution_count": 2,
   "metadata": {},
   "outputs": [],
   "source": [
    "\n",
    "user ='wesley.si.neves@hotmail.com';\n",
    "password  ='96086512'\n"
   ]
  },
  {
   "cell_type": "code",
   "execution_count": 3,
   "metadata": {},
   "outputs": [],
   "source": [
    "def get_Api(user,password):\n",
    "    API = IQ_Option(user,password)\n",
    "    return API\n"
   ]
  },
  {
   "cell_type": "code",
   "execution_count": 4,
   "metadata": {},
   "outputs": [],
   "source": [
    "API = get_Api(user,password)"
   ]
  },
  {
   "cell_type": "code",
   "execution_count": 5,
   "metadata": {},
   "outputs": [
    {
     "output_type": "stream",
     "name": "stdout",
     "text": [
      "Api conectada com sucesso\n"
     ]
    },
    {
     "output_type": "execute_result",
     "data": {
      "text/plain": [
       "(True, None)"
      ]
     },
     "metadata": {},
     "execution_count": 5
    }
   ],
   "source": [
    "while True:\n",
    "    if(API.check_connect() ==False):\n",
    "        print(\"Tentando conectar\")\n",
    "        API.reconnect()\n",
    "    \n",
    "    else:\n",
    "        print(\"Api conectada com sucesso\")\n",
    "        break;\n",
    "    \n",
    "    time.sleep(1)\n",
    "        \n",
    "API.connect()  "
   ]
  },
  {
   "cell_type": "code",
   "execution_count": 6,
   "metadata": {},
   "outputs": [],
   "source": [
    "def get_perfil():\n",
    "    perfil = json.loads(json.dumps(API.get_profile_ansyc()))\n",
    "    \n",
    "    return perfil\n",
    "\n",
    "\n",
    "   "
   ]
  },
  {
   "cell_type": "code",
   "execution_count": 7,
   "metadata": {},
   "outputs": [],
   "source": [
    "data =  get_perfil()"
   ]
  },
  {
   "cell_type": "code",
   "execution_count": 8,
   "metadata": {},
   "outputs": [],
   "source": [
    "def time_convert(x):\n",
    "    hora =datetime.strptime(datetime.utcfromtimestamp(x).strftime('%Y-%m-%d %H:%M:%S'),'%Y-%m-%d %H:%M:%S')\n",
    "    hora = hora.replace(tzinfo = tz.gettz('GMT'))\n",
    "\n",
    "    return str(hora.astimezone(tz.gettz('America/Sao Paulo')))\n",
    "\n",
    "def get_balance():\n",
    "    return API.get_balance()\n",
    "\n",
    "\n"
   ]
  },
  {
   "cell_type": "code",
   "execution_count": 9,
   "metadata": {},
   "outputs": [
    {
     "output_type": "execute_result",
     "data": {
      "text/plain": [
       "'1987-01-07 01:00:00-03:00'"
      ]
     },
     "metadata": {},
     "execution_count": 9
    }
   ],
   "source": [
    "time_convert(data[\"birthdate\"])"
   ]
  },
  {
   "cell_type": "code",
   "execution_count": 19,
   "metadata": {},
   "outputs": [
    {
     "output_type": "stream",
     "name": "stdout",
     "text": [
      "Compra realizada em Valor: 2021-03-22 22:49:17.746320\n"
     ]
    }
   ],
   "source": [
    "print('Compra realizada em', 'Valor:',str(datetime.now()))"
   ]
  },
  {
   "cell_type": "code",
   "execution_count": 10,
   "metadata": {},
   "outputs": [
    {
     "output_type": "execute_result",
     "data": {
      "text/plain": [
       "20892.21"
      ]
     },
     "metadata": {},
     "execution_count": 10
    }
   ],
   "source": [
    "get_balance()\n"
   ]
  },
  {
   "cell_type": "code",
   "execution_count": 12,
   "metadata": {},
   "outputs": [
    {
     "output_type": "execute_result",
     "data": {
      "text/plain": [
       "'2021-03-21 22:59:14-03:00'"
      ]
     },
     "metadata": {},
     "execution_count": 12
    }
   ],
   "source": [
    "time_convert(time.time())"
   ]
  },
  {
   "cell_type": "code",
   "execution_count": 11,
   "metadata": {},
   "outputs": [],
   "source": [
    "par = \"USDJPY\"\n",
    "quantidades_velas =3  # Valor Maximo de 1000 velas\n",
    "tempoEmMinutos =1\n",
    "\n",
    "\n",
    "velas = API.get_candles(par,(tempoEmMinutos *60) ,quantidades_velas,time.time())"
   ]
  },
  {
   "cell_type": "code",
   "execution_count": 12,
   "metadata": {},
   "outputs": [
    {
     "output_type": "stream",
     "name": "stdout",
     "text": [
      "[{'id': 1263834, 'from': 1616463540, 'at': 1616463600021146584, 'to': 1616463600, 'open': 108.835, 'close': 108.83, 'min': 108.827, 'max': 108.837, 'volume': 44}, {'id': 1263835, 'from': 1616463600, 'at': 1616463660013991209, 'to': 1616463660, 'open': 108.83, 'close': 108.811, 'min': 108.809, 'max': 108.83, 'volume': 86}, {'id': 1263836, 'from': 1616463660, 'at': 1616463719020570218, 'to': 1616463720, 'open': 108.812, 'close': 108.813, 'min': 108.811, 'max': 108.815, 'volume': 20}]\n"
     ]
    }
   ],
   "source": [
    "print(velas)"
   ]
  },
  {
   "cell_type": "code",
   "execution_count": 13,
   "metadata": {},
   "outputs": [
    {
     "output_type": "stream",
     "name": "stdout",
     "text": [
      "2021-03-22 22:39:00-03:00  Abertura  108.835  Fechamento  108.83\n2021-03-22 22:40:00-03:00  Abertura  108.83  Fechamento  108.811\n2021-03-22 22:41:00-03:00  Abertura  108.812  Fechamento  108.813\n"
     ]
    }
   ],
   "source": [
    "for vela in velas:\n",
    "    print(time_convert(vela[\"from\"]),' Abertura ',vela[\"open\"],' Fechamento ',vela[\"close\"])\n",
    "    \n"
   ]
  },
  {
   "cell_type": "code",
   "execution_count": 16,
   "metadata": {},
   "outputs": [
    {
     "output_type": "execute_result",
     "data": {
      "text/plain": [
       "'2021-03-19 17:59:00-03:00'"
      ]
     },
     "metadata": {},
     "execution_count": 16
    }
   ],
   "source": [
    "time_convert(velas[0][\"from\"])"
   ]
  },
  {
   "cell_type": "code",
   "execution_count": null,
   "metadata": {},
   "outputs": [],
   "source": [
    "quantidades_velas =1"
   ]
  },
  {
   "cell_type": "code",
   "execution_count": 20,
   "metadata": {},
   "outputs": [
    {
     "output_type": "stream",
     "name": "stdout",
     "text": [
      "1.19045\n",
      "1.19045\n",
      "1.19045\n",
      "1.19045\n",
      "1.19045\n",
      "1.19045\n",
      "1.19045\n",
      "1.19045\n",
      "1.19045\n",
      "1.19045\n",
      "1.19045\n",
      "1.19045\n",
      "1.19045\n",
      "1.19045\n",
      "1.19045\n",
      "1.19045\n",
      "1.19045\n",
      "1.19045\n",
      "1.19045\n",
      "1.19045\n",
      "1.19045\n",
      "1.19045\n",
      "1.19045\n",
      "1.19045\n",
      "1.19045\n",
      "1.19045\n",
      "1.19045\n",
      "1.19045\n",
      "1.19045\n",
      "1.19045\n",
      "1.19045\n",
      "1.19045\n",
      "1.19045\n",
      "1.19045\n",
      "1.19045\n",
      "1.19045\n",
      "1.19045\n",
      "1.19045\n",
      "1.19045\n",
      "1.19045\n",
      "1.19045\n",
      "1.19045\n",
      "1.19045\n",
      "1.19045\n",
      "1.19045\n",
      "1.19045\n",
      "1.19045\n",
      "1.19045\n",
      "1.19045\n",
      "1.19045\n",
      "1.19045\n",
      "1.19045\n",
      "1.19045\n",
      "1.19045\n",
      "1.19045\n",
      "1.19045\n",
      "1.19045\n",
      "1.19045\n",
      "1.19045\n",
      "1.19045\n",
      "1.19045\n",
      "1.19045\n",
      "1.19045\n",
      "1.19045\n",
      "1.19045\n",
      "1.19045\n",
      "1.19045\n",
      "1.19045\n",
      "1.19045\n",
      "1.19045\n",
      "1.19045\n",
      "1.19045\n",
      "1.19045\n",
      "1.19045\n",
      "1.19045\n",
      "1.19045\n",
      "1.19045\n",
      "1.19045\n",
      "1.19045\n",
      "1.19045\n",
      "1.19045\n",
      "1.19045\n",
      "1.19045\n",
      "1.19045\n",
      "1.19045\n",
      "1.19045\n",
      "1.19045\n",
      "1.19045\n",
      "1.19045\n",
      "1.19045\n",
      "1.19045\n",
      "1.19045\n",
      "1.19045\n",
      "1.19045\n",
      "1.19045\n",
      "1.19045\n",
      "1.19045\n",
      "1.19045\n",
      "1.19045\n",
      "1.19045\n",
      "1.19045\n",
      "1.19045\n",
      "1.19045\n",
      "1.19045\n",
      "1.19045\n",
      "1.19045\n",
      "1.19045\n",
      "1.19045\n",
      "1.19045\n",
      "1.19045\n",
      "1.19045\n",
      "1.19045\n",
      "1.19045\n",
      "1.19045\n",
      "1.19045\n",
      "1.19045\n",
      "1.19045\n",
      "1.19045\n",
      "1.19045\n",
      "1.19045\n",
      "1.19045\n",
      "1.19045\n",
      "1.19045\n",
      "1.19045\n",
      "1.19045\n",
      "1.19045\n",
      "1.19045\n",
      "1.19045\n",
      "1.19045\n",
      "1.19045\n",
      "1.19045\n",
      "1.19045\n",
      "1.19045\n",
      "1.19045\n",
      "1.19045\n",
      "1.19045\n",
      "1.19045\n",
      "1.19045\n",
      "1.19045\n",
      "1.19045\n",
      "1.19045\n",
      "1.19045\n",
      "1.19045\n",
      "1.19045\n",
      "1.19045\n",
      "1.19045\n",
      "1.19045\n",
      "1.19045\n",
      "1.19045\n",
      "1.19045\n",
      "1.19045\n",
      "1.19045\n",
      "1.19045\n",
      "1.19045\n",
      "1.19045\n",
      "1.19045\n",
      "1.19045\n",
      "1.19045\n"
     ]
    },
    {
     "output_type": "error",
     "ename": "KeyboardInterrupt",
     "evalue": "",
     "traceback": [
      "\u001b[1;31m---------------------------------------------------------------------------\u001b[0m",
      "\u001b[1;31mKeyboardInterrupt\u001b[0m                         Traceback (most recent call last)",
      "\u001b[1;32m<ipython-input-20-53d181c73921>\u001b[0m in \u001b[0;36m<module>\u001b[1;34m\u001b[0m\n\u001b[0;32m      7\u001b[0m     \u001b[1;32mfor\u001b[0m \u001b[0mvelas\u001b[0m \u001b[1;32min\u001b[0m  \u001b[0mvela\u001b[0m\u001b[1;33m:\u001b[0m\u001b[1;33m\u001b[0m\u001b[1;33m\u001b[0m\u001b[0m\n\u001b[0;32m      8\u001b[0m         \u001b[0mprint\u001b[0m\u001b[1;33m(\u001b[0m\u001b[0mvela\u001b[0m\u001b[1;33m[\u001b[0m\u001b[0mvelas\u001b[0m\u001b[1;33m]\u001b[0m\u001b[1;33m[\u001b[0m\u001b[1;34m\"open\"\u001b[0m\u001b[1;33m]\u001b[0m\u001b[1;33m)\u001b[0m\u001b[1;33m\u001b[0m\u001b[1;33m\u001b[0m\u001b[0m\n\u001b[1;32m----> 9\u001b[1;33m     \u001b[0mtime\u001b[0m\u001b[1;33m.\u001b[0m\u001b[0msleep\u001b[0m\u001b[1;33m(\u001b[0m\u001b[1;36m1\u001b[0m\u001b[1;33m)\u001b[0m\u001b[1;33m\u001b[0m\u001b[1;33m\u001b[0m\u001b[0m\n\u001b[0m\u001b[0;32m     10\u001b[0m \u001b[1;33m\u001b[0m\u001b[0m\n\u001b[0;32m     11\u001b[0m \u001b[0mAPI\u001b[0m\u001b[1;33m.\u001b[0m\u001b[0mstop_candles_stream\u001b[0m\u001b[1;33m(\u001b[0m\u001b[0mpar\u001b[0m\u001b[1;33m,\u001b[0m\u001b[1;33m(\u001b[0m\u001b[0mtempoEmMinutos\u001b[0m \u001b[1;33m*\u001b[0m\u001b[1;36m60\u001b[0m\u001b[1;33m)\u001b[0m\u001b[1;33m)\u001b[0m\u001b[1;33m\u001b[0m\u001b[1;33m\u001b[0m\u001b[0m\n",
      "\u001b[1;31mKeyboardInterrupt\u001b[0m: "
     ]
    }
   ],
   "source": [
    "API.start_candles_stream(par,(tempoEmMinutos *60),quantidades_velas)\n",
    "time.sleep(1)\n",
    "\n",
    "vela = API.get_realtime_candles(par,(tempoEmMinutos *60))\n",
    "\n",
    "while True:\n",
    "    for velas in  vela:\n",
    "        print(vela[velas][\"open\"])\n",
    "    time.sleep(1)\n",
    "    \n",
    "API.stop_candles_stream(par,(tempoEmMinutos *60))     \n",
    "\n"
   ]
  },
  {
   "cell_type": "code",
   "execution_count": 14,
   "metadata": {},
   "outputs": [
    {
     "output_type": "error",
     "ename": "Error",
     "evalue": "Pip module Unable to parse debugpy output, please log an issue with https://github.com/microsoft/vscode-jupyter is required for debugging cells. You will need to install it to debug cells.",
     "traceback": [
      "Error: Pip module Unable to parse debugpy output, please log an issue with https://github.com/microsoft/vscode-jupyter is required for debugging cells. You will need to install it to debug cells.",
      "at b.parseConnectInfo (c:\\Users\\wesley.neves\\.vscode\\extensions\\ms-toolsai.jupyter-2021.3.619093157\\out\\client\\extension.js:49:476602)",
      "at b.connectToLocal (c:\\Users\\wesley.neves\\.vscode\\extensions\\ms-toolsai.jupyter-2021.3.619093157\\out\\client\\extension.js:49:477129)",
      "at async b.connect (c:\\Users\\wesley.neves\\.vscode\\extensions\\ms-toolsai.jupyter-2021.3.619093157\\out\\client\\extension.js:49:475006)",
      "at async b.startDebugSession (c:\\Users\\wesley.neves\\.vscode\\extensions\\ms-toolsai.jupyter-2021.3.619093157\\out\\client\\extension.js:49:474153)",
      "at async T.submitCode (c:\\Users\\wesley.neves\\.vscode\\extensions\\ms-toolsai.jupyter-2021.3.619093157\\out\\client\\extension.js:32:610139)",
      "at async T.handleRunByLine (c:\\Users\\wesley.neves\\.vscode\\extensions\\ms-toolsai.jupyter-2021.3.619093157\\out\\client\\extension.js:32:598085)"
     ]
    }
   ],
   "source": [
    " par ='USDCHF-OTC'\n",
    " API.start_mood_stream(par)\n",
    "\n",
    "while(True):\n",
    "    result = API.get_traders_mood(par)\n",
    "    print(int(100 * round(result,2)))\n",
    "    time.sleep(1)\n",
    "\n",
    "API.stop_mood_stream(par)"
   ]
  },
  {
   "cell_type": "code",
   "execution_count": 15,
   "metadata": {},
   "outputs": [
    {
     "output_type": "stream",
     "name": "stdout",
     "text": [
      "EURUSD\nUSDJPY\nAUDUSD\nEURJPY\n"
     ]
    }
   ],
   "source": [
    "moedas = API.get_all_open_time()\n",
    "tipo ='turbo' # turbo/binary\n",
    "\n",
    "for paridade in moedas['turbo']:\n",
    "    if( moedas['turbo'][paridade]['open'] ==True):\n",
    "        print(paridade)\n",
    "    \n",
    "\n",
    "\n",
    "   \n",
    "\n"
   ]
  },
  {
   "cell_type": "code",
   "execution_count": 16,
   "metadata": {},
   "outputs": [
    {
     "output_type": "execute_result",
     "data": {
      "text/plain": [
       "['EURUSD', 'USDJPY', 'AUDUSD', 'EURJPY']"
      ]
     },
     "metadata": {},
     "execution_count": 16
    }
   ],
   "source": [
    "def get_moedas_abertas(tipo ='turbo'):\n",
    "        moedas = API.get_all_open_time()\n",
    "        # lista = []\n",
    "        # dicionario = {}\n",
    "        # tupla = ()\n",
    "        # turbo/binary\n",
    "        retorno = []\n",
    "\n",
    "        for paridade in moedas['turbo']:\n",
    "            if( moedas['turbo'][paridade]['open'] ==True):\n",
    "                retorno.append(paridade)\n",
    "        \n",
    "        return retorno\n",
    "\n",
    "\n",
    "get_moedas_abertas('bynary')"
   ]
  },
  {
   "cell_type": "code",
   "execution_count": 17,
   "metadata": {},
   "outputs": [
    {
     "output_type": "stream",
     "name": "stdout",
     "text": [
      "EURUSD ('turbo', 80.0)\n",
      "USDJPY ('turbo', 80.0)\n",
      "AUDUSD ('turbo', 80.0)\n",
      "EURJPY ('turbo', 80.0)\n",
      "EURUSD ('bynary', 98)\n",
      "USDJPY ('bynary', 98)\n",
      "AUDUSD ('bynary', 98)\n",
      "EURJPY ('bynary', 98)\n"
     ]
    }
   ],
   "source": [
    "def get_payout(par,tipo,tempovela =1):\n",
    "\n",
    "    if(tipo  =='turbo'):\n",
    "        result = API.get_all_profit()\n",
    "        return ('turbo',(100 * result[par][tipo]))\n",
    "    elif(tipo =='bynary'):\n",
    "        API.subscribe_strike_list(par,tempovela)\n",
    "        while True:\n",
    "            d = API.get_digital_current_profit(par,tempovela)\n",
    "            if(d != False):\n",
    "                d = int(d)\n",
    "                break;\n",
    "            time.sleep(1)\n",
    "        API.unsubscribe_strike_list(par,tempovela)\n",
    "        return ('bynary',(d))\n",
    "\n",
    "\n",
    "\n",
    "result = ()\n",
    "\n",
    "for par in get_moedas_abertas('turbo'):\n",
    "     payout=  get_payout(par,'turbo')\n",
    "     print(par,str(payout))\n",
    "\n",
    "\n",
    "for par in get_moedas_abertas('bynary'):\n",
    "     payout=  get_payout(par,'bynary')\n",
    "     print(par,str(payout))\n",
    "        \n",
    "\n",
    "\n",
    "\n",
    "# get_payout('EURGBP-OTC','turbo')"
   ]
  },
  {
   "cell_type": "code",
   "execution_count": 16,
   "metadata": {},
   "outputs": [
    {
     "output_type": "execute_result",
     "data": {
      "text/plain": [
       "('bynary', 98)"
      ]
     },
     "metadata": {},
     "execution_count": 16
    }
   ],
   "source": [
    "get_payout('EURJPY-OTC','bynary')"
   ]
  },
  {
   "cell_type": "code",
   "execution_count": 17,
   "metadata": {},
   "outputs": [
    {
     "output_type": "stream",
     "name": "stdout",
     "text": [
      "Hora: 2021-03-21 16:21:00-03:00 PAR: EURJPY-OTC Investimento: 1 Direção: put Resultado: Win Lucro: 0.87\nHora: 2021-03-21 16:04:00-03:00 PAR: EURGBP-OTC Investimento: 200 Direção: put Resultado: Loss Lucro: -200\nHora: 2021-03-21 16:01:00-03:00 PAR: AUDCAD-OTC Investimento: 200 Direção: call Resultado: Loss Lucro: -200\nHora: 2021-03-21 15:59:00-03:00 PAR: EURJPY-OTC Investimento: 200 Direção: put Resultado: Win Lucro: 174.16\nHora: 2021-03-21 15:56:00-03:00 PAR: EURGBP-OTC Investimento: 200 Direção: call Resultado: Win Lucro: 174.2\nHora: 2021-03-21 15:24:00-03:00 PAR: GBPUSD-OTC Investimento: 1 Direção: put Resultado: Win Lucro: 0.87\nHora: 2021-03-21 15:20:00-03:00 PAR: USDJPY-OTC Investimento: 200 Direção: put Resultado: Loss Lucro: -200\nHora: 2021-03-21 15:19:00-03:00 PAR: USDCHF-OTC Investimento: 200 Direção: put Resultado: Loss Lucro: -200\nHora: 2021-03-21 15:16:00-03:00 PAR: USDJPY-OTC Investimento: 200 Direção: put Resultado: Loss Lucro: -200\nHora: 2021-03-21 14:23:00-03:00 PAR: USDCHF-OTC Investimento: 200 Direção: call Resultado: Loss Lucro: -200\n"
     ]
    }
   ],
   "source": [
    "tipo ='digital-option'  # 'digital-option' / 'turbo-option'\n",
    "status,historico  =API.get_position_history_v2(tipo,10,0,0,0)\n",
    "#/\n",
    "# \n",
    "# \n",
    "# **/\n",
    "\n",
    "\n",
    "if(tipo =='digital-option'):\n",
    "    for item in historico['positions']:\n",
    "        print('Hora:',time_convert(item['close_time'] /1000), 'PAR:',str(item['raw_event']['instrument_underlying']) ,\n",
    "            'Investimento:',str(item['invest']),\n",
    "            'Direção:',str(item['raw_event']['instrument_dir']),\n",
    "            'Resultado:', 'Loss' if  item['close_profit'] == 0 else 'Win' ,\n",
    "            'Lucro:',round (item['close_profit'] - item['invest'],2)  if item['close_profit'] != 0 else item['invest'] * -1)\n",
    "else:\n",
    "    for item in historico['positions']:\n",
    "        print('Hora:',time_convert(item['close_time'] /1000), 'PAR:',str(item['raw_event']['currency']) ,\n",
    "            'Investimento:',str(item['invest']),\n",
    "            'Direção:',str(item['raw_event']['direction']),\n",
    "            'Resultado:',  item['raw_event']['result'],\n",
    "            'Lucro:',round (item['close_profit'] - item['invest'],2)  if item['close_profit'] != 0 else item['invest'] * -1)\n",
    "\n",
    "    "
   ]
  },
  {
   "source": [
    "Comprar na digital"
   ],
   "cell_type": "markdown",
   "metadata": {}
  },
  {
   "cell_type": "code",
   "execution_count": null,
   "metadata": {},
   "outputs": [],
   "source": [
    "par ='EURUSD-OTC'\n",
    "entrada =2\n",
    "direcao ='call'\n",
    "tempoOperacao =1 # (1,5,15)\n",
    "\n",
    "id = API.buy_digital_spot(entrada,par,direcao,tempoOperacao)\n",
    "\n",
    "if isinstance(id,int):\n",
    "    while True:\n",
    "        status,lucro =API.check_win_digital_v2(id)\n",
    "        if(status):\n",
    "            if(lucro < 0):\n",
    "                print('resultado: Win', 'Ganho:',str(round(lucro,2)))\n",
    "            else:\n",
    "                print('resultado: Loss', 'Perca:',str(round(entrada,2))) \n",
    "            break\n",
    "\n",
    "        "
   ]
  },
  {
   "cell_type": "code",
   "execution_count": 14,
   "metadata": {},
   "outputs": [
    {
     "output_type": "execute_result",
     "data": {
      "text/plain": [
       "Empty DataFrame\n",
       "Columns: [acao, mensagem]\n",
       "Index: []"
      ],
      "text/html": "<div>\n<style scoped>\n    .dataframe tbody tr th:only-of-type {\n        vertical-align: middle;\n    }\n\n    .dataframe tbody tr th {\n        vertical-align: top;\n    }\n\n    .dataframe thead th {\n        text-align: right;\n    }\n</style>\n<table border=\"1\" class=\"dataframe\">\n  <thead>\n    <tr style=\"text-align: right;\">\n      <th></th>\n      <th>acao</th>\n      <th>mensagem</th>\n    </tr>\n  </thead>\n  <tbody>\n  </tbody>\n</table>\n</div>"
     },
     "metadata": {},
     "execution_count": 14
    }
   ],
   "source": [
    "\n",
    "\n",
    "log = pd.DataFrame(columns=['acao','mensagem']);\n",
    "\n",
    "log\n"
   ]
  },
  {
   "cell_type": "code",
   "execution_count": null,
   "metadata": {},
   "outputs": [],
   "source": [
    "API.buy(entrada,par,direcao,tempoOperacao)"
   ]
  },
  {
   "cell_type": "code",
   "execution_count": 11,
   "metadata": {},
   "outputs": [],
   "source": [
    "def Call(par,entrada,tempoOperacao =1,is_digital = 0):\n",
    "    # par ='EURUSD-OTC'\n",
    "    tentativasMaxima =3\n",
    "    tentativa =1\n",
    "\n",
    "    status = -1\n",
    "    id = 0\n",
    "    direcao ='call'\n",
    "\n",
    "    while(tentativa <= tentativasMaxima):\n",
    "        \n",
    "        if(is_digital ==0):\n",
    "            status,id = API.buy(entrada,par,direcao,tempoOperacao)\n",
    "        else:\n",
    "            status,id = API.buy_digital_spot(entrada,par,direcao,tempoOperacao)\n",
    "        \n",
    "        print(status)\n",
    "        result  =API.check_win_v3(id)\n",
    "        if(result > 0):\n",
    "            print('resultado:Win', 'Valor:',str(round(result,2)))\n",
    "            break\n",
    "        else:\n",
    "            print('resultado:Loss', 'Valor:',str(round((result * -1),2)))\n",
    "            tentativa +=1\n",
    "            entrada  += entrada\n",
    "\n",
    "\n",
    "def Call_StopLoss(par,entrada,tempoOperacao =1,is_digital = 0):\n",
    "    # par ='EURUSD-OTC'\n",
    "    tentativasMaxima =3\n",
    "    tentativa =1\n",
    "\n",
    "    status = -1\n",
    "    id = 0\n",
    "    direcao ='call'\n",
    "    isWin = False\n",
    "\n",
    "    while(tentativa <= tentativasMaxima):\n",
    "        \n",
    "        if(isWin):\n",
    "            entrada =2\n",
    "\n",
    "        if(is_digital ==0):\n",
    "            status,id = API.buy(entrada,par,direcao,tempoOperacao)\n",
    "        else:\n",
    "            status,id = API.buy_digital_spot(entrada,par,direcao,tempoOperacao)\n",
    "        \n",
    "        print(status)\n",
    "        result  =API.check_win_v3(id)\n",
    "        if(result > 0):\n",
    "            isWin = True\n",
    "            print('resultado:Win', 'Valor:',str(round(result,2)))\n",
    "        else:\n",
    "            print('resultado:Loss', 'Valor:',str(round((result * -1),2)))\n",
    "            tentativa +=1\n",
    "            entrada  += entrada\n",
    "            isWin = False\n",
    "\n",
    "\n",
    "def Put(par,entrada,tempoOperacao =1,is_digital = 0):\n",
    "    # par ='EURUSD-OTC'\n",
    "    tentativasMaxima =3\n",
    "    tentativa =1\n",
    "\n",
    "    status = -1\n",
    "    id = 0\n",
    "    direcao ='put'\n",
    "\n",
    "    while(tentativa <= tentativasMaxima):\n",
    "        \n",
    "        if(is_digital ==0):\n",
    "            status,id = API.buy(entrada,par,direcao,tempoOperacao)\n",
    "        else:\n",
    "            status,id = API.buy_digital_spot(entrada,par,direcao,tempoOperacao)\n",
    "        \n",
    "        print(status)\n",
    "        result  =API.check_win_v3(id)\n",
    "        if(result > 0):\n",
    "            print('resultado:Win', 'Valor:',str(round(result,2)))\n",
    "            break\n",
    "        else:\n",
    "            print('resultado:Loss', 'Valor:',str(round((result * -1),2)))\n",
    "            tentativa +=1\n",
    "            entrada  += entrada\n",
    "            \n",
    "        "
   ]
  },
  {
   "cell_type": "code",
   "execution_count": 12,
   "metadata": {},
   "outputs": [],
   "source": [
    "def coding():\n",
    "    print('execution at:', time_convert(time.time()))\n",
    "\n"
   ]
  },
  {
   "cell_type": "code",
   "execution_count": null,
   "metadata": {},
   "outputs": [],
   "source": []
  },
  {
   "cell_type": "code",
   "execution_count": 32,
   "metadata": {},
   "outputs": [],
   "source": [
    "tarefa.every(10).seconds.do(coding)\n",
    "tarefa.every().day.at('23:13:57').do(Put,par ='EURUSD',entrada=2,tempoOperacao=1,is_digital=0);#10:40:57-PUT  #M1-\n",
    "tarefa.every().day.at('23:14:57').do(Put,par ='USDJPY',entrada=2,tempoOperacao=1,is_digital=0);#10:40:57-PUT  #M1-\n",
    "tarefa.every().day.at('23:15:57').do(Put,par ='EURJPY',entrada=2,tempoOperacao=1,is_digital=0);#10:40:57-PUT  #M1-"
   ]
  },
  {
   "cell_type": "code",
   "execution_count": 34,
   "metadata": {},
   "outputs": [],
   "source": [
    "tarefa.clear()"
   ]
  },
  {
   "source": [
    "while True:\n",
    "    tarefa.run_pending()\n",
    "    time.sleep(1)"
   ],
   "cell_type": "code",
   "metadata": {},
   "execution_count": null,
   "outputs": [
    {
     "output_type": "error",
     "ename": "Error",
     "evalue": "Pip module Unable to parse debugpy output, please log an issue with https://github.com/microsoft/vscode-jupyter is required for debugging cells. You will need to install it to debug cells.",
     "traceback": [
      "Error: Pip module Unable to parse debugpy output, please log an issue with https://github.com/microsoft/vscode-jupyter is required for debugging cells. You will need to install it to debug cells.",
      "at b.parseConnectInfo (c:\\Users\\wesley.neves\\.vscode\\extensions\\ms-toolsai.jupyter-2021.3.619093157\\out\\client\\extension.js:49:476602)",
      "at b.connectToLocal (c:\\Users\\wesley.neves\\.vscode\\extensions\\ms-toolsai.jupyter-2021.3.619093157\\out\\client\\extension.js:49:477129)",
      "at async b.connect (c:\\Users\\wesley.neves\\.vscode\\extensions\\ms-toolsai.jupyter-2021.3.619093157\\out\\client\\extension.js:49:475006)",
      "at async b.startDebugSession (c:\\Users\\wesley.neves\\.vscode\\extensions\\ms-toolsai.jupyter-2021.3.619093157\\out\\client\\extension.js:49:474153)",
      "at async T.submitCode (c:\\Users\\wesley.neves\\.vscode\\extensions\\ms-toolsai.jupyter-2021.3.619093157\\out\\client\\extension.js:32:610139)",
      "at async T.handleRunByLine (c:\\Users\\wesley.neves\\.vscode\\extensions\\ms-toolsai.jupyter-2021.3.619093157\\out\\client\\extension.js:32:598085)"
     ]
    }
   ]
  },
  {
   "cell_type": "code",
   "execution_count": null,
   "metadata": {},
   "outputs": [],
   "source": [
    "21198,57"
   ]
  },
  {
   "cell_type": "code",
   "execution_count": 13,
   "metadata": {
    "tags": []
   },
   "outputs": [
    {
     "output_type": "execute_result",
     "data": {
      "text/plain": [
       "Every 1 day at 06:14:57 do Call(par='GBPJPY', entrada=2, tempoOperacao=15, is_digital=0) (last run: [never], next run: 2021-03-22 06:14:57)"
      ]
     },
     "metadata": {},
     "execution_count": 13
    }
   ],
   "source": [
    "tarefa.every(10).seconds.do(coding)\n",
    "\n",
    "tarefa.every().day.at('23:50:57').do(Call,par ='USDJPY',entrada=2,tempoOperacao=1,is_digital=0)#;00:21-CALL\n",
    "tarefa.every().day.at('23:51:57').do(Call,par ='EURJPY',entrada=2,tempoOperacao=1,is_digital=0)#;00:21-CALL\n",
    "\n",
    "tarefa.every().day.at('00:20:57').do(Call,par ='EURNZD',entrada=2,tempoOperacao=1,is_digital=0)#;00:21-CALL\n",
    "tarefa.every().day.at('00:30:57').do(Put,par ='AUDUSD',entrada=2,tempoOperacao=1,is_digital=0)#;00:31-PUT\n",
    "tarefa.every().day.at('02:10:57').do(Put,par ='CADCHF',entrada=2,tempoOperacao=1,is_digital=0)#;02:11-PUT\n",
    "tarefa.every().day.at('02:35:57').do(Put,par ='AUDNZD',entrada=2,tempoOperacao=1,is_digital=0)#;02:36-PUT\n",
    "tarefa.every().day.at('04:25:57').do(Put,par ='USDJPY',entrada=2,tempoOperacao=1,is_digital=0)#;04:26-PUT\n",
    "tarefa.every().day.at('04:30:57').do(Put,par ='CADJPY',entrada=2,tempoOperacao=1,is_digital=0)#;04:31-PUT\n",
    "tarefa.every().day.at('04:35:57').do(Put,par ='USDJPY',entrada=2,tempoOperacao=1,is_digital=0)#;04:36-PUT\n",
    "tarefa.every().day.at('05:15:57').do(Put,par ='AUDJPY',entrada=2,tempoOperacao=1,is_digital=0)#;05:16-PUT\n",
    "tarefa.every().day.at('01:20:57').do(Call,par ='GBPJPY',entrada=2,tempoOperacao=1,is_digital=0);#01:21-CALL\n",
    "tarefa.every().day.at('05:35:57').do(Call,par ='EURGBP',entrada=2,tempoOperacao=1,is_digital=0);#05:36-CALL\n",
    "\n",
    "\n",
    "tarefa.every().day.at('00:29:57').do(Put,par ='AUDUSD',entrada=2,tempoOperacao=5,is_digital=0)#;00:30-PUT\n",
    "tarefa.every().day.at('01:14:57').do(Put,par ='AUDCHF',entrada=2,tempoOperacao=5,is_digital=0)#;01:15-PUT\n",
    "tarefa.every().day.at('01:19:57').do(Call,par ='EURJPY',entrada=2,tempoOperacao=5,is_digital=0)#;01:20-CALL\n",
    "tarefa.every().day.at('02:09:57').do(Call,par ='GBPAUD',entrada=2,tempoOperacao=5,is_digital=0)#;02:10-CALL\n",
    "tarefa.every().day.at('02:19:57').do(Call,par ='AUDJPY',entrada=2,tempoOperacao=5,is_digital=0)#;02:20-CALL\n",
    "tarefa.every().day.at('02:34:57').do(Put,par ='AUDCHF',entrada=2,tempoOperacao=5,is_digital=0)#;02:35-PUT\n",
    "tarefa.every().day.at('04:19:57').do(Call,par ='EURGBP',entrada=2,tempoOperacao=5,is_digital=0)#;04:20-CALL\n",
    "tarefa.every().day.at('04:24:57').do(Put,par ='GBPAUD',entrada=2,tempoOperacao=5,is_digital=0)#;04:25-PUT\n",
    "tarefa.every().day.at('04:29:57').do(Put,par ='GBPJPY',entrada=2,tempoOperacao=5,is_digital=0)#;04:30-PUT\n",
    "tarefa.every().day.at('04:39:57').do(Put,par ='GBPCAD',entrada=2,tempoOperacao=5,is_digital=0)#;04:40-PUT\n",
    "tarefa.every().day.at('05:06:57').do(Put,par ='CADJPY',entrada=2,tempoOperacao=5,is_digital=0)#;05:10-PUT\n",
    "tarefa.every().day.at('05:14:57').do(Call,par ='USDCHF',entrada=2,tempoOperacao=5,is_digital=0)#;05:15-CALL\n",
    "tarefa.every().day.at('05:19:57').do(Call,par ='EURCHF',entrada=2,tempoOperacao=5,is_digital=0)#;05:20-CALL\n",
    "tarefa.every().day.at('05:34:57').do(Call,par ='EURGBP',entrada=2,tempoOperacao=5,is_digital=0)#;05:35-CALL\n",
    "tarefa.every().day.at('05:39:57').do(Call,par ='EURAUD',entrada=2,tempoOperacao=5,is_digital=0)#;05:40-CALL\n",
    "tarefa.every().day.at('05:44:57').do(Put,par ='AUDCHF',entrada=2,tempoOperacao=5,is_digital=0)#;05:45-PUT\n",
    "tarefa.every().day.at('05:49:57').do(Put,par ='AUDCHF',entrada=2,tempoOperacao=5,is_digital=0)#;05:50-PUT\n",
    "tarefa.every().day.at('07:44:57').do(Call,par ='AUDCAD',entrada=2,tempoOperacao=5,is_digital=0)#;07:45-CALL\n",
    "\n",
    "\n",
    "tarefa.every().day.at('02:14:57').do(Put,par ='USDNOK',entrada=2,tempoOperacao=15,is_digital=0)# 02:15-PUT\n",
    "tarefa.every().day.at('03:44:57').do(Put,par ='GBPAUD',entrada=2,tempoOperacao=15,is_digital=0)# 03:45-PUT\n",
    "tarefa.every().day.at('03:59:57').do(Put,par ='GBPAUD',entrada=2,tempoOperacao=15,is_digital=0)# 04:00-PUT\n",
    "tarefa.every().day.at('05:14:57').do(Put,par ='AUDJPY',entrada=2,tempoOperacao=15,is_digital=0)# 05:15-PUT\n",
    "tarefa.every().day.at('05:29:57').do(Call,par ='EURAUD',entrada=2,tempoOperacao=15,is_digital=0)# 05:30-CALL\n",
    "tarefa.every().day.at('05:59:57').do(Call,par ='GBPAUD',entrada=2,tempoOperacao=15,is_digital=0)# 06:00-CALL\n",
    "tarefa.every().day.at('06:14:57').do(Call,par ='GBPJPY',entrada=2,tempoOperacao=15,is_digital=0)# 06:15-CALL\n",
    "\n",
    "\n"
   ]
  },
  {
   "cell_type": "code",
   "execution_count": null,
   "metadata": {},
   "outputs": [],
   "source": [
    "valor ='23:44:57'\n",
    "\n"
   ]
  },
  {
   "source": [
    "while True:\n",
    "    tarefa.run_pending()\n",
    "    time.sleep(1)"
   ],
   "cell_type": "code",
   "metadata": {},
   "execution_count": 14,
   "outputs": [
    {
     "output_type": "error",
     "ename": "Error",
     "evalue": "Pip module Unable to parse debugpy output, please log an issue with https://github.com/microsoft/vscode-jupyter is required for debugging cells. You will need to install it to debug cells.",
     "traceback": [
      "Error: Pip module Unable to parse debugpy output, please log an issue with https://github.com/microsoft/vscode-jupyter is required for debugging cells. You will need to install it to debug cells.",
      "at b.parseConnectInfo (c:\\Users\\wesley.neves\\.vscode\\extensions\\ms-toolsai.jupyter-2021.3.619093157\\out\\client\\extension.js:49:476602)",
      "at b.connectToLocal (c:\\Users\\wesley.neves\\.vscode\\extensions\\ms-toolsai.jupyter-2021.3.619093157\\out\\client\\extension.js:49:477129)",
      "at async b.connect (c:\\Users\\wesley.neves\\.vscode\\extensions\\ms-toolsai.jupyter-2021.3.619093157\\out\\client\\extension.js:49:475006)",
      "at async b.startDebugSession (c:\\Users\\wesley.neves\\.vscode\\extensions\\ms-toolsai.jupyter-2021.3.619093157\\out\\client\\extension.js:49:474153)",
      "at async T.submitCode (c:\\Users\\wesley.neves\\.vscode\\extensions\\ms-toolsai.jupyter-2021.3.619093157\\out\\client\\extension.js:32:610139)",
      "at async T.handleRunByLine (c:\\Users\\wesley.neves\\.vscode\\extensions\\ms-toolsai.jupyter-2021.3.619093157\\out\\client\\extension.js:32:598085)"
     ]
    }
   ]
  },
  {
   "cell_type": "code",
   "execution_count": null,
   "metadata": {},
   "outputs": [],
   "source": [
    "tarefa.clear()"
   ]
  },
  {
   "cell_type": "code",
   "execution_count": null,
   "metadata": {},
   "outputs": [],
   "source": []
  }
 ]
}