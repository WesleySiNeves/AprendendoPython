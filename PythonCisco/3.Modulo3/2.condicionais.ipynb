{
 "cells": [
  {
   "cell_type": "markdown",
   "metadata": {},
   "source": [
    "![](loops1.png)"
   ]
  },
  {
   "cell_type": "markdown",
   "metadata": {},
   "source": [
    "## Maior de 3 numeros"
   ]
  },
  {
   "cell_type": "code",
   "execution_count": 1,
   "metadata": {},
   "outputs": [
    {
     "name": "stdout",
     "output_type": "stream",
     "text": [
      "4\n"
     ]
    }
   ],
   "source": [
    "nummero1 = int(input(\"Digite um numero:\"))\n",
    "nummero2 = int(input(\"Digite um numero:\"))\n",
    "nummero3 = int(input(\"Digite um numero:\"))\n",
    "\n",
    "maior = max(nummero1, nummero2, nummero3)\n",
    "\n",
    "print(maior)"
   ]
  },
  {
   "cell_type": "markdown",
   "metadata": {},
   "source": [
    "![](lab2.png)"
   ]
  },
  {
   "cell_type": "markdown",
   "metadata": {},
   "source": [
    "![](lab4.png)"
   ]
  },
  {
   "cell_type": "code",
   "execution_count": 3,
   "metadata": {},
   "outputs": [
    {
     "name": "stdout",
     "output_type": "stream",
     "text": [
      "Yes - Spathiphyllum is the best plant ever!\n"
     ]
    }
   ],
   "source": [
    "valor = input(\"Digite um numero:\")\n",
    "\n",
    "if(valor =='Spathiphyllum'):\n",
    "    if(valor==\"spathiphyllum\"):\n",
    "        print(\"No, I want a big Spathiphyllum!\")\n",
    "    else:\n",
    "        print(\"Yes - Spathiphyllum is the best plant ever!\")\n",
    "else:\n",
    "    print(\"No, I want a big Spathiphyllum!\")\n",
    "    \n",
    "\n"
   ]
  },
  {
   "cell_type": "markdown",
   "metadata": {},
   "source": [
    "## Ano Bissexto\n"
   ]
  },
  {
   "cell_type": "markdown",
   "metadata": {},
   "source": [
    "![](anobissexto.png)"
   ]
  },
  {
   "cell_type": "code",
   "execution_count": 8,
   "metadata": {},
   "outputs": [
    {
     "name": "stdout",
     "output_type": "stream",
     "text": [
      "Ano Bissexto\n"
     ]
    }
   ],
   "source": [
    "year = int(input(\"Enter a year: \"))\n",
    "\n",
    "if( (year % 4 != 0)):\n",
    "    print(\"Ano Commum\")\n",
    "elif( year % 100 !=0):\n",
    "    print(\"Ano Bissexto\")\n",
    "elif(year % 400  !=0):\n",
    "    print(\"Ano Commum\")\n",
    "else:\n",
    "    print(\"Ano Bissexto\")"
   ]
  },
  {
   "cell_type": "markdown",
   "metadata": {},
   "source": [
    "![](resumo.png)"
   ]
  },
  {
   "cell_type": "markdown",
   "metadata": {},
   "source": [
    "## Resumo "
   ]
  }
 ],
 "metadata": {
  "interpreter": {
   "hash": "2469a70536e4d2335a2ea8907942d0699c37342a371ac185bdb5b0aa6f073890"
  },
  "kernelspec": {
   "display_name": "Python 3.10.1 64-bit",
   "language": "python",
   "name": "python3"
  },
  "language_info": {
   "codemirror_mode": {
    "name": "ipython",
    "version": 3
   },
   "file_extension": ".py",
   "mimetype": "text/x-python",
   "name": "python",
   "nbconvert_exporter": "python",
   "pygments_lexer": "ipython3",
   "version": "3.10.1"
  },
  "orig_nbformat": 4
 },
 "nbformat": 4,
 "nbformat_minor": 2
}
