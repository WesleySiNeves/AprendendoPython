{
 "cells": [
  {
   "cell_type": "markdown",
   "metadata": {},
   "source": [
    "# Loops"
   ]
  },
  {
   "cell_type": "markdown",
   "metadata": {},
   "source": [
    "## while"
   ]
  },
  {
   "cell_type": "markdown",
   "metadata": {},
   "source": [
    "![](loops.png)"
   ]
  },
  {
   "cell_type": "markdown",
   "metadata": {},
   "source": [
    "### Loop infinito"
   ]
  },
  {
   "cell_type": "code",
   "execution_count": 2,
   "metadata": {},
   "outputs": [],
   "source": [
    "while False:  # Precisamos de uma condição verdadeira\n",
    "    print(\"I'm stuck inside a loop.\")"
   ]
  },
  {
   "cell_type": "code",
   "execution_count": null,
   "metadata": {},
   "outputs": [],
   "source": [
    "while True:\n",
    "    print(\"I'm stuck inside a loop.\")"
   ]
  },
  {
   "cell_type": "markdown",
   "metadata": {},
   "source": [
    "### veja que dessa forma nos não alteramos o valor da variavel numero, logo ela sempre sera 1"
   ]
  },
  {
   "cell_type": "code",
   "execution_count": null,
   "metadata": {},
   "outputs": [],
   "source": [
    "numero =1\n",
    "\n",
    "while (numero <=100):\n",
    "    print(numero)\n",
    "    \n",
    "\n",
    "\n"
   ]
  },
  {
   "cell_type": "markdown",
   "metadata": {},
   "source": [
    "### pra que o programa saiba quando parar precisamos atualizar o valor da variavel"
   ]
  },
  {
   "cell_type": "code",
   "execution_count": 6,
   "metadata": {},
   "outputs": [
    {
     "name": "stdout",
     "output_type": "stream",
     "text": [
      "1\n",
      "2\n",
      "3\n",
      "4\n",
      "5\n",
      "6\n",
      "7\n",
      "8\n",
      "9\n",
      "10\n",
      "11\n",
      "12\n",
      "13\n",
      "14\n",
      "15\n",
      "16\n",
      "17\n",
      "18\n",
      "19\n",
      "20\n",
      "21\n",
      "22\n",
      "23\n",
      "24\n",
      "25\n",
      "26\n",
      "27\n",
      "28\n",
      "29\n",
      "30\n",
      "31\n",
      "32\n",
      "33\n",
      "34\n",
      "35\n",
      "36\n",
      "37\n",
      "38\n",
      "39\n",
      "40\n",
      "41\n",
      "42\n",
      "43\n",
      "44\n",
      "45\n",
      "46\n",
      "47\n",
      "48\n",
      "49\n",
      "50\n",
      "51\n",
      "52\n",
      "53\n",
      "54\n",
      "55\n",
      "56\n",
      "57\n",
      "58\n",
      "59\n",
      "60\n",
      "61\n",
      "62\n",
      "63\n",
      "64\n",
      "65\n",
      "66\n",
      "67\n",
      "68\n",
      "69\n",
      "70\n",
      "71\n",
      "72\n",
      "73\n",
      "74\n",
      "75\n",
      "76\n",
      "77\n",
      "78\n",
      "79\n",
      "80\n",
      "81\n",
      "82\n",
      "83\n",
      "84\n",
      "85\n",
      "86\n",
      "87\n",
      "88\n",
      "89\n",
      "90\n",
      "91\n",
      "92\n",
      "93\n",
      "94\n",
      "95\n",
      "96\n",
      "97\n",
      "98\n",
      "99\n",
      "100\n"
     ]
    }
   ],
   "source": [
    "numero =1\n",
    "\n",
    "while (numero <=100):\n",
    "    print(numero)\n",
    "    numero +=1\n",
    "    "
   ]
  },
  {
   "cell_type": "markdown",
   "metadata": {},
   "source": [
    "### Exercicicos\n",
    "\n",
    "1) Somar todos os valores que o usuario digitar \n",
    "2) para sair do programa digitar -1"
   ]
  },
  {
   "cell_type": "code",
   "execution_count": 4,
   "metadata": {},
   "outputs": [
    {
     "name": "stdout",
     "output_type": "stream",
     "text": [
      "Digite -1 para sair do programa\n",
      "Sua conta bancária tem  10  reais\n",
      "Digite -1 para sair do programa\n",
      "Sua conta bancária tem  30  reais\n",
      "Digite -1 para sair do programa\n",
      "Sua conta bancária tem  100  reais\n",
      "Digite -1 para sair do programa\n"
     ]
    }
   ],
   "source": [
    "continuar = True\n",
    "acumulador =0\n",
    "   \n",
    "while (continuar):\n",
    "    print(\"Digite -1 para sair do programa\");\n",
    "    valor = int(input(\"\\nDigite um Valor:\"));\n",
    "    \n",
    "    if(valor == -1):\n",
    "        continuar =False; break\n",
    "    \n",
    "    \n",
    "    acumulador += valor;\n",
    "    \n",
    "    print(\"Sua conta bancária tem \",str(acumulador),\" reais\") \n",
    "    \n",
    "    \n",
    "    \n",
    "    "
   ]
  },
  {
   "cell_type": "markdown",
   "metadata": {},
   "source": [
    "### Lab"
   ]
  },
  {
   "cell_type": "markdown",
   "metadata": {},
   "source": [
    "![](lab5.png)"
   ]
  },
  {
   "cell_type": "markdown",
   "metadata": {},
   "source": [
    "![](lab6.png)"
   ]
  },
  {
   "cell_type": "code",
   "execution_count": null,
   "metadata": {},
   "outputs": [],
   "source": [
    "continuar = True\n",
    "secretNumero = 654\n",
    "quantidadeTentativas = 0;\n",
    "   \n",
    "while (continuar):\n",
    "    print(\"Digite -1 para sair do programa\");\n",
    "    valor = int(input(\"\\nDigite um Valor de 0 até 1000:\"));\n",
    "    \n",
    "    if(valor == -1):\n",
    "        continuar =False; break\n",
    "    \n",
    "    quantidadeTentativas +=1;\n",
    "    if(valor > secretNumero):\n",
    "        print(\"Digite um Valor menor\")\n",
    "    \n",
    "    elif (valor < secretNumero):\n",
    "        print(\"Digite um Valor maior\")\n",
    "    \n",
    "    else: print(\"Nossa vc assertou em {0} tentativas\".format(quantidadeTentativas))\n",
    "    "
   ]
  },
  {
   "cell_type": "markdown",
   "metadata": {},
   "source": [
    "## For"
   ]
  },
  {
   "cell_type": "markdown",
   "metadata": {},
   "source": [
    "![](for.png)"
   ]
  },
  {
   "cell_type": "markdown",
   "metadata": {},
   "source": [
    "### Para usarmos a instrução for precisamos de iterar sobre uma coleção de dados ,\n",
    "### entende coleção de dados qualquer coisa que seja iterable"
   ]
  },
  {
   "cell_type": "code",
   "execution_count": 13,
   "metadata": {},
   "outputs": [
    {
     "name": "stdout",
     "output_type": "stream",
     "text": [
      "0\n",
      "1\n",
      "2\n"
     ]
    }
   ],
   "source": [
    "for item in [0, 1, 2]:\n",
    "    print(item)\n",
    "    "
   ]
  },
  {
   "cell_type": "code",
   "execution_count": 16,
   "metadata": {},
   "outputs": [
    {
     "name": "stdout",
     "output_type": "stream",
     "text": [
      "A\n",
      "B\n",
      "C\n",
      "D\n",
      "E\n"
     ]
    }
   ],
   "source": [
    "for item in \"ABCDE\":\n",
    "    print(item)\n",
    "    "
   ]
  },
  {
   "cell_type": "code",
   "execution_count": 17,
   "metadata": {},
   "outputs": [
    {
     "name": "stdout",
     "output_type": "stream",
     "text": [
      "A\n"
     ]
    }
   ],
   "source": [
    "for item in \"A\":\n",
    "    print(item)\n",
    "    "
   ]
  },
  {
   "cell_type": "code",
   "execution_count": 18,
   "metadata": {},
   "outputs": [
    {
     "ename": "TypeError",
     "evalue": "'int' object is not iterable",
     "output_type": "error",
     "traceback": [
      "\u001b[1;31m---------------------------------------------------------------------------\u001b[0m",
      "\u001b[1;31mTypeError\u001b[0m                                 Traceback (most recent call last)",
      "\u001b[1;32md:\\Wesley\\repos\\AprendendoPython\\PythonCisco\\3.Modulo3\\3.Loops.ipynb Cell 23'\u001b[0m in \u001b[0;36m<module>\u001b[1;34m\u001b[0m\n\u001b[1;32m----> <a href='vscode-notebook-cell:/d%3A/Wesley/repos/AprendendoPython/PythonCisco/3.Modulo3/3.Loops.ipynb#ch0000027?line=0'>1</a>\u001b[0m \u001b[39mfor\u001b[39;00m item \u001b[39min\u001b[39;00m \u001b[39m10\u001b[39m:\n\u001b[0;32m      <a href='vscode-notebook-cell:/d%3A/Wesley/repos/AprendendoPython/PythonCisco/3.Modulo3/3.Loops.ipynb#ch0000027?line=1'>2</a>\u001b[0m     \u001b[39mprint\u001b[39m(item)\n",
      "\u001b[1;31mTypeError\u001b[0m: 'int' object is not iterable"
     ]
    }
   ],
   "source": [
    "for item in 10:\n",
    "    print(item)"
   ]
  },
  {
   "cell_type": "markdown",
   "metadata": {},
   "source": [
    "### o Python tem um função propria para gerar iteradores"
   ]
  },
  {
   "cell_type": "code",
   "execution_count": 19,
   "metadata": {},
   "outputs": [
    {
     "data": {
      "text/plain": [
       "range(0, 10)"
      ]
     },
     "execution_count": 19,
     "metadata": {},
     "output_type": "execute_result"
    }
   ],
   "source": [
    "range(10)"
   ]
  },
  {
   "cell_type": "code",
   "execution_count": 20,
   "metadata": {},
   "outputs": [
    {
     "name": "stdout",
     "output_type": "stream",
     "text": [
      "The value of i is currently 0\n",
      "The value of i is currently 1\n",
      "The value of i is currently 2\n",
      "The value of i is currently 3\n",
      "The value of i is currently 4\n",
      "The value of i is currently 5\n",
      "The value of i is currently 6\n",
      "The value of i is currently 7\n",
      "The value of i is currently 8\n",
      "The value of i is currently 9\n"
     ]
    }
   ],
   "source": [
    "for i in range(10):\n",
    "    print(\"The value of i is currently\", i)"
   ]
  },
  {
   "cell_type": "code",
   "execution_count": 21,
   "metadata": {},
   "outputs": [
    {
     "name": "stdout",
     "output_type": "stream",
     "text": [
      "The value of i is currently 2\n",
      "The value of i is currently 3\n",
      "The value of i is currently 4\n",
      "The value of i is currently 5\n",
      "The value of i is currently 6\n",
      "The value of i is currently 7\n",
      "The value of i is currently 8\n",
      "The value of i is currently 9\n",
      "The value of i is currently 10\n",
      "The value of i is currently 11\n",
      "The value of i is currently 12\n",
      "The value of i is currently 13\n",
      "The value of i is currently 14\n",
      "The value of i is currently 15\n",
      "The value of i is currently 16\n",
      "The value of i is currently 17\n",
      "The value of i is currently 18\n",
      "The value of i is currently 19\n"
     ]
    }
   ],
   "source": [
    "for i in range(2,20):\n",
    "    print(\"The value of i is currently\", i)"
   ]
  },
  {
   "cell_type": "code",
   "execution_count": 22,
   "metadata": {},
   "outputs": [
    {
     "name": "stdout",
     "output_type": "stream",
     "text": [
      "The value of i is currently 2\n",
      "The value of i is currently 4\n",
      "The value of i is currently 6\n",
      "The value of i is currently 8\n",
      "The value of i is currently 10\n",
      "The value of i is currently 12\n",
      "The value of i is currently 14\n",
      "The value of i is currently 16\n",
      "The value of i is currently 18\n"
     ]
    }
   ],
   "source": [
    "for i in range(2,20,2):\n",
    "    print(\"The value of i is currently\", i)"
   ]
  },
  {
   "cell_type": "code",
   "execution_count": 23,
   "metadata": {},
   "outputs": [
    {
     "name": "stdout",
     "output_type": "stream",
     "text": [
      "The value of i is currently 1\n",
      "The value of i is currently 3\n",
      "The value of i is currently 5\n",
      "The value of i is currently 7\n",
      "The value of i is currently 9\n",
      "The value of i is currently 11\n",
      "The value of i is currently 13\n",
      "The value of i is currently 15\n",
      "The value of i is currently 17\n",
      "The value of i is currently 19\n"
     ]
    }
   ],
   "source": [
    "for i in range(1,20,2):\n",
    "    print(\"The value of i is currently\", i)"
   ]
  },
  {
   "cell_type": "markdown",
   "metadata": {},
   "source": [
    "## Exercicios"
   ]
  },
  {
   "cell_type": "markdown",
   "metadata": {},
   "source": [
    "![](exercicio.png)"
   ]
  },
  {
   "cell_type": "markdown",
   "metadata": {},
   "source": [
    "![](cenario.png)"
   ]
  },
  {
   "cell_type": "markdown",
   "metadata": {},
   "source": [
    "![](mississipi.png)"
   ]
  },
  {
   "cell_type": "code",
   "execution_count": 27,
   "metadata": {},
   "outputs": [
    {
     "name": "stdout",
     "output_type": "stream",
     "text": [
      "Missisipi 0\n",
      "Missisipi 1\n",
      "Missisipi 2\n",
      "Missisipi 3\n",
      "Missisipi 4\n",
      "Missisipi 5\n",
      "\"Ready or not, here I come!\"\n"
     ]
    }
   ],
   "source": [
    "import time\n",
    "\n",
    "for x in range(0,3655):\n",
    "    \n",
    "    if(x > 5):\n",
    "        print('\"Ready or not, here I come!\"')\n",
    "        break;\n",
    "    ##time.sleep(1)\n",
    "    print(\"Missisipi {0}\".format(x))"
   ]
  },
  {
   "cell_type": "markdown",
   "metadata": {},
   "source": [
    "## Break and Continue"
   ]
  },
  {
   "cell_type": "code",
   "execution_count": 29,
   "metadata": {},
   "outputs": [
    {
     "name": "stdout",
     "output_type": "stream",
     "text": [
      "The break instruction:\n",
      "dentro do loop the loop. 1\n",
      "dentro do loop the loop. 2\n",
      "fora do loop.\n"
     ]
    }
   ],
   "source": [
    "# break - example\n",
    "\n",
    "print(\"The break instruction:\")\n",
    "for i in range(1, 6):\n",
    "    if i == 3:\n",
    "        break\n",
    "    print(\"dentro do loop the loop.\", i)\n",
    "print(\"fora do loop.\")\n",
    "\n"
   ]
  },
  {
   "cell_type": "code",
   "execution_count": 30,
   "metadata": {},
   "outputs": [
    {
     "name": "stdout",
     "output_type": "stream",
     "text": [
      "\n",
      "The continue instruction:\n",
      "dentro do loop. 1\n",
      "dentro do loop. 2\n",
      "dentro do loop. 4\n",
      "dentro do loop. 5\n",
      "fora do loop.\n"
     ]
    }
   ],
   "source": [
    "\n",
    "# continue - example\n",
    "\n",
    "print(\"\\nThe continue instruction:\")\n",
    "for i in range(1, 6):\n",
    "    if i == 3:\n",
    "        continue\n",
    "    print(\"dentro do loop.\", i)\n",
    "print(\"fora do loop.\")"
   ]
  },
  {
   "cell_type": "markdown",
   "metadata": {},
   "source": [
    "### Faça com os conhecimentos adiquiridos um comedor de vogais"
   ]
  },
  {
   "cell_type": "markdown",
   "metadata": {},
   "source": [
    "![](comedorDeVogais.png)"
   ]
  },
  {
   "cell_type": "code",
   "execution_count": 32,
   "metadata": {},
   "outputs": [
    {
     "name": "stdout",
     "output_type": "stream",
     "text": [
      "Digite -1 para sair do programa\n",
      "w\n",
      "e\n",
      "s\n",
      "l\n",
      "e\n",
      "y\n",
      "Digite -1 para sair do programa\n",
      "L\n",
      "o\n",
      "g\n",
      "i\n",
      "c\n",
      "a\n",
      "Digite -1 para sair do programa\n"
     ]
    }
   ],
   "source": [
    "continuar =True\n",
    "\n",
    "while(continuar):\n",
    "    print(\"Digite -1 para sair do programa\")\n",
    "    texto =input(\"Digite alguma palavra\");\n",
    "    \n",
    "    if(texto == \"-1\"):\n",
    "        break;\n",
    "    \n",
    "    for letra in texto:\n",
    "        # if(letra ==\"a\" or letra == \"e\" or  letra ==\"i\" or letra ==\"o\" or letra ==\"u\" ):\n",
    "        #     continue;\n",
    "        print(letra);"
   ]
  },
  {
   "cell_type": "markdown",
   "metadata": {},
   "source": [
    "![](loopElse.png)"
   ]
  },
  {
   "cell_type": "code",
   "execution_count": 33,
   "metadata": {},
   "outputs": [
    {
     "name": "stdout",
     "output_type": "stream",
     "text": [
      "1\n",
      "2\n",
      "3\n",
      "4\n",
      "else: 5\n"
     ]
    }
   ],
   "source": [
    "i = 1\n",
    "while i < 5:\n",
    "    print(i)\n",
    "    i += 1\n",
    "else:\n",
    "    print(\"else:\", i)\n"
   ]
  },
  {
   "cell_type": "markdown",
   "metadata": {},
   "source": [
    "![](elsefor.png)"
   ]
  },
  {
   "cell_type": "code",
   "execution_count": 34,
   "metadata": {},
   "outputs": [
    {
     "name": "stdout",
     "output_type": "stream",
     "text": [
      "0\n",
      "1\n",
      "2\n",
      "3\n",
      "4\n",
      "else: 4\n"
     ]
    }
   ],
   "source": [
    "for i in range(5):\n",
    "    print(i)\n",
    "else:\n",
    "    print(\"else:\", i)"
   ]
  }
 ],
 "metadata": {
  "interpreter": {
   "hash": "2469a70536e4d2335a2ea8907942d0699c37342a371ac185bdb5b0aa6f073890"
  },
  "kernelspec": {
   "display_name": "Python 3.10.1 64-bit",
   "language": "python",
   "name": "python3"
  },
  "language_info": {
   "codemirror_mode": {
    "name": "ipython",
    "version": 3
   },
   "file_extension": ".py",
   "mimetype": "text/x-python",
   "name": "python",
   "nbconvert_exporter": "python",
   "pygments_lexer": "ipython3",
   "version": "3.10.1"
  },
  "orig_nbformat": 4
 },
 "nbformat": 4,
 "nbformat_minor": 2
}
