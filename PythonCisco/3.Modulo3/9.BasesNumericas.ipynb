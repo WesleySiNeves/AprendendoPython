{
 "cells": [
  {
   "cell_type": "markdown",
   "metadata": {},
   "source": [
    "Sistemas De bases numericas\n",
    "\n",
    "1) Existe diversos\n",
    "\n",
    "- Base decimal\n",
    "--Base Octal\n",
    "--Base Hexadecimal"
   ]
  },
  {
   "cell_type": "markdown",
   "metadata": {},
   "source": [
    "# Sistema Binario"
   ]
  },
  {
   "cell_type": "code",
   "execution_count": null,
   "metadata": {},
   "outputs": [],
   "source": [
    "1001 = (1 * (2**0)) + (0  * (2**1)) + (0 * (2**2)) +  (1 * (2 ** 3)) = 9"
   ]
  },
  {
   "cell_type": "code",
   "execution_count": 1,
   "metadata": {},
   "outputs": [
    {
     "name": "stdout",
     "output_type": "stream",
     "text": [
      "O valor binário do numero 9 é 0b1001\n"
     ]
    }
   ],
   "source": [
    "numero =  input(\"Digite um numero:\");\n",
    "\n",
    "numero = int(numero);\n",
    "\n",
    "print(\"O valor binário do numero {0} é {1}\".format(numero, bin(numero)))\n",
    " \n",
    " "
   ]
  },
  {
   "cell_type": "markdown",
   "metadata": {},
   "source": [
    "### Note que  0b1001 tem a marcação 0b apenas para representar que o sistema numerico é binário"
   ]
  },
  {
   "cell_type": "code",
   "execution_count": 3,
   "metadata": {},
   "outputs": [
    {
     "name": "stdout",
     "output_type": "stream",
     "text": [
      "O valor inteito do numero 0b1001 é 9\n"
     ]
    }
   ],
   "source": [
    "valor =\"0b1001\"\n",
    "\n",
    "print(\"O valor inteito do numero {0} é {1}\".format(valor, int(valor,2)))"
   ]
  },
  {
   "cell_type": "markdown",
   "metadata": {},
   "source": [
    "# Sistema Hexadecimal"
   ]
  },
  {
   "cell_type": "markdown",
   "metadata": {},
   "source": [
    "\n",
    "4ef =      (4 *  16 ** 2) + (14 *  16 ** 1)  + (15 *  16 ** 0)"
   ]
  },
  {
   "cell_type": "code",
   "execution_count": 4,
   "metadata": {},
   "outputs": [
    {
     "name": "stdout",
     "output_type": "stream",
     "text": [
      "O valor binário do numero 1200 é 0x4b0\n"
     ]
    }
   ],
   "source": [
    "numero =  input(\"Digite um numero:\");\n",
    "\n",
    "numero = int(numero);\n",
    "\n",
    "print(\"O valor binário do numero {0} é {1}\".format(numero, hex(numero)))"
   ]
  },
  {
   "cell_type": "code",
   "execution_count": 5,
   "metadata": {},
   "outputs": [
    {
     "name": "stdout",
     "output_type": "stream",
     "text": [
      "O valor inteito do numero 0x4b0 é 1200\n"
     ]
    }
   ],
   "source": [
    "valor =\"0x4b0\"\n",
    "\n",
    "print(\"O valor inteito do numero {0} é {1}\".format(valor, int(valor,16)))"
   ]
  },
  {
   "cell_type": "markdown",
   "metadata": {},
   "source": [
    "# Sistema Octal "
   ]
  },
  {
   "cell_type": "code",
   "execution_count": null,
   "metadata": {},
   "outputs": [],
   "source": [
    "217 = (2 * (8 ** 2)) + (1 * (8 ** 1))  +  (7 * (8 ** 0))"
   ]
  },
  {
   "cell_type": "code",
   "execution_count": 6,
   "metadata": {},
   "outputs": [
    {
     "name": "stdout",
     "output_type": "stream",
     "text": [
      "O valor binário do numero 127 é 0o177\n"
     ]
    }
   ],
   "source": [
    "numero =  input(\"Digite um numero:\");\n",
    "\n",
    "numero = int(numero);\n",
    "\n",
    "print(\"O valor binário do numero {0} é {1}\".format(numero, oct(numero)))"
   ]
  },
  {
   "cell_type": "code",
   "execution_count": 7,
   "metadata": {},
   "outputs": [
    {
     "name": "stdout",
     "output_type": "stream",
     "text": [
      "O valor inteito do numero 0o177 é 127\n"
     ]
    }
   ],
   "source": [
    "valor =\"0o177\"\n",
    "\n",
    "print(\"O valor inteito do numero {0} é {1}\".format(valor, int(valor,8)))"
   ]
  }
 ],
 "metadata": {
  "interpreter": {
   "hash": "2469a70536e4d2335a2ea8907942d0699c37342a371ac185bdb5b0aa6f073890"
  },
  "kernelspec": {
   "display_name": "Python 3.10.1 64-bit",
   "language": "python",
   "name": "python3"
  },
  "language_info": {
   "codemirror_mode": {
    "name": "ipython",
    "version": 3
   },
   "file_extension": ".py",
   "mimetype": "text/x-python",
   "name": "python",
   "nbconvert_exporter": "python",
   "pygments_lexer": "ipython3",
   "version": "3.10.1"
  },
  "orig_nbformat": 4
 },
 "nbformat": 4,
 "nbformat_minor": 2
}
