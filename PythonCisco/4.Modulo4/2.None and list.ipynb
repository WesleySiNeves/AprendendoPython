{
 "cells": [
  {
   "cell_type": "markdown",
   "metadata": {},
   "source": [
    "![](2022-06-14-16-57-03.png)"
   ]
  },
  {
   "cell_type": "code",
   "execution_count": 1,
   "metadata": {},
   "outputs": [
    {
     "ename": "TypeError",
     "evalue": "unsupported operand type(s) for +: 'NoneType' and 'int'",
     "output_type": "error",
     "traceback": [
      "\u001b[1;31m---------------------------------------------------------------------------\u001b[0m",
      "\u001b[1;31mTypeError\u001b[0m                                 Traceback (most recent call last)",
      "\u001b[1;32md:\\Wesley\\repos\\AprendendoPython\\PythonCisco\\4.Modulo4\\2.None.ipynb Cell 2'\u001b[0m in \u001b[0;36m<module>\u001b[1;34m\u001b[0m\n\u001b[1;32m----> <a href='vscode-notebook-cell:/d%3A/Wesley/repos/AprendendoPython/PythonCisco/4.Modulo4/2.None.ipynb#ch0000002?line=0'>1</a>\u001b[0m \u001b[39mprint\u001b[39m(\u001b[39mNone\u001b[39;49;00m \u001b[39m+\u001b[39;49m \u001b[39m2\u001b[39;49m)\n",
      "\u001b[1;31mTypeError\u001b[0m: unsupported operand type(s) for +: 'NoneType' and 'int'"
     ]
    }
   ],
   "source": [
    "print(None + 2)"
   ]
  },
  {
   "cell_type": "markdown",
   "metadata": {},
   "source": [
    "![](2022-06-14-16-57-57.png)"
   ]
  },
  {
   "cell_type": "code",
   "execution_count": 2,
   "metadata": {},
   "outputs": [
    {
     "name": "stdout",
     "output_type": "stream",
     "text": [
      "Sorry, you don't carry any value\n"
     ]
    }
   ],
   "source": [
    "value = None\n",
    "if value is None:\n",
    "    print(\"Sorry, you don't carry any value\")"
   ]
  },
  {
   "cell_type": "code",
   "execution_count": 3,
   "metadata": {},
   "outputs": [],
   "source": [
    "def strange_function(n):\n",
    "    if(n % 2 == 0):\n",
    "        return True\n"
   ]
  },
  {
   "cell_type": "code",
   "execution_count": 4,
   "metadata": {},
   "outputs": [
    {
     "name": "stdout",
     "output_type": "stream",
     "text": [
      "True\n",
      "None\n"
     ]
    }
   ],
   "source": [
    "print(strange_function(2))\n",
    "print(strange_function(1))"
   ]
  },
  {
   "cell_type": "markdown",
   "metadata": {},
   "source": [
    "## Listas como Paramentros "
   ]
  },
  {
   "cell_type": "markdown",
   "metadata": {},
   "source": [
    "![](2022-06-14-17-53-50.png)"
   ]
  },
  {
   "cell_type": "code",
   "execution_count": 5,
   "metadata": {},
   "outputs": [],
   "source": [
    "def list_sum(lst):\n",
    "    s = 0\n",
    "    \n",
    "    for elem in lst:\n",
    "        s += elem\n",
    "    \n",
    "    return s"
   ]
  },
  {
   "cell_type": "code",
   "execution_count": 6,
   "metadata": {},
   "outputs": [
    {
     "ename": "TypeError",
     "evalue": "'int' object is not iterable",
     "output_type": "error",
     "traceback": [
      "\u001b[1;31m---------------------------------------------------------------------------\u001b[0m",
      "\u001b[1;31mTypeError\u001b[0m                                 Traceback (most recent call last)",
      "\u001b[1;32md:\\Wesley\\repos\\AprendendoPython\\PythonCisco\\4.Modulo4\\2.None.ipynb Cell 10'\u001b[0m in \u001b[0;36m<module>\u001b[1;34m\u001b[0m\n\u001b[1;32m----> <a href='vscode-notebook-cell:/d%3A/Wesley/repos/AprendendoPython/PythonCisco/4.Modulo4/2.None.ipynb#ch0000010?line=0'>1</a>\u001b[0m list_sum(\u001b[39m5\u001b[39;49m)\n",
      "\u001b[1;32md:\\Wesley\\repos\\AprendendoPython\\PythonCisco\\4.Modulo4\\2.None.ipynb Cell 9'\u001b[0m in \u001b[0;36mlist_sum\u001b[1;34m(lst)\u001b[0m\n\u001b[0;32m      <a href='vscode-notebook-cell:/d%3A/Wesley/repos/AprendendoPython/PythonCisco/4.Modulo4/2.None.ipynb#ch0000009?line=0'>1</a>\u001b[0m \u001b[39mdef\u001b[39;00m \u001b[39mlist_sum\u001b[39m(lst):\n\u001b[0;32m      <a href='vscode-notebook-cell:/d%3A/Wesley/repos/AprendendoPython/PythonCisco/4.Modulo4/2.None.ipynb#ch0000009?line=1'>2</a>\u001b[0m     s \u001b[39m=\u001b[39m \u001b[39m0\u001b[39m\n\u001b[1;32m----> <a href='vscode-notebook-cell:/d%3A/Wesley/repos/AprendendoPython/PythonCisco/4.Modulo4/2.None.ipynb#ch0000009?line=3'>4</a>\u001b[0m     \u001b[39mfor\u001b[39;00m elem \u001b[39min\u001b[39;00m lst:\n\u001b[0;32m      <a href='vscode-notebook-cell:/d%3A/Wesley/repos/AprendendoPython/PythonCisco/4.Modulo4/2.None.ipynb#ch0000009?line=4'>5</a>\u001b[0m         s \u001b[39m+\u001b[39m\u001b[39m=\u001b[39m elem\n\u001b[0;32m      <a href='vscode-notebook-cell:/d%3A/Wesley/repos/AprendendoPython/PythonCisco/4.Modulo4/2.None.ipynb#ch0000009?line=6'>7</a>\u001b[0m     \u001b[39mreturn\u001b[39;00m s\n",
      "\u001b[1;31mTypeError\u001b[0m: 'int' object is not iterable"
     ]
    }
   ],
   "source": [
    "list_sum(5)"
   ]
  },
  {
   "cell_type": "code",
   "execution_count": 7,
   "metadata": {},
   "outputs": [
    {
     "data": {
      "text/plain": [
       "21"
      ]
     },
     "execution_count": 7,
     "metadata": {},
     "output_type": "execute_result"
    }
   ],
   "source": [
    "list_sum([1,2,3,4,5,6])"
   ]
  }
 ],
 "metadata": {
  "kernelspec": {
   "display_name": "Python 3.10.1 64-bit",
   "language": "python",
   "name": "python3"
  },
  "language_info": {
   "codemirror_mode": {
    "name": "ipython",
    "version": 3
   },
   "file_extension": ".py",
   "mimetype": "text/x-python",
   "name": "python",
   "nbconvert_exporter": "python",
   "pygments_lexer": "ipython3",
   "version": "3.10.1"
  },
  "orig_nbformat": 4,
  "vscode": {
   "interpreter": {
    "hash": "2469a70536e4d2335a2ea8907942d0699c37342a371ac185bdb5b0aa6f073890"
   }
  }
 },
 "nbformat": 4,
 "nbformat_minor": 2
}
