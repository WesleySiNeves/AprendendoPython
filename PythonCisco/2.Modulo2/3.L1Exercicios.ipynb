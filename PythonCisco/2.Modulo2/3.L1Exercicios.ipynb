{
 "cells": [
  {
   "cell_type": "markdown",
   "metadata": {},
   "source": [
    "### Faça um programa que receba dois números, calcule e mostre a subtração do primeiro pelo segundo."
   ]
  },
  {
   "cell_type": "code",
   "execution_count": null,
   "metadata": {},
   "outputs": [],
   "source": [
    "numero1 =  input(\"Digite um numero:\")\n",
    "\n",
    "\n",
    "numero2 =  input(\"Digite outro numero:\")\n",
    "\n",
    "\n",
    "numero1 = int(numero1)\n",
    "numero2 = int(numero2)\n",
    "\n",
    "\n",
    "print(\"O resultado da subtração de \"),numero1"
   ]
  }
 ],
 "metadata": {
  "language_info": {
   "name": "python"
  },
  "orig_nbformat": 4
 },
 "nbformat": 4,
 "nbformat_minor": 2
}
