{
  "cells": [
    {
      "cell_type": "markdown",
      "metadata": {
        "colab_type": "text",
        "id": "view-in-github"
      },
      "source": [
        "<a href=\"https://colab.research.google.com/github/WesleySiNeves/AprendendoPython/blob/master/Funcoes.ipynb\" target=\"_parent\"><img src=\"https://colab.research.google.com/assets/colab-badge.svg\" alt=\"Open In Colab\"/></a>"
      ]
    },
    {
      "cell_type": "code",
      "execution_count": 1,
      "metadata": {},
      "outputs": [],
      "source": [
        "def somar(n1,n2):\n",
        "  return n1 + n2\n"
      ]
    },
    {
      "cell_type": "code",
      "execution_count": null,
      "metadata": {
        "colab": {},
        "colab_type": "code",
        "id": "xY0o84JhH5hX"
      },
      "outputs": [],
      "source": [
        "def somar2(n1,n2=10):\n",
        "  return n2+ n2"
      ]
    },
    {
      "cell_type": "code",
      "execution_count": 11,
      "metadata": {},
      "outputs": [
        {
          "name": "stdout",
          "output_type": "stream",
          "text": [
            "<class 'int'>\n"
          ]
        }
      ],
      "source": [
        "texto = \"11111111\"\n",
        "int(texto)\n",
        "\n",
        "type(int(texto))\n",
        "\n",
        "print(type(int(texto)))\n",
        "\n"
      ]
    },
    {
      "cell_type": "code",
      "execution_count": 3,
      "metadata": {
        "colab": {
          "base_uri": "https://localhost:8080/",
          "height": 34
        },
        "colab_type": "code",
        "id": "Iu1d3eOJJIBh",
        "outputId": "ed23bf2e-5f7f-49dc-d61a-945e24ee4227"
      },
      "outputs": [
        {
          "data": {
            "text/plain": [
              "20"
            ]
          },
          "execution_count": 3,
          "metadata": {
            "tags": []
          },
          "output_type": "execute_result"
        }
      ],
      "source": [
        "total = somar2(1)\n",
        "total"
      ]
    },
    {
      "cell_type": "markdown",
      "metadata": {
        "colab_type": "text",
        "id": "7jx0GNroLpuv"
      },
      "source": [
        "## os paramentros em python pode ser ordenado ou nomeado"
      ]
    },
    {
      "cell_type": "code",
      "execution_count": null,
      "metadata": {
        "colab": {},
        "colab_type": "code",
        "id": "o_ZazYfoLoN5"
      },
      "outputs": [],
      "source": [
        "def dados_pessoais(nome,sobrenome,idade):\n",
        "  print(\"nome :{}\\n sobrenome :{}\\n  idade :{}\\n\".format(nome,sobrenome,idade))"
      ]
    },
    {
      "cell_type": "code",
      "execution_count": 14,
      "metadata": {
        "colab": {
          "base_uri": "https://localhost:8080/",
          "height": 85
        },
        "colab_type": "code",
        "id": "3EWBlyGoM6QW",
        "outputId": "e77a25ff-8329-4d22-cc7f-7618611771cb"
      },
      "outputs": [
        {
          "name": "stdout",
          "output_type": "stream",
          "text": [
            "parametro1 :wesley\n",
            " parametro2 :everton\n",
            "  parametro3 :33\n",
            "\n"
          ]
        }
      ],
      "source": [
        "funcaoOrdenado(\"wesley\",\"everton\",33)"
      ]
    },
    {
      "cell_type": "code",
      "execution_count": null,
      "metadata": {
        "colab": {},
        "colab_type": "code",
        "id": "fpLXxbJmRM3Z"
      },
      "outputs": [],
      "source": [
        "def dados_pessoais(nome=\"\",sobrenome=\"\",idade=0):\n",
        "  print(\"nome :{}\\n sobrenome :{}\\n  idade :{}\\n\".format(nome,sobrenome,idade))"
      ]
    },
    {
      "cell_type": "code",
      "execution_count": 16,
      "metadata": {
        "colab": {
          "base_uri": "https://localhost:8080/",
          "height": 85
        },
        "colab_type": "code",
        "id": "S9xK_Y8-RRrI",
        "outputId": "c1caa355-2f8c-4b38-9479-b766037b5107"
      },
      "outputs": [
        {
          "name": "stdout",
          "output_type": "stream",
          "text": [
            "nome :\n",
            " sobrenome :\n",
            "  idade :0\n",
            "\n"
          ]
        }
      ],
      "source": [
        "dados_pessoais()"
      ]
    },
    {
      "cell_type": "code",
      "execution_count": 17,
      "metadata": {
        "colab": {
          "base_uri": "https://localhost:8080/",
          "height": 85
        },
        "colab_type": "code",
        "id": "xeVJSKxQRdT0",
        "outputId": "79858a72-08a6-4332-c1aa-dcb9f868c3fd"
      },
      "outputs": [
        {
          "name": "stdout",
          "output_type": "stream",
          "text": [
            "nome :wesley\n",
            " sobrenome :neves\n",
            "  idade :33\n",
            "\n"
          ]
        }
      ],
      "source": [
        "dados_pessoais(idade=33,sobrenome=\"neves\",nome=\"wesley\")"
      ]
    }
  ],
  "metadata": {
    "colab": {
      "include_colab_link": true,
      "name": "Funcoes.ipynb",
      "provenance": []
    },
    "interpreter": {
      "hash": "2469a70536e4d2335a2ea8907942d0699c37342a371ac185bdb5b0aa6f073890"
    },
    "kernelspec": {
      "display_name": "Python 3.10.1 64-bit",
      "language": "python",
      "name": "python3"
    },
    "language_info": {
      "codemirror_mode": {
        "name": "ipython",
        "version": 3
      },
      "file_extension": ".py",
      "mimetype": "text/x-python",
      "name": "python",
      "nbconvert_exporter": "python",
      "pygments_lexer": "ipython3",
      "version": "3.10.1"
    }
  },
  "nbformat": 4,
  "nbformat_minor": 0
}
