{
  "nbformat": 4,
  "nbformat_minor": 0,
  "metadata": {
    "colab": {
      "name": "Lista de Exercicios.ipynb",
      "provenance": [],
      "collapsed_sections": []
    },
    "kernelspec": {
      "name": "python3",
      "display_name": "Python 3"
    },
    "language_info": {
      "name": "python"
    }
  },
  "cells": [
    {
      "cell_type": "markdown",
      "source": [
        " ## 1) Faça um programa que receba dois números, calcule e mostre a subtração do primeiro pelo segundo.\n"
      ],
      "metadata": {
        "id": "lkGywuf3IDPp"
      }
    },
    {
      "cell_type": "code",
      "execution_count": 5,
      "metadata": {
        "colab": {
          "base_uri": "https://localhost:8080/"
        },
        "id": "yQBrUQ-BH4z1",
        "outputId": "0fe34b83-5c4c-4373-e716-f4ef1932dc48"
      },
      "outputs": [
        {
          "output_type": "stream",
          "name": "stdout",
          "text": [
            "digite um numero:20\n",
            "digite um numero:5\n",
            "15\n"
          ]
        }
      ],
      "source": [
        "variavel1  =input(\"digite um numero:\")\n",
        "variavel2  = input(\"digite um numero:\")\n",
        "\n",
        "variavel1 = int(variavel1)\n",
        "variavel2 = int(variavel2)\n",
        "\n",
        "calculo  =variavel1 - variavel2\n",
        "\n",
        "print(calculo)"
      ]
    },
    {
      "cell_type": "markdown",
      "source": [
        "## 2) Faça um programa que receba três números, calcule e mostre a multiplicação desses números."
      ],
      "metadata": {
        "id": "EYi_T7_WIBcN"
      }
    },
    {
      "cell_type": "code",
      "source": [
        "variavel1  =input(\"digite um numero 1:\")\n",
        "variavel2  = input(\"digite um numero 2:\")\n",
        "variavel3  = input(\"digite um numero 3:\")\n",
        "\n",
        "variavel1 = int(variavel1)\n",
        "variavel2 = int(variavel2)\n",
        "variavel3 = int(variavel3)\n",
        "\n",
        "calculo  =variavel1 * variavel2 * variavel3\n",
        "\n",
        "print(\"O resultado é:\",calculo)"
      ],
      "metadata": {
        "colab": {
          "base_uri": "https://localhost:8080/"
        },
        "id": "qHeNYXKSJYLy",
        "outputId": "8a3cac4a-ef7b-4ad9-b776-52e1e51b8269"
      },
      "execution_count": 7,
      "outputs": [
        {
          "output_type": "stream",
          "name": "stdout",
          "text": [
            "digite um numero 1:2\n",
            "digite um numero 2:3\n",
            "digite um numero 3:4\n",
            "O resultado é: 24\n"
          ]
        }
      ]
    },
    {
      "cell_type": "markdown",
      "source": [
        "### 3)  Faça um programa que receba dois números, calcule e mostre a divisão do primeiro número pelo segundo. Sabe-se que o segundo não pode ser zero, portanto, não é necessário validações."
      ],
      "metadata": {
        "id": "OKMsqceNJ064"
      }
    },
    {
      "cell_type": "code",
      "source": [
        "variavel1  =input(\"digite um numero 1:\")\n",
        "variavel2  = input(\"digite um numero 2:\")\n",
        "\n",
        "\n",
        "variavel1 = float(variavel1)\n",
        "variavel2 = float(variavel2)\n",
        "\n",
        "calculo  =variavel1 / variavel2 \n",
        "\n",
        "print(\"O resultado da divisão de {0} por {1} é: {2}\".format(variavel1,variavel2,calculo))"
      ],
      "metadata": {
        "colab": {
          "base_uri": "https://localhost:8080/"
        },
        "id": "V9agEH77KBuJ",
        "outputId": "a01365c8-0b76-4606-cca3-486d4600203f"
      },
      "execution_count": 11,
      "outputs": [
        {
          "output_type": "stream",
          "name": "stdout",
          "text": [
            "digite um numero 1:10\n",
            "digite um numero 2:3\n",
            "O resultado da divisão de 10.0 por 3.0 é: 3.3333333333333335\n"
          ]
        }
      ]
    },
    {
      "cell_type": "markdown",
      "source": [
        "### 4) Faça um programa que receba duas notas, calcule e mostre a média ponderada dessas notas, considerando peso 2 para a primeira e peso 3 para a segunda."
      ],
      "metadata": {
        "id": "AQeOL_cJLE56"
      }
    },
    {
      "cell_type": "code",
      "source": [
        "nota1  =input(\"digite a nota 1:\")\n",
        "nota2  =input(\"digite a nota 2:\")\n",
        "\n",
        "\n",
        "nota1 = float(nota1)\n",
        "nota2 = float(nota2)\n",
        "\n",
        "mediaPonderada  =  ((nota1  * 2)  + (nota2 * 3) ) / 5\n",
        "\n",
        "print(\"A media ponderada da nota  {0} e  {1} é: {2}\".format(nota1,nota2,mediaPonderada))"
      ],
      "metadata": {
        "colab": {
          "base_uri": "https://localhost:8080/"
        },
        "id": "bwre4VnfLUUB",
        "outputId": "3b64e688-2044-4a8c-ee3a-9d9431c272e4"
      },
      "execution_count": 12,
      "outputs": [
        {
          "output_type": "stream",
          "name": "stdout",
          "text": [
            "digite a nota 1:10\n",
            "digite a nota 2:5\n",
            "A media ponderada da nota  10.0 e  5.0 é: 7.0\n"
          ]
        }
      ]
    },
    {
      "cell_type": "markdown",
      "source": [
        "### 5) Faça um programa que receba o preço de um produto, calcule e mostre o novo preço, sabendo-se que este sofreu um desconto de 10%."
      ],
      "metadata": {
        "id": "r06s1NmKN2Vy"
      }
    },
    {
      "cell_type": "code",
      "source": [
        "\n",
        "# 1) Faça um prigrama que receba 2 numeros, calcule e mostre a subtração do primeiro pelo segundo\n",
        "\n",
        "preco_produto =input(\"digite o preco do produto\")\n",
        "\n",
        "\n",
        "preco_produto = float(preco_produto)\n",
        "#desconto de 10%.\n",
        "\n",
        "novo_preco =  (preco_produto * (100 -10)) / 100\n",
        "\n",
        "print(\"O valor atual do preco {0} com desconto de 10 %  e: {1}\".format(preco_produto,novo_preco))\n",
        "\n",
        "\n"
      ],
      "metadata": {
        "colab": {
          "base_uri": "https://localhost:8080/"
        },
        "id": "NpOUQEgaLJWx",
        "outputId": "fa353dea-7f95-4051-ea50-1eb820a5283b"
      },
      "execution_count": 20,
      "outputs": [
        {
          "output_type": "stream",
          "name": "stdout",
          "text": [
            "digite o preco do produto200\n",
            "O valor atual do preco 200.0 com desconto de 10 %  e: 180.0\n"
          ]
        }
      ]
    }
  ]
}