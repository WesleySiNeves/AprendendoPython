{
  "cells": [
    {
      "cell_type": "markdown",
      "metadata": {
        "id": "dkv4TBiTl9Vh"
      },
      "source": [
        "## Revisão da prova\n",
        "\n",
        "## todos os pontos que nós devemos saber"
      ]
    },
    {
      "cell_type": "markdown",
      "metadata": {
        "id": "fwfG0W50mek1"
      },
      "source": [
        "## Tipos de variaveis"
      ]
    },
    {
      "cell_type": "code",
      "execution_count": 1,
      "metadata": {},
      "outputs": [
        {
          "name": "stdout",
          "output_type": "stream",
          "text": [
            "Curso \n",
            "de \n",
            "Lógica \n",
            "Computacional\n"
          ]
        }
      ],
      "source": [
        "print(\"Curso\",\"\\nde\",\"\\nLógica\",\"\\nComputacional\")"
      ]
    },
    {
      "cell_type": "code",
      "execution_count": 6,
      "metadata": {},
      "outputs": [
        {
          "data": {
            "text/plain": [
              "int"
            ]
          },
          "execution_count": 6,
          "metadata": {},
          "output_type": "execute_result"
        }
      ],
      "source": [
        "numero = 10\n",
        "numero  += 1;\n",
        "type(numero)"
      ]
    },
    {
      "cell_type": "code",
      "execution_count": 1,
      "metadata": {
        "id": "ueJtwQrJmHIG"
      },
      "outputs": [],
      "source": [
        "numero = 10\n",
        "tipo_Float  = 10.344\n",
        "tipo_String = \"Texto\"\n",
        "\n",
        "\n",
        "\n",
        "\n"
      ]
    },
    {
      "cell_type": "code",
      "execution_count": null,
      "metadata": {
        "colab": {
          "base_uri": "https://localhost:8080/"
        },
        "id": "rMHSva5PoX20",
        "outputId": "3040235a-a516-46b0-b81d-13a17c190b73"
      },
      "outputs": [
        {
          "data": {
            "text/plain": [
              "int"
            ]
          },
          "execution_count": 6,
          "metadata": {},
          "output_type": "execute_result"
        }
      ],
      "source": [
        "type(numero)\n"
      ]
    },
    {
      "cell_type": "code",
      "execution_count": 2,
      "metadata": {
        "colab": {
          "base_uri": "https://localhost:8080/"
        },
        "id": "wKnMIbC1oZZb",
        "outputId": "a6ef26e2-9606-40e9-f8e1-8d893742bfe0"
      },
      "outputs": [
        {
          "data": {
            "text/plain": [
              "float"
            ]
          },
          "execution_count": 2,
          "metadata": {},
          "output_type": "execute_result"
        }
      ],
      "source": [
        "type(tipo_Float)\n"
      ]
    },
    {
      "cell_type": "code",
      "execution_count": null,
      "metadata": {
        "colab": {
          "base_uri": "https://localhost:8080/"
        },
        "id": "ACHsSwv3oama",
        "outputId": "3a9f8b16-693f-4819-a308-225a6dd476c5"
      },
      "outputs": [
        {
          "data": {
            "text/plain": [
              "str"
            ]
          },
          "execution_count": 8,
          "metadata": {},
          "output_type": "execute_result"
        }
      ],
      "source": [
        "type(tipo_String)"
      ]
    },
    {
      "cell_type": "code",
      "execution_count": 7,
      "metadata": {
        "colab": {
          "base_uri": "https://localhost:8080/"
        },
        "id": "6wtpMYEHob3b",
        "outputId": "3a247bed-7820-499e-8002-f03513f47f89"
      },
      "outputs": [
        {
          "name": "stdout",
          "output_type": "stream",
          "text": [
            "<class 'float'>\n"
          ]
        }
      ],
      "source": [
        " numero1 = 10 \n",
        " numero2=  20.00\n",
        "\n",
        " resultado = numero1 + numero2\n",
        "\n",
        " print( type(resultado))\n"
      ]
    },
    {
      "cell_type": "markdown",
      "metadata": {
        "id": "E7Pz3iGKphI0"
      },
      "source": [
        "## Concatenação"
      ]
    },
    {
      "cell_type": "code",
      "execution_count": 9,
      "metadata": {
        "colab": {
          "base_uri": "https://localhost:8080/"
        },
        "id": "XOjNZUMAo__Y",
        "outputId": "2f7cd5a1-f93b-4688-b503-6fe2a14adb12"
      },
      "outputs": [
        {
          "name": "stdout",
          "output_type": "stream",
          "text": [
            "1020\n"
          ]
        }
      ],
      "source": [
        " numero1 = \"10\"\n",
        " numero2=  \"20\"\n",
        "\n",
        " resultado = numero1 + numero2\n",
        "\n",
        " print(resultado)\n"
      ]
    },
    {
      "cell_type": "code",
      "execution_count": null,
      "metadata": {
        "colab": {
          "base_uri": "https://localhost:8080/"
        },
        "id": "wL0Aa3bdpkud",
        "outputId": "703ad2d0-f280-4475-ea58-3d1a7cf947dc"
      },
      "outputs": [
        {
          "name": "stdout",
          "output_type": "stream",
          "text": [
            "AAAAAAAAAAAAAAAAAAAAAAAAAAAAAAAAAAAAAAAAAAAAAAAAAAAAAAAAAAAAAAAAAAAAAAAAAAAAAAAAAAAAAAAAAAAAAAAAAAAAAAAAAAAAAAAAAAAAAAAAAAAAAAAAAAAAAAAAAAAAAAAAAAAAAAAAAAAAAAAAAAAAAAAAAAAAAAAAAAAAAAAAAAAAAAAAAAAAAAAA\n"
          ]
        }
      ],
      "source": [
        " numero1 = \"A\"\n",
        " numero2=  \"B\"\n",
        "\n",
        " resultado = numero1 * 200\n",
        "\n",
        " print(resultado)"
      ]
    },
    {
      "cell_type": "markdown",
      "metadata": {
        "id": "TNl9YcmGq6uA"
      },
      "source": [
        "Função Input"
      ]
    },
    {
      "cell_type": "code",
      "execution_count": 3,
      "metadata": {
        "colab": {
          "base_uri": "https://localhost:8080/"
        },
        "id": "Cz6oF9PWp_BV",
        "outputId": "d950248e-cab4-4184-e1c5-5893715dddbb"
      },
      "outputs": [
        {
          "data": {
            "text/plain": [
              "str"
            ]
          },
          "execution_count": 3,
          "metadata": {},
          "output_type": "execute_result"
        }
      ],
      "source": [
        "entrada = input(\"digite algo:\")\n",
        "type(entrada)\n",
        "\n",
        "\n",
        "\n"
      ]
    },
    {
      "cell_type": "markdown",
      "metadata": {
        "id": "VJZPk12MrG0A"
      },
      "source": [
        "## Conversão\n",
        "\n",
        "int()\n",
        "float()\n",
        "str()\n"
      ]
    },
    {
      "cell_type": "code",
      "execution_count": null,
      "metadata": {
        "colab": {
          "base_uri": "https://localhost:8080/",
          "height": 235
        },
        "id": "o-oGGg5WsuNA",
        "outputId": "3a6ce4a9-5495-4bf8-9f4e-38ae2807550a"
      },
      "outputs": [
        {
          "ename": "ValueError",
          "evalue": "ignored",
          "output_type": "error",
          "traceback": [
            "\u001b[0;31m---------------------------------------------------------------------------\u001b[0m",
            "\u001b[0;31mValueError\u001b[0m                                Traceback (most recent call last)",
            "\u001b[0;32m<ipython-input-27-b86453b3ec4f>\u001b[0m in \u001b[0;36m<module>\u001b[0;34m()\u001b[0m\n\u001b[1;32m      1\u001b[0m \u001b[0mvariavel\u001b[0m \u001b[0;34m=\u001b[0m \u001b[0;34m\"10A\"\u001b[0m\u001b[0;34m\u001b[0m\u001b[0;34m\u001b[0m\u001b[0m\n\u001b[1;32m      2\u001b[0m \u001b[0;34m\u001b[0m\u001b[0m\n\u001b[0;32m----> 3\u001b[0;31m \u001b[0mvariavel\u001b[0m \u001b[0;34m=\u001b[0m \u001b[0mint\u001b[0m\u001b[0;34m(\u001b[0m\u001b[0mvariavel\u001b[0m\u001b[0;34m)\u001b[0m\u001b[0;34m\u001b[0m\u001b[0;34m\u001b[0m\u001b[0m\n\u001b[0m\u001b[1;32m      4\u001b[0m \u001b[0;34m\u001b[0m\u001b[0m\n\u001b[1;32m      5\u001b[0m \u001b[0mcalculo\u001b[0m  \u001b[0;34m=\u001b[0m \u001b[0mvariavel\u001b[0m \u001b[0;34m*\u001b[0m \u001b[0;36m10\u001b[0m\u001b[0;34m\u001b[0m\u001b[0;34m\u001b[0m\u001b[0m\n",
            "\u001b[0;31mValueError\u001b[0m: invalid literal for int() with base 10: '10A'"
          ]
        }
      ],
      "source": [
        "variavel  =  \"10A\"\n",
        "\n",
        "variavel = int(variavel)\n",
        "\n",
        "calculo  = variavel * 10 \n",
        "\n",
        "print(calculo)\n"
      ]
    },
    {
      "cell_type": "code",
      "execution_count": null,
      "metadata": {
        "colab": {
          "base_uri": "https://localhost:8080/"
        },
        "id": "oyKdgoawrFZw",
        "outputId": "577d75d2-72ff-4ea4-aacf-145603609eaa"
      },
      "outputs": [
        {
          "name": "stdout",
          "output_type": "stream",
          "text": [
            "digite um numero:40\n",
            "digite outro numero:60\n",
            "100\n"
          ]
        }
      ],
      "source": [
        "numero1 = input(\"digite um numero:\")\n",
        "numero2 = input(\"digite outro numero:\")\n",
        "\n",
        "numero1 = int(numero1)\n",
        "numero2 = int(numero2)\n",
        "\n",
        "resultado = numero1 + numero2\n",
        "\n",
        "print(resultado)\n"
      ]
    },
    {
      "cell_type": "code",
      "execution_count": null,
      "metadata": {
        "id": "QZrZJZ2pt1Z9"
      },
      "outputs": [],
      "source": [
        " "
      ]
    },
    {
      "cell_type": "code",
      "execution_count": null,
      "metadata": {
        "colab": {
          "base_uri": "https://localhost:8080/"
        },
        "id": "3jkHQwm7tgAO",
        "outputId": "82ad54f6-90c8-45c1-9783-cbe747fee8e0"
      },
      "outputs": [
        {
          "name": "stdout",
          "output_type": "stream",
          "text": [
            "digite um numero:10\n",
            "digite outro numero:20.50\n",
            "30.5\n"
          ]
        }
      ],
      "source": [
        "numero1 = input(\"digite um numero:\")\n",
        "numero2 = input(\"digite outro numero:\")\n",
        "\n",
        "numero1 = float(numero1)\n",
        "numero2 = float(numero2)\n",
        "\n",
        "resultado = numero1 + numero2\n",
        "\n",
        "print(resultado)\n"
      ]
    },
    {
      "cell_type": "code",
      "execution_count": null,
      "metadata": {
        "colab": {
          "base_uri": "https://localhost:8080/"
        },
        "id": "Hr7ZWU8guUA3",
        "outputId": "2f53c577-805f-493c-e4fa-1b70dbc8c150"
      },
      "outputs": [
        {
          "name": "stdout",
          "output_type": "stream",
          "text": [
            "10100\n"
          ]
        }
      ],
      "source": [
        "numero =10\n",
        "\n",
        "numero = str(numero)\n",
        "\n",
        "calculo =  numero + str(100)\n",
        "\n",
        "print(calculo)\n",
        "\n"
      ]
    },
    {
      "cell_type": "code",
      "execution_count": null,
      "metadata": {},
      "outputs": [],
      "source": [
        "numero =1\n",
        "\n",
        "numero = bool(numero)\n",
        "\n",
        "calculo =  numero + str(100)\n",
        "\n",
        "print(calculo)"
      ]
    },
    {
      "cell_type": "markdown",
      "metadata": {
        "id": "qFxtJAPtxrgy"
      },
      "source": [
        "## Operacoes Matematicas"
      ]
    },
    {
      "cell_type": "code",
      "execution_count": null,
      "metadata": {
        "colab": {
          "base_uri": "https://localhost:8080/"
        },
        "id": "1WpLRDMaxtyp",
        "outputId": "b9887d32-6444-4bb1-9b4e-c3e9144bcdea"
      },
      "outputs": [
        {
          "name": "stdout",
          "output_type": "stream",
          "text": [
            "20\n"
          ]
        }
      ],
      "source": [
        "numero1 =10\n",
        "numero2 =10\n",
        "\n",
        "soma = numero1 + numero2\n",
        "print(soma)\n"
      ]
    },
    {
      "cell_type": "code",
      "execution_count": null,
      "metadata": {
        "colab": {
          "base_uri": "https://localhost:8080/"
        },
        "id": "-iJN7taVAop2",
        "outputId": "87a526a7-577e-4c67-e843-da89bc838ded"
      },
      "outputs": [
        {
          "name": "stdout",
          "output_type": "stream",
          "text": [
            "4000\n"
          ]
        }
      ],
      "source": [
        "# Esse trecho que está depois do # não é executado.\n",
        "\n",
        "\n",
        "numero1 = 10\n",
        "\n",
        "numero1 = numero1 * 20\n",
        "\n",
        "numero1 *= 20\n",
        "\n",
        "\n",
        "print(numero1)\n"
      ]
    },
    {
      "cell_type": "code",
      "execution_count": 17,
      "metadata": {
        "colab": {
          "base_uri": "https://localhost:8080/"
        },
        "id": "B_mf2NO2x4JB",
        "outputId": "dbb9e6c2-0c33-4ca1-fdaf-586e10bfe392"
      },
      "outputs": [
        {
          "name": "stdout",
          "output_type": "stream",
          "text": [
            "0\n"
          ]
        }
      ],
      "source": [
        "numero1 =10\n",
        "numero2 =10\n",
        "\n",
        "calculo = numero1 - numero2\n",
        "print(calculo)"
      ]
    },
    {
      "cell_type": "code",
      "execution_count": 18,
      "metadata": {
        "colab": {
          "base_uri": "https://localhost:8080/"
        },
        "id": "hOUQ7NJZx79w",
        "outputId": "f04e9df9-5521-43de-9952-4f4ae0227fdf"
      },
      "outputs": [
        {
          "name": "stdout",
          "output_type": "stream",
          "text": [
            "1.0\n"
          ]
        }
      ],
      "source": [
        "numero1 =10\n",
        "numero2 =10\n",
        "\n",
        "calculo = numero1 / numero2\n",
        "print(calculo)"
      ]
    },
    {
      "cell_type": "code",
      "execution_count": 19,
      "metadata": {
        "colab": {
          "base_uri": "https://localhost:8080/"
        },
        "id": "AETidiEWyCeM",
        "outputId": "3a02eef3-6b8e-4b98-8253-2fdea7509db4"
      },
      "outputs": [
        {
          "name": "stdout",
          "output_type": "stream",
          "text": [
            "3\n"
          ]
        }
      ],
      "source": [
        "numero1 =10\n",
        "numero2 =3\n",
        "\n",
        "calculo = numero1 // numero2\n",
        "print(calculo)"
      ]
    },
    {
      "cell_type": "code",
      "execution_count": 20,
      "metadata": {
        "colab": {
          "base_uri": "https://localhost:8080/"
        },
        "id": "rGWDya1xyYLp",
        "outputId": "ce9c6a7c-983e-4a4f-cc89-df5e58735670"
      },
      "outputs": [
        {
          "name": "stdout",
          "output_type": "stream",
          "text": [
            "1\n"
          ]
        }
      ],
      "source": [
        "numero1 =10\n",
        "numero2 =3\n",
        "\n",
        "calculo = numero1 % numero2\n",
        "print(calculo)"
      ]
    },
    {
      "cell_type": "code",
      "execution_count": null,
      "metadata": {
        "colab": {
          "base_uri": "https://localhost:8080/"
        },
        "id": "rsde3nNkywPc",
        "outputId": "bfd640e2-a625-488b-cd51-e2de83c2d336"
      },
      "outputs": [
        {
          "name": "stdout",
          "output_type": "stream",
          "text": [
            "1\n"
          ]
        }
      ],
      "source": [
        "numero1 =11\n",
        "\n",
        "\n",
        "resto = numero1 % 2\n",
        "\n",
        "print(resto)\n"
      ]
    },
    {
      "cell_type": "code",
      "execution_count": null,
      "metadata": {
        "colab": {
          "base_uri": "https://localhost:8080/"
        },
        "id": "fOattnhryMS9",
        "outputId": "f0128de9-5dc5-40e7-8084-978aeddba3cf"
      },
      "outputs": [
        {
          "name": "stdout",
          "output_type": "stream",
          "text": [
            "30\n"
          ]
        }
      ],
      "source": [
        "numero1 =10\n",
        "numero2 =3\n",
        "\n",
        "multiplicao = numero1 * numero2\n",
        "print(multiplicao)"
      ]
    },
    {
      "cell_type": "code",
      "execution_count": null,
      "metadata": {
        "colab": {
          "base_uri": "https://localhost:8080/"
        },
        "id": "FgXA4iKTyQ6f",
        "outputId": "81e107ee-5710-40f0-8c95-83483ab77f6c"
      },
      "outputs": [
        {
          "name": "stdout",
          "output_type": "stream",
          "text": [
            "1000\n"
          ]
        }
      ],
      "source": [
        "numero1 =10\n",
        "numero2 =3\n",
        "\n",
        "potencia = numero1 ** numero2\n",
        "print(potencia)"
      ]
    },
    {
      "cell_type": "code",
      "execution_count": 1,
      "metadata": {},
      "outputs": [
        {
          "name": "stdout",
          "output_type": "stream",
          "text": [
            "True\n"
          ]
        }
      ],
      "source": [
        "print(True > False)"
      ]
    },
    {
      "cell_type": "markdown",
      "metadata": {
        "id": "lkGywuf3IDPp"
      },
      "source": [
        " ## 1) Faça um programa que receba dois números, calcule e mostre a subtração do primeiro pelo segundo.\n"
      ]
    },
    {
      "cell_type": "code",
      "execution_count": null,
      "metadata": {
        "colab": {
          "base_uri": "https://localhost:8080/"
        },
        "id": "yQBrUQ-BH4z1",
        "outputId": "e6764777-c847-4b5e-b6a6-9c6ea70dfa09"
      },
      "outputs": [
        {
          "name": "stdout",
          "output_type": "stream",
          "text": [
            "digite um numero:10\n",
            "digite outro numero:42\n",
            "-32\n"
          ]
        }
      ],
      "source": [
        "variavel1  = input(\"digite um numero:\")\n",
        "variavel2  = input(\"digite outro numero:\")\n",
        "\n",
        "variavel1 = int(variavel1)\n",
        "variavel2 = int(variavel2)\n",
        "\n",
        "calculo  =variavel1 - variavel2\n",
        "\n",
        "\n",
        "print(calculo)"
      ]
    },
    {
      "cell_type": "markdown",
      "metadata": {
        "id": "EYi_T7_WIBcN"
      },
      "source": [
        "## 2) Faça um programa que receba três números, calcule e mostre a multiplicação desses números."
      ]
    },
    {
      "cell_type": "code",
      "execution_count": null,
      "metadata": {
        "colab": {
          "base_uri": "https://localhost:8080/"
        },
        "id": "qHeNYXKSJYLy",
        "outputId": "596a4b95-6301-4d52-990e-d91bf3faf67e"
      },
      "outputs": [
        {
          "name": "stdout",
          "output_type": "stream",
          "text": [
            "digite um numero:10\n",
            "digite um numero:10\n",
            "digite um numero:10\n",
            "O resultado do calculo de 10 * 10 * 10 é 1000.000\n"
          ]
        }
      ],
      "source": [
        "numero1  = input(\"digite um numero:\")\n",
        "numero2  = input(\"digite um numero:\")\n",
        "numero3  = input(\"digite um numero:\")\n",
        "\n",
        "numero1 = int(numero1)\n",
        "numero2 = int(numero2)\n",
        "numero3 = int(numero3)\n",
        "\n",
        "\n",
        "calculo  =numero1 * numero2 * numero3\n",
        "\n",
        "#print(\"O resultado do calculo de {0} * {1} * {2} é {3}\".format(numero1,numero2,numero3,calculo))\n",
        "\n",
        "print(f\"O resultado do calculo de {numero1} * {numero2} * {numero3} é {calculo:.3f}\")\n",
        "\n",
        "\n",
        "\n"
      ]
    },
    {
      "cell_type": "code",
      "execution_count": null,
      "metadata": {
        "colab": {
          "base_uri": "https://localhost:8080/"
        },
        "id": "Tt3NaU6d1hoN",
        "outputId": "3f0669a7-83f4-4e08-8b62-835ca640f599"
      },
      "outputs": [
        {
          "name": "stdout",
          "output_type": "stream",
          "text": [
            "o valor  é 1000.0000\n"
          ]
        }
      ],
      "source": [
        "print(f\"o valor  é {calculo:.4f}\")"
      ]
    },
    {
      "cell_type": "markdown",
      "metadata": {
        "id": "OKMsqceNJ064"
      },
      "source": [
        "### 3)  Faça um programa que receba dois números, calcule e mostre a divisão do primeiro número pelo segundo. Sabe-se que o segundo não pode ser zero, portanto, não é necessário validações."
      ]
    },
    {
      "cell_type": "code",
      "execution_count": null,
      "metadata": {
        "colab": {
          "base_uri": "https://localhost:8080/"
        },
        "id": "V9agEH77KBuJ",
        "outputId": "5c6c2010-770a-4e6b-858c-855faae0cc1c"
      },
      "outputs": [
        {
          "name": "stdout",
          "output_type": "stream",
          "text": [
            "digite um numero 1:10\n",
            "digite um numero 2:5\n",
            "O resultado da divisão de 10.0 por 5.0 é: 2.0\n"
          ]
        }
      ],
      "source": [
        "variavel1  =input(\"digite um numero 1:\")\n",
        "variavel2  = input(\"digite um numero 2:\")\n",
        "\n",
        "\n",
        "variavel1 = float(variavel1)\n",
        "variavel2 = float(variavel2)\n",
        "\n",
        "calculo  =variavel1 / variavel2 \n",
        "\n",
        "print(f\"O resultado da divisão de {variavel1} por {variavel2} é: {calculo}\")"
      ]
    },
    {
      "cell_type": "markdown",
      "metadata": {
        "id": "AQeOL_cJLE56"
      },
      "source": [
        "### 4) Faça um programa que receba duas notas, calcule e mostre a média ponderada dessas notas, considerando peso 2 para a primeira e peso 3 para a segunda."
      ]
    },
    {
      "cell_type": "code",
      "execution_count": null,
      "metadata": {
        "colab": {
          "base_uri": "https://localhost:8080/"
        },
        "id": "bwre4VnfLUUB",
        "outputId": "d57d485e-ba6c-4f9f-b7de-ccaa74acf238"
      },
      "outputs": [
        {
          "name": "stdout",
          "output_type": "stream",
          "text": [
            "digite a nota 1:10\n",
            "digite a nota 2:4\n",
            "A media ponderada da nota  10.0 e  4.0 é: 6.4\n"
          ]
        }
      ],
      "source": [
        "nota1  =input(\"digite a nota 1:\")\n",
        "nota2  =input(\"digite a nota 2:\")\n",
        "\n",
        "\n",
        "nota1 = float(nota1)\n",
        "nota2 = float(nota2)\n",
        "\n",
        "mediaPonderada  =   ((nota1 * 2) +   (nota2 * 3)) / 5\n",
        "\n",
        "print(f\"A media ponderada da nota  {nota1} e  {nota2} é: {mediaPonderada}\")"
      ]
    },
    {
      "cell_type": "markdown",
      "metadata": {
        "id": "r06s1NmKN2Vy"
      },
      "source": [
        "### 5) Faça um programa que receba o preço de um produto, calcule e mostre o novo preço, sabendo-se que este sofreu um desconto de 10%."
      ]
    },
    {
      "cell_type": "code",
      "execution_count": null,
      "metadata": {
        "colab": {
          "base_uri": "https://localhost:8080/"
        },
        "id": "JHswf0Rg5lIg",
        "outputId": "a6d3e0b4-38a2-48ac-8104-633c0a96108d"
      },
      "outputs": [
        {
          "name": "stdout",
          "output_type": "stream",
          "text": [
            "1400.0\n"
          ]
        }
      ],
      "source": [
        "preco = 1000\n",
        "desconto = 40\n",
        "\n",
        "novo_preco  =(1000 * (100 + desconto)) / 100\n",
        "\n",
        "print(novo_preco)\n"
      ]
    },
    {
      "cell_type": "code",
      "execution_count": null,
      "metadata": {
        "colab": {
          "base_uri": "https://localhost:8080/"
        },
        "id": "NpOUQEgaLJWx",
        "outputId": "604fdf60-5530-473e-bc31-7e965a8094d3"
      },
      "outputs": [
        {
          "name": "stdout",
          "output_type": "stream",
          "text": [
            "digite o preco do produto1000\n",
            "O valor atual do preco 1000.0 com desconto de 10 %  e: 900.0\n"
          ]
        }
      ],
      "source": [
        "\n",
        "# 1) Faça um programa que receba 2 numeros, calcule e mostre a subtração do primeiro pelo segundo\n",
        "\n",
        "preco_produto =input(\"digite o preco do produto\")\n",
        "desconto =10\n",
        "\n",
        "preco_produto = float(preco_produto)\n",
        "\n",
        "#desconto de 10%.\n",
        "\n",
        "novo_preco =  (preco_produto * (100 - desconto)) / 100\n",
        "\n",
        "print(\"O valor atual do preco {0} com desconto de 10 %  e: {1}\".format(preco_produto,novo_preco))\n",
        "\n",
        "\n"
      ]
    },
    {
      "cell_type": "markdown",
      "metadata": {
        "id": "hp6nwVAM9_VU"
      },
      "source": [
        "Faça um programa que receba uma temperatura em Celsius, calcule e mostre essa temperatura em Fahrenheit. Sabe-se que \n",
        " \n",
        " (90 °C × 9/5) + 32 = 194 °F\n"
      ]
    },
    {
      "cell_type": "code",
      "execution_count": null,
      "metadata": {
        "colab": {
          "base_uri": "https://localhost:8080/"
        },
        "id": "VgOTmA-k-Cgu",
        "outputId": "37127ce7-0b9b-403e-f713-e53952d46969"
      },
      "outputs": [
        {
          "name": "stdout",
          "output_type": "stream",
          "text": [
            "Digite uma temperatura:90\n",
            "A temperatura de 90.0 em Fahrenheit é 194.0\n"
          ]
        }
      ],
      "source": [
        "\n",
        "temperatura =  input(\"Digite uma temperatura:\")\n",
        "\n",
        "temperatura = float(temperatura)\n",
        "\n",
        "## (90 °C × 9/5) + 32 = 194 °F\n",
        "temperatura_em_Fahrenheit =  temperatura * (9/5) +32\n",
        "\n",
        "\n",
        "print(f\"A temperatura de {temperatura} em Fahrenheit é {temperatura_em_Fahrenheit}\")"
      ]
    },
    {
      "cell_type": "code",
      "execution_count": null,
      "metadata": {
        "id": "tzdOMkbPBs6E"
      },
      "outputs": [],
      "source": [
        "quantidade =  input(\"Digite uma quantidade em minutos:\") #2\n",
        "\n",
        "quantidade = float(quantidade)\n",
        "\n",
        "horas  = 2\n",
        "munutos =1\n",
        "\n",
        "\n",
        "\n"
      ]
    }
  ],
  "metadata": {
    "colab": {
      "collapsed_sections": [],
      "name": "Lista_de_Exercicios.ipynb",
      "provenance": []
    },
    "kernelspec": {
      "display_name": "Python 3.10.1 64-bit",
      "language": "python",
      "name": "python3"
    },
    "language_info": {
      "codemirror_mode": {
        "name": "ipython",
        "version": 3
      },
      "file_extension": ".py",
      "mimetype": "text/x-python",
      "name": "python",
      "nbconvert_exporter": "python",
      "pygments_lexer": "ipython3",
      "version": "3.10.1"
    },
    "vscode": {
      "interpreter": {
        "hash": "2469a70536e4d2335a2ea8907942d0699c37342a371ac185bdb5b0aa6f073890"
      }
    }
  },
  "nbformat": 4,
  "nbformat_minor": 0
}
