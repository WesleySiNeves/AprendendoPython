{
  "nbformat": 4,
  "nbformat_minor": 0,
  "metadata": {
    "colab": {
      "name": "Funcoes.ipynb",
      "provenance": [],
      "include_colab_link": true
    },
    "kernelspec": {
      "name": "python3",
      "display_name": "Python 3"
    }
  },
  "cells": [
    {
      "cell_type": "markdown",
      "metadata": {
        "id": "view-in-github",
        "colab_type": "text"
      },
      "source": [
        "<a href=\"https://colab.research.google.com/github/WesleySiNeves/AprendendoPython/blob/master/Funcoes.ipynb\" target=\"_parent\"><img src=\"https://colab.research.google.com/assets/colab-badge.svg\" alt=\"Open In Colab\"/></a>"
      ]
    },
    {
      "cell_type": "code",
      "metadata": {
        "id": "7jcotI2tHkpr",
        "colab_type": "code",
        "colab": {}
      },
      "source": [
        "def somar(n1,n2):\n",
        "  return n1 + n2\n"
      ],
      "execution_count": 0,
      "outputs": []
    },
    {
      "cell_type": "code",
      "metadata": {
        "id": "xY0o84JhH5hX",
        "colab_type": "code",
        "colab": {}
      },
      "source": [
        "def somar2(n1,n2=10):\n",
        "  return n2+ n2"
      ],
      "execution_count": 0,
      "outputs": []
    },
    {
      "cell_type": "code",
      "metadata": {
        "id": "Iu1d3eOJJIBh",
        "colab_type": "code",
        "colab": {
          "base_uri": "https://localhost:8080/",
          "height": 34
        },
        "outputId": "ed23bf2e-5f7f-49dc-d61a-945e24ee4227"
      },
      "source": [
        "total = somar2(1)\n",
        "total"
      ],
      "execution_count": 3,
      "outputs": [
        {
          "output_type": "execute_result",
          "data": {
            "text/plain": [
              "20"
            ]
          },
          "metadata": {
            "tags": []
          },
          "execution_count": 3
        }
      ]
    },
    {
      "cell_type": "markdown",
      "metadata": {
        "id": "7jx0GNroLpuv",
        "colab_type": "text"
      },
      "source": [
        "## os paramentros em python pode ser ordenado ou nomeado"
      ]
    },
    {
      "cell_type": "code",
      "metadata": {
        "id": "o_ZazYfoLoN5",
        "colab_type": "code",
        "colab": {}
      },
      "source": [
        "def dados_pessoais(nome,sobrenome,idade):\n",
        "  print(\"nome :{}\\n sobrenome :{}\\n  idade :{}\\n\".format(nome,sobrenome,idade))"
      ],
      "execution_count": 0,
      "outputs": []
    },
    {
      "cell_type": "code",
      "metadata": {
        "id": "3EWBlyGoM6QW",
        "colab_type": "code",
        "colab": {
          "base_uri": "https://localhost:8080/",
          "height": 85
        },
        "outputId": "e77a25ff-8329-4d22-cc7f-7618611771cb"
      },
      "source": [
        "funcaoOrdenado(\"wesley\",\"everton\",33)"
      ],
      "execution_count": 14,
      "outputs": [
        {
          "output_type": "stream",
          "text": [
            "parametro1 :wesley\n",
            " parametro2 :everton\n",
            "  parametro3 :33\n",
            "\n"
          ],
          "name": "stdout"
        }
      ]
    },
    {
      "cell_type": "code",
      "metadata": {
        "id": "fpLXxbJmRM3Z",
        "colab_type": "code",
        "colab": {}
      },
      "source": [
        "def dados_pessoais(nome=\"\",sobrenome=\"\",idade=0):\n",
        "  print(\"nome :{}\\n sobrenome :{}\\n  idade :{}\\n\".format(nome,sobrenome,idade))"
      ],
      "execution_count": 0,
      "outputs": []
    },
    {
      "cell_type": "code",
      "metadata": {
        "id": "S9xK_Y8-RRrI",
        "colab_type": "code",
        "colab": {
          "base_uri": "https://localhost:8080/",
          "height": 85
        },
        "outputId": "c1caa355-2f8c-4b38-9479-b766037b5107"
      },
      "source": [
        "dados_pessoais()"
      ],
      "execution_count": 16,
      "outputs": [
        {
          "output_type": "stream",
          "text": [
            "nome :\n",
            " sobrenome :\n",
            "  idade :0\n",
            "\n"
          ],
          "name": "stdout"
        }
      ]
    },
    {
      "cell_type": "code",
      "metadata": {
        "id": "xeVJSKxQRdT0",
        "colab_type": "code",
        "colab": {
          "base_uri": "https://localhost:8080/",
          "height": 85
        },
        "outputId": "79858a72-08a6-4332-c1aa-dcb9f868c3fd"
      },
      "source": [
        "dados_pessoais(idade=33,sobrenome=\"neves\",nome=\"wesley\")"
      ],
      "execution_count": 17,
      "outputs": [
        {
          "output_type": "stream",
          "text": [
            "nome :wesley\n",
            " sobrenome :neves\n",
            "  idade :33\n",
            "\n"
          ],
          "name": "stdout"
        }
      ]
    }
  ]
}