{
 "cells": [
  {
   "cell_type": "markdown",
   "metadata": {},
   "source": [
    "Wesley Neves\n",
    "\n",
    "Projeto Final 01 – Peso: 4 pontos\n",
    "\n",
    "Utilizando majoritariamente as funções map, filter e reduce do próprio Python (vistas na Aula 07), e considerando a lista de salários mensais (em reais) dos funcionários de uma determinada empresa nacional, recém-adquirida por uma empresa multinacional, armazenados no arquivo “salarios.csv” (disponível no próprio Moodle), codifique em Python e responda às seguintes perguntas:\n",
    "\n",
    "1)    Qual o maior salário (em reais)?\n",
    "\n",
    "2)    Qual o menor salário (em reais)?\n",
    "\n",
    "3)    Converta todos os salários (em reais) para dólares e encontre a soma total dos salários dos funcionários da companhia (resultado também em dólares) – considere 1 dólar equivalente a 4 reais.\n",
    "\n",
    "4)    Encontre o salário médio dos funcionários (em dólares) e liste todos os salários existentes acima deste valor (valores também em dólares).\n",
    "\n",
    "5)    Se o presidente da multinacional quiser aumentar em 10% todos os salários da empresa abaixo do salário médio, quanto ele gastaria a mais por mês com os funcionários (calcule e responda em dólares)?\n",
    "\n",
    "OBS: Não é necessário enviar um relatório/texto escrito com as respostas, documente cada linha de código de seu programa e comente as respostas após cada linha de comando, se possível em um Jupyter Notebook. Poste o código bem documentado (com comentários, etc.)  aqui.\n",
    "\n",
    "Não esqueça de identificar-se."
   ]
  },
  {
   "cell_type": "code",
   "execution_count": 2,
   "metadata": {},
   "outputs": [],
   "source": [
    "import pandas as pd\n",
    "import functools as fn\n",
    "import locale"
   ]
  },
  {
   "cell_type": "code",
   "execution_count": 3,
   "metadata": {},
   "outputs": [
    {
     "output_type": "error",
     "ename": "FileNotFoundError",
     "evalue": "[Errno 2] File salarios.csv does not exist: 'salarios.csv'",
     "traceback": [
      "\u001b[1;31m---------------------------------------------------------------------------\u001b[0m",
      "\u001b[1;31mFileNotFoundError\u001b[0m                         Traceback (most recent call last)",
      "\u001b[1;32m<ipython-input-3-3ad328170fd4>\u001b[0m in \u001b[0;36m<module>\u001b[1;34m\u001b[0m\n\u001b[1;32m----> 1\u001b[1;33m \u001b[0mdf\u001b[0m \u001b[1;33m=\u001b[0m \u001b[0mpd\u001b[0m\u001b[1;33m.\u001b[0m\u001b[0mread_csv\u001b[0m\u001b[1;33m(\u001b[0m\u001b[1;34m'salarios.csv'\u001b[0m\u001b[1;33m)\u001b[0m\u001b[1;33m\u001b[0m\u001b[1;33m\u001b[0m\u001b[0m\n\u001b[0m",
      "\u001b[1;32m~\\Anaconda3\\envs\\Deep Learning\\lib\\site-packages\\pandas\\io\\parsers.py\u001b[0m in \u001b[0;36mparser_f\u001b[1;34m(filepath_or_buffer, sep, delimiter, header, names, index_col, usecols, squeeze, prefix, mangle_dupe_cols, dtype, engine, converters, true_values, false_values, skipinitialspace, skiprows, skipfooter, nrows, na_values, keep_default_na, na_filter, verbose, skip_blank_lines, parse_dates, infer_datetime_format, keep_date_col, date_parser, dayfirst, cache_dates, iterator, chunksize, compression, thousands, decimal, lineterminator, quotechar, quoting, doublequote, escapechar, comment, encoding, dialect, error_bad_lines, warn_bad_lines, delim_whitespace, low_memory, memory_map, float_precision)\u001b[0m\n\u001b[0;32m    674\u001b[0m         )\n\u001b[0;32m    675\u001b[0m \u001b[1;33m\u001b[0m\u001b[0m\n\u001b[1;32m--> 676\u001b[1;33m         \u001b[1;32mreturn\u001b[0m \u001b[0m_read\u001b[0m\u001b[1;33m(\u001b[0m\u001b[0mfilepath_or_buffer\u001b[0m\u001b[1;33m,\u001b[0m \u001b[0mkwds\u001b[0m\u001b[1;33m)\u001b[0m\u001b[1;33m\u001b[0m\u001b[1;33m\u001b[0m\u001b[0m\n\u001b[0m\u001b[0;32m    677\u001b[0m \u001b[1;33m\u001b[0m\u001b[0m\n\u001b[0;32m    678\u001b[0m     \u001b[0mparser_f\u001b[0m\u001b[1;33m.\u001b[0m\u001b[0m__name__\u001b[0m \u001b[1;33m=\u001b[0m \u001b[0mname\u001b[0m\u001b[1;33m\u001b[0m\u001b[1;33m\u001b[0m\u001b[0m\n",
      "\u001b[1;32m~\\Anaconda3\\envs\\Deep Learning\\lib\\site-packages\\pandas\\io\\parsers.py\u001b[0m in \u001b[0;36m_read\u001b[1;34m(filepath_or_buffer, kwds)\u001b[0m\n\u001b[0;32m    446\u001b[0m \u001b[1;33m\u001b[0m\u001b[0m\n\u001b[0;32m    447\u001b[0m     \u001b[1;31m# Create the parser.\u001b[0m\u001b[1;33m\u001b[0m\u001b[1;33m\u001b[0m\u001b[1;33m\u001b[0m\u001b[0m\n\u001b[1;32m--> 448\u001b[1;33m     \u001b[0mparser\u001b[0m \u001b[1;33m=\u001b[0m \u001b[0mTextFileReader\u001b[0m\u001b[1;33m(\u001b[0m\u001b[0mfp_or_buf\u001b[0m\u001b[1;33m,\u001b[0m \u001b[1;33m**\u001b[0m\u001b[0mkwds\u001b[0m\u001b[1;33m)\u001b[0m\u001b[1;33m\u001b[0m\u001b[1;33m\u001b[0m\u001b[0m\n\u001b[0m\u001b[0;32m    449\u001b[0m \u001b[1;33m\u001b[0m\u001b[0m\n\u001b[0;32m    450\u001b[0m     \u001b[1;32mif\u001b[0m \u001b[0mchunksize\u001b[0m \u001b[1;32mor\u001b[0m \u001b[0miterator\u001b[0m\u001b[1;33m:\u001b[0m\u001b[1;33m\u001b[0m\u001b[1;33m\u001b[0m\u001b[0m\n",
      "\u001b[1;32m~\\Anaconda3\\envs\\Deep Learning\\lib\\site-packages\\pandas\\io\\parsers.py\u001b[0m in \u001b[0;36m__init__\u001b[1;34m(self, f, engine, **kwds)\u001b[0m\n\u001b[0;32m    878\u001b[0m             \u001b[0mself\u001b[0m\u001b[1;33m.\u001b[0m\u001b[0moptions\u001b[0m\u001b[1;33m[\u001b[0m\u001b[1;34m\"has_index_names\"\u001b[0m\u001b[1;33m]\u001b[0m \u001b[1;33m=\u001b[0m \u001b[0mkwds\u001b[0m\u001b[1;33m[\u001b[0m\u001b[1;34m\"has_index_names\"\u001b[0m\u001b[1;33m]\u001b[0m\u001b[1;33m\u001b[0m\u001b[1;33m\u001b[0m\u001b[0m\n\u001b[0;32m    879\u001b[0m \u001b[1;33m\u001b[0m\u001b[0m\n\u001b[1;32m--> 880\u001b[1;33m         \u001b[0mself\u001b[0m\u001b[1;33m.\u001b[0m\u001b[0m_make_engine\u001b[0m\u001b[1;33m(\u001b[0m\u001b[0mself\u001b[0m\u001b[1;33m.\u001b[0m\u001b[0mengine\u001b[0m\u001b[1;33m)\u001b[0m\u001b[1;33m\u001b[0m\u001b[1;33m\u001b[0m\u001b[0m\n\u001b[0m\u001b[0;32m    881\u001b[0m \u001b[1;33m\u001b[0m\u001b[0m\n\u001b[0;32m    882\u001b[0m     \u001b[1;32mdef\u001b[0m \u001b[0mclose\u001b[0m\u001b[1;33m(\u001b[0m\u001b[0mself\u001b[0m\u001b[1;33m)\u001b[0m\u001b[1;33m:\u001b[0m\u001b[1;33m\u001b[0m\u001b[1;33m\u001b[0m\u001b[0m\n",
      "\u001b[1;32m~\\Anaconda3\\envs\\Deep Learning\\lib\\site-packages\\pandas\\io\\parsers.py\u001b[0m in \u001b[0;36m_make_engine\u001b[1;34m(self, engine)\u001b[0m\n\u001b[0;32m   1112\u001b[0m     \u001b[1;32mdef\u001b[0m \u001b[0m_make_engine\u001b[0m\u001b[1;33m(\u001b[0m\u001b[0mself\u001b[0m\u001b[1;33m,\u001b[0m \u001b[0mengine\u001b[0m\u001b[1;33m=\u001b[0m\u001b[1;34m\"c\"\u001b[0m\u001b[1;33m)\u001b[0m\u001b[1;33m:\u001b[0m\u001b[1;33m\u001b[0m\u001b[1;33m\u001b[0m\u001b[0m\n\u001b[0;32m   1113\u001b[0m         \u001b[1;32mif\u001b[0m \u001b[0mengine\u001b[0m \u001b[1;33m==\u001b[0m \u001b[1;34m\"c\"\u001b[0m\u001b[1;33m:\u001b[0m\u001b[1;33m\u001b[0m\u001b[1;33m\u001b[0m\u001b[0m\n\u001b[1;32m-> 1114\u001b[1;33m             \u001b[0mself\u001b[0m\u001b[1;33m.\u001b[0m\u001b[0m_engine\u001b[0m \u001b[1;33m=\u001b[0m \u001b[0mCParserWrapper\u001b[0m\u001b[1;33m(\u001b[0m\u001b[0mself\u001b[0m\u001b[1;33m.\u001b[0m\u001b[0mf\u001b[0m\u001b[1;33m,\u001b[0m \u001b[1;33m**\u001b[0m\u001b[0mself\u001b[0m\u001b[1;33m.\u001b[0m\u001b[0moptions\u001b[0m\u001b[1;33m)\u001b[0m\u001b[1;33m\u001b[0m\u001b[1;33m\u001b[0m\u001b[0m\n\u001b[0m\u001b[0;32m   1115\u001b[0m         \u001b[1;32melse\u001b[0m\u001b[1;33m:\u001b[0m\u001b[1;33m\u001b[0m\u001b[1;33m\u001b[0m\u001b[0m\n\u001b[0;32m   1116\u001b[0m             \u001b[1;32mif\u001b[0m \u001b[0mengine\u001b[0m \u001b[1;33m==\u001b[0m \u001b[1;34m\"python\"\u001b[0m\u001b[1;33m:\u001b[0m\u001b[1;33m\u001b[0m\u001b[1;33m\u001b[0m\u001b[0m\n",
      "\u001b[1;32m~\\Anaconda3\\envs\\Deep Learning\\lib\\site-packages\\pandas\\io\\parsers.py\u001b[0m in \u001b[0;36m__init__\u001b[1;34m(self, src, **kwds)\u001b[0m\n\u001b[0;32m   1889\u001b[0m         \u001b[0mkwds\u001b[0m\u001b[1;33m[\u001b[0m\u001b[1;34m\"usecols\"\u001b[0m\u001b[1;33m]\u001b[0m \u001b[1;33m=\u001b[0m \u001b[0mself\u001b[0m\u001b[1;33m.\u001b[0m\u001b[0musecols\u001b[0m\u001b[1;33m\u001b[0m\u001b[1;33m\u001b[0m\u001b[0m\n\u001b[0;32m   1890\u001b[0m \u001b[1;33m\u001b[0m\u001b[0m\n\u001b[1;32m-> 1891\u001b[1;33m         \u001b[0mself\u001b[0m\u001b[1;33m.\u001b[0m\u001b[0m_reader\u001b[0m \u001b[1;33m=\u001b[0m \u001b[0mparsers\u001b[0m\u001b[1;33m.\u001b[0m\u001b[0mTextReader\u001b[0m\u001b[1;33m(\u001b[0m\u001b[0msrc\u001b[0m\u001b[1;33m,\u001b[0m \u001b[1;33m**\u001b[0m\u001b[0mkwds\u001b[0m\u001b[1;33m)\u001b[0m\u001b[1;33m\u001b[0m\u001b[1;33m\u001b[0m\u001b[0m\n\u001b[0m\u001b[0;32m   1892\u001b[0m         \u001b[0mself\u001b[0m\u001b[1;33m.\u001b[0m\u001b[0munnamed_cols\u001b[0m \u001b[1;33m=\u001b[0m \u001b[0mself\u001b[0m\u001b[1;33m.\u001b[0m\u001b[0m_reader\u001b[0m\u001b[1;33m.\u001b[0m\u001b[0munnamed_cols\u001b[0m\u001b[1;33m\u001b[0m\u001b[1;33m\u001b[0m\u001b[0m\n\u001b[0;32m   1893\u001b[0m \u001b[1;33m\u001b[0m\u001b[0m\n",
      "\u001b[1;32mpandas\\_libs\\parsers.pyx\u001b[0m in \u001b[0;36mpandas._libs.parsers.TextReader.__cinit__\u001b[1;34m()\u001b[0m\n",
      "\u001b[1;32mpandas\\_libs\\parsers.pyx\u001b[0m in \u001b[0;36mpandas._libs.parsers.TextReader._setup_parser_source\u001b[1;34m()\u001b[0m\n",
      "\u001b[1;31mFileNotFoundError\u001b[0m: [Errno 2] File salarios.csv does not exist: 'salarios.csv'"
     ]
    }
   ],
   "source": [
    "df = pd.read_csv('salarios.csv')"
   ]
  },
  {
   "cell_type": "code",
   "execution_count": 74,
   "metadata": {},
   "outputs": [],
   "source": [
    "df.shape\n",
    "\n",
    "df.columns =[\"Salario\"]"
   ]
  },
  {
   "cell_type": "code",
   "execution_count": 75,
   "metadata": {},
   "outputs": [
    {
     "output_type": "execute_result",
     "data": {
      "text/plain": "   Salario\n0  19467.0\n1   7334.0\n2  27500.0\n3  20169.0\n4  16724.0",
      "text/html": "<div>\n<style scoped>\n    .dataframe tbody tr th:only-of-type {\n        vertical-align: middle;\n    }\n\n    .dataframe tbody tr th {\n        vertical-align: top;\n    }\n\n    .dataframe thead th {\n        text-align: right;\n    }\n</style>\n<table border=\"1\" class=\"dataframe\">\n  <thead>\n    <tr style=\"text-align: right;\">\n      <th></th>\n      <th>Salario</th>\n    </tr>\n  </thead>\n  <tbody>\n    <tr>\n      <th>0</th>\n      <td>19467.0</td>\n    </tr>\n    <tr>\n      <th>1</th>\n      <td>7334.0</td>\n    </tr>\n    <tr>\n      <th>2</th>\n      <td>27500.0</td>\n    </tr>\n    <tr>\n      <th>3</th>\n      <td>20169.0</td>\n    </tr>\n    <tr>\n      <th>4</th>\n      <td>16724.0</td>\n    </tr>\n  </tbody>\n</table>\n</div>"
     },
     "metadata": {},
     "execution_count": 75
    }
   ],
   "source": [
    "df.head(5)"
   ]
  },
  {
   "cell_type": "markdown",
   "metadata": {},
   "source": [
    "## 1) Qual o maior salário (em reais)?"
   ]
  },
  {
   "cell_type": "code",
   "execution_count": 76,
   "metadata": {},
   "outputs": [
    {
     "output_type": "execute_result",
     "data": {
      "text/plain": "33765.0"
     },
     "metadata": {},
     "execution_count": 76
    }
   ],
   "source": [
    "fn.reduce(lambda x, y : x if(x > y) else y,df[\"Salario\"])"
   ]
  },
  {
   "cell_type": "markdown",
   "metadata": {},
   "source": [
    "## 2) Qual o menor salário (em reais)?"
   ]
  },
  {
   "cell_type": "code",
   "execution_count": 77,
   "metadata": {},
   "outputs": [
    {
     "output_type": "execute_result",
     "data": {
      "text/plain": "1001.0"
     },
     "metadata": {},
     "execution_count": 77
    }
   ],
   "source": [
    "fn.reduce(lambda x, y : x if(x < y) else y,df[\"Salario\"])\n"
   ]
  },
  {
   "cell_type": "markdown",
   "metadata": {},
   "source": [
    "## 3) Converta todos os salários (em reais) para dólares e encontre a soma total dos salários dos funcionários da companhia (resultado também em dólares) – considere 1 dólar equivalente a 4 reais."
   ]
  },
  {
   "cell_type": "code",
   "execution_count": 78,
   "metadata": {},
   "outputs": [
    {
     "output_type": "execute_result",
     "data": {
      "text/plain": "   Salario  SalarioEmDolar\n0  19467.0         77868.0\n1   7334.0         29336.0\n2  27500.0        110000.0\n3  20169.0         80676.0\n4  16724.0         66896.0",
      "text/html": "<div>\n<style scoped>\n    .dataframe tbody tr th:only-of-type {\n        vertical-align: middle;\n    }\n\n    .dataframe tbody tr th {\n        vertical-align: top;\n    }\n\n    .dataframe thead th {\n        text-align: right;\n    }\n</style>\n<table border=\"1\" class=\"dataframe\">\n  <thead>\n    <tr style=\"text-align: right;\">\n      <th></th>\n      <th>Salario</th>\n      <th>SalarioEmDolar</th>\n    </tr>\n  </thead>\n  <tbody>\n    <tr>\n      <th>0</th>\n      <td>19467.0</td>\n      <td>77868.0</td>\n    </tr>\n    <tr>\n      <th>1</th>\n      <td>7334.0</td>\n      <td>29336.0</td>\n    </tr>\n    <tr>\n      <th>2</th>\n      <td>27500.0</td>\n      <td>110000.0</td>\n    </tr>\n    <tr>\n      <th>3</th>\n      <td>20169.0</td>\n      <td>80676.0</td>\n    </tr>\n    <tr>\n      <th>4</th>\n      <td>16724.0</td>\n      <td>66896.0</td>\n    </tr>\n  </tbody>\n</table>\n</div>"
     },
     "metadata": {},
     "execution_count": 78
    }
   ],
   "source": [
    "valor_dolar = 4\n",
    "\n",
    "def converteRealEmDolar(valor):\n",
    "    return (valor * valor_dolar)\n",
    "\n",
    "df[\"SalarioEmDolar\"]  = df[\"Salario\"].map(converteRealEmDolar)\n",
    "\n",
    "df.head()"
   ]
  },
  {
   "cell_type": "markdown",
   "metadata": {},
   "source": [
    "## recuperar a soma total de salarios em dolar"
   ]
  },
  {
   "cell_type": "code",
   "execution_count": 79,
   "metadata": {},
   "outputs": [
    {
     "output_type": "stream",
     "name": "stdout",
     "text": "1400973308.0\n"
    }
   ],
   "source": [
    "\n",
    "soma_total_salarios = fn.reduce((lambda a, b: a + b), df[\"SalarioEmDolar\"])\n",
    "print(soma_total_salarios)"
   ]
  },
  {
   "cell_type": "code",
   "execution_count": 35,
   "metadata": {},
   "outputs": [
    {
     "output_type": "execute_result",
     "data": {
      "text/plain": "   Salario  SalarioEmDolar\n0  19467.0         77868.0\n1   7334.0         29336.0\n2  27500.0        110000.0\n3  20169.0         80676.0\n4  16724.0         66896.0",
      "text/html": "<div>\n<style scoped>\n    .dataframe tbody tr th:only-of-type {\n        vertical-align: middle;\n    }\n\n    .dataframe tbody tr th {\n        vertical-align: top;\n    }\n\n    .dataframe thead th {\n        text-align: right;\n    }\n</style>\n<table border=\"1\" class=\"dataframe\">\n  <thead>\n    <tr style=\"text-align: right;\">\n      <th></th>\n      <th>Salario</th>\n      <th>SalarioEmDolar</th>\n    </tr>\n  </thead>\n  <tbody>\n    <tr>\n      <th>0</th>\n      <td>19467.0</td>\n      <td>77868.0</td>\n    </tr>\n    <tr>\n      <th>1</th>\n      <td>7334.0</td>\n      <td>29336.0</td>\n    </tr>\n    <tr>\n      <th>2</th>\n      <td>27500.0</td>\n      <td>110000.0</td>\n    </tr>\n    <tr>\n      <th>3</th>\n      <td>20169.0</td>\n      <td>80676.0</td>\n    </tr>\n    <tr>\n      <th>4</th>\n      <td>16724.0</td>\n      <td>66896.0</td>\n    </tr>\n  </tbody>\n</table>\n</div>"
     },
     "metadata": {},
     "execution_count": 35
    }
   ],
   "source": [
    "df.head(5)"
   ]
  },
  {
   "cell_type": "markdown",
   "metadata": {},
   "source": [
    "## 4)    Encontre o salário médio dos funcionários (em dólares) e liste todos os salários existentes acima deste valor (valores também em dólares)."
   ]
  },
  {
   "cell_type": "markdown",
   "metadata": {},
   "source": [
    "### função de exemplo"
   ]
  },
  {
   "cell_type": "code",
   "execution_count": 80,
   "metadata": {},
   "outputs": [
    {
     "output_type": "stream",
     "name": "stdout",
     "text": "6.0\n"
    }
   ],
   "source": [
    "def Average(salarios): \n",
    "    avg = fn.reduce(lambda x, y: x + y, salarios) / len(salarios)\n",
    "    return avg\n",
    "\n",
    "my_list = [2,4,6,8,10] \n",
    "average = Average(my_list)\n",
    "\n",
    "print(average)\n"
   ]
  },
  {
   "cell_type": "markdown",
   "metadata": {},
   "source": [
    "### Salario Medio"
   ]
  },
  {
   "cell_type": "code",
   "execution_count": 81,
   "metadata": {},
   "outputs": [
    {
     "output_type": "execute_result",
     "data": {
      "text/plain": "   Salario  SalarioEmDolar  MediaSalarial\n0  19467.0         77868.0   70052.168008\n1   7334.0         29336.0   70052.168008\n2  27500.0        110000.0   70052.168008\n3  20169.0         80676.0   70052.168008\n4  16724.0         66896.0   70052.168008",
      "text/html": "<div>\n<style scoped>\n    .dataframe tbody tr th:only-of-type {\n        vertical-align: middle;\n    }\n\n    .dataframe tbody tr th {\n        vertical-align: top;\n    }\n\n    .dataframe thead th {\n        text-align: right;\n    }\n</style>\n<table border=\"1\" class=\"dataframe\">\n  <thead>\n    <tr style=\"text-align: right;\">\n      <th></th>\n      <th>Salario</th>\n      <th>SalarioEmDolar</th>\n      <th>MediaSalarial</th>\n    </tr>\n  </thead>\n  <tbody>\n    <tr>\n      <th>0</th>\n      <td>19467.0</td>\n      <td>77868.0</td>\n      <td>70052.168008</td>\n    </tr>\n    <tr>\n      <th>1</th>\n      <td>7334.0</td>\n      <td>29336.0</td>\n      <td>70052.168008</td>\n    </tr>\n    <tr>\n      <th>2</th>\n      <td>27500.0</td>\n      <td>110000.0</td>\n      <td>70052.168008</td>\n    </tr>\n    <tr>\n      <th>3</th>\n      <td>20169.0</td>\n      <td>80676.0</td>\n      <td>70052.168008</td>\n    </tr>\n    <tr>\n      <th>4</th>\n      <td>16724.0</td>\n      <td>66896.0</td>\n      <td>70052.168008</td>\n    </tr>\n  </tbody>\n</table>\n</div>"
     },
     "metadata": {},
     "execution_count": 81
    }
   ],
   "source": [
    "df[\"MediaSalarial\"] = fn.reduce(lambda x, y: x + y, df[\"SalarioEmDolar\"]) / len(df[\"SalarioEmDolar\"])\n",
    "\n",
    "df.head()"
   ]
  },
  {
   "cell_type": "markdown",
   "metadata": {},
   "source": [
    "## liste todos os salários existentes acima deste valor"
   ]
  },
  {
   "cell_type": "code",
   "execution_count": 82,
   "metadata": {},
   "outputs": [
    {
     "output_type": "stream",
     "name": "stdout",
     "text": "Media Salarial 70052.17\n"
    },
    {
     "output_type": "execute_result",
     "data": {
      "text/plain": "[77868.0,\n 110000.0,\n 80676.0,\n 121432.0,\n 111848.0,\n 101856.0,\n 116580.0,\n 97124.0,\n 71308.0,\n 133564.0,\n 73684.0,\n 78864.0,\n 82872.0,\n 83580.0,\n 90904.0,\n 83648.0,\n 106668.0,\n 109196.0,\n 72140.0,\n 118812.0,\n 99244.0,\n 129288.0,\n 125332.0,\n 74692.0,\n 117012.0,\n 106188.0,\n 114576.0,\n 134648.0,\n 135028.0,\n 84148.0,\n 114116.0,\n 92760.0,\n 124424.0,\n 81056.0,\n 94592.0,\n 113784.0,\n 99220.0,\n 101480.0,\n 128404.0,\n 101572.0,\n 82516.0,\n 100336.0,\n 83816.0,\n 79024.0,\n 109232.0,\n 71776.0,\n 133756.0,\n 102504.0,\n 90152.0,\n 95716.0,\n 70164.0,\n 128460.0,\n 122632.0,\n 94816.0,\n 130692.0,\n 93544.0,\n 118980.0,\n 111696.0,\n 80288.0,\n 111108.0,\n 99944.0,\n 78544.0,\n 93420.0,\n 103068.0,\n 98620.0,\n 113400.0,\n 71764.0,\n 90896.0,\n 128428.0,\n 124764.0,\n 76028.0,\n 115012.0,\n 132836.0,\n 100884.0,\n 78352.0,\n 103784.0,\n 114024.0,\n 120672.0,\n 134364.0,\n 79048.0,\n 73640.0,\n 114496.0,\n 86148.0,\n 90192.0,\n 114380.0,\n 101400.0,\n 127344.0,\n 100084.0,\n 113392.0,\n 96796.0,\n 82672.0,\n 101936.0,\n 109672.0,\n 115752.0,\n 76508.0,\n 102592.0,\n 93932.0,\n 75228.0,\n 95252.0,\n 79740.0,\n 73804.0,\n 86400.0,\n 70076.0,\n 130224.0,\n 95192.0,\n 125212.0,\n 134436.0,\n 134808.0,\n 85940.0,\n 126092.0,\n 121256.0,\n 104800.0,\n 86320.0,\n 83184.0,\n 82356.0,\n 87192.0,\n 116036.0,\n 112628.0,\n 85888.0,\n 98488.0,\n 78152.0,\n 100716.0,\n 76760.0,\n 122628.0,\n 83260.0,\n 95552.0,\n 80624.0,\n 101088.0,\n 84220.0,\n 85312.0,\n 94584.0,\n 109448.0,\n 79500.0,\n 117732.0,\n 123476.0,\n 84568.0,\n 99376.0,\n 91524.0,\n 131992.0,\n 78604.0,\n 117904.0,\n 115568.0,\n 101556.0,\n 88012.0,\n 111476.0,\n 75444.0,\n 100728.0,\n 112352.0,\n 129704.0,\n 118468.0,\n 99028.0,\n 127728.0,\n 106884.0,\n 72756.0,\n 83904.0,\n 129316.0,\n 118768.0,\n 89700.0,\n 70196.0,\n 124580.0,\n 76240.0,\n 90872.0,\n 107984.0,\n 70748.0,\n 94196.0,\n 73748.0,\n 83464.0,\n 96780.0,\n 85664.0,\n 117144.0,\n 101952.0,\n 106936.0,\n 76456.0,\n 129264.0,\n 86684.0,\n 101420.0,\n 128740.0,\n 84212.0,\n 87780.0,\n 115024.0,\n 117284.0,\n 82232.0,\n 98584.0,\n 115928.0,\n 96784.0,\n 84888.0,\n 85800.0,\n 90636.0,\n 109168.0,\n 109756.0,\n 73012.0,\n 84096.0,\n 108616.0,\n 122040.0,\n 86596.0,\n 116088.0,\n 79148.0,\n 75832.0,\n 109908.0,\n 107296.0,\n 121336.0,\n 107496.0,\n 101488.0,\n 84636.0,\n 116280.0,\n 117188.0,\n 75092.0,\n 133080.0,\n 72768.0,\n 120852.0,\n 126108.0,\n 123888.0,\n 128012.0,\n 113728.0,\n 74020.0,\n 114372.0,\n 94900.0,\n 72888.0,\n 129144.0,\n 80748.0,\n 93652.0,\n 127896.0,\n 120680.0,\n 127332.0,\n 82844.0,\n 107040.0,\n 79584.0,\n 90496.0,\n 116076.0,\n 110304.0,\n 90776.0,\n 94632.0,\n 109208.0,\n 73484.0,\n 93864.0,\n 94372.0,\n 99404.0,\n 105936.0,\n 117856.0,\n 88476.0,\n 96608.0,\n 76348.0,\n 128240.0,\n 132680.0,\n 85260.0,\n 124908.0,\n 95032.0,\n 72344.0,\n 122260.0,\n 122308.0,\n 106508.0,\n 131712.0,\n 105692.0,\n 118080.0,\n 102384.0,\n 134100.0,\n 85304.0,\n 120044.0,\n 127084.0,\n 106188.0,\n 88612.0,\n 90080.0,\n 123160.0,\n 124752.0,\n 91052.0,\n 87404.0,\n 78648.0,\n 127600.0,\n 74852.0,\n 79832.0,\n 74312.0,\n 108232.0,\n 81428.0,\n 88452.0,\n 83204.0,\n 95400.0,\n 93712.0,\n 113536.0,\n 81620.0,\n 128444.0,\n 118816.0,\n 133424.0,\n 121400.0,\n 79292.0,\n 86224.0,\n 96864.0,\n 121348.0,\n 97084.0,\n 99476.0,\n 121444.0,\n 122468.0,\n 78784.0,\n 100164.0,\n 101692.0,\n 100516.0,\n 100916.0,\n 93184.0,\n 123420.0,\n 71848.0,\n 122936.0,\n 71888.0,\n 89828.0,\n 94128.0,\n 95392.0,\n 92568.0,\n 99016.0,\n 94964.0,\n 84700.0,\n 89836.0,\n 75300.0,\n 75480.0,\n 131736.0,\n 131132.0,\n 99400.0,\n 73592.0,\n 93116.0,\n 94804.0,\n 110136.0,\n 106820.0,\n 70564.0,\n 83420.0,\n 103420.0,\n 114444.0,\n 127508.0,\n 85696.0,\n 134712.0,\n 77772.0,\n 117184.0,\n 84288.0,\n 116448.0,\n 126780.0,\n 99324.0,\n 84160.0,\n 109952.0,\n 118740.0,\n 80360.0,\n 81988.0,\n 107960.0,\n 81412.0,\n 81256.0,\n 78604.0,\n 110960.0,\n 92176.0,\n 105056.0,\n 118012.0,\n 99100.0,\n 86432.0,\n 121168.0,\n 74196.0,\n 122224.0,\n 106244.0,\n 130508.0,\n 122164.0,\n 108516.0,\n 128960.0,\n 115252.0,\n 120696.0,\n 86404.0,\n 84860.0,\n 99968.0,\n 107296.0,\n 97568.0,\n 109712.0,\n 116108.0,\n 79144.0,\n 103880.0,\n 99388.0,\n 134416.0,\n 88884.0,\n 94652.0,\n 92684.0,\n 113956.0,\n 76960.0,\n 106168.0,\n 87652.0,\n 131272.0,\n 104820.0,\n 88392.0,\n 75456.0,\n 95652.0,\n 90180.0,\n 118848.0,\n 74184.0,\n 78712.0,\n 117156.0,\n 78160.0,\n 96980.0,\n 106032.0,\n 117272.0,\n 115480.0,\n 117292.0,\n 88528.0,\n 101888.0,\n 112608.0,\n 104348.0,\n 118280.0,\n 123052.0,\n 123604.0,\n 72412.0,\n 111876.0,\n 90172.0,\n 105388.0,\n 93636.0,\n 109852.0,\n 132240.0,\n 88884.0,\n 123816.0,\n 87552.0,\n 89720.0,\n 106480.0,\n 112268.0,\n 87132.0,\n 76140.0,\n 132904.0,\n 106516.0,\n 83692.0,\n 133028.0,\n 103064.0,\n 97272.0,\n 134904.0,\n 105644.0,\n 88100.0,\n 85420.0,\n 128004.0,\n 94196.0,\n 78336.0,\n 75856.0,\n 97368.0,\n 75652.0,\n 128784.0,\n 91792.0,\n 104288.0,\n 85704.0,\n 108692.0,\n 101716.0,\n 133616.0,\n 86504.0,\n 123248.0,\n 81500.0,\n 124372.0,\n 70260.0,\n 120564.0,\n 127256.0,\n 99744.0,\n 127352.0,\n 85928.0,\n 88060.0,\n 76920.0,\n 75364.0,\n 134548.0,\n 82760.0,\n 90536.0,\n 89664.0,\n 92932.0,\n 70536.0,\n 109212.0,\n 112436.0,\n 100112.0,\n 120800.0,\n 88320.0,\n 89272.0,\n 71432.0,\n 100200.0,\n 100620.0,\n 129444.0,\n 122572.0,\n 111636.0,\n 117956.0,\n 103792.0,\n 126696.0,\n 81476.0,\n 85036.0,\n 80032.0,\n 94476.0,\n 99884.0,\n 124012.0,\n 91780.0,\n 110016.0,\n 134740.0,\n 105252.0,\n 80148.0,\n 129844.0,\n 105076.0,\n 103748.0,\n 119476.0,\n 109056.0,\n 102220.0,\n 77320.0,\n 124848.0,\n 121152.0,\n 116328.0,\n 86840.0,\n 101936.0,\n 103096.0,\n 123260.0,\n 107804.0,\n 76460.0,\n 72440.0,\n 107592.0,\n 96292.0,\n 99908.0,\n 76528.0,\n 123824.0,\n 118756.0,\n 108452.0,\n 89452.0,\n 104736.0,\n 103112.0,\n 91896.0,\n 95468.0,\n 108612.0,\n 132672.0,\n 87300.0,\n 118600.0,\n 124320.0,\n 110668.0,\n 110716.0,\n 121684.0,\n 114904.0,\n 118664.0,\n 120348.0,\n 114724.0,\n 83856.0,\n 121236.0,\n 85660.0,\n 75608.0,\n 123492.0,\n 72496.0,\n 99764.0,\n 134980.0,\n 131048.0,\n 117692.0,\n 114124.0,\n 131628.0,\n 101228.0,\n 97924.0,\n 88544.0,\n 110520.0,\n 100456.0,\n 111236.0,\n 98224.0,\n 89172.0,\n 123984.0,\n 120608.0,\n 105380.0,\n 124456.0,\n 102888.0,\n 122816.0,\n 105076.0,\n 76952.0,\n 109692.0,\n 115672.0,\n 74636.0,\n 133992.0,\n 117944.0,\n 88784.0,\n 110532.0,\n 77568.0,\n 121832.0,\n 127228.0,\n 115320.0,\n 121168.0,\n 87196.0,\n 77408.0,\n 85792.0,\n 117260.0,\n 93344.0,\n 77588.0,\n 129672.0,\n 83588.0,\n 107312.0,\n 111264.0,\n 100920.0,\n 71700.0,\n 102080.0,\n 122240.0,\n 104648.0,\n 86700.0,\n 93444.0,\n 131016.0,\n 96584.0,\n 111784.0,\n 88752.0,\n 82276.0,\n 114652.0,\n 102060.0,\n 86112.0,\n 82228.0,\n 119848.0,\n 126096.0,\n 73876.0,\n 131692.0,\n 117400.0,\n 95700.0,\n 82948.0,\n 77348.0,\n 126856.0,\n 116656.0,\n 130364.0,\n 83796.0,\n 80540.0,\n 118656.0,\n 106432.0,\n 126272.0,\n 81124.0,\n 77492.0,\n 118608.0,\n 99304.0,\n 117584.0,\n 120696.0,\n 79276.0,\n 134444.0,\n 85156.0,\n 129800.0,\n 71572.0,\n 125200.0,\n 82780.0,\n 128688.0,\n 75872.0,\n 113432.0,\n 108124.0,\n 109072.0,\n 81704.0,\n 118040.0,\n 127096.0,\n 127640.0,\n 98208.0,\n 105564.0,\n 117020.0,\n 111284.0,\n 108488.0,\n 106188.0,\n 90308.0,\n 106420.0,\n 124780.0,\n 114376.0,\n 97756.0,\n 101632.0,\n 72892.0,\n 109736.0,\n 121944.0,\n 111224.0,\n 78800.0,\n 74768.0,\n 91148.0,\n 118128.0,\n 126224.0,\n 127896.0,\n 77132.0,\n 108888.0,\n 121324.0,\n 118332.0,\n 111792.0,\n 75928.0,\n 92072.0,\n 128444.0,\n 132728.0,\n 99424.0,\n 81960.0,\n 82708.0,\n 94672.0,\n 128272.0,\n 91964.0,\n 132784.0,\n 71312.0,\n 121704.0,\n 74448.0,\n 78812.0,\n 124952.0,\n 100948.0,\n 109772.0,\n 89252.0,\n 94004.0,\n 104512.0,\n 98600.0,\n 116596.0,\n 113860.0,\n 85068.0,\n 74852.0,\n 83172.0,\n 78536.0,\n 105888.0,\n 87888.0,\n 95320.0,\n 103604.0,\n 117768.0,\n 107080.0,\n 70360.0,\n 132716.0,\n 70380.0,\n 84676.0,\n 129240.0,\n 116728.0,\n 134112.0,\n 107132.0,\n 89144.0,\n 77736.0,\n 86872.0,\n 103460.0,\n 95000.0,\n 118456.0,\n 78392.0,\n 117832.0,\n 108252.0,\n 135024.0,\n 87228.0,\n 85112.0,\n 81956.0,\n 81740.0,\n 132300.0,\n 108192.0,\n 121968.0,\n 99360.0,\n 83240.0,\n 91568.0,\n 131928.0,\n 121408.0,\n 128976.0,\n 91176.0,\n 73728.0,\n 96972.0,\n 114596.0,\n 92060.0,\n 111364.0,\n 83248.0,\n 126592.0,\n 83404.0,\n 101896.0,\n 118532.0,\n 123564.0,\n 112800.0,\n 83416.0,\n 106788.0,\n 75120.0,\n 94312.0,\n 134176.0,\n 94100.0,\n 117008.0,\n 104044.0,\n 129988.0,\n 78116.0,\n 130160.0,\n 79220.0,\n 119164.0,\n 90312.0,\n 111916.0,\n 127884.0,\n 84772.0,\n 89988.0,\n 129104.0,\n 83160.0,\n 85672.0,\n 109956.0,\n 112032.0,\n 115868.0,\n 78012.0,\n 134428.0,\n 80076.0,\n 119044.0,\n 128652.0,\n 70732.0,\n 83728.0,\n 105808.0,\n 86460.0,\n 84544.0,\n 112128.0,\n 134336.0,\n 72024.0,\n 79528.0,\n 104996.0,\n 131032.0,\n 122484.0,\n 72380.0,\n 104232.0,\n 114308.0,\n 98916.0,\n 100324.0,\n 102704.0,\n 115012.0,\n 87596.0,\n 123716.0,\n 130308.0,\n 110068.0,\n 123664.0,\n 95648.0,\n 126772.0,\n 111796.0,\n 111428.0,\n 86560.0,\n 108208.0,\n 128904.0,\n 116648.0,\n 71820.0,\n 96732.0,\n 124720.0,\n 112260.0,\n 88312.0,\n 71512.0,\n 131788.0,\n 123900.0,\n 103000.0,\n 92856.0,\n 73128.0,\n 112028.0,\n 113728.0,\n 118088.0,\n 131240.0,\n 74564.0,\n 129404.0,\n 81788.0,\n 100832.0,\n 93104.0,\n 107036.0,\n 124756.0,\n 125688.0,\n 114664.0,\n 122456.0,\n 121012.0,\n 129392.0,\n 93724.0,\n 120328.0,\n 92424.0,\n 73184.0,\n 109124.0,\n 108084.0,\n 101820.0,\n 112496.0,\n 77272.0,\n 123436.0,\n 103992.0,\n 119552.0,\n 118720.0,\n 83704.0,\n 106712.0,\n 103844.0,\n 87420.0,\n 109452.0,\n 130244.0,\n 96980.0,\n 117096.0,\n 101412.0,\n 76440.0,\n 78572.0,\n 73860.0,\n 111560.0,\n 70684.0,\n 133488.0,\n 124128.0,\n 96660.0,\n 72824.0,\n 110312.0,\n 71792.0,\n 112684.0,\n 76664.0,\n 70788.0,\n 128080.0,\n 98776.0,\n 124436.0,\n 75936.0,\n 119912.0,\n 90468.0,\n 70504.0,\n 75624.0,\n 107712.0,\n 116472.0,\n 101560.0,\n 80796.0,\n 86840.0,\n 77084.0,\n 113660.0,\n 96744.0,\n 75308.0,\n 116296.0,\n 109724.0,\n 125084.0,\n 83540.0,\n 129244.0,\n 74416.0,\n 120088.0,\n 81652.0,\n 74148.0,\n 124152.0,\n 89552.0,\n 130588.0,\n 70336.0,\n 85972.0,\n 73928.0,\n 121788.0,\n 92416.0,\n 80380.0,\n 124884.0,\n 91124.0,\n 94372.0,\n 112320.0,\n 89644.0,\n 87872.0,\n 112864.0,\n 119072.0,\n 72160.0,\n 130124.0,\n 99116.0,\n 86652.0,\n 110612.0,\n 115744.0,\n 101460.0,\n 111340.0,\n 106720.0,\n 77820.0,\n 103232.0,\n 75328.0,\n 90248.0,\n 95540.0,\n 91848.0,\n 88320.0,\n 128808.0,\n 129972.0,\n 85896.0,\n 103092.0,\n 80388.0,\n 97340.0,\n 97600.0,\n 95820.0,\n 86664.0,\n 98352.0,\n 72672.0,\n 117260.0,\n 81584.0,\n 92048.0,\n 76544.0,\n 79048.0,\n 104172.0,\n 75688.0,\n 102048.0,\n 108072.0,\n 113472.0,\n 98868.0,\n 74600.0,\n 91580.0,\n 94560.0,\n 91916.0,\n 100796.0,\n 120420.0,\n 103164.0,\n 78644.0,\n 100132.0,\n 132116.0,\n 109012.0,\n 84332.0,\n 134872.0,\n 128252.0,\n 86608.0,\n 79456.0,\n 125880.0,\n 88188.0,\n 89948.0,\n 101304.0,\n 89292.0,\n 99960.0,\n 134352.0,\n 102840.0,\n 121084.0,\n 75780.0,\n 120884.0,\n 117880.0,\n 84732.0,\n 98356.0,\n 99820.0,\n 103116.0,\n 84540.0,\n 97948.0,\n 112784.0,\n 120132.0,\n 83116.0,\n 103848.0,\n 79860.0,\n 80420.0,\n 102268.0,\n 134684.0,\n 88112.0,\n 121056.0,\n 119204.0,\n 130404.0,\n 100908.0,\n 98768.0,\n 83084.0,\n 85452.0,\n 121204.0,\n 93452.0,\n 73684.0,\n 97780.0,\n 78440.0,\n 70964.0,\n 131248.0,\n 120604.0,\n 96060.0,\n 83528.0,\n 134828.0,\n 100980.0,\n 93160.0,\n 129356.0,\n ...]"
     },
     "metadata": {},
     "execution_count": 82
    }
   ],
   "source": [
    "print(\"Media Salarial {0}\".format(df[\"MediaSalarial\"][0].round(2)))\n",
    "list(filter(lambda numero: numero > df[\"MediaSalarial\"][0],df[\"SalarioEmDolar\"]))"
   ]
  },
  {
   "cell_type": "markdown",
   "metadata": {},
   "source": [
    "5)    Se o presidente da multinacional quiser aumentar em 10% todos os salários da empresa abaixo do salário médio, quanto ele gastaria a mais por mês com os funcionários (calcule e responda em dólares)?"
   ]
  },
  {
   "cell_type": "code",
   "execution_count": 83,
   "metadata": {},
   "outputs": [],
   "source": [
    "def aumentoSalario(valor,porcentagem =None):\n",
    "    if(porcentagem is None):\n",
    "        porcentagem = 0.10\n",
    "        \n",
    "    return  valor + (valor * porcentagem) "
   ]
  },
  {
   "cell_type": "markdown",
   "metadata": {},
   "source": [
    "### Isola somente os funcionarios que estão abaixo da media"
   ]
  },
  {
   "cell_type": "code",
   "execution_count": 84,
   "metadata": {},
   "outputs": [],
   "source": [
    "df_salarios_abaixo_da_media = df.query('SalarioEmDolar < MediaSalarial')"
   ]
  },
  {
   "cell_type": "markdown",
   "metadata": {},
   "source": [
    "### aplica o aumento em 10 %"
   ]
  },
  {
   "cell_type": "code",
   "execution_count": 85,
   "metadata": {},
   "outputs": [],
   "source": [
    "df_salarios_abaixo_da_media[\"AumentoSalarial\"] = df_salarios_abaixo_da_media[\"SalarioEmDolar\"].map(aumentoSalario)\n"
   ]
  },
  {
   "cell_type": "code",
   "execution_count": 86,
   "metadata": {},
   "outputs": [
    {
     "output_type": "execute_result",
     "data": {
      "text/plain": "    Salario  SalarioEmDolar  MediaSalarial  AumentoSalarial\n1    7334.0         29336.0   70052.168008          32269.6\n4   16724.0         66896.0   70052.168008          73585.6\n5   12478.0         49912.0   70052.168008          54903.2\n9    6705.0         26820.0   70052.168008          29502.0\n13  10961.0         43844.0   70052.168008          48228.4",
      "text/html": "<div>\n<style scoped>\n    .dataframe tbody tr th:only-of-type {\n        vertical-align: middle;\n    }\n\n    .dataframe tbody tr th {\n        vertical-align: top;\n    }\n\n    .dataframe thead th {\n        text-align: right;\n    }\n</style>\n<table border=\"1\" class=\"dataframe\">\n  <thead>\n    <tr style=\"text-align: right;\">\n      <th></th>\n      <th>Salario</th>\n      <th>SalarioEmDolar</th>\n      <th>MediaSalarial</th>\n      <th>AumentoSalarial</th>\n    </tr>\n  </thead>\n  <tbody>\n    <tr>\n      <th>1</th>\n      <td>7334.0</td>\n      <td>29336.0</td>\n      <td>70052.168008</td>\n      <td>32269.6</td>\n    </tr>\n    <tr>\n      <th>4</th>\n      <td>16724.0</td>\n      <td>66896.0</td>\n      <td>70052.168008</td>\n      <td>73585.6</td>\n    </tr>\n    <tr>\n      <th>5</th>\n      <td>12478.0</td>\n      <td>49912.0</td>\n      <td>70052.168008</td>\n      <td>54903.2</td>\n    </tr>\n    <tr>\n      <th>9</th>\n      <td>6705.0</td>\n      <td>26820.0</td>\n      <td>70052.168008</td>\n      <td>29502.0</td>\n    </tr>\n    <tr>\n      <th>13</th>\n      <td>10961.0</td>\n      <td>43844.0</td>\n      <td>70052.168008</td>\n      <td>48228.4</td>\n    </tr>\n  </tbody>\n</table>\n</div>"
     },
     "metadata": {},
     "execution_count": 86
    }
   ],
   "source": [
    "df_salarios_abaixo_da_media.head(5)"
   ]
  },
  {
   "cell_type": "code",
   "execution_count": 91,
   "metadata": {},
   "outputs": [
    {
     "output_type": "execute_result",
     "data": {
      "text/plain": "'pt_BR.UTF-8'"
     },
     "metadata": {},
     "execution_count": 91
    }
   ],
   "source": [
    "locale.setlocale(locale.LC_ALL, 'pt_BR.UTF-8')"
   ]
  },
  {
   "cell_type": "code",
   "execution_count": 95,
   "metadata": {},
   "outputs": [
    {
     "output_type": "stream",
     "name": "stdout",
     "text": "Valor: 402.443.690,00 em dolares\n"
    }
   ],
   "source": [
    "soma_total_gasto_A_mais = fn.reduce((lambda a, b: a + b), df_salarios_abaixo_da_media[\"AumentoSalarial\"])\n",
    "\n",
    "soma_total_gasto_A_mais = locale.currency(soma_total_gasto_A_mais, grouping=True, symbol=None)\n",
    "\n",
    "\n",
    "print(('Valor: %s em dolares' % soma_total_gasto_A_mais))"
   ]
  }
 ],
 "metadata": {
  "language_info": {
   "codemirror_mode": {
    "name": "ipython",
    "version": 3
   },
   "file_extension": ".py",
   "mimetype": "text/x-python",
   "name": "python",
   "nbconvert_exporter": "python",
   "pygments_lexer": "ipython3",
   "version": "3.7.7-final"
  },
  "orig_nbformat": 2,
  "kernelspec": {
   "name": "python37764bitdeeplearningconda70b0a9c2c78b49cfaeeb6e88dd7dfba8",
   "display_name": "Python 3.7.7 64-bit ('Deep Learning': conda)"
  }
 },
 "nbformat": 4,
 "nbformat_minor": 2
}