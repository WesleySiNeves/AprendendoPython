{
 "cells": [
  {
   "cell_type": "markdown",
   "metadata": {},
   "source": [
    "Wesley Neves\n",
    "\n",
    "Projeto Final 01 – Peso: 4 pontos\n",
    "\n",
    "Utilizando majoritariamente as funções map, filter e reduce do próprio Python (vistas na Aula 07), e considerando a lista de salários mensais (em reais) dos funcionários de uma determinada empresa nacional, recém-adquirida por uma empresa multinacional, armazenados no arquivo “salarios.csv” (disponível no próprio Moodle), codifique em Python e responda às seguintes perguntas:\n",
    "\n",
    "1)    Qual o maior salário (em reais)?\n",
    "\n",
    "2)    Qual o menor salário (em reais)?\n",
    "\n",
    "3)    Converta todos os salários (em reais) para dólares e encontre a soma total dos salários dos funcionários da companhia (resultado também em dólares) – considere 1 dólar equivalente a 4 reais.\n",
    "\n",
    "4)    Encontre o salário médio dos funcionários (em dólares) e liste todos os salários existentes acima deste valor (valores também em dólares).\n",
    "\n",
    "5)    Se o presidente da multinacional quiser aumentar em 10% todos os salários da empresa abaixo do salário médio, quanto ele gastaria a mais por mês com os funcionários (calcule e responda em dólares)?\n",
    "\n",
    "OBS: Não é necessário enviar um relatório/texto escrito com as respostas, documente cada linha de código de seu programa e comente as respostas após cada linha de comando, se possível em um Jupyter Notebook. Poste o código bem documentado (com comentários, etc.)  aqui.\n",
    "\n",
    "Não esqueça de identificar-se."
   ]
  },
  {
   "cell_type": "code",
   "execution_count": 135,
   "metadata": {},
   "outputs": [],
   "source": [
    "import numpy as np\n",
    "import pandas as pd\n",
    "import functools as fn\n",
    "\n",
    "from pyspark import SparkContext\n",
    "sc=SparkContext.getOrCreate()"
   ]
  },
  {
   "cell_type": "code",
   "execution_count": 136,
   "metadata": {},
   "outputs": [],
   "source": [
    "df = pd.read_csv('salarios.csv')"
   ]
  },
  {
   "cell_type": "code",
   "execution_count": 139,
   "metadata": {},
   "outputs": [
    {
     "output_type": "execute_result",
     "data": {
      "text/plain": "(19999, 1)"
     },
     "metadata": {},
     "execution_count": 139
    }
   ],
   "source": [
    "\n",
    "\n",
    "df.columns =[\"Salario\"]\n",
    "\n",
    "df[\"Salario\"].astype(float)\n",
    "\n",
    "df.shape"
   ]
  },
  {
   "cell_type": "code",
   "execution_count": 140,
   "metadata": {},
   "outputs": [
    {
     "output_type": "execute_result",
     "data": {
      "text/plain": "   Salario\n0  19467.0\n1   7334.0\n2  27500.0\n3  20169.0\n4  16724.0",
      "text/html": "<div>\n<style scoped>\n    .dataframe tbody tr th:only-of-type {\n        vertical-align: middle;\n    }\n\n    .dataframe tbody tr th {\n        vertical-align: top;\n    }\n\n    .dataframe thead th {\n        text-align: right;\n    }\n</style>\n<table border=\"1\" class=\"dataframe\">\n  <thead>\n    <tr style=\"text-align: right;\">\n      <th></th>\n      <th>Salario</th>\n    </tr>\n  </thead>\n  <tbody>\n    <tr>\n      <th>0</th>\n      <td>19467.0</td>\n    </tr>\n    <tr>\n      <th>1</th>\n      <td>7334.0</td>\n    </tr>\n    <tr>\n      <th>2</th>\n      <td>27500.0</td>\n    </tr>\n    <tr>\n      <th>3</th>\n      <td>20169.0</td>\n    </tr>\n    <tr>\n      <th>4</th>\n      <td>16724.0</td>\n    </tr>\n  </tbody>\n</table>\n</div>"
     },
     "metadata": {},
     "execution_count": 140
    }
   ],
   "source": [
    "df.head(5)"
   ]
  },
  {
   "cell_type": "code",
   "execution_count": 141,
   "metadata": {},
   "outputs": [],
   "source": [
    "from pyspark.context import SparkContext\n",
    "from pyspark.sql.session import SparkSession\n",
    "from pyspark.sql.functions import *\n",
    "spark = SparkSession(sc)"
   ]
  },
  {
   "cell_type": "code",
   "execution_count": 142,
   "metadata": {},
   "outputs": [],
   "source": [
    "data_Spark = spark.createDataFrame(df)"
   ]
  },
  {
   "cell_type": "code",
   "execution_count": 143,
   "metadata": {},
   "outputs": [
    {
     "output_type": "execute_result",
     "data": {
      "text/plain": "DataFrame[Salario: double]"
     },
     "metadata": {},
     "execution_count": 143
    }
   ],
   "source": [
    "data_Spark"
   ]
  },
  {
   "cell_type": "code",
   "execution_count": 144,
   "metadata": {},
   "outputs": [],
   "source": [
    "rddList = data_Spark.rdd"
   ]
  },
  {
   "cell_type": "code",
   "execution_count": 145,
   "metadata": {},
   "outputs": [
    {
     "output_type": "execute_result",
     "data": {
      "text/plain": "pyspark.rdd.RDD"
     },
     "metadata": {},
     "execution_count": 145
    }
   ],
   "source": [
    "type(rddList)"
   ]
  },
  {
   "cell_type": "markdown",
   "metadata": {},
   "source": [
    "## 1) Qual o maior salário (em reais)?"
   ]
  },
  {
   "cell_type": "code",
   "execution_count": 146,
   "metadata": {
    "tags": []
   },
   "outputs": [
    {
     "output_type": "stream",
     "name": "stdout",
     "text": "Row(Salario=33765.0)\n"
    }
   ],
   "source": [
    "get_maior_salario =  rddList.reduce(lambda x, y : x if(x > y) else y)\n",
    "\n",
    "print(get_maior_salario)\n",
    "## em python\n",
    "# fn.reduce(lambda x, y : x if(x > y) else y,df[\"Salario\"])"
   ]
  },
  {
   "cell_type": "markdown",
   "metadata": {},
   "source": [
    "## 2) Qual o menor salário (em reais)?"
   ]
  },
  {
   "cell_type": "code",
   "execution_count": 147,
   "metadata": {
    "tags": []
   },
   "outputs": [
    {
     "output_type": "stream",
     "name": "stdout",
     "text": "Row(Salario=1001.0)\n"
    }
   ],
   "source": [
    "get_menor_salario =  rddList.reduce(lambda x, y : x if(x < y) else y)\n",
    "\n",
    "\n",
    "print(get_menor_salario)\n",
    "## em python \n",
    "# fn.reduce(lambda x, y : x if(x < y) else y,df[\"Salario\"])\n"
   ]
  },
  {
   "cell_type": "code",
   "execution_count": 150,
   "metadata": {},
   "outputs": [
    {
     "output_type": "execute_result",
     "data": {
      "text/plain": "[Row(Salario=19467.0),\n Row(Salario=7334.0),\n Row(Salario=27500.0),\n Row(Salario=20169.0),\n Row(Salario=16724.0),\n Row(Salario=12478.0),\n Row(Salario=30358.0),\n Row(Salario=27962.0),\n Row(Salario=25464.0),\n Row(Salario=6705.0)]"
     },
     "metadata": {},
     "execution_count": 150
    }
   ],
   "source": [
    "rddList.take(10)"
   ]
  },
  {
   "cell_type": "markdown",
   "metadata": {},
   "source": [
    "## 3) Converta todos os salários (em reais) para dólares e encontre a soma total dos salários dos funcionários da companhia (resultado também em dólares) – considere 1 dólar equivalente a 4 reais."
   ]
  },
  {
   "cell_type": "code",
   "execution_count": 151,
   "metadata": {},
   "outputs": [],
   "source": [
    "valor_dolar = 4\n",
    "\n",
    "def converteRealEmDolar(valor):\n",
    "    return (valor * valor_dolar)\n"
   ]
  },
  {
   "cell_type": "code",
   "execution_count": 153,
   "metadata": {},
   "outputs": [
    {
     "output_type": "execute_result",
     "data": {
      "text/plain": "[Row(Salario=19467.0, SalarioEmDolar=77868.0),\n Row(Salario=7334.0, SalarioEmDolar=29336.0),\n Row(Salario=27500.0, SalarioEmDolar=110000.0),\n Row(Salario=20169.0, SalarioEmDolar=80676.0),\n Row(Salario=16724.0, SalarioEmDolar=66896.0),\n Row(Salario=12478.0, SalarioEmDolar=49912.0),\n Row(Salario=30358.0, SalarioEmDolar=121432.0),\n Row(Salario=27962.0, SalarioEmDolar=111848.0),\n Row(Salario=25464.0, SalarioEmDolar=101856.0),\n Row(Salario=6705.0, SalarioEmDolar=26820.0)]"
     },
     "metadata": {},
     "execution_count": 153
    }
   ],
   "source": [
    "df = rddList.map(lambda x: (x[\"Salario\"],converteRealEmDolar(x[\"Salario\"]))).toDF([\"Salario\", \"SalarioEmDolar\"])\n",
    "\n",
    "df.take(10)"
   ]
  },
  {
   "cell_type": "markdown",
   "metadata": {},
   "source": [
    "## recuperar a soma total de salarios em dolar"
   ]
  },
  {
   "cell_type": "code",
   "execution_count": 154,
   "metadata": {
    "tags": []
   },
   "outputs": [
    {
     "output_type": "stream",
     "name": "stdout",
     "text": "1400973308.0\n"
    }
   ],
   "source": [
    "total = df.rdd.map(lambda s: s[\"SalarioEmDolar\"]).reduce(lambda a, b: a + b)\n",
    "print(total)"
   ]
  },
  {
   "cell_type": "markdown",
   "metadata": {},
   "source": [
    "## 4)    Encontre o salário médio dos funcionários (em dólares) e liste todos os salários existentes acima deste valor (valores também em dólares)."
   ]
  },
  {
   "cell_type": "markdown",
   "metadata": {},
   "source": [
    "### função de exemplo"
   ]
  },
  {
   "cell_type": "markdown",
   "metadata": {},
   "source": [
    "### Salario Medio"
   ]
  },
  {
   "cell_type": "code",
   "execution_count": null,
   "metadata": {},
   "outputs": [],
   "source": []
  },
  {
   "cell_type": "markdown",
   "metadata": {},
   "source": [
    "## liste todos os salários existentes acima deste valor"
   ]
  },
  {
   "cell_type": "markdown",
   "metadata": {},
   "source": [
    "5)    Se o presidente da multinacional quiser aumentar em 10% todos os salários da empresa abaixo do salário médio, quanto ele gastaria a mais por mês com os funcionários (calcule e responda em dólares)?"
   ]
  },
  {
   "cell_type": "markdown",
   "metadata": {},
   "source": [
    "### Isola somente os funcionarios que estão abaixo da media"
   ]
  },
  {
   "cell_type": "markdown",
   "metadata": {},
   "source": [
    "### aplica o aumento em 10 %"
   ]
  }
 ],
 "metadata": {
  "language_info": {
   "codemirror_mode": {
    "name": "ipython",
    "version": 3
   },
   "file_extension": ".py",
   "mimetype": "text/x-python",
   "name": "python",
   "nbconvert_exporter": "python",
   "pygments_lexer": "ipython3",
   "version": "3.7.6-final"
  },
  "orig_nbformat": 2,
  "kernelspec": {
   "name": "python3",
   "display_name": "Python 3"
  }
 },
 "nbformat": 4,
 "nbformat_minor": 2
}