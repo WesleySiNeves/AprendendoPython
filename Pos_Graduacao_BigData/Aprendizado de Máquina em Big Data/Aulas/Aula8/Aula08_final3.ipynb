{
 "cells": [
  {
   "cell_type": "code",
   "execution_count": 1,
   "metadata": {},
   "outputs": [
    {
     "name": "stdout",
     "output_type": "stream",
     "text": [
      "[[0, 1, 2, 3, 4], [5, 6, 7, 8, 9]]\n",
      "45\n"
     ]
    }
   ],
   "source": [
    "from pyspark import SparkContext\n",
    "import numpy as np\n",
    "\n",
    "sc=SparkContext.getOrCreate()\n",
    "\n",
    "rddList=sc.parallelize(np.array(range(10)),2)\n",
    "print(rddList.glom().collect())\n",
    "\n",
    "soma=rddList.reduce(lambda x,y:x+y)\n",
    "\n",
    "print(soma)"
   ]
  },
  {
   "cell_type": "code",
   "execution_count": 7,
   "metadata": {},
   "outputs": [
    {
     "name": "stdout",
     "output_type": "stream",
     "text": [
      "[('Gerente', 19000.0), ('Analista', 4000.0)]\n"
     ]
    }
   ],
   "source": [
    "listaFuncionarios=[(\"Gerente\",10000.00),(\"Gerente\",9000.00),(\"Analista\",3000.00),(\"Analista\",1000.00)]\n",
    "\n",
    "rddList2=sc.parallelize(listaFuncionarios)\n",
    "rddSoma=rddList2.reduceByKey(lambda x,y:x+y)\n",
    "\n",
    "print(rddSoma.collect())"
   ]
  },
  {
   "cell_type": "code",
   "execution_count": null,
   "metadata": {},
   "outputs": [],
   "source": []
  }
 ],
 "metadata": {
  "kernelspec": {
   "display_name": "Python 2",
   "language": "python",
   "name": "python2"
  },
  "language_info": {
   "codemirror_mode": {
    "name": "ipython",
    "version": 2
   },
   "file_extension": ".py",
   "mimetype": "text/x-python",
   "name": "python",
   "nbconvert_exporter": "python",
   "pygments_lexer": "ipython2",
   "version": "2.7.16"
  }
 },
 "nbformat": 4,
 "nbformat_minor": 2
}
