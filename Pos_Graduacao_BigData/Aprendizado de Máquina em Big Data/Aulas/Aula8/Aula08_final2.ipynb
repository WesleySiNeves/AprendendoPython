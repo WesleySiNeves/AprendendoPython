{
 "cells": [
  {
   "cell_type": "code",
   "execution_count": 1,
   "metadata": {},
   "outputs": [],
   "source": [
    "from pyspark import SparkContext\n",
    "\n",
    "sc=SparkContext.getOrCreate()"
   ]
  },
  {
   "cell_type": "code",
   "execution_count": 2,
   "metadata": {},
   "outputs": [],
   "source": [
    "rddBiblia=sc.textFile(\"biblia.txt\")"
   ]
  },
  {
   "cell_type": "code",
   "execution_count": 4,
   "metadata": {},
   "outputs": [
    {
     "data": {
      "text/plain": [
       "[u'The Project Gutenberg EBook of The King James Bible',\n",
       " u'',\n",
       " u'',\n",
       " u'**********************************************************************',\n",
       " u\"EBOOK (#10) WAS ONE OF PROJECT GUTENBERG'S EARLY FILES PRODUCED AT A\",\n",
       " u'TIME WHEN PROOFING METHODS AND TOOLS WERE NOT WELL DEVELOPED. THERE IS',\n",
       " u'AN IMPROVED EDITION OF THIS TITLE WHICH MAY VIEWED AT EBOOK http://www.gutenberg.org/files/10900/10900-h/10900-h.htm',\n",
       " u'(There is no text file for this ebook)',\n",
       " u'**********************************************************************',\n",
       " u'']"
      ]
     },
     "execution_count": 4,
     "metadata": {},
     "output_type": "execute_result"
    }
   ],
   "source": [
    "rddBiblia.take(10)"
   ]
  },
  {
   "cell_type": "code",
   "execution_count": 5,
   "metadata": {},
   "outputs": [],
   "source": [
    "rddJesus=rddBiblia.filter(lambda linha: 'Jesus' in linha)"
   ]
  },
  {
   "cell_type": "code",
   "execution_count": 6,
   "metadata": {},
   "outputs": [
    {
     "data": {
      "text/plain": [
       "[u'1:1 The book of the generation of Jesus Christ, the son of David, the',\n",
       " u'Joseph the husband of Mary, of whom was born Jesus, who is called',\n",
       " u'1:18 Now the birth of Jesus Christ was on this wise: When as his']"
      ]
     },
     "execution_count": 6,
     "metadata": {},
     "output_type": "execute_result"
    }
   ],
   "source": [
    "rddJesus.take(3)"
   ]
  },
  {
   "cell_type": "code",
   "execution_count": 7,
   "metadata": {},
   "outputs": [
    {
     "data": {
      "text/plain": [
       "966"
      ]
     },
     "execution_count": 7,
     "metadata": {},
     "output_type": "execute_result"
    }
   ],
   "source": [
    "rddJesus.count()"
   ]
  },
  {
   "cell_type": "code",
   "execution_count": 9,
   "metadata": {},
   "outputs": [],
   "source": [
    "rddChrist=rddBiblia.filter(lambda linha: 'Christ' in linha)"
   ]
  },
  {
   "cell_type": "code",
   "execution_count": 10,
   "metadata": {},
   "outputs": [
    {
     "data": {
      "text/plain": [
       "[u'1:1 The book of the generation of Jesus Christ, the son of David, the',\n",
       " u'Christ.',\n",
       " u'Christ are fourteen generations.']"
      ]
     },
     "execution_count": 10,
     "metadata": {},
     "output_type": "execute_result"
    }
   ],
   "source": [
    "rddChrist.take(3)"
   ]
  },
  {
   "cell_type": "code",
   "execution_count": 12,
   "metadata": {},
   "outputs": [
    {
     "data": {
      "text/plain": [
       "570"
      ]
     },
     "execution_count": 12,
     "metadata": {},
     "output_type": "execute_result"
    }
   ],
   "source": [
    "rddChrist.count()"
   ]
  },
  {
   "cell_type": "code",
   "execution_count": 13,
   "metadata": {},
   "outputs": [],
   "source": [
    "rddJesusChrist=rddJesus.intersection(rddChrist)"
   ]
  },
  {
   "cell_type": "code",
   "execution_count": 14,
   "metadata": {},
   "outputs": [
    {
     "data": {
      "text/plain": [
       "227"
      ]
     },
     "execution_count": 14,
     "metadata": {},
     "output_type": "execute_result"
    }
   ],
   "source": [
    "rddJesusChrist.count()"
   ]
  },
  {
   "cell_type": "code",
   "execution_count": 15,
   "metadata": {},
   "outputs": [
    {
     "data": {
      "text/plain": [
       "[u'and in the kingdom and patience of Jesus Christ, was in the isle that',\n",
       " u'prayer, and the supply of the Spirit of Jesus Christ, 1:20 According',\n",
       " u'of his grace in his kindness toward us through Christ Jesus.',\n",
       " u'rejected; but received me as an angel of God, even as Christ Jesus.',\n",
       " u'Father and the Lord Jesus Christ our Saviour.',\n",
       " u'rejoicing which I have in Christ Jesus our LORD, I die daily.',\n",
       " u'1:8 First, I thank my God through Jesus Christ for you all, that your',\n",
       " u'there is neither male nor female: for ye are all one in Christ Jesus.',\n",
       " u'16:3 Greet Priscilla and Aquila my helpers in Christ Jesus: 16:4 Who',\n",
       " u'Lord Jesus Christ may be glorified in you, and ye in him, according to']"
      ]
     },
     "execution_count": 15,
     "metadata": {},
     "output_type": "execute_result"
    }
   ],
   "source": [
    "rddJesusChrist.take(10)"
   ]
  },
  {
   "cell_type": "code",
   "execution_count": null,
   "metadata": {},
   "outputs": [],
   "source": []
  }
 ],
 "metadata": {
  "kernelspec": {
   "display_name": "Python 2",
   "language": "python",
   "name": "python2"
  },
  "language_info": {
   "codemirror_mode": {
    "name": "ipython",
    "version": 2
   },
   "file_extension": ".py",
   "mimetype": "text/x-python",
   "name": "python",
   "nbconvert_exporter": "python",
   "pygments_lexer": "ipython2",
   "version": "2.7.16"
  }
 },
 "nbformat": 4,
 "nbformat_minor": 2
}
