{
  "cells": [
    {
      "cell_type": "code",
      "metadata": {
        "id": "pweSq0wEJzE6",
        "colab_type": "code",
        "colab": {
          "base_uri": "https://localhost:8080/",
          "height": 35
        },
        "outputId": "81e425f8-2381-4c79-f6e8-c281fed704e5",
        "tags": []
      },
      "source": [
        "# Python puro\n",
        "\n",
        "lista=[1,2,3,4,5]\n",
        "\n",
        "dobro=lambda x:x*2 #outra forma de definir função lambda\n",
        "\n",
        "print(dobro(21))"
      ],
      "execution_count": 1,
      "outputs": [
        {
          "output_type": "stream",
          "name": "stdout",
          "text": "42\n"
        }
      ]
    },
    {
      "cell_type": "code",
      "metadata": {
        "id": "gz584dK0Ow6c",
        "colab_type": "code",
        "colab": {
          "base_uri": "https://localhost:8080/",
          "height": 35
        },
        "outputId": "60819e3d-782c-4d02-92d0-5d6f74d87d09",
        "tags": []
      },
      "source": [
        "print(dobro(lista)) #\"python não suporta paralelismo\" "
      ],
      "execution_count": 2,
      "outputs": [
        {
          "output_type": "stream",
          "name": "stdout",
          "text": "[1, 2, 3, 4, 5, 1, 2, 3, 4, 5]\n"
        }
      ]
    },
    {
      "cell_type": "code",
      "metadata": {
        "id": "Qj9CmyIiO6C3",
        "colab_type": "code",
        "colab": {
          "base_uri": "https://localhost:8080/",
          "height": 35
        },
        "outputId": "7b8d46e3-1658-4abb-a1e9-07c47dd0b601",
        "tags": []
      },
      "source": [
        "lst=[]\n",
        "\n",
        "for i in lista:\n",
        "  num=i*2\n",
        "  lst.append(num)\n",
        "\n",
        "print(lst)  "
      ],
      "execution_count": 3,
      "outputs": [
        {
          "output_type": "stream",
          "name": "stdout",
          "text": "[2, 4, 6, 8, 10]\n"
        }
      ]
    },
    {
      "cell_type": "code",
      "metadata": {
        "id": "2Mp0Y_IyPZm1",
        "colab_type": "code",
        "colab": {
          "base_uri": "https://localhost:8080/",
          "height": 35
        },
        "outputId": "82ff8156-2cb0-4feb-a8ff-f5ec0c91972d",
        "tags": []
      },
      "source": [
        "lst=[item*2 for item in lista] #outra forma de função lambdalist comprehension\n",
        "print(lst)"
      ],
      "execution_count": 4,
      "outputs": [
        {
          "output_type": "stream",
          "name": "stdout",
          "text": "[2, 4, 6, 8, 10]\n"
        }
      ]
    },
    {
      "cell_type": "code",
      "metadata": {
        "id": "ZqgbmCpaPwBO",
        "colab_type": "code",
        "colab": {
          "base_uri": "https://localhost:8080/",
          "height": 35
        },
        "outputId": "c6c1d63d-d10d-47a5-b6d0-4697aa619d5b",
        "tags": []
      },
      "source": [
        "# Trabalhando com functools\n",
        "\n",
        "lista=[11,12,13,14,15]\n",
        "\n",
        "def soma_dez(num):\n",
        "  return num+10\n",
        "\n",
        "print(soma_dez(21))"
      ],
      "execution_count": 5,
      "outputs": [
        {
          "output_type": "stream",
          "name": "stdout",
          "text": "31\n"
        }
      ]
    },
    {
      "cell_type": "code",
      "metadata": {
        "id": "UKULSqhgRGcO",
        "colab_type": "code",
        "colab": {
          "base_uri": "https://localhost:8080/",
          "height": 35
        },
        "outputId": "3b188407-5a5b-445a-ac89-ba06d95630a2",
        "tags": []
      },
      "source": [
        "lista_map=map(soma_dez, lista) # usando função lambda -> lista_map=map(lambda x:x+10,lista)\n",
        "print(list(lista_map))"
      ],
      "execution_count": 6,
      "outputs": [
        {
          "output_type": "stream",
          "name": "stdout",
          "text": "[21, 22, 23, 24, 25]\n"
        }
      ]
    },
    {
      "cell_type": "code",
      "metadata": {
        "id": "HIgaUjY5RL7u",
        "colab_type": "code",
        "colab": {
          "base_uri": "https://localhost:8080/",
          "height": 108
        },
        "outputId": "bb1dda86-cfa3-45da-a0b0-ebc545eaa80e",
        "tags": []
      },
      "source": [
        "lista=[1,2,3,4,5]\n",
        "\n",
        "def impar(num):\n",
        "  if num%2>0:\n",
        "    return True\n",
        "  else:\n",
        "    return False\n",
        "\n",
        "for i in lista:\n",
        "  print(impar(i))"
      ],
      "execution_count": 7,
      "outputs": [
        {
          "output_type": "stream",
          "name": "stdout",
          "text": "True\nFalse\nTrue\nFalse\nTrue\n"
        }
      ]
    },
    {
      "cell_type": "code",
      "metadata": {
        "id": "yGKNnHFrS40I",
        "colab_type": "code",
        "colab": {
          "base_uri": "https://localhost:8080/",
          "height": 35
        },
        "outputId": "30c0f688-4826-4c3e-cf42-eb9edb585f4f"
      },
      "source": [
        "lista_map=map(impar, lista)\n",
        "print(list(lista_map))"
      ],
      "execution_count": 12,
      "outputs": [
        {
          "output_type": "stream",
          "text": [
            "[True, False, True, False, True]\n"
          ],
          "name": "stdout"
        }
      ]
    },
    {
      "cell_type": "code",
      "metadata": {
        "id": "S--KBVNQTjqc",
        "colab_type": "code",
        "colab": {}
      },
      "source": [
        "import pandas as pd # para trabalhar com arquivos CSV\n",
        "\n",
        "df=pd.read_csv('notas.csv')"
      ],
      "execution_count": 8,
      "outputs": []
    },
    {
      "cell_type": "code",
      "metadata": {
        "id": "9zhL1O8qVGVQ",
        "colab_type": "code",
        "colab": {
          "base_uri": "https://localhost:8080/",
          "height": 145
        },
        "outputId": "f544aa9a-c259-4ef2-eef8-66b183a9fd27",
        "tags": []
      },
      "source": [
        "print(df)"
      ],
      "execution_count": 9,
      "outputs": [
        {
          "output_type": "stream",
          "name": "stdout",
          "text": "nome  matricula  av1   av2\n0      Andressa Marques    1222019  5.0   6.5\n1          Bruno Farias    1402019  4.5   5.2\n2  Fernanda Vasconcelos    1012019  7.0   5.6\n3           Diego Braga    1502019  9.8   4.0\n4         Edson Jacques    1452019  5.0  10.0\n5     Larissa Fernandes    1412019  6.0   7.5\n"
        }
      ]
    },
    {
      "cell_type": "code",
      "metadata": {
        "id": "YMWwy469VOi7",
        "colab_type": "code",
        "colab": {
          "base_uri": "https://localhost:8080/",
          "height": 145
        },
        "outputId": "3c1ef3b5-55bc-4219-86ed-0ce25c17640f",
        "tags": []
      },
      "source": [
        "df_av1=pd.DataFrame(df,columns=['av1'])\n",
        "print(df_av1)"
      ],
      "execution_count": 12,
      "outputs": [
        {
          "output_type": "stream",
          "name": "stdout",
          "text": "av1\n0  5.0\n1  4.5\n2  7.0\n3  9.8\n4  5.0\n5  6.0\n"
        }
      ]
    },
    {
      "cell_type": "code",
      "metadata": {
        "id": "2zY-p1lvWiRc",
        "colab_type": "code",
        "colab": {
          "base_uri": "https://localhost:8080/",
          "height": 35
        },
        "outputId": "e7ad2137-6a58-4fa5-82ff-59245b732876"
      },
      "source": [
        "lista_notas_av1=df_av1.values.tolist()\n",
        "\n",
        "lista_map_av1=map(lambda x:x[0]-media, lista_notas_av1)\n",
        "\n",
        "print(list(lista_map_av1))"
      ],
      "execution_count": 13,
      "outputs": [
        {
          "output_type": "error",
          "ename": "NameError",
          "evalue": "name 'media' is not defined",
          "traceback": [
            "\u001b[1;31m---------------------------------------------------------------------------\u001b[0m",
            "\u001b[1;31mNameError\u001b[0m                                 Traceback (most recent call last)",
            "\u001b[1;32m<ipython-input-13-b26ba57bc5dd>\u001b[0m in \u001b[0;36m<module>\u001b[1;34m\u001b[0m\n\u001b[0;32m      3\u001b[0m \u001b[0mlista_map_av1\u001b[0m\u001b[1;33m=\u001b[0m\u001b[0mmap\u001b[0m\u001b[1;33m(\u001b[0m\u001b[1;32mlambda\u001b[0m \u001b[0mx\u001b[0m\u001b[1;33m:\u001b[0m\u001b[0mx\u001b[0m\u001b[1;33m[\u001b[0m\u001b[1;36m0\u001b[0m\u001b[1;33m]\u001b[0m\u001b[1;33m-\u001b[0m\u001b[0mmedia\u001b[0m\u001b[1;33m,\u001b[0m \u001b[0mlista_notas_av1\u001b[0m\u001b[1;33m)\u001b[0m\u001b[1;33m\u001b[0m\u001b[1;33m\u001b[0m\u001b[0m\n\u001b[0;32m      4\u001b[0m \u001b[1;33m\u001b[0m\u001b[0m\n\u001b[1;32m----> 5\u001b[1;33m \u001b[0mprint\u001b[0m\u001b[1;33m(\u001b[0m\u001b[0mlist\u001b[0m\u001b[1;33m(\u001b[0m\u001b[0mlista_map_av1\u001b[0m\u001b[1;33m)\u001b[0m\u001b[1;33m)\u001b[0m\u001b[1;33m\u001b[0m\u001b[1;33m\u001b[0m\u001b[0m\n\u001b[0m",
            "\u001b[1;32m<ipython-input-13-b26ba57bc5dd>\u001b[0m in \u001b[0;36m<lambda>\u001b[1;34m(x)\u001b[0m\n\u001b[0;32m      1\u001b[0m \u001b[0mlista_notas_av1\u001b[0m\u001b[1;33m=\u001b[0m\u001b[0mdf_av1\u001b[0m\u001b[1;33m.\u001b[0m\u001b[0mvalues\u001b[0m\u001b[1;33m.\u001b[0m\u001b[0mtolist\u001b[0m\u001b[1;33m(\u001b[0m\u001b[1;33m)\u001b[0m\u001b[1;33m\u001b[0m\u001b[1;33m\u001b[0m\u001b[0m\n\u001b[0;32m      2\u001b[0m \u001b[1;33m\u001b[0m\u001b[0m\n\u001b[1;32m----> 3\u001b[1;33m \u001b[0mlista_map_av1\u001b[0m\u001b[1;33m=\u001b[0m\u001b[0mmap\u001b[0m\u001b[1;33m(\u001b[0m\u001b[1;32mlambda\u001b[0m \u001b[0mx\u001b[0m\u001b[1;33m:\u001b[0m\u001b[0mx\u001b[0m\u001b[1;33m[\u001b[0m\u001b[1;36m0\u001b[0m\u001b[1;33m]\u001b[0m\u001b[1;33m-\u001b[0m\u001b[0mmedia\u001b[0m\u001b[1;33m,\u001b[0m \u001b[0mlista_notas_av1\u001b[0m\u001b[1;33m)\u001b[0m\u001b[1;33m\u001b[0m\u001b[1;33m\u001b[0m\u001b[0m\n\u001b[0m\u001b[0;32m      4\u001b[0m \u001b[1;33m\u001b[0m\u001b[0m\n\u001b[0;32m      5\u001b[0m \u001b[0mprint\u001b[0m\u001b[1;33m(\u001b[0m\u001b[0mlist\u001b[0m\u001b[1;33m(\u001b[0m\u001b[0mlista_map_av1\u001b[0m\u001b[1;33m)\u001b[0m\u001b[1;33m)\u001b[0m\u001b[1;33m\u001b[0m\u001b[1;33m\u001b[0m\u001b[0m\n",
            "\u001b[1;31mNameError\u001b[0m: name 'media' is not defined"
          ]
        }
      ]
    },
    {
      "cell_type": "code",
      "metadata": {
        "id": "NuAC77INXGqv",
        "colab_type": "code",
        "colab": {
          "base_uri": "https://localhost:8080/",
          "height": 145
        },
        "outputId": "8d077aca-3cba-4bb8-94f1-6acb12225eb2"
      },
      "source": [
        "import csv\n",
        "\n",
        "with open('notas.csv') as csv_file:\n",
        "  csv_reader=csv.reader(csv_file,delimiter=',')\n",
        "\n",
        "  line_count=0\n",
        "  for row in csv_reader:\n",
        "    if line_count==0:\n",
        "      print(f'Os campos sao {\",\".join(row)}')\n",
        "      line_count+=1\n",
        "    else:\n",
        "      print(f'\\t{row[0]} tirou {row[2]} na AV1 e {row[3]} na AV2.')\n",
        "      line_count+=1\n"
      ],
      "execution_count": 23,
      "outputs": [
        {
          "output_type": "stream",
          "text": [
            "Os campos sao nome,matricula,av1,av2\n",
            "\tAndressa Marques tirou 5.0 na AV1 e 6.5 na AV2.\n",
            "\tBruno Farias tirou 4.5 na AV1 e 5.2 na AV2.\n",
            "\tFernanda Vasconcelos tirou 7.0 na AV1 e 5.6 na AV2.\n",
            "\tDiego Braga tirou 9.8 na AV1 e 4.0 na AV2.\n",
            "\tEdson Jacques tirou 5.0 na AV1 e 10.0 na AV2.\n",
            "\tLarissa Fernandes tirou 6.0 na AV1 e 7.5 na AV2.\n"
          ],
          "name": "stdout"
        }
      ]
    },
    {
      "cell_type": "code",
      "metadata": {
        "id": "YORWezn6axRe",
        "colab_type": "code",
        "colab": {
          "base_uri": "https://localhost:8080/",
          "height": 35
        },
        "outputId": "79cf4a55-8812-4972-c93a-e47151945068",
        "tags": []
      },
      "source": [
        "# função filter\n",
        "\n",
        "lista=[20,21,22,23,24,25]\n",
        "\n",
        "def impar(num):\n",
        "  if num%2>0:\n",
        "    return True\n",
        "  else:\n",
        "    return False\n",
        "\n",
        "lista_map=map(impar,lista)\n",
        "lista_filter=filter(impar,lista)\n",
        "\n",
        "print(list(lista_map))"
      ],
      "execution_count": 14,
      "outputs": [
        {
          "output_type": "stream",
          "name": "stdout",
          "text": "[False, True, False, True, False, True]\n"
        }
      ]
    },
    {
      "cell_type": "code",
      "metadata": {
        "id": "ZpBDiN10drtI",
        "colab_type": "code",
        "colab": {
          "base_uri": "https://localhost:8080/",
          "height": 35
        },
        "outputId": "97c85d18-01aa-455a-e286-1f4b14f0581a"
      },
      "source": [
        "print(list(lista_filter))"
      ],
      "execution_count": 26,
      "outputs": [
        {
          "output_type": "stream",
          "text": [
            "[21, 23, 25]\n"
          ],
          "name": "stdout"
        }
      ]
    },
    {
      "cell_type": "code",
      "metadata": {
        "id": "S-EugwI9d-xd",
        "colab_type": "code",
        "colab": {
          "base_uri": "https://localhost:8080/",
          "height": 35
        },
        "outputId": "0d236f0c-2ead-4332-cf88-71001c0396c7"
      },
      "source": [
        "# Utilizando função lambda\n",
        "\n",
        "lista_filter=filter(lambda x:x%2>0, lista)\n",
        "\n",
        "print(list(lista_filter))"
      ],
      "execution_count": 29,
      "outputs": [
        {
          "output_type": "stream",
          "text": [
            "[21, 23, 25]\n"
          ],
          "name": "stdout"
        }
      ]
    },
    {
      "cell_type": "code",
      "metadata": {
        "id": "jhKY5fFAe1fg",
        "colab_type": "code",
        "colab": {
          "base_uri": "https://localhost:8080/",
          "height": 35
        },
        "outputId": "80388e3b-fc50-4aca-db0a-c0900bfa0cb6",
        "tags": []
      },
      "source": [
        "lista_frases=[\"Estou feliz com o produto\",\"Vou ao Procon\",\"Gostei do atendimento\",\"Vou reclamar na ouvidoria\", \"Falei na ouvidoria\",\"Estou feliz com a empresa\"]\n",
        "\n",
        "#lista_frases_maiusc=[]\n",
        "\n",
        "#for i in lista_frases:\n",
        "#  i=i.upper()\n",
        "#  lista_frases_maiusc.append(i)\n",
        "\n",
        "lista_frases_maiusc=map(lambda frase:frase.upper(),lista_frases)\n",
        "#print(list(lista_frases_maiusc))\n",
        "\n",
        "lista_maiusc_final=list(lista_frases_maiusc)\n",
        "\n",
        "lista_frases_neg=filter(lambda frase:frase.count(\"OUVIDORIA\")>=1,lista_maiusc_final)\n",
        "print(list(lista_frases_neg))"
      ],
      "execution_count": 15,
      "outputs": [
        {
          "output_type": "stream",
          "name": "stdout",
          "text": "['VOU RECLAMAR NA OUVIDORIA', 'FALEI NA OUVIDORIA']\n"
        }
      ]
    },
    {
      "cell_type": "code",
      "metadata": {
        "id": "Bn3r3ePTgxmz",
        "colab_type": "code",
        "colab": {
          "base_uri": "https://localhost:8080/",
          "height": 35
        },
        "outputId": "c5d25194-6c6d-4fd4-c3f5-d8b98c082302"
      },
      "source": [
        "# Função reduce\n",
        "\n",
        "from functools import reduce\n",
        "\n",
        "lista=[1500, 3500, 2000, 5000, 7000, 10000]\n",
        "\n",
        "valorTotal_salarios=reduce(lambda x,y: x+y,lista)\n",
        "\n",
        "print(valorTotal_salarios)"
      ],
      "execution_count": 78,
      "outputs": [
        {
          "output_type": "stream",
          "text": [
            "29000\n"
          ],
          "name": "stdout"
        }
      ]
    },
    {
      "cell_type": "code",
      "metadata": {
        "id": "v2ODpXpyh2Ac",
        "colab_type": "code",
        "colab": {
          "base_uri": "https://localhost:8080/",
          "height": 35
        },
        "outputId": "1b90f280-ea2a-42d1-c366-33af77ee7026"
      },
      "source": [
        "maiorSalario=reduce(lambda x,y:x if (x>y) else y,lista)\n",
        "\n",
        "print(maiorSalario)"
      ],
      "execution_count": 79,
      "outputs": [
        {
          "output_type": "stream",
          "text": [
            "10000\n"
          ],
          "name": "stdout"
        }
      ]
    },
    {
      "cell_type": "code",
      "metadata": {
        "id": "oNczXo75sgWH",
        "colab_type": "code",
        "colab": {
          "base_uri": "https://localhost:8080/",
          "height": 54
        },
        "outputId": "6aa49332-e2c0-4fa7-d764-90732521a9af"
      },
      "source": [
        "lista=[1500, 3500, 2000, 5000, 7000, 10000]\n",
        "\n",
        "salarioMedio=reduce(lambda x,y: x+y, lista)/6\n",
        "\n",
        "print(\"%.3f\"%(salarioMedio))\n",
        "\n",
        "lista_salariosAcimaMedia=filter(lambda x:x>=salarioMedio,lista)\n",
        "\n",
        "print(list(lista_salariosAcimaMedia))"
      ],
      "execution_count": 104,
      "outputs": [
        {
          "output_type": "stream",
          "text": [
            "4833.333\n",
            "[5000, 7000, 10000]\n"
          ],
          "name": "stdout"
        }
      ]
    },
    {
      "cell_type": "code",
      "metadata": {
        "id": "xDZzLz8QsuwB",
        "colab_type": "code",
        "colab": {}
      },
      "source": [
        ""
      ],
      "execution_count": 0,
      "outputs": []
    },
    {
      "cell_type": "code",
      "metadata": {
        "id": "0cCoY2trvzsS",
        "colab_type": "code",
        "colab": {}
      },
      "source": [
        ""
      ],
      "execution_count": 0,
      "outputs": []
    }
  ],
  "metadata": {
    "colab": {
      "name": "Aula07.ipynb",
      "provenance": [],
      "collapsed_sections": []
    },
    "kernelspec": {
      "name": "python3",
      "display_name": "Python 3"
    }
  },
  "nbformat": 4,
  "nbformat_minor": 0
}