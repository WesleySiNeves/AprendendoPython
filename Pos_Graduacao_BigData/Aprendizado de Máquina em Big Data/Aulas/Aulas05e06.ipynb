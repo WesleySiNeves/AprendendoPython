{
  "cells": [
    {
      "cell_type": "code",
      "metadata": {
        "id": "B0TuXC7HUOwa",
        "colab_type": "code",
        "outputId": "4b4448eb-11d8-46ec-b4a0-b14ab8f7f18e",
        "colab": {
          "base_uri": "https://localhost:8080/",
          "height": 274
        }
      },
      "source": [
        "pip install pyspark"
      ],
      "execution_count": 3,
      "outputs": [
        {
          "output_type": "stream",
          "text": [
            "Collecting pyspark\n",
            "\u001b[?25l  Downloading https://files.pythonhosted.org/packages/9a/5a/271c416c1c2185b6cb0151b29a91fff6fcaed80173c8584ff6d20e46b465/pyspark-2.4.5.tar.gz (217.8MB)\n",
            "\u001b[K     |████████████████████████████████| 217.8MB 56kB/s \n",
            "\u001b[?25hCollecting py4j==0.10.7\n",
            "\u001b[?25l  Downloading https://files.pythonhosted.org/packages/e3/53/c737818eb9a7dc32a7cd4f1396e787bd94200c3997c72c1dbe028587bd76/py4j-0.10.7-py2.py3-none-any.whl (197kB)\n",
            "\u001b[K     |████████████████████████████████| 204kB 45.5MB/s \n",
            "\u001b[?25hBuilding wheels for collected packages: pyspark\n",
            "  Building wheel for pyspark (setup.py) ... \u001b[?25l\u001b[?25hdone\n",
            "  Created wheel for pyspark: filename=pyspark-2.4.5-py2.py3-none-any.whl size=218257927 sha256=a9b996dd4bd98a9233d955f4034320d62230fb132bb8fc1ee83f8a7a711ae9b3\n",
            "  Stored in directory: /root/.cache/pip/wheels/bf/db/04/61d66a5939364e756eb1c1be4ec5bdce6e04047fc7929a3c3c\n",
            "Successfully built pyspark\n",
            "Installing collected packages: py4j, pyspark\n",
            "Successfully installed py4j-0.10.7 pyspark-2.4.5\n"
          ],
          "name": "stdout"
        }
      ]
    },
    {
      "cell_type": "code",
      "metadata": {
        "id": "_gvoiDUIRyfW",
        "colab_type": "code",
        "colab": {}
      },
      "source": [
        "from pyspark import SparkContext\n",
        "sc=SparkContext.getOrCreate()"
      ],
      "execution_count": 1,
      "outputs": []
    },
    {
      "cell_type": "code",
      "metadata": {
        "id": "fiN_-cyISQ1Z",
        "colab_type": "code",
        "outputId": "9cb86873-1287-4cbb-aa2f-8d10d0e70682",
        "colab": {
          "base_uri": "https://localhost:8080/",
          "height": 35
        },
        "tags": []
      },
      "source": [
        "#funcao comum\n",
        "def soma(x,y):\n",
        "  return x+y\n",
        "\n",
        "print(soma(5,7))"
      ],
      "execution_count": 3,
      "outputs": [
        {
          "output_type": "stream",
          "name": "stdout",
          "text": "12\n"
        }
      ]
    },
    {
      "cell_type": "code",
      "metadata": {
        "id": "3COTY_fftq3t",
        "colab_type": "code",
        "outputId": "db0dd0e3-0020-465a-95a9-5d1ccfa0412d",
        "colab": {
          "base_uri": "https://localhost:8080/",
          "height": 35
        },
        "tags": []
      },
      "source": [
        "#funcao lambda\n",
        "soma=lambda x,y: x+y\n",
        "print(soma(5,7))\n"
      ],
      "execution_count": 4,
      "outputs": [
        {
          "output_type": "stream",
          "name": "stdout",
          "text": "12\n"
        }
      ]
    },
    {
      "cell_type": "code",
      "metadata": {
        "id": "TOafdb4eutnH",
        "colab_type": "code",
        "outputId": "4bd857f2-2472-46fb-a943-4a87e81c1583",
        "colab": {
          "base_uri": "https://localhost:8080/",
          "height": 201
        }
      },
      "source": [
        "#Erro pois funcao espera 2 valores e nao lista\n",
        "soma=lambda x,y: x+y\n",
        "resultado=soma([1,2,3,4])\n",
        "print(resultado)"
      ],
      "execution_count": 5,
      "outputs": [
        {
          "output_type": "error",
          "ename": "TypeError",
          "evalue": "<lambda>() missing 1 required positional argument: 'y'",
          "traceback": [
            "\u001b[1;31m---------------------------------------------------------------------------\u001b[0m",
            "\u001b[1;31mTypeError\u001b[0m                                 Traceback (most recent call last)",
            "\u001b[1;32m<ipython-input-5-a842006fcadd>\u001b[0m in \u001b[0;36m<module>\u001b[1;34m\u001b[0m\n\u001b[0;32m      1\u001b[0m \u001b[1;31m#Erro pois funcao espera 2 valores e nao lista\u001b[0m\u001b[1;33m\u001b[0m\u001b[1;33m\u001b[0m\u001b[1;33m\u001b[0m\u001b[0m\n\u001b[0;32m      2\u001b[0m \u001b[0msoma\u001b[0m\u001b[1;33m=\u001b[0m\u001b[1;32mlambda\u001b[0m \u001b[0mx\u001b[0m\u001b[1;33m,\u001b[0m\u001b[0my\u001b[0m\u001b[1;33m:\u001b[0m \u001b[0mx\u001b[0m\u001b[1;33m+\u001b[0m\u001b[0my\u001b[0m\u001b[1;33m\u001b[0m\u001b[1;33m\u001b[0m\u001b[0m\n\u001b[1;32m----> 3\u001b[1;33m \u001b[0mresultado\u001b[0m\u001b[1;33m=\u001b[0m\u001b[0msoma\u001b[0m\u001b[1;33m(\u001b[0m\u001b[1;33m[\u001b[0m\u001b[1;36m1\u001b[0m\u001b[1;33m,\u001b[0m\u001b[1;36m2\u001b[0m\u001b[1;33m,\u001b[0m\u001b[1;36m3\u001b[0m\u001b[1;33m,\u001b[0m\u001b[1;36m4\u001b[0m\u001b[1;33m]\u001b[0m\u001b[1;33m)\u001b[0m\u001b[1;33m\u001b[0m\u001b[1;33m\u001b[0m\u001b[0m\n\u001b[0m\u001b[0;32m      4\u001b[0m \u001b[0mprint\u001b[0m\u001b[1;33m(\u001b[0m\u001b[0mresultado\u001b[0m\u001b[1;33m)\u001b[0m\u001b[1;33m\u001b[0m\u001b[1;33m\u001b[0m\u001b[0m\n",
            "\u001b[1;31mTypeError\u001b[0m: <lambda>() missing 1 required positional argument: 'y'"
          ]
        }
      ]
    },
    {
      "cell_type": "code",
      "metadata": {
        "id": "owbrtg--wjfi",
        "colab_type": "code",
        "outputId": "822dcba5-5e6a-4860-bc93-9289d533d32d",
        "colab": {
          "base_uri": "https://localhost:8080/",
          "height": 35
        },
        "tags": []
      },
      "source": [
        "from functools import reduce\n",
        "\n",
        "resultado=reduce((lambda x,y: x+y),range(1000000))\n",
        "print(resultado)"
      ],
      "execution_count": 6,
      "outputs": [
        {
          "output_type": "stream",
          "name": "stdout",
          "text": "499999500000\n"
        }
      ]
    },
    {
      "cell_type": "code",
      "metadata": {
        "id": "Wbe21_nlxCjV",
        "colab_type": "code",
        "outputId": "d88a7959-7af3-40a1-cec0-c6cb93bc652a",
        "colab": {
          "base_uri": "https://localhost:8080/",
          "height": 35
        },
        "tags": []
      },
      "source": [
        "resultado=map((lambda x: x+1),[1,2,3,4])\n",
        "print(list(resultado))"
      ],
      "execution_count": 7,
      "outputs": [
        {
          "output_type": "stream",
          "name": "stdout",
          "text": "[2, 3, 4, 5]\n"
        }
      ]
    },
    {
      "cell_type": "code",
      "metadata": {
        "id": "NUeZrDxfzsdG",
        "colab_type": "code",
        "outputId": "db1b2f5d-648b-481a-a654-58c3e74cc5cb",
        "colab": {
          "base_uri": "https://localhost:8080/",
          "height": 35
        },
        "tags": []
      },
      "source": [
        "listaFrases=[\"A casa era branca.\",\"Hoje foi bom.\",\"Aula de ML em BD.\"]\n",
        "\n",
        "def maiusculo(fr):\n",
        "    listaMaiusc = []\n",
        "    for item in fr:\n",
        "      item = item.upper()\n",
        "      listaMaiusc.append(item)\n",
        "    return listaMaiusc\n",
        "\n",
        "frasesMaiusculas=maiusculo(listaFrases)\n",
        "print(frasesMaiusculas)"
      ],
      "execution_count": 8,
      "outputs": [
        {
          "output_type": "stream",
          "name": "stdout",
          "text": "['A CASA ERA BRANCA.', 'HOJE FOI BOM.', 'AULA DE ML EM BD.']\n"
        }
      ]
    },
    {
      "cell_type": "code",
      "metadata": {
        "id": "vOAZriKW1WO3",
        "colab_type": "code",
        "outputId": "e66767aa-0e83-4e2f-a20a-cc39813b3331",
        "colab": {
          "base_uri": "https://localhost:8080/",
          "height": 35
        },
        "tags": []
      },
      "source": [
        "listaFrases=[\"A casa era branca.\",\"Hoje foi bom.\",\"Aula de ML em BD.\"]\n",
        "frasesMaiusculas=map((lambda fr: fr.upper()),listaFrases)\n",
        "print(list(frasesMaiusculas))"
      ],
      "execution_count": 9,
      "outputs": [
        {
          "output_type": "stream",
          "name": "stdout",
          "text": "['A CASA ERA BRANCA.', 'HOJE FOI BOM.', 'AULA DE ML EM BD.']\n"
        }
      ]
    }
  ],
  "metadata": {
    "colab": {
      "name": "Aulas05e06.ipynb",
      "provenance": [],
      "collapsed_sections": []
    },
    "kernelspec": {
      "name": "python3",
      "display_name": "Python 3"
    }
  },
  "nbformat": 4,
  "nbformat_minor": 0
}