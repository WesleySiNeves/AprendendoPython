{
 "cells": [
  {
   "cell_type": "code",
   "execution_count": 17,
   "metadata": {},
   "outputs": [],
   "source": [
    "import pandas as pd\n",
    "import os\n",
    "import sys\n",
    "import inspect\n",
    "import numpy as np\n",
    "import warnings\n",
    "import cv2\n",
    "import sqlite3\n"
   ]
  },
  {
   "cell_type": "code",
   "execution_count": 2,
   "metadata": {},
   "outputs": [],
   "source": [
    "getArquivosGoogleDrive = 0\n",
    "diretorio_base_1 =\"\"\n",
    "diretorio_imagens =\"\"\n",
    "\n",
    "\n",
    "if(getArquivosGoogleDrive ==0):\n",
    "    diretorio_base_1 =r'D:\\Repos\\AprendendoPython\\MachineLearning\\Pos-GraduacaoCovid19'\n",
    "    diretorio_imagens =r\"{0}{1}\".format(diretorio_base_1,\"\\dataset\\covid-chest-xray\\images\")\n",
    "else:\n",
    "    diretorio_base_1 =\"\""
   ]
  },
  {
   "cell_type": "markdown",
   "metadata": {},
   "source": [
    "# Criar o banco de dados"
   ]
  },
  {
   "cell_type": "code",
   "execution_count": 15,
   "metadata": {},
   "outputs": [],
   "source": [
    "\n",
    "#tambem pode ser feito assim    se não encontrar o bvanco de dados ele cria\n",
    "os.remove(\"Covid19.db\") if os.path.exists(\"Covid19.db\") else  None"
   ]
  },
  {
   "cell_type": "code",
   "execution_count": 18,
   "metadata": {},
   "outputs": [],
   "source": [
    "conexao = sqlite3.connect('Covid19.db')"
   ]
  },
  {
   "cell_type": "code",
   "execution_count": 20,
   "metadata": {},
   "outputs": [],
   "source": [
    "cursor = conexao.cursor()"
   ]
  },
  {
   "cell_type": "code",
   "execution_count": null,
   "metadata": {},
   "outputs": [],
   "source": [
    "# Cria uma instrução sql\n",
    "sql_create = 'create table imagensDiagnosticos '\\\n",
    "'(id integer primary key, '\\\n",
    "'titulo varchar(100), '\\\n",
    "'categoria varchar(140))'"
   ]
  },
  {
   "cell_type": "code",
   "execution_count": 7,
   "metadata": {},
   "outputs": [
    {
     "output_type": "stream",
     "name": "stdout",
     "text": "Quantidade de imagens no diretorio 1: 372 \n"
    }
   ],
   "source": [
    "metadata   = pd.read_csv(diretorio_base_1 +'\\dataset\\covid-chest-xray\\metadata.csv')\n",
    "print(\"Quantidade de imagens no diretorio 1: {} \".format(len(metadata))) \n"
   ]
  },
  {
   "cell_type": "code",
   "execution_count": 10,
   "metadata": {},
   "outputs": [
    {
     "output_type": "execute_result",
     "data": {
      "text/plain": "   patientId prognostico tipoExame  \\\n0          2    COVID-19     X-ray   \n1          2    COVID-19     X-ray   \n2          2    COVID-19     X-ray   \n3          2    COVID-19     X-ray   \n4          4    COVID-19     X-ray   \n\n                                              imagem  \n0  auntminnie-a-2020_01_28_23_51_6665_2020_01_28_...  \n1  auntminnie-b-2020_01_28_23_51_6665_2020_01_28_...  \n2  auntminnie-c-2020_01_28_23_51_6665_2020_01_28_...  \n3  auntminnie-d-2020_01_28_23_51_6665_2020_01_28_...  \n4                              nejmc2001573_f1a.jpeg  ",
      "text/html": "<div>\n<style scoped>\n    .dataframe tbody tr th:only-of-type {\n        vertical-align: middle;\n    }\n\n    .dataframe tbody tr th {\n        vertical-align: top;\n    }\n\n    .dataframe thead th {\n        text-align: right;\n    }\n</style>\n<table border=\"1\" class=\"dataframe\">\n  <thead>\n    <tr style=\"text-align: right;\">\n      <th></th>\n      <th>patientId</th>\n      <th>prognostico</th>\n      <th>tipoExame</th>\n      <th>imagem</th>\n    </tr>\n  </thead>\n  <tbody>\n    <tr>\n      <th>0</th>\n      <td>2</td>\n      <td>COVID-19</td>\n      <td>X-ray</td>\n      <td>auntminnie-a-2020_01_28_23_51_6665_2020_01_28_...</td>\n    </tr>\n    <tr>\n      <th>1</th>\n      <td>2</td>\n      <td>COVID-19</td>\n      <td>X-ray</td>\n      <td>auntminnie-b-2020_01_28_23_51_6665_2020_01_28_...</td>\n    </tr>\n    <tr>\n      <th>2</th>\n      <td>2</td>\n      <td>COVID-19</td>\n      <td>X-ray</td>\n      <td>auntminnie-c-2020_01_28_23_51_6665_2020_01_28_...</td>\n    </tr>\n    <tr>\n      <th>3</th>\n      <td>2</td>\n      <td>COVID-19</td>\n      <td>X-ray</td>\n      <td>auntminnie-d-2020_01_28_23_51_6665_2020_01_28_...</td>\n    </tr>\n    <tr>\n      <th>4</th>\n      <td>4</td>\n      <td>COVID-19</td>\n      <td>X-ray</td>\n      <td>nejmc2001573_f1a.jpeg</td>\n    </tr>\n  </tbody>\n</table>\n</div>"
     },
     "metadata": {},
     "execution_count": 10
    }
   ],
   "source": [
    "resumo_metadata =  metadata[[\"patientid\",\"finding\", \"modality\",\"filename\"]]\n",
    "\n",
    "resumo_metadata.columns = [\"patientId\",\"prognostico\",\"tipoExame\",\"imagem\"]\n",
    "\n",
    "resumo_metadata.head()"
   ]
  },
  {
   "cell_type": "code",
   "execution_count": 13,
   "metadata": {},
   "outputs": [],
   "source": [
    "resumo_metadata['prognostico'] = [ str(item).strip() for item in resumo_metadata[\"prognostico\"]]\n",
    "\n",
    "prognostico_map ={\n",
    "    \"COVID-19\" : 1,\n",
    "    \"COVID-19, ARDS\":2,\n",
    "    \"Streptococcus\" :3,\n",
    "    \"SARS\" :4,\n",
    "    \"Pneumocystis\" :5,\n",
    "    \"E.Coli\" :6,\n",
    "    \"No Finding\" :7,\n",
    "    \"Chlamydophila\" :8,\n",
    "    \"Legionella\" :9,\n",
    "    \"Klebsiella\" :10\n",
    "}\n",
    "\n",
    "\n",
    "resumo_metadata['indicadorPrognostico'] = resumo_metadata['prognostico'].map(prognostico_map)"
   ]
  },
  {
   "cell_type": "markdown",
   "metadata": {},
   "source": [
    "## Para esse trabalho vamos utilizar somente imagens de Raio-X"
   ]
  },
  {
   "cell_type": "code",
   "execution_count": 14,
   "metadata": {},
   "outputs": [
    {
     "output_type": "execute_result",
     "data": {
      "text/plain": "     patientId prognostico tipoExame  \\\n0            2    COVID-19     X-ray   \n1            2    COVID-19     X-ray   \n2            2    COVID-19     X-ray   \n3            2    COVID-19     X-ray   \n4            4    COVID-19     X-ray   \n..         ...         ...       ...   \n367        205    COVID-19     X-ray   \n368        205    COVID-19     X-ray   \n369        205    COVID-19     X-ray   \n370        205    COVID-19     X-ray   \n371        205    COVID-19     X-ray   \n\n                                                imagem  indicadorPrognostico  \n0    auntminnie-a-2020_01_28_23_51_6665_2020_01_28_...                   1.0  \n1    auntminnie-b-2020_01_28_23_51_6665_2020_01_28_...                   1.0  \n2    auntminnie-c-2020_01_28_23_51_6665_2020_01_28_...                   1.0  \n3    auntminnie-d-2020_01_28_23_51_6665_2020_01_28_...                   1.0  \n4                                nejmc2001573_f1a.jpeg                   1.0  \n..                                                 ...                   ...  \n367  covid-19-pneumonia-progression-and-regression-...                   1.0  \n368  covid-19-pneumonia-progression-and-regression-...                   1.0  \n369  covid-19-pneumonia-progression-and-regression-...                   1.0  \n370  covid-19-pneumonia-progression-and-regression-...                   1.0  \n371  covid-19-pneumonia-progression-and-regression-...                   1.0  \n\n[328 rows x 5 columns]",
      "text/html": "<div>\n<style scoped>\n    .dataframe tbody tr th:only-of-type {\n        vertical-align: middle;\n    }\n\n    .dataframe tbody tr th {\n        vertical-align: top;\n    }\n\n    .dataframe thead th {\n        text-align: right;\n    }\n</style>\n<table border=\"1\" class=\"dataframe\">\n  <thead>\n    <tr style=\"text-align: right;\">\n      <th></th>\n      <th>patientId</th>\n      <th>prognostico</th>\n      <th>tipoExame</th>\n      <th>imagem</th>\n      <th>indicadorPrognostico</th>\n    </tr>\n  </thead>\n  <tbody>\n    <tr>\n      <th>0</th>\n      <td>2</td>\n      <td>COVID-19</td>\n      <td>X-ray</td>\n      <td>auntminnie-a-2020_01_28_23_51_6665_2020_01_28_...</td>\n      <td>1.0</td>\n    </tr>\n    <tr>\n      <th>1</th>\n      <td>2</td>\n      <td>COVID-19</td>\n      <td>X-ray</td>\n      <td>auntminnie-b-2020_01_28_23_51_6665_2020_01_28_...</td>\n      <td>1.0</td>\n    </tr>\n    <tr>\n      <th>2</th>\n      <td>2</td>\n      <td>COVID-19</td>\n      <td>X-ray</td>\n      <td>auntminnie-c-2020_01_28_23_51_6665_2020_01_28_...</td>\n      <td>1.0</td>\n    </tr>\n    <tr>\n      <th>3</th>\n      <td>2</td>\n      <td>COVID-19</td>\n      <td>X-ray</td>\n      <td>auntminnie-d-2020_01_28_23_51_6665_2020_01_28_...</td>\n      <td>1.0</td>\n    </tr>\n    <tr>\n      <th>4</th>\n      <td>4</td>\n      <td>COVID-19</td>\n      <td>X-ray</td>\n      <td>nejmc2001573_f1a.jpeg</td>\n      <td>1.0</td>\n    </tr>\n    <tr>\n      <th>...</th>\n      <td>...</td>\n      <td>...</td>\n      <td>...</td>\n      <td>...</td>\n      <td>...</td>\n    </tr>\n    <tr>\n      <th>367</th>\n      <td>205</td>\n      <td>COVID-19</td>\n      <td>X-ray</td>\n      <td>covid-19-pneumonia-progression-and-regression-...</td>\n      <td>1.0</td>\n    </tr>\n    <tr>\n      <th>368</th>\n      <td>205</td>\n      <td>COVID-19</td>\n      <td>X-ray</td>\n      <td>covid-19-pneumonia-progression-and-regression-...</td>\n      <td>1.0</td>\n    </tr>\n    <tr>\n      <th>369</th>\n      <td>205</td>\n      <td>COVID-19</td>\n      <td>X-ray</td>\n      <td>covid-19-pneumonia-progression-and-regression-...</td>\n      <td>1.0</td>\n    </tr>\n    <tr>\n      <th>370</th>\n      <td>205</td>\n      <td>COVID-19</td>\n      <td>X-ray</td>\n      <td>covid-19-pneumonia-progression-and-regression-...</td>\n      <td>1.0</td>\n    </tr>\n    <tr>\n      <th>371</th>\n      <td>205</td>\n      <td>COVID-19</td>\n      <td>X-ray</td>\n      <td>covid-19-pneumonia-progression-and-regression-...</td>\n      <td>1.0</td>\n    </tr>\n  </tbody>\n</table>\n<p>328 rows × 5 columns</p>\n</div>"
     },
     "metadata": {},
     "execution_count": 14
    }
   ],
   "source": [
    "df_imagens_raio_x = resumo_metadata.loc[resumo_metadata[\"tipoExame\"] ==\"X-ray\"]"
   ]
  },
  {
   "cell_type": "code",
   "execution_count": null,
   "metadata": {},
   "outputs": [],
   "source": [
    "df_imagens_raio_x"
   ]
  },
  {
   "cell_type": "code",
   "execution_count": null,
   "metadata": {},
   "outputs": [],
   "source": [
    "\n",
    "\n",
    "lista_imagens = []\n",
    "\n",
    "for item in imagens_covid:\n",
    "    full_name = \"{0}\\{1}\".format(diretorio_imagens,item)\n",
    "    oriimg = cv2.imread(full_name)\n",
    "    if(oriimg is None):\n",
    "        lista_imagens_erro.append(item)\n",
    "    else:\n",
    "        img = cv2.resize(oriimg, IMAGE_SIZE)\n",
    "        lista_imagens.append(img)\n",
    "            \n",
    "        \n",
    "\n",
    "lista_imagens = np.array(lista_imagens)"
   ]
  }
 ],
 "metadata": {
  "language_info": {
   "codemirror_mode": {
    "name": "ipython",
    "version": 3
   },
   "file_extension": ".py",
   "mimetype": "text/x-python",
   "name": "python",
   "nbconvert_exporter": "python",
   "pygments_lexer": "ipython3",
   "version": "3.7.7-final"
  },
  "orig_nbformat": 2,
  "kernelspec": {
   "name": "python37764bitdeeplearningconda70b0a9c2c78b49cfaeeb6e88dd7dfba8",
   "display_name": "Python 3.7.7 64-bit ('Deep Learning': conda)"
  }
 },
 "nbformat": 4,
 "nbformat_minor": 2
}