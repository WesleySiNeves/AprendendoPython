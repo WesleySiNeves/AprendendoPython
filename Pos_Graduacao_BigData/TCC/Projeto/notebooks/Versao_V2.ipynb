{
  "cells": [
    {
      "cell_type": "markdown",
      "metadata": {
        "id": "KsV5nJ9pUZTz",
        "colab_type": "text"
      },
      "source": [
        "## Neste tutorial, você aprenderá como detectar automaticamente o COVID-19 em um conjunto de dados de imagem de raio-X criado à mão usando Keras, TensorFlow e Deep Learning."
      ]
    },
    {
      "cell_type": "markdown",
      "metadata": {
        "id": "Rbu0t5iHUZT0",
        "colab_type": "text"
      },
      "source": [
        "## Simplificando: você não precisa de um diploma em medicina para causar impacto no campo da medicina  - profissionais de aprendizado profundo que trabalham em estreita colaboração com médicos e profissionais da área médica podem resolver problemas complexos, salvar vidas e tornar o mundo um lugar melhor."
      ]
    },
    {
      "cell_type": "markdown",
      "metadata": {
        "id": "pEsqSQ1mUZT0",
        "colab_type": "text"
      },
      "source": [
        "## Como o COVID-19 pode ser detectado em imagens de raios-X?"
      ]
    },
    {
      "cell_type": "code",
      "metadata": {
        "id": "dIvncolSUZUA",
        "colab_type": "code",
        "colab": {}
      },
      "source": [
        "import pandas as pd\n",
        "import random\n",
        "import shutil\n",
        "import os"
      ],
      "execution_count": 1,
      "outputs": []
    },
    {
      "cell_type": "code",
      "metadata": {
        "id": "R4jVpJiLUZUG",
        "colab_type": "code",
        "colab": {}
      },
      "source": [
        "# !pip install pillow"
      ],
      "execution_count": null,
      "outputs": []
    },
    {
      "cell_type": "code",
      "metadata": {
        "id": "ZGA5jYo6UZUN",
        "colab_type": "code",
        "colab": {}
      },
      "source": [
        "def getDiretorio(tipo):\n",
        "    retorno = \"\"\n",
        "    if(tipo ==\"MaquinaLocal\"):\n",
        "        retorno = r'D:/Repos/AprendendoPython/Pos_Graduacao_BigData/TCC/Projeto'\n",
        "    \n",
        "    if(tipo ==\"GitHub\"):\n",
        "        retorno = r'https://github.com/ieee8023/covid-chestxray-dataset/blob/master/'\n",
        "\n",
        "    if(tipo ==\"GoogleDrive\"):\n",
        "       retorno=r'/content/drive/My Drive/TCC Pos Graduação big data/TCC/Projeto/'\n",
        "       \n",
        "    \n",
        "    return retorno\n",
        "    "
      ],
      "execution_count": 2,
      "outputs": []
    },
    {
      "cell_type": "code",
      "execution_count": 5,
      "metadata": {},
      "outputs": [
        {
          "output_type": "stream",
          "name": "stdout",
          "text": "D:/Repos/AprendendoPython/Pos_Graduacao_BigData/TCC/Projeto\nD:/Repos/AprendendoPython/Pos_Graduacao_BigData/TCC/Projeto/dataset\nD:/Repos/AprendendoPython/Pos_Graduacao_BigData/TCC/Projeto/dataset/covid/images\nD:/Repos/AprendendoPython/Pos_Graduacao_BigData/TCC/Projeto/dataset/normal\nD:/Repos/AprendendoPython/Pos_Graduacao_BigData/TCC/Projeto/Imagens_notebook\nD:/Repos/AprendendoPython/Pos_Graduacao_BigData/TCC/Projeto/models\nD:/Repos/AprendendoPython/Pos_Graduacao_BigData/TCC/Projeto/models/imagens\n"
        }
      ],
      "source": [
        "diretorio_raiz = getDiretorio(\"MaquinaLocal\")\n",
        "diretorio_dataset =r\"{0}/{1}\".format(diretorio_raiz,'dataset')\n",
        "diretorio_imagem_covid =r\"{0}/{1}/{2}\".format(diretorio_dataset,'covid','images')\n",
        "diretorio_pneumonia_normal =r\"{0}/{1}\".format(diretorio_dataset,'normal')\n",
        "diretorio_imagens_notebook =r\"{0}/{1}\".format(diretorio_raiz,'Imagens_notebook')\n",
        "diretorio_save_models =r\"{0}/{1}\".format(diretorio_raiz,'models')\n",
        "diretorio_save_model_imagens =r\"{0}/{1}\".format(diretorio_save_models,'imagens')\n",
        "print(diretorio_raiz)\n",
        "print(diretorio_dataset)\n",
        "print(diretorio_imagem_covid)\n",
        "print(diretorio_pneumonia_normal)\n",
        "print(diretorio_imagens_notebook)\n",
        "print(diretorio_save_models)\n",
        "print(diretorio_save_model_imagens)\n",
        "\n"
      ]
    },
    {
      "cell_type": "code",
      "metadata": {
        "id": "6l3QmixMUZUI",
        "colab_type": "code",
        "colab": {}
      },
      "source": [
        "source_dir_metadata = r'D:/Repos/datasetsGitHub/covid-chestxray-dataset/metadata.csv'\n",
        "source_dir_kaggle_Covid =r'D:/Repos/datasetsGitHub/covid-chestxray-dataset/images'\n",
        "source_dir_kaggle_pneumonia =r'D:/Repos/pneumonia-chest_xray'\n",
        "\n",
        "\n",
        "\n",
        "\n"
      ],
      "execution_count": 23,
      "outputs": []
    },
    {
      "cell_type": "code",
      "execution_count": 24,
      "metadata": {},
      "outputs": [],
      "source": [
        "if not os.path.exists(diretorio_imagem_covid):\n",
        "    os.mkdir(diretorio_imagem_covid)\n",
        "\n",
        "if not os.path.exists(diretorio_pneumonia_normal):\n",
        "    os.mkdir(diretorio_pneumonia_normal)\n"
      ]
    },
    {
      "cell_type": "code",
      "execution_count": 25,
      "metadata": {},
      "outputs": [],
      "source": [
        "df  = pd.read_csv(source_dir_metadata)"
      ]
    },
    {
      "cell_type": "code",
      "execution_count": 10,
      "metadata": {},
      "outputs": [
        {
          "output_type": "execute_result",
          "data": {
            "text/plain": "(565, 28)"
          },
          "metadata": {},
          "execution_count": 10
        }
      ],
      "source": [
        "df.shape"
      ]
    },
    {
      "cell_type": "code",
      "execution_count": 9,
      "metadata": {},
      "outputs": [
        {
          "output_type": "execute_result",
          "data": {
            "text/plain": "   patientid  offset sex   age   finding survival intubated  \\\n0          2     0.0   M  65.0  COVID-19        Y       NaN   \n1          2     3.0   M  65.0  COVID-19        Y       NaN   \n\n  intubation_present went_icu in_icu  ... modality              date  \\\n0                NaN      NaN    NaN  ...    X-ray  January 22, 2020   \n1                NaN      NaN    NaN  ...    X-ray  January 25, 2020   \n\n                                      location  folder  \\\n0  Cho Ray Hospital, Ho Chi Minh City, Vietnam  images   \n1  Cho Ray Hospital, Ho Chi Minh City, Vietnam  images   \n\n                                            filename                   doi  \\\n0  auntminnie-a-2020_01_28_23_51_6665_2020_01_28_...  10.1056/nejmc2001272   \n1  auntminnie-b-2020_01_28_23_51_6665_2020_01_28_...  10.1056/nejmc2001272   \n\n                                                 url license  \\\n0  https://www.nejm.org/doi/full/10.1056/NEJMc200...     NaN   \n1  https://www.nejm.org/doi/full/10.1056/NEJMc200...     NaN   \n\n                                      clinical_notes other_notes  \n0  On January 22, 2020, a 65-year-old man with a ...         NaN  \n1  On January 22, 2020, a 65-year-old man with a ...         NaN  \n\n[2 rows x 28 columns]",
            "text/html": "<div>\n<style scoped>\n    .dataframe tbody tr th:only-of-type {\n        vertical-align: middle;\n    }\n\n    .dataframe tbody tr th {\n        vertical-align: top;\n    }\n\n    .dataframe thead th {\n        text-align: right;\n    }\n</style>\n<table border=\"1\" class=\"dataframe\">\n  <thead>\n    <tr style=\"text-align: right;\">\n      <th></th>\n      <th>patientid</th>\n      <th>offset</th>\n      <th>sex</th>\n      <th>age</th>\n      <th>finding</th>\n      <th>survival</th>\n      <th>intubated</th>\n      <th>intubation_present</th>\n      <th>went_icu</th>\n      <th>in_icu</th>\n      <th>...</th>\n      <th>modality</th>\n      <th>date</th>\n      <th>location</th>\n      <th>folder</th>\n      <th>filename</th>\n      <th>doi</th>\n      <th>url</th>\n      <th>license</th>\n      <th>clinical_notes</th>\n      <th>other_notes</th>\n    </tr>\n  </thead>\n  <tbody>\n    <tr>\n      <th>0</th>\n      <td>2</td>\n      <td>0.0</td>\n      <td>M</td>\n      <td>65.0</td>\n      <td>COVID-19</td>\n      <td>Y</td>\n      <td>NaN</td>\n      <td>NaN</td>\n      <td>NaN</td>\n      <td>NaN</td>\n      <td>...</td>\n      <td>X-ray</td>\n      <td>January 22, 2020</td>\n      <td>Cho Ray Hospital, Ho Chi Minh City, Vietnam</td>\n      <td>images</td>\n      <td>auntminnie-a-2020_01_28_23_51_6665_2020_01_28_...</td>\n      <td>10.1056/nejmc2001272</td>\n      <td>https://www.nejm.org/doi/full/10.1056/NEJMc200...</td>\n      <td>NaN</td>\n      <td>On January 22, 2020, a 65-year-old man with a ...</td>\n      <td>NaN</td>\n    </tr>\n    <tr>\n      <th>1</th>\n      <td>2</td>\n      <td>3.0</td>\n      <td>M</td>\n      <td>65.0</td>\n      <td>COVID-19</td>\n      <td>Y</td>\n      <td>NaN</td>\n      <td>NaN</td>\n      <td>NaN</td>\n      <td>NaN</td>\n      <td>...</td>\n      <td>X-ray</td>\n      <td>January 25, 2020</td>\n      <td>Cho Ray Hospital, Ho Chi Minh City, Vietnam</td>\n      <td>images</td>\n      <td>auntminnie-b-2020_01_28_23_51_6665_2020_01_28_...</td>\n      <td>10.1056/nejmc2001272</td>\n      <td>https://www.nejm.org/doi/full/10.1056/NEJMc200...</td>\n      <td>NaN</td>\n      <td>On January 22, 2020, a 65-year-old man with a ...</td>\n      <td>NaN</td>\n    </tr>\n  </tbody>\n</table>\n<p>2 rows × 28 columns</p>\n</div>"
          },
          "metadata": {},
          "execution_count": 9
        }
      ],
      "source": [
        "df.head(2)"
      ]
    },
    {
      "cell_type": "markdown",
      "metadata": {},
      "source": [
        "PA View of X ray"
      ]
    },
    {
      "cell_type": "code",
      "execution_count": 11,
      "metadata": {},
      "outputs": [],
      "source": [
        "labels =[]\n",
        "lista_imagens_erro = []\n",
        "lista_imagens_com_Covid = []\n",
        "lista_imagens_com_pneumonia_normal = []\n",
        "lista_imagens_com_pneumonia_pneumonia = []\n",
        "lista_tuplas_imagens =[]"
      ]
    },
    {
      "cell_type": "markdown",
      "metadata": {
        "id": "Lera4b_SUZUb",
        "colab_type": "text"
      },
      "source": [
        "## O conjunto de dados de imagem de raios-X COVID-19 que usaremos para este tutorial foi curado pelo Dr. Joseph Cohen , um pós-doutorado na Universidade de Montreal\n",
        "https://josephpcohen.com/w/\n",
        "\n",
        "## git hub dos dados\n",
        "https://josephpcohen.com/w/public-covid19-dataset/\n",
        "\n",
        "https://github.com/ieee8023/covid-chestxray-dataset"
      ]
    },
    {
      "cell_type": "code",
      "metadata": {
        "id": "4d9nMOrqUZUK",
        "colab_type": "code",
        "colab": {}
      },
      "source": [
        "lista_imagens_com_Covid =[]\n",
        "\n",
        "quantidade = 0\n",
        "for (i,row) in df.iterrows():\n",
        "    if row[\"finding\"] ==\"COVID-19\" and  row[\"view\"] ==\"PA\":\n",
        "        file_name=row[\"filename\"]\n",
        "        image_path  = \"{0}/{1}\".format(source_dir_imagens_Covid,file_name)\n",
        "        image_copy_target= \"{0}/{1}\".format(diretorio_imagem_covid,file_name)\n",
        "        shutil.copy2(image_path,image_copy_target)\n",
        "        lista_imagens_com_Covid.append(image_copy_target)\n",
        "        quantidade +=1\n",
        "\n",
        "len((lista_imagens_com_Covid))"
      ],
      "execution_count": 19,
      "outputs": [
        {
          "output_type": "execute_result",
          "data": {
            "text/plain": "182"
          },
          "metadata": {},
          "execution_count": 19
        }
      ]
    },
    {
      "cell_type": "code",
      "execution_count": 14,
      "metadata": {},
      "outputs": [
        {
          "output_type": "execute_result",
          "data": {
            "text/plain": "['D:/Repos/AprendendoPython/Pos_Graduacao_BigData/TCC/Projeto/dataset/covid/images/auntminnie-a-2020_01_28_23_51_6665_2020_01_28_Vietnam_coronavirus.jpeg',\n 'D:/Repos/AprendendoPython/Pos_Graduacao_BigData/TCC/Projeto/dataset/covid/images/auntminnie-b-2020_01_28_23_51_6665_2020_01_28_Vietnam_coronavirus.jpeg']"
          },
          "metadata": {},
          "execution_count": 14
        }
      ],
      "source": [
        "lista_imagens_com_Covid[0:2]"
      ]
    },
    {
      "cell_type": "markdown",
      "metadata": {},
      "source": [
        "## recuperar imagens do diretorio de pneumonia\n"
      ]
    },
    {
      "cell_type": "code",
      "execution_count": 15,
      "metadata": {},
      "outputs": [],
      "source": [
        "imagens_normal = os.listdir(\"{0}/{1}/{2}\".format(source_dir_pneumonia,\"test\",\"NORMAL\"))\n",
        "\n"
      ]
    },
    {
      "cell_type": "code",
      "execution_count": 41,
      "metadata": {
        "tags": [
          "outputPrepend"
        ]
      },
      "outputs": [],
      "source": [
        "for i in range(len(lista_imagens_com_Covid)):\n",
        "    file_name = imagens_normal[i]\n",
        "    image_path  = \"{0}/{1}/{2}/{3}\".format(source_dir_pneumonia,\"test\",\"NORMAL\",file_name)\n",
        "    image_copy_target= \"{0}/{1}\".format(diretorio_pneumonia_normal,file_name)\n",
        "    shutil.copy2(image_path,image_copy_target)\n",
        "    lista_imagens_com_pneumonia_normal.append(image_copy_target)\n",
        "    # quantidade +=1\n",
        "    \n",
        "    "
      ]
    },
    {
      "cell_type": "code",
      "metadata": {
        "id": "-0kPfBf4UZUY",
        "colab_type": "code",
        "colab": {
          "base_uri": "https://localhost:8080/",
          "height": 606
        },
        "outputId": "b5593950-cbe3-43a6-837a-91a94b614265"
      },
      "source": [
        "\n",
        "from IPython.display import Image\n",
        "Image('{0}/{1}'.format(diretorio_imagens_notebook,'imagensVariosRx.PNG'))"
      ],
      "execution_count": null,
      "outputs": []
    },
    {
      "cell_type": "code",
      "metadata": {
        "id": "yslYZBMEUZUc",
        "colab_type": "code",
        "colab": {}
      },
      "source": [
        "class ConfiguracoesRedeNeuralCovid(object):\n",
        "    def __init__(self):\n",
        "        self.IdModelo =\"\"\n",
        "        self.NomeModelo=\"\"\n",
        "        self.TamanhoModelo=\"\"\n",
        "        self.EPOCHS=\"\"\n",
        "        self.INIT_LR=\"\"\n",
        "        self.BS=\"\"\n",
        "        self.IMAGE_SIZE=\"\"\n",
        "        self.Descricao=\"\"\n",
        "        self.DataCriacao=\"\"\n",
        "        self.QuantidadeImagensTotais=\"\"\n",
        "        self.QuantidadeImagensCovid=\"\"\n",
        "        self.QuantidadeImagensPneumonia=\"\"\n",
        "        self.QuantidadeImagensNormal =\"\"\n",
        "        self.QuantidadeImagensTrainX=\"\"\n",
        "        self.QuantidadeImagensTestX=\"\"\n",
        "        self.QuantidadeImagensTrainY=\"\"\n",
        "        self.QuantidadeImagensTestY=\"\"\n",
        "        self.Rotation_range=\"\"\n",
        "        self.Fill_mode=\"\"\n",
        "        self.Test_size=\"\"\n",
        "        self.TipoCNN=\"\"\n",
        "        self.NomeNoteBook = \"\"\n",
        "\n",
        "    def to_dict(self):\n",
        "        return {\n",
        "            'IdModelo' : self.IdModelo,\n",
        "            'NomeModelo' :self.NomeModelo,\n",
        "            'TamanhoModelo':self.TamanhoModelo,\n",
        "            'EPOCHS' :self.EPOCHS,\n",
        "            'INIT_LR' :self.INIT_LR,\n",
        "            'BS' : self.BS,\n",
        "            'IMAGE_SIZE' :self.IMAGE_SIZE,\n",
        "            'Descricao' :self.Descricao,\n",
        "            'DataCriacao' :self.DataCriacao,\n",
        "            'QuantidadeImagensTotais' :self.QuantidadeImagensTotais,\n",
        "            'QuantidadeImagensCovid' :self.QuantidadeImagensCovid,\n",
        "            'QuantidadeImagensPneumonia' :self.QuantidadeImagensPneumonia,\n",
        "            'QuantidadeImagensNormal' :self.QuantidadeImagensNormal,\n",
        "            'QuantidadeImagensTrainX' :self.QuantidadeImagensTrainX,\n",
        "            'QuantidadeImagensTestX' :self.QuantidadeImagensTestX,\n",
        "            'QuantidadeImagensTrainY' :self.QuantidadeImagensTrainY,\n",
        "            'QuantidadeImagensTestY' :self.QuantidadeImagensTestY,\n",
        "            'Rotation_range' :self.Rotation_range,\n",
        "            'fill_mode' :self.Fill_mode,\n",
        "            'test_size' :self.Test_size,\n",
        "            \"TipoCNN\" :self.TipoCNN,\n",
        "            \"NomeNoteBook\" :self.NomeNoteBook\n",
        "\n",
        "        }\n",
        "    # Métodos são funções, que recebem como parâmetro atributos do objeto criado    \n",
        "    def getInformacoes(self):\n",
        "        print('Modelo {0}|{1} criado em {2} |com {3} EPOCHS|{4} IMG_COVID| {5} IMGPNEU|{6} IMGNORMAL'.\n",
        "        format(self.IdModelo,self.NomeModelo,str(self.DataCriacao),self.EPOCHS,self.QuantidadeImagensCovid,self.QuantidadeImagensPneumonia,self.QuantidadeImagensNormal))"
      ],
      "execution_count": 43,
      "outputs": []
    },
    {
      "cell_type": "code",
      "metadata": {
        "id": "r6ugPJWHUZUe",
        "colab_type": "code",
        "colab": {}
      },
      "source": [
        "config= ConfiguracoesRedeNeuralCovid()\n",
        "config.DataCriacao = datetime.now()\n",
        "config.IMAGE_SIZE = (224,224)\n",
        "config.INIT_LR = 1e-3\n",
        "config.EPOCHS = 100\n",
        "config.BS = 8\n",
        "config.IdModelo = uuid.uuid1()\n",
        "config.Rotation_range=25\n",
        "config.Fill_mode= str(\"nearest\")\n",
        "config.Test_size=0.30\n",
        "config.TipoCNN =\"VGG16\"\n",
        "config.NomeNoteBook = \"Artigo_V2\"\n",
        "\n",
        "config.NomeModelo =\"Model_{0}_{1}_{2}_EPOCHS\".format(config.TipoCNN,config.NomeNoteBook,config.EPOCHS) \n"
      ],
      "execution_count": null,
      "outputs": []
    },
    {
      "cell_type": "code",
      "execution_count": null,
      "metadata": {},
      "outputs": [],
      "source": []
    },
    {
      "cell_type": "code",
      "metadata": {
        "tags": [
          "outputPrepend"
        ],
        "id": "gmNZoZiYUZUk",
        "colab_type": "code",
        "colab": {}
      },
      "source": [
        "urlbase = getDiretorio('GitHub')\n",
        "urlmetadata = \"{}/{}\".format(urlbase,'metadata.csv')\n",
        "metadata_git = pd.read_csv('https://raw.githubusercontent.com/ieee8023/covid-chestxray-dataset/master/metadata.csv',error_bad_lines=False)\n",
        "\n",
        "\n",
        "metadata_local   = pd.read_csv(diretorio_dataset +'/covid/metadata.csv')\n"
      ],
      "execution_count": 67,
      "outputs": []
    },
    {
      "cell_type": "code",
      "execution_count": 61,
      "metadata": {},
      "outputs": [
        {
          "output_type": "execute_result",
          "data": {
            "text/plain": "   patientid  offset sex   age   finding survival intubated  \\\n0          2     0.0   M  65.0  COVID-19        Y       NaN   \n\n  intubation_present went_icu in_icu  ...              date  \\\n0                NaN      NaN    NaN  ...  January 22, 2020   \n\n                                      location  folder  \\\n0  Cho Ray Hospital, Ho Chi Minh City, Vietnam  images   \n\n                                            filename                   doi  \\\n0  auntminnie-a-2020_01_28_23_51_6665_2020_01_28_...  10.1056/nejmc2001272   \n\n                                                 url  license  \\\n0  https://www.nejm.org/doi/full/10.1056/NEJMc200...      NaN   \n\n                                      clinical_notes other_notes Unnamed: 28  \n0  On January 22, 2020, a 65-year-old man with a ...         NaN         NaN  \n\n[1 rows x 29 columns]",
            "text/html": "<div>\n<style scoped>\n    .dataframe tbody tr th:only-of-type {\n        vertical-align: middle;\n    }\n\n    .dataframe tbody tr th {\n        vertical-align: top;\n    }\n\n    .dataframe thead th {\n        text-align: right;\n    }\n</style>\n<table border=\"1\" class=\"dataframe\">\n  <thead>\n    <tr style=\"text-align: right;\">\n      <th></th>\n      <th>patientid</th>\n      <th>offset</th>\n      <th>sex</th>\n      <th>age</th>\n      <th>finding</th>\n      <th>survival</th>\n      <th>intubated</th>\n      <th>intubation_present</th>\n      <th>went_icu</th>\n      <th>in_icu</th>\n      <th>...</th>\n      <th>date</th>\n      <th>location</th>\n      <th>folder</th>\n      <th>filename</th>\n      <th>doi</th>\n      <th>url</th>\n      <th>license</th>\n      <th>clinical_notes</th>\n      <th>other_notes</th>\n      <th>Unnamed: 28</th>\n    </tr>\n  </thead>\n  <tbody>\n    <tr>\n      <th>0</th>\n      <td>2</td>\n      <td>0.0</td>\n      <td>M</td>\n      <td>65.0</td>\n      <td>COVID-19</td>\n      <td>Y</td>\n      <td>NaN</td>\n      <td>NaN</td>\n      <td>NaN</td>\n      <td>NaN</td>\n      <td>...</td>\n      <td>January 22, 2020</td>\n      <td>Cho Ray Hospital, Ho Chi Minh City, Vietnam</td>\n      <td>images</td>\n      <td>auntminnie-a-2020_01_28_23_51_6665_2020_01_28_...</td>\n      <td>10.1056/nejmc2001272</td>\n      <td>https://www.nejm.org/doi/full/10.1056/NEJMc200...</td>\n      <td>NaN</td>\n      <td>On January 22, 2020, a 65-year-old man with a ...</td>\n      <td>NaN</td>\n      <td>NaN</td>\n    </tr>\n  </tbody>\n</table>\n<p>1 rows × 29 columns</p>\n</div>"
          },
          "metadata": {},
          "execution_count": 61
        }
      ],
      "source": [
        "metadata_local.head(1)"
      ]
    },
    {
      "cell_type": "code",
      "metadata": {
        "id": "mur-UJp6UZUm",
        "colab_type": "code",
        "colab": {}
      },
      "source": [
        "df_metadata_git =  metadata_git[[\"patientid\",\"sex\",\"age\",\"location\", \"finding\", \"modality\",\"filename\",\"view\"]]\n",
        "\n",
        "df_metadata_git.columns = [\"patientId\",\"sexo\",\"idade\",\"localidade\",\"prognostico\",\"tipoExame\",\"imagem\",\"posicao_imagem\"]\n",
        "\n",
        "df_metadata_local=  metadata_local[[\"patientid\",\"sex\",\"age\",\"location\", \"finding\", \"modality\",\"filename\",\"view\"]]\n",
        "\n",
        "df_metadata_local.columns = [\"patientId\",\"sexo\",\"idade\",\"localidade\",\"prognostico\",\"tipoExame\",\"imagem\",\"posicao_imagem\"]\n",
        "\n"
      ],
      "execution_count": 80,
      "outputs": []
    },
    {
      "cell_type": "markdown",
      "metadata": {
        "id": "XePKlxLHUZUo",
        "colab_type": "text"
      },
      "source": [
        "## Dentro do repositório, você encontrará exemplos de casos COVID-19, além de MERS, SARS e ARDS."
      ]
    },
    {
      "cell_type": "code",
      "execution_count": 64,
      "metadata": {},
      "outputs": [
        {
          "output_type": "execute_result",
          "data": {
            "text/plain": "COVID-19          504\nStreptococcus      17\nNo Finding         17\nSARS               16\nPneumocystis       15\nCOVID-19, ARDS     12\nARDS                4\nE.Coli              4\nChlamydophila       2\nLegionella          2\nKlebsiella          1\nName: prognostico, dtype: int64"
          },
          "metadata": {},
          "execution_count": 64
        }
      ],
      "source": [
        "df_metadata_local[\"prognostico\"].value_counts()"
      ]
    },
    {
      "cell_type": "code",
      "execution_count": 72,
      "metadata": {},
      "outputs": [
        {
          "output_type": "execute_result",
          "data": {
            "text/plain": "PA               247\nAP               188\nAxial             68\nAP Supine         45\nL                 29\nCoronal           16\nAP semi erect      1\nName: posicao_imagem, dtype: int64"
          },
          "metadata": {},
          "execution_count": 72
        }
      ],
      "source": [
        "df_metadata_local[\"posicao_imagem\"].value_counts()"
      ]
    },
    {
      "cell_type": "code",
      "metadata": {
        "id": "nnRcVLRxUZUp",
        "colab_type": "code",
        "colab": {}
      },
      "source": [
        "prognostico_map_dataframe ={\n",
        "    \"COVID-19\" : 1,\n",
        "    \"COVID-19, ARDS\":2,\n",
        "    \"Streptococcus\" :3,\n",
        "    \"SARS\" :4,\n",
        "    \"Pneumocystis\" :5,\n",
        "    \"E.Coli\" :6,\n",
        "    \"No Finding\" :7,\n",
        "    \"Chlamydophila\" :8,\n",
        "    \"Legionella\" :9,\n",
        "    \"Klebsiella\" :10\n",
        "}"
      ],
      "execution_count": 70,
      "outputs": []
    },
    {
      "cell_type": "code",
      "metadata": {
        "id": "f8iUOnOaUZUq",
        "colab_type": "code",
        "colab": {
          "base_uri": "https://localhost:8080/",
          "height": 230
        },
        "outputId": "fc18b9c1-611c-4264-9dcf-f8a5d89612aa"
      },
      "source": [
        "df_metadata_local['indicadorPrognostico'] = df_metadata_local['prognostico'].map(prognostico_map_dataframe)\n",
        "df_metadata_git['indicadorPrognostico'] = df_metadata_git['prognostico'].map(prognostico_map_dataframe)\n",
        "\n",
        "\n",
        "df_metadata_local.query('indicadorPrognostico == 1 and posicao_imagem ==\"PA\" ',inplace = True)\n",
        "\n",
        "df_metadata_local[\"prognostico\"].replace([\"COVID-19\"],[\"covid\"],inplace=True)\n",
        "\n",
        "df_metadata_git.query('indicadorPrognostico == 1 and posicao_imagem ==\"PA\" ',inplace=True)\n",
        "\n",
        "df_metadata_git[\"prognostico\"].replace([\"COVID-19\"],[\"covid\"],inplace=True)\n",
        "\n",
        "df_metadata_git[\"prognostico\"].replace([\"COVID-19\"],[\"covid\"],inplace=True)\n",
        "\n",
        "print(len(df_metadata_local))\n",
        "print(len(df_metadata_git))"
      ],
      "execution_count": 81,
      "outputs": [
        {
          "output_type": "stream",
          "name": "stdout",
          "text": "183\n182\n"
        }
      ]
    },
    {
      "cell_type": "code",
      "execution_count": null,
      "metadata": {},
      "outputs": [],
      "source": [
        "\n",
        "# df_metadata_local.query('indicadorPrognostico = 1 and posicao_imagem =\"PA\"',inplace=True)"
      ]
    },
    {
      "cell_type": "code",
      "metadata": {
        "id": "rJg-_QoOUZUs",
        "colab_type": "code",
        "colab": {
          "base_uri": "https://localhost:8080/",
          "height": 70
        },
        "outputId": "1aef8b7a-9c85-4eec-c33b-dc5d6773c3e4"
      },
      "source": [
        "AtualizarBancoDeDados = False\n",
        "\n",
        "print(len(df_metadata_git))\n",
        "print(len(df_metadata_local))\n",
        "\n",
        "if(len(df_metadata_git) > len(df_metadata_local) ):\n",
        "    AtualizarBancoDeDados = True\n",
        "\n",
        "if(AtualizarBancoDeDados):\n",
        "  print('Já podemos atualizar o banco de imagens  temos {0} imagens com covid a mais'.format(len(df_metadata_git) - len(df_metadata_local)))\n"
      ],
      "execution_count": 82,
      "outputs": [
        {
          "output_type": "stream",
          "name": "stdout",
          "text": "182\n183\n"
        }
      ]
    },
    {
      "cell_type": "markdown",
      "metadata": {
        "id": "F_47qRzSUZUu",
        "colab_type": "text"
      },
      "source": [
        "## recuperar as imagens com covid"
      ]
    },
    {
      "cell_type": "code",
      "metadata": {
        "id": "JPTYqIpXUZUu",
        "colab_type": "code",
        "colab": {}
      },
      "source": [
        "diagnostico_map= {'pneumonia' : 2, 'covid' : 1, 'normal' : 0}"
      ],
      "execution_count": 84,
      "outputs": []
    },
    {
      "cell_type": "code",
      "metadata": {
        "id": "4rvGGkAmUZUy",
        "colab_type": "code",
        "colab": {}
      },
      "source": [
        "labels =[]\n",
        "lista_imagens_erro = []\n",
        "lista_imagens_com_Covid = []\n",
        "lista_imagens_com_pneumonia_normal = []\n",
        "lista_imagens_com_pneumonia_pneumonia = []\n",
        "lista_tuplas_imagens =[]"
      ],
      "execution_count": 86,
      "outputs": []
    },
    {
      "cell_type": "markdown",
      "metadata": {
        "colab": {
          "base_uri": "https://localhost:8080/",
          "height": 35
        },
        "colab_type": "code",
        "id": "0m5liEoRczNz",
        "outputId": "a061eafe-873c-4bcb-ce98-a3e92e544ed0"
      },
      "source": [
        "## importando os pacotes "
      ]
    },
    {
      "cell_type": "code",
      "execution_count": 89,
      "metadata": {},
      "outputs": [],
      "source": [
        "import numpy as np\n",
        "import keras\n",
        "from  keras.layers import *\n",
        "from keras.models import *\n",
        "from keras.preprocessing import image"
      ]
    },
    {
      "cell_type": "markdown",
      "metadata": {},
      "source": [
        "## criação da arquitera da rede neural\n"
      ]
    },
    {
      "cell_type": "code",
      "execution_count": 98,
      "metadata": {},
      "outputs": [],
      "source": [
        "model = Sequential()\n",
        "\n",
        "model.add(Conv2D(32,kernel_size=(3,3),activation='relu',input_shape=(224,224,3)))\n",
        "model.add(Conv2D(64,kernel_size=(3,3),activation='relu'))\n",
        "model.add(MaxPooling2D(pool_size=(2,2)))\n",
        "model.add(Dropout(0.25))\n",
        "\n",
        "model.add(Conv2D(64,kernel_size=(3,3),activation='relu'))\n",
        "model.add(MaxPooling2D(pool_size=(2,2)))\n",
        "model.add(Dropout(0.25))\n",
        "\n",
        "\n",
        "model.add(Conv2D(128,kernel_size=(3,3),activation='relu'))\n",
        "model.add(MaxPooling2D(pool_size=(2,2)))\n",
        "model.add(Dropout(0.25))\n",
        "\n",
        "# model.add(Conv2D(256,kernel_size=(3,3),activation='relu'))\n",
        "# model.add(MaxPooling2D(pool_size=(2,2)))\n",
        "# model.add(Dropout(0.25))\n",
        "\n",
        "model.add(Flatten())\n",
        "model.add(Dense(64,activation='relu'))\n",
        "model.add(Dropout(0.50))\n",
        "model.add(Dense(1,activation='sigmoid'))\n",
        "\n",
        "\n",
        "model.compile(loss = keras.losses.binary_crossentropy,optimizer=\"adam\",metrics=[\"accuracy\"])"
      ]
    },
    {
      "cell_type": "markdown",
      "metadata": {},
      "source": [
        "## Compilação da rede neural"
      ]
    },
    {
      "cell_type": "code",
      "execution_count": 99,
      "metadata": {},
      "outputs": [
        {
          "output_type": "stream",
          "name": "stdout",
          "text": "Model: \"sequential_9\"\n_________________________________________________________________\nLayer (type)                 Output Shape              Param #   \n=================================================================\nconv2d_18 (Conv2D)           (None, 222, 222, 32)      896       \n_________________________________________________________________\nconv2d_19 (Conv2D)           (None, 220, 220, 64)      18496     \n_________________________________________________________________\nmax_pooling2d_8 (MaxPooling2 (None, 110, 110, 64)      0         \n_________________________________________________________________\ndropout_9 (Dropout)          (None, 110, 110, 64)      0         \n_________________________________________________________________\nconv2d_20 (Conv2D)           (None, 108, 108, 64)      36928     \n_________________________________________________________________\nmax_pooling2d_9 (MaxPooling2 (None, 54, 54, 64)        0         \n_________________________________________________________________\ndropout_10 (Dropout)         (None, 54, 54, 64)        0         \n_________________________________________________________________\nconv2d_21 (Conv2D)           (None, 52, 52, 128)       73856     \n_________________________________________________________________\nmax_pooling2d_10 (MaxPooling (None, 26, 26, 128)       0         \n_________________________________________________________________\ndropout_11 (Dropout)         (None, 26, 26, 128)       0         \n_________________________________________________________________\nflatten_3 (Flatten)          (None, 86528)             0         \n_________________________________________________________________\ndense_5 (Dense)              (None, 64)                5537856   \n_________________________________________________________________\ndropout_12 (Dropout)         (None, 64)                0         \n_________________________________________________________________\ndense_6 (Dense)              (None, 1)                 65        \n=================================================================\nTotal params: 5,668,097\nTrainable params: 5,668,097\nNon-trainable params: 0\n_________________________________________________________________\n"
        }
      ],
      "source": [
        "model.summary()"
      ]
    },
    {
      "cell_type": "markdown",
      "metadata": {},
      "source": [
        "## generate train data gem  "
      ]
    },
    {
      "cell_type": "code",
      "execution_count": 102,
      "metadata": {},
      "outputs": [],
      "source": [
        "train_datagen  = image.ImageDataGenerator(rescale= 1.0/255,shear_range= 0.2 ,zoom_range=0.2,horizontal_flip=True)\n",
        "\n",
        "test_dataset  = image.ImageDataGenerator(rescale= 1.0/255)"
      ]
    },
    {
      "cell_type": "code",
      "execution_count": 104,
      "metadata": {},
      "outputs": [
        {
          "output_type": "error",
          "ename": "FileNotFoundError",
          "evalue": "[WinError 3] O sistema não pode encontrar o caminho especificado: 'CovidDataset/Train'",
          "traceback": [
            "\u001b[1;31m---------------------------------------------------------------------------\u001b[0m",
            "\u001b[1;31mFileNotFoundError\u001b[0m                         Traceback (most recent call last)",
            "\u001b[1;32m<ipython-input-104-163dd6b9df5e>\u001b[0m in \u001b[0;36m<module>\u001b[1;34m\u001b[0m\n\u001b[0;32m      2\u001b[0m                                                     \u001b[0mtarget_size\u001b[0m \u001b[1;33m=\u001b[0m\u001b[1;33m(\u001b[0m\u001b[1;36m224\u001b[0m\u001b[1;33m,\u001b[0m\u001b[1;36m224\u001b[0m\u001b[1;33m)\u001b[0m\u001b[1;33m,\u001b[0m\u001b[1;33m\u001b[0m\u001b[1;33m\u001b[0m\u001b[0m\n\u001b[0;32m      3\u001b[0m                                                     \u001b[0mbatch_size\u001b[0m\u001b[1;33m=\u001b[0m\u001b[1;36m32\u001b[0m\u001b[1;33m,\u001b[0m\u001b[1;33m\u001b[0m\u001b[1;33m\u001b[0m\u001b[0m\n\u001b[1;32m----> 4\u001b[1;33m                                                     \u001b[0mclass_mode\u001b[0m\u001b[1;33m=\u001b[0m\u001b[1;34m'binary'\u001b[0m\u001b[1;33m\u001b[0m\u001b[1;33m\u001b[0m\u001b[0m\n\u001b[0m\u001b[0;32m      5\u001b[0m                                                     )\n",
            "\u001b[1;32m~\\Anaconda3\\envs\\Deep Learning\\lib\\site-packages\\keras\\preprocessing\\image.py\u001b[0m in \u001b[0;36mflow_from_directory\u001b[1;34m(self, directory, target_size, color_mode, classes, class_mode, batch_size, shuffle, seed, save_to_dir, save_prefix, save_format, follow_links, subset, interpolation)\u001b[0m\n\u001b[0;32m    465\u001b[0m             \u001b[0mfollow_links\u001b[0m\u001b[1;33m=\u001b[0m\u001b[0mfollow_links\u001b[0m\u001b[1;33m,\u001b[0m\u001b[1;33m\u001b[0m\u001b[1;33m\u001b[0m\u001b[0m\n\u001b[0;32m    466\u001b[0m             \u001b[0msubset\u001b[0m\u001b[1;33m=\u001b[0m\u001b[0msubset\u001b[0m\u001b[1;33m,\u001b[0m\u001b[1;33m\u001b[0m\u001b[1;33m\u001b[0m\u001b[0m\n\u001b[1;32m--> 467\u001b[1;33m             \u001b[0minterpolation\u001b[0m\u001b[1;33m=\u001b[0m\u001b[0minterpolation\u001b[0m\u001b[1;33m\u001b[0m\u001b[1;33m\u001b[0m\u001b[0m\n\u001b[0m\u001b[0;32m    468\u001b[0m         )\n\u001b[0;32m    469\u001b[0m \u001b[1;33m\u001b[0m\u001b[0m\n",
            "\u001b[1;32m~\\Anaconda3\\envs\\Deep Learning\\lib\\site-packages\\keras\\preprocessing\\image.py\u001b[0m in \u001b[0;36m__init__\u001b[1;34m(self, directory, image_data_generator, target_size, color_mode, classes, class_mode, batch_size, shuffle, seed, data_format, save_to_dir, save_prefix, save_format, follow_links, subset, interpolation, dtype)\u001b[0m\n\u001b[0;32m    148\u001b[0m             \u001b[0msubset\u001b[0m\u001b[1;33m=\u001b[0m\u001b[0msubset\u001b[0m\u001b[1;33m,\u001b[0m\u001b[1;33m\u001b[0m\u001b[1;33m\u001b[0m\u001b[0m\n\u001b[0;32m    149\u001b[0m             \u001b[0minterpolation\u001b[0m\u001b[1;33m=\u001b[0m\u001b[0minterpolation\u001b[0m\u001b[1;33m,\u001b[0m\u001b[1;33m\u001b[0m\u001b[1;33m\u001b[0m\u001b[0m\n\u001b[1;32m--> 150\u001b[1;33m             dtype=dtype)\n\u001b[0m\u001b[0;32m    151\u001b[0m \u001b[1;33m\u001b[0m\u001b[0m\n\u001b[0;32m    152\u001b[0m \u001b[1;33m\u001b[0m\u001b[0m\n",
            "\u001b[1;32m~\\Anaconda3\\envs\\Deep Learning\\lib\\site-packages\\keras_preprocessing\\image\\directory_iterator.py\u001b[0m in \u001b[0;36m__init__\u001b[1;34m(self, directory, image_data_generator, target_size, color_mode, classes, class_mode, batch_size, shuffle, seed, data_format, save_to_dir, save_prefix, save_format, follow_links, subset, interpolation, dtype)\u001b[0m\n\u001b[0;32m    104\u001b[0m         \u001b[1;32mif\u001b[0m \u001b[1;32mnot\u001b[0m \u001b[0mclasses\u001b[0m\u001b[1;33m:\u001b[0m\u001b[1;33m\u001b[0m\u001b[1;33m\u001b[0m\u001b[0m\n\u001b[0;32m    105\u001b[0m             \u001b[0mclasses\u001b[0m \u001b[1;33m=\u001b[0m \u001b[1;33m[\u001b[0m\u001b[1;33m]\u001b[0m\u001b[1;33m\u001b[0m\u001b[1;33m\u001b[0m\u001b[0m\n\u001b[1;32m--> 106\u001b[1;33m             \u001b[1;32mfor\u001b[0m \u001b[0msubdir\u001b[0m \u001b[1;32min\u001b[0m \u001b[0msorted\u001b[0m\u001b[1;33m(\u001b[0m\u001b[0mos\u001b[0m\u001b[1;33m.\u001b[0m\u001b[0mlistdir\u001b[0m\u001b[1;33m(\u001b[0m\u001b[0mdirectory\u001b[0m\u001b[1;33m)\u001b[0m\u001b[1;33m)\u001b[0m\u001b[1;33m:\u001b[0m\u001b[1;33m\u001b[0m\u001b[1;33m\u001b[0m\u001b[0m\n\u001b[0m\u001b[0;32m    107\u001b[0m                 \u001b[1;32mif\u001b[0m \u001b[0mos\u001b[0m\u001b[1;33m.\u001b[0m\u001b[0mpath\u001b[0m\u001b[1;33m.\u001b[0m\u001b[0misdir\u001b[0m\u001b[1;33m(\u001b[0m\u001b[0mos\u001b[0m\u001b[1;33m.\u001b[0m\u001b[0mpath\u001b[0m\u001b[1;33m.\u001b[0m\u001b[0mjoin\u001b[0m\u001b[1;33m(\u001b[0m\u001b[0mdirectory\u001b[0m\u001b[1;33m,\u001b[0m \u001b[0msubdir\u001b[0m\u001b[1;33m)\u001b[0m\u001b[1;33m)\u001b[0m\u001b[1;33m:\u001b[0m\u001b[1;33m\u001b[0m\u001b[1;33m\u001b[0m\u001b[0m\n\u001b[0;32m    108\u001b[0m                     \u001b[0mclasses\u001b[0m\u001b[1;33m.\u001b[0m\u001b[0mappend\u001b[0m\u001b[1;33m(\u001b[0m\u001b[0msubdir\u001b[0m\u001b[1;33m)\u001b[0m\u001b[1;33m\u001b[0m\u001b[1;33m\u001b[0m\u001b[0m\n",
            "\u001b[1;31mFileNotFoundError\u001b[0m: [WinError 3] O sistema não pode encontrar o caminho especificado: 'CovidDataset/Train'"
          ]
        }
      ],
      "source": [
        "train_generator  = train_datagen.flow_from_dataframe(,\n",
        "                                                    target_size =(224,224),\n",
        "                                                    batch_size=32,\n",
        "                                                    class_mode='binary'\n",
        "                                                    )"
      ]
    },
    {
      "cell_type": "code",
      "metadata": {
        "tags": [
          "outputPrepend"
        ],
        "id": "u1gk9Cn2UZU1",
        "colab_type": "code",
        "colab": {}
      },
      "source": [
        "\n",
        "\n",
        "for row in df_metadata_local[[\"prognostico\",\"imagem\"]].iterrows():\n",
        "    imagen_name = row[1].imagem\n",
        "    prognostico = row[1].prognostico\n",
        "    full_name = r\"{0}/{1}\".format(diretorio_imagem_covid,imagen_name)\n",
        "    image = cv2.imread(full_name)\n",
        "    if(image is None):\n",
        "        lista_imagens_erro.append(imagen_name)\n",
        "    else:\n",
        "        image = cv2.cvtColor(image, cv2.COLOR_BGR2RGB)\n",
        "        image = cv2.resize(image, config.IMAGE_SIZE)\n",
        "        lista_tuplas_imagens.append((prognostico,image))\n",
        "        lista_imagens_com_Covid.append(full_name)\n",
        "        \n",
        "   \n"
      ],
      "execution_count": 87,
      "outputs": [
        {
          "output_type": "error",
          "ename": "NameError",
          "evalue": "name 'cv2' is not defined",
          "traceback": [
            "\u001b[1;31m---------------------------------------------------------------------------\u001b[0m",
            "\u001b[1;31mNameError\u001b[0m                                 Traceback (most recent call last)",
            "\u001b[1;32m<ipython-input-87-770c780ef738>\u001b[0m in \u001b[0;36m<module>\u001b[1;34m\u001b[0m\n\u001b[0;32m      3\u001b[0m     \u001b[0mprognostico\u001b[0m \u001b[1;33m=\u001b[0m \u001b[0mrow\u001b[0m\u001b[1;33m[\u001b[0m\u001b[1;36m1\u001b[0m\u001b[1;33m]\u001b[0m\u001b[1;33m.\u001b[0m\u001b[0mprognostico\u001b[0m\u001b[1;33m\u001b[0m\u001b[1;33m\u001b[0m\u001b[0m\n\u001b[0;32m      4\u001b[0m     \u001b[0mfull_name\u001b[0m \u001b[1;33m=\u001b[0m \u001b[1;34mr\"{0}/{1}\"\u001b[0m\u001b[1;33m.\u001b[0m\u001b[0mformat\u001b[0m\u001b[1;33m(\u001b[0m\u001b[0mdiretorio_imagem_covid\u001b[0m\u001b[1;33m,\u001b[0m\u001b[0mimagen_name\u001b[0m\u001b[1;33m)\u001b[0m\u001b[1;33m\u001b[0m\u001b[1;33m\u001b[0m\u001b[0m\n\u001b[1;32m----> 5\u001b[1;33m     \u001b[0mimage\u001b[0m \u001b[1;33m=\u001b[0m \u001b[0mcv2\u001b[0m\u001b[1;33m.\u001b[0m\u001b[0mimread\u001b[0m\u001b[1;33m(\u001b[0m\u001b[0mfull_name\u001b[0m\u001b[1;33m)\u001b[0m\u001b[1;33m\u001b[0m\u001b[1;33m\u001b[0m\u001b[0m\n\u001b[0m\u001b[0;32m      6\u001b[0m     \u001b[1;32mif\u001b[0m\u001b[1;33m(\u001b[0m\u001b[0mimage\u001b[0m \u001b[1;32mis\u001b[0m \u001b[1;32mNone\u001b[0m\u001b[1;33m)\u001b[0m\u001b[1;33m:\u001b[0m\u001b[1;33m\u001b[0m\u001b[1;33m\u001b[0m\u001b[0m\n\u001b[0;32m      7\u001b[0m         \u001b[0mlista_imagens_erro\u001b[0m\u001b[1;33m.\u001b[0m\u001b[0mappend\u001b[0m\u001b[1;33m(\u001b[0m\u001b[0mimagen_name\u001b[0m\u001b[1;33m)\u001b[0m\u001b[1;33m\u001b[0m\u001b[1;33m\u001b[0m\u001b[0m\n",
            "\u001b[1;31mNameError\u001b[0m: name 'cv2' is not defined"
          ]
        }
      ]
    },
    {
      "cell_type": "code",
      "metadata": {
        "tags": [
          "outputPrepend"
        ],
        "id": "agfuyj_EUZU3",
        "colab_type": "code",
        "colab": {
          "base_uri": "https://localhost:8080/",
          "height": 35
        },
        "outputId": "6c6fa085-fd71-4440-a757-d830ead9d00b"
      },
      "source": [
        "\n",
        "\n",
        "print(\"quantidade imagens com covid {0}\".format(len(lista_imagens_com_Covid)))"
      ],
      "execution_count": null,
      "outputs": []
    },
    {
      "cell_type": "markdown",
      "metadata": {
        "id": "Ye8cdtqvUZU5",
        "colab_type": "text"
      },
      "source": [
        "### Para fazer isso, usei o conjunto de dados de imagens de raios X do tórax de Kaggle (Pneumonia) e coletei 275 imagens de raios X de pacientes saudáveis ( Figura 2 , à direita ). Existem vários problemas com o conjunto de dados de radiografia de tórax do Kaggle, ou seja, rótulos ruidosos / incorretos, mas serviu como um ponto de partida suficientemente bom para esta prova de conceito do detector COVID-19.\n",
        "\n",
        "https://www.kaggle.com/paultimothymooney/chest-xray-pneumonia\n",
        "\n",
        "baixamos os arquivos de test  sem pneumonia\n"
      ]
    },
    {
      "cell_type": "code",
      "metadata": {
        "id": "hcDJ7VF3UZU6",
        "colab_type": "code",
        "colab": {
          "base_uri": "https://localhost:8080/",
          "height": 52
        },
        "outputId": "a18adc9b-3e6c-4180-e685-f27c4391ef90"
      },
      "source": [
        "\n",
        "imagens_pneumonia_normal =  list(paths.list_images(diretorio_pneumonia_normal))\n",
        "imagens_pneumonia_pneumonia =  list(paths.list_images(diretorio_pneumonia_pneumonia))\n",
        "print(\"Imagens Pneumonia Normal {0}\".format(len(imagens_pneumonia_normal)))\n",
        "print(\"Imagens Pneumonia Pneumonia {0}\".format(len(imagens_pneumonia_pneumonia)))"
      ],
      "execution_count": null,
      "outputs": []
    },
    {
      "cell_type": "code",
      "metadata": {
        "tags": [
          "outputPrepend",
          "outputPrepend",
          "outputPrepend",
          "outputPrepend",
          "outputPrepend",
          "outputPrepend",
          "outputPrepend",
          "outputPrepend",
          "outputPrepend",
          "outputPrepend",
          "outputPrepend",
          "outputPrepend",
          "outputPrepend",
          "outputPrepend",
          "outputPrepend",
          "outputPrepend",
          "outputPrepend",
          "outputPrepend",
          "outputPrepend",
          "outputPrepend",
          "outputPrepend",
          "outputPrepend",
          "outputPrepend"
        ],
        "id": "OrwMb7jnUZU8",
        "colab_type": "code",
        "colab": {}
      },
      "source": [
        "for item in imagens_pneumonia_normal:\n",
        "    image = cv2.imread(item)\n",
        "    prognostico = item.split(os.path.sep)[-2]\n",
        "    prognostico = str(prognostico).lower()\n",
        "    if(image is None):\n",
        "        lista_imagens_erro.append(item)\n",
        "    else:\n",
        "        image = cv2.cvtColor(image, cv2.COLOR_BGR2RGB)\n",
        "        image = cv2.resize(image, config.IMAGE_SIZE)\n",
        "        lista_tuplas_imagens.append((prognostico,image))\n",
        "        lista_imagens_com_pneumonia_normal.append(item)\n",
        "    "
      ],
      "execution_count": null,
      "outputs": []
    },
    {
      "cell_type": "code",
      "metadata": {
        "id": "ISTK73MxUZU9",
        "colab_type": "code",
        "colab": {}
      },
      "source": [
        "for item in imagens_pneumonia_pneumonia:\n",
        "    image = cv2.imread(item)\n",
        "    prognostico = item.split(os.path.sep)[-2]\n",
        "    prognostico = str(prognostico).lower()\n",
        "    if(image is None):\n",
        "        lista_imagens_erro.append(item)\n",
        "    else:\n",
        "        image = cv2.cvtColor(image, cv2.COLOR_BGR2RGB)\n",
        "        image = cv2.resize(image, config.IMAGE_SIZE)\n",
        "        # image = cv2.resize(image, (224, 224), interpolation = cv2.INTER_AREA)\n",
        "        lista_tuplas_imagens.append((prognostico,image))\n",
        "        lista_imagens_com_pneumonia_pneumonia.append(item)"
      ],
      "execution_count": null,
      "outputs": []
    },
    {
      "cell_type": "code",
      "metadata": {
        "id": "u-zjnDYPUZVA",
        "colab_type": "code",
        "colab": {
          "base_uri": "https://localhost:8080/",
          "height": 88
        },
        "outputId": "dee73d98-89b5-49f7-d447-8f6602dc39fa"
      },
      "source": [
        "config.QuantidadeImagensCovid =len(lista_imagens_com_Covid)\n",
        "config.QuantidadeImagensPneumonia =len(lista_imagens_com_pneumonia_pneumonia)\n",
        "config.QuantidadeImagensNormal =len(lista_imagens_com_pneumonia_normal)\n",
        "config.QuantidadeImagensTotais = len(lista_tuplas_imagens)\n",
        "\n",
        "print(\"Imagens Covid  {0} total de {1:.2f} %\".format(len(lista_imagens_com_Covid),len(lista_imagens_com_Covid) / (len(lista_tuplas_imagens)) * 100))\n",
        "print(\"Imagens Pneumonia Pneumonia  {0} total de {1:.2f} %\".format(len(lista_imagens_com_pneumonia_pneumonia),len(lista_imagens_com_pneumonia_pneumonia) / (len(lista_tuplas_imagens)) * 100))\n",
        "print(\"Imagens Pneumonia Normais  {0} total de {1:.2f} %\".format(len(lista_imagens_com_pneumonia_normal),len(lista_imagens_com_pneumonia_normal) / (len(lista_tuplas_imagens)) * 100))\n",
        "\n",
        "\n",
        "print(\"Total de Imagens {0}\".format(len(lista_tuplas_imagens)))\n",
        " "
      ],
      "execution_count": null,
      "outputs": []
    },
    {
      "cell_type": "code",
      "metadata": {
        "id": "Xb-1VBvIUZVC",
        "colab_type": "code",
        "colab": {}
      },
      "source": [
        ""
      ],
      "execution_count": null,
      "outputs": []
    },
    {
      "cell_type": "code",
      "metadata": {
        "id": "wQF61PpJUZVD",
        "colab_type": "code",
        "colab": {}
      },
      "source": [
        "labels = [item[0] for item in lista_tuplas_imagens]\n",
        "\n"
      ],
      "execution_count": null,
      "outputs": []
    },
    {
      "cell_type": "code",
      "metadata": {
        "id": "QqSpRZMNUZVF",
        "colab_type": "code",
        "colab": {
          "base_uri": "https://localhost:8080/",
          "height": 35
        },
        "outputId": "f9d4b032-8838-43fa-f498-300cd88ae2c7"
      },
      "source": [
        "distinct_labels  = set(labels)\n",
        "\n",
        "distinct_labels\n"
      ],
      "execution_count": null,
      "outputs": []
    },
    {
      "cell_type": "code",
      "metadata": {
        "id": "ozkQzFZbUZVH",
        "colab_type": "code",
        "colab": {}
      },
      "source": [
        "\n",
        "labels = np.array(labels)\n"
      ],
      "execution_count": null,
      "outputs": []
    },
    {
      "cell_type": "code",
      "metadata": {
        "id": "F9h31DCvUZVJ",
        "colab_type": "code",
        "colab": {}
      },
      "source": [
        "lb = LabelBinarizer()\n",
        "labels = lb.fit_transform(labels)\n",
        "# labels = to_categorical(labels, num_classes = 2)\n"
      ],
      "execution_count": null,
      "outputs": []
    },
    {
      "cell_type": "code",
      "metadata": {
        "id": "Prld2D4VUZVL",
        "colab_type": "code",
        "colab": {
          "base_uri": "https://localhost:8080/",
          "height": 35
        },
        "outputId": "9c585d57-c352-4bbd-bb2c-4bc97cc3a63f"
      },
      "source": [
        "labels.shape"
      ],
      "execution_count": null,
      "outputs": []
    },
    {
      "cell_type": "code",
      "metadata": {
        "id": "lXOTpF1zUZVO",
        "colab_type": "code",
        "colab": {
          "base_uri": "https://localhost:8080/",
          "height": 195
        },
        "outputId": "6ae0098c-d951-46bb-9b40-0f8521f5940f"
      },
      "source": [
        "labels[0:10]"
      ],
      "execution_count": null,
      "outputs": []
    },
    {
      "cell_type": "code",
      "metadata": {
        "id": "OInj847WUZVP",
        "colab_type": "code",
        "colab": {}
      },
      "source": [
        "lista_imagens =[item[1] for item in lista_tuplas_imagens]"
      ],
      "execution_count": null,
      "outputs": []
    },
    {
      "cell_type": "code",
      "metadata": {
        "id": "hjkzx0y8UZVT",
        "colab_type": "code",
        "colab": {}
      },
      "source": [
        "lista_imagens = np.array(lista_imagens) / 255.0"
      ],
      "execution_count": null,
      "outputs": []
    },
    {
      "cell_type": "code",
      "metadata": {
        "id": "f7hLnlz3UZVW",
        "colab_type": "code",
        "colab": {
          "base_uri": "https://localhost:8080/",
          "height": 35
        },
        "outputId": "90badf49-ecfa-4e7d-e717-98a406ee4e05"
      },
      "source": [
        "lista_imagens.shape\n"
      ],
      "execution_count": null,
      "outputs": []
    },
    {
      "cell_type": "markdown",
      "metadata": {
        "id": "FqWk0DCxUZVY",
        "colab_type": "text"
      },
      "source": [
        "## fazendo a divisão do data-set em test e treino\n",
        "\n"
      ]
    },
    {
      "cell_type": "code",
      "metadata": {
        "id": "ioj9OqP-UZVY",
        "colab_type": "code",
        "colab": {}
      },
      "source": [
        "config.Test_size = 0.30"
      ],
      "execution_count": null,
      "outputs": []
    },
    {
      "cell_type": "code",
      "metadata": {
        "id": "sfzUL7ldUZVa",
        "colab_type": "code",
        "colab": {}
      },
      "source": [
        "(trainX, testX, trainY, testY) = train_test_split(lista_imagens, labels, train_size = config.Test_size, stratify=labels, random_state=42)"
      ],
      "execution_count": null,
      "outputs": []
    },
    {
      "cell_type": "code",
      "metadata": {
        "id": "o9i8HnUxUZVd",
        "colab_type": "code",
        "colab": {
          "base_uri": "https://localhost:8080/",
          "height": 195
        },
        "outputId": "3f2973f8-6d26-4a62-af81-b51d29e518eb"
      },
      "source": [
        "print(\"trainX shape {0}\".format(trainX[0].shape))\n",
        "print(\"testX shape {0}\".format(testX[0].shape))\n",
        "print(\"trainY shape {0}\".format(trainY[0].shape))\n",
        "print(\"testY shape {0}\".format(testY[0].shape))\n",
        "\n",
        "\n",
        "config.QuantidadeImagensTestX = len(testX)\n",
        "config.QuantidadeImagensTestY = len(testY)\n",
        "config.QuantidadeImagensTrainX = len(trainX)\n",
        "config.QuantidadeImagensTrainY = len(trainY)\n",
        "print(\"\\n\")\n",
        "print(\"quantidade registros em  trainX {0}\".format(config.QuantidadeImagensTrainX))\n",
        "print(\"quantidade registros em  testX {0}\".format(config.QuantidadeImagensTestX))\n",
        "print(\"quantidade registros em  trainY {0}\".format(config.QuantidadeImagensTrainY))\n",
        "print(\"quantidade registros em  testY {0}\".format(config.QuantidadeImagensTestY))"
      ],
      "execution_count": null,
      "outputs": []
    },
    {
      "cell_type": "markdown",
      "metadata": {
        "id": "jcYdd6iJUZVf",
        "colab_type": "text"
      },
      "source": [
        ""
      ]
    },
    {
      "cell_type": "markdown",
      "metadata": {
        "id": "ByCrquleUZVg",
        "colab_type": "text"
      },
      "source": [
        "## executando a  tecnica de  data augmentation\n",
        "\n",
        "### Para garantir a generalização do nosso modelo, realizamos o aumento de dados definindo a rotação aleatória da imagem em 15 graus no sentido horário ou anti-horário."
      ]
    },
    {
      "cell_type": "code",
      "metadata": {
        "id": "c2EPF8Ulpqa8",
        "colab_type": "code",
        "colab": {
          "base_uri": "https://localhost:8080/",
          "height": 35
        },
        "outputId": "2cc8c298-b522-4149-ab65-fb8928920a66"
      },
      "source": [
        "config.Fill_mode"
      ],
      "execution_count": null,
      "outputs": []
    },
    {
      "cell_type": "code",
      "metadata": {
        "id": "riDcB6l3UZVg",
        "colab_type": "code",
        "colab": {}
      },
      "source": [
        "trainAug = ImageDataGenerator(rotation_range=config.Rotation_range,fill_mode= config.Fill_mode)\n"
      ],
      "execution_count": null,
      "outputs": []
    },
    {
      "cell_type": "markdown",
      "metadata": {
        "id": "uQdkjXjHUZVi",
        "colab_type": "text"
      },
      "source": [
        "### instanciamentos a rede VGG16 com pesos pré-treinados no ImageNet, deixando  o head da camada FC.\n",
        "\n",
        "A partir daí, construímos um nova camanda totalmente conectada, consistindo em POOL => FC = SOFTMAX em cima do VGG16 \n",
        "\n",
        "Em seguida, congelamos o CONV pesos do VGG16, de modo que apenas oFCa cabeça da camada será treinada ( Linhas 101-102 ); isso completa nossa configuração de ajuste fino."
      ]
    },
    {
      "cell_type": "code",
      "metadata": {
        "id": "S4F2TlAaUZVi",
        "colab_type": "code",
        "colab": {}
      },
      "source": [
        "# carregar a rede VGG16, garantindo que os conjuntos de camadas FC principais sejam deixados\n",
        "# fora\n",
        "baseModel = VGG16(weights=\"imagenet\", include_top=False,input_tensor=Input(shape=(224, 224, 3)))\n",
        "# construa o head  do modelo que será colocado em cima d0 modelo base\n",
        "headModel = baseModel.output\n",
        "headModel = AveragePooling2D(pool_size=(4, 4))(headModel)\n",
        "headModel = Flatten(name=\"flatten\")(headModel)\n",
        "headModel = Dense(128, activation=\"relu\")(headModel)\n",
        "headModel = Dropout(0.5)(headModel)\n",
        "headModel = Dense(3, activation=\"softmax\")(headModel)\n",
        "# coloque o modelo FC principal sobre o modelo base (isso se tornará\n",
        "# o modelo real que vamos treinar)\n",
        "model = Model(inputs=baseModel.input, outputs=headModel)\n",
        "# passa por todas as camadas no modelo base e congela-as para que elas\n",
        "# * not * seja atualizado durante o primeiro processo de treinamento\n",
        "for layer in baseModel.layers:\n",
        "\tlayer.trainable = False"
      ],
      "execution_count": null,
      "outputs": []
    },
    {
      "cell_type": "markdown",
      "metadata": {
        "id": "4HKwc4_wUZVj",
        "colab_type": "text"
      },
      "source": [
        "### Agora estamos prontos para compilar e treinar nosso modelo de aprendizado"
      ]
    },
    {
      "cell_type": "markdown",
      "metadata": {
        "id": "7gLdL-_lUZVk",
        "colab_type": "text"
      },
      "source": [
        "## compilam a rede com o declínio da taxa de aprendizado e osAdãootimizador. Dado que este é um problema de 2 classes, usamos\"binary_crossentropy\" perda em vez de crossentropia categórica.\n"
      ]
    },
    {
      "cell_type": "code",
      "metadata": {
        "id": "LZUsAOyGhR5W",
        "colab_type": "code",
        "colab": {
          "base_uri": "https://localhost:8080/",
          "height": 88
        },
        "outputId": "50715147-f42b-49f4-b095-fd75139561b3"
      },
      "source": [
        "print(float(config.Rotation_range))\n",
        "print(config.EPOCHS)\n",
        "print(config.INIT_LR)\n",
        "print(config.BS)"
      ],
      "execution_count": null,
      "outputs": []
    },
    {
      "cell_type": "code",
      "metadata": {
        "id": "rALkBqgeoiY-",
        "colab_type": "code",
        "colab": {
          "base_uri": "https://localhost:8080/",
          "height": 88
        },
        "outputId": "80a2b9c4-f381-44c7-e115-d44620e6d44c"
      },
      "source": [
        "print(trainX.shape)\n",
        "print(trainY.shape)\n",
        "print(testX.shape)\n",
        "print(testY.shape)"
      ],
      "execution_count": null,
      "outputs": []
    },
    {
      "cell_type": "code",
      "metadata": {
        "id": "k3Z3lAfrUZVk",
        "colab_type": "code",
        "colab": {
          "base_uri": "https://localhost:8080/",
          "height": 1000
        },
        "outputId": "5e547e19-1a1e-4b68-9ed8-8dc41be92457"
      },
      "source": [
        "# compile our model\n",
        "print(\"[INFO] compiling model...\")\n",
        "opt = Adam(lr=config.INIT_LR, decay=config.INIT_LR / config.EPOCHS)\n",
        "model.compile(loss=\"categorical_crossentropy\", optimizer=opt,metrics=[\"accuracy\"])\n",
        "\n",
        "\n",
        "# train the head of the network\n",
        "print(\"[INFO] training head...\")\n",
        "H = model.fit_generator(trainAug.flow(trainX, trainY, batch_size=config.BS),steps_per_epoch=len(trainX) // config.BS,\n",
        "\tvalidation_data=(testX, testY),validation_steps=len(testX) // config.BS,epochs=config.EPOCHS)"
      ],
      "execution_count": null,
      "outputs": []
    },
    {
      "cell_type": "markdown",
      "metadata": {
        "id": "CvUsBvX0UZVm",
        "colab_type": "text"
      },
      "source": [
        "## A seguir, avaliaremos nosso modelo:"
      ]
    },
    {
      "cell_type": "markdown",
      "metadata": {
        "id": "UfZVDumYUZVm",
        "colab_type": "text"
      },
      "source": [
        "## primeiro fazemos previsões no conjunto de testes e obtemos os índices de previsão\n",
        "\n",
        "## Em seguida, geramos e imprimimos um relatório de classificação usando o utilitário auxiliar do scikit-learn\n"
      ]
    },
    {
      "cell_type": "code",
      "metadata": {
        "id": "LppW2GjlUZVm",
        "colab_type": "code",
        "colab": {
          "base_uri": "https://localhost:8080/",
          "height": 212
        },
        "outputId": "755b16d3-7d96-4159-f841-b2f8ce31ea31"
      },
      "source": [
        "# make predictions on the testing set\n",
        "print(\"[INFO] evaluating network...\")\n",
        "predIdxs = model.predict(testX, batch_size=config.BS)\n",
        "# for each image in the testing set we need to find the index of the\n",
        "# label with corresponding largest predicted probability\n",
        "predIdxs = np.argmax(predIdxs, axis=1)\n",
        "# show a nicely formatted classification report\n",
        "print(classification_report(testY.argmax(axis=1), predIdxs,\n",
        "\ttarget_names=lb.classes_))\n",
        "\t"
      ],
      "execution_count": null,
      "outputs": []
    },
    {
      "cell_type": "markdown",
      "metadata": {
        "id": "2Cfk4J4LUZVo",
        "colab_type": "text"
      },
      "source": [
        "## Em seguida, calcularemos uma matriz de confusão para uma avaliação estatística adicional:\n",
        "\n"
      ]
    },
    {
      "cell_type": "code",
      "metadata": {
        "id": "2nh5DtUUUZVo",
        "colab_type": "code",
        "colab": {
          "base_uri": "https://localhost:8080/",
          "height": 106
        },
        "outputId": "d9d74904-207d-4591-b2c1-ae569ce6af0c"
      },
      "source": [
        "# compute the confusion matrix and and use it to derive the raw\n",
        "# accuracy, sensitivity, and specificity\n",
        "cm = confusion_matrix(testY.argmax(axis=1), predIdxs)\n",
        "\n",
        "total = sum(sum(cm))\n",
        "\n",
        "acc = (cm[0, 0] + cm[1, 1] + cm[2, 2]) / total\n",
        "# sensitivity = (cm[0, 0] / (cm[0, 0]) + cm[0, 1])\n",
        "# specificity = (cm[1, 1] / (cm[1, 0]) + cm[1, 1])\n",
        "# show the confusion matrix, accuracy, sensitivity, and specificity\n",
        "print(cm)\n",
        "print(\"Total imagens para teste : {0}\".format(total))\n",
        "print(\"acc: {:.4f}\".format(acc))\n",
        "# print(\"sensitivity: {:.4f}\".format(sensitivity))\n",
        "# print(\"specificity: {:.4f}\".format(specificity))"
      ],
      "execution_count": null,
      "outputs": []
    },
    {
      "cell_type": "code",
      "metadata": {
        "id": "_NK-47PAUZVq",
        "colab_type": "code",
        "colab": {}
      },
      "source": [
        "{'covid', 'normal', 'pneumonia'}"
      ],
      "execution_count": null,
      "outputs": []
    },
    {
      "cell_type": "code",
      "metadata": {
        "id": "za8uL-2e9y_l",
        "colab_type": "code",
        "colab": {
          "base_uri": "https://localhost:8080/",
          "height": 35
        },
        "outputId": "2acb994d-5657-4b47-b2de-74e71fcfe4d0"
      },
      "source": [
        "\n"
      ],
      "execution_count": null,
      "outputs": []
    },
    {
      "cell_type": "code",
      "metadata": {
        "id": "Wgq5xWLnUZVv",
        "colab_type": "code",
        "colab": {
          "base_uri": "https://localhost:8080/",
          "height": 631
        },
        "outputId": "4b070304-d488-4aad-ddac-d6f85f298949"
      },
      "source": [
        "import seaborn as sns \n",
        "plt.style.use('fivethirtyeight')\n",
        "matrix = confusion_matrix(predIdxs,testY.argmax(axis=1))\n",
        "plt.figure(figsize=(8,8))\n",
        "ax = plt.subplot()\n",
        "sns.heatmap(matrix,annot=True,ax=ax)\n",
        "\n",
        "diretorio_save ='{0}/{1}{2}.png'.format(diretorio_save_model_imagens,'Confusion Matrix',config.NomeModelo)\n",
        "\n",
        "ax.set_xlabel('Predicted Labels',size=18)\n",
        "ax.set_ylabel('True Labels',size=18)\n",
        "ax.set_title('Confusion Matrix(0=Covid and 1=NonCovid and 2= pneumonia)',size=18)\n",
        "\n",
        "\n",
        "plt.savefig(diretorio_save)\n",
        "\n",
        "\n",
        "total = sum(sum(matrix))\n",
        "\n",
        "acc = (matrix[0, 0] + matrix[1, 1] + matrix[2, 2]) / total\n",
        "sensitivity = matrix[0, 0] / (matrix[0, 0] + cm[0, 1])\n",
        "specificity = matrix[1, 1] / (matrix[1, 0] + cm[1, 1])\n",
        "\n",
        "\n",
        "print(\"acc: {:.4f}\".format(acc))\n",
        "# print(\"sensitivity: {:.4f}\".format(sensitivity))\n",
        "# print(\"specificity: {:.4f}\".format(specificity))\n"
      ],
      "execution_count": null,
      "outputs": []
    },
    {
      "cell_type": "markdown",
      "metadata": {
        "id": "AMGg_42HUZVz",
        "colab_type": "text"
      },
      "source": [
        "## Em seguida, plotamos nosso histórico de precisão / perda de treinamento para inspeção, produzindo o plot para um arquivo de imagem:"
      ]
    },
    {
      "cell_type": "code",
      "metadata": {
        "id": "kBg13OZsUZVz",
        "colab_type": "code",
        "colab": {
          "base_uri": "https://localhost:8080/",
          "height": 408
        },
        "outputId": "c857d023-dcff-489a-cdfa-bade33288571"
      },
      "source": [
        "\n",
        "config.to_dict()\n",
        "\n"
      ],
      "execution_count": null,
      "outputs": []
    },
    {
      "cell_type": "code",
      "metadata": {
        "id": "UhN3NnX6UZV1",
        "colab_type": "code",
        "colab": {
          "base_uri": "https://localhost:8080/",
          "height": 312
        },
        "outputId": "5a8f5688-53a5-4485-b4e1-ab49c38fe02d"
      },
      "source": [
        "# traçar a perda e a precisão do treinamento\n",
        "# plot the training loss and accuracy\n",
        "\n",
        "diretorio_saveplot ='{0}/{1}_plot.png'.format(diretorio_save_model_imagens,config.NomeModelo)\n",
        "\n",
        "N = config.EPOCHS\n",
        "plt.style.use(\"ggplot\")\n",
        "plt.figure()\n",
        "plt.plot(np.arange(0, N), H.history[\"loss\"], label=\"train_loss\")\n",
        "plt.plot(np.arange(0, N), H.history[\"val_loss\"], label=\"val_loss\")\n",
        "plt.plot(np.arange(0, N), H.history[\"accuracy\"], label=\"train_accuracy\")\n",
        "plt.plot(np.arange(0, N), H.history[\"val_accuracy\"], label=\"val_accuracy\")\n",
        "plt.title(\"Training Loss and Accuracy on COVID-19 Dataset\")\n",
        "plt.xlabel(\"Epoch #\")\n",
        "plt.ylabel(\"Loss/Accuracy\")\n",
        "plt.legend(loc=\"lower left\")\n",
        "plt.savefig(diretorio_saveplot)"
      ],
      "execution_count": null,
      "outputs": []
    },
    {
      "cell_type": "markdown",
      "metadata": {
        "id": "oMbx7xvjUZV2",
        "colab_type": "text"
      },
      "source": [
        "## Agora Salvamos o modelo "
      ]
    },
    {
      "cell_type": "code",
      "metadata": {
        "id": "dgWxQnzZUZV4",
        "colab_type": "code",
        "colab": {
          "base_uri": "https://localhost:8080/",
          "height": 35
        },
        "outputId": "fde381fb-42b5-40e7-f5c6-785bdd52f21b"
      },
      "source": [
        "diretorio_save_model_imagens"
      ],
      "execution_count": null,
      "outputs": []
    },
    {
      "cell_type": "code",
      "metadata": {
        "id": "XxZI7tkOUZV8",
        "colab_type": "code",
        "colab": {
          "base_uri": "https://localhost:8080/",
          "height": 108
        },
        "outputId": "7c43ca60-7472-4fef-933f-b78ae1071468"
      },
      "source": [
        "# serialize the model to disk\n",
        "model.save('{0}/{1}'.format(diretorio_save_model_imagens,config.NomeModelo))"
      ],
      "execution_count": null,
      "outputs": []
    },
    {
      "cell_type": "markdown",
      "metadata": {
        "id": "7zO5eZ-BUZWB",
        "colab_type": "text"
      },
      "source": [
        "## Validação de novas imagens"
      ]
    },
    {
      "cell_type": "code",
      "metadata": {
        "id": "QylWyvCaUZWC",
        "colab_type": "code",
        "colab": {}
      },
      "source": [
        "output_model =r'{0}\\{1}'.format(diretorio_raiz,'base_conhecimento')"
      ],
      "execution_count": null,
      "outputs": []
    },
    {
      "cell_type": "code",
      "metadata": {
        "id": "LbiORfIoUZWI",
        "colab_type": "code",
        "colab": {
          "base_uri": "https://localhost:8080/",
          "height": 1000
        },
        "outputId": "4c2a23e2-cea9-491d-c246-676a46b9601e"
      },
      "source": [
        "from tensorflow.keras.models import load_model\n",
        "# Recreate the exact same model, including its weights and the optimizer\n",
        "new_model = load_model('{0}/{1}'.format(diretorio_save_model_imagens,config.NomeModelo))\n",
        "\n",
        "# Show the model architecture\n",
        "new_model.summary()"
      ],
      "execution_count": null,
      "outputs": []
    },
    {
      "cell_type": "markdown",
      "metadata": {
        "id": "21urKqgKUZWK",
        "colab_type": "text"
      },
      "source": [
        "## informações do modelo selecionado\n"
      ]
    },
    {
      "cell_type": "code",
      "metadata": {
        "id": "poNAMXTuUZWK",
        "colab_type": "code",
        "colab": {
          "base_uri": "https://localhost:8080/",
          "height": 212
        },
        "outputId": "96fb9cc2-bb3e-4b71-b06a-4e8786e53ff0"
      },
      "source": [
        "# make predictions on the testing set\n",
        "print(\"[INFO] evaluating network...\")\n",
        "predIdxs = new_model.predict(testX, batch_size=config.BS)\n",
        "# for each image in the testing set we need to find the index of the\n",
        "# label with corresponding largest predicted probability\n",
        "predIdxs = np.argmax(predIdxs, axis=1)\n",
        "# show a nicely formatted classification report\n",
        "print(classification_report(testY.argmax(axis=1), predIdxs, target_names=lb.classes_))"
      ],
      "execution_count": null,
      "outputs": []
    },
    {
      "cell_type": "markdown",
      "metadata": {
        "id": "4RDyaYDQUZWM",
        "colab_type": "text"
      },
      "source": [
        "## Teste de imagem com Covid\n"
      ]
    },
    {
      "cell_type": "code",
      "metadata": {
        "id": "x-fLJpozUZWM",
        "colab_type": "code",
        "colab": {}
      },
      "source": [
        "def getArrayFromImage(var_imagem):\n",
        "    test_image = cv2.imread(var_imagem)\n",
        "    test_image = cv2.cvtColor(test_image, cv2.COLOR_BGR2RGB)\n",
        "    test_image = cv2.resize(test_image, (224, 224))\n",
        "    imagem_array = np.expand_dims(test_image, axis = 0)\n",
        "\n",
        "    return imagem_array,test_image\n"
      ],
      "execution_count": null,
      "outputs": []
    },
    {
      "cell_type": "code",
      "metadata": {
        "id": "AaFLyWDeUZWN",
        "colab_type": "code",
        "colab": {}
      },
      "source": [
        "import random as r\n",
        "var_imagem = r.choice(lista_imagens_com_Covid)\n",
        "\n",
        "imagem_array,image  = getArrayFromImage(var_imagem)\n"
      ],
      "execution_count": null,
      "outputs": []
    },
    {
      "cell_type": "code",
      "metadata": {
        "id": "0xIUO9u9UZWR",
        "colab_type": "code",
        "colab": {
          "base_uri": "https://localhost:8080/",
          "height": 35
        },
        "outputId": "4d967836-82df-4073-bfd8-9c5f6ac73c8d"
      },
      "source": [
        "var_imagem"
      ],
      "execution_count": null,
      "outputs": []
    },
    {
      "cell_type": "code",
      "metadata": {
        "id": "f5RTVsl5UZWT",
        "colab_type": "code",
        "colab": {}
      },
      "source": [
        "{'covid', 'normal', 'pneumonia'}"
      ],
      "execution_count": null,
      "outputs": []
    },
    {
      "cell_type": "markdown",
      "metadata": {
        "id": "4ojrOLuIBC85",
        "colab_type": "text"
      },
      "source": [
        "## executando a predição de uma nova imagem"
      ]
    },
    {
      "cell_type": "code",
      "metadata": {
        "id": "oP5Yo8fnBASZ",
        "colab_type": "code",
        "colab": {
          "base_uri": "https://localhost:8080/",
          "height": 35
        },
        "outputId": "785afa6d-cf92-47c8-8835-703193bdee9b"
      },
      "source": [
        "\n",
        "pred = new_model.predict(imagem_array)\n",
        "print(pred)"
      ],
      "execution_count": null,
      "outputs": []
    },
    {
      "cell_type": "code",
      "metadata": {
        "id": "3lk35BQRUZWV",
        "colab_type": "code",
        "colab": {
          "base_uri": "https://localhost:8080/",
          "height": 331
        },
        "outputId": "d2d40027-45d5-4976-ee21-605329e2293e"
      },
      "source": [
        "\n",
        "\n",
        "\n",
        "\n",
        "print(np.argmax(pred, axis=1)[0])\n",
        "if pred[0][0] == 1:\n",
        "  plt.title('Prediction: Covid-19')\n",
        "elif pred[0][1] == 1:\n",
        "  plt.title('Prediction: normal')\n",
        "elif pred[0][2] == 1:\n",
        "  plt.title('Prediction: pneumonia')\n",
        "      \n",
        "plt.imshow(image)\n",
        "    \n",
        "\n",
        "\n",
        "\n",
        "\n"
      ],
      "execution_count": null,
      "outputs": []
    },
    {
      "cell_type": "code",
      "metadata": {
        "id": "ITsQfov0UZWZ",
        "colab_type": "code",
        "colab": {
          "base_uri": "https://localhost:8080/",
          "height": 1000
        },
        "outputId": "f9ed0ad6-fdef-482f-d935-e6a77907a285"
      },
      "source": [
        "labels=['covid','normal','pneumonia']\n",
        "plt.figure(figsize =(40,40))\n",
        "for i in range(36):\n",
        "    plt.subplot(6,6,i+1)\n",
        "    plt.xticks([])\n",
        "    plt.yticks([])\n",
        "    plt.grid(False)\n",
        "    plt.title(labels[(np.argmax(testY[i], axis=0))])\n",
        "    plt.imshow(trainX.reshape(-1,224,224,3)[i])\n",
        "    \n",
        "    if(predIdxs[i]==(np.argmax(testY[i], axis=0))):\n",
        "        plt.xlabel(labels[predIdxs[i]],color='blue')\n",
        "    else:\n",
        "        plt.xlabel(labels[predIdxs[i]],color='red')\n",
        "plt.show()"
      ],
      "execution_count": null,
      "outputs": []
    },
    {
      "cell_type": "markdown",
      "metadata": {
        "id": "6aABrTicUZWb",
        "colab_type": "text"
      },
      "source": [
        "## Diagnóstico automático de COVID-19 a partir de resultados de imagens de raios-X\n",
        "\n",
        "### Como você pode ver nos resultados acima, nosso detector COVID-19 automático está obtendo ~ 90-92% de precisão em nosso conjunto de dados de amostra com base apenas em imagens de raios-X  - nenhum outro dado, incluindo localização geográfica, densidade populacional etc. foi usado para treinar esse modelo.\n"
      ]
    },
    {
      "cell_type": "markdown",
      "metadata": {
        "id": "n97stPLcUZWb",
        "colab_type": "text"
      },
      "source": [
        "### Também estamos obtendo 100% de sensibilidade e 80% de especificidade, o que implica que:\n",
        "\n",
        "### Dos pacientes que fazem tem COVID-19 (ou seja, verdadeiros positivos), poderíamos identificá-los com precisão como “COVID-19 positiva” 100% do tempo , usando o nosso modelo.\n",
        "\n",
        "### Dos pacientes que não têm COVID-19 (isto é, verdadeiros negativos), poderíamos identificá-los com precisão como \"COVID-19 negativo\" apenas 80% do tempo usando nosso modelo."
      ]
    },
    {
      "cell_type": "markdown",
      "metadata": {
        "id": "U5iyv7Z4UZWb",
        "colab_type": "text"
      },
      "source": [
        "## Ser capaz de detectar com precisão o COVID-19 com 100% de precisão é ótimo; no entanto, nossa verdadeira taxa negativa é um pouco preocupante  - não queremos classificar alguém como \"COVID-19 negativo\" quando é \"COVID-19 positivo\".\n",
        "\n",
        "## De fato, a última coisa que queremos fazer é dizer a um paciente que eles são negativos para COVID-19 e depois levá-los para casa e infectar sua família e amigos; transmitindo assim a doença ainda mais.\n",
        "\n",
        "## Também queremos ter muito cuidado com nossa taxa de falsos positivos  - não queremos classificar erroneamente alguém como \"positivo para COVID-19\" , colocá-lo em quarentena com outros pacientes positivos para COVID-19 e infectar uma pessoa que nunca teve realmente o problema. vírus.\n",
        "\n",
        "## Equilibrar sensibilidade e especificidade é incrivelmente desafiador quando se trata de aplicações médicas, especialmente doenças infecciosas que podem ser transmitidas rapidamente, como o COVID-19."
      ]
    },
    {
      "cell_type": "markdown",
      "metadata": {
        "id": "hb8DH122UZWb",
        "colab_type": "text"
      },
      "source": [
        "# Limitações\n"
      ]
    },
    {
      "cell_type": "code",
      "metadata": {
        "id": "N3_neCDyUZWc",
        "colab_type": "code",
        "colab": {}
      },
      "source": [
        "Uma das maiores limitações do método discutido neste tutorial são os dados.\n",
        "\n",
        "Simplesmente não temos dados suficientes (confiáveis) para treinar um detector COVID-19.\n",
        "\n",
        "Os hospitais já estão sobrecarregados com o número de casos COVID-19 e, dados os direitos e a confidencialidade dos pacientes, fica ainda mais difícil montar conjuntos de dados de imagens médicas de qualidade em tempo hábil.\n",
        "\n",
        "Imagino que nos próximos 12 a 18 meses teremos mais conjuntos de dados de imagem COVID-19 de alta qualidade; mas, por enquanto, só podemos nos contentar com o que temos."
      ],
      "execution_count": null,
      "outputs": []
    }
  ],
  "metadata": {
    "language_info": {
      "codemirror_mode": {
        "name": "ipython",
        "version": 3
      },
      "file_extension": ".py",
      "mimetype": "text/x-python",
      "name": "python",
      "nbconvert_exporter": "python",
      "pygments_lexer": "ipython3",
      "version": "3.7.7-final"
    },
    "orig_nbformat": 2,
    "kernelspec": {
      "name": "python37764bitdeeplearningconda70b0a9c2c78b49cfaeeb6e88dd7dfba8",
      "display_name": "Python 3.7.7 64-bit ('Deep Learning': conda)"
    },
    "colab": {
      "name": "Versao_V2.ipynb",
      "provenance": [],
      "toc_visible": true
    },
    "accelerator": "GPU"
  },
  "nbformat": 4,
  "nbformat_minor": 0
}