{
 "cells": [
  {
   "cell_type": "markdown",
   "metadata": {},
   "source": [
    "# O intuito desse notebook e recuperar todas as imagens disponiveis  sobre pneumonia e covid e disponibilizar em um banco de dados\n"
   ]
  },
  {
   "cell_type": "markdown",
   "metadata": {},
   "source": [
    "## bibliotecas necessárias"
   ]
  },
  {
   "cell_type": "code",
   "execution_count": 3,
   "metadata": {
    "tags": []
   },
   "outputs": [
    {
     "output_type": "stream",
     "name": "stdout",
     "text": "Collecting imutils\nInstalling collected packages: imutils\nSuccessfully installed imutils-0.5.3\ntensorflow 2.1.0 requires absl-py>=0.7.0, which is not installed.\ntensorflow 2.1.0 requires astor>=0.6.0, which is not installed.\ntensorflow 2.1.0 requires gast==0.2.2, which is not installed.\ntensorflow 2.1.0 requires google-pasta>=0.1.6, which is not installed.\ntensorflow 2.1.0 requires grpcio>=1.8.6, which is not installed.\ntensorflow 2.1.0 requires keras-applications>=1.0.8, which is not installed.\ntensorflow 2.1.0 requires keras-preprocessing>=1.1.0, which is not installed.\ntensorflow 2.1.0 requires opt-einsum>=2.3.2, which is not installed.\ntensorflow 2.1.0 requires protobuf>=3.8.0, which is not installed.\ntensorflow 2.1.0 requires tensorflow-estimator<2.2.0,>=2.1.0rc0, which is not installed.\ntensorflow 2.1.0 requires termcolor>=1.1.0, which is not installed.\ntensorboard 2.1.0 requires absl-py>=0.4, which is not installed.\ntensorboard 2.1.0 requires google-auth-oauthlib<0.5,>=0.4.1, which is not installed.\ntensorboard 2.1.0 requires grpcio>=1.24.3, which is not installed.\ntensorboard 2.1.0 requires markdown>=2.6.8, which is not installed.\ntensorboard 2.1.0 requires protobuf>=3.6.0, which is not installed.\nparamiko 2.7.1 requires bcrypt>=3.1.3, which is not installed.\nparamiko 2.7.1 requires pynacl>=1.0.1, which is not installed.\ngoogle-auth 1.11.2 requires rsa<4.1,>=3.1.4, which is not installed.\ngoogle-auth-httplib2 0.0.3 requires httplib2>=0.9.1, which is not installed.\ngoogle-api-python-client 1.7.11 requires httplib2<1dev,>=0.9.2, which is not installed.\ntwisted 18.7.0 requires PyHamcrest>=1.9.0, which is not installed.\ntensorflow 2.1.0 has requirement scipy==1.4.1; python_version >= \"3\", but you'll have scipy 1.1.0 which is incompatible.\ntensorflow 2.1.0 has requirement six>=1.12.0, but you'll have six 1.11.0 which is incompatible.\ntensorflow 2.1.0 has requirement wrapt>=1.11.1, but you'll have wrapt 1.10.11 which is incompatible.\ntensorboard 2.1.0 has requirement requests<3,>=2.21.0, but you'll have requests 2.19.1 which is incompatible.\nYou are using pip version 10.0.1, however version 20.2.3 is available.\nYou should consider upgrading via the 'python -m pip install --upgrade pip' command.\n"
    }
   ],
   "source": [
    "!pip install imutils\n"
   ]
  },
  {
   "cell_type": "code",
   "execution_count": 3,
   "metadata": {
    "tags": []
   },
   "outputs": [
    {
     "output_type": "stream",
     "name": "stdout",
     "text": "Collecting opencv-python\n  Downloading opencv_python-4.4.0.42-cp37-cp37m-win_amd64.whl (33.5 MB)\nRequirement already satisfied: numpy>=1.14.5 in c:\\users\\wesley.neves\\appdata\\roaming\\python\\python37\\site-packages (from opencv-python) (1.18.1)\nInstalling collected packages: opencv-python\nSuccessfully installed opencv-python-4.4.0.42\n"
    }
   ],
   "source": [
    "!pip install opencv-python"
   ]
  },
  {
   "cell_type": "code",
   "execution_count": 5,
   "metadata": {
    "tags": []
   },
   "outputs": [
    {
     "output_type": "stream",
     "name": "stdout",
     "text": "Collecting pydicom\n  Downloading pydicom-2.0.0-py3-none-any.whl (35.4 MB)\nInstalling collected packages: pydicom\nSuccessfully installed pydicom-2.0.0\n"
    }
   ],
   "source": [
    "!pip install pydicom"
   ]
  },
  {
   "cell_type": "code",
   "execution_count": 6,
   "metadata": {},
   "outputs": [],
   "source": [
    "from imutils import paths\n",
    "from PIL import Image\n",
    "import pydicom as dicom\n",
    "import pandas as pd\n",
    "import shutil\n",
    "import cv2 \n",
    "import os\n",
    "import random as rn"
   ]
  },
  {
   "cell_type": "markdown",
   "metadata": {},
   "source": [
    "## classe para manipulação dos diretorios"
   ]
  },
  {
   "cell_type": "code",
   "execution_count": 8,
   "metadata": {},
   "outputs": [],
   "source": [
    "from Utils import UtilsProjects\n",
    "\n",
    "# configNetWork = UtilsProjects.NetWorkConfiguration()\n",
    "\n",
    "dir_Util = UtilsProjects.UtilsDiretory()"
   ]
  },
  {
   "cell_type": "markdown",
   "metadata": {},
   "source": [
    "### diretorio base para o projeto \n",
    "\n"
   ]
  },
  {
   "cell_type": "code",
   "execution_count": 9,
   "metadata": {},
   "outputs": [],
   "source": [
    "\n",
    "\n",
    "dir_Util.DiretorioProjeto = r'D:/Repos/AprendendoPython/Pos_Graduacao_BigData/TCC/Projeto'\n",
    "\n",
    "# \"MaquinaLocal => r'D:/Repos/AprendendoPython/Pos_Graduacao_BigData/TCC/Projeto'\n",
    "# GoogleDrive\"  => r'/content/drive/My Drive/TCC Pos Graduação big data/TCC/Projeto/'\n",
    "    "
   ]
  },
  {
   "cell_type": "markdown",
   "metadata": {},
   "source": [
    "# diretorios dos arquivos originais"
   ]
  },
  {
   "cell_type": "code",
   "execution_count": 10,
   "metadata": {},
   "outputs": [],
   "source": [
    "\n",
    "dir_source_covid_cohen =r'D:/Repos/datasetsGitHub/covid-chestxray-dataset'\n",
    "dir_source_covid_figure1 =r'D:/Repos/datasetsGitHub/Figure1-COVID-chestxray-dataset'\n",
    "dir_source_covid_Actualmed =r'D:/Repos/datasetsGitHub/Actualmed-COVID-chestxray-dataset'\n",
    "dir_source_RadiographyDatabase =r'D:/Repos/datasetsGitHub/COVID-19 Radiography Database'\n",
    "dir_source_rsna_pneumonia =r'D:/Repos/datasetsGitHub/rsna-pneumonia-detection-challenge'"
   ]
  },
  {
   "cell_type": "markdown",
   "metadata": {},
   "source": [
    "## diretorio final do dataset"
   ]
  },
  {
   "cell_type": "code",
   "execution_count": 11,
   "metadata": {
    "tags": []
   },
   "outputs": [],
   "source": [
    "dir_target_diretorio_raiz = dir_Util.DiretorioProjeto\n",
    "\n",
    "dir_target_diretorio_dataset =dir_Util.get_diretorio(dir_Util.DiretorioProjeto,'dataset')\n",
    "dir_target_diretorio_imagem_covid = dir_Util.get_diretorio(dir_target_diretorio_dataset,'covid')\n",
    "dir_target_diretorio_normal = dir_Util.get_diretorio(dir_target_diretorio_dataset,'normal')\n",
    "dir_target_diretorio_validacao = dir_Util.get_diretorio(dir_target_diretorio_dataset,'validacao')"
   ]
  },
  {
   "cell_type": "markdown",
   "metadata": {},
   "source": [
    "### estrutura final"
   ]
  },
  {
   "cell_type": "code",
   "execution_count": 12,
   "metadata": {
    "tags": []
   },
   "outputs": [
    {
     "output_type": "stream",
     "name": "stdout",
     "text": "\n\nDiretorio das imagens baixadas (source)\nD:/Repos/datasetsGitHub/covid-chestxray-dataset\nD:/Repos/datasetsGitHub/Figure1-COVID-chestxray-dataset\nD:/Repos/datasetsGitHub/Actualmed-COVID-chestxray-dataset\nD:/Repos/datasetsGitHub/COVID-19 Radiography Database\nD:/Repos/datasetsGitHub/rsna-pneumonia-detection-challenge\n\n\nDiretorio do dataset final(target)\nD:/Repos/AprendendoPython/Pos_Graduacao_BigData/TCC/Projeto\nD:/Repos/AprendendoPython/Pos_Graduacao_BigData/TCC/Projeto/dataset\nD:/Repos/AprendendoPython/Pos_Graduacao_BigData/TCC/Projeto/dataset/covid\nD:/Repos/AprendendoPython/Pos_Graduacao_BigData/TCC/Projeto/dataset/normal\nD:/Repos/AprendendoPython/Pos_Graduacao_BigData/TCC/Projeto/dataset/validacao\nD:/Repos/AprendendoPython/Pos_Graduacao_BigData/TCC/Projeto/dataset/validacao/covid\nD:/Repos/AprendendoPython/Pos_Graduacao_BigData/TCC/Projeto/dataset/validacao/normal\n"
    }
   ],
   "source": [
    "\n",
    "print('\\n')\n",
    "print(\"Diretorio das imagens baixadas (source)\")\n",
    "print(dir_source_covid_cohen)\n",
    "print(dir_source_covid_figure1)\n",
    "print(dir_source_covid_Actualmed)\n",
    "print(dir_source_RadiographyDatabase)\n",
    "print(dir_source_rsna_pneumonia)\n",
    "\n",
    "print('\\n')\n",
    "print(\"Diretorio do dataset final(target)\")\n",
    "\n",
    "print(dir_target_diretorio_raiz)\n",
    "print(dir_target_diretorio_dataset)\n",
    "print(dir_target_diretorio_imagem_covid)\n",
    "print(dir_target_diretorio_normal)\n",
    "print(dir_target_diretorio_validacao)\n",
    "print(r\"{0}/{1}\".format(dir_target_diretorio_validacao,\"covid\"))\n",
    "print(r\"{0}/{1}\".format(dir_target_diretorio_validacao,\"normal\"))\n"
   ]
  },
  {
   "cell_type": "markdown",
   "metadata": {},
   "source": [
    "# inicio do processamento"
   ]
  },
  {
   "cell_type": "code",
   "execution_count": 13,
   "metadata": {
    "tags": []
   },
   "outputs": [
    {
     "output_type": "stream",
     "name": "stdout",
     "text": "D:/Repos/AprendendoPython/Pos_Graduacao_BigData/TCC/Projeto\n"
    },
    {
     "output_type": "error",
     "ename": "FileNotFoundError",
     "evalue": "[WinError 3] O sistema não pode encontrar o caminho especificado: 'D:/Repos/AprendendoPython/Pos_Graduacao_BigData/TCC/Projeto'",
     "traceback": [
      "\u001b[1;31m---------------------------------------------------------------------------\u001b[0m",
      "\u001b[1;31mFileNotFoundError\u001b[0m                         Traceback (most recent call last)",
      "\u001b[1;32m<ipython-input-13-831072bf77ea>\u001b[0m in \u001b[0;36m<module>\u001b[1;34m()\u001b[0m\n\u001b[0;32m     11\u001b[0m     \u001b[0mprint\u001b[0m\u001b[1;33m(\u001b[0m\u001b[0mitem\u001b[0m\u001b[1;33m)\u001b[0m\u001b[1;33m\u001b[0m\u001b[0m\n\u001b[0;32m     12\u001b[0m     \u001b[1;32mif\u001b[0m \u001b[1;32mnot\u001b[0m \u001b[0mos\u001b[0m\u001b[1;33m.\u001b[0m\u001b[0mpath\u001b[0m\u001b[1;33m.\u001b[0m\u001b[0mexists\u001b[0m\u001b[1;33m(\u001b[0m\u001b[0mitem\u001b[0m\u001b[1;33m)\u001b[0m\u001b[1;33m:\u001b[0m\u001b[1;33m\u001b[0m\u001b[0m\n\u001b[1;32m---> 13\u001b[1;33m         \u001b[0mos\u001b[0m\u001b[1;33m.\u001b[0m\u001b[0mmkdir\u001b[0m\u001b[1;33m(\u001b[0m\u001b[0mitem\u001b[0m\u001b[1;33m)\u001b[0m\u001b[1;33m\u001b[0m\u001b[0m\n\u001b[0m",
      "\u001b[1;31mFileNotFoundError\u001b[0m: [WinError 3] O sistema não pode encontrar o caminho especificado: 'D:/Repos/AprendendoPython/Pos_Graduacao_BigData/TCC/Projeto'"
     ]
    }
   ],
   "source": [
    "lista_diretorios_target=[]\n",
    "lista_diretorios_target.append(dir_target_diretorio_raiz)\n",
    "lista_diretorios_target.append(dir_target_diretorio_dataset),\n",
    "lista_diretorios_target.append(dir_target_diretorio_imagem_covid),\n",
    "lista_diretorios_target.append(dir_target_diretorio_normal),\n",
    "lista_diretorios_target.append(dir_target_diretorio_validacao)\n",
    "lista_diretorios_target.append(r\"{0}/{1}\".format(dir_target_diretorio_validacao,\"covid\"))\n",
    "lista_diretorios_target.append(r\"{0}/{1}\".format(dir_target_diretorio_validacao,\"normal\"))\n",
    "\n",
    "for item in lista_diretorios_target:\n",
    "    print(item)\n",
    "    if not os.path.exists(item):\n",
    "        os.mkdir(item)"
   ]
  },
  {
   "cell_type": "code",
   "execution_count": 267,
   "metadata": {},
   "outputs": [],
   "source": [
    "\n",
    "## repositorios locais\n",
    "source_dir_metadata_local_cohen  = r\"{0}/{1}\".format(dir_source_covid_cohen,'metadata.csv')\n",
    "dir_source_imagens_Covid_cohen = r\"{0}/{1}\".format(dir_source_covid_cohen,'images')\n",
    "\n",
    "source_dir_metadata_local_figure_1  = r\"{0}/{1}\".format(dir_source_covid_figure1,'metadata.csv')\n",
    "source_dir_imagens_figure_1  = r\"{0}/{1}\".format(dir_source_covid_figure1,'images')\n",
    "\n",
    "source_dir_metadata_local_Actualmed  = r\"{0}/{1}\".format(dir_source_covid_Actualmed,'metadata.csv')\n",
    "source_dir_imagens_Actualmed = r\"{0}/{1}\".format(dir_source_covid_Actualmed,'images')\n",
    "\n",
    "\n",
    "\n",
    "## pulmão normal\n",
    "dir_source_pneumonia_csv_train_detailed = r\"{0}/{1}\".format(dir_source_rsna_pneumonia,'stage_2_detailed_class_info.csv') \n",
    "dir_source_pneumonia_detailed_class_imagens =r\"{0}/{1}\".format(dir_source_rsna_pneumonia,'stage_2_train_images')\n",
    "\n",
    "\n"
   ]
  },
  {
   "cell_type": "markdown",
   "metadata": {},
   "source": [
    "## limpa os diretorios destino das imagens"
   ]
  },
  {
   "cell_type": "code",
   "execution_count": 268,
   "metadata": {},
   "outputs": [],
   "source": [
    "map_prognostico  =  { 'Lung Opacity': 'pneumonia',\n",
    "    'Normal' :'normal',\n",
    "    'COVID-19':'covid-19',\n",
    "    'SARS': 'pneumonia',\n",
    "    'MERS': 'pneumonia',\n",
    "    'Streptococcus': 'pneumonia',\n",
    "    'Klebsiella': 'pneumonia',\n",
    "    'Chlamydophila': 'pneumonia',\n",
    "    'Legionella': 'pneumonia',\n",
    "    'Normal': 'normal',\n",
    "    'Pneumonia' : 'pneumonia'\n",
    "\n",
    "}"
   ]
  },
  {
   "cell_type": "code",
   "execution_count": 269,
   "metadata": {
    "tags": []
   },
   "outputs": [
    {
     "output_type": "stream",
     "name": "stdout",
     "text": "Quantidade registros figure_1:(55, 12)\nQuantidade registros cohen:(751, 29)\nQuantidade registros Actualmed:(238, 13)\nQuantidade registros RadiographyDatabase Covid:(219, 4)\nQuantidade registros RadiographyDatabase Normal:(1341, 4)\nQuantidade registros Actualmed:(238, 13)\nQuantidade registros Rsna (pulmão normal e pneumonia):(30227, 2)\n"
    }
   ],
   "source": [
    "\n",
    "\n",
    "# df_local_cohen = pd.read_csv(source_dir_metadata_local_cohen,error_bad_lines=False)\n",
    "df_local_figure_1 = pd.read_csv(source_dir_metadata_local_figure_1,error_bad_lines=False,encoding='ISO-8859-1')\n",
    "df_local_cohen = pd.read_csv(source_dir_metadata_local_cohen,error_bad_lines=False,encoding='ISO-8859-1')\n",
    "df_local_Actualmed = pd.read_csv(source_dir_metadata_local_Actualmed,error_bad_lines=False,encoding='ISO-8859-1')\n",
    "\n",
    "df_local_RadiographyDatabase_Covid = pd.read_excel(r\"{0}/{1}\".format(dir_source_RadiographyDatabase,'COVID-19.metadata.xlsx'),error_bad_lines=False, encoding='ISO-8859-1')\n",
    "\n",
    "\n",
    "\n",
    "df_local_RadiographyDatabase_Normal = pd.read_excel(r\"{0}/{1}\".format(dir_source_RadiographyDatabase,'NORMAL.metadata.xlsx'),error_bad_lines=False, encoding='ISO-8859-1')\n",
    "\n",
    "\n",
    "source_dir_metadata_RadiographyDatabase_Imagens_Covid = r\"{0}/{1}\".format(dir_source_RadiographyDatabase,'COVID-19')\n",
    "source_dir_metadata_RadiographyDatabase_Imagens_Normal = r\"{0}/{1}\".format(dir_source_RadiographyDatabase,'NORMAL')\n",
    "\n",
    "\n",
    "\n",
    "df_rsna = pd.read_csv(dir_source_pneumonia_csv_train_detailed,error_bad_lines=False,encoding='ISO-8859-1')\n",
    "\n",
    "print(\"Quantidade registros figure_1:{0}\".format(df_local_figure_1.shape))\n",
    "print(\"Quantidade registros cohen:{0}\".format(df_local_cohen.shape))\n",
    "print(\"Quantidade registros Actualmed:{0}\".format(df_local_Actualmed.shape))\n",
    "print(\"Quantidade registros RadiographyDatabase Covid:{0}\".format(df_local_RadiographyDatabase_Covid.shape))\n",
    "print(\"Quantidade registros RadiographyDatabase Normal:{0}\".format(df_local_RadiographyDatabase_Normal.shape))\n",
    "print(\"Quantidade registros Actualmed:{0}\".format(df_local_Actualmed.shape))\n",
    "print(\"Quantidade registros Rsna (pulmão normal e pneumonia):{0}\".format(df_rsna.shape))"
   ]
  },
  {
   "cell_type": "markdown",
   "metadata": {},
   "source": [
    "## Valida a quantidade de registros locais e web\n"
   ]
  },
  {
   "cell_type": "code",
   "execution_count": 270,
   "metadata": {},
   "outputs": [],
   "source": [
    "metadata_web_git_cohen ='https://raw.githubusercontent.com/ieee8023/covid-chestxray-dataset/master/metadata.csv'\n",
    "\n",
    "metadata_web_git_figure_1  ='https://raw.githubusercontent.com/agchung/Figure1-COVID-chestxray-dataset/master/metadata.csv'\n",
    "\n",
    "metadata_web_git_Actualmed  ='https://raw.githubusercontent.com/agchung/Actualmed-COVID-chestxray-dataset/master/metadata.csv'"
   ]
  },
  {
   "cell_type": "code",
   "execution_count": 271,
   "metadata": {
    "tags": []
   },
   "outputs": [
    {
     "output_type": "stream",
     "name": "stdout",
     "text": "Foram adicionadas 0 : imagens no repositorio web Chohen\nForam adicionadas 0 : imagens no repositorio web Figure 1\nForam adicionadas 0 : imagens no repositorio web Actualmed\n"
    }
   ],
   "source": [
    "df_web_cohen = pd.read_csv(metadata_web_git_cohen,error_bad_lines=False,encoding='ISO-8859-1')\n",
    "df_web_figure_1 = pd.read_csv(metadata_web_git_figure_1,error_bad_lines=False,encoding='ISO-8859-1')\n",
    "df_web_Actualmed = pd.read_csv(metadata_web_git_Actualmed,error_bad_lines=False,encoding='ISO-8859-1')\n",
    "\n",
    "qtd_diferenca_cohen = len(df_web_cohen) - len(df_local_cohen)\n",
    "qtd_diferenca_figure_1 = len(df_web_figure_1) - len(df_local_figure_1)\n",
    "qtd_diferenca_Actualmed = len(df_web_Actualmed) - len(df_local_Actualmed)\n",
    "\n",
    "if(qtd_diferenca_cohen < 0):\n",
    "    print(\"Foram removidas {0} : imagens no repositorio web Chohen\".format(qtd_diferenca_cohen.__abs__()))\n",
    "else:\n",
    "    print(\"Foram adicionadas {0} : imagens no repositorio web Chohen\".format(qtd_diferenca_cohen.__abs__()))\n",
    "\n",
    "\n",
    "if(qtd_diferenca_figure_1 < 0):\n",
    "    print(\"Foram removidas {0} : imagens no repositorio web Figure 1\".format(qtd_diferenca_figure_1.__abs__()))\n",
    "else:\n",
    "    print(\"Foram adicionadas {0} : imagens no repositorio web Figure 1\".format(qtd_diferenca_figure_1.__abs__()))    \n",
    "\n",
    "if(qtd_diferenca_Actualmed < 0):\n",
    "    print(\"Foram removidas {0} : imagens no repositorio web Actualmed\".format(qtd_diferenca_Actualmed.__abs__()))\n",
    "else:\n",
    "    print(\"Foram adicionadas {0} : imagens no repositorio web Actualmed\".format(qtd_diferenca_Actualmed.__abs__()))    \n",
    "        \n"
   ]
  },
  {
   "cell_type": "markdown",
   "metadata": {},
   "source": [
    "## tranferencia dos arquivos de Covid 19"
   ]
  },
  {
   "cell_type": "code",
   "execution_count": 272,
   "metadata": {},
   "outputs": [
    {
     "output_type": "execute_result",
     "data": {
      "text/plain": "                                encontrados porcentagem\nCOVID-19                                526      70.04%\ntodo                                     78      10.39%\nNo Finding                               23       3.06%\nStreptococcus                            17       2.26%\nPneumocystis                             17       2.26%\nSARS                                     16       2.13%\nPneumonia                                14       1.86%\nCOVID-19, ARDS                           12        1.6%\nMycoplasma Bacterial Pneumonia            8       1.07%\nKlebsiella                                8       1.07%\nLegionella                                6        0.8%\nLipoid                                    5       0.67%\nVaricella                                 5       0.67%\nE.Coli                                    4       0.53%\nBacterial                                 4       0.53%\nARDS                                      4       0.53%\nChlamydophila                             2       0.27%\nInfluenza                                 2       0.27%",
      "text/html": "<div>\n<style scoped>\n    .dataframe tbody tr th:only-of-type {\n        vertical-align: middle;\n    }\n\n    .dataframe tbody tr th {\n        vertical-align: top;\n    }\n\n    .dataframe thead th {\n        text-align: right;\n    }\n</style>\n<table border=\"1\" class=\"dataframe\">\n  <thead>\n    <tr style=\"text-align: right;\">\n      <th></th>\n      <th>encontrados</th>\n      <th>porcentagem</th>\n    </tr>\n  </thead>\n  <tbody>\n    <tr>\n      <th>COVID-19</th>\n      <td>526</td>\n      <td>70.04%</td>\n    </tr>\n    <tr>\n      <th>todo</th>\n      <td>78</td>\n      <td>10.39%</td>\n    </tr>\n    <tr>\n      <th>No Finding</th>\n      <td>23</td>\n      <td>3.06%</td>\n    </tr>\n    <tr>\n      <th>Streptococcus</th>\n      <td>17</td>\n      <td>2.26%</td>\n    </tr>\n    <tr>\n      <th>Pneumocystis</th>\n      <td>17</td>\n      <td>2.26%</td>\n    </tr>\n    <tr>\n      <th>SARS</th>\n      <td>16</td>\n      <td>2.13%</td>\n    </tr>\n    <tr>\n      <th>Pneumonia</th>\n      <td>14</td>\n      <td>1.86%</td>\n    </tr>\n    <tr>\n      <th>COVID-19, ARDS</th>\n      <td>12</td>\n      <td>1.6%</td>\n    </tr>\n    <tr>\n      <th>Mycoplasma Bacterial Pneumonia</th>\n      <td>8</td>\n      <td>1.07%</td>\n    </tr>\n    <tr>\n      <th>Klebsiella</th>\n      <td>8</td>\n      <td>1.07%</td>\n    </tr>\n    <tr>\n      <th>Legionella</th>\n      <td>6</td>\n      <td>0.8%</td>\n    </tr>\n    <tr>\n      <th>Lipoid</th>\n      <td>5</td>\n      <td>0.67%</td>\n    </tr>\n    <tr>\n      <th>Varicella</th>\n      <td>5</td>\n      <td>0.67%</td>\n    </tr>\n    <tr>\n      <th>E.Coli</th>\n      <td>4</td>\n      <td>0.53%</td>\n    </tr>\n    <tr>\n      <th>Bacterial</th>\n      <td>4</td>\n      <td>0.53%</td>\n    </tr>\n    <tr>\n      <th>ARDS</th>\n      <td>4</td>\n      <td>0.53%</td>\n    </tr>\n    <tr>\n      <th>Chlamydophila</th>\n      <td>2</td>\n      <td>0.27%</td>\n    </tr>\n    <tr>\n      <th>Influenza</th>\n      <td>2</td>\n      <td>0.27%</td>\n    </tr>\n  </tbody>\n</table>\n</div>"
     },
     "metadata": {},
     "execution_count": 272
    }
   ],
   "source": [
    "data_freq =df_local_cohen[\"finding\"].value_counts().to_frame()\n",
    "data_freq [\"porcentagem\"] = ((data_freq[\"finding\"] /len(df_local_cohen)) * 100).round(2).astype(str) + '%'\n",
    "\n",
    "data_freq.columns = ['encontrados', 'porcentagem']\n",
    "data_freq"
   ]
  },
  {
   "cell_type": "code",
   "execution_count": 273,
   "metadata": {},
   "outputs": [
    {
     "output_type": "execute_result",
     "data": {
      "text/plain": "           imagens porcentagem\ncovid-19       526      70.04%\npneumonia       63       8.39%",
      "text/html": "<div>\n<style scoped>\n    .dataframe tbody tr th:only-of-type {\n        vertical-align: middle;\n    }\n\n    .dataframe tbody tr th {\n        vertical-align: top;\n    }\n\n    .dataframe thead th {\n        text-align: right;\n    }\n</style>\n<table border=\"1\" class=\"dataframe\">\n  <thead>\n    <tr style=\"text-align: right;\">\n      <th></th>\n      <th>imagens</th>\n      <th>porcentagem</th>\n    </tr>\n  </thead>\n  <tbody>\n    <tr>\n      <th>covid-19</th>\n      <td>526</td>\n      <td>70.04%</td>\n    </tr>\n    <tr>\n      <th>pneumonia</th>\n      <td>63</td>\n      <td>8.39%</td>\n    </tr>\n  </tbody>\n</table>\n</div>"
     },
     "metadata": {},
     "execution_count": 273
    }
   ],
   "source": [
    "df_local_cohen['prognostico'] = df_local_cohen['finding'].map(map_prognostico)\n",
    "\n",
    "\n",
    "data_freq =df_local_cohen[\"prognostico\"].value_counts().to_frame()\n",
    "data_freq [\"porcentagem\"] = ((data_freq[\"prognostico\"] /len(df_local_cohen)) * 100).round(2).astype(str) + '%'\n",
    "\n",
    "data_freq.columns = ['imagens', 'porcentagem']\n",
    "data_freq"
   ]
  },
  {
   "cell_type": "markdown",
   "metadata": {},
   "source": [
    "## base de dados do diretorio do Figure-1\n",
    "disponivel em \n",
    "https://raw.githubusercontent.com/agchung/Figure1-COVID-chestxray-dataset/master/metadata.csv"
   ]
  },
  {
   "cell_type": "code",
   "execution_count": 274,
   "metadata": {},
   "outputs": [
    {
     "output_type": "execute_result",
     "data": {
      "text/plain": "COVID-19      35\nNo finding     3\nPneumonia      2\nName: finding, dtype: int64"
     },
     "metadata": {},
     "execution_count": 274
    }
   ],
   "source": [
    "df_local_figure_1[\"finding\"].value_counts()"
   ]
  },
  {
   "cell_type": "code",
   "execution_count": 275,
   "metadata": {},
   "outputs": [
    {
     "output_type": "execute_result",
     "data": {
      "text/plain": "covid-19     35\npneumonia     2\nName: prognostico, dtype: int64"
     },
     "metadata": {},
     "execution_count": 275
    }
   ],
   "source": [
    "df_local_figure_1['prognostico'] = df_local_figure_1['finding'].map(map_prognostico)\n",
    "\n",
    "\n",
    "df_local_figure_1['prognostico'].value_counts()"
   ]
  },
  {
   "cell_type": "markdown",
   "metadata": {},
   "source": [
    "## base de dados do diretorio do Actualmed\n",
    "disponivel em \n",
    "https://github.com/agchung/Actualmed-COVID-chestxray-dataset"
   ]
  },
  {
   "cell_type": "code",
   "execution_count": 276,
   "metadata": {},
   "outputs": [
    {
     "output_type": "execute_result",
     "data": {
      "text/plain": "No finding    127\nCOVID-19       58\nName: finding, dtype: int64"
     },
     "metadata": {},
     "execution_count": 276
    }
   ],
   "source": [
    "df_local_Actualmed[\"finding\"].value_counts()"
   ]
  },
  {
   "cell_type": "code",
   "execution_count": 277,
   "metadata": {},
   "outputs": [
    {
     "output_type": "execute_result",
     "data": {
      "text/plain": "covid-19    58\nName: prognostico, dtype: int64"
     },
     "metadata": {},
     "execution_count": 277
    }
   ],
   "source": [
    "df_local_Actualmed['prognostico'] = df_local_Actualmed['finding'].map(map_prognostico)\n",
    "\n",
    "df_local_Actualmed['prognostico'].value_counts()\n",
    "\n"
   ]
  },
  {
   "cell_type": "markdown",
   "metadata": {},
   "source": [
    "base de dados do diretorio RadiographyDatabase\n",
    "disponivel  em \n",
    " https://www.kaggle.com/tawsifurrahman/covid19-radiography-database\n"
   ]
  },
  {
   "cell_type": "code",
   "execution_count": 278,
   "metadata": {},
   "outputs": [
    {
     "output_type": "execute_result",
     "data": {
      "text/plain": "covid-19    219\nName: prognostico, dtype: int64"
     },
     "metadata": {},
     "execution_count": 278
    }
   ],
   "source": [
    "\n",
    "df_local_RadiographyDatabase_Covid['prognostico'] =\"covid-19\"\n",
    "\n",
    "\n",
    "df_local_RadiographyDatabase_Covid['prognostico'].value_counts()\n",
    "\n"
   ]
  },
  {
   "cell_type": "code",
   "execution_count": 279,
   "metadata": {},
   "outputs": [
    {
     "output_type": "execute_result",
     "data": {
      "text/plain": "normal    1341\nName: prognostico, dtype: int64"
     },
     "metadata": {},
     "execution_count": 279
    }
   ],
   "source": [
    "df_local_RadiographyDatabase_Normal['prognostico'] =\"normal\"\n",
    "\n",
    "\n",
    "df_local_RadiographyDatabase_Normal['prognostico'].value_counts()"
   ]
  },
  {
   "cell_type": "markdown",
   "metadata": {},
   "source": [
    "## ActualMed \n",
    "disponivel em :"
   ]
  },
  {
   "cell_type": "code",
   "execution_count": 280,
   "metadata": {},
   "outputs": [
    {
     "output_type": "execute_result",
     "data": {
      "text/plain": "covid-19    58\nName: prognostico, dtype: int64"
     },
     "metadata": {},
     "execution_count": 280
    }
   ],
   "source": [
    "df_local_Actualmed['prognostico'] = df_local_Actualmed['finding'].map(map_prognostico)\n",
    "\n",
    "\n",
    "df_local_Actualmed['prognostico'].value_counts()"
   ]
  },
  {
   "cell_type": "code",
   "execution_count": 281,
   "metadata": {},
   "outputs": [
    {
     "output_type": "execute_result",
     "data": {
      "text/plain": "pneumonia    9555\nnormal       8851\nName: prognostico, dtype: int64"
     },
     "metadata": {},
     "execution_count": 281
    }
   ],
   "source": [
    "\n",
    "\n",
    "df_rsna['prognostico'] = df_rsna['class'].map(map_prognostico)\n",
    "\n",
    "\n",
    "df_rsna['prognostico'].value_counts()"
   ]
  },
  {
   "cell_type": "code",
   "execution_count": 294,
   "metadata": {},
   "outputs": [],
   "source": [
    "lista_imagens_covid =[]\n",
    "lista_imagens_normal =[]\n",
    "\n",
    "quantidade_registros = {'normal': 0,  'covid-19': 0}\n",
    "\n",
    "imagens_encontradas = []\n",
    "imagens_encontradas.append({\"Dataset\":\"covid-chestxray-dataset\",\"registros\":[]})\n",
    "imagens_encontradas.append({\"Dataset\":\"Figure1-COVID-chestxray-dataset\",\"registros\":[]})\n",
    "imagens_encontradas.append({\"Dataset\":\"Actualmed-COVID-chestxray-dataset\",\"registros\":[]})\n",
    "imagens_encontradas.append({\"Dataset\":\"COVID-19 Radiography Database\",\"registros\":[]})\n",
    "\n",
    "\n",
    "imagens_nao_encontradas = []\n",
    "imagens_nao_encontradas.append({\"Dataset\":\"covid-chestxray-dataset\",\"registros\":[]})\n",
    "imagens_nao_encontradas.append({\"Dataset\":\"Figure1-COVID-chestxray-dataset\",\"registros\":[]})\n",
    "imagens_nao_encontradas.append({\"Dataset\":\"Actualmed-COVID-chestxray-dataset\",\"registros\":[]})\n",
    "imagens_nao_encontradas.append({\"Dataset\":\"COVID-19 Radiography Database\",\"registros\":[]})\n",
    "\n"
   ]
  },
  {
   "cell_type": "markdown",
   "metadata": {},
   "source": [
    "## diretorio dos dados Covid\n",
    "## Josephpcohen https://josephpcohen.com/w/public-covid19-dataset/"
   ]
  },
  {
   "cell_type": "markdown",
   "metadata": {},
   "source": [
    "# aqui vamos montar uma lista de imagens apenas de X-ray e tambem apenas frontal "
   ]
  },
  {
   "cell_type": "code",
   "execution_count": 283,
   "metadata": {},
   "outputs": [
    {
     "output_type": "execute_result",
     "data": {
      "text/plain": "PA           314\nAP Supine    137\nAP           119\nAxial         68\nL             58\nCoronal       16\n?              4\nName: view, dtype: int64"
     },
     "metadata": {},
     "execution_count": 283
    }
   ],
   "source": [
    "df_local_cohen[\"view\"].value_counts()"
   ]
  },
  {
   "cell_type": "code",
   "execution_count": 295,
   "metadata": {
    "tags": []
   },
   "outputs": [
    {
     "output_type": "stream",
     "name": "stdout",
     "text": "{'normal': 0, 'covid-19': 422}\n422\nRegistros Localizados\nDataset covid-chestxray-dataset Total:422\nRegistros não localizados\nDataset covid-chestxray-dataset Total:0\n"
    }
   ],
   "source": [
    "\n",
    "\n",
    "for row in df_local_cohen.query(\"modality=='X-ray' and view != 'L'\")[[\"prognostico\",\"filename\"]].iterrows():\n",
    "    imagem_name = row[1].filename\n",
    "    prognostico = row[1].prognostico\n",
    "    source_imagem = \"{0}/{1}\".format(dir_source_imagens_Covid_cohen,imagem_name)\n",
    "    if os.path.exists(source_imagem):\n",
    "        if(prognostico ==\"covid-19\"):\n",
    "            if(lista_imagens_covid.count(source_imagem) == 0):\n",
    "                imagens_encontradas[0]['registros'].append(source_imagem)\n",
    "                lista_imagens_covid.append(source_imagem)\n",
    "                quantidade_registros[prognostico] +=1\n",
    "    else:\n",
    "        if(list(imagens_nao_encontradas[0]['registros']).count(source_imagem) == 0):\n",
    "            imagens_nao_encontradas[0]['registros'].append(source_imagem)\n",
    "        # \n",
    "\n",
    "print(quantidade_registros)\n",
    "print(len(lista_imagens_covid))\n",
    "print('Registros Localizados')\n",
    "print(\"Dataset {0} Total:{1}\".format(imagens_encontradas[0][\"Dataset\"],len(imagens_encontradas[0]['registros'])))           \n",
    "print('Registros não localizados')            \n",
    "print(\"Dataset {0} Total:{1}\".format(imagens_nao_encontradas[0][\"Dataset\"],len(imagens_nao_encontradas[0]['registros'])))            \n",
    "\n",
    "\n"
   ]
  },
  {
   "cell_type": "markdown",
   "metadata": {},
   "source": []
  },
  {
   "cell_type": "code",
   "execution_count": 296,
   "metadata": {},
   "outputs": [
    {
     "output_type": "execute_result",
     "data": {
      "text/plain": "AP erect    11\nAP           4\nPA           3\nName: view, dtype: int64"
     },
     "metadata": {},
     "execution_count": 296
    }
   ],
   "source": [
    "df_local_figure_1[\"view\"].value_counts()"
   ]
  },
  {
   "cell_type": "code",
   "execution_count": 297,
   "metadata": {
    "tags": []
   },
   "outputs": [
    {
     "output_type": "stream",
     "name": "stdout",
     "text": "{'normal': 0, 'covid-19': 452}\n452\nRegistros Localizados\nDataset Figure1-COVID-chestxray-dataset Total:30\nRegistros não localizados\nDataset Figure1-COVID-chestxray-dataset Total:5\n"
    }
   ],
   "source": [
    "for row in df_local_figure_1.query(\"modality=='X-ray' and view != 'L'\")[[\"prognostico\",\"patientid\"]].iterrows():\n",
    "    imagem_name = row[1].patientid\n",
    "    prognostico = row[1].prognostico\n",
    "    source_imagem = \"{0}/{1}.jpg\".format(source_dir_imagens_figure_1,imagem_name)\n",
    "    if os.path.exists(source_imagem):\n",
    "       if(prognostico ==\"covid-19\"):\n",
    "            if(lista_imagens_covid.count(source_imagem) == 0):\n",
    "                imagens_encontradas[1]['registros'].append(source_imagem)\n",
    "                lista_imagens_covid.append(source_imagem)\n",
    "                quantidade_registros[prognostico] +=1\n",
    "    else:\n",
    "        if(list(imagens_nao_encontradas[1]['registros']).count(source_imagem) == 0):\n",
    "            imagens_nao_encontradas[1]['registros'].append(source_imagem)\n",
    "        \n",
    "\n",
    "\n",
    "print(quantidade_registros)\n",
    "print(len(lista_imagens_covid))\n",
    "print('Registros Localizados')\n",
    "print(\"Dataset {0} Total:{1}\".format(imagens_encontradas[1][\"Dataset\"],len(imagens_encontradas[1]['registros'])))           \n",
    "print('Registros não localizados')            \n",
    "print(\"Dataset {0} Total:{1}\".format(imagens_nao_encontradas[1][\"Dataset\"],len(imagens_nao_encontradas[1]['registros'])))              "
   ]
  },
  {
   "cell_type": "code",
   "execution_count": 298,
   "metadata": {
    "tags": []
   },
   "outputs": [
    {
     "output_type": "stream",
     "name": "stdout",
     "text": "{'normal': 0, 'covid-19': 510}\n510\nRegistros Localizados\nDataset Actualmed-COVID-chestxray-dataset Total:58\nRegistros não localizados\nDataset Actualmed-COVID-chestxray-dataset Total:0\n"
    }
   ],
   "source": [
    "\n",
    "\n",
    "for row in df_local_Actualmed.query(\"modality=='X-ray' and view != 'L'\")[[\"prognostico\",\"imagename\"]].iterrows():\n",
    "    imagem_name = row[1].imagename\n",
    "    prognostico = row[1].prognostico\n",
    "    source_imagem = \"{0}/{1}\".format(source_dir_imagens_Actualmed,imagem_name)\n",
    "    if os.path.exists(source_imagem):\n",
    "        if(prognostico ==\"covid-19\"):\n",
    "            if(lista_imagens_covid.count(source_imagem) == 0):\n",
    "                imagens_encontradas[2]['registros'].append(source_imagem)\n",
    "                lista_imagens_covid.append(source_imagem)\n",
    "                quantidade_registros[prognostico] +=1\n",
    "    else:\n",
    "        if(list(imagens_nao_encontradas[2]['registros']).count(source_imagem) == 0):\n",
    "            imagens_nao_encontradas[2]['registros'].append(source_imagem)\n",
    "        \n",
    "\n",
    "\n",
    "print(quantidade_registros)\n",
    "print(len(lista_imagens_covid))\n",
    "print('Registros Localizados')\n",
    "print(\"Dataset {0} Total:{1}\".format(imagens_encontradas[2][\"Dataset\"],len(imagens_encontradas[2]['registros'])))           \n",
    "print('Registros não localizados')            \n",
    "print(\"Dataset {0} Total:{1}\".format(imagens_nao_encontradas[2][\"Dataset\"],len(imagens_nao_encontradas[2]['registros'])))   "
   ]
  },
  {
   "cell_type": "markdown",
   "metadata": {},
   "source": [
    "## Do dataset  RadiographyDatabase disponivel aqui será utilizado apenas as imagens com Covid\n",
    "### Esse diretorio tem uma particularidade , pois a maioria dos nomes no arquivo de descrição não bate com o nome fisicamente.\n",
    "### Logo vamos inserir os nomes fisicos"
   ]
  },
  {
   "cell_type": "code",
   "execution_count": 299,
   "metadata": {
    "tags": []
   },
   "outputs": [
    {
     "output_type": "stream",
     "name": "stdout",
     "text": "{'normal': 0, 'covid-19': 719}\n719\nRegistros Localizados\nDataset COVID-19 Radiography Database Total:209\nRegistros não localizados\nDataset COVID-19 Radiography Database Total:0\n"
    }
   ],
   "source": [
    "imagens_RadiographyDatabase_Covid =   list(paths.list_images(r\"{0}/{1}\".format(dir_source_RadiographyDatabase,'COVID-19')))\n",
    "\n",
    "list(imagens_nao_encontradas[3]['registros']).clear()\n",
    "\n",
    "\n",
    "for item in imagens_RadiographyDatabase_Covid:\n",
    "    source_imagem = item\n",
    "    source_imagem =(str(source_imagem).replace('\\\\','/'))\n",
    "    prognostico = source_imagem.split('/')[-2]\n",
    "    prognostico = str(prognostico).lower()\n",
    "    if os.path.exists(source_imagem):\n",
    "        if(lista_imagens_covid.count(source_imagem) == 0):\n",
    "            imagens_encontradas[3]['registros'].append(source_imagem)\n",
    "            lista_imagens_covid.append(source_imagem)\n",
    "            quantidade_registros[prognostico] +=1\n",
    "    else:\n",
    "        if(list(imagens_nao_encontradas[3]['registros']).count(source_imagem) == 0):\n",
    "            imagens_nao_encontradas[3]['registros'].append(source_imagem)\n",
    "\n",
    "print(quantidade_registros)\n",
    "print(len(lista_imagens_covid))\n",
    "print('Registros Localizados')\n",
    "print(\"Dataset {0} Total:{1}\".format(imagens_encontradas[3][\"Dataset\"],len(imagens_encontradas[3]['registros'])))           \n",
    "print('Registros não localizados')            \n",
    "print(\"Dataset {0} Total:{1}\".format(imagens_nao_encontradas[3][\"Dataset\"],len(imagens_nao_encontradas[3]['registros'])))   "
   ]
  },
  {
   "cell_type": "code",
   "execution_count": 300,
   "metadata": {},
   "outputs": [],
   "source": [
    "df_rsna = df_rsna[(df_rsna.prognostico == \"normal\") | (df_rsna.prognostico == \"pneumonia\")]\n",
    "\n"
   ]
  },
  {
   "cell_type": "code",
   "execution_count": 301,
   "metadata": {
    "tags": []
   },
   "outputs": [
    {
     "output_type": "stream",
     "name": "stdout",
     "text": "{'normal': 8851, 'covid-19': 719}\nCovid: 719\n"
    }
   ],
   "source": [
    "for row in df_rsna[[\"patientId\",\"prognostico\"]].iterrows():\n",
    "    imagem_name = row[1].patientId\n",
    "    prognostico = row[1].prognostico\n",
    "    source_imagem = \"{0}/{1}.dcm\".format(dir_source_pneumonia_detailed_class_imagens,imagem_name)\n",
    "    if os.path.exists(source_imagem):\n",
    "        dir_target =\"\"\n",
    "        if(prognostico ==\"normal\"):\n",
    "            lista_imagens_normal.append(source_imagem)\n",
    "            quantidade_registros[prognostico] +=1\n",
    "\n",
    "         \n",
    "\n",
    "print(quantidade_registros)\n",
    "print(\"Covid: {0}\".format(len(lista_imagens_covid))) \n"
   ]
  },
  {
   "cell_type": "markdown",
   "metadata": {},
   "source": [
    "## recupera 50 imagens para cada tipo de classe"
   ]
  },
  {
   "cell_type": "code",
   "execution_count": 302,
   "metadata": {},
   "outputs": [],
   "source": [
    "\n",
    "lista_imagens_validacao_covid = []\n",
    "lista_imagens_validacao_normal = []"
   ]
  },
  {
   "cell_type": "code",
   "execution_count": 303,
   "metadata": {
    "tags": []
   },
   "outputs": [
    {
     "output_type": "stream",
     "name": "stdout",
     "text": "719\nquantidade covid :669\nquantidade imagens validação covid :50\nquantidade imagens validação normal :50\n"
    }
   ],
   "source": [
    "\n",
    "rn.seed(1234)\n",
    "# print(dir_target_diretorio_imagem_covid)\n",
    "quantidade = 50\n",
    "adicionados = {'normal': 0,  'covid-19': 0}\n",
    "\n",
    "print(len(lista_imagens_covid))            \n",
    "\n",
    "# \n",
    "while ( (len(lista_imagens_validacao_covid)  != quantidade and len(lista_imagens_validacao_normal) != quantidade)):\n",
    "\n",
    "    if(len(lista_imagens_validacao_covid) != quantidade):\n",
    "        imagen_covid = rn.choice(lista_imagens_covid)\n",
    "        \n",
    "        if(lista_imagens_validacao_covid.count(imagen_covid) == 0):\n",
    "            lista_imagens_validacao_covid.append(imagen_covid)\n",
    "            if(lista_imagens_covid.count(imagen_covid) > 0):\n",
    "                lista_imagens_covid.remove(imagen_covid)\n",
    "            \n",
    "\n",
    "    if(len(lista_imagens_validacao_normal) != quantidade):\n",
    "        imagen_normal = rn.choice(lista_imagens_normal)\n",
    "\n",
    "        if(lista_imagens_validacao_normal.count(imagen_normal) == 0):\n",
    "            lista_imagens_validacao_normal.append(imagen_normal)\n",
    "            if(lista_imagens_normal.count(imagen_covid) > 0):\n",
    "                lista_imagens_normal.remove(imagen_covid)\n",
    "\n",
    "\n",
    "             \n",
    "\n",
    "print(\"quantidade covid :{0}\".format(len(lista_imagens_covid)))    \n",
    "print(\"quantidade imagens validação covid :{0}\".format(len(lista_imagens_validacao_covid)))\n",
    "print(\"quantidade imagens validação normal :{0}\".format(len(lista_imagens_validacao_normal)))\n",
    "\n",
    "\n",
    "   \n",
    "       \n",
    "       "
   ]
  },
  {
   "cell_type": "code",
   "execution_count": 292,
   "metadata": {},
   "outputs": [
    {
     "output_type": "execute_result",
     "data": {
      "text/plain": "719"
     },
     "metadata": {},
     "execution_count": 292
    }
   ],
   "source": [
    "len(lista_imagens_covid)"
   ]
  },
  {
   "cell_type": "markdown",
   "metadata": {},
   "source": [
    "# Executa a tranferencias das imagens entre os diretorios"
   ]
  },
  {
   "cell_type": "code",
   "execution_count": 304,
   "metadata": {},
   "outputs": [],
   "source": [
    "\n",
    "def move_imagens_from_source_to_target(source_lista,dir_target,quantidade =1000):\n",
    "    qtd = len(list(paths.list_images(dir_target)))\n",
    "    \n",
    "    # caso as duas classes tenha uma distribuição uniforme apenas tranfere as imagens\n",
    "    if(qtd < quantidade):\n",
    "        for source_path in source_lista:\n",
    "            target_imagem =\"\"\n",
    "            imagemName =source_path.split('/')[-1]\n",
    "            if(imagemName.count(\".dcm\") > 0):\n",
    "                target_imagem =\"{0}/{1}\".format(dir_target,imagemName.replace(\".dcm\",\".jpg\"))\n",
    "                if not os.path.exists(target_imagem) and  qtd <= quantidade:\n",
    "                    ds = dicom.dcmread(source_path)\n",
    "                    pixel_array_numpy = ds.pixel_array\n",
    "                    cv2.imwrite(target_imagem, pixel_array_numpy)\n",
    "                    qtd +=1\n",
    "                \n",
    "            else:\n",
    "                target_imagem =\"{0}/{1}\".format(dir_target,imagemName)\n",
    "                if not os.path.exists(target_imagem) and  qtd < quantidade:\n",
    "                    shutil.copy2(source_path,target_imagem)\n",
    "                    qtd +=1\n",
    "    # # caso o conjunto de dados seja muito desproporcional  faz as escolhas das imagens aleatorias\n",
    "    else:\n",
    "        clone = source_lista.copy()\n",
    "        while(qtd < quantidade):\n",
    "            source_path = rn.choice(clone)\n",
    "            target_imagem =\"\"\n",
    "            imagemName =source_path.split('/')[-1]\n",
    "            qtd +=1\n",
    "            if(imagemName.count(\".dcm\") > 0):\n",
    "                target_imagem =\"{0}/{1}\".format(dir_target,imagemName.replace(\".dcm\",\".jpg\"))\n",
    "                if not os.path.exists(target_imagem) and  qtd < quantidade:\n",
    "                    ds = dicom.dcmread(source_path)\n",
    "                    pixel_array_numpy = ds.pixel_array\n",
    "                    cv2.imwrite(target_imagem, pixel_array_numpy)\n",
    "                    qtd +=1\n",
    "                    clone.remove(source_path)\n",
    "                \n",
    "            else:\n",
    "                target_imagem =\"{0}/{1}\".format(dir_target,imagemName)\n",
    "                if not os.path.exists(target_imagem) and  qtd < quantidade:\n",
    "                    shutil.copy2(source_path,target_imagem)\n",
    "                    qtd +=1\n",
    "                    clone.remove(source_path)\n",
    "                    \n",
    "\n"
   ]
  },
  {
   "cell_type": "code",
   "execution_count": 311,
   "metadata": {},
   "outputs": [],
   "source": [
    "\n",
    "## move as imagens de covid\n",
    "\n",
    "move_imagens_from_source_to_target(lista_imagens_covid,dir_target_diretorio_imagem_covid,quantidade=len(lista_imagens_covid))\n",
    "# # # ## move as imagens normais\n",
    "\n",
    "move_imagens_from_source_to_target(lista_imagens_normal,dir_target_diretorio_normal,quantidade=len(lista_imagens_covid))\n",
    "# # # # # # ## move as imagens de pneumonia\n",
    "\n",
    "\n",
    "# # # # # ## move as imagens de validação\n",
    "\n",
    "move_imagens_from_source_to_target(lista_imagens_validacao_covid,\"{0}/{1}\".format(dir_target_diretorio_validacao,\"covid\"))\n",
    "\n",
    "move_imagens_from_source_to_target(lista_imagens_validacao_normal,\"{0}/{1}\".format(dir_target_diretorio_validacao,\"normal\"))\n",
    "\n",
    "\n",
    "\n",
    "\n",
    "\n",
    " \n"
   ]
  },
  {
   "cell_type": "markdown",
   "metadata": {},
   "source": [
    "# Quantidade final dos dados\n"
   ]
  },
  {
   "cell_type": "code",
   "execution_count": 312,
   "metadata": {
    "tags": []
   },
   "outputs": [
    {
     "output_type": "stream",
     "name": "stdout",
     "text": "Quantidade de imagens com Covid:669\nQuantidade de imagens com pulmão normal:670\nValidação pulmão normal:50\nValidação Covid:50:\n"
    }
   ],
   "source": [
    "\n",
    "imagens_covid =  list(paths.list_images(dir_target_diretorio_imagem_covid))\n",
    "\n",
    "imagens_normal =  list(paths.list_images(dir_target_diretorio_normal))\n",
    "\n",
    "\n",
    "imagens_validacao_covid =  list(paths.list_images(\"{0}/{1}\".format(dir_target_diretorio_validacao,\"covid\")))\n",
    "imagens_validacao_normal =  list(paths.list_images(\"{0}/{1}\".format(dir_target_diretorio_validacao,\"normal\")))\n",
    "\n",
    "\n",
    "\n",
    "\n",
    "print(\"Quantidade de imagens com Covid:{0}\".format(len(imagens_covid)))\n",
    "print(\"Quantidade de imagens com pulmão normal:{0}\".format(len(imagens_normal)))\n",
    "print(\"Validação pulmão normal:{0}\".format(len(imagens_validacao_normal)))\n",
    "print(\"Validação Covid:{0}:\".format(len(imagens_validacao_covid)))\n",
    "\n",
    "\n"
   ]
  }
 ],
 "metadata": {
  "language_info": {
   "codemirror_mode": {
    "name": "ipython",
    "version": 3
   },
   "file_extension": ".py",
   "mimetype": "text/x-python",
   "name": "python",
   "nbconvert_exporter": "python",
   "pygments_lexer": "ipython3",
   "version": "3.7.0-final"
  },
  "orig_nbformat": 2,
  "kernelspec": {
   "name": "python3",
   "display_name": "Python 3"
  }
 },
 "nbformat": 4,
 "nbformat_minor": 2
}