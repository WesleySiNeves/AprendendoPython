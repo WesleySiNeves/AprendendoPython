{
 "cells": [
  {
   "cell_type": "markdown",
   "metadata": {},
   "source": [
    "# O intuito desse notebook e recuperar todas as imagens disponiveis  sobre pneumonia e covid e disponibilizar em um banco de dados\n"
   ]
  },
  {
   "cell_type": "markdown",
   "metadata": {},
   "source": [
    "## bibliotecas necessárias"
   ]
  },
  {
   "cell_type": "code",
   "execution_count": 27,
   "metadata": {},
   "outputs": [
    {
     "output_type": "stream",
     "name": "stderr",
     "text": "ERROR: Could not find a version that satisfies the requirement urllib2 (from versions: none)\nERROR: No matching distribution found for urllib2\n"
    }
   ],
   "source": [
    "!pip install urllib2"
   ]
  },
  {
   "cell_type": "code",
   "execution_count": 1,
   "metadata": {},
   "outputs": [],
   "source": [
    "import pandas as pd\n",
    "import random\n",
    "import shutil\n",
    "import os"
   ]
  },
  {
   "cell_type": "markdown",
   "metadata": {},
   "source": [
    "## variaveis iniciais"
   ]
  },
  {
   "cell_type": "code",
   "execution_count": 23,
   "metadata": {},
   "outputs": [
    {
     "output_type": "execute_result",
     "data": {
      "text/plain": "   patientId sexo  idade                                         localidade  \\\n0          2    M   65.0        Cho Ray Hospital, Ho Chi Minh City, Vietnam   \n1          2    M   65.0        Cho Ray Hospital, Ho Chi Minh City, Vietnam   \n2          2    M   65.0        Cho Ray Hospital, Ho Chi Minh City, Vietnam   \n3          2    M   65.0        Cho Ray Hospital, Ho Chi Minh City, Vietnam   \n4          4    F   52.0  Changhua Christian Hospital, Changhua City, Ta...   \n\n  prognostico tipoExame                                             imagem  \\\n0       covid     X-ray  auntminnie-a-2020_01_28_23_51_6665_2020_01_28_...   \n1       covid     X-ray  auntminnie-b-2020_01_28_23_51_6665_2020_01_28_...   \n2       covid     X-ray  auntminnie-c-2020_01_28_23_51_6665_2020_01_28_...   \n3       covid     X-ray  auntminnie-d-2020_01_28_23_51_6665_2020_01_28_...   \n4       covid     X-ray                              nejmc2001573_f1a.jpeg   \n\n   indicadorPrognostico  \n0                   1.0  \n1                   1.0  \n2                   1.0  \n3                   1.0  \n4                   1.0  ",
      "text/html": "<div>\n<style scoped>\n    .dataframe tbody tr th:only-of-type {\n        vertical-align: middle;\n    }\n\n    .dataframe tbody tr th {\n        vertical-align: top;\n    }\n\n    .dataframe thead th {\n        text-align: right;\n    }\n</style>\n<table border=\"1\" class=\"dataframe\">\n  <thead>\n    <tr style=\"text-align: right;\">\n      <th></th>\n      <th>patientId</th>\n      <th>sexo</th>\n      <th>idade</th>\n      <th>localidade</th>\n      <th>prognostico</th>\n      <th>tipoExame</th>\n      <th>imagem</th>\n      <th>indicadorPrognostico</th>\n    </tr>\n  </thead>\n  <tbody>\n    <tr>\n      <th>0</th>\n      <td>2</td>\n      <td>M</td>\n      <td>65.0</td>\n      <td>Cho Ray Hospital, Ho Chi Minh City, Vietnam</td>\n      <td>covid</td>\n      <td>X-ray</td>\n      <td>auntminnie-a-2020_01_28_23_51_6665_2020_01_28_...</td>\n      <td>1.0</td>\n    </tr>\n    <tr>\n      <th>1</th>\n      <td>2</td>\n      <td>M</td>\n      <td>65.0</td>\n      <td>Cho Ray Hospital, Ho Chi Minh City, Vietnam</td>\n      <td>covid</td>\n      <td>X-ray</td>\n      <td>auntminnie-b-2020_01_28_23_51_6665_2020_01_28_...</td>\n      <td>1.0</td>\n    </tr>\n    <tr>\n      <th>2</th>\n      <td>2</td>\n      <td>M</td>\n      <td>65.0</td>\n      <td>Cho Ray Hospital, Ho Chi Minh City, Vietnam</td>\n      <td>covid</td>\n      <td>X-ray</td>\n      <td>auntminnie-c-2020_01_28_23_51_6665_2020_01_28_...</td>\n      <td>1.0</td>\n    </tr>\n    <tr>\n      <th>3</th>\n      <td>2</td>\n      <td>M</td>\n      <td>65.0</td>\n      <td>Cho Ray Hospital, Ho Chi Minh City, Vietnam</td>\n      <td>covid</td>\n      <td>X-ray</td>\n      <td>auntminnie-d-2020_01_28_23_51_6665_2020_01_28_...</td>\n      <td>1.0</td>\n    </tr>\n    <tr>\n      <th>4</th>\n      <td>4</td>\n      <td>F</td>\n      <td>52.0</td>\n      <td>Changhua Christian Hospital, Changhua City, Ta...</td>\n      <td>covid</td>\n      <td>X-ray</td>\n      <td>nejmc2001573_f1a.jpeg</td>\n      <td>1.0</td>\n    </tr>\n  </tbody>\n</table>\n</div>"
     },
     "metadata": {},
     "execution_count": 23
    }
   ],
   "source": [
    "\n",
    "metadata_git.head()"
   ]
  }
 ],
 "metadata": {
  "language_info": {
   "codemirror_mode": {
    "name": "ipython",
    "version": 3
   },
   "file_extension": ".py",
   "mimetype": "text/x-python",
   "name": "python",
   "nbconvert_exporter": "python",
   "pygments_lexer": "ipython3",
   "version": "3.7.7-final"
  },
  "orig_nbformat": 2,
  "kernelspec": {
   "name": "python37764bitdeeplearningconda70b0a9c2c78b49cfaeeb6e88dd7dfba8",
   "display_name": "Python 3.7.7 64-bit ('Deep Learning': conda)"
  }
 },
 "nbformat": 4,
 "nbformat_minor": 2
}