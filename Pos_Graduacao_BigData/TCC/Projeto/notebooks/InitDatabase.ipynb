{
 "cells": [
  {
   "cell_type": "markdown",
   "metadata": {},
   "source": [
    "# O intuito desse notebook e recuperar todas as imagens disponiveis  sobre pneumonia e covid e disponibilizar em um banco de dados\n"
   ]
  },
  {
   "cell_type": "markdown",
   "metadata": {},
   "source": [
    "## bibliotecas necessárias"
   ]
  },
  {
   "cell_type": "code",
   "execution_count": 27,
   "metadata": {},
   "outputs": [
    {
     "output_type": "stream",
     "name": "stderr",
     "text": "ERROR: Could not find a version that satisfies the requirement urllib2 (from versions: none)\nERROR: No matching distribution found for urllib2\n"
    }
   ],
   "source": [
    "!pip install urllib2"
   ]
  },
  {
   "cell_type": "code",
   "execution_count": 33,
   "metadata": {},
   "outputs": [],
   "source": [
    "import os\n",
    "import sys\n",
    "import uuid\n",
    "import sqlite3 as  lite\n",
    "import pandas as pd\n",
    "from PIL import Image\n",
    "import re\n",
    "import requests\n",
    "from bs4 import BeautifulSoup\n"
   ]
  },
  {
   "cell_type": "markdown",
   "metadata": {},
   "source": [
    "## variaveis iniciais"
   ]
  },
  {
   "cell_type": "code",
   "execution_count": null,
   "metadata": {},
   "outputs": [],
   "source": [
    "diretorio_raiz=\"\""
   ]
  },
  {
   "cell_type": "markdown",
   "metadata": {},
   "source": [
    "## estruturas iniciais"
   ]
  },
  {
   "cell_type": "code",
   "execution_count": 34,
   "metadata": {},
   "outputs": [],
   "source": [
    "prognostico_map_dataframe_covid_chestxray_dataset ={\n",
    "    \"COVID-19\" : 1,\n",
    "    \"COVID-19, ARDS\":2,\n",
    "    \"Streptococcus\" :3,\n",
    "    \"SARS\" :4,\n",
    "    \"Pneumocystis\" :5,\n",
    "    \"E.Coli\" :6,\n",
    "    \"No Finding\" :7,\n",
    "    \"Chlamydophila\" :8,\n",
    "    \"Legionella\" :9,\n",
    "    \"Klebsiella\" :10\n",
    "}\n",
    "\n",
    "prognosticodataframe ={\n",
    "    \"COVID-19\" : \"Virus\",\n",
    "    \"COVID-19, ARDS\":\"Virus\",\n",
    "    \"Streptococcus\" :\"Bacteria\",\n",
    "    \"SARS\" :\"Virus\",\n",
    "    \"Pneumocystis\" :5,\n",
    "    \"E.Coli\" :\"Bacteria\",\n",
    "    \"No Finding\" :7,\n",
    "    \"Chlamydophila\" :\"Bacteria\",\n",
    "    \"Legionella\" :\"Bacteria\",\n",
    "    \"Klebsiella\" :\"Bacteria\"\n",
    "}"
   ]
  },
  {
   "cell_type": "markdown",
   "metadata": {},
   "source": []
  },
  {
   "cell_type": "code",
   "execution_count": 65,
   "metadata": {},
   "outputs": [],
   "source": [
    "diretorio_gitprojeto_covid_chestxray_dataset =r'https://github.com/ieee8023/covid-chestxray-dataset'\n",
    "\n",
    "diretorio_metadata_projeto_covid_chestxray_dataset =r'https://raw.githubusercontent.com/ieee8023/covid-chestxray-dataset/master/metadata.csv'\n",
    "\n",
    "diretorio_imagens_covid_chestxray_imagens =r'https://github.com/ieee8023/covid-chestxray-dataset/blob/master/images'"
   ]
  },
  {
   "cell_type": "code",
   "execution_count": 66,
   "metadata": {
    "tags": [
     "outputPrepend"
    ]
   },
   "outputs": [
    {
     "output_type": "stream",
     "name": "stderr",
     "text": "pected 1 fields, saw 2\\nSkipping line 199: expected 1 fields, saw 2\\nSkipping line 200: expected 1 fields, saw 2\\nSkipping line 201: expected 1 fields, saw 2\\nSkipping line 208: expected 1 fields, saw 2\\nSkipping line 216: expected 1 fields, saw 4\\nSkipping line 221: expected 1 fields, saw 2\\nSkipping line 224: expected 1 fields, saw 2\\nSkipping line 225: expected 1 fields, saw 2\\nSkipping line 229: expected 1 fields, saw 2\\nSkipping line 230: expected 1 fields, saw 2\\nSkipping line 252: expected 1 fields, saw 2\\nSkipping line 390: expected 1 fields, saw 6\\nSkipping line 391: expected 1 fields, saw 3\\nSkipping line 396: expected 1 fields, saw 6\\nSkipping line 397: expected 1 fields, saw 3\\nSkipping line 482: expected 1 fields, saw 6\\nSkipping line 493: expected 1 fields, saw 6\\nSkipping line 506: expected 1 fields, saw 6\\nSkipping line 671: expected 1 fields, saw 2\\nSkipping line 718: expected 1 fields, saw 2\\nSkipping line 735: expected 1 fields, saw 2\\nSkipping line 752: expected 1 fields, saw 2\\nSkipping line 769: expected 1 fields, saw 2\\nSkipping line 786: expected 1 fields, saw 2\\nSkipping line 803: expected 1 fields, saw 2\\nSkipping line 820: expected 1 fields, saw 2\\nSkipping line 837: expected 1 fields, saw 2\\nSkipping line 854: expected 1 fields, saw 2\\nSkipping line 871: expected 1 fields, saw 2\\nSkipping line 888: expected 1 fields, saw 2\\nSkipping line 905: expected 1 fields, saw 2\\nSkipping line 922: expected 1 fields, saw 2\\nSkipping line 939: expected 1 fields, saw 2\\nSkipping line 956: expected 1 fields, saw 2\\nSkipping line 973: expected 1 fields, saw 2\\nSkipping line 990: expected 1 fields, saw 2\\nSkipping line 1007: expected 1 fields, saw 2\\nSkipping line 1024: expected 1 fields, saw 2\\nSkipping line 1041: expected 1 fields, saw 2\\nSkipping line 1058: expected 1 fields, saw 2\\nSkipping line 1075: expected 1 fields, saw 2\\nSkipping line 1092: expected 1 fields, saw 2\\nSkipping line 1109: expected 1 fields, saw 2\\nSkipping line 1126: expected 1 fields, saw 2\\nSkipping line 1143: expected 1 fields, saw 2\\nSkipping line 1160: expected 1 fields, saw 2\\nSkipping line 1177: expected 1 fields, saw 2\\nSkipping line 1194: expected 1 fields, saw 2\\nSkipping line 1211: expected 1 fields, saw 2\\nSkipping line 1228: expected 1 fields, saw 2\\nSkipping line 1245: expected 1 fields, saw 2\\nSkipping line 1262: expected 1 fields, saw 2\\nSkipping line 1279: expected 1 fields, saw 2\\nSkipping line 1296: expected 1 fields, saw 2\\nSkipping line 1313: expected 1 fields, saw 2\\nSkipping line 1330: expected 1 fields, saw 2\\nSkipping line 1347: expected 1 fields, saw 2\\nSkipping line 1364: expected 1 fields, saw 2\\nSkipping line 1381: expected 1 fields, saw 2\\nSkipping line 1398: expected 1 fields, saw 2\\nSkipping line 1415: expected 1 fields, saw 2\\nSkipping line 1432: expected 1 fields, saw 2\\nSkipping line 1449: expected 1 fields, saw 2\\nSkipping line 1466: expected 1 fields, saw 2\\nSkipping line 1483: expected 1 fields, saw 2\\nSkipping line 1500: expected 1 fields, saw 2\\nSkipping line 1517: expected 1 fields, saw 2\\nSkipping line 1534: expected 1 fields, saw 2\\nSkipping line 1551: expected 1 fields, saw 2\\nSkipping line 1568: expected 1 fields, saw 2\\nSkipping line 1585: expected 1 fields, saw 2\\nSkipping line 1602: expected 1 fields, saw 2\\nSkipping line 1619: expected 1 fields, saw 2\\nSkipping line 1636: expected 1 fields, saw 2\\nSkipping line 1653: expected 1 fields, saw 2\\nSkipping line 1670: expected 1 fields, saw 2\\nSkipping line 1687: expected 1 fields, saw 2\\nSkipping line 1704: expected 1 fields, saw 2\\nSkipping line 1721: expected 1 fields, saw 2\\nSkipping line 1738: expected 1 fields, saw 2\\nSkipping line 1755: expected 1 fields, saw 2\\nSkipping line 1772: expected 1 fields, saw 2\\nSkipping line 1789: expected 1 fields, saw 2\\nSkipping line 1806: expected 1 fields, saw 2\\nSkipping line 1823: expected 1 fields, saw 2\\nSkipping line 1840: expected 1 fields, saw 2\\nSkipping line 1857: expected 1 fields, saw 2\\nSkipping line 1874: expected 1 fields, saw 2\\nSkipping line 1891: expected 1 fields, saw 2\\nSkipping line 1908: expected 1 fields, saw 2\\nSkipping line 1925: expected 1 fields, saw 2\\nSkipping line 1942: expected 1 fields, saw 2\\nSkipping line 1959: expected 1 fields, saw 2\\nSkipping line 1976: expected 1 fields, saw 2\\nSkipping line 1993: expected 1 fields, saw 2\\nSkipping line 2010: expected 1 fields, saw 2\\nSkipping line 2027: expected 1 fields, saw 2\\nSkipping line 2044: expected 1 fields, saw 2\\nSkipping line 2061: expected 1 fields, saw 2\\nSkipping line 2078: expected 1 fields, saw 2\\nSkipping line 2095: expected 1 fields, saw 2\\nSkipping line 2112: expected 1 fields, saw 2\\nSkipping line 2129: expected 1 fields, saw 2\\nSkipping line 2146: expected 1 fields, saw 2\\nSkipping line 2163: expected 1 fields, saw 2\\nSkipping line 2180: expected 1 fields, saw 2\\nSkipping line 2197: expected 1 fields, saw 2\\nSkipping line 2214: expected 1 fields, saw 2\\nSkipping line 2231: expected 1 fields, saw 2\\nSkipping line 2248: expected 1 fields, saw 2\\nSkipping line 2265: expected 1 fields, saw 2\\nSkipping line 2282: expected 1 fields, saw 2\\nSkipping line 2299: expected 1 fields, saw 2\\nSkipping line 2316: expected 1 fields, saw 2\\nSkipping line 2333: expected 1 fields, saw 2\\nSkipping line 2350: expected 1 fields, saw 2\\nSkipping line 2367: expected 1 fields, saw 2\\nSkipping line 2384: expected 1 fields, saw 2\\nSkipping line 2401: expected 1 fields, saw 2\\nSkipping line 2418: expected 1 fields, saw 2\\nSkipping line 2435: expected 1 fields, saw 2\\nSkipping line 2452: expected 1 fields, saw 2\\nSkipping line 2469: expected 1 fields, saw 2\\nSkipping line 2486: expected 1 fields, saw 2\\nSkipping line 2503: expected 1 fields, saw 2\\nSkipping line 2520: expected 1 fields, saw 2\\nSkipping line 2537: expected 1 fields, saw 2\\nSkipping line 2554: expected 1 fields, saw 2\\nSkipping line 2571: expected 1 fields, saw 2\\nSkipping line 2588: expected 1 fields, saw 2\\nSkipping line 2605: expected 1 fields, saw 2\\nSkipping line 2622: expected 1 fields, saw 2\\nSkipping line 2639: expected 1 fields, saw 2\\nSkipping line 2656: expected 1 fields, saw 2\\nSkipping line 2673: expected 1 fields, saw 2\\nSkipping line 2690: expected 1 fields, saw 2\\nSkipping line 2707: expected 1 fields, saw 2\\nSkipping line 2724: expected 1 fields, saw 2\\nSkipping line 2741: expected 1 fields, saw 2\\nSkipping line 2758: expected 1 fields, saw 2\\nSkipping line 2775: expected 1 fields, saw 2\\nSkipping line 2792: expected 1 fields, saw 2\\nSkipping line 2809: expected 1 fields, saw 2\\nSkipping line 2826: expected 1 fields, saw 2\\nSkipping line 2843: expected 1 fields, saw 2\\nSkipping line 2860: expected 1 fields, saw 2\\nSkipping line 2877: expected 1 fields, saw 2\\nSkipping line 2894: expected 1 fields, saw 2\\nSkipping line 2911: expected 1 fields, saw 2\\nSkipping line 2928: expected 1 fields, saw 2\\nSkipping line 2945: expected 1 fields, saw 2\\nSkipping line 2962: expected 1 fields, saw 2\\nSkipping line 2979: expected 1 fields, saw 2\\nSkipping line 2996: expected 1 fields, saw 2\\nSkipping line 3013: expected 1 fields, saw 2\\nSkipping line 3030: expected 1 fields, saw 2\\nSkipping line 3047: expected 1 fields, saw 2\\nSkipping line 3064: expected 1 fields, saw 2\\nSkipping line 3081: expected 1 fields, saw 2\\nSkipping line 3098: expected 1 fields, saw 2\\nSkipping line 3115: expected 1 fields, saw 2\\nSkipping line 3132: expected 1 fields, saw 2\\nSkipping line 3149: expected 1 fields, saw 2\\nSkipping line 3166: expected 1 fields, saw 2\\nSkipping line 3183: expected 1 fields, saw 2\\nSkipping line 3200: expected 1 fields, saw 2\\nSkipping line 3217: expected 1 fields, saw 2\\nSkipping line 3234: expected 1 fields, saw 2\\nSkipping line 3251: expected 1 fields, saw 2\\nSkipping line 3268: expected 1 fields, saw 2\\nSkipping line 3285: expected 1 fields, saw 2\\nSkipping line 3302: expected 1 fields, saw 2\\nSkipping line 3319: expected 1 fields, saw 2\\nSkipping line 3336: expected 1 fields, saw 2\\nSkipping line 3353: expected 1 fields, saw 2\\nSkipping line 3370: expected 1 fields, saw 2\\nSkipping line 3387: expected 1 fields, saw 2\\nSkipping line 3404: expected 1 fields, saw 2\\nSkipping line 3421: expected 1 fields, saw 2\\nSkipping line 3438: expected 1 fields, saw 2\\nSkipping line 3455: expected 1 fields, saw 2\\nSkipping line 3472: expected 1 fields, saw 2\\nSkipping line 3489: expected 1 fields, saw 2\\nSkipping line 3506: expected 1 fields, saw 2\\nSkipping line 3523: expected 1 fields, saw 2\\nSkipping line 3540: expected 1 fields, saw 2\\nSkipping line 3557: expected 1 fields, saw 2\\nSkipping line 3574: expected 1 fields, saw 2\\nSkipping line 3591: expected 1 fields, saw 2\\nSkipping line 3608: expected 1 fields, saw 2\\nSkipping line 3625: expected 1 fields, saw 2\\nSkipping line 3642: expected 1 fields, saw 2\\nSkipping line 3659: expected 1 fields, saw 2\\nSkipping line 3676: expected 1 fields, saw 2\\nSkipping line 3693: expected 1 fields, saw 2\\nSkipping line 3710: expected 1 fields, saw 2\\nSkipping line 3727: expected 1 fields, saw 2\\nSkipping line 3744: expected 1 fields, saw 2\\nSkipping line 3761: expected 1 fields, saw 2\\nSkipping line 3778: expected 1 fields, saw 2\\nSkipping line 3795: expected 1 fields, saw 2\\nSkipping line 3812: expected 1 fields, saw 2\\nSkipping line 3829: expected 1 fields, saw 2\\nSkipping line 3846: expected 1 fields, saw 2\\nSkipping line 3863: expected 1 fields, saw 2\\nSkipping line 3880: expected 1 fields, saw 2\\nSkipping line 3897: expected 1 fields, saw 2\\nSkipping line 3914: expected 1 fields, saw 2\\nSkipping line 3931: expected 1 fields, saw 2\\nSkipping line 3948: expected 1 fields, saw 2\\nSkipping line 3965: expected 1 fields, saw 2\\nSkipping line 3982: expected 1 fields, saw 2\\nSkipping line 3999: expected 1 fields, saw 2\\nSkipping line 4016: expected 1 fields, saw 2\\nSkipping line 4033: expected 1 fields, saw 2\\nSkipping line 4050: expected 1 fields, saw 2\\nSkipping line 4067: expected 1 fields, saw 2\\nSkipping line 4084: expected 1 fields, saw 2\\nSkipping line 4101: expected 1 fields, saw 2\\nSkipping line 4118: expected 1 fields, saw 2\\nSkipping line 4135: expected 1 fields, saw 2\\nSkipping line 4152: expected 1 fields, saw 2\\nSkipping line 4169: expected 1 fields, saw 2\\nSkipping line 4186: expected 1 fields, saw 2\\nSkipping line 4203: expected 1 fields, saw 2\\nSkipping line 4220: expected 1 fields, saw 2\\nSkipping line 4237: expected 1 fields, saw 2\\nSkipping line 4254: expected 1 fields, saw 2\\nSkipping line 4271: expected 1 fields, saw 2\\nSkipping line 4288: expected 1 fields, saw 2\\nSkipping line 4305: expected 1 fields, saw 2\\nSkipping line 4322: expected 1 fields, saw 2\\nSkipping line 4339: expected 1 fields, saw 2\\nSkipping line 4356: expected 1 fields, saw 2\\nSkipping line 4373: expected 1 fields, saw 2\\nSkipping line 4390: expected 1 fields, saw 2\\nSkipping line 4407: expected 1 fields, saw 2\\nSkipping line 4424: expected 1 fields, saw 2\\nSkipping line 4441: expected 1 fields, saw 2\\nSkipping line 4458: expected 1 fields, saw 2\\nSkipping line 4475: expected 1 fields, saw 2\\nSkipping line 4492: expected 1 fields, saw 2\\nSkipping line 4509: expected 1 fields, saw 2\\nSkipping line 4526: expected 1 fields, saw 2\\nSkipping line 4543: expected 1 fields, saw 2\\nSkipping line 4560: expected 1 fields, saw 2\\nSkipping line 4577: expected 1 fields, saw 2\\nSkipping line 4594: expected 1 fields, saw 2\\nSkipping line 4611: expected 1 fields, saw 2\\nSkipping line 4628: expected 1 fields, saw 2\\nSkipping line 4645: expected 1 fields, saw 2\\nSkipping line 4662: expected 1 fields, saw 2\\nSkipping line 4679: expected 1 fields, saw 2\\nSkipping line 4696: expected 1 fields, saw 2\\nSkipping line 4713: expected 1 fields, saw 2\\nSkipping line 4730: expected 1 fields, saw 2\\nSkipping line 4747: expected 1 fields, saw 2\\nSkipping line 4764: expected 1 fields, saw 2\\nSkipping line 4781: expected 1 fields, saw 2\\nSkipping line 4798: expected 1 fields, saw 2\\nSkipping line 4811: expected 1 fields, saw 3\\nSkipping line 4815: expected 1 fields, saw 2\\nSkipping line 4828: expected 1 fields, saw 3\\nSkipping line 4832: expected 1 fields, saw 2\\nSkipping line 4845: expected 1 fields, saw 3\\nSkipping line 4849: expected 1 fields, saw 2\\nSkipping line 4866: expected 1 fields, saw 2\\nSkipping line 4883: expected 1 fields, saw 2\\nSkipping line 4900: expected 1 fields, saw 2\\nSkipping line 4917: expected 1 fields, saw 2\\nSkipping line 4934: expected 1 fields, saw 2\\nSkipping line 4951: expected 1 fields, saw 2\\nSkipping line 4968: expected 1 fields, saw 2\\nSkipping line 4985: expected 1 fields, saw 2\\nSkipping line 5002: expected 1 fields, saw 2\\nSkipping line 5019: expected 1 fields, saw 2\\nSkipping line 5036: expected 1 fields, saw 2\\nSkipping line 5053: expected 1 fields, saw 2\\nSkipping line 5070: expected 1 fields, saw 2\\nSkipping line 5087: expected 1 fields, saw 2\\nSkipping line 5104: expected 1 fields, saw 2\\nSkipping line 5121: expected 1 fields, saw 2\\nSkipping line 5138: expected 1 fields, saw 2\\nSkipping line 5155: expected 1 fields, saw 2\\nSkipping line 5172: expected 1 fields, saw 2\\nSkipping line 5189: expected 1 fields, saw 2\\nSkipping line 5206: expected 1 fields, saw 2\\nSkipping line 5223: expected 1 fields, saw 2\\nSkipping line 5240: expected 1 fields, saw 2\\nSkipping line 5257: expected 1 fields, saw 2\\nSkipping line 5274: expected 1 fields, saw 2\\nSkipping line 5291: expected 1 fields, saw 2\\nSkipping line 5308: expected 1 fields, saw 2\\nSkipping line 5325: expected 1 fields, saw 2\\nSkipping line 5342: expected 1 fields, saw 2\\nSkipping line 5359: expected 1 fields, saw 2\\nSkipping line 5376: expected 1 fields, saw 2\\nSkipping line 5393: expected 1 fields, saw 2\\nSkipping line 5410: expected 1 fields, saw 2\\nSkipping line 5427: expected 1 fields, saw 2\\nSkipping line 5444: expected 1 fields, saw 2\\nSkipping line 5461: expected 1 fields, saw 2\\nSkipping line 5478: expected 1 fields, saw 2\\nSkipping line 5495: expected 1 fields, saw 2\\nSkipping line 5512: expected 1 fields, saw 2\\nSkipping line 5529: expected 1 fields, saw 2\\nSkipping line 5546: expected 1 fields, saw 2\\nSkipping line 5563: expected 1 fields, saw 2\\nSkipping line 5580: expected 1 fields, saw 2\\nSkipping line 5597: expected 1 fields, saw 2\\nSkipping line 5614: expected 1 fields, saw 2\\nSkipping line 5631: expected 1 fields, saw 2\\nSkipping line 5648: expected 1 fields, saw 2\\nSkipping line 5665: expected 1 fields, saw 2\\nSkipping line 5682: expected 1 fields, saw 2\\nSkipping line 5699: expected 1 fields, saw 2\\nSkipping line 5716: expected 1 fields, saw 2\\nSkipping line 5733: expected 1 fields, saw 2\\nSkipping line 5750: expected 1 fields, saw 2\\nSkipping line 5767: expected 1 fields, saw 2\\nSkipping line 5784: expected 1 fields, saw 2\\nSkipping line 5801: expected 1 fields, saw 2\\nSkipping line 5818: expected 1 fields, saw 2\\nSkipping line 5835: expected 1 fields, saw 2\\nSkipping line 5852: expected 1 fields, saw 2\\nSkipping line 5869: expected 1 fields, saw 2\\nSkipping line 5886: expected 1 fields, saw 2\\nSkipping line 5903: expected 1 fields, saw 2\\nSkipping line 5920: expected 1 fields, saw 2\\nSkipping line 5937: expected 1 fields, saw 2\\nSkipping line 5954: expected 1 fields, saw 2\\nSkipping line 5971: expected 1 fields, saw 2\\nSkipping line 5988: expected 1 fields, saw 2\\nSkipping line 6005: expected 1 fields, saw 2\\nSkipping line 6022: expected 1 fields, saw 2\\nSkipping line 6039: expected 1 fields, saw 2\\nSkipping line 6056: expected 1 fields, saw 2\\nSkipping line 6073: expected 1 fields, saw 2\\nSkipping line 6090: expected 1 fields, saw 2\\nSkipping line 6107: expected 1 fields, saw 2\\nSkipping line 6124: expected 1 fields, saw 2\\nSkipping line 6141: expected 1 fields, saw 2\\nSkipping line 6158: expected 1 fields, saw 2\\nSkipping line 6175: expected 1 fields, saw 2\\nSkipping line 6192: expected 1 fields, saw 2\\nSkipping line 6209: expected 1 fields, saw 2\\nSkipping line 6226: expected 1 fields, saw 2\\nSkipping line 6243: expected 1 fields, saw 2\\nSkipping line 6260: expected 1 fields, saw 2\\nSkipping line 6277: expected 1 fields, saw 2\\nSkipping line 6294: expected 1 fields, saw 2\\nSkipping line 6311: expected 1 fields, saw 2\\nSkipping line 6328: expected 1 fields, saw 2\\nSkipping line 6345: expected 1 fields, saw 2\\nSkipping line 6362: expected 1 fields, saw 2\\nSkipping line 6379: expected 1 fields, saw 2\\nSkipping line 6396: expected 1 fields, saw 2\\nSkipping line 6413: expected 1 fields, saw 2\\nSkipping line 6430: expected 1 fields, saw 2\\nSkipping line 6447: expected 1 fields, saw 2\\nSkipping line 6464: expected 1 fields, saw 2\\nSkipping line 6481: expected 1 fields, saw 2\\nSkipping line 6498: expected 1 fields, saw 2\\nSkipping line 6515: expected 1 fields, saw 2\\nSkipping line 6532: expected 1 fields, saw 2\\nSkipping line 6549: expected 1 fields, saw 2\\nSkipping line 6566: expected 1 fields, saw 2\\nSkipping line 6583: expected 1 fields, saw 2\\nSkipping line 6600: expected 1 fields, saw 2\\nSkipping line 6617: expected 1 fields, saw 2\\nSkipping line 6634: expected 1 fields, saw 2\\nSkipping line 6651: expected 1 fields, saw 2\\nSkipping line 6668: expected 1 fields, saw 2\\nSkipping line 6685: expected 1 fields, saw 2\\nSkipping line 6702: expected 1 fields, saw 2\\nSkipping line 6719: expected 1 fields, saw 2\\nSkipping line 6736: expected 1 fields, saw 2\\nSkipping line 6753: expected 1 fields, saw 2\\nSkipping line 6770: expected 1 fields, saw 2\\nSkipping line 6787: expected 1 fields, saw 2\\nSkipping line 6804: expected 1 fields, saw 2\\nSkipping line 6821: expected 1 fields, saw 2\\nSkipping line 6838: expected 1 fields, saw 2\\nSkipping line 6855: expected 1 fields, saw 2\\nSkipping line 6872: expected 1 fields, saw 2\\nSkipping line 6889: expected 1 fields, saw 2\\nSkipping line 6906: expected 1 fields, saw 2\\nSkipping line 6923: expected 1 fields, saw 2\\nSkipping line 6940: expected 1 fields, saw 2\\nSkipping line 6957: expected 1 fields, saw 2\\nSkipping line 6974: expected 1 fields, saw 2\\nSkipping line 6991: expected 1 fields, saw 2\\nSkipping line 7008: expected 1 fields, saw 2\\nSkipping line 7025: expected 1 fields, saw 2\\nSkipping line 7042: expected 1 fields, saw 2\\nSkipping line 7059: expected 1 fields, saw 2\\nSkipping line 7076: expected 1 fields, saw 2\\nSkipping line 7093: expected 1 fields, saw 2\\nSkipping line 7110: expected 1 fields, saw 2\\nSkipping line 7127: expected 1 fields, saw 2\\nSkipping line 7144: expected 1 fields, saw 2\\nSkipping line 7161: expected 1 fields, saw 2\\nSkipping line 7178: expected 1 fields, saw 2\\nSkipping line 7195: expected 1 fields, saw 2\\nSkipping line 7212: expected 1 fields, saw 2\\nSkipping line 7229: expected 1 fields, saw 2\\nSkipping line 7246: expected 1 fields, saw 2\\nSkipping line 7263: expected 1 fields, saw 2\\nSkipping line 7280: expected 1 fields, saw 2\\nSkipping line 7297: expected 1 fields, saw 2\\nSkipping line 7314: expected 1 fields, saw 2\\nSkipping line 7331: expected 1 fields, saw 2\\nSkipping line 7348: expected 1 fields, saw 2\\nSkipping line 7365: expected 1 fields, saw 2\\nSkipping line 7382: expected 1 fields, saw 2\\nSkipping line 7399: expected 1 fields, saw 2\\nSkipping line 7416: expected 1 fields, saw 2\\nSkipping line 7433: expected 1 fields, saw 2\\nSkipping line 7450: expected 1 fields, saw 2\\nSkipping line 7467: expected 1 fields, saw 2\\nSkipping line 7484: expected 1 fields, saw 2\\nSkipping line 7501: expected 1 fields, saw 2\\nSkipping line 7518: expected 1 fields, saw 2\\nSkipping line 7546: expected 1 fields, saw 2\\nSkipping line 7547: expected 1 fields, saw 3\\nSkipping line 7548: expected 1 fields, saw 3\\nSkipping line 7549: expected 1 fields, saw 3\\nSkipping line 7550: expected 1 fields, saw 3\\nSkipping line 7551: expected 1 fields, saw 3\\nSkipping line 7559: expected 1 fields, saw 3\\nSkipping line 7560: expected 1 fields, saw 3\\nSkipping line 7561: expected 1 fields, saw 3\\nSkipping line 7562: expected 1 fields, saw 3\\nSkipping line 7563: expected 1 fields, saw 3\\nSkipping line 7564: expected 1 fields, saw 3\\n'\n"
    },
    {
     "output_type": "execute_result",
     "data": {
      "text/plain": "6931"
     },
     "metadata": {},
     "execution_count": 66
    }
   ],
   "source": [
    "metadata_git = pd.read_csv(diretorio_gitprojeto_covid_chestxray_dataset, error_bad_lines=False)\n",
    "\n",
    "\n",
    "len(metadata_git)"
   ]
  },
  {
   "cell_type": "code",
   "execution_count": 70,
   "metadata": {},
   "outputs": [
    {
     "output_type": "execute_result",
     "data": {
      "text/plain": "><time-ago class=\"no-wrap\" datetime=\"2020-03-03T04:01:06Z\">Mar 3, 2020</time-ago></span>\n</td>\n</tr>\n<tr class=\"js-navigation-item\">\n<td class=\"icon\">\n<svg aria-label=\"file\" class=\"octicon octicon-file\" height=\"16\" role=\"img\" version=\"1.1\" viewbox=\"0 0 12 16\" width=\"12\"><path d=\"M6 5H2V4h4v1zM2 8h7V7H2v1zm0 2h7V9H2v1zm0 2h7v-1H2v1zm10-7.5V14c0 .55-.45 1-1 1H1c-.55 0-1-.45-1-1V2c0-.55.45-1 1-1h7.5L12 4.5zM11 5L8 2H1v12h10V5z\" fill-rule=\"evenodd\"></path></svg>\n<img alt=\"\" class=\"spinner\" height=\"16\" src=\"https://github.githubassets.com/images/spinners/octocat-spinner-32.gif\" width=\"16\"/>\n</td>\n<td class=\"content\">\n<span class=\"css-truncate css-truncate-target\"><a class=\"js-navigation-open\" href=\"/ieee8023/covid-chestxray-dataset/blob/master/images/ryct.2020200034.fig5-day7.jpeg\" id=\"fae7557cbcad984d59f57e37c59da114-adf0106e235d55d52871c6211f043070bfc0022e\" title=\"ryct.2020200034.fig5-day7.jpeg\">ryct.2020200034.fig5-day7.jpeg</a></span>\n</td>\n<td class=\"message\">\n<span class=\"css-truncate css-truncate-target\">\n<a class=\"link-gray\" data-pjax=\"true\" href=\"/ieee8023/covid-chestxray-dataset/commit/a5ffcf5f39040ded066a88e086f15ab4c556767f\" title=\"add ryct.2020200034\">add ryct.2020200034</a>\n</span>\n</td>\n<td class=\"age\">\n<span class=\"css-truncate css-truncate-target\"><time-ago class=\"no-wrap\" datetime=\"2020-03-03T04:01:06Z\">Mar 3, 2020</time-ago></span>\n</td>\n</tr>\n<tr class=\"js-navigation-item\">\n<td class=\"icon\">\n<svg aria-label=\"file\" class=\"octicon octicon-file\" height=\"16\" role=\"img\" version=\"1.1\" viewbox=\"0 0 12 16\" width=\"12\"><path d=\"M6 5H2V4h4v1zM2 8h7V7H2v1zm0 2h7V9H2v1zm0 2h7v-1H2v1zm10-7.5V14c0 .55-.45 1-1 1H1c-.55 0-1-.45-1-1V2c0-.55.45-1 1-1h7.5L12 4.5zM11 5L8 2H1v12h10V5z\" fill-rule=\"evenodd\"></path></svg>\n<img alt=\"\" class=\"spinner\" height=\"16\" src=\"https://github.githubassets.com/images/spinners/octocat-spinner-32.gif\" width=\"16\"/>\n</td>\n<td class=\"content\">\n<span class=\"css-truncate css-truncate-target\"><a class=\"js-navigation-open\" href=\"/ieee8023/covid-chestxray-dataset/blob/master/images/streptococcus-pneumoniae-pneumonia-1.jpg\" id=\"a9e5a1a972b380bbf8f875054f78cbcb-3010ed812dcc6076be3d777bd4cef960b011e27c\" title=\"streptococcus-pneumoniae-pneumonia-1.jpg\">streptococcus-pneumoniae-pneumonia-1.jpg</a></span>\n</td>\n<td class=\"message\">\n<span class=\"css-truncate css-truncate-target\">\n<a class=\"link-gray\" data-pjax=\"true\" href=\"/ieee8023/covid-chestxray-dataset/commit/a5cdd797bc8bc0c040d13f7a8fba05edd30f2092\" title=\"add https://radiopaedia.org/cases/streptococcus-pneumoniae-pneumonia-1\">add</a> <a href=\"https://radiopaedia.org/cases/streptococcus-pneumoniae-pneumonia-1\" rel=\"nofollow\">https://radiopaedia.org/cases/streptococcus-pneumoniae-pneumonia-1</a>\n</span>\n</td>\n<td class=\"age\">\n<span class=\"css-truncate css-truncate-target\"><time-ago class=\"no-wrap\" datetime=\"2020-03-14T01:48:18Z\">Mar 14, 2020</time-ago></span>\n</td>\n</tr>\n<tr class=\"js-navigation-item\">\n<td class=\"icon\">\n<svg aria-label=\"file\" class=\"octicon octicon-file\" height=\"16\" role=\"img\" version=\"1.1\" viewbox=\"0 0 12 16\" width=\"12\"><path d=\"M6 5H2V4h4v1zM2 8h7V7H2v1zm0 2h7V9H2v1zm0 2h7v-1H2v1zm10-7.5V14c0 .55-.45 1-1 1H1c-.55 0-1-.45-1-1V2c0-.55.45-1 1-1h7.5L12 4.5zM11 5L8 2H1v12h10V5z\" fill-rule=\"evenodd\"></path></svg>\n<img alt=\"\" class=\"spinner\" height=\"16\" src=\"https://github.githubassets.com/images/spinners/octocat-spinner-32.gif\" width=\"16\"/>\n</td>\n<td class=\"content\">\n<span class=\"css-truncate css-truncate-target\"><a class=\"js-navigation-open\" href=\"/ieee8023/covid-chestxray-dataset/blob/master/images/streptococcus-pneumoniae-pneumonia-temporal-evolution-1-day0.jpg\" id=\"ceb4f2ba661cde1a95860d0df3c80c47-85f56e0a4f0b68c349e4ded92910b06ca450868e\" title=\"streptococcus-pneumoniae-pneumonia-temporal-evolution-1-day0.jpg\">streptococcus-pneumoniae-pneumonia-temporal-evolution-1-day0.jpg</a></span>\n</td>\n<td class=\"message\">\n<span class=\"css-truncate css-truncate-target\">\n<a class=\"link-gray\" data-pjax=\"true\" href=\"/ieee8023/covid-chestxray-dataset/commit/41f44a72dbf58ce4b432e4619af92431d4ea2ad5\" title=\"add https://radiopaedia.org/cases/streptococcus-pneumoniae-pneumonia-temporal-evolution-1\">add</a> <a href=\"https://radiopaedia.org/cases/streptococcus-pneumoniae-pneumonia-temporal-evolution-1\" rel=\"nofollow\">https://radiopaedia.org/cases/streptococcus-pneumoniae-pneumonia-…</a>\n</span>\n</td>\n<td class=\"age\">\n<span class=\"css-truncate css-truncate-target\"><time-ago class=\"no-wrap\" datetime=\"2020-03-14T01:59:56Z\">Mar 14, 2020</time-ago></span>\n</td>\n</tr>\n<tr class=\"js-navigation-item\">\n<td class=\"icon\">\n<svg aria-label=\"file\" class=\"octicon octicon-file\" height=\"16\" role=\"img\" version=\"1.1\" viewbox=\"0 0 12 16\" width=\"12\"><path d=\"M6 5H2V4h4v1zM2 8h7V7H2v1zm0 2h7V9H2v1zm0 2h7v-1H2v1zm10-7.5V14c0 .55-.45 1-1 1H1c-.55 0-1-.45-1-1V2c0-.55.45-1 1-1h7.5L12 4.5zM11 5L8 2H1v12h10V5z\" fill-rule=\"evenodd\"></path></svg>\n<img alt=\"\" class=\"spinner\" height=\"16\" src=\"https://github.githubassets.com/images/spinners/octocat-spinner-32.gif\" width=\"16\"/>\n</td>\n<td class=\"content\">\n<span class=\"css-truncate css-truncate-target\"><a class=\"js-navigation-open\" href=\"/ieee8023/covid-chestxray-dataset/blob/master/images/streptococcus-pneumoniae-pneumonia-temporal-evolution-1-day1.jpg\" id=\"df08c47671b8534f30d1c8f044ce184e-5428b61dd98541feeb0b927d0cdad72ea42144af\" title=\"streptococcus-pneumoniae-pneumonia-temporal-evolution-1-day1.jpg\">streptococcus-pneumoniae-pneumonia-temporal-evolution-1-day1.jpg</a></span>\n</td>\n<td class=\"message\">\n<span class=\"css-truncate css-truncate-target\">\n<a class=\"link-gray\" data-pjax=\"true\" href=\"/ieee8023/covid-chestxray-dataset/commit/41f44a72dbf58ce4b432e4619af92431d4ea2ad5\" title=\"add https://radiopaedia.org/cases/streptococcus-pneumoniae-pneumonia-temporal-evolution-1\">add</a> <a href=\"https://radiopaedia.org/cases/streptococcus-pneumoniae-pneumonia-temporal-evolution-1\" rel=\"nofollow\">https://radiopaedia.org/cases/streptococcus-pneumoniae-pneumonia-…</a>\n</span>\n</td>\n<td class=\"age\">\n<span class=\"css-truncate css-truncate-target\"><time-ago class=\"no-wrap\" datetime=\"2020-03-14T01:59:56Z\">Mar 14, 2020</time-ago></span>\n</td>\n</tr>\n<tr class=\"js-navigation-item\">\n<td class=\"icon\">\n<svg aria-label=\"file\" class=\"octicon octicon-file\" height=\"16\" role=\"img\" version=\"1.1\" viewbox=\"0 0 12 16\" width=\"12\"><path d=\"M6 5H2V4h4v1zM2 8h7V7H2v1zm0 2h7V9H2v1zm0 2h7v-1H2v1zm10-7.5V14c0 .55-.45 1-1 1H1c-.55 0-1-.45-1-1V2c0-.55.45-1 1-1h7.5L12 4.5zM11 5L8 2H1v12h10V5z\" fill-rule=\"evenodd\"></path></svg>\n<img alt=\"\" class=\"spinner\" height=\"16\" src=\"https://github.githubassets.com/images/spinners/octocat-spinner-32.gif\" width=\"16\"/>\n</td>\n<td class=\"content\">\n<span class=\"css-truncate css-truncate-target\"><a class=\"js-navigation-open\" href=\"/ieee8023/covid-chestxray-dataset/blob/master/images/streptococcus-pneumoniae-pneumonia-temporal-evolution-1-day2.jpg\" id=\"3ca668e12e1ae6a4480dbd9eea76c402-b4dd6d204285f3eee2b7c5d3ecb1aacb55fc3504\" title=\"streptococcus-pneumoniae-pneumonia-temporal-evolution-1-day2.jpg\">streptococcus-pneumoniae-pneumonia-temporal-evolution-1-day2.jpg</a></span>\n</td>\n<td class=\"message\">\n<span class=\"css-truncate css-truncate-target\">\n<a class=\"link-gray\" data-pjax=\"true\" href=\"/ieee8023/covid-chestxray-dataset/commit/41f44a72dbf58ce4b432e4619af92431d4ea2ad5\" title=\"add https://radiopaedia.org/cases/streptococcus-pneumoniae-pneumonia-temporal-evolution-1\">add</a> <a href=\"https://radiopaedia.org/cases/streptococcus-pneumoniae-pneumonia-temporal-evolution-1\" rel=\"nofollow\">https://radiopaedia.org/cases/streptococcus-pneumoniae-pneumonia-…</a>\n</span>\n</td>\n<td class=\"age\">\n<span class=\"css-truncate css-truncate-target\"><time-ago class=\"no-wrap\" datetime=\"2020-03-14T01:59:56Z\">Mar 14, 2020</time-ago></span>\n</td>\n</tr>\n<tr class=\"js-navigation-item\">\n<td class=\"icon\">\n<svg aria-label=\"file\" class=\"octicon octicon-file\" height=\"16\" role=\"img\" version=\"1.1\" viewbox=\"0 0 12 16\" width=\"12\"><path d=\"M6 5H2V4h4v1zM2 8h7V7H2v1zm0 2h7V9H2v1zm0 2h7v-1H2v1zm10-7.5V14c0 .55-.45 1-1 1H1c-.55 0-1-.45-1-1V2c0-.55.45-1 1-1h7.5L12 4.5zM11 5L8 2H1v12h10V5z\" fill-rule=\"evenodd\"></path></svg>\n<img alt=\"\" class=\"spinner\" height=\"16\" src=\"https://github.githubassets.com/images/spinners/octocat-spinner-32.gif\" width=\"16\"/>\n</td>\n<td class=\"content\">\n<span class=\"css-truncate css-truncate-target\"><a class=\"js-navigation-open\" href=\"/ieee8023/covid-chestxray-dataset/blob/master/images/streptococcus-pneumoniae-pneumonia-temporal-evolution-1-day3.jpg\" id=\"b5d3233ad2dcdf998c764609b36aa494-9ae30f9c7568e9e8650ab320ce57e02c90646450\" title=\"streptococcus-pneumoniae-pneumonia-temporal-evolution-1-day3.jpg\">streptococcus-pneumoniae-pneumonia-temporal-evolution-1-day3.jpg</a></span>\n</td>\n<td class=\"message\">\n<span class=\"css-truncate css-truncate-target\">\n<a class=\"link-gray\" data-pjax=\"true\" href=\"/ieee8023/covid-chestxray-dataset/commit/41f44a72dbf58ce4b432e4619af92431d4ea2ad5\" title=\"add https://radiopaedia.org/cases/streptococcus-pneumoniae-pneumonia-temporal-evolution-1\">add</a> <a href=\"https://radiopaedia.org/cases/streptococcus-pneumoniae-pneumonia-temporal-evolution-1\" rel=\"nofollow\">https://radiopaedia.org/cases/streptococcus-pneumoniae-pneumonia-…</a>\n</span>\n</td>\n<td class=\"age\">\n<span class=\"css-truncate css-truncate-target\"><time-ago class=\"no-wrap\" datetime=\"2020-03-14T01:59:56Z\">Mar 14, 2020</time-ago></span>\n</td>\n</tr>\n<tr class=\"js-navigation-item\">\n<td class=\"icon\">\n<svg aria-label=\"file\" class=\"octicon octicon-file\" height=\"16\" role=\"img\" version=\"1.1\" viewbox=\"0 0 12 16\" width=\"12\"><path d=\"M6 5H2V4h4v1zM2 8h7V7H2v1zm0 2h7V9H2v1zm0 2h7v-1H2v1zm10-7.5V14c0 .55-.45 1-1 1H1c-.55 0-1-.45-1-1V2c0-.55.45-1 1-1h7.5L12 4.5zM11 5L8 2H1v12h10V5z\" fill-rule=\"evenodd\"></path></svg>\n<img alt=\"\" class=\"spinner\" height=\"16\" src=\"https://github.githubassets.com/images/spinners/octocat-spinner-32.gif\" width=\"16\"/>\n</td>\n<td class=\"content\">\n<span class=\"css-truncate css-truncate-target\"><a class=\"js-navigation-open\" href=\"/ieee8023/covid-chestxray-dataset/blob/master/images/wong-0000.jpg\" id=\"e31b1d6f87ae52be643635a6a4485faf-3c56c9c4d755b613d86dd02988d55634f0ebd151\" title=\"wong-0000.jpg\">wong-0000.jpg</a></span>\n</td>\n<td class=\"message\">\n<span class=\"css-truncate css-truncate-target\">\n<a class=\"link-gray\" data-pjax=\"true\" href=\"/ieee8023/covid-chestxray-dataset/commit/87bcd716b215bcbdeca590fe32374808dd3ee961\" title=\"crop images a little\">crop images a little</a>\n</span>\n</td>\n<td class=\"age\">\n<span class=\"css-truncate css-truncate-target\"><time-ago class=\"no-wrap\" datetime=\"2020-04-07T02:50:11Z\">Apr 7, 2020</time-ago></span>\n</td>\n</tr>\n<tr class=\"js-navigation-item\">\n<td class=\"icon\">\n<svg aria-label=\"file\" class=\"octicon octicon-file\" height=\"16\" role=\"img\" version=\"1.1\" viewbox=\"0 0 12 16\" width=\"12\"><path d=\"M6 5H2V4h4v1zM2 8h7V7H2v1zm0 2h7V9H2v1zm0 2h7v-1H2v1zm10-7.5V14c0 .55-.45 1-1 1H1c-.55 0-1-.45-1-1V2c0-.55.45-1 1-1h7.5L12 4.5zM11 5L8 2H1v12h10V5z\" fill-rule=\"evenodd\"></path></svg>\n<img alt=\"\" class=\"spinner\" height=\"16\" src=\"https://github.githubassets.com/images/spinners/octocat-spinner-32.gif\" width=\"16\"/>\n</td>\n<td class=\"content\">\n<span class=\"css-truncate css-truncate-target\"><a class=\"js-navigation-open\" href=\"/ieee8023/covid-chestxray-dataset/blob/master/images/wong-0002.jpg\" id=\"c76ddd57ff3a38c294193e0d25880f51-3902851f0bdbfc8d914968a8211a3f070121ef4c\" title=\"wong-0002.jpg\">wong-0002.jpg</a></span>\n</td>\n<td class=\"message\">\n<span class=\"css-truncate css-truncate-target\">\n<a class=\"link-gray\" data-pjax=\"true\" href=\"/ieee8023/covid-chestxray-dataset/commit/84fa1c369cc9553d1c9c7c34a832c2112fce2f9d\" title=\"added new xrays from wang 2003 (patients 170-171-172)\">added new xrays from wang 2003 (patients 170-171-172)</a>\n</span>\n</td>\n<td class=\"age\">\n<span class=\"css-truncate css-truncate-target\"><time-ago class=\"no-wrap\" datetime=\"2020-04-07T02:22:22Z\">Apr 7, 2020</time-ago></span>\n</td>\n</tr>\n<tr class=\"js-navigation-item\">\n<td class=\"icon\">\n<svg aria-label=\"file\" class=\"octicon octicon-file\" height=\"16\" role=\"img\" version=\"1.1\" viewbox=\"0 0 12 16\" width=\"12\"><path d=\"M6 5H2V4h4v1zM2 8h7V7H2v1zm0 2h7V9H2v1zm0 2h7v-1H2v1zm10-7.5V14c0 .55-.45 1-1 1H1c-.55 0-1-.45-1-1V2c0-.55.45-1 1-1h7.5L12 4.5zM11 5L8 2H1v12h10V5z\" fill-rule=\"evenodd\"></path></svg>\n<img alt=\"\" class=\"spinner\" height=\"16\" src=\"https://github.githubassets.com/images/spinners/octocat-spinner-32.gif\" width=\"16\"/>\n</td>\n<td class=\"content\">\n<span class=\"css-truncate css-truncate-target\"><a class=\"js-navigation-open\" href=\"/ieee8023/covid-chestxray-dataset/blob/master/images/wong-0003.jpg\" id=\"62d673c0144d6ad5717649ba497099cc-0aab938be7742765e40d12b53fbf1b6a53635b79\" title=\"wong-0003.jpg\">wong-0003.jpg</a></span>\n</td>\n<td class=\"message\">\n<span class=\"css-truncate css-truncate-target\">\n<a class=\"link-gray\" data-pjax=\"true\" href=\"/ieee8023/covid-chestxray-dataset/commit/84fa1c369cc9553d1c9c7c34a832c2112fce2f9d\" title=\"added new xrays from wang 2003 (patients 170-171-172)\">added new xrays from wang 2003 (patients 170-171-172)</a>\n</span>\n</td>\n<td class=\"age\">\n<span class=\"css-truncate css-truncate-target\"><time-ago class=\"no-wrap\" datetime=\"2020-04-07T02:22:22Z\">Apr 7, 2020</time-ago></span>\n</td>\n</tr>\n<tr class=\"js-navigation-item\">\n<td class=\"icon\">\n<svg aria-label=\"file\" class=\"octicon octicon-file\" height=\"16\" role=\"img\" version=\"1.1\" viewbox=\"0 0 12 16\" width=\"12\"><path d=\"M6 5H2V4h4v1zM2 8h7V7H2v1zm0 2h7V9H2v1zm0 2h7v-1H2v1zm10-7.5V14c0 .55-.45 1-1 1H1c-.55 0-1-.45-1-1V2c0-.55.45-1 1-1h7.5L12 4.5zM11 5L8 2H1v12h10V5z\" fill-rule=\"evenodd\"></path></svg>\n<img alt=\"\" class=\"spinner\" height=\"16\" src=\"https://github.githubassets.com/images/spinners/octocat-spinner-32.gif\" width=\"16\"/>\n</td>\n<td class=\"content\">\n<span class=\"css-truncate css-truncate-target\"><a class=\"js-navigation-open\" href=\"/ieee8023/covid-chestxray-dataset/blob/master/images/wong-0004.jpg\" id=\"43e8fc2f2c324d25ca39b9c730d8f8bd-411ca4f8501c420ffc9c08222b1a7cd922f69872\" title=\"wong-0004.jpg\">wong-0004.jpg</a></span>\n</td>\n<td class=\"message\">\n<span class=\"css-truncate css-truncate-target\">\n<a class=\"link-gray\" data-pjax=\"true\" href=\"/ieee8023/covid-chestxray-dataset/commit/87bcd716b215bcbdeca590fe32374808dd3ee961\" title=\"crop images a little\">crop images a little</a>\n</span>\n</td>\n<td class=\"age\">\n<span class=\"css-truncate css-truncate-target\"><time-ago class=\"no-wrap\" datetime=\"2020-04-07T02:50:11Z\">Apr 7, 2020</time-ago></span>\n</td>\n</tr>\n<tr class=\"js-navigation-item\">\n<td class=\"icon\">\n<svg aria-label=\"file\" class=\"octicon octicon-file\" height=\"16\" role=\"img\" version=\"1.1\" viewbox=\"0 0 12 16\" width=\"12\"><path d=\"M6 5H2V4h4v1zM2 8h7V7H2v1zm0 2h7V9H2v1zm0 2h7v-1H2v1zm10-7.5V14c0 .55-.45 1-1 1H1c-.55 0-1-.45-1-1V2c0-.55.45-1 1-1h7.5L12 4.5zM11 5L8 2H1v12h10V5z\" fill-rule=\"evenodd\"></path></svg>\n<img alt=\"\" class=\"spinner\" height=\"16\" src=\"https://github.githubassets.com/images/spinners/octocat-spinner-32.gif\" width=\"16\"/>\n</td>\n<td class=\"content\">\n<span class=\"css-truncate css-truncate-target\"><a class=\"js-navigation-open\" href=\"/ieee8023/covid-chestxray-dataset/blob/master/images/wong-0005.jpg\" id=\"10ca1845f2d92f881ed89f973109a249-0a44f502627e975b8c1deedc542a191c4111a76c\" title=\"wong-0005.jpg\">wong-0005.jpg</a></span>\n</td>\n<td class=\"message\">\n<span class=\"css-truncate css-truncate-target\">\n<a class=\"link-gray\" data-pjax=\"true\" href=\"/ieee8023/covid-chestxray-dataset/commit/87bcd716b215bcbdeca590fe32374808dd3ee961\" title=\"crop images a little\">crop images a little</a>\n</span>\n</td>\n<td class=\"age\">\n<span class=\"css-truncate css-truncate-target\"><time-ago class=\"no-wrap\" datetime=\"2020-04-07T02:50:11Z\">Apr 7, 2020</time-ago></span>\n</td>\n</tr>\n<tr class=\"js-navigation-item\">\n<td class=\"icon\">\n<svg aria-label=\"file\" class=\"octicon octicon-file\" height=\"16\" role=\"img\" version=\"1.1\" viewbox=\"0 0 12 16\" width=\"12\"><path d=\"M6 5H2V4h4v1zM2 8h7V7H2v1zm0 2h7V9H2v1zm0 2h7v-1H2v1zm10-7.5V14c0 .55-.45 1-1 1H1c-.55 0-1-.45-1-1V2c0-.55.45-1 1-1h7.5L12 4.5zM11 5L8 2H1v12h10V5z\" fill-rule=\"evenodd\"></path></svg>\n<img alt=\"\" class=\"spinner\" height=\"16\" src=\"https://github.githubassets.com/images/spinners/octocat-spinner-32.gif\" width=\"16\"/>\n</td>\n<td class=\"content\">\n<span class=\"css-truncate css-truncate-target\"><a class=\"js-navigation-open\" href=\"/ieee8023/covid-chestxray-dataset/blob/master/images/yxppt-2020-02-19_00-51-27_287214-day10.jpg\" id=\"710feca8a2c325d3e1fea6bb5fd7cc92-30b32b1069ed5a56762bf76d25db029fee02954b\" title=\"yxppt-2020-02-19_00-51-27_287214-day10.jpg\">yxppt-2020-02-19_00-51-27_287214-day10.jpg</a></span>\n</td>\n<td class=\"message\">\n<span class=\"css-truncate css-truncate-target\">\n<a class=\"link-gray\" data-pjax=\"true\" href=\"/ieee8023/covid-chestxray-dataset/commit/65b61b403b86a4cebff1fc4451a220feb24ccb33\" title=\"add http://www.yxppt.com/html/20200219085511.html\">add</a> <a href=\"http://www.yxppt.com/html/20200219085511.html\" rel=\"nofollow\">http://www.yxppt.com/html/20200219085511.html</a>\n</span>\n</td>\n<td class=\"age\">\n<span class=\"css-truncate css-truncate-target\"><time-ago class=\"no-wrap\" datetime=\"2020-04-17T20:45:38Z\">Apr 17, 2020</time-ago></span>\n</td>\n</tr>\n<tr class=\"js-navigation-item\">\n<td class=\"icon\">\n<svg aria-label=\"file\" class=\"octicon octicon-file\" height=\"16\" role=\"img\" version=\"1.1\" viewbox=\"0 0 12 16\" width=\"12\"><path d=\"M6 5H2V4h4v1zM2 8h7V7H2v1zm0 2h7V9H2v1zm0 2h7v-1H2v1zm10-7.5V14c0 .55-.45 1-1 1H1c-.55 0-1-.45-1-1V2c0-.55.45-1 1-1h7.5L12 4.5zM11 5L8 2H1v12h10V5z\" fill-rule=\"evenodd\"></path></svg>\n<img alt=\"\" class=\"spinner\" height=\"16\" src=\"https://github.githubassets.com/images/spinners/octocat-spinner-32.gif\" width=\"16\"/>\n</td>\n<td class=\"content\">\n<span class=\"css-truncate css-truncate-target\"><a class=\"js-navigation-open\" href=\"/ieee8023/covid-chestxray-dataset/blob/master/images/yxppt-2020-02-19_00-51-27_287214-day12.jpg\" id=\"e3df141d04af8118a978c51f309c9dbc-3be69f926a98c78114c3b8234f9ccd4f2f5b42ab\" title=\"yxppt-2020-02-19_00-51-27_287214-day12.jpg\">yxppt-2020-02-19_00-51-27_287214-day12.jpg</a></span>\n</td>\n<td class=\"message\">\n<span class=\"css-truncate css-truncate-target\">\n<a class=\"link-gray\" data-pjax=\"true\" href=\"/ieee8023/covid-chestxray-dataset/commit/65b61b403b86a4cebff1fc4451a220feb24ccb33\" title=\"add http://www.yxppt.com/html/20200219085511.html\">add</a> <a href=\"http://www.yxppt.com/html/20200219085511.html\" rel=\"nofollow\">http://www.yxppt.com/html/20200219085511.html</a>\n</span>\n</td>\n<td class=\"age\">\n<span class=\"css-truncate css-truncate-target\"><time-ago class=\"no-wrap\" datetime=\"2020-04-17T20:45:38Z\">Apr 17, 2020</time-ago></span>\n</td>\n</tr>\n<tr class=\"js-navigation-item\">\n<td class=\"icon\">\n<svg aria-label=\"file\" class=\"octicon octicon-file\" height=\"16\" role=\"img\" version=\"1.1\" viewbox=\"0 0 12 16\" width=\"12\"><path d=\"M6 5H2V4h4v1zM2 8h7V7H2v1zm0 2h7V9H2v1zm0 2h7v-1H2v1zm10-7.5V14c0 .55-.45 1-1 1H1c-.55 0-1-.45-1-1V2c0-.55.45-1 1-1h7.5L12 4.5zM11 5L8 2H1v12h10V5z\" fill-rule=\"evenodd\"></path></svg>\n<img alt=\"\" class=\"spinner\" height=\"16\" src=\"https://github.githubassets.com/images/spinners/octocat-spinner-32.gif\" width=\"16\"/>\n</td>\n<td class=\"content\">\n<span class=\"css-truncate css-truncate-target\"><a class=\"js-navigation-open\" href=\"/ieee8023/covid-chestxray-dataset/blob/master/images/yxppt-2020-02-19_00-51-27_287214-day8.jpg\" id=\"5ec6be83ae0bab5e612938036d52d6d0-2b53bd0e12a074ced878ca9c23bc173681f62fff\" title=\"yxppt-2020-02-19_00-51-27_287214-day8.jpg\">yxppt-2020-02-19_00-51-27_287214-day8.jpg</a></span>\n</td>\n<td class=\"message\">\n<span class=\"css-truncate css-truncate-target\">\n<a class=\"link-gray\" data-pjax=\"true\" href=\"/ieee8023/covid-chestxray-dataset/commit/65b61b403b86a4cebff1fc4451a220feb24ccb33\" title=\"add http://www.yxppt.com/html/20200219085511.html\">add</a> <a href=\"http://www.yxppt.com/html/20200219085511.html\" rel=\"nofollow\">http://www.yxppt.com/html/20200219085511.html</a>\n</span>\n</td>\n<td class=\"age\">\n<span class=\"css-truncate css-truncate-target\"><time-ago class=\"no-wrap\" datetime=\"2020-04-17T20:45:38Z\">Apr 17, 2020</time-ago></span>\n</td>\n</tr>\n</tbody>"
     },
     "metadata": {},
     "execution_count": 70
    }
   ],
   "source": [
    "\n",
    "\n",
    "\n",
    "\n",
    "response = requests.get(diretorio_imagens_covid_chestxray_imagens)\n",
    "\n",
    "soup = BeautifulSoup(response.text, 'html.parser')\n",
    "\n",
    "content = soup.table.tbody\n",
    "\n",
    "content\n",
    "# img_tags = soup.find_all('img')\n",
    "\n",
    "# urls = [img['src'] for img in img_tags]\n",
    "\n",
    "\n",
    "# for url in urls:\n",
    "#     filename = re.search(r'/([\\w_-]+[.](jpg|gif|png))$', url)\n",
    "#     if not filename:\n",
    "#          print(\"Regex didn't match with the url: {}\".format(url))\n",
    "#          continue\n",
    "#     with open(filename.group(1), 'wb') as f:\n",
    "#         if 'http' not in url:\n",
    "#             # sometimes an image source can be relative \n",
    "#             # if it is provide the base url which also happens \n",
    "#             # to be the site variable atm. \n",
    "#             url = '{}{}'.format(site, url)\n",
    "#         response = requests.get(url)\n",
    "#         f.write(response.content)\n",
    "\n"
   ]
  },
  {
   "cell_type": "code",
   "execution_count": null,
   "metadata": {},
   "outputs": [],
   "source": [
    "for url in urls[0:10]:\n",
    "    filename = re.search(r'/([\\w_-]+[.](jpg|gif|jpeg|png))$', url)\n",
    "    print(filename)\n",
    "    # if not filename:\n",
    "    #      print(\"Regex didn't match with the url: {}\".format(url))\n",
    "    #      continue\n",
    "    # with open(filename.group(1), 'wb') as f:\n",
    "    #     if 'http' not in url:\n",
    "    #         # sometimes an image source can be relative \n",
    "    #         # if it is provide the base url which also happens \n",
    "    #         # to be the site variable atm. \n",
    "    #         url = '{}{}'.format(site, url)\n",
    "    #     response = requests.get(url)\n",
    "    #     # f.write(response.content)"
   ]
  },
  {
   "cell_type": "code",
   "execution_count": 19,
   "metadata": {},
   "outputs": [],
   "source": [
    "metadata_git =  metadata_git[[\"patientid\",\"sex\",\"age\",\"location\", \"finding\", \"modality\",\"filename\"]]\n",
    "\n",
    "metadata_git.columns = [\"patientId\",\"sexo\",\"idade\",\"localidade\",\"prognostico\",\"tipoExame\",\"imagem\"]\n",
    "\n",
    "\n"
   ]
  },
  {
   "cell_type": "code",
   "execution_count": 22,
   "metadata": {},
   "outputs": [],
   "source": [
    "metadata_git['indicadorPrognostico'] = metadata_git['prognostico'].map(prognostico_map_dataframe_covid_chestxray_dataset)\n",
    "\n",
    "\n",
    "metadata_git[\"prognostico\"].replace([\"COVID-19\"],[\"covid\"],inplace=True)"
   ]
  },
  {
   "cell_type": "code",
   "execution_count": 23,
   "metadata": {},
   "outputs": [
    {
     "output_type": "execute_result",
     "data": {
      "text/plain": "   patientId sexo  idade                                         localidade  \\\n0          2    M   65.0        Cho Ray Hospital, Ho Chi Minh City, Vietnam   \n1          2    M   65.0        Cho Ray Hospital, Ho Chi Minh City, Vietnam   \n2          2    M   65.0        Cho Ray Hospital, Ho Chi Minh City, Vietnam   \n3          2    M   65.0        Cho Ray Hospital, Ho Chi Minh City, Vietnam   \n4          4    F   52.0  Changhua Christian Hospital, Changhua City, Ta...   \n\n  prognostico tipoExame                                             imagem  \\\n0       covid     X-ray  auntminnie-a-2020_01_28_23_51_6665_2020_01_28_...   \n1       covid     X-ray  auntminnie-b-2020_01_28_23_51_6665_2020_01_28_...   \n2       covid     X-ray  auntminnie-c-2020_01_28_23_51_6665_2020_01_28_...   \n3       covid     X-ray  auntminnie-d-2020_01_28_23_51_6665_2020_01_28_...   \n4       covid     X-ray                              nejmc2001573_f1a.jpeg   \n\n   indicadorPrognostico  \n0                   1.0  \n1                   1.0  \n2                   1.0  \n3                   1.0  \n4                   1.0  ",
      "text/html": "<div>\n<style scoped>\n    .dataframe tbody tr th:only-of-type {\n        vertical-align: middle;\n    }\n\n    .dataframe tbody tr th {\n        vertical-align: top;\n    }\n\n    .dataframe thead th {\n        text-align: right;\n    }\n</style>\n<table border=\"1\" class=\"dataframe\">\n  <thead>\n    <tr style=\"text-align: right;\">\n      <th></th>\n      <th>patientId</th>\n      <th>sexo</th>\n      <th>idade</th>\n      <th>localidade</th>\n      <th>prognostico</th>\n      <th>tipoExame</th>\n      <th>imagem</th>\n      <th>indicadorPrognostico</th>\n    </tr>\n  </thead>\n  <tbody>\n    <tr>\n      <th>0</th>\n      <td>2</td>\n      <td>M</td>\n      <td>65.0</td>\n      <td>Cho Ray Hospital, Ho Chi Minh City, Vietnam</td>\n      <td>covid</td>\n      <td>X-ray</td>\n      <td>auntminnie-a-2020_01_28_23_51_6665_2020_01_28_...</td>\n      <td>1.0</td>\n    </tr>\n    <tr>\n      <th>1</th>\n      <td>2</td>\n      <td>M</td>\n      <td>65.0</td>\n      <td>Cho Ray Hospital, Ho Chi Minh City, Vietnam</td>\n      <td>covid</td>\n      <td>X-ray</td>\n      <td>auntminnie-b-2020_01_28_23_51_6665_2020_01_28_...</td>\n      <td>1.0</td>\n    </tr>\n    <tr>\n      <th>2</th>\n      <td>2</td>\n      <td>M</td>\n      <td>65.0</td>\n      <td>Cho Ray Hospital, Ho Chi Minh City, Vietnam</td>\n      <td>covid</td>\n      <td>X-ray</td>\n      <td>auntminnie-c-2020_01_28_23_51_6665_2020_01_28_...</td>\n      <td>1.0</td>\n    </tr>\n    <tr>\n      <th>3</th>\n      <td>2</td>\n      <td>M</td>\n      <td>65.0</td>\n      <td>Cho Ray Hospital, Ho Chi Minh City, Vietnam</td>\n      <td>covid</td>\n      <td>X-ray</td>\n      <td>auntminnie-d-2020_01_28_23_51_6665_2020_01_28_...</td>\n      <td>1.0</td>\n    </tr>\n    <tr>\n      <th>4</th>\n      <td>4</td>\n      <td>F</td>\n      <td>52.0</td>\n      <td>Changhua Christian Hospital, Changhua City, Ta...</td>\n      <td>covid</td>\n      <td>X-ray</td>\n      <td>nejmc2001573_f1a.jpeg</td>\n      <td>1.0</td>\n    </tr>\n  </tbody>\n</table>\n</div>"
     },
     "metadata": {},
     "execution_count": 23
    }
   ],
   "source": [
    "\n",
    "metadata_git.head()"
   ]
  }
 ],
 "metadata": {
  "language_info": {
   "codemirror_mode": {
    "name": "ipython",
    "version": 3
   },
   "file_extension": ".py",
   "mimetype": "text/x-python",
   "name": "python",
   "nbconvert_exporter": "python",
   "pygments_lexer": "ipython3",
   "version": "3.7.7-final"
  },
  "orig_nbformat": 2,
  "kernelspec": {
   "name": "python37764bitdeeplearningconda70b0a9c2c78b49cfaeeb6e88dd7dfba8",
   "display_name": "Python 3.7.7 64-bit ('Deep Learning': conda)"
  }
 },
 "nbformat": 4,
 "nbformat_minor": 2
}