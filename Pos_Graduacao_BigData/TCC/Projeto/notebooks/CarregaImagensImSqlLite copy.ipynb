{
 "cells": [
  {
   "cell_type": "markdown",
   "metadata": {},
   "source": [
    "# O intuito desse notebook e recuperar todas as imagens disponiveis sobre pneumonia e covid  disponibilizadas nos diretorios do Git hub\n",
    "e montas as pastas de imagens somente de covid e normal no dataset\n"
   ]
  },
  {
   "cell_type": "markdown",
   "metadata": {},
   "source": [
    "## bibliotecas necessárias"
   ]
  },
  {
   "cell_type": "code",
   "execution_count": 27,
   "metadata": {},
   "outputs": [
    {
     "output_type": "stream",
     "name": "stderr",
     "text": "ERROR: Could not find a version that satisfies the requirement urllib2 (from versions: none)\nERROR: No matching distribution found for urllib2\n"
    }
   ],
   "source": [
    "!pip install urllib2"
   ]
  },
  {
   "cell_type": "code",
   "execution_count": 2,
   "metadata": {},
   "outputs": [],
   "source": [
    "import pandas as pd\n",
    "import random\n",
    "import shutil\n",
    "import os"
   ]
  },
  {
   "cell_type": "markdown",
   "metadata": {},
   "source": [
    "## variaveis iniciais"
   ]
  },
  {
   "cell_type": "code",
   "execution_count": 3,
   "metadata": {},
   "outputs": [],
   "source": [
    "def getDiretorio(tipo):\n",
    "    retorno = \"\"\n",
    "    if(tipo ==\"MaquinaLocal\"):\n",
    "        retorno = r'D:/Repos/AprendendoPython/Pos_Graduacao_BigData/TCC/Projeto'\n",
    "    \n",
    "    if(tipo ==\"GitHub\"):\n",
    "        retorno = r'https://github.com/ieee8023/covid-chestxray-dataset/blob/master/'\n",
    "\n",
    "    if(tipo ==\"GoogleDrive\"):\n",
    "       retorno=r'/content/drive/My Drive/TCC Pos Graduação big data/TCC/Projeto/'\n",
    "       \n",
    "    \n",
    "    return retorno"
   ]
  },
  {
   "cell_type": "code",
   "execution_count": 51,
   "metadata": {},
   "outputs": [
    {
     "output_type": "stream",
     "name": "stdout",
     "text": "D:/Repos/AprendendoPython/Pos_Graduacao_BigData/TCC/Projeto\nD:/Repos/AprendendoPython/Pos_Graduacao_BigData/TCC/Projeto/dataset\nD:/Repos/AprendendoPython/Pos_Graduacao_BigData/TCC/Projeto/dataset/covid\nD:/Repos/AprendendoPython/Pos_Graduacao_BigData/TCC/Projeto/dataset/normal\n"
    }
   ],
   "source": [
    "diretorio_raiz = getDiretorio(\"MaquinaLocal\")\n",
    "diretorio_dataset =r\"{0}/{1}\".format(diretorio_raiz,'dataset')\n",
    "diretorio_imagem_covid =r\"{0}/{1}\".format(diretorio_dataset,'covid')\n",
    "diretorio_pneumonia_normal =r\"{0}/{1}\".format(diretorio_dataset,'normal')\n",
    "\n",
    "print(diretorio_raiz)\n",
    "print(diretorio_dataset)\n",
    "print(diretorio_imagem_covid)\n",
    "print(diretorio_pneumonia_normal)\n",
    "\n",
    "\n"
   ]
  },
  {
   "cell_type": "markdown",
   "metadata": {},
   "source": [
    "## cria os diretorios se não existirem"
   ]
  },
  {
   "cell_type": "code",
   "execution_count": 9,
   "metadata": {},
   "outputs": [],
   "source": [
    "if not os.path.exists(diretorio_imagem_covid):\n",
    "    os.mkdir(diretorio_imagem_covid)\n",
    "\n",
    "if not os.path.exists(diretorio_pneumonia_normal):\n",
    "    os.mkdir(diretorio_pneumonia_normal)"
   ]
  },
  {
   "cell_type": "markdown",
   "metadata": {},
   "source": [
    "## variaveis do diretorio dos conjuntos de dados originais\n",
    "\n"
   ]
  },
  {
   "cell_type": "markdown",
   "metadata": {},
   "source": [
    "## valida se o diretorio do git recebeu novas imagens\n"
   ]
  },
  {
   "cell_type": "code",
   "execution_count": 16,
   "metadata": {},
   "outputs": [],
   "source": [
    "source_dir_metadata_local = r'D:/Repos/datasetsGitHub/covid-chestxray-dataset/metadata.csv'\n",
    "\n",
    "metadata_web_git ='https://raw.githubusercontent.com/ieee8023/covid-chestxray-dataset/master/metadata.csv'\n",
    "\n"
   ]
  },
  {
   "cell_type": "code",
   "execution_count": 23,
   "metadata": {},
   "outputs": [],
   "source": [
    "df_git_covid_web  = pd.read_csv(metadata_web_git,error_bad_lines=False)\n",
    "\n",
    "df_git_covid_local = pd.read_csv(source_dir_metadata_local,error_bad_lines=False)\n",
    "\n",
    "\n",
    "\n"
   ]
  },
  {
   "cell_type": "code",
   "execution_count": 28,
   "metadata": {},
   "outputs": [
    {
     "output_type": "stream",
     "name": "stdout",
     "text": "565\n565\n"
    }
   ],
   "source": [
    "\n",
    "print(len(df_git_covid_web))\n",
    "print(len(df_git_covid_local))\n",
    "\n",
    "if(len(df_git_covid_web) > len(df_git_covid_local)):\n",
    "    print('temos {0} imagens com covid a mais no git web'.format(len(df_git_covid_web) - len(df_git_covid_local)))\n",
    "elif(len(df_git_covid_web) < len(df_git_covid_local)):\n",
    "    print('foram removidas {0} imagens  no git web'.format(len(df_git_covid_local) - len(df_git_covid_web)))\n",
    "\n",
    "  \n",
    "  \n"
   ]
  },
  {
   "cell_type": "code",
   "execution_count": null,
   "metadata": {},
   "outputs": [],
   "source": []
  },
  {
   "cell_type": "code",
   "execution_count": null,
   "metadata": {},
   "outputs": [],
   "source": [
    "source_dir_kaggle_Covid =r'D:/Repos/datasetsGitHub/covid-chestxray-dataset/images'\n",
    "source_dir_kaggle_pneumonia =r'D:/Repos/pneumonia-chest_xray'"
   ]
  },
  {
   "cell_type": "code",
   "execution_count": 12,
   "metadata": {},
   "outputs": [],
   "source": [
    "df  = pd.read_csv(source_dir_metadata)"
   ]
  },
  {
   "cell_type": "code",
   "execution_count": 38,
   "metadata": {},
   "outputs": [],
   "source": [
    "df_covid =  df[[\"location\", \"finding\", \"modality\",\"filename\",\"view\"]]\n",
    "\n",
    "df_covid.columns = [\"localidade\",\"prognostico\",\"tipoExame\",\"imagem\",\"tipo\"]\n"
   ]
  },
  {
   "cell_type": "code",
   "execution_count": 39,
   "metadata": {},
   "outputs": [
    {
     "output_type": "execute_result",
     "data": {
      "text/plain": "                                    localidade prognostico tipoExame  \\\n0  Cho Ray Hospital, Ho Chi Minh City, Vietnam    COVID-19     X-ray   \n1  Cho Ray Hospital, Ho Chi Minh City, Vietnam    COVID-19     X-ray   \n\n                                              imagem tipo  \n0  auntminnie-a-2020_01_28_23_51_6665_2020_01_28_...   PA  \n1  auntminnie-b-2020_01_28_23_51_6665_2020_01_28_...   PA  ",
      "text/html": "<div>\n<style scoped>\n    .dataframe tbody tr th:only-of-type {\n        vertical-align: middle;\n    }\n\n    .dataframe tbody tr th {\n        vertical-align: top;\n    }\n\n    .dataframe thead th {\n        text-align: right;\n    }\n</style>\n<table border=\"1\" class=\"dataframe\">\n  <thead>\n    <tr style=\"text-align: right;\">\n      <th></th>\n      <th>localidade</th>\n      <th>prognostico</th>\n      <th>tipoExame</th>\n      <th>imagem</th>\n      <th>tipo</th>\n    </tr>\n  </thead>\n  <tbody>\n    <tr>\n      <th>0</th>\n      <td>Cho Ray Hospital, Ho Chi Minh City, Vietnam</td>\n      <td>COVID-19</td>\n      <td>X-ray</td>\n      <td>auntminnie-a-2020_01_28_23_51_6665_2020_01_28_...</td>\n      <td>PA</td>\n    </tr>\n    <tr>\n      <th>1</th>\n      <td>Cho Ray Hospital, Ho Chi Minh City, Vietnam</td>\n      <td>COVID-19</td>\n      <td>X-ray</td>\n      <td>auntminnie-b-2020_01_28_23_51_6665_2020_01_28_...</td>\n      <td>PA</td>\n    </tr>\n  </tbody>\n</table>\n</div>"
     },
     "metadata": {},
     "execution_count": 39
    }
   ],
   "source": [
    "df_covid.head(2)"
   ]
  },
  {
   "cell_type": "markdown",
   "metadata": {},
   "source": [
    "## populando "
   ]
  },
  {
   "cell_type": "code",
   "execution_count": null,
   "metadata": {},
   "outputs": [],
   "source": [
    "labels =[]\n",
    "lista_imagens_erro = []\n",
    "lista_imagens_com_Covid = []\n",
    "lista_imagens_com_pneumonia_normal = []\n",
    "lista_tuplas_imagens =[]"
   ]
  },
  {
   "cell_type": "markdown",
   "metadata": {},
   "source": [
    "## Importando nossas imagens para o banco de dados SqlLite"
   ]
  },
  {
   "cell_type": "code",
   "execution_count": 81,
   "metadata": {},
   "outputs": [],
   "source": [
    "import sqlite3"
   ]
  },
  {
   "cell_type": "code",
   "execution_count": 96,
   "metadata": {},
   "outputs": [],
   "source": [
    "\n",
    "sqliteConnection = sqlite3.connect(\"covid19.db\")"
   ]
  },
  {
   "cell_type": "code",
   "execution_count": 98,
   "metadata": {},
   "outputs": [],
   "source": [
    "def desconect_db(sqliteConnection):\n",
    "    sqliteConnection.close()"
   ]
  },
  {
   "cell_type": "code",
   "execution_count": 99,
   "metadata": {},
   "outputs": [],
   "source": [
    "def create_table(tableName):\n",
    "    if(str(tableName).lower() ==\"ImagensCovid\".lower()):\n",
    "        sqliteConnection.execute('DROP TABLE IF EXISTS ImagensCovid;')\n",
    "        sqliteConnection.execute('CREATE TABLE IF NOT EXISTS ImagensCovid(Id INTEGER PRIMARY KEY AUTOINCREMENT NOT NULL, Localidade TEXT,    '\\\n",
    "     'Prognostico TEXT, TipoExame TEXT, ImagemName  TEXT  UNIQUE,Tipo TEXT ,BlobData  BLOB)')\n",
    "\n"
   ]
  },
  {
   "cell_type": "code",
   "execution_count": 100,
   "metadata": {},
   "outputs": [],
   "source": [
    "def convertToBinaryData(filename):\n",
    "    with open(filename, 'rb') as file:\n",
    "        blobData = file.read()\n",
    "    return blobData"
   ]
  },
  {
   "cell_type": "code",
   "execution_count": 110,
   "metadata": {},
   "outputs": [],
   "source": [
    "def insert_into_imagens(localidade, prognostico, tipoExame, imagemName,tipo,imagen_data):\n",
    "    try:\n",
    "        cursor = sqliteConnection.cursor()\n",
    "        print(\"Connected to SQLite\")\n",
    "        sqlite_insert_blob_query = \"\"\" INSERT INTO ImagensCovid\n",
    "        (Localidade, Prognostico, TipoExame, ImagemName,Tipo,BlobData) VALUES (?, ?, ?, ?,?,?)\"\"\"\n",
    "        \n",
    "        # Convert data into tuple format\n",
    "        data_tuple = (localidade, prognostico, tipoExame, imagemName,tipo,imagen_data)\n",
    "        cursor.execute(sqlite_insert_blob_query, data_tuple)\n",
    "        sqliteConnection.commit()\n",
    "        print(\"Image and file inserted successfully as a BLOB into a table\")\n",
    "        cursor.close()\n",
    "\n",
    "    except sqlite3.Error as error:\n",
    "        print(error)\n",
    "    finally:\n",
    "        if (sqliteConnection):\n",
    "            sqliteConnection.close()\n",
    "            print(\"the sqlite connection is closed\")"
   ]
  },
  {
   "cell_type": "code",
   "execution_count": 121,
   "metadata": {},
   "outputs": [],
   "source": [
    "sqliteConnection = sqlite3.connect(\"covid19.db\")"
   ]
  },
  {
   "cell_type": "code",
   "execution_count": 123,
   "metadata": {},
   "outputs": [
    {
     "output_type": "error",
     "ename": "InterfaceError",
     "evalue": "Error binding parameter 2 - probably unsupported type.",
     "traceback": [
      "\u001b[1;31m---------------------------------------------------------------------------\u001b[0m",
      "\u001b[1;31mInterfaceError\u001b[0m                            Traceback (most recent call last)",
      "\u001b[1;32m<ipython-input-123-4d55dcbf92db>\u001b[0m in \u001b[0;36m<module>\u001b[1;34m\u001b[0m\n\u001b[0;32m     21\u001b[0m \u001b[0mcursor\u001b[0m \u001b[1;33m=\u001b[0m \u001b[0msqliteConnection\u001b[0m\u001b[1;33m.\u001b[0m\u001b[0mcursor\u001b[0m\u001b[1;33m(\u001b[0m\u001b[1;33m)\u001b[0m\u001b[1;33m\u001b[0m\u001b[1;33m\u001b[0m\u001b[0m\n\u001b[0;32m     22\u001b[0m \u001b[1;33m\u001b[0m\u001b[0m\n\u001b[1;32m---> 23\u001b[1;33m \u001b[0mcursor\u001b[0m\u001b[1;33m.\u001b[0m\u001b[0mexecute\u001b[0m\u001b[1;33m(\u001b[0m\u001b[0msqlite_insert_blob_query\u001b[0m\u001b[1;33m,\u001b[0m \u001b[0mdata_tuple\u001b[0m\u001b[1;33m)\u001b[0m\u001b[1;33m\u001b[0m\u001b[1;33m\u001b[0m\u001b[0m\n\u001b[0m\u001b[0;32m     24\u001b[0m \u001b[1;33m\u001b[0m\u001b[0m\n\u001b[0;32m     25\u001b[0m \u001b[1;31m# sqliteConnection.commit()\u001b[0m\u001b[1;33m\u001b[0m\u001b[1;33m\u001b[0m\u001b[1;33m\u001b[0m\u001b[0m\n",
      "\u001b[1;31mInterfaceError\u001b[0m: Error binding parameter 2 - probably unsupported type."
     ]
    }
   ],
   "source": [
    "\n",
    "\n",
    "# cursor = sqliteConnection.cursor()\n",
    "# print(\"Connected to SQLite\")\n",
    "# sqlite_insert_blob_query = \"\"\" INSERT INTO Imagens\n",
    "# (Localidade, Prognostico, TipoExame, ImagemName,Tipo,BlobData) VALUES (?, ?, ?, ?,?,?)\"\"\"\n",
    "\n",
    "\n",
    "sqlite_insert_blob_query = \"\"\" INSERT INTO ImagensCovid(Localidade, Prognostico, TipoExame, ImagemName,Tipo,BlobData) VALUES (?, ?,?, ?,?,?)\"\"\"\n",
    "       \n",
    "\n",
    "\n",
    "localidade ='Cho Ray Hospital, Ho Chi Minh City, Vietnam'\n",
    "prognostico ='COVID-19'\n",
    "tipoExame ='X-ray',\n",
    "imagemName ='auntminnie-a-2020_01_28_23_51_6665_2020_01_28_Vietnam_coronavirus.jpeg',\n",
    "tipo ='PA',\n",
    "blob_imagem = convertToBinaryData('D:/Repos/AprendendoPython/Pos_Graduacao_BigData/TCC/Projeto/dataset/covid/auntminnie-a-2020_01_28_23_51_6665_2020_01_28_Vietnam_coronavirus.jpeg')\n",
    "\n",
    "# Convert data into tuple format\n",
    "data_tuple = (localidade, prognostico, tipoExame, imagemName,tipo,blob_imagem)\n",
    "\n",
    "cursor = sqliteConnection.cursor()\n",
    "\n",
    "cursor.execute(sqlite_insert_blob_query, data_tuple)\n",
    "\n",
    "# sqliteConnection.commit()\n",
    "# print(\"Image and file inserted successfully as a BLOB into a table\")\n",
    "# cursor.close()"
   ]
  },
  {
   "cell_type": "code",
   "execution_count": 104,
   "metadata": {},
   "outputs": [],
   "source": [
    "create_table('ImagensCovid')"
   ]
  },
  {
   "cell_type": "code",
   "execution_count": 113,
   "metadata": {
    "tags": [
     "outputPrepend"
    ]
   },
   "outputs": [
    {
     "output_type": "stream",
     "name": "stdout",
     "text": "D:/Repos/AprendendoPython/Pos_Graduacao_BigData/TCC/Projeto/dataset/covid/auntminnie-a-2020_01_28_23_51_6665_2020_01_28_Vietnam_coronavirus.jpeg\n"
    }
   ],
   "source": [
    "        \n",
    "lista_imagens_com_Covid =[]\n",
    "quantidade = 0\n",
    "for (i,row) in df_covid.head(1).iterrows():\n",
    "\n",
    "        imagemName=row[\"imagem\"]\n",
    "        localidade =row[\"localidade\"]\n",
    "        prognostico =row[\"prognostico\"]\n",
    "        tipoExame =row[\"tipoExame\"]\n",
    "        tipo =row[\"tipo\"]\n",
    "        image_path  = \"{0}/{1}\".format(diretorio_imagem_covid,imagemName)\n",
    "        # blob_imagem = convertToBinaryData(image_path)\n",
    "\n",
    "        # insert_into_imagens(localidade,prognostico,tipoExame,imagemName,tipo,blob_imagem)\n",
    "        print(image_path)\n",
    "        # print(localidade)\n",
    "        # print(prognostico)\n",
    "        # print(tipoExame)\n",
    "        # print(tipo)\n",
    "        \n",
    "        \n",
    "        # image_copy_target= \"{0}/{1}\".format(diretorio_imagem_covid,file_name)\n",
    "        # shutil.copy2(image_path,image_copy_target)\n",
    "        # lista_imagens_com_Covid.append(image_copy_target)\n",
    "        # quantidade +=1\n",
    "\n",
    "\n",
    "        \n"
   ]
  },
  {
   "cell_type": "markdown",
   "metadata": {},
   "source": [
    "## listas auxiliares\n"
   ]
  },
  {
   "cell_type": "code",
   "execution_count": 14,
   "metadata": {},
   "outputs": [],
   "source": []
  }
 ],
 "metadata": {
  "language_info": {
   "codemirror_mode": {
    "name": "ipython",
    "version": 3
   },
   "file_extension": ".py",
   "mimetype": "text/x-python",
   "name": "python",
   "nbconvert_exporter": "python",
   "pygments_lexer": "ipython3",
   "version": "3.7.7-final"
  },
  "orig_nbformat": 2,
  "kernelspec": {
   "name": "python37764bitdeeplearningconda70b0a9c2c78b49cfaeeb6e88dd7dfba8",
   "display_name": "Python 3.7.7 64-bit ('Deep Learning': conda)"
  }
 },
 "nbformat": 4,
 "nbformat_minor": 2
}