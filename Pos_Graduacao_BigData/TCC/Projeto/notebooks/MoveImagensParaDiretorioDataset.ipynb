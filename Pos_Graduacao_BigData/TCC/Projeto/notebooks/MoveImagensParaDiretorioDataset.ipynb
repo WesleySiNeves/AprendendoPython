{
 "cells": [
  {
   "cell_type": "markdown",
   "metadata": {},
   "source": [
    "# O intuito desse notebook e recuperar todas as imagens disponiveis  sobre pneumonia e covid e disponibilizar em um banco de dados\n"
   ]
  },
  {
   "cell_type": "markdown",
   "metadata": {},
   "source": [
    "## bibliotecas necessárias"
   ]
  },
  {
   "cell_type": "code",
   "execution_count": 111,
   "metadata": {},
   "outputs": [],
   "source": [
    "from imutils import paths\n",
    "import pandas as pd\n",
    "import shutil\n",
    "import os"
   ]
  },
  {
   "cell_type": "markdown",
   "metadata": {},
   "source": [
    "## variaveis iniciais"
   ]
  },
  {
   "cell_type": "markdown",
   "metadata": {},
   "source": [
    "## Variaveis aonde está localizado os arquivos originais  de imagens baixados"
   ]
  },
  {
   "cell_type": "code",
   "execution_count": 112,
   "metadata": {},
   "outputs": [],
   "source": [
    "def getTargetDiretorio(tipo):\n",
    "    retorno = \"\"\n",
    "    if(tipo ==\"MaquinaLocal\"):\n",
    "        retorno = r'D:/Repos/AprendendoPython/Pos_Graduacao_BigData/TCC/Projeto'\n",
    "\n",
    "    if(tipo ==\"GoogleDrive\"):\n",
    "       retorno=r'/content/drive/My Drive/TCC Pos Graduação big data/TCC/Projeto/'\n",
    "       \n",
    "    \n",
    "    return retorno"
   ]
  },
  {
   "cell_type": "code",
   "execution_count": 129,
   "metadata": {},
   "outputs": [
    {
     "output_type": "stream",
     "name": "stdout",
     "text": "D:/Repos/AprendendoPython/Pos_Graduacao_BigData/TCC/Projeto\nD:/Repos/AprendendoPython/Pos_Graduacao_BigData/TCC/Projeto/dataset\nD:/Repos/AprendendoPython/Pos_Graduacao_BigData/TCC/Projeto/dataset/covid\nD:/Repos/AprendendoPython/Pos_Graduacao_BigData/TCC/Projeto/dataset/normal\nD:/Repos/AprendendoPython/Pos_Graduacao_BigData/TCC/Projeto/dataset/pneumonia\n"
    }
   ],
   "source": [
    "dir_target_diretorio_raiz = getTargetDiretorio(\"MaquinaLocal\")\n",
    "dir_target_diretorio_dataset =r\"{0}/{1}\".format(dir_target_diretorio_raiz,'dataset')\n",
    "dir_target_diretorio_imagem_covid =r\"{0}/{1}\".format(dir_target_diretorio_dataset,'covid')\n",
    "dir_target_diretorio_pneumonia_normal =r\"{0}/{1}\".format(dir_target_diretorio_dataset,'normal')\n",
    "dir_target_diretorio_pneumonia_pneumonia =r\"{0}/{1}\".format(dir_target_diretorio_dataset,'pneumonia')\n",
    "\n",
    "print(dir_target_diretorio_raiz)\n",
    "print(dir_target_diretorio_dataset)\n",
    "print(dir_target_diretorio_imagem_covid)\n",
    "print(dir_target_diretorio_pneumonia_normal)\n",
    "print(dir_target_diretorio_pneumonia_pneumonia)\n",
    "\n",
    "\n"
   ]
  },
  {
   "cell_type": "markdown",
   "metadata": {},
   "source": [
    "## cria os diretorios se não existirem"
   ]
  },
  {
   "cell_type": "code",
   "execution_count": 130,
   "metadata": {},
   "outputs": [],
   "source": [
    "lista_diretorios_target=[]\n",
    "lista_diretorios_target.append(dir_target_diretorio_raiz)\n",
    "lista_diretorios_target.append(dir_target_diretorio_dataset),\n",
    "lista_diretorios_target.append(dir_target_diretorio_imagem_covid),\n",
    "lista_diretorios_target.append(dir_target_diretorio_pneumonia_normal),\n",
    "lista_diretorios_target.append(dir_target_diretorio_pneumonia_pneumonia)\n",
    "\n",
    "for item in lista_diretorios_target:\n",
    "    if not os.path.exists(item):\n",
    "        os.mkdir(item)\n",
    "    \n",
    "\n",
    "\n"
   ]
  },
  {
   "cell_type": "code",
   "execution_count": 139,
   "metadata": {},
   "outputs": [],
   "source": [
    "source_dir_kaggle_Covid =r'D:/Repos/datasetsGitHub/covid-chestxray-dataset/images'\n",
    "source_dir_kaggle_pneumonia =r'D:/Repos/pneumonia-chest_xray'\n",
    "\n",
    "dir_source_kaggle_pneumonia_normal = \"{0}/{1}/{2}\".format(source_dir_kaggle_pneumonia,\"test\",\"NORMAL\")  # 234 imagens\n",
    "dir_source_kaggle_pneumonia_pneumonia = \"{0}/{1}/{2}\".format(source_dir_kaggle_pneumonia,\"test\",\"PNEUMONIA\") # 390 imagens\n",
    "\n",
    "dir_source_kaggle_pneumonia_normal_validacao = \"{0}/{1}/{2}\".format(source_dir_kaggle_pneumonia,\"val\",\"NORMAL\")  # 234 imagens\n",
    "dir_source_kaggle_pneumonia_pneumonia_validacao = \"{0}/{1}/{2}\".format(source_dir_kaggle_pneumonia,\"val\",\"PNEUMONIA\") # 390 imagens"
   ]
  },
  {
   "cell_type": "markdown",
   "metadata": {},
   "source": [
    "## variaveis do diretorio dos conjuntos de dados originais\n",
    "\n"
   ]
  },
  {
   "cell_type": "markdown",
   "metadata": {},
   "source": [
    "## valida se o diretorio do git recebeu novas imagens\n"
   ]
  },
  {
   "cell_type": "code",
   "execution_count": 132,
   "metadata": {},
   "outputs": [],
   "source": [
    "source_dir_metadata_local = r'D:/Repos/datasetsGitHub/covid-chestxray-dataset/metadata.csv'\n",
    "\n",
    "metadata_web_git ='https://raw.githubusercontent.com/ieee8023/covid-chestxray-dataset/master/metadata.csv'\n",
    "\n"
   ]
  },
  {
   "cell_type": "code",
   "execution_count": 134,
   "metadata": {},
   "outputs": [
    {
     "output_type": "stream",
     "name": "stdout",
     "text": "556\n565\nforam removidas 9 imagens  no git web\n"
    }
   ],
   "source": [
    "df_git_covid_web  = pd.read_csv(metadata_web_git,error_bad_lines=False)\n",
    "\n",
    "df_git_covid_local = pd.read_csv(source_dir_metadata_local,error_bad_lines=False)\n",
    "\n",
    "\n",
    "print(len(df_git_covid_web))\n",
    "print(len(df_git_covid_local))\n",
    "\n",
    "if(len(df_git_covid_web) > len(df_git_covid_local)):\n",
    "    print('temos {0} imagens com covid a mais no git web'.format(len(df_git_covid_web) - len(df_git_covid_local)))\n",
    "elif(len(df_git_covid_web) < len(df_git_covid_local)):\n",
    "    print('foram removidas {0} imagens  no git web'.format(len(df_git_covid_local) - len(df_git_covid_web)))\n"
   ]
  },
  {
   "cell_type": "code",
   "execution_count": null,
   "metadata": {},
   "outputs": [],
   "source": []
  },
  {
   "cell_type": "code",
   "execution_count": 135,
   "metadata": {},
   "outputs": [],
   "source": [
    "df_covid  = pd.read_csv(source_dir_metadata_local)"
   ]
  },
  {
   "cell_type": "code",
   "execution_count": 136,
   "metadata": {},
   "outputs": [
    {
     "output_type": "execute_result",
     "data": {
      "text/plain": "   patientid offset sex   age   finding survival intubated intubation_present  \\\n0          2      0   M  65.0  COVID-19        Y       NaN                NaN   \n\n  went_icu in_icu  ... modality              date  \\\n0      NaN    NaN  ...    X-ray  January 22, 2020   \n\n                                      location  folder  \\\n0  Cho Ray Hospital, Ho Chi Minh City, Vietnam  images   \n\n                                            filename                   doi  \\\n0  auntminnie-a-2020_01_28_23_51_6665_2020_01_28_...  10.1056/nejmc2001272   \n\n                                                 url license  \\\n0  https://www.nejm.org/doi/full/10.1056/NEJMc200...     NaN   \n\n                                      clinical_notes other_notes  \n0  On January 22, 2020, a 65-year-old man with a ...         NaN  \n\n[1 rows x 28 columns]",
      "text/html": "<div>\n<style scoped>\n    .dataframe tbody tr th:only-of-type {\n        vertical-align: middle;\n    }\n\n    .dataframe tbody tr th {\n        vertical-align: top;\n    }\n\n    .dataframe thead th {\n        text-align: right;\n    }\n</style>\n<table border=\"1\" class=\"dataframe\">\n  <thead>\n    <tr style=\"text-align: right;\">\n      <th></th>\n      <th>patientid</th>\n      <th>offset</th>\n      <th>sex</th>\n      <th>age</th>\n      <th>finding</th>\n      <th>survival</th>\n      <th>intubated</th>\n      <th>intubation_present</th>\n      <th>went_icu</th>\n      <th>in_icu</th>\n      <th>...</th>\n      <th>modality</th>\n      <th>date</th>\n      <th>location</th>\n      <th>folder</th>\n      <th>filename</th>\n      <th>doi</th>\n      <th>url</th>\n      <th>license</th>\n      <th>clinical_notes</th>\n      <th>other_notes</th>\n    </tr>\n  </thead>\n  <tbody>\n    <tr>\n      <th>0</th>\n      <td>2</td>\n      <td>0</td>\n      <td>M</td>\n      <td>65.0</td>\n      <td>COVID-19</td>\n      <td>Y</td>\n      <td>NaN</td>\n      <td>NaN</td>\n      <td>NaN</td>\n      <td>NaN</td>\n      <td>...</td>\n      <td>X-ray</td>\n      <td>January 22, 2020</td>\n      <td>Cho Ray Hospital, Ho Chi Minh City, Vietnam</td>\n      <td>images</td>\n      <td>auntminnie-a-2020_01_28_23_51_6665_2020_01_28_...</td>\n      <td>10.1056/nejmc2001272</td>\n      <td>https://www.nejm.org/doi/full/10.1056/NEJMc200...</td>\n      <td>NaN</td>\n      <td>On January 22, 2020, a 65-year-old man with a ...</td>\n      <td>NaN</td>\n    </tr>\n  </tbody>\n</table>\n<p>1 rows × 28 columns</p>\n</div>"
     },
     "metadata": {},
     "execution_count": 136
    }
   ],
   "source": [
    "df_covid.head(1)"
   ]
  },
  {
   "cell_type": "markdown",
   "metadata": {},
   "source": [
    "## populando "
   ]
  },
  {
   "cell_type": "markdown",
   "metadata": {},
   "source": [
    "## Importando nossas imagens para o banco de dados SqlLite"
   ]
  },
  {
   "cell_type": "code",
   "execution_count": 138,
   "metadata": {},
   "outputs": [],
   "source": [
    "def clear_diretorio(diretorio):\n",
    "    for file in os.listdir(diretorio):\n",
    "        full_name =os.path.join(diretorio, file)\n",
    "        \n",
    "        if os.path.exists(full_name):\n",
    "            os.remove(full_name) \n",
    "        \n",
    "        \n",
    "\n",
    "def get_imagens_covid(dataframe):\n",
    "        lista =[]\n",
    "        for (i,row) in dataframe.iterrows():\n",
    "                imagemName=row[\"filename\"]\n",
    "                image_source  = \"{0}/{1}\".format(source_dir_kaggle_Covid,imagemName)\n",
    "                lista.append(image_source)\n",
    "\n",
    "        return lista\n",
    "\n",
    "\n",
    "def get_imagens_diretorio(diretorio):\n",
    "        imagePaths =[]\n",
    "        imagePaths = list(paths.list_images(diretorio))\n",
    "        \n",
    "        return imagePaths        \n",
    "\n",
    "\n",
    "    \n",
    "\n"
   ]
  },
  {
   "cell_type": "code",
   "execution_count": 141,
   "metadata": {
    "tags": [
     "outputPrepend"
    ]
   },
   "outputs": [
    {
     "output_type": "stream",
     "name": "stdout",
     "text": "565\n0\n"
    }
   ],
   "source": [
    "source_lista_imagens_com_Covid = []\n",
    "source_lista_imagens_pneumonia_normal = []\n",
    "source_lista_imagens_pneumonia_Pneumonia = []\n",
    "\n",
    "\n",
    "source_lista_imagens_com_Covid = get_imagens_covid(df_covid)\n",
    "\n",
    "dir_source_kaggle_pneumonia_normal\n",
    "# source_lista_imagens_pneumonia_normal = get_imagens_diretorio(dir_source_kaggle_pneumonia_normal)\n",
    "\n",
    "# source_lista_imagens_pneumonia_Pneumonia =get_imagens_diretorio(target_diretorio_pneumonia_pneumonia)\n",
    "\n",
    "print(len(lista_source_imagens_com_Covid))\n",
    "print(len(lista_source_pneumonia_normal))\n",
    "# print(len(lista_source_com_pneumonia_Pneumonia))\n",
    "\n",
    "\n"
   ]
  },
  {
   "cell_type": "markdown",
   "metadata": {},
   "source": [
    "## Limpar os diretorios target"
   ]
  },
  {
   "cell_type": "code",
   "execution_count": 105,
   "metadata": {
    "tags": [
     "outputPrepend"
    ]
   },
   "outputs": [],
   "source": [
    "clear_diretorio(target_diretorio_imagem_covid)     \n",
    "clear_diretorio(target_diretorio_pneumonia_normal)       \n",
    "clear_diretorio(target_diretorio_pneumonia_pneumonia)        \n",
    "            "
   ]
  },
  {
   "cell_type": "code",
   "execution_count": 110,
   "metadata": {},
   "outputs": [
    {
     "output_type": "stream",
     "name": "stdout",
     "text": "D:/Repos/datasetsGitHub/covid-chestxray-dataset/images/auntminnie-a-2020_01_28_23_51_6665_2020_01_28_Vietnam_coronavirus.jpeg\nD:/Repos/datasetsGitHub/covid-chestxray-dataset/images/auntminnie-b-2020_01_28_23_51_6665_2020_01_28_Vietnam_coronavirus.jpeg\nD:/Repos/datasetsGitHub/covid-chestxray-dataset/images/auntminnie-c-2020_01_28_23_51_6665_2020_01_28_Vietnam_coronavirus.jpeg\nD:/Repos/datasetsGitHub/covid-chestxray-dataset/images/auntminnie-d-2020_01_28_23_51_6665_2020_01_28_Vietnam_coronavirus.jpeg\nD:/Repos/datasetsGitHub/covid-chestxray-dataset/images/nejmc2001573_f1a.jpeg\n"
    }
   ],
   "source": [
    "for imagem in lista_target_imagens_com_Covid[0:5]:\n",
    "    print(imagem)"
   ]
  },
  {
   "cell_type": "code",
   "execution_count": null,
   "metadata": {},
   "outputs": [],
   "source": [
    "# image_copy_target= \"{0}/{1}\".format(diretorio_imagem_covid,file_name)\n",
    "        # shutil.copy2(image_path,image_copy_target)"
   ]
  },
  {
   "cell_type": "markdown",
   "metadata": {},
   "source": [
    "## listas auxiliares\n"
   ]
  },
  {
   "cell_type": "code",
   "execution_count": 14,
   "metadata": {},
   "outputs": [],
   "source": []
  }
 ],
 "metadata": {
  "language_info": {
   "codemirror_mode": {
    "name": "ipython",
    "version": 3
   },
   "file_extension": ".py",
   "mimetype": "text/x-python",
   "name": "python",
   "nbconvert_exporter": "python",
   "pygments_lexer": "ipython3",
   "version": "3.7.7-final"
  },
  "orig_nbformat": 2,
  "kernelspec": {
   "name": "python37764bitdeeplearningconda70b0a9c2c78b49cfaeeb6e88dd7dfba8",
   "display_name": "Python 3.7.7 64-bit ('Deep Learning': conda)"
  }
 },
 "nbformat": 4,
 "nbformat_minor": 2
}