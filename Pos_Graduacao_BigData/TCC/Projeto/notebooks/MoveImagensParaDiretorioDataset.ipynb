{
 "cells": [
  {
   "cell_type": "markdown",
   "metadata": {},
   "source": [
    "# O intuito desse notebook e recuperar todas as imagens disponiveis  sobre pneumonia e covid e disponibilizar em um banco de dados\n"
   ]
  },
  {
   "cell_type": "markdown",
   "metadata": {},
   "source": [
    "## bibliotecas necessárias"
   ]
  },
  {
   "cell_type": "code",
   "execution_count": 1,
   "metadata": {},
   "outputs": [
    {
     "output_type": "stream",
     "name": "stdout",
     "text": "Requirement already satisfied: imutils in c:\\users\\wesley.neves\\anaconda3\\envs\\deep learning\\lib\\site-packages (0.5.3)\n"
    }
   ],
   "source": [
    "!pip install imutils"
   ]
  },
  {
   "cell_type": "code",
   "execution_count": 1,
   "metadata": {},
   "outputs": [],
   "source": [
    "from imutils import paths\n",
    "from PIL import Image\n",
    "import pydicom as dicom\n",
    "import pandas as pd\n",
    "import shutil\n",
    "import cv2 \n",
    "import os"
   ]
  },
  {
   "cell_type": "markdown",
   "metadata": {},
   "source": [
    "##  diretorios target e source"
   ]
  },
  {
   "cell_type": "code",
   "execution_count": 2,
   "metadata": {},
   "outputs": [],
   "source": [
    "def getTargetDiretorio(tipo):\n",
    "    retorno = \"\"\n",
    "    if(tipo ==\"MaquinaLocal\"):\n",
    "        retorno = r'D:/Repos/AprendendoPython/Pos_Graduacao_BigData/TCC/Projeto'\n",
    "\n",
    "    if(tipo ==\"GoogleDrive\"):\n",
    "       retorno=r'/content/drive/My Drive/TCC Pos Graduação big data/TCC/Projeto/'\n",
    "       \n",
    "    \n",
    "    return retorno"
   ]
  },
  {
   "cell_type": "code",
   "execution_count": 3,
   "metadata": {
    "tags": []
   },
   "outputs": [
    {
     "output_type": "stream",
     "name": "stdout",
     "text": "source\nD:/Repos/datasetsGitHub/covid-chestxray-dataset\nD:/Repos/datasetsGitHub/Figure1-COVID-chestxray-dataset\nD:/Repos/datasetsGitHub/Actualmed-COVID-chestxray-dataset\nD:/Repos/datasetsGitHub/COVID-19 Radiography Database\ntarget\nD:/Repos/AprendendoPython/Pos_Graduacao_BigData/TCC/Projeto\nD:/Repos/AprendendoPython/Pos_Graduacao_BigData/TCC/Projeto/dataset\nD:/Repos/AprendendoPython/Pos_Graduacao_BigData/TCC/Projeto/dataset/covid\nD:/Repos/AprendendoPython/Pos_Graduacao_BigData/TCC/Projeto/dataset/normal\nD:/Repos/AprendendoPython/Pos_Graduacao_BigData/TCC/Projeto/dataset/pneumonia\nD:/Repos/AprendendoPython/Pos_Graduacao_BigData/TCC/Projeto/dataset/validacao\n"
    }
   ],
   "source": [
    "dir_target_diretorio_raiz = getTargetDiretorio(\"MaquinaLocal\")\n",
    "dir_target_diretorio_dataset =r\"{0}/{1}\".format(dir_target_diretorio_raiz,'dataset')\n",
    "dir_target_diretorio_imagem_covid =r\"{0}/{1}\".format(dir_target_diretorio_dataset,'covid')\n",
    "dir_target_diretorio_pneumonia_normal =r\"{0}/{1}\".format(dir_target_diretorio_dataset,'normal')\n",
    "dir_target_diretorio_pneumonia_pneumonia =r\"{0}/{1}\".format(dir_target_diretorio_dataset,'pneumonia')\n",
    "dir_target_diretorio_validacao =r\"{0}/{1}\".format(dir_target_diretorio_dataset,'validacao')\n",
    "\n",
    "\n",
    "\n",
    "dir_source_covid_cohen =r'D:/Repos/datasetsGitHub/covid-chestxray-dataset'\n",
    "dir_source_covid_figure1 =r'D:/Repos/datasetsGitHub/Figure1-COVID-chestxray-dataset'\n",
    "dir_source_covid_Actualmed =r'D:/Repos/datasetsGitHub/Actualmed-COVID-chestxray-dataset'\n",
    "dir_source_RadiographyDatabase =r'D:/Repos/datasetsGitHub/COVID-19 Radiography Database'\n",
    "\n",
    "dir_source_rsna_pneumonia =r'D:/Repos/rsna-pneumonia-detection-challenge'\n",
    "\n",
    "\n",
    "print(\"source\")\n",
    "print(dir_source_covid_cohen)\n",
    "print(dir_source_covid_figure1)\n",
    "print(dir_source_covid_Actualmed)\n",
    "print(dir_source_RadiographyDatabase)\n",
    "\n",
    "print(\"target\")\n",
    "print(dir_target_diretorio_raiz)\n",
    "print(dir_target_diretorio_dataset)\n",
    "print(dir_target_diretorio_imagem_covid)\n",
    "print(dir_target_diretorio_pneumonia_normal)\n",
    "print(dir_target_diretorio_pneumonia_pneumonia)\n",
    "print(dir_target_diretorio_validacao)\n",
    "\n",
    "\n",
    "\n",
    "\n",
    "\n"
   ]
  },
  {
   "cell_type": "code",
   "execution_count": 4,
   "metadata": {},
   "outputs": [],
   "source": [
    "lista_diretorios_target=[]\n",
    "lista_diretorios_target.append(dir_target_diretorio_raiz)\n",
    "lista_diretorios_target.append(dir_target_diretorio_dataset),\n",
    "lista_diretorios_target.append(dir_target_diretorio_imagem_covid),\n",
    "lista_diretorios_target.append(dir_target_diretorio_pneumonia_normal),\n",
    "lista_diretorios_target.append(dir_target_diretorio_pneumonia_pneumonia)\n",
    "lista_diretorios_target.append(dir_target_diretorio_validacao)\n",
    "lista_diretorios_target.append(r\"{0}/{1}\".format(dir_target_diretorio_validacao,\"covid\"))\n",
    "lista_diretorios_target.append(r\"{0}/{1}\".format(dir_target_diretorio_validacao,\"normal\"))\n",
    "lista_diretorios_target.append(r\"{0}/{1}\".format(dir_target_diretorio_validacao,\"pneumonia\"))\n",
    "\n",
    "for item in lista_diretorios_target:\n",
    "    if not os.path.exists(item):\n",
    "        os.mkdir(item)\n",
    "    \n",
    "\n",
    "\n"
   ]
  },
  {
   "cell_type": "markdown",
   "metadata": {},
   "source": [
    "## metodos auxiliares"
   ]
  },
  {
   "cell_type": "code",
   "execution_count": 5,
   "metadata": {},
   "outputs": [],
   "source": [
    "def clear_diretorio(diretorio):\n",
    "    for file in os.listdir(diretorio):\n",
    "        full_name =os.path.join(diretorio, file)\n",
    "        \n",
    "        if os.path.exists(full_name):\n",
    "            os.remove(full_name) \n",
    "        \n",
    "        \n",
    "\n",
    "def move_imagens_from_source_to_target(source_lista,dir_target):\n",
    "    for source_path in source_lista:\n",
    "        target_imagem =\"\"\n",
    "        imagemName =source_path.split('/')[-1]\n",
    "        if(imagemName.count(\".dcm\") > 0):\n",
    "            target_imagem =\"{0}/{1}\".format(dir_target,imagemName.replace(\".dcm\",\".jpg\"))\n",
    "            if not os.path.exists(target_imagem):\n",
    "                ds = dicom.dcmread(source_path)\n",
    "                pixel_array_numpy = ds.pixel_array\n",
    "                cv2.imwrite(target_imagem, pixel_array_numpy)\n",
    "            \n",
    "        else:\n",
    "            target_imagem =\"{0}/{1}\".format(dir_target,imagemName)\n",
    "            if not os.path.exists(target_imagem):\n",
    "                shutil.copy2(source_path,target_imagem)\n",
    "                \n",
    "\n",
    "\n"
   ]
  },
  {
   "cell_type": "markdown",
   "metadata": {},
   "source": [
    "## Leitura dos Datasets"
   ]
  },
  {
   "cell_type": "code",
   "execution_count": 6,
   "metadata": {},
   "outputs": [],
   "source": [
    "\n",
    "## repositorios locais\n",
    "source_dir_metadata_local_cohen  = r\"{0}/{1}\".format(dir_source_covid_cohen,'metadata.csv')\n",
    "dir_source_imagens_Covid_cohen = r\"{0}/{1}\".format(dir_source_covid_cohen,'images')\n",
    "\n",
    "source_dir_metadata_local_figure_1  = r\"{0}/{1}\".format(dir_source_covid_figure1,'metadata.csv')\n",
    "source_dir_imagens_figure_1  = r\"{0}/{1}\".format(dir_source_covid_figure1,'images')\n",
    "\n",
    "source_dir_metadata_local_Actualmed  = r\"{0}/{1}\".format(dir_source_covid_Actualmed,'metadata.csv')\n",
    "source_dir_imagens_Actualmed = r\"{0}/{1}\".format(dir_source_covid_Actualmed,'images')\n",
    "\n",
    "\n",
    "\n",
    "## diretorios pra pneumonia\n",
    "\n",
    "dir_source_pneumonia_csv_train_detailed = r\"{0}/{1}\".format(dir_source_rsna_pneumonia,'stage_2_detailed_class_info.csv') \n",
    "dir_source_pneumonia_detailed_class_imagens =r\"{0}/{1}\".format(dir_source_rsna_pneumonia,'stage_2_train_images')\n",
    "\n",
    "\n"
   ]
  },
  {
   "cell_type": "markdown",
   "metadata": {},
   "source": []
  },
  {
   "cell_type": "markdown",
   "metadata": {},
   "source": [
    "## limpa os diretorios destino das imagens"
   ]
  },
  {
   "cell_type": "code",
   "execution_count": 28,
   "metadata": {},
   "outputs": [],
   "source": [
    "\n",
    "\n",
    "# if(lista_diretorios_target.count(r'D:/Repos/AprendendoPython/Pos_Graduacao_BigData/TCC/Projeto') > 0):\n",
    "#     lista_diretorios_target.remove(r'D:/Repos/AprendendoPython/Pos_Graduacao_BigData/TCC/Projeto')\n",
    "\n",
    "# if(lista_diretorios_target.count(r'D:/Repos/AprendendoPython/Pos_Graduacao_BigData/TCC/Projeto/dataset') > 0):\n",
    "#     lista_diretorios_target.remove(r'D:/Repos/AprendendoPython/Pos_Graduacao_BigData/TCC/Projeto/dataset')\n",
    "\n",
    "# if(lista_diretorios_target.count(r'D:/Repos/AprendendoPython/Pos_Graduacao_BigData/TCC/Projeto/dataset/validacao') > 0):\n",
    "#     lista_diretorios_target.remove(r'D:/Repos/AprendendoPython/Pos_Graduacao_BigData/TCC/Projeto/dataset/validacao')\n",
    "\n",
    "\n",
    "\n",
    "# for diretorio in lista_diretorios_target:\n",
    "#     clear_diretorio(diretorio)     \n",
    "    \n",
    " \n",
    "   "
   ]
  },
  {
   "cell_type": "code",
   "execution_count": 7,
   "metadata": {},
   "outputs": [],
   "source": [
    "map_prognostico  =  { 'Lung Opacity': 'pneumonia',\n",
    "    'Normal' :'normal',\n",
    "    'COVID-19':'covid-19',\n",
    "    'SARS': 'pneumonia',\n",
    "    'MERS': 'pneumonia',\n",
    "    'Streptococcus': 'pneumonia',\n",
    "    'Klebsiella': 'pneumonia',\n",
    "    'Chlamydophila': 'pneumonia',\n",
    "    'Legionella': 'pneumonia',\n",
    "    'Normal': 'normal',\n",
    "    'Pneumonia' : 'pneumonia'\n",
    "\n",
    "}"
   ]
  },
  {
   "cell_type": "code",
   "execution_count": 8,
   "metadata": {
    "tags": []
   },
   "outputs": [
    {
     "output_type": "stream",
     "name": "stdout",
     "text": "Quantidade registros figure_1:(55, 12)\nQuantidade registros cohen:(682, 29)\nQuantidade registros Actualmed:(238, 13)\nQuantidade registros RadiographyDatabase Covid:(219, 4)\nQuantidade registros RadiographyDatabase Normal:(1341, 4)\nQuantidade registros RadiographyDatabase Pneunonia:(1345, 4)\nQuantidade registros Actualmed:(238, 13)\nQuantidade registros Rsna:(30227, 2)\n"
    }
   ],
   "source": [
    "\n",
    "\n",
    "# df_local_cohen = pd.read_csv(source_dir_metadata_local_cohen,error_bad_lines=False)\n",
    "df_local_figure_1 = pd.read_csv(source_dir_metadata_local_figure_1,error_bad_lines=False,encoding='ISO-8859-1')\n",
    "df_local_cohen = pd.read_csv(source_dir_metadata_local_cohen,error_bad_lines=False,encoding='ISO-8859-1')\n",
    "df_local_Actualmed = pd.read_csv(source_dir_metadata_local_Actualmed,error_bad_lines=False,encoding='ISO-8859-1')\n",
    "\n",
    "df_local_RadiographyDatabase_Covid = pd.read_excel(r\"{0}/{1}\".format(dir_source_RadiographyDatabase,'COVID-19.metadata.xlsx'),error_bad_lines=False, encoding='ISO-8859-1')\n",
    "\n",
    "df_local_RadiographyDatabase_Normal = pd.read_excel(r\"{0}/{1}\".format(dir_source_RadiographyDatabase,'NORMAL.metadata.xlsx'),error_bad_lines=False, encoding='ISO-8859-1')\n",
    "\n",
    "df_local_RadiographyDatabase_Pneumonia = pd.read_excel(r\"{0}/{1}\".format(dir_source_RadiographyDatabase,'Viral Pneumonia.matadata.xlsx'),error_bad_lines=False, encoding='ISO-8859-1')\n",
    "\n",
    "\n",
    "source_dir_metadata_RadiographyDatabase_Imagens_Covid = r\"{0}/{1}\".format(dir_source_RadiographyDatabase,'COVID-19')\n",
    "source_dir_metadata_RadiographyDatabase_Imagens_Normal = r\"{0}/{1}\".format(dir_source_RadiographyDatabase,'NORMAL')\n",
    "source_dir_metadata_RadiographyDatabase_Imagens_Pneumonia= r\"{0}/{1}\".format(dir_source_RadiographyDatabase,'Viral Pneumonia')\n",
    "\n",
    "\n",
    "\n",
    "df_rsna = pd.read_csv(dir_source_pneumonia_csv_train_detailed,error_bad_lines=False,encoding='ISO-8859-1')\n",
    "\n",
    "print(\"Quantidade registros figure_1:{0}\".format(df_local_figure_1.shape))\n",
    "print(\"Quantidade registros cohen:{0}\".format(df_local_cohen.shape))\n",
    "print(\"Quantidade registros Actualmed:{0}\".format(df_local_Actualmed.shape))\n",
    "print(\"Quantidade registros RadiographyDatabase Covid:{0}\".format(df_local_RadiographyDatabase_Covid.shape))\n",
    "print(\"Quantidade registros RadiographyDatabase Normal:{0}\".format(df_local_RadiographyDatabase_Normal.shape))\n",
    "print(\"Quantidade registros RadiographyDatabase Pneunonia:{0}\".format(df_local_RadiographyDatabase_Pneumonia.shape))\n",
    "print(\"Quantidade registros Actualmed:{0}\".format(df_local_Actualmed.shape))\n",
    "print(\"Quantidade registros Rsna:{0}\".format(df_rsna.shape))"
   ]
  },
  {
   "cell_type": "markdown",
   "metadata": {},
   "source": [
    "## Valida a quantidade de registros locais e web\n"
   ]
  },
  {
   "cell_type": "code",
   "execution_count": 9,
   "metadata": {},
   "outputs": [],
   "source": [
    "metadata_web_git_cohen ='https://raw.githubusercontent.com/ieee8023/covid-chestxray-dataset/master/metadata.csv'\n",
    "\n",
    "metadata_web_git_figure_1  ='https://raw.githubusercontent.com/agchung/Figure1-COVID-chestxray-dataset/master/metadata.csv'\n",
    "\n",
    "metadata_web_git_Actualmed  ='https://raw.githubusercontent.com/agchung/Actualmed-COVID-chestxray-dataset/master/metadata.csv'"
   ]
  },
  {
   "cell_type": "code",
   "execution_count": 10,
   "metadata": {
    "tags": []
   },
   "outputs": [
    {
     "output_type": "stream",
     "name": "stdout",
     "text": "Foram removidas 9 : imagens no repositorio web Chohen\nForam adicionadas 0 : imagens no repositorio web Figure 1\nForam adicionadas 0 : imagens no repositorio web Actualmed\n"
    }
   ],
   "source": [
    "df_web_cohen = pd.read_csv(metadata_web_git_cohen,error_bad_lines=False,encoding='ISO-8859-1')\n",
    "df_web_figure_1 = pd.read_csv(metadata_web_git_figure_1,error_bad_lines=False,encoding='ISO-8859-1')\n",
    "df_web_Actualmed = pd.read_csv(metadata_web_git_Actualmed,error_bad_lines=False,encoding='ISO-8859-1')\n",
    "\n",
    "qtd_diferenca_cohen = len(df_web_cohen) - len(df_local_cohen)\n",
    "qtd_diferenca_figure_1 = len(df_web_figure_1) - len(df_local_figure_1)\n",
    "qtd_diferenca_Actualmed = len(df_web_Actualmed) - len(df_local_Actualmed)\n",
    "\n",
    "if(qtd_diferenca_cohen < 0):\n",
    "    print(\"Foram removidas {0} : imagens no repositorio web Chohen\".format(qtd_diferenca_cohen.__abs__()))\n",
    "else:\n",
    "    print(\"Foram adicionadas {0} : imagens no repositorio web Chohen\".format(qtd_diferenca_cohen.__abs__()))\n",
    "\n",
    "\n",
    "if(qtd_diferenca_figure_1 < 0):\n",
    "    print(\"Foram removidas {0} : imagens no repositorio web Figure 1\".format(qtd_diferenca_figure_1.__abs__()))\n",
    "else:\n",
    "    print(\"Foram adicionadas {0} : imagens no repositorio web Figure 1\".format(qtd_diferenca_figure_1.__abs__()))    \n",
    "\n",
    "if(qtd_diferenca_Actualmed < 0):\n",
    "    print(\"Foram removidas {0} : imagens no repositorio web Actualmed\".format(qtd_diferenca_Actualmed.__abs__()))\n",
    "else:\n",
    "    print(\"Foram adicionadas {0} : imagens no repositorio web Actualmed\".format(qtd_diferenca_Actualmed.__abs__()))    \n",
    "        \n",
    "\n",
    "\n",
    "\n",
    "\n",
    "\n"
   ]
  },
  {
   "cell_type": "markdown",
   "metadata": {},
   "source": [
    "## tranferencia dos arquivos de Covid 19"
   ]
  },
  {
   "cell_type": "code",
   "execution_count": 11,
   "metadata": {},
   "outputs": [
    {
     "output_type": "execute_result",
     "data": {
      "text/plain": "covid-19     451\npneumonia     63\nName: prognostico, dtype: int64"
     },
     "metadata": {},
     "execution_count": 11
    }
   ],
   "source": [
    "df_local_cohen['prognostico'] = df_local_cohen['finding'].map(map_prognostico)\n",
    "\n",
    "\n",
    "df_local_cohen['prognostico'].value_counts()\n",
    "\n",
    "# df_covid =  df_metadata.query('indicadorPrognostico == 1 and posicao_imagem ==\"PA\" and tipoExame ==\"X-ray\"')"
   ]
  },
  {
   "cell_type": "code",
   "execution_count": 13,
   "metadata": {},
   "outputs": [
    {
     "output_type": "execute_result",
     "data": {
      "text/plain": "covid-19     35\npneumonia     2\nName: prognostico, dtype: int64"
     },
     "metadata": {},
     "execution_count": 13
    }
   ],
   "source": [
    "df_local_figure_1['prognostico'] = df_local_figure_1['finding'].map(map_prognostico)\n",
    "\n",
    "\n",
    "df_local_figure_1['prognostico'].value_counts()"
   ]
  },
  {
   "cell_type": "code",
   "execution_count": 14,
   "metadata": {},
   "outputs": [
    {
     "output_type": "execute_result",
     "data": {
      "text/plain": "covid-19    58\nName: prognostico, dtype: int64"
     },
     "metadata": {},
     "execution_count": 14
    }
   ],
   "source": [
    "df_local_Actualmed['prognostico'] = df_local_Actualmed['finding'].map(map_prognostico)\n",
    "\n",
    "df_local_Actualmed['prognostico'].value_counts()\n",
    "\n"
   ]
  },
  {
   "cell_type": "code",
   "execution_count": 15,
   "metadata": {},
   "outputs": [
    {
     "output_type": "execute_result",
     "data": {
      "text/plain": "covid-19    219\nName: prognostico, dtype: int64"
     },
     "metadata": {},
     "execution_count": 15
    }
   ],
   "source": [
    "\n",
    "df_local_RadiographyDatabase_Covid['prognostico'] =\"covid-19\"\n",
    "\n",
    "\n",
    "df_local_RadiographyDatabase_Covid['prognostico'].value_counts()\n",
    "\n"
   ]
  },
  {
   "cell_type": "code",
   "execution_count": 16,
   "metadata": {},
   "outputs": [
    {
     "output_type": "execute_result",
     "data": {
      "text/plain": "covid-19    58\nName: prognostico, dtype: int64"
     },
     "metadata": {},
     "execution_count": 16
    }
   ],
   "source": [
    "df_local_Actualmed['prognostico'] = df_local_Actualmed['finding'].map(map_prognostico)\n",
    "\n",
    "\n",
    "df_local_Actualmed['prognostico'].value_counts()"
   ]
  },
  {
   "cell_type": "code",
   "execution_count": 17,
   "metadata": {},
   "outputs": [
    {
     "output_type": "execute_result",
     "data": {
      "text/plain": "pneumonia    9555\nnormal       8851\nName: prognostico, dtype: int64"
     },
     "metadata": {},
     "execution_count": 17
    }
   ],
   "source": [
    "\n",
    "\n",
    "df_rsna['prognostico'] = df_rsna['class'].map(map_prognostico)\n",
    "\n",
    "\n",
    "df_rsna['prognostico'].value_counts()"
   ]
  },
  {
   "cell_type": "code",
   "execution_count": 18,
   "metadata": {},
   "outputs": [],
   "source": [
    "lista_imagens_covid =[]\n",
    "lista_imagens_pneumonia =[]\n",
    "lista_imagens_normal =[]\n",
    "\n",
    "quantidade_registros = {'normal': 0, 'pneumonia': 0, 'covid-19': 0}"
   ]
  },
  {
   "cell_type": "markdown",
   "metadata": {},
   "source": [
    "# diretorio dos dados Covid"
   ]
  },
  {
   "cell_type": "markdown",
   "metadata": {},
   "source": [
    "## Josephpcohen https://josephpcohen.com/w/public-covid19-dataset/"
   ]
  },
  {
   "cell_type": "code",
   "execution_count": 19,
   "metadata": {
    "tags": []
   },
   "outputs": [
    {
     "output_type": "stream",
     "name": "stdout",
     "text": "{'normal': 0, 'pneumonia': 63, 'covid-19': 430}\n"
    }
   ],
   "source": [
    "for row in df_local_cohen[[\"prognostico\",\"filename\"]].iterrows():\n",
    "    imagem_name = row[1].filename\n",
    "    prognostico = row[1].prognostico\n",
    "    source_imagem = \"{0}/{1}\".format(dir_source_imagens_Covid_cohen,imagem_name)\n",
    "    if os.path.exists(source_imagem):\n",
    "        if(prognostico ==\"covid-19\"):\n",
    "            lista_imagens_covid.append(source_imagem)\n",
    "            quantidade_registros[prognostico] +=1\n",
    "        elif (prognostico ==\"pneumonia\"):\n",
    "            lista_imagens_pneumonia.append(source_imagem)\n",
    "            quantidade_registros[prognostico] +=1\n",
    "\n",
    "\n",
    "print(quantidade_registros)\n",
    "            \n",
    "            "
   ]
  },
  {
   "cell_type": "markdown",
   "metadata": {},
   "source": []
  },
  {
   "cell_type": "code",
   "execution_count": 20,
   "metadata": {
    "tags": []
   },
   "outputs": [
    {
     "output_type": "stream",
     "name": "stdout",
     "text": "{'normal': 0, 'pneumonia': 65, 'covid-19': 460}\n"
    }
   ],
   "source": [
    "for row in df_local_figure_1[[\"prognostico\",\"patientid\"]].iterrows():\n",
    "    imagem_name = row[1].patientid\n",
    "    prognostico = row[1].prognostico\n",
    "    source_imagem = \"{0}/{1}.jpg\".format(source_dir_imagens_figure_1,imagem_name)\n",
    "    if os.path.exists(source_imagem):\n",
    "        if(prognostico ==\"covid-19\"):\n",
    "            lista_imagens_covid.append(source_imagem)\n",
    "            quantidade_registros[prognostico] +=1\n",
    "        elif (prognostico ==\"pneumonia\"):\n",
    "            lista_imagens_pneumonia.append(source_imagem)\n",
    "            quantidade_registros[prognostico] +=1\n",
    "\n",
    "\n",
    "print(quantidade_registros)"
   ]
  },
  {
   "cell_type": "code",
   "execution_count": 21,
   "metadata": {
    "tags": []
   },
   "outputs": [
    {
     "output_type": "stream",
     "name": "stdout",
     "text": "{'normal': 0, 'pneumonia': 65, 'covid-19': 518}\n"
    }
   ],
   "source": [
    "for row in df_local_Actualmed[[\"prognostico\",\"imagename\"]].iterrows():\n",
    "    imagem_name = row[1].imagename\n",
    "    prognostico = row[1].prognostico\n",
    "    source_imagem = \"{0}/{1}\".format(source_dir_imagens_Actualmed,imagem_name)\n",
    "    if os.path.exists(source_imagem):\n",
    "        if(prognostico ==\"covid-19\"):\n",
    "            lista_imagens_covid.append(source_imagem)\n",
    "            quantidade_registros[prognostico] +=1\n",
    "        elif (prognostico ==\"pneumonia\"):\n",
    "            lista_imagens_pneumonia.append(source_imagem)\n",
    "            quantidade_registros[prognostico] +=1\n",
    "\n",
    "\n",
    "print(quantidade_registros)"
   ]
  },
  {
   "cell_type": "code",
   "execution_count": 22,
   "metadata": {
    "tags": []
   },
   "outputs": [
    {
     "output_type": "stream",
     "name": "stdout",
     "text": "{'normal': 0, 'pneumonia': 65, 'covid-19': 604}\n"
    }
   ],
   "source": [
    "for row in df_local_RadiographyDatabase_Covid[[\"prognostico\",\"FILE NAME\",\"FORMAT\"]].iterrows():\n",
    "    imagem_name =\"{0}.{1}\".format(row[1][\"FILE NAME\"],str(row[1][\"FORMAT\"]).lower())\n",
    "    prognostico = row[1].prognostico\n",
    "    source_imagem = \"{0}/{1}\".format(source_dir_metadata_RadiographyDatabase_Imagens_Covid,imagem_name)\n",
    "    if os.path.exists(source_imagem):\n",
    "        if(prognostico ==\"covid-19\"):\n",
    "            lista_imagens_covid.append(source_imagem)\n",
    "            quantidade_registros[prognostico] +=1\n",
    "        elif (prognostico ==\"pneumonia\"):\n",
    "            lista_imagens_pneumonia.append(source_imagem)\n",
    "            quantidade_registros[prognostico] +=1\n",
    "\n",
    "print(quantidade_registros)"
   ]
  },
  {
   "cell_type": "code",
   "execution_count": 23,
   "metadata": {},
   "outputs": [],
   "source": [
    "df_rsna = df_rsna[(df_rsna.prognostico == \"normal\") | (df_rsna.prognostico == \"pneumonia\")]\n",
    "\n"
   ]
  },
  {
   "cell_type": "code",
   "execution_count": 24,
   "metadata": {
    "tags": []
   },
   "outputs": [
    {
     "output_type": "stream",
     "name": "stdout",
     "text": "{'normal': 8851, 'pneumonia': 9620, 'covid-19': 604}\n"
    }
   ],
   "source": [
    "for row in df_rsna[[\"patientId\",\"prognostico\"]].iterrows():\n",
    "    imagem_name = row[1].patientId\n",
    "    prognostico = row[1].prognostico\n",
    "    source_imagem = \"{0}/{1}.dcm\".format(dir_source_pneumonia_detailed_class_imagens,imagem_name)\n",
    "    if os.path.exists(source_imagem):\n",
    "        dir_target =\"\"\n",
    "        if(prognostico ==\"normal\"):\n",
    "            lista_imagens_normal.append(source_imagem)\n",
    "            quantidade_registros[prognostico] +=1\n",
    "\n",
    "        elif (prognostico ==\"pneumonia\"):\n",
    "            lista_imagens_pneumonia.append(source_imagem)\n",
    "            quantidade_registros[prognostico] +=1\n",
    "\n",
    "         \n",
    "\n",
    "print(quantidade_registros)"
   ]
  },
  {
   "cell_type": "markdown",
   "metadata": {},
   "source": [
    "## recupera 50 imagens para cada tipo de classe"
   ]
  },
  {
   "cell_type": "code",
   "execution_count": 26,
   "metadata": {
    "tags": []
   },
   "outputs": [
    {
     "output_type": "stream",
     "name": "stdout",
     "text": "quantidade imagens validação covid :50\nquantidade imagens validação pneumonia :50\nquantidade imagens validação normal :50\n"
    }
   ],
   "source": [
    "import random as rn\n",
    "\n",
    "rn.seed(1234)\n",
    "# print(dir_target_diretorio_imagem_covid)\n",
    "quantidadeImagens = 50\n",
    "lista_imagens_validacao_covid = []\n",
    "lista_imagens_validacao_pneumonia = []\n",
    "lista_imagens_validacao_normal = []\n",
    "\n",
    "while (len(lista_imagens_validacao_covid) <50 and len(lista_imagens_validacao_pneumonia) <=50 and  len(lista_imagens_validacao_normal) <50):\n",
    "    if(len(lista_imagens_validacao_covid) <=50):\n",
    "        imagen_covid = rn.choice(lista_imagens_covid)\n",
    "        if(lista_imagens_validacao_covid.count(imagen_covid) ==0):\n",
    "            lista_imagens_validacao_covid.append(imagen_covid)\n",
    "            if(lista_imagens_covid.count(imagen_covid) > 0):\n",
    "                lista_imagens_covid.remove(imagen_covid)\n",
    "            \n",
    "\n",
    "\n",
    "    if(len(lista_imagens_validacao_pneumonia) <=50):\n",
    "        imagen_pneumonia = rn.choice(lista_imagens_pneumonia)\n",
    "        if(lista_imagens_validacao_pneumonia.count(imagen_pneumonia) ==0):\n",
    "            lista_imagens_validacao_pneumonia.append(imagen_pneumonia)\n",
    "            \n",
    "\n",
    "    if(len(lista_imagens_validacao_normal) <=50):\n",
    "        imagen_normal = rn.choice(lista_imagens_normal)\n",
    "        if(lista_imagens_validacao_normal.count(imagen_normal) ==0):\n",
    "            lista_imagens_validacao_normal.append(imagen_normal)\n",
    "            \n",
    "    \n",
    "print(\"quantidade imagens validação covid :{0}\".format(len(lista_imagens_validacao_covid)))\n",
    "print(\"quantidade imagens validação pneumonia :{0}\".format(len(lista_imagens_validacao_pneumonia)))\n",
    "print(\"quantidade imagens validação normal :{0}\".format(len(lista_imagens_validacao_normal)))\n",
    "\n",
    "\n",
    "   \n",
    "       \n",
    "       "
   ]
  },
  {
   "cell_type": "markdown",
   "metadata": {},
   "source": [
    "# Executa a tranferencias das imagens entre os diretorios"
   ]
  },
  {
   "cell_type": "code",
   "execution_count": 54,
   "metadata": {},
   "outputs": [],
   "source": [
    "\n",
    "## move as imagens de covid\n",
    "move_imagens_from_source_to_target(lista_imagens_covid,dir_target_diretorio_imagem_covid)\n",
    "# ## move as imagens normais\n",
    "# move_imagens_from_source_to_target(lista_imagens_normal,dir_target_diretorio_pneumonia_normal)\n",
    "# ## move as imagens de pneumonia\n",
    "# move_imagens_from_source_to_target(lista_imagens_pneumonia,dir_target_diretorio_pneumonia_pneumonia)\n",
    "\n",
    "# ## move as imagens de validação\n",
    "# move_imagens_from_source_to_target(lista_imagens_validacao_covid,\"{0}/{1}\".format(dir_target_diretorio_validacao,\"covid\"))\n",
    "# move_imagens_from_source_to_target(lista_imagens_validacao_normal,\"{0}/{1}\".format(dir_target_diretorio_validacao,\"normal\"))\n",
    "# move_imagens_from_source_to_target(lista_imagens_validacao_pneumonia,\"{0}/{1}\".format(dir_target_diretorio_validacao,\"pneumonia\"))\n",
    " \n"
   ]
  }
 ],
 "metadata": {
  "language_info": {
   "codemirror_mode": {
    "name": "ipython",
    "version": 3
   },
   "file_extension": ".py",
   "mimetype": "text/x-python",
   "name": "python",
   "nbconvert_exporter": "python",
   "pygments_lexer": "ipython3",
   "version": "3.7.7-final"
  },
  "orig_nbformat": 2,
  "kernelspec": {
   "name": "python37764bitdeeplearningconda70b0a9c2c78b49cfaeeb6e88dd7dfba8",
   "display_name": "Python 3.7.7 64-bit ('Deep Learning': conda)"
  }
 },
 "nbformat": 4,
 "nbformat_minor": 2
}