{
 "cells": [
  {
   "cell_type": "markdown",
   "metadata": {},
   "source": [
    "# O intuito desse notebook e recuperar todas as imagens disponiveis  sobre pneumonia e covid e disponibilizar em um banco de dados\n"
   ]
  },
  {
   "cell_type": "markdown",
   "metadata": {},
   "source": [
    "## bibliotecas necessárias"
   ]
  },
  {
   "cell_type": "code",
   "execution_count": 1,
   "metadata": {},
   "outputs": [
    {
     "output_type": "stream",
     "name": "stdout",
     "text": "Requirement already satisfied: imutils in c:\\users\\wesley.neves\\anaconda3\\envs\\deep learning\\lib\\site-packages (0.5.3)\n"
    }
   ],
   "source": [
    "!pip install imutils"
   ]
  },
  {
   "cell_type": "code",
   "execution_count": 107,
   "metadata": {},
   "outputs": [],
   "source": [
    "from imutils import paths\n",
    "from PIL import Image\n",
    "import pydicom as dicom\n",
    "import pandas as pd\n",
    "import shutil\n",
    "import cv2 \n",
    "import os"
   ]
  },
  {
   "cell_type": "markdown",
   "metadata": {},
   "source": [
    "##  diretorios target e source"
   ]
  },
  {
   "cell_type": "code",
   "execution_count": 108,
   "metadata": {},
   "outputs": [],
   "source": [
    "def getTargetDiretorio(tipo):\n",
    "    retorno = \"\"\n",
    "    if(tipo ==\"MaquinaLocal\"):\n",
    "        retorno = r'D:/Repos/AprendendoPython/Pos_Graduacao_BigData/TCC/Projeto'\n",
    "\n",
    "    if(tipo ==\"GoogleDrive\"):\n",
    "       retorno=r'/content/drive/My Drive/TCC Pos Graduação big data/TCC/Projeto/'\n",
    "       \n",
    "    \n",
    "    return retorno"
   ]
  },
  {
   "cell_type": "code",
   "execution_count": 109,
   "metadata": {
    "tags": []
   },
   "outputs": [
    {
     "output_type": "stream",
     "name": "stdout",
     "text": "source\nD:/Repos/datasetsGitHub/covid-chestxray-dataset\nD:/Repos/datasetsGitHub/Figure1-COVID-chestxray-dataset\nD:/Repos/datasetsGitHub/Actualmed-COVID-chestxray-dataset\nD:/Repos/datasetsGitHub/COVID-19 Radiography Database\ntarget\nD:/Repos/AprendendoPython/Pos_Graduacao_BigData/TCC/Projeto\nD:/Repos/AprendendoPython/Pos_Graduacao_BigData/TCC/Projeto/dataset\nD:/Repos/AprendendoPython/Pos_Graduacao_BigData/TCC/Projeto/dataset/covid\nD:/Repos/AprendendoPython/Pos_Graduacao_BigData/TCC/Projeto/dataset/normal\nD:/Repos/AprendendoPython/Pos_Graduacao_BigData/TCC/Projeto/dataset/pneumonia\nD:/Repos/AprendendoPython/Pos_Graduacao_BigData/TCC/Projeto/dataset/validacao\n"
    }
   ],
   "source": [
    "dir_target_diretorio_raiz = getTargetDiretorio(\"MaquinaLocal\")\n",
    "dir_target_diretorio_dataset =r\"{0}/{1}\".format(dir_target_diretorio_raiz,'dataset')\n",
    "dir_target_diretorio_imagem_covid =r\"{0}/{1}\".format(dir_target_diretorio_dataset,'covid')\n",
    "dir_target_diretorio_pneumonia_normal =r\"{0}/{1}\".format(dir_target_diretorio_dataset,'normal')\n",
    "dir_target_diretorio_pneumonia_pneumonia =r\"{0}/{1}\".format(dir_target_diretorio_dataset,'pneumonia')\n",
    "dir_target_diretorio_validacao =r\"{0}/{1}\".format(dir_target_diretorio_dataset,'validacao')\n",
    "\n",
    "\n",
    "\n",
    "dir_source_covid_cohen =r'D:/Repos/datasetsGitHub/covid-chestxray-dataset'\n",
    "dir_source_covid_figure1 =r'D:/Repos/datasetsGitHub/Figure1-COVID-chestxray-dataset'\n",
    "dir_source_covid_Actualmed =r'D:/Repos/datasetsGitHub/Actualmed-COVID-chestxray-dataset'\n",
    "dir_source_RadiographyDatabase =r'D:/Repos/datasetsGitHub/COVID-19 Radiography Database'\n",
    "\n",
    "dir_source_rsna_pneumonia =r'D:/Repos/rsna-pneumonia-detection-challenge'\n",
    "\n",
    "\n",
    "print(\"source\")\n",
    "print(dir_source_covid_cohen)\n",
    "print(dir_source_covid_figure1)\n",
    "print(dir_source_covid_Actualmed)\n",
    "print(dir_source_RadiographyDatabase)\n",
    "\n",
    "print(\"target\")\n",
    "print(dir_target_diretorio_raiz)\n",
    "print(dir_target_diretorio_dataset)\n",
    "print(dir_target_diretorio_imagem_covid)\n",
    "print(dir_target_diretorio_pneumonia_normal)\n",
    "print(dir_target_diretorio_pneumonia_pneumonia)\n",
    "print(dir_target_diretorio_validacao)\n",
    "\n",
    "\n",
    "\n",
    "\n",
    "\n"
   ]
  },
  {
   "cell_type": "code",
   "execution_count": 78,
   "metadata": {},
   "outputs": [],
   "source": [
    "lista_diretorios_target=[]\n",
    "lista_diretorios_target.append(dir_target_diretorio_raiz)\n",
    "lista_diretorios_target.append(dir_target_diretorio_dataset),\n",
    "lista_diretorios_target.append(dir_target_diretorio_imagem_covid),\n",
    "lista_diretorios_target.append(dir_target_diretorio_pneumonia_normal),\n",
    "lista_diretorios_target.append(dir_target_diretorio_pneumonia_pneumonia)\n",
    "lista_diretorios_target.append(dir_target_diretorio_validacao)\n",
    "lista_diretorios_target.append(r\"{0}/{1}\".format(dir_target_diretorio_validacao,\"covid\"))\n",
    "lista_diretorios_target.append(r\"{0}/{1}\".format(dir_target_diretorio_validacao,\"normal\"))\n",
    "lista_diretorios_target.append(r\"{0}/{1}\".format(dir_target_diretorio_validacao,\"pneumonia\"))\n",
    "\n",
    "for item in lista_diretorios_target:\n",
    "    if not os.path.exists(item):\n",
    "        os.mkdir(item)\n",
    "    \n",
    "\n",
    "\n"
   ]
  },
  {
   "cell_type": "markdown",
   "metadata": {},
   "source": [
    "## metodos auxiliares"
   ]
  },
  {
   "cell_type": "code",
   "execution_count": 79,
   "metadata": {},
   "outputs": [],
   "source": [
    "def clear_diretorio(diretorio):\n",
    "    for file in os.listdir(diretorio):\n",
    "        full_name =os.path.join(diretorio, file)\n",
    "        \n",
    "        if os.path.exists(full_name):\n",
    "            os.remove(full_name) \n",
    "        \n",
    "        \n"
   ]
  },
  {
   "cell_type": "markdown",
   "metadata": {},
   "source": [
    "## Leitura dos Datasets"
   ]
  },
  {
   "cell_type": "code",
   "execution_count": 80,
   "metadata": {},
   "outputs": [],
   "source": [
    "\n",
    "## repositorios locais\n",
    "source_dir_metadata_local_cohen  = r\"{0}/{1}\".format(dir_source_covid_cohen,'metadata.csv')\n",
    "dir_source_imagens_Covid_cohen = r\"{0}/{1}\".format(dir_source_covid_cohen,'images')\n",
    "\n",
    "source_dir_metadata_local_figure_1  = r\"{0}/{1}\".format(dir_source_covid_figure1,'metadata.csv')\n",
    "source_dir_imagens_figure_1  = r\"{0}/{1}\".format(dir_source_covid_figure1,'images')\n",
    "\n",
    "source_dir_metadata_local_Actualmed  = r\"{0}/{1}\".format(dir_source_covid_Actualmed,'metadata.csv')\n",
    "source_dir_imagens_Actualmed = r\"{0}/{1}\".format(dir_source_covid_Actualmed,'images')\n",
    "\n",
    "\n",
    "\n",
    "## diretorios pra pneumonia\n",
    "\n",
    "dir_source_pneumonia_csv_train_detailed = r\"{0}/{1}\".format(dir_source_rsna_pneumonia,'stage_2_detailed_class_info.csv') \n",
    "dir_source_pneumonia_detailed_class_imagens =r\"{0}/{1}\".format(dir_source_rsna_pneumonia,'stage_2_train_images')\n",
    "\n",
    "\n"
   ]
  },
  {
   "cell_type": "markdown",
   "metadata": {},
   "source": []
  },
  {
   "cell_type": "markdown",
   "metadata": {},
   "source": [
    "## limpa os diretorios destino das imagens"
   ]
  },
  {
   "cell_type": "code",
   "execution_count": 28,
   "metadata": {},
   "outputs": [],
   "source": [
    "\n",
    "\n",
    "# if(lista_diretorios_target.count(r'D:/Repos/AprendendoPython/Pos_Graduacao_BigData/TCC/Projeto') > 0):\n",
    "#     lista_diretorios_target.remove(r'D:/Repos/AprendendoPython/Pos_Graduacao_BigData/TCC/Projeto')\n",
    "\n",
    "# if(lista_diretorios_target.count(r'D:/Repos/AprendendoPython/Pos_Graduacao_BigData/TCC/Projeto/dataset') > 0):\n",
    "#     lista_diretorios_target.remove(r'D:/Repos/AprendendoPython/Pos_Graduacao_BigData/TCC/Projeto/dataset')\n",
    "\n",
    "# if(lista_diretorios_target.count(r'D:/Repos/AprendendoPython/Pos_Graduacao_BigData/TCC/Projeto/dataset/validacao') > 0):\n",
    "#     lista_diretorios_target.remove(r'D:/Repos/AprendendoPython/Pos_Graduacao_BigData/TCC/Projeto/dataset/validacao')\n",
    "\n",
    "\n",
    "\n",
    "# for diretorio in lista_diretorios_target:\n",
    "#     clear_diretorio(diretorio)     \n",
    "    \n",
    " \n",
    "   "
   ]
  },
  {
   "cell_type": "code",
   "execution_count": null,
   "metadata": {},
   "outputs": [],
   "source": []
  },
  {
   "cell_type": "code",
   "execution_count": 81,
   "metadata": {},
   "outputs": [],
   "source": [
    "map_prognostico  =  { 'Lung Opacity': 'pneumonia',\n",
    "    'Normal' :'normal',\n",
    "    'COVID-19':'covid-19',\n",
    "    'SARS': 'pneumonia',\n",
    "    'MERS': 'pneumonia',\n",
    "    'Streptococcus': 'pneumonia',\n",
    "    'Klebsiella': 'pneumonia',\n",
    "    'Chlamydophila': 'pneumonia',\n",
    "    'Legionella': 'pneumonia',\n",
    "    'Normal': 'normal',\n",
    "    'Pneumonia' : 'pneumonia'\n",
    "\n",
    "}"
   ]
  },
  {
   "cell_type": "code",
   "execution_count": 82,
   "metadata": {
    "tags": []
   },
   "outputs": [
    {
     "output_type": "stream",
     "name": "stdout",
     "text": "Quantidade registros figure_1:(55, 12)\nQuantidade registros cohen:(751, 29)\nQuantidade registros Actualmed:(238, 13)\nQuantidade registros RadiographyDatabase Covid:(219, 4)\nQuantidade registros RadiographyDatabase Normal:(1341, 4)\nQuantidade registros RadiographyDatabase Pneunonia:(1345, 4)\nQuantidade registros Actualmed:(238, 13)\nQuantidade registros Rsna:(30227, 2)\n"
    }
   ],
   "source": [
    "\n",
    "\n",
    "# df_local_cohen = pd.read_csv(source_dir_metadata_local_cohen,error_bad_lines=False)\n",
    "df_local_figure_1 = pd.read_csv(source_dir_metadata_local_figure_1,error_bad_lines=False,encoding='ISO-8859-1')\n",
    "df_local_cohen = pd.read_csv(source_dir_metadata_local_cohen,error_bad_lines=False,encoding='ISO-8859-1')\n",
    "df_local_Actualmed = pd.read_csv(source_dir_metadata_local_Actualmed,error_bad_lines=False,encoding='ISO-8859-1')\n",
    "\n",
    "df_local_RadiographyDatabase_Covid = pd.read_excel(r\"{0}/{1}\".format(dir_source_RadiographyDatabase,'COVID-19.metadata.xlsx'),error_bad_lines=False, encoding='ISO-8859-1')\n",
    "\n",
    "df_local_RadiographyDatabase_Normal = pd.read_excel(r\"{0}/{1}\".format(dir_source_RadiographyDatabase,'NORMAL.metadata.xlsx'),error_bad_lines=False, encoding='ISO-8859-1')\n",
    "\n",
    "df_local_RadiographyDatabase_Pneumonia = pd.read_excel(r\"{0}/{1}\".format(dir_source_RadiographyDatabase,'Viral Pneumonia.matadata.xlsx'),error_bad_lines=False, encoding='ISO-8859-1')\n",
    "\n",
    "\n",
    "source_dir_metadata_RadiographyDatabase_Imagens_Covid = r\"{0}/{1}\".format(dir_source_RadiographyDatabase,'COVID-19')\n",
    "source_dir_metadata_RadiographyDatabase_Imagens_Normal = r\"{0}/{1}\".format(dir_source_RadiographyDatabase,'NORMAL')\n",
    "source_dir_metadata_RadiographyDatabase_Imagens_Pneumonia= r\"{0}/{1}\".format(dir_source_RadiographyDatabase,'Viral Pneumonia')\n",
    "\n",
    "\n",
    "\n",
    "df_rsna = pd.read_csv(dir_source_pneumonia_csv_train_detailed,error_bad_lines=False,encoding='ISO-8859-1')\n",
    "\n",
    "print(\"Quantidade registros figure_1:{0}\".format(df_local_figure_1.shape))\n",
    "print(\"Quantidade registros cohen:{0}\".format(df_local_cohen.shape))\n",
    "print(\"Quantidade registros Actualmed:{0}\".format(df_local_Actualmed.shape))\n",
    "print(\"Quantidade registros RadiographyDatabase Covid:{0}\".format(df_local_RadiographyDatabase_Covid.shape))\n",
    "print(\"Quantidade registros RadiographyDatabase Normal:{0}\".format(df_local_RadiographyDatabase_Normal.shape))\n",
    "print(\"Quantidade registros RadiographyDatabase Pneunonia:{0}\".format(df_local_RadiographyDatabase_Pneumonia.shape))\n",
    "print(\"Quantidade registros Actualmed:{0}\".format(df_local_Actualmed.shape))\n",
    "print(\"Quantidade registros Rsna:{0}\".format(df_rsna.shape))"
   ]
  },
  {
   "cell_type": "markdown",
   "metadata": {},
   "source": [
    "## Valida a quantidade de registros locais e web\n"
   ]
  },
  {
   "cell_type": "code",
   "execution_count": 8,
   "metadata": {},
   "outputs": [],
   "source": [
    "metadata_web_git_cohen ='https://raw.githubusercontent.com/ieee8023/covid-chestxray-dataset/master/metadata.csv'\n",
    "\n",
    "metadata_web_git_figure_1  ='https://raw.githubusercontent.com/agchung/Figure1-COVID-chestxray-dataset/master/metadata.csv'\n",
    "\n",
    "metadata_web_git_Actualmed  ='https://raw.githubusercontent.com/agchung/Actualmed-COVID-chestxray-dataset/master/metadata.csv'"
   ]
  },
  {
   "cell_type": "code",
   "execution_count": 85,
   "metadata": {
    "tags": []
   },
   "outputs": [
    {
     "output_type": "stream",
     "name": "stdout",
     "text": "Foram adicionadas 0 : imagens no repositorio web Chohen\nForam adicionadas 0 : imagens no repositorio web Figure 1\nForam adicionadas 0 : imagens no repositorio web Actualmed\n"
    }
   ],
   "source": [
    "df_web_cohen = pd.read_csv(metadata_web_git_cohen,error_bad_lines=False,encoding='ISO-8859-1')\n",
    "df_web_figure_1 = pd.read_csv(metadata_web_git_figure_1,error_bad_lines=False,encoding='ISO-8859-1')\n",
    "df_web_Actualmed = pd.read_csv(metadata_web_git_Actualmed,error_bad_lines=False,encoding='ISO-8859-1')\n",
    "\n",
    "qtd_diferenca_cohen = len(df_web_cohen) - len(df_local_cohen)\n",
    "qtd_diferenca_figure_1 = len(df_web_figure_1) - len(df_local_figure_1)\n",
    "qtd_diferenca_Actualmed = len(df_web_Actualmed) - len(df_local_Actualmed)\n",
    "\n",
    "if(qtd_diferenca_cohen < 0):\n",
    "    print(\"Foram removidas {0} : imagens no repositorio web Chohen\".format(qtd_diferenca_cohen.__abs__()))\n",
    "else:\n",
    "    print(\"Foram adicionadas {0} : imagens no repositorio web Chohen\".format(qtd_diferenca_cohen.__abs__()))\n",
    "\n",
    "\n",
    "if(qtd_diferenca_figure_1 < 0):\n",
    "    print(\"Foram removidas {0} : imagens no repositorio web Figure 1\".format(qtd_diferenca_figure_1.__abs__()))\n",
    "else:\n",
    "    print(\"Foram adicionadas {0} : imagens no repositorio web Figure 1\".format(qtd_diferenca_figure_1.__abs__()))    \n",
    "\n",
    "if(qtd_diferenca_Actualmed < 0):\n",
    "    print(\"Foram removidas {0} : imagens no repositorio web Actualmed\".format(qtd_diferenca_Actualmed.__abs__()))\n",
    "else:\n",
    "    print(\"Foram adicionadas {0} : imagens no repositorio web Actualmed\".format(qtd_diferenca_Actualmed.__abs__()))    \n",
    "        \n",
    "\n",
    "\n",
    "\n",
    "\n",
    "\n"
   ]
  },
  {
   "cell_type": "markdown",
   "metadata": {},
   "source": [
    "## tranferencia dos arquivos de Covid 19"
   ]
  },
  {
   "cell_type": "code",
   "execution_count": 86,
   "metadata": {},
   "outputs": [
    {
     "output_type": "execute_result",
     "data": {
      "text/plain": "                                encontrados porcentagem\nCOVID-19                                526      70.04%\ntodo                                     78      10.39%\nNo Finding                               23       3.06%\nStreptococcus                            17       2.26%\nPneumocystis                             17       2.26%\nSARS                                     16       2.13%\nPneumonia                                14       1.86%\nCOVID-19, ARDS                           12        1.6%\nKlebsiella                                8       1.07%\nMycoplasma Bacterial Pneumonia            8       1.07%\nLegionella                                6        0.8%\nLipoid                                    5       0.67%\nVaricella                                 5       0.67%\nE.Coli                                    4       0.53%\nBacterial                                 4       0.53%\nARDS                                      4       0.53%\nChlamydophila                             2       0.27%\nInfluenza                                 2       0.27%",
      "text/html": "<div>\n<style scoped>\n    .dataframe tbody tr th:only-of-type {\n        vertical-align: middle;\n    }\n\n    .dataframe tbody tr th {\n        vertical-align: top;\n    }\n\n    .dataframe thead th {\n        text-align: right;\n    }\n</style>\n<table border=\"1\" class=\"dataframe\">\n  <thead>\n    <tr style=\"text-align: right;\">\n      <th></th>\n      <th>encontrados</th>\n      <th>porcentagem</th>\n    </tr>\n  </thead>\n  <tbody>\n    <tr>\n      <th>COVID-19</th>\n      <td>526</td>\n      <td>70.04%</td>\n    </tr>\n    <tr>\n      <th>todo</th>\n      <td>78</td>\n      <td>10.39%</td>\n    </tr>\n    <tr>\n      <th>No Finding</th>\n      <td>23</td>\n      <td>3.06%</td>\n    </tr>\n    <tr>\n      <th>Streptococcus</th>\n      <td>17</td>\n      <td>2.26%</td>\n    </tr>\n    <tr>\n      <th>Pneumocystis</th>\n      <td>17</td>\n      <td>2.26%</td>\n    </tr>\n    <tr>\n      <th>SARS</th>\n      <td>16</td>\n      <td>2.13%</td>\n    </tr>\n    <tr>\n      <th>Pneumonia</th>\n      <td>14</td>\n      <td>1.86%</td>\n    </tr>\n    <tr>\n      <th>COVID-19, ARDS</th>\n      <td>12</td>\n      <td>1.6%</td>\n    </tr>\n    <tr>\n      <th>Klebsiella</th>\n      <td>8</td>\n      <td>1.07%</td>\n    </tr>\n    <tr>\n      <th>Mycoplasma Bacterial Pneumonia</th>\n      <td>8</td>\n      <td>1.07%</td>\n    </tr>\n    <tr>\n      <th>Legionella</th>\n      <td>6</td>\n      <td>0.8%</td>\n    </tr>\n    <tr>\n      <th>Lipoid</th>\n      <td>5</td>\n      <td>0.67%</td>\n    </tr>\n    <tr>\n      <th>Varicella</th>\n      <td>5</td>\n      <td>0.67%</td>\n    </tr>\n    <tr>\n      <th>E.Coli</th>\n      <td>4</td>\n      <td>0.53%</td>\n    </tr>\n    <tr>\n      <th>Bacterial</th>\n      <td>4</td>\n      <td>0.53%</td>\n    </tr>\n    <tr>\n      <th>ARDS</th>\n      <td>4</td>\n      <td>0.53%</td>\n    </tr>\n    <tr>\n      <th>Chlamydophila</th>\n      <td>2</td>\n      <td>0.27%</td>\n    </tr>\n    <tr>\n      <th>Influenza</th>\n      <td>2</td>\n      <td>0.27%</td>\n    </tr>\n  </tbody>\n</table>\n</div>"
     },
     "metadata": {},
     "execution_count": 86
    }
   ],
   "source": [
    "data_freq =df_local_cohen[\"finding\"].value_counts().to_frame()\n",
    "data_freq [\"porcentagem\"] = ((data_freq[\"finding\"] /len(df_local_cohen)) * 100).round(2).astype(str) + '%'\n",
    "\n",
    "data_freq.columns = ['encontrados', 'porcentagem']\n",
    "data_freq"
   ]
  },
  {
   "cell_type": "code",
   "execution_count": 87,
   "metadata": {},
   "outputs": [
    {
     "output_type": "execute_result",
     "data": {
      "text/plain": "           imagens porcentagem\ncovid-19       526      70.04%\npneumonia       63       8.39%",
      "text/html": "<div>\n<style scoped>\n    .dataframe tbody tr th:only-of-type {\n        vertical-align: middle;\n    }\n\n    .dataframe tbody tr th {\n        vertical-align: top;\n    }\n\n    .dataframe thead th {\n        text-align: right;\n    }\n</style>\n<table border=\"1\" class=\"dataframe\">\n  <thead>\n    <tr style=\"text-align: right;\">\n      <th></th>\n      <th>imagens</th>\n      <th>porcentagem</th>\n    </tr>\n  </thead>\n  <tbody>\n    <tr>\n      <th>covid-19</th>\n      <td>526</td>\n      <td>70.04%</td>\n    </tr>\n    <tr>\n      <th>pneumonia</th>\n      <td>63</td>\n      <td>8.39%</td>\n    </tr>\n  </tbody>\n</table>\n</div>"
     },
     "metadata": {},
     "execution_count": 87
    }
   ],
   "source": [
    "df_local_cohen['prognostico'] = df_local_cohen['finding'].map(map_prognostico)\n",
    "\n",
    "\n",
    "df_local_cohen['prognostico'].value_counts()\n",
    "\n",
    "\n",
    "data_freq =df_local_cohen[\"prognostico\"].value_counts().to_frame()\n",
    "data_freq [\"porcentagem\"] = ((data_freq[\"prognostico\"] /len(df_local_cohen)) * 100).round(2).astype(str) + '%'\n",
    "\n",
    "data_freq.columns = ['imagens', 'porcentagem']\n",
    "data_freq"
   ]
  },
  {
   "cell_type": "markdown",
   "metadata": {},
   "source": [
    "## base de dados do diretorio do Figure-1\n",
    "disponivel em \n",
    "https://raw.githubusercontent.com/agchung/Figure1-COVID-chestxray-dataset/master/metadata.csv"
   ]
  },
  {
   "cell_type": "code",
   "execution_count": 88,
   "metadata": {},
   "outputs": [
    {
     "output_type": "execute_result",
     "data": {
      "text/plain": "COVID-19      35\nNo finding     3\nPneumonia      2\nName: finding, dtype: int64"
     },
     "metadata": {},
     "execution_count": 88
    }
   ],
   "source": [
    "df_local_figure_1[\"finding\"].value_counts()"
   ]
  },
  {
   "cell_type": "code",
   "execution_count": 89,
   "metadata": {},
   "outputs": [
    {
     "output_type": "execute_result",
     "data": {
      "text/plain": "covid-19     35\npneumonia     2\nName: prognostico, dtype: int64"
     },
     "metadata": {},
     "execution_count": 89
    }
   ],
   "source": [
    "df_local_figure_1['prognostico'] = df_local_figure_1['finding'].map(map_prognostico)\n",
    "\n",
    "\n",
    "df_local_figure_1['prognostico'].value_counts()"
   ]
  },
  {
   "cell_type": "markdown",
   "metadata": {},
   "source": [
    "## base de dados do diretorio do Actualmed\n",
    "disponivel em \n",
    "https://github.com/agchung/Actualmed-COVID-chestxray-dataset"
   ]
  },
  {
   "cell_type": "code",
   "execution_count": 90,
   "metadata": {},
   "outputs": [
    {
     "output_type": "execute_result",
     "data": {
      "text/plain": "No finding    127\nCOVID-19       58\nName: finding, dtype: int64"
     },
     "metadata": {},
     "execution_count": 90
    }
   ],
   "source": [
    "df_local_Actualmed[\"finding\"].value_counts()"
   ]
  },
  {
   "cell_type": "code",
   "execution_count": 92,
   "metadata": {},
   "outputs": [
    {
     "output_type": "execute_result",
     "data": {
      "text/plain": "covid-19    58\nName: prognostico, dtype: int64"
     },
     "metadata": {},
     "execution_count": 92
    }
   ],
   "source": [
    "df_local_Actualmed['prognostico'] = df_local_Actualmed['finding'].map(map_prognostico)\n",
    "\n",
    "df_local_Actualmed['prognostico'].value_counts()\n",
    "\n"
   ]
  },
  {
   "cell_type": "markdown",
   "metadata": {},
   "source": [
    "base de dados do diretorio RadiographyDatabase\n",
    "disponivel  em \n"
   ]
  },
  {
   "cell_type": "code",
   "execution_count": 93,
   "metadata": {},
   "outputs": [
    {
     "output_type": "execute_result",
     "data": {
      "text/plain": "covid-19    219\nName: prognostico, dtype: int64"
     },
     "metadata": {},
     "execution_count": 93
    }
   ],
   "source": [
    "\n",
    "df_local_RadiographyDatabase_Covid['prognostico'] =\"covid-19\"\n",
    "\n",
    "\n",
    "df_local_RadiographyDatabase_Covid['prognostico'].value_counts()\n",
    "\n"
   ]
  },
  {
   "cell_type": "code",
   "execution_count": 94,
   "metadata": {},
   "outputs": [
    {
     "output_type": "execute_result",
     "data": {
      "text/plain": "covid-19    58\nName: prognostico, dtype: int64"
     },
     "metadata": {},
     "execution_count": 94
    }
   ],
   "source": [
    "df_local_Actualmed['prognostico'] = df_local_Actualmed['finding'].map(map_prognostico)\n",
    "\n",
    "\n",
    "df_local_Actualmed['prognostico'].value_counts()"
   ]
  },
  {
   "cell_type": "code",
   "execution_count": 95,
   "metadata": {},
   "outputs": [
    {
     "output_type": "execute_result",
     "data": {
      "text/plain": "pneumonia    9555\nnormal       8851\nName: prognostico, dtype: int64"
     },
     "metadata": {},
     "execution_count": 95
    }
   ],
   "source": [
    "\n",
    "\n",
    "df_rsna['prognostico'] = df_rsna['class'].map(map_prognostico)\n",
    "\n",
    "\n",
    "df_rsna['prognostico'].value_counts()"
   ]
  },
  {
   "cell_type": "code",
   "execution_count": 96,
   "metadata": {},
   "outputs": [],
   "source": [
    "lista_imagens_covid =[]\n",
    "lista_imagens_pneumonia =[]\n",
    "lista_imagens_normal =[]\n",
    "\n",
    "quantidade_registros = {'normal': 0, 'pneumonia': 0, 'covid-19': 0}"
   ]
  },
  {
   "cell_type": "markdown",
   "metadata": {},
   "source": [
    "# diretorio dos dados Covid"
   ]
  },
  {
   "cell_type": "markdown",
   "metadata": {},
   "source": [
    "## Josephpcohen https://josephpcohen.com/w/public-covid19-dataset/"
   ]
  },
  {
   "cell_type": "code",
   "execution_count": 97,
   "metadata": {
    "tags": []
   },
   "outputs": [
    {
     "output_type": "stream",
     "name": "stdout",
     "text": "{'normal': 0, 'pneumonia': 63, 'covid-19': 505}\n"
    }
   ],
   "source": [
    "for row in df_local_cohen[[\"prognostico\",\"filename\"]].iterrows():\n",
    "    imagem_name = row[1].filename\n",
    "    prognostico = row[1].prognostico\n",
    "    source_imagem = \"{0}/{1}\".format(dir_source_imagens_Covid_cohen,imagem_name)\n",
    "    if os.path.exists(source_imagem):\n",
    "        if(prognostico ==\"covid-19\"):\n",
    "            lista_imagens_covid.append(source_imagem)\n",
    "            quantidade_registros[prognostico] +=1\n",
    "        elif (prognostico ==\"pneumonia\"):\n",
    "            lista_imagens_pneumonia.append(source_imagem)\n",
    "            quantidade_registros[prognostico] +=1\n",
    "\n",
    "\n",
    "print(quantidade_registros)\n",
    "            \n",
    "            "
   ]
  },
  {
   "cell_type": "markdown",
   "metadata": {},
   "source": []
  },
  {
   "cell_type": "code",
   "execution_count": 98,
   "metadata": {
    "tags": []
   },
   "outputs": [
    {
     "output_type": "stream",
     "name": "stdout",
     "text": "{'normal': 0, 'pneumonia': 65, 'covid-19': 535}\n"
    }
   ],
   "source": [
    "for row in df_local_figure_1[[\"prognostico\",\"patientid\"]].iterrows():\n",
    "    imagem_name = row[1].patientid\n",
    "    prognostico = row[1].prognostico\n",
    "    source_imagem = \"{0}/{1}.jpg\".format(source_dir_imagens_figure_1,imagem_name)\n",
    "    if os.path.exists(source_imagem):\n",
    "        if(prognostico ==\"covid-19\"):\n",
    "            lista_imagens_covid.append(source_imagem)\n",
    "            quantidade_registros[prognostico] +=1\n",
    "        elif (prognostico ==\"pneumonia\"):\n",
    "            lista_imagens_pneumonia.append(source_imagem)\n",
    "            quantidade_registros[prognostico] +=1\n",
    "\n",
    "\n",
    "print(quantidade_registros)"
   ]
  },
  {
   "cell_type": "code",
   "execution_count": 99,
   "metadata": {
    "tags": []
   },
   "outputs": [
    {
     "output_type": "stream",
     "name": "stdout",
     "text": "{'normal': 0, 'pneumonia': 65, 'covid-19': 593}\n"
    }
   ],
   "source": [
    "for row in df_local_Actualmed[[\"prognostico\",\"imagename\"]].iterrows():\n",
    "    imagem_name = row[1].imagename\n",
    "    prognostico = row[1].prognostico\n",
    "    source_imagem = \"{0}/{1}\".format(source_dir_imagens_Actualmed,imagem_name)\n",
    "    if os.path.exists(source_imagem):\n",
    "        if(prognostico ==\"covid-19\"):\n",
    "            lista_imagens_covid.append(source_imagem)\n",
    "            quantidade_registros[prognostico] +=1\n",
    "        elif (prognostico ==\"pneumonia\"):\n",
    "            lista_imagens_pneumonia.append(source_imagem)\n",
    "            quantidade_registros[prognostico] +=1\n",
    "\n",
    "\n",
    "print(quantidade_registros)"
   ]
  },
  {
   "cell_type": "code",
   "execution_count": 100,
   "metadata": {
    "tags": []
   },
   "outputs": [
    {
     "output_type": "stream",
     "name": "stdout",
     "text": "{'normal': 0, 'pneumonia': 65, 'covid-19': 679}\n"
    }
   ],
   "source": [
    "for row in df_local_RadiographyDatabase_Covid[[\"prognostico\",\"FILE NAME\",\"FORMAT\"]].iterrows():\n",
    "    imagem_name =\"{0}.{1}\".format(row[1][\"FILE NAME\"],str(row[1][\"FORMAT\"]).lower())\n",
    "    prognostico = row[1].prognostico\n",
    "    source_imagem = \"{0}/{1}\".format(source_dir_metadata_RadiographyDatabase_Imagens_Covid,imagem_name)\n",
    "    if os.path.exists(source_imagem):\n",
    "        if(prognostico ==\"covid-19\"):\n",
    "            lista_imagens_covid.append(source_imagem)\n",
    "            quantidade_registros[prognostico] +=1\n",
    "        elif (prognostico ==\"pneumonia\"):\n",
    "            lista_imagens_pneumonia.append(source_imagem)\n",
    "            quantidade_registros[prognostico] +=1\n",
    "\n",
    "print(quantidade_registros)"
   ]
  },
  {
   "cell_type": "code",
   "execution_count": 101,
   "metadata": {},
   "outputs": [],
   "source": [
    "df_rsna = df_rsna[(df_rsna.prognostico == \"normal\") | (df_rsna.prognostico == \"pneumonia\")]\n",
    "\n"
   ]
  },
  {
   "cell_type": "code",
   "execution_count": 102,
   "metadata": {
    "tags": []
   },
   "outputs": [
    {
     "output_type": "stream",
     "name": "stdout",
     "text": "{'normal': 8851, 'pneumonia': 9620, 'covid-19': 679}\n"
    }
   ],
   "source": [
    "for row in df_rsna[[\"patientId\",\"prognostico\"]].iterrows():\n",
    "    imagem_name = row[1].patientId\n",
    "    prognostico = row[1].prognostico\n",
    "    source_imagem = \"{0}/{1}.dcm\".format(dir_source_pneumonia_detailed_class_imagens,imagem_name)\n",
    "    if os.path.exists(source_imagem):\n",
    "        dir_target =\"\"\n",
    "        if(prognostico ==\"normal\"):\n",
    "            lista_imagens_normal.append(source_imagem)\n",
    "            quantidade_registros[prognostico] +=1\n",
    "\n",
    "        elif (prognostico ==\"pneumonia\"):\n",
    "            lista_imagens_pneumonia.append(source_imagem)\n",
    "            quantidade_registros[prognostico] +=1\n",
    "\n",
    "         \n",
    "\n",
    "print(quantidade_registros)"
   ]
  },
  {
   "cell_type": "markdown",
   "metadata": {},
   "source": [
    "## recupera 50 imagens para cada tipo de classe"
   ]
  },
  {
   "cell_type": "code",
   "execution_count": 103,
   "metadata": {
    "tags": []
   },
   "outputs": [
    {
     "output_type": "stream",
     "name": "stdout",
     "text": "quantidade imagens validação covid :50\nquantidade imagens validação pneumonia :50\nquantidade imagens validação normal :49\n"
    }
   ],
   "source": [
    "import random as rn\n",
    "\n",
    "rn.seed(1234)\n",
    "# print(dir_target_diretorio_imagem_covid)\n",
    "quantidadeImagens = 50\n",
    "lista_imagens_validacao_covid = []\n",
    "lista_imagens_validacao_pneumonia = []\n",
    "lista_imagens_validacao_normal = []\n",
    "\n",
    "while (len(lista_imagens_validacao_covid) <50 and len(lista_imagens_validacao_pneumonia) <=50 and  len(lista_imagens_validacao_normal) <50):\n",
    "    if(len(lista_imagens_validacao_covid) <=50):\n",
    "        imagen_covid = rn.choice(lista_imagens_covid)\n",
    "        if(lista_imagens_validacao_covid.count(imagen_covid) ==0):\n",
    "            lista_imagens_validacao_covid.append(imagen_covid)\n",
    "            if(lista_imagens_covid.count(imagen_covid) > 0):\n",
    "                lista_imagens_covid.remove(imagen_covid)\n",
    "            \n",
    "\n",
    "\n",
    "    if(len(lista_imagens_validacao_pneumonia) <=50):\n",
    "        imagen_pneumonia = rn.choice(lista_imagens_pneumonia)\n",
    "        if(lista_imagens_validacao_pneumonia.count(imagen_pneumonia) ==0):\n",
    "            lista_imagens_validacao_pneumonia.append(imagen_pneumonia)\n",
    "            \n",
    "\n",
    "    if(len(lista_imagens_validacao_normal) <=50):\n",
    "        imagen_normal = rn.choice(lista_imagens_normal)\n",
    "        if(lista_imagens_validacao_normal.count(imagen_normal) ==0):\n",
    "            lista_imagens_validacao_normal.append(imagen_normal)\n",
    "            \n",
    "    \n",
    "print(\"quantidade imagens validação covid :{0}\".format(len(lista_imagens_validacao_covid)))\n",
    "print(\"quantidade imagens validação pneumonia :{0}\".format(len(lista_imagens_validacao_pneumonia)))\n",
    "print(\"quantidade imagens validação normal :{0}\".format(len(lista_imagens_validacao_normal)))\n",
    "\n",
    "\n",
    "   \n",
    "       \n",
    "       "
   ]
  },
  {
   "cell_type": "markdown",
   "metadata": {},
   "source": [
    "# Executa a tranferencias das imagens entre os diretorios"
   ]
  },
  {
   "cell_type": "code",
   "execution_count": 104,
   "metadata": {},
   "outputs": [],
   "source": [
    "\n",
    "def move_imagens_from_source_to_target(source_lista,dir_target,quantidade =100):\n",
    "    qtd = len(list(paths.list_images(dir_target)))\n",
    "\n",
    "    for source_path in source_lista:\n",
    "        target_imagem =\"\"\n",
    "        imagemName =source_path.split('/')[-1]\n",
    "        if(imagemName.count(\".dcm\") > 0):\n",
    "            target_imagem =\"{0}/{1}\".format(dir_target,imagemName.replace(\".dcm\",\".jpg\"))\n",
    "            if not os.path.exists(target_imagem) and  qtd <= quantidade:\n",
    "                ds = dicom.dcmread(source_path)\n",
    "                pixel_array_numpy = ds.pixel_array\n",
    "                cv2.imwrite(target_imagem, pixel_array_numpy)\n",
    "                qtd +=1\n",
    "            \n",
    "        else:\n",
    "            target_imagem =\"{0}/{1}\".format(dir_target,imagemName)\n",
    "            if not os.path.exists(target_imagem) and  qtd <= quantidade:\n",
    "                shutil.copy2(source_path,target_imagem)\n",
    "                qtd +=1\n",
    "                "
   ]
  },
  {
   "cell_type": "code",
   "execution_count": 105,
   "metadata": {},
   "outputs": [],
   "source": [
    "\n",
    "## move as imagens de covid\n",
    "\n",
    "move_imagens_from_source_to_target(lista_imagens_covid,dir_target_diretorio_imagem_covid,quantidade=len(lista_imagens_covid))\n",
    "# ## move as imagens normais\n",
    "\n",
    "move_imagens_from_source_to_target(lista_imagens_normal,dir_target_diretorio_pneumonia_normal,quantidade=len(lista_imagens_covid))\n",
    "# # ## move as imagens de pneumonia\n",
    "move_imagens_from_source_to_target(lista_imagens_pneumonia,dir_target_diretorio_pneumonia_pneumonia,quantidade=len(lista_imagens_covid))\n",
    "\n",
    "# ## move as imagens de validação\n",
    "move_imagens_from_source_to_target(lista_imagens_validacao_covid,\"{0}/{1}\".format(dir_target_diretorio_validacao,\"covid\"))\n",
    "move_imagens_from_source_to_target(lista_imagens_validacao_normal,\"{0}/{1}\".format(dir_target_diretorio_validacao,\"normal\"))\n",
    "move_imagens_from_source_to_target(lista_imagens_validacao_pneumonia,\"{0}/{1}\".format(dir_target_diretorio_validacao,\"pneumonia\"))\n",
    " \n"
   ]
  },
  {
   "cell_type": "markdown",
   "metadata": {},
   "source": [
    "# Quantidade final dos dados\n"
   ]
  },
  {
   "cell_type": "code",
   "execution_count": 106,
   "metadata": {
    "tags": []
   },
   "outputs": [
    {
     "output_type": "stream",
     "name": "stdout",
     "text": "Imagens  Normal 630\nImagens Pneumonia  630\nImagens  Covid 630\nValidacão Normal 73\nValidacão Pneumonia 73\nValidacão Covid 100\n"
    }
   ],
   "source": [
    "\n",
    "imagens_covid =  list(paths.list_images(dir_target_diretorio_imagem_covid))\n",
    "\n",
    "imagens_normal =  list(paths.list_images(dir_target_diretorio_pneumonia_normal))\n",
    "\n",
    "imagens_pneumonia =  list(paths.list_images(dir_target_diretorio_pneumonia_pneumonia))\n",
    "\n",
    "imagens_validacao_covid =  list(paths.list_images(\"{0}/{1}\".format(dir_target_diretorio_validacao,\"covid\")))\n",
    "imagens_validacao_normal =  list(paths.list_images(\"{0}/{1}\".format(dir_target_diretorio_validacao,\"normal\")))\n",
    "\n",
    "imagens_validacao_pneumonia =  list(paths.list_images(\"{0}/{1}\".format(dir_target_diretorio_validacao,\"pneumonia\")))\n",
    "\n",
    "\n",
    "print(\"Imagens  Normal {0}\".format(len(imagens_normal)))\n",
    "print(\"Imagens Pneumonia  {0}\".format(len(imagens_pneumonia)))\n",
    "print(\"Imagens  Covid {0}\".format(len(imagens_covid)))\n",
    "print(\"Validacão Normal {0}\".format(len(imagens_validacao_normal)))\n",
    "print(\"Validacão Pneumonia {0}\".format(len(imagens_validacao_normal)))\n",
    "print(\"Validacão Covid {0}\".format(len(imagens_validacao_pneumonia)))\n",
    "\n",
    "\n"
   ]
  }
 ],
 "metadata": {
  "language_info": {
   "codemirror_mode": {
    "name": "ipython",
    "version": 3
   },
   "file_extension": ".py",
   "mimetype": "text/x-python",
   "name": "python",
   "nbconvert_exporter": "python",
   "pygments_lexer": "ipython3",
   "version": "3.7.7-final"
  },
  "orig_nbformat": 2,
  "kernelspec": {
   "name": "python37764bitdeeplearningconda70b0a9c2c78b49cfaeeb6e88dd7dfba8",
   "display_name": "Python 3.7.7 64-bit ('Deep Learning': conda)"
  }
 },
 "nbformat": 4,
 "nbformat_minor": 2
}