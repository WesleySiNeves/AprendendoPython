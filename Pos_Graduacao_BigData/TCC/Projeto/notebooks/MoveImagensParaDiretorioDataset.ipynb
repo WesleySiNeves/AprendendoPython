{
 "cells": [
  {
   "cell_type": "markdown",
   "metadata": {},
   "source": [
    "# O intuito desse notebook e recuperar todas as imagens disponiveis  sobre pneumonia e covid e disponibilizar em um banco de dados\n"
   ]
  },
  {
   "cell_type": "markdown",
   "metadata": {},
   "source": [
    "## bibliotecas necessárias"
   ]
  },
  {
   "cell_type": "code",
   "execution_count": 3,
   "metadata": {},
   "outputs": [
    {
     "output_type": "stream",
     "name": "stdout",
     "text": "Processing c:\\users\\wesley.neves\\appdata\\local\\pip\\cache\\wheels\\fc\\9c\\6d\\1826267c72afa51b564c9c6e0f66abc806879338bc593a2270\\imutils-0.5.3-py3-none-any.whl\nInstalling collected packages: imutils\nSuccessfully installed imutils-0.5.3\n"
    }
   ],
   "source": [
    "!pip install imutils"
   ]
  },
  {
   "cell_type": "code",
   "execution_count": 1,
   "metadata": {},
   "outputs": [],
   "source": [
    "from imutils import paths\n",
    "import pydicom as dicom\n",
    "import pandas as pd\n",
    "import shutil\n",
    "import cv2 \n",
    "import os"
   ]
  },
  {
   "cell_type": "markdown",
   "metadata": {},
   "source": [
    "##  diretorios target e source"
   ]
  },
  {
   "cell_type": "code",
   "execution_count": 2,
   "metadata": {},
   "outputs": [],
   "source": [
    "def getTargetDiretorio(tipo):\n",
    "    retorno = \"\"\n",
    "    if(tipo ==\"MaquinaLocal\"):\n",
    "        retorno = r'D:/Repos/AprendendoPython/Pos_Graduacao_BigData/TCC/Projeto'\n",
    "\n",
    "    if(tipo ==\"GoogleDrive\"):\n",
    "       retorno=r'/content/drive/My Drive/TCC Pos Graduação big data/TCC/Projeto/'\n",
    "       \n",
    "    \n",
    "    return retorno"
   ]
  },
  {
   "cell_type": "code",
   "execution_count": 3,
   "metadata": {},
   "outputs": [
    {
     "output_type": "stream",
     "name": "stdout",
     "text": "source\nD:/Repos/datasetsGitHub/covid-chestxray-dataset\nD:/Repos/datasetsGitHub/Figure1-COVID-chestxray-dataset\nD:/Repos/datasetsGitHub/Actualmed-COVID-chestxray-dataset\nD:/Repos/datasetsGitHub/COVID-19 Radiography Database\ntarget\nD:/Repos/AprendendoPython/Pos_Graduacao_BigData/TCC/Projeto\nD:/Repos/AprendendoPython/Pos_Graduacao_BigData/TCC/Projeto/dataset\nD:/Repos/AprendendoPython/Pos_Graduacao_BigData/TCC/Projeto/dataset/covid\nD:/Repos/AprendendoPython/Pos_Graduacao_BigData/TCC/Projeto/dataset/normal\nD:/Repos/AprendendoPython/Pos_Graduacao_BigData/TCC/Projeto/dataset/pneumonia\n"
    }
   ],
   "source": [
    "dir_target_diretorio_raiz = getTargetDiretorio(\"MaquinaLocal\")\n",
    "dir_target_diretorio_dataset =r\"{0}/{1}\".format(dir_target_diretorio_raiz,'dataset')\n",
    "dir_target_diretorio_imagem_covid =r\"{0}/{1}\".format(dir_target_diretorio_dataset,'covid')\n",
    "dir_target_diretorio_pneumonia_normal =r\"{0}/{1}\".format(dir_target_diretorio_dataset,'normal')\n",
    "dir_target_diretorio_pneumonia_pneumonia =r\"{0}/{1}\".format(dir_target_diretorio_dataset,'pneumonia')\n",
    "\n",
    "\n",
    "\n",
    "dir_source_covid_cohen =r'D:/Repos/datasetsGitHub/covid-chestxray-dataset'\n",
    "dir_source_covid_figure1 =r'D:/Repos/datasetsGitHub/Figure1-COVID-chestxray-dataset'\n",
    "dir_source_covid_Actualmed =r'D:/Repos/datasetsGitHub/Actualmed-COVID-chestxray-dataset'\n",
    "dir_source_RadiographyDatabase =r'D:/Repos/datasetsGitHub/COVID-19 Radiography Database'\n",
    "\n",
    "dir_source_rsna_pneumonia =r'D:/Repos/rsna-pneumonia-detection-challenge'\n",
    "\n",
    "\n",
    "\n",
    "\n",
    "\n",
    "\n",
    "print(\"source\")\n",
    "print(dir_source_covid_cohen)\n",
    "print(dir_source_covid_figure1)\n",
    "print(dir_source_covid_Actualmed)\n",
    "print(dir_source_RadiographyDatabase)\n",
    "\n",
    "\n",
    "\n",
    "print(\"target\")\n",
    "print(dir_target_diretorio_raiz)\n",
    "print(dir_target_diretorio_dataset)\n",
    "print(dir_target_diretorio_imagem_covid)\n",
    "print(dir_target_diretorio_pneumonia_normal)\n",
    "print(dir_target_diretorio_pneumonia_pneumonia)\n",
    "\n",
    "\n",
    "\n",
    "\n"
   ]
  },
  {
   "cell_type": "code",
   "execution_count": 4,
   "metadata": {},
   "outputs": [],
   "source": [
    "lista_diretorios_target=[]\n",
    "lista_diretorios_target.append(dir_target_diretorio_raiz)\n",
    "lista_diretorios_target.append(dir_target_diretorio_dataset),\n",
    "lista_diretorios_target.append(dir_target_diretorio_imagem_covid),\n",
    "lista_diretorios_target.append(dir_target_diretorio_pneumonia_normal),\n",
    "lista_diretorios_target.append(dir_target_diretorio_pneumonia_pneumonia)\n",
    "\n",
    "for item in lista_diretorios_target:\n",
    "    if not os.path.exists(item):\n",
    "        os.mkdir(item)\n",
    "    \n",
    "\n",
    "\n"
   ]
  },
  {
   "cell_type": "markdown",
   "metadata": {},
   "source": [
    "## metodos auxiliares"
   ]
  },
  {
   "cell_type": "code",
   "execution_count": 5,
   "metadata": {},
   "outputs": [],
   "source": [
    "def clear_diretorio(diretorio):\n",
    "    for file in os.listdir(diretorio):\n",
    "        full_name =os.path.join(diretorio, file)\n",
    "        \n",
    "        if os.path.exists(full_name):\n",
    "            os.remove(full_name) \n",
    "        \n",
    "        \n",
    "\n",
    "def get_imagens_covid(dataframe,diretorio):\n",
    "        lista =[]\n",
    "        for (i,row) in dataframe.iterrows():\n",
    "                imagemName=row[\"filename\"]\n",
    "                image_source  = \"{0}/{1}\".format(diretorio,imagemName)\n",
    "                lista.append(image_source)\n",
    "\n",
    "        return lista\n",
    "\n",
    "\n",
    "def get_imagens_diretorio(diretorio):\n",
    "        imagePaths =[]\n",
    "        imagePaths = list(paths.list_images(diretorio))\n",
    "        imagePaths = [ item.replace(\"\\\\\",\"/\") for item in imagePaths]\n",
    "        \n",
    "        return imagePaths    \n",
    "\n",
    "\n",
    "def move_imagens_from_source_to_target(source_lista,target):\n",
    "    for source_path in source_lista:\n",
    "        imagemName =source_path.split('/')[-1]\n",
    "        source_target= \"{0}/{1}\".format(target,imagemName)\n",
    "    # print(source_path)\n",
    "    # print(source_target)\n",
    "        if(os.path.exists(source_path)):\n",
    "            if not os.path.exists(source_target):\n",
    "                shutil.copy2(source_path,source_target)\n",
    "    \n",
    "                \n"
   ]
  },
  {
   "cell_type": "markdown",
   "metadata": {},
   "source": [
    "## Leitura dos Datasets"
   ]
  },
  {
   "cell_type": "code",
   "execution_count": 6,
   "metadata": {},
   "outputs": [],
   "source": [
    "\n",
    "## repositorios locais\n",
    "source_dir_metadata_local_cohen  = r\"{0}/{1}\".format(dir_source_covid_cohen,'metadata.csv')\n",
    "dir_source_imagens_Covid_cohen = r\"{0}/{1}\".format(dir_source_covid_cohen,'images')\n",
    "\n",
    "source_dir_metadata_local_figure_1  = r\"{0}/{1}\".format(dir_source_covid_figure1,'metadata.csv')\n",
    "source_dir_imagens_figure_1  = r\"{0}/{1}\".format(dir_source_covid_figure1,'images')\n",
    "\n",
    "source_dir_metadata_local_Actualmed  = r\"{0}/{1}\".format(dir_source_covid_Actualmed,'metadata.csv')\n",
    "source_dir_imagens_Actualmed = r\"{0}/{1}\".format(dir_source_covid_Actualmed,'images')\n",
    "\n",
    "\n",
    "\n",
    "\n",
    "\n",
    "\n",
    "## diretorios pra pneumonia\n",
    "\n",
    "dir_source_pneumonia_csv_train_detailed = r\"{0}/{1}\".format(dir_source_rsna_pneumonia,'stage_2_detailed_class_info.csv') \n",
    "dir_source_pneumonia_detailed_class_imagens =r\"{0}/{1}\".format(dir_source_rsna_pneumonia,'stage_2_train_images')\n",
    "\n",
    "\n",
    "\n",
    "## repositorios web\n",
    "metadata_web_git_cohen ='https://raw.githubusercontent.com/ieee8023/covid-chestxray-dataset/master/metadata.csv'\n",
    "\n"
   ]
  },
  {
   "cell_type": "code",
   "execution_count": 7,
   "metadata": {},
   "outputs": [],
   "source": [
    "map_prognostico  =  { 'Lung Opacity': 'pneumonia',\n",
    "    'Normal' :'normal',\n",
    "    'COVID-19':'covid-19',\n",
    "    'SARS': 'pneumonia',\n",
    "    'MERS': 'pneumonia',\n",
    "    'Streptococcus': 'pneumonia',\n",
    "    'Klebsiella': 'pneumonia',\n",
    "    'Chlamydophila': 'pneumonia',\n",
    "    'Legionella': 'pneumonia',\n",
    "    'Normal': 'normal',\n",
    "    'Pneumonia' : 'pneumonia'\n",
    "\n",
    "}"
   ]
  },
  {
   "cell_type": "code",
   "execution_count": 8,
   "metadata": {},
   "outputs": [],
   "source": [
    "clear_diretorio(dir_target_diretorio_imagem_covid)     \n",
    "clear_diretorio(dir_target_diretorio_pneumonia_pneumonia)       \n",
    "clear_diretorio(dir_target_diretorio_pneumonia_normal)       "
   ]
  },
  {
   "cell_type": "code",
   "execution_count": 9,
   "metadata": {},
   "outputs": [
    {
     "output_type": "stream",
     "name": "stdout",
     "text": "Quantidade registros figure_1:(55, 12)\nQuantidade registros cohen:(682, 29)\nQuantidade registros Actualmed:(238, 13)\nQuantidade registros RadiographyDatabase Covid:(219, 4)\nQuantidade registros RadiographyDatabase Normal:(1341, 4)\nQuantidade registros RadiographyDatabase Pneunonia:(1345, 4)\nQuantidade registros Actualmed:(238, 13)\nQuantidade registros Rsna:(30227, 2)\n"
    }
   ],
   "source": [
    "\n",
    "\n",
    "# df_local_cohen = pd.read_csv(source_dir_metadata_local_cohen,error_bad_lines=False)\n",
    "df_local_figure_1 = pd.read_csv(source_dir_metadata_local_figure_1,error_bad_lines=False,encoding='ISO-8859-1')\n",
    "df_local_cohen = pd.read_csv(source_dir_metadata_local_cohen,error_bad_lines=False,encoding='ISO-8859-1')\n",
    "df_local_Actualmed = pd.read_csv(source_dir_metadata_local_Actualmed,error_bad_lines=False,encoding='ISO-8859-1')\n",
    "\n",
    "df_local_RadiographyDatabase_Covid = pd.read_excel(r\"{0}/{1}\".format(dir_source_RadiographyDatabase,'COVID-19.metadata.xlsx'),error_bad_lines=False, encoding='ISO-8859-1')\n",
    "\n",
    "df_local_RadiographyDatabase_Normal = pd.read_excel(r\"{0}/{1}\".format(dir_source_RadiographyDatabase,'NORMAL.metadata.xlsx'),error_bad_lines=False, encoding='ISO-8859-1')\n",
    "\n",
    "df_local_RadiographyDatabase_Pneumonia = pd.read_excel(r\"{0}/{1}\".format(dir_source_RadiographyDatabase,'Viral Pneumonia.matadata.xlsx'),error_bad_lines=False, encoding='ISO-8859-1')\n",
    "\n",
    "\n",
    "source_dir_metadata_RadiographyDatabase_Imagens_Covid = r\"{0}/{1}\".format(dir_source_RadiographyDatabase,'COVID-19')\n",
    "source_dir_metadata_RadiographyDatabase_Imagens_Normal = r\"{0}/{1}\".format(dir_source_RadiographyDatabase,'NORMAL')\n",
    "source_dir_metadata_RadiographyDatabase_Imagens_Pneumonia= r\"{0}/{1}\".format(dir_source_RadiographyDatabase,'Viral Pneumonia')\n",
    "\n",
    "\n",
    "\n",
    "df_rsna = pd.read_csv(dir_source_pneumonia_csv_train_detailed,error_bad_lines=False,encoding='ISO-8859-1')\n",
    "\n",
    "print(\"Quantidade registros figure_1:{0}\".format(df_local_figure_1.shape))\n",
    "print(\"Quantidade registros cohen:{0}\".format(df_local_cohen.shape))\n",
    "print(\"Quantidade registros Actualmed:{0}\".format(df_local_Actualmed.shape))\n",
    "print(\"Quantidade registros RadiographyDatabase Covid:{0}\".format(df_local_RadiographyDatabase_Covid.shape))\n",
    "print(\"Quantidade registros RadiographyDatabase Normal:{0}\".format(df_local_RadiographyDatabase_Normal.shape))\n",
    "print(\"Quantidade registros RadiographyDatabase Pneunonia:{0}\".format(df_local_RadiographyDatabase_Pneumonia.shape))\n",
    "print(\"Quantidade registros Actualmed:{0}\".format(df_local_Actualmed.shape))\n",
    "print(\"Quantidade registros Rsna:{0}\".format(df_rsna.shape))"
   ]
  },
  {
   "cell_type": "markdown",
   "metadata": {},
   "source": [
    "## tranferencia dos arquivos de Covid 19"
   ]
  },
  {
   "cell_type": "code",
   "execution_count": 10,
   "metadata": {},
   "outputs": [
    {
     "output_type": "execute_result",
     "data": {
      "text/plain": "covid-19     451\npneumonia     63\nName: prognostico, dtype: int64"
     },
     "metadata": {},
     "execution_count": 10
    }
   ],
   "source": [
    "df_local_cohen['prognostico'] = df_local_cohen['finding'].map(map_prognostico)\n",
    "\n",
    "\n",
    "df_local_cohen['prognostico'].value_counts()\n",
    "\n",
    "# df_covid =  df_metadata.query('indicadorPrognostico == 1 and posicao_imagem ==\"PA\" and tipoExame ==\"X-ray\"')"
   ]
  },
  {
   "cell_type": "code",
   "execution_count": 11,
   "metadata": {},
   "outputs": [
    {
     "output_type": "execute_result",
     "data": {
      "text/plain": "covid-19     35\npneumonia     2\nName: prognostico, dtype: int64"
     },
     "metadata": {},
     "execution_count": 11
    }
   ],
   "source": [
    "df_local_figure_1['prognostico'] = df_local_figure_1['finding'].map(map_prognostico)\n",
    "\n",
    "\n",
    "df_local_figure_1['prognostico'].value_counts()"
   ]
  },
  {
   "cell_type": "code",
   "execution_count": 12,
   "metadata": {},
   "outputs": [
    {
     "output_type": "execute_result",
     "data": {
      "text/plain": "covid-19    58\nName: prognostico, dtype: int64"
     },
     "metadata": {},
     "execution_count": 12
    }
   ],
   "source": [
    "df_local_Actualmed['prognostico'] = df_local_Actualmed['finding'].map(map_prognostico)\n",
    "\n",
    "df_local_Actualmed['prognostico'].value_counts()\n",
    "\n"
   ]
  },
  {
   "cell_type": "code",
   "execution_count": 13,
   "metadata": {},
   "outputs": [
    {
     "output_type": "execute_result",
     "data": {
      "text/plain": "covid-19    219\nName: prognostico, dtype: int64"
     },
     "metadata": {},
     "execution_count": 13
    }
   ],
   "source": [
    "\n",
    "df_local_RadiographyDatabase_Covid['prognostico'] =\"covid-19\"\n",
    "\n",
    "\n",
    "df_local_RadiographyDatabase_Covid['prognostico'].value_counts()\n",
    "\n"
   ]
  },
  {
   "cell_type": "code",
   "execution_count": 14,
   "metadata": {},
   "outputs": [
    {
     "output_type": "execute_result",
     "data": {
      "text/plain": "covid-19    58\nName: prognostico, dtype: int64"
     },
     "metadata": {},
     "execution_count": 14
    }
   ],
   "source": [
    "df_local_Actualmed['prognostico'] = df_local_Actualmed['finding'].map(map_prognostico)\n",
    "\n",
    "\n",
    "df_local_Actualmed['prognostico'].value_counts()"
   ]
  },
  {
   "cell_type": "code",
   "execution_count": 15,
   "metadata": {},
   "outputs": [
    {
     "output_type": "execute_result",
     "data": {
      "text/plain": "pneumonia    9555\nnormal       8851\nName: prognostico, dtype: int64"
     },
     "metadata": {},
     "execution_count": 15
    }
   ],
   "source": [
    "\n",
    "\n",
    "df_rsna['prognostico'] = df_rsna['class'].map(map_prognostico)\n",
    "\n",
    "\n",
    "df_rsna['prognostico'].value_counts()"
   ]
  },
  {
   "cell_type": "code",
   "execution_count": 16,
   "metadata": {},
   "outputs": [],
   "source": [
    "lista_imagens_covid =[]\n",
    "lista_imagens_pneumonia =[]\n",
    "lista_imagens_normal =[]\n",
    "\n",
    "quantidade_registros = {'normal': 0, 'pneumonia': 0, 'covid-19': 0}"
   ]
  },
  {
   "cell_type": "markdown",
   "metadata": {},
   "source": [
    "# diretorio dos dados Covid"
   ]
  },
  {
   "cell_type": "markdown",
   "metadata": {},
   "source": [
    "## Josephpcohen https://josephpcohen.com/w/public-covid19-dataset/"
   ]
  },
  {
   "cell_type": "code",
   "execution_count": 17,
   "metadata": {
    "tags": [
     "outputPrepend"
    ]
   },
   "outputs": [
    {
     "output_type": "stream",
     "name": "stdout",
     "text": "{'normal': 0, 'pneumonia': 63, 'covid-19': 430}\n"
    }
   ],
   "source": [
    "for row in df_local_cohen[[\"prognostico\",\"filename\"]].iterrows():\n",
    "    imagem_name = row[1].filename\n",
    "    prognostico = row[1].prognostico\n",
    "    source_imagem = \"{0}/{1}\".format(dir_source_imagens_Covid_cohen,imagem_name)\n",
    "    if os.path.exists(source_imagem):\n",
    "        if(prognostico ==\"covid-19\"):\n",
    "            lista_imagens_covid.append(source_imagem)\n",
    "            quantidade_registros[prognostico] +=1\n",
    "        elif (prognostico ==\"pneumonia\"):\n",
    "            lista_imagens_pneumonia.append(source_imagem)\n",
    "            quantidade_registros[prognostico] +=1\n",
    "\n",
    "\n",
    "print(quantidade_registros)\n",
    "            \n",
    "            "
   ]
  },
  {
   "cell_type": "code",
   "execution_count": 18,
   "metadata": {},
   "outputs": [
    {
     "output_type": "stream",
     "name": "stdout",
     "text": "{'normal': 0, 'pneumonia': 65, 'covid-19': 460}\n"
    }
   ],
   "source": [
    "for row in df_local_figure_1[[\"prognostico\",\"patientid\"]].iterrows():\n",
    "    imagem_name = row[1].patientid\n",
    "    prognostico = row[1].prognostico\n",
    "    source_imagem = \"{0}/{1}.jpg\".format(source_dir_imagens_figure_1,imagem_name)\n",
    "    if os.path.exists(source_imagem):\n",
    "        if(prognostico ==\"covid-19\"):\n",
    "            lista_imagens_covid.append(source_imagem)\n",
    "            quantidade_registros[prognostico] +=1\n",
    "        elif (prognostico ==\"pneumonia\"):\n",
    "            lista_imagens_pneumonia.append(source_imagem)\n",
    "            quantidade_registros[prognostico] +=1\n",
    "\n",
    "\n",
    "print(quantidade_registros)"
   ]
  },
  {
   "cell_type": "code",
   "execution_count": 19,
   "metadata": {
    "tags": [
     "outputPrepend"
    ]
   },
   "outputs": [
    {
     "output_type": "stream",
     "name": "stdout",
     "text": "{'normal': 0, 'pneumonia': 65, 'covid-19': 518}\n"
    }
   ],
   "source": [
    "for row in df_local_Actualmed[[\"prognostico\",\"imagename\"]].iterrows():\n",
    "    imagem_name = row[1].imagename\n",
    "    prognostico = row[1].prognostico\n",
    "    source_imagem = \"{0}/{1}\".format(source_dir_imagens_Actualmed,imagem_name)\n",
    "    if os.path.exists(source_imagem):\n",
    "        if(prognostico ==\"covid-19\"):\n",
    "            lista_imagens_covid.append(source_imagem)\n",
    "            quantidade_registros[prognostico] +=1\n",
    "        elif (prognostico ==\"pneumonia\"):\n",
    "            lista_imagens_pneumonia.append(source_imagem)\n",
    "            quantidade_registros[prognostico] +=1\n",
    "\n",
    "\n",
    "print(quantidade_registros)"
   ]
  },
  {
   "cell_type": "code",
   "execution_count": 20,
   "metadata": {},
   "outputs": [
    {
     "output_type": "stream",
     "name": "stdout",
     "text": "{'normal': 0, 'pneumonia': 65, 'covid-19': 604}\n"
    }
   ],
   "source": [
    "for row in df_local_RadiographyDatabase_Covid[[\"prognostico\",\"FILE NAME\",\"FORMAT\"]].iterrows():\n",
    "    imagem_name =\"{0}.{1}\".format(row[1][\"FILE NAME\"],str(row[1][\"FORMAT\"]).lower())\n",
    "    prognostico = row[1].prognostico\n",
    "    source_imagem = \"{0}/{1}\".format(source_dir_metadata_RadiographyDatabase_Imagens_Covid,imagem_name)\n",
    "    if os.path.exists(source_imagem):\n",
    "        if(prognostico ==\"covid-19\"):\n",
    "            lista_imagens_covid.append(source_imagem)\n",
    "            quantidade_registros[prognostico] +=1\n",
    "        elif (prognostico ==\"pneumonia\"):\n",
    "            lista_imagens_pneumonia.append(source_imagem)\n",
    "            quantidade_registros[prognostico] +=1\n",
    "\n",
    "print(quantidade_registros)"
   ]
  },
  {
   "cell_type": "code",
   "execution_count": 33,
   "metadata": {},
   "outputs": [
    {
     "output_type": "execute_result",
     "data": {
      "text/plain": "{'normal': Int64Index([    3,    11,    12,    13,    21,    23,    34,    35,    39,\n                45,\n             ...\n             30194, 30204, 30210, 30211, 30212, 30213, 30216, 30218, 30223,\n             30224],\n            dtype='int64', length=8851),\n 'pneumonia': Int64Index([    4,     5,     8,     9,    14,    15,    16,    17,    19,\n                20,\n             ...\n             30208, 30209, 30214, 30215, 30219, 30220, 30221, 30222, 30225,\n             30226],\n            dtype='int64', length=9555)}"
     },
     "metadata": {},
     "execution_count": 33
    }
   ],
   "source": [
    "df_rsna.groupby(['prognostico']).groups"
   ]
  },
  {
   "cell_type": "code",
   "execution_count": 39,
   "metadata": {
    "tags": [
     "outputPrepend",
     "outputPrepend",
     "outputPrepend",
     "outputPrepend",
     "outputPrepend",
     "outputPrepend",
     "outputPrepend",
     "outputPrepend",
     "outputPrepend",
     "outputPrepend",
     "outputPrepend",
     "outputPrepend",
     "outputPrepend",
     "outputPrepend",
     "outputPrepend",
     "outputPrepend",
     "outputPrepend",
     "outputPrepend",
     "outputPrepend",
     "outputPrepend",
     "outputPrepend",
     "outputPrepend",
     "outputPrepend",
     "outputPrepend",
     "outputPrepend",
     "outputPrepend",
     "outputPrepend",
     "outputPrepend",
     "outputPrepend",
     "outputPrepend",
     "outputPrepend",
     "outputPrepend",
     "outputPrepend",
     "outputPrepend",
     "outputPrepend",
     "outputPrepend",
     "outputPrepend",
     "outputPrepend",
     "outputPrepend",
     "outputPrepend",
     "outputPrepend",
     "outputPrepend",
     "outputPrepend",
     "outputPrepend",
     "outputPrepend",
     "outputPrepend",
     "outputPrepend",
     "outputPrepend",
     "outputPrepend",
     "outputPrepend",
     "outputPrepend",
     "outputPrepend",
     "outputPrepend",
     "outputPrepend",
     "outputPrepend",
     "outputPrepend",
     "outputPrepend",
     "outputPrepend"
    ]
   },
   "outputs": [
    {
     "output_type": "stream",
     "name": "stdout",
     "text": "prognostico                                     NaN\npatientId      0004cfab-14fd-4e49-80ba-63a80b6bddd6\nName: 0, dtype: object\nprognostico                                     NaN\npatientId      00313ee0-9eaa-42f4-b0ab-c148ed3241cd\nName: 1, dtype: object\n"
    }
   ],
   "source": [
    "for row in df_rsna[[\"prognostico\",\"patientId\"]].iterrows():\n",
    "    imagem_name = row[1].patientId\n",
    "    prognostico = row[1].prognostico\n",
    "    print(row[1])\n",
    "    source_imagem = \"{0}/{1}.dcm\".format(dir_source_pneumonia_detailed_class_imagens,imagem_name)\n",
    "    if os.path.exists(source_imagem):\n",
    "        dir_target =\"\"\n",
    "        if(prognostico ==\"normal\"):\n",
    "            dir_target = \"{0}/{1}.jpg\".format(dir_target_diretorio_pneumonia_normal,imagem_name)\n",
    "        elif (prognostico ==\"pneumonia\"):\n",
    "            dir_target = \"{0}/{1}.jpg\".format(dir_target_diretorio_pneumonia_pneumonia,imagem_name)\n",
    "        \n",
    "        if not os.path.exists(dir_target):\n",
    "            ds = dicom.dcmread(source_imagem)\n",
    "            pixel_array_numpy = ds.pixel_array\n",
    "            # cv2.imwrite(dir_target, pixel_array_numpy)\n",
    "            # quantidade_registos[prognostico] +=1"
   ]
  },
  {
   "cell_type": "markdown",
   "metadata": {},
   "source": [
    "## tranfere as imagens do repositorio do rsna para o dataset"
   ]
  },
  {
   "cell_type": "markdown",
   "metadata": {},
   "source": []
  },
  {
   "cell_type": "code",
   "execution_count": 45,
   "metadata": {},
   "outputs": [
    {
     "output_type": "stream",
     "name": "stdout",
     "text": "{'normal': 1, 'pneumonia': 0, 'COVID-19': 0}\n"
    }
   ],
   "source": [
    "\n",
    "\n",
    "for row in df_rsna[[\"prognostico\",\"patientId\"]].iterrows():\n",
    "    imagem_name = row[1].patientId\n",
    "    prognostico = row[1].prognostico\n",
    "    source_imagem = \"{0}/{1}.dcm\".format(dir_source_pneumonia_detailed_class_imagens,imagem_name)\n",
    "    if os.path.exists(source_imagem):\n",
    "        dir_target =\"\"\n",
    "        if(prognostico ==\"normal\"):\n",
    "            dir_target = \"{0}/{1}.jpg\".format(dir_target_diretorio_pneumonia_normal,imagem_name)\n",
    "        elif (prognostico ==\"pneumonia\"):\n",
    "            dir_target = \"{0}/{1}.jpg\".format(dir_target_diretorio_pneumonia_pneumonia,imagem_name)\n",
    "        \n",
    "        if not os.path.exists(dir_target):\n",
    "            ds = dicom.dcmread(source_imagem)\n",
    "            pixel_array_numpy = ds.pixel_array\n",
    "            cv2.imwrite(dir_target, pixel_array_numpy)\n",
    "            quantidade_registos[prognostico] +=1\n",
    "            \n",
    "\n",
    "\n",
    "\n",
    "print(quantidade_registos)        \n"
   ]
  },
  {
   "cell_type": "code",
   "execution_count": 14,
   "metadata": {},
   "outputs": [],
   "source": [
    "df_covid  = pd.read_csv(source_dir_metadata_local)"
   ]
  },
  {
   "cell_type": "code",
   "execution_count": 15,
   "metadata": {},
   "outputs": [
    {
     "output_type": "execute_result",
     "data": {
      "text/plain": "   patientid offset sex   age   finding survival intubated intubation_present  \\\n0          2      0   M  65.0  COVID-19        Y       NaN                NaN   \n\n  went_icu in_icu  ... modality              date  \\\n0      NaN    NaN  ...    X-ray  January 22, 2020   \n\n                                      location  folder  \\\n0  Cho Ray Hospital, Ho Chi Minh City, Vietnam  images   \n\n                                            filename                   doi  \\\n0  auntminnie-a-2020_01_28_23_51_6665_2020_01_28_...  10.1056/nejmc2001272   \n\n                                                 url license  \\\n0  https://www.nejm.org/doi/full/10.1056/NEJMc200...     NaN   \n\n                                      clinical_notes other_notes  \n0  On January 22, 2020, a 65-year-old man with a ...         NaN  \n\n[1 rows x 28 columns]",
      "text/html": "<div>\n<style scoped>\n    .dataframe tbody tr th:only-of-type {\n        vertical-align: middle;\n    }\n\n    .dataframe tbody tr th {\n        vertical-align: top;\n    }\n\n    .dataframe thead th {\n        text-align: right;\n    }\n</style>\n<table border=\"1\" class=\"dataframe\">\n  <thead>\n    <tr style=\"text-align: right;\">\n      <th></th>\n      <th>patientid</th>\n      <th>offset</th>\n      <th>sex</th>\n      <th>age</th>\n      <th>finding</th>\n      <th>survival</th>\n      <th>intubated</th>\n      <th>intubation_present</th>\n      <th>went_icu</th>\n      <th>in_icu</th>\n      <th>...</th>\n      <th>modality</th>\n      <th>date</th>\n      <th>location</th>\n      <th>folder</th>\n      <th>filename</th>\n      <th>doi</th>\n      <th>url</th>\n      <th>license</th>\n      <th>clinical_notes</th>\n      <th>other_notes</th>\n    </tr>\n  </thead>\n  <tbody>\n    <tr>\n      <th>0</th>\n      <td>2</td>\n      <td>0</td>\n      <td>M</td>\n      <td>65.0</td>\n      <td>COVID-19</td>\n      <td>Y</td>\n      <td>NaN</td>\n      <td>NaN</td>\n      <td>NaN</td>\n      <td>NaN</td>\n      <td>...</td>\n      <td>X-ray</td>\n      <td>January 22, 2020</td>\n      <td>Cho Ray Hospital, Ho Chi Minh City, Vietnam</td>\n      <td>images</td>\n      <td>auntminnie-a-2020_01_28_23_51_6665_2020_01_28_...</td>\n      <td>10.1056/nejmc2001272</td>\n      <td>https://www.nejm.org/doi/full/10.1056/NEJMc200...</td>\n      <td>NaN</td>\n      <td>On January 22, 2020, a 65-year-old man with a ...</td>\n      <td>NaN</td>\n    </tr>\n  </tbody>\n</table>\n<p>1 rows × 28 columns</p>\n</div>"
     },
     "metadata": {},
     "execution_count": 15
    }
   ],
   "source": [
    "df_covid.head(1)"
   ]
  }
 ],
 "metadata": {
  "language_info": {
   "codemirror_mode": {
    "name": "ipython",
    "version": 3
   },
   "file_extension": ".py",
   "mimetype": "text/x-python",
   "name": "python",
   "nbconvert_exporter": "python",
   "pygments_lexer": "ipython3",
   "version": "3.7.7-final"
  },
  "orig_nbformat": 2,
  "kernelspec": {
   "name": "python37764bitdeeplearningconda70b0a9c2c78b49cfaeeb6e88dd7dfba8",
   "display_name": "Python 3.7.7 64-bit ('Deep Learning': conda)"
  }
 },
 "nbformat": 4,
 "nbformat_minor": 2
}