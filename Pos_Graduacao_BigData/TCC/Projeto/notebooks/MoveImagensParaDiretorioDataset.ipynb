{
 "cells": [
  {
   "cell_type": "markdown",
   "metadata": {},
   "source": [
    "# O intuito desse notebook e recuperar todas as imagens disponiveis  sobre pneumonia e covid e disponibilizar em um banco de dados\n"
   ]
  },
  {
   "cell_type": "markdown",
   "metadata": {},
   "source": [
    "## bibliotecas necessárias"
   ]
  },
  {
   "cell_type": "code",
   "execution_count": 1,
   "metadata": {},
   "outputs": [],
   "source": [
    "from imutils import paths\n",
    "import pandas as pd\n",
    "import shutil\n",
    "import os"
   ]
  },
  {
   "cell_type": "markdown",
   "metadata": {},
   "source": [
    "## variaveis iniciais"
   ]
  },
  {
   "cell_type": "markdown",
   "metadata": {},
   "source": [
    "## Variaveis aonde está localizado os arquivos originais  de imagens baixados"
   ]
  },
  {
   "cell_type": "code",
   "execution_count": 2,
   "metadata": {},
   "outputs": [],
   "source": [
    "def getTargetDiretorio(tipo):\n",
    "    retorno = \"\"\n",
    "    if(tipo ==\"MaquinaLocal\"):\n",
    "        retorno = r'D:/Repos/AprendendoPython/Pos_Graduacao_BigData/TCC/Projeto'\n",
    "\n",
    "    if(tipo ==\"GoogleDrive\"):\n",
    "       retorno=r'/content/drive/My Drive/TCC Pos Graduação big data/TCC/Projeto/'\n",
    "       \n",
    "    \n",
    "    return retorno"
   ]
  },
  {
   "cell_type": "code",
   "execution_count": 9,
   "metadata": {},
   "outputs": [
    {
     "output_type": "stream",
     "name": "stdout",
     "text": "target\nD:/Repos/AprendendoPython/Pos_Graduacao_BigData/TCC/Projeto\nD:/Repos/AprendendoPython/Pos_Graduacao_BigData/TCC/Projeto/dataset\nD:/Repos/AprendendoPython/Pos_Graduacao_BigData/TCC/Projeto/dataset/covid\nD:/Repos/AprendendoPython/Pos_Graduacao_BigData/TCC/Projeto/dataset/normal\nD:/Repos/AprendendoPython/Pos_Graduacao_BigData/TCC/Projeto/dataset/pneumonia\nsource\nD:/Repos/datasetsGitHub/covid-chestxray-dataset/images\nD:/Repos/pneumonia-chest_xray/test/NORMAL\nD:/Repos/pneumonia-chest_xray/test/PNEUMONIA\nD:/Repos/pneumonia-chest_xray/val/NORMAL\nD:/Repos/pneumonia-chest_xray/val/PNEUMONIA\n"
    }
   ],
   "source": [
    "dir_target_diretorio_raiz = getTargetDiretorio(\"MaquinaLocal\")\n",
    "dir_target_diretorio_dataset =r\"{0}/{1}\".format(dir_target_diretorio_raiz,'dataset')\n",
    "dir_target_diretorio_imagem_covid =r\"{0}/{1}\".format(dir_target_diretorio_dataset,'covid')\n",
    "dir_target_diretorio_pneumonia_normal =r\"{0}/{1}\".format(dir_target_diretorio_dataset,'normal')\n",
    "dir_target_diretorio_pneumonia_pneumonia =r\"{0}/{1}\".format(dir_target_diretorio_dataset,'pneumonia')\n",
    "\n",
    "dir_source_imagens_Covid =r'D:/Repos/datasetsGitHub/covid-chestxray-dataset/images'\n",
    "dir_source_pneumonia =r'D:/Repos/pneumonia-chest_xray'\n",
    "\n",
    "dir_source_pneumonia_normal = \"{0}/{1}/{2}\".format(dir_source_pneumonia,\"test\",\"NORMAL\")  # 234 imagens\n",
    "dir_source_pneumonia_pneumonia = \"{0}/{1}/{2}\".format(dir_source_pneumonia,\"test\",\"PNEUMONIA\") # 390 imagens\n",
    "\n",
    "dir_source_validacao_pneumonia_normal = \"{0}/{1}/{2}\".format(dir_source_pneumonia,\"val\",\"NORMAL\")  # 234 imagens\n",
    "dir_source_validacao_pneumonia_validacao = \"{0}/{1}/{2}\".format(dir_source_pneumonia,\"val\",\"PNEUMONIA\") # 390 imagens\n",
    "\n",
    "\n",
    "print(\"target\")\n",
    "print(dir_target_diretorio_raiz)\n",
    "print(dir_target_diretorio_dataset)\n",
    "print(dir_target_diretorio_imagem_covid)\n",
    "print(dir_target_diretorio_pneumonia_normal)\n",
    "print(dir_target_diretorio_pneumonia_pneumonia)\n",
    "print(\"source\")\n",
    "print(dir_source_imagens_Covid)\n",
    "print(dir_source_pneumonia_normal)\n",
    "print(dir_source_pneumonia_pneumonia)\n",
    "print(dir_source_validacao_pneumonia_normal)\n",
    "print(dir_source_validacao_pneumonia_validacao)\n"
   ]
  },
  {
   "cell_type": "markdown",
   "metadata": {},
   "source": [
    "## cria os diretorios se não existirem"
   ]
  },
  {
   "cell_type": "code",
   "execution_count": 6,
   "metadata": {},
   "outputs": [],
   "source": [
    "lista_diretorios_target=[]\n",
    "lista_diretorios_target.append(dir_target_diretorio_raiz)\n",
    "lista_diretorios_target.append(dir_target_diretorio_dataset),\n",
    "lista_diretorios_target.append(dir_target_diretorio_imagem_covid),\n",
    "lista_diretorios_target.append(dir_target_diretorio_pneumonia_normal),\n",
    "lista_diretorios_target.append(dir_target_diretorio_pneumonia_pneumonia)\n",
    "\n",
    "for item in lista_diretorios_target:\n",
    "    if not os.path.exists(item):\n",
    "        os.mkdir(item)\n",
    "    \n",
    "\n",
    "\n"
   ]
  },
  {
   "cell_type": "markdown",
   "metadata": {},
   "source": [
    "## variaveis do diretorio dos conjuntos de dados originais\n",
    "\n"
   ]
  },
  {
   "cell_type": "markdown",
   "metadata": {},
   "source": [
    "## valida se o diretorio do git recebeu novas imagens\n"
   ]
  },
  {
   "cell_type": "code",
   "execution_count": 18,
   "metadata": {},
   "outputs": [],
   "source": [
    "source_dir_metadata_local = r'D:/Repos/datasetsGitHub/covid-chestxray-dataset/metadata.csv'\n",
    "\n",
    "metadata_web_git ='https://raw.githubusercontent.com/ieee8023/covid-chestxray-dataset/master/metadata.csv'\n",
    "\n"
   ]
  },
  {
   "cell_type": "code",
   "execution_count": 19,
   "metadata": {},
   "outputs": [
    {
     "output_type": "stream",
     "name": "stdout",
     "text": "556\n565\nforam removidas 9 imagens  no git web\n"
    }
   ],
   "source": [
    "df_git_covid_web  = pd.read_csv(metadata_web_git,error_bad_lines=False)\n",
    "\n",
    "df_git_covid_local = pd.read_csv(source_dir_metadata_local,error_bad_lines=False)\n",
    "\n",
    "\n",
    "print(len(df_git_covid_web))\n",
    "print(len(df_git_covid_local))\n",
    "\n",
    "if(len(df_git_covid_web) > len(df_git_covid_local)):\n",
    "    print('temos {0} imagens com covid a mais no git web'.format(len(df_git_covid_web) - len(df_git_covid_local)))\n",
    "elif(len(df_git_covid_web) < len(df_git_covid_local)):\n",
    "    print('foram removidas {0} imagens  no git web'.format(len(df_git_covid_local) - len(df_git_covid_web)))\n"
   ]
  },
  {
   "cell_type": "code",
   "execution_count": 20,
   "metadata": {},
   "outputs": [],
   "source": [
    "df_covid  = pd.read_csv(source_dir_metadata_local)"
   ]
  },
  {
   "cell_type": "code",
   "execution_count": 18,
   "metadata": {},
   "outputs": [
    {
     "output_type": "execute_result",
     "data": {
      "text/plain": "   patientid offset sex   age   finding survival intubated intubation_present  \\\n0          2      0   M  65.0  COVID-19        Y       NaN                NaN   \n\n  went_icu in_icu  ... modality              date  \\\n0      NaN    NaN  ...    X-ray  January 22, 2020   \n\n                                      location  folder  \\\n0  Cho Ray Hospital, Ho Chi Minh City, Vietnam  images   \n\n                                            filename                   doi  \\\n0  auntminnie-a-2020_01_28_23_51_6665_2020_01_28_...  10.1056/nejmc2001272   \n\n                                                 url license  \\\n0  https://www.nejm.org/doi/full/10.1056/NEJMc200...     NaN   \n\n                                      clinical_notes other_notes  \n0  On January 22, 2020, a 65-year-old man with a ...         NaN  \n\n[1 rows x 28 columns]",
      "text/html": "<div>\n<style scoped>\n    .dataframe tbody tr th:only-of-type {\n        vertical-align: middle;\n    }\n\n    .dataframe tbody tr th {\n        vertical-align: top;\n    }\n\n    .dataframe thead th {\n        text-align: right;\n    }\n</style>\n<table border=\"1\" class=\"dataframe\">\n  <thead>\n    <tr style=\"text-align: right;\">\n      <th></th>\n      <th>patientid</th>\n      <th>offset</th>\n      <th>sex</th>\n      <th>age</th>\n      <th>finding</th>\n      <th>survival</th>\n      <th>intubated</th>\n      <th>intubation_present</th>\n      <th>went_icu</th>\n      <th>in_icu</th>\n      <th>...</th>\n      <th>modality</th>\n      <th>date</th>\n      <th>location</th>\n      <th>folder</th>\n      <th>filename</th>\n      <th>doi</th>\n      <th>url</th>\n      <th>license</th>\n      <th>clinical_notes</th>\n      <th>other_notes</th>\n    </tr>\n  </thead>\n  <tbody>\n    <tr>\n      <th>0</th>\n      <td>2</td>\n      <td>0</td>\n      <td>M</td>\n      <td>65.0</td>\n      <td>COVID-19</td>\n      <td>Y</td>\n      <td>NaN</td>\n      <td>NaN</td>\n      <td>NaN</td>\n      <td>NaN</td>\n      <td>...</td>\n      <td>X-ray</td>\n      <td>January 22, 2020</td>\n      <td>Cho Ray Hospital, Ho Chi Minh City, Vietnam</td>\n      <td>images</td>\n      <td>auntminnie-a-2020_01_28_23_51_6665_2020_01_28_...</td>\n      <td>10.1056/nejmc2001272</td>\n      <td>https://www.nejm.org/doi/full/10.1056/NEJMc200...</td>\n      <td>NaN</td>\n      <td>On January 22, 2020, a 65-year-old man with a ...</td>\n      <td>NaN</td>\n    </tr>\n  </tbody>\n</table>\n<p>1 rows × 28 columns</p>\n</div>"
     },
     "metadata": {},
     "execution_count": 18
    }
   ],
   "source": [
    "df_covid.head(1)"
   ]
  },
  {
   "cell_type": "markdown",
   "metadata": {},
   "source": [
    "## populando "
   ]
  },
  {
   "cell_type": "markdown",
   "metadata": {},
   "source": [
    "## Importando nossas imagens para o banco de dados SqlLite"
   ]
  },
  {
   "cell_type": "code",
   "execution_count": 21,
   "metadata": {},
   "outputs": [],
   "source": [
    "def clear_diretorio(diretorio):\n",
    "    for file in os.listdir(diretorio):\n",
    "        full_name =os.path.join(diretorio, file)\n",
    "        \n",
    "        if os.path.exists(full_name):\n",
    "            os.remove(full_name) \n",
    "        \n",
    "        \n",
    "\n",
    "def get_imagens_covid(dataframe,diretorio):\n",
    "        lista =[]\n",
    "        for (i,row) in dataframe.iterrows():\n",
    "                imagemName=row[\"filename\"]\n",
    "                image_source  = \"{0}/{1}\".format(diretorio,imagemName)\n",
    "                lista.append(image_source)\n",
    "\n",
    "        return lista\n",
    "\n",
    "\n",
    "def get_imagens_diretorio(diretorio):\n",
    "        imagePaths =[]\n",
    "        imagePaths = list(paths.list_images(diretorio))\n",
    "        imagePaths = [ item.replace(\"\\\\\",\"/\") for item in imagePaths]\n",
    "        \n",
    "        return imagePaths        \n"
   ]
  },
  {
   "cell_type": "markdown",
   "metadata": {},
   "source": [
    "## Carregar as listas de imagens"
   ]
  },
  {
   "cell_type": "code",
   "execution_count": 22,
   "metadata": {},
   "outputs": [
    {
     "output_type": "stream",
     "name": "stdout",
     "text": "source\nD:/Repos/datasetsGitHub/covid-chestxray-dataset/images\nD:/Repos/pneumonia-chest_xray/test/NORMAL\nD:/Repos/pneumonia-chest_xray/test/PNEUMONIA\nD:/Repos/pneumonia-chest_xray/val/NORMAL\nD:/Repos/pneumonia-chest_xray/val/PNEUMONIA\ntarget\nD:/Repos/AprendendoPython/Pos_Graduacao_BigData/TCC/Projeto\nD:/Repos/AprendendoPython/Pos_Graduacao_BigData/TCC/Projeto/dataset\nD:/Repos/AprendendoPython/Pos_Graduacao_BigData/TCC/Projeto/dataset/covid\nD:/Repos/AprendendoPython/Pos_Graduacao_BigData/TCC/Projeto/dataset/normal\nD:/Repos/AprendendoPython/Pos_Graduacao_BigData/TCC/Projeto/dataset/pneumonia\n"
    }
   ],
   "source": [
    "\n",
    "\n",
    "print(\"source\")\n",
    "print(dir_source_imagens_Covid)\n",
    "print(dir_source_pneumonia_normal)\n",
    "print(dir_source_pneumonia_pneumonia)\n",
    "print(dir_source_validacao_pneumonia_normal)\n",
    "print(dir_source_validacao_pneumonia_validacao)\n",
    "print(\"target\")\n",
    "print(dir_target_diretorio_raiz)\n",
    "print(dir_target_diretorio_dataset)\n",
    "print(dir_target_diretorio_imagem_covid)\n",
    "print(dir_target_diretorio_pneumonia_normal)\n",
    "print(dir_target_diretorio_pneumonia_pneumonia)\n",
    "\n"
   ]
  },
  {
   "cell_type": "code",
   "execution_count": 55,
   "metadata": {
    "tags": [
     "outputPrepend"
    ]
   },
   "outputs": [
    {
     "output_type": "stream",
     "name": "stdout",
     "text": "565\n234\n390\n"
    },
    {
     "output_type": "execute_result",
     "data": {
      "text/plain": "['D:/Repos/pneumonia-chest_xray/test/PNEUMONIA/person100_bacteria_475.jpeg',\n 'D:/Repos/pneumonia-chest_xray/test/PNEUMONIA/person100_bacteria_477.jpeg',\n 'D:/Repos/pneumonia-chest_xray/test/PNEUMONIA/person100_bacteria_478.jpeg',\n 'D:/Repos/pneumonia-chest_xray/test/PNEUMONIA/person100_bacteria_479.jpeg']"
     },
     "metadata": {},
     "execution_count": 55
    }
   ],
   "source": [
    "\n",
    "\n",
    "source_lista_imagens_com_Covid = []\n",
    "source_lista_imagens_pneumonia_normal = []\n",
    "source_lista_imagens_pneumonia_Pneumonia = []\n",
    "\n",
    "source_lista_imagens_com_Covid = get_imagens_covid(df_covid,dir_source_imagens_Covid)\n",
    "source_lista_imagens_pneumonia_normal = get_imagens_diretorio(dir_source_pneumonia_normal)\n",
    "source_lista_imagens_pneumonia_Pneumonia = get_imagens_diretorio(dir_source_pneumonia_pneumonia)\n",
    "\n",
    "print(len(source_lista_imagens_com_Covid))\n",
    "print(len(source_lista_imagens_pneumonia_normal))\n",
    "print(len(source_lista_imagens_pneumonia_Pneumonia))\n",
    "\n",
    "\n",
    "\n",
    "\n"
   ]
  },
  {
   "cell_type": "markdown",
   "metadata": {},
   "source": [
    "## Limpar os diretorios target"
   ]
  },
  {
   "cell_type": "code",
   "execution_count": 56,
   "metadata": {
    "tags": [
     "outputPrepend"
    ]
   },
   "outputs": [],
   "source": [
    "clear_diretorio(dir_target_diretorio_imagem_covid)     \n",
    "clear_diretorio(dir_target_diretorio_pneumonia_pneumonia)       \n",
    "clear_diretorio(dir_target_diretorio_pneumonia_pneumonia)        \n",
    "            "
   ]
  },
  {
   "cell_type": "code",
   "execution_count": 57,
   "metadata": {
    "tags": [
     "outputPrepend"
    ]
   },
   "outputs": [],
   "source": [
    "\n",
    "def move_imagens_from_source_to_target(source_lista,target):\n",
    "    for source_path in source_lista:\n",
    "        imagemName =source_path.split('/')[-1]\n",
    "        source_target= \"{0}/{1}\".format(target,imagemName)\n",
    "    # print(source_path)\n",
    "    # print(source_target)\n",
    "        if(os.path.exists(source_path)):\n",
    "            if not os.path.exists(source_target):\n",
    "                shutil.copy2(source_path,source_target)\n",
    "    \n",
    "    \n",
    "\n",
    "\n",
    "             \n",
    "        \n",
    " \n",
    "        "
   ]
  },
  {
   "cell_type": "code",
   "execution_count": 60,
   "metadata": {},
   "outputs": [],
   "source": [
    "source_lista =source_lista_imagens_com_Covid\n",
    "target =dir_target_diretorio_imagem_covid\n",
    "\n",
    "move_imagens_from_source_to_target(source_lista,target)   \n",
    "\n",
    "source_lista =source_lista_imagens_pneumonia_normal\n",
    "target =dir_target_diretorio_pneumonia_normal\n",
    "\n",
    "move_imagens_from_source_to_target(source_lista,target)   \n",
    "\n",
    "\n",
    "source_lista =source_lista_imagens_pneumonia_Pneumonia\n",
    "target =dir_target_diretorio_pneumonia_pneumonia\n",
    "\n",
    "move_imagens_from_source_to_target(source_lista,target)   \n"
   ]
  },
  {
   "cell_type": "markdown",
   "metadata": {},
   "source": [
    "## listas auxiliares\n"
   ]
  },
  {
   "cell_type": "code",
   "execution_count": 14,
   "metadata": {},
   "outputs": [],
   "source": []
  }
 ],
 "metadata": {
  "language_info": {
   "codemirror_mode": {
    "name": "ipython",
    "version": 3
   },
   "file_extension": ".py",
   "mimetype": "text/x-python",
   "name": "python",
   "nbconvert_exporter": "python",
   "pygments_lexer": "ipython3",
   "version": "3.7.7-final"
  },
  "orig_nbformat": 2,
  "kernelspec": {
   "name": "python37764bitdeeplearningconda70b0a9c2c78b49cfaeeb6e88dd7dfba8",
   "display_name": "Python 3.7.7 64-bit ('Deep Learning': conda)"
  }
 },
 "nbformat": 4,
 "nbformat_minor": 2
}