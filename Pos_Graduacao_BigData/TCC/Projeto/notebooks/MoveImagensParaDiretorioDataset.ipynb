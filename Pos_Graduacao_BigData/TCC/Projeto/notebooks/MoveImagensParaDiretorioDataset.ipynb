{
 "cells": [
  {
   "cell_type": "markdown",
   "metadata": {},
   "source": [
    "# O intuito desse notebook e recuperar todas as imagens disponiveis  sobre pneumonia e covid e disponibilizar em um banco de dados\n"
   ]
  },
  {
   "cell_type": "markdown",
   "metadata": {},
   "source": [
    "## bibliotecas necessárias"
   ]
  },
  {
   "cell_type": "code",
   "execution_count": 3,
   "metadata": {},
   "outputs": [
    {
     "output_type": "stream",
     "name": "stdout",
     "text": "Collecting pydicom\n  Downloading pydicom-2.0.0-py3-none-any.whl (35.4 MB)\nInstalling collected packages: pydicom\nSuccessfully installed pydicom-2.0.0\n"
    }
   ],
   "source": [
    "!pip install pydicom"
   ]
  },
  {
   "cell_type": "code",
   "execution_count": 20,
   "metadata": {},
   "outputs": [],
   "source": [
    "from imutils import paths\n",
    "import pydicom as dicom\n",
    "import pandas as pd\n",
    "import shutil\n",
    "import cv2 \n",
    "import os"
   ]
  },
  {
   "cell_type": "markdown",
   "metadata": {},
   "source": [
    "##  diretorios target e source"
   ]
  },
  {
   "cell_type": "code",
   "execution_count": 21,
   "metadata": {},
   "outputs": [],
   "source": [
    "def getTargetDiretorio(tipo):\n",
    "    retorno = \"\"\n",
    "    if(tipo ==\"MaquinaLocal\"):\n",
    "        retorno = r'D:/Repos/AprendendoPython/Pos_Graduacao_BigData/TCC/Projeto'\n",
    "\n",
    "    if(tipo ==\"GoogleDrive\"):\n",
    "       retorno=r'/content/drive/My Drive/TCC Pos Graduação big data/TCC/Projeto/'\n",
    "       \n",
    "    \n",
    "    return retorno"
   ]
  },
  {
   "cell_type": "code",
   "execution_count": 22,
   "metadata": {},
   "outputs": [
    {
     "output_type": "stream",
     "name": "stdout",
     "text": "source\n['D:/Repos/datasetsGitHub/covid-chestxray-dataset/images']\nD:/Repos/rsna-pneumonia-detection-challenge/stage_2_train_images\ntarget\nD:/Repos/AprendendoPython/Pos_Graduacao_BigData/TCC/Projeto\nD:/Repos/AprendendoPython/Pos_Graduacao_BigData/TCC/Projeto/dataset\nD:/Repos/AprendendoPython/Pos_Graduacao_BigData/TCC/Projeto/dataset/covid\nD:/Repos/AprendendoPython/Pos_Graduacao_BigData/TCC/Projeto/dataset/normal\nD:/Repos/AprendendoPython/Pos_Graduacao_BigData/TCC/Projeto/dataset/pneumonia\n"
    }
   ],
   "source": [
    "dir_target_diretorio_raiz = getTargetDiretorio(\"MaquinaLocal\")\n",
    "dir_target_diretorio_dataset =r\"{0}/{1}\".format(dir_target_diretorio_raiz,'dataset')\n",
    "dir_target_diretorio_imagem_covid =r\"{0}/{1}\".format(dir_target_diretorio_dataset,'covid')\n",
    "dir_target_diretorio_pneumonia_normal =r\"{0}/{1}\".format(dir_target_diretorio_dataset,'normal')\n",
    "dir_target_diretorio_pneumonia_pneumonia =r\"{0}/{1}\".format(dir_target_diretorio_dataset,'pneumonia')\n",
    "\n",
    "dir_source_imagens_Covid = []\n",
    "\n",
    "dir_source_imagens_Covid_cohen =r'D:/Repos/datasetsGitHub/covid-chestxray-dataset/images'\n",
    "\n",
    "dir_source_imagens_Covid.append(dir_source_imagens_Covid_cohen)\n",
    "\n",
    "\n",
    "## diretorios pra pneumonia\n",
    "dir_source_rsna_pneumonia =r'D:/Repos/rsna-pneumonia-detection-challenge'\n",
    "dir_source_pneumonia_csv_detailed_class =r\"{0}/{1}\".format(dir_source_rsna_pneumonia,'stage_2_detailed_class_info.csv')\n",
    "dir_source_pneumonia_csv_train_labels = r\"{0}/{1}\".format(dir_source_rsna_pneumonia,'stage_2_train_labels.csv') \n",
    "\n",
    "dir_source_pneumonia_detailed_class_imagens =r\"{0}/{1}\".format(dir_source_rsna_pneumonia,'stage_2_train_images')\n",
    "\n",
    "\n",
    "\n",
    "\n",
    "print(\"source\")\n",
    "print(dir_source_imagens_Covid)\n",
    "print(dir_source_pneumonia_detailed_class_imagens)\n",
    "\n",
    "\n",
    "print(\"target\")\n",
    "print(dir_target_diretorio_raiz)\n",
    "print(dir_target_diretorio_dataset)\n",
    "print(dir_target_diretorio_imagem_covid)\n",
    "print(dir_target_diretorio_pneumonia_normal)\n",
    "print(dir_target_diretorio_pneumonia_pneumonia)\n",
    "\n",
    "\n",
    "\n",
    "\n"
   ]
  },
  {
   "cell_type": "code",
   "execution_count": 23,
   "metadata": {},
   "outputs": [],
   "source": [
    "lista_diretorios_target=[]\n",
    "lista_diretorios_target.append(dir_target_diretorio_raiz)\n",
    "lista_diretorios_target.append(dir_target_diretorio_dataset),\n",
    "lista_diretorios_target.append(dir_target_diretorio_imagem_covid),\n",
    "lista_diretorios_target.append(dir_target_diretorio_pneumonia_normal),\n",
    "lista_diretorios_target.append(dir_target_diretorio_pneumonia_pneumonia)\n",
    "\n",
    "for item in lista_diretorios_target:\n",
    "    if not os.path.exists(item):\n",
    "        os.mkdir(item)\n",
    "    \n",
    "\n",
    "\n"
   ]
  },
  {
   "cell_type": "markdown",
   "metadata": {},
   "source": [
    "## metodos auxiliares"
   ]
  },
  {
   "cell_type": "code",
   "execution_count": 24,
   "metadata": {},
   "outputs": [],
   "source": [
    "def clear_diretorio(diretorio):\n",
    "    for file in os.listdir(diretorio):\n",
    "        full_name =os.path.join(diretorio, file)\n",
    "        \n",
    "        if os.path.exists(full_name):\n",
    "            os.remove(full_name) \n",
    "        \n",
    "        \n",
    "\n",
    "def get_imagens_covid(dataframe,diretorio):\n",
    "        lista =[]\n",
    "        for (i,row) in dataframe.iterrows():\n",
    "                imagemName=row[\"filename\"]\n",
    "                image_source  = \"{0}/{1}\".format(diretorio,imagemName)\n",
    "                lista.append(image_source)\n",
    "\n",
    "        return lista\n",
    "\n",
    "\n",
    "def get_imagens_diretorio(diretorio):\n",
    "        imagePaths =[]\n",
    "        imagePaths = list(paths.list_images(diretorio))\n",
    "        imagePaths = [ item.replace(\"\\\\\",\"/\") for item in imagePaths]\n",
    "        \n",
    "        return imagePaths    \n",
    "\n",
    "\n",
    "def move_imagens_from_source_to_target(source_lista,target):\n",
    "    for source_path in source_lista:\n",
    "        imagemName =source_path.split('/')[-1]\n",
    "        source_target= \"{0}/{1}\".format(target,imagemName)\n",
    "    # print(source_path)\n",
    "    # print(source_target)\n",
    "        if(os.path.exists(source_path)):\n",
    "            if not os.path.exists(source_target):\n",
    "                shutil.copy2(source_path,source_target)\n",
    "    \n",
    "                \n"
   ]
  },
  {
   "cell_type": "markdown",
   "metadata": {},
   "source": [
    "## leitura dos repositorios"
   ]
  },
  {
   "cell_type": "code",
   "execution_count": 25,
   "metadata": {},
   "outputs": [],
   "source": [
    "source_dir_metadata_local_cohen  = r'D:/Repos/datasetsGitHub/covid-chestxray-dataset/metadata.csv'\n",
    "\n",
    "metadata_web_git ='https://raw.githubusercontent.com/ieee8023/covid-chestxray-dataset/master/metadata.csv'\n",
    "\n"
   ]
  },
  {
   "cell_type": "code",
   "execution_count": 26,
   "metadata": {},
   "outputs": [
    {
     "output_type": "stream",
     "name": "stdout",
     "text": "682\n565\ntemos 117 imagens com covid a mais no git web\n"
    }
   ],
   "source": [
    "df_git_covid_web  = pd.read_csv(metadata_web_git,error_bad_lines=False)\n",
    "\n",
    "df_git_covid_local = pd.read_csv(source_dir_metadata_local_cohen,error_bad_lines=False)\n",
    "\n",
    "\n",
    "print(len(df_git_covid_web))\n",
    "print(len(df_git_covid_local))\n",
    "\n",
    "if(len(df_git_covid_web) > len(df_git_covid_local)):\n",
    "    print('temos {0} imagens com covid a mais no git web'.format(len(df_git_covid_web) - len(df_git_covid_local)))\n",
    "elif(len(df_git_covid_web) < len(df_git_covid_local)):\n",
    "    print('foram removidas {0} imagens  no git web'.format(len(df_git_covid_local) - len(df_git_covid_web)))\n"
   ]
  },
  {
   "cell_type": "code",
   "execution_count": 38,
   "metadata": {},
   "outputs": [],
   "source": [
    "map_prognostico  =  { 'Lung Opacity': 'pneumonia',\n",
    "    'Normal' :'normal',\n",
    "    'COVID-19':'COVID-19',\n",
    "    'SARS': 'pneumonia',\n",
    "    'MERS': 'pneumonia',\n",
    "    'Streptococcus': 'pneumonia',\n",
    "    'Klebsiella': 'pneumonia',\n",
    "    'Chlamydophila': 'pneumonia',\n",
    "    'Legionella': 'pneumonia',\n",
    "    'Normal': 'normal'\n",
    "\n",
    "}\n",
    "\n",
    "\n",
    "\n"
   ]
  },
  {
   "cell_type": "code",
   "execution_count": 40,
   "metadata": {},
   "outputs": [],
   "source": [
    "quantidade_registros = {'normal': 0, 'pneumonia': 0, 'COVID-19': 0}"
   ]
  },
  {
   "cell_type": "markdown",
   "metadata": {},
   "source": [
    "## caso necessario limpa os diretorios targets"
   ]
  },
  {
   "cell_type": "code",
   "execution_count": 29,
   "metadata": {},
   "outputs": [],
   "source": [
    "clear_diretorio(dir_target_diretorio_imagem_covid)     \n",
    "clear_diretorio(dir_target_diretorio_pneumonia_pneumonia)       \n",
    "clear_diretorio(dir_target_diretorio_pneumonia_normal)       "
   ]
  },
  {
   "cell_type": "markdown",
   "metadata": {},
   "source": [
    "## tranferencia dos arquivos de Covid 19"
   ]
  },
  {
   "cell_type": "code",
   "execution_count": 41,
   "metadata": {},
   "outputs": [
    {
     "output_type": "execute_result",
     "data": {
      "text/plain": "(565, 28)"
     },
     "metadata": {},
     "execution_count": 41
    }
   ],
   "source": [
    "df_git_covid_local.shape"
   ]
  },
  {
   "cell_type": "code",
   "execution_count": 42,
   "metadata": {},
   "outputs": [],
   "source": [
    "df_git_covid_local['prognostico'] = df_git_covid_local['finding'].map(map_prognostico)\n",
    "\n",
    "\n",
    "# df_covid =  df_metadata.query('indicadorPrognostico == 1 and posicao_imagem ==\"PA\" and tipoExame ==\"X-ray\"')"
   ]
  },
  {
   "cell_type": "code",
   "execution_count": 43,
   "metadata": {},
   "outputs": [
    {
     "output_type": "execute_result",
     "data": {
      "text/plain": "COVID-19     420\npneumonia     40\nName: prognostico, dtype: int64"
     },
     "metadata": {},
     "execution_count": 43
    }
   ],
   "source": [
    "df_git_covid_local['prognostico'].value_counts()"
   ]
  },
  {
   "cell_type": "code",
   "execution_count": null,
   "metadata": {},
   "outputs": [],
   "source": [
    "for row in df_rsna[[\"prognostico\",\"patientId\"]].iterrows():\n",
    "    # imagem_name = row[1].patientId\n",
    "    # prognostico = row[1].prognostico\n",
    "    # source_imagem = \"{0}/{1}.dcm\".format(dir_source_pneumonia_detailed_class_imagens,imagem_name)\n",
    "    # if os.path.exists(source_imagem):\n",
    "    #     dir_target =\"\"\n",
    "    #     if(prognostico ==\"normal\"):\n",
    "    #         dir_target = \"{0}/{1}.jpg\".format(dir_target_diretorio_pneumonia_normal,imagem_name)\n",
    "    #     elif (prognostico ==\"pneumonia\"):\n",
    "    #         dir_target = \"{0}/{1}.jpg\".format(dir_target_diretorio_pneumonia_pneumonia,imagem_name)\n",
    "        \n",
    "    #     if not os.path.exists(dir_target):\n",
    "    #         ds = dicom.dcmread(source_imagem)\n",
    "    #         pixel_array_numpy = ds.pixel_array\n",
    "    #         cv2.imwrite(dir_target, pixel_array_numpy)\n",
    "    #         quantidade_registos[prognostico] +=1"
   ]
  },
  {
   "cell_type": "code",
   "execution_count": null,
   "metadata": {},
   "outputs": [],
   "source": [
    "for row in df_rsna[[\"prognostico\",\"patientId\"]].iterrows():\n",
    "    imagem_name = row[1].patientId\n",
    "    prognostico = row[1].prognostico\n",
    "    source_imagem = \"{0}/{1}.dcm\".format(dir_source_pneumonia_detailed_class_imagens,imagem_name)\n",
    "    if os.path.exists(source_imagem):\n",
    "        dir_target =\"\"\n",
    "        if(prognostico ==\"normal\"):\n",
    "            dir_target = \"{0}/{1}.jpg\".format(dir_target_diretorio_pneumonia_normal,imagem_name)\n",
    "        elif (prognostico ==\"pneumonia\"):\n",
    "            dir_target = \"{0}/{1}.jpg\".format(dir_target_diretorio_pneumonia_pneumonia,imagem_name)\n",
    "        \n",
    "        if not os.path.exists(dir_target):\n",
    "            ds = dicom.dcmread(source_imagem)\n",
    "            pixel_array_numpy = ds.pixel_array\n",
    "            cv2.imwrite(dir_target, pixel_array_numpy)\n",
    "            quantidade_registos[prognostico] +=1"
   ]
  },
  {
   "cell_type": "markdown",
   "metadata": {},
   "source": [
    "## tranfere as imagens do repositorio do rsna para o dataset"
   ]
  },
  {
   "cell_type": "code",
   "execution_count": 11,
   "metadata": {},
   "outputs": [
    {
     "output_type": "execute_result",
     "data": {
      "text/plain": "No Lung Opacity / Not Normal    11821\nLung Opacity                     9555\nNormal                           8851\nName: class, dtype: int64"
     },
     "metadata": {},
     "execution_count": 11
    }
   ],
   "source": [
    "df_csv_detailed_class = pd.read_csv(dir_source_pneumonia_csv_detailed_class)\n",
    "\n",
    "df_csv_detailed_class[\"class\"].value_counts()\n",
    "\n"
   ]
  },
  {
   "cell_type": "code",
   "execution_count": 12,
   "metadata": {},
   "outputs": [],
   "source": [
    "df_rsna = df_csv_detailed_class.loc[df_csv_detailed_class['class'].isin(['Normal','Lung Opacity'])]"
   ]
  },
  {
   "cell_type": "code",
   "execution_count": 13,
   "metadata": {},
   "outputs": [
    {
     "output_type": "execute_result",
     "data": {
      "text/plain": "Lung Opacity    9555\nNormal          8851\nName: class, dtype: int64"
     },
     "metadata": {},
     "execution_count": 13
    }
   ],
   "source": [
    "df_rsna[\"prognostico\"] = df_rsna['class'].map(map_prognostico)\n",
    "\n",
    "df_rsna[\"class\"].value_counts()"
   ]
  },
  {
   "cell_type": "markdown",
   "metadata": {},
   "source": []
  },
  {
   "cell_type": "code",
   "execution_count": 45,
   "metadata": {},
   "outputs": [
    {
     "output_type": "stream",
     "name": "stdout",
     "text": "{'normal': 1, 'pneumonia': 0, 'COVID-19': 0}\n"
    }
   ],
   "source": [
    "\n",
    "\n",
    "for row in df_rsna[[\"prognostico\",\"patientId\"]].iterrows():\n",
    "    imagem_name = row[1].patientId\n",
    "    prognostico = row[1].prognostico\n",
    "    source_imagem = \"{0}/{1}.dcm\".format(dir_source_pneumonia_detailed_class_imagens,imagem_name)\n",
    "    if os.path.exists(source_imagem):\n",
    "        dir_target =\"\"\n",
    "        if(prognostico ==\"normal\"):\n",
    "            dir_target = \"{0}/{1}.jpg\".format(dir_target_diretorio_pneumonia_normal,imagem_name)\n",
    "        elif (prognostico ==\"pneumonia\"):\n",
    "            dir_target = \"{0}/{1}.jpg\".format(dir_target_diretorio_pneumonia_pneumonia,imagem_name)\n",
    "        \n",
    "        if not os.path.exists(dir_target):\n",
    "            ds = dicom.dcmread(source_imagem)\n",
    "            pixel_array_numpy = ds.pixel_array\n",
    "            cv2.imwrite(dir_target, pixel_array_numpy)\n",
    "            quantidade_registos[prognostico] +=1\n",
    "            \n",
    "\n",
    "\n",
    "\n",
    "print(quantidade_registos)        \n"
   ]
  },
  {
   "cell_type": "code",
   "execution_count": 14,
   "metadata": {},
   "outputs": [],
   "source": [
    "df_covid  = pd.read_csv(source_dir_metadata_local)"
   ]
  },
  {
   "cell_type": "code",
   "execution_count": 15,
   "metadata": {},
   "outputs": [
    {
     "output_type": "execute_result",
     "data": {
      "text/plain": "   patientid offset sex   age   finding survival intubated intubation_present  \\\n0          2      0   M  65.0  COVID-19        Y       NaN                NaN   \n\n  went_icu in_icu  ... modality              date  \\\n0      NaN    NaN  ...    X-ray  January 22, 2020   \n\n                                      location  folder  \\\n0  Cho Ray Hospital, Ho Chi Minh City, Vietnam  images   \n\n                                            filename                   doi  \\\n0  auntminnie-a-2020_01_28_23_51_6665_2020_01_28_...  10.1056/nejmc2001272   \n\n                                                 url license  \\\n0  https://www.nejm.org/doi/full/10.1056/NEJMc200...     NaN   \n\n                                      clinical_notes other_notes  \n0  On January 22, 2020, a 65-year-old man with a ...         NaN  \n\n[1 rows x 28 columns]",
      "text/html": "<div>\n<style scoped>\n    .dataframe tbody tr th:only-of-type {\n        vertical-align: middle;\n    }\n\n    .dataframe tbody tr th {\n        vertical-align: top;\n    }\n\n    .dataframe thead th {\n        text-align: right;\n    }\n</style>\n<table border=\"1\" class=\"dataframe\">\n  <thead>\n    <tr style=\"text-align: right;\">\n      <th></th>\n      <th>patientid</th>\n      <th>offset</th>\n      <th>sex</th>\n      <th>age</th>\n      <th>finding</th>\n      <th>survival</th>\n      <th>intubated</th>\n      <th>intubation_present</th>\n      <th>went_icu</th>\n      <th>in_icu</th>\n      <th>...</th>\n      <th>modality</th>\n      <th>date</th>\n      <th>location</th>\n      <th>folder</th>\n      <th>filename</th>\n      <th>doi</th>\n      <th>url</th>\n      <th>license</th>\n      <th>clinical_notes</th>\n      <th>other_notes</th>\n    </tr>\n  </thead>\n  <tbody>\n    <tr>\n      <th>0</th>\n      <td>2</td>\n      <td>0</td>\n      <td>M</td>\n      <td>65.0</td>\n      <td>COVID-19</td>\n      <td>Y</td>\n      <td>NaN</td>\n      <td>NaN</td>\n      <td>NaN</td>\n      <td>NaN</td>\n      <td>...</td>\n      <td>X-ray</td>\n      <td>January 22, 2020</td>\n      <td>Cho Ray Hospital, Ho Chi Minh City, Vietnam</td>\n      <td>images</td>\n      <td>auntminnie-a-2020_01_28_23_51_6665_2020_01_28_...</td>\n      <td>10.1056/nejmc2001272</td>\n      <td>https://www.nejm.org/doi/full/10.1056/NEJMc200...</td>\n      <td>NaN</td>\n      <td>On January 22, 2020, a 65-year-old man with a ...</td>\n      <td>NaN</td>\n    </tr>\n  </tbody>\n</table>\n<p>1 rows × 28 columns</p>\n</div>"
     },
     "metadata": {},
     "execution_count": 15
    }
   ],
   "source": [
    "df_covid.head(1)"
   ]
  }
 ],
 "metadata": {
  "language_info": {
   "codemirror_mode": {
    "name": "ipython",
    "version": 3
   },
   "file_extension": ".py",
   "mimetype": "text/x-python",
   "name": "python",
   "nbconvert_exporter": "python",
   "pygments_lexer": "ipython3",
   "version": "3.7.7-final"
  },
  "orig_nbformat": 2,
  "kernelspec": {
   "name": "python37764bitdeeplearningconda70b0a9c2c78b49cfaeeb6e88dd7dfba8",
   "display_name": "Python 3.7.7 64-bit ('Deep Learning': conda)"
  }
 },
 "nbformat": 4,
 "nbformat_minor": 2
}