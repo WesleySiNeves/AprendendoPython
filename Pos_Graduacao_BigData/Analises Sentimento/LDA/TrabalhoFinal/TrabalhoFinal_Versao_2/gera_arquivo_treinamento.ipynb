{
 "cells": [
  {
   "cell_type": "code",
   "execution_count": 4,
   "metadata": {},
   "outputs": [],
   "source": [
    "import os\n",
    "import pandas as pd\n",
    "import seaborn as sns\n",
    "import string\n",
    "# import matplotlib.pyplot as plt\n",
    "\n",
    "import itertools\n",
    "import collections\n",
    "\n",
    "import nltk\n",
    "from nltk.corpus import stopwords\n",
    "from nltk.tokenize import word_tokenize\n",
    "from nltk.tokenize import sent_tokenize\n",
    "import re\n",
    "import networkx\n",
    "\n",
    "import warnings\n",
    "warnings.filterwarnings(\"ignore\")\n",
    "\n",
    "sns.set(font_scale=1.5)\n",
    "sns.set_style(\"whitegrid\")"
   ]
  },
  {
   "cell_type": "code",
   "execution_count": 80,
   "metadata": {},
   "outputs": [],
   "source": [
    "\n",
    "data = pd.read_csv('comentarios.csv')\n",
    "\n",
    "\n",
    "\n",
    "data[\"Tamanho\"] = data['Titulo'].str.len()\n",
    "\n",
    "data = data[[\"Titulo\",\"Texto\",\"Tamanho\"]]\n",
    "\n",
    "data[\"Bom\"] =0\n",
    "data[\"Nao_Bom\"] =0\n",
    "data[\"Ruim\"] =0\n",
    "data[\"Nao_Ruim\"] =0\n",
    "data[\"Nao_Ruim\"] =0\n",
    "data[\"Comida\"] =0\n",
    "data[\"Atendimento\"] =0\n",
    "data[\"Preço\"] =0\n",
    "data[\"Lugar\"] =0\n",
    "data[\"Outros\"] =0\n",
    "\n",
    "data =  data.tail(300)\n",
    "\n",
    "data = data.reset_index(drop=True)\n"
   ]
  },
  {
   "cell_type": "code",
   "execution_count": 83,
   "metadata": {},
   "outputs": [],
   "source": [
    "data = data.drop(data.index[[6,9,12,14,18,29,30,33,35,36,56,58,59,74,78,79,80,84,86,88,89,92,99,102,103,106,111,112,118,119,124,121,129,130,131,138,142,143,148,149,151,152,154,155,158,173,165,166,169,173,173,182,183,186,191,192,199,200,201,209,210,211,221,224,229]])"
   ]
  },
  {
   "cell_type": "code",
   "execution_count": 87,
   "metadata": {
    "tags": []
   },
   "outputs": [],
   "source": [
    "data = data.reset_index(drop=True)\n",
    "\n",
    "\n",
    "\n",
    "data.to_csv('curadoria.csv', index = True)\n",
    "\n",
    "\n",
    "\n"
   ]
  },
  {
   "cell_type": "code",
   "execution_count": 77,
   "metadata": {},
   "outputs": [
    {
     "output_type": "execute_result",
     "data": {
      "text/plain": "299"
     },
     "metadata": {},
     "execution_count": 77
    }
   ],
   "source": [
    "len(data)"
   ]
  }
 ],
 "metadata": {
  "language_info": {
   "codemirror_mode": {
    "name": "ipython",
    "version": 3
   },
   "file_extension": ".py",
   "mimetype": "text/x-python",
   "name": "python",
   "nbconvert_exporter": "python",
   "pygments_lexer": "ipython3",
   "version": "3.7.7-final"
  },
  "orig_nbformat": 2,
  "kernelspec": {
   "name": "python3",
   "display_name": "Python 3"
  }
 },
 "nbformat": 4,
 "nbformat_minor": 2
}