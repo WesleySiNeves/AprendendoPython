{
 "cells": [
  {
   "cell_type": "code",
   "execution_count": 1,
   "metadata": {},
   "outputs": [],
   "source": [
    "import os\n",
    "import pandas as pd\n",
    "import seaborn as sns\n",
    "import string\n",
    "# import matplotlib.pyplot as plt\n",
    "\n",
    "import itertools\n",
    "import collections\n",
    "\n",
    "import nltk\n",
    "from nltk.corpus import stopwords\n",
    "from nltk.tokenize import word_tokenize\n",
    "from nltk.tokenize import sent_tokenize\n",
    "import re\n",
    "import networkx\n",
    "\n",
    "import warnings\n",
    "warnings.filterwarnings(\"ignore\")\n",
    "\n",
    "sns.set(font_scale=1.5)\n",
    "sns.set_style(\"whitegrid\")"
   ]
  },
  {
   "cell_type": "code",
   "execution_count": 3,
   "metadata": {},
   "outputs": [],
   "source": [
    "\n",
    "data = pd.read_csv('comentarios.csv')\n",
    "\n",
    "\n",
    "clone = data[[\"Titulo\"]]\n",
    "\n",
    "clone[\"Bom\"] =0\n",
    "clone[\"Nao_Bom\"] =0\n",
    "clone[\"Ruim\"] =0\n",
    "clone[\"Nao_Ruim\"] =0\n",
    "clone[\"Nao_Ruim\"] =0\n",
    "clone[\"Comida\"] =0\n",
    "clone[\"Atendimento\"] =0\n",
    "clone[\"Preço\"] =0\n",
    "clone[\"Lugar\"] =0\n",
    "clone[\"Outros\"] =0\n",
    "\n",
    "\n",
    "clone[\"Tamanho\"] = clone['Titulo'].str.len()\n",
    "\n"
   ]
  },
  {
   "cell_type": "code",
   "execution_count": 6,
   "metadata": {},
   "outputs": [],
   "source": [
    "clone = clone.loc[(clone.Tamanho > 20) &  (clone.Tamanho < 35 ) ] "
   ]
  },
  {
   "cell_type": "code",
   "execution_count": 8,
   "metadata": {
    "tags": []
   },
   "outputs": [],
   "source": [
    "\n",
    "clone =  clone.tail(320)\n",
    "\n",
    "clone = clone.reset_index(drop=True)\n",
    "\n",
    "\n",
    "clone.to_csv('curadoria.csv', index = True)\n",
    "\n",
    "\n",
    "\n"
   ]
  },
  {
   "cell_type": "code",
   "execution_count": 9,
   "metadata": {},
   "outputs": [
    {
     "output_type": "execute_result",
     "data": {
      "text/plain": "                                Titulo  Bom  Nao_Bom  Ruim  Nao_Ruim  Comida  \\\n0           Para motociclistas ou não!    0        0     0         0       0   \n1               Gosta de Moto e Rock ?    0        0     0         0       0   \n2                Muita opção de salada    0        0     0         0       0   \n3        Comida muito boa  mas cara...    0        0     0         0       0   \n4           comida goiana muito boa...    0        0     0         0       0   \n..                                 ...  ...      ...   ...       ...     ...   \n315              Excelente atendimento    0        0     0         0       0   \n316         Rodízio de pizza e buffet     0        0     0         0       0   \n317             Condiz com o preço ...    0        0     0         0       0   \n318  Boa comida! Garçons atrapalhados!    0        0     0         0       0   \n319             Franccino maravilhoso     0        0     0         0       0   \n\n     Atendimento  Preço  Lugar  Outros  Tamanho  \n0              0      0      0       0       26  \n1              0      0      0       0       22  \n2              0      0      0       0       21  \n3              0      0      0       0       29  \n4              0      0      0       0       26  \n..           ...    ...    ...     ...      ...  \n315            0      0      0       0       21  \n316            0      0      0       0       26  \n317            0      0      0       0       22  \n318            0      0      0       0       33  \n319            0      0      0       0       22  \n\n[320 rows x 11 columns]",
      "text/html": "<div>\n<style scoped>\n    .dataframe tbody tr th:only-of-type {\n        vertical-align: middle;\n    }\n\n    .dataframe tbody tr th {\n        vertical-align: top;\n    }\n\n    .dataframe thead th {\n        text-align: right;\n    }\n</style>\n<table border=\"1\" class=\"dataframe\">\n  <thead>\n    <tr style=\"text-align: right;\">\n      <th></th>\n      <th>Titulo</th>\n      <th>Bom</th>\n      <th>Nao_Bom</th>\n      <th>Ruim</th>\n      <th>Nao_Ruim</th>\n      <th>Comida</th>\n      <th>Atendimento</th>\n      <th>Preço</th>\n      <th>Lugar</th>\n      <th>Outros</th>\n      <th>Tamanho</th>\n    </tr>\n  </thead>\n  <tbody>\n    <tr>\n      <th>0</th>\n      <td>Para motociclistas ou não!</td>\n      <td>0</td>\n      <td>0</td>\n      <td>0</td>\n      <td>0</td>\n      <td>0</td>\n      <td>0</td>\n      <td>0</td>\n      <td>0</td>\n      <td>0</td>\n      <td>26</td>\n    </tr>\n    <tr>\n      <th>1</th>\n      <td>Gosta de Moto e Rock ?</td>\n      <td>0</td>\n      <td>0</td>\n      <td>0</td>\n      <td>0</td>\n      <td>0</td>\n      <td>0</td>\n      <td>0</td>\n      <td>0</td>\n      <td>0</td>\n      <td>22</td>\n    </tr>\n    <tr>\n      <th>2</th>\n      <td>Muita opção de salada</td>\n      <td>0</td>\n      <td>0</td>\n      <td>0</td>\n      <td>0</td>\n      <td>0</td>\n      <td>0</td>\n      <td>0</td>\n      <td>0</td>\n      <td>0</td>\n      <td>21</td>\n    </tr>\n    <tr>\n      <th>3</th>\n      <td>Comida muito boa  mas cara...</td>\n      <td>0</td>\n      <td>0</td>\n      <td>0</td>\n      <td>0</td>\n      <td>0</td>\n      <td>0</td>\n      <td>0</td>\n      <td>0</td>\n      <td>0</td>\n      <td>29</td>\n    </tr>\n    <tr>\n      <th>4</th>\n      <td>comida goiana muito boa...</td>\n      <td>0</td>\n      <td>0</td>\n      <td>0</td>\n      <td>0</td>\n      <td>0</td>\n      <td>0</td>\n      <td>0</td>\n      <td>0</td>\n      <td>0</td>\n      <td>26</td>\n    </tr>\n    <tr>\n      <th>...</th>\n      <td>...</td>\n      <td>...</td>\n      <td>...</td>\n      <td>...</td>\n      <td>...</td>\n      <td>...</td>\n      <td>...</td>\n      <td>...</td>\n      <td>...</td>\n      <td>...</td>\n      <td>...</td>\n    </tr>\n    <tr>\n      <th>315</th>\n      <td>Excelente atendimento</td>\n      <td>0</td>\n      <td>0</td>\n      <td>0</td>\n      <td>0</td>\n      <td>0</td>\n      <td>0</td>\n      <td>0</td>\n      <td>0</td>\n      <td>0</td>\n      <td>21</td>\n    </tr>\n    <tr>\n      <th>316</th>\n      <td>Rodízio de pizza e buffet</td>\n      <td>0</td>\n      <td>0</td>\n      <td>0</td>\n      <td>0</td>\n      <td>0</td>\n      <td>0</td>\n      <td>0</td>\n      <td>0</td>\n      <td>0</td>\n      <td>26</td>\n    </tr>\n    <tr>\n      <th>317</th>\n      <td>Condiz com o preço ...</td>\n      <td>0</td>\n      <td>0</td>\n      <td>0</td>\n      <td>0</td>\n      <td>0</td>\n      <td>0</td>\n      <td>0</td>\n      <td>0</td>\n      <td>0</td>\n      <td>22</td>\n    </tr>\n    <tr>\n      <th>318</th>\n      <td>Boa comida! Garçons atrapalhados!</td>\n      <td>0</td>\n      <td>0</td>\n      <td>0</td>\n      <td>0</td>\n      <td>0</td>\n      <td>0</td>\n      <td>0</td>\n      <td>0</td>\n      <td>0</td>\n      <td>33</td>\n    </tr>\n    <tr>\n      <th>319</th>\n      <td>Franccino maravilhoso</td>\n      <td>0</td>\n      <td>0</td>\n      <td>0</td>\n      <td>0</td>\n      <td>0</td>\n      <td>0</td>\n      <td>0</td>\n      <td>0</td>\n      <td>0</td>\n      <td>22</td>\n    </tr>\n  </tbody>\n</table>\n<p>320 rows × 11 columns</p>\n</div>"
     },
     "metadata": {},
     "execution_count": 9
    }
   ],
   "source": [
    "clone"
   ]
  },
  {
   "cell_type": "code",
   "execution_count": 77,
   "metadata": {},
   "outputs": [
    {
     "output_type": "execute_result",
     "data": {
      "text/plain": "299"
     },
     "metadata": {},
     "execution_count": 77
    }
   ],
   "source": [
    "len(data)"
   ]
  }
 ],
 "metadata": {
  "language_info": {
   "codemirror_mode": {
    "name": "ipython",
    "version": 3
   },
   "file_extension": ".py",
   "mimetype": "text/x-python",
   "name": "python",
   "nbconvert_exporter": "python",
   "pygments_lexer": "ipython3",
   "version": "3.7.7-final"
  },
  "orig_nbformat": 2,
  "kernelspec": {
   "name": "python3",
   "display_name": "Python 3"
  }
 },
 "nbformat": 4,
 "nbformat_minor": 2
}