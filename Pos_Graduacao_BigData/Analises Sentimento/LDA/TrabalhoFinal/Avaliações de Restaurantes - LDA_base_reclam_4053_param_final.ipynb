{
 "cells": [
  {
   "cell_type": "markdown",
   "metadata": {},
   "source": [
    "# Preparação do notebook"
   ]
  },
  {
   "cell_type": "code",
   "execution_count": 1,
   "metadata": {},
   "outputs": [
    {
     "data": {
      "text/html": [
       "\n",
       "<style>\n",
       "    div#notebook-container    { width: 95%; }\n",
       "    div#menubar-container     { width: 65%; }\n",
       "    div#maintoolbar-container { width: 99%; }\n",
       "</style>\n"
      ],
      "text/plain": [
       "<IPython.core.display.HTML object>"
      ]
     },
     "metadata": {},
     "output_type": "display_data"
    }
   ],
   "source": [
    "# Código padrão para aumentar a largura do notebook\n",
    "\n",
    "from IPython.display import display, HTML\n",
    "\n",
    "display(HTML(data=\"\"\"\n",
    "<style>\n",
    "    div#notebook-container    { width: 95%; }\n",
    "    div#menubar-container     { width: 65%; }\n",
    "    div#maintoolbar-container { width: 99%; }\n",
    "</style>\n",
    "\"\"\"))"
   ]
  },
  {
   "cell_type": "markdown",
   "metadata": {},
   "source": [
    "# Pré processamento - base de treinamento"
   ]
  },
  {
   "cell_type": "code",
   "execution_count": 2,
   "metadata": {},
   "outputs": [],
   "source": [
    "# Importação das bibliotecas e aumento da capacidade das colunas do Dataframe para conversão em string\n",
    "\n",
    "from spacy.lang.pt.stop_words import STOP_WORDS\n",
    "import unicodedata \n",
    "import re\n",
    "import pandas as pd\n",
    "import gensim\n",
    "import spacy\n",
    "import datetime as dt\n",
    "from tqdm.notebook import tqdm\n",
    "import winsound\n",
    "import warnings\n",
    "\n",
    "pd.set_option(\"display.max_colwidth\", 1000)\n",
    "nlp = spacy.load('pt_core_news_sm')\n",
    "warnings.filterwarnings(\"ignore\",category=DeprecationWarning)"
   ]
  },
  {
   "cell_type": "code",
   "execution_count": 3,
   "metadata": {},
   "outputs": [],
   "source": [
    "# Edição de stopwords do Spacy\n",
    "\n",
    "adj_pos = ['bom','delicioso','gostoso','saboroso','delicia','excelente','otimo','adoravel','agradavel','otima','irretocavel','boa','aprazivel','bem','favoravel','impecavel','maravilhoso','espetacular','top','melhor',\n",
    "          'delicioso','gostoso','saboroso','delicia']\n",
    "adj_neg = ['ruim','pessimo','horrivel','sofrivel','mal','terrivel','detestavel','mau','horroroso','pavoroso']\n",
    "remove_from_stopwords = ['bom','boa','tarde','segunda','quarta','quinta','sexta','lugar','valor','maior','grande','menos','mais','menor','demais','custa']\n",
    "add_to_stopwords = ['msm','brasilia','sao','cocar','bambu','lago','paranoa','sul','particularmente','obviamente','completamente','sequer', 'deixar',\n",
    "                    'tao','pra','voce','principal','optar','ter','consideravel','self','service',\n",
    "                    'feira','sendo','segunda','terça','quarta','quinta','sexta','sábado','domingo','dia','dias', 'função', 'funções', 'pelas',\n",
    "                    'pois','entretanto','contudo','porque', 'por que', 'por quê', 'porquê', 'pára','me', 'pare', ' aparentemente', 'sim', \n",
    "                    'um','uns','coisa','oferece','poderia','ter','quase', 'fica','assim','porém','pois','pq','hj','tipo','ir', 'inventa', 'pelos',\n",
    "                    'hs','msm','tbm','vc','dá','pra','veio','nessa','nisso','nesse','dessa','desse','deste','desta','diso', 'inventar', 'deixar',\n",
    "                    'disso','pode','ser', 'aqui','acho','achei','algumas','algum','alguns', 'min','nesta','neste','acima', 'nada', 'alguém',\n",
    "                    'pedi','pedimos','possui', 'bastante', 'como','deve', 'chegar', 'chama', 'chamar', ' volta', 'volto', 'voltar', 'desejar',\n",
    "                    'deveria', 'se', 'dever', 'chega', 'coco', 'côco', 'Coco', 'Côco', 'Bambu', 'bambu', 'conseguir', 'eternamente', 'pede', \n",
    "                    'pedir', 'pediu', 'tudo', 'casa', 'última', 'último', 'carne', 'sol', 'nome', 'esquecer', 'esqueci', 'esqueceu', 'esquece',\n",
    "                    'comer', 'comido', 'comeu', 'pessoa', 'ainda', 'peno', 'hipótese', 'durante', 'estar', 'fomos', 'em', 'estávamos', 'hora',\n",
    "                    'esta', 'este', 'isto', 'isso', 'sente', 'sentiu', 'sentir', 'tentamos', 'almoçar', 'hipotese', 'começar', 'começa', 'melhor',\n",
    "                    'nunca', 'contrário','um', 'uma','uns','umas', 'pela', 'pelo', 'fazer', 'fiz', 'fez', 'fui', 'for', 'certa', 'certo', 'optar',\n",
    "                    'um', 'dois', 'tres', 'três', 'quatro', 'cinco', 'seis', 'sete', 'oito', 'nove', 'dez', 'onze', 'doze', 'treze', 'pessoas',\n",
    "                    'noite', 'nenhuma', 'nenhum', 'várias', 'aniversário', 'Águas', 'Claras', 'Lago', 'Sul', 'haver', 'achar', 'achou', 'valeu',\n",
    "                    'internacional', 'vida', 'tanto', 'grande', 'uma', 'umar', 'carnar', 'atenção', 'somente', 'após', 'toda', 'vez', 'todo',\n",
    "                    'minuto', 'horas', 'minutos','segundo', 'segundos', 'horar', 'ora', 'parir', 'vezes', 'vezar','extremamente', 'nado', 'valer',\n",
    "                    'ficar', 'varanda', 'notei', 'notar', 'principalmente', 'pelar', 'noto', 'nota', 'legal', 'colocar', 'coloca', 'coloco', 'colocou',\n",
    "                    'recomendar', 'tando', 'causa', 'causar', 'gradar', 'sempre', 'gostar', 'casar', 'algo',\n",
    "                    'de','a','o','que','e','do','da','em','um','para','é','com','não','uma','os','no','se',\n",
    "                    'na','por','mais','as','dos','como','mas','foi','ao','ele','das','tem','à','seu','sua',\n",
    "                    'ou','ser','quando','muito','há','nos','já','está','eu','também','só','pelo','pela','até',\n",
    "                    'isso','ela','entre','era','depois','sem','mesmo','aos','ter','seus','quem','nas','me','esse',\n",
    "                    'eles','estão','você','tinha','foram','essa','num','nem','suas','meu','às','minha','têm','numa',\n",
    "                    'pelos','elas','havia','seja','qual','será','nós','tenho','lhe','deles','essas','esses','pelas',\n",
    "                    'este','fosse','dele','tu','te','vocês','vos','lhes','meus','minhas','teu','tua','teus','tuas',\n",
    "                    'nosso','nossa','nossos','nossas','dela','delas','esta','estes','estas','aquele','aquela','aqueles',\n",
    "                    'aquelas','isto','aquilo','estou','está','estamos','estão','estive','esteve','estivemos','estiveram',\n",
    "                    'estava','estávamos','estavam','estivera','estivéramos','esteja','estejamos','estejam','estivesse',\n",
    "                    'estivéssemos','estivessem','estiver','estivermos','estiverem','hei','há','havemos','hão','houve',\n",
    "                    'houvemos','houveram','houvera','houvéramos','haja','hajamos','hajam','houvesse','houvéssemos',\n",
    "                    'houvessem','houver','houvermos','houverem','houverei','houverá','houveremos','houverão','houveria',\n",
    "                    'houveríamos','houveriam','sou','somos','são','era','éramos','eram','fui','foi','fomos','foram','fora',\n",
    "                    'fôramos','seja','sejamos','sejam','fosse','fôssemos','fossem','for','formos','forem','serei','será',\n",
    "                    'seremos','serão','seria','seríamos','seriam','tenho','tem','temos','tém','tinha','tínhamos','tinham',\n",
    "                    'tive','teve','tivemos','tiveram','tivera','tivéramos','tenha','tenhamos','tenham','tivesse','tivéssemos',\n",
    "                    'tivessem','tiver','tivermos','tiverem','terei','terá','teremos','terão','teria','teríamos','teriam']\n",
    "for word in remove_from_stopwords:\n",
    "    nlp.Defaults.stop_words.remove(word)\n",
    "for word in add_to_stopwords:\n",
    "    nlp.Defaults.stop_words.add(word)"
   ]
  },
  {
   "cell_type": "code",
   "execution_count": 4,
   "metadata": {},
   "outputs": [],
   "source": [
    "# Importação dos dados, criação de dataframe, conversão da coluna target em categórica e conversão em string (corpus)\n",
    "\n",
    "df = pd.read_csv('C:/Users/Therthius/Desktop/comentarios.csv', dtype=str, sep = ',', encoding='utf-8')\n",
    "df['Avaliacao'] = df['Avaliacao'].astype('category')\n",
    "df_pos = df.loc[df['Avaliacao'] == '0'][:4053]\n",
    "df_neg = df.loc[df['Avaliacao'] == '1']\n",
    "texto = pd.Series.to_string(df_neg['Texto']).replace('...', ' ')"
   ]
  },
  {
   "cell_type": "code",
   "execution_count": 5,
   "metadata": {},
   "outputs": [
    {
     "data": {
      "application/vnd.jupyter.widget-view+json": {
       "model_id": "e8c398a17edc48efa0fbfa6ff2b5f000",
       "version_major": 2,
       "version_minor": 0
      },
      "text/plain": [
       "HBox(children=(FloatProgress(value=0.0, max=4053.0), HTML(value='')))"
      ]
     },
     "metadata": {},
     "output_type": "display_data"
    },
    {
     "name": "stdout",
     "output_type": "stream",
     "text": [
      "\n",
      "A duração do processamento foi de 0:01:03\n"
     ]
    }
   ],
   "source": [
    "# Pré-processamento: remoção de caracteres especiais e stopwords, transformação em minúsculas e lemmatization\n",
    "\n",
    "inicio = dt.datetime.now()\n",
    "\n",
    "frases = [\" \".join([token.lemma_ for token in nlp(\" \".join(gensim.utils.simple_preprocess(re.sub('[^a-zA-Z0-9 \\\\\\]', '', u\"\".join([c for c in unicodedata.normalize('NFKD', frase) \\\n",
    " if not unicodedata.combining(c)]))))) if token.is_stop == False and len(token) > 2 ]) for frase in tqdm(texto.splitlines())]\n",
    "\n",
    "duracao = dt.datetime.now()-inicio \n",
    "\n",
    "print('A duração do processamento foi de', str(duracao)[:str(duracao).find('.')]) \n",
    "winsound.PlaySound(\"SystemExclamation\", winsound.SND_ALIAS)"
   ]
  },
  {
   "cell_type": "code",
   "execution_count": 6,
   "metadata": {},
   "outputs": [],
   "source": [
    "# Substituição de adjetivos equivalentes, para melhorar a uniformização dos bigramas\n",
    "\n",
    "frases_adj = []\n",
    "\n",
    "for frase in frases:\n",
    "    teste = []\n",
    "    for word in frase.split(\" \"):\n",
    "        if word in adj_pos:\n",
    "            teste.append('bom')\n",
    "        elif word in adj_neg:\n",
    "            teste.append('ruim')\n",
    "        else:\n",
    "            teste.append(word)\n",
    "    frases_adj.append(\" \".join(teste))\n",
    "    \n",
    "frases = frases_adj"
   ]
  },
  {
   "cell_type": "code",
   "execution_count": 7,
   "metadata": {},
   "outputs": [
    {
     "data": {
      "application/vnd.jupyter.widget-view+json": {
       "model_id": "1e94239bd2ab49efbe5c57170d2c585e",
       "version_major": 2,
       "version_minor": 0
      },
      "text/plain": [
       "HBox(children=(FloatProgress(value=0.0, max=4053.0), HTML(value='')))"
      ]
     },
     "metadata": {},
     "output_type": "display_data"
    },
    {
     "name": "stdout",
     "output_type": "stream",
     "text": [
      "\n"
     ]
    },
    {
     "data": {
      "application/vnd.jupyter.widget-view+json": {
       "model_id": "dde09495184042a9a9ad9c4b19f29fa1",
       "version_major": 2,
       "version_minor": 0
      },
      "text/plain": [
       "HBox(children=(FloatProgress(value=0.0, max=4053.0), HTML(value='')))"
      ]
     },
     "metadata": {},
     "output_type": "display_data"
    },
    {
     "name": "stdout",
     "output_type": "stream",
     "text": [
      "\n"
     ]
    }
   ],
   "source": [
    "# Formação de bigramas\n",
    "\n",
    "bigramas_sep_coment = [[frase.split(\" \")[i] + ' ' + frase.split(\" \")[i+1] for i in range(0, len(frase.split(\" \"))-1)] for frase in tqdm(frases)]\n",
    "bigramas_total = [w for i in tqdm(bigramas_sep_coment) for w in i]"
   ]
  },
  {
   "cell_type": "code",
   "execution_count": 8,
   "metadata": {},
   "outputs": [
    {
     "data": {
      "application/vnd.jupyter.widget-view+json": {
       "model_id": "614b53212864442d8da52a6e71e5a688",
       "version_major": 2,
       "version_minor": 0
      },
      "text/plain": [
       "HBox(children=(FloatProgress(value=0.0, max=63582.0), HTML(value='')))"
      ]
     },
     "metadata": {},
     "output_type": "display_data"
    },
    {
     "name": "stdout",
     "output_type": "stream",
     "text": [
      "\n",
      "A duração do processamento foi de 0:00:21\n"
     ]
    }
   ],
   "source": [
    "# Criação de relação de bigramas com ordem única\n",
    "\n",
    "inicio = dt.datetime.now()\n",
    "\n",
    "bigramas_total_ordem = []\n",
    "for bigrama in tqdm(bigramas_total):\n",
    "    if bigrama in bigramas_total_ordem or bigrama.split(' ')[-1] + ' ' + bigrama.split(' ')[0] in bigramas_total_ordem: pass\n",
    "    else:\n",
    "         bigramas_total_ordem.append(bigrama)\n",
    "            \n",
    "duracao = dt.datetime.now()-inicio \n",
    "\n",
    "print('A duração do processamento foi de', str(duracao)[:str(duracao).find('.')]) \n",
    "winsound.PlaySound(\"SystemExclamation\", winsound.SND_ALIAS)"
   ]
  },
  {
   "cell_type": "code",
   "execution_count": 9,
   "metadata": {},
   "outputs": [
    {
     "data": {
      "application/vnd.jupyter.widget-view+json": {
       "model_id": "b9b3263cff1a4bc8ac113ca26f461426",
       "version_major": 2,
       "version_minor": 0
      },
      "text/plain": [
       "HBox(children=(FloatProgress(value=0.0, max=4053.0), HTML(value='')))"
      ]
     },
     "metadata": {},
     "output_type": "display_data"
    },
    {
     "name": "stdout",
     "output_type": "stream",
     "text": [
      "\n",
      "A duração do processamento foi de 0:00:15\n"
     ]
    }
   ],
   "source": [
    "# Ajuste em relação a ordem das palavras em cada bigrama dentro de cada comentário\n",
    "\n",
    "bigramas_sep_coment_ordem = []\n",
    "\n",
    "inicio = dt.datetime.now()\n",
    "\n",
    "for i in tqdm(bigramas_sep_coment):\n",
    "    lista=[]\n",
    "    for w in i:\n",
    "        if w in bigramas_total_ordem:\n",
    "            lista.append(w)\n",
    "        elif w.split(' ')[-1] + ' ' + w.split(' ')[0] not in lista:\n",
    "            lista.append(w.split(' ')[-1] + ' ' + w.split(' ')[0])\n",
    "    bigramas_sep_coment_ordem.append(lista)\n",
    "    \n",
    "duracao = dt.datetime.now()-inicio \n",
    "\n",
    "print('A duração do processamento foi de', str(duracao)[:str(duracao).find('.')]) \n",
    "winsound.PlaySound(\"SystemExclamation\", winsound.SND_ALIAS)"
   ]
  },
  {
   "cell_type": "code",
   "execution_count": 10,
   "metadata": {},
   "outputs": [
    {
     "name": "stdout",
     "output_type": "stream",
     "text": [
      "A duração do processamento foi de 0:00:00\n"
     ]
    }
   ],
   "source": [
    "# Criação de dicionários e conversão em corpus\n",
    "\n",
    "inicio = dt.datetime.now()\n",
    "\n",
    "dictionary = gensim.corpora.Dictionary(bigramas_sep_coment_ordem)\n",
    "corpus = [dictionary.doc2bow(doc) for doc in bigramas_sep_coment_ordem]\n",
    "\n",
    "duracao = dt.datetime.now()-inicio \n",
    "\n",
    "print('A duração do processamento foi de', str(duracao)[:str(duracao).find('.')]) \n",
    "winsound.PlaySound(\"SystemExclamation\", winsound.SND_ALIAS)"
   ]
  },
  {
   "cell_type": "code",
   "execution_count": 11,
   "metadata": {},
   "outputs": [],
   "source": [
    "# Definição de função para cálculo de coerência de modelos com diferentes hiperparâmetros\n",
    "\n",
    "def compute_coherence_values(corpus, dictionary, k):\n",
    "    np.random.seed(2018)\n",
    "    lda_model = gensim.models.LdaMulticore(corpus,\n",
    "                                           id2word=dictionary,\n",
    "                                           num_topics=k, \n",
    "                                           random_state=100,\n",
    "                                           chunksize=40,\n",
    "                                           passes=5,\n",
    "                                           eval_every=1,\n",
    "                                           alpha='symmetric',\n",
    "                                           iterations=5,\n",
    "                                           per_word_topics=True,\n",
    "                                           workers=7)\n",
    "    coherence_model_lda = CoherenceModel(model=lda_model, texts=bigramas_sep_coment_ordem, dictionary=dictionary, coherence='c_v')\n",
    "    return coherence_model_lda.get_coherence()"
   ]
  },
  {
   "cell_type": "code",
   "execution_count": 12,
   "metadata": {},
   "outputs": [
    {
     "name": "stderr",
     "output_type": "stream",
     "text": [
      "100%|██████████████████████████████████████████████████████████████████████████████████| 10/10 [06:08<00:00, 36.89s/it]\n"
     ]
    },
    {
     "name": "stdout",
     "output_type": "stream",
     "text": [
      "A duração do processamento foi de 0:06:08\n"
     ]
    }
   ],
   "source": [
    "# Cálculo de coerências com diferentes hiperparâmetros\n",
    "import numpy as np\n",
    "import tqdm \n",
    "from gensim.models import CoherenceModel\n",
    "\n",
    "inicio = dt.datetime.now()\n",
    "\n",
    "np.random.seed(2018)\n",
    "\n",
    "min_topics = 5\n",
    "max_topics = 15\n",
    "step_size = 1\n",
    "topics_range = range(min_topics, max_topics, step_size)\n",
    "model_results = {'Topics': [], 'Coherence': []}\n",
    "pbar = tqdm.tqdm(total=len(topics_range))\n",
    "\n",
    "for k in topics_range:\n",
    "  cv = compute_coherence_values(corpus=corpus, dictionary=dictionary, k=k)\n",
    "  model_results['Topics'].append(k)\n",
    "  model_results['Coherence'].append(cv)\n",
    "  pbar.update(1)\n",
    "pbar.close()\n",
    "\n",
    "duracao = dt.datetime.now()-inicio \n",
    "\n",
    "print('A duração do processamento foi de', str(duracao)[:str(duracao).find('.')]) \n",
    "winsound.PlaySound(\"SystemExclamation\", winsound.SND_ALIAS)"
   ]
  },
  {
   "cell_type": "code",
   "execution_count": 13,
   "metadata": {},
   "outputs": [
    {
     "data": {
      "image/png": "[encoded data removed]",
      "text/plain": [
       "<Figure size 432x288 with 1 Axes>"
      ]
     },
     "metadata": {
      "needs_background": "light"
     },
     "output_type": "display_data"
    },
    {
     "name": "stdout",
     "output_type": "stream",
     "text": [
      "Número de tópicos: \t Índice de coerência: \n",
      "\n",
      "\t 5 \t \t \t 0.413\n",
      "\t 6 \t \t \t 0.389\n",
      "\t 7 \t \t \t 0.473\n",
      "\t 8 \t \t \t 0.506\n",
      "\t 9 \t \t \t 0.515\n",
      "\t 10 \t \t \t 0.524\n",
      "\t 11 \t \t \t 0.602\n",
      "\t 12 \t \t \t 0.570\n",
      "\t 13 \t \t \t 0.657\n",
      "\t 14 \t \t \t 0.603\n"
     ]
    }
   ],
   "source": [
    "# Plotagem de coerência x número de tópicos\n",
    "\n",
    "import matplotlib.pyplot as plt \n",
    "%matplotlib inline\n",
    "\n",
    "x = model_results['Topics']\n",
    "y = model_results['Coherence']\n",
    "plt.ylim(0,1)\n",
    "plt.xlim(5,14)\n",
    "plt.plot(x, y) \n",
    "plt.xlabel('Número de tópicos') \n",
    "plt.ylabel('Índice de coerência') \n",
    "plt.title('Tópicos x Coerência') \n",
    "plt.show() \n",
    "\n",
    "print('Número de tópicos: \\t Índice de coerência: \\n')\n",
    "for i in range(0,len(model_results['Topics'])):\n",
    "    print('\\t {} \\t \\t \\t {:04.3f}' .format(model_results['Topics'][i], model_results['Coherence'][i]))"
   ]
  },
  {
   "cell_type": "code",
   "execution_count": 14,
   "metadata": {},
   "outputs": [],
   "source": [
    "# Indicação de seed e geração do modelo com 18 tópicos\n",
    "\n",
    "np.random.seed(2018)\n",
    "lda_model = gensim.models.LdaMulticore(corpus,\n",
    "                                           id2word=dictionary,\n",
    "                                           num_topics=         13, \n",
    "                                           random_state=100,\n",
    "                                           chunksize=40,\n",
    "                                           passes=5,\n",
    "                                           eval_every=1,\n",
    "                                           alpha='symmetric',\n",
    "                                           iterations=5,\n",
    "                                           per_word_topics=True,\n",
    "                                           workers=7)"
   ]
  },
  {
   "cell_type": "code",
   "execution_count": 15,
   "metadata": {},
   "outputs": [
    {
     "name": "stdout",
     "output_type": "stream",
     "text": [
      "Índice de coerência: 0.649\n"
     ]
    }
   ],
   "source": [
    "# Cálculo de coerência do modelo com 8 tópicos\n",
    "\n",
    "coherence_model_lda = CoherenceModel(model=lda_model, texts=bigramas_sep_coment_ordem, dictionary=dictionary, coherence='c_v')\n",
    "coherence_lda = coherence_model_lda.get_coherence()\n",
    "print('Índice de coerência: {:04.3f}' .format(coherence_lda))"
   ]
  },
  {
   "cell_type": "code",
   "execution_count": 16,
   "metadata": {},
   "outputs": [
    {
     "name": "stderr",
     "output_type": "stream",
     "text": [
      "B:\\Python\\lib\\site-packages\\pyLDAvis\\_prepare.py:257: FutureWarning: Sorting because non-concatenation axis is not aligned. A future version\n",
      "of pandas will change to not sort by default.\n",
      "\n",
      "To accept the future behavior, pass 'sort=False'.\n",
      "\n",
      "To retain the current behavior and silence the warning, pass 'sort=True'.\n",
      "\n",
      "  return pd.concat([default_term_info] + list(topic_dfs))\n"
     ]
    },
    {
     "data": {
      "text/html": [
       "\n",
       "<link rel=\"stylesheet\" type=\"text/css\" href=\"https://cdn.rawgit.com/bmabey/pyLDAvis/files/ldavis.v1.0.0.css\">\n",
       "\n",
       "\n",
       "<div id=\"ldavis_el53622489160039605148457090\"></div>\n",
       "<script type=\"text/javascript\">\n",
       "\n",
       "var ldavis_el53622489160039605148457090_data = {\"mdsDat\": {\"x\": [0.27048313734825385, 0.013102694485799855, -0.0033828124334281985, 0.026279911092704864, -0.007491560753506625, -0.03117537724466591, -0.031194173242446922, -0.03377735812439298, -0.044379976710680315, -0.0345730857489765, -0.04253731136715508, -0.042137631815353654, -0.0392164554861525], \"y\": [-0.010093675446446848, 0.10583808654866565, -0.08419743954334323, 0.011325594810692815, -0.0005178576936077459, -0.00662843889548748, -0.004758903759941672, -0.008482348766576775, -0.0021383768160961056, -2.9243062821734208e-05, -0.0020874719595591375, -5.769711819886007e-05, 0.0018277717027211332], \"topics\": [1, 2, 3, 4, 5, 6, 7, 8, 9, 10, 11, 12, 13], \"cluster\": [1, 1, 1, 1, 1, 1, 1, 1, 1, 1, 1, 1, 1], \"Freq\": [34.08363723754883, 9.331257820129395, 9.029142379760742, 8.368169784545898, 6.833451271057129, 5.086972236633301, 4.936715126037598, 4.59938907623291, 4.042446613311768, 3.9134669303894043, 3.5826950073242188, 3.4155547618865967, 2.777092695236206]}, \"tinfo\": {\"Category\": [\"Default\", \"Default\", \"Default\", \"Default\", \"Default\", \"Default\", \"Default\", \"Default\", \"Default\", \"Default\", \"Default\", \"Default\", \"Default\", \"Default\", \"Default\", \"Default\", \"Default\", \"Default\", \"Default\", \"Default\", \"Default\", \"Default\", \"Default\", \"Default\", \"Default\", \"Default\", \"Default\", \"Default\", \"Default\", \"Default\", \"Topic1\", \"Topic1\", \"Topic1\", \"Topic1\", \"Topic1\", \"Topic1\", \"Topic1\", \"Topic1\", \"Topic1\", \"Topic1\", \"Topic1\", \"Topic1\", \"Topic1\", \"Topic1\", \"Topic1\", \"Topic1\", \"Topic1\", \"Topic1\", \"Topic1\", \"Topic1\", \"Topic1\", \"Topic1\", \"Topic1\", \"Topic1\", \"Topic1\", \"Topic1\", \"Topic1\", \"Topic1\", \"Topic1\", \"Topic1\", \"Topic1\", \"Topic1\", \"Topic1\", \"Topic1\", \"Topic1\", \"Topic1\", \"Topic1\", \"Topic1\", \"Topic1\", \"Topic1\", \"Topic1\", \"Topic1\", \"Topic1\", \"Topic1\", \"Topic1\", \"Topic1\", \"Topic1\", \"Topic1\", \"Topic1\", \"Topic1\", \"Topic1\", \"Topic1\", \"Topic1\", \"Topic1\", \"Topic1\", \"Topic1\", \"Topic1\", \"Topic1\", \"Topic1\", \"Topic2\", \"Topic2\", \"Topic2\", \"Topic2\", \"Topic2\", \"Topic2\", \"Topic2\", \"Topic2\", \"Topic2\", \"Topic2\", \"Topic2\", \"Topic2\", \"Topic2\", \"Topic2\", \"Topic2\", \"Topic2\", \"Topic2\", \"Topic2\", \"Topic2\", \"Topic2\", \"Topic2\", \"Topic2\", \"Topic2\", \"Topic2\", \"Topic2\", \"Topic2\", \"Topic2\", \"Topic2\", \"Topic2\", \"Topic2\", \"Topic2\", \"Topic2\", \"Topic2\", \"Topic2\", \"Topic2\", \"Topic2\", \"Topic2\", \"Topic2\", \"Topic2\", \"Topic2\", \"Topic2\", \"Topic2\", \"Topic2\", \"Topic2\", \"Topic2\", \"Topic2\", \"Topic2\", \"Topic2\", \"Topic2\", \"Topic3\", \"Topic3\", \"Topic3\", \"Topic3\", \"Topic3\", \"Topic3\", \"Topic3\", \"Topic3\", \"Topic3\", \"Topic3\", \"Topic3\", \"Topic3\", \"Topic3\", \"Topic3\", \"Topic3\", \"Topic3\", \"Topic3\", \"Topic3\", \"Topic3\", \"Topic3\", \"Topic3\", \"Topic3\", \"Topic3\", \"Topic3\", \"Topic3\", \"Topic3\", \"Topic3\", \"Topic3\", \"Topic3\", \"Topic3\", \"Topic3\", \"Topic3\", \"Topic3\", \"Topic3\", \"Topic3\", \"Topic3\", \"Topic3\", \"Topic3\", \"Topic3\", \"Topic3\", \"Topic3\", \"Topic3\", \"Topic3\", \"Topic3\", \"Topic3\", \"Topic4\", \"Topic4\", \"Topic4\", \"Topic4\", \"Topic4\", \"Topic4\", \"Topic4\", \"Topic4\", \"Topic4\", \"Topic4\", \"Topic4\", \"Topic4\", \"Topic4\", \"Topic4\", \"Topic4\", \"Topic4\", \"Topic4\", \"Topic4\", \"Topic4\", \"Topic4\", \"Topic4\", \"Topic4\", \"Topic4\", \"Topic4\", \"Topic4\", \"Topic4\", \"Topic4\", \"Topic4\", \"Topic4\", \"Topic4\", \"Topic4\", \"Topic4\", \"Topic4\", \"Topic4\", \"Topic4\", \"Topic4\", \"Topic4\", \"Topic4\", \"Topic4\", \"Topic4\", \"Topic4\", \"Topic4\", \"Topic4\", \"Topic4\", \"Topic4\", \"Topic4\", \"Topic4\", \"Topic4\", \"Topic4\", \"Topic4\", \"Topic4\", \"Topic4\", \"Topic5\", \"Topic5\", \"Topic5\", \"Topic5\", \"Topic5\", \"Topic5\", \"Topic5\", \"Topic5\", \"Topic5\", \"Topic5\", \"Topic5\", \"Topic5\", \"Topic5\", \"Topic5\", \"Topic5\", \"Topic5\", \"Topic5\", \"Topic5\", \"Topic5\", \"Topic5\", \"Topic5\", \"Topic5\", \"Topic5\", \"Topic5\", \"Topic5\", \"Topic5\", \"Topic5\", \"Topic5\", \"Topic5\", \"Topic5\", \"Topic5\", \"Topic5\", \"Topic5\", \"Topic5\", \"Topic5\", \"Topic5\", \"Topic5\", \"Topic5\", \"Topic5\", \"Topic5\", \"Topic5\", \"Topic5\", \"Topic5\", \"Topic6\", \"Topic6\", \"Topic6\", \"Topic6\", \"Topic6\", \"Topic6\", \"Topic6\", \"Topic6\", \"Topic6\", \"Topic6\", \"Topic6\", \"Topic6\", \"Topic6\", \"Topic6\", \"Topic6\", \"Topic6\", \"Topic6\", \"Topic6\", \"Topic6\", \"Topic6\", \"Topic6\", \"Topic6\", \"Topic6\", \"Topic6\", \"Topic6\", \"Topic6\", \"Topic6\", \"Topic6\", \"Topic6\", \"Topic6\", \"Topic6\", \"Topic6\", \"Topic6\", \"Topic6\", \"Topic6\", \"Topic6\", \"Topic6\", \"Topic6\", \"Topic6\", \"Topic6\", \"Topic6\", \"Topic6\", \"Topic6\", \"Topic7\", \"Topic7\", \"Topic7\", \"Topic7\", \"Topic7\", \"Topic7\", \"Topic7\", \"Topic7\", \"Topic7\", \"Topic7\", \"Topic7\", \"Topic7\", \"Topic7\", \"Topic7\", \"Topic7\", \"Topic7\", \"Topic7\", \"Topic7\", \"Topic7\", \"Topic7\", \"Topic7\", \"Topic7\", \"Topic7\", \"Topic7\", \"Topic7\", \"Topic7\", \"Topic7\", \"Topic7\", \"Topic7\", \"Topic7\", \"Topic7\", \"Topic7\", \"Topic7\", \"Topic7\", \"Topic7\", \"Topic7\", \"Topic7\", \"Topic7\", \"Topic7\", \"Topic7\", \"Topic7\", \"Topic7\", \"Topic8\", \"Topic8\", \"Topic8\", \"Topic8\", \"Topic8\", \"Topic8\", \"Topic8\", \"Topic8\", \"Topic8\", \"Topic8\", \"Topic8\", \"Topic8\", \"Topic8\", \"Topic8\", \"Topic8\", \"Topic8\", \"Topic8\", \"Topic8\", \"Topic8\", \"Topic8\", \"Topic8\", \"Topic8\", \"Topic8\", \"Topic8\", \"Topic8\", \"Topic8\", \"Topic8\", \"Topic8\", \"Topic8\", \"Topic8\", \"Topic8\", \"Topic8\", \"Topic8\", \"Topic8\", \"Topic8\", \"Topic8\", \"Topic8\", \"Topic8\", \"Topic8\", \"Topic8\", \"Topic9\", \"Topic9\", \"Topic9\", \"Topic9\", \"Topic9\", \"Topic9\", \"Topic9\", \"Topic9\", \"Topic9\", \"Topic9\", \"Topic9\", \"Topic9\", \"Topic9\", \"Topic9\", \"Topic9\", \"Topic9\", \"Topic9\", \"Topic9\", \"Topic9\", \"Topic9\", \"Topic9\", \"Topic9\", \"Topic9\", \"Topic9\", \"Topic9\", \"Topic9\", \"Topic9\", \"Topic9\", \"Topic9\", \"Topic9\", \"Topic9\", \"Topic9\", \"Topic9\", \"Topic9\", \"Topic9\", \"Topic9\", \"Topic9\", \"Topic9\", \"Topic9\", \"Topic10\", \"Topic10\", \"Topic10\", \"Topic10\", \"Topic10\", \"Topic10\", \"Topic10\", \"Topic10\", \"Topic10\", \"Topic10\", \"Topic10\", \"Topic10\", \"Topic10\", \"Topic10\", \"Topic10\", \"Topic10\", \"Topic10\", \"Topic10\", \"Topic10\", \"Topic10\", \"Topic10\", \"Topic10\", \"Topic10\", \"Topic10\", \"Topic10\", \"Topic10\", \"Topic10\", \"Topic10\", \"Topic10\", \"Topic10\", \"Topic10\", \"Topic10\", \"Topic10\", \"Topic10\", \"Topic10\", \"Topic10\", \"Topic10\", \"Topic10\", \"Topic11\", \"Topic11\", \"Topic11\", \"Topic11\", \"Topic11\", \"Topic11\", \"Topic11\", \"Topic11\", \"Topic11\", \"Topic11\", \"Topic11\", \"Topic11\", \"Topic11\", \"Topic11\", \"Topic11\", \"Topic11\", \"Topic11\", \"Topic11\", \"Topic11\", \"Topic11\", \"Topic11\", \"Topic11\", \"Topic11\", \"Topic11\", \"Topic11\", \"Topic11\", \"Topic11\", \"Topic11\", \"Topic11\", \"Topic11\", \"Topic11\", \"Topic11\", \"Topic11\", \"Topic11\", \"Topic11\", \"Topic11\", \"Topic12\", \"Topic12\", \"Topic12\", \"Topic12\", \"Topic12\", \"Topic12\", \"Topic12\", \"Topic12\", \"Topic12\", \"Topic12\", \"Topic12\", \"Topic12\", \"Topic12\", \"Topic12\", \"Topic12\", \"Topic12\", \"Topic12\", \"Topic12\", \"Topic12\", \"Topic12\", \"Topic12\", \"Topic12\", \"Topic12\", \"Topic12\", \"Topic12\", \"Topic12\", \"Topic12\", \"Topic12\", \"Topic12\", \"Topic12\", \"Topic12\", \"Topic12\", \"Topic12\", \"Topic12\", \"Topic12\", \"Topic12\", \"Topic13\", \"Topic13\", \"Topic13\", \"Topic13\", \"Topic13\", \"Topic13\", \"Topic13\", \"Topic13\", \"Topic13\", \"Topic13\", \"Topic13\", \"Topic13\", \"Topic13\", \"Topic13\", \"Topic13\", \"Topic13\", \"Topic13\", \"Topic13\", \"Topic13\", \"Topic13\", \"Topic13\", \"Topic13\", \"Topic13\", \"Topic13\", \"Topic13\", \"Topic13\", \"Topic13\", \"Topic13\", \"Topic13\", \"Topic13\", \"Topic13\", \"Topic13\", \"Topic13\", \"Topic13\", \"Topic13\", \"Topic13\", \"Topic13\", \"Topic13\", \"Topic13\", \"Topic13\", \"Topic13\", \"Topic13\"], \"Freq\": [412.0, 924.0, 716.0, 170.0, 461.0, 62.0, 66.0, 203.0, 95.0, 151.0, 430.0, 167.0, 246.0, 44.0, 31.0, 83.0, 42.0, 34.0, 128.0, 125.0, 36.0, 92.0, 39.0, 61.0, 36.0, 39.0, 33.0, 124.0, 24.0, 22.0, 169.43258666992188, 91.47076416015625, 61.648895263671875, 55.765621185302734, 60.0384521484375, 45.95949172973633, 53.86185073852539, 43.7623291015625, 40.71870422363281, 40.24462890625, 40.56102752685547, 39.57582473754883, 39.300628662109375, 405.1352844238281, 36.823570251464844, 43.1397819519043, 59.467193603515625, 43.91269302368164, 33.4091682434082, 47.10297393798828, 44.82035827636719, 46.935115814208984, 163.1331787109375, 34.83769226074219, 121.96654510498047, 29.417251586914062, 31.087743759155273, 36.80991744995117, 24.5991268157959, 53.040626525878906, 195.6447296142578, 123.5860824584961, 86.0066909790039, 64.90168762207031, 661.2642822265625, 73.38133239746094, 117.80702209472656, 821.9641723632812, 117.27717590332031, 93.45060729980469, 221.7032012939453, 375.8261413574219, 60.77484130859375, 212.6123046875, 163.95285034179688, 373.6139221191406, 134.5579071044922, 125.81669616699219, 141.98129272460938, 98.85753631591797, 94.22665405273438, 145.00051879882812, 113.42241668701172, 74.54474639892578, 132.17054748535156, 93.0965576171875, 77.25957489013672, 104.77140808105469, 77.84190368652344, 32.48081970214844, 35.43681335449219, 19.416698455810547, 23.865922927856445, 29.968584060668945, 21.89967918395996, 17.94997215270996, 59.959564208984375, 16.317541122436523, 13.112220764160156, 12.944168090820312, 15.347268104553223, 19.260814666748047, 18.53892707824707, 12.403959274291992, 14.062858581542969, 39.397239685058594, 10.32726001739502, 12.035252571105957, 19.009897232055664, 10.099687576293945, 11.510377883911133, 10.283266067504883, 9.618163108825684, 10.31335735321045, 9.515857696533203, 8.888335227966309, 8.692866325378418, 10.032999992370605, 14.268980026245117, 11.028850555419922, 13.27471923828125, 14.818936347961426, 11.867461204528809, 24.452219009399414, 20.508127212524414, 52.579620361328125, 13.489280700683594, 41.950164794921875, 13.98535442352295, 23.081899642944336, 18.835779190063477, 27.931827545166016, 19.011089324951172, 18.23532485961914, 18.293621063232422, 17.144514083862305, 15.501615524291992, 14.81396484375, 43.68042755126953, 16.465829849243164, 14.748939514160156, 14.215004920959473, 14.146895408630371, 14.72954273223877, 16.47279167175293, 15.899175643920898, 12.20041561126709, 14.004639625549316, 13.57062816619873, 13.23148250579834, 33.84882736206055, 10.61002254486084, 11.862066268920898, 11.24779987335205, 11.911978721618652, 9.699098587036133, 9.12016773223877, 9.035589218139648, 9.479846954345703, 9.296309471130371, 8.747496604919434, 8.211197853088379, 8.090326309204102, 8.83431339263916, 8.733402252197266, 8.274642944335938, 8.359467506408691, 7.797569751739502, 10.756093978881836, 18.996082305908203, 13.882950782775879, 11.458600997924805, 9.061477661132812, 13.293423652648926, 14.520344734191895, 28.81966209411621, 11.831319808959961, 12.089484214782715, 14.127140998840332, 14.839296340942383, 15.844869613647461, 10.850207328796387, 10.72326946258545, 20.99118423461914, 16.091041564941406, 15.794275283813477, 16.569774627685547, 15.188772201538086, 14.967251777648926, 11.630635261535645, 11.009099006652832, 11.613286018371582, 12.863297462463379, 18.674484252929688, 10.972555160522461, 11.507201194763184, 10.234354019165039, 9.295365333557129, 9.225872039794922, 11.642294883728027, 10.344134330749512, 8.770359992980957, 18.574262619018555, 8.40151596069336, 19.02204132080078, 12.556207656860352, 7.439415454864502, 6.8648600578308105, 19.614898681640625, 7.195563793182373, 6.749079704284668, 6.879106521606445, 7.208798885345459, 13.204266548156738, 11.04962158203125, 56.05406188964844, 33.31583023071289, 8.782702445983887, 28.259233474731445, 11.152740478515625, 11.305586814880371, 14.125093460083008, 50.927276611328125, 11.060044288635254, 41.56297302246094, 14.8493013381958, 26.033329010009766, 13.692481994628906, 13.386272430419922, 16.318340301513672, 14.21054458618164, 14.156744003295898, 12.27515697479248, 13.235612869262695, 11.976362228393555, 21.276569366455078, 18.794666290283203, 32.8278694152832, 16.434886932373047, 17.479305267333984, 15.817407608032227, 14.52857494354248, 15.624774932861328, 14.490025520324707, 12.727885246276855, 13.594040870666504, 11.536266326904297, 11.026337623596191, 12.383907318115234, 9.29743480682373, 9.88298511505127, 9.260065078735352, 9.63212776184082, 9.209065437316895, 8.187341690063477, 8.435615539550781, 7.42732572555542, 6.571376323699951, 8.461074829101562, 6.142725467681885, 6.391854286193848, 6.20234489440918, 9.656914710998535, 6.062263011932373, 5.124052047729492, 6.655282020568848, 10.708096504211426, 14.933799743652344, 7.846284866333008, 17.86595344543457, 16.484264373779297, 13.732193946838379, 11.427814483642578, 14.386406898498535, 15.809553146362305, 13.053394317626953, 8.746718406677246, 9.104039192199707, 30.607513427734375, 17.21302604675293, 9.466167449951172, 7.984174728393555, 8.866024017333984, 8.634822845458984, 7.199021816253662, 7.7560296058654785, 6.906896114349365, 6.175172805786133, 4.960072040557861, 5.655262470245361, 4.306975841522217, 4.599529266357422, 4.610063076019287, 3.9989960193634033, 3.936408519744873, 4.2518415451049805, 3.612879753112793, 3.7462596893310547, 3.638155221939087, 5.541009426116943, 3.5258240699768066, 3.3313064575195312, 3.083012819290161, 2.9656190872192383, 3.03157901763916, 2.9783706665039062, 2.9068970680236816, 3.0112812519073486, 4.28510046005249, 4.976310729980469, 18.67108917236328, 5.349020957946777, 5.0723652839660645, 4.121261119842529, 4.248795509338379, 4.3066792488098145, 4.514698505401611, 7.243903636932373, 6.433659553527832, 6.2982707023620605, 4.539383888244629, 21.32286834716797, 19.632963180541992, 14.045763969421387, 8.730449676513672, 10.163311004638672, 13.668274879455566, 7.269004821777344, 6.962140083312988, 9.338842391967773, 6.797525882720947, 9.739632606506348, 6.7341790199279785, 5.626695156097412, 5.218214511871338, 4.692788600921631, 4.710243225097656, 4.685523986816406, 4.515464782714844, 3.5552687644958496, 14.483126640319824, 3.8276541233062744, 3.2496330738067627, 3.001845359802246, 3.249725818634033, 3.4589345455169678, 3.3578004837036133, 2.9271702766418457, 4.0484089851379395, 3.1926767826080322, 4.329829692840576, 13.150812149047852, 6.461996555328369, 7.486525535583496, 3.8180196285247803, 4.175714492797852, 4.211910724639893, 5.70434045791626, 6.7514238357543945, 5.500734806060791, 4.766285419464111, 5.089311599731445, 4.8631744384765625, 9.599395751953125, 9.56407642364502, 11.896546363830566, 12.261981964111328, 5.411919116973877, 4.8430304527282715, 4.832199573516846, 4.505890846252441, 4.798376560211182, 4.3819966316223145, 3.752633571624756, 3.281327962875366, 3.5761377811431885, 4.972983360290527, 3.2902727127075195, 5.057620525360107, 3.620136260986328, 3.1960701942443848, 3.118936061859131, 2.941300392150879, 2.9979195594787598, 2.949021577835083, 3.448749303817749, 2.748351573944092, 2.6660408973693848, 2.72725510597229, 11.287519454956055, 2.527998924255371, 3.5366933345794678, 2.8246278762817383, 4.5126166343688965, 4.791867256164551, 3.948878526687622, 8.756197929382324, 3.2458577156066895, 4.0233612060546875, 4.949836254119873, 4.965733528137207, 4.592926979064941, 3.4834628105163574, 19.12019920349121, 16.629552841186523, 11.16455364227295, 8.365091323852539, 7.291399002075195, 6.8534836769104, 6.27689266204834, 5.916163444519043, 5.501989364624023, 5.369277477264404, 4.475724220275879, 4.8027753829956055, 4.45945930480957, 3.7272958755493164, 3.0924181938171387, 3.1161623001098633, 2.5443131923675537, 2.178912401199341, 2.256591320037842, 2.028562545776367, 2.0237526893615723, 1.932820439338684, 1.7851788997650146, 2.3728981018066406, 1.5809167623519897, 1.5130736827850342, 1.3715280294418335, 1.310229778289795, 1.263609528541565, 2.4278597831726074, 3.38802170753479, 5.370588779449463, 3.495840072631836, 9.244474411010742, 2.279048204421997, 2.938950777053833, 3.203981637954712, 2.922327756881714, 2.0532588958740234, 21.194164276123047, 8.390558242797852, 10.714029312133789, 5.629612445831299, 5.05605936050415, 4.809676170349121, 6.287318229675293, 4.1282243728637695, 4.315126419067383, 20.26984405517578, 3.808837652206421, 3.3020262718200684, 3.596557378768921, 3.3738491535186768, 3.0947999954223633, 3.9367949962615967, 3.1177899837493896, 2.617091655731201, 2.5671138763427734, 2.2771105766296387, 2.317631959915161, 2.2085390090942383, 3.276735782623291, 2.3411176204681396, 2.0086960792541504, 1.7696033716201782, 4.789838790893555, 2.431213617324829, 1.7219598293304443, 1.7054693698883057, 7.93011999130249, 4.157751560211182, 3.833242177963257, 2.3285982608795166, 2.8900864124298096, 3.2644641399383545, 2.657130718231201, 3.192594051361084, 8.070021629333496, 8.010133743286133, 7.084254741668701, 5.723800182342529, 4.838712692260742, 5.275169849395752, 4.859951972961426, 4.779663562774658, 4.351558208465576, 4.618602275848389, 3.3773603439331055, 3.1322696208953857, 3.2330322265625, 3.178398847579956, 2.5299417972564697, 6.865270137786865, 2.45078444480896, 2.845440149307251, 2.4304466247558594, 2.3157854080200195, 5.311978816986084, 2.582578420639038, 1.8739458322525024, 1.7587883472442627, 2.564807891845703, 1.8266541957855225, 1.6351449489593506, 5.211803913116455, 1.4569063186645508, 1.4610326290130615, 1.9533872604370117, 1.62929105758667, 5.945130348205566, 4.270844459533691, 3.399993896484375, 1.9248403310775757, 8.348546028137207, 6.327553749084473, 6.311234474182129, 5.811752796173096, 5.597037315368652, 4.820159435272217, 13.399365425109863, 3.9459986686706543, 3.5381269454956055, 3.4518604278564453, 3.427609920501709, 2.8255083560943604, 4.913001537322998, 2.5243637561798096, 2.1999497413635254, 3.5369832515716553, 2.280754566192627, 2.3821961879730225, 2.1118245124816895, 2.1986422538757324, 1.9821176528930664, 1.977064609527588, 2.045626163482666, 1.8375047445297241, 1.7046895027160645, 1.5590224266052246, 1.8077772855758667, 1.4519891738891602, 1.4868409633636475, 1.4129889011383057, 4.52812385559082, 3.8684701919555664, 2.053360939025879, 3.556774139404297, 3.435058355331421, 3.026552200317383, 4.975357532501221, 5.6403656005859375, 2.7288658618927, 2.277179002761841, 1.9072140455245972, 2.011047124862671, 1.4768338203430176, 1.331343412399292, 1.3873945474624634, 1.6717000007629395, 1.2730813026428223, 1.8053878545761108, 1.2205182313919067, 1.1961547136306763, 1.019628882408142, 0.9860066771507263, 1.7354527711868286, 0.9153035283088684, 0.918005645275116, 0.921759843826294, 0.9075135588645935, 0.9753223657608032, 0.908667802810669, 0.865938663482666, 0.797327995300293, 0.7976192235946655, 0.78596031665802, 0.7812478542327881, 0.707123339176178, 0.7054845094680786, 3.4741477966308594, 2.4086191654205322, 6.478806495666504, 1.1202521324157715, 1.479039192199707, 1.407989501953125, 1.2659457921981812, 3.5060057640075684, 1.1042720079421997, 1.415666103363037, 1.5503051280975342, 1.092207670211792], \"Term\": [\"ruim atendimento\", \"comido bom\", \"bom atendimento\", \"cervejar gelar\", \"ambientar bom\", \"nao conseguir\", \"atendimento nao\", \"bom preco\", \"nao ruim\", \"nao valer\", \"bom nao\", \"bom opcao\", \"valer peno\", \"ficar decepcionar\", \"aguar claro\", \"musicar viver\", \"atendimento p\\u00f4r\", \"comido normal\", \"bom musicar\", \"atendimento demorar\", \"qualidade atendimento\", \"happy hour\", \"melhorar nao\", \"chopp gelar\", \"bonito bom\", \"nao qualidade\", \"valer preco\", \"custar beneficiar\", \"bom apesar\", \"atendimento lentar\", \"cervejar gelar\", \"happy hour\", \"bom cervejar\", \"asar norte\", \"opcoes cardapio\", \"bom bar\", \"atar bom\", \"ruim ambientar\", \"petisco bom\", \"nao cardapio\", \"musicar ambientar\", \"ambientar simples\", \"carne bom\", \"ruim atendimento\", \"simples bom\", \"pessima qualidade\", \"bom caro\", \"custar bom\", \"servico demorar\", \"ruim garcons\", \"prato caro\", \"errar pedir\", \"bom opcao\", \"bom cartar\", \"atendimento demorar\", \"ruim demorar\", \"lugar comido\", \"super bom\", \"demorar demais\", \"nao dar\", \"bom preco\", \"bom musicar\", \"preco justar\", \"garcons nao\", \"bom atendimento\", \"pouco opcoes\", \"custar beneficiar\", \"comido bom\", \"bom qualidade\", \"demorar comido\", \"valer peno\", \"bom nao\", \"comido servir\", \"restaurante bom\", \"lugar bom\", \"ambientar bom\", \"bom p\\u00f4r\", \"atendimento deixar\", \"bom bom\", \"restaurante nao\", \"bom localizacao\", \"comido nao\", \"prato bom\", \"ruim comido\", \"nao gostar\", \"nao recomendar\", \"comido atendimento\", \"nao valer\", \"bom variedade\", \"valer preco\", \"qualidade atendimento\", \"preciso melhorar\", \"nao atender\", \"nao lugar\", \"nao agradar\", \"experiencia ruim\", \"nao conseguir\", \"ruim preco\", \"massa fino\", \"alto nao\", \"peno nao\", \"visitar restaurante\", \"caro oferecer\", \"pizza massa\", \"atendimento apesar\", \"atendimento p\\u00f4r\", \"nao oferecer\", \"restaurante nivel\", \"deixar garcons\", \"errar nao\", \"atar gostar\", \"chegar comido\", \"ficar restaurante\", \"massa nao\", \"tirar gostar\", \"servico lentar\", \"bom precos\", \"nao compativel\", \"servir atendimento\", \"atar mesa\", \"filar nao\", \"servico deixar\", \"variedade nao\", \"mesa sentar\", \"lindar lugar\", \"nao ruim\", \"preco prato\", \"nao valer\", \"nao deixar\", \"prato nao\", \"comido qualidade\", \"nao gostar\", \"prato servir\", \"nao recomendar\", \"comido nao\", \"comido bom\", \"valer peno\", \"ambientar bom\", \"ficar decepcionar\", \"prato sobremesa\", \"carne variedade\", \"lanchar tardar\", \"localizar bom\", \"valor alto\", \"nao parecer\", \"passar mesa\", \"nao possivel\", \"decepcionar comido\", \"comandar individual\", \"viver bom\", \"bonito bom\", \"ruim lentar\", \"interessante decoracao\", \"nao problema\", \"nao sair\", \"recepcao bom\", \"amigo nao\", \"ambientar descontraido\", \"molhar tomate\", \"nao nivel\", \"bom rapido\", \"happy hours\", \"simplesmente nao\", \"tomar vinho\", \"interno restaurante\", \"nao numerar\", \"trocar prato\", \"rapido almoco\", \"ambientar lindar\", \"chegar restaurante\", \"bonito visto\", \"prato cardapio\", \"bom conhecer\", \"opcao nao\", \"pedir bom\", \"musicar viver\", \"prato pedir\", \"garcom atender\", \"restaurante tradicional\", \"prato nao\", \"comido bom\", \"ambientar bonito\", \"razoavel atendimento\", \"cafe manha\", \"perguntar garcom\", \"sabor bom\", \"decorar bom\", \"apesar cardapio\", \"amplo estacionamento\", \"contar dar\", \"bater papar\", \"pessima atendimento\", \"gostar atendimento\", \"pagar real\", \"pagar contar\", \"suco nao\", \"bom frio\", \"atendimento menos\", \"apesar preco\", \"amigo lugar\", \"precos nao\", \"mesa lugar\", \"nao especial\", \"nao apresentar\", \"comido menos\", \"chegar bom\", \"adorar comido\", \"funcionarios despreparados\", \"nao experiencia\", \"comer comido\", \"nao indicar\", \"comido elaborar\", \"bebido caro\", \"bom estacionamento\", \"atendimento melhorar\", \"atendimento nao\", \"melhorar nao\", \"pouco garcons\", \"nao qualidade\", \"cartar prato\", \"bom cheio\", \"comido fraco\", \"ambientar bom\", \"comido tipica\", \"comido bom\", \"prato chegar\", \"bom nao\", \"bom servico\", \"prato nao\", \"bom atendimento\", \"nao gostar\", \"comido nao\", \"gostar comido\", \"restaurante bom\", \"bom bom\", \"prato executivo\", \"nao alar\", \"comido normal\", \"doce leite\", \"bandar bom\", \"demorar sair\", \"nao comparar\", \"p\\u00f4r preco\", \"comido mediano\", \"encontrar amigo\", \"comido graca\", \"bebido demorar\", \"ruim garcom\", \"bom farto\", \"diferente nao\", \"alto qualidade\", \"bacana decoracao\", \"preco elevar\", \"tranquilo bom\", \"nao provar\", \"prato tambem\", \"nao doce\", \"medir prato\", \"preco atendimento\", \"demorar entrar\", \"nao trazer\", \"refeicao bom\", \"tambem preco\", \"ultimar sabado\", \"exorbitante preco\", \"filar prato\", \"prato principal\", \"nao entender\", \"ir restaurante\", \"tambem nao\", \"nao voltar\", \"prato entrar\", \"pedir nao\", \"preco alto\", \"bom atendimento\", \"comido bom\", \"garcom atender\", \"comido razoavel\", \"aguar claro\", \"nao vir\", \"bom demorar\", \"bom alar\", \"pessima experiencia\", \"garcom mesa\", \"arroz feijao\", \"bom ficar\", \"risoto camarao\", \"bom hoje\", \"bacana bom\", \"mesa redor\", \"bonito nao\", \"faltar opcoes\", \"bom infelizmente\", \"comido tradicional\", \"restaurante bar\", \"encher olho\", \"prato diferente\", \"restaurante fazer\", \"tambem demorar\", \"valer visitar\", \"preparar comido\", \"estacionamento ruim\", \"piorar comido\", \"levar comido\", \"restaurante pouco\", \"maridar filhar\", \"qualidade entanto\", \"arroz branco\", \"organizar filar\", \"kilo caro\", \"nao mesa\", \"conhecer amigo\", \"camarao peixe\", \"servir buffet\", \"bom contar\", \"pedir apo\", \"falar nao\", \"nao servir\", \"prato servir\", \"comido bom\", \"fruto mar\", \"nao compensar\", \"bom cardapio\", \"opcoes melhorar\", \"gelar bom\", \"almoco bom\", \"prato quente\", \"bom filar\", \"nao facil\", \"sentar nao\", \"confuso demorar\", \"decepcionar atendimento\", \"visto nao\", \"atar nao\", \"filar tambem\", \"simplesmente ruim\", \"sinceramente nao\", \"normal prato\", \"cardapio faltar\", \"melhorar preco\", \"buffet salada\", \"opcoes gostar\", \"alar preco\", \"cervejar tambem\", \"hoje ficar\", \"barulhento quentar\", \"nao petiscar\", \"esperar ruim\", \"prato menu\", \"diferenciar nao\", \"melhorar cidade\", \"salada bom\", \"atendimento garcom\", \"salada prato\", \"apresentar bom\", \"existir opcoes\", \"mim nao\", \"peno bom\", \"atendimento fraco\", \"buffet opcoes\", \"nao ver\", \"nao caro\", \"melhorar nao\", \"preco acessivel\", \"espaco bom\", \"chopp bom\", \"gostar ambientar\", \"surpreso infeliz\", \"variar ambientar\", \"bom geralmente\", \"pequeno quantidade\", \"cardapio contemplar\", \"nao importar\", \"bom normal\", \"deixar entrar\", \"qualidade servico\", \"colocar mesa\", \"nao impressionar\", \"tambem deixar\", \"variar preco\", \"ninguem atender\", \"apesar ambientar\", \"esperar alguem\", \"visto pontar\", \"justificar precos\", \"restaurante mesmo\", \"recolher prato\", \"entrar sentar\", \"frio batata\", \"bom entrar\", \"buffet lugar\", \"aberto atar\", \"menos restaurante\", \"moqueca camarao\", \"quantidade qualidade\", \"frequentar restaurante\", \"chopp gelar\", \"batata palha\", \"comido variar\", \"nao justificar\", \"prato bom\", \"bom servir\", \"qualidade prato\", \"batata frito\", \"praca alimentacao\", \"mesa ficar\", \"suco laranjo\", \"familia almocar\", \"ultimar restaurante\", \"prestar atencao\", \"conheco unidade\", \"comido cartar\", \"apo esperar\", \"restrito comido\", \"cobrar couvert\", \"encontrar dificuldade\", \"nao funcionar\", \"shopping nao\", \"qualidade p\\u00f4r\", \"prato molhar\", \"restar bom\", \"fraco restaurante\", \"garcom super\", \"conhecer unidade\", \"area aberto\", \"mudar mesa\", \"restaurante belo\", \"qualidade alimento\", \"opcoes bebido\", \"ambientar precos\", \"diverso tipo\", \"tambem variedade\", \"curioso conhecer\", \"couvert artistico\", \"atendimento ficar\", \"bacana atendimento\", \"atendimento tambem\", \"alto padrao\", \"nao prestar\", \"mesa bom\", \"valer peno\", \"bom preferir\", \"atendimento lentar\", \"garcons educar\", \"mesa externo\", \"deixar demorar\", \"externo ficar\", \"fechar portar\", \"ruim gostar\", \"querer conhecer\", \"demorar ver\", \"bom apesar\", \"simples atendimento\", \"solicitar nao\", \"atendimento amigo\", \"setor hoteleiro\", \"petisco drinks\", \"baixo qualidade\", \"entao chegar\", \"humorado comido\", \"decepcao atendimento\", \"lugar almoco\", \"forte gostar\", \"servico eficiente\", \"bom recomendar\", \"adegar bom\", \"diferente comido\", \"nao perfazer\", \"excepcional atendimento\", \"molhar mostarda\", \"almocar shopping\", \"hoteleiro norte\", \"semana passar\", \"expectativa muito\", \"bom pao\", \"muito qualidade\", \"estilar restaurante\", \"comido simples\", \"restaurante lotar\", \"comido bom\", \"dizer nao\", \"opcao comido\", \"melhorar comido\", \"caro atendimento\", \"cheio demais\", \"nao nao\", \"bom excepcional\", \"esperar estacionamento\", \"amigo familia\", \"caro demais\", \"nao levar\", \"restaurante famoso\", \"nivel atendimento\", \"lugar tomar\", \"muito fome\", \"area externo\", \"informar prato\", \"visto ambientar\", \"garcom trazer\", \"levar servir\", \"nao preparar\", \"peixe fruto\", \"sensacional comido\", \"custar comido\", \"suco natural\", \"restaurante servico\", \"entanto restaurante\", \"casar nao\", \"sabor caro\", \"surpreso nao\", \"aparecer nao\", \"ruim pedir\", \"facil acesso\", \"comido esperar\", \"fruto mar\", \"prato servir\", \"atendimento satisfatorio\", \"funcionarios nao\", \"comparar restaurante\", \"bom ultimar\", \"razoavel sabor\", \"chamar atencao\", \"nao chegar\", \"tipo comido\", \"contar comido\", \"baratar bom\", \"contar restaurante\", \"proximo setor\", \"buffet variedade\", \"mesa proximas\", \"apresentar sabor\", \"melhorar sabor\", \"tratar cliente\", \"nao retornar\", \"restaurante garcons\", \"comido passar\", \"nao precisar\", \"camarao entrar\", \"pizza demorar\", \"alar restaurante\", \"visto fantastica\", \"comandar nao\", \"brinquedoteca criancas\", \"voltar ficar\", \"suco demorar\", \"parecer buffet\", \"comido gorduroso\", \"nao opcoes\", \"pouquissimas opcoes\", \"comido feito\", \"demorar servir\", \"restaurante comido\", \"deixar prato\", \"comer bom\", \"atar ambientar\", \"restaurante considerar\", \"prato contar\", \"reunir amigo\", \"tomar suco\", \"procurar restaurante\", \"custar caro\", \"levar contar\", \"cidade ambientar\", \"minar gerar\", \"frio durar\", \"nao fugir\", \"comido panela\", \"esperar experiencia\", \"restaurante parecer\", \"bom decepcao\", \"bonito cheio\", \"bonito muito\", \"nao polvo\", \"demais garcons\", \"chegar maridar\", \"redar famoso\", \"referenciar cidade\", \"nao cozer\", \"ultimar decepcionante\", \"camaroes nao\", \"etc comido\", \"demais sabor\", \"bom escolher\", \"nao sobremesa\", \"nao deixar\", \"filar mesa\", \"atendimento cardapio\", \"nao perguntar\", \"trocar pedir\", \"lugar bom\", \"restaurante sofisticar\", \"camarao nao\", \"nao saber\", \"bom conseguir\"], \"Total\": [412.0, 924.0, 716.0, 170.0, 461.0, 62.0, 66.0, 203.0, 95.0, 151.0, 430.0, 167.0, 246.0, 44.0, 31.0, 83.0, 42.0, 34.0, 128.0, 125.0, 36.0, 92.0, 39.0, 61.0, 36.0, 39.0, 33.0, 124.0, 24.0, 22.0, 170.19102478027344, 92.4576187133789, 62.407203674316406, 56.528560638427734, 60.93935775756836, 46.71702194213867, 54.7763786315918, 44.56295394897461, 41.47852325439453, 41.00165557861328, 41.3258171081543, 40.332645416259766, 40.057167053222656, 412.9703063964844, 37.583492279052734, 44.163116455078125, 60.920406341552734, 44.99447250366211, 34.23444747924805, 48.27729415893555, 45.937843322753906, 48.19944381713867, 167.59005737304688, 35.79172134399414, 125.45153045654297, 30.262651443481445, 32.01144790649414, 37.93952560424805, 25.354848861694336, 54.6715202331543, 203.0904083251953, 128.01727294921875, 88.98268127441406, 67.07433319091797, 716.6281127929688, 76.39409637451172, 124.32080078125, 924.419677734375, 124.27696990966797, 98.20271301269531, 246.8428497314453, 430.2746887207031, 63.626277923583984, 247.28253173828125, 186.7556915283203, 461.41912841796875, 152.16461181640625, 143.24937438964844, 168.6409912109375, 112.92601776123047, 107.90860748291016, 188.5253143310547, 148.76649475097656, 83.84613037109375, 192.2906494140625, 117.56111145019531, 88.85919189453125, 151.99107360839844, 101.7078857421875, 33.50082778930664, 36.91434860229492, 20.304241180419922, 24.985158920288086, 31.385549545288086, 22.95101547241211, 18.845340728759766, 62.97059631347656, 17.253570556640625, 13.927183151245117, 13.763986587524414, 16.325347900390625, 20.488426208496094, 19.756927490234375, 13.224388122558594, 15.137003898620605, 42.453487396240234, 11.142583847045898, 12.9872407913208, 20.567996978759766, 10.944371223449707, 12.486349105834961, 11.168216705322266, 10.456950187683105, 11.21631145477295, 10.430403709411621, 9.745927810668945, 9.539538383483887, 11.021939277648926, 15.683966636657715, 12.238774299621582, 14.930390357971191, 16.90655517578125, 13.267718315124512, 32.56755447387695, 27.26949691772461, 95.76343536376953, 16.75031280517578, 151.99107360839844, 21.68107795715332, 81.33995056152344, 52.62358856201172, 192.2906494140625, 87.08472442626953, 117.56111145019531, 188.5253143310547, 924.419677734375, 246.8428497314453, 461.41912841796875, 44.74663543701172, 17.32956314086914, 15.568209648132324, 15.053521156311035, 15.038506507873535, 15.675787925720215, 17.534740447998047, 16.958839416503906, 13.017339706420898, 15.009902954101562, 14.573301315307617, 14.243338584899902, 36.44563293457031, 11.44705581665039, 12.819915771484375, 12.176742553710938, 12.908205032348633, 10.588831901550293, 9.962876319885254, 9.874658584594727, 10.37553596496582, 10.185110092163086, 9.619197845458984, 9.04977798461914, 8.920358657836914, 9.748115539550781, 9.674614906311035, 9.17528247833252, 9.269893646240234, 8.668184280395508, 12.013629913330078, 21.47791290283203, 16.238887786865234, 13.135186195373535, 10.471031188964844, 19.313156127929688, 24.034271240234375, 83.69436645507812, 19.050947189331055, 23.57383918762207, 37.839019775390625, 81.33995056152344, 924.419677734375, 56.384788513183594, 71.22393035888672, 21.8535099029541, 17.06076431274414, 16.82137107849121, 17.656095504760742, 16.236093521118164, 16.01668930053711, 12.521965980529785, 11.897010803222656, 12.588981628417969, 13.966520309448242, 20.325088500976562, 11.965575218200684, 12.56362247467041, 11.204608917236328, 10.179256439208984, 10.112201690673828, 12.773414611816406, 11.363066673278809, 9.650419235229492, 20.4449520111084, 9.335062026977539, 21.15336799621582, 13.988553047180176, 8.34294605255127, 7.700808525085449, 22.02194595336914, 8.12774658203125, 7.645188808441162, 7.821097373962402, 8.199528694152832, 15.078401565551758, 12.652936935424805, 66.5863037109375, 39.60062789916992, 10.012846946716309, 39.25955581665039, 14.097221374511719, 15.644120216369629, 24.822763442993164, 461.41912841796875, 15.438260078430176, 924.419677734375, 43.25820541381836, 430.2746887207031, 53.92327117919922, 81.33995056152344, 716.6281127929688, 192.2906494140625, 188.5253143310547, 41.72330093383789, 247.28253173828125, 168.6409912109375, 22.115955352783203, 19.646772384643555, 34.480201721191406, 17.29149627685547, 18.441120147705078, 16.735111236572266, 15.458967208862305, 16.718564987182617, 15.519332885742188, 13.638824462890625, 14.58948040008545, 12.432417869567871, 11.898452758789062, 13.41001033782959, 10.188380241394043, 10.840727806091309, 10.179977416992188, 10.619565963745117, 10.191726684570312, 9.093833923339844, 9.405628204345703, 8.364850997924805, 7.485489845275879, 9.667800903320312, 7.020996570587158, 7.31027889251709, 7.106545925140381, 11.082331657409668, 7.079370498657227, 5.996645450592041, 7.874399185180664, 13.290694236755371, 19.510089874267578, 9.484270095825195, 31.13077735900879, 54.360416412353516, 37.63201141357422, 29.49901008605957, 85.47959899902344, 716.6281127929688, 924.419677734375, 23.57383918762207, 92.98523712158203, 31.59223747253418, 18.330657958984375, 10.461402893066406, 8.84803581237793, 9.906286239624023, 9.762441635131836, 8.140467643737793, 8.77346420288086, 7.8459062576293945, 7.038119792938232, 5.893404960632324, 6.84229850769043, 5.215634822845459, 5.613927841186523, 5.6280999183654785, 4.898624897003174, 4.847529411315918, 5.270429611206055, 4.487435817718506, 4.656999588012695, 4.530483245849609, 6.944889545440674, 4.46917724609375, 4.259713649749756, 3.945359945297241, 3.852304697036743, 3.9432969093322754, 3.879188060760498, 3.7878878116607666, 3.9400956630706787, 5.682281494140625, 6.664984703063965, 27.195138931274414, 7.25730562210083, 7.059053897857666, 5.623799800872803, 6.337100028991699, 7.883477687835693, 10.71416187286377, 84.62982940673828, 87.08472442626953, 924.419677734375, 52.34191131591797, 22.531627655029297, 20.777729034423828, 14.908098220825195, 9.679353713989258, 11.30421257019043, 15.324857711791992, 8.208903312683105, 7.879030227661133, 10.581591606140137, 7.719178199768066, 11.175107955932617, 7.772868633270264, 6.58758544921875, 6.119775772094727, 5.608953475952148, 5.634753704071045, 5.637463569641113, 5.442348003387451, 4.4159650802612305, 18.02201271057129, 4.785696983337402, 4.124361038208008, 3.8467748165130615, 4.174049377441406, 4.458740711212158, 4.342703819274902, 3.840629816055298, 5.356081008911133, 4.283906936645508, 5.987697124481201, 19.004852294921875, 9.216813087463379, 11.186724662780762, 5.393914699554443, 6.822266578674316, 6.97252893447876, 19.804033279418945, 33.70594787597656, 22.120437622070312, 15.874212265014648, 36.953697204589844, 39.60062789916992, 10.724173545837402, 10.70704174041748, 13.4257173538208, 14.275043487548828, 6.367327690124512, 5.768715858459473, 5.769361972808838, 5.41241979598999, 5.776843547821045, 5.4120965003967285, 4.637113094329834, 4.1700568199157715, 4.556705951690674, 6.352461338043213, 4.226501941680908, 6.522546768188477, 4.672973155975342, 4.1326165199279785, 4.054985523223877, 3.8461709022521973, 3.924630880355835, 3.8836498260498047, 4.571352481842041, 3.6506619453430176, 3.5537517070770264, 3.6430187225341797, 15.178915023803711, 3.4102442264556885, 4.805312156677246, 3.841904878616333, 6.149962902069092, 6.550449848175049, 6.611889362335205, 61.12017059326172, 5.835801124572754, 13.236976623535156, 30.401718139648438, 148.76649475097656, 88.35343170166016, 15.72083854675293, 20.281936645507812, 18.0570011138916, 12.164761543273926, 9.382055282592773, 8.210187911987305, 7.776201248168945, 7.189647197723389, 6.8432698249816895, 6.411615371704102, 6.296082019805908, 5.395176410675049, 5.793777942657471, 5.402164459228516, 4.794201374053955, 4.024554252624512, 4.097990036010742, 3.5582916736602783, 3.052154302597046, 3.224153757095337, 2.962346076965332, 2.9559404850006104, 2.8564863204956055, 2.6546599864959717, 3.573298692703247, 2.5003128051757812, 2.432457208633423, 2.282538890838623, 2.185405731201172, 2.115018606185913, 4.080782890319824, 6.161183834075928, 10.171269416809082, 6.5713114738464355, 19.961944580078125, 4.218564510345459, 8.78286075592041, 26.817899703979492, 246.8428497314453, 6.859058380126953, 22.505084991455078, 9.337087631225586, 12.420859336853027, 6.635998725891113, 5.984169960021973, 5.714001655578613, 7.58207368850708, 5.004854679107666, 5.2520751953125, 24.857351303100586, 4.777200698852539, 4.176499843597412, 4.584666728973389, 4.328613758087158, 4.002318859100342, 5.114717483520508, 4.073373317718506, 3.5429110527038574, 3.5220515727996826, 3.156491279602051, 3.236048698425293, 3.135740041732788, 4.665913105010986, 3.3364856243133545, 2.946502208709717, 2.646857500076294, 7.25562858581543, 3.69832444190979, 2.6567957401275635, 2.66133975982666, 12.653153419494629, 6.844571113586426, 6.718585014343262, 3.8373348712921143, 8.006818771362305, 20.141672134399414, 9.197060585021973, 924.419677734375, 8.997734069824219, 9.088802337646484, 8.07093334197998, 6.628599166870117, 5.712282180786133, 6.231101989746094, 5.774311065673828, 5.7232842445373535, 5.263355731964111, 5.611880302429199, 4.323854446411133, 4.041894435882568, 4.172541618347168, 4.121030330657959, 3.4179577827453613, 9.335148811340332, 3.384131669998169, 3.9304487705230713, 3.3975908756256104, 3.239748001098633, 7.505081653594971, 3.7030692100524902, 2.8140554428100586, 2.642871141433716, 3.8630664348602295, 2.835953712463379, 2.569746971130371, 8.236189842224121, 2.3286643028259277, 2.383617639541626, 3.2783658504486084, 2.7489233016967773, 22.35308265686035, 15.993793487548828, 52.34191131591797, 87.08472442626953, 9.286262512207031, 7.262362480163574, 7.246631622314453, 6.767232894897461, 6.661294460296631, 5.771389007568359, 16.293283462524414, 4.842475414276123, 4.477464199066162, 4.409949779510498, 4.495184421539307, 3.762096643447876, 6.651805400848389, 3.5097219944000244, 3.064307689666748, 5.0184645652771, 3.2380032539367676, 3.4021005630493164, 3.0238780975341797, 3.1874189376831055, 2.9162826538085938, 2.9243576526641846, 3.029055118560791, 2.894535541534424, 2.7168502807617188, 2.49815034866333, 2.909580945968628, 2.3650619983673096, 2.423116683959961, 2.3100812435150146, 7.894420623779297, 7.203537940979004, 3.7256338596343994, 10.886767387390137, 17.825227737426758, 85.43660736083984, 5.9388298988342285, 7.155729293823242, 3.7831473350524902, 3.219315528869629, 2.83944034576416, 3.075248956680298, 2.3992862701416016, 2.2259247303009033, 2.3500468730926514, 2.9054675102233887, 2.2237045764923096, 3.1914944648742676, 2.2530031204223633, 2.2340145111083984, 1.909278154373169, 1.9387049674987793, 3.418440103530884, 1.8256986141204834, 1.8413336277008057, 1.859619379043579, 1.8427900075912476, 1.9859634637832642, 1.881725788116455, 1.8775403499603271, 1.7308342456817627, 1.7422205209732056, 1.7607219219207764, 1.7645289897918701, 1.624504804611206, 1.628042459487915, 8.077887535095215, 5.7125701904296875, 21.68107795715332, 2.706543445587158, 4.225168228149414, 4.5930023193359375, 4.540711402893066, 186.7556915283203, 3.998650550842285, 13.17679214477539, 41.63614273071289, 5.30192756652832], \"loglift\": [30.0, 29.0, 28.0, 27.0, 26.0, 25.0, 24.0, 23.0, 22.0, 21.0, 20.0, 19.0, 18.0, 17.0, 16.0, 15.0, 14.0, 13.0, 12.0, 11.0, 10.0, 9.0, 8.0, 7.0, 6.0, 5.0, 4.0, 3.0, 2.0, 1.0, 1.0719000101089478, 1.065600037574768, 1.0641000270843506, 1.0628000497817993, 1.0614999532699585, 1.059999942779541, 1.059499979019165, 1.0582000017166138, 1.0578999519348145, 1.0577000379562378, 1.0577000379562378, 1.0573999881744385, 1.0572999715805054, 1.0571999549865723, 1.055899977684021, 1.052899956703186, 1.0521999597549438, 1.0520000457763672, 1.0520000457763672, 1.0516999959945679, 1.0516999959945679, 1.0498000383377075, 1.049399971961975, 1.049299955368042, 1.048200011253357, 1.0479999780654907, 1.0470999479293823, 1.0461000204086304, 1.0461000204086304, 1.0461000204086304, 1.0390000343322754, 1.041100025177002, 1.0422999858856201, 1.0434000492095947, 0.9958999752998352, 1.0361000299453735, 1.0225000381469727, 0.958899974822998, 1.018399953842163, 1.0268000364303589, 0.9689000248908997, 0.941100001335144, 1.030500054359436, 0.9253000020980835, 0.9460999965667725, 0.8652999997138977, 0.9534000158309937, 0.9466000199317932, 0.9042999744415283, 0.9433000087738037, 0.9408000111579895, 0.8138999938964844, 0.8051000237464905, 0.9588000178337097, 0.7013999819755554, 0.8429999947547913, 0.9365000128746033, 0.7042999863624573, 0.808899998664856, 2.34089994430542, 2.3310000896453857, 2.3271000385284424, 2.3259999752044678, 2.3255999088287354, 2.324899911880493, 2.3231000900268555, 2.3227999210357666, 2.315999984741211, 2.311500072479248, 2.3104000091552734, 2.309999942779541, 2.309999942779541, 2.308199882507324, 2.307800054550171, 2.2981998920440674, 2.297100067138672, 2.295799970626831, 2.2957000732421875, 2.2929999828338623, 2.2915000915527344, 2.2904000282287598, 2.2892000675201416, 2.2881999015808105, 2.287899971008301, 2.2799999713897705, 2.2797000408172607, 2.278899908065796, 2.2778000831604004, 2.2771999835968018, 2.267699956893921, 2.254300117492676, 2.240000009536743, 2.2602999210357666, 2.085200071334839, 2.086899995803833, 1.7721999883651733, 2.1552999019622803, 1.0844999551773071, 1.93340003490448, 1.1122000217437744, 1.3444000482559204, 0.4426000118255615, 0.8499000072479248, 0.5081999897956848, 0.03909999877214432, -1.6157000064849854, -0.3959999978542328, -1.0669000148773193, 2.3805999755859375, 2.353600025177002, 2.3506999015808105, 2.347399950027466, 2.343600034713745, 2.3424999713897705, 2.3422000408172607, 2.3401999473571777, 2.339900016784668, 2.335400104522705, 2.333400011062622, 2.3310000896453857, 2.3308000564575195, 2.3287999629974365, 2.3271000385284424, 2.3254001140594482, 2.324399948120117, 2.3169000148773193, 2.3162999153137207, 2.3159000873565674, 2.3143999576568604, 2.3134000301361084, 2.3097000122070312, 2.307499885559082, 2.306999921798706, 2.306299924850464, 2.3024001121520996, 2.3013999462127686, 2.301300048828125, 2.2988998889923096, 2.294100046157837, 2.281899929046631, 2.247999906539917, 2.268199920654297, 2.2600998878479004, 2.0311999320983887, 1.9007999897003174, 1.3386000394821167, 1.9283000230789185, 1.736899971961975, 1.4194999933242798, 0.7034000158309937, -1.6615999937057495, 0.7566999793052673, 0.5113000273704529, 2.440500020980835, 2.4221999645233154, 2.4177000522613525, 2.4172000885009766, 2.414099931716919, 2.4130001068115234, 2.406899929046631, 2.4031999111175537, 2.400099992752075, 2.3984999656677246, 2.3959999084472656, 2.3940999507904053, 2.392899990081787, 2.390199899673462, 2.389899969100952, 2.3889999389648438, 2.388000011444092, 2.3868000507354736, 2.3850998878479004, 2.3847999572753906, 2.3754000663757324, 2.374500036239624, 2.3726999759674072, 2.3661000728607178, 2.365799903869629, 2.365000009536743, 2.3589000701904297, 2.356100082397461, 2.352400064468384, 2.3519999980926514, 2.3480000495910645, 2.3452000617980957, 2.3085999488830566, 2.3078999519348145, 2.3496999740600586, 2.1519999504089355, 2.2464001178741455, 2.155900001525879, 1.9169000387191772, 0.2768000066280365, 2.147200107574463, -0.6212000250816345, 1.4114999771118164, -0.32429999113082886, 1.1100000143051147, 0.6762999892234802, -1.3014999628067017, -0.12430000305175781, -0.10830000042915344, 1.2573000192642212, -0.44690001010894775, -0.16410000622272491, 2.6445999145507812, 2.6389999389648438, 2.634200096130371, 2.632499933242798, 2.6298000812530518, 2.6268999576568604, 2.621299982070923, 2.6157000064849854, 2.6147000789642334, 2.6142001152038574, 2.6126999855041504, 2.6085000038146973, 2.6071999073028564, 2.6036999225616455, 2.5917999744415283, 2.5908000469207764, 2.588599920272827, 2.585700035095215, 2.5820000171661377, 2.5782999992370605, 2.57450008392334, 2.564500093460083, 2.553100109100342, 2.549999952316284, 2.5497000217437744, 2.549099922180176, 2.547300100326538, 2.5457000732421875, 2.5281999111175537, 2.526099920272827, 2.5151000022888184, 2.4672999382019043, 2.4159998893737793, 2.4937000274658203, 2.128000020980835, 1.4901000261306763, 1.6751999855041504, 1.7350000143051147, 0.9013000130653381, -1.1305999755859375, -1.576799988746643, 1.6919000148773193, 0.3596000075340271, 2.9467999935150146, 2.915600061416626, 2.878499984741211, 2.8757998943328857, 2.867500066757202, 2.8557000160217285, 2.855600118637085, 2.8552000522613525, 2.8510000705718994, 2.8477001190185547, 2.8060998916625977, 2.7880001068115234, 2.787100076675415, 2.7792000770568848, 2.7790000438690186, 2.775599956512451, 2.7702999114990234, 2.763700008392334, 2.761699914932251, 2.7609000205993652, 2.7590999603271484, 2.752700090408325, 2.7414000034332275, 2.732599973678589, 2.7318999767303467, 2.716900110244751, 2.71560001373291, 2.714200019836426, 2.7137999534606934, 2.7095999717712402, 2.6963000297546387, 2.686300039291382, 2.602400064468384, 2.6733999252319336, 2.6480000019073486, 2.66759991645813, 2.578700065612793, 2.3738999366760254, 2.114300012588501, 0.5203999876976013, 0.37310001254081726, -2.0104000568389893, 0.5335000157356262, 2.9532999992370605, 2.9518001079559326, 2.948899984359741, 2.9052999019622803, 2.902100086212158, 2.8940999507904053, 2.886899948120117, 2.8847999572753906, 2.883500099182129, 2.8812999725341797, 2.871000051498413, 2.865000009536743, 2.850800037384033, 2.849100112915039, 2.8301000595092773, 2.8292999267578125, 2.823499917984009, 2.8217999935150146, 2.7916998863220215, 2.789900064468384, 2.785099983215332, 2.7701001167297363, 2.760499954223633, 2.75819993019104, 2.7546000480651855, 2.751300096511841, 2.7369000911712646, 2.728600025177002, 2.7144999504089355, 2.684299945831299, 2.6403000354766846, 2.65339994430542, 2.606800079345703, 2.662899971008301, 2.5176000595092773, 2.5044000148773193, 1.763800024986267, 1.4005000591278076, 1.6167999505996704, 1.805299997329712, 1.0259000062942505, 0.911300003528595, 2.968400001525879, 2.966399908065796, 2.9583001136779785, 2.9272000789642334, 2.9166998863220215, 2.9042999744415283, 2.9019999504089355, 2.895900011062622, 2.893699884414673, 2.8680999279022217, 2.8675999641418457, 2.839600086212158, 2.836899995803833, 2.834399938583374, 2.8287999629974365, 2.824899911880493, 2.8239998817443848, 2.8222999572753906, 2.816800117492676, 2.811000108718872, 2.8099000453948975, 2.8039000034332275, 2.7973999977111816, 2.795300006866455, 2.791800022125244, 2.7897000312805176, 2.7829999923706055, 2.779900074005127, 2.772700071334839, 2.771699905395508, 2.769700050354004, 2.7665998935699463, 2.563800096511841, 1.136199951171875, 2.4925999641418457, 1.8883999586105347, 1.2640999555587769, -0.3206000030040741, 0.12240000069141388, 1.5722999572753906, 3.1493000984191895, 3.125999927520752, 3.122499942779541, 3.093600034713745, 3.089600086212158, 3.0820000171661377, 3.0725998878479004, 3.062700033187866, 3.055299997329712, 3.049099922180176, 3.0215001106262207, 3.020699977874756, 3.0164999961853027, 2.9565999507904053, 2.9449000358581543, 2.9344000816345215, 2.8729000091552734, 2.871299982070923, 2.8515000343322754, 2.829699993133545, 2.8294999599456787, 2.817699909210205, 2.811500072479248, 2.7988998889923096, 2.7499001026153564, 2.733599901199341, 2.6989998817443848, 2.696700096130371, 2.69320011138916, 2.688999891281128, 2.610300064086914, 2.569700002670288, 2.577199935913086, 2.438499927520752, 2.592600107192993, 2.113600015640259, 1.0836000442504883, -1.2280999422073364, 2.00219988822937, 3.1807000637054443, 3.1338999271392822, 3.092900037765503, 3.0762999057769775, 3.072200059890747, 3.06850004196167, 3.053499937057495, 3.0481998920440674, 3.0441999435424805, 3.0367000102996826, 3.01419997215271, 3.0058000087738037, 2.997999906539917, 2.9916000366210938, 2.983599901199341, 2.9790000915527344, 2.973400115966797, 2.9379000663757324, 2.924499988555908, 2.9142000675201416, 2.906899929046631, 2.890199899673462, 2.8873000144958496, 2.8864998817443848, 2.857599973678589, 2.838099956512451, 2.825500011444092, 2.8213000297546387, 2.8071000576019287, 2.795799970626831, 2.7734999656677246, 2.742300033569336, 2.6796000003814697, 2.7411999702453613, 2.2216999530792236, 1.4211000204086304, 1.9990999698638916, -2.4275999069213867, 3.2202000617980957, 3.202699899673462, 3.198699951171875, 3.182300090789795, 3.163100004196167, 3.1624999046325684, 3.1566998958587646, 3.148900032043457, 3.1387999057769775, 3.1342999935150146, 3.0820000171661377, 3.0741000175476074, 3.0739998817443848, 3.0692999362945557, 3.0281999111175537, 3.021699905395508, 3.0064001083374023, 3.00600004196167, 2.9941000938415527, 2.993299961090088, 2.9834001064300537, 2.9686999320983887, 2.922499895095825, 2.921799898147583, 2.9195001125335693, 2.88919997215271, 2.877000093460083, 2.8714001178741455, 2.860100030899048, 2.839600086212158, 2.811300039291382, 2.805999994277954, 2.004699945449829, 2.008699893951416, 0.5950000286102295, -0.4830000102519989, 3.270400047302246, 3.239000082015991, 3.238600015640259, 3.224600076675415, 3.2028000354766846, 3.196700096130371, 3.181299924850464, 3.172100067138672, 3.141400098800659, 3.1319000720977783, 3.1057000160217285, 3.0905001163482666, 3.0738000869750977, 3.047300100326538, 3.0453999042510986, 3.0269999504089355, 3.026400089263916, 3.0204999446868896, 3.0178000926971436, 3.005500078201294, 2.9907000064849854, 2.9853999614715576, 2.984299898147583, 2.9223999977111816, 2.9107000827789307, 2.9052999019622803, 2.900899887084961, 2.8889999389648438, 2.888400077819824, 2.8852999210357666, 2.821000099182129, 2.7551000118255615, 2.781100034713745, 2.2581000328063965, 1.7302000522613525, 0.0364999994635582, 3.4068000316619873, 3.3457999229431152, 3.2571001052856445, 3.237499952316284, 3.185800075531006, 3.1589999198913574, 3.0985000133514404, 3.0697999000549316, 3.05679988861084, 3.0309998989105225, 3.0260000228881836, 3.0141000747680664, 2.9707999229431152, 2.9591000080108643, 2.9565000534057617, 2.9077000617980957, 2.9058001041412354, 2.8933000564575195, 2.887700080871582, 2.8819000720977783, 2.8754000663757324, 2.8726999759674072, 2.855799913406372, 2.8099000453948975, 2.8087000846862793, 2.802500009536743, 2.7771999835968018, 2.7690000534057617, 2.752000093460083, 2.747499942779541, 2.740000009536743, 2.7202000617980957, 2.3759000301361084, 2.7016000747680664, 2.53410005569458, 2.401400089263916, 2.30649995803833, -0.39160001277923584, 2.296999931335449, 1.3529000282287598, 0.29319998621940613, 2.0039000511169434], \"logprob\": [30.0, 29.0, 28.0, 27.0, 26.0, 25.0, 24.0, 23.0, 22.0, 21.0, 20.0, 19.0, 18.0, 17.0, 16.0, 15.0, 14.0, 13.0, 12.0, 11.0, 10.0, 9.0, 8.0, 7.0, 6.0, 5.0, 4.0, 3.0, 2.0, 1.0, -4.844399929046631, -5.4608001708984375, -5.855400085449219, -5.955699920654297, -5.881899833679199, -6.149099826812744, -5.9903998374938965, -6.1981000900268555, -6.270199775695801, -6.281899929046631, -6.27400016784668, -6.298600196838379, -6.305600166320801, -3.972599983215332, -6.370699882507324, -6.212399959564209, -5.89139986038208, -6.1946001052856445, -6.4679999351501465, -6.124499797821045, -6.174200057983398, -6.1280999183654785, -4.882299900054932, -6.426199913024902, -5.173099994659424, -6.595300197601318, -6.539999961853027, -6.371099948883057, -6.774099826812744, -6.005799770355225, -4.7006001472473145, -5.159900188446045, -5.52239990234375, -5.803999900817871, -3.4827001094818115, -5.68120002746582, -5.207799911499023, -3.265199899673462, -5.212299823760986, -5.4394001960754395, -4.575500011444092, -4.047699928283691, -5.869699954986572, -4.617400169372559, -4.877299785614014, -4.053599834442139, -5.074900150299072, -5.142000198364258, -5.021200180053711, -5.383200168609619, -5.431099891662598, -5.000100135803223, -5.245699882507324, -5.665500164031982, -5.092800140380859, -5.44320011138916, -5.629700183868408, -5.325099945068359, -5.622200012207031, -5.200799942016602, -5.113699913024902, -5.7153000831604, -5.508999824523926, -5.281300067901611, -5.594900131225586, -5.793799877166748, -4.587699890136719, -5.889200210571289, -6.107900142669678, -6.120800018310547, -5.950500011444092, -5.723299980163574, -5.761499881744385, -6.163400173187256, -6.037899971008301, -5.007699966430664, -6.34660005569458, -6.193600177764893, -5.736400127410889, -6.368899822235107, -6.2382001876831055, -6.350900173187256, -6.417799949645996, -6.3480000495910645, -6.428400039672852, -6.496699810028076, -6.518899917602539, -6.375500202178955, -6.0233001708984375, -6.280900001525879, -6.0954999923706055, -5.985499858856201, -6.207600116729736, -5.4847002029418945, -5.660600185394287, -4.719099998474121, -6.079500198364258, -4.944900035858154, -6.043399810791016, -5.542399883270264, -5.74560022354126, -5.351600170135498, -5.736400127410889, -5.7779998779296875, -5.774899959564209, -5.839700222015381, -5.940499782562256, -5.985799789428711, -4.871600151062012, -5.8471999168396, -5.957300186157227, -5.994200229644775, -5.999000072479248, -5.958600044250488, -5.846799850463867, -5.882199764251709, -6.146999835968018, -6.009099960327148, -6.040599822998047, -6.065899848937988, -5.1265997886657715, -6.2866997718811035, -6.175099849700928, -6.228300094604492, -6.170899868011475, -6.376500129699707, -6.438000202178955, -6.447299957275391, -6.3993000984191895, -6.418900012969971, -6.479700088500977, -6.543000221252441, -6.557799816131592, -6.469799995422363, -6.481299877166748, -6.535299777984619, -6.525100231170654, -6.594699859619141, -6.2729997634887695, -5.7042999267578125, -6.0177998542785645, -6.209799766540527, -6.444499969482422, -6.061200141906738, -5.972899913787842, -5.287399768829346, -6.177700042724609, -6.156199932098389, -6.000400066375732, -5.951200008392334, -5.8856000900268555, -6.2642998695373535, -6.276100158691406, -5.52839994430542, -5.7941999435424805, -5.81279993057251, -5.764900207519531, -5.851900100708008, -5.866600036621094, -6.118800163269043, -6.173699855804443, -6.120299816131592, -6.018099784851074, -5.645299911499023, -6.17710018157959, -6.129499912261963, -6.246699810028076, -6.3429999351501465, -6.350500106811523, -6.117800235748291, -6.236100196838379, -6.401100158691406, -5.650700092315674, -6.4440999031066895, -5.6269001960754395, -6.042300224304199, -6.565700054168701, -6.646100044250488, -5.596199989318848, -6.598999977111816, -6.663099765777588, -6.644000053405762, -6.5971999168396, -5.9918999671936035, -6.170100212097168, -4.546199798583984, -5.066400051116943, -6.399700164794922, -5.230999946594238, -6.160799980163574, -6.147200107574463, -5.924499988555908, -4.642099857330322, -6.169099807739258, -4.845300197601318, -5.874499797821045, -5.3130998611450195, -5.955599784851074, -5.9781999588012695, -5.780200004577637, -5.918499946594238, -5.922299861907959, -6.064899921417236, -5.98960018157959, -6.0894999504089355, -5.312300205230713, -5.436299800872803, -4.878600120544434, -5.570499897003174, -5.508800029754639, -5.608799934387207, -5.693699836730957, -5.620999813079834, -5.696400165557861, -5.826099872589111, -5.760200023651123, -5.9243998527526855, -5.969600200653076, -5.853499889373779, -6.140100002288818, -6.079100131988525, -6.144199848175049, -6.104800224304199, -6.149700164794922, -6.267300128936768, -6.237400054931641, -6.364699840545654, -6.487100124359131, -6.234399795532227, -6.554599761962891, -6.514800071716309, -6.544899940490723, -6.102200031280518, -6.567800045013428, -6.735899925231934, -6.4745001792907715, -5.998899936676025, -5.666200160980225, -6.309800148010254, -5.486999988555908, -5.567500114440918, -5.750100135803223, -5.933800220489502, -5.70359992980957, -5.609300136566162, -5.80079984664917, -6.201200008392334, -6.161099910736084, -4.653500080108643, -5.229100227355957, -5.827000141143799, -5.997300148010254, -5.892499923706055, -5.918900012969971, -6.100800037384033, -6.026199817657471, -6.142199993133545, -6.254199981689453, -6.473299980163574, -6.342100143432617, -6.614500045776367, -6.548799991607666, -6.546500205993652, -6.688700199127197, -6.704400062561035, -6.627399921417236, -6.790200233459473, -6.754000186920166, -6.783199787139893, -6.362500190734863, -6.814599990844727, -6.871399879455566, -6.948800086975098, -6.987599849700928, -6.96560001373291, -6.98330020904541, -7.007599830627441, -6.972400188446045, -6.61959981918335, -6.46999979019165, -5.14769983291626, -6.397799968719482, -6.450900077819824, -6.658599853515625, -6.6280999183654785, -6.61460018157959, -6.567399978637695, -6.094600200653076, -6.213200092315674, -6.234399795532227, -6.5619001388549805, -4.985000133514404, -5.067500114440918, -5.402400016784668, -5.877900123596191, -5.72599983215332, -5.429699897766113, -6.061100006103516, -6.1041998863220215, -5.8105998039245605, -6.128200054168701, -5.768499851226807, -6.137499809265137, -6.317200183868408, -6.392600059509277, -6.498700141906738, -6.494999885559082, -6.50029993057251, -6.537199974060059, -6.776299953460693, -5.371799945831299, -6.702499866485596, -6.866199970245361, -6.945499897003174, -6.866199970245361, -6.803800106048584, -6.833399772644043, -6.970699787139893, -6.646399974822998, -6.883900165557861, -6.57919979095459, -5.468299865722656, -6.178800106048584, -6.031599998474121, -6.704999923706055, -6.6153998374938965, -6.606800079345703, -6.303500175476074, -6.135000228881836, -6.339900016784668, -6.4832000732421875, -6.417600154876709, -6.4629998207092285, -5.712299823760986, -5.71589994430542, -5.497700214385986, -5.46750020980835, -6.285399913787842, -6.396399974822998, -6.39870023727417, -6.468599796295166, -6.405700206756592, -6.496500015258789, -6.651500225067139, -6.785699844360352, -6.699699878692627, -6.369900226593018, -6.7829999923706055, -6.353099822998047, -6.687399864196777, -6.811999797821045, -6.83650016784668, -6.895100116729736, -6.875999927520752, -6.892499923706055, -6.735899925231934, -6.9629998207092285, -6.9934000968933105, -6.970699787139893, -5.550300121307373, -7.046500205993652, -6.7108001708984375, -6.9355998039245605, -6.467100143432617, -6.4070000648498535, -6.600500106811523, -5.804200172424316, -6.796599864959717, -6.5817999839782715, -6.374599933624268, -6.371399879455566, -6.449399948120117, -6.725900173187256, -4.894100189208984, -5.033699989318848, -5.43209981918335, -5.720799922943115, -5.8582000732421875, -5.920100212097168, -6.007999897003174, -6.067200183868408, -6.139800071716309, -6.1641998291015625, -6.346199989318848, -6.275700092315674, -6.349899768829346, -6.529200077056885, -6.71589994430542, -6.7083001136779785, -6.910999774932861, -7.066100120544434, -7.031000137329102, -7.137599945068359, -7.139900207519531, -7.1859002113342285, -7.265399932861328, -6.980800151824951, -7.386899948120117, -7.430699825286865, -7.5289998054504395, -7.574699878692627, -7.610899925231934, -6.957900047302246, -6.624599933624268, -6.163899898529053, -6.593299865722656, -5.6209001541137695, -7.021100044250488, -6.7667999267578125, -6.680500030517578, -6.772500038146973, -7.125500202178955, -4.758699893951416, -5.685400009155273, -5.440899848937988, -6.084400177001953, -6.19189977645874, -6.241799831390381, -5.973899841308594, -6.394599914550781, -6.350299835205078, -4.803299903869629, -6.475100040435791, -6.6178998947143555, -6.53249979019165, -6.596399784088135, -6.682700157165527, -6.4421000480651855, -6.675300121307373, -6.850399971008301, -6.869699954986572, -6.98960018157959, -6.97189998626709, -7.020100116729736, -6.6255998611450195, -6.9618000984191895, -7.114999771118164, -7.241700172424316, -6.245999813079834, -6.924099922180176, -7.269000053405762, -7.278600215911865, -5.741799831390381, -6.387499809265137, -6.468699932098389, -6.967199802398682, -6.751200199127197, -6.62939977645874, -6.83519983291626, -6.651599884033203, -5.636000156402588, -5.643400192260742, -5.766300201416016, -5.979499816894531, -6.147500038146973, -6.061100006103516, -6.143099784851074, -6.159800052642822, -6.253600120544434, -6.1940999031066895, -6.5071001052856445, -6.582399845123291, -6.5507001876831055, -6.567800045013428, -6.796000003814697, -5.797699928283691, -6.827700138092041, -6.678400039672852, -6.836100101470947, -6.884399890899658, -6.054200172424316, -6.775400161743164, -7.096099853515625, -7.1595001220703125, -6.782299995422363, -7.121699810028076, -7.232399940490723, -6.073200225830078, -7.347799777984619, -7.34499979019165, -7.054599761962891, -7.236000061035156, -5.9415998458862305, -6.272299766540527, -6.500400066375732, -7.069300174713135, -5.554299831390381, -5.831500053405762, -5.834000110626221, -5.916500091552734, -5.954100131988525, -6.103600025177002, -5.081200122833252, -6.303699970245361, -6.412799835205078, -6.4375, -6.444499969482422, -6.637700080871582, -6.084499835968018, -6.750400066375732, -6.887899875640869, -6.413099765777588, -6.851900100708008, -6.8084001541137695, -6.928800106048584, -6.888500213623047, -6.992199897766113, -6.994800090789795, -6.960700035095215, -7.067999839782715, -7.14300012588501, -7.2322998046875, -7.0843000411987305, -7.303400039672852, -7.279699802398682, -7.330699920654297, -6.166100025177002, -6.323500156402588, -6.956900119781494, -6.40749979019165, -6.442299842834473, -6.568999767303467, -5.8649001121521, -5.739500045776367, -6.46560001373291, -6.646500110626221, -6.823800086975098, -6.7708001136779785, -7.079500198364258, -7.183300018310547, -7.142000198364258, -6.955599784851074, -7.228000164031982, -6.878699779510498, -7.270199775695801, -7.290299892425537, -7.449999809265137, -7.483500003814697, -6.9182000160217285, -7.5578999519348145, -7.554999828338623, -7.550899982452393, -7.566500186920166, -7.4944000244140625, -7.565199851989746, -7.613399982452393, -7.695899963378906, -7.6956000328063965, -7.710299968719482, -7.716300010681152, -7.815999984741211, -7.818299770355225, -6.224100112915039, -6.590400218963623, -5.600900173187256, -7.355899810791016, -7.078000068664551, -7.127299785614014, -7.23360013961792, -6.215000152587891, -7.370299816131592, -7.121799945831299, -7.031000137329102, -7.381199836730957]}, \"token.table\": {\"Topic\": [8, 10, 4, 6, 7, 12, 10, 7, 2, 6, 9, 5, 1, 2, 3, 4, 5, 6, 7, 8, 9, 10, 1, 2, 3, 8, 11, 3, 3, 9, 1, 11, 4, 3, 4, 11, 8, 4, 4, 9, 3, 7, 12, 9, 4, 11, 6, 6, 1, 13, 1, 2, 2, 7, 10, 2, 4, 13, 1, 2, 3, 4, 8, 13, 1, 2, 3, 8, 2, 9, 1, 7, 9, 2, 7, 8, 10, 10, 1, 4, 4, 2, 3, 4, 1, 2, 4, 12, 3, 5, 9, 12, 6, 9, 6, 5, 10, 5, 12, 7, 9, 1, 8, 4, 4, 5, 6, 1, 2, 5, 10, 1, 2, 3, 4, 5, 6, 7, 8, 10, 12, 13, 1, 1, 2, 3, 4, 5, 8, 10, 7, 1, 1, 1, 2, 4, 3, 6, 1, 13, 6, 10, 13, 6, 1, 8, 1, 13, 2, 4, 11, 5, 6, 7, 4, 8, 6, 6, 1, 2, 3, 4, 10, 1, 3, 7, 1, 2, 3, 4, 5, 6, 7, 8, 10, 11, 8, 1, 3, 5, 10, 5, 10, 1, 3, 5, 6, 8, 2, 1, 8, 9, 1, 2, 3, 4, 5, 6, 8, 11, 1, 2, 3, 4, 3, 1, 10, 1, 3, 4, 5, 6, 7, 1, 2, 3, 4, 5, 6, 8, 10, 12, 1, 2, 3, 4, 5, 6, 7, 10, 12, 3, 4, 13, 13, 6, 3, 4, 12, 8, 1, 3, 7, 8, 9, 1, 6, 7, 6, 12, 4, 12, 1, 2, 3, 4, 6, 13, 6, 9, 13, 8, 7, 1, 3, 11, 11, 2, 1, 4, 6, 8, 11, 1, 7, 12, 4, 9, 2, 13, 1, 3, 11, 8, 1, 7, 8, 13, 9, 1, 8, 3, 12, 6, 13, 4, 1, 2, 3, 4, 1, 2, 3, 4, 5, 6, 7, 8, 10, 11, 12, 9, 4, 1, 2, 11, 1, 7, 9, 12, 1, 3, 4, 2, 12, 5, 5, 1, 4, 1, 2, 3, 4, 5, 6, 10, 5, 13, 12, 1, 2, 1, 3, 4, 5, 6, 9, 10, 1, 2, 7, 1, 10, 4, 8, 11, 6, 1, 3, 8, 12, 7, 6, 9, 9, 9, 12, 4, 12, 5, 9, 8, 9, 1, 3, 4, 1, 13, 11, 10, 7, 3, 4, 10, 8, 2, 13, 13, 13, 1, 4, 1, 5, 5, 1, 3, 4, 12, 10, 7, 10, 5, 9, 11, 5, 6, 5, 9, 11, 10, 8, 2, 1, 8, 8, 11, 13, 7, 6, 3, 9, 10, 13, 2, 10, 2, 7, 5, 2, 10, 2, 10, 1, 11, 2, 3, 6, 6, 9, 10, 3, 2, 13, 2, 8, 5, 7, 10, 9, 3, 8, 8, 13, 1, 2, 3, 4, 6, 7, 8, 9, 10, 11, 4, 12, 2, 3, 5, 6, 9, 11, 10, 1, 2, 7, 4, 8, 4, 1, 4, 6, 7, 1, 3, 7, 10, 10, 11, 3, 3, 2, 5, 8, 1, 6, 3, 6, 13, 11, 2, 4, 3, 10, 1, 2, 3, 4, 5, 7, 10, 13, 1, 11, 6, 2, 2, 5, 2, 7, 11, 4, 7, 10, 7, 4, 12, 8, 1, 9, 1, 10, 9, 4, 12, 6, 1, 2, 6, 2, 3, 7, 13, 10, 3, 4, 8, 9, 11, 10, 1, 1, 3, 7, 2, 5, 4, 2, 1, 1, 2, 3, 4, 5, 7, 8, 7, 12, 5, 2, 7, 1, 2, 10, 13, 1, 4, 2, 13, 5, 2, 5, 3, 4, 4, 5, 7, 13, 9, 1, 2, 3, 4, 5, 6, 7, 8, 9, 10, 12, 8, 8, 4, 1, 2, 8, 11, 2, 1, 2, 3, 4, 6, 11, 3, 3, 2, 2, 8, 12, 3, 10, 5, 13, 7, 13, 3, 12, 3, 11, 1, 9, 3, 5, 1, 4, 1, 2, 3, 4, 5, 6, 7, 12, 1, 2, 3, 4, 5, 1, 12, 13, 3, 1, 2, 3, 4, 5, 6, 10, 12, 2, 13, 5, 1, 2, 3, 4, 7, 9, 10, 1, 3, 7, 6, 1, 2, 3, 4, 5, 6, 9, 8, 11, 7, 11, 3, 7, 8, 9, 1, 7, 7, 6, 7, 4, 4, 8, 12, 3, 1, 6, 1, 3, 1, 5, 11, 1, 7, 2, 8, 4, 4, 6, 1, 1, 10, 6, 12, 2, 4, 1, 3, 3, 12, 1, 9, 1, 2, 3, 4, 5, 6, 7, 8, 10, 12, 3, 7, 1, 1, 4, 6, 13, 6, 1, 5, 5, 7, 9, 1, 2, 3, 4, 5, 1, 2, 3, 5, 7, 7, 1, 2, 3, 5, 6, 7, 8, 9, 10, 11, 3, 5, 2, 8, 1, 2, 5, 5, 5, 1, 2, 3, 2, 9, 12, 4, 6, 9, 13, 12, 5, 9, 2, 6, 1, 2, 3, 5, 7, 8, 9, 9, 8, 3, 8, 10, 3, 1, 3, 4, 5, 9, 12, 3, 8, 13, 5, 13, 9, 6, 9, 1, 2, 3, 4, 5, 6, 8, 9, 11, 1, 2, 3, 4, 5, 11, 12, 13, 11, 6, 12, 1, 10, 8, 1, 2, 3, 4, 5, 6, 7, 8, 9, 10, 2, 5, 13, 6, 11, 7, 13, 1, 3, 9, 13, 6, 1, 1, 2, 3, 4, 5, 1, 2, 4, 1, 5, 1, 10, 3, 11, 2, 4, 11, 3, 7, 4, 7, 1, 3, 4, 10, 11, 7, 2, 5, 1, 10, 2, 2, 10, 6, 10, 9, 10, 1, 3, 7, 7, 10, 12, 9, 4, 11, 1, 8, 11, 8, 12, 6, 2, 3, 4, 5, 5, 7, 9, 12, 2, 13, 3, 5, 12, 1, 13, 3, 13, 9, 5, 1, 2, 3, 4, 5, 7, 9, 2, 6, 3, 8, 8, 2, 2, 11, 12, 7, 8, 3, 12], \"Freq\": [0.8324121236801147, 0.5994331240653992, 0.8390321731567383, 0.9812536835670471, 0.727385401725769, 0.6909571290016174, 0.7527865171432495, 0.8846259713172913, 0.9444937705993652, 0.2370474636554718, 0.4740949273109436, 0.9224472641944885, 0.8105428814888, 0.03250840678811073, 0.010836134664714336, 0.11052858084440231, 0.017337815836071968, 0.002167226979508996, 0.006501681171357632, 0.004334453959017992, 0.002167226979508996, 0.002167226979508996, 0.7626170516014099, 0.017735280096530914, 0.19508807361125946, 0.017735280096530914, 0.017735280096530914, 0.911423921585083, 0.9156266450881958, 0.4381086230278015, 0.9917524456977844, 0.7599714398384094, 0.9394512176513672, 0.9033535718917847, 0.9365231394767761, 0.6100600361824036, 0.7398300170898438, 0.9238675832748413, 0.8900138735771179, 0.7941446900367737, 0.18539410829544067, 0.7415764331817627, 0.652675986289978, 0.7001608610153198, 0.2142440378665924, 0.7498541474342346, 0.7614028453826904, 0.859901487827301, 0.9906497001647949, 0.792990505695343, 0.9858263731002808, 0.9610495567321777, 0.8987827897071838, 0.9108041524887085, 0.8724734783172607, 0.9248858094215393, 0.47335392236709595, 0.23667696118354797, 0.8795849680900574, 0.041884999722242355, 0.0069808331318199635, 0.04886583238840103, 0.0069808331318199635, 0.0069808331318199635, 0.9724871516227722, 0.007971205748617649, 0.007971205748617649, 0.007971205748617649, 0.3932645916938782, 0.4915807247161865, 0.7417088747024536, 0.20767848193645477, 0.029668353497982025, 0.10849737375974655, 0.6509842276573181, 0.10849737375974655, 0.10849737375974655, 0.933122456073761, 0.0790330320596695, 0.8693633675575256, 0.884151041507721, 0.13516293466091156, 0.015018103644251823, 0.8410137891769409, 0.023555191233754158, 0.9186524748802185, 0.023555191233754158, 0.861487627029419, 0.30057191848754883, 0.10019063949584961, 0.45085787773132324, 0.050095319747924805, 0.3043532371520996, 0.4565298855304718, 0.8484059572219849, 0.884088397026062, 0.7820568680763245, 0.9218528866767883, 0.6802798509597778, 0.6728357076644897, 0.9367941617965698, 0.17135608196258545, 0.5140682458877563, 0.9246019721031189, 0.8537076115608215, 0.9652185440063477, 0.9041554927825928, 0.0804590955376625, 0.04022954776883125, 0.04022954776883125, 0.8045909404754639, 0.9223752021789551, 0.009767967276275158, 0.008372543379664421, 0.02232678234577179, 0.02232678234577179, 0.0027908477932214737, 0.0027908477932214737, 0.0027908477932214737, 0.0027908477932214737, 0.0013954238966107368, 0.0013954238966107368, 0.9846518039703369, 0.8420253992080688, 0.05336780846118927, 0.005929756443947554, 0.0711570754647255, 0.017789268866181374, 0.005929756443947554, 0.005929756443947554, 0.9625691175460815, 0.9684767723083496, 0.9778797626495361, 0.993475079536438, 0.19176533818244934, 0.7031395435333252, 0.8595141768455505, 0.09550157934427261, 0.5658319592475891, 0.18861064314842224, 0.6312035322189331, 0.15780088305473328, 0.5477355122566223, 0.8603052496910095, 0.19764257967472076, 0.7246894836425781, 0.4951789677143097, 0.37138423323631287, 0.0663200244307518, 0.862160325050354, 0.8659041523933411, 0.8948538899421692, 0.9118404984474182, 0.8527326583862305, 0.8924898505210876, 0.866646945476532, 0.8525003790855408, 0.8883993029594421, 0.8711075186729431, 0.018534202128648758, 0.009267101064324379, 0.07413680851459503, 0.009267101064324379, 0.9686192870140076, 0.01562289148569107, 0.007811445742845535, 0.8738603591918945, 0.02091686986386776, 0.01626867800951004, 0.060426514595746994, 0.009296386502683163, 0.0023240966256707907, 0.004648193251341581, 0.0023240966256707907, 0.004648193251341581, 0.0023240966256707907, 0.862605631351471, 0.9726114273071289, 0.0059669408947229385, 0.0059669408947229385, 0.0059669408947229385, 0.14884085953235626, 0.595363438129425, 0.9650874137878418, 0.0049239154905080795, 0.019695661962032318, 0.0049239154905080795, 0.0049239154905080795, 0.9434418678283691, 0.14579260349273682, 0.43737781047821045, 0.29158520698547363, 0.8871970772743225, 0.03285915032029152, 0.026287321001291275, 0.006571830250322819, 0.03285915032029152, 0.006571830250322819, 0.006571830250322819, 0.006571830250322819, 0.941445529460907, 0.016093086451292038, 0.016093086451292038, 0.008046543225646019, 0.9356289505958557, 0.2143203169107437, 0.6429609656333923, 0.6490704417228699, 0.03708973899483681, 0.25962817668914795, 0.018544869497418404, 0.018544869497418404, 0.018544869497418404, 0.8375452756881714, 0.011318179778754711, 0.03395453840494156, 0.022636359557509422, 0.011318179778754711, 0.011318179778754711, 0.05659089609980583, 0.011318179778754711, 0.8866252899169922, 0.7669022083282471, 0.029496237635612488, 0.10815287381410599, 0.029496237635612488, 0.029496237635612488, 0.009832079522311687, 0.009832079522311687, 0.019664159044623375, 0.009832079522311687, 0.9328964352607727, 0.027438130229711533, 0.5430846214294434, 0.5377444624900818, 0.7669248580932617, 0.8621280193328857, 0.06158057227730751, 0.6873841881752014, 0.8797023892402649, 0.5876917839050293, 0.0904141217470169, 0.2712423801422119, 0.04520706087350845, 0.04520706087350845, 0.11097539961338043, 0.055487699806690216, 0.7768277525901794, 0.15033511817455292, 0.7516756057739258, 0.9609440565109253, 0.6839108467102051, 0.07589100301265717, 0.2276730090379715, 0.07589100301265717, 0.379455029964447, 0.15178200602531433, 0.07589100301265717, 0.7083102464675903, 0.14166204631328583, 0.5667234659194946, 0.8655245900154114, 0.9187211394309998, 0.9736085534095764, 0.9635019302368164, 0.9051686525344849, 0.8909669518470764, 0.9616879820823669, 0.07093596458435059, 0.7802956104278564, 0.07093596458435059, 0.12141536921262741, 0.6070768237113953, 0.9930018186569214, 0.7798740863800049, 0.8663425445556641, 0.9293313026428223, 0.07148702442646027, 0.8953980803489685, 0.5314270853996277, 0.09311892092227936, 0.8846297264099121, 0.8753069043159485, 0.8938069939613342, 0.8344217538833618, 0.016361210495233536, 0.14725089073181152, 0.4497000277042389, 0.8629947304725647, 0.15741929411888123, 0.7870965003967285, 0.9606608748435974, 0.800592303276062, 0.13974815607070923, 0.8384889364242554, 0.8612473011016846, 0.866539478302002, 0.011253760196268559, 0.0675225555896759, 0.045015040785074234, 0.8892065286636353, 0.01838991604745388, 0.017308156937360764, 0.04543390870094299, 0.01406287681311369, 0.006490558385848999, 0.0010817598085850477, 0.0021635196171700954, 0.0032452791929244995, 0.0010817598085850477, 0.0010817598085850477, 0.93580162525177, 0.8950150609016418, 0.4376697838306427, 0.25009700655937195, 0.25009700655937195, 0.45927315950393677, 0.09185463190078735, 0.09185463190078735, 0.3674185276031494, 0.3625704348087311, 0.04028560221195221, 0.5639984607696533, 0.38001522421836853, 0.6333587169647217, 0.9595955014228821, 0.9021006226539612, 0.047273796051740646, 0.898202121257782, 0.7691274881362915, 0.09547789394855499, 0.0318259634077549, 0.07426058501005173, 0.005304327234625816, 0.005304327234625816, 0.010608654469251633, 0.9570709466934204, 0.5237581729888916, 0.6274669170379639, 0.6080923080444336, 0.36105480790138245, 0.7958252429962158, 0.02150879055261612, 0.04301758110523224, 0.09678956121206284, 0.01075439527630806, 0.01075439527630806, 0.01075439527630806, 0.9587233662605286, 0.015716776251792908, 0.015716776251792908, 0.7943729758262634, 0.1489449292421341, 0.7125155329704285, 0.12954828143119812, 0.06477414071559906, 0.8165556788444519, 0.3021838068962097, 0.3021838068962097, 0.3021838068962097, 0.8279708623886108, 0.9068322777748108, 0.6889609098434448, 0.1377921849489212, 0.6766036152839661, 0.8767738342285156, 0.893362820148468, 0.9583159685134888, 0.6673808693885803, 0.32461294531822205, 0.4869194030761719, 0.24505101144313812, 0.49010202288627625, 0.9491573572158813, 0.03217482566833496, 0.00804370641708374, 0.9778978824615479, 0.42552343010902405, 0.7567527294158936, 0.8517763018608093, 0.8948459625244141, 0.9327175617218018, 0.9628402590751648, 0.9041593074798584, 0.7194146513938904, 0.9237651824951172, 0.8419166803359985, 0.5035339593887329, 0.6142345666885376, 0.9470206499099731, 0.04073207080364227, 0.9860047101974487, 0.854579508304596, 0.9560737013816833, 0.6171029210090637, 0.0561002641916275, 0.0561002641916275, 0.1683007925748825, 0.7616037130355835, 0.7002953290939331, 0.678770899772644, 0.8833592534065247, 0.45758092403411865, 0.8891127705574036, 0.9253103137016296, 0.7589514255523682, 0.9531612992286682, 0.7404439449310303, 0.7782867550849915, 0.7364903092384338, 0.8441782593727112, 0.913711667060852, 0.9751150012016296, 0.9339647889137268, 0.7799965143203735, 0.8736242651939392, 0.5158082246780396, 0.7811219096183777, 0.7042726874351501, 0.4995741844177246, 0.12489354610443115, 0.37468063831329346, 0.6155722141265869, 0.2756480574607849, 0.6891201734542847, 0.293157696723938, 0.586315393447876, 0.8337994813919067, 0.2922023832798004, 0.5844047665596008, 0.9551432728767395, 0.8355377912521362, 0.7157849669456482, 0.2684193551540375, 0.09333441406488419, 0.37333765625953674, 0.46667206287384033, 0.890641987323761, 0.8525992631912231, 0.875043511390686, 0.9833141565322876, 0.956301748752594, 0.36947494745254517, 0.8707073330879211, 0.06697748601436615, 0.8889567255973816, 0.8170233964920044, 0.6180376410484314, 0.620317816734314, 0.1512427031993866, 0.6049708127975464, 0.8234928846359253, 0.443852037191391, 0.38210296630859375, 0.05731544643640518, 0.09552574157714844, 0.17194633185863495, 0.09552574157714844, 0.038210298866033554, 0.019105149433016777, 0.019105149433016777, 0.019105149433016777, 0.05731544643640518, 0.9089954495429993, 0.8261774182319641, 0.08483980596065521, 0.5090388655662537, 0.38177913427352905, 0.9219005107879639, 0.6751405596733093, 0.5886523723602295, 0.8567982316017151, 0.9690741300582886, 0.014908832497894764, 0.9298141598701477, 0.07005232572555542, 0.840627908706665, 0.9307973384857178, 0.575218141078949, 0.2876090705394745, 0.07190226763486862, 0.023967422544956207, 0.9842347502708435, 0.8839995861053467, 0.7187265157699585, 0.751501202583313, 0.8467612862586975, 0.5909935235977173, 0.9360436201095581, 0.9302695989608765, 0.1054377406835556, 0.8435019254684448, 0.7724692225456238, 0.15003785490989685, 0.7501892447471619, 0.930014967918396, 0.7787545919418335, 0.6883573532104492, 0.6173319816589355, 0.7700912356376648, 0.18335504829883575, 0.930943489074707, 0.6336149573326111, 0.87815260887146, 0.021418357267975807, 0.005354589316993952, 0.02677294611930847, 0.03212753310799599, 0.010709178633987904, 0.005354589316993952, 0.021418357267975807, 0.9684035778045654, 0.7279732823371887, 0.7733576893806458, 0.9334263801574707, 0.8915587067604065, 0.9351425170898438, 0.1670091152191162, 0.6680364608764648, 0.8673098683357239, 0.833320140838623, 0.12626062333583832, 0.025252124294638634, 0.9058042764663696, 0.19926413893699646, 0.7970565557479858, 0.7808626294136047, 0.8576361536979675, 0.1118655800819397, 0.0805097296833992, 0.8856070041656494, 0.9042511582374573, 0.9326019883155823, 0.8547685742378235, 0.8768982887268066, 0.15352703630924225, 0.7369297742843628, 0.0614108145236969, 0.14341998100280762, 0.14341998100280762, 0.5736799240112305, 0.6266656517982483, 0.5407854318618774, 0.8674250841140747, 0.16260260343551636, 0.8130130171775818, 0.7533921599388123, 0.8777170777320862, 0.5211950540542603, 0.9921159148216248, 0.6213082671165466, 0.3464988172054291, 0.01194823533296585, 0.9585632681846619, 0.9670799970626831, 0.8569841384887695, 0.960570216178894, 0.9755703806877136, 0.5412178635597229, 0.08118267357349396, 0.027060892432928085, 0.08118267357349396, 0.08118267357349396, 0.13530446588993073, 0.027060892432928085, 0.12274996936321259, 0.7978748083114624, 0.970310628414154, 0.9072813391685486, 0.9320232272148132, 0.01588042825460434, 0.952825665473938, 0.01588042825460434, 0.5739801526069641, 0.9694260954856873, 0.018291059881448746, 0.645724356174469, 0.2767390012741089, 0.8368349671363831, 0.20502212643623352, 0.7688329815864563, 0.04891182854771614, 0.929324746131897, 0.9081849455833435, 0.045409247279167175, 0.8884342312812805, 0.44762465357780457, 0.8343412280082703, 0.6864608526229858, 0.1456129103899002, 0.015601382590830326, 0.0728064551949501, 0.031202765181660652, 0.010400922037661076, 0.010400922037661076, 0.005200461018830538, 0.005200461018830538, 0.005200461018830538, 0.005200461018830538, 0.7390851378440857, 0.7098068594932556, 0.9156085252761841, 0.7565361857414246, 0.03289287909865379, 0.16446438431739807, 0.693825364112854, 0.9558538794517517, 0.07354255765676498, 0.03677127882838249, 0.03677127882838249, 0.14708511531352997, 0.698654294013977, 0.802426278591156, 0.883642852306366, 0.8719077706336975, 0.8974578976631165, 0.13882067799568176, 0.13882067799568176, 0.555282711982727, 0.9124742746353149, 0.7556130290031433, 0.43544501066207886, 0.21772250533103943, 0.6908138394355774, 0.5426554083824158, 0.9218473434448242, 0.6858046054840088, 0.13324305415153503, 0.6662152409553528, 0.5692905783653259, 0.3415743410587311, 0.903361439704895, 0.8797169923782349, 0.25471505522727966, 0.713202178478241, 0.7910779118537903, 0.15311186015605927, 0.008506214246153831, 0.017012428492307663, 0.008506214246153831, 0.008506214246153831, 0.017012428492307663, 0.5878720879554749, 0.3863687515258789, 0.5534471273422241, 0.0208847988396883, 0.01044239941984415, 0.0208847988396883, 0.9126685857772827, 0.024017594754695892, 0.048035189509391785, 0.9296412467956543, 0.7562345266342163, 0.03544849529862404, 0.03544849529862404, 0.01181616447865963, 0.03544849529862404, 0.08271314948797226, 0.01181616447865963, 0.01181616447865963, 0.3501051068305969, 0.3501051068305969, 0.8207620978355408, 0.6908300518989563, 0.2763320207595825, 0.006579333916306496, 0.006579333916306496, 0.006579333916306496, 0.006579333916306496, 0.006579333916306496, 0.5669572949409485, 0.06299525499343872, 0.3149762451648712, 0.9274080395698547, 0.23914459347724915, 0.11037442833185196, 0.16556164622306824, 0.12877017259597778, 0.294331818819046, 0.018395738676190376, 0.018395738676190376, 0.7259323596954346, 0.7189862132072449, 0.8869236707687378, 0.8802039623260498, 0.6731162667274475, 0.15533453226089478, 0.10355634987354279, 0.8222138285636902, 0.9845853447914124, 0.8358238935470581, 0.9390869140625, 0.703942596912384, 0.175985649228096, 0.9193038940429688, 0.9348052740097046, 0.04920027777552605, 0.43288519978523254, 0.9434607625007629, 0.38054272532463074, 0.5073902606964111, 0.33285802602767944, 0.6241087913513184, 0.5762905478477478, 0.3728938698768616, 0.8101387619972229, 0.6564319133758545, 0.3029685914516449, 0.9188165664672852, 0.9238012433052063, 0.9378243088722229, 0.9532145261764526, 0.9085140228271484, 0.9736631512641907, 0.9884633421897888, 0.7495654821395874, 0.7603868842124939, 0.6602718830108643, 0.9074143767356873, 0.8988452553749084, 0.9555712342262268, 0.013090016320347786, 0.26841071248054504, 0.5368214249610901, 0.05538018047809601, 0.9414631128311157, 0.7595796585083008, 0.07394137978553772, 0.06721943616867065, 0.01344388723373413, 0.006721943616867065, 0.006721943616867065, 0.020165830850601196, 0.03360971808433533, 0.01344388723373413, 0.006721943616867065, 0.8374453186988831, 0.07613138854503632, 0.9795845150947571, 0.6010420322418213, 0.3467550277709961, 0.04623400419950485, 0.7043641805648804, 0.8913776278495789, 0.6111817955970764, 0.37202370166778564, 0.9495407342910767, 0.7468146681785583, 0.8431012034416199, 0.25817573070526123, 0.28276386857032776, 0.18441122770309448, 0.15982306003570557, 0.08605857193470001, 0.20996330678462982, 0.10498165339231491, 0.629889965057373, 0.8276467323303223, 0.0752406120300293, 0.913548469543457, 0.42487359046936035, 0.21817833185195923, 0.11483070254325867, 0.09186456352472305, 0.06889842450618744, 0.011483070440590382, 0.011483070440590382, 0.011483070440590382, 0.022966140881180763, 0.022966140881180763, 0.923277735710144, 0.8505545854568481, 0.9357650876045227, 0.9324727654457092, 0.6668257713317871, 0.14038437604904175, 0.1637817770242691, 0.8274891376495361, 0.941658079624176, 0.9664801955223083, 0.011238141916692257, 0.011238141916692257, 0.7761049270629883, 0.0597003772854805, 0.0597003772854805, 0.8800441026687622, 0.8950193524360657, 0.8345332741737366, 0.4492515027523041, 0.7974276542663574, 0.9570199251174927, 0.7998999357223511, 0.9481407999992371, 0.7919980883598328, 0.31804919242858887, 0.12721967697143555, 0.06360983848571777, 0.06360983848571777, 0.06360983848571777, 0.19082951545715332, 0.12721967697143555, 0.7320662140846252, 0.8778271079063416, 0.1526612639427185, 0.7633063793182373, 0.7992240190505981, 0.9229153394699097, 0.702011227607727, 0.15444247424602509, 0.09828157722949982, 0.014040225185453892, 0.014040225185453892, 0.9007258415222168, 0.9443912506103516, 0.8217687606811523, 0.5326117277145386, 0.8442920446395874, 0.5777560472488403, 0.6552748680114746, 0.8251625895500183, 0.5597069263458252, 0.8613629341125488, 0.024263743311166763, 0.024263743311166763, 0.05257144570350647, 0.012131871655583382, 0.004043957218527794, 0.012131871655583382, 0.004043957218527794, 0.004043957218527794, 0.7607979774475098, 0.011704584583640099, 0.023409169167280197, 0.07022751122713089, 0.046818338334560394, 0.011704584583640099, 0.035113755613565445, 0.6212500929832458, 0.7422261834144592, 0.8589221239089966, 0.6614023447036743, 0.6523823738098145, 0.3261911869049072, 0.6562609076499939, 0.8766801953315735, 0.01771070994436741, 0.026566065847873688, 0.01771070994436741, 0.008855354972183704, 0.008855354972183704, 0.01771070994436741, 0.01771070994436741, 0.008855354972183704, 0.008855354972183704, 0.9239838123321533, 0.2925310730934143, 0.5850621461868286, 0.7607846856117249, 0.7052301168441772, 0.5001687407493591, 0.25008437037467957, 0.5814104080200195, 0.36998844146728516, 0.7414029836654663, 0.6503538489341736, 0.8921850323677063, 0.9873672127723694, 0.9807000756263733, 0.004842963069677353, 0.004842963069677353, 0.0024214815348386765, 0.0024214815348386765, 0.8944956660270691, 0.09541287273168564, 0.011926609091460705, 0.9582769274711609, 0.9244899749755859, 0.9735425710678101, 0.7913402318954468, 0.9609457850456238, 0.7275575995445251, 0.9273442625999451, 0.9511709809303284, 0.4294307231903076, 0.26309069991111755, 0.6840358376502991, 0.26817500591278076, 0.6257416605949402, 0.1580633670091629, 0.07903168350458145, 0.07903168350458145, 0.6322534680366516, 0.710718035697937, 0.850533664226532, 0.8872298002243042, 0.05914865434169769, 0.9639413356781006, 0.6378079652786255, 0.9234626293182373, 0.8926313519477844, 0.06375937908887863, 0.7112628817558289, 0.6930625438690186, 0.7454241514205933, 0.8373104333877563, 0.984474778175354, 0.8968249559402466, 0.8914318680763245, 0.8873502016067505, 0.7183048129081726, 0.4126916527748108, 0.852691650390625, 0.9551385641098022, 0.7765851616859436, 0.9752362370491028, 0.7852587699890137, 0.41953036189079285, 0.7665717601776123, 0.15331435203552246, 0.882908046245575, 0.2891029715538025, 0.03212255239486694, 0.06424510478973389, 0.578205943107605, 0.9023371934890747, 0.09023372083902359, 0.4728090763092041, 0.8260238170623779, 0.9587356448173523, 0.41679060459136963, 0.9232553839683533, 0.8830692172050476, 0.6176645755767822, 0.44045960903167725, 0.22022980451583862, 0.8630087971687317, 0.5679488778114319, 0.9001824855804443, 0.8475329875946045, 0.8993576169013977, 0.06481856852769852, 0.004051160532981157, 0.004051160532981157, 0.004051160532981157, 0.008102321065962315, 0.012153481133282185, 0.9552002549171448, 0.8639446496963501, 0.9568896889686584, 0.8667440414428711, 0.8559860587120056, 0.9044508934020996, 0.9273528456687927, 0.7632716298103333, 0.7361465692520142, 0.900568425655365, 0.7644031047821045, 0.9127073884010315, 0.42282190918922424], \"Term\": [\"aberto atar\", \"adegar bom\", \"adorar comido\", \"aguar claro\", \"alar preco\", \"alar restaurante\", \"almocar shopping\", \"almoco bom\", \"alto nao\", \"alto padrao\", \"alto padrao\", \"alto qualidade\", \"ambientar bom\", \"ambientar bom\", \"ambientar bom\", \"ambientar bom\", \"ambientar bom\", \"ambientar bom\", \"ambientar bom\", \"ambientar bom\", \"ambientar bom\", \"ambientar bom\", \"ambientar bonito\", \"ambientar bonito\", \"ambientar bonito\", \"ambientar bonito\", \"ambientar bonito\", \"ambientar descontraido\", \"ambientar lindar\", \"ambientar precos\", \"ambientar simples\", \"amigo familia\", \"amigo lugar\", \"amigo nao\", \"amplo estacionamento\", \"aparecer nao\", \"apesar ambientar\", \"apesar cardapio\", \"apesar preco\", \"apo esperar\", \"apresentar bom\", \"apresentar bom\", \"apresentar sabor\", \"area aberto\", \"area externo\", \"area externo\", \"arroz branco\", \"arroz feijao\", \"asar norte\", \"atar ambientar\", \"atar bom\", \"atar gostar\", \"atar mesa\", \"atar nao\", \"atendimento amigo\", \"atendimento apesar\", \"atendimento cardapio\", \"atendimento cardapio\", \"atendimento deixar\", \"atendimento deixar\", \"atendimento deixar\", \"atendimento deixar\", \"atendimento deixar\", \"atendimento deixar\", \"atendimento demorar\", \"atendimento demorar\", \"atendimento demorar\", \"atendimento demorar\", \"atendimento ficar\", \"atendimento ficar\", \"atendimento fraco\", \"atendimento fraco\", \"atendimento fraco\", \"atendimento garcom\", \"atendimento garcom\", \"atendimento garcom\", \"atendimento garcom\", \"atendimento lentar\", \"atendimento melhorar\", \"atendimento melhorar\", \"atendimento menos\", \"atendimento nao\", \"atendimento nao\", \"atendimento nao\", \"atendimento p\\u00f4r\", \"atendimento p\\u00f4r\", \"atendimento p\\u00f4r\", \"atendimento satisfatorio\", \"atendimento tambem\", \"atendimento tambem\", \"atendimento tambem\", \"atendimento tambem\", \"bacana atendimento\", \"bacana atendimento\", \"bacana bom\", \"bacana decoracao\", \"baixo qualidade\", \"bandar bom\", \"baratar bom\", \"barulhento quentar\", \"batata frito\", \"batata palha\", \"batata palha\", \"bater papar\", \"bebido caro\", \"bebido demorar\", \"bom alar\", \"bom apesar\", \"bom apesar\", \"bom apesar\", \"bom apesar\", \"bom atendimento\", \"bom atendimento\", \"bom atendimento\", \"bom atendimento\", \"bom atendimento\", \"bom atendimento\", \"bom atendimento\", \"bom atendimento\", \"bom atendimento\", \"bom atendimento\", \"bom atendimento\", \"bom bar\", \"bom bom\", \"bom bom\", \"bom bom\", \"bom bom\", \"bom bom\", \"bom bom\", \"bom bom\", \"bom cardapio\", \"bom caro\", \"bom cartar\", \"bom cervejar\", \"bom cheio\", \"bom cheio\", \"bom conhecer\", \"bom conhecer\", \"bom conseguir\", \"bom conseguir\", \"bom contar\", \"bom contar\", \"bom decepcao\", \"bom demorar\", \"bom entrar\", \"bom entrar\", \"bom escolher\", \"bom escolher\", \"bom estacionamento\", \"bom estacionamento\", \"bom excepcional\", \"bom farto\", \"bom ficar\", \"bom filar\", \"bom frio\", \"bom geralmente\", \"bom hoje\", \"bom infelizmente\", \"bom localizacao\", \"bom localizacao\", \"bom localizacao\", \"bom localizacao\", \"bom localizacao\", \"bom musicar\", \"bom musicar\", \"bom musicar\", \"bom nao\", \"bom nao\", \"bom nao\", \"bom nao\", \"bom nao\", \"bom nao\", \"bom nao\", \"bom nao\", \"bom nao\", \"bom nao\", \"bom normal\", \"bom opcao\", \"bom opcao\", \"bom opcao\", \"bom opcao\", \"bom pao\", \"bom pao\", \"bom preco\", \"bom preco\", \"bom preco\", \"bom preco\", \"bom preco\", \"bom precos\", \"bom preferir\", \"bom preferir\", \"bom preferir\", \"bom p\\u00f4r\", \"bom p\\u00f4r\", \"bom p\\u00f4r\", \"bom p\\u00f4r\", \"bom p\\u00f4r\", \"bom p\\u00f4r\", \"bom p\\u00f4r\", \"bom p\\u00f4r\", \"bom qualidade\", \"bom qualidade\", \"bom qualidade\", \"bom qualidade\", \"bom rapido\", \"bom recomendar\", \"bom recomendar\", \"bom servico\", \"bom servico\", \"bom servico\", \"bom servico\", \"bom servico\", \"bom servico\", \"bom servir\", \"bom servir\", \"bom servir\", \"bom servir\", \"bom servir\", \"bom servir\", \"bom servir\", \"bom servir\", \"bom ultimar\", \"bom variedade\", \"bom variedade\", \"bom variedade\", \"bom variedade\", \"bom variedade\", \"bom variedade\", \"bom variedade\", \"bom variedade\", \"bom variedade\", \"bonito bom\", \"bonito bom\", \"bonito cheio\", \"bonito muito\", \"bonito nao\", \"bonito visto\", \"bonito visto\", \"brinquedoteca criancas\", \"buffet lugar\", \"buffet opcoes\", \"buffet opcoes\", \"buffet opcoes\", \"buffet opcoes\", \"buffet opcoes\", \"buffet salada\", \"buffet salada\", \"buffet salada\", \"buffet variedade\", \"buffet variedade\", \"cafe manha\", \"camarao entrar\", \"camarao nao\", \"camarao nao\", \"camarao nao\", \"camarao nao\", \"camarao nao\", \"camarao nao\", \"camarao peixe\", \"camarao peixe\", \"camaroes nao\", \"cardapio contemplar\", \"cardapio faltar\", \"carne bom\", \"carne variedade\", \"caro atendimento\", \"caro demais\", \"caro oferecer\", \"cartar prato\", \"cartar prato\", \"cartar prato\", \"casar nao\", \"casar nao\", \"cervejar gelar\", \"cervejar tambem\", \"chamar atencao\", \"chegar bom\", \"chegar bom\", \"chegar comido\", \"chegar maridar\", \"chegar restaurante\", \"chegar restaurante\", \"cheio demais\", \"chopp bom\", \"chopp gelar\", \"chopp gelar\", \"chopp gelar\", \"cidade ambientar\", \"cobrar couvert\", \"colocar mesa\", \"colocar mesa\", \"comandar individual\", \"comandar nao\", \"comer bom\", \"comer bom\", \"comer comido\", \"comido atendimento\", \"comido atendimento\", \"comido atendimento\", \"comido atendimento\", \"comido bom\", \"comido bom\", \"comido bom\", \"comido bom\", \"comido bom\", \"comido bom\", \"comido bom\", \"comido bom\", \"comido bom\", \"comido bom\", \"comido bom\", \"comido cartar\", \"comido elaborar\", \"comido esperar\", \"comido esperar\", \"comido esperar\", \"comido feito\", \"comido feito\", \"comido feito\", \"comido feito\", \"comido fraco\", \"comido fraco\", \"comido fraco\", \"comido gorduroso\", \"comido gorduroso\", \"comido graca\", \"comido mediano\", \"comido menos\", \"comido menos\", \"comido nao\", \"comido nao\", \"comido nao\", \"comido nao\", \"comido nao\", \"comido nao\", \"comido nao\", \"comido normal\", \"comido panela\", \"comido passar\", \"comido qualidade\", \"comido qualidade\", \"comido razoavel\", \"comido razoavel\", \"comido razoavel\", \"comido razoavel\", \"comido razoavel\", \"comido razoavel\", \"comido razoavel\", \"comido servir\", \"comido servir\", \"comido servir\", \"comido simples\", \"comido simples\", \"comido tipica\", \"comido tipica\", \"comido tipica\", \"comido tradicional\", \"comido variar\", \"comido variar\", \"comido variar\", \"comparar restaurante\", \"confuso demorar\", \"conhecer amigo\", \"conhecer amigo\", \"conhecer unidade\", \"conheco unidade\", \"contar comido\", \"contar dar\", \"contar restaurante\", \"couvert artistico\", \"couvert artistico\", \"curioso conhecer\", \"curioso conhecer\", \"custar beneficiar\", \"custar beneficiar\", \"custar beneficiar\", \"custar bom\", \"custar caro\", \"custar comido\", \"decepcao atendimento\", \"decepcionar atendimento\", \"decepcionar comido\", \"decorar bom\", \"deixar demorar\", \"deixar entrar\", \"deixar garcons\", \"deixar prato\", \"demais garcons\", \"demais sabor\", \"demorar comido\", \"demorar comido\", \"demorar demais\", \"demorar entrar\", \"demorar sair\", \"demorar servir\", \"demorar servir\", \"demorar servir\", \"demorar servir\", \"demorar ver\", \"diferenciar nao\", \"diferente comido\", \"diferente nao\", \"diverso tipo\", \"dizer nao\", \"doce leite\", \"encher olho\", \"encontrar amigo\", \"encontrar dificuldade\", \"entanto restaurante\", \"entao chegar\", \"entrar sentar\", \"errar nao\", \"errar pedir\", \"espaco bom\", \"esperar alguem\", \"esperar estacionamento\", \"esperar experiencia\", \"esperar ruim\", \"estacionamento ruim\", \"estilar restaurante\", \"estilar restaurante\", \"estilar restaurante\", \"etc comido\", \"excepcional atendimento\", \"excepcional atendimento\", \"existir opcoes\", \"existir opcoes\", \"exorbitante preco\", \"expectativa muito\", \"expectativa muito\", \"experiencia ruim\", \"externo ficar\", \"facil acesso\", \"facil acesso\", \"falar nao\", \"falar nao\", \"falar nao\", \"faltar opcoes\", \"familia almocar\", \"fechar portar\", \"ficar decepcionar\", \"ficar restaurante\", \"filar mesa\", \"filar nao\", \"filar nao\", \"filar prato\", \"filar tambem\", \"forte gostar\", \"fraco restaurante\", \"frequentar restaurante\", \"frequentar restaurante\", \"frio batata\", \"frio durar\", \"fruto mar\", \"fruto mar\", \"fruto mar\", \"fruto mar\", \"fruto mar\", \"fruto mar\", \"fruto mar\", \"fruto mar\", \"fruto mar\", \"fruto mar\", \"funcionarios despreparados\", \"funcionarios nao\", \"garcom atender\", \"garcom atender\", \"garcom atender\", \"garcom mesa\", \"garcom super\", \"garcom trazer\", \"garcons educar\", \"garcons nao\", \"garcons nao\", \"gelar bom\", \"gostar ambientar\", \"gostar ambientar\", \"gostar atendimento\", \"gostar comido\", \"gostar comido\", \"gostar comido\", \"gostar comido\", \"happy hour\", \"happy hours\", \"hoje ficar\", \"hoteleiro norte\", \"humorado comido\", \"informar prato\", \"interessante decoracao\", \"interno restaurante\", \"ir restaurante\", \"ir restaurante\", \"justificar precos\", \"kilo caro\", \"kilo caro\", \"lanchar tardar\", \"levar comido\", \"levar contar\", \"levar servir\", \"lindar lugar\", \"lindar lugar\", \"localizar bom\", \"lugar almoco\", \"lugar bom\", \"lugar bom\", \"lugar bom\", \"lugar bom\", \"lugar bom\", \"lugar bom\", \"lugar bom\", \"lugar bom\", \"lugar comido\", \"lugar tomar\", \"maridar filhar\", \"massa fino\", \"massa nao\", \"medir prato\", \"melhorar cidade\", \"melhorar cidade\", \"melhorar comido\", \"melhorar nao\", \"melhorar nao\", \"melhorar nao\", \"melhorar preco\", \"melhorar sabor\", \"melhorar sabor\", \"menos restaurante\", \"mesa bom\", \"mesa bom\", \"mesa externo\", \"mesa externo\", \"mesa ficar\", \"mesa lugar\", \"mesa proximas\", \"mesa redor\", \"mesa sentar\", \"mesa sentar\", \"mesa sentar\", \"mim nao\", \"mim nao\", \"mim nao\", \"minar gerar\", \"molhar mostarda\", \"molhar tomate\", \"moqueca camarao\", \"moqueca camarao\", \"mudar mesa\", \"muito fome\", \"muito qualidade\", \"musicar ambientar\", \"musicar viver\", \"musicar viver\", \"musicar viver\", \"nao agradar\", \"nao alar\", \"nao apresentar\", \"nao atender\", \"nao cardapio\", \"nao caro\", \"nao caro\", \"nao caro\", \"nao caro\", \"nao caro\", \"nao caro\", \"nao caro\", \"nao chegar\", \"nao chegar\", \"nao comparar\", \"nao compativel\", \"nao compensar\", \"nao conseguir\", \"nao conseguir\", \"nao conseguir\", \"nao cozer\", \"nao dar\", \"nao dar\", \"nao deixar\", \"nao deixar\", \"nao doce\", \"nao entender\", \"nao entender\", \"nao especial\", \"nao especial\", \"nao experiencia\", \"nao experiencia\", \"nao facil\", \"nao fugir\", \"nao funcionar\", \"nao gostar\", \"nao gostar\", \"nao gostar\", \"nao gostar\", \"nao gostar\", \"nao gostar\", \"nao gostar\", \"nao gostar\", \"nao gostar\", \"nao gostar\", \"nao gostar\", \"nao importar\", \"nao impressionar\", \"nao indicar\", \"nao justificar\", \"nao justificar\", \"nao justificar\", \"nao levar\", \"nao lugar\", \"nao mesa\", \"nao mesa\", \"nao mesa\", \"nao mesa\", \"nao mesa\", \"nao nao\", \"nao nivel\", \"nao numerar\", \"nao oferecer\", \"nao opcoes\", \"nao opcoes\", \"nao opcoes\", \"nao parecer\", \"nao perfazer\", \"nao perguntar\", \"nao perguntar\", \"nao petiscar\", \"nao polvo\", \"nao possivel\", \"nao precisar\", \"nao preparar\", \"nao preparar\", \"nao prestar\", \"nao prestar\", \"nao problema\", \"nao provar\", \"nao qualidade\", \"nao qualidade\", \"nao recomendar\", \"nao recomendar\", \"nao recomendar\", \"nao recomendar\", \"nao recomendar\", \"nao recomendar\", \"nao recomendar\", \"nao retornar\", \"nao ruim\", \"nao ruim\", \"nao ruim\", \"nao ruim\", \"nao ruim\", \"nao saber\", \"nao saber\", \"nao saber\", \"nao sair\", \"nao servir\", \"nao servir\", \"nao servir\", \"nao servir\", \"nao servir\", \"nao servir\", \"nao servir\", \"nao servir\", \"nao sobremesa\", \"nao sobremesa\", \"nao trazer\", \"nao valer\", \"nao valer\", \"nao valer\", \"nao valer\", \"nao valer\", \"nao valer\", \"nao valer\", \"nao ver\", \"nao ver\", \"nao ver\", \"nao vir\", \"nao voltar\", \"nao voltar\", \"nao voltar\", \"nao voltar\", \"nao voltar\", \"nao voltar\", \"nao voltar\", \"ninguem atender\", \"nivel atendimento\", \"normal prato\", \"opcao comido\", \"opcao nao\", \"opcao nao\", \"opcao nao\", \"opcoes bebido\", \"opcoes cardapio\", \"opcoes gostar\", \"opcoes melhorar\", \"organizar filar\", \"organizar filar\", \"pagar contar\", \"pagar real\", \"pagar real\", \"parecer buffet\", \"passar mesa\", \"pedir apo\", \"pedir apo\", \"pedir bom\", \"pedir bom\", \"pedir nao\", \"pedir nao\", \"peixe fruto\", \"peno bom\", \"peno bom\", \"peno nao\", \"pequeno quantidade\", \"perguntar garcom\", \"pessima atendimento\", \"pessima experiencia\", \"pessima qualidade\", \"petisco bom\", \"petisco drinks\", \"piorar comido\", \"pizza demorar\", \"pizza massa\", \"pouco garcons\", \"pouco opcoes\", \"pouco opcoes\", \"pouquissimas opcoes\", \"pouquissimas opcoes\", \"praca alimentacao\", \"praca alimentacao\", \"prato bom\", \"prato bom\", \"prato bom\", \"prato bom\", \"prato bom\", \"prato bom\", \"prato bom\", \"prato bom\", \"prato bom\", \"prato bom\", \"prato cardapio\", \"prato cardapio\", \"prato caro\", \"prato chegar\", \"prato chegar\", \"prato chegar\", \"prato contar\", \"prato diferente\", \"prato entrar\", \"prato entrar\", \"prato executivo\", \"prato menu\", \"prato molhar\", \"prato nao\", \"prato nao\", \"prato nao\", \"prato nao\", \"prato nao\", \"prato pedir\", \"prato pedir\", \"prato pedir\", \"prato principal\", \"prato principal\", \"prato quente\", \"prato servir\", \"prato servir\", \"prato servir\", \"prato servir\", \"prato servir\", \"prato servir\", \"prato servir\", \"prato servir\", \"prato servir\", \"prato servir\", \"prato sobremesa\", \"prato tambem\", \"preciso melhorar\", \"preco acessivel\", \"preco alto\", \"preco alto\", \"preco alto\", \"preco atendimento\", \"preco elevar\", \"preco justar\", \"preco justar\", \"preco justar\", \"preco prato\", \"preco prato\", \"preco prato\", \"precos nao\", \"preparar comido\", \"prestar atencao\", \"procurar restaurante\", \"proximo setor\", \"p\\u00f4r preco\", \"qualidade alimento\", \"qualidade atendimento\", \"qualidade entanto\", \"qualidade prato\", \"qualidade prato\", \"qualidade prato\", \"qualidade prato\", \"qualidade prato\", \"qualidade prato\", \"qualidade prato\", \"qualidade p\\u00f4r\", \"qualidade servico\", \"quantidade qualidade\", \"quantidade qualidade\", \"querer conhecer\", \"rapido almoco\", \"razoavel atendimento\", \"razoavel atendimento\", \"razoavel atendimento\", \"razoavel atendimento\", \"razoavel atendimento\", \"razoavel sabor\", \"recepcao bom\", \"recolher prato\", \"redar famoso\", \"refeicao bom\", \"referenciar cidade\", \"restar bom\", \"restaurante bar\", \"restaurante belo\", \"restaurante bom\", \"restaurante bom\", \"restaurante bom\", \"restaurante bom\", \"restaurante bom\", \"restaurante bom\", \"restaurante bom\", \"restaurante bom\", \"restaurante bom\", \"restaurante comido\", \"restaurante comido\", \"restaurante comido\", \"restaurante comido\", \"restaurante comido\", \"restaurante comido\", \"restaurante comido\", \"restaurante considerar\", \"restaurante famoso\", \"restaurante fazer\", \"restaurante garcons\", \"restaurante lotar\", \"restaurante lotar\", \"restaurante mesmo\", \"restaurante nao\", \"restaurante nao\", \"restaurante nao\", \"restaurante nao\", \"restaurante nao\", \"restaurante nao\", \"restaurante nao\", \"restaurante nao\", \"restaurante nao\", \"restaurante nao\", \"restaurante nivel\", \"restaurante parecer\", \"restaurante parecer\", \"restaurante pouco\", \"restaurante servico\", \"restaurante sofisticar\", \"restaurante sofisticar\", \"restaurante tradicional\", \"restaurante tradicional\", \"restrito comido\", \"reunir amigo\", \"risoto camarao\", \"ruim ambientar\", \"ruim atendimento\", \"ruim atendimento\", \"ruim atendimento\", \"ruim atendimento\", \"ruim atendimento\", \"ruim comido\", \"ruim comido\", \"ruim comido\", \"ruim demorar\", \"ruim garcom\", \"ruim garcons\", \"ruim gostar\", \"ruim lentar\", \"ruim pedir\", \"ruim preco\", \"sabor bom\", \"sabor caro\", \"salada bom\", \"salada bom\", \"salada prato\", \"salada prato\", \"semana passar\", \"semana passar\", \"semana passar\", \"semana passar\", \"sensacional comido\", \"sentar nao\", \"servico deixar\", \"servico deixar\", \"servico demorar\", \"servico eficiente\", \"servico lentar\", \"servir atendimento\", \"servir atendimento\", \"servir buffet\", \"setor hoteleiro\", \"shopping nao\", \"simples atendimento\", \"simples bom\", \"simplesmente nao\", \"simplesmente ruim\", \"sinceramente nao\", \"solicitar nao\", \"suco demorar\", \"suco laranjo\", \"suco nao\", \"suco natural\", \"super bom\", \"surpreso infeliz\", \"surpreso nao\", \"tambem deixar\", \"tambem deixar\", \"tambem demorar\", \"tambem nao\", \"tambem nao\", \"tambem nao\", \"tambem nao\", \"tambem preco\", \"tambem preco\", \"tambem variedade\", \"tipo comido\", \"tirar gostar\", \"tomar suco\", \"tomar vinho\", \"tranquilo bom\", \"tratar cliente\", \"trocar pedir\", \"trocar pedir\", \"trocar prato\", \"ultimar decepcionante\", \"ultimar restaurante\", \"ultimar sabado\", \"valer peno\", \"valer peno\", \"valer peno\", \"valer peno\", \"valer peno\", \"valer peno\", \"valer peno\", \"valer preco\", \"valer visitar\", \"valor alto\", \"variar ambientar\", \"variar preco\", \"variedade nao\", \"visitar restaurante\", \"visto ambientar\", \"visto fantastica\", \"visto nao\", \"visto pontar\", \"viver bom\", \"voltar ficar\"]}, \"R\": 30, \"lambda.step\": 0.01, \"plot.opts\": {\"xlab\": \"PC1\", \"ylab\": \"PC2\"}, \"topic.order\": [4, 5, 8, 7, 3, 13, 6, 12, 11, 2, 1, 9, 10]};\n",
       "\n",
       "function LDAvis_load_lib(url, callback){\n",
       "  var s = document.createElement('script');\n",
       "  s.src = url;\n",
       "  s.async = true;\n",
       "  s.onreadystatechange = s.onload = callback;\n",
       "  s.onerror = function(){console.warn(\"failed to load library \" + url);};\n",
       "  document.getElementsByTagName(\"head\")[0].appendChild(s);\n",
       "}\n",
       "\n",
       "if(typeof(LDAvis) !== \"undefined\"){\n",
       "   // already loaded: just create the visualization\n",
       "   !function(LDAvis){\n",
       "       new LDAvis(\"#\" + \"ldavis_el53622489160039605148457090\", ldavis_el53622489160039605148457090_data);\n",
       "   }(LDAvis);\n",
       "}else if(typeof define === \"function\" && define.amd){\n",
       "   // require.js is available: use it to load d3/LDAvis\n",
       "   require.config({paths: {d3: \"https://cdnjs.cloudflare.com/ajax/libs/d3/3.5.5/d3.min\"}});\n",
       "   require([\"d3\"], function(d3){\n",
       "      window.d3 = d3;\n",
       "      LDAvis_load_lib(\"https://cdn.rawgit.com/bmabey/pyLDAvis/files/ldavis.v1.0.0.js\", function(){\n",
       "        new LDAvis(\"#\" + \"ldavis_el53622489160039605148457090\", ldavis_el53622489160039605148457090_data);\n",
       "      });\n",
       "    });\n",
       "}else{\n",
       "    // require.js not available: dynamically load d3 & LDAvis\n",
       "    LDAvis_load_lib(\"https://cdnjs.cloudflare.com/ajax/libs/d3/3.5.5/d3.min.js\", function(){\n",
       "         LDAvis_load_lib(\"https://cdn.rawgit.com/bmabey/pyLDAvis/files/ldavis.v1.0.0.js\", function(){\n",
       "                 new LDAvis(\"#\" + \"ldavis_el53622489160039605148457090\", ldavis_el53622489160039605148457090_data);\n",
       "            })\n",
       "         });\n",
       "}\n",
       "</script>"
      ],
      "text/plain": [
       "PreparedData(topic_coordinates=              x         y  topics  cluster       Freq\n",
       "topic                                                \n",
       "3      0.270483 -0.010094       1        1  34.083637\n",
       "4      0.013103  0.105838       2        1   9.331258\n",
       "7     -0.003383 -0.084197       3        1   9.029142\n",
       "6      0.026280  0.011326       4        1   8.368170\n",
       "2     -0.007492 -0.000518       5        1   6.833451\n",
       "12    -0.031175 -0.006628       6        1   5.086972\n",
       "5     -0.031194 -0.004759       7        1   4.936715\n",
       "11    -0.033777 -0.008482       8        1   4.599389\n",
       "10    -0.044380 -0.002138       9        1   4.042447\n",
       "1     -0.034573 -0.000029      10        1   3.913467\n",
       "0     -0.042537 -0.002087      11        1   3.582695\n",
       "8     -0.042138 -0.000058      12        1   3.415555\n",
       "9     -0.039216  0.001828      13        1   2.777093, topic_info=      Category        Freq                    Term       Total  loglift  \\\n",
       "63     Default  412.000000        ruim atendimento  412.000000  30.0000   \n",
       "181    Default  924.000000              comido bom  924.000000  29.0000   \n",
       "179    Default  716.000000         bom atendimento  716.000000  28.0000   \n",
       "10819  Default  170.000000          cervejar gelar  170.000000  27.0000   \n",
       "347    Default  461.000000           ambientar bom  461.000000  26.0000   \n",
       "2826   Default   62.000000           nao conseguir   62.000000  25.0000   \n",
       "479    Default   66.000000         atendimento nao   66.000000  24.0000   \n",
       "502    Default  203.000000               bom preco  203.000000  23.0000   \n",
       "143    Default   95.000000                nao ruim   95.000000  22.0000   \n",
       "428    Default  151.000000               nao valer  151.000000  21.0000   \n",
       "694    Default  430.000000                 bom nao  430.000000  20.0000   \n",
       "1094   Default  167.000000               bom opcao  167.000000  19.0000   \n",
       "430    Default  246.000000              valer peno  246.000000  18.0000   \n",
       "4381   Default   44.000000       ficar decepcionar   44.000000  17.0000   \n",
       "22     Default   31.000000             aguar claro   31.000000  16.0000   \n",
       "369    Default   83.000000           musicar viver   83.000000  15.0000   \n",
       "1952   Default   42.000000         atendimento pôr   42.000000  14.0000   \n",
       "1200   Default   34.000000           comido normal   34.000000  13.0000   \n",
       "365    Default  128.000000             bom musicar  128.000000  12.0000   \n",
       "1480   Default  125.000000     atendimento demorar  125.000000  11.0000   \n",
       "856    Default   36.000000   qualidade atendimento   36.000000  10.0000   \n",
       "3238   Default   92.000000              happy hour   92.000000   9.0000   \n",
       "4847   Default   39.000000            melhorar nao   39.000000   8.0000   \n",
       "1753   Default   61.000000             chopp gelar   61.000000   7.0000   \n",
       "2524   Default   36.000000              bonito bom   36.000000   6.0000   \n",
       "1138   Default   39.000000           nao qualidade   39.000000   5.0000   \n",
       "3738   Default   33.000000             valer preco   33.000000   4.0000   \n",
       "397    Default  124.000000       custar beneficiar  124.000000   3.0000   \n",
       "993    Default   24.000000              bom apesar   24.000000   2.0000   \n",
       "2183   Default   22.000000      atendimento lentar   22.000000   1.0000   \n",
       "...        ...         ...                     ...         ...      ...   \n",
       "4453   Topic13    1.220518              frio durar    2.253003   2.9708   \n",
       "1137   Topic13    1.196155               nao fugir    2.234015   2.9591   \n",
       "2097   Topic13    1.019629           comido panela    1.909278   2.9565   \n",
       "1233   Topic13    0.986007     esperar experiencia    1.938705   2.9077   \n",
       "5150   Topic13    1.735453     restaurante parecer    3.418440   2.9058   \n",
       "271    Topic13    0.915304            bom decepcao    1.825699   2.8933   \n",
       "4993   Topic13    0.918006            bonito cheio    1.841334   2.8877   \n",
       "5543   Topic13    0.921760            bonito muito    1.859619   2.8819   \n",
       "2643   Topic13    0.907514               nao polvo    1.842790   2.8754   \n",
       "2670   Topic13    0.975322          demais garcons    1.985963   2.8727   \n",
       "1960   Topic13    0.908668          chegar maridar    1.881726   2.8558   \n",
       "1142   Topic13    0.865939            redar famoso    1.877540   2.8099   \n",
       "358    Topic13    0.797328      referenciar cidade    1.730834   2.8087   \n",
       "2399   Topic13    0.797619               nao cozer    1.742221   2.8025   \n",
       "2700   Topic13    0.785960   ultimar decepcionante    1.760722   2.7772   \n",
       "1483   Topic13    0.781248            camaroes nao    1.764529   2.7690   \n",
       "6014   Topic13    0.707123              etc comido    1.624505   2.7520   \n",
       "3545   Topic13    0.705485            demais sabor    1.628042   2.7475   \n",
       "4613   Topic13    3.474148            bom escolher    8.077888   2.7400   \n",
       "4564   Topic13    2.408619           nao sobremesa    5.712570   2.7202   \n",
       "4818   Topic13    6.478806              nao deixar   21.681078   2.3759   \n",
       "1468   Topic13    1.120252              filar mesa    2.706543   2.7016   \n",
       "2391   Topic13    1.479039    atendimento cardapio    4.225168   2.5341   \n",
       "2642   Topic13    1.407990           nao perguntar    4.593002   2.4014   \n",
       "3020   Topic13    1.265946            trocar pedir    4.540711   2.3065   \n",
       "697    Topic13    3.506006               lugar bom  186.755692  -0.3916   \n",
       "3703   Topic13    1.104272  restaurante sofisticar    3.998651   2.2970   \n",
       "1230   Topic13    1.415666             camarao nao   13.176792   1.3529   \n",
       "3014   Topic13    1.550305               nao saber   41.636143   0.2932   \n",
       "5580   Topic13    1.092208           bom conseguir    5.301928   2.0039   \n",
       "\n",
       "       logprob  \n",
       "63     30.0000  \n",
       "181    29.0000  \n",
       "179    28.0000  \n",
       "10819  27.0000  \n",
       "347    26.0000  \n",
       "2826   25.0000  \n",
       "479    24.0000  \n",
       "502    23.0000  \n",
       "143    22.0000  \n",
       "428    21.0000  \n",
       "694    20.0000  \n",
       "1094   19.0000  \n",
       "430    18.0000  \n",
       "4381   17.0000  \n",
       "22     16.0000  \n",
       "369    15.0000  \n",
       "1952   14.0000  \n",
       "1200   13.0000  \n",
       "365    12.0000  \n",
       "1480   11.0000  \n",
       "856    10.0000  \n",
       "3238    9.0000  \n",
       "4847    8.0000  \n",
       "1753    7.0000  \n",
       "2524    6.0000  \n",
       "1138    5.0000  \n",
       "3738    4.0000  \n",
       "397     3.0000  \n",
       "993     2.0000  \n",
       "2183    1.0000  \n",
       "...        ...  \n",
       "4453   -7.2702  \n",
       "1137   -7.2903  \n",
       "2097   -7.4500  \n",
       "1233   -7.4835  \n",
       "5150   -6.9182  \n",
       "271    -7.5579  \n",
       "4993   -7.5550  \n",
       "5543   -7.5509  \n",
       "2643   -7.5665  \n",
       "2670   -7.4944  \n",
       "1960   -7.5652  \n",
       "1142   -7.6134  \n",
       "358    -7.6959  \n",
       "2399   -7.6956  \n",
       "2700   -7.7103  \n",
       "1483   -7.7163  \n",
       "6014   -7.8160  \n",
       "3545   -7.8183  \n",
       "4613   -6.2241  \n",
       "4564   -6.5904  \n",
       "4818   -5.6009  \n",
       "1468   -7.3559  \n",
       "2391   -7.0780  \n",
       "2642   -7.1273  \n",
       "3020   -7.2336  \n",
       "697    -6.2150  \n",
       "3703   -7.3703  \n",
       "1230   -7.1218  \n",
       "3014   -7.0310  \n",
       "5580   -7.3812  \n",
       "\n",
       "[594 rows x 6 columns], token_table=       Topic      Freq                    Term\n",
       "term                                          \n",
       "5597       8  0.832412             aberto atar\n",
       "1464      10  0.599433              adegar bom\n",
       "1691       4  0.839032           adorar comido\n",
       "22         6  0.981254             aguar claro\n",
       "6778       7  0.727385              alar preco\n",
       "1507      12  0.690957        alar restaurante\n",
       "3066      10  0.752787        almocar shopping\n",
       "3041       7  0.884626              almoco bom\n",
       "14563      2  0.944494                alto nao\n",
       "4977       6  0.237047             alto padrao\n",
       "4977       9  0.474095             alto padrao\n",
       "5832       5  0.922447          alto qualidade\n",
       "347        1  0.810543           ambientar bom\n",
       "347        2  0.032508           ambientar bom\n",
       "347        3  0.010836           ambientar bom\n",
       "347        4  0.110529           ambientar bom\n",
       "347        5  0.017338           ambientar bom\n",
       "347        6  0.002167           ambientar bom\n",
       "347        7  0.006502           ambientar bom\n",
       "347        8  0.004334           ambientar bom\n",
       "347        9  0.002167           ambientar bom\n",
       "347       10  0.002167           ambientar bom\n",
       "3218       1  0.762617        ambientar bonito\n",
       "3218       2  0.017735        ambientar bonito\n",
       "3218       3  0.195088        ambientar bonito\n",
       "3218       8  0.017735        ambientar bonito\n",
       "3218      11  0.017735        ambientar bonito\n",
       "6302       3  0.911424  ambientar descontraido\n",
       "525        3  0.915627        ambientar lindar\n",
       "2241       9  0.438109        ambientar precos\n",
       "...      ...       ...                     ...\n",
       "4822      13  0.416791              tomar suco\n",
       "3272       3  0.923255             tomar vinho\n",
       "2390       5  0.883069           tranquilo bom\n",
       "145       12  0.617665          tratar cliente\n",
       "3020       1  0.440460            trocar pedir\n",
       "3020      13  0.220230            trocar pedir\n",
       "4083       3  0.863009            trocar prato\n",
       "2700      13  0.567949   ultimar decepcionante\n",
       "2569       9  0.900182     ultimar restaurante\n",
       "4208       5  0.847533          ultimar sabado\n",
       "430        1  0.899358              valer peno\n",
       "430        2  0.064819              valer peno\n",
       "430        3  0.004051              valer peno\n",
       "430        4  0.004051              valer peno\n",
       "430        5  0.004051              valer peno\n",
       "430        7  0.008102              valer peno\n",
       "430        9  0.012153              valer peno\n",
       "3738       2  0.955200             valer preco\n",
       "5116       6  0.863945           valer visitar\n",
       "4184       3  0.956890              valor alto\n",
       "5331       8  0.866744        variar ambientar\n",
       "1877       8  0.855986            variar preco\n",
       "4569       2  0.904451           variedade nao\n",
       "477        2  0.927353     visitar restaurante\n",
       "5290      11  0.763272         visto ambientar\n",
       "4721      12  0.736147        visto fantastica\n",
       "1146       7  0.900568               visto nao\n",
       "4542       8  0.764403            visto pontar\n",
       "4084       3  0.912707               viver bom\n",
       "5608      12  0.422822            voltar ficar\n",
       "\n",
       "[959 rows x 3 columns], R=30, lambda_step=0.01, plot_opts={'xlab': 'PC1', 'ylab': 'PC2'}, topic_order=[4, 5, 8, 7, 3, 13, 6, 12, 11, 2, 1, 9, 10])"
      ]
     },
     "execution_count": 16,
     "metadata": {},
     "output_type": "execute_result"
    }
   ],
   "source": [
    "# Visualização do modelo gerado\n",
    "import pyLDAvis\n",
    "import pyLDAvis.gensim\n",
    "\n",
    "pyLDAvis.enable_notebook()\n",
    "LDAvis_prepared = pyLDAvis.gensim.prepare(lda_model, corpus, dictionary)\n",
    "LDAvis_prepared"
   ]
  }
 ],
 "metadata": {
  "kernelspec": {
   "display_name": "Python 3",
   "language": "python",
   "name": "python3"
  },
  "language_info": {
   "codemirror_mode": {
    "name": "ipython",
    "version": 3
   },
   "file_extension": ".py",
   "mimetype": "text/x-python",
   "name": "python",
   "nbconvert_exporter": "python",
   "pygments_lexer": "ipython3",
   "version": "3.7.3"
  }
 },
 "nbformat": 4,
 "nbformat_minor": 4
}
