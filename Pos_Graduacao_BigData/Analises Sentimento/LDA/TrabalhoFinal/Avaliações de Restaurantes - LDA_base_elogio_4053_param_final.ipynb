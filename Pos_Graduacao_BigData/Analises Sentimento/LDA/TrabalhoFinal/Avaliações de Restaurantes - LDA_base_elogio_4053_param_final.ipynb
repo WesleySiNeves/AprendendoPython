{
 "cells": [
  {
   "cell_type": "markdown",
   "metadata": {},
   "source": [
    "# Preparação do notebook"
   ]
  },
  {
   "cell_type": "code",
   "execution_count": 1,
   "metadata": {},
   "outputs": [
    {
     "data": {
      "text/html": [
       "\n",
       "<style>\n",
       "    div#notebook-container    { width: 95%; }\n",
       "    div#menubar-container     { width: 65%; }\n",
       "    div#maintoolbar-container { width: 99%; }\n",
       "</style>\n"
      ],
      "text/plain": [
       "<IPython.core.display.HTML object>"
      ]
     },
     "metadata": {},
     "output_type": "display_data"
    }
   ],
   "source": [
    "# Código padrão para aumentar a largura do notebook\n",
    "\n",
    "from IPython.display import display, HTML\n",
    "\n",
    "display(HTML(data=\"\"\"\n",
    "<style>\n",
    "    div#notebook-container    { width: 95%; }\n",
    "    div#menubar-container     { width: 65%; }\n",
    "    div#maintoolbar-container { width: 99%; }\n",
    "</style>\n",
    "\"\"\"))"
   ]
  },
  {
   "cell_type": "markdown",
   "metadata": {},
   "source": [
    "# Pré processamento - base de treinamento"
   ]
  },
  {
   "cell_type": "code",
   "execution_count": 2,
   "metadata": {},
   "outputs": [],
   "source": [
    "# Importação das bibliotecas e aumento da capacidade das colunas do Dataframe para conversão em string\n",
    "\n",
    "from spacy.lang.pt.stop_words import STOP_WORDS\n",
    "import unicodedata \n",
    "import re\n",
    "import pandas as pd\n",
    "import gensim\n",
    "import spacy\n",
    "import datetime as dt\n",
    "from tqdm.notebook import tqdm\n",
    "import winsound\n",
    "import warnings\n",
    "\n",
    "pd.set_option(\"display.max_colwidth\", 1000)\n",
    "nlp = spacy.load('pt_core_news_sm')\n",
    "warnings.filterwarnings(\"ignore\",category=DeprecationWarning)"
   ]
  },
  {
   "cell_type": "code",
   "execution_count": 3,
   "metadata": {},
   "outputs": [],
   "source": [
    "# Edição de stopwords do Spacy\n",
    "\n",
    "adj_pos = ['bom','delicioso','gostoso','saboroso','delicia','excelente','otimo','adoravel','agradavel','otima','irretocavel','boa','aprazivel','bem','favoravel','impecavel','maravilhoso','espetacular','top','melhor',\n",
    "          'delicioso','gostoso','saboroso','delicia']\n",
    "adj_neg = ['ruim','pessimo','horrivel','sofrivel','mal','terrivel','detestavel','mau','horroroso','pavoroso']\n",
    "remove_from_stopwords = ['bom','boa','tarde','segunda','quarta','quinta','sexta','lugar','valor','maior','grande','menos','mais','menor','demais','custa']\n",
    "add_to_stopwords = ['msm','brasilia','sao','cocar','bambu','lago','paranoa','sul','particularmente','obviamente','completamente','sequer', 'deixar',\n",
    "                    'tao','pra','voce','principal','optar','ter','consideravel','self','service',\n",
    "                    'feira','sendo','segunda','terça','quarta','quinta','sexta','sábado','domingo','dia','dias', 'função', 'funções', 'pelas',\n",
    "                    'pois','entretanto','contudo','porque', 'por que', 'por quê', 'porquê', 'pára','me', 'pare', ' aparentemente', 'sim', \n",
    "                    'um','uns','coisa','oferece','poderia','ter','quase', 'fica','assim','porém','pois','pq','hj','tipo','ir', 'inventa', 'pelos',\n",
    "                    'hs','msm','tbm','vc','dá','pra','veio','nessa','nisso','nesse','dessa','desse','deste','desta','diso', 'inventar', 'deixar',\n",
    "                    'disso','pode','ser', 'aqui','acho','achei','algumas','algum','alguns', 'min','nesta','neste','acima', 'nada', 'alguém',\n",
    "                    'pedi','pedimos','possui', 'bastante', 'como','deve', 'chegar', 'chama', 'chamar', ' volta', 'volto', 'voltar', 'desejar',\n",
    "                    'deveria', 'se', 'dever', 'chega', 'coco', 'côco', 'Coco', 'Côco', 'Bambu', 'bambu', 'conseguir', 'eternamente', 'pede', \n",
    "                    'pedir', 'pediu', 'tudo', 'casa', 'última', 'último', 'carne', 'sol', 'nome', 'esquecer', 'esqueci', 'esqueceu', 'esquece',\n",
    "                    'comer', 'comido', 'comeu', 'pessoa', 'ainda', 'peno', 'hipótese', 'durante', 'estar', 'fomos', 'em', 'estávamos', 'hora',\n",
    "                    'esta', 'este', 'isto', 'isso', 'sente', 'sentiu', 'sentir', 'tentamos', 'almoçar', 'hipotese', 'começar', 'começa', 'melhor',\n",
    "                    'nunca', 'contrário','um', 'uma','uns','umas', 'pela', 'pelo', 'fazer', 'fiz', 'fez', 'fui', 'for', 'certa', 'certo', 'optar',\n",
    "                    'um', 'dois', 'tres', 'três', 'quatro', 'cinco', 'seis', 'sete', 'oito', 'nove', 'dez', 'onze', 'doze', 'treze', 'pessoas',\n",
    "                    'noite', 'nenhuma', 'nenhum', 'várias', 'aniversário', 'Águas', 'Claras', 'Lago', 'Sul', 'haver', 'achar', 'achou', 'valeu',\n",
    "                    'internacional', 'vida', 'tanto', 'grande', 'uma', 'umar', 'carnar', 'atenção', 'somente', 'após', 'toda', 'vez', 'todo',\n",
    "                    'minuto', 'horas', 'minutos','segundo', 'segundos', 'horar', 'ora', 'parir', 'vezes', 'vezar','extremamente', 'nado', 'valer',\n",
    "                    'ficar', 'varanda', 'notei', 'notar', 'principalmente', 'pelar', 'noto', 'nota', 'legal', 'colocar', 'coloca', 'coloco', 'colocou',\n",
    "                    'recomendar', 'tando', 'causa', 'causar', 'gradar', 'sempre', 'gostar', 'casar', 'algo',\n",
    "                    'de','a','o','que','e','do','da','em','um','para','é','com','não','uma','os','no','se',\n",
    "                    'na','por','mais','as','dos','como','mas','foi','ao','ele','das','tem','à','seu','sua',\n",
    "                    'ou','ser','quando','muito','há','nos','já','está','eu','também','só','pelo','pela','até',\n",
    "                    'isso','ela','entre','era','depois','sem','mesmo','aos','ter','seus','quem','nas','me','esse',\n",
    "                    'eles','estão','você','tinha','foram','essa','num','nem','suas','meu','às','minha','têm','numa',\n",
    "                    'pelos','elas','havia','seja','qual','será','nós','tenho','lhe','deles','essas','esses','pelas',\n",
    "                    'este','fosse','dele','tu','te','vocês','vos','lhes','meus','minhas','teu','tua','teus','tuas',\n",
    "                    'nosso','nossa','nossos','nossas','dela','delas','esta','estes','estas','aquele','aquela','aqueles',\n",
    "                    'aquelas','isto','aquilo','estou','está','estamos','estão','estive','esteve','estivemos','estiveram',\n",
    "                    'estava','estávamos','estavam','estivera','estivéramos','esteja','estejamos','estejam','estivesse',\n",
    "                    'estivéssemos','estivessem','estiver','estivermos','estiverem','hei','há','havemos','hão','houve',\n",
    "                    'houvemos','houveram','houvera','houvéramos','haja','hajamos','hajam','houvesse','houvéssemos',\n",
    "                    'houvessem','houver','houvermos','houverem','houverei','houverá','houveremos','houverão','houveria',\n",
    "                    'houveríamos','houveriam','sou','somos','são','era','éramos','eram','fui','foi','fomos','foram','fora',\n",
    "                    'fôramos','seja','sejamos','sejam','fosse','fôssemos','fossem','for','formos','forem','serei','será',\n",
    "                    'seremos','serão','seria','seríamos','seriam','tenho','tem','temos','tém','tinha','tínhamos','tinham',\n",
    "                    'tive','teve','tivemos','tiveram','tivera','tivéramos','tenha','tenhamos','tenham','tivesse','tivéssemos',\n",
    "                    'tivessem','tiver','tivermos','tiverem','terei','terá','teremos','terão','teria','teríamos','teriam']\n",
    "for word in remove_from_stopwords:\n",
    "    nlp.Defaults.stop_words.remove(word)\n",
    "for word in add_to_stopwords:\n",
    "    nlp.Defaults.stop_words.add(word)"
   ]
  },
  {
   "cell_type": "code",
   "execution_count": 4,
   "metadata": {},
   "outputs": [],
   "source": [
    "# Importação dos dados, criação de dataframe, conversão da coluna target em categórica e conversão em string (corpus)\n",
    "\n",
    "df = pd.read_csv('C:/Users/Therthius/Desktop/comentarios.csv', dtype=str, sep = ',', encoding='utf-8')\n",
    "df['Avaliacao'] = df['Avaliacao'].astype('category')\n",
    "df_pos = df.loc[df['Avaliacao'] == '0'][:4053]\n",
    "df_neg = df.loc[df['Avaliacao'] == '1']\n",
    "texto = pd.Series.to_string(df_pos['Texto']).replace('...', ' ')"
   ]
  },
  {
   "cell_type": "code",
   "execution_count": 5,
   "metadata": {},
   "outputs": [
    {
     "data": {
      "application/vnd.jupyter.widget-view+json": {
       "model_id": "502a52c8b4fc4fdaa8aa6afa0d121e52",
       "version_major": 2,
       "version_minor": 0
      },
      "text/plain": [
       "HBox(children=(FloatProgress(value=0.0, max=4053.0), HTML(value='')))"
      ]
     },
     "metadata": {},
     "output_type": "display_data"
    },
    {
     "name": "stdout",
     "output_type": "stream",
     "text": [
      "\n",
      "A duração do processamento foi de 0:00:51\n"
     ]
    }
   ],
   "source": [
    "# Pré-processamento: remoção de caracteres especiais e stopwords, transformação em minúsculas e lemmatization\n",
    "\n",
    "inicio = dt.datetime.now()\n",
    "\n",
    "frases = [\" \".join([token.lemma_ for token in nlp(\" \".join(gensim.utils.simple_preprocess(re.sub('[^a-zA-Z0-9 \\\\\\]', '', u\"\".join([c for c in unicodedata.normalize('NFKD', frase) \\\n",
    " if not unicodedata.combining(c)]))))) if token.is_stop == False and len(token) > 2 ]) for frase in tqdm(texto.splitlines())]\n",
    "\n",
    "duracao = dt.datetime.now()-inicio \n",
    "\n",
    "print('A duração do processamento foi de', str(duracao)[:str(duracao).find('.')]) \n",
    "winsound.PlaySound(\"SystemExclamation\", winsound.SND_ALIAS)"
   ]
  },
  {
   "cell_type": "code",
   "execution_count": 6,
   "metadata": {},
   "outputs": [],
   "source": [
    "# Substituição de adjetivos equivalentes, para melhorar a uniformização dos bigramas\n",
    "\n",
    "frases_adj = []\n",
    "\n",
    "for frase in frases:\n",
    "    teste = []\n",
    "    for word in frase.split(\" \"):\n",
    "        if word in adj_pos:\n",
    "            teste.append('bom')\n",
    "        elif word in adj_neg:\n",
    "            teste.append('ruim')\n",
    "        else:\n",
    "            teste.append(word)\n",
    "    frases_adj.append(\" \".join(teste))\n",
    "    \n",
    "frases = frases_adj"
   ]
  },
  {
   "cell_type": "code",
   "execution_count": 7,
   "metadata": {},
   "outputs": [
    {
     "data": {
      "application/vnd.jupyter.widget-view+json": {
       "model_id": "b6e4a65f70594ebab5b07dfdf5b503ea",
       "version_major": 2,
       "version_minor": 0
      },
      "text/plain": [
       "HBox(children=(FloatProgress(value=0.0, max=4053.0), HTML(value='')))"
      ]
     },
     "metadata": {},
     "output_type": "display_data"
    },
    {
     "name": "stdout",
     "output_type": "stream",
     "text": [
      "\n"
     ]
    },
    {
     "data": {
      "application/vnd.jupyter.widget-view+json": {
       "model_id": "c6a2405ba7c447d7ac95104092b18aef",
       "version_major": 2,
       "version_minor": 0
      },
      "text/plain": [
       "HBox(children=(FloatProgress(value=0.0, max=4053.0), HTML(value='')))"
      ]
     },
     "metadata": {},
     "output_type": "display_data"
    },
    {
     "name": "stdout",
     "output_type": "stream",
     "text": [
      "\n"
     ]
    }
   ],
   "source": [
    "# Formação de bigramas\n",
    "\n",
    "bigramas_sep_coment = [[frase.split(\" \")[i] + ' ' + frase.split(\" \")[i+1] for i in range(0, len(frase.split(\" \"))-1)] for frase in tqdm(frases)]\n",
    "bigramas_total = [w for i in tqdm(bigramas_sep_coment) for w in i]"
   ]
  },
  {
   "cell_type": "code",
   "execution_count": 8,
   "metadata": {},
   "outputs": [
    {
     "data": {
      "application/vnd.jupyter.widget-view+json": {
       "model_id": "4aa2f51817ca435b9dab65d982de11e0",
       "version_major": 2,
       "version_minor": 0
      },
      "text/plain": [
       "HBox(children=(FloatProgress(value=0.0, max=50825.0), HTML(value='')))"
      ]
     },
     "metadata": {},
     "output_type": "display_data"
    },
    {
     "name": "stdout",
     "output_type": "stream",
     "text": [
      "\n",
      "A duração do processamento foi de 0:00:06\n"
     ]
    }
   ],
   "source": [
    "# Criação de relação de bigramas com ordem única\n",
    "\n",
    "inicio = dt.datetime.now()\n",
    "\n",
    "bigramas_total_ordem = []\n",
    "for bigrama in tqdm(bigramas_total):\n",
    "    if bigrama in bigramas_total_ordem or bigrama.split(' ')[-1] + ' ' + bigrama.split(' ')[0] in bigramas_total_ordem: pass\n",
    "    else:\n",
    "         bigramas_total_ordem.append(bigrama)\n",
    "            \n",
    "duracao = dt.datetime.now()-inicio \n",
    "\n",
    "print('A duração do processamento foi de', str(duracao)[:str(duracao).find('.')]) \n",
    "winsound.PlaySound(\"SystemExclamation\", winsound.SND_ALIAS)"
   ]
  },
  {
   "cell_type": "code",
   "execution_count": 9,
   "metadata": {},
   "outputs": [
    {
     "data": {
      "application/vnd.jupyter.widget-view+json": {
       "model_id": "f84145013cee47f182e8ed5d04227956",
       "version_major": 2,
       "version_minor": 0
      },
      "text/plain": [
       "HBox(children=(FloatProgress(value=0.0, max=4053.0), HTML(value='')))"
      ]
     },
     "metadata": {},
     "output_type": "display_data"
    },
    {
     "name": "stdout",
     "output_type": "stream",
     "text": [
      "\n",
      "A duração do processamento foi de 0:00:05\n"
     ]
    }
   ],
   "source": [
    "# Ajuste em relação a ordem das palavras em cada bigrama dentro de cada comentário\n",
    "\n",
    "bigramas_sep_coment_ordem = []\n",
    "\n",
    "inicio = dt.datetime.now()\n",
    "\n",
    "for i in tqdm(bigramas_sep_coment):\n",
    "    lista=[]\n",
    "    for w in i:\n",
    "        if w in bigramas_total_ordem:\n",
    "            lista.append(w)\n",
    "        elif w.split(' ')[-1] + ' ' + w.split(' ')[0] not in lista:\n",
    "            lista.append(w.split(' ')[-1] + ' ' + w.split(' ')[0])\n",
    "    bigramas_sep_coment_ordem.append(lista)\n",
    "    \n",
    "duracao = dt.datetime.now()-inicio \n",
    "\n",
    "print('A duração do processamento foi de', str(duracao)[:str(duracao).find('.')]) \n",
    "winsound.PlaySound(\"SystemExclamation\", winsound.SND_ALIAS)"
   ]
  },
  {
   "cell_type": "code",
   "execution_count": 10,
   "metadata": {},
   "outputs": [
    {
     "name": "stdout",
     "output_type": "stream",
     "text": [
      "A duração do processamento foi de 0:00:00\n"
     ]
    }
   ],
   "source": [
    "# Criação de dicionários e conversão em corpus\n",
    "\n",
    "inicio = dt.datetime.now()\n",
    "\n",
    "dictionary = gensim.corpora.Dictionary(bigramas_sep_coment_ordem)\n",
    "corpus = [dictionary.doc2bow(doc) for doc in bigramas_sep_coment_ordem]\n",
    "\n",
    "duracao = dt.datetime.now()-inicio \n",
    "\n",
    "print('A duração do processamento foi de', str(duracao)[:str(duracao).find('.')]) \n",
    "winsound.PlaySound(\"SystemExclamation\", winsound.SND_ALIAS)"
   ]
  },
  {
   "cell_type": "code",
   "execution_count": 11,
   "metadata": {},
   "outputs": [],
   "source": [
    "# Definição de função para cálculo de coerência de modelos com diferentes hiperparâmetros\n",
    "\n",
    "def compute_coherence_values(corpus, dictionary, k):\n",
    "    np.random.seed(2018)\n",
    "    lda_model = gensim.models.LdaMulticore(corpus,\n",
    "                                           id2word=dictionary,\n",
    "                                           num_topics=k, \n",
    "                                           random_state=100,\n",
    "                                           chunksize=40,\n",
    "                                           passes=5,\n",
    "                                           eval_every=1,\n",
    "                                           alpha='symmetric',\n",
    "                                           iterations=5,\n",
    "                                           per_word_topics=True,\n",
    "                                           workers=7)\n",
    "    coherence_model_lda = CoherenceModel(model=lda_model, texts=bigramas_sep_coment_ordem, dictionary=dictionary, coherence='c_v')\n",
    "    return coherence_model_lda.get_coherence()"
   ]
  },
  {
   "cell_type": "code",
   "execution_count": 12,
   "metadata": {},
   "outputs": [
    {
     "name": "stderr",
     "output_type": "stream",
     "text": [
      "100%|██████████████████████████████████████████████████████████████████████████████████| 10/10 [04:39<00:00, 27.91s/it]\n"
     ]
    },
    {
     "name": "stdout",
     "output_type": "stream",
     "text": [
      "A duração do processamento foi de 0:04:39\n"
     ]
    }
   ],
   "source": [
    "# Cálculo de coerências com diferentes hiperparâmetros\n",
    "import numpy as np\n",
    "import tqdm \n",
    "from gensim.models import CoherenceModel\n",
    "\n",
    "inicio = dt.datetime.now()\n",
    "\n",
    "np.random.seed(2018)\n",
    "\n",
    "min_topics = 5\n",
    "max_topics = 15\n",
    "step_size = 1\n",
    "topics_range = range(min_topics, max_topics, step_size)\n",
    "model_results = {'Topics': [], 'Coherence': []}\n",
    "pbar = tqdm.tqdm(total=len(topics_range))\n",
    "\n",
    "for k in topics_range:\n",
    "  cv = compute_coherence_values(corpus=corpus, dictionary=dictionary, k=k)\n",
    "  model_results['Topics'].append(k)\n",
    "  model_results['Coherence'].append(cv)\n",
    "  pbar.update(1)\n",
    "pbar.close()\n",
    "\n",
    "duracao = dt.datetime.now()-inicio \n",
    "\n",
    "print('A duração do processamento foi de', str(duracao)[:str(duracao).find('.')]) \n",
    "winsound.PlaySound(\"SystemExclamation\", winsound.SND_ALIAS)"
   ]
  },
  {
   "cell_type": "code",
   "execution_count": 13,
   "metadata": {},
   "outputs": [
    {
     "data": {
      "image/png": "[encoded data removed]",
      "text/plain": [
       "<Figure size 432x288 with 1 Axes>"
      ]
     },
     "metadata": {
      "needs_background": "light"
     },
     "output_type": "display_data"
    },
    {
     "name": "stdout",
     "output_type": "stream",
     "text": [
      "Número de tópicos: \t Índice de coerência: \n",
      "\n",
      "\t 5 \t \t \t 0.255\n",
      "\t 6 \t \t \t 0.295\n",
      "\t 7 \t \t \t 0.376\n",
      "\t 8 \t \t \t 0.428\n",
      "\t 9 \t \t \t 0.480\n",
      "\t 10 \t \t \t 0.485\n",
      "\t 11 \t \t \t 0.527\n",
      "\t 12 \t \t \t 0.541\n",
      "\t 13 \t \t \t 0.503\n",
      "\t 14 \t \t \t 0.488\n"
     ]
    }
   ],
   "source": [
    "# Plotagem de coerência x número de tópicos\n",
    "\n",
    "import matplotlib.pyplot as plt \n",
    "%matplotlib inline\n",
    "\n",
    "x = model_results['Topics']\n",
    "y = model_results['Coherence']\n",
    "plt.ylim(0,1)\n",
    "plt.xlim(5,14)\n",
    "plt.plot(x, y) \n",
    "plt.xlabel('Número de tópicos') \n",
    "plt.ylabel('Índice de coerência') \n",
    "plt.title('Tópicos x Coerência') \n",
    "plt.show() \n",
    "\n",
    "print('Número de tópicos: \\t Índice de coerência: \\n')\n",
    "for i in range(0,len(model_results['Topics'])):\n",
    "    print('\\t {} \\t \\t \\t {:04.3f}' .format(model_results['Topics'][i], model_results['Coherence'][i]))"
   ]
  },
  {
   "cell_type": "code",
   "execution_count": 14,
   "metadata": {},
   "outputs": [],
   "source": [
    "# Indicação de seed e geração do modelo com 18 tópicos\n",
    "\n",
    "np.random.seed(2018)\n",
    "lda_model = gensim.models.LdaMulticore(corpus,\n",
    "                                           id2word=dictionary,\n",
    "                                           num_topics=         12, \n",
    "                                           random_state=100,\n",
    "                                           chunksize=40,\n",
    "                                           passes=5,\n",
    "                                           eval_every=1,\n",
    "                                           alpha='symmetric',\n",
    "                                           iterations=5,\n",
    "                                           per_word_topics=True,\n",
    "                                           workers=7)"
   ]
  },
  {
   "cell_type": "code",
   "execution_count": 15,
   "metadata": {},
   "outputs": [
    {
     "name": "stdout",
     "output_type": "stream",
     "text": [
      "Índice de coerência: 0.545\n"
     ]
    }
   ],
   "source": [
    "# Cálculo de coerência do modelo com 12 tópicos\n",
    "\n",
    "coherence_model_lda = CoherenceModel(model=lda_model, texts=bigramas_sep_coment_ordem, dictionary=dictionary, coherence='c_v')\n",
    "coherence_lda = coherence_model_lda.get_coherence()\n",
    "print('Índice de coerência: {:04.3f}' .format(coherence_lda))"
   ]
  },
  {
   "cell_type": "code",
   "execution_count": 16,
   "metadata": {},
   "outputs": [
    {
     "name": "stderr",
     "output_type": "stream",
     "text": [
      "B:\\Python\\lib\\site-packages\\pyLDAvis\\_prepare.py:257: FutureWarning: Sorting because non-concatenation axis is not aligned. A future version\n",
      "of pandas will change to not sort by default.\n",
      "\n",
      "To accept the future behavior, pass 'sort=False'.\n",
      "\n",
      "To retain the current behavior and silence the warning, pass 'sort=True'.\n",
      "\n",
      "  return pd.concat([default_term_info] + list(topic_dfs))\n"
     ]
    },
    {
     "data": {
      "text/html": [
       "\n",
       "<link rel=\"stylesheet\" type=\"text/css\" href=\"https://cdn.rawgit.com/bmabey/pyLDAvis/files/ldavis.v1.0.0.css\">\n",
       "\n",
       "\n",
       "<div id=\"ldavis_el533219518230105767154188458\"></div>\n",
       "<script type=\"text/javascript\">\n",
       "\n",
       "var ldavis_el533219518230105767154188458_data = {\"mdsDat\": {\"x\": [0.36016539032856787, 0.20936883112709703, -0.010780610507269797, -0.025333731712680354, -0.04118680542069171, -0.06373703094087607, -0.05147623398490097, -0.05423183010477879, -0.07371436931118472, -0.08395080925205214, -0.08366378409326979, -0.08145901612796105], \"y\": [0.09986898204428918, -0.17931583122398354, 0.1350922251275395, -0.015892756272970873, -0.0010588261995979008, -0.0006124452138538828, -0.006354708564005829, -0.013712614280523125, -0.002141666660232416, -0.006555507474710229, -0.003163090081313767, -0.006153761200637156], \"topics\": [1, 2, 3, 4, 5, 6, 7, 8, 9, 10, 11, 12], \"cluster\": [1, 1, 1, 1, 1, 1, 1, 1, 1, 1, 1, 1], \"Freq\": [41.24977111816406, 17.944677352905273, 7.57914400100708, 5.197978496551514, 4.7023539543151855, 4.44748067855835, 4.202065467834473, 4.0477752685546875, 3.63112735748291, 2.6428682804107666, 2.2829480171203613, 2.0718114376068115]}, \"tinfo\": {\"Category\": [\"Default\", \"Default\", \"Default\", \"Default\", \"Default\", \"Default\", \"Default\", \"Default\", \"Default\", \"Default\", \"Default\", \"Default\", \"Default\", \"Default\", \"Default\", \"Default\", \"Default\", \"Default\", \"Default\", \"Default\", \"Default\", \"Default\", \"Default\", \"Default\", \"Default\", \"Default\", \"Default\", \"Default\", \"Default\", \"Default\", \"Topic1\", \"Topic1\", \"Topic1\", \"Topic1\", \"Topic1\", \"Topic1\", \"Topic1\", \"Topic1\", \"Topic1\", \"Topic1\", \"Topic1\", \"Topic1\", \"Topic1\", \"Topic1\", \"Topic1\", \"Topic1\", \"Topic1\", \"Topic1\", \"Topic1\", \"Topic1\", \"Topic1\", \"Topic1\", \"Topic1\", \"Topic1\", \"Topic1\", \"Topic1\", \"Topic1\", \"Topic1\", \"Topic1\", \"Topic1\", \"Topic1\", \"Topic1\", \"Topic1\", \"Topic1\", \"Topic1\", \"Topic1\", \"Topic1\", \"Topic1\", \"Topic1\", \"Topic1\", \"Topic1\", \"Topic1\", \"Topic1\", \"Topic1\", \"Topic1\", \"Topic1\", \"Topic1\", \"Topic1\", \"Topic1\", \"Topic1\", \"Topic1\", \"Topic1\", \"Topic1\", \"Topic1\", \"Topic1\", \"Topic1\", \"Topic1\", \"Topic1\", \"Topic1\", \"Topic2\", \"Topic2\", \"Topic2\", \"Topic2\", \"Topic2\", \"Topic2\", \"Topic2\", \"Topic2\", \"Topic2\", \"Topic2\", \"Topic2\", \"Topic2\", \"Topic2\", \"Topic2\", \"Topic2\", \"Topic2\", \"Topic2\", \"Topic2\", \"Topic2\", \"Topic2\", \"Topic2\", \"Topic2\", \"Topic2\", \"Topic2\", \"Topic2\", \"Topic2\", \"Topic2\", \"Topic2\", \"Topic2\", \"Topic2\", \"Topic2\", \"Topic2\", \"Topic2\", \"Topic2\", \"Topic2\", \"Topic2\", \"Topic2\", \"Topic2\", \"Topic2\", \"Topic2\", \"Topic2\", \"Topic2\", \"Topic2\", \"Topic2\", \"Topic2\", \"Topic2\", \"Topic2\", \"Topic2\", \"Topic2\", \"Topic2\", \"Topic2\", \"Topic3\", \"Topic3\", \"Topic3\", \"Topic3\", \"Topic3\", \"Topic3\", \"Topic3\", \"Topic3\", \"Topic3\", \"Topic3\", \"Topic3\", \"Topic3\", \"Topic3\", \"Topic3\", \"Topic3\", \"Topic3\", \"Topic3\", \"Topic3\", \"Topic3\", \"Topic3\", \"Topic3\", \"Topic3\", \"Topic3\", \"Topic3\", \"Topic3\", \"Topic3\", \"Topic3\", \"Topic3\", \"Topic3\", \"Topic3\", \"Topic3\", \"Topic3\", \"Topic3\", \"Topic3\", \"Topic3\", \"Topic3\", \"Topic3\", \"Topic3\", \"Topic3\", \"Topic3\", \"Topic4\", \"Topic4\", \"Topic4\", \"Topic4\", \"Topic4\", \"Topic4\", \"Topic4\", \"Topic4\", \"Topic4\", \"Topic4\", \"Topic4\", \"Topic4\", \"Topic4\", \"Topic4\", \"Topic4\", \"Topic4\", \"Topic4\", \"Topic4\", \"Topic4\", \"Topic4\", \"Topic4\", \"Topic4\", \"Topic4\", \"Topic4\", \"Topic4\", \"Topic4\", \"Topic4\", \"Topic4\", \"Topic4\", \"Topic4\", \"Topic4\", \"Topic4\", \"Topic4\", \"Topic4\", \"Topic4\", \"Topic4\", \"Topic4\", \"Topic4\", \"Topic4\", \"Topic4\", \"Topic4\", \"Topic5\", \"Topic5\", \"Topic5\", \"Topic5\", \"Topic5\", \"Topic5\", \"Topic5\", \"Topic5\", \"Topic5\", \"Topic5\", \"Topic5\", \"Topic5\", \"Topic5\", \"Topic5\", \"Topic5\", \"Topic5\", \"Topic5\", \"Topic5\", \"Topic5\", \"Topic5\", \"Topic5\", \"Topic5\", \"Topic5\", \"Topic5\", \"Topic5\", \"Topic5\", \"Topic5\", \"Topic5\", \"Topic5\", \"Topic5\", \"Topic5\", \"Topic5\", \"Topic5\", \"Topic5\", \"Topic5\", \"Topic5\", \"Topic5\", \"Topic6\", \"Topic6\", \"Topic6\", \"Topic6\", \"Topic6\", \"Topic6\", \"Topic6\", \"Topic6\", \"Topic6\", \"Topic6\", \"Topic6\", \"Topic6\", \"Topic6\", \"Topic6\", \"Topic6\", \"Topic6\", \"Topic6\", \"Topic6\", \"Topic6\", \"Topic6\", \"Topic6\", \"Topic6\", \"Topic6\", \"Topic6\", \"Topic6\", \"Topic6\", \"Topic6\", \"Topic6\", \"Topic6\", \"Topic6\", \"Topic6\", \"Topic6\", \"Topic6\", \"Topic6\", \"Topic6\", \"Topic6\", \"Topic7\", \"Topic7\", \"Topic7\", \"Topic7\", \"Topic7\", \"Topic7\", \"Topic7\", \"Topic7\", \"Topic7\", \"Topic7\", \"Topic7\", \"Topic7\", \"Topic7\", \"Topic7\", \"Topic7\", \"Topic7\", \"Topic7\", \"Topic7\", \"Topic7\", \"Topic7\", \"Topic7\", \"Topic7\", \"Topic7\", \"Topic7\", \"Topic7\", \"Topic7\", \"Topic7\", \"Topic7\", \"Topic7\", \"Topic7\", \"Topic7\", \"Topic7\", \"Topic7\", \"Topic7\", \"Topic7\", \"Topic7\", \"Topic7\", \"Topic7\", \"Topic7\", \"Topic7\", \"Topic8\", \"Topic8\", \"Topic8\", \"Topic8\", \"Topic8\", \"Topic8\", \"Topic8\", \"Topic8\", \"Topic8\", \"Topic8\", \"Topic8\", \"Topic8\", \"Topic8\", \"Topic8\", \"Topic8\", \"Topic8\", \"Topic8\", \"Topic8\", \"Topic8\", \"Topic8\", \"Topic8\", \"Topic8\", \"Topic8\", \"Topic8\", \"Topic8\", \"Topic8\", \"Topic8\", \"Topic8\", \"Topic8\", \"Topic8\", \"Topic8\", \"Topic8\", \"Topic8\", \"Topic8\", \"Topic8\", \"Topic8\", \"Topic8\", \"Topic8\", \"Topic8\", \"Topic8\", \"Topic8\", \"Topic9\", \"Topic9\", \"Topic9\", \"Topic9\", \"Topic9\", \"Topic9\", \"Topic9\", \"Topic9\", \"Topic9\", \"Topic9\", \"Topic9\", \"Topic9\", \"Topic9\", \"Topic9\", \"Topic9\", \"Topic9\", \"Topic9\", \"Topic9\", \"Topic9\", \"Topic9\", \"Topic9\", \"Topic9\", \"Topic9\", \"Topic9\", \"Topic9\", \"Topic9\", \"Topic9\", \"Topic9\", \"Topic9\", \"Topic9\", \"Topic9\", \"Topic9\", \"Topic9\", \"Topic10\", \"Topic10\", \"Topic10\", \"Topic10\", \"Topic10\", \"Topic10\", \"Topic10\", \"Topic10\", \"Topic10\", \"Topic10\", \"Topic10\", \"Topic10\", \"Topic10\", \"Topic10\", \"Topic10\", \"Topic10\", \"Topic10\", \"Topic10\", \"Topic10\", \"Topic10\", \"Topic10\", \"Topic10\", \"Topic10\", \"Topic10\", \"Topic10\", \"Topic10\", \"Topic10\", \"Topic10\", \"Topic10\", \"Topic10\", \"Topic10\", \"Topic10\", \"Topic10\", \"Topic10\", \"Topic11\", \"Topic11\", \"Topic11\", \"Topic11\", \"Topic11\", \"Topic11\", \"Topic11\", \"Topic11\", \"Topic11\", \"Topic11\", \"Topic11\", \"Topic11\", \"Topic11\", \"Topic11\", \"Topic11\", \"Topic11\", \"Topic11\", \"Topic11\", \"Topic11\", \"Topic11\", \"Topic11\", \"Topic11\", \"Topic11\", \"Topic11\", \"Topic11\", \"Topic11\", \"Topic11\", \"Topic11\", \"Topic11\", \"Topic11\", \"Topic11\", \"Topic11\", \"Topic12\", \"Topic12\", \"Topic12\", \"Topic12\", \"Topic12\", \"Topic12\", \"Topic12\", \"Topic12\", \"Topic12\", \"Topic12\", \"Topic12\", \"Topic12\", \"Topic12\", \"Topic12\", \"Topic12\", \"Topic12\", \"Topic12\", \"Topic12\", \"Topic12\", \"Topic12\", \"Topic12\", \"Topic12\", \"Topic12\", \"Topic12\", \"Topic12\", \"Topic12\", \"Topic12\", \"Topic12\", \"Topic12\", \"Topic12\", \"Topic12\", \"Topic12\", \"Topic12\"], \"Freq\": [388.0, 1055.0, 545.0, 654.0, 136.0, 1706.0, 258.0, 126.0, 109.0, 1569.0, 83.0, 662.0, 488.0, 283.0, 61.0, 95.0, 440.0, 96.0, 116.0, 45.0, 75.0, 178.0, 40.0, 301.0, 93.0, 31.0, 328.0, 81.0, 69.0, 41.0, 102.5517578125, 280.9012451171875, 62.01393508911133, 79.56134796142578, 108.03189086914062, 59.19477844238281, 56.889617919921875, 56.37641525268555, 55.02970886230469, 51.43370056152344, 49.53274917602539, 46.4168701171875, 48.85266876220703, 40.66381072998047, 43.30885314941406, 39.08634948730469, 38.49297332763672, 47.485252380371094, 40.42586898803711, 37.34099578857422, 34.81182861328125, 33.43233108520508, 33.88213348388672, 33.791419982910156, 34.09671401977539, 39.2862663269043, 31.54404640197754, 30.904895782470703, 30.44947624206543, 532.6937866210938, 59.54952621459961, 123.67073059082031, 55.57343292236328, 133.7548828125, 602.5553588867188, 168.8414306640625, 447.81231689453125, 104.70433807373047, 92.98751068115234, 183.9960479736328, 901.8272705078125, 295.0694274902344, 381.0435791015625, 541.6450805664062, 148.93849182128906, 159.41192626953125, 165.37586975097656, 1216.111328125, 1119.7215576171875, 113.17191314697266, 246.57904052734375, 136.01820373535156, 197.5406494140625, 152.6106719970703, 95.99818420410156, 87.4117431640625, 67.90864562988281, 89.16314697265625, 87.27032470703125, 94.52252960205078, 62.28830337524414, 68.24073791503906, 49.609954833984375, 39.00860595703125, 34.80508041381836, 34.1105842590332, 32.58448028564453, 31.478919982910156, 31.371843338012695, 31.320283889770508, 29.778583526611328, 28.782997131347656, 28.60211181640625, 28.01283836364746, 28.885637283325195, 28.068925857543945, 24.54425621032715, 24.22738265991211, 23.486215591430664, 25.60611343383789, 22.741247177124023, 22.58618927001953, 22.487123489379883, 22.43779182434082, 21.72844886779785, 21.08523178100586, 21.127349853515625, 20.826208114624023, 20.7770938873291, 368.36248779296875, 108.7012939453125, 218.33746337890625, 36.839752197265625, 30.50596046447754, 397.91015625, 362.2914733886719, 46.776432037353516, 30.884517669677734, 143.77505493164062, 113.15117645263672, 45.2902946472168, 58.11358642578125, 36.968353271484375, 38.84628677368164, 37.33949279785156, 50.680152893066406, 34.86486053466797, 33.61981964111328, 41.572505950927734, 38.90348815917969, 108.80037689208984, 61.057918548583984, 40.57265853881836, 38.555938720703125, 31.9108943939209, 27.002635955810547, 25.062280654907227, 23.368249893188477, 21.340930938720703, 20.47710609436035, 19.861669540405273, 18.753562927246094, 17.40496826171875, 17.452486038208008, 17.08298110961914, 15.944781303405762, 15.149964332580566, 14.975324630737305, 14.936612129211426, 14.95887565612793, 14.530986785888672, 14.917140007019043, 14.00406551361084, 13.845863342285156, 13.222168922424316, 13.325817108154297, 12.618795394897461, 12.964774131774902, 11.928425788879395, 11.68964672088623, 29.66944122314453, 14.01144027709961, 38.51360321044922, 35.4162483215332, 39.901206970214844, 33.27829360961914, 33.62664794921875, 17.6402645111084, 28.95107078552246, 15.549506187438965, 39.406558990478516, 24.968448638916016, 22.528947830200195, 21.391157150268555, 19.30948257446289, 18.257822036743164, 16.624706268310547, 15.303519248962402, 15.660490036010742, 15.295411109924316, 12.31036376953125, 11.394819259643555, 11.366619110107422, 13.801177978515625, 9.70577335357666, 9.24293041229248, 9.105742454528809, 8.836946487426758, 8.71167278289795, 8.670851707458496, 8.540090560913086, 8.035200119018555, 7.804123878479004, 7.391618728637695, 7.277773857116699, 9.803779602050781, 7.168883323669434, 7.0802388191223145, 7.069879531860352, 7.0162153244018555, 8.555560111999512, 10.954305648803711, 12.875408172607422, 16.179330825805664, 14.066080093383789, 26.20199203491211, 25.420427322387695, 12.775857925415039, 9.848304748535156, 11.05239486694336, 9.797391891479492, 80.89405822753906, 19.6475772857666, 17.654260635375977, 16.157100677490234, 17.036561965942383, 14.910887718200684, 14.462888717651367, 11.535792350769043, 11.192235946655273, 11.045439720153809, 12.006270408630371, 10.779276847839355, 10.4442138671875, 10.18663215637207, 9.962113380432129, 9.11476993560791, 9.059056282043457, 8.41226863861084, 8.41226863861084, 7.928589820861816, 6.942145824432373, 6.899511814117432, 6.844057083129883, 6.263156890869141, 5.931637287139893, 5.752709865570068, 5.645295143127441, 5.416862487792969, 5.387425899505615, 5.453401565551758, 94.85154724121094, 8.824645042419434, 20.23443031311035, 6.5338335037231445, 26.92691421508789, 12.345584869384766, 6.390561580657959, 24.330474853515625, 17.098552703857422, 15.353084564208984, 13.532383918762207, 13.507702827453613, 12.984293937683105, 12.903944969177246, 11.735671043395996, 42.72585678100586, 11.661258697509766, 10.353236198425293, 10.128214836120605, 9.283891677856445, 9.12111759185791, 8.848925590515137, 8.77021312713623, 8.709044456481934, 9.237693786621094, 8.5968017578125, 8.590014457702637, 8.72979736328125, 8.067864418029785, 7.953582286834717, 7.953582286834717, 7.953582286834717, 7.953582286834717, 7.898155689239502, 7.874716281890869, 7.874716281890869, 7.253888130187988, 24.92068099975586, 58.266292572021484, 12.377069473266602, 8.091254234313965, 9.403703689575195, 9.939399719238281, 25.191476821899414, 22.71648597717285, 17.378591537475586, 15.624821662902832, 15.394974708557129, 14.967781066894531, 12.416141510009766, 10.445467948913574, 9.330964088439941, 9.080153465270996, 8.780251502990723, 8.273127555847168, 8.138489723205566, 7.459908485412598, 7.459908485412598, 7.051961421966553, 6.924666881561279, 9.417997360229492, 6.308444499969482, 5.8458123207092285, 5.785433292388916, 5.522406101226807, 5.358920097351074, 5.719499111175537, 5.1946306228637695, 4.962156772613525, 4.630791664123535, 6.481149673461914, 4.1930832862854, 4.135845184326172, 8.810986518859863, 6.439708232879639, 13.41405963897705, 6.220872402191162, 7.557260036468506, 8.972077369689941, 8.069915771484375, 11.397421836853027, 7.468574047088623, 7.346023082733154, 30.93265151977539, 24.06575584411621, 15.21440315246582, 12.409720420837402, 13.238102912902832, 14.713155746459961, 11.739038467407227, 11.049245834350586, 9.46678638458252, 8.153511047363281, 8.959692001342773, 7.692685604095459, 6.935241222381592, 6.880557060241699, 7.760855197906494, 6.269359588623047, 6.242412567138672, 6.546886920928955, 5.7154388427734375, 5.299005508422852, 4.7789626121521, 4.630034446716309, 4.517084121704102, 4.333880424499512, 4.253968238830566, 4.215983867645264, 4.187204360961914, 8.779305458068848, 3.919724464416504, 3.812896966934204, 13.152750968933105, 7.71040678024292, 8.629436492919922, 9.336215019226074, 6.844029426574707, 5.714494228363037, 6.499021053314209, 5.022399425506592, 15.037351608276367, 5.859299659729004, 5.3476338386535645, 15.736235618591309, 13.07787799835205, 11.810596466064453, 19.54551124572754, 11.001555442810059, 10.892643928527832, 13.004070281982422, 11.112547874450684, 9.948777198791504, 10.181395530700684, 9.590902328491211, 8.959211349487305, 8.525755882263184, 8.402670860290527, 7.8528242111206055, 7.54703950881958, 7.440380096435547, 7.2551116943359375, 7.2551116943359375, 18.810945510864258, 7.217844486236572, 6.849706172943115, 6.980565547943115, 6.842884063720703, 5.8526740074157715, 5.35114860534668, 5.145386695861816, 4.867190361022949, 4.6721062660217285, 4.692192554473877, 12.211455345153809, 7.309922218322754, 13.215686798095703, 30.889497756958008, 8.336462020874023, 6.767416477203369, 6.138194561004639, 5.640338897705078, 4.9846343994140625, 4.644649505615234, 4.465138912200928, 3.865643262863159, 3.8763270378112793, 3.551504373550415, 3.4574811458587646, 3.2457451820373535, 3.087219715118408, 3.065674304962158, 2.908653736114502, 2.8653385639190674, 3.44289493560791, 2.8459601402282715, 2.785498857498169, 2.756603956222534, 2.6859984397888184, 2.6921401023864746, 2.6716060638427734, 2.1237528324127197, 2.0913078784942627, 1.9419314861297607, 1.8926795721054077, 1.785830020904541, 1.78827702999115, 2.418302297592163, 4.791930675506592, 2.3972983360290527, 2.1302247047424316, 11.982799530029297, 9.78957462310791, 6.006943225860596, 5.9145636558532715, 9.696703910827637, 5.209412097930908, 5.182913303375244, 6.1199517250061035, 3.4127132892608643, 3.2297799587249756, 3.235515594482422, 2.9807181358337402, 2.8423447608947754, 2.752821683883667, 2.601834297180176, 2.5339651107788086, 2.4498956203460693, 2.420912504196167, 2.463210344314575, 2.2375593185424805, 2.03605318069458, 1.8774962425231934, 1.8624157905578613, 1.8045395612716675, 1.793609857559204, 1.7600313425064087, 1.777083396911621, 1.5201836824417114, 1.4713118076324463, 1.4565978050231934, 1.7664604187011719, 1.540595293045044, 6.416400909423828, 6.332882404327393, 6.381565093994141, 5.0503106117248535, 5.213535785675049, 4.979281425476074, 4.3022332191467285, 4.114814758300781, 3.783501625061035, 3.451378583908081, 2.9890525341033936, 2.8819832801818848, 2.628448963165283, 1.7835551500320435, 1.684455156326294, 1.675577998161316, 2.7324721813201904, 1.659982681274414, 1.5022114515304565, 1.3234258890151978, 1.239173173904419, 1.6405510902404785, 1.1529104709625244, 1.5561603307724, 1.1238341331481934, 1.1241989135742188, 1.0921038389205933, 0.9475399851799011, 0.9446671605110168, 0.9088357090950012, 9.230901718139648, 1.1259888410568237, 1.0253418684005737], \"Term\": [\"valer peno\", \"ambientar bom\", \"prato servir\", \"fruto mar\", \"custar beneficiar\", \"atendimento bom\", \"camarao bom\", \"filar esperar\", \"bom farto\", \"bom comido\", \"bom custar\", \"bom prato\", \"bom restaurante\", \"servir bom\", \"prato fruto\", \"nao deixar\", \"bom bom\", \"servir atar\", \"musicar bom\", \"bonito bom\", \"cartar vinho\", \"preco justar\", \"aconchegante bom\", \"lugar bom\", \"farto prato\", \"restaurante ambientar\", \"bom visto\", \"prato atendimento\", \"bom valer\", \"recomendar camarao\", \"restaurante fruto\", \"servir bom\", \"carro chefe\", \"mar bom\", \"bom localizacao\", \"prato restaurante\", \"variedade prato\", \"prato camaroes\", \"preco salgar\", \"servir tranquilamente\", \"variar prato\", \"gostar camarao\", \"comido bebido\", \"visto comido\", \"muito opcoes\", \"prato visto\", \"peixe fruto\", \"gostar fruto\", \"mar prato\", \"ambientar lindar\", \"prato nao\", \"porcoes servir\", \"servir ambientar\", \"servir preco\", \"bom estacionamento\", \"precos justo\", \"nao gostar\", \"porcoes generoso\", \"reservar nao\", \"prato servir\", \"comido servir\", \"familia amigo\", \"variar bom\", \"cardapio variar\", \"fruto mar\", \"preco justar\", \"bom restaurante\", \"melhorar restaurante\", \"ambientar super\", \"bom preco\", \"ambientar bom\", \"bom visto\", \"bom bom\", \"bom prato\", \"bom qualidade\", \"super bom\", \"visto lindo\", \"atendimento bom\", \"bom comido\", \"camarao servir\", \"lugar bom\", \"bom opcao\", \"prato camarao\", \"comido atendimento\", \"bom cardapio\", \"bom nao\", \"bom gostar\", \"belo visto\", \"bom recomendar\", \"nao deixar\", \"finar semana\", \"bom valer\", \"peno conhecer\", \"peno conferir\", \"bom p\\u00f4r\", \"visto atendimento\", \"famoso camarao\", \"amigo bom\", \"tambem atendimento\", \"opcoes cardapio\", \"especializar fruto\", \"bom peixe\", \"datar comemorativo\", \"unico problema\", \"cocar sobremesa\", \"drinks bom\", \"super servir\", \"preco nao\", \"restaurante especializar\", \"camarao lagosta\", \"bom porcoes\", \"atendimento cardapio\", \"camarao nao\", \"conhecer deixar\", \"sensacional valer\", \"nao atendimento\", \"restaurante cheio\", \"confortavel bom\", \"peno visitar\", \"valer peno\", \"musicar bom\", \"camarao bom\", \"garcom queiroz\", \"amplo bom\", \"atendimento bom\", \"bom comido\", \"musicar viver\", \"super atencioso\", \"ambientar bom\", \"bom prato\", \"bom sobremesa\", \"prato camarao\", \"ambientar aconchegante\", \"atendimento ambientar\", \"atendimento garcom\", \"bom bom\", \"alar bom\", \"bom garcom\", \"lugar bom\", \"bom restaurante\", \"bom farto\", \"prato fruto\", \"recomendar camarao\", \"comido farto\", \"vinho bom\", \"lindar bom\", \"visto alar\", \"visto privilegiar\", \"enorme prato\", \"relacao custar\", \"bom relacao\", \"diverso opcoes\", \"destacar camarao\", \"opcoes fruto\", \"camarao camarao\", \"gostar ambientar\", \"demais bom\", \"atar bom\", \"servir servir\", \"bom recepcao\", \"camarao imperial\", \"alto padrao\", \"comido nao\", \"beneficiar prato\", \"restaurante lindar\", \"alar atendimento\", \"ambientar amplo\", \"visto pro\", \"costumar cheio\", \"geralmente prato\", \"bom cartar\", \"atendimento preco\", \"cartar vinho\", \"servir atar\", \"custar beneficiar\", \"farto prato\", \"fruto mar\", \"lugar lindar\", \"bom comido\", \"bom destacar\", \"aconchegante bom\", \"beneficiar bom\", \"precos acessiveis\", \"experimentar camarao\", \"simplesmente bom\", \"bom camaroes\", \"muito variedade\", \"servico comido\", \"comido lugar\", \"atendimento super\", \"variedade opcoes\", \"padrao qualidade\", \"valer visitar\", \"bom caipirinha\", \"excepcional comido\", \"camaroes peixe\", \"nao perder\", \"seguir padrao\", \"rapido eficiente\", \"servico rapido\", \"casal familia\", \"comido fantastica\", \"amigo comido\", \"acessiveis prato\", \"cardapio precos\", \"atendimento eficiente\", \"receber bom\", \"almocar jantar\", \"bom dica\", \"comido atendido\", \"atendimento sensacional\", \"atencioso comido\", \"lugar aconchegante\", \"super recomendar\", \"comido qualidade\", \"bom comido\", \"atendimento bom\", \"atendimento garcom\", \"lugar lindar\", \"lugar bom\", \"ambientar aconchegante\", \"bom custar\", \"precos razoaveis\", \"incrivel visto\", \"bom decoracao\", \"variar opcoes\", \"facil acesso\", \"entrar camaroes\", \"restaurante super\", \"comido lindo\", \"prato sabor\", \"bom apresentacao\", \"atendimento corte\", \"diverso prato\", \"beneficiar nao\", \"nao especial\", \"entrar pastel\", \"lugar especial\", \"lembrar restaurante\", \"incrivel belo\", \"bom filar\", \"localizar beirar\", \"garcom marcelo\", \"recomendar gostar\", \"bom visual\", \"chopp gelar\", \"especial garcom\", \"variar alar\", \"razoaveis prato\", \"prato oferecido\", \"comido familia\", \"custar beneficiar\", \"bom chopp\", \"comemorar aniversariar\", \"recomendar demais\", \"atendimento bom\", \"bom comido\", \"bom bom\", \"pastel camarao\", \"bom temperar\", \"comido incrivel\", \"fim semana\", \"prato gostar\", \"redar pescador\", \"prato principal\", \"bom reservar\", \"bonito bom\", \"nao demorar\", \"entrar camarao\", \"esperar esperar\", \"semana bom\", \"buffet comido\", \"movimentar filar\", \"longo filar\", \"restaurante lotar\", \"comido cartar\", \"recomendar detalhar\", \"mar sensacional\", \"visual lindar\", \"almoco semana\", \"jantar cartar\", \"peno enfrentar\", \"experimentar fruto\", \"esperar jantar\", \"amar bom\", \"domingo movimentar\", \"detalhar sabados\", \"prato redar\", \"jantar bom\", \"filar esperar\", \"restaurante bonito\", \"atendimento demorar\", \"esperar mesa\", \"prato atendimento\", \"garcons atencioso\", \"almoco jantar\", \"restaurante nao\", \"recomendar restaurante\", \"almoco familia\", \"recomendar prato\", \"otimas opcoes\", \"bom acolhedor\", \"comido deliciar\", \"localizar cardapio\", \"recomendar voltar\", \"atendimento diferenciar\", \"opcao almoco\", \"camaroes verdade\", \"verdade sobremesa\", \"especialidade fruto\", \"ambientar requintar\", \"camarao iracema\", \"bom equipar\", \"falar prato\", \"otimos drinks\", \"atendimento otimos\", \"descontraido ambientar\", \"prestativo super\", \"camarao crosta\", \"ambientar elegante\", \"vinho completar\", \"atendido pedrar\", \"bom sugestao\", \"descontraido bom\", \"otimas comido\", \"clima bom\", \"happy hour\", \"especial atendimento\", \"deliciar prato\", \"atencioso prestativo\", \"comemorar aniversariar\", \"bom comido\", \"bom cardapio\", \"atendimento bom\", \"servir atendimento\", \"deliciar camarao\", \"lindo bom\", \"tradicional camarao\", \"sabor bom\", \"bom adorar\", \"pensar lugar\", \"alar prato\", \"petit gateau\", \"alto qualidade\", \"pedrar bom\", \"ficar bom\", \"atendimento gentil\", \"buffet bom\", \"parar obrigatoria\", \"deliciar ambientar\", \"qualidade preco\", \"lagosta bom\", \"visto recomendar\", \"prestativo bom\", \"tradicional prato\", \"atendimento reservar\", \"farto atendimento\", \"indicar amigo\", \"completar bom\", \"lugar diferenciar\", \"bom simpatico\", \"atendimento cordial\", \"sobremesa torto\", \"caro preco\", \"prestativo educar\", \"garcom janiel\", \"atendimento pedrar\", \"bom beirar\", \"atendimento excelencia\", \"atendimento iorlando\", \"bom parabens\", \"atendimento incrivel\", \"atendimento bom\", \"bom profissional\", \"musicar ambientar\", \"dividir prato\", \"adorar camarao\", \"caro bom\", \"preco prato\", \"comido preco\", \"sair baratar\", \"prato caro\", \"bom rapido\", \"dividir atar\", \"justar bom\", \"rapido comido\", \"baratar prato\", \"prato parecer\", \"tranquilamente dividir\", \"preferir apesar\", \"familia reunir\", \"recomendar ambientar\", \"caro verdade\", \"verdade sair\", \"preco razoavel\", \"justar atendimento\", \"lugar restaurante\", \"belissima visto\", \"visto beirar\", \"deliciar restaurante\", \"atendimento espaco\", \"visto fantastica\", \"bom encontrar\", \"lugar nao\", \"super rapido\", \"bom voltar\", \"bom cozinhar\", \"atendimento rapido\", \"restaurante ambientar\", \"bom sofisticar\", \"esperar longo\", \"lotar esperar\", \"demorar servir\", \"reservar chegar\", \"atender muito\", \"reservar antecipar\", \"prestativo comido\", \"servir alar\", \"bom provar\", \"musicar alto\", \"camarao sugerir\", \"gostar comido\", \"chegar restaurante\", \"agilidade atendimento\", \"otimas entrar\", \"restaurante aconchegante\", \"bom problema\", \"amigo casar\", \"caro p\\u00f4r\", \"lotar comido\", \"atendimento lentar\", \"reservar filar\", \"variar menu\", \"molhar mostarda\", \"existir opcoes\", \"garcon queiroz\", \"fechar chave\", \"queiroz atender\", \"bater papar\", \"garcom eliomario\", \"bom demorar\", \"nao filar\", \"jantar romantico\", \"localizacao privilegiar\", \"atender bom\", \"amigo comemorar\", \"refeicao bom\", \"visto panoramica\", \"lugar amigo\", \"indicar camarao\", \"deliciar visto\", \"bom romantico\", \"ambientar privilegiar\", \"show bolar\", \"comido sabor\", \"mar precos\", \"gostar ir\", \"precos condizente\", \"shopping atendimento\", \"vir nao\", \"ficar satisfazer\", \"ambientar incrivel\", \"dispensar comentarios\", \"bom recomendacao\", \"deixar bom\", \"bebido chopp\", \"simpatia atencao\", \"romantico ambientar\", \"tornar especial\", \"comido indicar\", \"recomendar procurar\", \"vinho escolher\", \"amigo romantico\", \"atendimento garcons\", \"datar especial\", \"lugar visto\", \"alar restaurante\", \"bom culinaria\", \"bom comemorar\", \"prato elaborar\", \"reservar esperar\", \"conhecer lugar\", \"comemorar datar\", \"recomendar amigo\", \"camarao fantastico\", \"jantar restaurante\", \"atencao prato\", \"comemorar gostar\", \"marco atencioso\", \"belo localizacao\", \"ambientar localizar\", \"camarao alho\", \"atendimento preparar\", \"atendimento especialmente\", \"gostar mesa\", \"almoco aniversariar\", \"excelencia recomendar\", \"atendido prato\", \"ir adorar\", \"embalagem viagem\", \"alho oleo\", \"vir almoco\", \"esperar cercar\", \"bom casamentar\", \"almoco bom\", \"garcom marco\", \"patrick garcom\"], \"Total\": [388.0, 1055.0, 545.0, 654.0, 136.0, 1706.0, 258.0, 126.0, 109.0, 1569.0, 83.0, 662.0, 488.0, 283.0, 61.0, 95.0, 440.0, 96.0, 116.0, 45.0, 75.0, 178.0, 40.0, 301.0, 93.0, 31.0, 328.0, 81.0, 69.0, 41.0, 103.2579345703125, 283.9923400878906, 62.73448944091797, 80.50318145751953, 109.34056091308594, 59.91265106201172, 57.59659194946289, 57.08040237426758, 55.77273178100586, 52.1376953125, 50.26074981689453, 47.13330078125, 49.6484260559082, 41.36785125732422, 44.07487106323242, 39.79086685180664, 39.1971435546875, 48.355350494384766, 41.171958923339844, 38.04580307006836, 35.51588439941406, 34.136566162109375, 34.60044860839844, 34.51430892944336, 34.82788848876953, 40.14067077636719, 32.24806594848633, 31.608997344970703, 31.153873443603516, 545.0239868164062, 60.97296142578125, 127.72496795654297, 56.95270538330078, 138.83750915527344, 654.5430297851562, 178.71530151367188, 488.8368835449219, 110.19418334960938, 98.1648178100586, 200.18736267089844, 1055.174560546875, 328.2969665527344, 440.5876770019531, 662.1861572265625, 165.48745727539062, 178.73983764648438, 189.6588134765625, 1706.0458984375, 1569.380859375, 125.29015350341797, 301.4294128417969, 155.5434112548828, 259.3516540527344, 192.54461669921875, 109.18252563476562, 98.61778259277344, 71.7125015258789, 109.21708679199219, 108.846435546875, 95.25104522705078, 63.05340576171875, 69.08470916748047, 50.365753173828125, 39.7205810546875, 35.51964569091797, 34.849002838134766, 33.29644775390625, 32.18952178955078, 32.09308624267578, 32.04429626464844, 30.491519927978516, 29.493553161621094, 29.31461524963379, 28.723283767700195, 29.62446403503418, 28.83441734313965, 25.25977897644043, 24.938034057617188, 24.196704864501953, 26.388168334960938, 23.451807022094727, 23.298532485961914, 23.19765281677246, 23.15113067626953, 22.43943977355957, 21.79572105407715, 21.84003257751465, 21.544160842895508, 21.506038665771484, 388.96197509765625, 116.55342102050781, 258.8676452636719, 39.68016815185547, 32.52485656738281, 1706.0458984375, 1569.380859375, 77.61155700683594, 42.73274612426758, 1055.174560546875, 662.1861572265625, 114.1920166015625, 259.3516540527344, 79.42048645019531, 106.28902435302734, 101.86459350585938, 440.5876770019531, 76.87852478027344, 70.87384033203125, 301.4294128417969, 488.8368835449219, 109.61610412597656, 61.791419982910156, 41.30623245239258, 39.41451644897461, 32.75597381591797, 27.732650756835938, 25.791683197021484, 24.09823989868164, 22.070310592651367, 21.212526321411133, 20.594436645507812, 19.482757568359375, 18.136356353759766, 18.188549041748047, 17.816394805908203, 16.695039749145508, 15.88444709777832, 15.706276893615723, 15.665900230407715, 15.698936462402344, 15.268040657043457, 15.692192077636719, 14.73330020904541, 14.575143814086914, 13.951601028442383, 14.07587718963623, 13.348115921020508, 13.717846870422363, 12.657877922058105, 12.424647331237793, 35.88323974609375, 15.467421531677246, 75.75273132324219, 96.03030395507812, 136.01148986816406, 93.90774536132812, 654.5430297851562, 45.116058349609375, 1569.380859375, 29.091697692871094, 40.26837158203125, 25.734941482543945, 23.27277946472168, 22.133115768432617, 20.053857803344727, 19.000043869018555, 17.362735748291016, 16.082313537597656, 16.46973991394043, 16.14870834350586, 13.090461730957031, 12.133102416992188, 12.106447219848633, 14.779767990112305, 10.452288627624512, 9.981968879699707, 9.846209526062012, 9.575112342834473, 9.451358795166016, 9.41573715209961, 9.278790473937988, 8.77374267578125, 8.557164192199707, 8.129812240600586, 8.016192436218262, 10.813886642456055, 7.914328575134277, 7.81867790222168, 7.809445858001709, 7.75703763961792, 9.622360229492188, 16.317750930786133, 21.885318756103516, 58.010955810546875, 73.99899291992188, 1569.380859375, 1706.0458984375, 101.86459350585938, 45.116058349609375, 301.4294128417969, 79.42048645019531, 83.253173828125, 20.3914794921875, 18.4115047454834, 16.90300750732422, 17.825410842895508, 15.677510261535645, 15.20892333984375, 12.27947998046875, 11.936090469360352, 11.790891647338867, 12.828344345092773, 11.52440071105957, 11.189302444458008, 10.929447174072266, 10.705381393432617, 9.85927677154541, 9.805827140808105, 9.163285255432129, 9.163285255432129, 8.674386978149414, 7.686761856079102, 7.6511993408203125, 7.590693473815918, 7.0121750831604, 6.677923679351807, 6.49938440322876, 6.390174388885498, 6.159839153289795, 6.1361403465271, 6.215233325958252, 136.01148986816406, 10.519380569458008, 54.50328826904297, 8.421642303466797, 1706.0458984375, 1569.380859375, 440.5876770019531, 25.077728271484375, 17.846942901611328, 16.101316452026367, 14.280316352844238, 14.256763458251953, 13.732711791992188, 13.697107315063477, 12.483917236328125, 45.63788986206055, 12.492260932922363, 11.09988021850586, 10.88117504119873, 10.037216186523438, 9.870052337646484, 9.595709800720215, 9.518037796020508, 9.455467224121094, 10.041312217712402, 9.349507331848145, 9.364860534667969, 9.531845092773438, 8.814592361450195, 8.702346801757812, 8.702346801757812, 8.702346801757812, 8.702346801757812, 8.644954681396484, 8.629678726196289, 8.629678726196289, 8.00037956237793, 37.67938232421875, 126.9131851196289, 31.592716217041016, 9.384820938110352, 40.37116241455078, 81.9787368774414, 25.993770599365234, 23.474815368652344, 18.14243507385254, 16.38140296936035, 16.14847755432129, 15.712034225463867, 13.218766212463379, 11.209379196166992, 10.095596313476562, 9.827775955200195, 9.542198181152344, 9.018994331359863, 8.888477325439453, 8.248440742492676, 8.248440742492676, 7.79818868637085, 7.6778998374938965, 10.497258186340332, 7.054874897003174, 6.591275215148926, 6.531611442565918, 6.274526119232178, 6.109170436859131, 6.544994831085205, 5.9477362632751465, 5.708052158355713, 5.391476154327393, 7.566482067108154, 4.938872337341309, 4.881920337677002, 10.523367881774902, 8.671228408813477, 25.95245933532715, 8.84939956665039, 13.99749755859375, 28.763505935668945, 54.50328826904297, 1569.380859375, 109.18252563476562, 1706.0458984375, 31.720182418823242, 24.81621742248535, 15.965377807617188, 13.155824661254883, 14.040302276611328, 15.629669189453125, 12.48632526397705, 11.797436714172363, 10.218085289001465, 8.899596214294434, 9.794724464416504, 8.462411880493164, 7.6813063621521, 7.628214359283447, 8.647741317749023, 7.017652988433838, 6.995383262634277, 7.364156246185303, 6.462836265563965, 6.055822849273682, 5.525427341461182, 5.378471374511719, 5.264274597167969, 5.080196857452393, 5.0032877922058105, 4.96192741394043, 4.932952880859375, 10.370895385742188, 4.667144775390625, 4.5597100257873535, 16.532501220703125, 9.49392032623291, 10.77730655670166, 12.081010818481445, 8.930306434631348, 7.743601322174072, 10.94262409210205, 7.0238938331604, 1706.0458984375, 17.075912475585938, 45.66301345825195, 16.48954963684082, 13.832223892211914, 12.5628662109375, 20.853626251220703, 11.75873851776123, 11.647581100463867, 13.916916847229004, 11.952482223510742, 10.702298164367676, 10.958453178405762, 10.347304344177246, 9.711369514465332, 9.281014442443848, 9.157482147216797, 8.605463981628418, 8.301416397094727, 8.202906608581543, 8.00754451751709, 8.00754451751709, 20.784147262573242, 7.977852821350098, 7.60505485534668, 7.7508673667907715, 7.607749938964844, 6.6079277992248535, 6.110589027404785, 5.901238441467285, 5.62352180480957, 5.426654815673828, 5.454305171966553, 14.299614906311035, 12.504077911376953, 50.42620849609375, 31.658674240112305, 9.098758697509766, 7.533491611480713, 6.901915073394775, 6.405874729156494, 5.746159076690674, 5.423048973083496, 5.226861000061035, 4.631481647491455, 4.661106109619141, 4.314830780029297, 4.224977493286133, 4.007847309112549, 3.8478972911834717, 3.826582670211792, 3.669532299041748, 3.6272377967834473, 4.359494686126709, 3.6101551055908203, 3.548412561416626, 3.5182089805603027, 3.4484667778015137, 3.457223415374756, 3.43723464012146, 2.885103702545166, 2.8533051013946533, 2.7046055793762207, 2.6530532836914062, 2.5475142002105713, 2.553891897201538, 3.6099061965942383, 8.577611923217773, 6.2036590576171875, 8.448448181152344, 12.752017974853516, 10.558895111083984, 6.77993631362915, 6.6862945556640625, 10.962471961975098, 5.985620021820068, 5.956681251525879, 7.3388447761535645, 4.2004804611206055, 3.9958903789520264, 4.005611419677734, 3.7522737979888916, 3.6088552474975586, 3.5223910808563232, 3.3670969009399414, 3.303083658218384, 3.2164478302001953, 3.187429428100586, 3.2526707649230957, 3.0040273666381836, 2.846187114715576, 2.6457042694091797, 2.6450018882751465, 2.5703978538513184, 2.558809995651245, 2.5263283252716064, 2.5840327739715576, 2.2860636711120605, 2.24021577835083, 2.2231545448303223, 3.252568006515503, 18.74417495727539, 7.183719635009766, 7.102526664733887, 7.176969528198242, 5.817902565002441, 6.007623195648193, 5.7484025955200195, 5.077185153961182, 4.938806533813477, 4.550811767578125, 4.227930068969727, 3.757627487182617, 3.651749610900879, 3.40775990486145, 2.551832437515259, 2.453909397125244, 2.443355083465576, 4.022468566894531, 2.490277051925659, 2.2737295627593994, 2.0992300510406494, 2.007436513900757, 2.6950623989105225, 1.9211575984954834, 2.599226236343384, 1.8923442363739014, 1.8930867910385132, 1.863326072692871, 1.7174901962280273, 1.7137017250061035, 1.6791694164276123, 36.59143829345703, 15.976609230041504, 16.695539474487305], \"loglift\": [30.0, 29.0, 28.0, 27.0, 26.0, 25.0, 24.0, 23.0, 22.0, 21.0, 20.0, 19.0, 18.0, 17.0, 16.0, 15.0, 14.0, 13.0, 12.0, 11.0, 10.0, 9.0, 8.0, 7.0, 6.0, 5.0, 4.0, 3.0, 2.0, 1.0, 0.8787000179290771, 0.8745999932289124, 0.8740000128746033, 0.8737999796867371, 0.8734999895095825, 0.8734999895095825, 0.873199999332428, 0.8730999827384949, 0.8720999956130981, 0.8719000220298767, 0.8708999752998352, 0.870199978351593, 0.8694000244140625, 0.868399977684021, 0.8679999709129333, 0.8676999807357788, 0.8673999905586243, 0.8673999905586243, 0.8672000169754028, 0.8668000102043152, 0.8654999732971191, 0.8647000193595886, 0.8644999861717224, 0.8644000291824341, 0.864300012588501, 0.8640000224113464, 0.8634999990463257, 0.8629999756813049, 0.8626999855041504, 0.8626000285148621, 0.8618999719619751, 0.8532999753952026, 0.8610000014305115, 0.8482000231742859, 0.8027999997138977, 0.8287000060081482, 0.7979000210762024, 0.8343999981880188, 0.8313000202178955, 0.8011999726295471, 0.7285000085830688, 0.7788000106811523, 0.7402999997138977, 0.6845999956130981, 0.7802000045776367, 0.7710999846458435, 0.7484999895095825, 0.546999990940094, 0.5479000210762024, 0.7838000059127808, 0.6847000122070312, 0.7513999938964844, 0.6133000254631042, 0.6531000137329102, 0.7567999958992004, 0.7649000287055969, 0.8309999704360962, 0.682699978351593, 0.6646000146865845, 1.7101999521255493, 1.7057000398635864, 1.7056000232696533, 1.7028000354766846, 1.6998000144958496, 1.69760000705719, 1.6964999437332153, 1.6963000297546387, 1.6956000328063965, 1.695099949836731, 1.6950000524520874, 1.694200038909912, 1.69350004196167, 1.6933000087738037, 1.6928000450134277, 1.6926000118255615, 1.690999984741211, 1.6891000270843506, 1.6890000104904175, 1.688099980354309, 1.6878000497817993, 1.6871000528335571, 1.6868000030517578, 1.6868000030517578, 1.6865999698638916, 1.6857000589370728, 1.6847000122070312, 1.6847000122070312, 1.684000015258789, 1.68340003490448, 1.6634999513626099, 1.6481000185012817, 1.5476000308990479, 1.6435999870300293, 1.6538000106811523, 0.2621999979019165, 0.25189998745918274, 1.2115000486373901, 1.3932000398635864, -0.275299996137619, -0.048900000751018524, 0.7930999994277954, 0.22210000455379486, 0.9531999826431274, 0.7113000154495239, 0.7142999768257141, -0.4447000026702881, 0.9271000027656555, 0.972100019454956, -0.2632000148296356, -0.8130999803543091, 2.5722999572753906, 2.5678000450134277, 2.5618999004364014, 2.5576999187469482, 2.5536000728607178, 2.553100109100342, 2.551100015640259, 2.5490000247955322, 2.5462000370025635, 2.5445001125335693, 2.5434999465942383, 2.541599988937378, 2.538599967956543, 2.5385000705718994, 2.5376999378204346, 2.533799886703491, 2.532399892807007, 2.532099962234497, 2.532099962234497, 2.5315001010894775, 2.5302999019622803, 2.529099941253662, 2.5290000438690186, 2.52839994430542, 2.526099920272827, 2.5250000953674316, 2.5236001014709473, 2.5232999324798584, 2.520400047302246, 2.5188000202178955, 2.3896000385284424, 2.4809000492095947, 1.9033000469207764, 1.5822999477386475, 1.3533999919891357, 1.5424000024795532, -0.3887999951839447, 1.6406999826431274, -1.413100004196167, 1.9532999992370605, 2.93530011177063, 2.9267001152038574, 2.9244000911712646, 2.922800064086914, 2.919100046157837, 2.917099952697754, 2.9135000705718994, 2.9072999954223633, 2.9065001010894775, 2.902600049972534, 2.8954999446868896, 2.8940999507904053, 2.8938000202178955, 2.888400077819824, 2.8828001022338867, 2.880000114440918, 2.878700017929077, 2.876699924468994, 2.8754000663757324, 2.874500036239624, 2.8738999366760254, 2.86899995803833, 2.864799976348877, 2.8617000579833984, 2.860300064086914, 2.858799934387207, 2.8580000400543213, 2.8577001094818115, 2.8573999404907227, 2.8564999103546143, 2.839400053024292, 2.5583999156951904, 2.4263999462127686, 1.6799999475479126, 1.2965999841690063, -1.135699987411499, -1.249500036239624, 0.8808000087738037, 1.434999942779541, -0.3490000069141388, 0.864300012588501, 3.02839994430542, 3.01990008354187, 3.0151000022888184, 3.01200008392334, 3.0118000507354736, 3.006999969482422, 3.0067999362945557, 2.9946000576019287, 2.992799997329712, 2.99180006980896, 2.9909000396728516, 2.990299940109253, 2.9881999492645264, 2.9867000579833984, 2.985100030899048, 2.978600025177002, 2.9779000282287598, 2.97160005569458, 2.97160005569458, 2.9672000408172607, 2.955199956893921, 2.953700065612793, 2.9535999298095703, 2.9440999031066895, 2.9386000633239746, 2.9351000785827637, 2.933199882507324, 2.9286000728607178, 2.927000045776367, 2.926300048828125, 2.696700096130371, 2.8814001083374023, 2.066200017929077, 2.803299903869629, -1.0916999578475952, -1.7879999876022339, -1.176200032234192, 3.0826001167297363, 3.069999933242798, 3.065200090408325, 3.059000015258789, 3.0589001178741455, 3.05679988861084, 3.0532000064849854, 3.0510001182556152, 3.0469000339508057, 3.0439999103546143, 3.0432000160217285, 3.041100025177002, 3.0348000526428223, 3.033900022506714, 3.0318000316619873, 3.0309998989105225, 3.030600070953369, 3.029400110244751, 3.028899908065796, 3.0264999866485596, 3.024899959564209, 3.0243000984191895, 3.022900104522705, 3.022900104522705, 3.022900104522705, 3.022900104522705, 3.0225000381469727, 3.0213000774383545, 3.0213000774383545, 3.014899969100952, 2.699399948120117, 2.334399938583374, 2.175800085067749, 2.9644999504089355, 1.6557999849319458, 1.0029000043869019, 3.138200044631958, 3.1368000507354736, 3.1266000270843506, 3.122299909591675, 3.121799945831299, 3.1210999488830566, 3.1070001125335693, 3.0989999771118164, 3.0908000469207764, 3.0905001163482666, 3.086400032043457, 3.0833001136779785, 3.081399917602539, 3.0690999031066895, 3.0690999031066895, 3.069000005722046, 3.0662999153137207, 3.0611000061035156, 3.057800054550171, 3.0495998859405518, 3.04830002784729, 3.0418999195098877, 3.038599967956543, 3.0348000526428223, 3.0341999530792236, 3.029599905014038, 3.0174999237060547, 3.0148000717163086, 3.0058999061584473, 3.003700017929077, 2.992000102996826, 2.8721001148223877, 2.5095999240875244, 2.817199945449829, 2.5532000064849854, 2.0046000480651855, 1.2595000267028809, -1.7554999589920044, 0.48730000853538513, -2.2781999111175537, 3.1819000244140625, 3.176300048828125, 3.158799886703491, 3.1486001014709473, 3.148200035095215, 3.1466000080108643, 3.1452999114990234, 3.1414999961853027, 3.1305999755859375, 3.1194000244140625, 3.1178998947143555, 3.111599922180176, 3.10479998588562, 3.103800058364868, 3.09879994392395, 3.0941998958587646, 3.093100070953369, 3.089400053024292, 3.0841000080108643, 3.073499917984009, 3.0618999004364014, 3.0571999549865723, 3.0539000034332275, 3.048099994659424, 3.044800043106079, 3.044100046157837, 3.043100118637085, 3.0404000282287598, 3.0325000286102295, 3.02810001373291, 2.978300094604492, 2.9988999366760254, 2.9846999645233154, 2.9493000507354736, 2.9409000873565674, 2.90310001373291, 2.686000108718872, 2.8715999126434326, -1.524399995803833, 2.137399911880493, 1.062399983406067, 3.268899917602539, 3.259500026702881, 3.2539000511169434, 3.2507998943328857, 3.2490999698638916, 3.2486000061035156, 3.24780011177063, 3.242799997329712, 3.2425999641418457, 3.2421000003814697, 3.2397000789642334, 3.234999895095825, 3.2307000160217285, 3.229599952697754, 3.224100112915039, 3.220400094985962, 3.218100070953369, 3.216900110244751, 3.216900110244751, 3.21589994430542, 3.2155001163482666, 3.2109999656677246, 3.2109999656677246, 3.209700107574463, 3.1942999362945557, 3.1828999519348145, 3.1786000728607178, 3.1712000370025635, 3.1658999919891357, 3.16510009765625, 3.1577999591827393, 2.7788000106811523, 1.9765000343322754, 3.6087000370025635, 3.545799970626831, 3.526099920272827, 3.5160000324249268, 3.50600004196167, 3.4911000728607178, 3.4783999919891357, 3.475800037384033, 3.4526000022888184, 3.448899984359741, 3.4386000633239746, 3.432800054550171, 3.4223999977111816, 3.4130001068115234, 3.411600112915039, 3.400899887084961, 3.3975000381469727, 3.3973000049591064, 3.3954999446868896, 3.391200065612793, 3.389400005340576, 3.3833999633789062, 3.38319993019104, 3.3812999725341797, 3.326900005340576, 3.3225998878479004, 3.302000045776367, 3.295599937438965, 3.27810001373291, 3.276900053024292, 3.2327001094818115, 3.051100015640259, 2.682499885559082, 2.2555999755859375, 3.7174999713897705, 3.7040998935699463, 3.6586999893188477, 3.657099962234497, 3.6570000648498535, 3.6407999992370605, 3.6405999660491943, 3.598099946975708, 3.572000026702881, 3.566800117492676, 3.566200017929077, 3.549499988555908, 3.5408999919891357, 3.5332000255584717, 3.521899938583374, 3.5146000385284424, 3.507499933242798, 3.5046000480651855, 3.501699924468994, 3.485100030899048, 3.444700002670288, 3.4367001056671143, 3.4289000034332275, 3.4258999824523926, 3.4244000911712646, 3.418299913406372, 3.4052999019622803, 3.3717000484466553, 3.359299898147583, 3.3568999767303467, 3.1691999435424805, 1.281000018119812, 3.7637999057769775, 3.7620999813079834, 3.7592999935150146, 3.735300064086914, 3.734999895095825, 3.733099937438965, 3.7111001014709473, 3.694200038909912, 3.6921000480651855, 3.673799991607666, 3.647900104522705, 3.640000104904175, 3.6171000003814697, 3.5185000896453857, 3.500499963760376, 3.499500036239624, 3.4900999069213867, 3.4711999893188477, 3.4623000621795654, 3.4154000282287598, 3.3942999839782715, 3.3803999423980713, 3.3661000728607178, 3.363800048828125, 3.3557000160217285, 3.355600118637085, 3.3424999713897705, 3.2820000648498535, 3.2811999320983887, 3.2629001140594482, 2.499500036239624, 1.2243000268936157, 1.0865999460220337], \"logprob\": [30.0, 29.0, 28.0, 27.0, 26.0, 25.0, 24.0, 23.0, 22.0, 21.0, 20.0, 19.0, 18.0, 17.0, 16.0, 15.0, 14.0, 13.0, 12.0, 11.0, 10.0, 9.0, 8.0, 7.0, 6.0, 5.0, 4.0, 3.0, 2.0, 1.0, -5.307600021362305, -4.299900054931641, -5.8105998039245605, -5.561399936676025, -5.255499839782715, -5.857100009918213, -5.8968000411987305, -5.905900001525879, -5.930099964141846, -5.997700214385986, -6.035299777984619, -6.100299835205078, -6.049099922180176, -6.232600212097168, -6.169600009918213, -6.272200107574463, -6.287499904632568, -6.077499866485596, -6.238500118255615, -6.31790018081665, -6.388000011444092, -6.428400039672852, -6.41510009765625, -6.417699813842773, -6.408699989318848, -6.267099857330322, -6.486599922180176, -6.506999969482422, -6.521900177001953, -3.6600000858306885, -5.851099967956543, -5.120299816131592, -5.920199871063232, -5.041900157928467, -3.536799907684326, -4.809000015258789, -3.8336000442504883, -5.286799907684326, -5.4054999351501465, -4.7230000495910645, -3.133500099182129, -4.250699996948242, -3.994999885559082, -3.6433000564575195, -4.9344000816345215, -4.866499900817871, -4.829699993133545, -2.8345000743865967, -2.917099952697754, -5.209000110626221, -4.430300235748291, -5.025199890136719, -4.6519999504089355, -4.910099983215332, -5.373600006103516, -5.467299938201904, -5.719799995422363, -5.447500228881836, -5.468900203704834, -4.55679988861084, -4.973800182342529, -4.882599830627441, -5.201399803161621, -5.441800117492676, -5.555799961090088, -5.576000213623047, -5.621799945831299, -5.656300067901611, -5.6596999168396, -5.661300182342529, -5.7118000984191895, -5.745800018310547, -5.752099990844727, -5.772900104522705, -5.742199897766113, -5.770899772644043, -5.905099868774414, -5.918099880218506, -5.94920015335083, -5.862800121307373, -5.981400012969971, -5.98829984664917, -5.992700099945068, -5.994800090789795, -6.0269999504089355, -6.057000160217285, -6.054999828338623, -6.069399833679199, -6.071700096130371, -3.196500062942505, -4.416999816894531, -3.719599962234497, -5.499000072479248, -5.687699794769287, -3.1194000244140625, -3.213099956512451, -5.260200023651123, -5.675300121307373, -4.13730001449585, -4.3769001960754395, -5.292500019073486, -5.0432000160217285, -5.495500087738037, -5.446000099182129, -5.485499858856201, -5.180099964141846, -5.554100036621094, -5.5904998779296875, -5.378200054168701, -5.444499969482422, -3.5541999340057373, -4.131899833679199, -4.540599822998047, -4.591599941253662, -4.780799865722656, -4.947800159454346, -5.022299766540527, -5.092299938201904, -5.18310022354126, -5.224400043487549, -5.254899978637695, -5.312300205230713, -5.386899948120117, -5.384200096130371, -5.405600070953369, -5.474599838256836, -5.525700092315674, -5.537300109863281, -5.539899826049805, -5.538400173187256, -5.567399978637695, -5.541200160980225, -5.604400157928467, -5.615699768066406, -5.661799907684326, -5.6539998054504395, -5.708499908447266, -5.68149995803833, -5.764800071716309, -5.784999847412109, -4.853600025177002, -5.603799819946289, -4.592700004577637, -4.676499843597412, -4.557300090789795, -4.738800048828125, -4.728400230407715, -5.373499870300293, -4.8780999183654785, -5.49970006942749, -4.192599773406982, -4.64900016784668, -4.751800060272217, -4.803599834442139, -4.906000137329102, -4.961999893188477, -5.055699825286865, -5.138500213623047, -5.1153998374938965, -5.138999938964844, -5.356100082397461, -5.4334001541137695, -5.4359002113342285, -5.241799831390381, -5.593800067901611, -5.6427001953125, -5.657700061798096, -5.687600135803223, -5.701900005340576, -5.706600189208984, -5.721799850463867, -5.782700061798096, -5.8119001388549805, -5.866199970245361, -5.881700038909912, -5.583799839019775, -5.8968000411987305, -5.909299850463867, -5.910699844360352, -5.918300151824951, -5.71999979019165, -5.472799777984619, -5.311299800872803, -5.082799911499023, -5.222799777984619, -4.6006999015808105, -4.63100004196167, -5.318999767303467, -5.5792999267578125, -5.463900089263916, -5.584499835968018, -3.373199939727783, -4.788400173187256, -4.895400047302246, -4.984000205993652, -4.931000232696533, -5.064300060272217, -5.094799995422363, -5.320899963378906, -5.351099967956543, -5.364299774169922, -5.280900001525879, -5.388700008392334, -5.420300006866455, -5.445300102233887, -5.467599868774414, -5.55649995803833, -5.562600135803223, -5.63670015335083, -5.63670015335083, -5.695899963378906, -5.828800201416016, -5.83489990234375, -5.8429999351501465, -5.931700229644775, -5.986100196838379, -6.01669979095459, -6.0355000495910645, -6.0767998695373535, -6.082300186157227, -6.070099830627441, -3.214099884033203, -5.588799953460693, -4.758999824523926, -5.889400005340576, -4.473199844360352, -5.2530999183654785, -5.911499977111816, -4.518899917602539, -4.871600151062012, -4.979300022125244, -5.105599880218506, -5.107399940490723, -5.146900177001953, -5.15310001373291, -5.248000144958496, -3.9558000564575195, -5.25439977645874, -5.373300075531006, -5.395299911499023, -5.482399940490723, -5.5, -5.530300140380859, -5.539299964904785, -5.546299934387207, -5.487299919128418, -5.559199810028076, -5.559999942779541, -5.543900012969971, -5.622799873352051, -5.63700008392334, -5.63700008392334, -5.63700008392334, -5.63700008392334, -5.644000053405762, -5.646999835968018, -5.646999835968018, -5.729100227355957, -4.494900226593018, -3.6456000804901123, -5.194799900054932, -5.619900226593018, -5.4695000648498535, -5.414100170135498, -4.4274001121521, -4.530799865722656, -4.798600196838379, -4.90500020980835, -4.9197998046875, -4.947999954223633, -5.134900093078613, -5.307700157165527, -5.420499801635742, -5.447800159454346, -5.481400012969971, -5.540900230407715, -5.557300090789795, -5.6442999839782715, -5.6442999839782715, -5.7006001472473145, -5.718800067901611, -5.411300182342529, -5.811999797821045, -5.888199806213379, -5.898499965667725, -5.945099830627441, -5.975100040435791, -5.909999847412109, -6.00629997253418, -6.052000045776367, -6.121099948883057, -5.784999847412109, -6.220399856567383, -6.2342000007629395, -5.47790002822876, -5.791399955749512, -5.057600021362305, -5.826000213623047, -5.631400108337402, -5.459799766540527, -5.565700054168701, -5.2204999923706055, -5.643199920654297, -5.6596999168396, -4.184700012207031, -4.435699939727783, -4.894199848175049, -5.0980000495910645, -5.033400058746338, -4.927700042724609, -5.153500080108643, -5.214099884033203, -5.36870002746582, -5.51800012588501, -5.423699855804443, -5.576200008392334, -5.679900169372559, -5.68779993057251, -5.567399978637695, -5.780799865722656, -5.785099983215332, -5.737500190734863, -5.873300075531006, -5.94890022277832, -6.052199840545654, -6.083899974822998, -6.10860013961792, -6.150000095367432, -6.168600082397461, -6.177599906921387, -6.1844000816345215, -5.4440999031066895, -6.250400066375732, -6.27810001373291, -5.03980016708374, -5.57390022277832, -5.461299896240234, -5.382599830627441, -5.6930999755859375, -5.873499870300293, -5.744800090789795, -6.002600193023682, -4.905900001525879, -5.848400115966797, -5.939799785614014, -4.7519001960754395, -4.9369001388549805, -5.03879976272583, -4.535099983215332, -5.109799861907959, -5.119800090789795, -4.942599773406982, -5.099800109863281, -5.210400104522705, -5.187300205230713, -5.247000217437744, -5.315199851989746, -5.364799976348877, -5.379300117492676, -5.447000026702881, -5.486700057983398, -5.500899791717529, -5.526100158691406, -5.526100158691406, -4.573400020599365, -5.531300067901611, -5.583600044250488, -5.564700126647949, -5.58459997177124, -5.740900039672852, -5.83050012588501, -5.869699954986572, -5.925300121307373, -5.96619987487793, -5.961900234222412, -5.005499839782715, -5.518599987030029, -4.926400184631348, -3.759700059890747, -5.069499969482422, -5.2779998779296875, -5.3755998611450195, -5.46019983291626, -5.583799839019775, -5.654399871826172, -5.693900108337402, -5.8379998207092285, -5.835299968719482, -5.922800064086914, -5.9496002197265625, -6.012800216674805, -6.062900066375732, -6.069900035858154, -6.122499942779541, -6.137499809265137, -5.95389986038208, -6.1442999839782715, -6.1656999588012695, -6.176199913024902, -6.202099800109863, -6.19980001449585, -6.207499980926514, -6.436999797821045, -6.452400207519531, -6.526500225067139, -6.552199840545654, -6.610300064086914, -6.60890007019043, -6.30709981918335, -5.623199939727783, -6.315800189971924, -6.433899879455566, -4.560299873352051, -4.762499809265137, -5.250899791717529, -5.26639986038208, -4.771999835968018, -5.3933000564575195, -5.398399829864502, -5.2322001457214355, -5.816299915313721, -5.871399879455566, -5.86959981918335, -5.951600074768066, -5.999100208282471, -6.031099796295166, -6.087600231170654, -6.113999843597412, -6.14769983291626, -6.159599781036377, -6.142300128936768, -6.238399982452393, -6.332799911499023, -6.41379976272583, -6.421899795532227, -6.453499794006348, -6.459499835968018, -6.478400230407715, -6.468800067901611, -6.624899864196777, -6.657599925994873, -6.667699813842773, -6.474800109863281, -6.611599922180176, -5.087900161743164, -5.10099983215332, -5.093299865722656, -5.327300071716309, -5.295499801635742, -5.341400146484375, -5.487599849700928, -5.532100200653076, -5.616099834442139, -5.708000183105469, -5.851799964904785, -5.888199806213379, -5.980299949645996, -6.368100166320801, -6.425300121307373, -6.430600166320801, -5.941500186920166, -6.439899921417236, -6.53980016708374, -6.666500091552734, -6.7322998046875, -6.451700210571289, -6.8043999671936035, -6.504499912261963, -6.829999923706055, -6.829699993133545, -6.85860013961792, -7.0005998611450195, -7.003600120544434, -7.042300224304199, -4.7241997718811035, -6.828100204467773, -6.9217000007629395]}, \"token.table\": {\"Topic\": [4, 4, 9, 10, 3, 1, 2, 3, 5, 8, 12, 12, 4, 12, 2, 4, 9, 12, 7, 7, 6, 3, 8, 6, 1, 2, 4, 3, 1, 2, 3, 4, 6, 8, 9, 7, 11, 1, 9, 12, 11, 7, 1, 2, 7, 2, 10, 11, 4, 4, 11, 2, 4, 3, 12, 2, 4, 8, 1, 2, 4, 7, 8, 9, 10, 11, 10, 7, 12, 1, 2, 4, 1, 2, 3, 4, 5, 6, 7, 8, 2, 2, 8, 5, 2, 6, 7, 4, 9, 12, 1, 8, 1, 2, 4, 5, 6, 7, 8, 9, 10, 12, 2, 6, 7, 9, 11, 8, 6, 8, 7, 8, 10, 7, 5, 7, 8, 3, 7, 12, 1, 4, 9, 8, 4, 4, 9, 10, 11, 9, 12, 1, 2, 5, 8, 4, 5, 3, 7, 8, 5, 8, 9, 1, 2, 4, 5, 7, 4, 4, 1, 2, 7, 2, 3, 12, 5, 7, 12, 1, 2, 3, 4, 5, 6, 7, 8, 9, 2, 9, 12, 2, 3, 5, 5, 2, 10, 1, 3, 4, 9, 7, 1, 3, 5, 1, 2, 4, 5, 7, 8, 1, 5, 1, 2, 1, 2, 1, 2, 7, 1, 4, 8, 12, 2, 2, 1, 2, 3, 4, 9, 1, 2, 3, 10, 1, 2, 7, 8, 10, 2, 1, 2, 3, 4, 9, 3, 11, 1, 2, 3, 4, 5, 7, 9, 3, 6, 1, 2, 9, 11, 8, 1, 2, 7, 8, 10, 7, 6, 2, 1, 2, 3, 4, 8, 5, 1, 9, 1, 6, 8, 6, 12, 1, 2, 3, 3, 7, 12, 3, 7, 2, 2, 1, 2, 10, 4, 7, 4, 1, 3, 5, 9, 8, 10, 9, 1, 1, 2, 3, 4, 10, 5, 6, 7, 2, 2, 5, 7, 12, 12, 4, 1, 2, 3, 4, 6, 7, 8, 9, 1, 6, 7, 5, 4, 3, 6, 11, 5, 4, 3, 9, 1, 2, 4, 11, 1, 8, 2, 2, 12, 3, 1, 3, 5, 2, 12, 11, 8, 8, 1, 2, 4, 5, 7, 9, 11, 3, 10, 7, 7, 3, 6, 11, 3, 5, 9, 9, 6, 2, 12, 3, 6, 5, 5, 5, 7, 5, 7, 2, 12, 6, 6, 10, 1, 3, 6, 12, 4, 10, 4, 6, 5, 7, 1, 2, 3, 4, 9, 2, 8, 1, 2, 3, 8, 10, 8, 11, 1, 2, 6, 6, 2, 1, 2, 3, 6, 1, 7, 10, 8, 9, 5, 2, 3, 4, 5, 7, 12, 2, 9, 10, 7, 3, 3, 1, 10, 1, 11, 12, 2, 3, 4, 5, 6, 7, 5, 5, 8, 2, 11, 12, 2, 5, 6, 9, 6, 12, 11, 9, 9, 8, 5, 3, 8, 11, 5, 7, 6, 10, 10, 2, 4, 11, 1, 2, 4, 8, 8, 5, 2, 3, 4, 9, 9, 12, 1, 1, 11, 6, 12, 1, 3, 7, 10, 6, 1, 4, 10, 1, 2, 4, 6, 8, 1, 2, 5, 8, 1, 2, 4, 2, 2, 6, 5, 2, 10, 1, 4, 7, 2, 3, 1, 7, 10, 7, 7, 4, 8, 6, 1, 2, 4, 6, 7, 9, 12, 8, 1, 2, 2, 6, 2, 8, 8, 1, 1, 1, 6, 1, 2, 3, 8, 1, 9, 12, 3, 6, 1, 5, 9, 6, 6, 1, 5, 1, 2, 3, 1, 1, 3, 9, 2, 1, 9, 3, 9, 1, 4, 11, 1, 5, 9, 8, 10, 2, 4, 8, 7, 8, 10, 9, 4, 5, 4, 9, 12, 3, 2, 5, 6, 5, 7, 11, 7, 7, 6, 2, 11, 3, 10, 10, 12, 10, 1, 10, 10, 2, 6, 2, 2, 1, 3, 6, 7, 5, 11, 8, 9, 4, 6, 2, 4, 4, 10, 1, 1, 3, 8, 1, 3, 8, 1, 3, 1, 11, 11, 11, 4, 8, 2, 3, 4, 5, 7, 1, 2, 4, 7, 9, 1, 2, 3, 4, 5, 7, 8, 9, 2, 2, 11, 8, 8, 9, 2, 1, 2, 3, 6, 4, 5, 1, 5, 10, 5, 1, 4, 1, 9, 7, 3, 7, 11, 12, 11, 3, 2, 9, 1, 9, 1, 2, 5, 11, 3, 3, 8, 6], \"Freq\": [0.8610284924507141, 0.9685020446777344, 0.9398344159126282, 0.8175428509712219, 0.9235658645629883, 0.49428626894950867, 0.4552636742591858, 0.013007533736526966, 0.013007533736526966, 0.932405948638916, 0.8360074758529663, 0.5366747379302979, 0.8952920436859131, 0.7420978546142578, 0.6558911204338074, 0.027328796684741974, 0.027328796684741974, 0.24595917761325836, 0.9288801550865173, 0.9797734022140503, 0.9075859189033508, 0.9558894038200378, 0.8989171981811523, 0.9253952503204346, 0.4029186964035034, 0.4658747613430023, 0.12591210007667542, 0.9739202260971069, 0.8548348546028137, 0.13647031784057617, 0.004738552495837212, 0.000947710475884378, 0.000947710475884378, 0.000947710475884378, 0.000947710475884378, 0.8759555816650391, 0.6657729148864746, 0.9725120067596436, 0.24860355257987976, 0.7458106875419617, 0.7489493489265442, 0.9117076396942139, 0.9473862648010254, 0.030560847371816635, 0.01018694881349802, 0.9630463123321533, 0.8454484939575195, 0.8973580002784729, 0.9348891377449036, 0.3074493706226349, 0.6148987412452698, 0.9531171917915344, 0.030745716765522957, 0.9550321698188782, 0.8803437352180481, 0.06128295511007309, 0.6741124987602234, 0.18384887278079987, 0.20859766006469727, 0.20859766006469727, 0.03476627543568611, 0.3128964900970459, 0.17383138835430145, 0.03476627543568611, 0.03476627543568611, 0.8849640488624573, 0.9219905734062195, 0.7929708957672119, 0.7694597840309143, 0.6209483742713928, 0.3669240474700928, 0.009408309124410152, 0.712759256362915, 0.23328797519207, 0.006447657942771912, 0.014653767459094524, 0.015826068818569183, 0.0029307533986866474, 0.004103054758161306, 0.00879226066172123, 0.9871866106987, 0.0964236930012703, 0.867813229560852, 0.9544965028762817, 0.1065550446510315, 0.852440357208252, 0.8870168328285217, 0.9247369170188904, 0.8182517290115356, 0.4763651192188263, 0.11197824031114578, 0.7838476896286011, 0.3926781415939331, 0.3632272779941559, 0.1276203989982605, 0.019633907824754715, 0.009816953912377357, 0.04908476769924164, 0.009816953912377357, 0.019633907824754715, 0.009816953912377357, 0.009816953912377357, 0.7468987107276917, 0.05334990844130516, 0.05334990844130516, 0.05334990844130516, 0.10669981688261032, 0.9113033413887024, 0.14237117767333984, 0.7118558883666992, 0.12913888692855835, 0.7748332619667053, 0.8677483797073364, 0.9562475085258484, 0.09278756380081177, 0.09278756380081177, 0.8350880742073059, 0.9051282405853271, 0.06465201824903488, 0.8796120882034302, 0.6147596836090088, 0.09915478527545929, 0.25780245661735535, 0.9296321868896484, 0.9353214502334595, 0.9288668632507324, 0.9267488121986389, 0.5540310144424438, 0.7780896425247192, 0.9031247496604919, 0.8185465931892395, 0.8148908019065857, 0.13734114170074463, 0.027468228712677956, 0.009156076237559319, 0.9714418649673462, 0.9149593710899353, 0.9605394005775452, 0.8921100497245789, 0.9597132205963135, 0.9354285597801208, 0.7449707984924316, 0.16554905474185944, 0.8647540807723999, 0.11575448513031006, 0.002269695745781064, 0.013618174940347672, 0.002269695745781064, 0.9472408294677734, 0.9473662376403809, 0.8792615532875061, 0.04579487442970276, 0.0641128271818161, 0.1393408179283142, 0.8360449075698853, 0.5955325365066528, 0.8555637001991272, 0.09506262838840485, 0.832275927066803, 0.7136572599411011, 0.2306642085313797, 0.018478624522686005, 0.016567042097449303, 0.007646327372640371, 0.0006371939671225846, 0.007009133696556091, 0.003185969777405262, 0.0019115818431600928, 0.39986956119537354, 0.559817373752594, 0.8594162464141846, 0.012011554092168808, 0.012011554092168808, 0.9729358553886414, 0.9465771317481995, 0.48358556628227234, 0.3223903775215149, 0.4468628764152527, 0.5499851107597351, 0.8963503837585449, 0.8891225457191467, 0.8504757285118103, 0.9762291312217712, 0.994379460811615, 0.9222553968429565, 0.3950681984424591, 0.4797256588935852, 0.05643831193447113, 0.028219155967235565, 0.028219155967235565, 0.014109577983617783, 0.9482307434082031, 0.04183370992541313, 0.9877395629882812, 0.009145736694335938, 0.8821938633918762, 0.111541748046875, 0.8743540048599243, 0.09000702947378159, 0.032145366072654724, 0.18277151882648468, 0.09138575941324234, 0.5483145713806152, 0.09138575941324234, 0.9832656979560852, 0.980734646320343, 0.8185009360313416, 0.17064687609672546, 0.007550746668130159, 0.0015101493336260319, 0.0015101493336260319, 0.9191389679908752, 0.06993448734283447, 0.004995320457965136, 0.8309892416000366, 0.4684962034225464, 0.1171240508556366, 0.0585620254278183, 0.3513721525669098, 0.9270352125167847, 0.9853702187538147, 0.9003703594207764, 0.030213769525289536, 0.05438478663563728, 0.00604275381192565, 0.920310914516449, 0.9554787278175354, 0.7559424042701721, 0.79929119348526, 0.10105980932712555, 0.009187255054712296, 0.027561767026782036, 0.027561767026782036, 0.009187255054712296, 0.01837451010942459, 0.9711360335350037, 0.9612367749214172, 0.9164611101150513, 0.07978121191263199, 0.0020456721540540457, 0.7507713437080383, 0.8108733296394348, 0.5517023205757141, 0.3940730690956116, 0.035028718411922455, 0.008757179602980614, 0.8792408108711243, 0.8099014759063721, 0.952544093132019, 0.984298825263977, 0.8985766768455505, 0.08833465725183487, 0.003046022728085518, 0.003046022728085518, 0.006092045456171036, 0.8556545972824097, 0.06993195414543152, 0.8391834497451782, 0.0438232347369194, 0.9421995878219604, 0.9176459312438965, 0.9118492603302002, 0.8031234741210938, 0.13906720280647278, 0.8421291708946228, 0.015451911836862564, 0.9541773200035095, 0.8406559824943542, 0.7983760833740234, 0.9824443459510803, 0.8573667407035828, 0.9852900505065918, 0.9483718276023865, 0.9019064903259277, 0.08779620379209518, 0.7485315203666687, 0.9016257524490356, 0.8486452698707581, 0.8732325434684753, 0.9651570320129395, 0.02160799317061901, 0.007202664390206337, 0.9551960229873657, 0.8772487640380859, 0.8527066111564636, 0.8741756081581116, 0.9882920980453491, 0.4092261791229248, 0.07920506596565247, 0.5148329138755798, 0.9699540138244629, 0.7839893102645874, 0.8984828591346741, 0.11532391607761383, 0.6919434666633606, 0.9789206385612488, 0.4586879312992096, 0.3669503331184387, 0.1467801332473755, 0.8789640665054321, 0.7837505340576172, 0.9024063348770142, 0.7946210503578186, 0.13503363728523254, 0.025968007743358612, 0.025968007743358612, 0.0051936013624072075, 0.0051936013624072075, 0.0051936013624072075, 0.0051936013624072075, 0.9869396686553955, 0.8962972164154053, 0.8914778232574463, 0.8044750094413757, 0.9118115901947021, 0.9894831776618958, 0.9316008687019348, 0.874866247177124, 0.9215747714042664, 0.9714785814285278, 0.9502283930778503, 0.9354745149612427, 0.6891985535621643, 0.12162327766418457, 0.1891917586326599, 0.8312885165214539, 0.984042763710022, 0.79947429895401, 0.97474205493927, 0.95027756690979, 0.8099122643470764, 0.948026180267334, 0.00735232001170516, 0.2940928041934967, 0.698470413684845, 0.9892676472663879, 0.8352218866348267, 0.7561431527137756, 0.8549867272377014, 0.9671095013618469, 0.2857653796672821, 0.07144134491682053, 0.07144134491682053, 0.07144134491682053, 0.5715307593345642, 0.9080002307891846, 0.7142040133476257, 0.9443199038505554, 0.9366402626037598, 0.8184417486190796, 0.8193497061729431, 0.9373437166213989, 0.9270333647727966, 0.7026944756507874, 0.9752212762832642, 0.893710732460022, 0.9343787431716919, 0.9703115224838257, 0.9270333647727966, 0.9710617661476135, 0.5282378196716309, 0.9515045285224915, 0.9009106159210205, 0.9205122590065002, 0.9128458499908447, 0.22600403428077698, 0.6780120730400085, 0.9231643676757812, 0.8976443409919739, 0.9838801026344299, 0.5835320949554443, 0.9190183877944946, 0.9192922711372375, 0.9291840195655823, 0.7431046962738037, 0.024770155549049377, 0.2229313999414444, 0.520519495010376, 0.9567282795906067, 0.7394793629646301, 0.948804497718811, 0.9192922711372375, 0.9567845463752747, 0.910294234752655, 0.9708360433578491, 0.01565864495933056, 0.00782932247966528, 0.00782932247966528, 0.963690996170044, 0.9910967350006104, 0.9497984647750854, 0.5324374437332153, 0.09583874046802521, 0.3514087200164795, 0.010648748837411404, 0.7850790619850159, 0.9453569650650024, 0.614879310131073, 0.5200405120849609, 0.015758803114295006, 0.4570053219795227, 0.9803704619407654, 0.9832934141159058, 0.9212533831596375, 0.02444453537464142, 0.051944635808467865, 0.0015277834609150887, 0.23316513001918793, 0.23316513001918793, 0.582912802696228, 0.8426445126533508, 0.10533056408166885, 0.9148892760276794, 0.5007320046424866, 0.06259150058031082, 0.18777450919151306, 0.12518300116062164, 0.06259150058031082, 0.06259150058031082, 0.9324557185173035, 0.025201506912708282, 0.7538484334945679, 0.9617688655853271, 0.965822160243988, 0.9583684802055359, 0.9759554266929626, 0.7796465754508972, 0.9719710350036621, 0.8909752368927002, 0.49814775586128235, 0.07706398516893387, 0.15412797033786774, 0.038531992584466934, 0.07706398516893387, 0.1155959814786911, 0.5009159445762634, 0.8730493187904358, 0.9776495695114136, 0.787371039390564, 0.1362612247467041, 0.8175673484802246, 0.5284450650215149, 0.2653971314430237, 0.026539713144302368, 0.6634928584098816, 0.026539713144302368, 0.9192922711372375, 0.8215240240097046, 0.9410275220870972, 0.8774290680885315, 0.9125375747680664, 0.9505501985549927, 0.8730493187904358, 0.9735816717147827, 0.9395330548286438, 0.9470688104629517, 0.9106565713882446, 0.9157717823982239, 0.9455730319023132, 0.8699518442153931, 0.8693239688873291, 0.36554184556007385, 0.5940055251121521, 0.8393935561180115, 0.8194289803504944, 0.13933610916137695, 0.036492787301540375, 0.0033175263088196516, 0.8061383366584778, 0.9178215861320496, 0.37680596113204956, 0.3989710211753845, 0.22165057063102722, 0.921377956867218, 0.9204404354095459, 0.8447697758674622, 0.9937495589256287, 0.9715350270271301, 0.8516941666603088, 0.9610394239425659, 0.815026044845581, 0.952863335609436, 0.018149778246879578, 0.027224667370319366, 0.7009415030479431, 0.9379191398620605, 0.9756125807762146, 0.9791083931922913, 0.7100629806518555, 0.1970960646867752, 0.6569868922233582, 0.02189956232905388, 0.02189956232905388, 0.1094978079199791, 0.017159514129161835, 0.9351934790611267, 0.025739269331097603, 0.008579757064580917, 0.347886323928833, 0.6055799126625061, 0.038654036819934845, 0.9634918570518494, 0.9973644018173218, 0.9605947136878967, 0.934109628200531, 0.7101895809173584, 0.23672986030578613, 0.9923075437545776, 0.9140573143959045, 0.9000416994094849, 0.9674108624458313, 0.9346539974212646, 0.09502661228179932, 0.8552395105361938, 0.8270756602287292, 0.9078003168106079, 0.9186094403266907, 0.9066106677055359, 0.9250970482826233, 0.9570245146751404, 0.47916990518569946, 0.11979247629642487, 0.05989623814821243, 0.05989623814821243, 0.05989623814821243, 0.1796887069940567, 0.05989623814821243, 0.918861985206604, 0.9694584012031555, 0.9818587303161621, 0.9927380681037903, 0.9192922711372375, 0.9764699339866638, 0.961051344871521, 0.8807912468910217, 0.9807333946228027, 0.966705322265625, 0.86607825756073, 0.12198285013437271, 0.7634422183036804, 0.22363458573818207, 0.0038557688239961863, 0.0077115376479923725, 0.9810722470283508, 0.934114933013916, 0.8698068857192993, 0.9871920943260193, 0.9819900393486023, 0.9854745268821716, 0.8148444890975952, 0.9697215557098389, 0.9491055011749268, 0.8749585151672363, 0.984766960144043, 0.9329234957695007, 0.9779385924339294, 0.0018347816076129675, 0.018347816541790962, 0.9801244139671326, 0.945638120174408, 0.022381966933608055, 0.027977459132671356, 0.9623854160308838, 0.0479532890021801, 0.9590657949447632, 0.048113591969013214, 0.914158284664154, 0.9861449599266052, 0.9882790446281433, 0.9082422256469727, 0.9715831875801086, 0.9808018207550049, 0.9296419024467468, 0.8256516456604004, 0.8636544942855835, 0.12097383290529251, 0.060486916452646255, 0.7863299250602722, 0.916731059551239, 0.8577085733413696, 0.783118486404419, 0.9664352536201477, 0.9522440433502197, 0.8117095232009888, 0.8844717741012573, 0.8533560633659363, 0.7095670700073242, 0.9925863146781921, 0.11874168366193771, 0.8311917781829834, 0.9626175761222839, 0.9221819043159485, 0.9546822309494019, 0.44638556241989136, 0.9767172932624817, 0.9431788921356201, 0.9466447830200195, 0.09122030436992645, 0.9122030138969421, 0.9428391456604004, 0.7652776837348938, 0.8701464533805847, 0.7878381013870239, 0.8727946281433105, 0.9629620909690857, 0.6881531476974487, 0.9791945219039917, 0.6014044284820557, 0.37983438372612, 0.9615370035171509, 0.9505426287651062, 0.9975020289421082, 0.931792676448822, 0.951830267906189, 0.9370296597480774, 0.9772400856018066, 0.7916627526283264, 0.9259060025215149, 0.9444020986557007, 0.9399367570877075, 0.8966629505157471, 0.9804166555404663, 0.9327016472816467, 0.9558465480804443, 0.8581653833389282, 0.9826462268829346, 0.6248027682304382, 0.3644682765007019, 0.9772957563400269, 0.9894633293151855, 0.0070424433797597885, 0.0035212216898798943, 0.985098659992218, 0.9574936628341675, 0.9781790375709534, 0.6218039393424988, 0.7995151877403259, 0.7816133499145508, 0.9474486112594604, 0.8570550680160522, 0.7254390120506287, 0.09360503405332565, 0.11700628697872162, 0.023401258513331413, 0.04680251702666283, 0.8895610570907593, 0.07832612842321396, 0.011189447715878487, 0.011189447715878487, 0.9167070388793945, 0.44819119572639465, 0.01723812334239483, 0.0861906185746193, 0.27580997347831726, 0.01723812334239483, 0.0861906185746193, 0.01723812334239483, 0.03447624668478966, 0.9897156953811646, 0.9659401178359985, 0.7739840149879456, 0.9121435284614563, 0.9049074053764343, 0.873602569103241, 0.9748188853263855, 0.04370607063174248, 0.9461079239845276, 0.005141890607774258, 0.005141890607774258, 0.908606767654419, 0.9389415383338928, 0.9832720160484314, 0.017558427527546883, 0.6932159662246704, 0.9536947011947632, 0.9948120713233948, 0.9166979789733887, 0.9896419048309326, 0.8741756081581116, 0.8486452698707581, 0.976921021938324, 0.9273898005485535, 0.44981127977371216, 0.5822449326515198, 0.6274648904800415, 0.9693046808242798, 0.975637674331665, 0.9201143383979797, 0.9911078214645386, 0.8472797870635986, 0.8699833154678345, 0.11072514951229095, 0.015817878767848015, 0.835335373878479, 0.9544265270233154, 0.947670578956604, 0.9283849596977234, 0.9442033171653748], \"Term\": [\"acessiveis prato\", \"aconchegante bom\", \"adorar camarao\", \"agilidade atendimento\", \"alar atendimento\", \"alar bom\", \"alar bom\", \"alar bom\", \"alar bom\", \"alar prato\", \"alar restaurante\", \"alho oleo\", \"almocar jantar\", \"almoco aniversariar\", \"almoco bom\", \"almoco bom\", \"almoco bom\", \"almoco bom\", \"almoco familia\", \"almoco jantar\", \"almoco semana\", \"alto padrao\", \"alto qualidade\", \"amar bom\", \"ambientar aconchegante\", \"ambientar aconchegante\", \"ambientar aconchegante\", \"ambientar amplo\", \"ambientar bom\", \"ambientar bom\", \"ambientar bom\", \"ambientar bom\", \"ambientar bom\", \"ambientar bom\", \"ambientar bom\", \"ambientar elegante\", \"ambientar incrivel\", \"ambientar lindar\", \"ambientar localizar\", \"ambientar localizar\", \"ambientar privilegiar\", \"ambientar requintar\", \"ambientar super\", \"ambientar super\", \"ambientar super\", \"amigo bom\", \"amigo casar\", \"amigo comemorar\", \"amigo comido\", \"amigo romantico\", \"amigo romantico\", \"amplo bom\", \"amplo bom\", \"atar bom\", \"atencao prato\", \"atencioso comido\", \"atencioso comido\", \"atencioso comido\", \"atencioso prestativo\", \"atencioso prestativo\", \"atencioso prestativo\", \"atencioso prestativo\", \"atencioso prestativo\", \"atencioso prestativo\", \"atencioso prestativo\", \"atender bom\", \"atender muito\", \"atendido pedrar\", \"atendido prato\", \"atendimento ambientar\", \"atendimento ambientar\", \"atendimento ambientar\", \"atendimento bom\", \"atendimento bom\", \"atendimento bom\", \"atendimento bom\", \"atendimento bom\", \"atendimento bom\", \"atendimento bom\", \"atendimento bom\", \"atendimento cardapio\", \"atendimento cordial\", \"atendimento cordial\", \"atendimento corte\", \"atendimento demorar\", \"atendimento demorar\", \"atendimento diferenciar\", \"atendimento eficiente\", \"atendimento espaco\", \"atendimento especialmente\", \"atendimento excelencia\", \"atendimento excelencia\", \"atendimento garcom\", \"atendimento garcom\", \"atendimento garcom\", \"atendimento garcom\", \"atendimento garcom\", \"atendimento garcom\", \"atendimento garcom\", \"atendimento garcom\", \"atendimento garcom\", \"atendimento garcom\", \"atendimento garcons\", \"atendimento garcons\", \"atendimento garcons\", \"atendimento garcons\", \"atendimento garcons\", \"atendimento gentil\", \"atendimento incrivel\", \"atendimento incrivel\", \"atendimento iorlando\", \"atendimento iorlando\", \"atendimento lentar\", \"atendimento otimos\", \"atendimento pedrar\", \"atendimento pedrar\", \"atendimento pedrar\", \"atendimento preco\", \"atendimento preco\", \"atendimento preparar\", \"atendimento rapido\", \"atendimento rapido\", \"atendimento rapido\", \"atendimento reservar\", \"atendimento sensacional\", \"atendimento super\", \"baratar prato\", \"bater papar\", \"bebido chopp\", \"belissima visto\", \"belo localizacao\", \"belo visto\", \"belo visto\", \"belo visto\", \"belo visto\", \"beneficiar bom\", \"beneficiar nao\", \"beneficiar prato\", \"bom acolhedor\", \"bom adorar\", \"bom apresentacao\", \"bom beirar\", \"bom beirar\", \"bom bom\", \"bom bom\", \"bom bom\", \"bom bom\", \"bom bom\", \"bom caipirinha\", \"bom camaroes\", \"bom cardapio\", \"bom cardapio\", \"bom cardapio\", \"bom cartar\", \"bom cartar\", \"bom casamentar\", \"bom chopp\", \"bom chopp\", \"bom comemorar\", \"bom comido\", \"bom comido\", \"bom comido\", \"bom comido\", \"bom comido\", \"bom comido\", \"bom comido\", \"bom comido\", \"bom comido\", \"bom cozinhar\", \"bom cozinhar\", \"bom culinaria\", \"bom custar\", \"bom custar\", \"bom custar\", \"bom decoracao\", \"bom demorar\", \"bom demorar\", \"bom destacar\", \"bom destacar\", \"bom dica\", \"bom encontrar\", \"bom equipar\", \"bom estacionamento\", \"bom farto\", \"bom filar\", \"bom garcom\", \"bom garcom\", \"bom garcom\", \"bom garcom\", \"bom garcom\", \"bom garcom\", \"bom gostar\", \"bom gostar\", \"bom localizacao\", \"bom localizacao\", \"bom nao\", \"bom nao\", \"bom opcao\", \"bom opcao\", \"bom opcao\", \"bom parabens\", \"bom parabens\", \"bom parabens\", \"bom parabens\", \"bom peixe\", \"bom porcoes\", \"bom prato\", \"bom prato\", \"bom prato\", \"bom prato\", \"bom prato\", \"bom preco\", \"bom preco\", \"bom preco\", \"bom problema\", \"bom profissional\", \"bom profissional\", \"bom profissional\", \"bom profissional\", \"bom provar\", \"bom p\\u00f4r\", \"bom qualidade\", \"bom qualidade\", \"bom qualidade\", \"bom qualidade\", \"bom rapido\", \"bom recepcao\", \"bom recomendacao\", \"bom recomendar\", \"bom recomendar\", \"bom recomendar\", \"bom recomendar\", \"bom recomendar\", \"bom recomendar\", \"bom recomendar\", \"bom relacao\", \"bom reservar\", \"bom restaurante\", \"bom restaurante\", \"bom restaurante\", \"bom romantico\", \"bom simpatico\", \"bom sobremesa\", \"bom sobremesa\", \"bom sobremesa\", \"bom sobremesa\", \"bom sofisticar\", \"bom sugestao\", \"bom temperar\", \"bom valer\", \"bom visto\", \"bom visto\", \"bom visto\", \"bom visto\", \"bom visto\", \"bom visual\", \"bom voltar\", \"bom voltar\", \"bonito bom\", \"bonito bom\", \"buffet bom\", \"buffet comido\", \"camarao alho\", \"camarao bom\", \"camarao bom\", \"camarao bom\", \"camarao camarao\", \"camarao crosta\", \"camarao fantastico\", \"camarao imperial\", \"camarao iracema\", \"camarao lagosta\", \"camarao nao\", \"camarao servir\", \"camarao servir\", \"camarao sugerir\", \"camaroes peixe\", \"camaroes verdade\", \"cardapio precos\", \"cardapio variar\", \"cardapio variar\", \"cardapio variar\", \"caro bom\", \"caro preco\", \"caro p\\u00f4r\", \"caro verdade\", \"carro chefe\", \"cartar vinho\", \"cartar vinho\", \"cartar vinho\", \"casal familia\", \"chegar restaurante\", \"chopp gelar\", \"clima bom\", \"clima bom\", \"cocar sobremesa\", \"comemorar aniversariar\", \"comemorar aniversariar\", \"comemorar aniversariar\", \"comemorar datar\", \"comemorar gostar\", \"comido atendido\", \"comido atendimento\", \"comido atendimento\", \"comido atendimento\", \"comido atendimento\", \"comido atendimento\", \"comido atendimento\", \"comido atendimento\", \"comido atendimento\", \"comido bebido\", \"comido cartar\", \"comido deliciar\", \"comido familia\", \"comido fantastica\", \"comido farto\", \"comido incrivel\", \"comido indicar\", \"comido lindo\", \"comido lugar\", \"comido nao\", \"comido preco\", \"comido qualidade\", \"comido qualidade\", \"comido qualidade\", \"comido sabor\", \"comido servir\", \"completar bom\", \"confortavel bom\", \"conhecer deixar\", \"conhecer lugar\", \"costumar cheio\", \"custar beneficiar\", \"custar beneficiar\", \"custar beneficiar\", \"datar comemorativo\", \"datar especial\", \"deixar bom\", \"deliciar ambientar\", \"deliciar camarao\", \"deliciar prato\", \"deliciar prato\", \"deliciar prato\", \"deliciar prato\", \"deliciar prato\", \"deliciar restaurante\", \"deliciar visto\", \"demais bom\", \"demorar servir\", \"descontraido ambientar\", \"descontraido bom\", \"destacar camarao\", \"detalhar sabados\", \"dispensar comentarios\", \"diverso opcoes\", \"diverso prato\", \"dividir atar\", \"dividir prato\", \"domingo movimentar\", \"drinks bom\", \"embalagem viagem\", \"enorme prato\", \"entrar camarao\", \"entrar camaroes\", \"entrar pastel\", \"especial atendimento\", \"especial atendimento\", \"especial garcom\", \"especialidade fruto\", \"especializar fruto\", \"esperar cercar\", \"esperar esperar\", \"esperar jantar\", \"esperar longo\", \"esperar mesa\", \"esperar mesa\", \"esperar mesa\", \"excelencia recomendar\", \"excepcional comido\", \"existir opcoes\", \"experimentar camarao\", \"experimentar fruto\", \"facil acesso\", \"falar prato\", \"familia amigo\", \"familia amigo\", \"familia amigo\", \"familia amigo\", \"familia reunir\", \"famoso camarao\", \"farto atendimento\", \"farto prato\", \"farto prato\", \"farto prato\", \"farto prato\", \"fechar chave\", \"ficar bom\", \"ficar satisfazer\", \"filar esperar\", \"filar esperar\", \"filar esperar\", \"fim semana\", \"finar semana\", \"fruto mar\", \"fruto mar\", \"fruto mar\", \"fruto mar\", \"garcom eliomario\", \"garcom eliomario\", \"garcom eliomario\", \"garcom janiel\", \"garcom janiel\", \"garcom marcelo\", \"garcom marco\", \"garcom marco\", \"garcom marco\", \"garcom marco\", \"garcom marco\", \"garcom marco\", \"garcom queiroz\", \"garcom queiroz\", \"garcon queiroz\", \"garcons atencioso\", \"geralmente prato\", \"gostar ambientar\", \"gostar camarao\", \"gostar comido\", \"gostar fruto\", \"gostar ir\", \"gostar mesa\", \"happy hour\", \"happy hour\", \"happy hour\", \"happy hour\", \"happy hour\", \"happy hour\", \"incrivel belo\", \"incrivel visto\", \"indicar amigo\", \"indicar camarao\", \"indicar camarao\", \"ir adorar\", \"jantar bom\", \"jantar bom\", \"jantar bom\", \"jantar bom\", \"jantar cartar\", \"jantar restaurante\", \"jantar romantico\", \"justar atendimento\", \"justar bom\", \"lagosta bom\", \"lembrar restaurante\", \"lindar bom\", \"lindo bom\", \"localizacao privilegiar\", \"localizar beirar\", \"localizar cardapio\", \"longo filar\", \"lotar comido\", \"lotar esperar\", \"lugar aconchegante\", \"lugar aconchegante\", \"lugar amigo\", \"lugar bom\", \"lugar bom\", \"lugar bom\", \"lugar bom\", \"lugar diferenciar\", \"lugar especial\", \"lugar lindar\", \"lugar lindar\", \"lugar lindar\", \"lugar nao\", \"lugar restaurante\", \"lugar visto\", \"mar bom\", \"mar prato\", \"mar precos\", \"mar sensacional\", \"marco atencioso\", \"melhorar restaurante\", \"melhorar restaurante\", \"melhorar restaurante\", \"molhar mostarda\", \"movimentar filar\", \"muito opcoes\", \"muito variedade\", \"musicar alto\", \"musicar ambientar\", \"musicar ambientar\", \"musicar ambientar\", \"musicar ambientar\", \"musicar ambientar\", \"musicar bom\", \"musicar bom\", \"musicar bom\", \"musicar bom\", \"musicar viver\", \"musicar viver\", \"musicar viver\", \"nao atendimento\", \"nao deixar\", \"nao demorar\", \"nao especial\", \"nao filar\", \"nao filar\", \"nao gostar\", \"nao perder\", \"opcao almoco\", \"opcoes cardapio\", \"opcoes fruto\", \"otimas comido\", \"otimas comido\", \"otimas entrar\", \"otimas opcoes\", \"otimos drinks\", \"padrao qualidade\", \"parar obrigatoria\", \"pastel camarao\", \"patrick garcom\", \"patrick garcom\", \"patrick garcom\", \"patrick garcom\", \"patrick garcom\", \"patrick garcom\", \"patrick garcom\", \"pedrar bom\", \"peixe fruto\", \"peno conferir\", \"peno conhecer\", \"peno enfrentar\", \"peno visitar\", \"pensar lugar\", \"petit gateau\", \"porcoes generoso\", \"porcoes servir\", \"prato atendimento\", \"prato atendimento\", \"prato camarao\", \"prato camarao\", \"prato camarao\", \"prato camarao\", \"prato camaroes\", \"prato caro\", \"prato elaborar\", \"prato fruto\", \"prato gostar\", \"prato nao\", \"prato oferecido\", \"prato parecer\", \"prato principal\", \"prato redar\", \"prato restaurante\", \"prato sabor\", \"prato servir\", \"prato servir\", \"prato servir\", \"prato visto\", \"preco justar\", \"preco justar\", \"preco justar\", \"preco nao\", \"preco prato\", \"preco prato\", \"preco razoavel\", \"preco razoavel\", \"preco salgar\", \"precos acessiveis\", \"precos condizente\", \"precos justo\", \"precos razoaveis\", \"preferir apesar\", \"prestativo bom\", \"prestativo comido\", \"prestativo educar\", \"prestativo educar\", \"prestativo educar\", \"prestativo super\", \"qualidade preco\", \"queiroz atender\", \"rapido comido\", \"rapido eficiente\", \"razoaveis prato\", \"receber bom\", \"recomendar ambientar\", \"recomendar amigo\", \"recomendar camarao\", \"recomendar demais\", \"recomendar demais\", \"recomendar detalhar\", \"recomendar gostar\", \"recomendar prato\", \"recomendar procurar\", \"recomendar restaurante\", \"recomendar voltar\", \"redar pescador\", \"refeicao bom\", \"refeicao bom\", \"relacao custar\", \"reservar antecipar\", \"reservar chegar\", \"reservar esperar\", \"reservar filar\", \"reservar nao\", \"restaurante aconchegante\", \"restaurante ambientar\", \"restaurante bonito\", \"restaurante bonito\", \"restaurante cheio\", \"restaurante especializar\", \"restaurante fruto\", \"restaurante lindar\", \"restaurante lotar\", \"restaurante nao\", \"restaurante super\", \"romantico ambientar\", \"sabor bom\", \"sair baratar\", \"seguir padrao\", \"semana bom\", \"sensacional valer\", \"servico comido\", \"servico rapido\", \"servir alar\", \"servir ambientar\", \"servir atar\", \"servir atar\", \"servir atendimento\", \"servir bom\", \"servir bom\", \"servir bom\", \"servir preco\", \"servir servir\", \"servir tranquilamente\", \"shopping atendimento\", \"show bolar\", \"simpatia atencao\", \"simplesmente bom\", \"sobremesa torto\", \"super atencioso\", \"super atencioso\", \"super atencioso\", \"super atencioso\", \"super atencioso\", \"super bom\", \"super bom\", \"super bom\", \"super bom\", \"super rapido\", \"super recomendar\", \"super recomendar\", \"super recomendar\", \"super recomendar\", \"super recomendar\", \"super recomendar\", \"super recomendar\", \"super recomendar\", \"super servir\", \"tambem atendimento\", \"tornar especial\", \"tradicional camarao\", \"tradicional prato\", \"tranquilamente dividir\", \"unico problema\", \"valer peno\", \"valer peno\", \"valer peno\", \"valer peno\", \"valer visitar\", \"variar alar\", \"variar bom\", \"variar bom\", \"variar menu\", \"variar opcoes\", \"variar prato\", \"variedade opcoes\", \"variedade prato\", \"verdade sair\", \"verdade sobremesa\", \"vinho bom\", \"vinho completar\", \"vinho escolher\", \"vir almoco\", \"vir nao\", \"visto alar\", \"visto atendimento\", \"visto beirar\", \"visto comido\", \"visto fantastica\", \"visto lindo\", \"visto lindo\", \"visto lindo\", \"visto panoramica\", \"visto privilegiar\", \"visto pro\", \"visto recomendar\", \"visual lindar\"]}, \"R\": 30, \"lambda.step\": 0.01, \"plot.opts\": {\"xlab\": \"PC1\", \"ylab\": \"PC2\"}, \"topic.order\": [9, 3, 6, 7, 11, 8, 10, 5, 1, 2, 4, 12]};\n",
       "\n",
       "function LDAvis_load_lib(url, callback){\n",
       "  var s = document.createElement('script');\n",
       "  s.src = url;\n",
       "  s.async = true;\n",
       "  s.onreadystatechange = s.onload = callback;\n",
       "  s.onerror = function(){console.warn(\"failed to load library \" + url);};\n",
       "  document.getElementsByTagName(\"head\")[0].appendChild(s);\n",
       "}\n",
       "\n",
       "if(typeof(LDAvis) !== \"undefined\"){\n",
       "   // already loaded: just create the visualization\n",
       "   !function(LDAvis){\n",
       "       new LDAvis(\"#\" + \"ldavis_el533219518230105767154188458\", ldavis_el533219518230105767154188458_data);\n",
       "   }(LDAvis);\n",
       "}else if(typeof define === \"function\" && define.amd){\n",
       "   // require.js is available: use it to load d3/LDAvis\n",
       "   require.config({paths: {d3: \"https://cdnjs.cloudflare.com/ajax/libs/d3/3.5.5/d3.min\"}});\n",
       "   require([\"d3\"], function(d3){\n",
       "      window.d3 = d3;\n",
       "      LDAvis_load_lib(\"https://cdn.rawgit.com/bmabey/pyLDAvis/files/ldavis.v1.0.0.js\", function(){\n",
       "        new LDAvis(\"#\" + \"ldavis_el533219518230105767154188458\", ldavis_el533219518230105767154188458_data);\n",
       "      });\n",
       "    });\n",
       "}else{\n",
       "    // require.js not available: dynamically load d3 & LDAvis\n",
       "    LDAvis_load_lib(\"https://cdnjs.cloudflare.com/ajax/libs/d3/3.5.5/d3.min.js\", function(){\n",
       "         LDAvis_load_lib(\"https://cdn.rawgit.com/bmabey/pyLDAvis/files/ldavis.v1.0.0.js\", function(){\n",
       "                 new LDAvis(\"#\" + \"ldavis_el533219518230105767154188458\", ldavis_el533219518230105767154188458_data);\n",
       "            })\n",
       "         });\n",
       "}\n",
       "</script>"
      ],
      "text/plain": [
       "PreparedData(topic_coordinates=              x         y  topics  cluster       Freq\n",
       "topic                                                \n",
       "8      0.360165  0.099869       1        1  41.249771\n",
       "2      0.209369 -0.179316       2        1  17.944677\n",
       "5     -0.010781  0.135092       3        1   7.579144\n",
       "6     -0.025334 -0.015893       4        1   5.197978\n",
       "10    -0.041187 -0.001059       5        1   4.702354\n",
       "7     -0.063737 -0.000612       6        1   4.447481\n",
       "9     -0.051476 -0.006355       7        1   4.202065\n",
       "4     -0.054232 -0.013713       8        1   4.047775\n",
       "0     -0.073714 -0.002142       9        1   3.631127\n",
       "1     -0.083951 -0.006556      10        1   2.642868\n",
       "3     -0.083664 -0.003163      11        1   2.282948\n",
       "11    -0.081459 -0.006154      12        1   2.071811, topic_info=     Category         Freq                       Term        Total  loglift  \\\n",
       "80    Default   388.000000                 valer peno   388.000000  30.0000   \n",
       "8     Default  1055.000000              ambientar bom  1055.000000  29.0000   \n",
       "97    Default   545.000000               prato servir   545.000000  28.0000   \n",
       "57    Default   654.000000                  fruto mar   654.000000  27.0000   \n",
       "205   Default   136.000000          custar beneficiar   136.000000  26.0000   \n",
       "0     Default  1706.000000            atendimento bom  1706.000000  25.0000   \n",
       "38    Default   258.000000                camarao bom   258.000000  24.0000   \n",
       "189   Default   126.000000              filar esperar   126.000000  23.0000   \n",
       "164   Default   109.000000                  bom farto   109.000000  22.0000   \n",
       "1     Default  1569.000000                 bom comido  1569.000000  21.0000   \n",
       "203   Default    83.000000                 bom custar    83.000000  20.0000   \n",
       "36    Default   662.000000                  bom prato   662.000000  19.0000   \n",
       "116   Default   488.000000            bom restaurante   488.000000  18.0000   \n",
       "100   Default   283.000000                 servir bom   283.000000  17.0000   \n",
       "864   Default    61.000000                prato fruto    61.000000  16.0000   \n",
       "158   Default    95.000000                 nao deixar    95.000000  15.0000   \n",
       "136   Default   440.000000                    bom bom   440.000000  14.0000   \n",
       "170   Default    96.000000                servir atar    96.000000  13.0000   \n",
       "425   Default   116.000000                musicar bom   116.000000  12.0000   \n",
       "2219  Default    45.000000                 bonito bom    45.000000  11.0000   \n",
       "356   Default    75.000000               cartar vinho    75.000000  10.0000   \n",
       "98    Default   178.000000               preco justar   178.000000   9.0000   \n",
       "24    Default    40.000000           aconchegante bom    40.000000   8.0000   \n",
       "28    Default   301.000000                  lugar bom   301.000000   7.0000   \n",
       "421   Default    93.000000                farto prato    93.000000   6.0000   \n",
       "2121  Default    31.000000      restaurante ambientar    31.000000   5.0000   \n",
       "26    Default   328.000000                  bom visto   328.000000   4.0000   \n",
       "213   Default    81.000000          prato atendimento    81.000000   3.0000   \n",
       "130   Default    69.000000                  bom valer    69.000000   2.0000   \n",
       "2814  Default    41.000000         recomendar camarao    41.000000   1.0000   \n",
       "...       ...          ...                        ...          ...      ...   \n",
       "4962  Topic12     5.050311              bom culinaria     5.817903   3.7353   \n",
       "2394  Topic12     5.213536              bom comemorar     6.007623   3.7350   \n",
       "2842  Topic12     4.979281             prato elaborar     5.748403   3.7331   \n",
       "75    Topic12     4.302233           reservar esperar     5.077185   3.7111   \n",
       "1943  Topic12     4.114815             conhecer lugar     4.938807   3.6942   \n",
       "4141  Topic12     3.783502            comemorar datar     4.550812   3.6921   \n",
       "649   Topic12     3.451379           recomendar amigo     4.227930   3.6738   \n",
       "560   Topic12     2.989053         camarao fantastico     3.757627   3.6479   \n",
       "71    Topic12     2.881983         jantar restaurante     3.651750   3.6400   \n",
       "1824  Topic12     2.628449              atencao prato     3.407760   3.6171   \n",
       "2643  Topic12     1.783555           comemorar gostar     2.551832   3.5185   \n",
       "2321  Topic12     1.684455            marco atencioso     2.453909   3.5005   \n",
       "3477  Topic12     1.675578           belo localizacao     2.443355   3.4995   \n",
       "1469  Topic12     2.732472        ambientar localizar     4.022469   3.4901   \n",
       "3190  Topic12     1.659983               camarao alho     2.490277   3.4712   \n",
       "2560  Topic12     1.502211       atendimento preparar     2.273730   3.4623   \n",
       "2923  Topic12     1.323426  atendimento especialmente     2.099230   3.4154   \n",
       "2644  Topic12     1.239173                gostar mesa     2.007437   3.3943   \n",
       "1493  Topic12     1.640551        almoco aniversariar     2.695062   3.3804   \n",
       "3338  Topic12     1.152910      excelencia recomendar     1.921158   3.3661   \n",
       "1525  Topic12     1.556160             atendido prato     2.599226   3.3638   \n",
       "2497  Topic12     1.123834                  ir adorar     1.892344   3.3557   \n",
       "2317  Topic12     1.124199           embalagem viagem     1.893087   3.3556   \n",
       "3187  Topic12     1.092104                  alho oleo     1.863326   3.3425   \n",
       "757   Topic12     0.947540                 vir almoco     1.717490   3.2820   \n",
       "70    Topic12     0.944667             esperar cercar     1.713702   3.2812   \n",
       "825   Topic12     0.908836             bom casamentar     1.679169   3.2629   \n",
       "712   Topic12     9.230902                 almoco bom    36.591438   2.4995   \n",
       "1451  Topic12     1.125989               garcom marco    15.976609   1.2243   \n",
       "563   Topic12     1.025342             patrick garcom    16.695539   1.0866   \n",
       "\n",
       "      logprob  \n",
       "80    30.0000  \n",
       "8     29.0000  \n",
       "97    28.0000  \n",
       "57    27.0000  \n",
       "205   26.0000  \n",
       "0     25.0000  \n",
       "38    24.0000  \n",
       "189   23.0000  \n",
       "164   22.0000  \n",
       "1     21.0000  \n",
       "203   20.0000  \n",
       "36    19.0000  \n",
       "116   18.0000  \n",
       "100   17.0000  \n",
       "864   16.0000  \n",
       "158   15.0000  \n",
       "136   14.0000  \n",
       "170   13.0000  \n",
       "425   12.0000  \n",
       "2219  11.0000  \n",
       "356   10.0000  \n",
       "98     9.0000  \n",
       "24     8.0000  \n",
       "28     7.0000  \n",
       "421    6.0000  \n",
       "2121   5.0000  \n",
       "26     4.0000  \n",
       "213    3.0000  \n",
       "130    2.0000  \n",
       "2814   1.0000  \n",
       "...       ...  \n",
       "4962  -5.3273  \n",
       "2394  -5.2955  \n",
       "2842  -5.3414  \n",
       "75    -5.4876  \n",
       "1943  -5.5321  \n",
       "4141  -5.6161  \n",
       "649   -5.7080  \n",
       "560   -5.8518  \n",
       "71    -5.8882  \n",
       "1824  -5.9803  \n",
       "2643  -6.3681  \n",
       "2321  -6.4253  \n",
       "3477  -6.4306  \n",
       "1469  -5.9415  \n",
       "3190  -6.4399  \n",
       "2560  -6.5398  \n",
       "2923  -6.6665  \n",
       "2644  -6.7323  \n",
       "1493  -6.4517  \n",
       "3338  -6.8044  \n",
       "1525  -6.5045  \n",
       "2497  -6.8300  \n",
       "2317  -6.8297  \n",
       "3187  -6.8586  \n",
       "757   -7.0006  \n",
       "70    -7.0036  \n",
       "825   -7.0423  \n",
       "712   -4.7242  \n",
       "1451  -6.8281  \n",
       "563   -6.9217  \n",
       "\n",
       "[507 rows x 6 columns], token_table=       Topic      Freq                    Term\n",
       "term                                          \n",
       "9316       4  0.861028        acessiveis prato\n",
       "24         4  0.968502        aconchegante bom\n",
       "2589       9  0.939834          adorar camarao\n",
       "2916      10  0.817543   agilidade atendimento\n",
       "3140       3  0.923566        alar atendimento\n",
       "353        1  0.494286                alar bom\n",
       "353        2  0.455264                alar bom\n",
       "353        3  0.013008                alar bom\n",
       "353        5  0.013008                alar bom\n",
       "3040       8  0.932406              alar prato\n",
       "1204      12  0.836007        alar restaurante\n",
       "3187      12  0.536675               alho oleo\n",
       "7743       4  0.895292          almocar jantar\n",
       "1493      12  0.742098     almoco aniversariar\n",
       "712        2  0.655891              almoco bom\n",
       "712        4  0.027329              almoco bom\n",
       "712        9  0.027329              almoco bom\n",
       "712       12  0.245959              almoco bom\n",
       "428        7  0.928880          almoco familia\n",
       "1708       7  0.979773           almoco jantar\n",
       "5999       6  0.907586           almoco semana\n",
       "2187       3  0.955889             alto padrao\n",
       "4076       8  0.898917          alto qualidade\n",
       "5707       6  0.925395                amar bom\n",
       "152        1  0.402919  ambientar aconchegante\n",
       "152        2  0.465875  ambientar aconchegante\n",
       "152        4  0.125912  ambientar aconchegante\n",
       "4346       3  0.973920         ambientar amplo\n",
       "8          1  0.854835           ambientar bom\n",
       "8          2  0.136470           ambientar bom\n",
       "...      ...       ...                     ...\n",
       "80         6  0.005142              valer peno\n",
       "1444       4  0.908607           valer visitar\n",
       "2010       5  0.938942             variar alar\n",
       "3270       1  0.983272              variar bom\n",
       "3270       5  0.017558              variar bom\n",
       "3495      10  0.693216             variar menu\n",
       "290        5  0.953695           variar opcoes\n",
       "458        1  0.994812            variar prato\n",
       "699        4  0.916698        variedade opcoes\n",
       "6053       1  0.989642         variedade prato\n",
       "21297      9  0.874176            verdade sair\n",
       "21295      7  0.848645       verdade sobremesa\n",
       "1928       3  0.976921               vinho bom\n",
       "2354       7  0.927390         vinho completar\n",
       "2705      11  0.449811          vinho escolher\n",
       "757       12  0.582245              vir almoco\n",
       "2982      11  0.627465                 vir nao\n",
       "6597       3  0.969305              visto alar\n",
       "2012       2  0.975638       visto atendimento\n",
       "2888       9  0.920114            visto beirar\n",
       "7318       1  0.991108            visto comido\n",
       "352        9  0.847280        visto fantastica\n",
       "314        1  0.869983             visto lindo\n",
       "314        2  0.110725             visto lindo\n",
       "314        5  0.015818             visto lindo\n",
       "9673      11  0.835335        visto panoramica\n",
       "3537       3  0.954427       visto privilegiar\n",
       "1980       3  0.947671               visto pro\n",
       "50         8  0.928385        visto recomendar\n",
       "15929      6  0.944203           visual lindar\n",
       "\n",
       "[698 rows x 3 columns], R=30, lambda_step=0.01, plot_opts={'xlab': 'PC1', 'ylab': 'PC2'}, topic_order=[9, 3, 6, 7, 11, 8, 10, 5, 1, 2, 4, 12])"
      ]
     },
     "execution_count": 16,
     "metadata": {},
     "output_type": "execute_result"
    }
   ],
   "source": [
    "# Visualização do modelo gerado\n",
    "import pyLDAvis\n",
    "import pyLDAvis.gensim\n",
    "\n",
    "pyLDAvis.enable_notebook()\n",
    "LDAvis_prepared = pyLDAvis.gensim.prepare(lda_model, corpus, dictionary)\n",
    "LDAvis_prepared"
   ]
  },
  {
   "cell_type": "code",
   "execution_count": null,
   "metadata": {},
   "outputs": [],
   "source": []
  }
 ],
 "metadata": {
  "kernelspec": {
   "display_name": "Python 3",
   "language": "python",
   "name": "python3"
  },
  "language_info": {
   "codemirror_mode": {
    "name": "ipython",
    "version": 3
   },
   "file_extension": ".py",
   "mimetype": "text/x-python",
   "name": "python",
   "nbconvert_exporter": "python",
   "pygments_lexer": "ipython3",
   "version": "3.7.3"
  }
 },
 "nbformat": 4,
 "nbformat_minor": 4
}
