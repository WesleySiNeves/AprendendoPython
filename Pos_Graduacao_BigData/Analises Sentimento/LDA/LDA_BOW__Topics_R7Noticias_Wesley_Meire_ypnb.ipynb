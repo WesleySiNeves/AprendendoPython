{
  "nbformat": 4,
  "nbformat_minor": 0,
  "metadata": {
    "colab": {
      "name": "LDA_BOW._Topics_R7Noticias_Wesley_Meire.ypnb",
      "provenance": [],
      "collapsed_sections": []
    },
    "kernelspec": {
      "name": "python3",
      "display_name": "Python 3"
    }
  },
  "cells": [
    {
      "cell_type": "code",
      "metadata": {
        "id": "tlkF-t9jSKOh",
        "colab_type": "code",
        "colab": {}
      },
      "source": [
        "\n",
        "import warnings; \n",
        "warnings.simplefilter('ignore')"
      ],
      "execution_count": 0,
      "outputs": []
    },
    {
      "cell_type": "code",
      "metadata": {
        "id": "FHhsY_YLRSkU",
        "colab_type": "code",
        "outputId": "ab783a74-a723-49ee-cdf9-d3d66f3991af",
        "colab": {
          "base_uri": "https://localhost:8080/",
          "height": 33
        }
      },
      "source": [
        "pip install unidecode"
      ],
      "execution_count": 32,
      "outputs": [
        {
          "output_type": "stream",
          "text": [
            "Requirement already satisfied: unidecode in /usr/local/lib/python3.6/dist-packages (1.1.1)\n"
          ],
          "name": "stdout"
        }
      ]
    },
    {
      "cell_type": "code",
      "metadata": {
        "id": "lky5Gf1jSGGn",
        "colab_type": "code",
        "outputId": "6c1714f4-6c4a-4a05-dddc-d42545d954b7",
        "colab": {
          "base_uri": "https://localhost:8080/",
          "height": 388
        }
      },
      "source": [
        "pip install pyLDAvis"
      ],
      "execution_count": 33,
      "outputs": [
        {
          "output_type": "stream",
          "text": [
            "Requirement already satisfied: pyLDAvis in /usr/local/lib/python3.6/dist-packages (2.1.2)\n",
            "Requirement already satisfied: joblib>=0.8.4 in /usr/local/lib/python3.6/dist-packages (from pyLDAvis) (0.15.1)\n",
            "Requirement already satisfied: scipy>=0.18.0 in /usr/local/lib/python3.6/dist-packages (from pyLDAvis) (1.4.1)\n",
            "Requirement already satisfied: jinja2>=2.7.2 in /usr/local/lib/python3.6/dist-packages (from pyLDAvis) (2.11.2)\n",
            "Requirement already satisfied: numexpr in /usr/local/lib/python3.6/dist-packages (from pyLDAvis) (2.7.1)\n",
            "Requirement already satisfied: numpy>=1.9.2 in /usr/local/lib/python3.6/dist-packages (from pyLDAvis) (1.18.4)\n",
            "Requirement already satisfied: pandas>=0.17.0 in /usr/local/lib/python3.6/dist-packages (from pyLDAvis) (1.0.3)\n",
            "Requirement already satisfied: pytest in /usr/local/lib/python3.6/dist-packages (from pyLDAvis) (3.6.4)\n",
            "Requirement already satisfied: funcy in /usr/local/lib/python3.6/dist-packages (from pyLDAvis) (1.14)\n",
            "Requirement already satisfied: future in /usr/local/lib/python3.6/dist-packages (from pyLDAvis) (0.16.0)\n",
            "Requirement already satisfied: wheel>=0.23.0 in /usr/local/lib/python3.6/dist-packages (from pyLDAvis) (0.34.2)\n",
            "Requirement already satisfied: MarkupSafe>=0.23 in /usr/local/lib/python3.6/dist-packages (from jinja2>=2.7.2->pyLDAvis) (1.1.1)\n",
            "Requirement already satisfied: python-dateutil>=2.6.1 in /usr/local/lib/python3.6/dist-packages (from pandas>=0.17.0->pyLDAvis) (2.8.1)\n",
            "Requirement already satisfied: pytz>=2017.2 in /usr/local/lib/python3.6/dist-packages (from pandas>=0.17.0->pyLDAvis) (2018.9)\n",
            "Requirement already satisfied: more-itertools>=4.0.0 in /usr/local/lib/python3.6/dist-packages (from pytest->pyLDAvis) (8.3.0)\n",
            "Requirement already satisfied: atomicwrites>=1.0 in /usr/local/lib/python3.6/dist-packages (from pytest->pyLDAvis) (1.4.0)\n",
            "Requirement already satisfied: attrs>=17.4.0 in /usr/local/lib/python3.6/dist-packages (from pytest->pyLDAvis) (19.3.0)\n",
            "Requirement already satisfied: py>=1.5.0 in /usr/local/lib/python3.6/dist-packages (from pytest->pyLDAvis) (1.8.1)\n",
            "Requirement already satisfied: six>=1.10.0 in /usr/local/lib/python3.6/dist-packages (from pytest->pyLDAvis) (1.12.0)\n",
            "Requirement already satisfied: pluggy<0.8,>=0.5 in /usr/local/lib/python3.6/dist-packages (from pytest->pyLDAvis) (0.7.1)\n",
            "Requirement already satisfied: setuptools in /usr/local/lib/python3.6/dist-packages (from pytest->pyLDAvis) (46.4.0)\n"
          ],
          "name": "stdout"
        }
      ]
    },
    {
      "cell_type": "code",
      "metadata": {
        "id": "VgMB-we-OMh0",
        "colab_type": "code",
        "colab": {
          "base_uri": "https://localhost:8080/",
          "height": 371
        },
        "outputId": "b04ff00a-2c06-4aab-9074-2084c9f521dd"
      },
      "source": [
        "!pip install -U spacy\n"
      ],
      "execution_count": 36,
      "outputs": [
        {
          "output_type": "stream",
          "text": [
            "Requirement already up-to-date: spacy in /usr/local/lib/python3.6/dist-packages (2.2.4)\n",
            "Requirement already satisfied, skipping upgrade: srsly<1.1.0,>=1.0.2 in /usr/local/lib/python3.6/dist-packages (from spacy) (1.0.2)\n",
            "Requirement already satisfied, skipping upgrade: plac<1.2.0,>=0.9.6 in /usr/local/lib/python3.6/dist-packages (from spacy) (1.1.3)\n",
            "Requirement already satisfied, skipping upgrade: numpy>=1.15.0 in /usr/local/lib/python3.6/dist-packages (from spacy) (1.18.4)\n",
            "Requirement already satisfied, skipping upgrade: preshed<3.1.0,>=3.0.2 in /usr/local/lib/python3.6/dist-packages (from spacy) (3.0.2)\n",
            "Requirement already satisfied, skipping upgrade: tqdm<5.0.0,>=4.38.0 in /usr/local/lib/python3.6/dist-packages (from spacy) (4.41.1)\n",
            "Requirement already satisfied, skipping upgrade: setuptools in /usr/local/lib/python3.6/dist-packages (from spacy) (46.4.0)\n",
            "Requirement already satisfied, skipping upgrade: requests<3.0.0,>=2.13.0 in /usr/local/lib/python3.6/dist-packages (from spacy) (2.23.0)\n",
            "Requirement already satisfied, skipping upgrade: wasabi<1.1.0,>=0.4.0 in /usr/local/lib/python3.6/dist-packages (from spacy) (0.6.0)\n",
            "Requirement already satisfied, skipping upgrade: catalogue<1.1.0,>=0.0.7 in /usr/local/lib/python3.6/dist-packages (from spacy) (1.0.0)\n",
            "Requirement already satisfied, skipping upgrade: murmurhash<1.1.0,>=0.28.0 in /usr/local/lib/python3.6/dist-packages (from spacy) (1.0.2)\n",
            "Requirement already satisfied, skipping upgrade: cymem<2.1.0,>=2.0.2 in /usr/local/lib/python3.6/dist-packages (from spacy) (2.0.3)\n",
            "Requirement already satisfied, skipping upgrade: thinc==7.4.0 in /usr/local/lib/python3.6/dist-packages (from spacy) (7.4.0)\n",
            "Requirement already satisfied, skipping upgrade: blis<0.5.0,>=0.4.0 in /usr/local/lib/python3.6/dist-packages (from spacy) (0.4.1)\n",
            "Requirement already satisfied, skipping upgrade: idna<3,>=2.5 in /usr/local/lib/python3.6/dist-packages (from requests<3.0.0,>=2.13.0->spacy) (2.9)\n",
            "Requirement already satisfied, skipping upgrade: chardet<4,>=3.0.2 in /usr/local/lib/python3.6/dist-packages (from requests<3.0.0,>=2.13.0->spacy) (3.0.4)\n",
            "Requirement already satisfied, skipping upgrade: urllib3!=1.25.0,!=1.25.1,<1.26,>=1.21.1 in /usr/local/lib/python3.6/dist-packages (from requests<3.0.0,>=2.13.0->spacy) (1.24.3)\n",
            "Requirement already satisfied, skipping upgrade: certifi>=2017.4.17 in /usr/local/lib/python3.6/dist-packages (from requests<3.0.0,>=2.13.0->spacy) (2020.4.5.1)\n",
            "Requirement already satisfied, skipping upgrade: importlib-metadata>=0.20; python_version < \"3.8\" in /usr/local/lib/python3.6/dist-packages (from catalogue<1.1.0,>=0.0.7->spacy) (1.6.0)\n",
            "Requirement already satisfied, skipping upgrade: zipp>=0.5 in /usr/local/lib/python3.6/dist-packages (from importlib-metadata>=0.20; python_version < \"3.8\"->catalogue<1.1.0,>=0.0.7->spacy) (3.1.0)\n"
          ],
          "name": "stdout"
        }
      ]
    },
    {
      "cell_type": "code",
      "metadata": {
        "id": "vY3SqqWvOO83",
        "colab_type": "code",
        "colab": {
          "base_uri": "https://localhost:8080/",
          "height": 488
        },
        "outputId": "eb1b5e6d-885a-439d-a77d-57dd76b98e4b"
      },
      "source": [
        "!python -m spacy download pt"
      ],
      "execution_count": 37,
      "outputs": [
        {
          "output_type": "stream",
          "text": [
            "Requirement already satisfied: pt_core_news_sm==2.2.5 from https://github.com/explosion/spacy-models/releases/download/pt_core_news_sm-2.2.5/pt_core_news_sm-2.2.5.tar.gz#egg=pt_core_news_sm==2.2.5 in /usr/local/lib/python3.6/dist-packages (2.2.5)\n",
            "Requirement already satisfied: spacy>=2.2.2 in /usr/local/lib/python3.6/dist-packages (from pt_core_news_sm==2.2.5) (2.2.4)\n",
            "Requirement already satisfied: setuptools in /usr/local/lib/python3.6/dist-packages (from spacy>=2.2.2->pt_core_news_sm==2.2.5) (46.4.0)\n",
            "Requirement already satisfied: murmurhash<1.1.0,>=0.28.0 in /usr/local/lib/python3.6/dist-packages (from spacy>=2.2.2->pt_core_news_sm==2.2.5) (1.0.2)\n",
            "Requirement already satisfied: srsly<1.1.0,>=1.0.2 in /usr/local/lib/python3.6/dist-packages (from spacy>=2.2.2->pt_core_news_sm==2.2.5) (1.0.2)\n",
            "Requirement already satisfied: numpy>=1.15.0 in /usr/local/lib/python3.6/dist-packages (from spacy>=2.2.2->pt_core_news_sm==2.2.5) (1.18.4)\n",
            "Requirement already satisfied: cymem<2.1.0,>=2.0.2 in /usr/local/lib/python3.6/dist-packages (from spacy>=2.2.2->pt_core_news_sm==2.2.5) (2.0.3)\n",
            "Requirement already satisfied: preshed<3.1.0,>=3.0.2 in /usr/local/lib/python3.6/dist-packages (from spacy>=2.2.2->pt_core_news_sm==2.2.5) (3.0.2)\n",
            "Requirement already satisfied: requests<3.0.0,>=2.13.0 in /usr/local/lib/python3.6/dist-packages (from spacy>=2.2.2->pt_core_news_sm==2.2.5) (2.23.0)\n",
            "Requirement already satisfied: plac<1.2.0,>=0.9.6 in /usr/local/lib/python3.6/dist-packages (from spacy>=2.2.2->pt_core_news_sm==2.2.5) (1.1.3)\n",
            "Requirement already satisfied: blis<0.5.0,>=0.4.0 in /usr/local/lib/python3.6/dist-packages (from spacy>=2.2.2->pt_core_news_sm==2.2.5) (0.4.1)\n",
            "Requirement already satisfied: wasabi<1.1.0,>=0.4.0 in /usr/local/lib/python3.6/dist-packages (from spacy>=2.2.2->pt_core_news_sm==2.2.5) (0.6.0)\n",
            "Requirement already satisfied: tqdm<5.0.0,>=4.38.0 in /usr/local/lib/python3.6/dist-packages (from spacy>=2.2.2->pt_core_news_sm==2.2.5) (4.41.1)\n",
            "Requirement already satisfied: catalogue<1.1.0,>=0.0.7 in /usr/local/lib/python3.6/dist-packages (from spacy>=2.2.2->pt_core_news_sm==2.2.5) (1.0.0)\n",
            "Requirement already satisfied: thinc==7.4.0 in /usr/local/lib/python3.6/dist-packages (from spacy>=2.2.2->pt_core_news_sm==2.2.5) (7.4.0)\n",
            "Requirement already satisfied: certifi>=2017.4.17 in /usr/local/lib/python3.6/dist-packages (from requests<3.0.0,>=2.13.0->spacy>=2.2.2->pt_core_news_sm==2.2.5) (2020.4.5.1)\n",
            "Requirement already satisfied: idna<3,>=2.5 in /usr/local/lib/python3.6/dist-packages (from requests<3.0.0,>=2.13.0->spacy>=2.2.2->pt_core_news_sm==2.2.5) (2.9)\n",
            "Requirement already satisfied: urllib3!=1.25.0,!=1.25.1,<1.26,>=1.21.1 in /usr/local/lib/python3.6/dist-packages (from requests<3.0.0,>=2.13.0->spacy>=2.2.2->pt_core_news_sm==2.2.5) (1.24.3)\n",
            "Requirement already satisfied: chardet<4,>=3.0.2 in /usr/local/lib/python3.6/dist-packages (from requests<3.0.0,>=2.13.0->spacy>=2.2.2->pt_core_news_sm==2.2.5) (3.0.4)\n",
            "Requirement already satisfied: importlib-metadata>=0.20; python_version < \"3.8\" in /usr/local/lib/python3.6/dist-packages (from catalogue<1.1.0,>=0.0.7->spacy>=2.2.2->pt_core_news_sm==2.2.5) (1.6.0)\n",
            "Requirement already satisfied: zipp>=0.5 in /usr/local/lib/python3.6/dist-packages (from importlib-metadata>=0.20; python_version < \"3.8\"->catalogue<1.1.0,>=0.0.7->spacy>=2.2.2->pt_core_news_sm==2.2.5) (3.1.0)\n",
            "\u001b[38;5;2m✔ Download and installation successful\u001b[0m\n",
            "You can now load the model via spacy.load('pt_core_news_sm')\n",
            "\u001b[38;5;2m✔ Linking successful\u001b[0m\n",
            "/usr/local/lib/python3.6/dist-packages/pt_core_news_sm -->\n",
            "/usr/local/lib/python3.6/dist-packages/spacy/data/pt\n",
            "You can now load the model via spacy.load('pt')\n"
          ],
          "name": "stdout"
        }
      ]
    },
    {
      "cell_type": "code",
      "metadata": {
        "id": "88DAZbHa6seH",
        "colab_type": "code",
        "colab": {}
      },
      "source": [
        "import pandas as pd\n",
        "import spacy\n"
      ],
      "execution_count": 0,
      "outputs": []
    },
    {
      "cell_type": "code",
      "metadata": {
        "id": "wewVJ6BzOWCb",
        "colab_type": "code",
        "colab": {}
      },
      "source": [
        "nlp = spacy.load('pt')\n"
      ],
      "execution_count": 0,
      "outputs": []
    },
    {
      "cell_type": "code",
      "metadata": {
        "id": "2eUhJbarOi67",
        "colab_type": "code",
        "colab": {
          "base_uri": "https://localhost:8080/",
          "height": 33
        },
        "outputId": "05c653ee-e11d-4b15-b189-70af75038dbe"
      },
      "source": [
        "\n"
      ],
      "execution_count": 44,
      "outputs": [
        {
          "output_type": "execute_result",
          "data": {
            "text/plain": [
              "{'encontrar'}"
            ]
          },
          "metadata": {
            "tags": []
          },
          "execution_count": 44
        }
      ]
    },
    {
      "cell_type": "code",
      "metadata": {
        "id": "1I_HOAV69vAH",
        "colab_type": "code",
        "colab": {}
      },
      "source": [
        "diretorio ='/content/tweets_@portalR7.csv'  "
      ],
      "execution_count": 0,
      "outputs": []
    },
    {
      "cell_type": "code",
      "metadata": {
        "id": "OEs0CeKSZWPF",
        "colab_type": "code",
        "colab": {}
      },
      "source": [
        "    data = pd.read_csv(diretorio, error_bad_lines=False);\n"
      ],
      "execution_count": 0,
      "outputs": []
    },
    {
      "cell_type": "code",
      "metadata": {
        "id": "rkKMYY7t95d2",
        "colab_type": "code",
        "outputId": "b1094da1-cdf9-49fc-e07a-f63aa35654d4",
        "colab": {
          "base_uri": "https://localhost:8080/",
          "height": 181
        }
      },
      "source": [
        "data.head(1)"
      ],
      "execution_count": 47,
      "outputs": [
        {
          "output_type": "execute_result",
          "data": {
            "text/html": [
              "<div>\n",
              "<style scoped>\n",
              "    .dataframe tbody tr th:only-of-type {\n",
              "        vertical-align: middle;\n",
              "    }\n",
              "\n",
              "    .dataframe tbody tr th {\n",
              "        vertical-align: top;\n",
              "    }\n",
              "\n",
              "    .dataframe thead th {\n",
              "        text-align: right;\n",
              "    }\n",
              "</style>\n",
              "<table border=\"1\" class=\"dataframe\">\n",
              "  <thead>\n",
              "    <tr style=\"text-align: right;\">\n",
              "      <th></th>\n",
              "      <th>text</th>\n",
              "      <th>favorited</th>\n",
              "      <th>favoriteCount</th>\n",
              "      <th>replyToSN</th>\n",
              "      <th>created</th>\n",
              "      <th>truncated</th>\n",
              "      <th>replyToSID</th>\n",
              "      <th>id</th>\n",
              "      <th>replyToUID</th>\n",
              "      <th>statusSource</th>\n",
              "      <th>screenName</th>\n",
              "      <th>retweetCount</th>\n",
              "      <th>isRetweet</th>\n",
              "      <th>retweeted</th>\n",
              "      <th>longitude</th>\n",
              "      <th>latitude</th>\n",
              "    </tr>\n",
              "  </thead>\n",
              "  <tbody>\n",
              "    <tr>\n",
              "      <th>0</th>\n",
              "      <td>Mais de um terço de pacientes internados com C...</td>\n",
              "      <td>False</td>\n",
              "      <td>447</td>\n",
              "      <td>NaN</td>\n",
              "      <td>2020-05-16 03:00:00</td>\n",
              "      <td>True</td>\n",
              "      <td>NaN</td>\n",
              "      <td>1.261492e+18</td>\n",
              "      <td>NaN</td>\n",
              "      <td>&lt;a href=\"https://about.twitter.com/products/tw...</td>\n",
              "      <td>g1</td>\n",
              "      <td>85.0</td>\n",
              "      <td>False</td>\n",
              "      <td>False</td>\n",
              "      <td>NaN</td>\n",
              "      <td>NaN</td>\n",
              "    </tr>\n",
              "  </tbody>\n",
              "</table>\n",
              "</div>"
            ],
            "text/plain": [
              "                                                text  ... latitude\n",
              "0  Mais de um terço de pacientes internados com C...  ...      NaN\n",
              "\n",
              "[1 rows x 16 columns]"
            ]
          },
          "metadata": {
            "tags": []
          },
          "execution_count": 47
        }
      ]
    },
    {
      "cell_type": "code",
      "metadata": {
        "id": "R15C5eTR99LU",
        "colab_type": "code",
        "outputId": "c03b403c-1255-4530-8963-7d014bfdf815",
        "colab": {
          "base_uri": "https://localhost:8080/",
          "height": 401
        }
      },
      "source": [
        "data.info()"
      ],
      "execution_count": 48,
      "outputs": [
        {
          "output_type": "stream",
          "text": [
            "<class 'pandas.core.frame.DataFrame'>\n",
            "RangeIndex: 786 entries, 0 to 785\n",
            "Data columns (total 16 columns):\n",
            " #   Column         Non-Null Count  Dtype  \n",
            "---  ------         --------------  -----  \n",
            " 0   text           786 non-null    object \n",
            " 1   favorited      782 non-null    object \n",
            " 2   favoriteCount  786 non-null    object \n",
            " 3   replyToSN      41 non-null     object \n",
            " 4   created        786 non-null    object \n",
            " 5   truncated      786 non-null    bool   \n",
            " 6   replyToSID     35 non-null     object \n",
            " 7   id             782 non-null    float64\n",
            " 8   replyToUID     37 non-null     float64\n",
            " 9   statusSource   782 non-null    object \n",
            " 10  screenName     782 non-null    object \n",
            " 11  retweetCount   782 non-null    float64\n",
            " 12  isRetweet      782 non-null    object \n",
            " 13  retweeted      782 non-null    object \n",
            " 14  longitude      0 non-null      float64\n",
            " 15  latitude       0 non-null      float64\n",
            "dtypes: bool(1), float64(5), object(10)\n",
            "memory usage: 93.0+ KB\n"
          ],
          "name": "stdout"
        }
      ]
    },
    {
      "cell_type": "code",
      "metadata": {
        "id": "h6saJHn07mYp",
        "colab_type": "code",
        "colab": {}
      },
      "source": [
        "import warnings\n",
        "import pandas as pd\n",
        "import matplotlib.pyplot as plt \n",
        "import numpy as np\n",
        "import tqdm\n",
        "from unidecode import unidecode\n",
        "import pyLDAvis\n",
        "import pyLDAvis.gensim\n",
        "import pickle \n",
        "import nltk\n",
        "import gensim\n",
        "from gensim.utils import simple_preprocess\n",
        "from gensim.parsing.preprocessing import STOPWORDS\n",
        "from gensim.models import CoherenceModel\n",
        "import spacy\n",
        "\n"
      ],
      "execution_count": 0,
      "outputs": []
    },
    {
      "cell_type": "code",
      "metadata": {
        "id": "S2OwBg0g86_R",
        "colab_type": "code",
        "outputId": "7f23a298-4da3-48e0-e83d-ce18ef157c99",
        "colab": {
          "base_uri": "https://localhost:8080/",
          "height": 134
        }
      },
      "source": [
        "# Retire o comentário apenas na primeira vez que executar esse notebook no seu ambiente\n",
        "nltk.download('wordnet')\n",
        "nltk.download('stopwords')\n",
        "nltk.download('rslp')"
      ],
      "execution_count": 155,
      "outputs": [
        {
          "output_type": "stream",
          "text": [
            "[nltk_data] Downloading package wordnet to /root/nltk_data...\n",
            "[nltk_data]   Package wordnet is already up-to-date!\n",
            "[nltk_data] Downloading package stopwords to /root/nltk_data...\n",
            "[nltk_data]   Package stopwords is already up-to-date!\n",
            "[nltk_data] Downloading package rslp to /root/nltk_data...\n",
            "[nltk_data]   Package rslp is already up-to-date!\n"
          ],
          "name": "stdout"
        },
        {
          "output_type": "execute_result",
          "data": {
            "text/plain": [
              "True"
            ]
          },
          "metadata": {
            "tags": []
          },
          "execution_count": 155
        }
      ]
    },
    {
      "cell_type": "code",
      "metadata": {
        "id": "ge83Yryenlb0",
        "colab_type": "code",
        "colab": {}
      },
      "source": [
        "lista_stopwords = []\n",
        "\n",
        "stopwords_pt = nltk.corpus.stopwords.words('portuguese')\n",
        "custon_stop_words = ['nessa','todo','pra','vou','aqui','se','.',',','lá','vcs','\"\"','\"',':','globonews']\n",
        "\n",
        "custon_stop_words = custon_stop_words +['veja','apos','sobre','globonews','anos','blog','dias','novo','contra','fazem','nesta','feira','sobre','cada'\n",
        ",'quase','pode','hoje','durante','meio','defende','nesta']\n",
        "punctuation = list(string.punctuation)\n",
        "\n",
        "palavras_incorretas =['bwinbgwezf','tvwywayleb','wrkxfscoi','yxymvyrjyo','bwinbgwezf','klupeymt','pdbhahcj','yxymvyrjyo','bwinbgwezf','klupeymt','pdbhahcj','tvwywayleb','xafc','nyxe','irqrs','jihk']\n",
        "\n",
        "palavras_incorretas.append('dkoll')\n",
        "palavras_incorretas.append('lirscbw')\n",
        "palavras_incorretas.append('tkindkmz')\n",
        "palavras_incorretas.append('xrduwmia')\n",
        "palavras_incorretas.append('abyxd')\n",
        "palavras_incorretas.append('jrhlzojhhr')\n",
        "palavras_incorretas.append('salw')\n",
        "palavras_incorretas.append('xjpi')\n",
        "palavras_incorretas.append('giphy')\n",
        "palavras_incorretas.append('gicc')\n",
        "palavras_incorretas.append('uqdgof')\n",
        "palavras_incorretas.append('govectt')\n",
        "palavras_incorretas.append('gvzkhof')\n",
        "palavras_incorretas.append('wlxnqiflyf')\n",
        "palavras_incorretas.append('evcf')\n",
        "palavras_incorretas.append('klupeymt')\n",
        "palavras_incorretas.append('bwinbgwezf')\n",
        "palavras_incorretas.append('nyxe')\n",
        "palavras_incorretas.append('rfsx')\n",
        "palavras_incorretas.append('pdbhahc')\n",
        "palavras_incorretas.append('jclvyz')\n",
        "palavras_incorretas.append('ebsaxxgd')\n",
        "palavras_incorretas.append('jclvyz')\n",
        "palavras_incorretas.append('yxymvyrjyo')\n",
        "palavras_incorretas.append('wrkxfscoi')\n",
        "palavras_incorretas.append('klupeymt')\n",
        "palavras_incorretas.append('jznus')\n",
        "palavras_incorretas.append('nerukfmgpi')\n",
        "palavras_incorretas.append('yzkolzb')\n",
        "palavras_incorretas.append('bblyxam')\n",
        "palavras_incorretas.append('pujmnafipd')\n",
        "palavras_incorretas.append('qttwneie')\n",
        "palavras_incorretas.append('tnbcpfuz')\n",
        "palavras_incorretas.append('ufmcjekbed')\n",
        "palavras_incorretas.append('fzrkmdu')\n",
        "palavras_incorretas.append('owblkntxvb')\n",
        "palavras_incorretas.append('guuzlngikg')\n",
        "palavras_incorretas.append('clxixptdy')\n",
        "\n",
        "lista_stopwords.extend(stopwords_pt)\n",
        "lista_stopwords.extend(custon_stop_words)\n",
        "lista_stopwords.extend(punctuation)\n",
        "lista_stopwords.extend(palavras_incorretas)\n",
        "\n"
      ],
      "execution_count": 0,
      "outputs": []
    },
    {
      "cell_type": "code",
      "metadata": {
        "id": "kD6yV2dABFT_",
        "colab_type": "code",
        "outputId": "65cfd82c-b42c-4500-b015-b3e787e82789",
        "colab": {
          "base_uri": "https://localhost:8080/",
          "height": 33
        }
      },
      "source": [
        "len(lista_stopwords)"
      ],
      "execution_count": 66,
      "outputs": [
        {
          "output_type": "execute_result",
          "data": {
            "text/plain": [
              "302"
            ]
          },
          "metadata": {
            "tags": []
          },
          "execution_count": 66
        }
      ]
    },
    {
      "cell_type": "code",
      "metadata": {
        "id": "843q5N_WGvdy",
        "colab_type": "code",
        "colab": {}
      },
      "source": [
        "def remove_caracteres_especiais(texto):\n",
        "    punctuations = '''!()-![]{};:+'\"\\,<>./?@#$%^&*_~'''\n",
        "    remove = ''.join([i for i in texto if not i in punctuations])\n",
        "    remove_1 =  re.sub(r\" ?\\([^)]+\\)\", \"\", remove)\n",
        "    remove_2 =''.join(remove_1).replace(\"'\", \" \")\n",
        "    remove_3 =''.join(remove_2).replace(\"[\", \" \")\n",
        "    remove_4 =''.join(remove_3).replace(\"]\", \" \")\n",
        "    return str(remove_4)    "
      ],
      "execution_count": 0,
      "outputs": []
    },
    {
      "cell_type": "code",
      "metadata": {
        "id": "4QiIcZqGgTZd",
        "colab_type": "code",
        "colab": {}
      },
      "source": [
        "def ContemVogal(texto):\n",
        "  vogais = ['a', 'e', 'i', 'o', 'u']\n",
        "  temVogal =False\n",
        "    \n",
        "  for c in texto.lower():\n",
        "    if c in vogais:\n",
        "        temVogal = True\n",
        "        break\n",
        "\n",
        "  return temVogal;\n",
        "  "
      ],
      "execution_count": 0,
      "outputs": []
    },
    {
      "cell_type": "code",
      "metadata": {
        "id": "VvBeFwRW_7en",
        "colab_type": "code",
        "colab": {}
      },
      "source": [
        "def remove_url(txt):\n",
        "    return re.sub(r'http\\S+', '', txt)"
      ],
      "execution_count": 0,
      "outputs": []
    },
    {
      "cell_type": "code",
      "metadata": {
        "id": "n-2pP9XYRa5H",
        "colab_type": "code",
        "colab": {}
      },
      "source": [
        "def preprocess(text):\n",
        "    result = []\n",
        "    doc = nlp(text)\n",
        "    linhas = []\n",
        "    for token in doc:\n",
        "        if str(token) not in lista_stopwords and len(token) > 3:\n",
        "            radical = (token.lemma_)\n",
        "            linhas.append(radical)\n",
        "    for w in linhas:\n",
        "        texto_rad = \" \".join(linhas)\n",
        "    for token in gensim.utils.simple_preprocess(texto_rad):\n",
        "        token =remove_caracteres_especiais(token)\n",
        "        token =remove_url(token)\n",
        "        palavra =remove_caracteres_especiais(token)\n",
        "        if palavra not in lista_stopwords and len(palavra) > 3:\n",
        "          if(ContemVogal(palavra)):\n",
        "            result.append(unidecode(palavra))\n",
        "            \n",
        "    return result\n",
        "\n"
      ],
      "execution_count": 0,
      "outputs": []
    },
    {
      "cell_type": "code",
      "metadata": {
        "id": "tGwG-De-TKH6",
        "colab_type": "code",
        "colab": {}
      },
      "source": [
        "data_text = data[['text']]\n",
        "data_text['index'] = data_text.index\n",
        "documents = data_text"
      ],
      "execution_count": 0,
      "outputs": []
    },
    {
      "cell_type": "code",
      "metadata": {
        "id": "50UwXBrIR2Cw",
        "colab_type": "code",
        "colab": {}
      },
      "source": [
        "\n",
        "processed_docs = documents['text'].map(preprocess).apply(lambda x : list(nltk.ngrams(x, 1)))\n",
        "processed_docs = [[\"\".join(y).replace(\"'\",\"\").replace(\",\",\"\") for y in x] for x in processed_docs]"
      ],
      "execution_count": 0,
      "outputs": []
    },
    {
      "cell_type": "code",
      "metadata": {
        "id": "tzSHWxDa9il2",
        "colab_type": "code",
        "outputId": "57fe1cea-b067-4e58-cf8a-ec546b14f096",
        "colab": {
          "base_uri": "https://localhost:8080/",
          "height": 150
        }
      },
      "source": [
        "processed_docs[0:1]"
      ],
      "execution_count": 174,
      "outputs": [
        {
          "output_type": "execute_result",
          "data": {
            "text/plain": [
              "[['tercar',\n",
              "  'paciente',\n",
              "  'internar',\n",
              "  'covid',\n",
              "  'apresentar',\n",
              "  'lesao',\n",
              "  'precisar',\n",
              "  'respirador']]"
            ]
          },
          "metadata": {
            "tags": []
          },
          "execution_count": 174
        }
      ]
    },
    {
      "cell_type": "code",
      "metadata": {
        "id": "cSErUEpwCfUM",
        "colab_type": "code",
        "colab": {}
      },
      "source": [
        "# supporting function\n",
        "def compute_coherence_values(corpus, dictionary, k):\n",
        "    np.random.seed(2018)\n",
        "    lda_model = gensim.models.LdaMulticore(corpus, num_topics=k, id2word=dictionary)\n",
        "    coherence_model_lda = CoherenceModel(model=lda_model, texts=processed_docs, dictionary=dictionary, coherence='c_v')\n",
        "    return coherence_model_lda.get_coherence()\n"
      ],
      "execution_count": 0,
      "outputs": []
    },
    {
      "cell_type": "code",
      "metadata": {
        "id": "Cl158k8yQMQ-",
        "colab_type": "code",
        "colab": {}
      },
      "source": [
        " "
      ],
      "execution_count": 0,
      "outputs": []
    },
    {
      "cell_type": "code",
      "metadata": {
        "id": "iw8URTIg9rU0",
        "colab_type": "code",
        "outputId": "65db8412-e601-4153-bb76-2ab47f727b98",
        "colab": {
          "base_uri": "https://localhost:8080/",
          "height": 368
        }
      },
      "source": [
        "dictionary = gensim.corpora.Dictionary(processed_docs)\n",
        "count = 0\n",
        "for k, v in dictionary.iteritems():\n",
        "    print(k, v)\n",
        "    count += 1\n",
        "    if count > 20:\n",
        "        break"
      ],
      "execution_count": 176,
      "outputs": [
        {
          "output_type": "stream",
          "text": [
            "0 apresentar\n",
            "1 covid\n",
            "2 internar\n",
            "3 lesao\n",
            "4 paciente\n",
            "5 precisar\n",
            "6 respirador\n",
            "7 tercar\n",
            "8 atracar\n",
            "9 cruzeiro\n",
            "10 liberar\n",
            "11 navio\n",
            "12 quarentenar\n",
            "13 santos\n",
            "14 citacao\n",
            "15 enviar\n",
            "16 investigacao\n",
            "17 mario\n",
            "18 peixoto\n",
            "19 prender\n",
            "20 supostas\n"
          ],
          "name": "stdout"
        }
      ]
    },
    {
      "cell_type": "code",
      "metadata": {
        "id": "WVjesfCu-Ixa",
        "colab_type": "code",
        "outputId": "5843aa41-1074-4451-daf6-083321f861a9",
        "colab": {
          "base_uri": "https://localhost:8080/",
          "height": 217
        }
      },
      "source": [
        "corpus = [dictionary.doc2bow(doc) for doc in processed_docs]\n",
        "corpus[100]"
      ],
      "execution_count": 177,
      "outputs": [
        {
          "output_type": "execute_result",
          "data": {
            "text/plain": [
              "[(92, 1),\n",
              " (162, 1),\n",
              " (194, 1),\n",
              " (298, 1),\n",
              " (314, 1),\n",
              " (315, 1),\n",
              " (316, 1),\n",
              " (317, 1),\n",
              " (318, 1),\n",
              " (319, 1),\n",
              " (629, 1),\n",
              " (630, 1)]"
            ]
          },
          "metadata": {
            "tags": []
          },
          "execution_count": 177
        }
      ]
    },
    {
      "cell_type": "code",
      "metadata": {
        "id": "xTCYBd0e-ktl",
        "colab_type": "code",
        "outputId": "8714e39b-cd74-4658-eb45-2a109cafd31c",
        "colab": {
          "base_uri": "https://localhost:8080/",
          "height": 217
        }
      },
      "source": [
        "bow_doc_100 = corpus[100]\n",
        "for i in range(len(bow_doc_100)):\n",
        "    print(\"Word {} (\\\"{}\\\") appears {} time.\".format(bow_doc_100[i][0], \n",
        "                                               dictionary[bow_doc_100[i][0]], bow_doc_100[i][1]))"
      ],
      "execution_count": 178,
      "outputs": [
        {
          "output_type": "stream",
          "text": [
            "Word 92 (\"ministrar\") appears 1 time.\n",
            "Word 162 (\"apos\") appears 1 time.\n",
            "Word 194 (\"saude\") appears 1 time.\n",
            "Word 298 (\"teich\") appears 1 time.\n",
            "Word 314 (\"anular\") appears 1 time.\n",
            "Word 315 (\"desgastar\") appears 1 time.\n",
            "Word 316 (\"fritura\") appears 1 time.\n",
            "Word 317 (\"isolar\") appears 1 time.\n",
            "Word 318 (\"nelson\") appears 1 time.\n",
            "Word 319 (\"oassunto\") appears 1 time.\n",
            "Word 629 (\"assumir\") appears 1 time.\n",
            "Word 630 (\"gbee\") appears 1 time.\n"
          ],
          "name": "stdout"
        }
      ]
    },
    {
      "cell_type": "markdown",
      "metadata": {
        "id": "0-mhX6_cfa2a",
        "colab_type": "text"
      },
      "source": [
        "## estimativa de quantidade de modelos"
      ]
    },
    {
      "cell_type": "code",
      "metadata": {
        "id": "hqZ3DaVdpvLj",
        "colab_type": "code",
        "outputId": "501ef586-f01c-42ce-d8df-71c599116dc5",
        "colab": {
          "base_uri": "https://localhost:8080/",
          "height": 318
        }
      },
      "source": [
        "import numpy as np\n",
        "import tqdm\n",
        "\n",
        "grid = {}\n",
        "grid['Validation_Set'] = {}\n",
        "\n",
        "# Topics range\n",
        "min_topics = 2\n",
        "max_topics = 18\n",
        "step_size = 1\n",
        "topics_range = range(min_topics, max_topics, step_size)\n",
        "model_results = {'Topics': [],\n",
        "                 'Coherence': []\n",
        "                }\n",
        "\n",
        "pbar = tqdm.tqdm(total=len(topics_range))\n",
        "\n",
        "for k in topics_range:\n",
        "\n",
        "  cv = compute_coherence_values(corpus=corpus, dictionary=dictionary, k=k)\n",
        "  model_results['Topics'].append(k)\n",
        "  model_results['Coherence'].append(cv)\n",
        "  pbar.update(1)\n",
        "pbar.close()"
      ],
      "execution_count": 179,
      "outputs": [
        {
          "output_type": "stream",
          "text": [
            "\n",
            "  0%|          | 0/16 [00:00<?, ?it/s]\u001b[A\n",
            "  6%|▋         | 1/16 [00:01<00:25,  1.67s/it]\u001b[A\n",
            " 12%|█▎        | 2/16 [00:03<00:23,  1.65s/it]\u001b[A\n",
            " 19%|█▉        | 3/16 [00:04<00:20,  1.58s/it]\u001b[A\n",
            " 25%|██▌       | 4/16 [00:06<00:18,  1.52s/it]\u001b[A\n",
            " 31%|███▏      | 5/16 [00:07<00:16,  1.46s/it]\u001b[A\n",
            " 38%|███▊      | 6/16 [00:08<00:14,  1.44s/it]\u001b[A\n",
            " 44%|████▍     | 7/16 [00:10<00:12,  1.41s/it]\u001b[A\n",
            " 50%|█████     | 8/16 [00:11<00:11,  1.38s/it]\u001b[A\n",
            " 56%|█████▋    | 9/16 [00:12<00:09,  1.37s/it]\u001b[A\n",
            " 62%|██████▎   | 10/16 [00:14<00:08,  1.37s/it]\u001b[A\n",
            " 69%|██████▉   | 11/16 [00:15<00:07,  1.43s/it]\u001b[A\n",
            " 75%|███████▌  | 12/16 [00:17<00:05,  1.44s/it]\u001b[A\n",
            " 81%|████████▏ | 13/16 [00:18<00:04,  1.46s/it]\u001b[A\n",
            " 88%|████████▊ | 14/16 [00:20<00:02,  1.48s/it]\u001b[A\n",
            " 94%|█████████▍| 15/16 [00:21<00:01,  1.52s/it]\u001b[A\n",
            "100%|██████████| 16/16 [00:23<00:00,  1.47s/it]\n"
          ],
          "name": "stderr"
        }
      ]
    },
    {
      "cell_type": "code",
      "metadata": {
        "id": "V8HpKQDKK_s2",
        "colab_type": "code",
        "outputId": "9d39b66b-9e96-49cf-97f3-7a0eefdcc784",
        "colab": {
          "base_uri": "https://localhost:8080/",
          "height": 295
        }
      },
      "source": [
        "import matplotlib.pyplot as plt \n",
        "\n",
        "x = model_results['Topics']\n",
        "y = model_results['Coherence']\n",
        "\n",
        "plt.plot(x, y) \n",
        "  \n",
        "# naming the x axis \n",
        "plt.xlabel('x - Topics') \n",
        "# naming the y axis \n",
        "plt.ylabel('y - Coherence') \n",
        "  \n",
        "# giving a title to my graph \n",
        "plt.title('Topics x Coherence') \n",
        "  \n",
        "# function to show the plot \n",
        "plt.show() "
      ],
      "execution_count": 180,
      "outputs": [
        {
          "output_type": "display_data",
          "data": {
            "image/png": "[encoded data removed]",
            "text/plain": [
              "<Figure size 432x288 with 1 Axes>"
            ]
          },
          "metadata": {
            "tags": [],
            "needs_background": "light"
          }
        }
      ]
    },
    {
      "cell_type": "code",
      "metadata": {
        "id": "mnQoGSZLy1uL",
        "colab_type": "code",
        "outputId": "0e1d3493-dd14-47a2-eeb3-b2500b43d4e6",
        "colab": {
          "base_uri": "https://localhost:8080/",
          "height": 301
        }
      },
      "source": [
        "model_results"
      ],
      "execution_count": 181,
      "outputs": [
        {
          "output_type": "execute_result",
          "data": {
            "text/plain": [
              "{'Coherence': [0.46386910928239655,\n",
              "  0.4506388093577575,\n",
              "  0.4704922966875766,\n",
              "  0.47045981540530357,\n",
              "  0.47729633269809457,\n",
              "  0.48719318031227604,\n",
              "  0.49839153495330435,\n",
              "  0.4897011919658414,\n",
              "  0.5226713845502079,\n",
              "  0.48881411539079217,\n",
              "  0.49425664138202646,\n",
              "  0.502745780535966,\n",
              "  0.5200582810330614,\n",
              "  0.490203569803688,\n",
              "  0.5223272709856189,\n",
              "  0.5123891590508457],\n",
              " 'Topics': [2, 3, 4, 5, 6, 7, 8, 9, 10, 11, 12, 13, 14, 15, 16, 17]}"
            ]
          },
          "metadata": {
            "tags": []
          },
          "execution_count": 181
        }
      ]
    },
    {
      "cell_type": "markdown",
      "metadata": {
        "id": "AdTWIKiefPIO",
        "colab_type": "text"
      },
      "source": [
        "## Primeiro modelo com 10 topicos"
      ]
    },
    {
      "cell_type": "code",
      "metadata": {
        "id": "Mrr2tpC3_JFx",
        "colab_type": "code",
        "colab": {}
      },
      "source": [
        "warnings.simplefilter('ignore')\n",
        "\n",
        "np.random.seed(2018)\n",
        "lda_model = gensim.models.LdaMulticore(corpus, num_topics=10, id2word=dictionary)"
      ],
      "execution_count": 0,
      "outputs": []
    },
    {
      "cell_type": "code",
      "metadata": {
        "id": "jRFZxnEh_Yyb",
        "colab_type": "code",
        "outputId": "9bd76901-1030-4874-9239-ae2ee3688ac7",
        "colab": {
          "base_uri": "https://localhost:8080/",
          "height": 383
        }
      },
      "source": [
        "for idx, topic in lda_model.print_topics(-1):\n",
        "    print('Topic: {} \\nWords: {}'.format(idx, topic))"
      ],
      "execution_count": 185,
      "outputs": [
        {
          "output_type": "stream",
          "text": [
            "Topic: 0 \n",
            "Words: 0.015*\"coronavirus\" + 0.014*\"bolsonaro\" + 0.008*\"apos\" + 0.006*\"covid\" + 0.006*\"presidente\" + 0.005*\"brasil\" + 0.005*\"quarentenar\" + 0.004*\"reuniao\" + 0.004*\"casar\" + 0.004*\"saudar\"\n",
            "Topic: 1 \n",
            "Words: 0.010*\"coronavirus\" + 0.010*\"pandemia\" + 0.006*\"pedir\" + 0.006*\"apos\" + 0.006*\"isolamento\" + 0.005*\"brasil\" + 0.005*\"bolsonaro\" + 0.005*\"moro\" + 0.005*\"fechar\" + 0.005*\"medico\"\n",
            "Topic: 2 \n",
            "Words: 0.024*\"coronavirus\" + 0.014*\"covid\" + 0.009*\"paciente\" + 0.006*\"bolsonaro\" + 0.006*\"morte\" + 0.005*\"morto\" + 0.005*\"mascara\" + 0.005*\"brasil\" + 0.005*\"registrar\" + 0.005*\"caso\"\n",
            "Topic: 3 \n",
            "Words: 0.011*\"video\" + 0.008*\"covid\" + 0.007*\"brasil\" + 0.007*\"coronavirus\" + 0.006*\"morte\" + 0.006*\"pandemia\" + 0.006*\"isolamento\" + 0.006*\"numero\" + 0.005*\"paulo\" + 0.005*\"bolsonaro\"\n",
            "Topic: 4 \n",
            "Words: 0.016*\"coronavirus\" + 0.009*\"morte\" + 0.008*\"maio\" + 0.006*\"pedir\" + 0.005*\"video\" + 0.005*\"brasil\" + 0.005*\"governo\" + 0.005*\"morrer\" + 0.004*\"live\" + 0.004*\"apos\"\n",
            "Topic: 5 \n",
            "Words: 0.018*\"coronavirus\" + 0.012*\"pandemia\" + 0.010*\"pessoa\" + 0.008*\"bolsonaro\" + 0.006*\"morte\" + 0.005*\"isolamento\" + 0.005*\"governo\" + 0.005*\"casar\" + 0.005*\"apos\" + 0.003*\"milhao\"\n",
            "Topic: 6 \n",
            "Words: 0.016*\"coronavirus\" + 0.014*\"bolsonaro\" + 0.008*\"video\" + 0.008*\"pandemia\" + 0.007*\"vidar\" + 0.007*\"covid\" + 0.005*\"pedir\" + 0.005*\"brasil\" + 0.005*\"chegar\" + 0.005*\"social\"\n",
            "Topic: 7 \n",
            "Words: 0.019*\"bolsonaro\" + 0.009*\"covid\" + 0.008*\"morte\" + 0.008*\"pandemia\" + 0.006*\"brasil\" + 0.006*\"saude\" + 0.006*\"pedir\" + 0.005*\"publico\" + 0.005*\"entregar\" + 0.004*\"diretor\"\n",
            "Topic: 8 \n",
            "Words: 0.007*\"pandemia\" + 0.006*\"apos\" + 0.006*\"coronavirus\" + 0.006*\"ministro\" + 0.006*\"milhao\" + 0.006*\"isolamento\" + 0.005*\"covid\" + 0.005*\"federal\" + 0.005*\"anunciar\" + 0.005*\"receber\"\n",
            "Topic: 9 \n",
            "Words: 0.020*\"covid\" + 0.015*\"morte\" + 0.014*\"coronavirus\" + 0.010*\"caso\" + 0.010*\"apos\" + 0.008*\"brasil\" + 0.007*\"isolamento\" + 0.007*\"morrer\" + 0.007*\"fake\" + 0.007*\"fatooufake\"\n"
          ],
          "name": "stdout"
        }
      ]
    },
    {
      "cell_type": "code",
      "metadata": {
        "id": "CqE1rKvTR6S3",
        "colab_type": "code",
        "outputId": "a5c0c590-52c8-46c1-d40f-987723566de9",
        "colab": {
          "base_uri": "https://localhost:8080/",
          "height": 881
        }
      },
      "source": [
        "import pyLDAvis.gensim\n",
        "import pickle \n",
        "import pyLDAvis# Visualize the topics\n",
        "pyLDAvis.enable_notebook()\n",
        "LDAvis_prepared = pyLDAvis.gensim.prepare(lda_model, corpus, dictionary)\n",
        "LDAvis_prepared"
      ],
      "execution_count": 186,
      "outputs": [
        {
          "output_type": "execute_result",
          "data": {
            "text/html": [
              "\n",
              "<link rel=\"stylesheet\" type=\"text/css\" href=\"https://cdn.rawgit.com/bmabey/pyLDAvis/files/ldavis.v1.0.0.css\">\n",
              "\n",
              "\n",
              "<div id=\"ldavis_el1231406339690605046246486514\"></div>\n",
              "<script type=\"text/javascript\">\n",
              "\n",
              "var ldavis_el1231406339690605046246486514_data = {\"mdsDat\": {\"x\": [-0.13288963833839598, 0.04093967791873954, -0.043974448401285074, 0.04657744130776485, 0.05651866505506682, -0.018740520159158284, 0.10339255137299011, -0.04061815218037193, 0.00021937167999031397, -0.011424948255340316], \"y\": [-0.023160912051607616, 0.13937284236723707, -0.00018472819940194537, -0.06009086683289743, -0.05962523114063003, 0.0776538373514268, -0.030043941686215735, -0.03754484423799426, 0.029260026599077126, -0.03563618216899377], \"topics\": [1, 2, 3, 4, 5, 6, 7, 8, 9, 10], \"cluster\": [1, 1, 1, 1, 1, 1, 1, 1, 1, 1], \"Freq\": [13.143156051635742, 11.665999412536621, 11.571763038635254, 11.017010688781738, 10.734179496765137, 9.083911895751953, 8.535422325134277, 8.41130256652832, 8.381913185119629, 7.455343246459961]}, \"tinfo\": {\"Term\": [\"video\", \"morte\", \"coronavirus\", \"paciente\", \"bolsonaro\", \"maio\", \"caso\", \"pessoa\", \"vidar\", \"covid\", \"pandemia\", \"fake\", \"pedir\", \"fatooufake\", \"vitima\", \"cidade\", \"ministro\", \"leito\", \"numero\", \"social\", \"desde\", \"morto\", \"paulo\", \"falto\", \"ajudar\", \"mascara\", \"milhao\", \"casar\", \"fechar\", \"ficar\", \"franca\", \"instituto\", \"impacto\", \"enterrar\", \"experiencia\", \"esposo\", \"privar\", \"terceiro\", \"hospitais\", \"funcionario\", \"cover\", \"lipa\", \"quatro\", \"enfermeiros\", \"obrigar\", \"reporter\", \"setor\", \"comemorar\", \"avancodacovid\", \"cincar\", \"renataloprete\", \"converso\", \"uniao\", \"mant\", \"knihc\", \"bachelet\", \"consecutivo\", \"fiscal\", \"tmzu\", \"redonda\", \"fatooufake\", \"fake\", \"trocar\", \"decada\", \"jornalista\", \"projeto\", \"discutir\", \"caso\", \"doenca\", \"covid\", \"mulher\", \"morte\", \"morrer\", \"leito\", \"apos\", \"vitima\", \"isolamento\", \"coronavirus\", \"social\", \"brasil\", \"pais\", \"trabalhar\", \"hospital\", \"ministerio\", \"total\", \"dois\", \"justica\", \"pandemia\", \"saude\", \"oassunto\", \"paulo\", \"casar\", \"milhao\", \"bolsonaro\", \"pessoa\", \"registrar\", \"comparar\", \"coletiva\", \"denunciar\", \"fonte\", \"alguem\", \"aviao\", \"impedir\", \"versao\", \"apartamento\", \"declaracao\", \"valeixo\", \"sobreviver\", \"deficiencia\", \"permitir\", \"sequencia\", \"assinar\", \"cardiaco\", \"pego\", \"aeroclube\", \"caber\", \"lancar\", \"estrelo\", \"autuar\", \"madonna\", \"acidenteaereo\", \"operac\", \"drasticamente\", \"advocacia\", \"parlamentar\", \"dzaus\", \"diretor\", \"repudio\", \"recorrer\", \"manifestar\", \"acao\", \"exclusivo\", \"terceira\", \"puerpera\", \"aluno\", \"inclusao\", \"vacinacao\", \"gripar\", \"globoplay\", \"bolsonaro\", \"entregar\", \"exame\", \"saude\", \"publico\", \"comedir\", \"morte\", \"pedir\", \"leia\", \"agora\", \"pandemia\", \"covid\", \"tentar\", \"paciente\", \"primeiro\", \"brasil\", \"medir\", \"presidente\", \"dizer\", \"ministro\", \"governar\", \"ministerio\", \"apos\", \"video\", \"querer\", \"coronavirus\", \"morrer\", \"sair\", \"hospital\", \"reuniao\", \"tecnico\", \"internacao\", \"escolher\", \"bairro\", \"capacete\", \"grilsqxvub\", \"inter\", \"respirar\", \"saco\", \"maternidade\", \"corrupcao\", \"aldemir\", \"engng\", \"fuqo\", \"iuyjnvgh\", \"axwg\", \"campeao\", \"wkowal\", \"rpieo\", \"ltoyr\", \"vrqgzoxjs\", \"auonkjkd\", \"maqueiro\", \"fszatf\", \"tvqqo\", \"minuto\", \"exemplo\", \"amapa\", \"eficiente\", \"bendine\", \"adiar\", \"determinar\", \"pesquisadores\", \"petrobras\", \"reabrir\", \"paciente\", \"condenar\", \"morto\", \"estudar\", \"poder\", \"coronavirus\", \"decretar\", \"mascara\", \"minutar\", \"covid\", \"quais\", \"minas\", \"vencer\", \"guerra\", \"clinicas\", \"governador\", \"curar\", \"registrar\", \"causar\", \"ajudar\", \"combater\", \"caso\", \"justica\", \"presidente\", \"morte\", \"brasil\", \"bolsonaro\", \"pais\", \"video\", \"auxilio\", \"teich\", \"mostrar\", \"paulo\", \"apos\", \"pedir\", \"fake\", \"pandemia\", \"governo\", \"hospital\", \"emergencial\", \"sair\", \"morar\", \"cardapio\", \"serio\", \"belarus\", \"plastificar\", \"aceitar\", \"luvas\", \"restaurante\", \"obito\", \"futuro\", \"inquerito\", \"nunca\", \"vxqvba\", \"famoso\", \"okplatd\", \"cinemas\", \"double\", \"fotografico\", \"iris\", \"ensaiar\", \"grav\", \"policiais\", \"kmykco\", \"estranho\", \"reacao\", \"duplo\", \"japao\", \"beneficio\", \"sjrobine\", \"vespa\", \"suposto\", \"reabertura\", \"comunidade\", \"importar\", \"talentos\", \"saudade\", \"desejo\", \"rostir\", \"pressao\", \"parar\", \"bastidores\", \"recuperar\", \"vidar\", \"passear\", \"sempre\", \"parcelar\", \"sigilar\", \"mortes\", \"video\", \"bolsonaro\", \"chegar\", \"coronavirus\", \"diferente\", \"sonho\", \"pandemia\", \"social\", \"auxilio\", \"pedir\", \"covid\", \"sair\", \"brasil\", \"brasileiro\", \"milhao\", \"carro\", \"datar\", \"isolamento\", \"diadasmaes\", \"morrer\", \"presidente\", \"horar\", \"apos\", \"ministro\", \"governar\", \"lockdown\", \"pessoa\", \"antar\", \"querer\", \"mendonca\", \"marilia\", \"separar\", \"morador\", \"gratuito\", \"prestigiar\", \"passageiro\", \"medida\", \"provisoria\", \"viver\", \"processar\", \"barrar\", \"cartaz\", \"reencontro\", \"favorito\", \"magnetico\", \"inimigo\", \"migrar\", \"viajar\", \"deputar\", \"sobrevivencia\", \"lavajato\", \"azjwh\", \"certeza\", \"autor\", \"condominio\", \"interessar\", \"sobrevivente\", \"dspawd\", \"mnhldar\", \"reunir\", \"gerar\", \"melhorar\", \"interior\", \"descobrir\", \"beber\", \"fernando\", \"teste\", \"parecer\", \"maia\", \"gravacao\", \"apontar\", \"noronha\", \"virar\", \"quarentenar\", \"europa\", \"menino\", \"false\", \"bolsonaro\", \"encontrar\", \"coronavirus\", \"apos\", \"presidente\", \"deixar\", \"reuniao\", \"saudar\", \"morto\", \"vidar\", \"partir\", \"mascara\", \"covid\", \"casar\", \"foto\", \"brasil\", \"receber\", \"antar\", \"falir\", \"dizer\", \"hospital\", \"auxilio\", \"pedir\", \"saude\", \"governar\", \"pais\", \"pessoa\", \"premio\", \"resistencia\", \"transportar\", \"centrao\", \"sandracoh\", \"intenso\", \"faturamento\", \"africa\", \"pumu\", \"vhxiyd\", \"impaciencia\", \"invertido\", \"luiz\", \"ypwvo\", \"identificar\", \"fortaleza\", \"risco\", \"humanitario\", \"lcil\", \"institucional\", \"epic\", \"cgvushas\", \"acentuar\", \"prometido\", \"bloqueio\", \"diss\", \"uzkwbkti\", \"ykebwjv\", \"xvtnvnmbpi\", \"kbosfq\", \"carreira\", \"diadoenfermeiro\", \"municipio\", \"pessoa\", \"internet\", \"aumentar\", \"dezena\", \"voltar\", \"manter\", \"pandemia\", \"governo\", \"coronavirus\", \"casar\", \"rapido\", \"distancia\", \"filar\", \"pago\", \"punicao\", \"supremo\", \"mudanca\", \"detectar\", \"alertar\", \"infeccao\", \"trabalhar\", \"bolsonaro\", \"ajudar\", \"isolamento\", \"primeiro\", \"morte\", \"liberar\", \"apos\", \"publico\", \"milhao\", \"justica\", \"brasil\", \"covid\", \"pedir\", \"dizer\", \"lockdown\", \"presidente\", \"teich\", \"exame\", \"alto\", \"ministro\", \"mara\", \"moeda\", \"continuar\", \"elefante\", \"lucro\", \"argentina\", \"marcas\", \"quebrar\", \"circulaca\", \"carros\", \"recife\", \"novorecurso\", \"test\", \"asaga\", \"atscx\", \"lvuea\", \"frustrar\", \"kccosauokj\", \"dataprev\", \"rlok\", \"aguardar\", \"ihit\", \"batalhao\", \"xwee\", \"hdfgi\", \"chwkso\", \"orapztyug\", \"solid\", \"elefantes\", \"detalhar\", \"inicio\", \"consulto\", \"valer\", \"jornalnacional\", \"fronteiro\", \"disparar\", \"festa\", \"amigo\", \"fechar\", \"cidade\", \"desde\", \"jovem\", \"dolar\", \"decretar\", \"pagamento\", \"internar\", \"final\", \"relatorio\", \"circular\", \"citar\", \"familia\", \"banco\", \"medico\", \"ficar\", \"pandemia\", \"maio\", \"ampliar\", \"pedir\", \"moro\", \"coronavirus\", \"isolamento\", \"social\", \"apos\", \"noticia\", \"mostrar\", \"emergencial\", \"brasil\", \"ministro\", \"reuniao\", \"bolsonaro\", \"auxilio\", \"video\", \"bomdiabrasil\", \"papa\", \"espantar\", \"cobranca\", \"pessoalmente\", \"afthr\", \"fogaca\", \"cinco\", \"forcar\", \"vbqgidtl\", \"relacionar\", \"atua\", \"relembre\", \"bols\", \"pvba\", \"farmacia\", \"defensivo\", \"voxumf\", \"enfrentamento\", \"informal\", \"vrdvea\", \"milhar\", \"medica\", \"wvadw\", \"aftzx\", \"bull\", \"eydguy\", \"reconhecer\", \"rcvai\", \"convite\", \"posturar\", \"horizonte\", \"belo\", \"integro\", \"problema\", \"infectar\", \"chamar\", \"ontem\", \"video\", \"numero\", \"america\", \"situacao\", \"sindrome\", \"facebook\", \"subnotificacao\", \"cidade\", \"encontrar\", \"grande\", \"andreiasadi\", \"estar\", \"desde\", \"paulo\", \"brasil\", \"vitima\", \"isolamento\", \"covid\", \"morte\", \"pandemia\", \"coronavirus\", \"registrar\", \"maio\", \"casar\", \"receber\", \"moro\", \"ministerio\", \"bolsonaro\", \"milhao\", \"presidente\", \"segundar\", \"publico\", \"previsao\", \"indigena\", \"delegar\", \"alvo\", \"preco\", \"manifes\", \"showdavida\", \"afrouxamento\", \"quantiar\", \"ndcmbqedhx\", \"anuncio\", \"destinar\", \"equipamento\", \"llenqlkrde\", \"presidencial\", \"esquema\", \"espirito\", \"mixeqp\", \"asiaticas\", \"infantil\", \"gigantes\", \"gestao\", \"alegre\", \"rigoroso\", \"qignbge\", \"unplugged\", \"distanciamen\", \"retrato\", \"clyfbddo\", \"sepultamento\", \"fotos\", \"falto\", \"terra\", \"pronto\", \"ouvir\", \"naiara\", \"opcao\", \"restricao\", \"nomeacao\", \"eficacia\", \"seguir\", \"azevedo\", \"federal\", \"utis\", \"lutar\", \"veiculo\", \"orientar\", \"anunciar\", \"ministro\", \"milhao\", \"isolar\", \"deixar\", \"campanha\", \"momento\", \"receber\", \"rodizio\", \"ajudar\", \"dois\", \"leito\", \"pandemia\", \"isolamento\", \"apos\", \"vitima\", \"liberar\", \"covid\", \"coronavirus\", \"reuniao\", \"paulo\", \"saude\", \"registrar\", \"mostrar\", \"brasil\", \"bolsonaro\", \"oassunto\", \"acusar\", \"pagodinho\", \"razao\", \"zeca\", \"sexta\", \"silva\", \"master\", \"netto\", \"tatuador\", \"dkhjuut\", \"desacreditar\", \"acidentar\", \"acalmar\", \"forca\", \"akcb\", \"advogado\", \"postar\", \"exames\", \"hungria\", \"uysrk\", \"emergencia\", \"lsvtxfheed\", \"carnaval\", \"palmares\", \"vakd\", \"transporte\", \"cubano\", \"mexicano\", \"oremos\", \"revistar\", \"estudos\", \"revelar\", \"legal\", \"maio\", \"entender\", \"render\", \"terminar\", \"isolar\", \"coronavirus\", \"suposto\", \"live\", \"governo\", \"morte\", \"noticia\", \"pedir\", \"eficacia\", \"tentar\", \"chefe\", \"causar\", \"prefeito\", \"medo\", \"calendario\", \"numero\", \"morrer\", \"reino\", \"video\", \"brasil\", \"pais\", \"mostrar\", \"apos\", \"isolamento\", \"saude\", \"social\", \"caso\", \"oassunto\", \"teich\", \"ministrar\", \"usar\", \"publico\", \"querer\", \"estar\", \"moro\", \"lockdown\"], \"Freq\": [27.0, 41.0, 93.0, 15.0, 60.0, 13.0, 20.0, 16.0, 12.0, 60.0, 44.0, 12.0, 22.0, 10.0, 9.0, 6.0, 13.0, 9.0, 11.0, 15.0, 6.0, 11.0, 14.0, 5.0, 9.0, 14.0, 16.0, 15.0, 6.0, 10.0, 2.3468985557556152, 1.5898462533950806, 1.5898420810699463, 1.5898414850234985, 1.5898387432098389, 1.5898350477218628, 1.589834451675415, 1.5898336172103882, 1.5898276567459106, 1.5898271799087524, 1.5898174047470093, 1.5898051261901855, 1.589805006980896, 1.5898044109344482, 2.014500141143799, 1.4860475063323975, 2.3468880653381348, 2.346903085708618, 1.3640079498291016, 3.1039321422576904, 3.004049062728882, 2.9624836444854736, 1.2640209197998047, 0.8327766060829163, 0.8327758312225342, 0.832775890827179, 0.8327751755714417, 0.8327751755714417, 0.8327750563621521, 0.8327748775482178, 6.130284786224365, 6.884468078613281, 2.3469042778015137, 1.589839220046997, 1.5898327827453613, 1.5898303985595703, 1.589829921722412, 9.718048095703125, 3.1039631366729736, 19.002458572387695, 3.1039578914642334, 13.70297908782959, 6.889288425445557, 3.861032724380493, 9.160552024841309, 3.8610286712646484, 6.889305114746094, 13.184496879577637, 4.6180949211120605, 7.376354694366455, 4.33040189743042, 3.1039881706237793, 3.860995292663574, 3.8609983921051025, 2.346897840499878, 3.103970766067505, 3.514230251312256, 5.279956817626953, 3.861084461212158, 3.0074100494384766, 3.103966474533081, 3.1040091514587402, 3.103987216949463, 3.4613852500915527, 3.1039955615997314, 3.0998034477233887, 2.1711649894714355, 2.171147584915161, 2.1711275577545166, 1.4707860946655273, 1.470782995223999, 1.4707821607589722, 1.4707802534103394, 1.4707763195037842, 1.4707752466201782, 1.4707717895507812, 1.8240453004837036, 1.3182995319366455, 2.1711645126342773, 2.171165943145752, 1.276881217956543, 2.871518611907959, 1.201766014099121, 1.171256422996521, 0.7704190015792847, 0.7704180479049683, 0.7704178094863892, 0.7704178094863892, 0.7704176902770996, 0.770417332649231, 0.7704172134399414, 0.7704172730445862, 0.7704170942306519, 0.7704172134399414, 0.7704169750213623, 0.7704169750213623, 3.5738325119018555, 1.4707757234573364, 1.4707934856414795, 1.4707801342010498, 1.4707905054092407, 1.4707859754562378, 1.470790147781372, 1.4707884788513184, 1.4707868099212646, 1.4707860946655273, 1.4707846641540527, 2.1711673736572266, 1.4707837104797363, 16.199010848999023, 3.995699882507324, 3.1711013317108154, 4.972647190093994, 4.2723307609558105, 2.8715450763702393, 6.759860992431641, 4.628154754638672, 2.1711513996124268, 2.1711583137512207, 6.373507499694824, 7.536902904510498, 2.47698712348938, 3.571960926055908, 2.8715317249298096, 5.222550868988037, 2.871561288833618, 3.502349853515625, 2.871535539627075, 2.871549129486084, 2.871572971343994, 2.8715898990631104, 3.572028875350952, 2.871619462966919, 2.332012891769409, 2.515916109085083, 2.1712076663970947, 2.1711881160736084, 2.1711854934692383, 2.1711857318878174, 2.2886109352111816, 2.2885775566101074, 1.5503493547439575, 1.550340175628662, 1.5503393411636353, 1.550338864326477, 1.5503333806991577, 1.5503333806991577, 1.5503296852111816, 1.5503294467926025, 0.8120898008346558, 0.8120898008346558, 0.8120890259742737, 0.8120883703231812, 0.8120884895324707, 0.8120883703231812, 0.8120880722999573, 0.8120877742767334, 0.8120877146720886, 0.8120872974395752, 0.8120871186256409, 0.8120871782302856, 0.812086820602417, 0.812086820602417, 0.8120869398117065, 0.8120866417884827, 0.8120867013931274, 0.8120866417884827, 0.8120865225791931, 0.8120865225791931, 2.288618326187134, 2.2885985374450684, 1.5503489971160889, 1.5503536462783813, 1.5503408908843994, 7.252317905426025, 1.5503476858139038, 4.503427028656006, 2.2885959148406982, 3.6324377059936523, 19.675392150878906, 2.2886035442352295, 4.503396511077881, 1.5503389835357666, 11.634586334228516, 1.5503406524658203, 1.5503487586975098, 1.5503309965133667, 1.5503355264663696, 1.550347089767456, 2.2886171340942383, 1.939298391342163, 4.175897598266602, 2.9568188190460205, 2.671976089477539, 2.2886102199554443, 4.134937286376953, 3.0268967151641846, 3.6791210174560547, 4.834493160247803, 4.43281888961792, 5.241738319396973, 3.026897668838501, 3.5696346759796143, 3.0269107818603516, 2.740466833114624, 2.892042875289917, 2.7029783725738525, 3.476895809173584, 2.7060420513153076, 2.2933766841888428, 2.288701295852661, 2.2886478900909424, 2.2886407375335693, 2.288630723953247, 2.2886197566986084, 1.4942739009857178, 1.494273066520691, 1.4942718744277954, 1.4942713975906372, 1.4942708015441895, 1.4942699670791626, 1.4942691326141357, 1.494268774986267, 1.4942620992660522, 1.4942570924758911, 2.917382001876831, 2.917372465133667, 0.7827198505401611, 0.7827195525169373, 0.7827193737030029, 0.7827192544937134, 0.7827185392379761, 0.7827183604240417, 0.7827183604240417, 0.7827181816101074, 0.7827181816101074, 0.7827178239822388, 0.7827175259590149, 0.7827175259590149, 0.7827175259590149, 0.7827174663543701, 0.782717227935791, 0.7827169895172119, 0.7827168703079224, 0.782716691493988, 2.2058284282684326, 1.494260311126709, 1.4942625761032104, 2.2058327198028564, 2.2058210372924805, 2.2058188915252686, 2.2058167457580566, 2.205810785293579, 1.494263768196106, 1.4942682981491089, 2.2058327198028564, 1.4942535161972046, 5.763626575469971, 1.494271993637085, 1.4942634105682373, 2.855483293533325, 1.9767217636108398, 2.2058279514312744, 6.66370153427124, 10.841226577758789, 3.628909111022949, 12.449026107788086, 2.2058510780334473, 2.2058181762695312, 6.2242560386657715, 3.579288959503174, 3.566763162612915, 3.799504280090332, 5.337390899658203, 2.917421340942383, 3.629006862640381, 2.20584774017334, 2.733354330062866, 2.2058303356170654, 2.141554594039917, 2.868460178375244, 2.205843210220337, 2.408888339996338, 2.276583194732666, 2.214540958404541, 2.2058756351470947, 2.205872058868408, 2.2058658599853516, 2.2058610916137695, 2.205857753753662, 2.205855131149292, 2.2058463096618652, 2.1531128883361816, 2.153096914291382, 1.4585661888122559, 1.4585623741149902, 1.4585586786270142, 1.4585562944412231, 1.4362025260925293, 1.394694447517395, 1.3655574321746826, 1.318751335144043, 2.153108596801758, 0.7640155553817749, 0.7640145421028137, 0.7640141248703003, 0.764013946056366, 0.764013409614563, 0.7640129327774048, 0.7640127539634705, 0.7640127539634705, 0.7640124559402466, 0.7640123963356018, 0.7640123963356018, 0.7640120983123779, 0.7640120387077332, 0.7640120387077332, 0.7640118598937988, 0.7640118598937988, 0.7640117406845093, 0.7640116810798645, 0.7640115022659302, 1.8938369750976562, 1.4585492610931396, 1.4556576013565063, 2.153106451034546, 1.4585623741149902, 1.4585609436035156, 1.4585508108139038, 2.1531102657318115, 2.15311598777771, 2.1531341075897217, 1.0403944253921509, 2.153125524520874, 1.7523376941680908, 1.9176414012908936, 3.5422303676605225, 1.4585671424865723, 1.4585504531860352, 1.8218955993652344, 10.407426834106445, 2.153125524520874, 11.23690128326416, 6.320489883422852, 4.31775426864624, 2.8476479053497314, 3.1720948219299316, 2.8476781845092773, 2.847667932510376, 2.8476781845092773, 2.1531178951263428, 2.8243789672851562, 4.9314866065979, 2.8487112522125244, 2.1531224250793457, 3.5851542949676514, 2.486391067504883, 2.209730386734009, 2.1531240940093994, 2.153146743774414, 2.153170108795166, 2.1531617641448975, 2.1531543731689453, 2.153139591217041, 2.1531383991241455, 2.1531362533569336, 2.1531260013580322, 1.4318825006484985, 1.4318821430206299, 1.431878924369812, 1.4318777322769165, 1.4318759441375732, 1.431875467300415, 1.4318711757659912, 1.43186616897583, 0.7500384449958801, 0.7500377297401428, 0.7500376105308533, 0.7500374913215637, 0.7500372529029846, 0.7500370740890503, 0.7500369548797607, 0.750036895275116, 0.7500369548797607, 0.750036895275116, 0.750036358833313, 0.7500364184379578, 0.7500360608100891, 0.7500360012054443, 0.7500360012054443, 0.75003582239151, 0.7500357627868652, 0.7500349879264832, 0.7500351667404175, 0.7500349879264832, 0.7500349283218384, 0.7500348687171936, 0.7500349879264832, 1.431884765625, 1.4318772554397583, 6.204836368560791, 2.1137218475341797, 2.1137375831604004, 1.4318783283233643, 2.1137351989746094, 2.1137359142303467, 7.934320449829102, 3.4774622917175293, 11.52871036529541, 3.4774513244628906, 1.4318708181381226, 1.4318866729736328, 1.431879997253418, 1.4318825006484985, 1.4318867921829224, 1.431879997253418, 1.4318708181381226, 1.4318664073944092, 1.431894302368164, 1.4318970441818237, 2.113729953765869, 5.523046970367432, 2.1137278079986572, 3.4775009155273438, 2.1137454509735107, 3.6895248889923096, 2.1137564182281494, 3.2486774921417236, 2.113727331161499, 2.113762855529785, 1.8678131103515625, 1.902411699295044, 1.4320272207260132, 1.4319535493850708, 1.431925654411316, 1.4319244623184204, 1.4319208860397339, 1.4319175481796265, 1.4319148063659668, 1.4319120645523071, 1.4319111108779907, 1.4380874633789062, 1.438084363937378, 1.4380838871002197, 1.4380830526351929, 1.438072919845581, 2.1228950023651123, 0.7532869577407837, 0.7532856464385986, 0.7532856464385986, 0.7532851696014404, 0.75328528881073, 0.7532850503921509, 0.7532849907875061, 0.753284752368927, 0.7532843947410583, 0.753284215927124, 0.7532840371131897, 0.7532840371131897, 0.7532839179039001, 0.7532840371131897, 0.7532840371131897, 0.7532839179039001, 0.753283679485321, 0.753283679485321, 0.7532836198806763, 0.7532835602760315, 0.7532830238342285, 0.7532829642295837, 0.7532829642295837, 0.7532827258110046, 1.438092589378357, 1.438082218170166, 1.4380830526351929, 1.4380838871002197, 1.4380831718444824, 1.4380639791488647, 1.4380749464035034, 1.4380842447280884, 2.80769419670105, 2.6910367012023926, 2.807680606842041, 2.0289573669433594, 2.1228935718536377, 2.12288236618042, 2.278665065765381, 2.787362575531006, 1.4380824565887451, 1.4380661249160767, 1.4380944967269897, 2.8076820373535156, 1.9766958951950073, 1.594702124595642, 2.8076822757720947, 2.7857003211975098, 5.945141792297363, 2.807626724243164, 2.1228957176208496, 3.654705047607422, 2.8077306747436523, 6.347353935241699, 3.3779633045196533, 2.662736415863037, 3.392263412475586, 2.123563766479492, 2.5202128887176514, 2.1229186058044434, 2.831068277359009, 2.1229052543640137, 2.122924566268921, 2.807814359664917, 2.18279767036438, 2.1229231357574463, 2.092956066131592, 1.4178035259246826, 1.417794108390808, 1.4177926778793335, 1.2717450857162476, 0.742666482925415, 0.742665708065033, 0.7426652312278748, 0.7426652312278748, 0.7426651120185852, 0.7426646947860718, 0.7426643371582031, 0.7426639199256897, 0.7426639795303345, 0.7426637411117554, 0.742663562297821, 0.7426633834838867, 0.7426633238792419, 0.7426632046699524, 0.7426630258560181, 0.7426629662513733, 0.7426624894142151, 0.7426624298095703, 0.7426623702049255, 0.7426623702049255, 0.7426621913909912, 0.7426620721817017, 0.7426620125770569, 0.742661714553833, 0.7426617741584778, 1.4178109169006348, 1.4178072214126587, 1.4177980422973633, 1.417806625366211, 1.4177972078323364, 1.4177801609039307, 1.998427391052246, 1.3134820461273193, 6.709315776824951, 3.4432857036590576, 1.4178191423416138, 1.417810082435608, 1.812960147857666, 1.417792797088623, 1.4177954196929932, 2.092971086502075, 2.092965841293335, 2.092952013015747, 1.7427423000335693, 2.768085479736328, 1.9708977937698364, 3.065319538116455, 4.327786922454834, 2.0929744243621826, 3.556309461593628, 4.738867282867432, 3.9085519313812256, 3.7564425468444824, 4.24833869934082, 2.3962771892547607, 2.092984199523926, 2.1795852184295654, 2.0929524898529053, 2.0929665565490723, 2.0929644107818604, 2.8465428352355957, 2.0929527282714844, 2.092982530593872, 1.593583106994629, 1.4870400428771973, 1.4270429611206055, 1.4270391464233398, 1.4270308017730713, 1.4270291328430176, 1.4270260334014893, 0.7475008368492126, 0.7475007772445679, 0.7475003600120544, 0.7475003004074097, 0.7474998831748962, 0.7474998831748962, 0.7474998831748962, 0.7474998831748962, 0.7474998235702515, 0.7474998831748962, 0.7474995851516724, 0.7474992275238037, 0.7474990487098694, 0.7474990487098694, 0.7474988698959351, 0.7474988698959351, 0.7474988102912903, 0.7474985718727112, 0.7474983930587769, 0.7474983930587769, 0.7474982142448425, 0.7474979758262634, 0.7474980354309082, 0.7474976181983948, 0.7474973797798157, 0.7474974393844604, 2.7860898971557617, 2.1065714359283447, 1.4270403385162354, 1.4270280599594116, 1.4270275831222534, 1.4270341396331787, 1.4270460605621338, 1.427030324935913, 2.1065711975097656, 2.106583595275879, 1.4270411729812622, 2.7861533164978027, 1.4270520210266113, 1.42703115940094, 2.1065776348114014, 1.4270365238189697, 2.78615140914917, 3.4656896591186523, 3.4656753540039062, 1.4498862028121948, 2.5735678672790527, 1.4270288944244385, 1.4270479679107666, 2.7861452102661133, 2.1065871715545654, 2.1066040992736816, 2.106598377227783, 2.1065902709960938, 4.145288467407227, 3.365885019302368, 3.565244674682617, 2.106616735458374, 2.106642007827759, 3.3031582832336426, 3.465911626815796, 2.1066110134124756, 2.1066198348999023, 2.2237677574157715, 2.106600522994995, 2.106653928756714, 2.106693983078003, 2.106677293777466, 1.581120252609253, 1.3982915878295898, 1.398283839225769, 1.3982789516448975, 1.3982771635055542, 1.3981680870056152, 0.7324397563934326, 0.732437789440155, 0.7324376702308655, 0.7324376702308655, 0.7324371337890625, 0.732437014579773, 0.7324369549751282, 0.7324369549751282, 0.7324368953704834, 0.7324360609054565, 0.7324357032775879, 0.7324355840682983, 0.7324355840682983, 0.7324354648590088, 0.7324355244636536, 0.7324352264404297, 0.7324352264404297, 0.7324352264404297, 0.7324353456497192, 0.7324350476264954, 0.7324350476264954, 0.7324351072311401, 0.7324349284172058, 0.7324348092079163, 0.732434868812561, 1.3982831239700317, 1.398260235786438, 1.39828360080719, 4.061681270599365, 1.398275375366211, 1.3982734680175781, 2.064136505126953, 1.3982937335968018, 8.72292709350586, 1.398288607597351, 2.2188491821289062, 2.7300209999084473, 4.727629661560059, 2.0640482902526855, 3.395864725112915, 1.3982927799224854, 1.7733955383300781, 1.3982887268066406, 2.064129114151001, 1.398295521736145, 1.3982661962509155, 1.398287296295166, 2.0641281604766846, 2.5400326251983643, 1.3982950448989868, 2.8382513523101807, 2.730090856552124, 2.0641610622406006, 2.0641942024230957, 2.064232587814331, 1.3983490467071533, 1.3983385562896729, 1.3983306884765625, 1.3983296155929565, 1.3983237743377686, 1.3983222246170044, 1.3983211517333984, 1.3983118534088135, 1.3983113765716553, 1.3983112573623657, 1.3983107805252075, 1.3983088731765747, 1.3983078002929688], \"Total\": [27.0, 41.0, 93.0, 15.0, 60.0, 13.0, 20.0, 16.0, 12.0, 60.0, 44.0, 12.0, 22.0, 10.0, 9.0, 6.0, 13.0, 9.0, 11.0, 15.0, 6.0, 11.0, 14.0, 5.0, 9.0, 14.0, 16.0, 15.0, 6.0, 10.0, 2.970154047012329, 2.2130753993988037, 2.2130744457244873, 2.2130751609802246, 2.2130744457244873, 2.213074207305908, 2.213074207305908, 2.213074207305908, 2.213073253631592, 2.21307373046875, 2.2130727767944336, 2.213071346282959, 2.2130720615386963, 2.213071584701538, 2.945263624191284, 2.203167676925659, 3.6817262172698975, 3.7084264755249023, 2.19616436958313, 5.147367477416992, 5.07681131362915, 5.072844982147217, 2.1886773109436035, 1.4559952020645142, 1.4559948444366455, 1.4559950828552246, 1.455994963645935, 1.455994963645935, 1.455994963645935, 1.4559948444366455, 10.9428071975708, 12.442489624023438, 4.365114212036133, 2.892632007598877, 2.8926315307617188, 2.894937753677368, 2.894937515258789, 20.384977340698242, 6.534104824066162, 60.486656188964844, 6.553512096405029, 41.39740753173828, 18.535558700561523, 9.349853515625, 37.564144134521484, 9.915148735046387, 28.13453483581543, 93.37496948242188, 15.609734535217285, 38.14393615722656, 16.38913345336914, 8.609408378601074, 13.579755783081055, 14.24594497680664, 5.0186967849731445, 9.300747871398926, 12.198371887207031, 44.0673713684082, 20.45694351196289, 10.662858963012695, 14.841371536254883, 15.443349838256836, 16.13825225830078, 60.40949630737305, 16.90630340576172, 17.074804306030273, 2.8000874519348145, 2.8000869750976562, 2.800086736679077, 2.099696159362793, 2.099696397781372, 2.099696159362793, 2.099696397781372, 2.099696159362793, 2.099696397781372, 2.099696636199951, 2.7829747200012207, 2.094203233718872, 3.4819507598876953, 3.538360834121704, 2.0927116870880127, 4.874604225158691, 2.090006113052368, 2.08890700340271, 1.399305820465088, 1.3993059396743774, 1.3993057012557983, 1.399305820465088, 1.3993057012557983, 1.3993055820465088, 1.3993055820465088, 1.3993057012557983, 1.3993055820465088, 1.3993059396743774, 1.3993057012557983, 1.3993057012557983, 7.021660804748535, 2.7655601501464844, 2.774858236312866, 2.774857997894287, 2.77925443649292, 2.7792537212371826, 2.781559944152832, 2.781560182571411, 2.781559944152832, 2.7815604209899902, 2.7815604209899902, 4.220223903656006, 2.7867841720581055, 60.40949630737305, 10.50087833404541, 9.186548233032227, 20.45694351196289, 16.11126136779785, 8.414161682128906, 41.39740753173828, 22.959779739379883, 5.685417652130127, 5.690679550170898, 44.0673713684082, 60.486656188964844, 7.6681437492370605, 15.806546211242676, 10.444701194763184, 38.14393615722656, 10.551817893981934, 21.209957122802734, 13.4330415725708, 13.811595916748047, 14.057107925415039, 14.24594497680664, 37.564144134521484, 27.252965927124023, 9.771018028259277, 93.37496948242188, 18.535558700561523, 12.790340423583984, 13.579755783081055, 13.893559455871582, 2.91373610496521, 2.9137346744537354, 2.1754627227783203, 2.175462007522583, 2.175462245941162, 2.175462245941162, 2.175461769104004, 2.175461769104004, 2.175461530685425, 2.175461530685425, 1.437188744544983, 1.4371888637542725, 1.4371888637542725, 1.4371886253356934, 1.4371888637542725, 1.437188744544983, 1.4371886253356934, 1.437188744544983, 1.4371888637542725, 1.437188744544983, 1.4371885061264038, 1.437188744544983, 1.437188744544983, 1.4371886253356934, 1.4371888637542725, 1.4371886253356934, 1.437188744544983, 1.4371886253356934, 1.4371885061264038, 1.437188744544983, 4.261465072631836, 4.297824382781982, 2.8506243228912354, 2.8758528232574463, 2.887035369873047, 15.806546211242676, 2.932542562484741, 11.408235549926758, 5.037271976470947, 9.39603328704834, 93.37496948242188, 5.643346309661865, 14.307272911071777, 3.5354392528533936, 60.486656188964844, 3.5577163696289062, 3.5617377758026123, 3.5645782947540283, 3.587425708770752, 3.627110242843628, 6.417017936706543, 5.047517776489258, 17.074804306030273, 10.48886489868164, 9.232221603393555, 7.036759376525879, 20.384977340698242, 12.198371887207031, 21.209957122802734, 41.39740753173828, 38.14393615722656, 60.40949630737305, 16.38913345336914, 27.252965927124023, 16.91701889038086, 13.317853927612305, 17.551374435424805, 14.841371536254883, 37.564144134521484, 22.959779739379883, 12.442489624023438, 44.0673713684082, 14.595975875854492, 13.579755783081055, 12.029092788696289, 12.790340423583984, 2.1220622062683105, 2.1220617294311523, 2.1220622062683105, 2.1220622062683105, 2.1220622062683105, 2.1220619678497314, 2.1220619678497314, 2.1220617294311523, 2.1220614910125732, 2.1220617294311523, 4.891888618469238, 4.925156593322754, 1.410488486289978, 1.4104886054992676, 1.4104886054992676, 1.4104886054992676, 1.4104887247085571, 1.4104883670806885, 1.4104886054992676, 1.4104886054992676, 1.4104888439178467, 1.4104886054992676, 1.4104883670806885, 1.4104883670806885, 1.4104886054992676, 1.4104886054992676, 1.410488486289978, 1.410488486289978, 1.410488486289978, 1.410488247871399, 4.165363788604736, 2.79722261428833, 2.801619052886963, 4.266476631164551, 4.266477108001709, 4.266477584838867, 4.266477108001709, 4.266477108001709, 2.806878089904785, 2.8224523067474365, 4.291104316711426, 2.860334634780884, 12.746018409729004, 2.8791403770446777, 2.8791403770446777, 6.332225799560547, 4.207545280456543, 4.910459041595459, 27.252965927124023, 60.40949630737305, 12.046547889709473, 93.37496948242188, 5.580042839050293, 5.689420700073242, 44.0673713684082, 15.609734535217285, 16.91701889038086, 22.959779739379883, 60.486656188964844, 12.790340423583984, 38.14393615722656, 7.67627477645874, 16.13825225830078, 7.831854343414307, 7.7429938316345215, 28.13453483581543, 9.151290893554688, 18.535558700561523, 21.209957122802734, 11.325769424438477, 37.564144134521484, 13.811595916748047, 14.057107925415039, 13.378274917602539, 16.90630340576172, 10.608556747436523, 9.771018028259277, 2.7826218605041504, 2.7826223373413086, 2.088052749633789, 2.088052749633789, 2.088052272796631, 2.088052749633789, 2.087738513946533, 2.086268424987793, 2.085453987121582, 2.0822744369506836, 3.467437505722046, 1.3934838771820068, 1.3934837579727173, 1.3934837579727173, 1.3934837579727173, 1.3934838771820068, 1.3934837579727173, 1.3934838771820068, 1.3934838771820068, 1.3934837579727173, 1.3934837579727173, 1.3934838771820068, 1.3934837579727173, 1.3934837579727173, 1.3934838771820068, 1.3934837579727173, 1.3934837579727173, 1.3934837579727173, 1.3934839963912964, 1.3934838771820068, 3.4793717861175537, 2.763214349746704, 2.7699875831604004, 4.2779741287231445, 2.8263258934020996, 2.826326370239258, 2.8451316356658936, 4.8400373458862305, 4.844433307647705, 4.962846279144287, 2.0982906818389893, 5.596696853637695, 4.3219990730285645, 4.891669273376465, 11.913856506347656, 3.454307794570923, 3.4844424724578857, 4.820428848266602, 60.40949630737305, 6.220069408416748, 93.37496948242188, 37.564144134521484, 21.209957122802734, 10.50914192199707, 13.893559455871582, 11.304352760314941, 11.408235549926758, 12.746018409729004, 6.955348968505859, 14.307272911071777, 60.486656188964844, 15.443349838256836, 7.158814907073975, 38.14393615722656, 13.287104606628418, 10.608556747436523, 10.524099349975586, 13.4330415725708, 13.579755783081055, 16.91701889038086, 22.959779739379883, 20.45694351196289, 14.057107925415039, 16.38913345336914, 16.90630340576172, 2.0626423358917236, 2.0626420974731445, 2.0626423358917236, 2.0626423358917236, 2.0626423358917236, 2.0626425743103027, 2.0626425743103027, 2.062642812728882, 1.3807785511016846, 1.3807786703109741, 1.380778431892395, 1.380778431892395, 1.3807785511016846, 1.3807785511016846, 1.3807785511016846, 1.380778431892395, 1.3807787895202637, 1.3807786703109741, 1.3807786703109741, 1.3807787895202637, 1.3807785511016846, 1.3807785511016846, 1.3807785511016846, 1.380778431892395, 1.3807786703109741, 1.3807783126831055, 1.3807785511016846, 1.3807785511016846, 1.3807785511016846, 1.380778431892395, 1.3807787895202637, 2.8197214603424072, 2.8197214603424072, 16.90630340576172, 4.785923957824707, 4.801501750946045, 3.440080404281616, 6.2638726234436035, 6.270096778869629, 44.0673713684082, 14.595975875854492, 93.37496948242188, 15.443349838256836, 4.127101898193359, 4.146050930023193, 4.146337509155273, 4.159423828125, 4.1671929359436035, 4.180863857269287, 4.199787616729736, 4.207058429718018, 4.210853576660156, 4.233156681060791, 8.609408378601074, 60.40949630737305, 9.232221603393555, 28.13453483581543, 10.444701194763184, 41.39740753173828, 11.21045970916748, 37.564144134521484, 16.11126136779785, 16.13825225830078, 12.198371887207031, 38.14393615722656, 60.486656188964844, 22.959779739379883, 13.4330415725708, 13.378274917602539, 21.209957122802734, 13.317853927612305, 9.186548233032227, 9.167057991027832, 13.811595916748047, 2.068547487258911, 2.068547248840332, 2.068547487258911, 2.0685477256774902, 2.0685477256774902, 3.435227394104004, 1.3837311267852783, 1.3837310075759888, 1.3837313652038574, 1.3837312459945679, 1.3837313652038574, 1.3837312459945679, 1.3837313652038574, 1.3837311267852783, 1.3837311267852783, 1.3837312459945679, 1.3837311267852783, 1.3837312459945679, 1.3837311267852783, 1.3837313652038574, 1.3837313652038574, 1.3837312459945679, 1.3837312459945679, 1.3837313652038574, 1.3837313652038574, 1.3837312459945679, 1.3837312459945679, 1.3837313652038574, 1.3837313652038574, 1.3837312459945679, 2.743708848953247, 2.7631001472473145, 2.7631165981292725, 2.7689380645751953, 2.7689383029937744, 2.7689387798309326, 2.773623466491699, 2.825627088546753, 6.31297492980957, 6.173160076141357, 6.9009294509887695, 4.8877034187316895, 5.591747760772705, 5.643346309661865, 6.287873268127441, 8.427020072937012, 3.428980588912964, 3.4484963417053223, 3.474689483642578, 9.072303771972656, 5.521173477172852, 4.168721675872803, 10.62314510345459, 10.514123916625977, 44.0673713684082, 13.106525421142578, 7.520110607147217, 22.959779739379883, 13.866964340209961, 93.37496948242188, 28.13453483581543, 15.609734535217285, 37.564144134521484, 9.061359405517578, 17.551374435424805, 12.029092788696289, 38.14393615722656, 13.811595916748047, 13.893559455871582, 60.40949630737305, 16.91701889038086, 27.252965927124023, 2.7243988513946533, 2.0492377281188965, 2.0492382049560547, 2.049238443374634, 2.047227621078491, 1.3740761280059814, 1.3740761280059814, 1.374076247215271, 1.3740763664245605, 1.374076247215271, 1.3740761280059814, 1.3740761280059814, 1.374076247215271, 1.3740763664245605, 1.3740761280059814, 1.374076247215271, 1.3740763664245605, 1.3740763664245605, 1.374076247215271, 1.374076247215271, 1.374076247215271, 1.3740763664245605, 1.3740763664245605, 1.3740763664245605, 1.37407648563385, 1.3740763664245605, 1.3740763664245605, 1.3740763664245605, 1.374076247215271, 1.3740766048431396, 2.7340540885925293, 2.7438066005706787, 2.7438066005706787, 2.7496280670166016, 2.7577667236328125, 2.8063182830810547, 4.162039756774902, 2.7326180934906006, 27.252965927124023, 11.824213027954102, 3.4106595516204834, 3.4344451427459717, 4.934104919433594, 3.499084234237671, 3.5067083835601807, 6.173160076141357, 6.220069408416748, 6.2230119705200195, 5.537581443786621, 11.999924659729004, 6.9009294509887695, 14.841371536254883, 38.14393615722656, 9.915148735046387, 28.13453483581543, 60.486656188964844, 41.39740753173828, 44.0673713684082, 93.37496948242188, 17.074804306030273, 13.106525421142578, 15.443349838256836, 13.287104606628418, 13.866964340209961, 14.24594497680664, 60.40949630737305, 16.13825225830078, 21.209957122802734, 8.400821685791016, 16.11126136779785, 2.058029890060425, 2.058030366897583, 2.058030128479004, 2.058030366897583, 2.0580310821533203, 1.3784724473953247, 1.3784723281860352, 1.3784723281860352, 1.3784726858139038, 1.3784724473953247, 1.3784723281860352, 1.3784725666046143, 1.3784725666046143, 1.3784725666046143, 1.3784726858139038, 1.3784724473953247, 1.3784723281860352, 1.3784723281860352, 1.3784724473953247, 1.3784723281860352, 1.3784724473953247, 1.3784723281860352, 1.3784725666046143, 1.3784725666046143, 1.3784724473953247, 1.3784725666046143, 1.3784724473953247, 1.3784724473953247, 1.3784726858139038, 1.3784724473953247, 1.3784725666046143, 5.5154547691345215, 4.1325483322143555, 2.73319149017334, 2.739894151687622, 2.7584214210510254, 2.7696032524108887, 2.7963032722473145, 2.815110445022583, 4.780889511108398, 4.858394622802734, 3.4588119983673096, 9.019938468933105, 3.4908721446990967, 3.5078775882720947, 6.176273822784424, 3.5154991149902344, 9.74411392211914, 13.811595916748047, 16.13825225830078, 4.076901435852051, 10.50914192199707, 4.156135559082031, 4.162795543670654, 13.287104606628418, 8.221524238586426, 9.232221603393555, 9.300747871398926, 9.349853515625, 44.0673713684082, 28.13453483581543, 37.564144134521484, 9.915148735046387, 11.21045970916748, 60.486656188964844, 93.37496948242188, 13.893559455871582, 14.841371536254883, 20.45694351196289, 17.074804306030273, 17.551374435424805, 38.14393615722656, 60.40949630737305, 10.662858963012695, 2.0306429862976074, 2.0306434631347656, 2.0306434631347656, 2.030643939971924, 2.030649423599243, 1.3647791147232056, 1.3647788763046265, 1.3647791147232056, 1.3647791147232056, 1.364778995513916, 1.364778995513916, 1.364778995513916, 1.364778995513916, 1.364778995513916, 1.3647792339324951, 1.364778995513916, 1.3647791147232056, 1.3647792339324951, 1.3647791147232056, 1.3647792339324951, 1.364778995513916, 1.364778995513916, 1.364778995513916, 1.3647792339324951, 1.3647791147232056, 1.3647791147232056, 1.3647792339324951, 1.364778995513916, 1.3647792339324951, 1.3647792339324951, 2.710200786590576, 2.7125086784362793, 2.7310338020324707, 13.106525421142578, 3.448474645614624, 3.4695868492126465, 6.1993727684021, 4.076901435852051, 93.37496948242188, 4.165363788604736, 9.737677574157715, 14.595975875854492, 41.39740753173828, 9.061359405517578, 22.959779739379883, 4.780889511108398, 7.6681437492370605, 4.842833042144775, 10.48886489868164, 4.85784387588501, 4.893926620483398, 4.911202430725098, 11.824213027954102, 18.535558700561523, 5.451007843017578, 27.252965927124023, 38.14393615722656, 16.38913345336914, 17.551374435424805, 37.564144134521484, 28.13453483581543, 20.45694351196289, 15.609734535217285, 20.384977340698242, 10.662858963012695, 13.317853927612305, 11.995790481567383, 12.666407585144043, 16.11126136779785, 9.771018028259277, 11.999924659729004, 13.866964340209961, 13.378274917602539], \"Category\": [\"Default\", \"Default\", \"Default\", \"Default\", \"Default\", \"Default\", \"Default\", \"Default\", \"Default\", \"Default\", \"Default\", \"Default\", \"Default\", \"Default\", \"Default\", \"Default\", \"Default\", \"Default\", \"Default\", \"Default\", \"Default\", \"Default\", \"Default\", \"Default\", \"Default\", \"Default\", \"Default\", \"Default\", \"Default\", \"Default\", \"Topic1\", \"Topic1\", \"Topic1\", \"Topic1\", \"Topic1\", \"Topic1\", \"Topic1\", \"Topic1\", \"Topic1\", \"Topic1\", \"Topic1\", \"Topic1\", \"Topic1\", \"Topic1\", \"Topic1\", \"Topic1\", \"Topic1\", \"Topic1\", \"Topic1\", \"Topic1\", \"Topic1\", \"Topic1\", \"Topic1\", \"Topic1\", \"Topic1\", \"Topic1\", \"Topic1\", \"Topic1\", \"Topic1\", \"Topic1\", \"Topic1\", \"Topic1\", \"Topic1\", \"Topic1\", \"Topic1\", \"Topic1\", \"Topic1\", \"Topic1\", \"Topic1\", \"Topic1\", \"Topic1\", \"Topic1\", \"Topic1\", \"Topic1\", \"Topic1\", \"Topic1\", \"Topic1\", \"Topic1\", \"Topic1\", \"Topic1\", \"Topic1\", \"Topic1\", \"Topic1\", \"Topic1\", \"Topic1\", \"Topic1\", \"Topic1\", \"Topic1\", \"Topic1\", \"Topic1\", \"Topic1\", \"Topic1\", \"Topic1\", \"Topic1\", \"Topic1\", \"Topic1\", \"Topic2\", \"Topic2\", \"Topic2\", \"Topic2\", \"Topic2\", \"Topic2\", \"Topic2\", \"Topic2\", \"Topic2\", \"Topic2\", \"Topic2\", \"Topic2\", \"Topic2\", \"Topic2\", \"Topic2\", \"Topic2\", \"Topic2\", \"Topic2\", \"Topic2\", \"Topic2\", \"Topic2\", \"Topic2\", \"Topic2\", \"Topic2\", \"Topic2\", \"Topic2\", \"Topic2\", \"Topic2\", \"Topic2\", \"Topic2\", \"Topic2\", \"Topic2\", \"Topic2\", \"Topic2\", \"Topic2\", \"Topic2\", \"Topic2\", \"Topic2\", \"Topic2\", \"Topic2\", \"Topic2\", \"Topic2\", \"Topic2\", \"Topic2\", \"Topic2\", \"Topic2\", \"Topic2\", \"Topic2\", \"Topic2\", \"Topic2\", \"Topic2\", \"Topic2\", \"Topic2\", \"Topic2\", \"Topic2\", \"Topic2\", \"Topic2\", \"Topic2\", \"Topic2\", \"Topic2\", \"Topic2\", \"Topic2\", \"Topic2\", \"Topic2\", \"Topic2\", \"Topic2\", \"Topic2\", \"Topic2\", \"Topic2\", \"Topic2\", \"Topic2\", \"Topic2\", \"Topic2\", \"Topic3\", \"Topic3\", \"Topic3\", \"Topic3\", \"Topic3\", \"Topic3\", \"Topic3\", \"Topic3\", \"Topic3\", \"Topic3\", \"Topic3\", \"Topic3\", \"Topic3\", \"Topic3\", \"Topic3\", \"Topic3\", \"Topic3\", \"Topic3\", \"Topic3\", \"Topic3\", \"Topic3\", \"Topic3\", \"Topic3\", \"Topic3\", \"Topic3\", \"Topic3\", \"Topic3\", \"Topic3\", \"Topic3\", \"Topic3\", \"Topic3\", \"Topic3\", \"Topic3\", \"Topic3\", \"Topic3\", \"Topic3\", \"Topic3\", \"Topic3\", \"Topic3\", \"Topic3\", \"Topic3\", \"Topic3\", \"Topic3\", \"Topic3\", \"Topic3\", \"Topic3\", \"Topic3\", \"Topic3\", \"Topic3\", \"Topic3\", \"Topic3\", \"Topic3\", \"Topic3\", \"Topic3\", \"Topic3\", \"Topic3\", \"Topic3\", \"Topic3\", \"Topic3\", \"Topic3\", \"Topic3\", \"Topic3\", \"Topic3\", \"Topic3\", \"Topic3\", \"Topic3\", \"Topic3\", \"Topic3\", \"Topic3\", \"Topic3\", \"Topic3\", \"Topic3\", \"Topic3\", \"Topic3\", \"Topic3\", \"Topic3\", \"Topic4\", \"Topic4\", \"Topic4\", \"Topic4\", \"Topic4\", \"Topic4\", \"Topic4\", \"Topic4\", \"Topic4\", \"Topic4\", \"Topic4\", \"Topic4\", \"Topic4\", \"Topic4\", \"Topic4\", \"Topic4\", \"Topic4\", \"Topic4\", \"Topic4\", \"Topic4\", \"Topic4\", \"Topic4\", \"Topic4\", \"Topic4\", \"Topic4\", \"Topic4\", \"Topic4\", \"Topic4\", \"Topic4\", \"Topic4\", \"Topic4\", \"Topic4\", \"Topic4\", \"Topic4\", \"Topic4\", \"Topic4\", \"Topic4\", \"Topic4\", \"Topic4\", \"Topic4\", \"Topic4\", \"Topic4\", \"Topic4\", \"Topic4\", \"Topic4\", \"Topic4\", \"Topic4\", \"Topic4\", \"Topic4\", \"Topic4\", \"Topic4\", \"Topic4\", \"Topic4\", \"Topic4\", \"Topic4\", \"Topic4\", \"Topic4\", \"Topic4\", \"Topic4\", \"Topic4\", \"Topic4\", \"Topic4\", \"Topic4\", \"Topic4\", \"Topic4\", \"Topic4\", \"Topic4\", \"Topic4\", \"Topic4\", \"Topic4\", \"Topic4\", \"Topic4\", \"Topic4\", \"Topic4\", \"Topic4\", \"Topic4\", \"Topic4\", \"Topic5\", \"Topic5\", \"Topic5\", \"Topic5\", \"Topic5\", \"Topic5\", \"Topic5\", \"Topic5\", \"Topic5\", \"Topic5\", \"Topic5\", \"Topic5\", \"Topic5\", \"Topic5\", \"Topic5\", \"Topic5\", \"Topic5\", \"Topic5\", \"Topic5\", \"Topic5\", \"Topic5\", \"Topic5\", \"Topic5\", \"Topic5\", \"Topic5\", \"Topic5\", \"Topic5\", \"Topic5\", \"Topic5\", \"Topic5\", \"Topic5\", \"Topic5\", \"Topic5\", \"Topic5\", \"Topic5\", \"Topic5\", \"Topic5\", \"Topic5\", \"Topic5\", \"Topic5\", \"Topic5\", \"Topic5\", \"Topic5\", \"Topic5\", \"Topic5\", \"Topic5\", \"Topic5\", \"Topic5\", \"Topic5\", \"Topic5\", \"Topic5\", \"Topic5\", \"Topic5\", \"Topic5\", \"Topic5\", \"Topic5\", \"Topic5\", \"Topic5\", \"Topic5\", \"Topic5\", \"Topic5\", \"Topic5\", \"Topic5\", \"Topic5\", \"Topic5\", \"Topic5\", \"Topic5\", \"Topic5\", \"Topic5\", \"Topic5\", \"Topic5\", \"Topic5\", \"Topic5\", \"Topic5\", \"Topic5\", \"Topic6\", \"Topic6\", \"Topic6\", \"Topic6\", \"Topic6\", \"Topic6\", \"Topic6\", \"Topic6\", \"Topic6\", \"Topic6\", \"Topic6\", \"Topic6\", \"Topic6\", \"Topic6\", \"Topic6\", \"Topic6\", \"Topic6\", \"Topic6\", \"Topic6\", \"Topic6\", \"Topic6\", \"Topic6\", \"Topic6\", \"Topic6\", \"Topic6\", \"Topic6\", \"Topic6\", \"Topic6\", \"Topic6\", \"Topic6\", \"Topic6\", \"Topic6\", \"Topic6\", \"Topic6\", \"Topic6\", \"Topic6\", \"Topic6\", \"Topic6\", \"Topic6\", \"Topic6\", \"Topic6\", \"Topic6\", \"Topic6\", \"Topic6\", \"Topic6\", \"Topic6\", \"Topic6\", \"Topic6\", \"Topic6\", \"Topic6\", \"Topic6\", \"Topic6\", \"Topic6\", \"Topic6\", \"Topic6\", \"Topic6\", \"Topic6\", \"Topic6\", \"Topic6\", \"Topic6\", \"Topic6\", \"Topic6\", \"Topic6\", \"Topic6\", \"Topic6\", \"Topic6\", \"Topic6\", \"Topic6\", \"Topic6\", \"Topic6\", \"Topic6\", \"Topic6\", \"Topic6\", \"Topic6\", \"Topic7\", \"Topic7\", \"Topic7\", \"Topic7\", \"Topic7\", \"Topic7\", \"Topic7\", \"Topic7\", \"Topic7\", \"Topic7\", \"Topic7\", \"Topic7\", \"Topic7\", \"Topic7\", \"Topic7\", \"Topic7\", \"Topic7\", \"Topic7\", \"Topic7\", \"Topic7\", \"Topic7\", \"Topic7\", \"Topic7\", \"Topic7\", \"Topic7\", \"Topic7\", \"Topic7\", \"Topic7\", \"Topic7\", \"Topic7\", \"Topic7\", \"Topic7\", \"Topic7\", \"Topic7\", \"Topic7\", \"Topic7\", \"Topic7\", \"Topic7\", \"Topic7\", \"Topic7\", \"Topic7\", \"Topic7\", \"Topic7\", \"Topic7\", \"Topic7\", \"Topic7\", \"Topic7\", \"Topic7\", \"Topic7\", \"Topic7\", \"Topic7\", \"Topic7\", \"Topic7\", \"Topic7\", \"Topic7\", \"Topic7\", \"Topic7\", \"Topic7\", \"Topic7\", \"Topic7\", \"Topic7\", \"Topic7\", \"Topic7\", \"Topic7\", \"Topic7\", \"Topic7\", \"Topic7\", \"Topic7\", \"Topic7\", \"Topic7\", \"Topic7\", \"Topic7\", \"Topic8\", \"Topic8\", \"Topic8\", \"Topic8\", \"Topic8\", \"Topic8\", \"Topic8\", \"Topic8\", \"Topic8\", \"Topic8\", \"Topic8\", \"Topic8\", \"Topic8\", \"Topic8\", \"Topic8\", \"Topic8\", \"Topic8\", \"Topic8\", \"Topic8\", \"Topic8\", \"Topic8\", \"Topic8\", \"Topic8\", \"Topic8\", \"Topic8\", \"Topic8\", \"Topic8\", \"Topic8\", \"Topic8\", \"Topic8\", \"Topic8\", \"Topic8\", \"Topic8\", \"Topic8\", \"Topic8\", \"Topic8\", \"Topic8\", \"Topic8\", \"Topic8\", \"Topic8\", \"Topic8\", \"Topic8\", \"Topic8\", \"Topic8\", \"Topic8\", \"Topic8\", \"Topic8\", \"Topic8\", \"Topic8\", \"Topic8\", \"Topic8\", \"Topic8\", \"Topic8\", \"Topic8\", \"Topic8\", \"Topic8\", \"Topic8\", \"Topic8\", \"Topic8\", \"Topic8\", \"Topic8\", \"Topic8\", \"Topic8\", \"Topic8\", \"Topic8\", \"Topic8\", \"Topic8\", \"Topic8\", \"Topic8\", \"Topic8\", \"Topic9\", \"Topic9\", \"Topic9\", \"Topic9\", \"Topic9\", \"Topic9\", \"Topic9\", \"Topic9\", \"Topic9\", \"Topic9\", \"Topic9\", \"Topic9\", \"Topic9\", \"Topic9\", \"Topic9\", \"Topic9\", \"Topic9\", \"Topic9\", \"Topic9\", \"Topic9\", \"Topic9\", \"Topic9\", \"Topic9\", \"Topic9\", \"Topic9\", \"Topic9\", \"Topic9\", \"Topic9\", \"Topic9\", \"Topic9\", \"Topic9\", \"Topic9\", \"Topic9\", \"Topic9\", \"Topic9\", \"Topic9\", \"Topic9\", \"Topic9\", \"Topic9\", \"Topic9\", \"Topic9\", \"Topic9\", \"Topic9\", \"Topic9\", \"Topic9\", \"Topic9\", \"Topic9\", \"Topic9\", \"Topic9\", \"Topic9\", \"Topic9\", \"Topic9\", \"Topic9\", \"Topic9\", \"Topic9\", \"Topic9\", \"Topic9\", \"Topic9\", \"Topic9\", \"Topic9\", \"Topic9\", \"Topic9\", \"Topic9\", \"Topic9\", \"Topic9\", \"Topic9\", \"Topic9\", \"Topic9\", \"Topic9\", \"Topic9\", \"Topic9\", \"Topic9\", \"Topic9\", \"Topic9\", \"Topic10\", \"Topic10\", \"Topic10\", \"Topic10\", \"Topic10\", \"Topic10\", \"Topic10\", \"Topic10\", \"Topic10\", \"Topic10\", \"Topic10\", \"Topic10\", \"Topic10\", \"Topic10\", \"Topic10\", \"Topic10\", \"Topic10\", \"Topic10\", \"Topic10\", \"Topic10\", \"Topic10\", \"Topic10\", \"Topic10\", \"Topic10\", \"Topic10\", \"Topic10\", \"Topic10\", \"Topic10\", \"Topic10\", \"Topic10\", \"Topic10\", \"Topic10\", \"Topic10\", \"Topic10\", \"Topic10\", \"Topic10\", \"Topic10\", \"Topic10\", \"Topic10\", \"Topic10\", \"Topic10\", \"Topic10\", \"Topic10\", \"Topic10\", \"Topic10\", \"Topic10\", \"Topic10\", \"Topic10\", \"Topic10\", \"Topic10\", \"Topic10\", \"Topic10\", \"Topic10\", \"Topic10\", \"Topic10\", \"Topic10\", \"Topic10\", \"Topic10\", \"Topic10\", \"Topic10\", \"Topic10\", \"Topic10\", \"Topic10\", \"Topic10\", \"Topic10\", \"Topic10\", \"Topic10\", \"Topic10\", \"Topic10\", \"Topic10\", \"Topic10\", \"Topic10\", \"Topic10\"], \"logprob\": [30.0, 29.0, 28.0, 27.0, 26.0, 25.0, 24.0, 23.0, 22.0, 21.0, 20.0, 19.0, 18.0, 17.0, 16.0, 15.0, 14.0, 13.0, 12.0, 11.0, 10.0, 9.0, 8.0, 7.0, 6.0, 5.0, 4.0, 3.0, 2.0, 1.0, -5.9959001541137695, -6.385300159454346, -6.385300159454346, -6.385300159454346, -6.385300159454346, -6.385300159454346, -6.385300159454346, -6.385300159454346, -6.385300159454346, -6.385300159454346, -6.385300159454346, -6.385300159454346, -6.385300159454346, -6.385300159454346, -6.148600101470947, -6.4527997970581055, -5.9959001541137695, -5.9959001541137695, -6.53849983215332, -5.716300010681152, -5.749000072479248, -5.762899875640869, -6.614699840545654, -7.031899929046631, -7.031899929046631, -7.031899929046631, -7.031899929046631, -7.031899929046631, -7.031899929046631, -7.031899929046631, -5.035699844360352, -4.9197001457214355, -5.9959001541137695, -6.385300159454346, -6.385300159454346, -6.385300159454346, -6.385300159454346, -4.574999809265137, -5.716300010681152, -3.904400110244751, -5.716300010681152, -4.231299877166748, -4.919000148773193, -5.498000144958496, -4.633999824523926, -5.498000144958496, -4.919000148773193, -4.269899845123291, -5.318999767303467, -4.8506999015808105, -5.383299827575684, -5.716300010681152, -5.498000144958496, -5.498000144958496, -5.9959001541137695, -5.716300010681152, -5.592100143432617, -5.184999942779541, -5.498000144958496, -5.747900009155273, -5.716300010681152, -5.716300010681152, -5.716300010681152, -5.6072998046875, -5.716300010681152, -5.717599868774414, -5.954500198364258, -5.954500198364258, -5.954500198364258, -6.343900203704834, -6.343900203704834, -6.343900203704834, -6.343900203704834, -6.343900203704834, -6.343900203704834, -6.343900203704834, -6.128699779510498, -6.453400135040283, -5.954500198364258, -5.954500198364258, -6.485300064086914, -5.674900054931641, -6.545899868011475, -6.571700096130371, -6.990499973297119, -6.990600109100342, -6.990600109100342, -6.990600109100342, -6.990600109100342, -6.990600109100342, -6.990600109100342, -6.990600109100342, -6.990600109100342, -6.990600109100342, -6.990600109100342, -6.990600109100342, -5.456099987030029, -6.343900203704834, -6.343900203704834, -6.343900203704834, -6.343900203704834, -6.343900203704834, -6.343900203704834, -6.343900203704834, -6.343900203704834, -6.343900203704834, -6.343900203704834, -5.954500198364258, -6.343900203704834, -3.9447999000549316, -5.3445000648498535, -5.5756001472473145, -5.125800132751465, -5.277599811553955, -5.674900054931641, -4.818699836730957, -5.1975998878479, -5.954500198364258, -5.954500198364258, -4.877600193023682, -4.70989990234375, -5.822700023651123, -5.456600189208984, -5.674900054931641, -5.076700210571289, -5.674900054931641, -5.47629976272583, -5.674900054931641, -5.674900054931641, -5.674900054931641, -5.674900054931641, -5.456600189208984, -5.674900054931641, -5.882999897003174, -5.80709981918335, -5.954400062561035, -5.954500198364258, -5.954500198364258, -5.954500198364258, -5.893700122833252, -5.893700122833252, -6.283100128173828, -6.283100128173828, -6.283100128173828, -6.283100128173828, -6.283100128173828, -6.283100128173828, -6.283199787139893, -6.283199787139893, -6.929800033569336, -6.929800033569336, -6.929800033569336, -6.929800033569336, -6.929800033569336, -6.929800033569336, -6.929800033569336, -6.929800033569336, -6.929800033569336, -6.929800033569336, -6.929800033569336, -6.929800033569336, -6.929800033569336, -6.929800033569336, -6.929800033569336, -6.929800033569336, -6.929800033569336, -6.929800033569336, -6.929800033569336, -6.929800033569336, -5.893700122833252, -5.893700122833252, -6.283100128173828, -6.283100128173828, -6.283100128173828, -4.740300178527832, -6.283100128173828, -5.216800212860107, -5.893700122833252, -5.431700229644775, -3.7421998977661133, -5.893700122833252, -5.216800212860107, -6.283100128173828, -4.267600059509277, -6.283100128173828, -6.283100128173828, -6.283100128173828, -6.283100128173828, -6.283100128173828, -5.893700122833252, -6.059299945831299, -5.292300224304199, -5.637499809265137, -5.738800048828125, -5.893700122833252, -5.30210018157959, -5.614099979400635, -5.418900012969971, -5.1458001136779785, -5.232600212097168, -5.065000057220459, -5.614099979400635, -5.44920015335083, -5.614099979400635, -5.713500022888184, -5.6596999168396, -5.72730016708374, -5.475500106811523, -5.726099967956543, -5.891600131988525, -5.893599987030029, -5.893700122833252, -5.893700122833252, -5.893700122833252, -5.893700122833252, -6.2708001136779785, -6.2708001136779785, -6.270899772644043, -6.270899772644043, -6.270899772644043, -6.270899772644043, -6.270899772644043, -6.270899772644043, -6.270899772644043, -6.270899772644043, -5.601799964904785, -5.601799964904785, -6.917500019073486, -6.917500019073486, -6.917500019073486, -6.917500019073486, -6.917500019073486, -6.917500019073486, -6.917500019073486, -6.917500019073486, -6.917500019073486, -6.917500019073486, -6.917500019073486, -6.917500019073486, -6.917500019073486, -6.917500019073486, -6.917500019073486, -6.917500019073486, -6.917500019073486, -6.917500019073486, -5.881400108337402, -6.270899772644043, -6.270899772644043, -5.881400108337402, -5.881400108337402, -5.881400108337402, -5.881400108337402, -5.881400108337402, -6.270899772644043, -6.270899772644043, -5.881400108337402, -6.270899772644043, -4.920899868011475, -6.270899772644043, -6.270899772644043, -5.623199939727783, -5.991099834442139, -5.881400108337402, -4.7758002281188965, -4.289100170135498, -5.383600234985352, -4.1508002281188965, -5.881400108337402, -5.881400108337402, -4.843999862670898, -5.397299766540527, -5.4008002281188965, -5.337600231170654, -4.997799873352051, -5.601799964904785, -5.383500099182129, -5.881400108337402, -5.666999816894531, -5.881400108337402, -5.910999774932861, -5.61870002746582, -5.881400108337402, -5.793300151824951, -5.849800109863281, -5.877399921417236, -5.881400108337402, -5.881400108337402, -5.881400108337402, -5.881400108337402, -5.881400108337402, -5.881400108337402, -5.881400108337402, -5.8796000480651855, -5.8796000480651855, -6.269000053405762, -6.269000053405762, -6.269000053405762, -6.269000053405762, -6.2845001220703125, -6.313799858093262, -6.33489990234375, -6.369800090789795, -5.8796000480651855, -6.915599822998047, -6.9156999588012695, -6.9156999588012695, -6.9156999588012695, -6.9156999588012695, -6.9156999588012695, -6.9156999588012695, -6.9156999588012695, -6.9156999588012695, -6.9156999588012695, -6.9156999588012695, -6.9156999588012695, -6.9156999588012695, -6.9156999588012695, -6.9156999588012695, -6.9156999588012695, -6.9156999588012695, -6.9156999588012695, -6.9156999588012695, -6.007900238037109, -6.269000053405762, -6.270999908447266, -5.8796000480651855, -6.269000053405762, -6.269000053405762, -6.269000053405762, -5.8796000480651855, -5.8796000480651855, -5.8796000480651855, -6.606900215148926, -5.8796000480651855, -6.0854997634887695, -5.9953999519348145, -5.381700038909912, -6.269000053405762, -6.269000053405762, -6.046599864959717, -4.303999900817871, -5.8796000480651855, -4.22730016708374, -4.802700042724609, -5.183700084686279, -5.599999904632568, -5.492099761962891, -5.599999904632568, -5.599999904632568, -5.599999904632568, -5.8796000480651855, -5.6082000732421875, -5.05079984664917, -5.599599838256836, -5.8796000480651855, -5.369699954986572, -5.7357001304626465, -5.853600025177002, -5.8796000480651855, -5.8796000480651855, -5.879499912261963, -5.879499912261963, -5.879499912261963, -5.8796000480651855, -5.8796000480651855, -5.8796000480651855, -5.8796000480651855, -6.12060022354126, -6.12060022354126, -6.12060022354126, -6.12060022354126, -6.12060022354126, -6.12060022354126, -6.12060022354126, -6.12060022354126, -6.767199993133545, -6.767199993133545, -6.767199993133545, -6.767199993133545, -6.767199993133545, -6.767199993133545, -6.767199993133545, -6.767199993133545, -6.767199993133545, -6.767199993133545, -6.767199993133545, -6.767199993133545, -6.767199993133545, -6.767199993133545, -6.767199993133545, -6.767199993133545, -6.767199993133545, -6.767199993133545, -6.767199993133545, -6.767199993133545, -6.767199993133545, -6.767199993133545, -6.767199993133545, -6.12060022354126, -6.12060022354126, -4.654200077056885, -5.731100082397461, -5.731100082397461, -6.12060022354126, -5.731100082397461, -5.731100082397461, -4.408400058746338, -5.23330020904541, -4.0346999168396, -5.23330020904541, -6.12060022354126, -6.12060022354126, -6.12060022354126, -6.12060022354126, -6.12060022354126, -6.12060022354126, -6.12060022354126, -6.12060022354126, -6.12060022354126, -6.12060022354126, -5.731100082397461, -4.770599842071533, -5.731100082397461, -5.2332000732421875, -5.731100082397461, -5.174099922180176, -5.731100082397461, -5.301300048828125, -5.731100082397461, -5.731100082397461, -5.854800224304199, -5.836400032043457, -6.120500087738037, -6.120500087738037, -6.120500087738037, -6.120500087738037, -6.120500087738037, -6.120500087738037, -6.120500087738037, -6.120500087738037, -6.120500087738037, -6.053999900817871, -6.053999900817871, -6.053999900817871, -6.053999900817871, -6.053999900817871, -5.6645002365112305, -6.7006001472473145, -6.7006001472473145, -6.7006001472473145, -6.7006001472473145, -6.7006001472473145, -6.7006001472473145, -6.7006001472473145, -6.7006001472473145, -6.7006001472473145, -6.7006001472473145, -6.7006001472473145, -6.7006001472473145, -6.7006001472473145, -6.7006001472473145, -6.7006001472473145, -6.7006001472473145, -6.7006001472473145, -6.7006001472473145, -6.7006001472473145, -6.7006001472473145, -6.7006001472473145, -6.7006001472473145, -6.7006001472473145, -6.7006001472473145, -6.053999900817871, -6.053999900817871, -6.053999900817871, -6.053999900817871, -6.053999900817871, -6.053999900817871, -6.053999900817871, -6.053999900817871, -5.384900093078613, -5.427299976348877, -5.384900093078613, -5.709799766540527, -5.6645002365112305, -5.6645002365112305, -5.593699932098389, -5.392199993133545, -6.053999900817871, -6.053999900817871, -6.053999900817871, -5.384900093078613, -5.735799789428711, -5.9506001472473145, -5.384900093078613, -5.3927998542785645, -4.634699821472168, -5.384900093078613, -5.6645002365112305, -5.121300220489502, -5.384900093078613, -4.569200038909912, -5.199999809265137, -5.437900066375732, -5.195799827575684, -5.6641998291015625, -5.4928998947143555, -5.6645002365112305, -5.3765997886657715, -5.6645002365112305, -5.6645002365112305, -5.384900093078613, -5.63670015335083, -5.6645002365112305, -5.664000034332275, -6.053500175476074, -6.053500175476074, -6.053500175476074, -6.162199974060059, -6.700099945068359, -6.700099945068359, -6.700099945068359, -6.700099945068359, -6.700099945068359, -6.700099945068359, -6.700099945068359, -6.700099945068359, -6.700099945068359, -6.700099945068359, -6.700099945068359, -6.700099945068359, -6.700099945068359, -6.700099945068359, -6.700099945068359, -6.700099945068359, -6.700099945068359, -6.700099945068359, -6.700099945068359, -6.700099945068359, -6.700099945068359, -6.700099945068359, -6.700099945068359, -6.700099945068359, -6.700099945068359, -6.053500175476074, -6.053500175476074, -6.053500175476074, -6.053500175476074, -6.053500175476074, -6.053500175476074, -5.710299968719482, -6.129899978637695, -4.499100208282471, -5.166200160980225, -6.053500175476074, -6.053500175476074, -5.807700157165527, -6.053500175476074, -6.053500175476074, -5.664000034332275, -5.664000034332275, -5.664100170135498, -5.8471999168396, -5.384500026702881, -5.724100112915039, -5.28249979019165, -4.937600135803223, -5.664000034332275, -5.133900165557861, -4.846799850463867, -5.0395002365112305, -5.07919979095459, -4.956099987030029, -5.52869987487793, -5.664000034332275, -5.623499870300293, -5.664100170135498, -5.664000034332275, -5.664000034332275, -5.356500148773193, -5.664000034332275, -5.664000034332275, -5.936600208282471, -6.005799770355225, -6.043499946594238, -6.043499946594238, -6.043499946594238, -6.043499946594238, -6.043499946594238, -6.690100193023682, -6.690100193023682, -6.690100193023682, -6.690100193023682, -6.690100193023682, -6.690100193023682, -6.690100193023682, -6.690100193023682, -6.690100193023682, -6.690100193023682, -6.690100193023682, -6.690100193023682, -6.690100193023682, -6.690100193023682, -6.690100193023682, -6.690100193023682, -6.690100193023682, -6.690100193023682, -6.690100193023682, -6.690100193023682, -6.690100193023682, -6.690199851989746, -6.690199851989746, -6.690199851989746, -6.690199851989746, -6.690199851989746, -5.374499797821045, -5.654099941253662, -6.043499946594238, -6.043499946594238, -6.043499946594238, -6.043499946594238, -6.043499946594238, -6.043499946594238, -5.654099941253662, -5.654099941253662, -6.043499946594238, -5.374499797821045, -6.043499946594238, -6.043499946594238, -5.654099941253662, -6.043499946594238, -5.374499797821045, -5.156199932098389, -5.156199932098389, -6.027599811553955, -5.453800201416016, -6.043499946594238, -6.043499946594238, -5.374499797821045, -5.654099941253662, -5.6539998054504395, -5.654099941253662, -5.654099941253662, -4.977200031280518, -5.185400009155273, -5.127900123596191, -5.6539998054504395, -5.6539998054504395, -5.20419979095459, -5.156199932098389, -5.6539998054504395, -5.6539998054504395, -5.599899768829346, -5.654099941253662, -5.6539998054504395, -5.6539998054504395, -5.6539998054504395, -5.940999984741211, -5.946700096130371, -5.946700096130371, -5.946700096130371, -5.946700096130371, -5.946800231933594, -6.593400001525879, -6.593400001525879, -6.593400001525879, -6.593400001525879, -6.593400001525879, -6.593400001525879, -6.593400001525879, -6.593400001525879, -6.593400001525879, -6.593400001525879, -6.593400001525879, -6.593400001525879, -6.593400001525879, -6.593400001525879, -6.593400001525879, -6.593400001525879, -6.593400001525879, -6.593400001525879, -6.593400001525879, -6.593400001525879, -6.593400001525879, -6.593400001525879, -6.593400001525879, -6.593400001525879, -6.593400001525879, -5.946700096130371, -5.946800231933594, -5.946700096130371, -4.88040018081665, -5.946700096130371, -5.946700096130371, -5.557300090789795, -5.946700096130371, -4.116000175476074, -5.946700096130371, -5.485000133514404, -5.277699947357178, -4.728600025177002, -5.557300090789795, -5.0594000816345215, -5.946700096130371, -5.709099769592285, -5.946700096130371, -5.557300090789795, -5.946700096130371, -5.946700096130371, -5.946700096130371, -5.557300090789795, -5.349800109863281, -5.946700096130371, -5.238800048828125, -5.277599811553955, -5.557300090789795, -5.557199954986572, -5.557199954986572, -5.946700096130371, -5.946700096130371, -5.946700096130371, -5.946700096130371, -5.946700096130371, -5.946700096130371, -5.946700096130371, -5.946700096130371, -5.946700096130371, -5.946700096130371, -5.946700096130371, -5.946700096130371, -5.946700096130371], \"loglift\": [30.0, 29.0, 28.0, 27.0, 26.0, 25.0, 24.0, 23.0, 22.0, 21.0, 20.0, 19.0, 18.0, 17.0, 16.0, 15.0, 14.0, 13.0, 12.0, 11.0, 10.0, 9.0, 8.0, 7.0, 6.0, 5.0, 4.0, 3.0, 2.0, 1.0, 1.7937999963760376, 1.6985000371932983, 1.6985000371932983, 1.6985000371932983, 1.6985000371932983, 1.6985000371932983, 1.6985000371932983, 1.6985000371932983, 1.6985000371932983, 1.6985000371932983, 1.6985000371932983, 1.6985000371932983, 1.6985000371932983, 1.6985000371932983, 1.649399995803833, 1.6354999542236328, 1.5789999961853027, 1.5717999935150146, 1.5529999732971191, 1.5234999656677246, 1.5045000314712524, 1.4914000034332275, 1.480299949645996, 1.4706000089645386, 1.4706000089645386, 1.4706000089645386, 1.4706000089645386, 1.4706000089645386, 1.4706000089645386, 1.4706000089645386, 1.4498000144958496, 1.437399983406067, 1.4086999893188477, 1.4306999444961548, 1.4306999444961548, 1.429900050163269, 1.429900050163269, 1.2884999513626099, 1.2848999500274658, 0.871399998664856, 1.2819000482559204, 0.9236999750137329, 1.0394999980926514, 1.1447999477386475, 0.6180999875068665, 1.0860999822616577, 0.6222000122070312, 0.07169999927282333, 0.8113999962806702, 0.3862000107765198, 0.6983000040054321, 1.0090999603271484, 0.7716000080108643, 0.7236999869346619, 1.2691999673843384, 0.9319000244140625, 0.7847999930381775, -0.0925000011920929, 0.3619000017642975, 0.7635999917984009, 0.4645000100135803, 0.42480000853538513, 0.3808000087738037, -0.8302000164985657, 0.3343000113964081, 0.3230000138282776, 1.8940999507904053, 1.8940999507904053, 1.8940999507904053, 1.7925000190734863, 1.7925000190734863, 1.7925000190734863, 1.7925000190734863, 1.7925000190734863, 1.7925000190734863, 1.7925000190734863, 1.7259999513626099, 1.6857000589370728, 1.676200032234192, 1.660099983215332, 1.6545000076293945, 1.6193000078201294, 1.5951000452041626, 1.5699000358581543, 1.5516999959945679, 1.5516999959945679, 1.5516999959945679, 1.5516999959945679, 1.5516999959945679, 1.5516999959945679, 1.5516999959945679, 1.5516999959945679, 1.5516999959945679, 1.5516999959945679, 1.5516999959945679, 1.5516999959945679, 1.473099946975708, 1.5169999599456787, 1.513700008392334, 1.513700008392334, 1.5120999813079834, 1.5120999813079834, 1.511299967765808, 1.511299967765808, 1.511299967765808, 1.511299967765808, 1.511299967765808, 1.4838999509811401, 1.5094000101089478, 0.8323000073432922, 1.1822999715805054, 1.0848000049591064, 0.7340999841690063, 0.8210999965667725, 1.0734000205993652, 0.33629998564720154, 0.5468999743461609, 1.1857999563217163, 1.1849000453948975, 0.21490000188350677, 0.06589999794960022, 1.0184999704360962, 0.6611999869346619, 0.857200026512146, 0.16009999811649323, 0.847000002861023, 0.3474999964237213, 0.6055999994277954, 0.5777999758720398, 0.5601999759674072, 0.5468999743461609, -0.20440000295639038, -0.10180000215768814, 0.7157999873161316, -1.465499997138977, 0.004100000020116568, 0.3750999867916107, 0.31520000100135803, 0.2922999858856201, 1.9150999784469604, 1.9150999784469604, 1.8178000450134277, 1.8178000450134277, 1.8178000450134277, 1.8178000450134277, 1.8178000450134277, 1.8178000450134277, 1.8178000450134277, 1.8178000450134277, 1.585800051689148, 1.585800051689148, 1.585800051689148, 1.585800051689148, 1.585800051689148, 1.585800051689148, 1.585800051689148, 1.585800051689148, 1.585800051689148, 1.585800051689148, 1.585800051689148, 1.585800051689148, 1.585800051689148, 1.585800051689148, 1.585800051689148, 1.585800051689148, 1.585800051689148, 1.585800051689148, 1.585800051689148, 1.585800051689148, 1.5348999500274658, 1.5263999700546265, 1.5475000143051147, 1.538699984550476, 1.5348000526428223, 1.377500057220459, 1.5191999673843384, 1.2271000146865845, 1.3676999807357788, 1.2062000036239624, 0.5993000268936157, 1.25409996509552, 1.0006999969482422, 1.332200050354004, 0.5081999897956848, 1.3259999752044678, 1.3248000144958496, 1.3240000009536743, 1.3176000118255615, 1.3065999746322632, 1.125599980354309, 1.2000000476837158, 0.7483000159263611, 0.8903999924659729, 0.916700005531311, 1.033400058746338, 0.5612999796867371, 0.7627999782562256, 0.4047999978065491, 0.009200000204145908, 0.00430000014603138, -0.28790000081062317, 0.4675000011920929, 0.12389999628067017, 0.4357999861240387, 0.5756000280380249, 0.35339999198913574, 0.45350000262260437, -0.2232999950647354, 0.018300000578165054, 0.46549999713897705, -0.8011000156402588, 0.30379998683929443, 0.37599998712539673, 0.49720001220703125, 0.4359000027179718, 1.8550000190734863, 1.8550000190734863, 1.8550000190734863, 1.8550000190734863, 1.8550000190734863, 1.8550000190734863, 1.8550000190734863, 1.8550000190734863, 1.8550000190734863, 1.8550000190734863, 1.6887999773025513, 1.6821000576019287, 1.6167999505996704, 1.6167999505996704, 1.6167999505996704, 1.6167999505996704, 1.6167999505996704, 1.6167999505996704, 1.6167999505996704, 1.6167999505996704, 1.6167999505996704, 1.6167999505996704, 1.6167999505996704, 1.6167999505996704, 1.6167999505996704, 1.6167999505996704, 1.6167999505996704, 1.6167999505996704, 1.6167999505996704, 1.6167999505996704, 1.5700000524520874, 1.5786999464035034, 1.5772000551223755, 1.5460000038146973, 1.5460000038146973, 1.5460000038146973, 1.5460000038146973, 1.5460000038146973, 1.5752999782562256, 1.5698000192642212, 1.5403000116348267, 1.556399941444397, 1.4120999574661255, 1.5499000549316406, 1.5499000549316406, 1.4092999696731567, 1.4502999782562256, 1.405500054359436, 0.7972000241279602, 0.4878999888896942, 1.0059000253677368, 0.1906999945640564, 1.2776000499725342, 1.2582000494003296, 0.2485000044107437, 0.7329999804496765, 0.6491000056266785, 0.40689998865127563, -0.22200000286102295, 0.7276999950408936, -0.14669999480247498, 0.9587000012397766, 0.4300999939441681, 0.9386000037193298, 0.9204999804496765, -0.07750000059604645, 0.7828999757766724, 0.16519999504089355, -0.026100000366568565, 0.5737000107765198, -0.6291999816894531, 0.37130001187324524, 0.35370001196861267, 0.4032000005245209, 0.16920000314712524, 0.635200023651123, 0.7174000144004822, 1.9752999544143677, 1.9752999544143677, 1.8730000257492065, 1.8730000257492065, 1.8730000257492065, 1.8730000257492065, 1.857699990272522, 1.8289999961853027, 1.8083000183105469, 1.774999976158142, 1.7552000284194946, 1.6308000087738037, 1.6308000087738037, 1.6308000087738037, 1.6308000087738037, 1.6308000087738037, 1.6308000087738037, 1.6308000087738037, 1.6308000087738037, 1.6308000087738037, 1.6308000087738037, 1.6308000087738037, 1.6308000087738037, 1.6308000087738037, 1.6308000087738037, 1.6308000087738037, 1.6308000087738037, 1.6308000087738037, 1.6308000087738037, 1.6308000087738037, 1.6234999895095825, 1.5928000211715698, 1.5884000062942505, 1.545199990272522, 1.570199966430664, 1.570199966430664, 1.563599944114685, 1.4217000007629395, 1.420799970626831, 1.3967000246047974, 1.5302000045776367, 1.2764999866485596, 1.3289999961853027, 1.295300006866455, 1.0188000202178955, 1.3696000576019287, 1.3609000444412231, 1.2588000297546387, 0.4731000065803528, 1.1708999872207642, 0.11429999768733978, 0.4494999945163727, 0.6399999856948853, 0.9259999990463257, 0.7547000050544739, 0.8531000018119812, 0.8439000248908997, 0.7329999804496765, 1.0591000318527222, 0.6093000173568726, -0.2750000059604645, 0.5414000153541565, 1.0303000211715698, -0.13279999792575836, 0.5558000206947327, 0.6628999710083008, 0.6449999809265137, 0.4009999930858612, 0.39010000228881836, 0.1703999936580658, -0.13510000705718994, -0.019700000062584877, 0.3555000126361847, 0.20200000703334808, 0.17100000381469727, 2.0336999893188477, 2.0336999893188477, 2.0336999893188477, 2.0336999893188477, 2.0336999893188477, 2.0336999893188477, 2.0336999893188477, 2.0336999893188477, 1.7884000539779663, 1.7884000539779663, 1.7884000539779663, 1.7884000539779663, 1.7884000539779663, 1.7884000539779663, 1.7884000539779663, 1.7884000539779663, 1.7884000539779663, 1.7884000539779663, 1.7884000539779663, 1.7884000539779663, 1.7884000539779663, 1.7884000539779663, 1.7884000539779663, 1.7884000539779663, 1.7884000539779663, 1.7884000539779663, 1.7884000539779663, 1.7884000539779663, 1.7884000539779663, 1.7884000539779663, 1.7884000539779663, 1.7209999561309814, 1.7209999561309814, 1.396299958229065, 1.5814000368118286, 1.5781999826431274, 1.5221999883651733, 1.3122999668121338, 1.3113000392913818, 0.6840999722480774, 0.9642000198364258, 0.3068999946117401, 0.907800018787384, 1.3401000499725342, 1.3355000019073486, 1.3353999853134155, 1.3322999477386475, 1.330399990081787, 1.3271000385284424, 1.32260000705719, 1.3208999633789062, 1.3200000524520874, 1.3147000074386597, 0.9943000078201294, 0.006399999838322401, 0.9243999719619751, 0.30799999833106995, 0.8009999990463257, -0.019099999219179153, 0.7303000092506409, -0.04910000041127205, 0.3675999939441681, 0.3659000098705292, 0.5220999717712402, -0.5996000170707703, -1.3446999788284302, -0.37599998712539673, 0.1599999964237213, 0.16410000622272491, -0.29679998755455017, 0.16859999299049377, 0.539900004863739, 0.5421000123023987, 0.13220000267028809, 2.097399950027466, 2.097399950027466, 2.097399950027466, 2.097399950027466, 2.097399950027466, 1.979599952697754, 1.8529000282287598, 1.8529000282287598, 1.8529000282287598, 1.8529000282287598, 1.8529000282287598, 1.8529000282287598, 1.8528000116348267, 1.8528000116348267, 1.8528000116348267, 1.8528000116348267, 1.8528000116348267, 1.8528000116348267, 1.8528000116348267, 1.8528000116348267, 1.8528000116348267, 1.8528000116348267, 1.8528000116348267, 1.8528000116348267, 1.8528000116348267, 1.8528000116348267, 1.8528000116348267, 1.8528000116348267, 1.8528000116348267, 1.8528000116348267, 1.815000057220459, 1.8078999519348145, 1.8078999519348145, 1.805799961090088, 1.805799961090088, 1.805799961090088, 1.8041000366210938, 1.7855000495910645, 1.6506999731063843, 1.6306999921798706, 1.5615999698638916, 1.5816999673843384, 1.492400050163269, 1.483199954032898, 1.4458999633789062, 1.354599952697754, 1.5920000076293945, 1.586300015449524, 1.5787999629974365, 1.288100004196167, 1.4337999820709229, 1.5, 1.1303000450134277, 1.132699966430664, 0.4578000009059906, 0.920199990272522, 1.1960999965667725, 0.623199999332428, 0.8637999892234802, -0.22759999334812164, 0.34119999408721924, 0.6923999786376953, 0.05640000104904175, 1.0099999904632568, 0.5202000141143799, 0.7264000177383423, -0.13979999721050262, 0.5881999731063843, 0.5823000073432922, -0.6078000068664551, 0.4131999909877777, -0.09139999747276306, 2.211899995803833, 2.1071999073028564, 2.1071999073028564, 2.1071999073028564, 1.999500036239624, 1.8602999448776245, 1.8602999448776245, 1.8602999448776245, 1.8602999448776245, 1.8602999448776245, 1.8602999448776245, 1.8602999448776245, 1.8602999448776245, 1.8602999448776245, 1.8602999448776245, 1.8602999448776245, 1.8602999448776245, 1.8602999448776245, 1.8602999448776245, 1.8602999448776245, 1.8602999448776245, 1.8602999448776245, 1.8602999448776245, 1.8602999448776245, 1.8602999448776245, 1.8602999448776245, 1.8602999448776245, 1.8602999448776245, 1.8602999448776245, 1.8602999448776245, 1.8188999891281128, 1.8154000043869019, 1.8154000043869019, 1.8131999969482422, 1.8102999925613403, 1.792799949645996, 1.7418999671936035, 1.7430000305175781, 1.0738999843597412, 1.2418999671936035, 1.5978000164031982, 1.59089994430542, 1.4744000434875488, 1.5721999406814575, 1.5700000524520874, 1.3940000534057617, 1.3863999843597412, 1.3859000205993652, 1.3194999694824219, 1.0088000297546387, 1.2223999500274658, 0.8982999920845032, 0.2992999851703644, 0.9200999736785889, 0.4072999954223633, -0.07100000232458115, 0.11550000309944153, 0.013299999758601189, -0.6144999861717224, 0.511900007724762, 0.6410999894142151, 0.5175999999046326, 0.6273999810218811, 0.5846999883651733, 0.557699978351593, -0.5794000029563904, 0.43299999833106995, 0.15970000624656677, 0.8131999969482422, 0.09290000051259995, 2.1129000186920166, 2.1129000186920166, 2.1129000186920166, 2.1129000186920166, 2.1129000186920166, 1.8671000003814697, 1.8671000003814697, 1.8671000003814697, 1.8671000003814697, 1.8671000003814697, 1.8671000003814697, 1.8671000003814697, 1.8671000003814697, 1.8671000003814697, 1.8671000003814697, 1.8671000003814697, 1.8671000003814697, 1.8671000003814697, 1.8671000003814697, 1.8671000003814697, 1.8671000003814697, 1.8671000003814697, 1.8671000003814697, 1.8671000003814697, 1.8671000003814697, 1.8671000003814697, 1.8671000003814697, 1.8671000003814697, 1.8671000003814697, 1.8671000003814697, 1.8671000003814697, 1.7962000370025635, 1.805299997329712, 1.829200029373169, 1.826799988746643, 1.8200000524520874, 1.815999984741211, 1.806399941444397, 1.7997000217437744, 1.659500002861023, 1.6434999704360962, 1.5937999486923218, 1.3042999505996704, 1.5845999717712402, 1.579699993133545, 1.40339994430542, 1.5774999856948853, 1.2271000146865845, 1.096500039100647, 0.9408000111579895, 1.445199966430664, 1.072100043296814, 1.410099983215332, 1.4084999561309814, 0.9169999957084656, 1.117400050163269, 1.0015000104904175, 0.9940999746322632, 0.9887999892234802, 0.1152999997138977, 0.35580000281333923, 0.12430000305175781, 0.9301000237464905, 0.8072999715805054, -0.4284000098705292, -0.8145999908447266, 0.5927000045776367, 0.5267999768257141, 0.25999999046325684, 0.38659998774528503, 0.35910001397132874, -0.4171999990940094, -0.8769000172615051, 0.5705000162124634, 2.223099946975708, 2.223099946975708, 2.223099946975708, 2.223099946975708, 2.2230000495910645, 1.9738999605178833, 1.9738999605178833, 1.9738999605178833, 1.9738999605178833, 1.9738999605178833, 1.9738999605178833, 1.9738999605178833, 1.9738999605178833, 1.9738999605178833, 1.9738999605178833, 1.9738999605178833, 1.9738999605178833, 1.9738999605178833, 1.9738999605178833, 1.9738999605178833, 1.9738999605178833, 1.9738999605178833, 1.9738999605178833, 1.9738999605178833, 1.9738999605178833, 1.9738999605178833, 1.9738999605178833, 1.9738999605178833, 1.9738999605178833, 1.9738999605178833, 1.934499979019165, 1.9335999488830566, 1.926800012588501, 1.4247000217437744, 1.69350004196167, 1.687399983406067, 1.496500015258789, 1.5262000560760498, 0.225600004196167, 1.504699945449829, 1.1172000169754028, 0.9197999835014343, 0.42640000581741333, 1.1168999671936035, 0.6851000189781189, 1.3668999671936035, 1.132099986076355, 1.3539999723434448, 0.9706000089645386, 1.3509000539779663, 1.343500018119812, 1.340000033378601, 0.8507999777793884, 0.6086999773979187, 1.235700011253357, 0.3343000113964081, -0.040800001472234726, 0.5242999792098999, 0.45579999685287476, -0.3050999939441681, -0.40549999475479126, -0.0868000015616417, 0.18359999358654022, -0.08330000191926956, 0.5647000074386597, 0.3424000144004822, 0.44699999690055847, 0.39259999990463257, 0.15199999511241913, 0.6521000266075134, 0.4465999901294708, 0.3019999861717224, 0.3379000127315521]}, \"token.table\": {\"Topic\": [10, 2, 9, 4, 6, 10, 2, 10, 3, 6, 10, 2, 10, 2, 6, 9, 8, 8, 1, 2, 5, 6, 7, 1, 3, 6, 9, 10, 3, 9, 1, 4, 6, 9, 2, 1, 3, 5, 6, 7, 8, 9, 2, 6, 9, 3, 6, 8, 9, 1, 7, 5, 6, 7, 8, 9, 10, 2, 3, 8, 9, 10, 1, 2, 3, 4, 5, 7, 8, 1, 2, 5, 6, 8, 9, 10, 9, 2, 1, 4, 5, 9, 10, 1, 2, 3, 4, 5, 6, 7, 8, 9, 10, 6, 7, 7, 9, 2, 5, 9, 7, 8, 4, 6, 9, 10, 3, 5, 2, 1, 3, 4, 5, 6, 7, 8, 9, 10, 1, 2, 3, 2, 9, 5, 1, 3, 3, 5, 7, 9, 5, 1, 2, 4, 7, 3, 5, 4, 5, 8, 3, 4, 6, 8, 1, 2, 3, 4, 5, 6, 7, 8, 9, 10, 8, 1, 2, 3, 4, 5, 6, 7, 8, 9, 10, 1, 2, 4, 6, 7, 8, 9, 10, 8, 2, 1, 2, 3, 7, 10, 1, 8, 9, 10, 3, 3, 4, 2, 10, 6, 1, 2, 3, 4, 5, 7, 7, 5, 1, 2, 3, 5, 6, 7, 8, 1, 2, 3, 5, 8, 9, 10, 2, 3, 4, 6, 7, 9, 10, 6, 5, 6, 1, 6, 8, 1, 2, 8, 9, 10, 1, 3, 4, 5, 6, 7, 8, 7, 2, 7, 8, 1, 3, 6, 8, 4, 7, 4, 5, 7, 2, 3, 4, 6, 7, 9, 1, 3, 5, 9, 8, 2, 2, 3, 5, 7, 9, 10, 1, 2, 4, 5, 6, 8, 1, 3, 2, 4, 9, 1, 3, 5, 1, 5, 7, 7, 1, 9, 8, 1, 2, 3, 4, 5, 6, 7, 8, 9, 10, 3, 1, 1, 2, 3, 4, 5, 6, 7, 8, 9, 10, 10, 1, 2, 3, 7, 1, 3, 4, 5, 6, 9, 10, 1, 9, 2, 3, 7, 8, 8, 2, 6, 1, 2, 3, 4, 5, 7, 9, 9, 2, 5, 10, 3, 5, 1, 6, 7, 8, 3, 4, 5, 9, 7, 3, 4, 5, 6, 2, 3, 6, 4, 6, 10, 1, 2, 4, 5, 7, 8, 10, 1, 6, 4, 5, 7, 8, 1, 2, 5, 10, 1, 6, 2, 7, 6, 2, 6, 9, 9, 1, 2, 3, 4, 5, 6, 7, 8, 10, 10, 1, 3, 4, 6, 8, 1, 3, 5, 6, 9, 1, 4, 5, 7, 8, 4, 2, 5, 4, 2, 4, 9, 10, 3, 7, 7, 10, 1, 3, 4, 5, 6, 7, 8, 10, 2, 4, 5, 8, 1, 8, 3, 4, 3, 9, 10, 1, 2, 3, 6, 7, 8, 9, 6, 9, 3, 8, 9, 1, 9, 1, 3, 4, 5, 6, 8, 10, 4, 2, 2, 3, 4, 9, 10, 2, 5, 10, 2, 3, 4, 5, 6, 10, 2, 9, 3, 1, 8, 3, 4, 8, 1, 3, 5, 8, 9, 10, 1, 2, 3, 4, 5, 6, 8, 9, 10, 5, 6, 7, 4, 8, 9, 4, 5, 6, 7, 4, 8, 1, 3, 5, 8, 10, 6, 5, 1, 4, 5, 7, 1, 2, 4, 6, 7, 9, 1, 5, 7, 2, 3, 4, 6, 7, 10, 3, 6, 9, 10, 5, 7, 10, 1, 8, 2, 10, 8, 6, 1, 3, 5, 6, 7, 4, 9, 1, 2, 7, 7, 3, 1, 3, 4, 5, 8, 9, 9, 2, 5, 1, 2, 3, 9, 10, 1, 2, 3, 4, 5, 6, 7, 8, 9, 1, 2, 3, 4, 5, 6, 8, 9, 10, 1, 4, 6, 8, 10, 5, 4, 5, 3, 2, 3, 6, 2, 3, 4, 7, 1, 2, 4, 5, 6, 7, 9, 5, 8, 1, 1, 2, 3, 5, 8, 9, 10, 6, 10, 6, 7, 6, 1, 2, 3, 4, 5, 2, 6, 9, 9, 1, 3, 6, 8, 1, 8, 8, 7, 8, 5, 4, 10, 6, 1, 2, 8, 6, 3, 5, 1, 3, 5, 3, 1, 2, 3, 7, 8, 9, 2, 6, 8, 10, 6, 4, 1, 2, 3, 4, 5, 6, 7, 8, 9, 10, 7, 9, 10, 3, 4, 1, 9, 2, 7, 1, 5, 7, 9, 1, 3, 5, 6, 7, 9, 6, 7, 4, 1, 2, 5, 6, 2, 10, 1, 2, 4, 1, 3, 8, 9, 1, 2, 3, 4, 5, 6, 8, 9, 1, 1, 2, 5, 7, 9, 10, 9, 1, 2, 3, 4, 5, 6, 7, 9, 10, 10, 3, 7, 6, 3, 4, 9, 4, 7, 2, 5, 1, 4, 5, 1, 5, 6, 7, 8, 10, 9, 2, 8, 1, 1, 3, 6, 7, 9, 10, 3, 7, 7, 5, 1, 2, 3, 5, 7, 9, 10, 3, 8, 1, 2, 3, 4, 5, 7, 5, 1, 2, 3, 6, 7, 8, 9, 10, 3, 4, 8, 10, 5, 6, 5, 4, 5, 7, 10, 5, 1, 3, 4, 6, 7, 8, 9, 10, 8, 3, 5, 1, 2, 3, 4, 5, 6, 8, 9, 1, 2, 3, 4, 6, 7, 10, 2, 4, 5, 6, 7, 9, 10, 3, 7, 8, 3, 9, 5, 7, 2, 4, 5, 9, 5, 4, 1, 2, 3, 4, 5, 7, 8, 9, 10, 1, 2, 4, 5, 6, 7, 8, 9, 10, 1, 2, 3, 4, 5, 6, 7, 8, 10, 2, 4, 5, 6, 1, 2, 3, 5, 7, 9, 1, 3, 4, 5, 6, 7, 8, 9, 10, 2, 3, 4, 6, 1, 3, 4, 5, 6, 1, 6, 2, 9, 9, 10, 1, 9, 1, 5, 1, 2, 3, 5, 6, 7, 10, 7, 1, 2, 4, 5, 8, 9, 10, 2, 4, 9, 1, 2, 3, 4, 6, 7, 9, 10, 4, 1, 4, 7, 8, 4, 9, 2, 7, 10, 1, 2, 9, 6, 9, 1, 2, 3, 5, 10, 2, 3, 5, 7, 8, 2, 4, 6, 7, 10, 1, 3, 4, 5, 6, 8, 9, 10, 10, 1, 2, 3, 4, 5, 6, 7, 8, 9, 10, 8, 2, 4, 2, 3, 4, 7, 10, 2, 5, 6, 9, 2, 2, 4, 5, 7, 9, 5, 1, 4, 1, 3, 4, 5, 8, 9, 10, 2, 3, 4, 5, 6, 7, 8, 10, 2, 2, 3, 3, 8, 1, 2, 3, 4, 5, 6, 7, 8, 2, 3, 4, 1, 3, 4, 6, 7, 10, 4, 10, 7, 8, 9, 1, 2, 5, 8, 10, 6, 9, 1, 2, 3, 4, 5, 6, 8, 9, 4, 7, 5, 9, 1, 2, 4, 5, 6, 8, 10, 1, 4, 8, 5, 7, 1, 6, 6, 8, 9, 5, 1, 2, 3, 4, 5, 6, 8, 9, 10, 2, 6, 6, 2, 4, 5, 6, 8, 9, 2, 3, 6, 9, 1, 2, 3, 5, 6, 7, 8, 9, 1, 7, 1, 2, 4, 5, 6, 7, 10, 5, 6, 7, 8, 10, 8, 4, 8, 3, 4, 4, 1, 2, 3, 5, 8, 9, 10, 7, 8, 2, 8, 3, 4, 1, 5, 1, 2, 3, 4, 5, 6, 8, 9, 5, 6, 7, 9, 10, 8, 2, 7, 9, 8, 1, 9, 1, 6, 10, 1, 2, 10, 6, 3, 4, 3, 9, 9, 2, 3, 4, 5, 6, 7, 8, 9, 2, 5, 6, 10, 10, 9, 6, 7, 4, 5, 6, 7, 9, 10, 3, 4, 5, 3, 3, 1, 2, 3, 4, 5, 7, 8, 10, 6, 3, 4, 5, 1, 3, 4, 5, 6, 10, 1, 2, 3, 4, 5, 6, 7, 8, 9, 10, 1, 6, 9, 1, 2, 3, 4, 5, 6, 7, 8, 10, 1, 4, 5, 9, 2, 4, 1, 4, 10, 9, 4, 5, 7, 10, 1, 3, 4, 8, 2, 7, 8, 4, 5, 5, 2, 1, 4, 5, 7, 8, 9, 10, 7, 1, 3, 4, 5, 10, 1, 2, 8, 4, 10, 2, 3, 6, 9, 3, 4, 5, 10, 3, 1, 2, 3, 4, 5, 6, 7, 8, 9, 10, 1, 2, 4, 8, 10, 2, 6, 1, 2, 3, 5, 7, 10, 2, 5, 9, 7, 2, 5, 6, 8, 1, 1, 6, 7, 1, 3, 4, 6, 8, 6, 10, 1, 2, 5, 3, 1, 9, 1, 2, 3, 5, 7, 8, 9, 10, 3, 5, 9, 10, 6, 2, 6, 10, 2, 5, 7, 8, 4, 5, 6, 7, 9, 10, 3, 5, 2, 4, 6, 5, 3, 4, 5, 6, 9, 1, 2, 3, 4, 6, 7, 8, 10, 2, 4, 5, 1, 6, 7, 8, 9, 5, 1, 2, 4, 6, 8, 8, 8, 3, 4, 3, 8, 6, 7, 6, 6, 10], \"Freq\": [0.732719361782074, 0.35980871319770813, 0.35980871319770813, 0.47123977541923523, 0.724229097366333, 0.732719361782074, 0.714640200138092, 0.49245485663414, 0.46932217478752136, 0.23466108739376068, 0.23466108739376068, 0.7146400213241577, 0.732719361782074, 0.7146400809288025, 0.48481491208076477, 0.7254407405853271, 0.7277616858482361, 0.7277615070343018, 0.3514518737792969, 0.3514518737792969, 0.17572593688964844, 0.17572593688964844, 0.7226836085319519, 0.21663257479667664, 0.32494887709617615, 0.21663257479667664, 0.21663257479667664, 0.7327192425727844, 0.6958027482032776, 0.7254406213760376, 0.23748153448104858, 0.23748153448104858, 0.23748153448104858, 0.23748153448104858, 0.47625932097435, 0.21817250549793243, 0.10908625274896622, 0.10908625274896622, 0.10908625274896622, 0.10908625274896622, 0.10908625274896622, 0.10908625274896622, 0.35951051115989685, 0.35951051115989685, 0.48590147495269775, 0.6958028674125671, 0.29319843649864197, 0.29319843649864197, 0.29319843649864197, 0.35390374064445496, 0.35390374064445496, 0.13297677040100098, 0.13297677040100098, 0.26595354080200195, 0.13297677040100098, 0.13297677040100098, 0.13297677040100098, 0.18058425188064575, 0.18058425188064575, 0.3611685037612915, 0.18058425188064575, 0.18058425188064575, 0.09426353126764297, 0.18852706253528595, 0.09426353126764297, 0.18852706253528595, 0.18852706253528595, 0.09426353126764297, 0.09426353126764297, 0.20525211095809937, 0.10262605547904968, 0.10262605547904968, 0.10262605547904968, 0.10262605547904968, 0.30787816643714905, 0.10262605547904968, 0.7254407405853271, 0.47625932097435, 0.1786768138408661, 0.1786768138408661, 0.3573536276817322, 0.1786768138408661, 0.1786768138408661, 0.23959018290042877, 0.10648452490568161, 0.07986339181661606, 0.053242262452840805, 0.15972678363323212, 0.07986339181661606, 0.07986339181661606, 0.026621131226420403, 0.10648452490568161, 0.053242262452840805, 0.2911015450954437, 0.5822030901908875, 0.7226837277412415, 0.7254406809806824, 0.6154345870018005, 0.20514485239982605, 0.20514485239982605, 0.7226837277412415, 0.7277616858482361, 0.2082681804895401, 0.4165363609790802, 0.2082681804895401, 0.2082681804895401, 0.6958028078079224, 0.7176257967948914, 0.7146401405334473, 0.118224136531353, 0.1773362159729004, 0.236448273062706, 0.118224136531353, 0.0591120682656765, 0.118224136531353, 0.0591120682656765, 0.0591120682656765, 0.0591120682656765, 0.45533931255340576, 0.47625938057899475, 0.6958028078079224, 0.28911662101745605, 0.28911662101745605, 0.7176258563995361, 0.6868155002593994, 0.919344961643219, 0.239881694316864, 0.239881694316864, 0.479763388633728, 0.239881694316864, 0.7176257967948914, 0.2330402433872223, 0.2330402433872223, 0.4660804867744446, 0.7226836681365967, 0.3538161814212799, 0.3538161814212799, 0.47123971581459045, 0.3644571602344513, 0.3644571602344513, 0.6958028078079224, 0.7089742422103882, 0.7242290377616882, 0.7277615666389465, 0.0496610663831234, 0.26485902070999146, 0.08276844024658203, 0.18209058046340942, 0.16553688049316406, 0.0993221327662468, 0.0496610663831234, 0.0496610663831234, 0.03310737758874893, 0.016553688794374466, 0.7341068983078003, 0.18351541459560394, 0.1310824304819107, 0.10486594587564468, 0.10486594587564468, 0.10486594587564468, 0.05243297293782234, 0.07864946126937866, 0.10486594587564468, 0.05243297293782234, 0.07864946126937866, 0.1302715241909027, 0.1302715241909027, 0.2605430483818054, 0.1302715241909027, 0.1302715241909027, 0.1302715241909027, 0.1302715241909027, 0.1302715241909027, 0.7277615666389465, 0.7146400213241577, 0.20361612737178802, 0.20361612737178802, 0.20361612737178802, 0.20361612737178802, 0.20361612737178802, 0.2406081259250641, 0.2406081259250641, 0.2406081259250641, 0.2406081259250641, 0.6958028674125671, 0.9193448424339294, 0.47123983502388, 0.47846749424934387, 0.732719361782074, 0.7242289781570435, 0.12768368422985077, 0.12768368422985077, 0.25536736845970154, 0.25536736845970154, 0.12768368422985077, 0.12768368422985077, 0.7226836681365967, 0.7176258563995361, 0.19425837695598602, 0.06475278735160828, 0.06475278735160828, 0.19425837695598602, 0.19425837695598602, 0.06475278735160828, 0.12950557470321655, 0.49055731296539307, 0.049055732786655426, 0.1962229311466217, 0.09811146557331085, 0.049055732786655426, 0.049055732786655426, 0.049055732786655426, 0.09533920139074326, 0.28601759672164917, 0.09533920139074326, 0.09533920139074326, 0.09533920139074326, 0.09533920139074326, 0.1906784027814865, 0.4848150312900543, 0.7176258563995361, 0.724229097366333, 0.2402667999267578, 0.2402667999267578, 0.4805335998535156, 0.20649071037769318, 0.20649071037769318, 0.20649071037769318, 0.20649071037769318, 0.20649071037769318, 0.1660226732492447, 0.08301133662462234, 0.3320453464984894, 0.08301133662462234, 0.08301133662462234, 0.08301133662462234, 0.08301133662462234, 0.7226836681365967, 0.16199158132076263, 0.4859747588634491, 0.32398316264152527, 0.5828222036361694, 0.19427406787872314, 0.19427406787872314, 0.7277616262435913, 0.7089741826057434, 0.7226836085319519, 0.2877955138683319, 0.2877955138683319, 0.2877955138683319, 0.11022558808326721, 0.22045117616653442, 0.11022558808326721, 0.11022558808326721, 0.33067676424980164, 0.11022558808326721, 0.2757015824317932, 0.5514031648635864, 0.2757015824317932, 0.7254405617713928, 0.48798614740371704, 0.7142634987831116, 0.14211086928844452, 0.28422173857688904, 0.14211086928844452, 0.14211086928844452, 0.14211086928844452, 0.14211086928844452, 0.11884725093841553, 0.3565417528152466, 0.11884725093841553, 0.11884725093841553, 0.11884725093841553, 0.11884725093841553, 0.5393123030662537, 0.26965615153312683, 0.714263379573822, 0.3569364547729492, 0.3569364547729492, 0.3410010039806366, 0.6820020079612732, 0.7176258563995361, 0.6868155598640442, 0.361912339925766, 0.361912339925766, 0.48343101143836975, 0.5913841128349304, 0.1971280425786972, 0.727761447429657, 0.1392236053943634, 0.03212852403521538, 0.21419017016887665, 0.1285140961408615, 0.11780458688735962, 0.1285140961408615, 0.06425704807043076, 0.04283803328871727, 0.03212852403521538, 0.09638557583093643, 0.6958028078079224, 0.9037208557128906, 0.3141188621520996, 0.13226057589054108, 0.1983908712863922, 0.08266285806894302, 0.08266285806894302, 0.016532571986317635, 0.016532571986317635, 0.08266285806894302, 0.04959771782159805, 0.016532571986317635, 0.7327192425727844, 0.1981171816587448, 0.1981171816587448, 0.3962343633174896, 0.7226837277412415, 0.12914900481700897, 0.12914900481700897, 0.25829800963401794, 0.12914900481700897, 0.12914900481700897, 0.12914900481700897, 0.12914900481700897, 0.6914118528366089, 0.34570592641830444, 0.4762592613697052, 0.3543996512889862, 0.3543996512889862, 0.1771998256444931, 0.7277615666389465, 0.5743906497955322, 0.2871953248977661, 0.0951552465558052, 0.0951552465558052, 0.0951552465558052, 0.1903104931116104, 0.2854657471179962, 0.0951552465558052, 0.2854657471179962, 0.48590153455734253, 0.7142636179924011, 0.7176258563995361, 0.732719361782074, 0.3538162410259247, 0.3538162410259247, 0.14490801095962524, 0.14490801095962524, 0.4347240626811981, 0.2898160219192505, 0.2343854159116745, 0.468770831823349, 0.2343854159116745, 0.7254406213760376, 0.7226836681365967, 0.23769576847553253, 0.23769576847553253, 0.23769576847553253, 0.23769576847553253, 0.23267586529254913, 0.46535173058509827, 0.23267586529254913, 0.2906908690929413, 0.2906908690929413, 0.2906908690929413, 0.21854840219020844, 0.10927420109510422, 0.21854840219020844, 0.21854840219020844, 0.10927420109510422, 0.10927420109510422, 0.10927420109510422, 0.3546449542045593, 0.3546449542045593, 0.358420193195343, 0.1792100965976715, 0.1792100965976715, 0.1792100965976715, 0.14241644740104675, 0.569665789604187, 0.14241644740104675, 0.14241644740104675, 0.6908612251281738, 0.3454306125640869, 0.3611491918563843, 0.3611491918563843, 0.7242292165756226, 0.24119336903095245, 0.24119336903095245, 0.24119336903095245, 0.7254406809806824, 0.14888660609722137, 0.22332991659641266, 0.14888660609722137, 0.07444330304861069, 0.14888660609722137, 0.07444330304861069, 0.07444330304861069, 0.07444330304861069, 0.07444330304861069, 0.732719361782074, 0.4591294527053833, 0.15304315090179443, 0.15304315090179443, 0.15304315090179443, 0.15304315090179443, 0.32255470752716064, 0.21503646671772003, 0.10751823335886002, 0.10751823335886002, 0.21503646671772003, 0.1788349598646164, 0.1788349598646164, 0.1788349598646164, 0.3576699197292328, 0.1788349598646164, 0.7089741230010986, 0.714640200138092, 0.7176257371902466, 0.7089741826057434, 0.7146401405334473, 0.20916609466075897, 0.41833218932151794, 0.20916609466075897, 0.6958029270172119, 0.483430951833725, 0.7226836085319519, 0.732719361782074, 0.16626358032226562, 0.16626358032226562, 0.16626358032226562, 0.08313179016113281, 0.08313179016113281, 0.16626358032226562, 0.08313179016113281, 0.08313179016113281, 0.16076990962028503, 0.16076990962028503, 0.32153981924057007, 0.32153981924057007, 0.9037213325500488, 0.7277616262435913, 0.6958027482032776, 0.7089741826057434, 0.28998327255249023, 0.28998327255249023, 0.28998327255249023, 0.9037198424339294, 0.38092052936553955, 0.19046026468276978, 0.09523013234138489, 0.09523013234138489, 0.09523013234138489, 0.09523013234138489, 0.724229097366333, 0.7254406213760376, 0.9193446636199951, 0.4879862070083618, 0.7254407405853271, 0.9037202596664429, 0.7254406809806824, 0.16666771471500397, 0.16666771471500397, 0.08333385735750198, 0.08333385735750198, 0.08333385735750198, 0.25000157952308655, 0.08333385735750198, 0.708974301815033, 0.7146400809288025, 0.19852015376091003, 0.39704030752182007, 0.19852015376091003, 0.368976354598999, 0.368976354598999, 0.289493590593338, 0.289493590593338, 0.289493590593338, 0.3265644311904907, 0.21770963072776794, 0.21770963072776794, 0.10885481536388397, 0.10885481536388397, 0.7327192425727844, 0.3598088324069977, 0.3598088324069977, 0.6958028078079224, 0.9037201404571533, 0.7277615666389465, 0.2857890725135803, 0.2857890725135803, 0.2857890725135803, 0.5625883936882019, 0.16073954105377197, 0.08036977052688599, 0.08036977052688599, 0.08036977052688599, 0.08036977052688599, 0.09502001106739044, 0.09502001106739044, 0.19004002213478088, 0.09502001106739044, 0.19004002213478088, 0.09502001106739044, 0.09502001106739044, 0.09502001106739044, 0.09502001106739044, 0.41490083932876587, 0.20745041966438293, 0.20745041966438293, 0.18130871653556824, 0.18130871653556824, 0.5439261198043823, 0.18112091720104218, 0.18112091720104218, 0.18112091720104218, 0.36224183440208435, 0.7089741826057434, 0.7277616262435913, 0.5483053922653198, 0.18276846408843994, 0.09138423204421997, 0.09138423204421997, 0.09138423204421997, 0.48481497168540955, 0.7176258563995361, 0.1584039181470871, 0.1584039181470871, 0.1584039181470871, 0.4752117693424225, 0.1108655035495758, 0.1108655035495758, 0.1108655035495758, 0.1108655035495758, 0.1108655035495758, 0.3325965106487274, 0.35147759318351746, 0.35147759318351746, 0.36053919792175293, 0.09511015564203262, 0.19022031128406525, 0.19022031128406525, 0.09511015564203262, 0.28533047437667847, 0.09511015564203262, 0.24117669463157654, 0.24117669463157654, 0.24117669463157654, 0.24117669463157654, 0.29163187742233276, 0.29163187742233276, 0.29163187742233276, 0.6868155598640442, 0.7277616858482361, 0.47625938057899475, 0.732719361782074, 0.7277615666389465, 0.7242291569709778, 0.2793758511543274, 0.1396879255771637, 0.2793758511543274, 0.1396879255771637, 0.1396879255771637, 0.708974301815033, 0.7254406213760376, 0.6733657717704773, 0.36114925146102905, 0.36114925146102905, 0.7226837277412415, 0.6958028674125671, 0.9037204384803772, 0.6958028674125671, 0.47123983502388, 0.36189737915992737, 0.36189737915992737, 0.7254407405853271, 0.7254406809806824, 0.3588365316390991, 0.3588365316390991, 0.15583562850952148, 0.15583562850952148, 0.31167125701904297, 0.15583562850952148, 0.15583562850952148, 0.14227677881717682, 0.21341516077518463, 0.07113838940858841, 0.14227677881717682, 0.14227677881717682, 0.07113838940858841, 0.07113838940858841, 0.07113838940858841, 0.07113838940858841, 0.06851203739643097, 0.06851203739643097, 0.13702407479286194, 0.06851203739643097, 0.06851203739643097, 0.2055360972881317, 0.06851203739643097, 0.06851203739643097, 0.2055360972881317, 0.16069388389587402, 0.16069388389587402, 0.16069388389587402, 0.32138776779174805, 0.16069388389587402, 0.4789152145385742, 0.7089740633964539, 0.47657838463783264, 0.9193448424339294, 0.47390851378440857, 0.23695425689220428, 0.23695425689220428, 0.278751403093338, 0.557502806186676, 0.278751403093338, 0.7226836085319519, 0.17658844590187073, 0.17658844590187073, 0.17658844590187073, 0.08829422295093536, 0.08829422295093536, 0.08829422295093536, 0.08829422295093536, 0.3644571602344513, 0.3644571602344513, 0.9037206768989563, 0.2945561110973358, 0.1472780555486679, 0.1472780555486679, 0.1472780555486679, 0.07363902777433395, 0.07363902777433395, 0.07363902777433395, 0.7242290377616882, 0.7327193021774292, 0.724229097366333, 0.7226836681365967, 0.7242291569709778, 0.9037201404571533, 0.47625932097435, 0.2343854457139969, 0.4687708914279938, 0.2343854457139969, 0.3595104217529297, 0.3595104217529297, 0.48590147495269775, 0.7254407405853271, 0.23623032867908478, 0.23623032867908478, 0.23623032867908478, 0.23623032867908478, 0.356338769197464, 0.356338769197464, 0.7277616262435913, 0.36447015404701233, 0.36447015404701233, 0.7176258563995361, 0.6132600903511047, 0.2044200301170349, 0.7242289781570435, 0.9037197828292847, 0.3636855483055115, 0.3636855483055115, 0.48481497168540955, 0.9193450212478638, 0.7176258563995361, 0.23375549912452698, 0.23375549912452698, 0.46751099824905396, 0.686404287815094, 0.118665911257267, 0.118665911257267, 0.237331822514534, 0.3559977412223816, 0.118665911257267, 0.118665911257267, 0.20894606411457062, 0.41789212822914124, 0.20894606411457062, 0.20894606411457062, 0.7242291569709778, 0.7089741826057434, 0.24880453944206238, 0.03554350510239601, 0.03554350510239601, 0.10663051903247833, 0.03554350510239601, 0.10663051903247833, 0.10663051903247833, 0.14217402040958405, 0.10663051903247833, 0.03554350510239601, 0.2452843189239502, 0.2452843189239502, 0.2452843189239502, 0.6958027482032776, 0.7089742422103882, 0.6914119720458984, 0.3457059860229492, 0.36114928126335144, 0.36114928126335144, 0.20459505915641785, 0.20459505915641785, 0.4091901183128357, 0.20459505915641785, 0.3279125988483429, 0.24593445658683777, 0.08197814971208572, 0.16395629942417145, 0.08197814971208572, 0.08197814971208572, 0.7242291569709778, 0.7226836681365967, 0.708974301815033, 0.686815619468689, 0.7146401405334473, 0.7176257967948914, 0.7242290377616882, 0.3661617040634155, 0.3661617040634155, 0.1758885681629181, 0.3517771363258362, 0.3517771363258362, 0.42781418561935425, 0.21390709280967712, 0.10695354640483856, 0.21390709280967712, 0.0892024114727974, 0.0892024114727974, 0.1784048229455948, 0.0892024114727974, 0.0892024114727974, 0.1784048229455948, 0.0892024114727974, 0.1784048229455948, 0.9037214517593384, 0.20538778603076935, 0.10269389301538467, 0.20538778603076935, 0.10269389301538467, 0.10269389301538467, 0.20538778603076935, 0.7254406213760376, 0.14949610829353333, 0.14949610829353333, 0.07474805414676666, 0.14949610829353333, 0.07474805414676666, 0.07474805414676666, 0.07474805414676666, 0.07474805414676666, 0.07474805414676666, 0.732719361782074, 0.6958028078079224, 0.483430951833725, 0.724229097366333, 0.2850726544857025, 0.2850726544857025, 0.2850726544857025, 0.47123977541923523, 0.7226836681365967, 0.714640200138092, 0.7176257967948914, 0.20149727165699005, 0.20149727165699005, 0.4029945433139801, 0.15259574353694916, 0.07629787176847458, 0.07629787176847458, 0.22889362275600433, 0.15259574353694916, 0.3051914870738983, 0.7254406809806824, 0.36037880182266235, 0.36037880182266235, 0.6868154406547546, 0.15948717296123505, 0.15948717296123505, 0.3189743459224701, 0.15948717296123505, 0.15948717296123505, 0.15948717296123505, 0.6958028078079224, 0.48343101143836975, 0.7226837277412415, 0.7187464833259583, 0.13978904485702515, 0.06989452242851257, 0.34947261214256287, 0.20968356728553772, 0.06989452242851257, 0.06989452242851257, 0.7327194213867188, 0.9193451404571533, 0.7277615666389465, 0.09413407742977142, 0.09413407742977142, 0.18826815485954285, 0.09413407742977142, 0.09413407742977142, 0.28240224719047546, 0.47932469844818115, 0.1895408034324646, 0.2843112051486969, 0.0947704017162323, 0.0947704017162323, 0.0947704017162323, 0.0947704017162323, 0.0947704017162323, 0.0947704017162323, 0.4086697995662689, 0.20433489978313446, 0.20433489978313446, 0.20433489978313446, 0.36101245880126953, 0.36101245880126953, 0.7187466025352478, 0.2869899570941925, 0.2869899570941925, 0.2869899570941925, 0.732719361782074, 0.7176257967948914, 0.1858937293291092, 0.06196457892656326, 0.1858937293291092, 0.12392915785312653, 0.06196457892656326, 0.12392915785312653, 0.1858937293291092, 0.06196457892656326, 0.7277615666389465, 0.5615236759185791, 0.28076183795928955, 0.28078165650367737, 0.21058623492717743, 0.07019541412591934, 0.07019541412591934, 0.14039082825183868, 0.07019541412591934, 0.14039082825183868, 0.07019541412591934, 0.16672515869140625, 0.16672515869140625, 0.16672515869140625, 0.16672515869140625, 0.08336257934570312, 0.16672515869140625, 0.08336257934570312, 0.21720878779888153, 0.14480586349964142, 0.07240293174982071, 0.07240293174982071, 0.14480586349964142, 0.21720878779888153, 0.07240293174982071, 0.5657005906105042, 0.2828502953052521, 0.2828502953052521, 0.6958028674125671, 0.7254407405853271, 0.7176257967948914, 0.4834310710430145, 0.24022318422794342, 0.24022318422794342, 0.24022318422794342, 0.24022318422794342, 0.47891509532928467, 0.47123971581459045, 0.07211383432149887, 0.07211383432149887, 0.07211383432149887, 0.14422766864299774, 0.14422766864299774, 0.2163415104150772, 0.14422766864299774, 0.07211383432149887, 0.07211383432149887, 0.37765249609947205, 0.1079007163643837, 0.1079007163643837, 0.05395035818219185, 0.05395035818219185, 0.05395035818219185, 0.05395035818219185, 0.05395035818219185, 0.16185106337070465, 0.3381854295730591, 0.16909271478652954, 0.12078051269054413, 0.024156102910637856, 0.024156102910637856, 0.09662441164255142, 0.024156102910637856, 0.09662441164255142, 0.12078051269054413, 0.2036469429731369, 0.4072938859462738, 0.2036469429731369, 0.2036469429731369, 0.08765597641468048, 0.08765597641468048, 0.4382798671722412, 0.26296791434288025, 0.08765597641468048, 0.08765597641468048, 0.1139511913061142, 0.1709267795085907, 0.1139511913061142, 0.0569755956530571, 0.0569755956530571, 0.1709267795085907, 0.0569755956530571, 0.1139511913061142, 0.1139511913061142, 0.23810727894306183, 0.23810727894306183, 0.23810727894306183, 0.23810727894306183, 0.45776981115341187, 0.15258993208408356, 0.15258993208408356, 0.15258993208408356, 0.15258993208408356, 0.3546449542045593, 0.3546449542045593, 0.36252617835998535, 0.36252617835998535, 0.7254406809806824, 0.7327193021774292, 0.3552258610725403, 0.3552258610725403, 0.46274882555007935, 0.46274882555007935, 0.11035871505737305, 0.11035871505737305, 0.2207174301147461, 0.11035871505737305, 0.11035871505737305, 0.2207174301147461, 0.2207174301147461, 0.7226836681365967, 0.16914445161819458, 0.08457222580909729, 0.08457222580909729, 0.08457222580909729, 0.25371667742729187, 0.08457222580909729, 0.16914445161819458, 0.2030392289161682, 0.6091176867485046, 0.2030392289161682, 0.28135043382644653, 0.09378347545862198, 0.18756695091724396, 0.09378347545862198, 0.09378347545862198, 0.09378347545862198, 0.18756695091724396, 0.09378347545862198, 0.4712398648262024, 0.6790563464164734, 0.7089741826057434, 0.365949422121048, 0.365949422121048, 0.36106255650520325, 0.36106255650520325, 0.7146401405334473, 0.7226836681365967, 0.7327192425727844, 0.2844546437263489, 0.2844546437263489, 0.2844546437263489, 0.3649775981903076, 0.3649775981903076, 0.12652985751628876, 0.2530597150325775, 0.44285449385643005, 0.12652985751628876, 0.06326492875814438, 0.1590362787246704, 0.1590362787246704, 0.1590362787246704, 0.3180725574493408, 0.1590362787246704, 0.24041791260242462, 0.24041791260242462, 0.24041791260242462, 0.24041791260242462, 0.49245473742485046, 0.24406415224075317, 0.18304811418056488, 0.06101603806018829, 0.12203207612037659, 0.06101603806018829, 0.06101603806018829, 0.06101603806018829, 0.12203207612037659, 0.7327192425727844, 0.11346263438463211, 0.1361551582813263, 0.045385051518678665, 0.1361551582813263, 0.022692525759339333, 0.18154020607471466, 0.1361551582813263, 0.09077010303735733, 0.09077010303735733, 0.022692525759339333, 0.48798632621765137, 0.3543018102645874, 0.3543018102645874, 0.15792235732078552, 0.15792235732078552, 0.47376707196235657, 0.15792235732078552, 0.15792235732078552, 0.20642249286174774, 0.4128449857234955, 0.20642249286174774, 0.20642249286174774, 0.7146401405334473, 0.14377424120903015, 0.14377424120903015, 0.2875484824180603, 0.14377424120903015, 0.14377424120903015, 0.4789871871471405, 0.3473258912563324, 0.3473258912563324, 0.20213764905929565, 0.20213764905929565, 0.06737921386957169, 0.06737921386957169, 0.20213764905929565, 0.13475842773914337, 0.06737921386957169, 0.21777212619781494, 0.13066327571868896, 0.17421770095825195, 0.08710885047912598, 0.04355442523956299, 0.17421770095825195, 0.04355442523956299, 0.13066327571868896, 0.4787192642688751, 0.5652334690093994, 0.2826167345046997, 0.7016006708145142, 0.3508003354072571, 0.1774486005306244, 0.05914953723549843, 0.05914953723549843, 0.11829907447099686, 0.11829907447099686, 0.3548972010612488, 0.05914953723549843, 0.48846545815467834, 0.34772294759750366, 0.6954458951950073, 0.47123971581459045, 0.21285578608512878, 0.42571157217025757, 0.10642789304256439, 0.10642789304256439, 0.10642789304256439, 0.10642789304256439, 0.7089741826057434, 0.7327193021774292, 0.36575719714164734, 0.36575719714164734, 0.4859012961387634, 0.20585264265537262, 0.20585264265537262, 0.20585264265537262, 0.20585264265537262, 0.20585264265537262, 0.4848150312900543, 0.7254405617713928, 0.09429533779621124, 0.18859067559242249, 0.18859067559242249, 0.09429533779621124, 0.18859067559242249, 0.04714766889810562, 0.09429533779621124, 0.04714766889810562, 0.35626769065856934, 0.35626769065856934, 0.47891509532928467, 0.4859015941619873, 0.09574232995510101, 0.28722697496414185, 0.09574232995510101, 0.09574232995510101, 0.19148465991020203, 0.09574232995510101, 0.09574232995510101, 0.9037202596664429, 0.362612247467041, 0.362612247467041, 0.5767948031425476, 0.2883974015712738, 0.690861165523529, 0.3454305827617645, 0.7242291569709778, 0.36587265133857727, 0.36587265133857727, 0.47951188683509827, 0.1241367757320404, 0.2482735514640808, 0.0620683878660202, 0.0620683878660202, 0.1241367757320404, 0.1241367757320404, 0.0620683878660202, 0.0620683878660202, 0.0620683878660202, 0.35951048135757446, 0.35951048135757446, 0.724229097366333, 0.23996968567371368, 0.23996968567371368, 0.23996968567371368, 0.23996968567371368, 0.7277616858482361, 0.7254406809806824, 0.28107917308807373, 0.5621583461761475, 0.28107917308807373, 0.7254405617713928, 0.08393587917089462, 0.16787175834178925, 0.16787175834178925, 0.3357435166835785, 0.08393587917089462, 0.08393587917089462, 0.08393587917089462, 0.08393587917089462, 0.9037211537361145, 0.7226837873458862, 0.10234348475933075, 0.2046869695186615, 0.2046869695186615, 0.10234348475933075, 0.10234348475933075, 0.10234348475933075, 0.10234348475933075, 0.24230077862739563, 0.24230077862739563, 0.24230077862739563, 0.24230077862739563, 0.49245473742485046, 0.7277616262435913, 0.3574974536895752, 0.3574974536895752, 0.6927521824836731, 0.34637609124183655, 0.7089741826057434, 0.1505218893289566, 0.0752609446644783, 0.1505218893289566, 0.1505218893289566, 0.1505218893289566, 0.2257828265428543, 0.0752609446644783, 0.7226836085319519, 0.7277615666389465, 0.36037877202033997, 0.36037877202033997, 0.3496094346046448, 0.3496094346046448, 0.686815619468689, 0.7176258563995361, 0.1756974756717682, 0.05856582522392273, 0.23426330089569092, 0.05856582522392273, 0.05856582522392273, 0.05856582522392273, 0.11713165044784546, 0.11713165044784546, 0.183452308177948, 0.183452308177948, 0.183452308177948, 0.183452308177948, 0.183452308177948, 0.7277616858482361, 0.2899814546108246, 0.2899814546108246, 0.2899814546108246, 0.7277616262435913, 0.5909221172332764, 0.1969740390777588, 0.28821876645088196, 0.28821876645088196, 0.28821876645088196, 0.45389190316200256, 0.3615903854370117, 0.3615903854370117, 0.4848150908946991, 0.9193450212478638, 0.47123983502388, 0.35761499404907227, 0.35761499404907227, 0.7254406809806824, 0.14395159482955933, 0.07197579741477966, 0.14395159482955933, 0.215927392244339, 0.07197579741477966, 0.14395159482955933, 0.07197579741477966, 0.14395159482955933, 0.2874082028865814, 0.5748164057731628, 0.36866241693496704, 0.36866241693496704, 0.7327192425727844, 0.7254406213760376, 0.7242289781570435, 0.7226836085319519, 0.12163195013999939, 0.12163195013999939, 0.12163195013999939, 0.12163195013999939, 0.24326390027999878, 0.12163195013999939, 0.2343854159116745, 0.468770831823349, 0.2343854159116745, 0.6958027482032776, 0.9193451404571533, 0.15636800229549408, 0.15636800229549408, 0.15636800229549408, 0.23455201089382172, 0.07818400114774704, 0.07818400114774704, 0.07818400114774704, 0.07818400114774704, 0.4848150312900543, 0.2343853861093521, 0.4687707722187042, 0.2343853861093521, 0.176923006772995, 0.176923006772995, 0.0884615033864975, 0.2653844952583313, 0.0884615033864975, 0.0884615033864975, 0.1955326348543167, 0.2444157898426056, 0.09776631742715836, 0.04888315871357918, 0.09776631742715836, 0.04888315871357918, 0.04888315871357918, 0.04888315871357918, 0.09776631742715836, 0.04888315871357918, 0.20582930743694305, 0.20582930743694305, 0.4116586148738861, 0.11903597414493561, 0.11903597414493561, 0.11903597414493561, 0.11903597414493561, 0.11903597414493561, 0.11903597414493561, 0.11903597414493561, 0.23807194828987122, 0.11903597414493561, 0.3473258912563324, 0.3473258912563324, 0.47891509532928467, 0.7254406809806824, 0.47784891724586487, 0.47123971581459045, 0.5432234406471252, 0.2716117203235626, 0.49245330691337585, 0.7254407405853271, 0.4753365218639374, 0.2376682609319687, 0.2376682609319687, 0.7327193021774292, 0.20267100632190704, 0.20267100632190704, 0.20267100632190704, 0.4053420126438141, 0.29116785526275635, 0.29116785526275635, 0.29116785526275635, 0.7089742422103882, 0.7176258563995361, 0.7176258563995361, 0.4775085747241974, 0.3203129470348358, 0.2562503516674042, 0.06406258791685104, 0.19218777120113373, 0.06406258791685104, 0.06406258791685104, 0.06406258791685104, 0.7226836085319519, 0.17576481401920319, 0.17576481401920319, 0.35152962803840637, 0.17576481401920319, 0.17576481401920319, 0.28516772389411926, 0.28516772389411926, 0.28516772389411926, 0.48015013337135315, 0.24007506668567657, 0.23918502032756805, 0.23918502032756805, 0.23918502032756805, 0.23918502032756805, 0.2343854159116745, 0.468770831823349, 0.2343854159116745, 0.7327193021774292, 0.6864039301872253, 0.07508717477321625, 0.07508717477321625, 0.22526152431964874, 0.07508717477321625, 0.07508717477321625, 0.07508717477321625, 0.07508717477321625, 0.07508717477321625, 0.1501743495464325, 0.07508717477321625, 0.13040965795516968, 0.26081931591033936, 0.13040965795516968, 0.13040965795516968, 0.26081931591033936, 0.35951051115989685, 0.35951051115989685, 0.9037202596664429, 0.16130663454532623, 0.16130663454532623, 0.16130663454532623, 0.16130663454532623, 0.32261326909065247, 0.24198144674301147, 0.24198144674301147, 0.48396289348602295, 0.7226836085319519, 0.20660997927188873, 0.41321995854377747, 0.20660997927188873, 0.20660997927188873, 0.6868155598640442, 0.39850983023643494, 0.19925491511821747, 0.19925491511821747, 0.3484559953212738, 0.11615200340747833, 0.11615200340747833, 0.23230400681495667, 0.11615200340747833, 0.4848150312900543, 0.7327193021774292, 0.45817816257476807, 0.22908908128738403, 0.22908908128738403, 0.6958027482032776, 0.45689696073532104, 0.7254406213760376, 0.1578979641199112, 0.0789489820599556, 0.1578979641199112, 0.1578979641199112, 0.0789489820599556, 0.0789489820599556, 0.0789489820599556, 0.0789489820599556, 0.28646135330200195, 0.28646135330200195, 0.28646135330200195, 0.7327192425727844, 0.724229097366333, 0.3595104217529297, 0.3595104217529297, 0.7327193021774292, 0.7186554670333862, 0.3619101643562317, 0.3619101643562317, 0.7277616262435913, 0.16190992295742035, 0.16190992295742035, 0.16190992295742035, 0.16190992295742035, 0.3238198459148407, 0.16190992295742035, 0.5610761642456055, 0.28053808212280273, 0.47625938057899475, 0.7089743614196777, 0.7242290377616882, 0.7176257967948914, 0.15691174566745758, 0.47073525190353394, 0.23536762595176697, 0.07845587283372879, 0.07845587283372879, 0.07338650524616241, 0.11007976531982422, 0.14677301049232483, 0.25685277581214905, 0.03669325262308121, 0.07338650524616241, 0.25685277581214905, 0.11007976531982422, 0.20442919433116913, 0.20442919433116913, 0.40885838866233826, 0.40342310070991516, 0.10085577517747879, 0.10085577517747879, 0.20171155035495758, 0.20171155035495758, 0.48024410009384155, 0.15964564681053162, 0.15964564681053162, 0.15964564681053162, 0.31929129362106323, 0.15964564681053162, 0.7277615666389465, 0.7277616262435913, 0.6958029270172119, 0.7089742422103882, 0.6958028078079224, 0.7277615666389465, 0.724229097366333, 0.7226836085319519, 0.724229097366333, 0.724229097366333, 0.4924546182155609], \"Term\": [\"acalmar\", \"acao\", \"acao\", \"aceitar\", \"acentuar\", \"acidentar\", \"acidenteaereo\", \"acusar\", \"adiar\", \"adiar\", \"adiar\", \"advocacia\", \"advogado\", \"aeroclube\", \"africa\", \"afrouxamento\", \"afthr\", \"aftzx\", \"agora\", \"agora\", \"agora\", \"agora\", \"aguardar\", \"ajudar\", \"ajudar\", \"ajudar\", \"ajudar\", \"akcb\", \"aldemir\", \"alegre\", \"alertar\", \"alertar\", \"alertar\", \"alertar\", \"alguem\", \"alto\", \"alto\", \"alto\", \"alto\", \"alto\", \"alto\", \"alto\", \"aluno\", \"aluno\", \"alvo\", \"amapa\", \"america\", \"america\", \"america\", \"amigo\", \"amigo\", \"ampliar\", \"ampliar\", \"ampliar\", \"ampliar\", \"ampliar\", \"ampliar\", \"andreiasadi\", \"andreiasadi\", \"andreiasadi\", \"andreiasadi\", \"andreiasadi\", \"antar\", \"antar\", \"antar\", \"antar\", \"antar\", \"antar\", \"antar\", \"anunciar\", \"anunciar\", \"anunciar\", \"anunciar\", \"anunciar\", \"anunciar\", \"anunciar\", \"anuncio\", \"apartamento\", \"apontar\", \"apontar\", \"apontar\", \"apontar\", \"apontar\", \"apos\", \"apos\", \"apos\", \"apos\", \"apos\", \"apos\", \"apos\", \"apos\", \"apos\", \"apos\", \"argentina\", \"argentina\", \"asaga\", \"asiaticas\", \"assinar\", \"assinar\", \"assinar\", \"atscx\", \"atua\", \"aumentar\", \"aumentar\", \"aumentar\", \"aumentar\", \"auonkjkd\", \"autor\", \"autuar\", \"auxilio\", \"auxilio\", \"auxilio\", \"auxilio\", \"auxilio\", \"auxilio\", \"auxilio\", \"auxilio\", \"auxilio\", \"avancodacovid\", \"aviao\", \"axwg\", \"azevedo\", \"azevedo\", \"azjwh\", \"bachelet\", \"bairro\", \"banco\", \"banco\", \"banco\", \"banco\", \"barrar\", \"bastidores\", \"bastidores\", \"bastidores\", \"batalhao\", \"beber\", \"beber\", \"belarus\", \"belo\", \"belo\", \"bendine\", \"beneficio\", \"bloqueio\", \"bols\", \"bolsonaro\", \"bolsonaro\", \"bolsonaro\", \"bolsonaro\", \"bolsonaro\", \"bolsonaro\", \"bolsonaro\", \"bolsonaro\", \"bolsonaro\", \"bolsonaro\", \"bomdiabrasil\", \"brasil\", \"brasil\", \"brasil\", \"brasil\", \"brasil\", \"brasil\", \"brasil\", \"brasil\", \"brasil\", \"brasil\", \"brasileiro\", \"brasileiro\", \"brasileiro\", \"brasileiro\", \"brasileiro\", \"brasileiro\", \"brasileiro\", \"brasileiro\", \"bull\", \"caber\", \"calendario\", \"calendario\", \"calendario\", \"calendario\", \"calendario\", \"campanha\", \"campanha\", \"campanha\", \"campanha\", \"campeao\", \"capacete\", \"cardapio\", \"cardiaco\", \"carnaval\", \"carreira\", \"carro\", \"carro\", \"carro\", \"carro\", \"carro\", \"carro\", \"carros\", \"cartaz\", \"casar\", \"casar\", \"casar\", \"casar\", \"casar\", \"casar\", \"casar\", \"caso\", \"caso\", \"caso\", \"caso\", \"caso\", \"caso\", \"caso\", \"causar\", \"causar\", \"causar\", \"causar\", \"causar\", \"causar\", \"causar\", \"centrao\", \"certeza\", \"cgvushas\", \"chamar\", \"chamar\", \"chamar\", \"chefe\", \"chefe\", \"chefe\", \"chefe\", \"chefe\", \"chegar\", \"chegar\", \"chegar\", \"chegar\", \"chegar\", \"chegar\", \"chegar\", \"chwkso\", \"cidade\", \"cidade\", \"cidade\", \"cincar\", \"cincar\", \"cincar\", \"cinco\", \"cinemas\", \"circulaca\", \"circular\", \"circular\", \"circular\", \"citar\", \"citar\", \"citar\", \"citar\", \"citar\", \"citar\", \"clinicas\", \"clinicas\", \"clinicas\", \"clyfbddo\", \"cobranca\", \"coletiva\", \"combater\", \"combater\", \"combater\", \"combater\", \"combater\", \"combater\", \"comedir\", \"comedir\", \"comedir\", \"comedir\", \"comedir\", \"comedir\", \"comemorar\", \"comemorar\", \"comparar\", \"comunidade\", \"comunidade\", \"condenar\", \"condenar\", \"condominio\", \"consecutivo\", \"consulto\", \"consulto\", \"continuar\", \"converso\", \"converso\", \"convite\", \"coronavirus\", \"coronavirus\", \"coronavirus\", \"coronavirus\", \"coronavirus\", \"coronavirus\", \"coronavirus\", \"coronavirus\", \"coronavirus\", \"coronavirus\", \"corrupcao\", \"cover\", \"covid\", \"covid\", \"covid\", \"covid\", \"covid\", \"covid\", \"covid\", \"covid\", \"covid\", \"covid\", \"cubano\", \"curar\", \"curar\", \"curar\", \"dataprev\", \"datar\", \"datar\", \"datar\", \"datar\", \"datar\", \"datar\", \"datar\", \"decada\", \"decada\", \"declaracao\", \"decretar\", \"decretar\", \"decretar\", \"defensivo\", \"deficiencia\", \"deficiencia\", \"deixar\", \"deixar\", \"deixar\", \"deixar\", \"deixar\", \"deixar\", \"deixar\", \"delegar\", \"denunciar\", \"deputar\", \"desacreditar\", \"descobrir\", \"descobrir\", \"desde\", \"desde\", \"desde\", \"desde\", \"desejo\", \"desejo\", \"desejo\", \"destinar\", \"detalhar\", \"detectar\", \"detectar\", \"detectar\", \"detectar\", \"determinar\", \"determinar\", \"determinar\", \"dezena\", \"dezena\", \"dezena\", \"diadasmaes\", \"diadasmaes\", \"diadasmaes\", \"diadasmaes\", \"diadasmaes\", \"diadasmaes\", \"diadasmaes\", \"diadoenfermeiro\", \"diadoenfermeiro\", \"diferente\", \"diferente\", \"diferente\", \"diferente\", \"diretor\", \"diretor\", \"diretor\", \"diretor\", \"discutir\", \"discutir\", \"disparar\", \"disparar\", \"diss\", \"distancia\", \"distancia\", \"distancia\", \"distanciamen\", \"dizer\", \"dizer\", \"dizer\", \"dizer\", \"dizer\", \"dizer\", \"dizer\", \"dizer\", \"dizer\", \"dkhjuut\", \"doenca\", \"doenca\", \"doenca\", \"doenca\", \"doenca\", \"dois\", \"dois\", \"dois\", \"dois\", \"dois\", \"dolar\", \"dolar\", \"dolar\", \"dolar\", \"dolar\", \"double\", \"drasticamente\", \"dspawd\", \"duplo\", \"dzaus\", \"eficacia\", \"eficacia\", \"eficacia\", \"eficiente\", \"elefante\", \"elefantes\", \"emergencia\", \"emergencial\", \"emergencial\", \"emergencial\", \"emergencial\", \"emergencial\", \"emergencial\", \"emergencial\", \"emergencial\", \"encontrar\", \"encontrar\", \"encontrar\", \"encontrar\", \"enfermeiros\", \"enfrentamento\", \"engng\", \"ensaiar\", \"entender\", \"entender\", \"entender\", \"enterrar\", \"entregar\", \"entregar\", \"entregar\", \"entregar\", \"entregar\", \"entregar\", \"epic\", \"equipamento\", \"escolher\", \"espantar\", \"espirito\", \"esposo\", \"esquema\", \"estar\", \"estar\", \"estar\", \"estar\", \"estar\", \"estar\", \"estar\", \"estranho\", \"estrelo\", \"estudar\", \"estudar\", \"estudar\", \"estudos\", \"estudos\", \"europa\", \"europa\", \"europa\", \"exame\", \"exame\", \"exame\", \"exame\", \"exame\", \"exames\", \"exclusivo\", \"exclusivo\", \"exemplo\", \"experiencia\", \"eydguy\", \"facebook\", \"facebook\", \"facebook\", \"fake\", \"fake\", \"fake\", \"fake\", \"fake\", \"fake\", \"falir\", \"falir\", \"falir\", \"falir\", \"falir\", \"falir\", \"falir\", \"falir\", \"falir\", \"false\", \"false\", \"false\", \"falto\", \"falto\", \"falto\", \"familia\", \"familia\", \"familia\", \"familia\", \"famoso\", \"farmacia\", \"fatooufake\", \"fatooufake\", \"fatooufake\", \"fatooufake\", \"fatooufake\", \"faturamento\", \"favorito\", \"fechar\", \"fechar\", \"fechar\", \"fechar\", \"federal\", \"federal\", \"federal\", \"federal\", \"federal\", \"federal\", \"fernando\", \"fernando\", \"festa\", \"ficar\", \"ficar\", \"ficar\", \"ficar\", \"ficar\", \"ficar\", \"filar\", \"filar\", \"filar\", \"filar\", \"final\", \"final\", \"final\", \"fiscal\", \"fogaca\", \"fonte\", \"forca\", \"forcar\", \"fortaleza\", \"foto\", \"foto\", \"foto\", \"foto\", \"foto\", \"fotografico\", \"fotos\", \"franca\", \"fronteiro\", \"fronteiro\", \"frustrar\", \"fszatf\", \"funcionario\", \"fuqo\", \"futuro\", \"gerar\", \"gerar\", \"gestao\", \"gigantes\", \"globoplay\", \"globoplay\", \"governador\", \"governador\", \"governador\", \"governador\", \"governador\", \"governar\", \"governar\", \"governar\", \"governar\", \"governar\", \"governar\", \"governar\", \"governar\", \"governar\", \"governo\", \"governo\", \"governo\", \"governo\", \"governo\", \"governo\", \"governo\", \"governo\", \"governo\", \"grande\", \"grande\", \"grande\", \"grande\", \"grande\", \"gratuito\", \"grav\", \"gravacao\", \"grilsqxvub\", \"gripar\", \"gripar\", \"gripar\", \"guerra\", \"guerra\", \"guerra\", \"hdfgi\", \"horar\", \"horar\", \"horar\", \"horar\", \"horar\", \"horar\", \"horar\", \"horizonte\", \"horizonte\", \"hospitais\", \"hospital\", \"hospital\", \"hospital\", \"hospital\", \"hospital\", \"hospital\", \"hospital\", \"humanitario\", \"hungria\", \"identificar\", \"ihit\", \"impaciencia\", \"impacto\", \"impedir\", \"importar\", \"importar\", \"importar\", \"inclusao\", \"inclusao\", \"indigena\", \"infantil\", \"infeccao\", \"infeccao\", \"infeccao\", \"infeccao\", \"infectar\", \"infectar\", \"informal\", \"inicio\", \"inicio\", \"inimigo\", \"inquerito\", \"inquerito\", \"institucional\", \"instituto\", \"integro\", \"integro\", \"intenso\", \"inter\", \"interessar\", \"interior\", \"interior\", \"interior\", \"internacao\", \"internar\", \"internar\", \"internar\", \"internar\", \"internar\", \"internar\", \"internet\", \"internet\", \"internet\", \"internet\", \"invertido\", \"iris\", \"isolamento\", \"isolamento\", \"isolamento\", \"isolamento\", \"isolamento\", \"isolamento\", \"isolamento\", \"isolamento\", \"isolamento\", \"isolamento\", \"isolar\", \"isolar\", \"isolar\", \"iuyjnvgh\", \"japao\", \"jornalista\", \"jornalista\", \"jornalnacional\", \"jornalnacional\", \"jovem\", \"jovem\", \"jovem\", \"jovem\", \"justica\", \"justica\", \"justica\", \"justica\", \"justica\", \"justica\", \"kbosfq\", \"kccosauokj\", \"kmykco\", \"knihc\", \"lancar\", \"lavajato\", \"lcil\", \"legal\", \"legal\", \"leia\", \"leia\", \"leia\", \"leito\", \"leito\", \"leito\", \"leito\", \"liberar\", \"liberar\", \"liberar\", \"liberar\", \"liberar\", \"liberar\", \"liberar\", \"liberar\", \"lipa\", \"live\", \"live\", \"live\", \"live\", \"live\", \"live\", \"llenqlkrde\", \"lockdown\", \"lockdown\", \"lockdown\", \"lockdown\", \"lockdown\", \"lockdown\", \"lockdown\", \"lockdown\", \"lockdown\", \"lsvtxfheed\", \"ltoyr\", \"lucro\", \"luiz\", \"lutar\", \"lutar\", \"lutar\", \"luvas\", \"lvuea\", \"madonna\", \"magnetico\", \"maia\", \"maia\", \"maia\", \"maio\", \"maio\", \"maio\", \"maio\", \"maio\", \"maio\", \"manifes\", \"manifestar\", \"manifestar\", \"mant\", \"manter\", \"manter\", \"manter\", \"manter\", \"manter\", \"manter\", \"maqueiro\", \"mara\", \"marcas\", \"marilia\", \"mascara\", \"mascara\", \"mascara\", \"mascara\", \"mascara\", \"mascara\", \"master\", \"maternidade\", \"medica\", \"medico\", \"medico\", \"medico\", \"medico\", \"medico\", \"medico\", \"medida\", \"medir\", \"medir\", \"medir\", \"medir\", \"medir\", \"medir\", \"medir\", \"medir\", \"medo\", \"medo\", \"medo\", \"medo\", \"melhorar\", \"melhorar\", \"mendonca\", \"menino\", \"menino\", \"menino\", \"mexicano\", \"migrar\", \"milhao\", \"milhao\", \"milhao\", \"milhao\", \"milhao\", \"milhao\", \"milhao\", \"milhao\", \"milhar\", \"minas\", \"minas\", \"ministerio\", \"ministerio\", \"ministerio\", \"ministerio\", \"ministerio\", \"ministerio\", \"ministerio\", \"ministerio\", \"ministrar\", \"ministrar\", \"ministrar\", \"ministrar\", \"ministrar\", \"ministrar\", \"ministrar\", \"ministro\", \"ministro\", \"ministro\", \"ministro\", \"ministro\", \"ministro\", \"ministro\", \"minutar\", \"minutar\", \"minutar\", \"minuto\", \"mixeqp\", \"mnhldar\", \"moeda\", \"momento\", \"momento\", \"momento\", \"momento\", \"morador\", \"morar\", \"moro\", \"moro\", \"moro\", \"moro\", \"moro\", \"moro\", \"moro\", \"moro\", \"moro\", \"morrer\", \"morrer\", \"morrer\", \"morrer\", \"morrer\", \"morrer\", \"morrer\", \"morrer\", \"morrer\", \"morte\", \"morte\", \"morte\", \"morte\", \"morte\", \"morte\", \"morte\", \"morte\", \"morte\", \"mortes\", \"mortes\", \"mortes\", \"mortes\", \"morto\", \"morto\", \"morto\", \"morto\", \"morto\", \"morto\", \"mostrar\", \"mostrar\", \"mostrar\", \"mostrar\", \"mostrar\", \"mostrar\", \"mostrar\", \"mostrar\", \"mostrar\", \"mudanca\", \"mudanca\", \"mudanca\", \"mudanca\", \"mulher\", \"mulher\", \"mulher\", \"mulher\", \"mulher\", \"municipio\", \"municipio\", \"naiara\", \"naiara\", \"ndcmbqedhx\", \"netto\", \"nomeacao\", \"nomeacao\", \"noronha\", \"noronha\", \"noticia\", \"noticia\", \"noticia\", \"noticia\", \"noticia\", \"noticia\", \"noticia\", \"novorecurso\", \"numero\", \"numero\", \"numero\", \"numero\", \"numero\", \"numero\", \"numero\", \"nunca\", \"nunca\", \"nunca\", \"oassunto\", \"oassunto\", \"oassunto\", \"oassunto\", \"oassunto\", \"oassunto\", \"oassunto\", \"oassunto\", \"obito\", \"obrigar\", \"okplatd\", \"ontem\", \"ontem\", \"opcao\", \"opcao\", \"operac\", \"orapztyug\", \"oremos\", \"orientar\", \"orientar\", \"orientar\", \"ouvir\", \"ouvir\", \"paciente\", \"paciente\", \"paciente\", \"paciente\", \"paciente\", \"pagamento\", \"pagamento\", \"pagamento\", \"pagamento\", \"pagamento\", \"pago\", \"pago\", \"pago\", \"pago\", \"pagodinho\", \"pais\", \"pais\", \"pais\", \"pais\", \"pais\", \"pais\", \"pais\", \"pais\", \"palmares\", \"pandemia\", \"pandemia\", \"pandemia\", \"pandemia\", \"pandemia\", \"pandemia\", \"pandemia\", \"pandemia\", \"pandemia\", \"pandemia\", \"papa\", \"parar\", \"parar\", \"parcelar\", \"parcelar\", \"parcelar\", \"parcelar\", \"parcelar\", \"parecer\", \"parecer\", \"parecer\", \"parecer\", \"parlamentar\", \"partir\", \"partir\", \"partir\", \"partir\", \"partir\", \"passageiro\", \"passear\", \"passear\", \"paulo\", \"paulo\", \"paulo\", \"paulo\", \"paulo\", \"paulo\", \"paulo\", \"pedir\", \"pedir\", \"pedir\", \"pedir\", \"pedir\", \"pedir\", \"pedir\", \"pedir\", \"pego\", \"permitir\", \"permitir\", \"pesquisadores\", \"pesquisadores\", \"pessoa\", \"pessoa\", \"pessoa\", \"pessoa\", \"pessoa\", \"pessoa\", \"pessoa\", \"pessoalmente\", \"petrobras\", \"petrobras\", \"plastificar\", \"poder\", \"poder\", \"poder\", \"poder\", \"poder\", \"poder\", \"policiais\", \"postar\", \"posturar\", \"posturar\", \"preco\", \"prefeito\", \"prefeito\", \"prefeito\", \"prefeito\", \"prefeito\", \"premio\", \"presidencial\", \"presidente\", \"presidente\", \"presidente\", \"presidente\", \"presidente\", \"presidente\", \"presidente\", \"presidente\", \"pressao\", \"pressao\", \"prestigiar\", \"previsao\", \"primeiro\", \"primeiro\", \"primeiro\", \"primeiro\", \"primeiro\", \"primeiro\", \"primeiro\", \"privar\", \"problema\", \"problema\", \"processar\", \"processar\", \"projeto\", \"projeto\", \"prometido\", \"pronto\", \"pronto\", \"provisoria\", \"publico\", \"publico\", \"publico\", \"publico\", \"publico\", \"publico\", \"publico\", \"publico\", \"publico\", \"puerpera\", \"puerpera\", \"pumu\", \"punicao\", \"punicao\", \"punicao\", \"punicao\", \"pvba\", \"qignbge\", \"quais\", \"quais\", \"quais\", \"quantiar\", \"quarentenar\", \"quarentenar\", \"quarentenar\", \"quarentenar\", \"quarentenar\", \"quarentenar\", \"quarentenar\", \"quarentenar\", \"quatro\", \"quebrar\", \"querer\", \"querer\", \"querer\", \"querer\", \"querer\", \"querer\", \"querer\", \"rapido\", \"rapido\", \"rapido\", \"rapido\", \"razao\", \"rcvai\", \"reabertura\", \"reabertura\", \"reabrir\", \"reabrir\", \"reacao\", \"receber\", \"receber\", \"receber\", \"receber\", \"receber\", \"receber\", \"receber\", \"recife\", \"reconhecer\", \"recorrer\", \"recorrer\", \"recuperar\", \"recuperar\", \"redonda\", \"reencontro\", \"registrar\", \"registrar\", \"registrar\", \"registrar\", \"registrar\", \"registrar\", \"registrar\", \"registrar\", \"reino\", \"reino\", \"reino\", \"reino\", \"reino\", \"relacionar\", \"relatorio\", \"relatorio\", \"relatorio\", \"relembre\", \"renataloprete\", \"renataloprete\", \"render\", \"render\", \"render\", \"reporter\", \"repudio\", \"repudio\", \"resistencia\", \"respirar\", \"restaurante\", \"restricao\", \"restricao\", \"retrato\", \"reuniao\", \"reuniao\", \"reuniao\", \"reuniao\", \"reuniao\", \"reuniao\", \"reuniao\", \"reuniao\", \"reunir\", \"reunir\", \"revelar\", \"revelar\", \"revistar\", \"rigoroso\", \"risco\", \"rlok\", \"rodizio\", \"rodizio\", \"rodizio\", \"rodizio\", \"rodizio\", \"rodizio\", \"rostir\", \"rostir\", \"rostir\", \"rpieo\", \"saco\", \"sair\", \"sair\", \"sair\", \"sair\", \"sair\", \"sair\", \"sair\", \"sair\", \"sandracoh\", \"saudade\", \"saudade\", \"saudade\", \"saudar\", \"saudar\", \"saudar\", \"saudar\", \"saudar\", \"saudar\", \"saude\", \"saude\", \"saude\", \"saude\", \"saude\", \"saude\", \"saude\", \"saude\", \"saude\", \"saude\", \"seguir\", \"seguir\", \"seguir\", \"segundar\", \"segundar\", \"segundar\", \"segundar\", \"segundar\", \"segundar\", \"segundar\", \"segundar\", \"segundar\", \"sempre\", \"sempre\", \"separar\", \"sepultamento\", \"sequencia\", \"serio\", \"setor\", \"setor\", \"sexta\", \"showdavida\", \"sigilar\", \"sigilar\", \"sigilar\", \"silva\", \"sindrome\", \"sindrome\", \"sindrome\", \"sindrome\", \"situacao\", \"situacao\", \"situacao\", \"sjrobine\", \"sobrevivencia\", \"sobrevivente\", \"sobreviver\", \"social\", \"social\", \"social\", \"social\", \"social\", \"social\", \"social\", \"solid\", \"sonho\", \"sonho\", \"sonho\", \"sonho\", \"sonho\", \"subnotificacao\", \"subnotificacao\", \"subnotificacao\", \"suposto\", \"suposto\", \"supremo\", \"supremo\", \"supremo\", \"supremo\", \"talentos\", \"talentos\", \"talentos\", \"tatuador\", \"tecnico\", \"teich\", \"teich\", \"teich\", \"teich\", \"teich\", \"teich\", \"teich\", \"teich\", \"teich\", \"teich\", \"tentar\", \"tentar\", \"tentar\", \"tentar\", \"tentar\", \"terceira\", \"terceira\", \"terceiro\", \"terminar\", \"terminar\", \"terminar\", \"terminar\", \"terminar\", \"terra\", \"terra\", \"terra\", \"test\", \"teste\", \"teste\", \"teste\", \"teste\", \"tmzu\", \"total\", \"total\", \"total\", \"trabalhar\", \"trabalhar\", \"trabalhar\", \"trabalhar\", \"trabalhar\", \"transportar\", \"transporte\", \"trocar\", \"trocar\", \"trocar\", \"tvqqo\", \"uniao\", \"unplugged\", \"usar\", \"usar\", \"usar\", \"usar\", \"usar\", \"usar\", \"usar\", \"usar\", \"utis\", \"utis\", \"utis\", \"uysrk\", \"uzkwbkti\", \"vacinacao\", \"vacinacao\", \"vakd\", \"valeixo\", \"valer\", \"valer\", \"vbqgidtl\", \"veiculo\", \"veiculo\", \"veiculo\", \"veiculo\", \"veiculo\", \"veiculo\", \"vencer\", \"vencer\", \"versao\", \"vespa\", \"vhxiyd\", \"viajar\", \"vidar\", \"vidar\", \"vidar\", \"vidar\", \"vidar\", \"video\", \"video\", \"video\", \"video\", \"video\", \"video\", \"video\", \"video\", \"virar\", \"virar\", \"virar\", \"vitima\", \"vitima\", \"vitima\", \"vitima\", \"vitima\", \"viver\", \"voltar\", \"voltar\", \"voltar\", \"voltar\", \"voltar\", \"voxumf\", \"vrdvea\", \"vrqgzoxjs\", \"vxqvba\", \"wkowal\", \"wvadw\", \"xvtnvnmbpi\", \"xwee\", \"ykebwjv\", \"ypwvo\", \"zeca\"]}, \"R\": 30, \"lambda.step\": 0.01, \"plot.opts\": {\"xlab\": \"PC1\", \"ylab\": \"PC2\"}, \"topic.order\": [10, 8, 3, 7, 1, 6, 2, 4, 9, 5]};\n",
              "\n",
              "function LDAvis_load_lib(url, callback){\n",
              "  var s = document.createElement('script');\n",
              "  s.src = url;\n",
              "  s.async = true;\n",
              "  s.onreadystatechange = s.onload = callback;\n",
              "  s.onerror = function(){console.warn(\"failed to load library \" + url);};\n",
              "  document.getElementsByTagName(\"head\")[0].appendChild(s);\n",
              "}\n",
              "\n",
              "if(typeof(LDAvis) !== \"undefined\"){\n",
              "   // already loaded: just create the visualization\n",
              "   !function(LDAvis){\n",
              "       new LDAvis(\"#\" + \"ldavis_el1231406339690605046246486514\", ldavis_el1231406339690605046246486514_data);\n",
              "   }(LDAvis);\n",
              "}else if(typeof define === \"function\" && define.amd){\n",
              "   // require.js is available: use it to load d3/LDAvis\n",
              "   require.config({paths: {d3: \"https://cdnjs.cloudflare.com/ajax/libs/d3/3.5.5/d3.min\"}});\n",
              "   require([\"d3\"], function(d3){\n",
              "      window.d3 = d3;\n",
              "      LDAvis_load_lib(\"https://cdn.rawgit.com/bmabey/pyLDAvis/files/ldavis.v1.0.0.js\", function(){\n",
              "        new LDAvis(\"#\" + \"ldavis_el1231406339690605046246486514\", ldavis_el1231406339690605046246486514_data);\n",
              "      });\n",
              "    });\n",
              "}else{\n",
              "    // require.js not available: dynamically load d3 & LDAvis\n",
              "    LDAvis_load_lib(\"https://cdnjs.cloudflare.com/ajax/libs/d3/3.5.5/d3.min.js\", function(){\n",
              "         LDAvis_load_lib(\"https://cdn.rawgit.com/bmabey/pyLDAvis/files/ldavis.v1.0.0.js\", function(){\n",
              "                 new LDAvis(\"#\" + \"ldavis_el1231406339690605046246486514\", ldavis_el1231406339690605046246486514_data);\n",
              "            })\n",
              "         });\n",
              "}\n",
              "</script>"
            ],
            "text/plain": [
              "PreparedData(topic_coordinates=              x         y  topics  cluster       Freq\n",
              "topic                                                \n",
              "9     -0.132890 -0.023161       1        1  13.143156\n",
              "7      0.040940  0.139373       2        1  11.665999\n",
              "2     -0.043974 -0.000185       3        1  11.571763\n",
              "6      0.046577 -0.060091       4        1  11.017011\n",
              "0      0.056519 -0.059625       5        1  10.734179\n",
              "5     -0.018741  0.077654       6        1   9.083912\n",
              "1      0.103393 -0.030044       7        1   8.535422\n",
              "3     -0.040618 -0.037545       8        1   8.411303\n",
              "8      0.000219  0.029260       9        1   8.381913\n",
              "4     -0.011425 -0.035636      10        1   7.455343, topic_info=            Term       Freq      Total Category  logprob  loglift\n",
              "73         video  27.000000  27.000000  Default  30.0000  30.0000\n",
              "227        morte  41.000000  41.000000  Default  29.0000  29.0000\n",
              "24   coronavirus  93.000000  93.000000  Default  28.0000  28.0000\n",
              "4       paciente  15.000000  15.000000  Default  27.0000  27.0000\n",
              "76     bolsonaro  60.000000  60.000000  Default  26.0000  26.0000\n",
              "..           ...        ...        ...      ...      ...      ...\n",
              "70       publico   1.398311  16.111261  Topic10  -5.9467   0.1520\n",
              "376       querer   1.398311   9.771018  Topic10  -5.9467   0.6521\n",
              "88         estar   1.398311  11.999925  Topic10  -5.9467   0.4466\n",
              "311         moro   1.398309  13.866964  Topic10  -5.9467   0.3020\n",
              "445     lockdown   1.398308  13.378275  Topic10  -5.9467   0.3379\n",
              "\n",
              "[760 rows x 6 columns], token_table=      Topic      Freq        Term\n",
              "term                             \n",
              "1650     10  0.732719     acalmar\n",
              "75        2  0.359809        acao\n",
              "75        9  0.359809        acao\n",
              "486       4  0.471240     aceitar\n",
              "2732      6  0.724229    acentuar\n",
              "...     ...       ...         ...\n",
              "2733      6  0.724229  xvtnvnmbpi\n",
              "2764      7  0.722684        xwee\n",
              "1678      6  0.724229     ykebwjv\n",
              "2387      6  0.724229       ypwvo\n",
              "2241     10  0.492455        zeca\n",
              "\n",
              "[1443 rows x 3 columns], R=30, lambda_step=0.01, plot_opts={'xlab': 'PC1', 'ylab': 'PC2'}, topic_order=[10, 8, 3, 7, 1, 6, 2, 4, 9, 5])"
            ]
          },
          "metadata": {
            "tags": []
          },
          "execution_count": 186
        }
      ]
    },
    {
      "cell_type": "code",
      "metadata": {
        "id": "6BEepFq5HQCA",
        "colab_type": "code",
        "outputId": "1d28a478-d963-4c6b-e298-98e23fb3ff5b",
        "colab": {
          "base_uri": "https://localhost:8080/",
          "height": 52
        }
      },
      "source": [
        "from gensim.models import CoherenceModel# Compute Coherence Score\n",
        "coherence_model_lda = CoherenceModel(model=lda_model, texts=processed_docs, dictionary=dictionary, coherence='c_v')\n",
        "coherence_lda = coherence_model_lda.get_coherence()\n",
        "print('\\nCoherence Score: ', coherence_lda)"
      ],
      "execution_count": 187,
      "outputs": [
        {
          "output_type": "stream",
          "text": [
            "\n",
            "Coherence Score:  0.5226713845502079\n"
          ],
          "name": "stdout"
        }
      ]
    }
  ]
}