{
  "nbformat": 4,
  "nbformat_minor": 0,
  "metadata": {
    "colab": {
      "name": "LDA_BOW._Topics_R7Noticias_Wesley_Meire.ypnb",
      "provenance": [],
      "collapsed_sections": []
    },
    "kernelspec": {
      "name": "python3",
      "display_name": "Python 3"
    }
  },
  "cells": [
    {
      "cell_type": "code",
      "metadata": {
        "id": "tlkF-t9jSKOh",
        "colab_type": "code",
        "colab": {}
      },
      "source": [
        "\n",
        "import warnings; \n",
        "warnings.simplefilter('ignore')"
      ],
      "execution_count": 0,
      "outputs": []
    },
    {
      "cell_type": "code",
      "metadata": {
        "id": "FHhsY_YLRSkU",
        "colab_type": "code",
        "outputId": "a6ad59b6-a755-47e4-cff4-03545769ad8a",
        "colab": {
          "base_uri": "https://localhost:8080/",
          "height": 124
        }
      },
      "source": [
        "pip install unidecode"
      ],
      "execution_count": 22,
      "outputs": [
        {
          "output_type": "stream",
          "text": [
            "Collecting unidecode\n",
            "\u001b[?25l  Downloading https://files.pythonhosted.org/packages/d0/42/d9edfed04228bacea2d824904cae367ee9efd05e6cce7ceaaedd0b0ad964/Unidecode-1.1.1-py2.py3-none-any.whl (238kB)\n",
            "\r\u001b[K     |█▍                              | 10kB 11.4MB/s eta 0:00:01\r\u001b[K     |██▊                             | 20kB 6.6MB/s eta 0:00:01\r\u001b[K     |████▏                           | 30kB 6.6MB/s eta 0:00:01\r\u001b[K     |█████▌                          | 40kB 5.9MB/s eta 0:00:01\r\u001b[K     |██████▉                         | 51kB 7.0MB/s eta 0:00:01\r\u001b[K     |████████▎                       | 61kB 5.7MB/s eta 0:00:01\r\u001b[K     |█████████▋                      | 71kB 6.5MB/s eta 0:00:01\r\u001b[K     |███████████                     | 81kB 6.7MB/s eta 0:00:01\r\u001b[K     |████████████▍                   | 92kB 6.3MB/s eta 0:00:01\r\u001b[K     |█████████████▊                  | 102kB 6.4MB/s eta 0:00:01\r\u001b[K     |███████████████▏                | 112kB 6.4MB/s eta 0:00:01\r\u001b[K     |████████████████▌               | 122kB 6.4MB/s eta 0:00:01\r\u001b[K     |█████████████████▉              | 133kB 6.4MB/s eta 0:00:01\r\u001b[K     |███████████████████▎            | 143kB 6.4MB/s eta 0:00:01\r\u001b[K     |████████████████████▋           | 153kB 6.4MB/s eta 0:00:01\r\u001b[K     |██████████████████████          | 163kB 6.4MB/s eta 0:00:01\r\u001b[K     |███████████████████████▍        | 174kB 6.4MB/s eta 0:00:01\r\u001b[K     |████████████████████████▊       | 184kB 6.4MB/s eta 0:00:01\r\u001b[K     |██████████████████████████▏     | 194kB 6.4MB/s eta 0:00:01\r\u001b[K     |███████████████████████████▌    | 204kB 6.4MB/s eta 0:00:01\r\u001b[K     |████████████████████████████▉   | 215kB 6.4MB/s eta 0:00:01\r\u001b[K     |██████████████████████████████▎ | 225kB 6.4MB/s eta 0:00:01\r\u001b[K     |███████████████████████████████▋| 235kB 6.4MB/s eta 0:00:01\r\u001b[K     |████████████████████████████████| 245kB 6.4MB/s \n",
            "\u001b[?25hInstalling collected packages: unidecode\n",
            "Successfully installed unidecode-1.1.1\n"
          ],
          "name": "stdout"
        }
      ]
    },
    {
      "cell_type": "code",
      "metadata": {
        "id": "lky5Gf1jSGGn",
        "colab_type": "code",
        "outputId": "9c5576b2-fde9-47ca-8fd8-adb1ccf85eda",
        "colab": {
          "base_uri": "https://localhost:8080/",
          "height": 642
        }
      },
      "source": [
        "pip install pyLDAvis"
      ],
      "execution_count": 42,
      "outputs": [
        {
          "output_type": "stream",
          "text": [
            "Collecting pyLDAvis\n",
            "\u001b[?25l  Downloading https://files.pythonhosted.org/packages/a5/3a/af82e070a8a96e13217c8f362f9a73e82d61ac8fff3a2561946a97f96266/pyLDAvis-2.1.2.tar.gz (1.6MB)\n",
            "\r\u001b[K     |▏                               | 10kB 15.7MB/s eta 0:00:01\r\u001b[K     |▍                               | 20kB 7.1MB/s eta 0:00:01\r\u001b[K     |▋                               | 30kB 8.6MB/s eta 0:00:01\r\u001b[K     |▉                               | 40kB 9.2MB/s eta 0:00:01\r\u001b[K     |█                               | 51kB 7.5MB/s eta 0:00:01\r\u001b[K     |█▏                              | 61kB 7.8MB/s eta 0:00:01\r\u001b[K     |█▍                              | 71kB 8.5MB/s eta 0:00:01\r\u001b[K     |█▋                              | 81kB 8.8MB/s eta 0:00:01\r\u001b[K     |█▉                              | 92kB 8.3MB/s eta 0:00:01\r\u001b[K     |██                              | 102kB 8.5MB/s eta 0:00:01\r\u001b[K     |██▎                             | 112kB 8.5MB/s eta 0:00:01\r\u001b[K     |██▍                             | 122kB 8.5MB/s eta 0:00:01\r\u001b[K     |██▋                             | 133kB 8.5MB/s eta 0:00:01\r\u001b[K     |██▉                             | 143kB 8.5MB/s eta 0:00:01\r\u001b[K     |███                             | 153kB 8.5MB/s eta 0:00:01\r\u001b[K     |███▎                            | 163kB 8.5MB/s eta 0:00:01\r\u001b[K     |███▌                            | 174kB 8.5MB/s eta 0:00:01\r\u001b[K     |███▋                            | 184kB 8.5MB/s eta 0:00:01\r\u001b[K     |███▉                            | 194kB 8.5MB/s eta 0:00:01\r\u001b[K     |████                            | 204kB 8.5MB/s eta 0:00:01\r\u001b[K     |████▎                           | 215kB 8.5MB/s eta 0:00:01\r\u001b[K     |████▌                           | 225kB 8.5MB/s eta 0:00:01\r\u001b[K     |████▊                           | 235kB 8.5MB/s eta 0:00:01\r\u001b[K     |████▉                           | 245kB 8.5MB/s eta 0:00:01\r\u001b[K     |█████                           | 256kB 8.5MB/s eta 0:00:01\r\u001b[K     |█████▎                          | 266kB 8.5MB/s eta 0:00:01\r\u001b[K     |█████▌                          | 276kB 8.5MB/s eta 0:00:01\r\u001b[K     |█████▊                          | 286kB 8.5MB/s eta 0:00:01\r\u001b[K     |█████▉                          | 296kB 8.5MB/s eta 0:00:01\r\u001b[K     |██████                          | 307kB 8.5MB/s eta 0:00:01\r\u001b[K     |██████▎                         | 317kB 8.5MB/s eta 0:00:01\r\u001b[K     |██████▌                         | 327kB 8.5MB/s eta 0:00:01\r\u001b[K     |██████▊                         | 337kB 8.5MB/s eta 0:00:01\r\u001b[K     |███████                         | 348kB 8.5MB/s eta 0:00:01\r\u001b[K     |███████                         | 358kB 8.5MB/s eta 0:00:01\r\u001b[K     |███████▎                        | 368kB 8.5MB/s eta 0:00:01\r\u001b[K     |███████▌                        | 378kB 8.5MB/s eta 0:00:01\r\u001b[K     |███████▊                        | 389kB 8.5MB/s eta 0:00:01\r\u001b[K     |████████                        | 399kB 8.5MB/s eta 0:00:01\r\u001b[K     |████████▏                       | 409kB 8.5MB/s eta 0:00:01\r\u001b[K     |████████▎                       | 419kB 8.5MB/s eta 0:00:01\r\u001b[K     |████████▌                       | 430kB 8.5MB/s eta 0:00:01\r\u001b[K     |████████▊                       | 440kB 8.5MB/s eta 0:00:01\r\u001b[K     |█████████                       | 450kB 8.5MB/s eta 0:00:01\r\u001b[K     |█████████▏                      | 460kB 8.5MB/s eta 0:00:01\r\u001b[K     |█████████▍                      | 471kB 8.5MB/s eta 0:00:01\r\u001b[K     |█████████▌                      | 481kB 8.5MB/s eta 0:00:01\r\u001b[K     |█████████▊                      | 491kB 8.5MB/s eta 0:00:01\r\u001b[K     |██████████                      | 501kB 8.5MB/s eta 0:00:01\r\u001b[K     |██████████▏                     | 512kB 8.5MB/s eta 0:00:01\r\u001b[K     |██████████▍                     | 522kB 8.5MB/s eta 0:00:01\r\u001b[K     |██████████▋                     | 532kB 8.5MB/s eta 0:00:01\r\u001b[K     |██████████▊                     | 542kB 8.5MB/s eta 0:00:01\r\u001b[K     |███████████                     | 552kB 8.5MB/s eta 0:00:01\r\u001b[K     |███████████▏                    | 563kB 8.5MB/s eta 0:00:01\r\u001b[K     |███████████▍                    | 573kB 8.5MB/s eta 0:00:01\r\u001b[K     |███████████▋                    | 583kB 8.5MB/s eta 0:00:01\r\u001b[K     |███████████▊                    | 593kB 8.5MB/s eta 0:00:01\r\u001b[K     |████████████                    | 604kB 8.5MB/s eta 0:00:01\r\u001b[K     |████████████▏                   | 614kB 8.5MB/s eta 0:00:01\r\u001b[K     |████████████▍                   | 624kB 8.5MB/s eta 0:00:01\r\u001b[K     |████████████▋                   | 634kB 8.5MB/s eta 0:00:01\r\u001b[K     |████████████▉                   | 645kB 8.5MB/s eta 0:00:01\r\u001b[K     |█████████████                   | 655kB 8.5MB/s eta 0:00:01\r\u001b[K     |█████████████▏                  | 665kB 8.5MB/s eta 0:00:01\r\u001b[K     |█████████████▍                  | 675kB 8.5MB/s eta 0:00:01\r\u001b[K     |█████████████▋                  | 686kB 8.5MB/s eta 0:00:01\r\u001b[K     |█████████████▉                  | 696kB 8.5MB/s eta 0:00:01\r\u001b[K     |██████████████                  | 706kB 8.5MB/s eta 0:00:01\r\u001b[K     |██████████████▏                 | 716kB 8.5MB/s eta 0:00:01\r\u001b[K     |██████████████▍                 | 727kB 8.5MB/s eta 0:00:01\r\u001b[K     |██████████████▋                 | 737kB 8.5MB/s eta 0:00:01\r\u001b[K     |██████████████▉                 | 747kB 8.5MB/s eta 0:00:01\r\u001b[K     |███████████████                 | 757kB 8.5MB/s eta 0:00:01\r\u001b[K     |███████████████▎                | 768kB 8.5MB/s eta 0:00:01\r\u001b[K     |███████████████▍                | 778kB 8.5MB/s eta 0:00:01\r\u001b[K     |███████████████▋                | 788kB 8.5MB/s eta 0:00:01\r\u001b[K     |███████████████▉                | 798kB 8.5MB/s eta 0:00:01\r\u001b[K     |████████████████                | 808kB 8.5MB/s eta 0:00:01\r\u001b[K     |████████████████▎               | 819kB 8.5MB/s eta 0:00:01\r\u001b[K     |████████████████▌               | 829kB 8.5MB/s eta 0:00:01\r\u001b[K     |████████████████▋               | 839kB 8.5MB/s eta 0:00:01\r\u001b[K     |████████████████▉               | 849kB 8.5MB/s eta 0:00:01\r\u001b[K     |█████████████████               | 860kB 8.5MB/s eta 0:00:01\r\u001b[K     |█████████████████▎              | 870kB 8.5MB/s eta 0:00:01\r\u001b[K     |█████████████████▌              | 880kB 8.5MB/s eta 0:00:01\r\u001b[K     |█████████████████▋              | 890kB 8.5MB/s eta 0:00:01\r\u001b[K     |█████████████████▉              | 901kB 8.5MB/s eta 0:00:01\r\u001b[K     |██████████████████              | 911kB 8.5MB/s eta 0:00:01\r\u001b[K     |██████████████████▎             | 921kB 8.5MB/s eta 0:00:01\r\u001b[K     |██████████████████▌             | 931kB 8.5MB/s eta 0:00:01\r\u001b[K     |██████████████████▊             | 942kB 8.5MB/s eta 0:00:01\r\u001b[K     |██████████████████▉             | 952kB 8.5MB/s eta 0:00:01\r\u001b[K     |███████████████████             | 962kB 8.5MB/s eta 0:00:01\r\u001b[K     |███████████████████▎            | 972kB 8.5MB/s eta 0:00:01\r\u001b[K     |███████████████████▌            | 983kB 8.5MB/s eta 0:00:01\r\u001b[K     |███████████████████▊            | 993kB 8.5MB/s eta 0:00:01\r\u001b[K     |████████████████████            | 1.0MB 8.5MB/s eta 0:00:01\r\u001b[K     |████████████████████            | 1.0MB 8.5MB/s eta 0:00:01\r\u001b[K     |████████████████████▎           | 1.0MB 8.5MB/s eta 0:00:01\r\u001b[K     |████████████████████▌           | 1.0MB 8.5MB/s eta 0:00:01\r\u001b[K     |████████████████████▊           | 1.0MB 8.5MB/s eta 0:00:01\r\u001b[K     |█████████████████████           | 1.1MB 8.5MB/s eta 0:00:01\r\u001b[K     |█████████████████████▏          | 1.1MB 8.5MB/s eta 0:00:01\r\u001b[K     |█████████████████████▎          | 1.1MB 8.5MB/s eta 0:00:01\r\u001b[K     |█████████████████████▌          | 1.1MB 8.5MB/s eta 0:00:01\r\u001b[K     |█████████████████████▊          | 1.1MB 8.5MB/s eta 0:00:01\r\u001b[K     |██████████████████████          | 1.1MB 8.5MB/s eta 0:00:01\r\u001b[K     |██████████████████████▏         | 1.1MB 8.5MB/s eta 0:00:01\r\u001b[K     |██████████████████████▍         | 1.1MB 8.5MB/s eta 0:00:01\r\u001b[K     |██████████████████████▌         | 1.1MB 8.5MB/s eta 0:00:01\r\u001b[K     |██████████████████████▊         | 1.1MB 8.5MB/s eta 0:00:01\r\u001b[K     |███████████████████████         | 1.2MB 8.5MB/s eta 0:00:01\r\u001b[K     |███████████████████████▏        | 1.2MB 8.5MB/s eta 0:00:01\r\u001b[K     |███████████████████████▍        | 1.2MB 8.5MB/s eta 0:00:01\r\u001b[K     |███████████████████████▌        | 1.2MB 8.5MB/s eta 0:00:01\r\u001b[K     |███████████████████████▊        | 1.2MB 8.5MB/s eta 0:00:01\r\u001b[K     |████████████████████████        | 1.2MB 8.5MB/s eta 0:00:01\r\u001b[K     |████████████████████████▏       | 1.2MB 8.5MB/s eta 0:00:01\r\u001b[K     |████████████████████████▍       | 1.2MB 8.5MB/s eta 0:00:01\r\u001b[K     |████████████████████████▋       | 1.2MB 8.5MB/s eta 0:00:01\r\u001b[K     |████████████████████████▊       | 1.2MB 8.5MB/s eta 0:00:01\r\u001b[K     |█████████████████████████       | 1.3MB 8.5MB/s eta 0:00:01\r\u001b[K     |█████████████████████████▏      | 1.3MB 8.5MB/s eta 0:00:01\r\u001b[K     |█████████████████████████▍      | 1.3MB 8.5MB/s eta 0:00:01\r\u001b[K     |█████████████████████████▋      | 1.3MB 8.5MB/s eta 0:00:01\r\u001b[K     |█████████████████████████▉      | 1.3MB 8.5MB/s eta 0:00:01\r\u001b[K     |██████████████████████████      | 1.3MB 8.5MB/s eta 0:00:01\r\u001b[K     |██████████████████████████▏     | 1.3MB 8.5MB/s eta 0:00:01\r\u001b[K     |██████████████████████████▍     | 1.3MB 8.5MB/s eta 0:00:01\r\u001b[K     |██████████████████████████▋     | 1.3MB 8.5MB/s eta 0:00:01\r\u001b[K     |██████████████████████████▉     | 1.4MB 8.5MB/s eta 0:00:01\r\u001b[K     |███████████████████████████     | 1.4MB 8.5MB/s eta 0:00:01\r\u001b[K     |███████████████████████████▏    | 1.4MB 8.5MB/s eta 0:00:01\r\u001b[K     |███████████████████████████▍    | 1.4MB 8.5MB/s eta 0:00:01\r\u001b[K     |███████████████████████████▋    | 1.4MB 8.5MB/s eta 0:00:01\r\u001b[K     |███████████████████████████▉    | 1.4MB 8.5MB/s eta 0:00:01\r\u001b[K     |████████████████████████████    | 1.4MB 8.5MB/s eta 0:00:01\r\u001b[K     |████████████████████████████▏   | 1.4MB 8.5MB/s eta 0:00:01\r\u001b[K     |████████████████████████████▍   | 1.4MB 8.5MB/s eta 0:00:01\r\u001b[K     |████████████████████████████▋   | 1.4MB 8.5MB/s eta 0:00:01\r\u001b[K     |████████████████████████████▉   | 1.5MB 8.5MB/s eta 0:00:01\r\u001b[K     |█████████████████████████████   | 1.5MB 8.5MB/s eta 0:00:01\r\u001b[K     |█████████████████████████████▎  | 1.5MB 8.5MB/s eta 0:00:01\r\u001b[K     |█████████████████████████████▍  | 1.5MB 8.5MB/s eta 0:00:01\r\u001b[K     |█████████████████████████████▋  | 1.5MB 8.5MB/s eta 0:00:01\r\u001b[K     |█████████████████████████████▉  | 1.5MB 8.5MB/s eta 0:00:01\r\u001b[K     |██████████████████████████████  | 1.5MB 8.5MB/s eta 0:00:01\r\u001b[K     |██████████████████████████████▎ | 1.5MB 8.5MB/s eta 0:00:01\r\u001b[K     |██████████████████████████████▌ | 1.5MB 8.5MB/s eta 0:00:01\r\u001b[K     |██████████████████████████████▋ | 1.5MB 8.5MB/s eta 0:00:01\r\u001b[K     |██████████████████████████████▉ | 1.6MB 8.5MB/s eta 0:00:01\r\u001b[K     |███████████████████████████████ | 1.6MB 8.5MB/s eta 0:00:01\r\u001b[K     |███████████████████████████████▎| 1.6MB 8.5MB/s eta 0:00:01\r\u001b[K     |███████████████████████████████▌| 1.6MB 8.5MB/s eta 0:00:01\r\u001b[K     |███████████████████████████████▊| 1.6MB 8.5MB/s eta 0:00:01\r\u001b[K     |███████████████████████████████▉| 1.6MB 8.5MB/s eta 0:00:01\r\u001b[K     |████████████████████████████████| 1.6MB 8.5MB/s \n",
            "\u001b[?25hRequirement already satisfied: wheel>=0.23.0 in /usr/local/lib/python3.6/dist-packages (from pyLDAvis) (0.34.2)\n",
            "Requirement already satisfied: numpy>=1.9.2 in /usr/local/lib/python3.6/dist-packages (from pyLDAvis) (1.18.4)\n",
            "Requirement already satisfied: scipy>=0.18.0 in /usr/local/lib/python3.6/dist-packages (from pyLDAvis) (1.4.1)\n",
            "Requirement already satisfied: pandas>=0.17.0 in /usr/local/lib/python3.6/dist-packages (from pyLDAvis) (1.0.3)\n",
            "Requirement already satisfied: joblib>=0.8.4 in /usr/local/lib/python3.6/dist-packages (from pyLDAvis) (0.15.1)\n",
            "Requirement already satisfied: jinja2>=2.7.2 in /usr/local/lib/python3.6/dist-packages (from pyLDAvis) (2.11.2)\n",
            "Requirement already satisfied: numexpr in /usr/local/lib/python3.6/dist-packages (from pyLDAvis) (2.7.1)\n",
            "Requirement already satisfied: pytest in /usr/local/lib/python3.6/dist-packages (from pyLDAvis) (3.6.4)\n",
            "Requirement already satisfied: future in /usr/local/lib/python3.6/dist-packages (from pyLDAvis) (0.16.0)\n",
            "Collecting funcy\n",
            "\u001b[?25l  Downloading https://files.pythonhosted.org/packages/ce/4b/6ffa76544e46614123de31574ad95758c421aae391a1764921b8a81e1eae/funcy-1.14.tar.gz (548kB)\n",
            "\u001b[K     |████████████████████████████████| 552kB 45.7MB/s \n",
            "\u001b[?25hRequirement already satisfied: python-dateutil>=2.6.1 in /usr/local/lib/python3.6/dist-packages (from pandas>=0.17.0->pyLDAvis) (2.8.1)\n",
            "Requirement already satisfied: pytz>=2017.2 in /usr/local/lib/python3.6/dist-packages (from pandas>=0.17.0->pyLDAvis) (2018.9)\n",
            "Requirement already satisfied: MarkupSafe>=0.23 in /usr/local/lib/python3.6/dist-packages (from jinja2>=2.7.2->pyLDAvis) (1.1.1)\n",
            "Requirement already satisfied: atomicwrites>=1.0 in /usr/local/lib/python3.6/dist-packages (from pytest->pyLDAvis) (1.4.0)\n",
            "Requirement already satisfied: attrs>=17.4.0 in /usr/local/lib/python3.6/dist-packages (from pytest->pyLDAvis) (19.3.0)\n",
            "Requirement already satisfied: pluggy<0.8,>=0.5 in /usr/local/lib/python3.6/dist-packages (from pytest->pyLDAvis) (0.7.1)\n",
            "Requirement already satisfied: py>=1.5.0 in /usr/local/lib/python3.6/dist-packages (from pytest->pyLDAvis) (1.8.1)\n",
            "Requirement already satisfied: setuptools in /usr/local/lib/python3.6/dist-packages (from pytest->pyLDAvis) (46.4.0)\n",
            "Requirement already satisfied: more-itertools>=4.0.0 in /usr/local/lib/python3.6/dist-packages (from pytest->pyLDAvis) (8.3.0)\n",
            "Requirement already satisfied: six>=1.10.0 in /usr/local/lib/python3.6/dist-packages (from pytest->pyLDAvis) (1.12.0)\n",
            "Building wheels for collected packages: pyLDAvis, funcy\n",
            "  Building wheel for pyLDAvis (setup.py) ... \u001b[?25l\u001b[?25hdone\n",
            "  Created wheel for pyLDAvis: filename=pyLDAvis-2.1.2-py2.py3-none-any.whl size=97711 sha256=98ffc3dd21aa2b5ca66cfc36f5c06c28b0e21c0c755f69d93197c6b78023361f\n",
            "  Stored in directory: /root/.cache/pip/wheels/98/71/24/513a99e58bb6b8465bae4d2d5e9dba8f0bef8179e3051ac414\n",
            "  Building wheel for funcy (setup.py) ... \u001b[?25l\u001b[?25hdone\n",
            "  Created wheel for funcy: filename=funcy-1.14-py2.py3-none-any.whl size=32042 sha256=17217238f60718a9c382345064bf656718c93fdf0d669a16dd6cfe2016f0795c\n",
            "  Stored in directory: /root/.cache/pip/wheels/20/5a/d8/1d875df03deae6f178dfdf70238cca33f948ef8a6f5209f2eb\n",
            "Successfully built pyLDAvis funcy\n",
            "Installing collected packages: funcy, pyLDAvis\n",
            "Successfully installed funcy-1.14 pyLDAvis-2.1.2\n"
          ],
          "name": "stdout"
        }
      ]
    },
    {
      "cell_type": "code",
      "metadata": {
        "id": "88DAZbHa6seH",
        "colab_type": "code",
        "colab": {}
      },
      "source": [
        "import pandas as pd\n"
      ],
      "execution_count": 0,
      "outputs": []
    },
    {
      "cell_type": "code",
      "metadata": {
        "id": "1I_HOAV69vAH",
        "colab_type": "code",
        "colab": {}
      },
      "source": [
        "diretorio ='/content/tweets_@portalR7.csv'  "
      ],
      "execution_count": 0,
      "outputs": []
    },
    {
      "cell_type": "code",
      "metadata": {
        "id": "OEs0CeKSZWPF",
        "colab_type": "code",
        "colab": {}
      },
      "source": [
        "    data = pd.read_csv(diretorio, error_bad_lines=False);\n"
      ],
      "execution_count": 0,
      "outputs": []
    },
    {
      "cell_type": "code",
      "metadata": {
        "id": "rkKMYY7t95d2",
        "colab_type": "code",
        "outputId": "6082e979-f5e7-46a7-c787-e3fe5bfcf364",
        "colab": {
          "base_uri": "https://localhost:8080/",
          "height": 301
        }
      },
      "source": [
        "data.head(2)"
      ],
      "execution_count": 7,
      "outputs": [
        {
          "output_type": "execute_result",
          "data": {
            "text/html": [
              "<div>\n",
              "<style scoped>\n",
              "    .dataframe tbody tr th:only-of-type {\n",
              "        vertical-align: middle;\n",
              "    }\n",
              "\n",
              "    .dataframe tbody tr th {\n",
              "        vertical-align: top;\n",
              "    }\n",
              "\n",
              "    .dataframe thead th {\n",
              "        text-align: right;\n",
              "    }\n",
              "</style>\n",
              "<table border=\"1\" class=\"dataframe\">\n",
              "  <thead>\n",
              "    <tr style=\"text-align: right;\">\n",
              "      <th></th>\n",
              "      <th>text</th>\n",
              "      <th>favorited</th>\n",
              "      <th>favoriteCount</th>\n",
              "      <th>replyToSN</th>\n",
              "      <th>created</th>\n",
              "      <th>truncated</th>\n",
              "      <th>replyToSID</th>\n",
              "      <th>id</th>\n",
              "      <th>replyToUID</th>\n",
              "      <th>statusSource</th>\n",
              "      <th>screenName</th>\n",
              "      <th>retweetCount</th>\n",
              "      <th>isRetweet</th>\n",
              "      <th>retweeted</th>\n",
              "      <th>longitude</th>\n",
              "      <th>latitude</th>\n",
              "    </tr>\n",
              "  </thead>\n",
              "  <tbody>\n",
              "    <tr>\n",
              "      <th>0</th>\n",
              "      <td>Mais de um terço de pacientes internados com C...</td>\n",
              "      <td>False</td>\n",
              "      <td>447</td>\n",
              "      <td>NaN</td>\n",
              "      <td>2020-05-16 03:00:00</td>\n",
              "      <td>True</td>\n",
              "      <td>NaN</td>\n",
              "      <td>1.261492e+18</td>\n",
              "      <td>NaN</td>\n",
              "      <td>&lt;a href=\"https://about.twitter.com/products/tw...</td>\n",
              "      <td>g1</td>\n",
              "      <td>85.0</td>\n",
              "      <td>False</td>\n",
              "      <td>False</td>\n",
              "      <td>NaN</td>\n",
              "      <td>NaN</td>\n",
              "    </tr>\n",
              "    <tr>\n",
              "      <th>1</th>\n",
              "      <td>Navio de cruzeiros atracado em Santos, SP, é l...</td>\n",
              "      <td>False</td>\n",
              "      <td>283</td>\n",
              "      <td>NaN</td>\n",
              "      <td>2020-05-16 02:45:00</td>\n",
              "      <td>False</td>\n",
              "      <td>NaN</td>\n",
              "      <td>1.261488e+18</td>\n",
              "      <td>NaN</td>\n",
              "      <td>&lt;a href=\"https://about.twitter.com/products/tw...</td>\n",
              "      <td>g1</td>\n",
              "      <td>15.0</td>\n",
              "      <td>False</td>\n",
              "      <td>False</td>\n",
              "      <td>NaN</td>\n",
              "      <td>NaN</td>\n",
              "    </tr>\n",
              "  </tbody>\n",
              "</table>\n",
              "</div>"
            ],
            "text/plain": [
              "                                                text  ... latitude\n",
              "0  Mais de um terço de pacientes internados com C...  ...      NaN\n",
              "1  Navio de cruzeiros atracado em Santos, SP, é l...  ...      NaN\n",
              "\n",
              "[2 rows x 16 columns]"
            ]
          },
          "metadata": {
            "tags": []
          },
          "execution_count": 7
        }
      ]
    },
    {
      "cell_type": "code",
      "metadata": {
        "id": "R15C5eTR99LU",
        "colab_type": "code",
        "outputId": "3df6842a-61c3-4f79-b7ca-2e08ca2e07e8",
        "colab": {
          "base_uri": "https://localhost:8080/",
          "height": 415
        }
      },
      "source": [
        "data.info()"
      ],
      "execution_count": 8,
      "outputs": [
        {
          "output_type": "stream",
          "text": [
            "<class 'pandas.core.frame.DataFrame'>\n",
            "RangeIndex: 786 entries, 0 to 785\n",
            "Data columns (total 16 columns):\n",
            " #   Column         Non-Null Count  Dtype  \n",
            "---  ------         --------------  -----  \n",
            " 0   text           786 non-null    object \n",
            " 1   favorited      782 non-null    object \n",
            " 2   favoriteCount  786 non-null    object \n",
            " 3   replyToSN      41 non-null     object \n",
            " 4   created        786 non-null    object \n",
            " 5   truncated      786 non-null    bool   \n",
            " 6   replyToSID     35 non-null     object \n",
            " 7   id             782 non-null    float64\n",
            " 8   replyToUID     37 non-null     float64\n",
            " 9   statusSource   782 non-null    object \n",
            " 10  screenName     782 non-null    object \n",
            " 11  retweetCount   782 non-null    float64\n",
            " 12  isRetweet      782 non-null    object \n",
            " 13  retweeted      782 non-null    object \n",
            " 14  longitude      0 non-null      float64\n",
            " 15  latitude       0 non-null      float64\n",
            "dtypes: bool(1), float64(5), object(10)\n",
            "memory usage: 93.0+ KB\n"
          ],
          "name": "stdout"
        }
      ]
    },
    {
      "cell_type": "code",
      "metadata": {
        "id": "aZlsRLK49261",
        "colab_type": "code",
        "colab": {}
      },
      "source": [
        "\n",
        "data_text = data[['text']]\n",
        "data_text['index'] = data_text.index\n",
        "documents = data_text"
      ],
      "execution_count": 0,
      "outputs": []
    },
    {
      "cell_type": "code",
      "metadata": {
        "id": "w_GH2C_f7irg",
        "colab_type": "code",
        "outputId": "ad184ada-4905-4534-b2b0-5e85bd1d393b",
        "colab": {
          "base_uri": "https://localhost:8080/",
          "height": 138
        }
      },
      "source": [
        "print(len(documents))\n",
        "print(documents[:5])"
      ],
      "execution_count": 20,
      "outputs": [
        {
          "output_type": "stream",
          "text": [
            "786\n",
            "                                                text  index\n",
            "0  Mais de um terço de pacientes internados com C...      0\n",
            "1  Navio de cruzeiros atracado em Santos, SP, é l...      1\n",
            "2  Supostas citações a Witzel em investigação que...      2\n",
            "3  Fernando de Noronha investiga cinco casos susp...      3\n",
            "4  Só em 2020, a empresa recebeu R$ 129 milhões d...      4\n"
          ],
          "name": "stdout"
        }
      ]
    },
    {
      "cell_type": "code",
      "metadata": {
        "id": "h6saJHn07mYp",
        "colab_type": "code",
        "colab": {}
      },
      "source": [
        "import gensim\n",
        "from gensim.utils import simple_preprocess\n",
        "from gensim.parsing.preprocessing import STOPWORDS\n",
        "from nltk.stem import WordNetLemmatizer, SnowballStemmer\n",
        "from nltk.stem.porter import *\n",
        "import numpy as np\n",
        "import nltk\n",
        "import string\n",
        "import unidecode\n",
        "import pyLDAvis\n",
        "\n"
      ],
      "execution_count": 0,
      "outputs": []
    },
    {
      "cell_type": "code",
      "metadata": {
        "id": "S2OwBg0g86_R",
        "colab_type": "code",
        "outputId": "c1455c38-a6bf-4452-8c7a-06d5dbb7f91c",
        "colab": {
          "base_uri": "https://localhost:8080/",
          "height": 138
        }
      },
      "source": [
        "# Retire o comentário apenas na primeira vez que executar esse notebook no seu ambiente\n",
        "nltk.download('wordnet')\n",
        "nltk.download('stopwords')\n",
        "nltk.download('rslp')"
      ],
      "execution_count": 12,
      "outputs": [
        {
          "output_type": "stream",
          "text": [
            "[nltk_data] Downloading package wordnet to /root/nltk_data...\n",
            "[nltk_data]   Unzipping corpora/wordnet.zip.\n",
            "[nltk_data] Downloading package stopwords to /root/nltk_data...\n",
            "[nltk_data]   Unzipping corpora/stopwords.zip.\n",
            "[nltk_data] Downloading package rslp to /root/nltk_data...\n",
            "[nltk_data]   Unzipping stemmers/rslp.zip.\n"
          ],
          "name": "stdout"
        },
        {
          "output_type": "execute_result",
          "data": {
            "text/plain": [
              "True"
            ]
          },
          "metadata": {
            "tags": []
          },
          "execution_count": 12
        }
      ]
    },
    {
      "cell_type": "code",
      "metadata": {
        "id": "pMx9bXW8ppLi",
        "colab_type": "code",
        "colab": {}
      },
      "source": [
        ""
      ],
      "execution_count": 0,
      "outputs": []
    },
    {
      "cell_type": "code",
      "metadata": {
        "id": "ge83Yryenlb0",
        "colab_type": "code",
        "colab": {}
      },
      "source": [
        "stopwords_pt = nltk.corpus.stopwords.words('portuguese')\n",
        "custon_stop_words = ['nessa','todo','pra','vou','aqui','se','.',',','lá','vcs','\"\"','\"',':','globonews']\n",
        "\n",
        "custon_stop_words = custon_stop_words +['veja','apos','sobre','globonews','anos','blog','dias','novo','contra','fazem','nesta','feira','sobre','cada'\n",
        ",'quase','pode','hoje','durante','meio','defende','nesta']\n",
        "punctuation = list(string.punctuation)\n",
        "lista_stopwords  =list(set(stopwords_pt + punctuation + custon_stop_words+ ['rt', 'via'] ))\n",
        "\n"
      ],
      "execution_count": 0,
      "outputs": []
    },
    {
      "cell_type": "code",
      "metadata": {
        "id": "kD6yV2dABFT_",
        "colab_type": "code",
        "outputId": "8ce4854c-27ba-43c6-9854-b521cab76bf0",
        "colab": {
          "base_uri": "https://localhost:8080/",
          "height": 639
        }
      },
      "source": [
        "custon_stop_words"
      ],
      "execution_count": 0,
      "outputs": [
        {
          "output_type": "execute_result",
          "data": {
            "text/plain": [
              "['nessa',\n",
              " 'todo',\n",
              " 'pra',\n",
              " 'vou',\n",
              " 'aqui',\n",
              " 'se',\n",
              " '.',\n",
              " ',',\n",
              " 'lá',\n",
              " 'vcs',\n",
              " '\"\"',\n",
              " '\"',\n",
              " ':',\n",
              " 'globonews',\n",
              " 'veja',\n",
              " 'apos',\n",
              " 'sobre',\n",
              " 'globonews',\n",
              " 'anos',\n",
              " 'blog',\n",
              " 'dias',\n",
              " 'novo',\n",
              " 'contra',\n",
              " 'fazem',\n",
              " 'nesta',\n",
              " 'feira',\n",
              " 'sobre',\n",
              " 'cada',\n",
              " 'quase',\n",
              " 'pode',\n",
              " 'hoje',\n",
              " 'durante',\n",
              " 'meio',\n",
              " 'defende',\n",
              " 'nesta']"
            ]
          },
          "metadata": {
            "tags": []
          },
          "execution_count": 16
        }
      ]
    },
    {
      "cell_type": "code",
      "metadata": {
        "id": "nh1NddIT8HH9",
        "colab_type": "code",
        "colab": {}
      },
      "source": [
        "from nltk.stem.porter import *\n",
        "stemmer = nltk.stem.RSLPStemmer()\n",
        "def lemmatize_stemming(text):\n",
        "    return stemmer.stem(WordNetLemmatizer().lemmatize(text, pos='v'))"
      ],
      "execution_count": 0,
      "outputs": []
    },
    {
      "cell_type": "code",
      "metadata": {
        "id": "843q5N_WGvdy",
        "colab_type": "code",
        "colab": {}
      },
      "source": [
        "def remove_caracteres_especiais(texto):\n",
        "    punctuations = '''!()-![]{};:+'\"\\,<>./?@#$%^&*_~'''\n",
        "    remove = ''.join([i for i in texto if not i in punctuations])\n",
        "    remove_1 =  re.sub(r\" ?\\([^)]+\\)\", \"\", remove)\n",
        "    remove_2 =''.join(remove_1).replace(\"'\", \" \")\n",
        "    remove_3 =''.join(remove_2).replace(\"[\", \" \")\n",
        "    remove_4 =''.join(remove_3).replace(\"]\", \" \")\n",
        "    return str(remove_4)    "
      ],
      "execution_count": 0,
      "outputs": []
    },
    {
      "cell_type": "code",
      "metadata": {
        "id": "4QiIcZqGgTZd",
        "colab_type": "code",
        "colab": {}
      },
      "source": [
        "def isVogal(texto):\n",
        "  vogais = ['a', 'e', 'i', 'o', 'u']\n",
        "  temVogal =False\n",
        "    \n",
        "  for c in texto.lower():\n",
        "    if c in vogais:\n",
        "        temVogal = True\n",
        "        break\n",
        "\n",
        "  return temVogal;\n",
        "  "
      ],
      "execution_count": 0,
      "outputs": []
    },
    {
      "cell_type": "code",
      "metadata": {
        "id": "VvBeFwRW_7en",
        "colab_type": "code",
        "colab": {}
      },
      "source": [
        "def remove_url(txt):\n",
        "    return re.sub(r'http\\S+', '', txt)"
      ],
      "execution_count": 0,
      "outputs": []
    },
    {
      "cell_type": "code",
      "metadata": {
        "id": "UCTfjPbM747e",
        "colab_type": "code",
        "colab": {}
      },
      "source": [
        "from unidecode import unidecode\n",
        "def preprocess(text):\n",
        "    result = []\n",
        "    for token in gensim.utils.simple_preprocess(text):\n",
        "      palavra  = remove_url(token)\n",
        "      palavra  = remove_caracteres_especiais(palavra)\n",
        "      palavra = unidecode(palavra.lower())\n",
        "      if palavra not in stopwords_pt and len(palavra) > 3:\n",
        "        result.append(palavra) # Sem tratamentos\n",
        "            # result.append(lemmatize_stemming(unidecode(token.lower()))) #Todas minúsculas, sem acentos e radical\n",
        "\n",
        "    return result"
      ],
      "execution_count": 0,
      "outputs": []
    },
    {
      "cell_type": "code",
      "metadata": {
        "id": "cSErUEpwCfUM",
        "colab_type": "code",
        "colab": {}
      },
      "source": [
        "# supporting function\n",
        "def compute_coherence_values(corpus, dictionary, k):\n",
        "    np.random.seed(2018)\n",
        "    lda_model = gensim.models.LdaMulticore(corpus, num_topics=k, id2word=dictionary)\n",
        "    coherence_model_lda = CoherenceModel(model=lda_model, texts=processed_docs, dictionary=dictionary, coherence='c_v')\n",
        "    return coherence_model_lda.get_coherence()\n"
      ],
      "execution_count": 0,
      "outputs": []
    },
    {
      "cell_type": "code",
      "metadata": {
        "id": "zMoFPuSj8SPe",
        "colab_type": "code",
        "outputId": "fef3de6c-08d8-4e6f-bad5-cbc6808099ad",
        "colab": {
          "base_uri": "https://localhost:8080/",
          "height": 141
        }
      },
      "source": [
        "doc_sample = documents[documents['index'] == 50].values[0][0]\n",
        "print('original document: ')\n",
        "words = []\n",
        "for word in doc_sample.split(' '):\n",
        "    words.append(word)\n",
        "print(words)\n",
        "print('\\n\\n tokenized and lemmatized document: ')\n",
        "print(preprocess(doc_sample))"
      ],
      "execution_count": 33,
      "outputs": [
        {
          "output_type": "stream",
          "text": [
            "original document: \n",
            "['@ValdoCruz', '@gcamarotti', '#Pronunciamento', '-', \"'A\", 'vida', 'é', 'feita', 'de', 'escolhas.', 'E', 'hoje', 'eu', 'escolhi', \"sair',\", 'afirma', 'Nelson', 'Teich…', 'https://t.co/kQBM4XZgZX']\n",
            "\n",
            "\n",
            " tokenized and lemmatized document: \n",
            "['valdocruz', 'gcamarotti', 'pronunciamento', 'vida', 'feita', 'escolhas', 'hoje', 'escolhi', 'sair', 'afirma', 'nelson', 'teich', 'kqbm', 'xzgzx']\n"
          ],
          "name": "stdout"
        }
      ]
    },
    {
      "cell_type": "code",
      "metadata": {
        "id": "tzSHWxDa9il2",
        "colab_type": "code",
        "outputId": "2dd907fa-70e3-4c82-fe91-f71c236dc25b",
        "colab": {
          "base_uri": "https://localhost:8080/",
          "height": 207
        }
      },
      "source": [
        "processed_docs = documents['text'].map(preprocess)\n",
        "processed_docs[:10]"
      ],
      "execution_count": 34,
      "outputs": [
        {
          "output_type": "execute_result",
          "data": {
            "text/plain": [
              "0    [terco, pacientes, internados, covid, apresent...\n",
              "1    [navio, cruzeiros, atracado, santos, liberado,...\n",
              "2    [supostas, citacoes, witzel, investigacao, pre...\n",
              "3    [fernando, noronha, investiga, cinco, casos, s...\n",
              "4    [empresa, recebeu, milhoes, governo, fluminens...\n",
              "5    [tres, medicos, piloto, morrem, queda, aviao, ...\n",
              "6    [mantem, escolas, fechadas, adia, pagamento, t...\n",
              "7    [justica, condena, filho, mafia, capturados, f...\n",
              "8    [argentina, desenvolve, teste, rapido, detecta...\n",
              "9    [parque, animais, japao, reabre, publico, visi...\n",
              "Name: text, dtype: object"
            ]
          },
          "metadata": {
            "tags": []
          },
          "execution_count": 34
        }
      ]
    },
    {
      "cell_type": "code",
      "metadata": {
        "id": "iw8URTIg9rU0",
        "colab_type": "code",
        "outputId": "3aa40c8b-a4c1-4562-aa2a-b3f615e6eba5",
        "colab": {
          "base_uri": "https://localhost:8080/",
          "height": 380
        }
      },
      "source": [
        "dictionary = gensim.corpora.Dictionary(processed_docs)\n",
        "count = 0\n",
        "for k, v in dictionary.iteritems():\n",
        "    print(k, v)\n",
        "    count += 1\n",
        "    if count > 20:\n",
        "        break"
      ],
      "execution_count": 35,
      "outputs": [
        {
          "output_type": "stream",
          "text": [
            "0 apresentam\n",
            "1 covid\n",
            "2 internados\n",
            "3 lesoes\n",
            "4 pacientes\n",
            "5 precisam\n",
            "6 respirador\n",
            "7 rins\n",
            "8 terco\n",
            "9 atracado\n",
            "10 cruzeiros\n",
            "11 liberado\n",
            "12 navio\n",
            "13 quarentena\n",
            "14 santos\n",
            "15 tvwywayleb\n",
            "16 citacoes\n",
            "17 enviadas\n",
            "18 investigacao\n",
            "19 mario\n",
            "20 peixoto\n"
          ],
          "name": "stdout"
        }
      ]
    },
    {
      "cell_type": "code",
      "metadata": {
        "id": "WVjesfCu-Ixa",
        "colab_type": "code",
        "outputId": "f646ac08-ff75-419d-8e9d-727a5d79c462",
        "colab": {
          "base_uri": "https://localhost:8080/",
          "height": 224
        }
      },
      "source": [
        "corpus = [dictionary.doc2bow(doc) for doc in processed_docs]\n",
        "corpus[100]"
      ],
      "execution_count": 36,
      "outputs": [
        {
          "output_type": "execute_result",
          "data": {
            "text/plain": [
              "[(101, 1),\n",
              " (131, 1),\n",
              " (201, 1),\n",
              " (359, 1),\n",
              " (377, 1),\n",
              " (378, 1),\n",
              " (379, 1),\n",
              " (380, 1),\n",
              " (381, 1),\n",
              " (382, 1),\n",
              " (747, 1),\n",
              " (748, 1)]"
            ]
          },
          "metadata": {
            "tags": []
          },
          "execution_count": 36
        }
      ]
    },
    {
      "cell_type": "code",
      "metadata": {
        "id": "xTCYBd0e-ktl",
        "colab_type": "code",
        "outputId": "658b3c88-9790-4c2a-80b6-7be19ff8b11c",
        "colab": {
          "base_uri": "https://localhost:8080/",
          "height": 224
        }
      },
      "source": [
        "bow_doc_100 = corpus[100]\n",
        "for i in range(len(bow_doc_100)):\n",
        "    print(\"Word {} (\\\"{}\\\") appears {} time.\".format(bow_doc_100[i][0], \n",
        "                                               dictionary[bow_doc_100[i][0]], bow_doc_100[i][1]))"
      ],
      "execution_count": 37,
      "outputs": [
        {
          "output_type": "stream",
          "text": [
            "Word 101 (\"ministro\") appears 1 time.\n",
            "Word 131 (\"saude\") appears 1 time.\n",
            "Word 201 (\"apos\") appears 1 time.\n",
            "Word 359 (\"teich\") appears 1 time.\n",
            "Word 377 (\"anulado\") appears 1 time.\n",
            "Word 378 (\"desgastado\") appears 1 time.\n",
            "Word 379 (\"fritura\") appears 1 time.\n",
            "Word 380 (\"isolado\") appears 1 time.\n",
            "Word 381 (\"nelson\") appears 1 time.\n",
            "Word 382 (\"oassunto\") appears 1 time.\n",
            "Word 747 (\"assumir\") appears 1 time.\n",
            "Word 748 (\"gbee\") appears 1 time.\n"
          ],
          "name": "stdout"
        }
      ]
    },
    {
      "cell_type": "markdown",
      "metadata": {
        "id": "0-mhX6_cfa2a",
        "colab_type": "text"
      },
      "source": [
        "## estimativa de quantidade de modelos"
      ]
    },
    {
      "cell_type": "code",
      "metadata": {
        "id": "hqZ3DaVdpvLj",
        "colab_type": "code",
        "outputId": "44ed8ce2-3527-4923-bbed-a8bc4cf395f4",
        "colab": {
          "base_uri": "https://localhost:8080/",
          "height": 34
        }
      },
      "source": [
        "import numpy as np\n",
        "import tqdm\n",
        "\n",
        "grid = {}\n",
        "grid['Validation_Set'] = {}\n",
        "\n",
        "# Topics range\n",
        "min_topics = 2\n",
        "max_topics = 8\n",
        "step_size = 1\n",
        "topics_range = range(min_topics, max_topics, step_size)\n",
        "model_results = {'Topics': [],\n",
        "                 'Coherence': []\n",
        "                }\n",
        "\n",
        "pbar = tqdm.tqdm(total=len(topics_range))\n",
        "\n",
        "for k in topics_range:\n",
        "\n",
        "  cv = compute_coherence_values(corpus=corpus, dictionary=dictionary, k=k)\n",
        "  model_results['Topics'].append(k)\n",
        "  model_results['Coherence'].append(cv)\n",
        "  pbar.update(1)\n",
        "pbar.close()"
      ],
      "execution_count": 61,
      "outputs": [
        {
          "output_type": "stream",
          "text": [
            "100%|██████████| 6/6 [00:08<00:00,  1.36s/it]\n"
          ],
          "name": "stderr"
        }
      ]
    },
    {
      "cell_type": "code",
      "metadata": {
        "id": "V8HpKQDKK_s2",
        "colab_type": "code",
        "outputId": "db0c711c-07ca-414d-a65a-743e5716f7b4",
        "colab": {
          "base_uri": "https://localhost:8080/",
          "height": 295
        }
      },
      "source": [
        "import matplotlib.pyplot as plt \n",
        "\n",
        "x = model_results['Topics']\n",
        "y = model_results['Coherence']\n",
        "\n",
        "plt.plot(x, y) \n",
        "  \n",
        "# naming the x axis \n",
        "plt.xlabel('x - Topics') \n",
        "# naming the y axis \n",
        "plt.ylabel('y - Coherence') \n",
        "  \n",
        "# giving a title to my graph \n",
        "plt.title('Topics x Coherence') \n",
        "  \n",
        "# function to show the plot \n",
        "plt.show() "
      ],
      "execution_count": 62,
      "outputs": [
        {
          "output_type": "display_data",
          "data": {
            "image/png": "[encoded data removed]",
            "text/plain": [
              "<Figure size 432x288 with 1 Axes>"
            ]
          },
          "metadata": {
            "tags": [],
            "needs_background": "light"
          }
        }
      ]
    },
    {
      "cell_type": "markdown",
      "metadata": {
        "id": "AdTWIKiefPIO",
        "colab_type": "text"
      },
      "source": [
        "## Primeiro modelo com 5 topicos"
      ]
    },
    {
      "cell_type": "code",
      "metadata": {
        "id": "Mrr2tpC3_JFx",
        "colab_type": "code",
        "colab": {}
      },
      "source": [
        "warnings.simplefilter('ignore')\n",
        "\n",
        "np.random.seed(2018)\n",
        "lda_model = gensim.models.LdaMulticore(corpus, num_topics=5, id2word=dictionary)"
      ],
      "execution_count": 0,
      "outputs": []
    },
    {
      "cell_type": "code",
      "metadata": {
        "id": "jRFZxnEh_Yyb",
        "colab_type": "code",
        "outputId": "e503ee3f-40a4-46df-8900-a0f8d8323fb7",
        "colab": {
          "base_uri": "https://localhost:8080/",
          "height": 210
        }
      },
      "source": [
        "for idx, topic in lda_model.print_topics(-1):\n",
        "    print('Topic: {} \\nWords: {}'.format(idx, topic))"
      ],
      "execution_count": 64,
      "outputs": [
        {
          "output_type": "stream",
          "text": [
            "Topic: 0 \n",
            "Words: 0.010*\"covid\" + 0.009*\"bolsonaro\" + 0.005*\"pandemia\" + 0.005*\"apos\" + 0.004*\"coronavirus\" + 0.004*\"video\" + 0.004*\"anos\" + 0.004*\"sobre\" + 0.004*\"veja\" + 0.004*\"pais\"\n",
            "Topic: 1 \n",
            "Words: 0.016*\"coronavirus\" + 0.009*\"bolsonaro\" + 0.007*\"covid\" + 0.006*\"governo\" + 0.005*\"pandemia\" + 0.005*\"presidente\" + 0.005*\"mortes\" + 0.005*\"saude\" + 0.005*\"sobre\" + 0.005*\"apos\"\n",
            "Topic: 2 \n",
            "Words: 0.009*\"bolsonaro\" + 0.007*\"coronavirus\" + 0.006*\"covid\" + 0.006*\"brasil\" + 0.005*\"isolamento\" + 0.005*\"pandemia\" + 0.005*\"saude\" + 0.004*\"governo\" + 0.004*\"mortes\" + 0.004*\"veja\"\n",
            "Topic: 3 \n",
            "Words: 0.013*\"coronavirus\" + 0.007*\"mortes\" + 0.007*\"brasil\" + 0.007*\"veja\" + 0.005*\"covid\" + 0.005*\"anos\" + 0.004*\"segundo\" + 0.004*\"apos\" + 0.004*\"novo\" + 0.004*\"casos\"\n",
            "Topic: 4 \n",
            "Words: 0.013*\"coronavirus\" + 0.007*\"bolsonaro\" + 0.007*\"pandemia\" + 0.007*\"apos\" + 0.006*\"covid\" + 0.006*\"ministro\" + 0.005*\"isolamento\" + 0.005*\"anos\" + 0.005*\"video\" + 0.005*\"brasil\"\n"
          ],
          "name": "stdout"
        }
      ]
    },
    {
      "cell_type": "code",
      "metadata": {
        "id": "CqE1rKvTR6S3",
        "colab_type": "code",
        "outputId": "bbf20a3d-5bad-4da4-b81f-9471d9155fa9",
        "colab": {
          "base_uri": "https://localhost:8080/",
          "height": 881
        }
      },
      "source": [
        "import pyLDAvis.gensim\n",
        "import pickle \n",
        "import pyLDAvis# Visualize the topics\n",
        "pyLDAvis.enable_notebook()\n",
        "LDAvis_prepared = pyLDAvis.gensim.prepare(lda_model, corpus, dictionary)\n",
        "LDAvis_prepared"
      ],
      "execution_count": 65,
      "outputs": [
        {
          "output_type": "execute_result",
          "data": {
            "text/html": [
              "\n",
              "<link rel=\"stylesheet\" type=\"text/css\" href=\"https://cdn.rawgit.com/bmabey/pyLDAvis/files/ldavis.v1.0.0.css\">\n",
              "\n",
              "\n",
              "<div id=\"ldavis_el1201397569155081126671432897\"></div>\n",
              "<script type=\"text/javascript\">\n",
              "\n",
              "var ldavis_el1201397569155081126671432897_data = {\"mdsDat\": {\"x\": [-0.020337365051532486, 0.09881612044756642, -0.02501242523478862, -0.07782501661578604, 0.024358686454540753], \"y\": [0.023408181559448456, -0.0581614255781609, -0.03364339189360314, -0.036363843001717945, 0.1047604789140335], \"topics\": [1, 2, 3, 4, 5], \"cluster\": [1, 1, 1, 1, 1], \"Freq\": [22.55316162109375, 20.80887794494629, 19.524438858032227, 19.221973419189453, 17.89154815673828]}, \"tinfo\": {\"Term\": [\"coronavirus\", \"segundo\", \"vitima\", \"pede\", \"isolamento\", \"feira\", \"auxilio\", \"anos\", \"dados\", \"ministerio\", \"segunda\", \"estudo\", \"medida\", \"manaus\", \"moro\", \"ministro\", \"emergencial\", \"horas\", \"bolsonaro\", \"nesta\", \"mascaras\", \"desde\", \"mortes\", \"alunos\", \"reuniao\", \"brasil\", \"oassunto\", \"caiu\", \"reais\", \"rodizio\", \"depoem\", \"deve\", \"santa\", \"terca\", \"paciente\", \"goias\", \"comecam\", \"valer\", \"assina\", \"futura\", \"catarina\", \"plastificado\", \"funcionar\", \"vencer\", \"ajudar\", \"lewandowski\", \"amor\", \"restaurantes\", \"respirar\", \"espantem\", \"causou\", \"ensino\", \"luvas\", \"ambiente\", \"adotaram\", \"cardapio\", \"previsao\", \"obitos\", \"igreja\", \"segunda\", \"secretario\", \"campanha\", \"rodizio\", \"presidente\", \"coronavirus\", \"nesta\", \"feira\", \"ampliado\", \"suposta\", \"testes\", \"governo\", \"ocupacao\", \"quase\", \"resultado\", \"motorista\", \"teste\", \"sera\", \"medo\", \"medida\", \"lockdown\", \"bolsonaro\", \"ministerio\", \"entregar\", \"pagamento\", \"dias\", \"saude\", \"mortes\", \"sobre\", \"covid\", \"teich\", \"pandemia\", \"apos\", \"maio\", \"hospital\", \"video\", \"leitos\", \"auxilio\", \"meio\", \"contra\", \"brasil\", \"veja\", \"isolamento\", \"novo\", \"mostre\", \"inicio\", \"repercussao\", \"sendo\", \"fechadas\", \"tentar\", \"ilustra\", \"duvida\", \"apaixonado\", \"forca\", \"repete\", \"venda\", \"muita\", \"normalidade\", \"infeccoes\", \"natural\", \"psicologa\", \"globo\", \"queria\", \"emendas\", \"lutodascriancas\", \"idosa\", \"deputada\", \"orienta\", \"ontem\", \"assoc\", \"conduzem\", \"mapear\", \"encontrar\", \"volta\", \"drive\", \"desde\", \"viram\", \"recebe\", \"fatooufake\", \"ministro\", \"fake\", \"primeiro\", \"moro\", \"suspende\", \"coronavirus\", \"apos\", \"paulo\", \"depoimento\", \"pandemia\", \"durante\", \"andreiasadi\", \"video\", \"isolamento\", \"anos\", \"maior\", \"bolsonaro\", \"covid\", \"sobre\", \"brasil\", \"saude\", \"alta\", \"morre\", \"casos\", \"teich\", \"meio\", \"reuniao\", \"mortes\", \"presidente\", \"veja\", \"live\", \"estudo\", \"hora\", \"sandracoh\", \"matou\", \"receberam\", \"falam\", \"comediante\", \"vespas\", \"internada\", \"gradual\", \"internacoes\", \"determinou\", \"humanos\", \"disparar\", \"seinfeld\", \"stiller\", \"estresse\", \"ator\", \"jerry\", \"ceara\", \"etapa\", \"puerperas\", \"vacinacao\", \"relaxamento\", \"inclusao\", \"meme\", \"suspeita\", \"leito\", \"decreto\", \"california\", \"militares\", \"ficar\", \"pessoas\", \"isolamento\", \"bolsonaro\", \"falas\", \"brasil\", \"saude\", \"contra\", \"dentro\", \"cada\", \"auxilio\", \"morrem\", \"covid\", \"quarentena\", \"pandemia\", \"reuniao\", \"flexibilizacao\", \"neste\", \"justica\", \"morre\", \"coronavirus\", \"governo\", \"pacientes\", \"anos\", \"veja\", \"mortes\", \"blog\", \"milhoes\", \"video\", \"pode\", \"social\", \"sobre\", \"apos\", \"caiu\", \"perdeu\", \"causas\", \"limite\", \"integra\", \"ibaneis\", \"sonza\", \"sabem\", \"elizabeth\", \"passo\", \"milicia\", \"banda\", \"consequencias\", \"podcast\", \"bernardinho\", \"entrar\", \"rainha\", \"meuxgyzlre\", \"registrados\", \"latino\", \"tata\", \"adiar\", \"apostar\", \"werneck\", \"noruega\", \"privacidade\", \"luisa\", \"conclui\", \"acontecer\", \"responde\", \"supremo\", \"mundo\", \"provisoria\", \"quer\", \"cura\", \"pede\", \"manter\", \"pais\", \"oassunto\", \"menor\", \"entrevista\", \"mortos\", \"covid\", \"minas\", \"bolsonaro\", \"casa\", \"fazem\", \"defende\", \"apos\", \"video\", \"medida\", \"pandemia\", \"semana\", \"anos\", \"quais\", \"reuniao\", \"sobre\", \"veja\", \"isolamento\", \"videos\", \"moro\", \"casos\", \"governo\", \"coronavirus\", \"ajuda\", \"ministro\", \"mortes\", \"brasil\", \"novo\", \"morre\", \"alunos\", \"pereira\", \"secretarias\", \"suspensao\", \"dados\", \"manaus\", \"favela\", \"aparec\", \"pare\", \"doloroso\", \"filas\", \"contribuir\", \"emprestados\", \"experiencia\", \"arrume\", \"rolar\", \"professores\", \"celulares\", \"feed\", \"discute\", \"terminar\", \"preparam\", \"retrato\", \"postos\", \"maternidade\", \"parto\", \"sexta\", \"computadores\", \"pagodinho\", \"razao\", \"estudos\", \"segundo\", \"vitima\", \"merval\", \"horas\", \"publica\", \"final\", \"mortes\", \"estado\", \"veja\", \"coronavirus\", \"brasil\", \"parcela\", \"tratamento\", \"novo\", \"mascaras\", \"reais\", \"marco\", \"indicam\", \"mostram\", \"distanciamento\", \"emergencial\", \"auxilio\", \"anos\", \"casos\", \"numero\", \"ministerio\", \"morte\", \"covid\", \"apos\", \"feira\", \"noticia\", \"pandemia\", \"live\", \"saude\", \"social\", \"governo\", \"sobre\", \"pode\", \"maio\"], \"Freq\": [89.0, 9.0, 7.0, 8.0, 27.0, 10.0, 16.0, 27.0, 4.0, 13.0, 7.0, 5.0, 8.0, 4.0, 13.0, 20.0, 11.0, 9.0, 58.0, 11.0, 10.0, 6.0, 32.0, 3.0, 13.0, 36.0, 10.0, 3.0, 6.0, 8.0, 2.2285401821136475, 2.2278661727905273, 2.226644277572632, 2.2253947257995605, 2.0474820137023926, 1.532395362854004, 1.5322235822677612, 1.5321301221847534, 1.53184974193573, 1.5318303108215332, 1.5317845344543457, 1.5317530632019043, 1.5317457914352417, 1.531735897064209, 1.5316106081008911, 1.531502366065979, 1.5314879417419434, 1.531443476676941, 1.5314080715179443, 1.5314079523086548, 1.5314011573791504, 1.5313310623168945, 1.5313020944595337, 1.5311988592147827, 1.5311771631240845, 1.5307408571243286, 1.5304501056671143, 1.5298627614974976, 1.5261718034744263, 5.432136058807373, 2.9246578216552734, 2.7011594772338867, 4.59140682220459, 9.385597229003906, 29.31672477722168, 5.927452564239502, 5.216434955596924, 2.9239110946655273, 2.9262092113494873, 3.1815590858459473, 10.415802001953125, 2.227445125579834, 5.015990257263184, 2.2268848419189453, 2.2289063930511475, 2.5356926918029785, 4.113677978515625, 2.7861692905426025, 4.07033634185791, 5.614727020263672, 15.76084041595459, 5.601492881774902, 3.4682185649871826, 2.69999623298645, 5.5224928855896, 8.764625549316406, 9.327481269836426, 8.669842720031738, 12.859820365905762, 5.039559841156006, 9.602508544921875, 8.308051109313965, 4.761138439178467, 4.043149948120117, 6.489511013031006, 3.525197744369507, 4.763278484344482, 4.0929646492004395, 4.650450229644775, 5.804807662963867, 5.154425621032715, 4.9820475578308105, 4.317134380340576, 2.8214240074157715, 2.1499130725860596, 2.149503231048584, 2.1489827632904053, 1.478311538696289, 1.4782992601394653, 1.4781429767608643, 1.4779514074325562, 1.477897047996521, 1.4777326583862305, 1.4776884317398071, 1.4772855043411255, 1.4772849082946777, 1.4772686958312988, 1.4771010875701904, 1.4770913124084473, 1.477080225944519, 1.4768905639648438, 1.476455807685852, 1.4764554500579834, 1.4761067628860474, 1.4758528470993042, 1.475528359413147, 1.4743281602859497, 1.9255268573760986, 1.4330345392227173, 1.4295284748077393, 1.4288005828857422, 1.4264264106750488, 2.8215057849884033, 2.342986822128296, 4.2179274559021, 1.84496009349823, 4.167443752288818, 5.743654251098633, 9.921592712402344, 5.684266567230225, 2.8209853172302246, 6.183013916015625, 2.1499645709991455, 22.51053810119629, 10.889899253845215, 5.763345241546631, 3.3996543884277344, 11.680069923400879, 5.758819580078125, 2.823298931121826, 7.624675750732422, 7.830446243286133, 7.768250942230225, 2.0521299839019775, 12.235588073730469, 10.658238410949707, 7.053174018859863, 7.607395648956299, 6.4544548988342285, 3.4931111335754395, 3.6670258045196533, 4.331341743469238, 3.664163112640381, 3.4984347820281982, 3.4965949058532715, 4.071737289428711, 3.4981048107147217, 3.4291470050811768, 3.0457711219787598, 4.057765483856201, 1.4861379861831665, 1.4858412742614746, 1.4857122898101807, 1.4857032299041748, 1.4855636358261108, 1.485381007194519, 1.485285758972168, 1.485171914100647, 1.4851412773132324, 1.485113501548767, 1.4849488735198975, 1.4849106073379517, 1.484857439994812, 1.4843144416809082, 1.4840970039367676, 1.484038233757019, 1.484054446220398, 1.4834100008010864, 2.9497809410095215, 1.961186170578003, 1.9081850051879883, 1.9061564207077026, 2.3762192726135254, 1.8880646228790283, 1.4146000146865845, 3.239630937576294, 1.3680310249328613, 2.6819450855255127, 1.3180683851242065, 2.160677433013916, 2.57609224319458, 4.875040531158447, 8.447324752807617, 13.929197311401367, 2.554255962371826, 8.991480827331543, 7.673028945922852, 5.419681072235107, 2.8389954566955566, 4.01332426071167, 4.8628668785095215, 2.4133172035217285, 9.913108825683594, 4.244207859039307, 8.205738067626953, 4.30993127822876, 2.185051918029785, 3.076979637145996, 3.891437530517578, 3.984063148498535, 11.390936851501465, 6.013299465179443, 4.162739276885986, 5.4861602783203125, 5.616446018218994, 5.729240894317627, 3.53546404838562, 3.5164830684661865, 4.000744342803955, 3.335740804672241, 3.363696575164795, 3.892183780670166, 3.3517005443573, 2.7747998237609863, 2.114663600921631, 2.1139724254608154, 2.113953113555908, 2.4362659454345703, 1.4538613557815552, 1.453675627708435, 1.453639030456543, 1.4535644054412842, 1.4535448551177979, 1.4535343647003174, 1.453464388847351, 1.453458547592163, 1.4534462690353394, 1.4533796310424805, 1.453375220298767, 1.453372836112976, 1.4533082246780396, 1.4531426429748535, 1.4531108140945435, 1.453105092048645, 1.4529017210006714, 1.452754259109497, 1.4526740312576294, 1.4525673389434814, 1.4525086879730225, 1.4524846076965332, 1.4524742364883423, 1.452476978302002, 1.4524517059326172, 2.687357187271118, 4.097322463989258, 1.827579379081726, 3.390676975250244, 1.8092414140701294, 4.149960517883301, 2.1137185096740723, 5.686406135559082, 4.740078926086426, 2.1137301921844482, 2.113585948944092, 3.4210119247436523, 15.273924827575684, 2.0772130489349365, 13.136005401611328, 4.669822692871094, 2.801222801208496, 2.9679813385009766, 7.48858118057251, 6.218296051025391, 3.2026326656341553, 7.934581756591797, 3.438730478286743, 6.160079002380371, 2.1155107021331787, 4.0575270652771, 6.085659027099609, 5.752596378326416, 5.432075023651123, 2.7750368118286133, 3.548668622970581, 3.9907748699188232, 4.471508026123047, 6.6920270919799805, 2.7236738204956055, 3.3747010231018066, 3.4869868755340576, 3.4973490238189697, 3.141247510910034, 2.780303716659546, 2.7104995250701904, 2.0656285285949707, 2.065248489379883, 2.0631728172302246, 3.6017558574676514, 3.3559372425079346, 1.9026411771774292, 1.4207371473312378, 1.4206879138946533, 1.4203882217407227, 1.4203726053237915, 1.4202619791030884, 1.4202336072921753, 1.4202253818511963, 1.420229196548462, 1.4201945066452026, 1.4201745986938477, 1.4199050664901733, 1.4198977947235107, 1.4196637868881226, 1.4195479154586792, 1.4194759130477905, 1.4194165468215942, 1.4194161891937256, 1.4193620681762695, 1.4192783832550049, 1.4191234111785889, 1.4190897941589355, 1.414431095123291, 1.4135397672653198, 2.711296558380127, 5.939579963684082, 4.059847831726074, 2.0667858123779297, 4.653133392333984, 2.0654966831207275, 2.0660510063171387, 10.241991996765137, 4.0020036697387695, 9.389203071594238, 19.118427276611328, 10.214774131774902, 2.992418050765991, 2.7118208408355713, 5.534830570220947, 3.9888832569122314, 3.0412607192993164, 2.1951987743377686, 1.700280785560608, 3.3593640327453613, 2.609436273574829, 4.153771877288818, 5.052492141723633, 6.899611949920654, 5.11599588394165, 3.630816698074341, 4.212963581085205, 3.6348421573638916, 7.753274917602539, 5.583806991577148, 3.3574984073638916, 2.7083144187927246, 5.014865875244141, 3.1057777404785156, 4.383598327636719, 3.5092217922210693, 4.015632152557373, 3.9696948528289795, 3.3607890605926514, 3.361759901046753], \"Total\": [89.0, 9.0, 7.0, 8.0, 27.0, 10.0, 16.0, 27.0, 4.0, 13.0, 7.0, 5.0, 8.0, 4.0, 13.0, 20.0, 11.0, 9.0, 58.0, 11.0, 10.0, 6.0, 32.0, 3.0, 13.0, 36.0, 10.0, 3.0, 6.0, 8.0, 2.763357400894165, 2.7633273601531982, 2.7632524967193604, 2.7632110118865967, 2.7578930854797363, 2.0659284591674805, 2.0659241676330566, 2.0659232139587402, 2.065903902053833, 2.0659093856811523, 2.0659055709838867, 2.0659024715423584, 2.065896511077881, 2.065901279449463, 2.0658950805664062, 2.0658884048461914, 2.065892457962036, 2.0658864974975586, 2.0658819675445557, 2.065882444381714, 2.0658819675445557, 2.065887689590454, 2.065880298614502, 2.065880298614502, 2.0658750534057617, 2.065854787826538, 2.0658676624298096, 2.0658085346221924, 2.0655040740966797, 7.591418266296387, 4.137197494506836, 4.096097469329834, 8.211601257324219, 20.380905151367188, 89.02865600585938, 11.532934188842773, 10.139701843261719, 4.783931732177734, 4.806540012359619, 5.462587833404541, 27.076976776123047, 3.410050630569458, 10.24032211303711, 3.419222831726074, 3.4361915588378906, 4.11990213394165, 8.142906188964844, 4.770312309265137, 8.141246795654297, 12.892192840576172, 58.15230941772461, 13.485721588134766, 6.80328893661499, 4.78387975692749, 14.17251968383789, 29.737836837768555, 32.85743713378906, 29.67055320739746, 56.45836639404297, 12.915721893310547, 42.43776321411133, 35.622039794921875, 12.7849760055542, 9.495975494384766, 25.661653518676758, 7.444708824157715, 16.135353088378906, 11.536469459533691, 17.53327178955078, 36.115806579589844, 29.341815948486328, 27.031003952026367, 16.71114158630371, 3.3625893592834473, 2.6897106170654297, 2.6897058486938477, 2.689704656600952, 2.0168304443359375, 2.0168256759643555, 2.0168237686157227, 2.016832113265991, 2.016828775405884, 2.016833543777466, 2.0168275833129883, 2.016824960708618, 2.016826868057251, 2.0168190002441406, 2.0168111324310303, 2.0168259143829346, 2.016832113265991, 2.016813278198242, 2.0168299674987793, 2.016831159591675, 2.016824245452881, 2.0168251991271973, 2.0168063640594482, 2.016815185546875, 2.6870899200439453, 2.0160915851593018, 2.0160393714904785, 2.01601243019104, 2.0159788131713867, 4.060033798217773, 3.3727660179138184, 6.751876354217529, 2.6847004890441895, 6.724960803985596, 10.12014102935791, 20.85926628112793, 11.443758964538574, 4.706735610961914, 13.470481872558594, 3.3365352153778076, 89.02865600585938, 35.622039794921875, 14.191850662231445, 6.693310260772705, 42.43776321411133, 15.546504974365234, 5.3835954666137695, 25.661653518676758, 27.031003952026367, 27.268339157104492, 3.390662670135498, 58.15230941772461, 56.45836639404297, 29.67055320739746, 36.115806579589844, 29.737836837768555, 9.433599472045898, 12.085219383239746, 18.69434356689453, 12.915721893310547, 11.536469459533691, 13.45850944519043, 32.85743713378906, 20.380905151367188, 29.341815948486328, 9.28327465057373, 5.421483993530273, 2.0239620208740234, 2.023948907852173, 2.0239546298980713, 2.0239579677581787, 2.0239601135253906, 2.0239596366882324, 2.02396559715271, 2.023980140686035, 2.0239572525024414, 2.0239598751068115, 2.023958683013916, 2.0239460468292236, 2.0239551067352295, 2.0239431858062744, 2.02394700050354, 2.0239241123199463, 2.023953914642334, 2.023923873901367, 4.038931369781494, 2.6993725299835205, 2.6990692615509033, 2.699054718017578, 3.3911402225494385, 2.698958158493042, 2.025501012802124, 4.710723400115967, 2.0233407020568848, 4.046328067779541, 2.029141664505005, 3.347205400466919, 4.05783224105835, 11.414104461669922, 27.031003952026367, 58.15230941772461, 4.69434928894043, 36.115806579589844, 29.737836837768555, 17.53327178955078, 6.035222053527832, 10.857728958129883, 16.135353088378906, 4.730222702026367, 56.45836639404297, 12.846416473388672, 42.43776321411133, 13.45850944519043, 4.018778324127197, 7.4299492835998535, 11.439682960510254, 12.085219383239746, 89.02865600585938, 27.076976776123047, 13.469175338745117, 27.268339157104492, 29.341815948486328, 32.85743713378906, 11.392722129821777, 12.791923522949219, 25.661653518676758, 12.7179536819458, 14.085079193115234, 29.67055320739746, 35.622039794921875, 3.318314552307129, 2.6565184593200684, 2.6565113067626953, 2.6565134525299072, 3.3258156776428223, 1.9946929216384888, 1.9946929216384888, 1.9946959018707275, 1.9946945905685425, 1.9947049617767334, 1.9947009086608887, 1.9946986436843872, 1.9946963787078857, 1.9946974515914917, 1.994704246520996, 1.9946980476379395, 1.994699239730835, 1.9946985244750977, 1.9947075843811035, 1.9946966171264648, 1.9947117567062378, 1.9947127103805542, 1.9947153329849243, 1.9947036504745483, 1.994722604751587, 1.9946991205215454, 1.9947105646133423, 1.9947174787521362, 1.994722843170166, 1.9947184324264526, 4.020495891571045, 7.312089443206787, 2.671947479248047, 6.001800537109375, 2.6604552268981934, 8.1262845993042, 3.3032658100128174, 12.68897819519043, 10.018860816955566, 3.3329782485961914, 3.332982063293457, 6.620020389556885, 56.45836639404297, 3.340104341506958, 58.15230941772461, 12.699629783630371, 5.979672431945801, 6.704700469970703, 35.622039794921875, 25.661653518676758, 8.141246795654297, 42.43776321411133, 9.286918640136719, 27.268339157104492, 3.9865517616271973, 13.45850944519043, 29.67055320739746, 29.341815948486328, 27.031003952026367, 6.705716133117676, 13.470481872558594, 18.69434356689453, 27.076976776123047, 89.02865600585938, 7.344649791717529, 20.85926628112793, 32.85743713378906, 36.115806579589844, 16.71114158630371, 12.085219383239746, 3.2581193447113037, 2.6113359928131104, 2.6113574504852295, 2.6115410327911377, 4.567798614501953, 4.577773571014404, 2.6241211891174316, 1.9645569324493408, 1.9645519256591797, 1.9645755290985107, 1.9645745754241943, 1.9645745754241943, 1.9645791053771973, 1.9645748138427734, 1.9645861387252808, 1.9645793437957764, 1.9645862579345703, 1.9645938873291016, 1.9646024703979492, 1.9646096229553223, 1.9646018743515015, 1.9646257162094116, 1.9646186828613281, 1.9646244049072266, 1.9646157026290894, 1.964631199836731, 1.9646272659301758, 1.9646337032318115, 1.964700698852539, 1.964735984802246, 3.9309639930725098, 9.193498611450195, 7.200616359710693, 3.2731313705444336, 9.98748779296875, 3.2878057956695557, 3.3087196350097656, 32.85743713378906, 8.612099647521973, 29.341815948486328, 89.02865600585938, 36.115806579589844, 5.990196228027344, 5.301290035247803, 16.71114158630371, 10.010944366455078, 6.663269996643066, 3.9518744945526123, 2.6261353492736816, 7.9929609298706055, 5.305974960327148, 11.413593292236328, 16.135353088378906, 27.268339157104492, 18.69434356689453, 9.972870826721191, 13.485721588134766, 10.64144515991211, 56.45836639404297, 35.622039794921875, 10.139701843261719, 6.023323059082031, 42.43776321411133, 9.28327465057373, 29.737836837768555, 14.085079193115234, 27.076976776123047, 29.67055320739746, 12.7179536819458, 12.7849760055542], \"Category\": [\"Default\", \"Default\", \"Default\", \"Default\", \"Default\", \"Default\", \"Default\", \"Default\", \"Default\", \"Default\", \"Default\", \"Default\", \"Default\", \"Default\", \"Default\", \"Default\", \"Default\", \"Default\", \"Default\", \"Default\", \"Default\", \"Default\", \"Default\", \"Default\", \"Default\", \"Default\", \"Default\", \"Default\", \"Default\", \"Default\", \"Topic1\", \"Topic1\", \"Topic1\", \"Topic1\", \"Topic1\", \"Topic1\", \"Topic1\", \"Topic1\", \"Topic1\", \"Topic1\", \"Topic1\", \"Topic1\", \"Topic1\", \"Topic1\", \"Topic1\", \"Topic1\", \"Topic1\", \"Topic1\", \"Topic1\", \"Topic1\", \"Topic1\", \"Topic1\", \"Topic1\", \"Topic1\", \"Topic1\", \"Topic1\", \"Topic1\", \"Topic1\", \"Topic1\", \"Topic1\", \"Topic1\", \"Topic1\", \"Topic1\", \"Topic1\", \"Topic1\", \"Topic1\", \"Topic1\", \"Topic1\", \"Topic1\", \"Topic1\", \"Topic1\", \"Topic1\", \"Topic1\", \"Topic1\", \"Topic1\", \"Topic1\", \"Topic1\", \"Topic1\", \"Topic1\", \"Topic1\", \"Topic1\", \"Topic1\", \"Topic1\", \"Topic1\", \"Topic1\", \"Topic1\", \"Topic1\", \"Topic1\", \"Topic1\", \"Topic1\", \"Topic1\", \"Topic1\", \"Topic1\", \"Topic1\", \"Topic1\", \"Topic1\", \"Topic1\", \"Topic1\", \"Topic1\", \"Topic1\", \"Topic1\", \"Topic1\", \"Topic1\", \"Topic2\", \"Topic2\", \"Topic2\", \"Topic2\", \"Topic2\", \"Topic2\", \"Topic2\", \"Topic2\", \"Topic2\", \"Topic2\", \"Topic2\", \"Topic2\", \"Topic2\", \"Topic2\", \"Topic2\", \"Topic2\", \"Topic2\", \"Topic2\", \"Topic2\", \"Topic2\", \"Topic2\", \"Topic2\", \"Topic2\", \"Topic2\", \"Topic2\", \"Topic2\", \"Topic2\", \"Topic2\", \"Topic2\", \"Topic2\", \"Topic2\", \"Topic2\", \"Topic2\", \"Topic2\", \"Topic2\", \"Topic2\", \"Topic2\", \"Topic2\", \"Topic2\", \"Topic2\", \"Topic2\", \"Topic2\", \"Topic2\", \"Topic2\", \"Topic2\", \"Topic2\", \"Topic2\", \"Topic2\", \"Topic2\", \"Topic2\", \"Topic2\", \"Topic2\", \"Topic2\", \"Topic2\", \"Topic2\", \"Topic2\", \"Topic2\", \"Topic2\", \"Topic2\", \"Topic2\", \"Topic2\", \"Topic2\", \"Topic2\", \"Topic2\", \"Topic2\", \"Topic2\", \"Topic3\", \"Topic3\", \"Topic3\", \"Topic3\", \"Topic3\", \"Topic3\", \"Topic3\", \"Topic3\", \"Topic3\", \"Topic3\", \"Topic3\", \"Topic3\", \"Topic3\", \"Topic3\", \"Topic3\", \"Topic3\", \"Topic3\", \"Topic3\", \"Topic3\", \"Topic3\", \"Topic3\", \"Topic3\", \"Topic3\", \"Topic3\", \"Topic3\", \"Topic3\", \"Topic3\", \"Topic3\", \"Topic3\", \"Topic3\", \"Topic3\", \"Topic3\", \"Topic3\", \"Topic3\", \"Topic3\", \"Topic3\", \"Topic3\", \"Topic3\", \"Topic3\", \"Topic3\", \"Topic3\", \"Topic3\", \"Topic3\", \"Topic3\", \"Topic3\", \"Topic3\", \"Topic3\", \"Topic3\", \"Topic3\", \"Topic3\", \"Topic3\", \"Topic3\", \"Topic3\", \"Topic3\", \"Topic3\", \"Topic3\", \"Topic3\", \"Topic3\", \"Topic3\", \"Topic3\", \"Topic3\", \"Topic3\", \"Topic3\", \"Topic3\", \"Topic4\", \"Topic4\", \"Topic4\", \"Topic4\", \"Topic4\", \"Topic4\", \"Topic4\", \"Topic4\", \"Topic4\", \"Topic4\", \"Topic4\", \"Topic4\", \"Topic4\", \"Topic4\", \"Topic4\", \"Topic4\", \"Topic4\", \"Topic4\", \"Topic4\", \"Topic4\", \"Topic4\", \"Topic4\", \"Topic4\", \"Topic4\", \"Topic4\", \"Topic4\", \"Topic4\", \"Topic4\", \"Topic4\", \"Topic4\", \"Topic4\", \"Topic4\", \"Topic4\", \"Topic4\", \"Topic4\", \"Topic4\", \"Topic4\", \"Topic4\", \"Topic4\", \"Topic4\", \"Topic4\", \"Topic4\", \"Topic4\", \"Topic4\", \"Topic4\", \"Topic4\", \"Topic4\", \"Topic4\", \"Topic4\", \"Topic4\", \"Topic4\", \"Topic4\", \"Topic4\", \"Topic4\", \"Topic4\", \"Topic4\", \"Topic4\", \"Topic4\", \"Topic4\", \"Topic4\", \"Topic4\", \"Topic4\", \"Topic4\", \"Topic4\", \"Topic4\", \"Topic4\", \"Topic4\", \"Topic4\", \"Topic4\", \"Topic4\", \"Topic5\", \"Topic5\", \"Topic5\", \"Topic5\", \"Topic5\", \"Topic5\", \"Topic5\", \"Topic5\", \"Topic5\", \"Topic5\", \"Topic5\", \"Topic5\", \"Topic5\", \"Topic5\", \"Topic5\", \"Topic5\", \"Topic5\", \"Topic5\", \"Topic5\", \"Topic5\", \"Topic5\", \"Topic5\", \"Topic5\", \"Topic5\", \"Topic5\", \"Topic5\", \"Topic5\", \"Topic5\", \"Topic5\", \"Topic5\", \"Topic5\", \"Topic5\", \"Topic5\", \"Topic5\", \"Topic5\", \"Topic5\", \"Topic5\", \"Topic5\", \"Topic5\", \"Topic5\", \"Topic5\", \"Topic5\", \"Topic5\", \"Topic5\", \"Topic5\", \"Topic5\", \"Topic5\", \"Topic5\", \"Topic5\", \"Topic5\", \"Topic5\", \"Topic5\", \"Topic5\", \"Topic5\", \"Topic5\", \"Topic5\", \"Topic5\", \"Topic5\", \"Topic5\", \"Topic5\", \"Topic5\", \"Topic5\", \"Topic5\", \"Topic5\", \"Topic5\", \"Topic5\", \"Topic5\", \"Topic5\", \"Topic5\", \"Topic5\"], \"logprob\": [30.0, 29.0, 28.0, 27.0, 26.0, 25.0, 24.0, 23.0, 22.0, 21.0, 20.0, 19.0, 18.0, 17.0, 16.0, 15.0, 14.0, 13.0, 12.0, 11.0, 10.0, 9.0, 8.0, 7.0, 6.0, 5.0, 4.0, 3.0, 2.0, 1.0, -6.698699951171875, -6.698999881744385, -6.69950008392334, -6.700099945068359, -6.783400058746338, -7.073200225830078, -7.073299884796143, -7.073400020599365, -7.073500156402588, -7.073599815368652, -7.073599815368652, -7.073599815368652, -7.073599815368652, -7.073599815368652, -7.073699951171875, -7.073800086975098, -7.073800086975098, -7.073800086975098, -7.073800086975098, -7.073800086975098, -7.073800086975098, -7.07390022277832, -7.07390022277832, -7.073999881744385, -7.073999881744385, -7.0742998123168945, -7.07450008392334, -7.07480001449585, -7.077300071716309, -5.807700157165527, -6.426799774169922, -6.50629997253418, -5.975800037384033, -5.260799884796143, -4.1219000816345215, -5.720399856567383, -5.848199844360352, -6.42710018157959, -6.426300048828125, -6.342700004577637, -5.156700134277344, -6.69920015335083, -5.887400150299072, -6.699399948120117, -6.698500156402588, -6.5696001052856445, -6.085700035095215, -6.475399971008301, -6.09630012512207, -5.774600028991699, -4.742499828338623, -5.7769999504089355, -6.256400108337402, -6.506800174713135, -5.791200160980225, -5.3292999267578125, -5.267099857330322, -5.340199947357178, -4.945899963378906, -5.882699966430664, -5.23799991607666, -5.382800102233887, -5.939499855041504, -6.103000164031982, -5.629799842834473, -6.240099906921387, -5.9390997886657715, -6.090799808502197, -5.963099956512451, -5.741300106048584, -5.860199928283691, -5.894199848175049, -6.037399768829346, -6.382299900054932, -6.654099941253662, -6.654300212860107, -6.6545000076293945, -7.028600215911865, -7.028600215911865, -7.02869987487793, -7.028900146484375, -7.028900146484375, -7.0289998054504395, -7.0289998054504395, -7.029300212860107, -7.029300212860107, -7.029300212860107, -7.029399871826172, -7.0295000076293945, -7.0295000076293945, -7.029600143432617, -7.029900074005127, -7.029900074005127, -7.030099868774414, -7.030300140380859, -7.0304999351501465, -7.031300067901611, -6.7642998695373535, -7.059700012207031, -7.06220006942749, -7.062699794769287, -7.0644001960754395, -6.382299900054932, -6.5680999755859375, -5.980199813842773, -6.80709981918335, -5.992199897766113, -5.67140007019043, -5.124800205230713, -5.68179988861084, -6.382400035858154, -5.597700119018555, -6.654099941253662, -4.305500030517578, -5.031700134277344, -5.668000221252441, -6.195899963378906, -4.961599826812744, -5.668799877166748, -6.3815999031066895, -5.3881001472473145, -5.361499786376953, -5.369500160217285, -6.700699806213379, -4.915200233459473, -5.053199768066406, -5.466100215911865, -5.390399932861328, -5.554800033569336, -6.168700218200684, -6.120100021362305, -5.953700065612793, -6.1209001541137695, -6.167200088500977, -6.167699813842773, -6.015500068664551, -6.167300224304199, -6.18720006942749, -6.305799961090088, -5.9552001953125, -6.95959997177124, -6.959799766540527, -6.95989990234375, -6.95989990234375, -6.960000038146973, -6.960100173950195, -6.96019983291626, -6.960299968719482, -6.960299968719482, -6.960299968719482, -6.960400104522705, -6.9604997634887695, -6.9604997634887695, -6.960899829864502, -6.960999965667725, -6.960999965667725, -6.960999965667725, -6.96150016784668, -6.274099826812744, -6.682300090789795, -6.709700107574463, -6.710700035095215, -6.490300178527832, -6.720300197601318, -7.008999824523926, -6.1803998947143555, -7.042399883270264, -6.36929988861084, -7.079599857330322, -6.585400104522705, -6.4095001220703125, -5.771699905395508, -5.2220001220703125, -4.721799850463867, -6.418099880218506, -5.1595001220703125, -5.3180999755859375, -5.665800094604492, -6.312399864196777, -5.96619987487793, -5.774199962615967, -6.474800109863281, -5.061999797821045, -5.910299777984619, -5.250999927520752, -5.894899845123291, -6.57420015335083, -6.231900215148926, -5.997000217437744, -5.973499774932861, -4.922999858856201, -5.561800003051758, -5.929599761962891, -5.653600215911865, -5.630099773406982, -5.610199928283691, -6.0929999351501465, -6.098400115966797, -5.969299793243408, -6.151100158691406, -6.1427998542785645, -5.996799945831299, -6.146299839019775, -6.3196001052856445, -6.591300010681152, -6.591599941253662, -6.591599941253662, -6.449699878692627, -6.966000080108643, -6.966100215911865, -6.966100215911865, -6.96619987487793, -6.96619987487793, -6.96619987487793, -6.966300010681152, -6.966300010681152, -6.966300010681152, -6.966300010681152, -6.966300010681152, -6.966300010681152, -6.966400146484375, -6.9664998054504395, -6.9664998054504395, -6.9664998054504395, -6.966599941253662, -6.966700077056885, -6.966800212860107, -6.966899871826172, -6.966899871826172, -6.966899871826172, -6.966899871826172, -6.966899871826172, -6.9670000076293945, -6.351600170135498, -5.929900169372559, -6.737199783325195, -6.119200229644775, -6.747300148010254, -5.917099952697754, -6.591800212860107, -5.602099895477295, -5.78410005569458, -6.591700077056885, -6.591800212860107, -6.110300064086914, -4.614099979400635, -6.6092000007629395, -4.764800071716309, -5.799099922180176, -6.310100078582764, -6.252299785614014, -5.3267998695373535, -5.512700080871582, -6.176199913024902, -5.269000053405762, -6.105100154876709, -5.52209997177124, -6.59089994430542, -5.939599990844727, -5.534299850463867, -5.59060001373291, -5.647900104522705, -6.319499969482422, -6.073599815368652, -5.956200122833252, -5.84250020980835, -5.439300060272217, -6.338200092315674, -6.123899936676025, -6.09119987487793, -6.088200092315674, -6.1956000328063965, -6.317599773406982, -6.271299839019775, -6.543000221252441, -6.5432000160217285, -6.5441999435424805, -5.987100124359131, -6.057700157165527, -6.625199794769287, -6.917300224304199, -6.917300224304199, -6.917500019073486, -6.917600154876709, -6.917600154876709, -6.917699813842773, -6.917699813842773, -6.917699813842773, -6.917699813842773, -6.917699813842773, -6.917900085449219, -6.917900085449219, -6.918099880218506, -6.918099880218506, -6.9182000160217285, -6.9182000160217285, -6.9182000160217285, -6.918300151824951, -6.918300151824951, -6.918399810791016, -6.918499946594238, -6.921800136566162, -6.922399997711182, -6.271100044250488, -5.486800193786621, -5.867300033569336, -6.542500019073486, -5.730899810791016, -6.543099880218506, -6.542799949645996, -4.941999912261963, -5.881700038909912, -5.028900146484375, -4.317800045013428, -4.9446001052856445, -6.172399997711182, -6.270899772644043, -5.557400226593018, -5.885000228881836, -6.156199932098389, -6.4822001457214355, -6.73769998550415, -6.056700229644775, -6.309299945831299, -5.8445000648498535, -5.648600101470947, -5.336999893188477, -5.636099815368652, -5.979000091552734, -5.8302998542785645, -5.97790002822876, -5.220399856567383, -5.548600196838379, -6.057300090789795, -6.272200107574463, -5.656099796295166, -6.135200023651123, -5.790599822998047, -6.0131001472473145, -5.878300189971924, -5.889800071716309, -6.056300163269043, -6.056000232696533], \"loglift\": [30.0, 29.0, 28.0, 27.0, 26.0, 25.0, 24.0, 23.0, 22.0, 21.0, 20.0, 19.0, 18.0, 17.0, 16.0, 15.0, 14.0, 13.0, 12.0, 11.0, 10.0, 9.0, 8.0, 7.0, 6.0, 5.0, 4.0, 3.0, 2.0, 1.0, 1.2741999626159668, 1.273900032043457, 1.2733999490737915, 1.2727999687194824, 1.1914000511169434, 1.190500020980835, 1.1904000043869019, 1.1904000043869019, 1.1901999711990356, 1.1901999711990356, 1.1901999711990356, 1.1900999546051025, 1.1900999546051025, 1.1900999546051025, 1.1900999546051025, 1.190000057220459, 1.190000057220459, 1.1899000406265259, 1.1899000406265259, 1.1899000406265259, 1.1899000406265259, 1.1899000406265259, 1.1899000406265259, 1.1898000240325928, 1.1898000240325928, 1.1894999742507935, 1.1892999410629272, 1.1890000104904175, 1.1866999864578247, 1.1546000242233276, 1.1425000429153442, 1.0729000568389893, 0.9078999757766724, 0.7139000296592712, 0.3785000145435333, 0.8237000107765198, 0.8246999979019165, 0.996999979019165, 0.9929999709129333, 0.9487000107765198, 0.5339000225067139, 1.0634000301361084, 0.775600016117096, 1.0605000257492065, 1.056399941444397, 1.0039000511169434, 0.8065000176429749, 0.9516000151634216, 0.7961000204086304, 0.6581000089645386, 0.18379999697208405, 0.6107000112533569, 0.815500020980835, 0.9172999858856201, 0.5468000173568726, 0.26759999990463257, 0.23010000586509705, 0.2590000033378601, 0.00989999994635582, 0.5482000112533569, 0.0032999999821186066, 0.03359999880194664, 0.5015000104904175, 0.6355000138282776, 0.1145000010728836, 0.7416999936103821, 0.26919999718666077, 0.4530999958515167, 0.16220000386238098, -0.33869999647140503, -0.2498999983072281, -0.20180000364780426, 0.13580000400543213, 1.3942999839782715, 1.3458000421524048, 1.3456000089645386, 1.3453999757766724, 1.2591999769210815, 1.2591999769210815, 1.2590999603271484, 1.2589000463485718, 1.2589000463485718, 1.2588000297546387, 1.2587000131607056, 1.2584999799728394, 1.2584999799728394, 1.2584999799728394, 1.2583999633789062, 1.2582999467849731, 1.2582999467849731, 1.2582000494003296, 1.2578999996185303, 1.2578999996185303, 1.257699966430664, 1.2575000524520874, 1.2573000192642212, 1.256500005722046, 1.2365000247955322, 1.2283999919891357, 1.2259999513626099, 1.2254999876022339, 1.2238999605178833, 1.205899953842163, 1.2055000066757202, 1.0993000268936157, 1.194700002670288, 1.0913000106811523, 1.0033999681472778, 0.82669997215271, 0.8700000047683716, 1.0578999519348145, 0.791100025177002, 1.1303000450134277, 0.19480000436306, 0.3847000002861023, 0.6686000227928162, 0.8924000263214111, 0.27959999442100525, 0.57669997215271, 0.9243000149726868, 0.3562000095844269, 0.33079999685287476, 0.3140999972820282, 1.0676000118255615, 0.011099999770522118, -0.09740000218153, 0.1331000030040741, 0.012199999764561653, 0.042100001126527786, 0.5763000249862671, 0.37720000743865967, 0.10740000009536743, 0.3098999857902527, 0.3765999972820282, 0.22200000286102295, -0.5182999968528748, -0.19259999692440033, -0.5769000053405762, 0.4553000032901764, 1.3437999486923218, 1.3245999813079834, 1.3243999481201172, 1.3243000507354736, 1.3243000507354736, 1.3242000341415405, 1.3241000175476074, 1.3241000175476074, 1.3240000009536743, 1.3240000009536743, 1.3238999843597412, 1.323799967765808, 1.323799967765808, 1.323799967765808, 1.3234000205993652, 1.3233000040054321, 1.323199987411499, 1.323199987411499, 1.3228000402450562, 1.3193000555038452, 1.3140000104904175, 1.2867000102996826, 1.2856999635696411, 1.2777999639511108, 1.2762000560760498, 1.2745000123977661, 1.2590999603271484, 1.2421000003814697, 1.2222000360488892, 1.2021000385284424, 1.1957999467849731, 1.1791000366210938, 0.782800018787384, 0.47040000557899475, 0.20440000295639038, 1.024899959564209, 0.24310000240802765, 0.27880001068115234, 0.4593999981880188, 0.8792999982833862, 0.6381999850273132, 0.4341000020503998, 0.9605000019073486, -0.10610000044107437, 0.5260000228881836, -0.009700000286102295, 0.49480000138282776, 1.0241999626159668, 0.7519000172615051, 0.5551999807357788, 0.5238000154495239, -0.42260000109672546, 0.12880000472068787, 0.4593000113964081, 0.029999999329447746, -0.01979999989271164, -0.11309999972581863, 0.4634000062942505, 0.34220001101493835, -0.22499999403953552, 0.295199990272522, 0.2013999968767166, -0.3977000117301941, -0.7300000190734863, 1.4701999425888062, 1.4210000038146973, 1.420699954032898, 1.420699954032898, 1.3379000425338745, 1.332800030708313, 1.3327000141143799, 1.3327000141143799, 1.3325999975204468, 1.3325999975204468, 1.3325999975204468, 1.3325999975204468, 1.3325999975204468, 1.3325999975204468, 1.3324999809265137, 1.3324999809265137, 1.3324999809265137, 1.3324999809265137, 1.3322999477386475, 1.3322999477386475, 1.3322999477386475, 1.332200050354004, 1.3321000337600708, 1.3320000171661377, 1.3319000005722046, 1.3319000005722046, 1.3319000005722046, 1.3319000005722046, 1.3319000005722046, 1.3319000005722046, 1.2462999820709229, 1.0699000358581543, 1.2692999839782715, 1.0780999660491943, 1.2634999752044678, 0.9771000146865845, 1.2027000188827515, 0.8464999794960022, 0.9006999731063843, 1.1936999559402466, 1.193600058555603, 0.9890000224113464, 0.3418000042438507, 1.1741000413894653, 0.16140000522136688, 0.6486999988555908, 0.8907999992370605, 0.8342000246047974, 0.08950000256299973, 0.23160000145435333, 0.7160999774932861, -0.027699999511241913, 0.6556000113487244, 0.1615000069141388, 1.0154999494552612, 0.45010000467300415, 0.0649000033736229, 0.01979999989271164, 0.04450000077486038, 0.7667999863624573, 0.31520000100135803, 0.10490000247955322, -0.1518000066280365, -0.9388999938964844, 0.6571000218391418, -0.17239999771118164, -0.593999981880188, -0.6855999827384949, -0.022299999371170998, 0.17970000207424164, 1.5368000268936157, 1.4864000082015991, 1.486199975013733, 1.4851000308990479, 1.483199954032898, 1.4104000329971313, 1.3992999792099, 1.3968000411987305, 1.3967000246047974, 1.3964999914169312, 1.3964999914169312, 1.396399974822998, 1.396399974822998, 1.396399974822998, 1.396399974822998, 1.396399974822998, 1.396299958229065, 1.3961000442504883, 1.3961000442504883, 1.3960000276565552, 1.395900011062622, 1.395799994468689, 1.395799994468689, 1.395799994468689, 1.395799994468689, 1.3956999778747559, 1.3955999612808228, 1.3955999612808228, 1.392199993133545, 1.3916000127792358, 1.3494000434875488, 1.284000039100647, 1.1477999687194824, 1.2611000537872314, 0.9570000171661377, 1.25600004196167, 1.249899983406067, 0.5551999807357788, 0.9545000195503235, 0.5813999772071838, 0.18250000476837158, 0.4578999876976013, 1.0268000364303589, 1.0505000352859497, 0.6158000230789185, 0.8007000088691711, 0.9365000128746033, 1.1328999996185303, 1.2861000299453735, 0.8539999723434448, 1.0111000537872314, 0.710099995136261, 0.5597000122070312, 0.3465999960899353, 0.42500001192092896, 0.7103999853134155, 0.5573999881744385, 0.6467000246047974, -0.2644999921321869, -0.13230000436306, 0.6155999898910522, 0.921500027179718, -0.4147999882698059, 0.6258999705314636, -0.19370000064373016, 0.3310999870300293, -0.1876000016927719, -0.2906000018119812, 0.38999998569488525, 0.38499999046325684]}, \"token.table\": {\"Topic\": [4, 4, 1, 1, 3, 4, 5, 1, 1, 2, 3, 4, 5, 5, 1, 1, 1, 3, 5, 1, 2, 4, 1, 2, 3, 4, 5, 2, 5, 1, 2, 3, 4, 5, 4, 5, 1, 2, 3, 1, 2, 3, 5, 4, 4, 1, 2, 3, 4, 5, 1, 2, 3, 4, 5, 1, 2, 3, 4, 5, 1, 2, 3, 4, 5, 4, 3, 1, 5, 1, 1, 2, 3, 4, 5, 1, 2, 3, 4, 5, 1, 4, 1, 3, 5, 1, 3, 5, 4, 2, 4, 1, 2, 3, 4, 5, 5, 1, 2, 3, 4, 5, 1, 2, 3, 4, 5, 4, 2, 5, 2, 3, 1, 2, 3, 4, 2, 3, 4, 1, 2, 3, 4, 5, 2, 1, 2, 5, 3, 1, 1, 3, 4, 5, 5, 3, 1, 2, 5, 5, 2, 1, 2, 3, 4, 5, 2, 4, 2, 1, 2, 3, 5, 5, 2, 1, 4, 1, 3, 4, 5, 3, 4, 1, 1, 2, 4, 5, 3, 1, 3, 2, 5, 3, 5, 1, 2, 3, 4, 5, 3, 3, 4, 1, 2, 3, 4, 5, 5, 2, 3, 4, 5, 2, 5, 1, 2, 5, 2, 3, 5, 1, 5, 3, 4, 2, 1, 1, 2, 1, 1, 2, 3, 4, 5, 3, 3, 1, 3, 4, 5, 1, 2, 3, 4, 5, 3, 4, 2, 1, 2, 3, 2, 5, 2, 2, 4, 3, 3, 1, 2, 3, 4, 3, 1, 3, 4, 5, 4, 3, 1, 3, 4, 5, 1, 4, 2, 3, 4, 5, 1, 2, 3, 5, 4, 2, 1, 1, 2, 3, 4, 5, 1, 2, 2, 5, 4, 5, 2, 2, 5, 1, 3, 4, 5, 5, 3, 1, 4, 5, 1, 3, 5, 1, 2, 3, 4, 5, 3, 3, 4, 4, 5, 4, 1, 2, 3, 4, 5, 4, 3, 5, 2, 4, 1, 3, 4, 5, 1, 2, 3, 4, 5, 1, 2, 3, 4, 1, 2, 3, 4, 5, 1, 3, 4, 1, 2, 4, 5, 1, 2, 3, 4, 5, 2, 4, 5, 1, 2, 3, 4, 5, 2, 1, 2, 2, 2, 3, 4, 5, 2, 1, 2, 3, 5, 1, 3, 4, 2, 4, 1, 2, 5, 1, 2, 3, 4, 5, 1, 2, 3, 4, 5, 1, 3, 4, 5, 1, 1, 5, 2, 2, 1, 1, 2, 3, 4, 5, 1, 2, 4, 5, 1, 2, 3, 4, 5, 1, 2, 3, 4, 5, 1, 4, 5, 5, 5, 4, 1, 2, 3, 5, 1, 4, 4, 5, 1, 2, 3, 4, 5, 1, 4, 1, 2, 3, 4, 5, 5, 5, 1, 2, 3, 4, 5, 1, 1, 2, 5, 4, 5, 4, 2, 3, 5, 3, 3, 4, 5, 1, 2, 3, 4, 5, 1, 2, 3, 4, 5, 1, 3, 4, 5, 2, 4, 5, 1, 3, 5, 1, 2, 3, 5, 3, 4, 1, 3, 2, 2, 1, 4, 1, 1, 4, 5, 1, 2, 3, 4, 1, 3, 5, 5, 4, 3, 1, 1, 2, 3, 4, 5, 5, 1, 3, 1, 2, 3, 1, 2, 4, 5, 3, 1, 2, 3, 4, 5, 2, 1, 3, 4, 5, 5, 1, 2, 3, 4, 5, 1, 2, 3, 4, 5, 4, 3, 1, 2, 1, 4, 3, 4, 2, 5, 5, 4, 1, 2, 3, 4, 5, 2, 1, 5, 1, 2, 1, 3, 4, 1, 2, 5, 3, 1, 1, 2, 3, 4, 5, 1, 2, 3, 1, 2, 3, 4, 5, 1, 2, 4, 5, 2, 4, 5, 1, 2, 4], \"Freq\": [0.5013228058815002, 0.5013253092765808, 0.9681127667427063, 0.13615353405475616, 0.27230706810951233, 0.4084605872631073, 0.13615353405475616, 0.9681033492088318, 0.21200814843177795, 0.3180122375488281, 0.10600407421588898, 0.10600407421588898, 0.10600407421588898, 0.9207766056060791, 0.9681103229522705, 0.9681046009063721, 0.6270992755889893, 0.2090330868959427, 0.2090330868959427, 0.18574947118759155, 0.5572484135627747, 0.18574947118759155, 0.03667256608605385, 0.2933805286884308, 0.18336284160614014, 0.2200354039669037, 0.25670796632766724, 0.49582791328430176, 0.5090206265449524, 0.2245800644159317, 0.30879759788513184, 0.08421752601861954, 0.1965075582265854, 0.16843505203723907, 0.5013246536254883, 0.5090130567550659, 0.9680992364883423, 0.4960092008113861, 0.49408239126205444, 0.30987855792045593, 0.061975713819265366, 0.30987855792045593, 0.30987855792045593, 0.5013288855552673, 0.5013274550437927, 0.1755506694316864, 0.1755506694316864, 0.3511013388633728, 0.1755506694316864, 0.1755506694316864, 0.27513954043388367, 0.20635466277599335, 0.2407471090555191, 0.22355088591575623, 0.05158866569399834, 0.16613224148750305, 0.2215096652507782, 0.24919836223125458, 0.08306612074375153, 0.27688705921173096, 0.3684011697769165, 0.09210029244422913, 0.3684011697769165, 0.18420058488845825, 0.09210029244422913, 0.9040734171867371, 0.492819219827652, 0.7324044704437256, 0.2441348135471344, 0.9681222438812256, 0.2362273633480072, 0.07874245196580887, 0.07874245196580887, 0.39371225237846375, 0.2362273633480072, 0.16047634184360504, 0.21396847069263458, 0.10698423534631729, 0.21396847069263458, 0.26746058464050293, 0.9680984616279602, 0.7528671026229858, 0.9681095480918884, 0.7427707314491272, 0.5090110301971436, 0.968089759349823, 0.4940809905529022, 0.5090007185935974, 0.5013241171836853, 0.4960220456123352, 0.5013294219970703, 0.28517210483551025, 0.11406884342432022, 0.28517210483551025, 0.17110326886177063, 0.17110326886177063, 0.5090160369873047, 0.3257378041744232, 0.25834378600120544, 0.12355571985244751, 0.0786263719201088, 0.21341443061828613, 0.23025816679000854, 0.19483382999897003, 0.17712166905403137, 0.26568248867988586, 0.14169733226299286, 0.7517510652542114, 0.21892383694648743, 0.8756953477859497, 0.247137650847435, 0.7414129376411438, 0.149149090051651, 0.149149090051651, 0.149149090051651, 0.447447270154953, 0.1656939834356308, 0.4970819652080536, 0.3313879668712616, 0.723757266998291, 0.4482087194919586, 0.1494029015302658, 0.1494029015302658, 0.1494029015302658, 0.4958334267139435, 0.29621395468711853, 0.5924279093742371, 0.14810697734355927, 0.4940812289714813, 0.7237651348114014, 0.42335450649261475, 0.21167725324630737, 0.21167725324630737, 0.21167725324630737, 0.5090069770812988, 0.49408209323883057, 0.18846677243709564, 0.18846677243709564, 0.5654003024101257, 0.5090157985687256, 0.5929850935935974, 0.25729256868362427, 0.385938823223114, 0.192969411611557, 0.192969411611557, 0.06432314217090607, 0.4958270788192749, 0.5013298988342285, 0.495827317237854, 0.3504593074321747, 0.08761482685804367, 0.2628444731235504, 0.3504593074321747, 0.509014904499054, 0.49603694677352905, 0.9681068658828735, 0.5013290047645569, 0.44096317887306213, 0.14698773622512817, 0.14698773622512817, 0.14698773622512817, 0.3000316321849823, 0.6000632643699646, 0.9681093096733093, 0.11611570417881012, 0.11611570417881012, 0.23223140835762024, 0.4644628167152405, 0.49408966302871704, 0.18445134162902832, 0.7378053665161133, 0.25439053773880005, 0.7631715536117554, 0.740912914276123, 0.5090159773826599, 0.17476774752140045, 0.5243032574653625, 0.08738387376070023, 0.08738387376070023, 0.08738387376070023, 0.49408087134361267, 0.639066219329834, 0.42604413628578186, 0.19762571156024933, 0.5928770899772644, 0.09881285578012466, 0.09881285578012466, 0.09881285578012466, 0.7621599435806274, 0.16723324358463287, 0.16723324358463287, 0.5016997456550598, 0.16723324358463287, 0.49582749605178833, 0.5090088248252869, 0.49311113357543945, 0.09862223267555237, 0.2958666980266571, 0.24643699824810028, 0.7393109798431396, 0.5090160369873047, 0.30223169922828674, 0.6044633984565735, 0.497663676738739, 0.2488318383693695, 0.49582675099372864, 0.9681026935577393, 0.9680966734886169, 0.4958317279815674, 0.9680877327919006, 0.3693174421787262, 0.07386349141597748, 0.22159047424793243, 0.14772698283195496, 0.14772698283195496, 0.49408158659935, 0.49408042430877686, 0.3003758490085602, 0.1001252755522728, 0.1001252755522728, 0.5006263852119446, 0.42123109102249146, 0.10530777275562286, 0.10530777275562286, 0.21061554551124573, 0.10530777275562286, 0.49408432841300964, 0.5013303160667419, 0.495828777551651, 0.9682866334915161, 0.49582913517951965, 0.7410266995429993, 0.3807876706123352, 0.7615753412246704, 0.495832234621048, 0.7435744404792786, 0.6013562083244324, 0.49408093094825745, 0.4940759837627411, 0.18497277796268463, 0.29595646262168884, 0.29595646262168884, 0.18497277796268463, 0.4940897226333618, 0.2622450292110443, 0.3496600389480591, 0.08741500973701477, 0.2622450292110443, 0.5013293623924255, 0.4942321479320526, 0.537294328212738, 0.1343235820531845, 0.1343235820531845, 0.268647164106369, 0.9681065082550049, 0.7528665065765381, 0.3231618404388428, 0.21544121205806732, 0.10772060602903366, 0.3231618404388428, 0.4653979539871216, 0.15513265132904053, 0.2326989769935608, 0.2326989769935608, 0.5013258457183838, 0.4958290159702301, 0.9681103229522705, 0.39108404517173767, 0.0782168060541153, 0.0782168060541153, 0.1564336121082306, 0.2346504181623459, 0.29492759704589844, 0.5898551940917969, 0.21844680607318878, 0.6553404331207275, 0.6054614186286926, 0.3027307093143463, 0.49602869153022766, 0.2530444860458374, 0.5060889720916748, 0.29967203736305237, 0.09989067912101746, 0.1997813582420349, 0.3995627164840698, 0.5090054273605347, 0.4940822124481201, 0.4913252294063568, 0.368493914604187, 0.1228313073515892, 0.6288896203041077, 0.2096298784017563, 0.2096298784017563, 0.34672653675079346, 0.2600449025630951, 0.17336326837539673, 0.08668163418769836, 0.08668163418769836, 0.49370500445365906, 0.30003196001052856, 0.6000639200210571, 0.3055178225040436, 0.6110356450080872, 0.5013288855552673, 0.31269729137420654, 0.07817432284355164, 0.31269729137420654, 0.07817432284355164, 0.2345229834318161, 0.5013282895088196, 0.5975133776664734, 0.2987566888332367, 0.29939183592796326, 0.5987836718559265, 0.4449150264263153, 0.22245751321315765, 0.07415249943733215, 0.2966099977493286, 0.1917612999677658, 0.4794032573699951, 0.04794032499194145, 0.14382097125053406, 0.0958806499838829, 0.14847278594970703, 0.4454183578491211, 0.14847278594970703, 0.29694557189941406, 0.08274570852518082, 0.33098283410072327, 0.33098283410072327, 0.24823711812496185, 0.08274570852518082, 0.21140654385089874, 0.4228130877017975, 0.21140654385089874, 0.18794439733028412, 0.18794439733028412, 0.2819165885448456, 0.37588879466056824, 0.2739105820655823, 0.12173803895711899, 0.18260705471038818, 0.09130352735519409, 0.30434510111808777, 0.1510569304227829, 0.4531708061695099, 0.1510569304227829, 0.2502201795578003, 0.12511008977890015, 0.12511008977890015, 0.12511008977890015, 0.37533023953437805, 0.8921695947647095, 0.5820397138595581, 0.29101985692977905, 0.49582839012145996, 0.13675981760025024, 0.13675981760025024, 0.547039270401001, 0.13675981760025024, 0.49582862854003906, 0.5202492475509644, 0.086708202958107, 0.086708202958107, 0.2601246237754822, 0.2691808342933655, 0.4037712514400482, 0.2691808342933655, 0.49583032727241516, 0.501322865486145, 0.3320426344871521, 0.16602131724357605, 0.49806395173072815, 0.23936127126216888, 0.05984031781554222, 0.17952094972133636, 0.17952094972133636, 0.35904189944267273, 0.2005440592765808, 0.1002720296382904, 0.1002720296382904, 0.2005440592765808, 0.4010881185531616, 0.1996234953403473, 0.09981174767017365, 0.49905872344970703, 0.1996234953403473, 0.9681439399719238, 0.5865015387535095, 0.29325076937675476, 0.744299590587616, 0.4958312511444092, 0.7251912951469421, 0.22273078560829163, 0.07424359768629074, 0.29697439074516296, 0.14848719537258148, 0.22273078560829163, 0.6271060705184937, 0.20903535187244415, 0.20903535187244415, 0.5089833736419678, 0.15761710703372955, 0.15761710703372955, 0.07880855351686478, 0.47285130620002747, 0.15761710703372955, 0.23563918471336365, 0.28276702761650085, 0.18851134181022644, 0.18851134181022644, 0.11781959235668182, 0.33387887477874756, 0.16693943738937378, 0.5008183121681213, 0.5090219378471375, 0.5090013742446899, 0.5013272762298584, 0.2818518877029419, 0.42277783155441284, 0.14092594385147095, 0.14092594385147095, 0.4922298789024353, 0.4922298789024353, 0.7528650760650635, 0.7658914923667908, 0.08761090040206909, 0.17522180080413818, 0.43805450201034546, 0.2628327012062073, 0.08761090040206909, 0.9680998921394348, 0.5013291835784912, 0.15725800395011902, 0.07862900197505951, 0.23588700592517853, 0.15725800395011902, 0.23588700592517853, 0.5090031623840332, 0.5090028047561646, 0.4415898025035858, 0.14719660580158234, 0.14719660580158234, 0.09813106805086136, 0.14719660580158234, 0.9681162238121033, 0.2124614715576172, 0.6373844146728516, 0.2124614715576172, 0.5013287663459778, 0.5090130567550659, 0.7485176920890808, 0.4958270788192749, 0.3041542172431946, 0.6083084344863892, 0.7409961819648743, 0.250843346118927, 0.501686692237854, 0.250843346118927, 0.23352816700935364, 0.1556854397058487, 0.3113708794116974, 0.1556854397058487, 0.07784271985292435, 0.48826590180397034, 0.09765318036079407, 0.2929595410823822, 0.09765318036079407, 0.09765318036079407, 0.16661666333675385, 0.16661666333675385, 0.49985000491142273, 0.16661666333675385, 0.4958276152610779, 0.501328706741333, 0.5089742541313171, 0.1500764638185501, 0.3001529276371002, 0.4502294063568115, 0.14869974553585052, 0.5947989821434021, 0.14869974553585052, 0.14869974553585052, 0.49408140778541565, 0.5013266205787659, 0.29488605260849, 0.58977210521698, 0.7435757517814636, 0.49582821130752563, 0.9681095480918884, 0.5013238787651062, 0.9681074023246765, 0.5849282145500183, 0.29246410727500916, 0.5090046525001526, 0.07430243492126465, 0.22290730476379395, 0.2972097396850586, 0.2972097396850586, 0.6088946461677551, 0.2435578554868698, 0.1217789277434349, 0.5090148448944092, 0.5013295412063599, 0.49408361315727234, 0.7237847447395325, 0.3026447296142578, 0.20176316797733307, 0.2690175473690033, 0.06725438684225082, 0.13450877368450165, 0.7658851742744446, 0.7251285314559937, 0.24170951545238495, 0.6586384773254395, 0.1317276954650879, 0.1317276954650879, 0.10877251625061035, 0.10877251625061035, 0.10877251625061035, 0.6526350975036621, 0.49408501386642456, 0.10767833888530731, 0.10767833888530731, 0.10767833888530731, 0.32303503155708313, 0.32303503155708313, 0.7435760498046875, 0.49122512340545654, 0.12280628085136414, 0.12280628085136414, 0.12280628085136414, 0.5090023875236511, 0.30333104729652405, 0.2359241545200348, 0.1348138004541397, 0.20222069323062897, 0.1348138004541397, 0.21299134194850922, 0.21299134194850922, 0.21299134194850922, 0.07099711894989014, 0.28398847579956055, 0.5013303160667419, 0.49408408999443054, 0.6241496205329895, 0.20804986357688904, 0.2487255334854126, 0.7461766004562378, 0.6368448734283447, 0.21228161454200745, 0.5994242429733276, 0.2997121214866638, 0.7658313512802124, 0.5013255476951599, 0.3871251046657562, 0.309700071811676, 0.154850035905838, 0.154850035905838, 0.077425017952919, 0.49582868814468384, 0.7237955927848816, 0.5090090036392212, 0.7281726598739624, 0.24272421002388, 0.5491902828216553, 0.18306341767311096, 0.18306341767311096, 0.18863333761692047, 0.18863333761692047, 0.5658999681472778, 0.7410001754760742, 0.9680901765823364, 0.17040526866912842, 0.10224316269159317, 0.20448632538318634, 0.20448632538318634, 0.3067294955253601, 0.9681004881858826, 0.4958288371562958, 0.4940795302391052, 0.2338119000196457, 0.3117491900920868, 0.1558745950460434, 0.2338119000196457, 0.03896864876151085, 0.29825299978256226, 0.14912649989128113, 0.4473794996738434, 0.14912649989128113, 0.7449620366096497, 0.4166310131549835, 0.555508017539978, 0.24630336463451385, 0.7389100790023804, 0.5013275742530823], \"Term\": [\"acontecer\", \"adiar\", \"adotaram\", \"ajuda\", \"ajuda\", \"ajuda\", \"ajuda\", \"ajudar\", \"alta\", \"alta\", \"alta\", \"alta\", \"alta\", \"alunos\", \"ambiente\", \"amor\", \"ampliado\", \"ampliado\", \"ampliado\", \"andreiasadi\", \"andreiasadi\", \"andreiasadi\", \"anos\", \"anos\", \"anos\", \"anos\", \"anos\", \"apaixonado\", \"aparec\", \"apos\", \"apos\", \"apos\", \"apos\", \"apos\", \"apostar\", \"arrume\", \"assina\", \"assoc\", \"ator\", \"auxilio\", \"auxilio\", \"auxilio\", \"auxilio\", \"banda\", \"bernardinho\", \"blog\", \"blog\", \"blog\", \"blog\", \"blog\", \"bolsonaro\", \"bolsonaro\", \"bolsonaro\", \"bolsonaro\", \"bolsonaro\", \"brasil\", \"brasil\", \"brasil\", \"brasil\", \"brasil\", \"cada\", \"cada\", \"cada\", \"cada\", \"cada\", \"caiu\", \"california\", \"campanha\", \"campanha\", \"cardapio\", \"casa\", \"casa\", \"casa\", \"casa\", \"casa\", \"casos\", \"casos\", \"casos\", \"casos\", \"casos\", \"catarina\", \"causas\", \"causou\", \"ceara\", \"celulares\", \"comecam\", \"comediante\", \"computadores\", \"conclui\", \"conduzem\", \"consequencias\", \"contra\", \"contra\", \"contra\", \"contra\", \"contra\", \"contribuir\", \"coronavirus\", \"coronavirus\", \"coronavirus\", \"coronavirus\", \"coronavirus\", \"covid\", \"covid\", \"covid\", \"covid\", \"covid\", \"cura\", \"dados\", \"dados\", \"decreto\", \"decreto\", \"defende\", \"defende\", \"defende\", \"defende\", \"dentro\", \"dentro\", \"dentro\", \"depoem\", \"depoimento\", \"depoimento\", \"depoimento\", \"depoimento\", \"deputada\", \"desde\", \"desde\", \"desde\", \"determinou\", \"deve\", \"dias\", \"dias\", \"dias\", \"dias\", \"discute\", \"disparar\", \"distanciamento\", \"distanciamento\", \"distanciamento\", \"doloroso\", \"drive\", \"durante\", \"durante\", \"durante\", \"durante\", \"durante\", \"duvida\", \"elizabeth\", \"emendas\", \"emergencial\", \"emergencial\", \"emergencial\", \"emergencial\", \"emprestados\", \"encontrar\", \"ensino\", \"entrar\", \"entregar\", \"entregar\", \"entregar\", \"entregar\", \"entrevista\", \"entrevista\", \"espantem\", \"estado\", \"estado\", \"estado\", \"estado\", \"estresse\", \"estudo\", \"estudo\", \"estudos\", \"estudos\", \"etapa\", \"experiencia\", \"fake\", \"fake\", \"fake\", \"fake\", \"fake\", \"falam\", \"falas\", \"falas\", \"fatooufake\", \"fatooufake\", \"fatooufake\", \"fatooufake\", \"fatooufake\", \"favela\", \"fazem\", \"fazem\", \"fazem\", \"fazem\", \"fechadas\", \"feed\", \"feira\", \"feira\", \"feira\", \"ficar\", \"ficar\", \"filas\", \"final\", \"final\", \"flexibilizacao\", \"flexibilizacao\", \"forca\", \"funcionar\", \"futura\", \"globo\", \"goias\", \"governo\", \"governo\", \"governo\", \"governo\", \"governo\", \"gradual\", \"hora\", \"horas\", \"horas\", \"horas\", \"horas\", \"hospital\", \"hospital\", \"hospital\", \"hospital\", \"hospital\", \"humanos\", \"ibaneis\", \"idosa\", \"igreja\", \"ilustra\", \"inclusao\", \"indicam\", \"indicam\", \"infeccoes\", \"inicio\", \"integra\", \"internacoes\", \"internada\", \"isolamento\", \"isolamento\", \"isolamento\", \"isolamento\", \"jerry\", \"justica\", \"justica\", \"justica\", \"justica\", \"latino\", \"leito\", \"leitos\", \"leitos\", \"leitos\", \"leitos\", \"lewandowski\", \"limite\", \"live\", \"live\", \"live\", \"live\", \"lockdown\", \"lockdown\", \"lockdown\", \"lockdown\", \"luisa\", \"lutodascriancas\", \"luvas\", \"maio\", \"maio\", \"maio\", \"maio\", \"maio\", \"maior\", \"maior\", \"manaus\", \"manaus\", \"manter\", \"manter\", \"mapear\", \"marco\", \"marco\", \"mascaras\", \"mascaras\", \"mascaras\", \"mascaras\", \"maternidade\", \"matou\", \"medida\", \"medida\", \"medida\", \"medo\", \"medo\", \"medo\", \"meio\", \"meio\", \"meio\", \"meio\", \"meio\", \"meme\", \"menor\", \"menor\", \"merval\", \"merval\", \"meuxgyzlre\", \"milhoes\", \"milhoes\", \"milhoes\", \"milhoes\", \"milhoes\", \"milicia\", \"militares\", \"militares\", \"minas\", \"minas\", \"ministerio\", \"ministerio\", \"ministerio\", \"ministerio\", \"ministro\", \"ministro\", \"ministro\", \"ministro\", \"ministro\", \"moro\", \"moro\", \"moro\", \"moro\", \"morre\", \"morre\", \"morre\", \"morre\", \"morre\", \"morrem\", \"morrem\", \"morrem\", \"morte\", \"morte\", \"morte\", \"morte\", \"mortes\", \"mortes\", \"mortes\", \"mortes\", \"mortes\", \"mortos\", \"mortos\", \"mortos\", \"mostram\", \"mostram\", \"mostram\", \"mostram\", \"mostram\", \"mostre\", \"motorista\", \"motorista\", \"muita\", \"mundo\", \"mundo\", \"mundo\", \"mundo\", \"natural\", \"nesta\", \"nesta\", \"nesta\", \"nesta\", \"neste\", \"neste\", \"neste\", \"normalidade\", \"noruega\", \"noticia\", \"noticia\", \"noticia\", \"novo\", \"novo\", \"novo\", \"novo\", \"novo\", \"numero\", \"numero\", \"numero\", \"numero\", \"numero\", \"oassunto\", \"oassunto\", \"oassunto\", \"oassunto\", \"obitos\", \"ocupacao\", \"ocupacao\", \"ontem\", \"orienta\", \"paciente\", \"pacientes\", \"pacientes\", \"pacientes\", \"pacientes\", \"pacientes\", \"pagamento\", \"pagamento\", \"pagamento\", \"pagodinho\", \"pais\", \"pais\", \"pais\", \"pais\", \"pais\", \"pandemia\", \"pandemia\", \"pandemia\", \"pandemia\", \"pandemia\", \"parcela\", \"parcela\", \"parcela\", \"pare\", \"parto\", \"passo\", \"paulo\", \"paulo\", \"paulo\", \"paulo\", \"pede\", \"pede\", \"perdeu\", \"pereira\", \"pessoas\", \"pessoas\", \"pessoas\", \"pessoas\", \"pessoas\", \"plastificado\", \"podcast\", \"pode\", \"pode\", \"pode\", \"pode\", \"pode\", \"postos\", \"preparam\", \"presidente\", \"presidente\", \"presidente\", \"presidente\", \"presidente\", \"previsao\", \"primeiro\", \"primeiro\", \"primeiro\", \"privacidade\", \"professores\", \"provisoria\", \"psicologa\", \"publica\", \"publica\", \"puerperas\", \"quais\", \"quais\", \"quais\", \"quarentena\", \"quarentena\", \"quarentena\", \"quarentena\", \"quarentena\", \"quase\", \"quase\", \"quase\", \"quase\", \"quase\", \"quer\", \"quer\", \"quer\", \"quer\", \"queria\", \"rainha\", \"razao\", \"reais\", \"reais\", \"reais\", \"recebe\", \"recebe\", \"recebe\", \"recebe\", \"receberam\", \"registrados\", \"relaxamento\", \"relaxamento\", \"repercussao\", \"repete\", \"respirar\", \"responde\", \"restaurantes\", \"resultado\", \"resultado\", \"retrato\", \"reuniao\", \"reuniao\", \"reuniao\", \"reuniao\", \"rodizio\", \"rodizio\", \"rodizio\", \"rolar\", \"sabem\", \"sandracoh\", \"santa\", \"saude\", \"saude\", \"saude\", \"saude\", \"saude\", \"secretarias\", \"secretario\", \"secretario\", \"segunda\", \"segunda\", \"segunda\", \"segundo\", \"segundo\", \"segundo\", \"segundo\", \"seinfeld\", \"semana\", \"semana\", \"semana\", \"semana\", \"semana\", \"sendo\", \"sera\", \"sera\", \"sera\", \"sera\", \"sexta\", \"sobre\", \"sobre\", \"sobre\", \"sobre\", \"sobre\", \"social\", \"social\", \"social\", \"social\", \"social\", \"sonza\", \"stiller\", \"suposta\", \"suposta\", \"supremo\", \"supremo\", \"suspeita\", \"suspeita\", \"suspende\", \"suspende\", \"suspensao\", \"tata\", \"teich\", \"teich\", \"teich\", \"teich\", \"teich\", \"tentar\", \"terca\", \"terminar\", \"teste\", \"teste\", \"testes\", \"testes\", \"testes\", \"tratamento\", \"tratamento\", \"tratamento\", \"vacinacao\", \"valer\", \"veja\", \"veja\", \"veja\", \"veja\", \"veja\", \"vencer\", \"venda\", \"vespas\", \"video\", \"video\", \"video\", \"video\", \"video\", \"videos\", \"videos\", \"videos\", \"videos\", \"viram\", \"vitima\", \"vitima\", \"volta\", \"volta\", \"werneck\"]}, \"R\": 30, \"lambda.step\": 0.01, \"plot.opts\": {\"xlab\": \"PC1\", \"ylab\": \"PC2\"}, \"topic.order\": [2, 5, 3, 1, 4]};\n",
              "\n",
              "function LDAvis_load_lib(url, callback){\n",
              "  var s = document.createElement('script');\n",
              "  s.src = url;\n",
              "  s.async = true;\n",
              "  s.onreadystatechange = s.onload = callback;\n",
              "  s.onerror = function(){console.warn(\"failed to load library \" + url);};\n",
              "  document.getElementsByTagName(\"head\")[0].appendChild(s);\n",
              "}\n",
              "\n",
              "if(typeof(LDAvis) !== \"undefined\"){\n",
              "   // already loaded: just create the visualization\n",
              "   !function(LDAvis){\n",
              "       new LDAvis(\"#\" + \"ldavis_el1201397569155081126671432897\", ldavis_el1201397569155081126671432897_data);\n",
              "   }(LDAvis);\n",
              "}else if(typeof define === \"function\" && define.amd){\n",
              "   // require.js is available: use it to load d3/LDAvis\n",
              "   require.config({paths: {d3: \"https://cdnjs.cloudflare.com/ajax/libs/d3/3.5.5/d3.min\"}});\n",
              "   require([\"d3\"], function(d3){\n",
              "      window.d3 = d3;\n",
              "      LDAvis_load_lib(\"https://cdn.rawgit.com/bmabey/pyLDAvis/files/ldavis.v1.0.0.js\", function(){\n",
              "        new LDAvis(\"#\" + \"ldavis_el1201397569155081126671432897\", ldavis_el1201397569155081126671432897_data);\n",
              "      });\n",
              "    });\n",
              "}else{\n",
              "    // require.js not available: dynamically load d3 & LDAvis\n",
              "    LDAvis_load_lib(\"https://cdnjs.cloudflare.com/ajax/libs/d3/3.5.5/d3.min.js\", function(){\n",
              "         LDAvis_load_lib(\"https://cdn.rawgit.com/bmabey/pyLDAvis/files/ldavis.v1.0.0.js\", function(){\n",
              "                 new LDAvis(\"#\" + \"ldavis_el1201397569155081126671432897\", ldavis_el1201397569155081126671432897_data);\n",
              "            })\n",
              "         });\n",
              "}\n",
              "</script>"
            ],
            "text/plain": [
              "PreparedData(topic_coordinates=              x         y  topics  cluster       Freq\n",
              "topic                                                \n",
              "1     -0.020337  0.023408       1        1  22.553162\n",
              "4      0.098816 -0.058161       2        1  20.808878\n",
              "2     -0.025012 -0.033643       3        1  19.524439\n",
              "0     -0.077825 -0.036364       4        1  19.221973\n",
              "3      0.024359  0.104760       5        1  17.891548, topic_info=            Term       Freq      Total Category  logprob  loglift\n",
              "29   coronavirus  89.000000  89.000000  Default  30.0000  30.0000\n",
              "846      segundo   9.000000   9.000000  Default  29.0000  29.0000\n",
              "771       vitima   7.000000   7.000000  Default  28.0000  28.0000\n",
              "882         pede   8.000000   8.000000  Default  27.0000  27.0000\n",
              "129   isolamento  27.000000  27.000000  Default  26.0000  26.0000\n",
              "..           ...        ...        ...      ...      ...      ...\n",
              "132       social   3.509222  14.085079   Topic5  -6.0131   0.3311\n",
              "36       governo   4.015632  27.076977   Topic5  -5.8783  -0.1876\n",
              "103        sobre   3.969695  29.670553   Topic5  -5.8898  -0.2906\n",
              "305         pode   3.360789  12.717954   Topic5  -6.0563   0.3900\n",
              "112         maio   3.361760  12.784976   Topic5  -6.0560   0.3850\n",
              "\n",
              "[373 rows x 6 columns], token_table=      Topic      Freq       Term\n",
              "term                            \n",
              "1723      4  0.501323  acontecer\n",
              "1724      4  0.501325      adiar\n",
              "1079      1  0.968113   adotaram\n",
              "763       1  0.136154      ajuda\n",
              "763       3  0.272307      ajuda\n",
              "...     ...       ...        ...\n",
              "771       4  0.416631     vitima\n",
              "771       5  0.555508     vitima\n",
              "908       1  0.246303      volta\n",
              "908       2  0.738910      volta\n",
              "3346      4  0.501328    werneck\n",
              "\n",
              "[596 rows x 3 columns], R=30, lambda_step=0.01, plot_opts={'xlab': 'PC1', 'ylab': 'PC2'}, topic_order=[2, 5, 3, 1, 4])"
            ]
          },
          "metadata": {
            "tags": []
          },
          "execution_count": 65
        }
      ]
    },
    {
      "cell_type": "code",
      "metadata": {
        "id": "6BEepFq5HQCA",
        "colab_type": "code",
        "outputId": "fb6ce68f-a276-4296-d534-eba3d34ad86e",
        "colab": {
          "base_uri": "https://localhost:8080/",
          "height": 52
        }
      },
      "source": [
        "from gensim.models import CoherenceModel# Compute Coherence Score\n",
        "coherence_model_lda = CoherenceModel(model=lda_model, texts=processed_docs, dictionary=dictionary, coherence='c_v')\n",
        "coherence_lda = coherence_model_lda.get_coherence()\n",
        "print('\\nCoherence Score: ', coherence_lda)"
      ],
      "execution_count": 66,
      "outputs": [
        {
          "output_type": "stream",
          "text": [
            "\n",
            "Coherence Score:  0.46707559162293955\n"
          ],
          "name": "stdout"
        }
      ]
    },
    {
      "cell_type": "code",
      "metadata": {
        "id": "mnQoGSZLy1uL",
        "colab_type": "code",
        "outputId": "5334814c-1487-4221-c6c8-3078f59ec1e1",
        "colab": {
          "base_uri": "https://localhost:8080/",
          "height": 138
        }
      },
      "source": [
        "model_results"
      ],
      "execution_count": 67,
      "outputs": [
        {
          "output_type": "execute_result",
          "data": {
            "text/plain": [
              "{'Coherence': [0.4227547019179222,\n",
              "  0.45919924856865674,\n",
              "  0.4638785297079835,\n",
              "  0.46707559162293955,\n",
              "  0.4583834600970221,\n",
              "  0.4599756710618167],\n",
              " 'Topics': [2, 3, 4, 5, 6, 7]}"
            ]
          },
          "metadata": {
            "tags": []
          },
          "execution_count": 67
        }
      ]
    }
  ]
}