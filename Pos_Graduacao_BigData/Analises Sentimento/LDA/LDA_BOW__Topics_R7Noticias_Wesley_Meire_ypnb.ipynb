{
  "nbformat": 4,
  "nbformat_minor": 0,
  "metadata": {
    "colab": {
      "name": "LDA_BOW._Topics_R7Noticias_Wesley_Meire.ypnb",
      "provenance": [],
      "collapsed_sections": [],
      "toc_visible": true
    },
    "kernelspec": {
      "name": "python3",
      "display_name": "Python 3"
    }
  },
  "cells": [
    {
      "cell_type": "code",
      "metadata": {
        "id": "tlkF-t9jSKOh",
        "colab_type": "code",
        "colab": {}
      },
      "source": [
        "\n",
        "import warnings; \n",
        "warnings.simplefilter('ignore')"
      ],
      "execution_count": 0,
      "outputs": []
    },
    {
      "cell_type": "code",
      "metadata": {
        "id": "FHhsY_YLRSkU",
        "colab_type": "code",
        "outputId": "8addcf4f-abe7-4260-bd4f-357f9f22ce74",
        "colab": {
          "base_uri": "https://localhost:8080/",
          "height": 35
        }
      },
      "source": [
        "pip install unidecode"
      ],
      "execution_count": 2,
      "outputs": [
        {
          "output_type": "stream",
          "text": [
            "Requirement already satisfied: unidecode in /usr/local/lib/python3.6/dist-packages (1.1.1)\n"
          ],
          "name": "stdout"
        }
      ]
    },
    {
      "cell_type": "code",
      "metadata": {
        "id": "lky5Gf1jSGGn",
        "colab_type": "code",
        "outputId": "7db62d62-32a3-45f7-d82f-9a70609d6e85",
        "colab": {
          "base_uri": "https://localhost:8080/",
          "height": 390
        }
      },
      "source": [
        "pip install pyLDAvis"
      ],
      "execution_count": 3,
      "outputs": [
        {
          "output_type": "stream",
          "text": [
            "Requirement already satisfied: pyLDAvis in /usr/local/lib/python3.6/dist-packages (2.1.2)\n",
            "Requirement already satisfied: wheel>=0.23.0 in /usr/local/lib/python3.6/dist-packages (from pyLDAvis) (0.34.2)\n",
            "Requirement already satisfied: joblib>=0.8.4 in /usr/local/lib/python3.6/dist-packages (from pyLDAvis) (0.15.1)\n",
            "Requirement already satisfied: numpy>=1.9.2 in /usr/local/lib/python3.6/dist-packages (from pyLDAvis) (1.18.4)\n",
            "Requirement already satisfied: funcy in /usr/local/lib/python3.6/dist-packages (from pyLDAvis) (1.14)\n",
            "Requirement already satisfied: scipy>=0.18.0 in /usr/local/lib/python3.6/dist-packages (from pyLDAvis) (1.4.1)\n",
            "Requirement already satisfied: jinja2>=2.7.2 in /usr/local/lib/python3.6/dist-packages (from pyLDAvis) (2.11.2)\n",
            "Requirement already satisfied: future in /usr/local/lib/python3.6/dist-packages (from pyLDAvis) (0.16.0)\n",
            "Requirement already satisfied: numexpr in /usr/local/lib/python3.6/dist-packages (from pyLDAvis) (2.7.1)\n",
            "Requirement already satisfied: pandas>=0.17.0 in /usr/local/lib/python3.6/dist-packages (from pyLDAvis) (1.0.3)\n",
            "Requirement already satisfied: pytest in /usr/local/lib/python3.6/dist-packages (from pyLDAvis) (3.6.4)\n",
            "Requirement already satisfied: MarkupSafe>=0.23 in /usr/local/lib/python3.6/dist-packages (from jinja2>=2.7.2->pyLDAvis) (1.1.1)\n",
            "Requirement already satisfied: pytz>=2017.2 in /usr/local/lib/python3.6/dist-packages (from pandas>=0.17.0->pyLDAvis) (2018.9)\n",
            "Requirement already satisfied: python-dateutil>=2.6.1 in /usr/local/lib/python3.6/dist-packages (from pandas>=0.17.0->pyLDAvis) (2.8.1)\n",
            "Requirement already satisfied: py>=1.5.0 in /usr/local/lib/python3.6/dist-packages (from pytest->pyLDAvis) (1.8.1)\n",
            "Requirement already satisfied: six>=1.10.0 in /usr/local/lib/python3.6/dist-packages (from pytest->pyLDAvis) (1.12.0)\n",
            "Requirement already satisfied: setuptools in /usr/local/lib/python3.6/dist-packages (from pytest->pyLDAvis) (46.4.0)\n",
            "Requirement already satisfied: more-itertools>=4.0.0 in /usr/local/lib/python3.6/dist-packages (from pytest->pyLDAvis) (8.3.0)\n",
            "Requirement already satisfied: atomicwrites>=1.0 in /usr/local/lib/python3.6/dist-packages (from pytest->pyLDAvis) (1.4.0)\n",
            "Requirement already satisfied: attrs>=17.4.0 in /usr/local/lib/python3.6/dist-packages (from pytest->pyLDAvis) (19.3.0)\n",
            "Requirement already satisfied: pluggy<0.8,>=0.5 in /usr/local/lib/python3.6/dist-packages (from pytest->pyLDAvis) (0.7.1)\n"
          ],
          "name": "stdout"
        }
      ]
    },
    {
      "cell_type": "code",
      "metadata": {
        "id": "88DAZbHa6seH",
        "colab_type": "code",
        "colab": {}
      },
      "source": [
        "import pandas as pd\n"
      ],
      "execution_count": 0,
      "outputs": []
    },
    {
      "cell_type": "code",
      "metadata": {
        "id": "1I_HOAV69vAH",
        "colab_type": "code",
        "colab": {}
      },
      "source": [
        "diretorio ='/content/tweets_@portalR7.csv'"
      ],
      "execution_count": 0,
      "outputs": []
    },
    {
      "cell_type": "code",
      "metadata": {
        "id": "OEs0CeKSZWPF",
        "colab_type": "code",
        "colab": {}
      },
      "source": [
        "data = pd.read_csv(diretorio, error_bad_lines=False);\n"
      ],
      "execution_count": 0,
      "outputs": []
    },
    {
      "cell_type": "code",
      "metadata": {
        "id": "rkKMYY7t95d2",
        "colab_type": "code",
        "outputId": "01425aba-badf-4cf2-97dd-fda081376ea0",
        "colab": {
          "base_uri": "https://localhost:8080/",
          "height": 295
        }
      },
      "source": [
        "data.head(2)"
      ],
      "execution_count": 7,
      "outputs": [
        {
          "output_type": "execute_result",
          "data": {
            "text/html": [
              "<div>\n",
              "<style scoped>\n",
              "    .dataframe tbody tr th:only-of-type {\n",
              "        vertical-align: middle;\n",
              "    }\n",
              "\n",
              "    .dataframe tbody tr th {\n",
              "        vertical-align: top;\n",
              "    }\n",
              "\n",
              "    .dataframe thead th {\n",
              "        text-align: right;\n",
              "    }\n",
              "</style>\n",
              "<table border=\"1\" class=\"dataframe\">\n",
              "  <thead>\n",
              "    <tr style=\"text-align: right;\">\n",
              "      <th></th>\n",
              "      <th>text</th>\n",
              "      <th>favorited</th>\n",
              "      <th>favoriteCount</th>\n",
              "      <th>replyToSN</th>\n",
              "      <th>created</th>\n",
              "      <th>truncated</th>\n",
              "      <th>replyToSID</th>\n",
              "      <th>id</th>\n",
              "      <th>replyToUID</th>\n",
              "      <th>statusSource</th>\n",
              "      <th>screenName</th>\n",
              "      <th>retweetCount</th>\n",
              "      <th>isRetweet</th>\n",
              "      <th>retweeted</th>\n",
              "      <th>longitude</th>\n",
              "      <th>latitude</th>\n",
              "    </tr>\n",
              "  </thead>\n",
              "  <tbody>\n",
              "    <tr>\n",
              "      <th>0</th>\n",
              "      <td>Mais de um terço de pacientes internados com C...</td>\n",
              "      <td>False</td>\n",
              "      <td>447</td>\n",
              "      <td>NaN</td>\n",
              "      <td>2020-05-16 03:00:00</td>\n",
              "      <td>True</td>\n",
              "      <td>NaN</td>\n",
              "      <td>1.261492e+18</td>\n",
              "      <td>NaN</td>\n",
              "      <td>&lt;a href=\"https://about.twitter.com/products/tw...</td>\n",
              "      <td>g1</td>\n",
              "      <td>85.0</td>\n",
              "      <td>False</td>\n",
              "      <td>False</td>\n",
              "      <td>NaN</td>\n",
              "      <td>NaN</td>\n",
              "    </tr>\n",
              "    <tr>\n",
              "      <th>1</th>\n",
              "      <td>Navio de cruzeiros atracado em Santos, SP, é l...</td>\n",
              "      <td>False</td>\n",
              "      <td>283</td>\n",
              "      <td>NaN</td>\n",
              "      <td>2020-05-16 02:45:00</td>\n",
              "      <td>False</td>\n",
              "      <td>NaN</td>\n",
              "      <td>1.261488e+18</td>\n",
              "      <td>NaN</td>\n",
              "      <td>&lt;a href=\"https://about.twitter.com/products/tw...</td>\n",
              "      <td>g1</td>\n",
              "      <td>15.0</td>\n",
              "      <td>False</td>\n",
              "      <td>False</td>\n",
              "      <td>NaN</td>\n",
              "      <td>NaN</td>\n",
              "    </tr>\n",
              "  </tbody>\n",
              "</table>\n",
              "</div>"
            ],
            "text/plain": [
              "                                                text  ... latitude\n",
              "0  Mais de um terço de pacientes internados com C...  ...      NaN\n",
              "1  Navio de cruzeiros atracado em Santos, SP, é l...  ...      NaN\n",
              "\n",
              "[2 rows x 16 columns]"
            ]
          },
          "metadata": {
            "tags": []
          },
          "execution_count": 7
        }
      ]
    },
    {
      "cell_type": "code",
      "metadata": {
        "id": "R15C5eTR99LU",
        "colab_type": "code",
        "outputId": "4a2c2035-e648-4a95-e8cf-f1aa8c4027a9",
        "colab": {
          "base_uri": "https://localhost:8080/",
          "height": 426
        }
      },
      "source": [
        "data.info()"
      ],
      "execution_count": 8,
      "outputs": [
        {
          "output_type": "stream",
          "text": [
            "<class 'pandas.core.frame.DataFrame'>\n",
            "RangeIndex: 786 entries, 0 to 785\n",
            "Data columns (total 16 columns):\n",
            " #   Column         Non-Null Count  Dtype  \n",
            "---  ------         --------------  -----  \n",
            " 0   text           786 non-null    object \n",
            " 1   favorited      782 non-null    object \n",
            " 2   favoriteCount  786 non-null    object \n",
            " 3   replyToSN      41 non-null     object \n",
            " 4   created        786 non-null    object \n",
            " 5   truncated      786 non-null    bool   \n",
            " 6   replyToSID     35 non-null     object \n",
            " 7   id             782 non-null    float64\n",
            " 8   replyToUID     37 non-null     float64\n",
            " 9   statusSource   782 non-null    object \n",
            " 10  screenName     782 non-null    object \n",
            " 11  retweetCount   782 non-null    float64\n",
            " 12  isRetweet      782 non-null    object \n",
            " 13  retweeted      782 non-null    object \n",
            " 14  longitude      0 non-null      float64\n",
            " 15  latitude       0 non-null      float64\n",
            "dtypes: bool(1), float64(5), object(10)\n",
            "memory usage: 93.0+ KB\n"
          ],
          "name": "stdout"
        }
      ]
    },
    {
      "cell_type": "code",
      "metadata": {
        "id": "aZlsRLK49261",
        "colab_type": "code",
        "colab": {}
      },
      "source": [
        "\n",
        "data_text = data[['text']]\n",
        "data_text['index'] = data_text.index\n",
        "documents = data_text"
      ],
      "execution_count": 0,
      "outputs": []
    },
    {
      "cell_type": "code",
      "metadata": {
        "id": "w_GH2C_f7irg",
        "colab_type": "code",
        "outputId": "314c9ca6-f3f7-46c8-8c67-19119989d8aa",
        "colab": {
          "base_uri": "https://localhost:8080/",
          "height": 141
        }
      },
      "source": [
        "print(len(documents))\n",
        "print(documents[:5])"
      ],
      "execution_count": 10,
      "outputs": [
        {
          "output_type": "stream",
          "text": [
            "786\n",
            "                                                text  index\n",
            "0  Mais de um terço de pacientes internados com C...      0\n",
            "1  Navio de cruzeiros atracado em Santos, SP, é l...      1\n",
            "2  Supostas citações a Witzel em investigação que...      2\n",
            "3  Fernando de Noronha investiga cinco casos susp...      3\n",
            "4  Só em 2020, a empresa recebeu R$ 129 milhões d...      4\n"
          ],
          "name": "stdout"
        }
      ]
    },
    {
      "cell_type": "code",
      "metadata": {
        "id": "h6saJHn07mYp",
        "colab_type": "code",
        "colab": {}
      },
      "source": [
        "import gensim\n",
        "from gensim.utils import simple_preprocess\n",
        "from gensim.parsing.preprocessing import STOPWORDS\n",
        "from nltk.stem import WordNetLemmatizer, SnowballStemmer\n",
        "from nltk.stem.porter import *\n",
        "import numpy as np\n",
        "import nltk\n",
        "import string\n",
        "\n"
      ],
      "execution_count": 0,
      "outputs": []
    },
    {
      "cell_type": "code",
      "metadata": {
        "id": "S2OwBg0g86_R",
        "colab_type": "code",
        "outputId": "d0d5f704-a1a4-4726-c16d-632511481414",
        "colab": {
          "base_uri": "https://localhost:8080/",
          "height": 141
        }
      },
      "source": [
        "# Retire o comentário apenas na primeira vez que executar esse notebook no seu ambiente\n",
        "nltk.download('wordnet')\n",
        "nltk.download('stopwords')\n",
        "nltk.download('rslp')"
      ],
      "execution_count": 12,
      "outputs": [
        {
          "output_type": "stream",
          "text": [
            "[nltk_data] Downloading package wordnet to /root/nltk_data...\n",
            "[nltk_data]   Package wordnet is already up-to-date!\n",
            "[nltk_data] Downloading package stopwords to /root/nltk_data...\n",
            "[nltk_data]   Package stopwords is already up-to-date!\n",
            "[nltk_data] Downloading package rslp to /root/nltk_data...\n",
            "[nltk_data]   Package rslp is already up-to-date!\n"
          ],
          "name": "stdout"
        },
        {
          "output_type": "execute_result",
          "data": {
            "text/plain": [
              "True"
            ]
          },
          "metadata": {
            "tags": []
          },
          "execution_count": 12
        }
      ]
    },
    {
      "cell_type": "markdown",
      "metadata": {
        "id": "-yiZ6F_wpprH",
        "colab_type": "text"
      },
      "source": [
        "## adicionar essas palavras na lista de stop words\n",
        "veja,apos,sobre,globonews,anos,blog,dias,novo,contra,fazem,nesta,feira,sobre,cada,quase,pode,hoje,apos,durante,meio,defende,nesta"
      ]
    },
    {
      "cell_type": "code",
      "metadata": {
        "id": "pMx9bXW8ppLi",
        "colab_type": "code",
        "colab": {}
      },
      "source": [
        ""
      ],
      "execution_count": 0,
      "outputs": []
    },
    {
      "cell_type": "code",
      "metadata": {
        "id": "ge83Yryenlb0",
        "colab_type": "code",
        "colab": {}
      },
      "source": [
        "stopwords_pt = nltk.corpus.stopwords.words('portuguese')\n",
        "custon_stop_words = ['nessa','todo','pra','vou','aqui','se','.',',','lá','vcs','\"\"','\"',':','globonews']\n",
        "\n",
        "custon_stop_words = custon_stop_words +['veja','apos','sobre','globonews','anos','blog','dias','novo','contra','fazem','nesta','feira','sobre','cada'\n",
        ",'quase','pode','hoje','durante','meio','defende','nesta']\n",
        "punctuation = list(string.punctuation)\n",
        "lista_stopwords  =list(set(stopwords_pt + punctuation + custon_stop_words+ ['rt', 'via'] ))\n",
        "\n"
      ],
      "execution_count": 0,
      "outputs": []
    },
    {
      "cell_type": "code",
      "metadata": {
        "id": "kD6yV2dABFT_",
        "colab_type": "code",
        "colab": {
          "base_uri": "https://localhost:8080/",
          "height": 639
        },
        "outputId": "8ce4854c-27ba-43c6-9854-b521cab76bf0"
      },
      "source": [
        "custon_stop_words"
      ],
      "execution_count": 16,
      "outputs": [
        {
          "output_type": "execute_result",
          "data": {
            "text/plain": [
              "['nessa',\n",
              " 'todo',\n",
              " 'pra',\n",
              " 'vou',\n",
              " 'aqui',\n",
              " 'se',\n",
              " '.',\n",
              " ',',\n",
              " 'lá',\n",
              " 'vcs',\n",
              " '\"\"',\n",
              " '\"',\n",
              " ':',\n",
              " 'globonews',\n",
              " 'veja',\n",
              " 'apos',\n",
              " 'sobre',\n",
              " 'globonews',\n",
              " 'anos',\n",
              " 'blog',\n",
              " 'dias',\n",
              " 'novo',\n",
              " 'contra',\n",
              " 'fazem',\n",
              " 'nesta',\n",
              " 'feira',\n",
              " 'sobre',\n",
              " 'cada',\n",
              " 'quase',\n",
              " 'pode',\n",
              " 'hoje',\n",
              " 'durante',\n",
              " 'meio',\n",
              " 'defende',\n",
              " 'nesta']"
            ]
          },
          "metadata": {
            "tags": []
          },
          "execution_count": 16
        }
      ]
    },
    {
      "cell_type": "code",
      "metadata": {
        "id": "nh1NddIT8HH9",
        "colab_type": "code",
        "colab": {}
      },
      "source": [
        "from nltk.stem.porter import *\n",
        "stemmer = nltk.stem.RSLPStemmer()\n",
        "def lemmatize_stemming(text):\n",
        "    return stemmer.stem(WordNetLemmatizer().lemmatize(text, pos='v'))"
      ],
      "execution_count": 0,
      "outputs": []
    },
    {
      "cell_type": "code",
      "metadata": {
        "id": "843q5N_WGvdy",
        "colab_type": "code",
        "colab": {}
      },
      "source": [
        "def remove_caracteres_especiais(texto):\n",
        "    punctuations = '''!()-![]{};:+'\"\\,<>./?@#$%^&*_~'''\n",
        "    remove = ''.join([i for i in texto if not i in punctuations])\n",
        "    remove_1 =  re.sub(r\" ?\\([^)]+\\)\", \"\", remove)\n",
        "    remove_2 =''.join(remove_1).replace(\"'\", \" \")\n",
        "    remove_3 =''.join(remove_2).replace(\"[\", \" \")\n",
        "    remove_4 =''.join(remove_3).replace(\"]\", \" \")\n",
        "    return str(remove_4)    "
      ],
      "execution_count": 0,
      "outputs": []
    },
    {
      "cell_type": "code",
      "metadata": {
        "id": "4QiIcZqGgTZd",
        "colab_type": "code",
        "colab": {}
      },
      "source": [
        "def isVogal(texto):\n",
        "  vogais = ['a', 'e', 'i', 'o', 'u']\n",
        "  temVogal =False\n",
        "    \n",
        "  for c in texto.lower():\n",
        "    if c in vogais:\n",
        "        temVogal = True\n",
        "        break\n",
        "\n",
        "  return temVogal;\n",
        "  "
      ],
      "execution_count": 0,
      "outputs": []
    },
    {
      "cell_type": "code",
      "metadata": {
        "id": "5CFVEFjAhLrO",
        "colab_type": "code",
        "outputId": "1d7a47af-51d3-41ca-ef42-ac2b0d87c23b",
        "colab": {
          "base_uri": "https://localhost:8080/",
          "height": 35
        }
      },
      "source": [
        "isVogal(\"STF\")"
      ],
      "execution_count": 0,
      "outputs": [
        {
          "output_type": "execute_result",
          "data": {
            "text/plain": [
              "False"
            ]
          },
          "metadata": {
            "tags": []
          },
          "execution_count": 70
        }
      ]
    },
    {
      "cell_type": "code",
      "metadata": {
        "id": "VvBeFwRW_7en",
        "colab_type": "code",
        "colab": {}
      },
      "source": [
        "def remove_url(txt):\n",
        "    return re.sub(r'http\\S+', '', txt)"
      ],
      "execution_count": 0,
      "outputs": []
    },
    {
      "cell_type": "code",
      "metadata": {
        "id": "UCTfjPbM747e",
        "colab_type": "code",
        "colab": {}
      },
      "source": [
        "from unidecode import unidecode\n",
        "def preprocess(text):\n",
        "    result = []\n",
        "    for token in gensim.utils.simple_preprocess(text):\n",
        "      palavra  = remove_url(token)\n",
        "      palavra  = remove_caracteres_especiais(palavra)\n",
        "      palavra = unidecode(palavra.lower())\n",
        "\n",
        "      if palavra not in stopwords_pt and len(palavra) > 3:\n",
        "        # if(isVogal(palavra)):\n",
        "        result.append(palavra) # Sem tratamentos\n",
        "            # result.append(lemmatize_stemming(unidecode(token.lower()))) #Todas minúsculas, sem acentos e radical\n",
        "\n",
        "    return result"
      ],
      "execution_count": 0,
      "outputs": []
    },
    {
      "cell_type": "code",
      "metadata": {
        "id": "cSErUEpwCfUM",
        "colab_type": "code",
        "colab": {}
      },
      "source": [
        "# supporting function\n",
        "def compute_coherence_values(corpus, dictionary, k):\n",
        "    np.random.seed(2018)\n",
        "    lda_model = gensim.models.LdaMulticore(corpus, num_topics=k, id2word=dictionary)\n",
        "    coherence_model_lda = CoherenceModel(model=lda_model, texts=processed_docs, dictionary=dictionary, coherence='c_v')\n",
        "    return coherence_model_lda.get_coherence()\n"
      ],
      "execution_count": 0,
      "outputs": []
    },
    {
      "cell_type": "code",
      "metadata": {
        "id": "zMoFPuSj8SPe",
        "colab_type": "code",
        "outputId": "5beb8ce9-1391-4cd1-ece2-bf4d1041fc2d",
        "colab": {
          "base_uri": "https://localhost:8080/",
          "height": 144
        }
      },
      "source": [
        "doc_sample = documents[documents['index'] == 50].values[0][0]\n",
        "print('original document: ')\n",
        "words = []\n",
        "for word in doc_sample.split(' '):\n",
        "    words.append(word)\n",
        "print(words)\n",
        "print('\\n\\n tokenized and lemmatized document: ')\n",
        "print(preprocess(doc_sample))"
      ],
      "execution_count": 20,
      "outputs": [
        {
          "output_type": "stream",
          "text": [
            "original document: \n",
            "['@ValdoCruz', '@gcamarotti', '#Pronunciamento', '-', \"'A\", 'vida', 'é', 'feita', 'de', 'escolhas.', 'E', 'hoje', 'eu', 'escolhi', \"sair',\", 'afirma', 'Nelson', 'Teich…', 'https://t.co/kQBM4XZgZX']\n",
            "\n",
            "\n",
            " tokenized and lemmatized document: \n",
            "['valdocruz', 'gcamarotti', 'pronunciamento', 'vida', 'feita', 'escolhas', 'hoje', 'escolhi', 'sair', 'afirma', 'nelson', 'teich', 'kqbm', 'xzgzx']\n"
          ],
          "name": "stdout"
        }
      ]
    },
    {
      "cell_type": "code",
      "metadata": {
        "id": "tzSHWxDa9il2",
        "colab_type": "code",
        "outputId": "69d6d08e-0fc7-4662-964e-50dbc362d149",
        "colab": {
          "base_uri": "https://localhost:8080/",
          "height": 212
        }
      },
      "source": [
        "processed_docs = documents['text'].map(preprocess)\n",
        "processed_docs[:10]"
      ],
      "execution_count": 21,
      "outputs": [
        {
          "output_type": "execute_result",
          "data": {
            "text/plain": [
              "0    [terco, pacientes, internados, covid, apresent...\n",
              "1    [navio, cruzeiros, atracado, santos, liberado,...\n",
              "2    [supostas, citacoes, witzel, investigacao, pre...\n",
              "3    [fernando, noronha, investiga, cinco, casos, s...\n",
              "4    [empresa, recebeu, milhoes, governo, fluminens...\n",
              "5    [tres, medicos, piloto, morrem, queda, aviao, ...\n",
              "6    [mantem, escolas, fechadas, adia, pagamento, t...\n",
              "7    [justica, condena, filho, mafia, capturados, f...\n",
              "8    [argentina, desenvolve, teste, rapido, detecta...\n",
              "9    [parque, animais, japao, reabre, publico, visi...\n",
              "Name: text, dtype: object"
            ]
          },
          "metadata": {
            "tags": []
          },
          "execution_count": 21
        }
      ]
    },
    {
      "cell_type": "code",
      "metadata": {
        "id": "iw8URTIg9rU0",
        "colab_type": "code",
        "outputId": "7b749779-0b59-410c-d8f5-5b08f1f69a6f",
        "colab": {
          "base_uri": "https://localhost:8080/",
          "height": 390
        }
      },
      "source": [
        "dictionary = gensim.corpora.Dictionary(processed_docs)\n",
        "count = 0\n",
        "for k, v in dictionary.iteritems():\n",
        "    print(k, v)\n",
        "    count += 1\n",
        "    if count > 20:\n",
        "        break"
      ],
      "execution_count": 22,
      "outputs": [
        {
          "output_type": "stream",
          "text": [
            "0 apresentam\n",
            "1 covid\n",
            "2 internados\n",
            "3 lesoes\n",
            "4 pacientes\n",
            "5 precisam\n",
            "6 respirador\n",
            "7 rins\n",
            "8 terco\n",
            "9 atracado\n",
            "10 cruzeiros\n",
            "11 liberado\n",
            "12 navio\n",
            "13 quarentena\n",
            "14 santos\n",
            "15 tvwywayleb\n",
            "16 citacoes\n",
            "17 enviadas\n",
            "18 investigacao\n",
            "19 mario\n",
            "20 peixoto\n"
          ],
          "name": "stdout"
        }
      ]
    },
    {
      "cell_type": "code",
      "metadata": {
        "id": "XlkG-xpp96kI",
        "colab_type": "code",
        "colab": {}
      },
      "source": [
        "#dictionary.filter_extremes(no_below=10, no_above=0.5, keep_n=100000)"
      ],
      "execution_count": 0,
      "outputs": []
    },
    {
      "cell_type": "code",
      "metadata": {
        "id": "WVjesfCu-Ixa",
        "colab_type": "code",
        "outputId": "a9384a9a-8825-4861-d2f8-c435b7d2fdac",
        "colab": {
          "base_uri": "https://localhost:8080/",
          "height": 230
        }
      },
      "source": [
        "corpus = [dictionary.doc2bow(doc) for doc in processed_docs]\n",
        "corpus[100]"
      ],
      "execution_count": 23,
      "outputs": [
        {
          "output_type": "execute_result",
          "data": {
            "text/plain": [
              "[(101, 1),\n",
              " (131, 1),\n",
              " (201, 1),\n",
              " (359, 1),\n",
              " (377, 1),\n",
              " (378, 1),\n",
              " (379, 1),\n",
              " (380, 1),\n",
              " (381, 1),\n",
              " (382, 1),\n",
              " (747, 1),\n",
              " (748, 1)]"
            ]
          },
          "metadata": {
            "tags": []
          },
          "execution_count": 23
        }
      ]
    },
    {
      "cell_type": "code",
      "metadata": {
        "id": "xTCYBd0e-ktl",
        "colab_type": "code",
        "outputId": "ef45d143-33d2-49d1-d93b-43feae33d7fc",
        "colab": {
          "base_uri": "https://localhost:8080/",
          "height": 230
        }
      },
      "source": [
        "bow_doc_100 = corpus[100]\n",
        "for i in range(len(bow_doc_100)):\n",
        "    print(\"Word {} (\\\"{}\\\") appears {} time.\".format(bow_doc_100[i][0], \n",
        "                                               dictionary[bow_doc_100[i][0]], bow_doc_100[i][1]))"
      ],
      "execution_count": 24,
      "outputs": [
        {
          "output_type": "stream",
          "text": [
            "Word 101 (\"ministro\") appears 1 time.\n",
            "Word 131 (\"saude\") appears 1 time.\n",
            "Word 201 (\"apos\") appears 1 time.\n",
            "Word 359 (\"teich\") appears 1 time.\n",
            "Word 377 (\"anulado\") appears 1 time.\n",
            "Word 378 (\"desgastado\") appears 1 time.\n",
            "Word 379 (\"fritura\") appears 1 time.\n",
            "Word 380 (\"isolado\") appears 1 time.\n",
            "Word 381 (\"nelson\") appears 1 time.\n",
            "Word 382 (\"oassunto\") appears 1 time.\n",
            "Word 747 (\"assumir\") appears 1 time.\n",
            "Word 748 (\"gbee\") appears 1 time.\n"
          ],
          "name": "stdout"
        }
      ]
    },
    {
      "cell_type": "code",
      "metadata": {
        "id": "Mrr2tpC3_JFx",
        "colab_type": "code",
        "colab": {}
      },
      "source": [
        "warnings.simplefilter('ignore')\n",
        "\n",
        "np.random.seed(2018)\n",
        "lda_model = gensim.models.LdaMulticore(corpus, num_topics=4, id2word=dictionary)"
      ],
      "execution_count": 0,
      "outputs": []
    },
    {
      "cell_type": "code",
      "metadata": {
        "id": "jRFZxnEh_Yyb",
        "colab_type": "code",
        "outputId": "2960983e-c257-4581-cfb0-bffd6417a6e1",
        "colab": {
          "base_uri": "https://localhost:8080/",
          "height": 179
        }
      },
      "source": [
        "for idx, topic in lda_model.print_topics(-1):\n",
        "    print('Topic: {} \\nWords: {}'.format(idx, topic))"
      ],
      "execution_count": 26,
      "outputs": [
        {
          "output_type": "stream",
          "text": [
            "Topic: 0 \n",
            "Words: 0.009*\"covid\" + 0.008*\"bolsonaro\" + 0.006*\"apos\" + 0.006*\"pandemia\" + 0.005*\"isolamento\" + 0.005*\"coronavirus\" + 0.005*\"video\" + 0.004*\"veja\" + 0.004*\"brasil\" + 0.003*\"reuniao\"\n",
            "Topic: 1 \n",
            "Words: 0.016*\"coronavirus\" + 0.010*\"bolsonaro\" + 0.007*\"pandemia\" + 0.006*\"covid\" + 0.005*\"presidente\" + 0.005*\"governo\" + 0.005*\"apos\" + 0.005*\"saude\" + 0.005*\"mortes\" + 0.004*\"ministro\"\n",
            "Topic: 2 \n",
            "Words: 0.008*\"coronavirus\" + 0.007*\"bolsonaro\" + 0.007*\"covid\" + 0.006*\"brasil\" + 0.005*\"isolamento\" + 0.005*\"anos\" + 0.004*\"saude\" + 0.004*\"pandemia\" + 0.004*\"sobre\" + 0.004*\"veja\"\n",
            "Topic: 3 \n",
            "Words: 0.014*\"coronavirus\" + 0.006*\"veja\" + 0.006*\"mortes\" + 0.006*\"covid\" + 0.005*\"brasil\" + 0.005*\"anos\" + 0.005*\"apos\" + 0.005*\"pandemia\" + 0.004*\"novo\" + 0.004*\"sobre\"\n"
          ],
          "name": "stdout"
        }
      ]
    },
    {
      "cell_type": "code",
      "metadata": {
        "id": "CqE1rKvTR6S3",
        "colab_type": "code",
        "outputId": "d0579233-31c1-4bf0-f707-cd5781acab7c",
        "colab": {
          "base_uri": "https://localhost:8080/",
          "height": 860
        }
      },
      "source": [
        "import pyLDAvis.gensim\n",
        "import pickle \n",
        "import pyLDAvis# Visualize the topics\n",
        "pyLDAvis.enable_notebook()\n",
        "LDAvis_prepared = pyLDAvis.gensim.prepare(lda_model, corpus, dictionary)\n",
        "LDAvis_prepared"
      ],
      "execution_count": 27,
      "outputs": [
        {
          "output_type": "execute_result",
          "data": {
            "text/html": [
              "\n",
              "<link rel=\"stylesheet\" type=\"text/css\" href=\"https://cdn.rawgit.com/bmabey/pyLDAvis/files/ldavis.v1.0.0.css\">\n",
              "\n",
              "\n",
              "<div id=\"ldavis_el3841406748314353601312070473\"></div>\n",
              "<script type=\"text/javascript\">\n",
              "\n",
              "var ldavis_el3841406748314353601312070473_data = {\"mdsDat\": {\"x\": [-0.010267552187611776, -0.02250785134274453, -0.059375917884441964, 0.09215132141479822], \"y\": [-0.09324914186756232, 0.05108927749714351, 0.02436933317693316, 0.01779053119348569], \"topics\": [1, 2, 3, 4], \"cluster\": [1, 1, 1, 1], \"Freq\": [30.71330451965332, 23.5792179107666, 23.19017219543457, 22.51730728149414]}, \"tinfo\": {\"Term\": [\"coronavirus\", \"isolamento\", \"segundo\", \"feira\", \"veja\", \"dados\", \"reuniao\", \"manaus\", \"bolsonaro\", \"segunda\", \"morte\", \"anos\", \"estado\", \"nesta\", \"presidente\", \"pessoas\", \"noticia\", \"dentro\", \"ceara\", \"exames\", \"pede\", \"marco\", \"alunos\", \"trabalho\", \"estudo\", \"nelson\", \"auxilio\", \"mundo\", \"caiu\", \"morre\", \"depoem\", \"moradores\", \"pronto\", \"segunda\", \"deve\", \"punicao\", \"decisao\", \"santa\", \"cargo\", \"isolado\", \"goias\", \"valer\", \"proteger\", \"idosos\", \"previsao\", \"anulado\", \"plastificado\", \"futura\", \"republica\", \"fritura\", \"agentes\", \"amor\", \"desgastado\", \"vencer\", \"delegados\", \"ocupados\", \"funcionar\", \"consulta\", \"causou\", \"ambiente\", \"ampliado\", \"exames\", \"queda\", \"secretario\", \"ocupacao\", \"presidente\", \"inqueritonostf\", \"nelson\", \"suposta\", \"celso\", \"lockdown\", \"medo\", \"mello\", \"grupo\", \"teich\", \"coronavirus\", \"rodizio\", \"ministros\", \"entregar\", \"bolsonaro\", \"ministro\", \"paulo\", \"governo\", \"pandemia\", \"pedido\", \"ministerio\", \"saude\", \"video\", \"nesta\", \"apos\", \"justica\", \"mortes\", \"covid\", \"sobre\", \"moro\", \"feira\", \"contra\", \"meio\", \"globonews\", \"quase\", \"brasil\", \"dias\", \"novo\", \"auxilio\", \"isolamento\", \"caiu\", \"integra\", \"perdeu\", \"valeixo\", \"causas\", \"manu\", \"gavassi\", \"aras\", \"restricoes\", \"entrevista\", \"ibaneis\", \"milicia\", \"bernardinho\", \"podcast\", \"fontes\", \"monitorar\", \"terminou\", \"sabem\", \"meuxgyzlre\", \"consequencias\", \"passo\", \"fazia\", \"tata\", \"mauricio\", \"adiar\", \"conclui\", \"werneck\", \"orla\", \"noruega\", \"acreditam\", \"jornalnacional\", \"alerta\", \"algum\", \"china\", \"quais\", \"mundo\", \"oassunto\", \"reuniao\", \"isolamento\", \"covid\", \"menor\", \"manter\", \"bolsonaro\", \"semana\", \"video\", \"minas\", \"apos\", \"defende\", \"casa\", \"ministerial\", \"andreiasadi\", \"pandemia\", \"quarentena\", \"veja\", \"quer\", \"moro\", \"brasil\", \"casos\", \"anos\", \"sobre\", \"coronavirus\", \"medico\", \"pede\", \"pais\", \"ministro\", \"morre\", \"durante\", \"morte\", \"dias\", \"governo\", \"saude\", \"mortes\", \"ceara\", \"etapa\", \"puerperas\", \"inclusao\", \"vacinacao\", \"levar\", \"pernambuco\", \"abaixo\", \"avaliacao\", \"hora\", \"receberam\", \"seguir\", \"teme\", \"salvar\", \"centrao\", \"pediram\", \"internacoes\", \"americana\", \"comediante\", \"estresse\", \"like\", \"alvo\", \"flagrado\", \"disparar\", \"cargos\", \"gradual\", \"primeiros\", \"importantes\", \"tuite\", \"vence\", \"podem\", \"estudo\", \"gripe\", \"ficar\", \"witzel\", \"carros\", \"pessoas\", \"decreto\", \"dentro\", \"foto\", \"suspeita\", \"isolamento\", \"bastidores\", \"deficiencia\", \"militares\", \"morre\", \"brasil\", \"falas\", \"anos\", \"relaxamento\", \"recebeu\", \"precisam\", \"leia\", \"bolsonaro\", \"covid\", \"auxilio\", \"durante\", \"milhoes\", \"saude\", \"coronavirus\", \"contra\", \"sobre\", \"veja\", \"pandemia\", \"mortes\", \"governo\", \"social\", \"pacientes\", \"cada\", \"fake\", \"meio\", \"combate\", \"reuniao\", \"apos\", \"pode\", \"blog\", \"dados\", \"manaus\", \"alunos\", \"bomdiabrasil\", \"explicar\", \"secretarias\", \"petrobras\", \"estaduais\", \"favela\", \"marco\", \"indicam\", \"namorado\", \"rapido\", \"vejo\", \"carcere\", \"professores\", \"terras\", \"passageiros\", \"emprestados\", \"celulares\", \"usem\", \"esposa\", \"terminar\", \"curados\", \"psicologa\", \"maternidade\", \"apaixonado\", \"preparam\", \"postos\", \"computadores\", \"segundo\", \"noticia\", \"rede\", \"pesquisas\", \"distanciamento\", \"estudos\", \"vitima\", \"estado\", \"europa\", \"veja\", \"coronavirus\", \"pessoa\", \"morte\", \"aponta\", \"tratamento\", \"publica\", \"mortes\", \"novo\", \"feira\", \"anos\", \"maio\", \"numero\", \"brasil\", \"mascaras\", \"apos\", \"covid\", \"social\", \"pandemia\", \"nesta\", \"casos\", \"sobre\", \"emergencial\", \"live\", \"saude\", \"auxilio\", \"hospital\", \"governo\", \"video\", \"bolsonaro\"], \"Freq\": [90.0, 26.0, 9.0, 10.0, 28.0, 4.0, 13.0, 4.0, 58.0, 7.0, 10.0, 27.0, 8.0, 11.0, 20.0, 11.0, 5.0, 5.0, 3.0, 7.0, 8.0, 3.0, 3.0, 5.0, 5.0, 6.0, 16.0, 7.0, 3.0, 11.0, 2.350381374359131, 2.347216844558716, 2.345573902130127, 6.306477069854736, 2.260899305343628, 3.36720609664917, 2.21704363822937, 2.191105604171753, 3.7996597290039062, 1.6277765035629272, 1.6274280548095703, 1.6271530389785767, 1.6270116567611694, 1.6268625259399414, 1.6267555952072144, 1.6262305974960327, 1.6260192394256592, 1.625933289527893, 1.6258991956710815, 1.6257916688919067, 1.62578284740448, 1.6257741451263428, 1.625756859779358, 1.6257537603378296, 1.6254082918167114, 1.6254054307937622, 1.6253637075424194, 1.6251693964004517, 1.6249580383300781, 1.6248890161514282, 3.7909083366394043, 5.267773151397705, 5.965169429779053, 3.1123416423797607, 2.6228458881378174, 13.428516387939453, 3.074730396270752, 4.878185749053955, 3.4654204845428467, 3.000131368637085, 8.27164077758789, 3.423813581466675, 2.977051019668579, 3.397623300552368, 8.034187316894531, 40.558616638183594, 5.257103443145752, 4.829097270965576, 4.401036739349365, 24.633302688598633, 10.73656177520752, 7.755517959594727, 12.45728874206543, 16.183040618896484, 4.285214424133301, 6.893964767456055, 11.699687957763672, 10.552075386047363, 5.971693992614746, 12.378169059753418, 5.907006740570068, 11.337409019470215, 15.496062278747559, 10.314176559448242, 6.4138054847717285, 5.244687080383301, 6.451225280761719, 5.331524848937988, 5.0688982009887695, 5.038590908050537, 7.609119892120361, 5.534630298614502, 5.5936598777771, 5.44282865524292, 5.779743671417236, 2.733980417251587, 2.664743661880493, 2.092026948928833, 2.091219425201416, 2.0901825428009033, 2.089618444442749, 2.0858170986175537, 2.0614402294158936, 2.058121919631958, 2.529160261154175, 1.4480888843536377, 1.4478212594985962, 1.4476101398468018, 1.4475632905960083, 1.4474533796310425, 1.4474530220031738, 1.4474081993103027, 1.447194218635559, 1.447105050086975, 1.4470096826553345, 1.4469438791275024, 1.4467567205429077, 1.4464422464370728, 1.4459893703460693, 1.4459530115127563, 1.4459123611450195, 1.4457066059112549, 1.4457354545593262, 1.4455902576446533, 1.4454779624938965, 1.8964442014694214, 2.7358217239379883, 1.8831449747085571, 2.702103614807129, 2.633035182952881, 4.039029598236084, 5.221487998962402, 6.490231037139893, 10.229527473449707, 17.48655128479004, 2.0905041694641113, 2.089993953704834, 15.6936616897583, 4.2965617179870605, 8.679804801940918, 2.0926544666290283, 10.744178771972656, 3.315399646759033, 5.091241836547852, 2.5821263790130615, 2.8649215698242188, 10.496976852416992, 4.829070568084717, 7.957056999206543, 2.963350534439087, 4.605621814727783, 7.563745021820068, 5.1985063552856445, 6.043824195861816, 5.814155578613281, 8.991016387939453, 2.946094274520874, 3.3278141021728516, 3.8614718914031982, 4.5001349449157715, 3.6973066329956055, 4.012986660003662, 3.562950611114502, 3.8762099742889404, 4.582685947418213, 4.334003448486328, 4.335175037384033, 3.2279088497161865, 2.107424259185791, 2.106966733932495, 2.105201005935669, 2.1046204566955566, 2.4605727195739746, 1.4602104425430298, 1.4598897695541382, 1.4597338438034058, 1.4595615863800049, 1.45941162109375, 1.4593504667282104, 1.459311604499817, 1.4585970640182495, 1.4584894180297852, 1.4584214687347412, 1.4583795070648193, 1.4582725763320923, 1.45781672000885, 1.457572340965271, 1.4574931859970093, 1.457293152809143, 1.4571563005447388, 1.4570575952529907, 1.4570101499557495, 1.456801414489746, 1.4568030834197998, 1.4566640853881836, 1.4565848112106323, 1.4564430713653564, 2.8103764057159424, 3.6958906650543213, 2.756267547607422, 2.7545406818389893, 3.1234781742095947, 2.261983871459961, 6.071254253387451, 2.5010766983032227, 3.410729169845581, 2.1294147968292236, 2.7628700733184814, 9.75365924835205, 2.458320140838623, 2.1077194213867188, 2.1072895526885986, 5.270488262176514, 11.511990547180176, 2.6461825370788574, 9.086044311523438, 2.108701705932617, 1.7826619148254395, 2.074596881866455, 3.3260385990142822, 13.850751876831055, 13.208044052124023, 5.839710712432861, 5.657399654388428, 4.977303504943848, 8.16600513458252, 14.762613296508789, 5.57576322555542, 6.953362941741943, 6.85911750793457, 7.663612365722656, 6.365529537200928, 5.846738338470459, 4.298385143280029, 4.132284164428711, 3.773620843887329, 3.7968568801879883, 3.6578869819641113, 3.208481550216675, 3.5389134883880615, 4.174529075622559, 3.45257306098938, 3.3836607933044434, 3.9874439239501953, 3.9006001949310303, 2.7671523094177246, 2.1185426712036133, 2.1168718338012695, 2.116454601287842, 2.11492919921875, 2.1007630825042725, 2.080019950866699, 3.060333490371704, 2.040314197540283, 1.4675496816635132, 1.9647189378738403, 1.4671510457992554, 1.466832160949707, 1.466330885887146, 1.4659008979797363, 1.465751051902771, 1.4657188653945923, 1.4652011394500732, 1.4649461507797241, 1.4648526906967163, 1.4641813039779663, 1.4641144275665283, 1.4638941287994385, 1.4637672901153564, 1.4635087251663208, 1.4634987115859985, 1.4633538722991943, 1.4633113145828247, 6.4567646980285645, 4.056140422821045, 1.8924111127853394, 2.7054672241210938, 3.4054346084594727, 2.661210536956787, 4.03468656539917, 4.545691967010498, 2.1947245597839355, 11.109222412109375, 25.87029457092285, 3.0293922424316406, 5.079879283905029, 2.4485363960266113, 3.014739990234375, 2.1170761585235596, 11.05606460571289, 6.740740776062012, 4.720283031463623, 8.453882217407227, 5.086179733276367, 4.35295295715332, 9.247161865234375, 4.259365081787109, 8.445311546325684, 10.012669563293457, 4.856142997741699, 8.302355766296387, 4.367839336395264, 5.458526611328125, 6.617268085479736, 4.185629367828369, 3.785548210144043, 5.648346424102783, 4.300463676452637, 3.6277129650115967, 4.426454544067383, 4.0644330978393555, 4.251862049102783], \"Total\": [90.0, 26.0, 9.0, 10.0, 28.0, 4.0, 13.0, 4.0, 58.0, 7.0, 10.0, 27.0, 8.0, 11.0, 20.0, 11.0, 5.0, 5.0, 3.0, 7.0, 8.0, 3.0, 3.0, 5.0, 5.0, 6.0, 16.0, 7.0, 3.0, 11.0, 2.8457725048065186, 2.8454484939575195, 2.8452749252319336, 7.810496807098389, 2.836568832397461, 4.249650001525879, 2.8320655822753906, 2.8283379077911377, 4.943217754364014, 2.1203484535217285, 2.1203103065490723, 2.1202785968780518, 2.1202681064605713, 2.1202478408813477, 2.1202452182769775, 2.1201908588409424, 2.120161771774292, 2.1201531887054443, 2.120150089263916, 2.1201367378234863, 2.1201393604278564, 2.1201372146606445, 2.1201388835906982, 2.120140314102173, 2.120098352432251, 2.120102643966675, 2.120100975036621, 2.12007737159729, 2.120048999786377, 2.1200485229492188, 4.950604438781738, 7.052577972412109, 8.42908763885498, 4.226629257202148, 3.526968002319336, 20.917583465576172, 4.2225260734558105, 6.999885559082031, 4.917043685913086, 4.211295127868652, 13.226278305053711, 4.911687850952148, 4.208913326263428, 4.899109363555908, 13.184907913208008, 90.18254089355469, 8.354619979858398, 7.653822422027588, 6.961609840393066, 58.42958068847656, 21.268754959106445, 14.470321655273438, 27.313167572021484, 42.6459846496582, 6.94419527053833, 13.739791870117188, 29.848041534423828, 25.78106689453125, 11.70431900024414, 35.742191314697266, 11.681123733520508, 33.09417724609375, 56.20332717895508, 29.698963165283203, 13.650472640991211, 10.32906723022461, 17.592239379882812, 11.612022399902344, 10.271177291870117, 10.283016204833984, 35.9320182800293, 14.226356506347656, 16.871681213378906, 16.204120635986328, 26.563844680786133, 3.254199981689453, 3.254805326461792, 2.608013868331909, 2.608027696609497, 2.6080322265625, 2.608159303665161, 2.6083667278289795, 2.608309268951416, 2.6083645820617676, 3.2794241905212402, 1.9618116617202759, 1.9617938995361328, 1.9618672132492065, 1.961822748184204, 1.961852788925171, 1.9618685245513916, 1.9618717432022095, 1.9618860483169556, 1.9618353843688965, 1.961808204650879, 1.9618732929229736, 1.9618818759918213, 1.9618911743164062, 1.9618390798568726, 1.9619255065917969, 1.9619158506393433, 1.9618902206420898, 1.9619431495666504, 1.9619534015655518, 1.9618093967437744, 2.609600782394409, 3.9795243740081787, 2.633795976638794, 3.9796037673950195, 3.9071273803710938, 7.158181190490723, 9.97708511352539, 13.289375305175781, 26.563844680786133, 56.20332717895508, 3.2594494819641113, 3.262697458267212, 58.42958068847656, 9.263514518737793, 25.78106689453125, 3.3333687782287598, 35.742191314697266, 6.580353260040283, 12.687055587768555, 4.632573127746582, 5.414698123931885, 42.6459846496582, 12.697226524353027, 28.956377029418945, 5.950479507446289, 13.650472640991211, 35.9320182800293, 18.710596084594727, 27.048986434936523, 29.698963165283203, 90.18254089355469, 5.981522083282471, 8.241019248962402, 12.673057556152344, 21.268754959106445, 11.834672927856445, 15.425614356994629, 10.59913444519043, 14.226356506347656, 27.313167572021484, 29.848041534423828, 33.09417724609375, 3.9248099327087402, 2.6232008934020996, 2.623121738433838, 2.623164176940918, 2.6231696605682373, 3.2759313583374023, 1.971768856048584, 1.9718589782714844, 1.97190523147583, 1.971861481666565, 1.9718549251556396, 1.9718396663665771, 1.9719029664993286, 1.9719069004058838, 1.9718631505966187, 1.971876621246338, 1.9718891382217407, 1.9718356132507324, 1.9719409942626953, 1.9718886613845825, 1.9719289541244507, 1.9719910621643066, 1.9719184637069702, 1.9719783067703247, 1.9719257354736328, 1.9718929529190063, 1.9719127416610718, 1.9719278812408447, 1.9719544649124146, 1.9719514846801758, 3.921083450317383, 5.300455093383789, 3.9206788539886475, 3.9998691082000732, 4.659987926483154, 3.2712936401367188, 11.213616371154785, 3.918654203414917, 5.86442232131958, 3.2807483673095703, 4.673593997955322, 26.563844680786133, 4.034144401550293, 3.2778127193450928, 3.2778139114379883, 11.834672927856445, 35.9320182800293, 4.565798759460449, 27.048986434936523, 3.348348617553711, 2.6250834465026855, 3.273066997528076, 6.61117696762085, 58.42958068847656, 56.20332717895508, 16.204120635986328, 15.425614356994629, 12.681943893432617, 29.848041534423828, 90.18254089355469, 17.592239379882812, 29.698963165283203, 28.956377029418945, 42.6459846496582, 33.09417724609375, 27.313167572021484, 13.900198936462402, 13.326155662536621, 10.721163749694824, 11.38780689239502, 11.612022399902344, 7.347654342651367, 13.289375305175781, 35.742191314697266, 12.757533073425293, 11.392168045043945, 4.596267223358154, 4.594732284545898, 3.2877678871154785, 2.6331634521484375, 2.6331818103790283, 2.6331660747528076, 2.6331772804260254, 2.6331639289855957, 2.6355538368225098, 3.940326452255249, 2.632725238800049, 1.9785172939300537, 2.649496078491211, 1.9785181283950806, 1.978548526763916, 1.9785635471343994, 1.9785585403442383, 1.9785733222961426, 1.9785451889038086, 1.9785865545272827, 1.978579044342041, 1.978617787361145, 1.978529453277588, 1.978650689125061, 1.9787225723266602, 1.9785709381103516, 1.9786462783813477, 1.9787051677703857, 1.978654384613037, 1.9786598682403564, 9.188419342041016, 5.974183559417725, 2.630253314971924, 4.018502235412598, 5.315768718719482, 4.003734111785889, 7.248505592346191, 8.594843864440918, 3.3499906063079834, 28.956377029418945, 90.18254089355469, 5.256384372711182, 10.59913444519043, 4.009764671325684, 5.358517646789551, 3.2844326496124268, 33.09417724609375, 16.871681213378906, 10.32906723022461, 27.048986434936523, 12.696516990661621, 9.935257911682129, 35.9320182800293, 9.995445251464844, 35.742191314697266, 56.20332717895508, 13.900198936462402, 42.6459846496582, 11.70431900024414, 18.710596084594727, 29.698963165283203, 11.486242294311523, 9.308849334716797, 29.848041534423828, 16.204120635986328, 9.44961929321289, 27.313167572021484, 25.78106689453125, 58.42958068847656], \"Category\": [\"Default\", \"Default\", \"Default\", \"Default\", \"Default\", \"Default\", \"Default\", \"Default\", \"Default\", \"Default\", \"Default\", \"Default\", \"Default\", \"Default\", \"Default\", \"Default\", \"Default\", \"Default\", \"Default\", \"Default\", \"Default\", \"Default\", \"Default\", \"Default\", \"Default\", \"Default\", \"Default\", \"Default\", \"Default\", \"Default\", \"Topic1\", \"Topic1\", \"Topic1\", \"Topic1\", \"Topic1\", \"Topic1\", \"Topic1\", \"Topic1\", \"Topic1\", \"Topic1\", \"Topic1\", \"Topic1\", \"Topic1\", \"Topic1\", \"Topic1\", \"Topic1\", \"Topic1\", \"Topic1\", \"Topic1\", \"Topic1\", \"Topic1\", \"Topic1\", \"Topic1\", \"Topic1\", \"Topic1\", \"Topic1\", \"Topic1\", \"Topic1\", \"Topic1\", \"Topic1\", \"Topic1\", \"Topic1\", \"Topic1\", \"Topic1\", \"Topic1\", \"Topic1\", \"Topic1\", \"Topic1\", \"Topic1\", \"Topic1\", \"Topic1\", \"Topic1\", \"Topic1\", \"Topic1\", \"Topic1\", \"Topic1\", \"Topic1\", \"Topic1\", \"Topic1\", \"Topic1\", \"Topic1\", \"Topic1\", \"Topic1\", \"Topic1\", \"Topic1\", \"Topic1\", \"Topic1\", \"Topic1\", \"Topic1\", \"Topic1\", \"Topic1\", \"Topic1\", \"Topic1\", \"Topic1\", \"Topic1\", \"Topic1\", \"Topic1\", \"Topic1\", \"Topic1\", \"Topic1\", \"Topic1\", \"Topic1\", \"Topic1\", \"Topic1\", \"Topic1\", \"Topic2\", \"Topic2\", \"Topic2\", \"Topic2\", \"Topic2\", \"Topic2\", \"Topic2\", \"Topic2\", \"Topic2\", \"Topic2\", \"Topic2\", \"Topic2\", \"Topic2\", \"Topic2\", \"Topic2\", \"Topic2\", \"Topic2\", \"Topic2\", \"Topic2\", \"Topic2\", \"Topic2\", \"Topic2\", \"Topic2\", \"Topic2\", \"Topic2\", \"Topic2\", \"Topic2\", \"Topic2\", \"Topic2\", \"Topic2\", \"Topic2\", \"Topic2\", \"Topic2\", \"Topic2\", \"Topic2\", \"Topic2\", \"Topic2\", \"Topic2\", \"Topic2\", \"Topic2\", \"Topic2\", \"Topic2\", \"Topic2\", \"Topic2\", \"Topic2\", \"Topic2\", \"Topic2\", \"Topic2\", \"Topic2\", \"Topic2\", \"Topic2\", \"Topic2\", \"Topic2\", \"Topic2\", \"Topic2\", \"Topic2\", \"Topic2\", \"Topic2\", \"Topic2\", \"Topic2\", \"Topic2\", \"Topic2\", \"Topic2\", \"Topic2\", \"Topic2\", \"Topic2\", \"Topic2\", \"Topic2\", \"Topic2\", \"Topic2\", \"Topic2\", \"Topic2\", \"Topic3\", \"Topic3\", \"Topic3\", \"Topic3\", \"Topic3\", \"Topic3\", \"Topic3\", \"Topic3\", \"Topic3\", \"Topic3\", \"Topic3\", \"Topic3\", \"Topic3\", \"Topic3\", \"Topic3\", \"Topic3\", \"Topic3\", \"Topic3\", \"Topic3\", \"Topic3\", \"Topic3\", \"Topic3\", \"Topic3\", \"Topic3\", \"Topic3\", \"Topic3\", \"Topic3\", \"Topic3\", \"Topic3\", \"Topic3\", \"Topic3\", \"Topic3\", \"Topic3\", \"Topic3\", \"Topic3\", \"Topic3\", \"Topic3\", \"Topic3\", \"Topic3\", \"Topic3\", \"Topic3\", \"Topic3\", \"Topic3\", \"Topic3\", \"Topic3\", \"Topic3\", \"Topic3\", \"Topic3\", \"Topic3\", \"Topic3\", \"Topic3\", \"Topic3\", \"Topic3\", \"Topic3\", \"Topic3\", \"Topic3\", \"Topic3\", \"Topic3\", \"Topic3\", \"Topic3\", \"Topic3\", \"Topic3\", \"Topic3\", \"Topic3\", \"Topic3\", \"Topic3\", \"Topic3\", \"Topic3\", \"Topic3\", \"Topic3\", \"Topic3\", \"Topic3\", \"Topic3\", \"Topic3\", \"Topic3\", \"Topic3\", \"Topic4\", \"Topic4\", \"Topic4\", \"Topic4\", \"Topic4\", \"Topic4\", \"Topic4\", \"Topic4\", \"Topic4\", \"Topic4\", \"Topic4\", \"Topic4\", \"Topic4\", \"Topic4\", \"Topic4\", \"Topic4\", \"Topic4\", \"Topic4\", \"Topic4\", \"Topic4\", \"Topic4\", \"Topic4\", \"Topic4\", \"Topic4\", \"Topic4\", \"Topic4\", \"Topic4\", \"Topic4\", \"Topic4\", \"Topic4\", \"Topic4\", \"Topic4\", \"Topic4\", \"Topic4\", \"Topic4\", \"Topic4\", \"Topic4\", \"Topic4\", \"Topic4\", \"Topic4\", \"Topic4\", \"Topic4\", \"Topic4\", \"Topic4\", \"Topic4\", \"Topic4\", \"Topic4\", \"Topic4\", \"Topic4\", \"Topic4\", \"Topic4\", \"Topic4\", \"Topic4\", \"Topic4\", \"Topic4\", \"Topic4\", \"Topic4\", \"Topic4\", \"Topic4\", \"Topic4\", \"Topic4\", \"Topic4\", \"Topic4\", \"Topic4\", \"Topic4\", \"Topic4\", \"Topic4\", \"Topic4\", \"Topic4\"], \"logprob\": [30.0, 29.0, 28.0, 27.0, 26.0, 25.0, 24.0, 23.0, 22.0, 21.0, 20.0, 19.0, 18.0, 17.0, 16.0, 15.0, 14.0, 13.0, 12.0, 11.0, 10.0, 9.0, 8.0, 7.0, 6.0, 5.0, 4.0, 3.0, 2.0, 1.0, -6.9542999267578125, -6.955599784851074, -6.956299781799316, -5.967299938201904, -6.993100166320801, -6.594799995422363, -7.012700080871582, -7.024400234222412, -6.473899841308594, -7.321599960327148, -7.321800231933594, -7.322000026702881, -7.3221001625061035, -7.322199821472168, -7.322299957275391, -7.3225998878479, -7.322700023651123, -7.322800159454346, -7.322800159454346, -7.32289981842041, -7.32289981842041, -7.32289981842041, -7.32289981842041, -7.32289981842041, -7.3231000900268555, -7.3231000900268555, -7.3231000900268555, -7.323200225830078, -7.323400020599365, -7.323400020599365, -6.476200103759766, -6.147200107574463, -6.022900104522705, -6.673500061035156, -6.844600200653076, -5.21150016784668, -6.6855998039245605, -6.224100112915039, -6.565999984741211, -6.71019983291626, -5.696000099182129, -6.578100204467773, -6.717899799346924, -6.5858001708984375, -5.725100040435791, -4.106100082397461, -6.1493000984191895, -6.2342000007629395, -6.327000141143799, -4.604700088500977, -5.435200214385986, -5.76039981842041, -5.286499977111816, -5.024899959564209, -6.353700160980225, -5.878200054168701, -5.349299907684326, -5.452499866485596, -6.0218000411987305, -5.292900085449219, -6.032700061798096, -5.38070011138916, -5.068299770355225, -5.475299835205078, -5.950399875640869, -6.151599884033203, -5.9446001052856445, -6.135200023651123, -6.185699939727783, -6.191699981689453, -5.7795000076293945, -6.097799777984619, -6.087200164794922, -6.114500045776367, -6.054500102996826, -6.53879976272583, -6.5644001960754395, -6.806399822235107, -6.80679988861084, -6.807300090789795, -6.807499885559082, -6.8094000816345215, -6.821100234985352, -6.822700023651123, -6.616600036621094, -7.174300193786621, -7.174499988555908, -7.174600124359131, -7.174600124359131, -7.174699783325195, -7.174699783325195, -7.174699783325195, -7.174900054931641, -7.175000190734863, -7.175000190734863, -7.175099849700928, -7.17519998550415, -7.1753997802734375, -7.1757001876831055, -7.1757001876831055, -7.17579984664917, -7.175899982452393, -7.175899982452393, -7.176000118255615, -7.17609977722168, -6.9045000076293945, -6.538099765777588, -6.911600112915039, -6.55049991607666, -6.576399803161621, -6.148499965667725, -5.89169979095459, -5.674200057983398, -5.219200134277344, -4.68310022354126, -6.80709981918335, -6.807400226593018, -4.791299819946289, -6.086699962615967, -5.383500099182129, -6.806099891662598, -5.170199871063232, -6.345900058746338, -5.916999816894531, -6.595900058746338, -6.492000102996826, -5.193399906158447, -5.969900131225586, -5.4704999923706055, -6.458199977874756, -6.017199993133545, -5.521100044250488, -5.896100044250488, -5.745500087738037, -5.784200191497803, -5.348299980163574, -6.464000225067139, -6.342199802398682, -6.19350004196167, -6.04040002822876, -6.2368998527526855, -6.15500020980835, -6.273900032043457, -6.189700126647949, -6.022200107574463, -6.078000068664551, -6.0777997970581055, -6.355999946594238, -6.782400131225586, -6.782599925994873, -6.7835001945495605, -6.783699989318848, -6.627500057220459, -7.1493000984191895, -7.149499893188477, -7.149600028991699, -7.149700164794922, -7.149799823760986, -7.149899959564209, -7.149899959564209, -7.150400161743164, -7.1504998207092285, -7.1504998207092285, -7.150599956512451, -7.150599956512451, -7.150899887084961, -7.151100158691406, -7.151199817657471, -7.151299953460693, -7.151400089263916, -7.151500225067139, -7.151500225067139, -7.151599884033203, -7.151599884033203, -7.151700019836426, -7.151800155639648, -7.151899814605713, -6.49459981918335, -6.220699787139893, -6.513999938964844, -6.514599800109863, -6.388899803161621, -6.711599826812744, -5.724299907684326, -6.611199855804443, -6.301000118255615, -6.771999835968018, -6.511600017547607, -5.250199794769287, -6.628399848937988, -6.782299995422363, -6.78249979019165, -5.865799903869629, -5.084499835968018, -6.554800033569336, -5.321100234985352, -6.781799793243408, -6.94980001449585, -6.798099994659424, -6.326099872589111, -4.899499893188477, -4.9471001625061035, -5.763199806213379, -5.794899940490723, -5.922999858856201, -5.4278998374938965, -4.8358001708984375, -5.8094000816345215, -5.588699817657471, -5.60230016708374, -5.491399765014648, -5.677000045776367, -5.76200008392334, -6.0696001052856445, -6.109000205993652, -6.19980001449585, -6.193699836730957, -6.230999946594238, -6.362100124359131, -6.264100074768066, -6.098899841308594, -6.28879976272583, -6.308899879455566, -6.115300178527832, -6.13730001449585, -6.480599880218506, -6.747700214385986, -6.748499870300293, -6.748700141906738, -6.7494001388549805, -6.756100177764893, -6.76609992980957, -6.379899978637695, -6.785299777984619, -7.114799976348877, -6.8231000900268555, -7.115099906921387, -7.115300178527832, -7.115699768066406, -7.116000175476074, -7.116099834442139, -7.116099834442139, -7.116399765014648, -7.116600036621094, -7.116700172424316, -7.117099761962891, -7.117199897766113, -7.117300033569336, -7.117400169372559, -7.117599964141846, -7.117599964141846, -7.117700099945068, -7.117700099945068, -5.633299827575684, -6.098199844360352, -6.860599994659424, -6.503200054168701, -6.273099899291992, -6.519700050354004, -6.103499889373779, -5.984300136566162, -6.712399959564209, -5.090700149536133, -4.245299816131592, -6.390100002288818, -5.8730998039245605, -6.60290002822876, -6.394899845123291, -6.7484002113342285, -5.0954999923706055, -5.5903000831604, -5.946599960327148, -5.363800048828125, -5.8719000816345215, -6.027599811553955, -5.274099826812744, -6.049300193786621, -5.364799976348877, -5.1946001052856445, -5.9182000160217285, -5.381899833679199, -6.024199962615967, -5.801300048828125, -5.608799934387207, -6.066800117492676, -6.167200088500977, -5.767099857330322, -6.039700031280518, -6.209799766540527, -6.010799884796143, -6.096199989318848, -6.05109977722168], \"loglift\": [30.0, 29.0, 28.0, 27.0, 26.0, 25.0, 24.0, 23.0, 22.0, 21.0, 20.0, 19.0, 18.0, 17.0, 16.0, 15.0, 14.0, 13.0, 12.0, 11.0, 10.0, 9.0, 8.0, 7.0, 6.0, 5.0, 4.0, 3.0, 2.0, 1.0, 0.9891999959945679, 0.9879999756813049, 0.9872999787330627, 0.9666000008583069, 0.9535999894142151, 0.947700023651123, 0.9355999827384949, 0.9251999855041504, 0.9174000024795532, 0.916100025177002, 0.9158999919891357, 0.9157999753952026, 0.9157000184059143, 0.9156000018119812, 0.9154999852180481, 0.9151999950408936, 0.9150999784469604, 0.9150999784469604, 0.9150000214576721, 0.9150000214576721, 0.9150000214576721, 0.9150000214576721, 0.9150000214576721, 0.9150000214576721, 0.9147999882698059, 0.9147999882698059, 0.9146999716758728, 0.9146000146865845, 0.9144999980926514, 0.9144999980926514, 0.9136000275611877, 0.888700008392334, 0.8346999883651733, 0.8744000196456909, 0.8842999935150146, 0.7372999787330627, 0.8633000254631042, 0.8194000124931335, 0.8306000232696533, 0.8414000272750854, 0.7110999822616577, 0.819599986076355, 0.8342000246047974, 0.8144999742507935, 0.6851000189781189, 0.3813999891281128, 0.717199981212616, 0.7199000120162964, 0.7218999862670898, 0.31679999828338623, 0.4968999922275543, 0.5568000078201294, 0.3953999876976013, 0.21150000393390656, 0.697700023651123, 0.49079999327659607, 0.24390000104904175, 0.287200003862381, 0.5074999928474426, 0.1200999990105629, 0.4986000061035156, 0.10920000076293945, -0.10790000110864639, 0.12290000170469284, 0.4251999855041504, 0.5026999711990356, 0.17730000615119934, 0.40209999680519104, 0.47429999709129333, 0.46709999442100525, -0.3718000054359436, 0.23639999330043793, 0.07649999856948853, 0.08950000256299973, -0.34470000863075256, 1.2705999612808228, 1.2447999715805054, 1.2243000268936157, 1.2239999771118164, 1.2235000133514404, 1.223099946975708, 1.2211999893188477, 1.2094999551773071, 1.207900047302246, 1.184999942779541, 1.1411999464035034, 1.1410000324249268, 1.1407999992370605, 1.1407999992370605, 1.1406999826431274, 1.1406999826431274, 1.1406999826431274, 1.1404999494552612, 1.1404999494552612, 1.1404000520706177, 1.1404000520706177, 1.1402000188827515, 1.1399999856948853, 1.1397000551223755, 1.1396000385284424, 1.1396000385284424, 1.1395000219345093, 1.1395000219345093, 1.1394000053405762, 1.1394000053405762, 1.125599980354309, 1.070099949836731, 1.1093000173568726, 1.0577000379562378, 1.0500999689102173, 0.8726000189781189, 0.7972999811172485, 0.7281000018119812, 0.49050000309944153, 0.27730000019073486, 1.0006999969482422, 0.9994000196456909, 0.13019999861717224, 0.6765000224113464, 0.3562000095844269, 0.9793000221252441, 0.24279999732971191, 0.7592999935150146, 0.5317000150680542, 0.8603000044822693, 0.8082000017166138, 0.0430000014603138, 0.4781000018119812, 0.15309999883174896, 0.7476999759674072, 0.35830000042915344, -0.11349999904632568, 0.16410000622272491, -0.05380000174045563, -0.1860000044107437, -0.86080002784729, 0.7365999817848206, 0.5379999876022339, 0.2563999891281128, -0.10830000042915344, 0.28139999508857727, 0.09830000251531601, 0.3546000123023987, 0.1446000039577484, -0.3402999937534332, -0.4848000109195709, -0.5878000259399414, 1.2660000324249268, 1.2424999475479126, 1.242300033569336, 1.2415000200271606, 1.2411999702453613, 1.1751999855041504, 1.1611000299453735, 1.1607999801635742, 1.1606999635696411, 1.160599946975708, 1.1605000495910645, 1.1605000495910645, 1.1604000329971313, 1.1598999500274658, 1.1598999500274658, 1.1598000526428223, 1.1598000526428223, 1.1597000360488892, 1.1593999862670898, 1.1591999530792236, 1.15910005569458, 1.159000039100647, 1.1589000225067139, 1.1588000059127808, 1.1588000059127808, 1.1586999893188477, 1.1586999893188477, 1.1585999727249146, 1.1584999561309814, 1.158400058746338, 1.1283999681472778, 1.1009000539779663, 1.1090999841690063, 1.0884000062942505, 1.061400055885315, 1.0924999713897705, 0.8478999733924866, 1.0124000310897827, 0.9194999933242798, 1.0291999578475952, 0.9358000159263611, 0.4595000147819519, 0.9660999774932861, 1.0198999643325806, 1.019700050354004, 0.6524999737739563, 0.323199987411499, 0.9160000085830688, 0.37049999833106995, 0.9990000128746033, 1.0743999481201172, 1.0054999589920044, 0.7745000123977661, 0.02199999988079071, 0.013299999758601189, 0.4408999979496002, 0.45840001106262207, 0.526199996471405, 0.16529999673366547, -0.3483000099658966, 0.3124000132083893, 0.009600000455975533, 0.021199999377131462, -0.2549999952316284, -0.18700000643730164, -0.07999999821186066, 0.28780001401901245, 0.2904999852180481, 0.4172999858856201, 0.36309999227523804, 0.30630001425743103, 0.6328999996185303, 0.13830000162124634, -0.6858999729156494, 0.15440000593662262, 0.2475000023841858, 1.3487999439239502, 1.3271000385284424, 1.31850004196167, 1.2733999490737915, 1.2726000547409058, 1.2724000215530396, 1.2717000246047974, 1.2649999856948853, 1.2541999816894531, 1.2381000518798828, 1.2359999418258667, 1.1921000480651855, 1.1919000148773193, 1.1919000148773193, 1.19159996509552, 1.1913000345230103, 1.190999984741211, 1.1908999681472778, 1.1908999681472778, 1.190500020980835, 1.1902999877929688, 1.1901999711990356, 1.1898000240325928, 1.1897000074386597, 1.1894999742507935, 1.1894999742507935, 1.1892999410629272, 1.1892999410629272, 1.1892000436782837, 1.1892000436782837, 1.138100028038025, 1.103700041770935, 1.1617000102996826, 1.0952999591827393, 1.0456000566482544, 1.0823999643325806, 0.9049999713897705, 0.8539000153541565, 1.0679999589920044, 0.5328999757766724, 0.24210000038146973, 0.9398000240325928, 0.7554000020027161, 0.9976000189781189, 0.9157000184059143, 1.0516999959945679, 0.3944999873638153, 0.5734000205993652, 0.7077999711036682, 0.3278999924659729, 0.5760999917984009, 0.6657000184059143, 0.13359999656677246, 0.6378999948501587, 0.04820000007748604, -0.23420000076293945, 0.4392000138759613, -0.14550000429153442, 0.5052000284194946, 0.2590000033378601, -0.010499999858438969, 0.4814000129699707, 0.5910999774932861, -0.17389999330043793, 0.16429999470710754, 0.5335000157356262, -0.328900009393692, -0.3564999997615814, -1.1296000480651855]}, \"token.table\": {\"Topic\": [3, 2, 2, 1, 1, 2, 2, 4, 3, 1, 3, 1, 1, 4, 1, 2, 1, 2, 3, 4, 1, 4, 1, 3, 4, 1, 2, 3, 4, 2, 1, 2, 3, 4, 3, 1, 3, 2, 1, 2, 3, 4, 1, 2, 3, 4, 4, 1, 2, 3, 4, 1, 2, 3, 4, 2, 4, 1, 2, 3, 2, 3, 1, 2, 3, 4, 1, 2, 3, 4, 2, 1, 3, 1, 2, 4, 3, 1, 2, 1, 2, 3, 4, 3, 4, 2, 2, 1, 1, 2, 3, 4, 1, 2, 3, 4, 1, 2, 3, 4, 4, 4, 1, 2, 3, 1, 2, 3, 3, 4, 1, 2, 3, 1, 1, 1, 1, 2, 3, 4, 3, 1, 2, 4, 1, 2, 3, 4, 1, 3, 4, 4, 1, 2, 3, 4, 2, 4, 1, 2, 4, 4, 3, 1, 3, 1, 4, 3, 1, 4, 1, 3, 4, 1, 2, 3, 4, 2, 3, 4, 2, 1, 4, 1, 3, 3, 2, 2, 3, 1, 1, 1, 2, 1, 2, 3, 4, 1, 1, 2, 3, 4, 3, 2, 3, 1, 2, 3, 1, 2, 3, 4, 2, 1, 3, 3, 4, 1, 3, 2, 3, 1, 1, 2, 3, 4, 2, 1, 2, 3, 4, 1, 2, 3, 3, 3, 1, 2, 3, 4, 1, 2, 3, 4, 1, 2, 3, 4, 4, 2, 4, 2, 3, 4, 1, 2, 3, 4, 4, 2, 1, 2, 3, 1, 4, 1, 2, 3, 4, 1, 2, 2, 3, 2, 1, 2, 3, 4, 2, 3, 4, 1, 2, 1, 2, 3, 1, 2, 3, 4, 1, 2, 3, 4, 1, 2, 3, 2, 1, 1, 2, 3, 4, 1, 2, 3, 4, 1, 2, 4, 1, 2, 3, 4, 2, 3, 4, 4, 1, 2, 1, 3, 4, 2, 1, 3, 4, 1, 2, 3, 4, 1, 2, 3, 4, 1, 2, 3, 4, 1, 4, 1, 2, 1, 2, 3, 4, 1, 2, 3, 4, 1, 2, 3, 4, 4, 2, 1, 2, 3, 4, 1, 2, 1, 2, 4, 3, 2, 3, 1, 4, 2, 3, 4, 1, 2, 3, 4, 4, 1, 2, 1, 2, 3, 4, 2, 3, 4, 2, 3, 4, 1, 2, 3, 4, 1, 3, 4, 1, 1, 4, 3, 4, 3, 1, 2, 2, 3, 1, 2, 3, 4, 1, 2, 3, 4, 1, 3, 4, 1, 2, 3, 4, 4, 3, 3, 4, 1, 3, 1, 2, 1, 2, 3, 1, 3, 4, 2, 3, 1, 1, 2, 3, 4, 4, 1, 3, 3, 1, 3, 2, 3, 4, 1, 2, 3, 4, 1, 2, 3, 4, 1, 2, 3, 4, 1, 4, 1, 2, 3, 2, 1, 2, 3, 4, 3, 4, 2, 4, 3, 4, 1, 2, 4, 3, 4, 3, 2, 1, 1, 2, 3, 4, 4, 3, 1, 1, 2, 3, 4, 1, 2, 3, 4, 2, 1, 3], \"Freq\": [0.5071356296539307, 0.5097334980964661, 0.5097033381462097, 0.9433342218399048, 0.2512862980365753, 0.7538589239120483, 0.7593602538108826, 0.912473201751709, 0.5071017146110535, 0.9433746337890625, 0.507141649723053, 0.9433351755142212, 0.8079821467399597, 0.20199553668498993, 0.36936500668525696, 0.5540475249290466, 0.11090988665819168, 0.22181977331638336, 0.33272966742515564, 0.2957597076892853, 0.9433112740516663, 0.5053960680961609, 0.24939119815826416, 0.24939119815826416, 0.4987823963165283, 0.3357376754283905, 0.30775952339172363, 0.1119125559926033, 0.2238251119852066, 0.7667802572250366, 0.3085635006427765, 0.06171269714832306, 0.37027618288993835, 0.24685078859329224, 0.5071237683296204, 0.24788403511047363, 0.49576807022094727, 0.5097184777259827, 0.2633388042449951, 0.2633388042449951, 0.2633388042449951, 0.17555920779705048, 0.42786547541618347, 0.27383390069007874, 0.2396046668291092, 0.06845847517251968, 0.7595426440238953, 0.2226426601409912, 0.2226426601409912, 0.3339639902114868, 0.2504729926586151, 0.27982038259506226, 0.27982038259506226, 0.3730938136577606, 0.09327345341444016, 0.9218855500221252, 0.5054210424423218, 0.80918949842453, 0.2022973746061325, 0.5071184635162354, 0.3056894540786743, 0.6113789081573486, 0.23646149039268494, 0.3941024839878082, 0.1576409935951233, 0.23646149039268494, 0.26722824573516846, 0.26722824573516846, 0.1603369563817978, 0.26722824573516846, 0.7668616771697998, 0.9433743953704834, 0.7643682360649109, 0.7123699188232422, 0.23745664954185486, 0.5054113268852234, 0.5071345567703247, 0.2512812912464142, 0.7538439035415649, 0.2721956968307495, 0.13609784841537476, 0.40829357504844666, 0.13609784841537476, 0.507114589214325, 0.5053925514221191, 0.5097058415412903, 0.5097337961196899, 0.9433618187904358, 0.34105947613716125, 0.11368649452924728, 0.34105947613716125, 0.17052973806858063, 0.4546334445476532, 0.09979758411645889, 0.1663293093442917, 0.2883041501045227, 0.2668881118297577, 0.30247318744659424, 0.23130303621292114, 0.17792540788650513, 0.5053949356079102, 0.8702714443206787, 0.7061983346939087, 0.2551896572113037, 0.7655689716339111, 0.15196752548217773, 0.4559025764465332, 0.30393505096435547, 0.6101629734039307, 0.30508148670196533, 0.943352460861206, 0.3410395681858063, 0.5115593671798706, 0.7027968764305115, 0.9433344006538391, 0.7050771713256836, 0.421752393245697, 0.28116825222969055, 0.14058412611484528, 0.2108761966228485, 0.5071049928665161, 0.1881195455789566, 0.1881195455789566, 0.564358651638031, 0.3241361975669861, 0.25930896401405334, 0.3889634311199188, 0.06482724100351334, 0.34824270009994507, 0.2611820101737976, 0.34824270009994507, 0.5054218769073486, 0.5745797157287598, 0.14364492893218994, 0.14364492893218994, 0.14364492893218994, 0.9147947430610657, 0.5054033398628235, 0.11634882539510727, 0.3490464687347412, 0.5817441344261169, 0.7595425248146057, 0.5071280002593994, 0.188663050532341, 0.754652202129364, 0.24976684153079987, 0.749300479888916, 0.7624273300170898, 0.29850828647613525, 0.5970165729522705, 0.7089605927467346, 0.14179211854934692, 0.759537398815155, 0.2634396553039551, 0.2634396553039551, 0.35125288367271423, 0.17562644183635712, 0.4380394518375397, 0.6570591926574707, 0.7588537931442261, 0.509714663028717, 0.4840708076953888, 0.4840708076953888, 0.2500081956386566, 0.7500245571136475, 0.5071203708648682, 0.5097222328186035, 0.30480849742889404, 0.6096169948577881, 0.9433353543281555, 0.9433512687683105, 0.9433280825614929, 0.7667633295059204, 0.48679912090301514, 0.29207947850227356, 0.09735982120037079, 0.09735982120037079, 0.9432581663131714, 0.4393485188484192, 0.183061882853508, 0.2196742594242096, 0.1464495062828064, 0.5071269273757935, 0.2550578713417053, 0.765173614025116, 0.6123561859130859, 0.2041187286376953, 0.5071350336074829, 0.3174731135368347, 0.10582436621189117, 0.10582436621189117, 0.4232974648475647, 0.5097329020500183, 0.9432859420776367, 0.5071179270744324, 0.7624379992485046, 0.7596690654754639, 0.7104752063751221, 0.23682506382465363, 0.9217141270637512, 0.5071278810501099, 0.9432411789894104, 0.22587092220783234, 0.3764515221118927, 0.3764515221118927, 0.03764515370130539, 0.7664007544517517, 0.5136492252349854, 0.08560819923877716, 0.2568246126174927, 0.17121639847755432, 0.15125899016857147, 0.30251798033714294, 0.4537769854068756, 0.6105133891105652, 0.5071176886558533, 0.2148493230342865, 0.2148493230342865, 0.2148493230342865, 0.429698646068573, 0.6048564910888672, 0.0756070613861084, 0.1512141227722168, 0.1512141227722168, 0.2362852692604065, 0.157523512840271, 0.157523512840271, 0.3938087821006775, 0.8705621361732483, 0.6129897236824036, 0.3064948618412018, 0.7668243050575256, 0.2537860870361328, 0.7613582611083984, 0.2000911384820938, 0.2000911384820938, 0.1000455692410469, 0.4001822769641876, 0.5054152607917786, 0.50972580909729, 0.16718152165412903, 0.5015445947647095, 0.16718152165412903, 0.6107879877090454, 0.20359599590301514, 0.4305882155895233, 0.08611764013767242, 0.3444705605506897, 0.08611764013767242, 0.7127730250358582, 0.23759101331233978, 0.6136005520820618, 0.3068002760410309, 0.5097267627716064, 0.2365567982196808, 0.15770453214645386, 0.39426133036613464, 0.15770453214645386, 0.5097375512123108, 0.6101627945899963, 0.30508139729499817, 0.29999682307243347, 0.5999936461448669, 0.21586275100708008, 0.6475882530212402, 0.21586275100708008, 0.5094691514968872, 0.07278130948543549, 0.21834391355514526, 0.21834391355514526, 0.5171905755996704, 0.23508663475513458, 0.1410519778728485, 0.1410519778728485, 0.6532683372497559, 0.13065366446971893, 0.26130732893943787, 0.5097181797027588, 0.7028768658638, 0.439545214176178, 0.3662876784801483, 0.14651507139205933, 0.07325753569602966, 0.08449747413396835, 0.3379898965358734, 0.42248737812042236, 0.1689949482679367, 0.18869465589523315, 0.3773893117904663, 0.4717366397380829, 0.33238476514816284, 0.12086718529462814, 0.18130077421665192, 0.33238476514816284, 0.5588011741638184, 0.1397002935409546, 0.1397002935409546, 0.5054289698600769, 0.7142974138259888, 0.2857189476490021, 0.5126312971115112, 0.0854385495185852, 0.3417541980743408, 0.5096961259841919, 0.16738688945770264, 0.16738688945770264, 0.6695475578308105, 0.3556255102157593, 0.11854182928800583, 0.11854182928800583, 0.4148963987827301, 0.20130327343940735, 0.20130327343940735, 0.20130327343940735, 0.4026065468788147, 0.2004593461751938, 0.5011484026908875, 0.1002296730875969, 0.1002296730875969, 0.8505889177322388, 0.2835296392440796, 0.9433505535125732, 0.509698748588562, 0.22512118518352509, 0.22512118518352509, 0.30016157031059265, 0.22512118518352509, 0.2367226630449295, 0.3156302273273468, 0.2367226630449295, 0.2367226630449295, 0.3751818537712097, 0.23448866605758667, 0.18759092688560486, 0.18759092688560486, 0.5054146647453308, 0.5097169280052185, 0.5528557300567627, 0.13821393251419067, 0.13821393251419067, 0.13821393251419067, 0.48537686467170715, 0.3640326261520386, 0.5760206580162048, 0.2880103290081024, 0.1440051645040512, 0.5071310997009277, 0.7668671011924744, 0.5071588158607483, 0.24884893000125885, 0.7465468049049377, 0.19024483859539032, 0.19024483859539032, 0.5707345008850098, 0.17835459113121033, 0.2675319015979767, 0.5350638031959534, 0.08917729556560516, 0.7595387101173401, 0.9433242678642273, 0.5097300410270691, 0.3135402500629425, 0.23515518009662628, 0.23515518009662628, 0.23515518009662628, 0.255031555891037, 0.7650946378707886, 0.5053939819335938, 0.3055238425731659, 0.6110476851463318, 0.5053809881210327, 0.6214867234230042, 0.09561333805322647, 0.09561333805322647, 0.19122667610645294, 0.9432871341705322, 0.5071218013763428, 0.5054171681404114, 0.7029197812080383, 0.9432769417762756, 0.5053765773773193, 0.30446657538414, 0.60893315076828, 0.7624503374099731, 0.7059404850006104, 0.23531349003314972, 0.7678275108337402, 0.25594252347946167, 0.23627206683158875, 0.39378678798675537, 0.23627206683158875, 0.07875735312700272, 0.48623865842819214, 0.09724773466587067, 0.2917431890964508, 0.09724773466587067, 0.7118208408355713, 0.11863680183887482, 0.11863680183887482, 0.16805368661880493, 0.5041610598564148, 0.16805368661880493, 0.16805368661880493, 0.754860520362854, 0.5071367025375366, 0.7618805170059204, 0.7603830099105835, 0.2986546754837036, 0.5973093509674072, 0.9433294534683228, 0.7667639851570129, 0.22574424743652344, 0.4514884948730469, 0.30099233984947205, 0.5984712839126587, 0.23938851058483124, 0.11969425529241562, 0.5097135901451111, 0.5071233510971069, 0.7071290612220764, 0.4020364284515381, 0.1340121477842331, 0.2680242955684662, 0.20101821422576904, 0.759541928768158, 0.7097854614257812, 0.23659515380859375, 0.5071406364440918, 0.7681970000267029, 0.1280328333377838, 0.10883264988660812, 0.10883264988660812, 0.6529958844184875, 0.21590077877044678, 0.43180155754089355, 0.10795038938522339, 0.21590077877044678, 0.3367120921611786, 0.20202726125717163, 0.23569846153259277, 0.23569846153259277, 0.14388282597064972, 0.21582424640655518, 0.28776565194129944, 0.3597070872783661, 0.6101226806640625, 0.2033742368221283, 0.21396809816360474, 0.21396809816360474, 0.6419042944908142, 0.509712278842926, 0.6067543029785156, 0.1516885757446289, 0.07584428787231445, 0.07584428787231445, 0.5071243643760681, 0.5054258704185486, 0.5097173452377319, 0.5054184794425964, 0.5075595378875732, 0.5075595378875732, 0.18661877512931824, 0.18661877512931824, 0.5598563551902771, 0.5071110725402832, 0.5054132342338562, 0.7624363899230957, 0.7668630480766296, 0.9432722926139832, 0.10360412299633026, 0.27627766132354736, 0.24174295365810394, 0.37988176941871643, 0.5054287910461426, 0.5071118474006653, 0.9433338046073914, 0.4266696870326996, 0.34909337759017944, 0.07757630944252014, 0.15515261888504028, 0.13795946538448334, 0.2759189307689667, 0.13795946538448334, 0.5518378615379333, 0.5097125172615051, 0.2145928293466568, 0.6437785029411316], \"Term\": [\"abaixo\", \"acreditam\", \"adiar\", \"agentes\", \"alerta\", \"alerta\", \"algum\", \"alunos\", \"alvo\", \"ambiente\", \"americana\", \"amor\", \"ampliado\", \"ampliado\", \"andreiasadi\", \"andreiasadi\", \"anos\", \"anos\", \"anos\", \"anos\", \"anulado\", \"apaixonado\", \"aponta\", \"aponta\", \"aponta\", \"apos\", \"apos\", \"apos\", \"apos\", \"aras\", \"auxilio\", \"auxilio\", \"auxilio\", \"auxilio\", \"avaliacao\", \"bastidores\", \"bastidores\", \"bernardinho\", \"blog\", \"blog\", \"blog\", \"blog\", \"bolsonaro\", \"bolsonaro\", \"bolsonaro\", \"bolsonaro\", \"bomdiabrasil\", \"brasil\", \"brasil\", \"brasil\", \"brasil\", \"cada\", \"cada\", \"cada\", \"cada\", \"caiu\", \"carcere\", \"cargo\", \"cargo\", \"cargos\", \"carros\", \"carros\", \"casa\", \"casa\", \"casa\", \"casa\", \"casos\", \"casos\", \"casos\", \"casos\", \"causas\", \"causou\", \"ceara\", \"celso\", \"celso\", \"celulares\", \"centrao\", \"china\", \"china\", \"combate\", \"combate\", \"combate\", \"combate\", \"comediante\", \"computadores\", \"conclui\", \"consequencias\", \"consulta\", \"contra\", \"contra\", \"contra\", \"contra\", \"coronavirus\", \"coronavirus\", \"coronavirus\", \"coronavirus\", \"covid\", \"covid\", \"covid\", \"covid\", \"curados\", \"dados\", \"decisao\", \"decreto\", \"decreto\", \"defende\", \"defende\", \"defende\", \"deficiencia\", \"deficiencia\", \"delegados\", \"dentro\", \"dentro\", \"depoem\", \"desgastado\", \"deve\", \"dias\", \"dias\", \"dias\", \"dias\", \"disparar\", \"distanciamento\", \"distanciamento\", \"distanciamento\", \"durante\", \"durante\", \"durante\", \"durante\", \"emergencial\", \"emergencial\", \"emergencial\", \"emprestados\", \"entregar\", \"entregar\", \"entregar\", \"entregar\", \"entrevista\", \"esposa\", \"estado\", \"estado\", \"estado\", \"estaduais\", \"estresse\", \"estudo\", \"estudo\", \"estudos\", \"estudos\", \"etapa\", \"europa\", \"europa\", \"exames\", \"exames\", \"explicar\", \"fake\", \"fake\", \"fake\", \"fake\", \"falas\", \"falas\", \"favela\", \"fazia\", \"feira\", \"feira\", \"ficar\", \"ficar\", \"flagrado\", \"fontes\", \"foto\", \"foto\", \"fritura\", \"funcionar\", \"futura\", \"gavassi\", \"globonews\", \"globonews\", \"globonews\", \"globonews\", \"goias\", \"governo\", \"governo\", \"governo\", \"governo\", \"gradual\", \"gripe\", \"gripe\", \"grupo\", \"grupo\", \"hora\", \"hospital\", \"hospital\", \"hospital\", \"hospital\", \"ibaneis\", \"idosos\", \"importantes\", \"inclusao\", \"indicam\", \"inqueritonostf\", \"inqueritonostf\", \"integra\", \"internacoes\", \"isolado\", \"isolamento\", \"isolamento\", \"isolamento\", \"isolamento\", \"jornalnacional\", \"justica\", \"justica\", \"justica\", \"justica\", \"leia\", \"leia\", \"leia\", \"levar\", \"like\", \"live\", \"live\", \"live\", \"live\", \"lockdown\", \"lockdown\", \"lockdown\", \"lockdown\", \"maio\", \"maio\", \"maio\", \"maio\", \"manaus\", \"manter\", \"manter\", \"manu\", \"marco\", \"marco\", \"mascaras\", \"mascaras\", \"mascaras\", \"mascaras\", \"maternidade\", \"mauricio\", \"medico\", \"medico\", \"medico\", \"medo\", \"medo\", \"meio\", \"meio\", \"meio\", \"meio\", \"mello\", \"mello\", \"menor\", \"menor\", \"meuxgyzlre\", \"milhoes\", \"milhoes\", \"milhoes\", \"milhoes\", \"milicia\", \"militares\", \"militares\", \"minas\", \"minas\", \"ministerial\", \"ministerial\", \"ministerial\", \"ministerio\", \"ministerio\", \"ministerio\", \"ministerio\", \"ministro\", \"ministro\", \"ministro\", \"ministro\", \"ministros\", \"ministros\", \"ministros\", \"monitorar\", \"moradores\", \"moro\", \"moro\", \"moro\", \"moro\", \"morre\", \"morre\", \"morre\", \"morre\", \"morte\", \"morte\", \"morte\", \"mortes\", \"mortes\", \"mortes\", \"mortes\", \"mundo\", \"mundo\", \"mundo\", \"namorado\", \"nelson\", \"nelson\", \"nesta\", \"nesta\", \"nesta\", \"noruega\", \"noticia\", \"noticia\", \"noticia\", \"novo\", \"novo\", \"novo\", \"novo\", \"numero\", \"numero\", \"numero\", \"numero\", \"oassunto\", \"oassunto\", \"oassunto\", \"oassunto\", \"ocupacao\", \"ocupacao\", \"ocupados\", \"orla\", \"pacientes\", \"pacientes\", \"pacientes\", \"pacientes\", \"pais\", \"pais\", \"pais\", \"pais\", \"pandemia\", \"pandemia\", \"pandemia\", \"pandemia\", \"passageiros\", \"passo\", \"paulo\", \"paulo\", \"paulo\", \"paulo\", \"pede\", \"pede\", \"pedido\", \"pedido\", \"pedido\", \"pediram\", \"perdeu\", \"pernambuco\", \"pesquisas\", \"pesquisas\", \"pessoa\", \"pessoa\", \"pessoa\", \"pessoas\", \"pessoas\", \"pessoas\", \"pessoas\", \"petrobras\", \"plastificado\", \"podcast\", \"pode\", \"pode\", \"pode\", \"pode\", \"podem\", \"podem\", \"postos\", \"precisam\", \"precisam\", \"preparam\", \"presidente\", \"presidente\", \"presidente\", \"presidente\", \"previsao\", \"primeiros\", \"professores\", \"pronto\", \"proteger\", \"psicologa\", \"publica\", \"publica\", \"puerperas\", \"punicao\", \"punicao\", \"quais\", \"quais\", \"quarentena\", \"quarentena\", \"quarentena\", \"quarentena\", \"quase\", \"quase\", \"quase\", \"quase\", \"queda\", \"queda\", \"queda\", \"quer\", \"quer\", \"quer\", \"quer\", \"rapido\", \"receberam\", \"recebeu\", \"rede\", \"relaxamento\", \"relaxamento\", \"republica\", \"restricoes\", \"reuniao\", \"reuniao\", \"reuniao\", \"rodizio\", \"rodizio\", \"rodizio\", \"sabem\", \"salvar\", \"santa\", \"saude\", \"saude\", \"saude\", \"saude\", \"secretarias\", \"secretario\", \"secretario\", \"seguir\", \"segunda\", \"segunda\", \"segundo\", \"segundo\", \"segundo\", \"semana\", \"semana\", \"semana\", \"semana\", \"sobre\", \"sobre\", \"sobre\", \"sobre\", \"social\", \"social\", \"social\", \"social\", \"suposta\", \"suposta\", \"suspeita\", \"suspeita\", \"suspeita\", \"tata\", \"teich\", \"teich\", \"teich\", \"teich\", \"teme\", \"terminar\", \"terminou\", \"terras\", \"trabalho\", \"trabalho\", \"tratamento\", \"tratamento\", \"tratamento\", \"tuite\", \"usem\", \"vacinacao\", \"valeixo\", \"valer\", \"veja\", \"veja\", \"veja\", \"veja\", \"vejo\", \"vence\", \"vencer\", \"video\", \"video\", \"video\", \"video\", \"vitima\", \"vitima\", \"vitima\", \"vitima\", \"werneck\", \"witzel\", \"witzel\"]}, \"R\": 30, \"lambda.step\": 0.01, \"plot.opts\": {\"xlab\": \"PC1\", \"ylab\": \"PC2\"}, \"topic.order\": [2, 1, 3, 4]};\n",
              "\n",
              "function LDAvis_load_lib(url, callback){\n",
              "  var s = document.createElement('script');\n",
              "  s.src = url;\n",
              "  s.async = true;\n",
              "  s.onreadystatechange = s.onload = callback;\n",
              "  s.onerror = function(){console.warn(\"failed to load library \" + url);};\n",
              "  document.getElementsByTagName(\"head\")[0].appendChild(s);\n",
              "}\n",
              "\n",
              "if(typeof(LDAvis) !== \"undefined\"){\n",
              "   // already loaded: just create the visualization\n",
              "   !function(LDAvis){\n",
              "       new LDAvis(\"#\" + \"ldavis_el3841406748314353601312070473\", ldavis_el3841406748314353601312070473_data);\n",
              "   }(LDAvis);\n",
              "}else if(typeof define === \"function\" && define.amd){\n",
              "   // require.js is available: use it to load d3/LDAvis\n",
              "   require.config({paths: {d3: \"https://cdnjs.cloudflare.com/ajax/libs/d3/3.5.5/d3.min\"}});\n",
              "   require([\"d3\"], function(d3){\n",
              "      window.d3 = d3;\n",
              "      LDAvis_load_lib(\"https://cdn.rawgit.com/bmabey/pyLDAvis/files/ldavis.v1.0.0.js\", function(){\n",
              "        new LDAvis(\"#\" + \"ldavis_el3841406748314353601312070473\", ldavis_el3841406748314353601312070473_data);\n",
              "      });\n",
              "    });\n",
              "}else{\n",
              "    // require.js not available: dynamically load d3 & LDAvis\n",
              "    LDAvis_load_lib(\"https://cdnjs.cloudflare.com/ajax/libs/d3/3.5.5/d3.min.js\", function(){\n",
              "         LDAvis_load_lib(\"https://cdn.rawgit.com/bmabey/pyLDAvis/files/ldavis.v1.0.0.js\", function(){\n",
              "                 new LDAvis(\"#\" + \"ldavis_el3841406748314353601312070473\", ldavis_el3841406748314353601312070473_data);\n",
              "            })\n",
              "         });\n",
              "}\n",
              "</script>"
            ],
            "text/plain": [
              "PreparedData(topic_coordinates=              x         y  topics  cluster       Freq\n",
              "topic                                                \n",
              "1     -0.010268 -0.093249       1        1  30.713305\n",
              "0     -0.022508  0.051089       2        1  23.579218\n",
              "2     -0.059376  0.024369       3        1  23.190172\n",
              "3      0.092151  0.017791       4        1  22.517307, topic_info=            Term       Freq      Total Category  logprob  loglift\n",
              "29   coronavirus  90.000000  90.000000  Default  30.0000  30.0000\n",
              "129   isolamento  26.000000  26.000000  Default  29.0000  29.0000\n",
              "846      segundo   9.000000   9.000000  Default  28.0000  28.0000\n",
              "179        feira  10.000000  10.000000  Default  27.0000  27.0000\n",
              "89          veja  28.000000  28.000000  Default  26.0000  26.0000\n",
              "..           ...        ...        ...      ...      ...      ...\n",
              "234      auxilio   4.300464  16.204121   Topic4  -6.0397   0.1643\n",
              "146     hospital   3.627713   9.449619   Topic4  -6.2098   0.5335\n",
              "36       governo   4.426455  27.313168   Topic4  -6.0108  -0.3289\n",
              "90         video   4.064433  25.781067   Topic4  -6.0962  -0.3565\n",
              "93     bolsonaro   4.251862  58.429581   Topic4  -6.0511  -1.1296\n",
              "\n",
              "[322 rows x 6 columns], token_table=      Topic      Freq       Term\n",
              "term                            \n",
              "2247      3  0.507136     abaixo\n",
              "1535      2  0.509733  acreditam\n",
              "1724      2  0.509703      adiar\n",
              "671       1  0.943334    agentes\n",
              "626       1  0.251286     alerta\n",
              "...     ...       ...        ...\n",
              "771       3  0.137959     vitima\n",
              "771       4  0.551838     vitima\n",
              "3346      2  0.509713    werneck\n",
              "23        1  0.214593     witzel\n",
              "23        3  0.643779     witzel\n",
              "\n",
              "[487 rows x 3 columns], R=30, lambda_step=0.01, plot_opts={'xlab': 'PC1', 'ylab': 'PC2'}, topic_order=[2, 1, 3, 4])"
            ]
          },
          "metadata": {
            "tags": []
          },
          "execution_count": 27
        }
      ]
    },
    {
      "cell_type": "code",
      "metadata": {
        "id": "6BEepFq5HQCA",
        "colab_type": "code",
        "outputId": "7d1dd374-0e13-44d1-d7ef-5dace77eb0fb",
        "colab": {
          "base_uri": "https://localhost:8080/",
          "height": 52
        }
      },
      "source": [
        "from gensim.models import CoherenceModel# Compute Coherence Score\n",
        "coherence_model_lda = CoherenceModel(model=lda_model, texts=processed_docs, dictionary=dictionary, coherence='c_v')\n",
        "coherence_lda = coherence_model_lda.get_coherence()\n",
        "print('\\nCoherence Score: ', coherence_lda)"
      ],
      "execution_count": 28,
      "outputs": [
        {
          "output_type": "stream",
          "text": [
            "\n",
            "Coherence Score:  0.4638785297079835\n"
          ],
          "name": "stdout"
        }
      ]
    },
    {
      "cell_type": "code",
      "metadata": {
        "id": "xYT5rqcJK6ax",
        "colab_type": "code",
        "outputId": "6297d018-58fa-4848-c096-9dfd2056c7d0",
        "colab": {
          "base_uri": "https://localhost:8080/",
          "height": 1000
        }
      },
      "source": [
        "import numpy as np\n",
        "import tqdm\n",
        "\n",
        "grid = {}\n",
        "grid['Validation_Set'] = {}\n",
        "\n",
        "# Topics range\n",
        "min_topics = 2\n",
        "max_topics = 20\n",
        "step_size = 1\n",
        "topics_range = range(min_topics, max_topics, step_size)\n",
        "model_results = {'Topics': [],\n",
        "                 'Coherence': []\n",
        "                }\n",
        "\n",
        "pbar = tqdm.tqdm(total=len(topics_range))\n",
        "\n",
        "for k in topics_range:\n",
        "\n",
        "  cv = compute_coherence_values(corpus=corpus, dictionary=dictionary, k=k)\n",
        "  model_results['Topics'].append(k)\n",
        "  model_results['Coherence'].append(cv)\n",
        "  pbar.update(1)\n",
        "pbar.close()"
      ],
      "execution_count": 29,
      "outputs": [
        {
          "output_type": "stream",
          "text": [
            "/usr/local/lib/python3.6/dist-packages/gensim/models/ldamodel.py:1077: DeprecationWarning: Calling np.sum(generator) is deprecated, and in the future will give a different result. Use np.sum(np.fromiter(generator)) or the python sum builtin instead.\n",
            "  score += np.sum(cnt * logsumexp(Elogthetad + Elogbeta[:, int(id)]) for id, cnt in doc)\n",
            "/usr/local/lib/python3.6/dist-packages/gensim/models/ldamodel.py:1077: DeprecationWarning: Calling np.sum(generator) is deprecated, and in the future will give a different result. Use np.sum(np.fromiter(generator)) or the python sum builtin instead.\n",
            "  score += np.sum(cnt * logsumexp(Elogthetad + Elogbeta[:, int(id)]) for id, cnt in doc)\n",
            "/usr/local/lib/python3.6/dist-packages/gensim/models/ldamodel.py:1077: DeprecationWarning: Calling np.sum(generator) is deprecated, and in the future will give a different result. Use np.sum(np.fromiter(generator)) or the python sum builtin instead.\n",
            "  score += np.sum(cnt * logsumexp(Elogthetad + Elogbeta[:, int(id)]) for id, cnt in doc)\n",
            "/usr/local/lib/python3.6/dist-packages/gensim/models/ldamodel.py:1077: DeprecationWarning: Calling np.sum(generator) is deprecated, and in the future will give a different result. Use np.sum(np.fromiter(generator)) or the python sum builtin instead.\n",
            "  score += np.sum(cnt * logsumexp(Elogthetad + Elogbeta[:, int(id)]) for id, cnt in doc)\n",
            "/usr/local/lib/python3.6/dist-packages/gensim/models/ldamodel.py:1077: DeprecationWarning: Calling np.sum(generator) is deprecated, and in the future will give a different result. Use np.sum(np.fromiter(generator)) or the python sum builtin instead.\n",
            "  score += np.sum(cnt * logsumexp(Elogthetad + Elogbeta[:, int(id)]) for id, cnt in doc)\n",
            "/usr/local/lib/python3.6/dist-packages/gensim/models/ldamodel.py:1077: DeprecationWarning: Calling np.sum(generator) is deprecated, and in the future will give a different result. Use np.sum(np.fromiter(generator)) or the python sum builtin instead.\n",
            "  score += np.sum(cnt * logsumexp(Elogthetad + Elogbeta[:, int(id)]) for id, cnt in doc)\n",
            "/usr/local/lib/python3.6/dist-packages/gensim/models/ldamodel.py:1077: DeprecationWarning: Calling np.sum(generator) is deprecated, and in the future will give a different result. Use np.sum(np.fromiter(generator)) or the python sum builtin instead.\n",
            "  score += np.sum(cnt * logsumexp(Elogthetad + Elogbeta[:, int(id)]) for id, cnt in doc)\n",
            "/usr/local/lib/python3.6/dist-packages/gensim/models/ldamodel.py:1077: DeprecationWarning: Calling np.sum(generator) is deprecated, and in the future will give a different result. Use np.sum(np.fromiter(generator)) or the python sum builtin instead.\n",
            "  score += np.sum(cnt * logsumexp(Elogthetad + Elogbeta[:, int(id)]) for id, cnt in doc)\n",
            "/usr/local/lib/python3.6/dist-packages/gensim/models/ldamodel.py:1077: DeprecationWarning: Calling np.sum(generator) is deprecated, and in the future will give a different result. Use np.sum(np.fromiter(generator)) or the python sum builtin instead.\n",
            "  score += np.sum(cnt * logsumexp(Elogthetad + Elogbeta[:, int(id)]) for id, cnt in doc)\n",
            "/usr/local/lib/python3.6/dist-packages/gensim/models/ldamodel.py:1077: DeprecationWarning: Calling np.sum(generator) is deprecated, and in the future will give a different result. Use np.sum(np.fromiter(generator)) or the python sum builtin instead.\n",
            "  score += np.sum(cnt * logsumexp(Elogthetad + Elogbeta[:, int(id)]) for id, cnt in doc)\n",
            "/usr/local/lib/python3.6/dist-packages/gensim/models/ldamodel.py:1077: DeprecationWarning: Calling np.sum(generator) is deprecated, and in the future will give a different result. Use np.sum(np.fromiter(generator)) or the python sum builtin instead.\n",
            "  score += np.sum(cnt * logsumexp(Elogthetad + Elogbeta[:, int(id)]) for id, cnt in doc)\n",
            "/usr/local/lib/python3.6/dist-packages/gensim/models/ldamodel.py:1077: DeprecationWarning: Calling np.sum(generator) is deprecated, and in the future will give a different result. Use np.sum(np.fromiter(generator)) or the python sum builtin instead.\n",
            "  score += np.sum(cnt * logsumexp(Elogthetad + Elogbeta[:, int(id)]) for id, cnt in doc)\n",
            "/usr/local/lib/python3.6/dist-packages/gensim/models/ldamodel.py:1077: DeprecationWarning: Calling np.sum(generator) is deprecated, and in the future will give a different result. Use np.sum(np.fromiter(generator)) or the python sum builtin instead.\n",
            "  score += np.sum(cnt * logsumexp(Elogthetad + Elogbeta[:, int(id)]) for id, cnt in doc)\n",
            "/usr/local/lib/python3.6/dist-packages/gensim/models/ldamodel.py:1077: DeprecationWarning: Calling np.sum(generator) is deprecated, and in the future will give a different result. Use np.sum(np.fromiter(generator)) or the python sum builtin instead.\n",
            "  score += np.sum(cnt * logsumexp(Elogthetad + Elogbeta[:, int(id)]) for id, cnt in doc)\n",
            "/usr/local/lib/python3.6/dist-packages/gensim/models/ldamodel.py:1077: DeprecationWarning: Calling np.sum(generator) is deprecated, and in the future will give a different result. Use np.sum(np.fromiter(generator)) or the python sum builtin instead.\n",
            "  score += np.sum(cnt * logsumexp(Elogthetad + Elogbeta[:, int(id)]) for id, cnt in doc)\n",
            "/usr/local/lib/python3.6/dist-packages/gensim/models/ldamodel.py:1077: DeprecationWarning: Calling np.sum(generator) is deprecated, and in the future will give a different result. Use np.sum(np.fromiter(generator)) or the python sum builtin instead.\n",
            "  score += np.sum(cnt * logsumexp(Elogthetad + Elogbeta[:, int(id)]) for id, cnt in doc)\n",
            "/usr/local/lib/python3.6/dist-packages/gensim/models/ldamodel.py:1077: DeprecationWarning: Calling np.sum(generator) is deprecated, and in the future will give a different result. Use np.sum(np.fromiter(generator)) or the python sum builtin instead.\n",
            "  score += np.sum(cnt * logsumexp(Elogthetad + Elogbeta[:, int(id)]) for id, cnt in doc)\n",
            "/usr/local/lib/python3.6/dist-packages/gensim/models/ldamodel.py:1077: DeprecationWarning: Calling np.sum(generator) is deprecated, and in the future will give a different result. Use np.sum(np.fromiter(generator)) or the python sum builtin instead.\n",
            "  score += np.sum(cnt * logsumexp(Elogthetad + Elogbeta[:, int(id)]) for id, cnt in doc)\n",
            "/usr/local/lib/python3.6/dist-packages/gensim/models/ldamodel.py:1077: DeprecationWarning: Calling np.sum(generator) is deprecated, and in the future will give a different result. Use np.sum(np.fromiter(generator)) or the python sum builtin instead.\n",
            "  score += np.sum(cnt * logsumexp(Elogthetad + Elogbeta[:, int(id)]) for id, cnt in doc)\n",
            "/usr/local/lib/python3.6/dist-packages/gensim/models/ldamodel.py:1077: DeprecationWarning: Calling np.sum(generator) is deprecated, and in the future will give a different result. Use np.sum(np.fromiter(generator)) or the python sum builtin instead.\n",
            "  score += np.sum(cnt * logsumexp(Elogthetad + Elogbeta[:, int(id)]) for id, cnt in doc)\n",
            "/usr/local/lib/python3.6/dist-packages/gensim/models/ldamodel.py:1077: DeprecationWarning: Calling np.sum(generator) is deprecated, and in the future will give a different result. Use np.sum(np.fromiter(generator)) or the python sum builtin instead.\n",
            "  score += np.sum(cnt * logsumexp(Elogthetad + Elogbeta[:, int(id)]) for id, cnt in doc)\n",
            "/usr/local/lib/python3.6/dist-packages/gensim/models/ldamodel.py:1077: DeprecationWarning: Calling np.sum(generator) is deprecated, and in the future will give a different result. Use np.sum(np.fromiter(generator)) or the python sum builtin instead.\n",
            "  score += np.sum(cnt * logsumexp(Elogthetad + Elogbeta[:, int(id)]) for id, cnt in doc)\n",
            "/usr/local/lib/python3.6/dist-packages/gensim/models/ldamodel.py:1077: DeprecationWarning: Calling np.sum(generator) is deprecated, and in the future will give a different result. Use np.sum(np.fromiter(generator)) or the python sum builtin instead.\n",
            "  score += np.sum(cnt * logsumexp(Elogthetad + Elogbeta[:, int(id)]) for id, cnt in doc)\n",
            "/usr/local/lib/python3.6/dist-packages/gensim/models/ldamodel.py:1077: DeprecationWarning: Calling np.sum(generator) is deprecated, and in the future will give a different result. Use np.sum(np.fromiter(generator)) or the python sum builtin instead.\n",
            "  score += np.sum(cnt * logsumexp(Elogthetad + Elogbeta[:, int(id)]) for id, cnt in doc)\n",
            "/usr/local/lib/python3.6/dist-packages/gensim/models/ldamodel.py:1077: DeprecationWarning: Calling np.sum(generator) is deprecated, and in the future will give a different result. Use np.sum(np.fromiter(generator)) or the python sum builtin instead.\n",
            "  score += np.sum(cnt * logsumexp(Elogthetad + Elogbeta[:, int(id)]) for id, cnt in doc)\n",
            "/usr/local/lib/python3.6/dist-packages/gensim/models/ldamodel.py:1077: DeprecationWarning: Calling np.sum(generator) is deprecated, and in the future will give a different result. Use np.sum(np.fromiter(generator)) or the python sum builtin instead.\n",
            "  score += np.sum(cnt * logsumexp(Elogthetad + Elogbeta[:, int(id)]) for id, cnt in doc)\n",
            "/usr/local/lib/python3.6/dist-packages/gensim/models/ldamodel.py:1077: DeprecationWarning: Calling np.sum(generator) is deprecated, and in the future will give a different result. Use np.sum(np.fromiter(generator)) or the python sum builtin instead.\n",
            "  score += np.sum(cnt * logsumexp(Elogthetad + Elogbeta[:, int(id)]) for id, cnt in doc)\n",
            "/usr/local/lib/python3.6/dist-packages/gensim/models/ldamodel.py:1077: DeprecationWarning: Calling np.sum(generator) is deprecated, and in the future will give a different result. Use np.sum(np.fromiter(generator)) or the python sum builtin instead.\n",
            "  score += np.sum(cnt * logsumexp(Elogthetad + Elogbeta[:, int(id)]) for id, cnt in doc)\n",
            "/usr/local/lib/python3.6/dist-packages/gensim/models/ldamodel.py:1077: DeprecationWarning: Calling np.sum(generator) is deprecated, and in the future will give a different result. Use np.sum(np.fromiter(generator)) or the python sum builtin instead.\n",
            "  score += np.sum(cnt * logsumexp(Elogthetad + Elogbeta[:, int(id)]) for id, cnt in doc)\n",
            "/usr/local/lib/python3.6/dist-packages/gensim/models/ldamodel.py:1077: DeprecationWarning: Calling np.sum(generator) is deprecated, and in the future will give a different result. Use np.sum(np.fromiter(generator)) or the python sum builtin instead.\n",
            "  score += np.sum(cnt * logsumexp(Elogthetad + Elogbeta[:, int(id)]) for id, cnt in doc)\n",
            "/usr/local/lib/python3.6/dist-packages/gensim/models/ldamodel.py:1077: DeprecationWarning: Calling np.sum(generator) is deprecated, and in the future will give a different result. Use np.sum(np.fromiter(generator)) or the python sum builtin instead.\n",
            "  score += np.sum(cnt * logsumexp(Elogthetad + Elogbeta[:, int(id)]) for id, cnt in doc)\n",
            "/usr/local/lib/python3.6/dist-packages/gensim/models/ldamodel.py:1077: DeprecationWarning: Calling np.sum(generator) is deprecated, and in the future will give a different result. Use np.sum(np.fromiter(generator)) or the python sum builtin instead.\n",
            "  score += np.sum(cnt * logsumexp(Elogthetad + Elogbeta[:, int(id)]) for id, cnt in doc)\n",
            "/usr/local/lib/python3.6/dist-packages/gensim/models/ldamodel.py:1077: DeprecationWarning: Calling np.sum(generator) is deprecated, and in the future will give a different result. Use np.sum(np.fromiter(generator)) or the python sum builtin instead.\n",
            "  score += np.sum(cnt * logsumexp(Elogthetad + Elogbeta[:, int(id)]) for id, cnt in doc)\n",
            "/usr/local/lib/python3.6/dist-packages/gensim/models/ldamodel.py:1077: DeprecationWarning: Calling np.sum(generator) is deprecated, and in the future will give a different result. Use np.sum(np.fromiter(generator)) or the python sum builtin instead.\n",
            "  score += np.sum(cnt * logsumexp(Elogthetad + Elogbeta[:, int(id)]) for id, cnt in doc)\n",
            "/usr/local/lib/python3.6/dist-packages/gensim/models/ldamodel.py:1077: DeprecationWarning: Calling np.sum(generator) is deprecated, and in the future will give a different result. Use np.sum(np.fromiter(generator)) or the python sum builtin instead.\n",
            "  score += np.sum(cnt * logsumexp(Elogthetad + Elogbeta[:, int(id)]) for id, cnt in doc)\n",
            "/usr/local/lib/python3.6/dist-packages/gensim/models/ldamodel.py:1077: DeprecationWarning: Calling np.sum(generator) is deprecated, and in the future will give a different result. Use np.sum(np.fromiter(generator)) or the python sum builtin instead.\n",
            "  score += np.sum(cnt * logsumexp(Elogthetad + Elogbeta[:, int(id)]) for id, cnt in doc)\n",
            "/usr/local/lib/python3.6/dist-packages/gensim/models/ldamodel.py:1077: DeprecationWarning: Calling np.sum(generator) is deprecated, and in the future will give a different result. Use np.sum(np.fromiter(generator)) or the python sum builtin instead.\n",
            "  score += np.sum(cnt * logsumexp(Elogthetad + Elogbeta[:, int(id)]) for id, cnt in doc)\n",
            "/usr/local/lib/python3.6/dist-packages/gensim/models/ldamodel.py:1077: DeprecationWarning: Calling np.sum(generator) is deprecated, and in the future will give a different result. Use np.sum(np.fromiter(generator)) or the python sum builtin instead.\n",
            "  score += np.sum(cnt * logsumexp(Elogthetad + Elogbeta[:, int(id)]) for id, cnt in doc)\n",
            "/usr/local/lib/python3.6/dist-packages/gensim/models/ldamodel.py:1077: DeprecationWarning: Calling np.sum(generator) is deprecated, and in the future will give a different result. Use np.sum(np.fromiter(generator)) or the python sum builtin instead.\n",
            "  score += np.sum(cnt * logsumexp(Elogthetad + Elogbeta[:, int(id)]) for id, cnt in doc)\n",
            "/usr/local/lib/python3.6/dist-packages/gensim/models/ldamodel.py:1077: DeprecationWarning: Calling np.sum(generator) is deprecated, and in the future will give a different result. Use np.sum(np.fromiter(generator)) or the python sum builtin instead.\n",
            "  score += np.sum(cnt * logsumexp(Elogthetad + Elogbeta[:, int(id)]) for id, cnt in doc)\n",
            "/usr/local/lib/python3.6/dist-packages/gensim/models/ldamodel.py:1077: DeprecationWarning: Calling np.sum(generator) is deprecated, and in the future will give a different result. Use np.sum(np.fromiter(generator)) or the python sum builtin instead.\n",
            "  score += np.sum(cnt * logsumexp(Elogthetad + Elogbeta[:, int(id)]) for id, cnt in doc)\n",
            "/usr/local/lib/python3.6/dist-packages/gensim/models/ldamodel.py:1077: DeprecationWarning: Calling np.sum(generator) is deprecated, and in the future will give a different result. Use np.sum(np.fromiter(generator)) or the python sum builtin instead.\n",
            "  score += np.sum(cnt * logsumexp(Elogthetad + Elogbeta[:, int(id)]) for id, cnt in doc)\n",
            "/usr/local/lib/python3.6/dist-packages/gensim/models/ldamodel.py:1077: DeprecationWarning: Calling np.sum(generator) is deprecated, and in the future will give a different result. Use np.sum(np.fromiter(generator)) or the python sum builtin instead.\n",
            "  score += np.sum(cnt * logsumexp(Elogthetad + Elogbeta[:, int(id)]) for id, cnt in doc)\n",
            "/usr/local/lib/python3.6/dist-packages/gensim/models/ldamodel.py:1077: DeprecationWarning: Calling np.sum(generator) is deprecated, and in the future will give a different result. Use np.sum(np.fromiter(generator)) or the python sum builtin instead.\n",
            "  score += np.sum(cnt * logsumexp(Elogthetad + Elogbeta[:, int(id)]) for id, cnt in doc)\n",
            "/usr/local/lib/python3.6/dist-packages/gensim/models/ldamodel.py:1077: DeprecationWarning: Calling np.sum(generator) is deprecated, and in the future will give a different result. Use np.sum(np.fromiter(generator)) or the python sum builtin instead.\n",
            "  score += np.sum(cnt * logsumexp(Elogthetad + Elogbeta[:, int(id)]) for id, cnt in doc)\n",
            "/usr/local/lib/python3.6/dist-packages/gensim/models/ldamodel.py:1077: DeprecationWarning: Calling np.sum(generator) is deprecated, and in the future will give a different result. Use np.sum(np.fromiter(generator)) or the python sum builtin instead.\n",
            "  score += np.sum(cnt * logsumexp(Elogthetad + Elogbeta[:, int(id)]) for id, cnt in doc)\n",
            "/usr/local/lib/python3.6/dist-packages/gensim/models/ldamodel.py:1077: DeprecationWarning: Calling np.sum(generator) is deprecated, and in the future will give a different result. Use np.sum(np.fromiter(generator)) or the python sum builtin instead.\n",
            "  score += np.sum(cnt * logsumexp(Elogthetad + Elogbeta[:, int(id)]) for id, cnt in doc)\n",
            "/usr/local/lib/python3.6/dist-packages/gensim/models/ldamodel.py:1077: DeprecationWarning: Calling np.sum(generator) is deprecated, and in the future will give a different result. Use np.sum(np.fromiter(generator)) or the python sum builtin instead.\n",
            "  score += np.sum(cnt * logsumexp(Elogthetad + Elogbeta[:, int(id)]) for id, cnt in doc)\n",
            "/usr/local/lib/python3.6/dist-packages/gensim/models/ldamodel.py:1077: DeprecationWarning: Calling np.sum(generator) is deprecated, and in the future will give a different result. Use np.sum(np.fromiter(generator)) or the python sum builtin instead.\n",
            "  score += np.sum(cnt * logsumexp(Elogthetad + Elogbeta[:, int(id)]) for id, cnt in doc)\n",
            "/usr/local/lib/python3.6/dist-packages/gensim/models/ldamodel.py:1077: DeprecationWarning: Calling np.sum(generator) is deprecated, and in the future will give a different result. Use np.sum(np.fromiter(generator)) or the python sum builtin instead.\n",
            "  score += np.sum(cnt * logsumexp(Elogthetad + Elogbeta[:, int(id)]) for id, cnt in doc)\n",
            "/usr/local/lib/python3.6/dist-packages/gensim/models/ldamodel.py:1077: DeprecationWarning: Calling np.sum(generator) is deprecated, and in the future will give a different result. Use np.sum(np.fromiter(generator)) or the python sum builtin instead.\n",
            "  score += np.sum(cnt * logsumexp(Elogthetad + Elogbeta[:, int(id)]) for id, cnt in doc)\n",
            "/usr/local/lib/python3.6/dist-packages/gensim/models/ldamodel.py:1077: DeprecationWarning: Calling np.sum(generator) is deprecated, and in the future will give a different result. Use np.sum(np.fromiter(generator)) or the python sum builtin instead.\n",
            "  score += np.sum(cnt * logsumexp(Elogthetad + Elogbeta[:, int(id)]) for id, cnt in doc)\n",
            "/usr/local/lib/python3.6/dist-packages/gensim/models/ldamodel.py:1077: DeprecationWarning: Calling np.sum(generator) is deprecated, and in the future will give a different result. Use np.sum(np.fromiter(generator)) or the python sum builtin instead.\n",
            "  score += np.sum(cnt * logsumexp(Elogthetad + Elogbeta[:, int(id)]) for id, cnt in doc)\n",
            "/usr/local/lib/python3.6/dist-packages/gensim/models/ldamodel.py:1077: DeprecationWarning: Calling np.sum(generator) is deprecated, and in the future will give a different result. Use np.sum(np.fromiter(generator)) or the python sum builtin instead.\n",
            "  score += np.sum(cnt * logsumexp(Elogthetad + Elogbeta[:, int(id)]) for id, cnt in doc)\n",
            "/usr/local/lib/python3.6/dist-packages/gensim/models/ldamodel.py:1077: DeprecationWarning: Calling np.sum(generator) is deprecated, and in the future will give a different result. Use np.sum(np.fromiter(generator)) or the python sum builtin instead.\n",
            "  score += np.sum(cnt * logsumexp(Elogthetad + Elogbeta[:, int(id)]) for id, cnt in doc)\n",
            "/usr/local/lib/python3.6/dist-packages/gensim/models/ldamodel.py:1077: DeprecationWarning: Calling np.sum(generator) is deprecated, and in the future will give a different result. Use np.sum(np.fromiter(generator)) or the python sum builtin instead.\n",
            "  score += np.sum(cnt * logsumexp(Elogthetad + Elogbeta[:, int(id)]) for id, cnt in doc)\n",
            "/usr/local/lib/python3.6/dist-packages/gensim/models/ldamodel.py:1077: DeprecationWarning: Calling np.sum(generator) is deprecated, and in the future will give a different result. Use np.sum(np.fromiter(generator)) or the python sum builtin instead.\n",
            "  score += np.sum(cnt * logsumexp(Elogthetad + Elogbeta[:, int(id)]) for id, cnt in doc)\n",
            "/usr/local/lib/python3.6/dist-packages/gensim/models/ldamodel.py:1077: DeprecationWarning: Calling np.sum(generator) is deprecated, and in the future will give a different result. Use np.sum(np.fromiter(generator)) or the python sum builtin instead.\n",
            "  score += np.sum(cnt * logsumexp(Elogthetad + Elogbeta[:, int(id)]) for id, cnt in doc)\n",
            "/usr/local/lib/python3.6/dist-packages/gensim/models/ldamodel.py:1077: DeprecationWarning: Calling np.sum(generator) is deprecated, and in the future will give a different result. Use np.sum(np.fromiter(generator)) or the python sum builtin instead.\n",
            "  score += np.sum(cnt * logsumexp(Elogthetad + Elogbeta[:, int(id)]) for id, cnt in doc)\n",
            "/usr/local/lib/python3.6/dist-packages/gensim/models/ldamodel.py:1077: DeprecationWarning: Calling np.sum(generator) is deprecated, and in the future will give a different result. Use np.sum(np.fromiter(generator)) or the python sum builtin instead.\n",
            "  score += np.sum(cnt * logsumexp(Elogthetad + Elogbeta[:, int(id)]) for id, cnt in doc)\n",
            "/usr/local/lib/python3.6/dist-packages/gensim/models/ldamodel.py:1077: DeprecationWarning: Calling np.sum(generator) is deprecated, and in the future will give a different result. Use np.sum(np.fromiter(generator)) or the python sum builtin instead.\n",
            "  score += np.sum(cnt * logsumexp(Elogthetad + Elogbeta[:, int(id)]) for id, cnt in doc)\n",
            "/usr/local/lib/python3.6/dist-packages/gensim/models/ldamodel.py:1077: DeprecationWarning: Calling np.sum(generator) is deprecated, and in the future will give a different result. Use np.sum(np.fromiter(generator)) or the python sum builtin instead.\n",
            "  score += np.sum(cnt * logsumexp(Elogthetad + Elogbeta[:, int(id)]) for id, cnt in doc)\n",
            "/usr/local/lib/python3.6/dist-packages/gensim/models/ldamodel.py:1077: DeprecationWarning: Calling np.sum(generator) is deprecated, and in the future will give a different result. Use np.sum(np.fromiter(generator)) or the python sum builtin instead.\n",
            "  score += np.sum(cnt * logsumexp(Elogthetad + Elogbeta[:, int(id)]) for id, cnt in doc)\n",
            "/usr/local/lib/python3.6/dist-packages/gensim/models/ldamodel.py:1077: DeprecationWarning: Calling np.sum(generator) is deprecated, and in the future will give a different result. Use np.sum(np.fromiter(generator)) or the python sum builtin instead.\n",
            "  score += np.sum(cnt * logsumexp(Elogthetad + Elogbeta[:, int(id)]) for id, cnt in doc)\n",
            "/usr/local/lib/python3.6/dist-packages/gensim/models/ldamodel.py:1077: DeprecationWarning: Calling np.sum(generator) is deprecated, and in the future will give a different result. Use np.sum(np.fromiter(generator)) or the python sum builtin instead.\n",
            "  score += np.sum(cnt * logsumexp(Elogthetad + Elogbeta[:, int(id)]) for id, cnt in doc)\n",
            "/usr/local/lib/python3.6/dist-packages/gensim/models/ldamodel.py:1077: DeprecationWarning: Calling np.sum(generator) is deprecated, and in the future will give a different result. Use np.sum(np.fromiter(generator)) or the python sum builtin instead.\n",
            "  score += np.sum(cnt * logsumexp(Elogthetad + Elogbeta[:, int(id)]) for id, cnt in doc)\n",
            "/usr/local/lib/python3.6/dist-packages/gensim/models/ldamodel.py:1077: DeprecationWarning: Calling np.sum(generator) is deprecated, and in the future will give a different result. Use np.sum(np.fromiter(generator)) or the python sum builtin instead.\n",
            "  score += np.sum(cnt * logsumexp(Elogthetad + Elogbeta[:, int(id)]) for id, cnt in doc)\n",
            "/usr/local/lib/python3.6/dist-packages/gensim/models/ldamodel.py:1077: DeprecationWarning: Calling np.sum(generator) is deprecated, and in the future will give a different result. Use np.sum(np.fromiter(generator)) or the python sum builtin instead.\n",
            "  score += np.sum(cnt * logsumexp(Elogthetad + Elogbeta[:, int(id)]) for id, cnt in doc)\n",
            "/usr/local/lib/python3.6/dist-packages/gensim/models/ldamodel.py:1077: DeprecationWarning: Calling np.sum(generator) is deprecated, and in the future will give a different result. Use np.sum(np.fromiter(generator)) or the python sum builtin instead.\n",
            "  score += np.sum(cnt * logsumexp(Elogthetad + Elogbeta[:, int(id)]) for id, cnt in doc)\n",
            "/usr/local/lib/python3.6/dist-packages/gensim/models/ldamodel.py:1077: DeprecationWarning: Calling np.sum(generator) is deprecated, and in the future will give a different result. Use np.sum(np.fromiter(generator)) or the python sum builtin instead.\n",
            "  score += np.sum(cnt * logsumexp(Elogthetad + Elogbeta[:, int(id)]) for id, cnt in doc)\n",
            "/usr/local/lib/python3.6/dist-packages/gensim/models/ldamodel.py:1077: DeprecationWarning: Calling np.sum(generator) is deprecated, and in the future will give a different result. Use np.sum(np.fromiter(generator)) or the python sum builtin instead.\n",
            "  score += np.sum(cnt * logsumexp(Elogthetad + Elogbeta[:, int(id)]) for id, cnt in doc)\n",
            "/usr/local/lib/python3.6/dist-packages/gensim/models/ldamodel.py:1077: DeprecationWarning: Calling np.sum(generator) is deprecated, and in the future will give a different result. Use np.sum(np.fromiter(generator)) or the python sum builtin instead.\n",
            "  score += np.sum(cnt * logsumexp(Elogthetad + Elogbeta[:, int(id)]) for id, cnt in doc)\n",
            "/usr/local/lib/python3.6/dist-packages/gensim/models/ldamodel.py:1077: DeprecationWarning: Calling np.sum(generator) is deprecated, and in the future will give a different result. Use np.sum(np.fromiter(generator)) or the python sum builtin instead.\n",
            "  score += np.sum(cnt * logsumexp(Elogthetad + Elogbeta[:, int(id)]) for id, cnt in doc)\n",
            "/usr/local/lib/python3.6/dist-packages/gensim/models/ldamodel.py:1077: DeprecationWarning: Calling np.sum(generator) is deprecated, and in the future will give a different result. Use np.sum(np.fromiter(generator)) or the python sum builtin instead.\n",
            "  score += np.sum(cnt * logsumexp(Elogthetad + Elogbeta[:, int(id)]) for id, cnt in doc)\n",
            "/usr/local/lib/python3.6/dist-packages/gensim/models/ldamodel.py:1077: DeprecationWarning: Calling np.sum(generator) is deprecated, and in the future will give a different result. Use np.sum(np.fromiter(generator)) or the python sum builtin instead.\n",
            "  score += np.sum(cnt * logsumexp(Elogthetad + Elogbeta[:, int(id)]) for id, cnt in doc)\n",
            "/usr/local/lib/python3.6/dist-packages/gensim/models/ldamodel.py:1077: DeprecationWarning: Calling np.sum(generator) is deprecated, and in the future will give a different result. Use np.sum(np.fromiter(generator)) or the python sum builtin instead.\n",
            "  score += np.sum(cnt * logsumexp(Elogthetad + Elogbeta[:, int(id)]) for id, cnt in doc)\n",
            "/usr/local/lib/python3.6/dist-packages/gensim/models/ldamodel.py:1077: DeprecationWarning: Calling np.sum(generator) is deprecated, and in the future will give a different result. Use np.sum(np.fromiter(generator)) or the python sum builtin instead.\n",
            "  score += np.sum(cnt * logsumexp(Elogthetad + Elogbeta[:, int(id)]) for id, cnt in doc)\n",
            "/usr/local/lib/python3.6/dist-packages/gensim/models/ldamodel.py:1077: DeprecationWarning: Calling np.sum(generator) is deprecated, and in the future will give a different result. Use np.sum(np.fromiter(generator)) or the python sum builtin instead.\n",
            "  score += np.sum(cnt * logsumexp(Elogthetad + Elogbeta[:, int(id)]) for id, cnt in doc)\n",
            "/usr/local/lib/python3.6/dist-packages/gensim/models/ldamodel.py:1077: DeprecationWarning: Calling np.sum(generator) is deprecated, and in the future will give a different result. Use np.sum(np.fromiter(generator)) or the python sum builtin instead.\n",
            "  score += np.sum(cnt * logsumexp(Elogthetad + Elogbeta[:, int(id)]) for id, cnt in doc)\n",
            "/usr/local/lib/python3.6/dist-packages/gensim/models/ldamodel.py:1077: DeprecationWarning: Calling np.sum(generator) is deprecated, and in the future will give a different result. Use np.sum(np.fromiter(generator)) or the python sum builtin instead.\n",
            "  score += np.sum(cnt * logsumexp(Elogthetad + Elogbeta[:, int(id)]) for id, cnt in doc)\n",
            "/usr/local/lib/python3.6/dist-packages/gensim/models/ldamodel.py:1077: DeprecationWarning: Calling np.sum(generator) is deprecated, and in the future will give a different result. Use np.sum(np.fromiter(generator)) or the python sum builtin instead.\n",
            "  score += np.sum(cnt * logsumexp(Elogthetad + Elogbeta[:, int(id)]) for id, cnt in doc)\n",
            "/usr/local/lib/python3.6/dist-packages/gensim/models/ldamodel.py:1077: DeprecationWarning: Calling np.sum(generator) is deprecated, and in the future will give a different result. Use np.sum(np.fromiter(generator)) or the python sum builtin instead.\n",
            "  score += np.sum(cnt * logsumexp(Elogthetad + Elogbeta[:, int(id)]) for id, cnt in doc)\n",
            "/usr/local/lib/python3.6/dist-packages/gensim/models/ldamodel.py:1077: DeprecationWarning: Calling np.sum(generator) is deprecated, and in the future will give a different result. Use np.sum(np.fromiter(generator)) or the python sum builtin instead.\n",
            "  score += np.sum(cnt * logsumexp(Elogthetad + Elogbeta[:, int(id)]) for id, cnt in doc)\n",
            "/usr/local/lib/python3.6/dist-packages/gensim/models/ldamodel.py:1077: DeprecationWarning: Calling np.sum(generator) is deprecated, and in the future will give a different result. Use np.sum(np.fromiter(generator)) or the python sum builtin instead.\n",
            "  score += np.sum(cnt * logsumexp(Elogthetad + Elogbeta[:, int(id)]) for id, cnt in doc)\n",
            "/usr/local/lib/python3.6/dist-packages/gensim/models/ldamodel.py:1077: DeprecationWarning: Calling np.sum(generator) is deprecated, and in the future will give a different result. Use np.sum(np.fromiter(generator)) or the python sum builtin instead.\n",
            "  score += np.sum(cnt * logsumexp(Elogthetad + Elogbeta[:, int(id)]) for id, cnt in doc)\n",
            "/usr/local/lib/python3.6/dist-packages/gensim/models/ldamodel.py:1077: DeprecationWarning: Calling np.sum(generator) is deprecated, and in the future will give a different result. Use np.sum(np.fromiter(generator)) or the python sum builtin instead.\n",
            "  score += np.sum(cnt * logsumexp(Elogthetad + Elogbeta[:, int(id)]) for id, cnt in doc)\n",
            "/usr/local/lib/python3.6/dist-packages/gensim/models/ldamodel.py:1077: DeprecationWarning: Calling np.sum(generator) is deprecated, and in the future will give a different result. Use np.sum(np.fromiter(generator)) or the python sum builtin instead.\n",
            "  score += np.sum(cnt * logsumexp(Elogthetad + Elogbeta[:, int(id)]) for id, cnt in doc)\n",
            "/usr/local/lib/python3.6/dist-packages/gensim/models/ldamodel.py:1077: DeprecationWarning: Calling np.sum(generator) is deprecated, and in the future will give a different result. Use np.sum(np.fromiter(generator)) or the python sum builtin instead.\n",
            "  score += np.sum(cnt * logsumexp(Elogthetad + Elogbeta[:, int(id)]) for id, cnt in doc)\n",
            "/usr/local/lib/python3.6/dist-packages/gensim/models/ldamodel.py:1077: DeprecationWarning: Calling np.sum(generator) is deprecated, and in the future will give a different result. Use np.sum(np.fromiter(generator)) or the python sum builtin instead.\n",
            "  score += np.sum(cnt * logsumexp(Elogthetad + Elogbeta[:, int(id)]) for id, cnt in doc)\n",
            "/usr/local/lib/python3.6/dist-packages/gensim/models/ldamodel.py:1077: DeprecationWarning: Calling np.sum(generator) is deprecated, and in the future will give a different result. Use np.sum(np.fromiter(generator)) or the python sum builtin instead.\n",
            "  score += np.sum(cnt * logsumexp(Elogthetad + Elogbeta[:, int(id)]) for id, cnt in doc)\n",
            "/usr/local/lib/python3.6/dist-packages/gensim/models/ldamodel.py:1077: DeprecationWarning: Calling np.sum(generator) is deprecated, and in the future will give a different result. Use np.sum(np.fromiter(generator)) or the python sum builtin instead.\n",
            "  score += np.sum(cnt * logsumexp(Elogthetad + Elogbeta[:, int(id)]) for id, cnt in doc)\n",
            "/usr/local/lib/python3.6/dist-packages/gensim/models/ldamodel.py:1077: DeprecationWarning: Calling np.sum(generator) is deprecated, and in the future will give a different result. Use np.sum(np.fromiter(generator)) or the python sum builtin instead.\n",
            "  score += np.sum(cnt * logsumexp(Elogthetad + Elogbeta[:, int(id)]) for id, cnt in doc)\n",
            "/usr/local/lib/python3.6/dist-packages/gensim/models/ldamodel.py:1077: DeprecationWarning: Calling np.sum(generator) is deprecated, and in the future will give a different result. Use np.sum(np.fromiter(generator)) or the python sum builtin instead.\n",
            "  score += np.sum(cnt * logsumexp(Elogthetad + Elogbeta[:, int(id)]) for id, cnt in doc)\n",
            "/usr/local/lib/python3.6/dist-packages/gensim/models/ldamodel.py:1077: DeprecationWarning: Calling np.sum(generator) is deprecated, and in the future will give a different result. Use np.sum(np.fromiter(generator)) or the python sum builtin instead.\n",
            "  score += np.sum(cnt * logsumexp(Elogthetad + Elogbeta[:, int(id)]) for id, cnt in doc)\n",
            "/usr/local/lib/python3.6/dist-packages/gensim/models/ldamodel.py:1077: DeprecationWarning: Calling np.sum(generator) is deprecated, and in the future will give a different result. Use np.sum(np.fromiter(generator)) or the python sum builtin instead.\n",
            "  score += np.sum(cnt * logsumexp(Elogthetad + Elogbeta[:, int(id)]) for id, cnt in doc)\n",
            "/usr/local/lib/python3.6/dist-packages/gensim/models/ldamodel.py:1077: DeprecationWarning: Calling np.sum(generator) is deprecated, and in the future will give a different result. Use np.sum(np.fromiter(generator)) or the python sum builtin instead.\n",
            "  score += np.sum(cnt * logsumexp(Elogthetad + Elogbeta[:, int(id)]) for id, cnt in doc)\n",
            "/usr/local/lib/python3.6/dist-packages/gensim/models/ldamodel.py:1077: DeprecationWarning: Calling np.sum(generator) is deprecated, and in the future will give a different result. Use np.sum(np.fromiter(generator)) or the python sum builtin instead.\n",
            "  score += np.sum(cnt * logsumexp(Elogthetad + Elogbeta[:, int(id)]) for id, cnt in doc)\n",
            "/usr/local/lib/python3.6/dist-packages/gensim/models/ldamodel.py:1077: DeprecationWarning: Calling np.sum(generator) is deprecated, and in the future will give a different result. Use np.sum(np.fromiter(generator)) or the python sum builtin instead.\n",
            "  score += np.sum(cnt * logsumexp(Elogthetad + Elogbeta[:, int(id)]) for id, cnt in doc)\n",
            "/usr/local/lib/python3.6/dist-packages/gensim/models/ldamodel.py:1077: DeprecationWarning: Calling np.sum(generator) is deprecated, and in the future will give a different result. Use np.sum(np.fromiter(generator)) or the python sum builtin instead.\n",
            "  score += np.sum(cnt * logsumexp(Elogthetad + Elogbeta[:, int(id)]) for id, cnt in doc)\n",
            "/usr/local/lib/python3.6/dist-packages/gensim/models/ldamodel.py:1077: DeprecationWarning: Calling np.sum(generator) is deprecated, and in the future will give a different result. Use np.sum(np.fromiter(generator)) or the python sum builtin instead.\n",
            "  score += np.sum(cnt * logsumexp(Elogthetad + Elogbeta[:, int(id)]) for id, cnt in doc)\n",
            "/usr/local/lib/python3.6/dist-packages/gensim/models/ldamodel.py:1077: DeprecationWarning: Calling np.sum(generator) is deprecated, and in the future will give a different result. Use np.sum(np.fromiter(generator)) or the python sum builtin instead.\n",
            "  score += np.sum(cnt * logsumexp(Elogthetad + Elogbeta[:, int(id)]) for id, cnt in doc)\n",
            "/usr/local/lib/python3.6/dist-packages/gensim/models/ldamodel.py:1077: DeprecationWarning: Calling np.sum(generator) is deprecated, and in the future will give a different result. Use np.sum(np.fromiter(generator)) or the python sum builtin instead.\n",
            "  score += np.sum(cnt * logsumexp(Elogthetad + Elogbeta[:, int(id)]) for id, cnt in doc)\n",
            "/usr/local/lib/python3.6/dist-packages/gensim/models/ldamodel.py:1077: DeprecationWarning: Calling np.sum(generator) is deprecated, and in the future will give a different result. Use np.sum(np.fromiter(generator)) or the python sum builtin instead.\n",
            "  score += np.sum(cnt * logsumexp(Elogthetad + Elogbeta[:, int(id)]) for id, cnt in doc)\n",
            "/usr/local/lib/python3.6/dist-packages/gensim/models/ldamodel.py:1077: DeprecationWarning: Calling np.sum(generator) is deprecated, and in the future will give a different result. Use np.sum(np.fromiter(generator)) or the python sum builtin instead.\n",
            "  score += np.sum(cnt * logsumexp(Elogthetad + Elogbeta[:, int(id)]) for id, cnt in doc)\n",
            "/usr/local/lib/python3.6/dist-packages/gensim/models/ldamodel.py:1077: DeprecationWarning: Calling np.sum(generator) is deprecated, and in the future will give a different result. Use np.sum(np.fromiter(generator)) or the python sum builtin instead.\n",
            "  score += np.sum(cnt * logsumexp(Elogthetad + Elogbeta[:, int(id)]) for id, cnt in doc)\n",
            "/usr/local/lib/python3.6/dist-packages/gensim/models/ldamodel.py:1077: DeprecationWarning: Calling np.sum(generator) is deprecated, and in the future will give a different result. Use np.sum(np.fromiter(generator)) or the python sum builtin instead.\n",
            "  score += np.sum(cnt * logsumexp(Elogthetad + Elogbeta[:, int(id)]) for id, cnt in doc)\n",
            "/usr/local/lib/python3.6/dist-packages/gensim/models/ldamodel.py:1077: DeprecationWarning: Calling np.sum(generator) is deprecated, and in the future will give a different result. Use np.sum(np.fromiter(generator)) or the python sum builtin instead.\n",
            "  score += np.sum(cnt * logsumexp(Elogthetad + Elogbeta[:, int(id)]) for id, cnt in doc)\n",
            "/usr/local/lib/python3.6/dist-packages/gensim/models/ldamodel.py:1077: DeprecationWarning: Calling np.sum(generator) is deprecated, and in the future will give a different result. Use np.sum(np.fromiter(generator)) or the python sum builtin instead.\n",
            "  score += np.sum(cnt * logsumexp(Elogthetad + Elogbeta[:, int(id)]) for id, cnt in doc)\n",
            "/usr/local/lib/python3.6/dist-packages/gensim/models/ldamodel.py:1077: DeprecationWarning: Calling np.sum(generator) is deprecated, and in the future will give a different result. Use np.sum(np.fromiter(generator)) or the python sum builtin instead.\n",
            "  score += np.sum(cnt * logsumexp(Elogthetad + Elogbeta[:, int(id)]) for id, cnt in doc)\n",
            "/usr/local/lib/python3.6/dist-packages/gensim/models/ldamodel.py:1077: DeprecationWarning: Calling np.sum(generator) is deprecated, and in the future will give a different result. Use np.sum(np.fromiter(generator)) or the python sum builtin instead.\n",
            "  score += np.sum(cnt * logsumexp(Elogthetad + Elogbeta[:, int(id)]) for id, cnt in doc)\n",
            "/usr/local/lib/python3.6/dist-packages/gensim/models/ldamodel.py:1077: DeprecationWarning: Calling np.sum(generator) is deprecated, and in the future will give a different result. Use np.sum(np.fromiter(generator)) or the python sum builtin instead.\n",
            "  score += np.sum(cnt * logsumexp(Elogthetad + Elogbeta[:, int(id)]) for id, cnt in doc)\n",
            "/usr/local/lib/python3.6/dist-packages/gensim/models/ldamodel.py:1077: DeprecationWarning: Calling np.sum(generator) is deprecated, and in the future will give a different result. Use np.sum(np.fromiter(generator)) or the python sum builtin instead.\n",
            "  score += np.sum(cnt * logsumexp(Elogthetad + Elogbeta[:, int(id)]) for id, cnt in doc)\n",
            "/usr/local/lib/python3.6/dist-packages/gensim/models/ldamodel.py:1077: DeprecationWarning: Calling np.sum(generator) is deprecated, and in the future will give a different result. Use np.sum(np.fromiter(generator)) or the python sum builtin instead.\n",
            "  score += np.sum(cnt * logsumexp(Elogthetad + Elogbeta[:, int(id)]) for id, cnt in doc)\n",
            "/usr/local/lib/python3.6/dist-packages/gensim/models/ldamodel.py:1077: DeprecationWarning: Calling np.sum(generator) is deprecated, and in the future will give a different result. Use np.sum(np.fromiter(generator)) or the python sum builtin instead.\n",
            "  score += np.sum(cnt * logsumexp(Elogthetad + Elogbeta[:, int(id)]) for id, cnt in doc)\n",
            "/usr/local/lib/python3.6/dist-packages/gensim/models/ldamodel.py:1077: DeprecationWarning: Calling np.sum(generator) is deprecated, and in the future will give a different result. Use np.sum(np.fromiter(generator)) or the python sum builtin instead.\n",
            "  score += np.sum(cnt * logsumexp(Elogthetad + Elogbeta[:, int(id)]) for id, cnt in doc)\n",
            "/usr/local/lib/python3.6/dist-packages/gensim/models/ldamodel.py:1077: DeprecationWarning: Calling np.sum(generator) is deprecated, and in the future will give a different result. Use np.sum(np.fromiter(generator)) or the python sum builtin instead.\n",
            "  score += np.sum(cnt * logsumexp(Elogthetad + Elogbeta[:, int(id)]) for id, cnt in doc)\n",
            "/usr/local/lib/python3.6/dist-packages/gensim/models/ldamodel.py:1077: DeprecationWarning: Calling np.sum(generator) is deprecated, and in the future will give a different result. Use np.sum(np.fromiter(generator)) or the python sum builtin instead.\n",
            "  score += np.sum(cnt * logsumexp(Elogthetad + Elogbeta[:, int(id)]) for id, cnt in doc)\n",
            "/usr/local/lib/python3.6/dist-packages/gensim/models/ldamodel.py:1077: DeprecationWarning: Calling np.sum(generator) is deprecated, and in the future will give a different result. Use np.sum(np.fromiter(generator)) or the python sum builtin instead.\n",
            "  score += np.sum(cnt * logsumexp(Elogthetad + Elogbeta[:, int(id)]) for id, cnt in doc)\n",
            "/usr/local/lib/python3.6/dist-packages/gensim/models/ldamodel.py:1077: DeprecationWarning: Calling np.sum(generator) is deprecated, and in the future will give a different result. Use np.sum(np.fromiter(generator)) or the python sum builtin instead.\n",
            "  score += np.sum(cnt * logsumexp(Elogthetad + Elogbeta[:, int(id)]) for id, cnt in doc)\n",
            "/usr/local/lib/python3.6/dist-packages/gensim/models/ldamodel.py:1077: DeprecationWarning: Calling np.sum(generator) is deprecated, and in the future will give a different result. Use np.sum(np.fromiter(generator)) or the python sum builtin instead.\n",
            "  score += np.sum(cnt * logsumexp(Elogthetad + Elogbeta[:, int(id)]) for id, cnt in doc)\n",
            "/usr/local/lib/python3.6/dist-packages/gensim/models/ldamodel.py:1077: DeprecationWarning: Calling np.sum(generator) is deprecated, and in the future will give a different result. Use np.sum(np.fromiter(generator)) or the python sum builtin instead.\n",
            "  score += np.sum(cnt * logsumexp(Elogthetad + Elogbeta[:, int(id)]) for id, cnt in doc)\n",
            "/usr/local/lib/python3.6/dist-packages/gensim/models/ldamodel.py:1077: DeprecationWarning: Calling np.sum(generator) is deprecated, and in the future will give a different result. Use np.sum(np.fromiter(generator)) or the python sum builtin instead.\n",
            "  score += np.sum(cnt * logsumexp(Elogthetad + Elogbeta[:, int(id)]) for id, cnt in doc)\n",
            "/usr/local/lib/python3.6/dist-packages/gensim/models/ldamodel.py:1077: DeprecationWarning: Calling np.sum(generator) is deprecated, and in the future will give a different result. Use np.sum(np.fromiter(generator)) or the python sum builtin instead.\n",
            "  score += np.sum(cnt * logsumexp(Elogthetad + Elogbeta[:, int(id)]) for id, cnt in doc)\n",
            "/usr/local/lib/python3.6/dist-packages/gensim/models/ldamodel.py:1077: DeprecationWarning: Calling np.sum(generator) is deprecated, and in the future will give a different result. Use np.sum(np.fromiter(generator)) or the python sum builtin instead.\n",
            "  score += np.sum(cnt * logsumexp(Elogthetad + Elogbeta[:, int(id)]) for id, cnt in doc)\n",
            "/usr/local/lib/python3.6/dist-packages/gensim/models/ldamodel.py:1077: DeprecationWarning: Calling np.sum(generator) is deprecated, and in the future will give a different result. Use np.sum(np.fromiter(generator)) or the python sum builtin instead.\n",
            "  score += np.sum(cnt * logsumexp(Elogthetad + Elogbeta[:, int(id)]) for id, cnt in doc)\n",
            "/usr/local/lib/python3.6/dist-packages/gensim/models/ldamodel.py:1077: DeprecationWarning: Calling np.sum(generator) is deprecated, and in the future will give a different result. Use np.sum(np.fromiter(generator)) or the python sum builtin instead.\n",
            "  score += np.sum(cnt * logsumexp(Elogthetad + Elogbeta[:, int(id)]) for id, cnt in doc)\n",
            "/usr/local/lib/python3.6/dist-packages/gensim/models/ldamodel.py:1077: DeprecationWarning: Calling np.sum(generator) is deprecated, and in the future will give a different result. Use np.sum(np.fromiter(generator)) or the python sum builtin instead.\n",
            "  score += np.sum(cnt * logsumexp(Elogthetad + Elogbeta[:, int(id)]) for id, cnt in doc)\n",
            "/usr/local/lib/python3.6/dist-packages/gensim/models/ldamodel.py:1077: DeprecationWarning: Calling np.sum(generator) is deprecated, and in the future will give a different result. Use np.sum(np.fromiter(generator)) or the python sum builtin instead.\n",
            "  score += np.sum(cnt * logsumexp(Elogthetad + Elogbeta[:, int(id)]) for id, cnt in doc)\n",
            "/usr/local/lib/python3.6/dist-packages/gensim/models/ldamodel.py:1077: DeprecationWarning: Calling np.sum(generator) is deprecated, and in the future will give a different result. Use np.sum(np.fromiter(generator)) or the python sum builtin instead.\n",
            "  score += np.sum(cnt * logsumexp(Elogthetad + Elogbeta[:, int(id)]) for id, cnt in doc)\n",
            "/usr/local/lib/python3.6/dist-packages/gensim/models/ldamodel.py:1077: DeprecationWarning: Calling np.sum(generator) is deprecated, and in the future will give a different result. Use np.sum(np.fromiter(generator)) or the python sum builtin instead.\n",
            "  score += np.sum(cnt * logsumexp(Elogthetad + Elogbeta[:, int(id)]) for id, cnt in doc)\n",
            "/usr/local/lib/python3.6/dist-packages/gensim/models/ldamodel.py:1077: DeprecationWarning: Calling np.sum(generator) is deprecated, and in the future will give a different result. Use np.sum(np.fromiter(generator)) or the python sum builtin instead.\n",
            "  score += np.sum(cnt * logsumexp(Elogthetad + Elogbeta[:, int(id)]) for id, cnt in doc)\n",
            "/usr/local/lib/python3.6/dist-packages/gensim/models/ldamodel.py:1077: DeprecationWarning: Calling np.sum(generator) is deprecated, and in the future will give a different result. Use np.sum(np.fromiter(generator)) or the python sum builtin instead.\n",
            "  score += np.sum(cnt * logsumexp(Elogthetad + Elogbeta[:, int(id)]) for id, cnt in doc)\n",
            "/usr/local/lib/python3.6/dist-packages/gensim/models/ldamodel.py:1077: DeprecationWarning: Calling np.sum(generator) is deprecated, and in the future will give a different result. Use np.sum(np.fromiter(generator)) or the python sum builtin instead.\n",
            "  score += np.sum(cnt * logsumexp(Elogthetad + Elogbeta[:, int(id)]) for id, cnt in doc)\n",
            "/usr/local/lib/python3.6/dist-packages/gensim/models/ldamodel.py:1077: DeprecationWarning: Calling np.sum(generator) is deprecated, and in the future will give a different result. Use np.sum(np.fromiter(generator)) or the python sum builtin instead.\n",
            "  score += np.sum(cnt * logsumexp(Elogthetad + Elogbeta[:, int(id)]) for id, cnt in doc)\n",
            "/usr/local/lib/python3.6/dist-packages/gensim/models/ldamodel.py:1077: DeprecationWarning: Calling np.sum(generator) is deprecated, and in the future will give a different result. Use np.sum(np.fromiter(generator)) or the python sum builtin instead.\n",
            "  score += np.sum(cnt * logsumexp(Elogthetad + Elogbeta[:, int(id)]) for id, cnt in doc)\n",
            "/usr/local/lib/python3.6/dist-packages/gensim/models/ldamodel.py:1077: DeprecationWarning: Calling np.sum(generator) is deprecated, and in the future will give a different result. Use np.sum(np.fromiter(generator)) or the python sum builtin instead.\n",
            "  score += np.sum(cnt * logsumexp(Elogthetad + Elogbeta[:, int(id)]) for id, cnt in doc)\n",
            "/usr/local/lib/python3.6/dist-packages/gensim/models/ldamodel.py:1077: DeprecationWarning: Calling np.sum(generator) is deprecated, and in the future will give a different result. Use np.sum(np.fromiter(generator)) or the python sum builtin instead.\n",
            "  score += np.sum(cnt * logsumexp(Elogthetad + Elogbeta[:, int(id)]) for id, cnt in doc)\n",
            "/usr/local/lib/python3.6/dist-packages/gensim/models/ldamodel.py:1077: DeprecationWarning: Calling np.sum(generator) is deprecated, and in the future will give a different result. Use np.sum(np.fromiter(generator)) or the python sum builtin instead.\n",
            "  score += np.sum(cnt * logsumexp(Elogthetad + Elogbeta[:, int(id)]) for id, cnt in doc)\n",
            "/usr/local/lib/python3.6/dist-packages/gensim/models/ldamodel.py:1077: DeprecationWarning: Calling np.sum(generator) is deprecated, and in the future will give a different result. Use np.sum(np.fromiter(generator)) or the python sum builtin instead.\n",
            "  score += np.sum(cnt * logsumexp(Elogthetad + Elogbeta[:, int(id)]) for id, cnt in doc)\n",
            "/usr/local/lib/python3.6/dist-packages/gensim/models/ldamodel.py:1077: DeprecationWarning: Calling np.sum(generator) is deprecated, and in the future will give a different result. Use np.sum(np.fromiter(generator)) or the python sum builtin instead.\n",
            "  score += np.sum(cnt * logsumexp(Elogthetad + Elogbeta[:, int(id)]) for id, cnt in doc)\n",
            "/usr/local/lib/python3.6/dist-packages/gensim/models/ldamodel.py:1077: DeprecationWarning: Calling np.sum(generator) is deprecated, and in the future will give a different result. Use np.sum(np.fromiter(generator)) or the python sum builtin instead.\n",
            "  score += np.sum(cnt * logsumexp(Elogthetad + Elogbeta[:, int(id)]) for id, cnt in doc)\n",
            "/usr/local/lib/python3.6/dist-packages/gensim/models/ldamodel.py:1077: DeprecationWarning: Calling np.sum(generator) is deprecated, and in the future will give a different result. Use np.sum(np.fromiter(generator)) or the python sum builtin instead.\n",
            "  score += np.sum(cnt * logsumexp(Elogthetad + Elogbeta[:, int(id)]) for id, cnt in doc)\n",
            "/usr/local/lib/python3.6/dist-packages/gensim/models/ldamodel.py:1077: DeprecationWarning: Calling np.sum(generator) is deprecated, and in the future will give a different result. Use np.sum(np.fromiter(generator)) or the python sum builtin instead.\n",
            "  score += np.sum(cnt * logsumexp(Elogthetad + Elogbeta[:, int(id)]) for id, cnt in doc)\n",
            "/usr/local/lib/python3.6/dist-packages/gensim/models/ldamodel.py:1077: DeprecationWarning: Calling np.sum(generator) is deprecated, and in the future will give a different result. Use np.sum(np.fromiter(generator)) or the python sum builtin instead.\n",
            "  score += np.sum(cnt * logsumexp(Elogthetad + Elogbeta[:, int(id)]) for id, cnt in doc)\n",
            "/usr/local/lib/python3.6/dist-packages/gensim/models/ldamodel.py:1077: DeprecationWarning: Calling np.sum(generator) is deprecated, and in the future will give a different result. Use np.sum(np.fromiter(generator)) or the python sum builtin instead.\n",
            "  score += np.sum(cnt * logsumexp(Elogthetad + Elogbeta[:, int(id)]) for id, cnt in doc)\n",
            "/usr/local/lib/python3.6/dist-packages/gensim/models/ldamodel.py:1077: DeprecationWarning: Calling np.sum(generator) is deprecated, and in the future will give a different result. Use np.sum(np.fromiter(generator)) or the python sum builtin instead.\n",
            "  score += np.sum(cnt * logsumexp(Elogthetad + Elogbeta[:, int(id)]) for id, cnt in doc)\n",
            "/usr/local/lib/python3.6/dist-packages/gensim/models/ldamodel.py:1077: DeprecationWarning: Calling np.sum(generator) is deprecated, and in the future will give a different result. Use np.sum(np.fromiter(generator)) or the python sum builtin instead.\n",
            "  score += np.sum(cnt * logsumexp(Elogthetad + Elogbeta[:, int(id)]) for id, cnt in doc)\n",
            "/usr/local/lib/python3.6/dist-packages/gensim/models/ldamodel.py:1077: DeprecationWarning: Calling np.sum(generator) is deprecated, and in the future will give a different result. Use np.sum(np.fromiter(generator)) or the python sum builtin instead.\n",
            "  score += np.sum(cnt * logsumexp(Elogthetad + Elogbeta[:, int(id)]) for id, cnt in doc)\n",
            "/usr/local/lib/python3.6/dist-packages/gensim/models/ldamodel.py:1077: DeprecationWarning: Calling np.sum(generator) is deprecated, and in the future will give a different result. Use np.sum(np.fromiter(generator)) or the python sum builtin instead.\n",
            "  score += np.sum(cnt * logsumexp(Elogthetad + Elogbeta[:, int(id)]) for id, cnt in doc)\n",
            "/usr/local/lib/python3.6/dist-packages/gensim/models/ldamodel.py:1077: DeprecationWarning: Calling np.sum(generator) is deprecated, and in the future will give a different result. Use np.sum(np.fromiter(generator)) or the python sum builtin instead.\n",
            "  score += np.sum(cnt * logsumexp(Elogthetad + Elogbeta[:, int(id)]) for id, cnt in doc)\n",
            "/usr/local/lib/python3.6/dist-packages/gensim/models/ldamodel.py:1077: DeprecationWarning: Calling np.sum(generator) is deprecated, and in the future will give a different result. Use np.sum(np.fromiter(generator)) or the python sum builtin instead.\n",
            "  score += np.sum(cnt * logsumexp(Elogthetad + Elogbeta[:, int(id)]) for id, cnt in doc)\n",
            "/usr/local/lib/python3.6/dist-packages/gensim/models/ldamodel.py:1077: DeprecationWarning: Calling np.sum(generator) is deprecated, and in the future will give a different result. Use np.sum(np.fromiter(generator)) or the python sum builtin instead.\n",
            "  score += np.sum(cnt * logsumexp(Elogthetad + Elogbeta[:, int(id)]) for id, cnt in doc)\n",
            "/usr/local/lib/python3.6/dist-packages/gensim/models/ldamodel.py:1077: DeprecationWarning: Calling np.sum(generator) is deprecated, and in the future will give a different result. Use np.sum(np.fromiter(generator)) or the python sum builtin instead.\n",
            "  score += np.sum(cnt * logsumexp(Elogthetad + Elogbeta[:, int(id)]) for id, cnt in doc)\n",
            "/usr/local/lib/python3.6/dist-packages/gensim/models/ldamodel.py:1077: DeprecationWarning: Calling np.sum(generator) is deprecated, and in the future will give a different result. Use np.sum(np.fromiter(generator)) or the python sum builtin instead.\n",
            "  score += np.sum(cnt * logsumexp(Elogthetad + Elogbeta[:, int(id)]) for id, cnt in doc)\n",
            "/usr/local/lib/python3.6/dist-packages/gensim/models/ldamodel.py:1077: DeprecationWarning: Calling np.sum(generator) is deprecated, and in the future will give a different result. Use np.sum(np.fromiter(generator)) or the python sum builtin instead.\n",
            "  score += np.sum(cnt * logsumexp(Elogthetad + Elogbeta[:, int(id)]) for id, cnt in doc)\n",
            "/usr/local/lib/python3.6/dist-packages/gensim/models/ldamodel.py:1077: DeprecationWarning: Calling np.sum(generator) is deprecated, and in the future will give a different result. Use np.sum(np.fromiter(generator)) or the python sum builtin instead.\n",
            "  score += np.sum(cnt * logsumexp(Elogthetad + Elogbeta[:, int(id)]) for id, cnt in doc)\n",
            "/usr/local/lib/python3.6/dist-packages/gensim/models/ldamodel.py:1077: DeprecationWarning: Calling np.sum(generator) is deprecated, and in the future will give a different result. Use np.sum(np.fromiter(generator)) or the python sum builtin instead.\n",
            "  score += np.sum(cnt * logsumexp(Elogthetad + Elogbeta[:, int(id)]) for id, cnt in doc)\n",
            "/usr/local/lib/python3.6/dist-packages/gensim/models/ldamodel.py:1077: DeprecationWarning: Calling np.sum(generator) is deprecated, and in the future will give a different result. Use np.sum(np.fromiter(generator)) or the python sum builtin instead.\n",
            "  score += np.sum(cnt * logsumexp(Elogthetad + Elogbeta[:, int(id)]) for id, cnt in doc)\n",
            "/usr/local/lib/python3.6/dist-packages/gensim/models/ldamodel.py:1077: DeprecationWarning: Calling np.sum(generator) is deprecated, and in the future will give a different result. Use np.sum(np.fromiter(generator)) or the python sum builtin instead.\n",
            "  score += np.sum(cnt * logsumexp(Elogthetad + Elogbeta[:, int(id)]) for id, cnt in doc)\n",
            "/usr/local/lib/python3.6/dist-packages/gensim/models/ldamodel.py:1077: DeprecationWarning: Calling np.sum(generator) is deprecated, and in the future will give a different result. Use np.sum(np.fromiter(generator)) or the python sum builtin instead.\n",
            "  score += np.sum(cnt * logsumexp(Elogthetad + Elogbeta[:, int(id)]) for id, cnt in doc)\n",
            "/usr/local/lib/python3.6/dist-packages/gensim/models/ldamodel.py:1077: DeprecationWarning: Calling np.sum(generator) is deprecated, and in the future will give a different result. Use np.sum(np.fromiter(generator)) or the python sum builtin instead.\n",
            "  score += np.sum(cnt * logsumexp(Elogthetad + Elogbeta[:, int(id)]) for id, cnt in doc)\n",
            "/usr/local/lib/python3.6/dist-packages/gensim/models/ldamodel.py:1077: DeprecationWarning: Calling np.sum(generator) is deprecated, and in the future will give a different result. Use np.sum(np.fromiter(generator)) or the python sum builtin instead.\n",
            "  score += np.sum(cnt * logsumexp(Elogthetad + Elogbeta[:, int(id)]) for id, cnt in doc)\n",
            "/usr/local/lib/python3.6/dist-packages/gensim/models/ldamodel.py:1077: DeprecationWarning: Calling np.sum(generator) is deprecated, and in the future will give a different result. Use np.sum(np.fromiter(generator)) or the python sum builtin instead.\n",
            "  score += np.sum(cnt * logsumexp(Elogthetad + Elogbeta[:, int(id)]) for id, cnt in doc)\n",
            "/usr/local/lib/python3.6/dist-packages/gensim/models/ldamodel.py:1077: DeprecationWarning: Calling np.sum(generator) is deprecated, and in the future will give a different result. Use np.sum(np.fromiter(generator)) or the python sum builtin instead.\n",
            "  score += np.sum(cnt * logsumexp(Elogthetad + Elogbeta[:, int(id)]) for id, cnt in doc)\n",
            "/usr/local/lib/python3.6/dist-packages/gensim/models/ldamodel.py:1077: DeprecationWarning: Calling np.sum(generator) is deprecated, and in the future will give a different result. Use np.sum(np.fromiter(generator)) or the python sum builtin instead.\n",
            "  score += np.sum(cnt * logsumexp(Elogthetad + Elogbeta[:, int(id)]) for id, cnt in doc)\n",
            "/usr/local/lib/python3.6/dist-packages/gensim/models/ldamodel.py:1077: DeprecationWarning: Calling np.sum(generator) is deprecated, and in the future will give a different result. Use np.sum(np.fromiter(generator)) or the python sum builtin instead.\n",
            "  score += np.sum(cnt * logsumexp(Elogthetad + Elogbeta[:, int(id)]) for id, cnt in doc)\n",
            "/usr/local/lib/python3.6/dist-packages/gensim/models/ldamodel.py:1077: DeprecationWarning: Calling np.sum(generator) is deprecated, and in the future will give a different result. Use np.sum(np.fromiter(generator)) or the python sum builtin instead.\n",
            "  score += np.sum(cnt * logsumexp(Elogthetad + Elogbeta[:, int(id)]) for id, cnt in doc)\n",
            "/usr/local/lib/python3.6/dist-packages/gensim/models/ldamodel.py:1077: DeprecationWarning: Calling np.sum(generator) is deprecated, and in the future will give a different result. Use np.sum(np.fromiter(generator)) or the python sum builtin instead.\n",
            "  score += np.sum(cnt * logsumexp(Elogthetad + Elogbeta[:, int(id)]) for id, cnt in doc)\n",
            "/usr/local/lib/python3.6/dist-packages/gensim/models/ldamodel.py:1077: DeprecationWarning: Calling np.sum(generator) is deprecated, and in the future will give a different result. Use np.sum(np.fromiter(generator)) or the python sum builtin instead.\n",
            "  score += np.sum(cnt * logsumexp(Elogthetad + Elogbeta[:, int(id)]) for id, cnt in doc)\n",
            "/usr/local/lib/python3.6/dist-packages/gensim/models/ldamodel.py:1077: DeprecationWarning: Calling np.sum(generator) is deprecated, and in the future will give a different result. Use np.sum(np.fromiter(generator)) or the python sum builtin instead.\n",
            "  score += np.sum(cnt * logsumexp(Elogthetad + Elogbeta[:, int(id)]) for id, cnt in doc)\n",
            "/usr/local/lib/python3.6/dist-packages/gensim/models/ldamodel.py:1077: DeprecationWarning: Calling np.sum(generator) is deprecated, and in the future will give a different result. Use np.sum(np.fromiter(generator)) or the python sum builtin instead.\n",
            "  score += np.sum(cnt * logsumexp(Elogthetad + Elogbeta[:, int(id)]) for id, cnt in doc)\n",
            "/usr/local/lib/python3.6/dist-packages/gensim/models/ldamodel.py:1077: DeprecationWarning: Calling np.sum(generator) is deprecated, and in the future will give a different result. Use np.sum(np.fromiter(generator)) or the python sum builtin instead.\n",
            "  score += np.sum(cnt * logsumexp(Elogthetad + Elogbeta[:, int(id)]) for id, cnt in doc)\n",
            "/usr/local/lib/python3.6/dist-packages/gensim/models/ldamodel.py:1077: DeprecationWarning: Calling np.sum(generator) is deprecated, and in the future will give a different result. Use np.sum(np.fromiter(generator)) or the python sum builtin instead.\n",
            "  score += np.sum(cnt * logsumexp(Elogthetad + Elogbeta[:, int(id)]) for id, cnt in doc)\n",
            "/usr/local/lib/python3.6/dist-packages/gensim/models/ldamodel.py:1077: DeprecationWarning: Calling np.sum(generator) is deprecated, and in the future will give a different result. Use np.sum(np.fromiter(generator)) or the python sum builtin instead.\n",
            "  score += np.sum(cnt * logsumexp(Elogthetad + Elogbeta[:, int(id)]) for id, cnt in doc)\n",
            "/usr/local/lib/python3.6/dist-packages/gensim/models/ldamodel.py:1077: DeprecationWarning: Calling np.sum(generator) is deprecated, and in the future will give a different result. Use np.sum(np.fromiter(generator)) or the python sum builtin instead.\n",
            "  score += np.sum(cnt * logsumexp(Elogthetad + Elogbeta[:, int(id)]) for id, cnt in doc)\n",
            "/usr/local/lib/python3.6/dist-packages/gensim/models/ldamodel.py:1077: DeprecationWarning: Calling np.sum(generator) is deprecated, and in the future will give a different result. Use np.sum(np.fromiter(generator)) or the python sum builtin instead.\n",
            "  score += np.sum(cnt * logsumexp(Elogthetad + Elogbeta[:, int(id)]) for id, cnt in doc)\n",
            "/usr/local/lib/python3.6/dist-packages/gensim/models/ldamodel.py:1077: DeprecationWarning: Calling np.sum(generator) is deprecated, and in the future will give a different result. Use np.sum(np.fromiter(generator)) or the python sum builtin instead.\n",
            "  score += np.sum(cnt * logsumexp(Elogthetad + Elogbeta[:, int(id)]) for id, cnt in doc)\n",
            "/usr/local/lib/python3.6/dist-packages/gensim/models/ldamodel.py:1077: DeprecationWarning: Calling np.sum(generator) is deprecated, and in the future will give a different result. Use np.sum(np.fromiter(generator)) or the python sum builtin instead.\n",
            "  score += np.sum(cnt * logsumexp(Elogthetad + Elogbeta[:, int(id)]) for id, cnt in doc)\n",
            "/usr/local/lib/python3.6/dist-packages/gensim/models/ldamodel.py:1077: DeprecationWarning: Calling np.sum(generator) is deprecated, and in the future will give a different result. Use np.sum(np.fromiter(generator)) or the python sum builtin instead.\n",
            "  score += np.sum(cnt * logsumexp(Elogthetad + Elogbeta[:, int(id)]) for id, cnt in doc)\n",
            "/usr/local/lib/python3.6/dist-packages/gensim/models/ldamodel.py:1077: DeprecationWarning: Calling np.sum(generator) is deprecated, and in the future will give a different result. Use np.sum(np.fromiter(generator)) or the python sum builtin instead.\n",
            "  score += np.sum(cnt * logsumexp(Elogthetad + Elogbeta[:, int(id)]) for id, cnt in doc)\n",
            "/usr/local/lib/python3.6/dist-packages/gensim/models/ldamodel.py:1077: DeprecationWarning: Calling np.sum(generator) is deprecated, and in the future will give a different result. Use np.sum(np.fromiter(generator)) or the python sum builtin instead.\n",
            "  score += np.sum(cnt * logsumexp(Elogthetad + Elogbeta[:, int(id)]) for id, cnt in doc)\n",
            "/usr/local/lib/python3.6/dist-packages/gensim/models/ldamodel.py:1077: DeprecationWarning: Calling np.sum(generator) is deprecated, and in the future will give a different result. Use np.sum(np.fromiter(generator)) or the python sum builtin instead.\n",
            "  score += np.sum(cnt * logsumexp(Elogthetad + Elogbeta[:, int(id)]) for id, cnt in doc)\n",
            "/usr/local/lib/python3.6/dist-packages/gensim/models/ldamodel.py:1077: DeprecationWarning: Calling np.sum(generator) is deprecated, and in the future will give a different result. Use np.sum(np.fromiter(generator)) or the python sum builtin instead.\n",
            "  score += np.sum(cnt * logsumexp(Elogthetad + Elogbeta[:, int(id)]) for id, cnt in doc)\n",
            "/usr/local/lib/python3.6/dist-packages/gensim/models/ldamodel.py:1077: DeprecationWarning: Calling np.sum(generator) is deprecated, and in the future will give a different result. Use np.sum(np.fromiter(generator)) or the python sum builtin instead.\n",
            "  score += np.sum(cnt * logsumexp(Elogthetad + Elogbeta[:, int(id)]) for id, cnt in doc)\n",
            "/usr/local/lib/python3.6/dist-packages/gensim/models/ldamodel.py:1077: DeprecationWarning: Calling np.sum(generator) is deprecated, and in the future will give a different result. Use np.sum(np.fromiter(generator)) or the python sum builtin instead.\n",
            "  score += np.sum(cnt * logsumexp(Elogthetad + Elogbeta[:, int(id)]) for id, cnt in doc)\n",
            "/usr/local/lib/python3.6/dist-packages/gensim/models/ldamodel.py:1077: DeprecationWarning: Calling np.sum(generator) is deprecated, and in the future will give a different result. Use np.sum(np.fromiter(generator)) or the python sum builtin instead.\n",
            "  score += np.sum(cnt * logsumexp(Elogthetad + Elogbeta[:, int(id)]) for id, cnt in doc)\n",
            "/usr/local/lib/python3.6/dist-packages/gensim/models/ldamodel.py:1077: DeprecationWarning: Calling np.sum(generator) is deprecated, and in the future will give a different result. Use np.sum(np.fromiter(generator)) or the python sum builtin instead.\n",
            "  score += np.sum(cnt * logsumexp(Elogthetad + Elogbeta[:, int(id)]) for id, cnt in doc)\n",
            "/usr/local/lib/python3.6/dist-packages/gensim/models/ldamodel.py:1077: DeprecationWarning: Calling np.sum(generator) is deprecated, and in the future will give a different result. Use np.sum(np.fromiter(generator)) or the python sum builtin instead.\n",
            "  score += np.sum(cnt * logsumexp(Elogthetad + Elogbeta[:, int(id)]) for id, cnt in doc)\n",
            "/usr/local/lib/python3.6/dist-packages/gensim/models/ldamodel.py:1077: DeprecationWarning: Calling np.sum(generator) is deprecated, and in the future will give a different result. Use np.sum(np.fromiter(generator)) or the python sum builtin instead.\n",
            "  score += np.sum(cnt * logsumexp(Elogthetad + Elogbeta[:, int(id)]) for id, cnt in doc)\n",
            "/usr/local/lib/python3.6/dist-packages/gensim/models/ldamodel.py:1077: DeprecationWarning: Calling np.sum(generator) is deprecated, and in the future will give a different result. Use np.sum(np.fromiter(generator)) or the python sum builtin instead.\n",
            "  score += np.sum(cnt * logsumexp(Elogthetad + Elogbeta[:, int(id)]) for id, cnt in doc)\n",
            "/usr/local/lib/python3.6/dist-packages/gensim/models/ldamodel.py:1077: DeprecationWarning: Calling np.sum(generator) is deprecated, and in the future will give a different result. Use np.sum(np.fromiter(generator)) or the python sum builtin instead.\n",
            "  score += np.sum(cnt * logsumexp(Elogthetad + Elogbeta[:, int(id)]) for id, cnt in doc)\n",
            "/usr/local/lib/python3.6/dist-packages/gensim/models/ldamodel.py:1077: DeprecationWarning: Calling np.sum(generator) is deprecated, and in the future will give a different result. Use np.sum(np.fromiter(generator)) or the python sum builtin instead.\n",
            "  score += np.sum(cnt * logsumexp(Elogthetad + Elogbeta[:, int(id)]) for id, cnt in doc)\n",
            "/usr/local/lib/python3.6/dist-packages/gensim/models/ldamodel.py:1077: DeprecationWarning: Calling np.sum(generator) is deprecated, and in the future will give a different result. Use np.sum(np.fromiter(generator)) or the python sum builtin instead.\n",
            "  score += np.sum(cnt * logsumexp(Elogthetad + Elogbeta[:, int(id)]) for id, cnt in doc)\n",
            "/usr/local/lib/python3.6/dist-packages/gensim/models/ldamodel.py:1077: DeprecationWarning: Calling np.sum(generator) is deprecated, and in the future will give a different result. Use np.sum(np.fromiter(generator)) or the python sum builtin instead.\n",
            "  score += np.sum(cnt * logsumexp(Elogthetad + Elogbeta[:, int(id)]) for id, cnt in doc)\n",
            "/usr/local/lib/python3.6/dist-packages/gensim/models/ldamodel.py:1077: DeprecationWarning: Calling np.sum(generator) is deprecated, and in the future will give a different result. Use np.sum(np.fromiter(generator)) or the python sum builtin instead.\n",
            "  score += np.sum(cnt * logsumexp(Elogthetad + Elogbeta[:, int(id)]) for id, cnt in doc)\n",
            "/usr/local/lib/python3.6/dist-packages/gensim/models/ldamodel.py:1077: DeprecationWarning: Calling np.sum(generator) is deprecated, and in the future will give a different result. Use np.sum(np.fromiter(generator)) or the python sum builtin instead.\n",
            "  score += np.sum(cnt * logsumexp(Elogthetad + Elogbeta[:, int(id)]) for id, cnt in doc)\n",
            "/usr/local/lib/python3.6/dist-packages/gensim/models/ldamodel.py:1077: DeprecationWarning: Calling np.sum(generator) is deprecated, and in the future will give a different result. Use np.sum(np.fromiter(generator)) or the python sum builtin instead.\n",
            "  score += np.sum(cnt * logsumexp(Elogthetad + Elogbeta[:, int(id)]) for id, cnt in doc)\n",
            "/usr/local/lib/python3.6/dist-packages/gensim/models/ldamodel.py:1077: DeprecationWarning: Calling np.sum(generator) is deprecated, and in the future will give a different result. Use np.sum(np.fromiter(generator)) or the python sum builtin instead.\n",
            "  score += np.sum(cnt * logsumexp(Elogthetad + Elogbeta[:, int(id)]) for id, cnt in doc)\n",
            "/usr/local/lib/python3.6/dist-packages/gensim/models/ldamodel.py:1077: DeprecationWarning: Calling np.sum(generator) is deprecated, and in the future will give a different result. Use np.sum(np.fromiter(generator)) or the python sum builtin instead.\n",
            "  score += np.sum(cnt * logsumexp(Elogthetad + Elogbeta[:, int(id)]) for id, cnt in doc)\n",
            "/usr/local/lib/python3.6/dist-packages/gensim/models/ldamodel.py:1077: DeprecationWarning: Calling np.sum(generator) is deprecated, and in the future will give a different result. Use np.sum(np.fromiter(generator)) or the python sum builtin instead.\n",
            "  score += np.sum(cnt * logsumexp(Elogthetad + Elogbeta[:, int(id)]) for id, cnt in doc)\n",
            "/usr/local/lib/python3.6/dist-packages/gensim/models/ldamodel.py:1077: DeprecationWarning: Calling np.sum(generator) is deprecated, and in the future will give a different result. Use np.sum(np.fromiter(generator)) or the python sum builtin instead.\n",
            "  score += np.sum(cnt * logsumexp(Elogthetad + Elogbeta[:, int(id)]) for id, cnt in doc)\n",
            "/usr/local/lib/python3.6/dist-packages/gensim/models/ldamodel.py:1077: DeprecationWarning: Calling np.sum(generator) is deprecated, and in the future will give a different result. Use np.sum(np.fromiter(generator)) or the python sum builtin instead.\n",
            "  score += np.sum(cnt * logsumexp(Elogthetad + Elogbeta[:, int(id)]) for id, cnt in doc)\n",
            "/usr/local/lib/python3.6/dist-packages/gensim/models/ldamodel.py:1077: DeprecationWarning: Calling np.sum(generator) is deprecated, and in the future will give a different result. Use np.sum(np.fromiter(generator)) or the python sum builtin instead.\n",
            "  score += np.sum(cnt * logsumexp(Elogthetad + Elogbeta[:, int(id)]) for id, cnt in doc)\n",
            "/usr/local/lib/python3.6/dist-packages/gensim/models/ldamodel.py:1077: DeprecationWarning: Calling np.sum(generator) is deprecated, and in the future will give a different result. Use np.sum(np.fromiter(generator)) or the python sum builtin instead.\n",
            "  score += np.sum(cnt * logsumexp(Elogthetad + Elogbeta[:, int(id)]) for id, cnt in doc)\n",
            "/usr/local/lib/python3.6/dist-packages/gensim/models/ldamodel.py:1077: DeprecationWarning: Calling np.sum(generator) is deprecated, and in the future will give a different result. Use np.sum(np.fromiter(generator)) or the python sum builtin instead.\n",
            "  score += np.sum(cnt * logsumexp(Elogthetad + Elogbeta[:, int(id)]) for id, cnt in doc)\n",
            "/usr/local/lib/python3.6/dist-packages/gensim/models/ldamodel.py:1077: DeprecationWarning: Calling np.sum(generator) is deprecated, and in the future will give a different result. Use np.sum(np.fromiter(generator)) or the python sum builtin instead.\n",
            "  score += np.sum(cnt * logsumexp(Elogthetad + Elogbeta[:, int(id)]) for id, cnt in doc)\n",
            "/usr/local/lib/python3.6/dist-packages/gensim/models/ldamodel.py:1077: DeprecationWarning: Calling np.sum(generator) is deprecated, and in the future will give a different result. Use np.sum(np.fromiter(generator)) or the python sum builtin instead.\n",
            "  score += np.sum(cnt * logsumexp(Elogthetad + Elogbeta[:, int(id)]) for id, cnt in doc)\n",
            "/usr/local/lib/python3.6/dist-packages/gensim/models/ldamodel.py:1077: DeprecationWarning: Calling np.sum(generator) is deprecated, and in the future will give a different result. Use np.sum(np.fromiter(generator)) or the python sum builtin instead.\n",
            "  score += np.sum(cnt * logsumexp(Elogthetad + Elogbeta[:, int(id)]) for id, cnt in doc)\n",
            "/usr/local/lib/python3.6/dist-packages/gensim/models/ldamodel.py:1077: DeprecationWarning: Calling np.sum(generator) is deprecated, and in the future will give a different result. Use np.sum(np.fromiter(generator)) or the python sum builtin instead.\n",
            "  score += np.sum(cnt * logsumexp(Elogthetad + Elogbeta[:, int(id)]) for id, cnt in doc)\n",
            "/usr/local/lib/python3.6/dist-packages/gensim/models/ldamodel.py:1077: DeprecationWarning: Calling np.sum(generator) is deprecated, and in the future will give a different result. Use np.sum(np.fromiter(generator)) or the python sum builtin instead.\n",
            "  score += np.sum(cnt * logsumexp(Elogthetad + Elogbeta[:, int(id)]) for id, cnt in doc)\n",
            "/usr/local/lib/python3.6/dist-packages/gensim/models/ldamodel.py:1077: DeprecationWarning: Calling np.sum(generator) is deprecated, and in the future will give a different result. Use np.sum(np.fromiter(generator)) or the python sum builtin instead.\n",
            "  score += np.sum(cnt * logsumexp(Elogthetad + Elogbeta[:, int(id)]) for id, cnt in doc)\n",
            "/usr/local/lib/python3.6/dist-packages/gensim/models/ldamodel.py:1077: DeprecationWarning: Calling np.sum(generator) is deprecated, and in the future will give a different result. Use np.sum(np.fromiter(generator)) or the python sum builtin instead.\n",
            "  score += np.sum(cnt * logsumexp(Elogthetad + Elogbeta[:, int(id)]) for id, cnt in doc)\n",
            "/usr/local/lib/python3.6/dist-packages/gensim/models/ldamodel.py:1077: DeprecationWarning: Calling np.sum(generator) is deprecated, and in the future will give a different result. Use np.sum(np.fromiter(generator)) or the python sum builtin instead.\n",
            "  score += np.sum(cnt * logsumexp(Elogthetad + Elogbeta[:, int(id)]) for id, cnt in doc)\n",
            "/usr/local/lib/python3.6/dist-packages/gensim/models/ldamodel.py:1077: DeprecationWarning: Calling np.sum(generator) is deprecated, and in the future will give a different result. Use np.sum(np.fromiter(generator)) or the python sum builtin instead.\n",
            "  score += np.sum(cnt * logsumexp(Elogthetad + Elogbeta[:, int(id)]) for id, cnt in doc)\n",
            "/usr/local/lib/python3.6/dist-packages/gensim/models/ldamodel.py:1077: DeprecationWarning: Calling np.sum(generator) is deprecated, and in the future will give a different result. Use np.sum(np.fromiter(generator)) or the python sum builtin instead.\n",
            "  score += np.sum(cnt * logsumexp(Elogthetad + Elogbeta[:, int(id)]) for id, cnt in doc)\n",
            "/usr/local/lib/python3.6/dist-packages/gensim/models/ldamodel.py:1077: DeprecationWarning: Calling np.sum(generator) is deprecated, and in the future will give a different result. Use np.sum(np.fromiter(generator)) or the python sum builtin instead.\n",
            "  score += np.sum(cnt * logsumexp(Elogthetad + Elogbeta[:, int(id)]) for id, cnt in doc)\n",
            "/usr/local/lib/python3.6/dist-packages/gensim/models/ldamodel.py:1077: DeprecationWarning: Calling np.sum(generator) is deprecated, and in the future will give a different result. Use np.sum(np.fromiter(generator)) or the python sum builtin instead.\n",
            "  score += np.sum(cnt * logsumexp(Elogthetad + Elogbeta[:, int(id)]) for id, cnt in doc)\n",
            "/usr/local/lib/python3.6/dist-packages/gensim/models/ldamodel.py:1077: DeprecationWarning: Calling np.sum(generator) is deprecated, and in the future will give a different result. Use np.sum(np.fromiter(generator)) or the python sum builtin instead.\n",
            "  score += np.sum(cnt * logsumexp(Elogthetad + Elogbeta[:, int(id)]) for id, cnt in doc)\n",
            "/usr/local/lib/python3.6/dist-packages/gensim/models/ldamodel.py:1077: DeprecationWarning: Calling np.sum(generator) is deprecated, and in the future will give a different result. Use np.sum(np.fromiter(generator)) or the python sum builtin instead.\n",
            "  score += np.sum(cnt * logsumexp(Elogthetad + Elogbeta[:, int(id)]) for id, cnt in doc)\n",
            "/usr/local/lib/python3.6/dist-packages/gensim/models/ldamodel.py:1077: DeprecationWarning: Calling np.sum(generator) is deprecated, and in the future will give a different result. Use np.sum(np.fromiter(generator)) or the python sum builtin instead.\n",
            "  score += np.sum(cnt * logsumexp(Elogthetad + Elogbeta[:, int(id)]) for id, cnt in doc)\n",
            "/usr/local/lib/python3.6/dist-packages/gensim/models/ldamodel.py:1077: DeprecationWarning: Calling np.sum(generator) is deprecated, and in the future will give a different result. Use np.sum(np.fromiter(generator)) or the python sum builtin instead.\n",
            "  score += np.sum(cnt * logsumexp(Elogthetad + Elogbeta[:, int(id)]) for id, cnt in doc)\n",
            "/usr/local/lib/python3.6/dist-packages/gensim/models/ldamodel.py:1077: DeprecationWarning: Calling np.sum(generator) is deprecated, and in the future will give a different result. Use np.sum(np.fromiter(generator)) or the python sum builtin instead.\n",
            "  score += np.sum(cnt * logsumexp(Elogthetad + Elogbeta[:, int(id)]) for id, cnt in doc)\n",
            "/usr/local/lib/python3.6/dist-packages/gensim/models/ldamodel.py:1077: DeprecationWarning: Calling np.sum(generator) is deprecated, and in the future will give a different result. Use np.sum(np.fromiter(generator)) or the python sum builtin instead.\n",
            "  score += np.sum(cnt * logsumexp(Elogthetad + Elogbeta[:, int(id)]) for id, cnt in doc)\n",
            "/usr/local/lib/python3.6/dist-packages/gensim/models/ldamodel.py:1077: DeprecationWarning: Calling np.sum(generator) is deprecated, and in the future will give a different result. Use np.sum(np.fromiter(generator)) or the python sum builtin instead.\n",
            "  score += np.sum(cnt * logsumexp(Elogthetad + Elogbeta[:, int(id)]) for id, cnt in doc)\n",
            "/usr/local/lib/python3.6/dist-packages/gensim/models/ldamodel.py:1077: DeprecationWarning: Calling np.sum(generator) is deprecated, and in the future will give a different result. Use np.sum(np.fromiter(generator)) or the python sum builtin instead.\n",
            "  score += np.sum(cnt * logsumexp(Elogthetad + Elogbeta[:, int(id)]) for id, cnt in doc)\n",
            "/usr/local/lib/python3.6/dist-packages/gensim/models/ldamodel.py:1077: DeprecationWarning: Calling np.sum(generator) is deprecated, and in the future will give a different result. Use np.sum(np.fromiter(generator)) or the python sum builtin instead.\n",
            "  score += np.sum(cnt * logsumexp(Elogthetad + Elogbeta[:, int(id)]) for id, cnt in doc)\n",
            "/usr/local/lib/python3.6/dist-packages/gensim/models/ldamodel.py:1077: DeprecationWarning: Calling np.sum(generator) is deprecated, and in the future will give a different result. Use np.sum(np.fromiter(generator)) or the python sum builtin instead.\n",
            "  score += np.sum(cnt * logsumexp(Elogthetad + Elogbeta[:, int(id)]) for id, cnt in doc)\n",
            "/usr/local/lib/python3.6/dist-packages/gensim/models/ldamodel.py:1077: DeprecationWarning: Calling np.sum(generator) is deprecated, and in the future will give a different result. Use np.sum(np.fromiter(generator)) or the python sum builtin instead.\n",
            "  score += np.sum(cnt * logsumexp(Elogthetad + Elogbeta[:, int(id)]) for id, cnt in doc)\n",
            "/usr/local/lib/python3.6/dist-packages/gensim/models/ldamodel.py:1077: DeprecationWarning: Calling np.sum(generator) is deprecated, and in the future will give a different result. Use np.sum(np.fromiter(generator)) or the python sum builtin instead.\n",
            "  score += np.sum(cnt * logsumexp(Elogthetad + Elogbeta[:, int(id)]) for id, cnt in doc)\n",
            "/usr/local/lib/python3.6/dist-packages/gensim/models/ldamodel.py:1077: DeprecationWarning: Calling np.sum(generator) is deprecated, and in the future will give a different result. Use np.sum(np.fromiter(generator)) or the python sum builtin instead.\n",
            "  score += np.sum(cnt * logsumexp(Elogthetad + Elogbeta[:, int(id)]) for id, cnt in doc)\n",
            "/usr/local/lib/python3.6/dist-packages/gensim/models/ldamodel.py:1077: DeprecationWarning: Calling np.sum(generator) is deprecated, and in the future will give a different result. Use np.sum(np.fromiter(generator)) or the python sum builtin instead.\n",
            "  score += np.sum(cnt * logsumexp(Elogthetad + Elogbeta[:, int(id)]) for id, cnt in doc)\n",
            "/usr/local/lib/python3.6/dist-packages/gensim/models/ldamodel.py:1077: DeprecationWarning: Calling np.sum(generator) is deprecated, and in the future will give a different result. Use np.sum(np.fromiter(generator)) or the python sum builtin instead.\n",
            "  score += np.sum(cnt * logsumexp(Elogthetad + Elogbeta[:, int(id)]) for id, cnt in doc)\n",
            "/usr/local/lib/python3.6/dist-packages/gensim/models/ldamodel.py:1077: DeprecationWarning: Calling np.sum(generator) is deprecated, and in the future will give a different result. Use np.sum(np.fromiter(generator)) or the python sum builtin instead.\n",
            "  score += np.sum(cnt * logsumexp(Elogthetad + Elogbeta[:, int(id)]) for id, cnt in doc)\n",
            "/usr/local/lib/python3.6/dist-packages/gensim/models/ldamodel.py:1077: DeprecationWarning: Calling np.sum(generator) is deprecated, and in the future will give a different result. Use np.sum(np.fromiter(generator)) or the python sum builtin instead.\n",
            "  score += np.sum(cnt * logsumexp(Elogthetad + Elogbeta[:, int(id)]) for id, cnt in doc)\n",
            "/usr/local/lib/python3.6/dist-packages/gensim/models/ldamodel.py:1077: DeprecationWarning: Calling np.sum(generator) is deprecated, and in the future will give a different result. Use np.sum(np.fromiter(generator)) or the python sum builtin instead.\n",
            "  score += np.sum(cnt * logsumexp(Elogthetad + Elogbeta[:, int(id)]) for id, cnt in doc)\n",
            "/usr/local/lib/python3.6/dist-packages/gensim/models/ldamodel.py:1077: DeprecationWarning: Calling np.sum(generator) is deprecated, and in the future will give a different result. Use np.sum(np.fromiter(generator)) or the python sum builtin instead.\n",
            "  score += np.sum(cnt * logsumexp(Elogthetad + Elogbeta[:, int(id)]) for id, cnt in doc)\n",
            "/usr/local/lib/python3.6/dist-packages/gensim/models/ldamodel.py:1077: DeprecationWarning: Calling np.sum(generator) is deprecated, and in the future will give a different result. Use np.sum(np.fromiter(generator)) or the python sum builtin instead.\n",
            "  score += np.sum(cnt * logsumexp(Elogthetad + Elogbeta[:, int(id)]) for id, cnt in doc)\n",
            "/usr/local/lib/python3.6/dist-packages/gensim/models/ldamodel.py:1077: DeprecationWarning: Calling np.sum(generator) is deprecated, and in the future will give a different result. Use np.sum(np.fromiter(generator)) or the python sum builtin instead.\n",
            "  score += np.sum(cnt * logsumexp(Elogthetad + Elogbeta[:, int(id)]) for id, cnt in doc)\n",
            "/usr/local/lib/python3.6/dist-packages/gensim/models/ldamodel.py:1077: DeprecationWarning: Calling np.sum(generator) is deprecated, and in the future will give a different result. Use np.sum(np.fromiter(generator)) or the python sum builtin instead.\n",
            "  score += np.sum(cnt * logsumexp(Elogthetad + Elogbeta[:, int(id)]) for id, cnt in doc)\n",
            "/usr/local/lib/python3.6/dist-packages/gensim/models/ldamodel.py:1077: DeprecationWarning: Calling np.sum(generator) is deprecated, and in the future will give a different result. Use np.sum(np.fromiter(generator)) or the python sum builtin instead.\n",
            "  score += np.sum(cnt * logsumexp(Elogthetad + Elogbeta[:, int(id)]) for id, cnt in doc)\n",
            "/usr/local/lib/python3.6/dist-packages/gensim/models/ldamodel.py:1077: DeprecationWarning: Calling np.sum(generator) is deprecated, and in the future will give a different result. Use np.sum(np.fromiter(generator)) or the python sum builtin instead.\n",
            "  score += np.sum(cnt * logsumexp(Elogthetad + Elogbeta[:, int(id)]) for id, cnt in doc)\n",
            "/usr/local/lib/python3.6/dist-packages/gensim/models/ldamodel.py:1077: DeprecationWarning: Calling np.sum(generator) is deprecated, and in the future will give a different result. Use np.sum(np.fromiter(generator)) or the python sum builtin instead.\n",
            "  score += np.sum(cnt * logsumexp(Elogthetad + Elogbeta[:, int(id)]) for id, cnt in doc)\n",
            "/usr/local/lib/python3.6/dist-packages/gensim/models/ldamodel.py:1077: DeprecationWarning: Calling np.sum(generator) is deprecated, and in the future will give a different result. Use np.sum(np.fromiter(generator)) or the python sum builtin instead.\n",
            "  score += np.sum(cnt * logsumexp(Elogthetad + Elogbeta[:, int(id)]) for id, cnt in doc)\n",
            "/usr/local/lib/python3.6/dist-packages/gensim/models/ldamodel.py:1077: DeprecationWarning: Calling np.sum(generator) is deprecated, and in the future will give a different result. Use np.sum(np.fromiter(generator)) or the python sum builtin instead.\n",
            "  score += np.sum(cnt * logsumexp(Elogthetad + Elogbeta[:, int(id)]) for id, cnt in doc)\n",
            "/usr/local/lib/python3.6/dist-packages/gensim/models/ldamodel.py:1077: DeprecationWarning: Calling np.sum(generator) is deprecated, and in the future will give a different result. Use np.sum(np.fromiter(generator)) or the python sum builtin instead.\n",
            "  score += np.sum(cnt * logsumexp(Elogthetad + Elogbeta[:, int(id)]) for id, cnt in doc)\n",
            "/usr/local/lib/python3.6/dist-packages/gensim/models/ldamodel.py:1077: DeprecationWarning: Calling np.sum(generator) is deprecated, and in the future will give a different result. Use np.sum(np.fromiter(generator)) or the python sum builtin instead.\n",
            "  score += np.sum(cnt * logsumexp(Elogthetad + Elogbeta[:, int(id)]) for id, cnt in doc)\n",
            "/usr/local/lib/python3.6/dist-packages/gensim/models/ldamodel.py:1077: DeprecationWarning: Calling np.sum(generator) is deprecated, and in the future will give a different result. Use np.sum(np.fromiter(generator)) or the python sum builtin instead.\n",
            "  score += np.sum(cnt * logsumexp(Elogthetad + Elogbeta[:, int(id)]) for id, cnt in doc)\n",
            "/usr/local/lib/python3.6/dist-packages/gensim/models/ldamodel.py:1077: DeprecationWarning: Calling np.sum(generator) is deprecated, and in the future will give a different result. Use np.sum(np.fromiter(generator)) or the python sum builtin instead.\n",
            "  score += np.sum(cnt * logsumexp(Elogthetad + Elogbeta[:, int(id)]) for id, cnt in doc)\n",
            "/usr/local/lib/python3.6/dist-packages/gensim/models/ldamodel.py:1077: DeprecationWarning: Calling np.sum(generator) is deprecated, and in the future will give a different result. Use np.sum(np.fromiter(generator)) or the python sum builtin instead.\n",
            "  score += np.sum(cnt * logsumexp(Elogthetad + Elogbeta[:, int(id)]) for id, cnt in doc)\n",
            "/usr/local/lib/python3.6/dist-packages/gensim/models/ldamodel.py:1077: DeprecationWarning: Calling np.sum(generator) is deprecated, and in the future will give a different result. Use np.sum(np.fromiter(generator)) or the python sum builtin instead.\n",
            "  score += np.sum(cnt * logsumexp(Elogthetad + Elogbeta[:, int(id)]) for id, cnt in doc)\n",
            "/usr/local/lib/python3.6/dist-packages/gensim/models/ldamodel.py:1077: DeprecationWarning: Calling np.sum(generator) is deprecated, and in the future will give a different result. Use np.sum(np.fromiter(generator)) or the python sum builtin instead.\n",
            "  score += np.sum(cnt * logsumexp(Elogthetad + Elogbeta[:, int(id)]) for id, cnt in doc)\n",
            "/usr/local/lib/python3.6/dist-packages/gensim/models/ldamodel.py:1077: DeprecationWarning: Calling np.sum(generator) is deprecated, and in the future will give a different result. Use np.sum(np.fromiter(generator)) or the python sum builtin instead.\n",
            "  score += np.sum(cnt * logsumexp(Elogthetad + Elogbeta[:, int(id)]) for id, cnt in doc)\n",
            "/usr/local/lib/python3.6/dist-packages/gensim/models/ldamodel.py:1077: DeprecationWarning: Calling np.sum(generator) is deprecated, and in the future will give a different result. Use np.sum(np.fromiter(generator)) or the python sum builtin instead.\n",
            "  score += np.sum(cnt * logsumexp(Elogthetad + Elogbeta[:, int(id)]) for id, cnt in doc)\n",
            "/usr/local/lib/python3.6/dist-packages/gensim/models/ldamodel.py:1077: DeprecationWarning: Calling np.sum(generator) is deprecated, and in the future will give a different result. Use np.sum(np.fromiter(generator)) or the python sum builtin instead.\n",
            "  score += np.sum(cnt * logsumexp(Elogthetad + Elogbeta[:, int(id)]) for id, cnt in doc)\n",
            "/usr/local/lib/python3.6/dist-packages/gensim/models/ldamodel.py:1077: DeprecationWarning: Calling np.sum(generator) is deprecated, and in the future will give a different result. Use np.sum(np.fromiter(generator)) or the python sum builtin instead.\n",
            "  score += np.sum(cnt * logsumexp(Elogthetad + Elogbeta[:, int(id)]) for id, cnt in doc)\n",
            "/usr/local/lib/python3.6/dist-packages/gensim/models/ldamodel.py:1077: DeprecationWarning: Calling np.sum(generator) is deprecated, and in the future will give a different result. Use np.sum(np.fromiter(generator)) or the python sum builtin instead.\n",
            "  score += np.sum(cnt * logsumexp(Elogthetad + Elogbeta[:, int(id)]) for id, cnt in doc)\n",
            "/usr/local/lib/python3.6/dist-packages/gensim/models/ldamodel.py:1077: DeprecationWarning: Calling np.sum(generator) is deprecated, and in the future will give a different result. Use np.sum(np.fromiter(generator)) or the python sum builtin instead.\n",
            "  score += np.sum(cnt * logsumexp(Elogthetad + Elogbeta[:, int(id)]) for id, cnt in doc)\n",
            "/usr/local/lib/python3.6/dist-packages/gensim/models/ldamodel.py:1077: DeprecationWarning: Calling np.sum(generator) is deprecated, and in the future will give a different result. Use np.sum(np.fromiter(generator)) or the python sum builtin instead.\n",
            "  score += np.sum(cnt * logsumexp(Elogthetad + Elogbeta[:, int(id)]) for id, cnt in doc)\n",
            "/usr/local/lib/python3.6/dist-packages/gensim/models/ldamodel.py:1077: DeprecationWarning: Calling np.sum(generator) is deprecated, and in the future will give a different result. Use np.sum(np.fromiter(generator)) or the python sum builtin instead.\n",
            "  score += np.sum(cnt * logsumexp(Elogthetad + Elogbeta[:, int(id)]) for id, cnt in doc)\n",
            "/usr/local/lib/python3.6/dist-packages/gensim/models/ldamodel.py:1077: DeprecationWarning: Calling np.sum(generator) is deprecated, and in the future will give a different result. Use np.sum(np.fromiter(generator)) or the python sum builtin instead.\n",
            "  score += np.sum(cnt * logsumexp(Elogthetad + Elogbeta[:, int(id)]) for id, cnt in doc)\n",
            "/usr/local/lib/python3.6/dist-packages/gensim/models/ldamodel.py:1077: DeprecationWarning: Calling np.sum(generator) is deprecated, and in the future will give a different result. Use np.sum(np.fromiter(generator)) or the python sum builtin instead.\n",
            "  score += np.sum(cnt * logsumexp(Elogthetad + Elogbeta[:, int(id)]) for id, cnt in doc)\n",
            "/usr/local/lib/python3.6/dist-packages/gensim/models/ldamodel.py:1077: DeprecationWarning: Calling np.sum(generator) is deprecated, and in the future will give a different result. Use np.sum(np.fromiter(generator)) or the python sum builtin instead.\n",
            "  score += np.sum(cnt * logsumexp(Elogthetad + Elogbeta[:, int(id)]) for id, cnt in doc)\n",
            "/usr/local/lib/python3.6/dist-packages/gensim/models/ldamodel.py:1077: DeprecationWarning: Calling np.sum(generator) is deprecated, and in the future will give a different result. Use np.sum(np.fromiter(generator)) or the python sum builtin instead.\n",
            "  score += np.sum(cnt * logsumexp(Elogthetad + Elogbeta[:, int(id)]) for id, cnt in doc)\n",
            "/usr/local/lib/python3.6/dist-packages/gensim/models/ldamodel.py:1077: DeprecationWarning: Calling np.sum(generator) is deprecated, and in the future will give a different result. Use np.sum(np.fromiter(generator)) or the python sum builtin instead.\n",
            "  score += np.sum(cnt * logsumexp(Elogthetad + Elogbeta[:, int(id)]) for id, cnt in doc)\n",
            "/usr/local/lib/python3.6/dist-packages/gensim/models/ldamodel.py:1077: DeprecationWarning: Calling np.sum(generator) is deprecated, and in the future will give a different result. Use np.sum(np.fromiter(generator)) or the python sum builtin instead.\n",
            "  score += np.sum(cnt * logsumexp(Elogthetad + Elogbeta[:, int(id)]) for id, cnt in doc)\n",
            "/usr/local/lib/python3.6/dist-packages/gensim/models/ldamodel.py:1077: DeprecationWarning: Calling np.sum(generator) is deprecated, and in the future will give a different result. Use np.sum(np.fromiter(generator)) or the python sum builtin instead.\n",
            "  score += np.sum(cnt * logsumexp(Elogthetad + Elogbeta[:, int(id)]) for id, cnt in doc)\n",
            "/usr/local/lib/python3.6/dist-packages/gensim/models/ldamodel.py:1077: DeprecationWarning: Calling np.sum(generator) is deprecated, and in the future will give a different result. Use np.sum(np.fromiter(generator)) or the python sum builtin instead.\n",
            "  score += np.sum(cnt * logsumexp(Elogthetad + Elogbeta[:, int(id)]) for id, cnt in doc)\n",
            "/usr/local/lib/python3.6/dist-packages/gensim/models/ldamodel.py:1077: DeprecationWarning: Calling np.sum(generator) is deprecated, and in the future will give a different result. Use np.sum(np.fromiter(generator)) or the python sum builtin instead.\n",
            "  score += np.sum(cnt * logsumexp(Elogthetad + Elogbeta[:, int(id)]) for id, cnt in doc)\n",
            "/usr/local/lib/python3.6/dist-packages/gensim/models/ldamodel.py:1077: DeprecationWarning: Calling np.sum(generator) is deprecated, and in the future will give a different result. Use np.sum(np.fromiter(generator)) or the python sum builtin instead.\n",
            "  score += np.sum(cnt * logsumexp(Elogthetad + Elogbeta[:, int(id)]) for id, cnt in doc)\n",
            "/usr/local/lib/python3.6/dist-packages/gensim/models/ldamodel.py:1077: DeprecationWarning: Calling np.sum(generator) is deprecated, and in the future will give a different result. Use np.sum(np.fromiter(generator)) or the python sum builtin instead.\n",
            "  score += np.sum(cnt * logsumexp(Elogthetad + Elogbeta[:, int(id)]) for id, cnt in doc)\n",
            "/usr/local/lib/python3.6/dist-packages/gensim/models/ldamodel.py:1077: DeprecationWarning: Calling np.sum(generator) is deprecated, and in the future will give a different result. Use np.sum(np.fromiter(generator)) or the python sum builtin instead.\n",
            "  score += np.sum(cnt * logsumexp(Elogthetad + Elogbeta[:, int(id)]) for id, cnt in doc)\n",
            "/usr/local/lib/python3.6/dist-packages/gensim/models/ldamodel.py:1077: DeprecationWarning: Calling np.sum(generator) is deprecated, and in the future will give a different result. Use np.sum(np.fromiter(generator)) or the python sum builtin instead.\n",
            "  score += np.sum(cnt * logsumexp(Elogthetad + Elogbeta[:, int(id)]) for id, cnt in doc)\n",
            "/usr/local/lib/python3.6/dist-packages/gensim/models/ldamodel.py:1077: DeprecationWarning: Calling np.sum(generator) is deprecated, and in the future will give a different result. Use np.sum(np.fromiter(generator)) or the python sum builtin instead.\n",
            "  score += np.sum(cnt * logsumexp(Elogthetad + Elogbeta[:, int(id)]) for id, cnt in doc)\n",
            "/usr/local/lib/python3.6/dist-packages/gensim/models/ldamodel.py:1077: DeprecationWarning: Calling np.sum(generator) is deprecated, and in the future will give a different result. Use np.sum(np.fromiter(generator)) or the python sum builtin instead.\n",
            "  score += np.sum(cnt * logsumexp(Elogthetad + Elogbeta[:, int(id)]) for id, cnt in doc)\n",
            "/usr/local/lib/python3.6/dist-packages/gensim/models/ldamodel.py:1077: DeprecationWarning: Calling np.sum(generator) is deprecated, and in the future will give a different result. Use np.sum(np.fromiter(generator)) or the python sum builtin instead.\n",
            "  score += np.sum(cnt * logsumexp(Elogthetad + Elogbeta[:, int(id)]) for id, cnt in doc)\n",
            "/usr/local/lib/python3.6/dist-packages/gensim/models/ldamodel.py:1077: DeprecationWarning: Calling np.sum(generator) is deprecated, and in the future will give a different result. Use np.sum(np.fromiter(generator)) or the python sum builtin instead.\n",
            "  score += np.sum(cnt * logsumexp(Elogthetad + Elogbeta[:, int(id)]) for id, cnt in doc)\n",
            "/usr/local/lib/python3.6/dist-packages/gensim/models/ldamodel.py:1077: DeprecationWarning: Calling np.sum(generator) is deprecated, and in the future will give a different result. Use np.sum(np.fromiter(generator)) or the python sum builtin instead.\n",
            "  score += np.sum(cnt * logsumexp(Elogthetad + Elogbeta[:, int(id)]) for id, cnt in doc)\n",
            "/usr/local/lib/python3.6/dist-packages/gensim/models/ldamodel.py:1077: DeprecationWarning: Calling np.sum(generator) is deprecated, and in the future will give a different result. Use np.sum(np.fromiter(generator)) or the python sum builtin instead.\n",
            "  score += np.sum(cnt * logsumexp(Elogthetad + Elogbeta[:, int(id)]) for id, cnt in doc)\n",
            "/usr/local/lib/python3.6/dist-packages/gensim/models/ldamodel.py:1077: DeprecationWarning: Calling np.sum(generator) is deprecated, and in the future will give a different result. Use np.sum(np.fromiter(generator)) or the python sum builtin instead.\n",
            "  score += np.sum(cnt * logsumexp(Elogthetad + Elogbeta[:, int(id)]) for id, cnt in doc)\n",
            "/usr/local/lib/python3.6/dist-packages/gensim/models/ldamodel.py:1077: DeprecationWarning: Calling np.sum(generator) is deprecated, and in the future will give a different result. Use np.sum(np.fromiter(generator)) or the python sum builtin instead.\n",
            "  score += np.sum(cnt * logsumexp(Elogthetad + Elogbeta[:, int(id)]) for id, cnt in doc)\n",
            "/usr/local/lib/python3.6/dist-packages/gensim/models/ldamodel.py:1077: DeprecationWarning: Calling np.sum(generator) is deprecated, and in the future will give a different result. Use np.sum(np.fromiter(generator)) or the python sum builtin instead.\n",
            "  score += np.sum(cnt * logsumexp(Elogthetad + Elogbeta[:, int(id)]) for id, cnt in doc)\n",
            "/usr/local/lib/python3.6/dist-packages/gensim/models/ldamodel.py:1077: DeprecationWarning: Calling np.sum(generator) is deprecated, and in the future will give a different result. Use np.sum(np.fromiter(generator)) or the python sum builtin instead.\n",
            "  score += np.sum(cnt * logsumexp(Elogthetad + Elogbeta[:, int(id)]) for id, cnt in doc)\n",
            "/usr/local/lib/python3.6/dist-packages/gensim/models/ldamodel.py:1077: DeprecationWarning: Calling np.sum(generator) is deprecated, and in the future will give a different result. Use np.sum(np.fromiter(generator)) or the python sum builtin instead.\n",
            "  score += np.sum(cnt * logsumexp(Elogthetad + Elogbeta[:, int(id)]) for id, cnt in doc)\n",
            "/usr/local/lib/python3.6/dist-packages/gensim/models/ldamodel.py:1077: DeprecationWarning: Calling np.sum(generator) is deprecated, and in the future will give a different result. Use np.sum(np.fromiter(generator)) or the python sum builtin instead.\n",
            "  score += np.sum(cnt * logsumexp(Elogthetad + Elogbeta[:, int(id)]) for id, cnt in doc)\n",
            "/usr/local/lib/python3.6/dist-packages/gensim/models/ldamodel.py:1077: DeprecationWarning: Calling np.sum(generator) is deprecated, and in the future will give a different result. Use np.sum(np.fromiter(generator)) or the python sum builtin instead.\n",
            "  score += np.sum(cnt * logsumexp(Elogthetad + Elogbeta[:, int(id)]) for id, cnt in doc)\n",
            "/usr/local/lib/python3.6/dist-packages/gensim/models/ldamodel.py:1077: DeprecationWarning: Calling np.sum(generator) is deprecated, and in the future will give a different result. Use np.sum(np.fromiter(generator)) or the python sum builtin instead.\n",
            "  score += np.sum(cnt * logsumexp(Elogthetad + Elogbeta[:, int(id)]) for id, cnt in doc)\n",
            "/usr/local/lib/python3.6/dist-packages/gensim/models/ldamodel.py:1077: DeprecationWarning: Calling np.sum(generator) is deprecated, and in the future will give a different result. Use np.sum(np.fromiter(generator)) or the python sum builtin instead.\n",
            "  score += np.sum(cnt * logsumexp(Elogthetad + Elogbeta[:, int(id)]) for id, cnt in doc)\n",
            "/usr/local/lib/python3.6/dist-packages/gensim/models/ldamodel.py:1077: DeprecationWarning: Calling np.sum(generator) is deprecated, and in the future will give a different result. Use np.sum(np.fromiter(generator)) or the python sum builtin instead.\n",
            "  score += np.sum(cnt * logsumexp(Elogthetad + Elogbeta[:, int(id)]) for id, cnt in doc)\n",
            "/usr/local/lib/python3.6/dist-packages/gensim/models/ldamodel.py:1077: DeprecationWarning: Calling np.sum(generator) is deprecated, and in the future will give a different result. Use np.sum(np.fromiter(generator)) or the python sum builtin instead.\n",
            "  score += np.sum(cnt * logsumexp(Elogthetad + Elogbeta[:, int(id)]) for id, cnt in doc)\n",
            "/usr/local/lib/python3.6/dist-packages/gensim/models/ldamodel.py:1077: DeprecationWarning: Calling np.sum(generator) is deprecated, and in the future will give a different result. Use np.sum(np.fromiter(generator)) or the python sum builtin instead.\n",
            "  score += np.sum(cnt * logsumexp(Elogthetad + Elogbeta[:, int(id)]) for id, cnt in doc)\n",
            "/usr/local/lib/python3.6/dist-packages/gensim/models/ldamodel.py:1077: DeprecationWarning: Calling np.sum(generator) is deprecated, and in the future will give a different result. Use np.sum(np.fromiter(generator)) or the python sum builtin instead.\n",
            "  score += np.sum(cnt * logsumexp(Elogthetad + Elogbeta[:, int(id)]) for id, cnt in doc)\n",
            "/usr/local/lib/python3.6/dist-packages/gensim/models/ldamodel.py:1077: DeprecationWarning: Calling np.sum(generator) is deprecated, and in the future will give a different result. Use np.sum(np.fromiter(generator)) or the python sum builtin instead.\n",
            "  score += np.sum(cnt * logsumexp(Elogthetad + Elogbeta[:, int(id)]) for id, cnt in doc)\n",
            "/usr/local/lib/python3.6/dist-packages/gensim/models/ldamodel.py:1077: DeprecationWarning: Calling np.sum(generator) is deprecated, and in the future will give a different result. Use np.sum(np.fromiter(generator)) or the python sum builtin instead.\n",
            "  score += np.sum(cnt * logsumexp(Elogthetad + Elogbeta[:, int(id)]) for id, cnt in doc)\n",
            "/usr/local/lib/python3.6/dist-packages/gensim/models/ldamodel.py:1077: DeprecationWarning: Calling np.sum(generator) is deprecated, and in the future will give a different result. Use np.sum(np.fromiter(generator)) or the python sum builtin instead.\n",
            "  score += np.sum(cnt * logsumexp(Elogthetad + Elogbeta[:, int(id)]) for id, cnt in doc)\n",
            "/usr/local/lib/python3.6/dist-packages/gensim/models/ldamodel.py:1077: DeprecationWarning: Calling np.sum(generator) is deprecated, and in the future will give a different result. Use np.sum(np.fromiter(generator)) or the python sum builtin instead.\n",
            "  score += np.sum(cnt * logsumexp(Elogthetad + Elogbeta[:, int(id)]) for id, cnt in doc)\n",
            "/usr/local/lib/python3.6/dist-packages/gensim/models/ldamodel.py:1077: DeprecationWarning: Calling np.sum(generator) is deprecated, and in the future will give a different result. Use np.sum(np.fromiter(generator)) or the python sum builtin instead.\n",
            "  score += np.sum(cnt * logsumexp(Elogthetad + Elogbeta[:, int(id)]) for id, cnt in doc)\n",
            "/usr/local/lib/python3.6/dist-packages/gensim/models/ldamodel.py:1077: DeprecationWarning: Calling np.sum(generator) is deprecated, and in the future will give a different result. Use np.sum(np.fromiter(generator)) or the python sum builtin instead.\n",
            "  score += np.sum(cnt * logsumexp(Elogthetad + Elogbeta[:, int(id)]) for id, cnt in doc)\n",
            "/usr/local/lib/python3.6/dist-packages/gensim/models/ldamodel.py:1077: DeprecationWarning: Calling np.sum(generator) is deprecated, and in the future will give a different result. Use np.sum(np.fromiter(generator)) or the python sum builtin instead.\n",
            "  score += np.sum(cnt * logsumexp(Elogthetad + Elogbeta[:, int(id)]) for id, cnt in doc)\n",
            "/usr/local/lib/python3.6/dist-packages/gensim/models/ldamodel.py:1077: DeprecationWarning: Calling np.sum(generator) is deprecated, and in the future will give a different result. Use np.sum(np.fromiter(generator)) or the python sum builtin instead.\n",
            "  score += np.sum(cnt * logsumexp(Elogthetad + Elogbeta[:, int(id)]) for id, cnt in doc)\n",
            "/usr/local/lib/python3.6/dist-packages/gensim/models/ldamodel.py:1077: DeprecationWarning: Calling np.sum(generator) is deprecated, and in the future will give a different result. Use np.sum(np.fromiter(generator)) or the python sum builtin instead.\n",
            "  score += np.sum(cnt * logsumexp(Elogthetad + Elogbeta[:, int(id)]) for id, cnt in doc)\n",
            "/usr/local/lib/python3.6/dist-packages/gensim/models/ldamodel.py:1077: DeprecationWarning: Calling np.sum(generator) is deprecated, and in the future will give a different result. Use np.sum(np.fromiter(generator)) or the python sum builtin instead.\n",
            "  score += np.sum(cnt * logsumexp(Elogthetad + Elogbeta[:, int(id)]) for id, cnt in doc)\n",
            "/usr/local/lib/python3.6/dist-packages/gensim/models/ldamodel.py:1077: DeprecationWarning: Calling np.sum(generator) is deprecated, and in the future will give a different result. Use np.sum(np.fromiter(generator)) or the python sum builtin instead.\n",
            "  score += np.sum(cnt * logsumexp(Elogthetad + Elogbeta[:, int(id)]) for id, cnt in doc)\n",
            "/usr/local/lib/python3.6/dist-packages/gensim/models/ldamodel.py:1077: DeprecationWarning: Calling np.sum(generator) is deprecated, and in the future will give a different result. Use np.sum(np.fromiter(generator)) or the python sum builtin instead.\n",
            "  score += np.sum(cnt * logsumexp(Elogthetad + Elogbeta[:, int(id)]) for id, cnt in doc)\n",
            "/usr/local/lib/python3.6/dist-packages/gensim/models/ldamodel.py:1077: DeprecationWarning: Calling np.sum(generator) is deprecated, and in the future will give a different result. Use np.sum(np.fromiter(generator)) or the python sum builtin instead.\n",
            "  score += np.sum(cnt * logsumexp(Elogthetad + Elogbeta[:, int(id)]) for id, cnt in doc)\n",
            "/usr/local/lib/python3.6/dist-packages/gensim/models/ldamodel.py:1077: DeprecationWarning: Calling np.sum(generator) is deprecated, and in the future will give a different result. Use np.sum(np.fromiter(generator)) or the python sum builtin instead.\n",
            "  score += np.sum(cnt * logsumexp(Elogthetad + Elogbeta[:, int(id)]) for id, cnt in doc)\n",
            "/usr/local/lib/python3.6/dist-packages/gensim/models/ldamodel.py:1077: DeprecationWarning: Calling np.sum(generator) is deprecated, and in the future will give a different result. Use np.sum(np.fromiter(generator)) or the python sum builtin instead.\n",
            "  score += np.sum(cnt * logsumexp(Elogthetad + Elogbeta[:, int(id)]) for id, cnt in doc)\n",
            "/usr/local/lib/python3.6/dist-packages/gensim/models/ldamodel.py:1077: DeprecationWarning: Calling np.sum(generator) is deprecated, and in the future will give a different result. Use np.sum(np.fromiter(generator)) or the python sum builtin instead.\n",
            "  score += np.sum(cnt * logsumexp(Elogthetad + Elogbeta[:, int(id)]) for id, cnt in doc)\n",
            "/usr/local/lib/python3.6/dist-packages/gensim/models/ldamodel.py:1077: DeprecationWarning: Calling np.sum(generator) is deprecated, and in the future will give a different result. Use np.sum(np.fromiter(generator)) or the python sum builtin instead.\n",
            "  score += np.sum(cnt * logsumexp(Elogthetad + Elogbeta[:, int(id)]) for id, cnt in doc)\n",
            "/usr/local/lib/python3.6/dist-packages/gensim/models/ldamodel.py:1077: DeprecationWarning: Calling np.sum(generator) is deprecated, and in the future will give a different result. Use np.sum(np.fromiter(generator)) or the python sum builtin instead.\n",
            "  score += np.sum(cnt * logsumexp(Elogthetad + Elogbeta[:, int(id)]) for id, cnt in doc)\n",
            "/usr/local/lib/python3.6/dist-packages/gensim/models/ldamodel.py:1077: DeprecationWarning: Calling np.sum(generator) is deprecated, and in the future will give a different result. Use np.sum(np.fromiter(generator)) or the python sum builtin instead.\n",
            "  score += np.sum(cnt * logsumexp(Elogthetad + Elogbeta[:, int(id)]) for id, cnt in doc)\n",
            "/usr/local/lib/python3.6/dist-packages/gensim/models/ldamodel.py:1077: DeprecationWarning: Calling np.sum(generator) is deprecated, and in the future will give a different result. Use np.sum(np.fromiter(generator)) or the python sum builtin instead.\n",
            "  score += np.sum(cnt * logsumexp(Elogthetad + Elogbeta[:, int(id)]) for id, cnt in doc)\n",
            "/usr/local/lib/python3.6/dist-packages/gensim/models/ldamodel.py:1077: DeprecationWarning: Calling np.sum(generator) is deprecated, and in the future will give a different result. Use np.sum(np.fromiter(generator)) or the python sum builtin instead.\n",
            "  score += np.sum(cnt * logsumexp(Elogthetad + Elogbeta[:, int(id)]) for id, cnt in doc)\n",
            "/usr/local/lib/python3.6/dist-packages/gensim/models/ldamodel.py:1077: DeprecationWarning: Calling np.sum(generator) is deprecated, and in the future will give a different result. Use np.sum(np.fromiter(generator)) or the python sum builtin instead.\n",
            "  score += np.sum(cnt * logsumexp(Elogthetad + Elogbeta[:, int(id)]) for id, cnt in doc)\n",
            "/usr/local/lib/python3.6/dist-packages/gensim/models/ldamodel.py:1077: DeprecationWarning: Calling np.sum(generator) is deprecated, and in the future will give a different result. Use np.sum(np.fromiter(generator)) or the python sum builtin instead.\n",
            "  score += np.sum(cnt * logsumexp(Elogthetad + Elogbeta[:, int(id)]) for id, cnt in doc)\n",
            "/usr/local/lib/python3.6/dist-packages/gensim/models/ldamodel.py:1077: DeprecationWarning: Calling np.sum(generator) is deprecated, and in the future will give a different result. Use np.sum(np.fromiter(generator)) or the python sum builtin instead.\n",
            "  score += np.sum(cnt * logsumexp(Elogthetad + Elogbeta[:, int(id)]) for id, cnt in doc)\n",
            "/usr/local/lib/python3.6/dist-packages/gensim/models/ldamodel.py:1077: DeprecationWarning: Calling np.sum(generator) is deprecated, and in the future will give a different result. Use np.sum(np.fromiter(generator)) or the python sum builtin instead.\n",
            "  score += np.sum(cnt * logsumexp(Elogthetad + Elogbeta[:, int(id)]) for id, cnt in doc)\n",
            "/usr/local/lib/python3.6/dist-packages/gensim/models/ldamodel.py:1077: DeprecationWarning: Calling np.sum(generator) is deprecated, and in the future will give a different result. Use np.sum(np.fromiter(generator)) or the python sum builtin instead.\n",
            "  score += np.sum(cnt * logsumexp(Elogthetad + Elogbeta[:, int(id)]) for id, cnt in doc)\n",
            "/usr/local/lib/python3.6/dist-packages/gensim/models/ldamodel.py:1077: DeprecationWarning: Calling np.sum(generator) is deprecated, and in the future will give a different result. Use np.sum(np.fromiter(generator)) or the python sum builtin instead.\n",
            "  score += np.sum(cnt * logsumexp(Elogthetad + Elogbeta[:, int(id)]) for id, cnt in doc)\n",
            "/usr/local/lib/python3.6/dist-packages/gensim/models/ldamodel.py:1077: DeprecationWarning: Calling np.sum(generator) is deprecated, and in the future will give a different result. Use np.sum(np.fromiter(generator)) or the python sum builtin instead.\n",
            "  score += np.sum(cnt * logsumexp(Elogthetad + Elogbeta[:, int(id)]) for id, cnt in doc)\n",
            "/usr/local/lib/python3.6/dist-packages/gensim/models/ldamodel.py:1077: DeprecationWarning: Calling np.sum(generator) is deprecated, and in the future will give a different result. Use np.sum(np.fromiter(generator)) or the python sum builtin instead.\n",
            "  score += np.sum(cnt * logsumexp(Elogthetad + Elogbeta[:, int(id)]) for id, cnt in doc)\n",
            "/usr/local/lib/python3.6/dist-packages/gensim/models/ldamodel.py:1077: DeprecationWarning: Calling np.sum(generator) is deprecated, and in the future will give a different result. Use np.sum(np.fromiter(generator)) or the python sum builtin instead.\n",
            "  score += np.sum(cnt * logsumexp(Elogthetad + Elogbeta[:, int(id)]) for id, cnt in doc)\n",
            "/usr/local/lib/python3.6/dist-packages/gensim/models/ldamodel.py:1077: DeprecationWarning: Calling np.sum(generator) is deprecated, and in the future will give a different result. Use np.sum(np.fromiter(generator)) or the python sum builtin instead.\n",
            "  score += np.sum(cnt * logsumexp(Elogthetad + Elogbeta[:, int(id)]) for id, cnt in doc)\n",
            "/usr/local/lib/python3.6/dist-packages/gensim/models/ldamodel.py:1077: DeprecationWarning: Calling np.sum(generator) is deprecated, and in the future will give a different result. Use np.sum(np.fromiter(generator)) or the python sum builtin instead.\n",
            "  score += np.sum(cnt * logsumexp(Elogthetad + Elogbeta[:, int(id)]) for id, cnt in doc)\n",
            "/usr/local/lib/python3.6/dist-packages/gensim/models/ldamodel.py:1077: DeprecationWarning: Calling np.sum(generator) is deprecated, and in the future will give a different result. Use np.sum(np.fromiter(generator)) or the python sum builtin instead.\n",
            "  score += np.sum(cnt * logsumexp(Elogthetad + Elogbeta[:, int(id)]) for id, cnt in doc)\n",
            "/usr/local/lib/python3.6/dist-packages/gensim/models/ldamodel.py:1077: DeprecationWarning: Calling np.sum(generator) is deprecated, and in the future will give a different result. Use np.sum(np.fromiter(generator)) or the python sum builtin instead.\n",
            "  score += np.sum(cnt * logsumexp(Elogthetad + Elogbeta[:, int(id)]) for id, cnt in doc)\n",
            "/usr/local/lib/python3.6/dist-packages/gensim/models/ldamodel.py:1077: DeprecationWarning: Calling np.sum(generator) is deprecated, and in the future will give a different result. Use np.sum(np.fromiter(generator)) or the python sum builtin instead.\n",
            "  score += np.sum(cnt * logsumexp(Elogthetad + Elogbeta[:, int(id)]) for id, cnt in doc)\n",
            "/usr/local/lib/python3.6/dist-packages/gensim/models/ldamodel.py:1077: DeprecationWarning: Calling np.sum(generator) is deprecated, and in the future will give a different result. Use np.sum(np.fromiter(generator)) or the python sum builtin instead.\n",
            "  score += np.sum(cnt * logsumexp(Elogthetad + Elogbeta[:, int(id)]) for id, cnt in doc)\n",
            "/usr/local/lib/python3.6/dist-packages/gensim/models/ldamodel.py:1077: DeprecationWarning: Calling np.sum(generator) is deprecated, and in the future will give a different result. Use np.sum(np.fromiter(generator)) or the python sum builtin instead.\n",
            "  score += np.sum(cnt * logsumexp(Elogthetad + Elogbeta[:, int(id)]) for id, cnt in doc)\n",
            "/usr/local/lib/python3.6/dist-packages/gensim/models/ldamodel.py:1077: DeprecationWarning: Calling np.sum(generator) is deprecated, and in the future will give a different result. Use np.sum(np.fromiter(generator)) or the python sum builtin instead.\n",
            "  score += np.sum(cnt * logsumexp(Elogthetad + Elogbeta[:, int(id)]) for id, cnt in doc)\n",
            "/usr/local/lib/python3.6/dist-packages/gensim/models/ldamodel.py:1077: DeprecationWarning: Calling np.sum(generator) is deprecated, and in the future will give a different result. Use np.sum(np.fromiter(generator)) or the python sum builtin instead.\n",
            "  score += np.sum(cnt * logsumexp(Elogthetad + Elogbeta[:, int(id)]) for id, cnt in doc)\n",
            "/usr/local/lib/python3.6/dist-packages/gensim/models/ldamodel.py:1077: DeprecationWarning: Calling np.sum(generator) is deprecated, and in the future will give a different result. Use np.sum(np.fromiter(generator)) or the python sum builtin instead.\n",
            "  score += np.sum(cnt * logsumexp(Elogthetad + Elogbeta[:, int(id)]) for id, cnt in doc)\n",
            "/usr/local/lib/python3.6/dist-packages/gensim/models/ldamodel.py:1077: DeprecationWarning: Calling np.sum(generator) is deprecated, and in the future will give a different result. Use np.sum(np.fromiter(generator)) or the python sum builtin instead.\n",
            "  score += np.sum(cnt * logsumexp(Elogthetad + Elogbeta[:, int(id)]) for id, cnt in doc)\n",
            "/usr/local/lib/python3.6/dist-packages/gensim/models/ldamodel.py:1077: DeprecationWarning: Calling np.sum(generator) is deprecated, and in the future will give a different result. Use np.sum(np.fromiter(generator)) or the python sum builtin instead.\n",
            "  score += np.sum(cnt * logsumexp(Elogthetad + Elogbeta[:, int(id)]) for id, cnt in doc)\n",
            "/usr/local/lib/python3.6/dist-packages/gensim/models/ldamodel.py:1077: DeprecationWarning: Calling np.sum(generator) is deprecated, and in the future will give a different result. Use np.sum(np.fromiter(generator)) or the python sum builtin instead.\n",
            "  score += np.sum(cnt * logsumexp(Elogthetad + Elogbeta[:, int(id)]) for id, cnt in doc)\n",
            "/usr/local/lib/python3.6/dist-packages/gensim/models/ldamodel.py:1077: DeprecationWarning: Calling np.sum(generator) is deprecated, and in the future will give a different result. Use np.sum(np.fromiter(generator)) or the python sum builtin instead.\n",
            "  score += np.sum(cnt * logsumexp(Elogthetad + Elogbeta[:, int(id)]) for id, cnt in doc)\n",
            "/usr/local/lib/python3.6/dist-packages/gensim/models/ldamodel.py:1077: DeprecationWarning: Calling np.sum(generator) is deprecated, and in the future will give a different result. Use np.sum(np.fromiter(generator)) or the python sum builtin instead.\n",
            "  score += np.sum(cnt * logsumexp(Elogthetad + Elogbeta[:, int(id)]) for id, cnt in doc)\n",
            "/usr/local/lib/python3.6/dist-packages/gensim/models/ldamodel.py:1077: DeprecationWarning: Calling np.sum(generator) is deprecated, and in the future will give a different result. Use np.sum(np.fromiter(generator)) or the python sum builtin instead.\n",
            "  score += np.sum(cnt * logsumexp(Elogthetad + Elogbeta[:, int(id)]) for id, cnt in doc)\n",
            "/usr/local/lib/python3.6/dist-packages/gensim/models/ldamodel.py:1077: DeprecationWarning: Calling np.sum(generator) is deprecated, and in the future will give a different result. Use np.sum(np.fromiter(generator)) or the python sum builtin instead.\n",
            "  score += np.sum(cnt * logsumexp(Elogthetad + Elogbeta[:, int(id)]) for id, cnt in doc)\n",
            "/usr/local/lib/python3.6/dist-packages/gensim/models/ldamodel.py:1077: DeprecationWarning: Calling np.sum(generator) is deprecated, and in the future will give a different result. Use np.sum(np.fromiter(generator)) or the python sum builtin instead.\n",
            "  score += np.sum(cnt * logsumexp(Elogthetad + Elogbeta[:, int(id)]) for id, cnt in doc)\n",
            "/usr/local/lib/python3.6/dist-packages/gensim/models/ldamodel.py:1077: DeprecationWarning: Calling np.sum(generator) is deprecated, and in the future will give a different result. Use np.sum(np.fromiter(generator)) or the python sum builtin instead.\n",
            "  score += np.sum(cnt * logsumexp(Elogthetad + Elogbeta[:, int(id)]) for id, cnt in doc)\n",
            "/usr/local/lib/python3.6/dist-packages/gensim/models/ldamodel.py:1077: DeprecationWarning: Calling np.sum(generator) is deprecated, and in the future will give a different result. Use np.sum(np.fromiter(generator)) or the python sum builtin instead.\n",
            "  score += np.sum(cnt * logsumexp(Elogthetad + Elogbeta[:, int(id)]) for id, cnt in doc)\n",
            "/usr/local/lib/python3.6/dist-packages/gensim/models/ldamodel.py:1077: DeprecationWarning: Calling np.sum(generator) is deprecated, and in the future will give a different result. Use np.sum(np.fromiter(generator)) or the python sum builtin instead.\n",
            "  score += np.sum(cnt * logsumexp(Elogthetad + Elogbeta[:, int(id)]) for id, cnt in doc)\n",
            "/usr/local/lib/python3.6/dist-packages/gensim/models/ldamodel.py:1077: DeprecationWarning: Calling np.sum(generator) is deprecated, and in the future will give a different result. Use np.sum(np.fromiter(generator)) or the python sum builtin instead.\n",
            "  score += np.sum(cnt * logsumexp(Elogthetad + Elogbeta[:, int(id)]) for id, cnt in doc)\n",
            "/usr/local/lib/python3.6/dist-packages/gensim/models/ldamodel.py:1077: DeprecationWarning: Calling np.sum(generator) is deprecated, and in the future will give a different result. Use np.sum(np.fromiter(generator)) or the python sum builtin instead.\n",
            "  score += np.sum(cnt * logsumexp(Elogthetad + Elogbeta[:, int(id)]) for id, cnt in doc)\n",
            "/usr/local/lib/python3.6/dist-packages/gensim/models/ldamodel.py:1077: DeprecationWarning: Calling np.sum(generator) is deprecated, and in the future will give a different result. Use np.sum(np.fromiter(generator)) or the python sum builtin instead.\n",
            "  score += np.sum(cnt * logsumexp(Elogthetad + Elogbeta[:, int(id)]) for id, cnt in doc)\n",
            "/usr/local/lib/python3.6/dist-packages/gensim/models/ldamodel.py:1077: DeprecationWarning: Calling np.sum(generator) is deprecated, and in the future will give a different result. Use np.sum(np.fromiter(generator)) or the python sum builtin instead.\n",
            "  score += np.sum(cnt * logsumexp(Elogthetad + Elogbeta[:, int(id)]) for id, cnt in doc)\n",
            "/usr/local/lib/python3.6/dist-packages/gensim/models/ldamodel.py:1077: DeprecationWarning: Calling np.sum(generator) is deprecated, and in the future will give a different result. Use np.sum(np.fromiter(generator)) or the python sum builtin instead.\n",
            "  score += np.sum(cnt * logsumexp(Elogthetad + Elogbeta[:, int(id)]) for id, cnt in doc)\n",
            "/usr/local/lib/python3.6/dist-packages/gensim/models/ldamodel.py:1077: DeprecationWarning: Calling np.sum(generator) is deprecated, and in the future will give a different result. Use np.sum(np.fromiter(generator)) or the python sum builtin instead.\n",
            "  score += np.sum(cnt * logsumexp(Elogthetad + Elogbeta[:, int(id)]) for id, cnt in doc)\n",
            "/usr/local/lib/python3.6/dist-packages/gensim/models/ldamodel.py:1077: DeprecationWarning: Calling np.sum(generator) is deprecated, and in the future will give a different result. Use np.sum(np.fromiter(generator)) or the python sum builtin instead.\n",
            "  score += np.sum(cnt * logsumexp(Elogthetad + Elogbeta[:, int(id)]) for id, cnt in doc)\n",
            "/usr/local/lib/python3.6/dist-packages/gensim/models/ldamodel.py:1077: DeprecationWarning: Calling np.sum(generator) is deprecated, and in the future will give a different result. Use np.sum(np.fromiter(generator)) or the python sum builtin instead.\n",
            "  score += np.sum(cnt * logsumexp(Elogthetad + Elogbeta[:, int(id)]) for id, cnt in doc)\n",
            "/usr/local/lib/python3.6/dist-packages/gensim/models/ldamodel.py:1077: DeprecationWarning: Calling np.sum(generator) is deprecated, and in the future will give a different result. Use np.sum(np.fromiter(generator)) or the python sum builtin instead.\n",
            "  score += np.sum(cnt * logsumexp(Elogthetad + Elogbeta[:, int(id)]) for id, cnt in doc)\n",
            "/usr/local/lib/python3.6/dist-packages/gensim/models/ldamodel.py:1077: DeprecationWarning: Calling np.sum(generator) is deprecated, and in the future will give a different result. Use np.sum(np.fromiter(generator)) or the python sum builtin instead.\n",
            "  score += np.sum(cnt * logsumexp(Elogthetad + Elogbeta[:, int(id)]) for id, cnt in doc)\n",
            "/usr/local/lib/python3.6/dist-packages/gensim/models/ldamodel.py:1077: DeprecationWarning: Calling np.sum(generator) is deprecated, and in the future will give a different result. Use np.sum(np.fromiter(generator)) or the python sum builtin instead.\n",
            "  score += np.sum(cnt * logsumexp(Elogthetad + Elogbeta[:, int(id)]) for id, cnt in doc)\n",
            "/usr/local/lib/python3.6/dist-packages/gensim/models/ldamodel.py:1077: DeprecationWarning: Calling np.sum(generator) is deprecated, and in the future will give a different result. Use np.sum(np.fromiter(generator)) or the python sum builtin instead.\n",
            "  score += np.sum(cnt * logsumexp(Elogthetad + Elogbeta[:, int(id)]) for id, cnt in doc)\n",
            "/usr/local/lib/python3.6/dist-packages/gensim/models/ldamodel.py:1077: DeprecationWarning: Calling np.sum(generator) is deprecated, and in the future will give a different result. Use np.sum(np.fromiter(generator)) or the python sum builtin instead.\n",
            "  score += np.sum(cnt * logsumexp(Elogthetad + Elogbeta[:, int(id)]) for id, cnt in doc)\n",
            "/usr/local/lib/python3.6/dist-packages/gensim/models/ldamodel.py:1077: DeprecationWarning: Calling np.sum(generator) is deprecated, and in the future will give a different result. Use np.sum(np.fromiter(generator)) or the python sum builtin instead.\n",
            "  score += np.sum(cnt * logsumexp(Elogthetad + Elogbeta[:, int(id)]) for id, cnt in doc)\n",
            "/usr/local/lib/python3.6/dist-packages/gensim/models/ldamodel.py:1077: DeprecationWarning: Calling np.sum(generator) is deprecated, and in the future will give a different result. Use np.sum(np.fromiter(generator)) or the python sum builtin instead.\n",
            "  score += np.sum(cnt * logsumexp(Elogthetad + Elogbeta[:, int(id)]) for id, cnt in doc)\n",
            "/usr/local/lib/python3.6/dist-packages/gensim/models/ldamodel.py:1077: DeprecationWarning: Calling np.sum(generator) is deprecated, and in the future will give a different result. Use np.sum(np.fromiter(generator)) or the python sum builtin instead.\n",
            "  score += np.sum(cnt * logsumexp(Elogthetad + Elogbeta[:, int(id)]) for id, cnt in doc)\n",
            "/usr/local/lib/python3.6/dist-packages/gensim/models/ldamodel.py:1077: DeprecationWarning: Calling np.sum(generator) is deprecated, and in the future will give a different result. Use np.sum(np.fromiter(generator)) or the python sum builtin instead.\n",
            "  score += np.sum(cnt * logsumexp(Elogthetad + Elogbeta[:, int(id)]) for id, cnt in doc)\n",
            "/usr/local/lib/python3.6/dist-packages/gensim/models/ldamodel.py:1077: DeprecationWarning: Calling np.sum(generator) is deprecated, and in the future will give a different result. Use np.sum(np.fromiter(generator)) or the python sum builtin instead.\n",
            "  score += np.sum(cnt * logsumexp(Elogthetad + Elogbeta[:, int(id)]) for id, cnt in doc)\n",
            "/usr/local/lib/python3.6/dist-packages/gensim/models/ldamodel.py:1077: DeprecationWarning: Calling np.sum(generator) is deprecated, and in the future will give a different result. Use np.sum(np.fromiter(generator)) or the python sum builtin instead.\n",
            "  score += np.sum(cnt * logsumexp(Elogthetad + Elogbeta[:, int(id)]) for id, cnt in doc)\n",
            "/usr/local/lib/python3.6/dist-packages/gensim/models/ldamodel.py:1077: DeprecationWarning: Calling np.sum(generator) is deprecated, and in the future will give a different result. Use np.sum(np.fromiter(generator)) or the python sum builtin instead.\n",
            "  score += np.sum(cnt * logsumexp(Elogthetad + Elogbeta[:, int(id)]) for id, cnt in doc)\n",
            "/usr/local/lib/python3.6/dist-packages/gensim/models/ldamodel.py:1077: DeprecationWarning: Calling np.sum(generator) is deprecated, and in the future will give a different result. Use np.sum(np.fromiter(generator)) or the python sum builtin instead.\n",
            "  score += np.sum(cnt * logsumexp(Elogthetad + Elogbeta[:, int(id)]) for id, cnt in doc)\n",
            "/usr/local/lib/python3.6/dist-packages/gensim/models/ldamodel.py:1077: DeprecationWarning: Calling np.sum(generator) is deprecated, and in the future will give a different result. Use np.sum(np.fromiter(generator)) or the python sum builtin instead.\n",
            "  score += np.sum(cnt * logsumexp(Elogthetad + Elogbeta[:, int(id)]) for id, cnt in doc)\n",
            "/usr/local/lib/python3.6/dist-packages/gensim/models/ldamodel.py:1077: DeprecationWarning: Calling np.sum(generator) is deprecated, and in the future will give a different result. Use np.sum(np.fromiter(generator)) or the python sum builtin instead.\n",
            "  score += np.sum(cnt * logsumexp(Elogthetad + Elogbeta[:, int(id)]) for id, cnt in doc)\n",
            "/usr/local/lib/python3.6/dist-packages/gensim/models/ldamodel.py:1077: DeprecationWarning: Calling np.sum(generator) is deprecated, and in the future will give a different result. Use np.sum(np.fromiter(generator)) or the python sum builtin instead.\n",
            "  score += np.sum(cnt * logsumexp(Elogthetad + Elogbeta[:, int(id)]) for id, cnt in doc)\n",
            "/usr/local/lib/python3.6/dist-packages/gensim/models/ldamodel.py:1077: DeprecationWarning: Calling np.sum(generator) is deprecated, and in the future will give a different result. Use np.sum(np.fromiter(generator)) or the python sum builtin instead.\n",
            "  score += np.sum(cnt * logsumexp(Elogthetad + Elogbeta[:, int(id)]) for id, cnt in doc)\n",
            "/usr/local/lib/python3.6/dist-packages/gensim/models/ldamodel.py:1077: DeprecationWarning: Calling np.sum(generator) is deprecated, and in the future will give a different result. Use np.sum(np.fromiter(generator)) or the python sum builtin instead.\n",
            "  score += np.sum(cnt * logsumexp(Elogthetad + Elogbeta[:, int(id)]) for id, cnt in doc)\n",
            "/usr/local/lib/python3.6/dist-packages/gensim/models/ldamodel.py:1077: DeprecationWarning: Calling np.sum(generator) is deprecated, and in the future will give a different result. Use np.sum(np.fromiter(generator)) or the python sum builtin instead.\n",
            "  score += np.sum(cnt * logsumexp(Elogthetad + Elogbeta[:, int(id)]) for id, cnt in doc)\n",
            "/usr/local/lib/python3.6/dist-packages/gensim/models/ldamodel.py:1077: DeprecationWarning: Calling np.sum(generator) is deprecated, and in the future will give a different result. Use np.sum(np.fromiter(generator)) or the python sum builtin instead.\n",
            "  score += np.sum(cnt * logsumexp(Elogthetad + Elogbeta[:, int(id)]) for id, cnt in doc)\n",
            "/usr/local/lib/python3.6/dist-packages/gensim/models/ldamodel.py:1077: DeprecationWarning: Calling np.sum(generator) is deprecated, and in the future will give a different result. Use np.sum(np.fromiter(generator)) or the python sum builtin instead.\n",
            "  score += np.sum(cnt * logsumexp(Elogthetad + Elogbeta[:, int(id)]) for id, cnt in doc)\n",
            "/usr/local/lib/python3.6/dist-packages/gensim/models/ldamodel.py:1077: DeprecationWarning: Calling np.sum(generator) is deprecated, and in the future will give a different result. Use np.sum(np.fromiter(generator)) or the python sum builtin instead.\n",
            "  score += np.sum(cnt * logsumexp(Elogthetad + Elogbeta[:, int(id)]) for id, cnt in doc)\n",
            "/usr/local/lib/python3.6/dist-packages/gensim/models/ldamodel.py:1077: DeprecationWarning: Calling np.sum(generator) is deprecated, and in the future will give a different result. Use np.sum(np.fromiter(generator)) or the python sum builtin instead.\n",
            "  score += np.sum(cnt * logsumexp(Elogthetad + Elogbeta[:, int(id)]) for id, cnt in doc)\n",
            "/usr/local/lib/python3.6/dist-packages/gensim/models/ldamodel.py:1077: DeprecationWarning: Calling np.sum(generator) is deprecated, and in the future will give a different result. Use np.sum(np.fromiter(generator)) or the python sum builtin instead.\n",
            "  score += np.sum(cnt * logsumexp(Elogthetad + Elogbeta[:, int(id)]) for id, cnt in doc)\n",
            "/usr/local/lib/python3.6/dist-packages/gensim/models/ldamodel.py:1077: DeprecationWarning: Calling np.sum(generator) is deprecated, and in the future will give a different result. Use np.sum(np.fromiter(generator)) or the python sum builtin instead.\n",
            "  score += np.sum(cnt * logsumexp(Elogthetad + Elogbeta[:, int(id)]) for id, cnt in doc)\n",
            "/usr/local/lib/python3.6/dist-packages/gensim/models/ldamodel.py:1077: DeprecationWarning: Calling np.sum(generator) is deprecated, and in the future will give a different result. Use np.sum(np.fromiter(generator)) or the python sum builtin instead.\n",
            "  score += np.sum(cnt * logsumexp(Elogthetad + Elogbeta[:, int(id)]) for id, cnt in doc)\n",
            "/usr/local/lib/python3.6/dist-packages/gensim/models/ldamodel.py:1077: DeprecationWarning: Calling np.sum(generator) is deprecated, and in the future will give a different result. Use np.sum(np.fromiter(generator)) or the python sum builtin instead.\n",
            "  score += np.sum(cnt * logsumexp(Elogthetad + Elogbeta[:, int(id)]) for id, cnt in doc)\n",
            "/usr/local/lib/python3.6/dist-packages/gensim/models/ldamodel.py:1077: DeprecationWarning: Calling np.sum(generator) is deprecated, and in the future will give a different result. Use np.sum(np.fromiter(generator)) or the python sum builtin instead.\n",
            "  score += np.sum(cnt * logsumexp(Elogthetad + Elogbeta[:, int(id)]) for id, cnt in doc)\n",
            "/usr/local/lib/python3.6/dist-packages/gensim/models/ldamodel.py:1077: DeprecationWarning: Calling np.sum(generator) is deprecated, and in the future will give a different result. Use np.sum(np.fromiter(generator)) or the python sum builtin instead.\n",
            "  score += np.sum(cnt * logsumexp(Elogthetad + Elogbeta[:, int(id)]) for id, cnt in doc)\n",
            "/usr/local/lib/python3.6/dist-packages/gensim/models/ldamodel.py:1077: DeprecationWarning: Calling np.sum(generator) is deprecated, and in the future will give a different result. Use np.sum(np.fromiter(generator)) or the python sum builtin instead.\n",
            "  score += np.sum(cnt * logsumexp(Elogthetad + Elogbeta[:, int(id)]) for id, cnt in doc)\n",
            "/usr/local/lib/python3.6/dist-packages/gensim/models/ldamodel.py:1077: DeprecationWarning: Calling np.sum(generator) is deprecated, and in the future will give a different result. Use np.sum(np.fromiter(generator)) or the python sum builtin instead.\n",
            "  score += np.sum(cnt * logsumexp(Elogthetad + Elogbeta[:, int(id)]) for id, cnt in doc)\n",
            "/usr/local/lib/python3.6/dist-packages/gensim/models/ldamodel.py:1077: DeprecationWarning: Calling np.sum(generator) is deprecated, and in the future will give a different result. Use np.sum(np.fromiter(generator)) or the python sum builtin instead.\n",
            "  score += np.sum(cnt * logsumexp(Elogthetad + Elogbeta[:, int(id)]) for id, cnt in doc)\n",
            "/usr/local/lib/python3.6/dist-packages/gensim/models/ldamodel.py:1077: DeprecationWarning: Calling np.sum(generator) is deprecated, and in the future will give a different result. Use np.sum(np.fromiter(generator)) or the python sum builtin instead.\n",
            "  score += np.sum(cnt * logsumexp(Elogthetad + Elogbeta[:, int(id)]) for id, cnt in doc)\n",
            "/usr/local/lib/python3.6/dist-packages/gensim/models/ldamodel.py:1077: DeprecationWarning: Calling np.sum(generator) is deprecated, and in the future will give a different result. Use np.sum(np.fromiter(generator)) or the python sum builtin instead.\n",
            "  score += np.sum(cnt * logsumexp(Elogthetad + Elogbeta[:, int(id)]) for id, cnt in doc)\n",
            "/usr/local/lib/python3.6/dist-packages/gensim/models/ldamodel.py:1077: DeprecationWarning: Calling np.sum(generator) is deprecated, and in the future will give a different result. Use np.sum(np.fromiter(generator)) or the python sum builtin instead.\n",
            "  score += np.sum(cnt * logsumexp(Elogthetad + Elogbeta[:, int(id)]) for id, cnt in doc)\n",
            "/usr/local/lib/python3.6/dist-packages/gensim/models/ldamodel.py:1077: DeprecationWarning: Calling np.sum(generator) is deprecated, and in the future will give a different result. Use np.sum(np.fromiter(generator)) or the python sum builtin instead.\n",
            "  score += np.sum(cnt * logsumexp(Elogthetad + Elogbeta[:, int(id)]) for id, cnt in doc)\n",
            "/usr/local/lib/python3.6/dist-packages/gensim/models/ldamodel.py:1077: DeprecationWarning: Calling np.sum(generator) is deprecated, and in the future will give a different result. Use np.sum(np.fromiter(generator)) or the python sum builtin instead.\n",
            "  score += np.sum(cnt * logsumexp(Elogthetad + Elogbeta[:, int(id)]) for id, cnt in doc)\n",
            "/usr/local/lib/python3.6/dist-packages/gensim/models/ldamodel.py:1077: DeprecationWarning: Calling np.sum(generator) is deprecated, and in the future will give a different result. Use np.sum(np.fromiter(generator)) or the python sum builtin instead.\n",
            "  score += np.sum(cnt * logsumexp(Elogthetad + Elogbeta[:, int(id)]) for id, cnt in doc)\n",
            "/usr/local/lib/python3.6/dist-packages/gensim/models/ldamodel.py:1077: DeprecationWarning: Calling np.sum(generator) is deprecated, and in the future will give a different result. Use np.sum(np.fromiter(generator)) or the python sum builtin instead.\n",
            "  score += np.sum(cnt * logsumexp(Elogthetad + Elogbeta[:, int(id)]) for id, cnt in doc)\n",
            "/usr/local/lib/python3.6/dist-packages/gensim/models/ldamodel.py:1077: DeprecationWarning: Calling np.sum(generator) is deprecated, and in the future will give a different result. Use np.sum(np.fromiter(generator)) or the python sum builtin instead.\n",
            "  score += np.sum(cnt * logsumexp(Elogthetad + Elogbeta[:, int(id)]) for id, cnt in doc)\n",
            "/usr/local/lib/python3.6/dist-packages/gensim/models/ldamodel.py:1077: DeprecationWarning: Calling np.sum(generator) is deprecated, and in the future will give a different result. Use np.sum(np.fromiter(generator)) or the python sum builtin instead.\n",
            "  score += np.sum(cnt * logsumexp(Elogthetad + Elogbeta[:, int(id)]) for id, cnt in doc)\n",
            "/usr/local/lib/python3.6/dist-packages/gensim/models/ldamodel.py:1077: DeprecationWarning: Calling np.sum(generator) is deprecated, and in the future will give a different result. Use np.sum(np.fromiter(generator)) or the python sum builtin instead.\n",
            "  score += np.sum(cnt * logsumexp(Elogthetad + Elogbeta[:, int(id)]) for id, cnt in doc)\n",
            "/usr/local/lib/python3.6/dist-packages/gensim/models/ldamodel.py:1077: DeprecationWarning: Calling np.sum(generator) is deprecated, and in the future will give a different result. Use np.sum(np.fromiter(generator)) or the python sum builtin instead.\n",
            "  score += np.sum(cnt * logsumexp(Elogthetad + Elogbeta[:, int(id)]) for id, cnt in doc)\n",
            "/usr/local/lib/python3.6/dist-packages/gensim/models/ldamodel.py:1077: DeprecationWarning: Calling np.sum(generator) is deprecated, and in the future will give a different result. Use np.sum(np.fromiter(generator)) or the python sum builtin instead.\n",
            "  score += np.sum(cnt * logsumexp(Elogthetad + Elogbeta[:, int(id)]) for id, cnt in doc)\n",
            "/usr/local/lib/python3.6/dist-packages/gensim/models/ldamodel.py:1077: DeprecationWarning: Calling np.sum(generator) is deprecated, and in the future will give a different result. Use np.sum(np.fromiter(generator)) or the python sum builtin instead.\n",
            "  score += np.sum(cnt * logsumexp(Elogthetad + Elogbeta[:, int(id)]) for id, cnt in doc)\n",
            "/usr/local/lib/python3.6/dist-packages/gensim/models/ldamodel.py:1077: DeprecationWarning: Calling np.sum(generator) is deprecated, and in the future will give a different result. Use np.sum(np.fromiter(generator)) or the python sum builtin instead.\n",
            "  score += np.sum(cnt * logsumexp(Elogthetad + Elogbeta[:, int(id)]) for id, cnt in doc)\n",
            "/usr/local/lib/python3.6/dist-packages/gensim/models/ldamodel.py:1077: DeprecationWarning: Calling np.sum(generator) is deprecated, and in the future will give a different result. Use np.sum(np.fromiter(generator)) or the python sum builtin instead.\n",
            "  score += np.sum(cnt * logsumexp(Elogthetad + Elogbeta[:, int(id)]) for id, cnt in doc)\n",
            "/usr/local/lib/python3.6/dist-packages/gensim/models/ldamodel.py:1077: DeprecationWarning: Calling np.sum(generator) is deprecated, and in the future will give a different result. Use np.sum(np.fromiter(generator)) or the python sum builtin instead.\n",
            "  score += np.sum(cnt * logsumexp(Elogthetad + Elogbeta[:, int(id)]) for id, cnt in doc)\n",
            "/usr/local/lib/python3.6/dist-packages/gensim/models/ldamodel.py:1077: DeprecationWarning: Calling np.sum(generator) is deprecated, and in the future will give a different result. Use np.sum(np.fromiter(generator)) or the python sum builtin instead.\n",
            "  score += np.sum(cnt * logsumexp(Elogthetad + Elogbeta[:, int(id)]) for id, cnt in doc)\n",
            "/usr/local/lib/python3.6/dist-packages/gensim/models/ldamodel.py:1077: DeprecationWarning: Calling np.sum(generator) is deprecated, and in the future will give a different result. Use np.sum(np.fromiter(generator)) or the python sum builtin instead.\n",
            "  score += np.sum(cnt * logsumexp(Elogthetad + Elogbeta[:, int(id)]) for id, cnt in doc)\n",
            "/usr/local/lib/python3.6/dist-packages/gensim/models/ldamodel.py:1077: DeprecationWarning: Calling np.sum(generator) is deprecated, and in the future will give a different result. Use np.sum(np.fromiter(generator)) or the python sum builtin instead.\n",
            "  score += np.sum(cnt * logsumexp(Elogthetad + Elogbeta[:, int(id)]) for id, cnt in doc)\n",
            "/usr/local/lib/python3.6/dist-packages/gensim/models/ldamodel.py:1077: DeprecationWarning: Calling np.sum(generator) is deprecated, and in the future will give a different result. Use np.sum(np.fromiter(generator)) or the python sum builtin instead.\n",
            "  score += np.sum(cnt * logsumexp(Elogthetad + Elogbeta[:, int(id)]) for id, cnt in doc)\n",
            "/usr/local/lib/python3.6/dist-packages/gensim/models/ldamodel.py:1077: DeprecationWarning: Calling np.sum(generator) is deprecated, and in the future will give a different result. Use np.sum(np.fromiter(generator)) or the python sum builtin instead.\n",
            "  score += np.sum(cnt * logsumexp(Elogthetad + Elogbeta[:, int(id)]) for id, cnt in doc)\n",
            "/usr/local/lib/python3.6/dist-packages/gensim/models/ldamodel.py:1077: DeprecationWarning: Calling np.sum(generator) is deprecated, and in the future will give a different result. Use np.sum(np.fromiter(generator)) or the python sum builtin instead.\n",
            "  score += np.sum(cnt * logsumexp(Elogthetad + Elogbeta[:, int(id)]) for id, cnt in doc)\n",
            "/usr/local/lib/python3.6/dist-packages/gensim/models/ldamodel.py:1077: DeprecationWarning: Calling np.sum(generator) is deprecated, and in the future will give a different result. Use np.sum(np.fromiter(generator)) or the python sum builtin instead.\n",
            "  score += np.sum(cnt * logsumexp(Elogthetad + Elogbeta[:, int(id)]) for id, cnt in doc)\n",
            "/usr/local/lib/python3.6/dist-packages/gensim/models/ldamodel.py:1077: DeprecationWarning: Calling np.sum(generator) is deprecated, and in the future will give a different result. Use np.sum(np.fromiter(generator)) or the python sum builtin instead.\n",
            "  score += np.sum(cnt * logsumexp(Elogthetad + Elogbeta[:, int(id)]) for id, cnt in doc)\n",
            "/usr/local/lib/python3.6/dist-packages/gensim/models/ldamodel.py:1077: DeprecationWarning: Calling np.sum(generator) is deprecated, and in the future will give a different result. Use np.sum(np.fromiter(generator)) or the python sum builtin instead.\n",
            "  score += np.sum(cnt * logsumexp(Elogthetad + Elogbeta[:, int(id)]) for id, cnt in doc)\n",
            "/usr/local/lib/python3.6/dist-packages/gensim/models/ldamodel.py:1077: DeprecationWarning: Calling np.sum(generator) is deprecated, and in the future will give a different result. Use np.sum(np.fromiter(generator)) or the python sum builtin instead.\n",
            "  score += np.sum(cnt * logsumexp(Elogthetad + Elogbeta[:, int(id)]) for id, cnt in doc)\n",
            "/usr/local/lib/python3.6/dist-packages/gensim/models/ldamodel.py:1077: DeprecationWarning: Calling np.sum(generator) is deprecated, and in the future will give a different result. Use np.sum(np.fromiter(generator)) or the python sum builtin instead.\n",
            "  score += np.sum(cnt * logsumexp(Elogthetad + Elogbeta[:, int(id)]) for id, cnt in doc)\n",
            "/usr/local/lib/python3.6/dist-packages/gensim/models/ldamodel.py:1077: DeprecationWarning: Calling np.sum(generator) is deprecated, and in the future will give a different result. Use np.sum(np.fromiter(generator)) or the python sum builtin instead.\n",
            "  score += np.sum(cnt * logsumexp(Elogthetad + Elogbeta[:, int(id)]) for id, cnt in doc)\n",
            "/usr/local/lib/python3.6/dist-packages/gensim/models/ldamodel.py:1077: DeprecationWarning: Calling np.sum(generator) is deprecated, and in the future will give a different result. Use np.sum(np.fromiter(generator)) or the python sum builtin instead.\n",
            "  score += np.sum(cnt * logsumexp(Elogthetad + Elogbeta[:, int(id)]) for id, cnt in doc)\n",
            "/usr/local/lib/python3.6/dist-packages/gensim/models/ldamodel.py:1077: DeprecationWarning: Calling np.sum(generator) is deprecated, and in the future will give a different result. Use np.sum(np.fromiter(generator)) or the python sum builtin instead.\n",
            "  score += np.sum(cnt * logsumexp(Elogthetad + Elogbeta[:, int(id)]) for id, cnt in doc)\n",
            "/usr/local/lib/python3.6/dist-packages/gensim/models/ldamodel.py:1077: DeprecationWarning: Calling np.sum(generator) is deprecated, and in the future will give a different result. Use np.sum(np.fromiter(generator)) or the python sum builtin instead.\n",
            "  score += np.sum(cnt * logsumexp(Elogthetad + Elogbeta[:, int(id)]) for id, cnt in doc)\n",
            "/usr/local/lib/python3.6/dist-packages/gensim/models/ldamodel.py:1077: DeprecationWarning: Calling np.sum(generator) is deprecated, and in the future will give a different result. Use np.sum(np.fromiter(generator)) or the python sum builtin instead.\n",
            "  score += np.sum(cnt * logsumexp(Elogthetad + Elogbeta[:, int(id)]) for id, cnt in doc)\n",
            "/usr/local/lib/python3.6/dist-packages/gensim/models/ldamodel.py:1077: DeprecationWarning: Calling np.sum(generator) is deprecated, and in the future will give a different result. Use np.sum(np.fromiter(generator)) or the python sum builtin instead.\n",
            "  score += np.sum(cnt * logsumexp(Elogthetad + Elogbeta[:, int(id)]) for id, cnt in doc)\n",
            "/usr/local/lib/python3.6/dist-packages/gensim/models/ldamodel.py:1077: DeprecationWarning: Calling np.sum(generator) is deprecated, and in the future will give a different result. Use np.sum(np.fromiter(generator)) or the python sum builtin instead.\n",
            "  score += np.sum(cnt * logsumexp(Elogthetad + Elogbeta[:, int(id)]) for id, cnt in doc)\n",
            "/usr/local/lib/python3.6/dist-packages/gensim/models/ldamodel.py:1077: DeprecationWarning: Calling np.sum(generator) is deprecated, and in the future will give a different result. Use np.sum(np.fromiter(generator)) or the python sum builtin instead.\n",
            "  score += np.sum(cnt * logsumexp(Elogthetad + Elogbeta[:, int(id)]) for id, cnt in doc)\n",
            "/usr/local/lib/python3.6/dist-packages/gensim/models/ldamodel.py:1077: DeprecationWarning: Calling np.sum(generator) is deprecated, and in the future will give a different result. Use np.sum(np.fromiter(generator)) or the python sum builtin instead.\n",
            "  score += np.sum(cnt * logsumexp(Elogthetad + Elogbeta[:, int(id)]) for id, cnt in doc)\n",
            "/usr/local/lib/python3.6/dist-packages/gensim/models/ldamodel.py:1077: DeprecationWarning: Calling np.sum(generator) is deprecated, and in the future will give a different result. Use np.sum(np.fromiter(generator)) or the python sum builtin instead.\n",
            "  score += np.sum(cnt * logsumexp(Elogthetad + Elogbeta[:, int(id)]) for id, cnt in doc)\n",
            "/usr/local/lib/python3.6/dist-packages/gensim/models/ldamodel.py:1077: DeprecationWarning: Calling np.sum(generator) is deprecated, and in the future will give a different result. Use np.sum(np.fromiter(generator)) or the python sum builtin instead.\n",
            "  score += np.sum(cnt * logsumexp(Elogthetad + Elogbeta[:, int(id)]) for id, cnt in doc)\n",
            "/usr/local/lib/python3.6/dist-packages/gensim/models/ldamodel.py:1077: DeprecationWarning: Calling np.sum(generator) is deprecated, and in the future will give a different result. Use np.sum(np.fromiter(generator)) or the python sum builtin instead.\n",
            "  score += np.sum(cnt * logsumexp(Elogthetad + Elogbeta[:, int(id)]) for id, cnt in doc)\n",
            "/usr/local/lib/python3.6/dist-packages/gensim/models/ldamodel.py:1077: DeprecationWarning: Calling np.sum(generator) is deprecated, and in the future will give a different result. Use np.sum(np.fromiter(generator)) or the python sum builtin instead.\n",
            "  score += np.sum(cnt * logsumexp(Elogthetad + Elogbeta[:, int(id)]) for id, cnt in doc)\n",
            "/usr/local/lib/python3.6/dist-packages/gensim/models/ldamodel.py:1077: DeprecationWarning: Calling np.sum(generator) is deprecated, and in the future will give a different result. Use np.sum(np.fromiter(generator)) or the python sum builtin instead.\n",
            "  score += np.sum(cnt * logsumexp(Elogthetad + Elogbeta[:, int(id)]) for id, cnt in doc)\n",
            "/usr/local/lib/python3.6/dist-packages/gensim/models/ldamodel.py:1077: DeprecationWarning: Calling np.sum(generator) is deprecated, and in the future will give a different result. Use np.sum(np.fromiter(generator)) or the python sum builtin instead.\n",
            "  score += np.sum(cnt * logsumexp(Elogthetad + Elogbeta[:, int(id)]) for id, cnt in doc)\n",
            "/usr/local/lib/python3.6/dist-packages/gensim/models/ldamodel.py:1077: DeprecationWarning: Calling np.sum(generator) is deprecated, and in the future will give a different result. Use np.sum(np.fromiter(generator)) or the python sum builtin instead.\n",
            "  score += np.sum(cnt * logsumexp(Elogthetad + Elogbeta[:, int(id)]) for id, cnt in doc)\n",
            "/usr/local/lib/python3.6/dist-packages/gensim/models/ldamodel.py:1077: DeprecationWarning: Calling np.sum(generator) is deprecated, and in the future will give a different result. Use np.sum(np.fromiter(generator)) or the python sum builtin instead.\n",
            "  score += np.sum(cnt * logsumexp(Elogthetad + Elogbeta[:, int(id)]) for id, cnt in doc)\n",
            "/usr/local/lib/python3.6/dist-packages/gensim/models/ldamodel.py:1077: DeprecationWarning: Calling np.sum(generator) is deprecated, and in the future will give a different result. Use np.sum(np.fromiter(generator)) or the python sum builtin instead.\n",
            "  score += np.sum(cnt * logsumexp(Elogthetad + Elogbeta[:, int(id)]) for id, cnt in doc)\n",
            "/usr/local/lib/python3.6/dist-packages/gensim/models/ldamodel.py:1077: DeprecationWarning: Calling np.sum(generator) is deprecated, and in the future will give a different result. Use np.sum(np.fromiter(generator)) or the python sum builtin instead.\n",
            "  score += np.sum(cnt * logsumexp(Elogthetad + Elogbeta[:, int(id)]) for id, cnt in doc)\n",
            "/usr/local/lib/python3.6/dist-packages/gensim/models/ldamodel.py:1077: DeprecationWarning: Calling np.sum(generator) is deprecated, and in the future will give a different result. Use np.sum(np.fromiter(generator)) or the python sum builtin instead.\n",
            "  score += np.sum(cnt * logsumexp(Elogthetad + Elogbeta[:, int(id)]) for id, cnt in doc)\n",
            "/usr/local/lib/python3.6/dist-packages/gensim/models/ldamodel.py:1077: DeprecationWarning: Calling np.sum(generator) is deprecated, and in the future will give a different result. Use np.sum(np.fromiter(generator)) or the python sum builtin instead.\n",
            "  score += np.sum(cnt * logsumexp(Elogthetad + Elogbeta[:, int(id)]) for id, cnt in doc)\n",
            "/usr/local/lib/python3.6/dist-packages/gensim/models/ldamodel.py:1077: DeprecationWarning: Calling np.sum(generator) is deprecated, and in the future will give a different result. Use np.sum(np.fromiter(generator)) or the python sum builtin instead.\n",
            "  score += np.sum(cnt * logsumexp(Elogthetad + Elogbeta[:, int(id)]) for id, cnt in doc)\n",
            "/usr/local/lib/python3.6/dist-packages/gensim/models/ldamodel.py:1077: DeprecationWarning: Calling np.sum(generator) is deprecated, and in the future will give a different result. Use np.sum(np.fromiter(generator)) or the python sum builtin instead.\n",
            "  score += np.sum(cnt * logsumexp(Elogthetad + Elogbeta[:, int(id)]) for id, cnt in doc)\n",
            "/usr/local/lib/python3.6/dist-packages/gensim/models/ldamodel.py:1077: DeprecationWarning: Calling np.sum(generator) is deprecated, and in the future will give a different result. Use np.sum(np.fromiter(generator)) or the python sum builtin instead.\n",
            "  score += np.sum(cnt * logsumexp(Elogthetad + Elogbeta[:, int(id)]) for id, cnt in doc)\n",
            "/usr/local/lib/python3.6/dist-packages/gensim/models/ldamodel.py:1077: DeprecationWarning: Calling np.sum(generator) is deprecated, and in the future will give a different result. Use np.sum(np.fromiter(generator)) or the python sum builtin instead.\n",
            "  score += np.sum(cnt * logsumexp(Elogthetad + Elogbeta[:, int(id)]) for id, cnt in doc)\n",
            "/usr/local/lib/python3.6/dist-packages/gensim/models/ldamodel.py:1077: DeprecationWarning: Calling np.sum(generator) is deprecated, and in the future will give a different result. Use np.sum(np.fromiter(generator)) or the python sum builtin instead.\n",
            "  score += np.sum(cnt * logsumexp(Elogthetad + Elogbeta[:, int(id)]) for id, cnt in doc)\n",
            "/usr/local/lib/python3.6/dist-packages/gensim/models/ldamodel.py:1077: DeprecationWarning: Calling np.sum(generator) is deprecated, and in the future will give a different result. Use np.sum(np.fromiter(generator)) or the python sum builtin instead.\n",
            "  score += np.sum(cnt * logsumexp(Elogthetad + Elogbeta[:, int(id)]) for id, cnt in doc)\n",
            "/usr/local/lib/python3.6/dist-packages/gensim/models/ldamodel.py:1077: DeprecationWarning: Calling np.sum(generator) is deprecated, and in the future will give a different result. Use np.sum(np.fromiter(generator)) or the python sum builtin instead.\n",
            "  score += np.sum(cnt * logsumexp(Elogthetad + Elogbeta[:, int(id)]) for id, cnt in doc)\n",
            "/usr/local/lib/python3.6/dist-packages/gensim/models/ldamodel.py:1077: DeprecationWarning: Calling np.sum(generator) is deprecated, and in the future will give a different result. Use np.sum(np.fromiter(generator)) or the python sum builtin instead.\n",
            "  score += np.sum(cnt * logsumexp(Elogthetad + Elogbeta[:, int(id)]) for id, cnt in doc)\n",
            "/usr/local/lib/python3.6/dist-packages/gensim/models/ldamodel.py:1077: DeprecationWarning: Calling np.sum(generator) is deprecated, and in the future will give a different result. Use np.sum(np.fromiter(generator)) or the python sum builtin instead.\n",
            "  score += np.sum(cnt * logsumexp(Elogthetad + Elogbeta[:, int(id)]) for id, cnt in doc)\n",
            "/usr/local/lib/python3.6/dist-packages/gensim/models/ldamodel.py:1077: DeprecationWarning: Calling np.sum(generator) is deprecated, and in the future will give a different result. Use np.sum(np.fromiter(generator)) or the python sum builtin instead.\n",
            "  score += np.sum(cnt * logsumexp(Elogthetad + Elogbeta[:, int(id)]) for id, cnt in doc)\n",
            "/usr/local/lib/python3.6/dist-packages/gensim/models/ldamodel.py:1077: DeprecationWarning: Calling np.sum(generator) is deprecated, and in the future will give a different result. Use np.sum(np.fromiter(generator)) or the python sum builtin instead.\n",
            "  score += np.sum(cnt * logsumexp(Elogthetad + Elogbeta[:, int(id)]) for id, cnt in doc)\n",
            "/usr/local/lib/python3.6/dist-packages/gensim/models/ldamodel.py:1077: DeprecationWarning: Calling np.sum(generator) is deprecated, and in the future will give a different result. Use np.sum(np.fromiter(generator)) or the python sum builtin instead.\n",
            "  score += np.sum(cnt * logsumexp(Elogthetad + Elogbeta[:, int(id)]) for id, cnt in doc)\n",
            "/usr/local/lib/python3.6/dist-packages/gensim/models/ldamodel.py:1077: DeprecationWarning: Calling np.sum(generator) is deprecated, and in the future will give a different result. Use np.sum(np.fromiter(generator)) or the python sum builtin instead.\n",
            "  score += np.sum(cnt * logsumexp(Elogthetad + Elogbeta[:, int(id)]) for id, cnt in doc)\n",
            "/usr/local/lib/python3.6/dist-packages/gensim/models/ldamodel.py:1077: DeprecationWarning: Calling np.sum(generator) is deprecated, and in the future will give a different result. Use np.sum(np.fromiter(generator)) or the python sum builtin instead.\n",
            "  score += np.sum(cnt * logsumexp(Elogthetad + Elogbeta[:, int(id)]) for id, cnt in doc)\n",
            "/usr/local/lib/python3.6/dist-packages/gensim/models/ldamodel.py:1077: DeprecationWarning: Calling np.sum(generator) is deprecated, and in the future will give a different result. Use np.sum(np.fromiter(generator)) or the python sum builtin instead.\n",
            "  score += np.sum(cnt * logsumexp(Elogthetad + Elogbeta[:, int(id)]) for id, cnt in doc)\n",
            "/usr/local/lib/python3.6/dist-packages/gensim/models/ldamodel.py:1077: DeprecationWarning: Calling np.sum(generator) is deprecated, and in the future will give a different result. Use np.sum(np.fromiter(generator)) or the python sum builtin instead.\n",
            "  score += np.sum(cnt * logsumexp(Elogthetad + Elogbeta[:, int(id)]) for id, cnt in doc)\n",
            "/usr/local/lib/python3.6/dist-packages/gensim/models/ldamodel.py:1077: DeprecationWarning: Calling np.sum(generator) is deprecated, and in the future will give a different result. Use np.sum(np.fromiter(generator)) or the python sum builtin instead.\n",
            "  score += np.sum(cnt * logsumexp(Elogthetad + Elogbeta[:, int(id)]) for id, cnt in doc)\n",
            "/usr/local/lib/python3.6/dist-packages/gensim/models/ldamodel.py:1077: DeprecationWarning: Calling np.sum(generator) is deprecated, and in the future will give a different result. Use np.sum(np.fromiter(generator)) or the python sum builtin instead.\n",
            "  score += np.sum(cnt * logsumexp(Elogthetad + Elogbeta[:, int(id)]) for id, cnt in doc)\n",
            "/usr/local/lib/python3.6/dist-packages/gensim/models/ldamodel.py:1077: DeprecationWarning: Calling np.sum(generator) is deprecated, and in the future will give a different result. Use np.sum(np.fromiter(generator)) or the python sum builtin instead.\n",
            "  score += np.sum(cnt * logsumexp(Elogthetad + Elogbeta[:, int(id)]) for id, cnt in doc)\n",
            "/usr/local/lib/python3.6/dist-packages/gensim/models/ldamodel.py:1077: DeprecationWarning: Calling np.sum(generator) is deprecated, and in the future will give a different result. Use np.sum(np.fromiter(generator)) or the python sum builtin instead.\n",
            "  score += np.sum(cnt * logsumexp(Elogthetad + Elogbeta[:, int(id)]) for id, cnt in doc)\n",
            "/usr/local/lib/python3.6/dist-packages/gensim/models/ldamodel.py:1077: DeprecationWarning: Calling np.sum(generator) is deprecated, and in the future will give a different result. Use np.sum(np.fromiter(generator)) or the python sum builtin instead.\n",
            "  score += np.sum(cnt * logsumexp(Elogthetad + Elogbeta[:, int(id)]) for id, cnt in doc)\n",
            "/usr/local/lib/python3.6/dist-packages/gensim/models/ldamodel.py:1077: DeprecationWarning: Calling np.sum(generator) is deprecated, and in the future will give a different result. Use np.sum(np.fromiter(generator)) or the python sum builtin instead.\n",
            "  score += np.sum(cnt * logsumexp(Elogthetad + Elogbeta[:, int(id)]) for id, cnt in doc)\n",
            "/usr/local/lib/python3.6/dist-packages/gensim/models/ldamodel.py:1077: DeprecationWarning: Calling np.sum(generator) is deprecated, and in the future will give a different result. Use np.sum(np.fromiter(generator)) or the python sum builtin instead.\n",
            "  score += np.sum(cnt * logsumexp(Elogthetad + Elogbeta[:, int(id)]) for id, cnt in doc)\n",
            "/usr/local/lib/python3.6/dist-packages/gensim/models/ldamodel.py:1077: DeprecationWarning: Calling np.sum(generator) is deprecated, and in the future will give a different result. Use np.sum(np.fromiter(generator)) or the python sum builtin instead.\n",
            "  score += np.sum(cnt * logsumexp(Elogthetad + Elogbeta[:, int(id)]) for id, cnt in doc)\n",
            "/usr/local/lib/python3.6/dist-packages/gensim/models/ldamodel.py:1077: DeprecationWarning: Calling np.sum(generator) is deprecated, and in the future will give a different result. Use np.sum(np.fromiter(generator)) or the python sum builtin instead.\n",
            "  score += np.sum(cnt * logsumexp(Elogthetad + Elogbeta[:, int(id)]) for id, cnt in doc)\n",
            "/usr/local/lib/python3.6/dist-packages/gensim/models/ldamodel.py:1077: DeprecationWarning: Calling np.sum(generator) is deprecated, and in the future will give a different result. Use np.sum(np.fromiter(generator)) or the python sum builtin instead.\n",
            "  score += np.sum(cnt * logsumexp(Elogthetad + Elogbeta[:, int(id)]) for id, cnt in doc)\n",
            "/usr/local/lib/python3.6/dist-packages/gensim/models/ldamodel.py:1077: DeprecationWarning: Calling np.sum(generator) is deprecated, and in the future will give a different result. Use np.sum(np.fromiter(generator)) or the python sum builtin instead.\n",
            "  score += np.sum(cnt * logsumexp(Elogthetad + Elogbeta[:, int(id)]) for id, cnt in doc)\n",
            "/usr/local/lib/python3.6/dist-packages/gensim/models/ldamodel.py:1077: DeprecationWarning: Calling np.sum(generator) is deprecated, and in the future will give a different result. Use np.sum(np.fromiter(generator)) or the python sum builtin instead.\n",
            "  score += np.sum(cnt * logsumexp(Elogthetad + Elogbeta[:, int(id)]) for id, cnt in doc)\n",
            "/usr/local/lib/python3.6/dist-packages/gensim/models/ldamodel.py:1077: DeprecationWarning: Calling np.sum(generator) is deprecated, and in the future will give a different result. Use np.sum(np.fromiter(generator)) or the python sum builtin instead.\n",
            "  score += np.sum(cnt * logsumexp(Elogthetad + Elogbeta[:, int(id)]) for id, cnt in doc)\n",
            "100%|██████████| 18/18 [00:34<00:00,  1.91s/it]\n"
          ],
          "name": "stderr"
        }
      ]
    },
    {
      "cell_type": "code",
      "metadata": {
        "id": "V8HpKQDKK_s2",
        "colab_type": "code",
        "outputId": "4d45ca20-945d-4401-e72e-f5faf43377e8",
        "colab": {
          "base_uri": "https://localhost:8080/",
          "height": 295
        }
      },
      "source": [
        "import matplotlib.pyplot as plt \n",
        "\n",
        "x = model_results['Topics']\n",
        "y = model_results['Coherence']\n",
        "\n",
        "plt.plot(x, y) \n",
        "  \n",
        "# naming the x axis \n",
        "plt.xlabel('x - Topics') \n",
        "# naming the y axis \n",
        "plt.ylabel('y - Coherence') \n",
        "  \n",
        "# giving a title to my graph \n",
        "plt.title('Topics x Coherence') \n",
        "  \n",
        "# function to show the plot \n",
        "plt.show() "
      ],
      "execution_count": 30,
      "outputs": [
        {
          "output_type": "display_data",
          "data": {
            "image/png": "[encoded data removed]",
            "text/plain": [
              "<Figure size 432x288 with 1 Axes>"
            ]
          },
          "metadata": {
            "tags": [],
            "needs_background": "light"
          }
        }
      ]
    },
    {
      "cell_type": "markdown",
      "metadata": {
        "id": "6ZKsQelCLUhk",
        "colab_type": "text"
      },
      "source": [
        "## Segundo Modelo  com 7 topicos"
      ]
    },
    {
      "cell_type": "code",
      "metadata": {
        "id": "0Q6xfUdzKrgr",
        "colab_type": "code",
        "colab": {}
      },
      "source": [
        "warnings.simplefilter('ignore')\n",
        "\n",
        "np.random.seed(2018)\n",
        "lda_model = gensim.models.LdaMulticore(corpus, num_topics=6, id2word=dictionary)"
      ],
      "execution_count": 0,
      "outputs": []
    },
    {
      "cell_type": "code",
      "metadata": {
        "id": "ADrOhTVfJc1j",
        "colab_type": "code",
        "outputId": "98696a58-797a-4e78-f4bc-b90ee8c7e443",
        "colab": {
          "base_uri": "https://localhost:8080/",
          "height": 250
        }
      },
      "source": [
        "for idx, topic in lda_model.print_topics(-1):\n",
        "    print('Topic: {} \\nWords: {}'.format(idx, topic))"
      ],
      "execution_count": 32,
      "outputs": [
        {
          "output_type": "stream",
          "text": [
            "Topic: 0 \n",
            "Words: 0.010*\"covid\" + 0.007*\"bolsonaro\" + 0.006*\"pandemia\" + 0.005*\"apos\" + 0.005*\"isolamento\" + 0.005*\"oassunto\" + 0.004*\"sobre\" + 0.004*\"veja\" + 0.004*\"video\" + 0.004*\"coronavirus\"\n",
            "Topic: 1 \n",
            "Words: 0.017*\"coronavirus\" + 0.008*\"covid\" + 0.007*\"bolsonaro\" + 0.006*\"mortes\" + 0.006*\"pandemia\" + 0.006*\"sobre\" + 0.006*\"saude\" + 0.005*\"apos\" + 0.005*\"presidente\" + 0.005*\"lockdown\"\n",
            "Topic: 2 \n",
            "Words: 0.011*\"bolsonaro\" + 0.008*\"covid\" + 0.007*\"brasil\" + 0.007*\"coronavirus\" + 0.005*\"isolamento\" + 0.005*\"anos\" + 0.004*\"saude\" + 0.004*\"veja\" + 0.004*\"mortes\" + 0.004*\"governo\"\n",
            "Topic: 3 \n",
            "Words: 0.017*\"coronavirus\" + 0.009*\"veja\" + 0.006*\"mortes\" + 0.005*\"covid\" + 0.005*\"pandemia\" + 0.005*\"novo\" + 0.004*\"brasil\" + 0.004*\"maio\" + 0.004*\"casos\" + 0.004*\"governo\"\n",
            "Topic: 4 \n",
            "Words: 0.013*\"coronavirus\" + 0.008*\"pandemia\" + 0.008*\"apos\" + 0.007*\"bolsonaro\" + 0.007*\"covid\" + 0.005*\"fake\" + 0.005*\"fatooufake\" + 0.005*\"isolamento\" + 0.004*\"video\" + 0.004*\"paulo\"\n",
            "Topic: 5 \n",
            "Words: 0.011*\"bolsonaro\" + 0.008*\"coronavirus\" + 0.008*\"brasil\" + 0.005*\"ministro\" + 0.005*\"saude\" + 0.005*\"video\" + 0.005*\"anos\" + 0.004*\"covid\" + 0.004*\"governo\" + 0.004*\"durante\"\n"
          ],
          "name": "stdout"
        }
      ]
    },
    {
      "cell_type": "code",
      "metadata": {
        "id": "01Nw5Qa-TCYp",
        "colab_type": "code",
        "outputId": "d4a87567-0b25-4220-8432-caaa63cd2300",
        "colab": {
          "base_uri": "https://localhost:8080/",
          "height": 860
        }
      },
      "source": [
        "pyLDAvis.enable_notebook()\n",
        "LDAvis_prepared = pyLDAvis.gensim.prepare(lda_model, corpus, dictionary)\n",
        "LDAvis_prepared"
      ],
      "execution_count": 33,
      "outputs": [
        {
          "output_type": "execute_result",
          "data": {
            "text/html": [
              "\n",
              "<link rel=\"stylesheet\" type=\"text/css\" href=\"https://cdn.rawgit.com/bmabey/pyLDAvis/files/ldavis.v1.0.0.css\">\n",
              "\n",
              "\n",
              "<div id=\"ldavis_el3841406748054021449222252206\"></div>\n",
              "<script type=\"text/javascript\">\n",
              "\n",
              "var ldavis_el3841406748054021449222252206_data = {\"mdsDat\": {\"x\": [-0.016846553855252987, 0.06258223944681553, -0.05091329427100187, 0.07337019361848963, -0.10177014090617911, 0.03357755596712868], \"y\": [-0.006071204771754318, 0.08957265392831049, -0.0634034700448905, -0.00789895548487346, 0.05871436732268007, -0.07091339094947235], \"topics\": [1, 2, 3, 4, 5, 6], \"cluster\": [1, 1, 1, 1, 1, 1], \"Freq\": [18.663925170898438, 16.817903518676758, 16.690143585205078, 16.637285232543945, 15.993197441101074, 15.197541236877441]}, \"tinfo\": {\"Term\": [\"coronavirus\", \"bolsonaro\", \"veja\", \"fatooufake\", \"fake\", \"oassunto\", \"noticia\", \"isolamento\", \"feira\", \"medida\", \"paulo\", \"manaus\", \"estudo\", \"brasil\", \"cada\", \"live\", \"lockdown\", \"parcela\", \"exames\", \"dias\", \"ministro\", \"alunos\", \"dados\", \"combate\", \"voce\", \"reuniao\", \"maio\", \"entrevista\", \"mostre\", \"sera\", \"feita\", \"depoem\", \"pronto\", \"isolado\", \"goias\", \"anulado\", \"valer\", \"catarina\", \"funcionar\", \"desgastado\", \"fritura\", \"igreja\", \"vencer\", \"causou\", \"amor\", \"ambiente\", \"delegados\", \"quatro\", \"marcha\", \"saopaulo\", \"idosos\", \"proteger\", \"cuidado\", \"estar\", \"exame\", \"motorista\", \"usou\", \"separados\", \"duplo\", \"trata\", \"segunda\", \"santa\", \"lockdown\", \"sera\", \"dias\", \"coronavirus\", \"teich\", \"presidente\", \"ministros\", \"testes\", \"sobre\", \"saude\", \"mortes\", \"rodizio\", \"queda\", \"covid\", \"paulo\", \"libera\", \"pandemia\", \"apos\", \"governo\", \"registra\", \"bolsonaro\", \"ministerio\", \"maes\", \"campanha\", \"nelson\", \"durante\", \"veiculos\", \"auxilio\", \"isolamento\", \"video\", \"contra\", \"emergencial\", \"novo\", \"milhoes\", \"entrevista\", \"perdeu\", \"causas\", \"aras\", \"limite\", \"acusado\", \"sabem\", \"bernardinho\", \"consequencias\", \"entrar\", \"podcast\", \"meuxgyzlre\", \"monitorar\", \"tribunal\", \"adiar\", \"fazia\", \"intrigam\", \"orla\", \"apostar\", \"responde\", \"acontecer\", \"sars\", \"mutacoes\", \"quais\", \"sindromes\", \"supremo\", \"assinada\", \"oassunto\", \"ibaneis\", \"eduardo\", \"noruega\", \"medida\", \"alerta\", \"fazem\", \"covid\", \"medico\", \"pais\", \"mortos\", \"mundo\", \"cada\", \"casa\", \"vida\", \"semana\", \"reuniao\", \"bolsonaro\", \"isolamento\", \"pandemia\", \"bruno\", \"apos\", \"videos\", \"sobre\", \"video\", \"desejos\", \"anos\", \"veja\", \"ministro\", \"casos\", \"coronavirus\", \"brasil\", \"globonews\", \"mortes\", \"governo\", \"morre\", \"maio\", \"mostre\", \"inicio\", \"sendo\", \"tentar\", \"ilustra\", \"assoc\", \"mapear\", \"forca\", \"conduzem\", \"encontrar\", \"cobrancas\", \"venda\", \"equipe\", \"muita\", \"idosa\", \"critica\", \"fatooufake\", \"maranhao\", \"maior\", \"federais\", \"universidades\", \"fake\", \"feitas\", \"dvllv\", \"acalmar\", \"gkmms\", \"qmvfy\", \"manipulada\", \"bell\", \"manif\", \"comemorar\", \"natural\", \"suspende\", \"andreiasadi\", \"pesquisas\", \"vacina\", \"remedio\", \"repercussao\", \"preocupacao\", \"paulo\", \"meio\", \"exames\", \"apos\", \"pandemia\", \"coronavirus\", \"moro\", \"isolamento\", \"bolsonaro\", \"live\", \"covid\", \"ministro\", \"video\", \"desde\", \"saude\", \"primeiro\", \"teich\", \"mortes\", \"sobre\", \"brasil\", \"casos\", \"anos\", \"veja\", \"diadasmaes\", \"globonews\", \"recebe\", \"pacientes\", \"durante\", \"militares\", \"politica\", \"avaliacao\", \"sequencia\", \"cardiaca\", \"matou\", \"receberam\", \"pega\", \"pequeno\", \"gradual\", \"estresse\", \"chegar\", \"sobrevive\", \"ibge\", \"disparar\", \"postos\", \"vence\", \"motoristas\", \"estudo\", \"carros\", \"coveiro\", \"irmao\", \"pernambuco\", \"ceara\", \"seguir\", \"governadores\", \"aplicativo\", \"relaxamento\", \"hora\", \"tres\", \"suspeita\", \"bastidores\", \"decreto\", \"bolsonaro\", \"cada\", \"brasil\", \"dentro\", \"isolamento\", \"covid\", \"anos\", \"justica\", \"milhoes\", \"pacientes\", \"quarentena\", \"sonhos\", \"flexibilizacao\", \"exames\", \"pessoas\", \"reuniao\", \"morre\", \"coronavirus\", \"contra\", \"saude\", \"veja\", \"governo\", \"mortes\", \"apos\", \"auxilio\", \"pandemia\", \"social\", \"ministerio\", \"meses\", \"sobre\", \"pode\", \"alunos\", \"suspensao\", \"manaus\", \"supera\", \"pagodinho\", \"filas\", \"razao\", \"professores\", \"pediram\", \"emprestados\", \"internacao\", \"celulares\", \"rende\", \"voces\", \"nomeacao\", \"usuarios\", \"maternidade\", \"terminar\", \"preparam\", \"apresentam\", \"sexta\", \"computadores\", \"zeca\", \"estudos\", \"azevedo\", \"noticia\", \"passo\", \"naiara\", \"publica\", \"pedidos\", \"parcela\", \"dados\", \"veja\", \"feira\", \"maio\", \"coronavirus\", \"nesta\", \"novo\", \"distanciamento\", \"tratamento\", \"mostram\", \"mortes\", \"todos\", \"casos\", \"segundo\", \"live\", \"amazonia\", \"conta\", \"paga\", \"morte\", \"vitima\", \"governo\", \"auxilio\", \"emergencial\", \"pandemia\", \"presidente\", \"brasil\", \"covid\", \"sobre\", \"social\", \"anos\", \"apos\", \"antes\", \"dias\", \"saude\", \"pacientes\", \"morreram\", \"onde\", \"idoso\", \"celebra\", \"contribuir\", \"feed\", \"caem\", \"rolar\", \"pare\", \"aparec\", \"paraiba\", \"equivoco\", \"protecao\", \"neta\", \"arrume\", \"guerreiro\", \"belarus\", \"voce\", \"ultimas\", \"acesso\", \"caiu\", \"diario\", \"escritorio\", \"perturbacao\", \"morar\", \"procuradoria\", \"numer\", \"niro\", \"gestao\", \"real\", \"jovem\", \"sair\", \"temporario\", \"guedes\", \"mascara\", \"agente\", \"livra\", \"decisao\", \"producao\", \"combate\", \"bolsonaro\", \"brasil\", \"ministro\", \"video\", \"durante\", \"anos\", \"saude\", \"coronavirus\", \"estao\", \"moro\", \"leia\", \"defende\", \"causa\", \"servidores\", \"governo\", \"ministerio\", \"publico\", \"pais\", \"covid\", \"pandemia\", \"novo\", \"morre\", \"sobre\", \"contra\", \"estado\", \"mortes\", \"isolamento\"], \"Freq\": [88.0, 57.0, 29.0, 10.0, 11.0, 10.0, 6.0, 26.0, 10.0, 8.0, 14.0, 4.0, 5.0, 36.0, 10.0, 9.0, 12.0, 6.0, 6.0, 14.0, 20.0, 3.0, 4.0, 7.0, 3.0, 13.0, 12.0, 3.0, 3.0, 8.0, 2.8690032958984375, 2.1804585456848145, 2.0991227626800537, 1.4920722246170044, 1.4920588731765747, 1.4919694662094116, 1.491924524307251, 1.491869330406189, 1.4917807579040527, 1.491742491722107, 1.4917110204696655, 1.4916586875915527, 1.4916325807571411, 1.4916268587112427, 1.4916141033172607, 1.49158775806427, 1.4915046691894531, 1.4914652109146118, 1.4911895990371704, 1.3848539590835571, 1.3816609382629395, 1.3762329816818237, 1.3212637901306152, 1.3172354698181152, 2.1800639629364014, 2.1806020736694336, 1.690109372138977, 0.8035197854042053, 0.8035116791725159, 0.8035021424293518, 4.335611820220947, 1.5827596187591553, 7.216380596160889, 4.1862101554870605, 6.232924938201904, 26.10894775390625, 5.586939334869385, 7.384664058685303, 3.5193371772766113, 2.7257468700408936, 8.802916526794434, 8.402698516845703, 8.994428634643555, 3.558493137359619, 3.548835039138794, 11.909418106079102, 4.855441570281982, 2.8683531284332275, 8.985541343688965, 7.93566370010376, 6.590740203857422, 3.5639193058013916, 9.792622566223145, 4.326376914978027, 3.5575807094573975, 2.1809303760528564, 2.8820066452026367, 4.246334552764893, 2.8698441982269287, 3.941361427307129, 4.597999095916748, 4.446278095245361, 3.872981309890747, 3.306766986846924, 3.5611472129821777, 3.3389129638671875, 2.8271660804748535, 2.149064064025879, 2.148681879043579, 2.099724054336548, 2.055948495864868, 1.4705740213394165, 1.470323085784912, 1.4703024625778198, 1.4702602624893188, 1.470248818397522, 1.4702293872833252, 1.4701976776123047, 1.4701957702636719, 1.470188856124878, 1.4699833393096924, 1.4699558019638062, 1.4699537754058838, 1.469952940940857, 1.4699431657791138, 1.4698339700698853, 1.469800353050232, 1.4696403741836548, 1.4689868688583374, 2.8277652263641357, 1.382454752922058, 2.6943137645721436, 1.3483542203903198, 6.220252990722656, 1.184506893157959, 0.791952908039093, 1.1473910808563232, 4.072890281677246, 2.1494944095611572, 2.9117491245269775, 13.567933082580566, 2.8260726928710938, 4.5260090827941895, 3.010185480117798, 3.1266989707946777, 3.8360435962677, 4.185932159423828, 3.373915910720825, 3.5066757202148438, 4.247531890869141, 9.490684509277344, 6.220516681671143, 7.727762699127197, 2.1489405632019043, 6.90303373336792, 2.817685127258301, 5.9939165115356445, 4.959321975708008, 2.0268306732177734, 4.8658270835876465, 4.961281776428223, 4.168107509613037, 3.628188371658325, 4.912871360778809, 3.780498743057251, 2.827385902404785, 3.542951822280884, 3.296574592590332, 2.8291728496551514, 2.828716278076172, 2.7998995780944824, 2.128067970275879, 2.127777099609375, 1.4560884237289429, 1.456063151359558, 1.455986499786377, 1.4559812545776367, 1.4559581279754639, 1.4558764696121216, 1.4558392763137817, 1.4557883739471436, 1.4557666778564453, 1.4557523727416992, 1.4557327032089233, 1.4552600383758545, 2.799539566040039, 6.828478813171387, 1.709653615951538, 2.1280441284179688, 2.1278939247131348, 2.127572536468506, 6.8324503898620605, 0.7842284440994263, 0.7842192649841309, 0.784202516078949, 0.784197986125946, 0.7841946482658386, 0.7841908931732178, 0.7841766476631165, 0.7841731905937195, 1.1687434911727905, 1.1557062864303589, 1.8724119663238525, 2.800699472427368, 2.1283960342407227, 2.128308057785034, 2.1278483867645264, 1.4729738235473633, 1.4558453559875488, 5.496298789978027, 4.49305534362793, 2.9262685775756836, 10.234840393066406, 11.032303810119629, 17.884855270385742, 4.5040130615234375, 6.413122653961182, 9.664043426513672, 3.472555160522461, 9.155599594116211, 5.24492073059082, 5.825927257537842, 2.8010878562927246, 5.367231845855713, 2.1997320652008057, 3.4729843139648438, 4.950142860412598, 4.695552349090576, 4.9719014167785645, 3.7086193561553955, 4.156189441680908, 3.957336902618408, 2.80064058303833, 2.7849860191345215, 2.532536506652832, 2.8019087314605713, 2.811915159225464, 2.5714261531829834, 1.9921483993530273, 1.4331008195877075, 1.432992935180664, 1.4329534769058228, 1.4329116344451904, 1.4328594207763672, 1.4327152967453003, 1.4326623678207397, 1.4326428174972534, 1.432618260383606, 1.4326144456863403, 1.432610034942627, 1.4326034784317017, 1.4325770139694214, 1.4325447082519531, 1.4324558973312378, 1.4300084114074707, 3.7324163913726807, 2.2458362579345703, 1.314153790473938, 1.3127622604370117, 1.3002158403396606, 2.5944724082946777, 1.256420373916626, 1.2509593963623047, 2.0924789905548096, 2.0426406860351562, 1.2211509943008423, 2.7556638717651367, 2.7562079429626465, 2.094309091567993, 2.0944466590881348, 14.336453437805176, 4.1426682472229, 9.204619407653809, 2.7562966346740723, 6.922739028930664, 10.462759017944336, 6.757498264312744, 3.8797109127044678, 4.079464912414551, 4.080420017242432, 3.7751784324645996, 2.2440919876098633, 2.0514791011810303, 2.6326847076416016, 3.418567180633545, 3.6719086170196533, 3.4171900749206543, 8.745081901550293, 4.020525932312012, 5.071156024932861, 4.929679870605469, 4.686382293701172, 4.696755886077881, 4.508077621459961, 3.334179162979126, 4.358412742614746, 3.093899965286255, 3.0464179515838623, 2.7550606727600098, 2.9514312744140625, 2.758746862411499, 2.790635108947754, 2.1212518215179443, 3.4603874683380127, 1.451512336730957, 1.4514482021331787, 1.451436161994934, 1.4513198137283325, 1.4513132572174072, 1.4512654542922974, 1.4512606859207153, 1.4512451887130737, 1.4512006044387817, 1.451123833656311, 1.4511226415634155, 1.4510853290557861, 1.4510762691497803, 1.4510639905929565, 1.4510453939437866, 1.451041340827942, 1.4508877992630005, 1.4508404731750488, 1.4508367776870728, 1.4508134126663208, 2.7909157276153564, 2.326472520828247, 4.127664566040039, 1.3475619554519653, 1.7127978801727295, 2.120975971221924, 2.10640549659729, 3.4612410068511963, 2.739180564880371, 12.134947776794434, 4.799126625061035, 5.470178604125977, 21.45884895324707, 4.774045467376709, 6.13962459564209, 2.79160213470459, 2.7912800312042236, 3.454061269760132, 8.055461883544922, 2.7919068336486816, 5.403872489929199, 3.5297420024871826, 3.461874485015869, 2.1210031509399414, 2.1214048862457275, 2.12180233001709, 3.462466239929199, 2.7922236919403076, 5.303429126739502, 4.102182865142822, 3.4414424896240234, 6.147459506988525, 4.403084754943848, 5.5898003578186035, 6.619993686676025, 4.346261024475098, 3.4560158252716064, 4.117623805999756, 4.308477401733398, 2.993687152862549, 2.9512574672698975, 2.9173383712768555, 2.811516284942627, 2.0762441158294678, 2.0753366947174072, 2.0631916522979736, 2.0471630096435547, 1.4208509922027588, 1.4208366870880127, 1.4206849336624146, 1.4206104278564453, 1.4206057786941528, 1.4205585718154907, 1.4205440282821655, 1.4204864501953125, 1.420466661453247, 1.420451045036316, 1.4203810691833496, 1.4202674627304077, 1.3822673559188843, 2.7323038578033447, 2.076847553253174, 2.076181650161743, 2.0472397804260254, 1.1638931035995483, 0.7651659846305847, 0.7651650309562683, 0.7651598453521729, 0.7651489973068237, 0.7651490569114685, 0.7651411294937134, 0.7651321291923523, 0.7651187777519226, 2.2831954956054688, 2.4922094345092773, 1.1123067140579224, 2.732015371322632, 2.7319469451904297, 2.075941562652588, 2.0756888389587402, 1.420750379562378, 1.4203486442565918, 3.388406991958618, 13.516914367675781, 9.245504379272461, 6.189406871795654, 5.664299488067627, 4.27026891708374, 5.58425235748291, 5.667291164398193, 9.874773979187012, 2.732800006866455, 3.410940647125244, 2.4493446350097656, 2.443700075149536, 2.0766806602478027, 2.0771067142486572, 4.484305381774902, 3.1880319118499756, 2.7224202156066895, 3.0285773277282715, 4.878154277801514, 4.210193634033203, 3.1159722805023193, 2.733363151550293, 2.9337105751037598, 2.6357290744781494, 2.397982120513916, 2.790739059448242, 2.622861862182617], \"Total\": [88.0, 57.0, 29.0, 10.0, 11.0, 10.0, 6.0, 26.0, 10.0, 8.0, 14.0, 4.0, 5.0, 36.0, 10.0, 9.0, 12.0, 6.0, 6.0, 14.0, 20.0, 3.0, 4.0, 7.0, 3.0, 13.0, 12.0, 3.0, 3.0, 8.0, 3.4274849891662598, 2.738480567932129, 2.7352726459503174, 2.049481153488159, 2.0494821071624756, 2.049478054046631, 2.0494773387908936, 2.0494775772094727, 2.0494720935821533, 2.0494706630706787, 2.049471855163574, 2.049468755722046, 2.0494654178619385, 2.049469470977783, 2.049467086791992, 2.049466609954834, 2.0494651794433594, 2.0494613647460938, 2.049454689025879, 2.0452535152435303, 2.0468287467956543, 2.046696186065674, 2.042733669281006, 2.0425758361816406, 3.409433126449585, 3.4109432697296143, 2.7313907146453857, 1.3604767322540283, 1.3604769706726074, 1.3604767322540283, 7.459816932678223, 2.7099761962890625, 12.914224624633789, 8.15546703338623, 14.231437683105469, 88.98538208007812, 12.894743919372559, 20.282676696777344, 7.435560703277588, 5.406403541564941, 29.723787307739258, 29.579206466674805, 33.030479431152344, 8.117109298706055, 8.111103057861328, 56.5938606262207, 14.189003944396973, 6.0919108390808105, 42.46167755126953, 35.76530075073242, 26.884960174560547, 9.44985580444336, 57.58951187133789, 13.426279067993164, 9.492290496826172, 4.079147815704346, 6.797120094299316, 15.440109252929688, 6.765166759490967, 16.146669387817383, 26.892244338989258, 25.52922248840332, 17.463882446289062, 11.46438980102539, 16.790952682495117, 12.760351181030273, 3.387701988220215, 2.708648204803467, 2.7086398601531982, 2.707396984100342, 2.710005044937134, 2.0295896530151367, 2.0295863151550293, 2.0295896530151367, 2.0295844078063965, 2.029585838317871, 2.029585123062134, 2.029585123062134, 2.029587745666504, 2.0295848846435547, 2.0295820236206055, 2.02958083152771, 2.029583215713501, 2.0295822620391846, 2.0295820236206055, 2.0295803546905518, 2.029580593109131, 2.029576063156128, 2.0295708179473877, 4.043869495391846, 2.0308706760406494, 4.051463603973389, 2.031348943710327, 10.163483619689941, 2.019937753677368, 1.3505308628082275, 2.018697500228882, 8.159643173217773, 4.065619945526123, 6.079496383666992, 56.5938606262207, 6.045548439025879, 12.771747589111328, 6.733927249908447, 7.387140274047852, 10.734570503234863, 12.843182563781738, 8.778122901916504, 9.436259269714355, 13.398483276367188, 57.58951187133789, 26.892244338989258, 42.46167755126953, 4.070098876953125, 35.76530075073242, 6.770442962646484, 29.723787307739258, 25.52922248840332, 4.029132843017578, 27.403522491455078, 29.536951065063477, 20.7708797454834, 18.851383209228516, 88.98538208007812, 36.03142547607422, 10.115652084350586, 33.030479431152344, 26.884960174560547, 12.060800552368164, 12.791255950927734, 3.3613204956054688, 2.6888577938079834, 2.6888599395751953, 2.0163936614990234, 2.0163958072662354, 2.0163967609405518, 2.016397476196289, 2.016397714614868, 2.01639723777771, 2.016394853591919, 2.01639461517334, 2.01639461517334, 2.0163962841033936, 2.0163931846618652, 2.0163960456848145, 4.023132801055908, 10.053503036499023, 2.6875336170196533, 3.3778557777404785, 3.377856969833374, 3.3778557777404785, 11.375428199768066, 1.343932867050171, 1.343932867050171, 1.343932867050171, 1.3439325094223022, 1.3439335823059082, 1.343932032585144, 1.3439323902130127, 1.3439319133758545, 2.011836051940918, 2.015444755554199, 3.361624002456665, 5.408555030822754, 4.029516220092773, 4.029713153839111, 4.046736240386963, 2.6952881813049316, 2.6725640296936035, 14.189003944396973, 11.455663681030273, 6.6995086669921875, 35.76530075073242, 42.46167755126953, 88.98538208007812, 13.410547256469727, 26.892244338989258, 57.58951187133789, 9.437355041503906, 56.5938606262207, 20.7708797454834, 25.52922248840332, 6.7275776863098145, 29.579206466674805, 4.7088165283203125, 12.894743919372559, 33.030479431152344, 29.723787307739258, 36.03142547607422, 18.851383209228516, 27.403522491455078, 29.536951065063477, 8.765731811523438, 10.115652084350586, 6.6747636795043945, 13.398261070251465, 15.440109252929688, 3.323460102081299, 2.6560003757476807, 1.9950611591339111, 1.995060920715332, 1.9950642585754395, 1.995064616203308, 1.9950636625289917, 1.9950677156448364, 1.9950697422027588, 1.9950686693191528, 1.9950671195983887, 1.9950684309005737, 1.9950697422027588, 1.9950697422027588, 1.9950708150863647, 1.9950735569000244, 1.9950720071792603, 1.9951351881027222, 5.32830810546875, 3.326909303665161, 1.9981595277786255, 1.9982028007507324, 1.9972022771835327, 3.991589069366455, 1.9979110956192017, 1.9980037212371826, 3.345916271209717, 3.3454184532165527, 2.000586986541748, 4.663827896118164, 4.68670129776001, 3.985492706298828, 4.00179386138916, 57.58951187133789, 10.734570503234863, 36.03142547607422, 6.006686687469482, 26.892244338989258, 56.5938606262207, 27.403522491455078, 11.406417846679688, 12.760351181030273, 13.398261070251465, 12.744592666625977, 4.69012975692749, 3.99538516998291, 6.6995086669921875, 11.386897087097168, 13.398483276367188, 12.060800552368164, 88.98538208007812, 17.463882446289062, 29.579206466674805, 29.536951065063477, 26.884960174560547, 33.030479431152344, 35.76530075073242, 16.146669387817383, 42.46167755126953, 14.074090957641602, 13.426279067993164, 9.391522407531738, 29.723787307739258, 12.780012130737305, 3.352797508239746, 2.682461738586426, 4.695588111877441, 2.0121312141418457, 2.0121307373046875, 2.0121335983276367, 2.012132406234741, 2.012131929397583, 2.012131690979004, 2.0121307373046875, 2.0121304988861084, 2.012134552001953, 2.012131929397583, 2.0121335983276367, 2.012132406234741, 2.0121328830718994, 2.012134552001953, 2.0121331214904785, 2.0121359825134277, 2.012132167816162, 2.0121333599090576, 2.0121352672576904, 2.0121333599090576, 4.025257110595703, 3.3588485717773438, 6.005800247192383, 2.013483762741089, 2.6877787113189697, 3.3442628383636475, 3.342644691467285, 6.057294845581055, 4.69788122177124, 29.536951065063477, 10.107443809509277, 12.791255950927734, 88.98538208007812, 11.414413452148438, 16.790952682495117, 5.354115962982178, 5.393324375152588, 8.05992603302002, 33.030479431152344, 6.039543151855469, 18.851383209228516, 9.368074417114258, 9.437355041503906, 4.031682968139648, 4.04058313369751, 4.043923377990723, 10.800896644592285, 7.345885276794434, 26.884960174560547, 16.146669387817383, 11.46438980102539, 42.46167755126953, 20.282676696777344, 36.03142547607422, 56.5938606262207, 29.723787307739258, 14.074090957641602, 27.403522491455078, 35.76530075073242, 10.761026382446289, 14.231437683105469, 29.579206466674805, 13.398261070251465, 2.6399497985839844, 2.639972686767578, 2.640604257583618, 2.6401987075805664, 1.9837818145751953, 1.9837833642959595, 1.9837868213653564, 1.9837870597839355, 1.9837876558303833, 1.9837892055511475, 1.9837889671325684, 1.983790636062622, 1.98379385471344, 1.983792781829834, 1.983794927597046, 1.983797311782837, 1.9841138124465942, 3.968560218811035, 3.3017325401306152, 3.3124117851257324, 3.3200268745422363, 1.9927568435668945, 1.327623963356018, 1.3276233673095703, 1.3276240825653076, 1.3276234865188599, 1.327623963356018, 1.3276240825653076, 1.3276244401931763, 1.3276245594024658, 3.9976463317871094, 4.6522216796875, 1.9914559125900269, 5.300057411193848, 5.325963020324707, 4.009064674377441, 4.009765625, 2.6455907821655273, 2.6455907821655273, 7.299645900726318, 57.58951187133789, 36.03142547607422, 20.7708797454834, 25.52922248840332, 15.440109252929688, 27.403522491455078, 29.579206466674805, 88.98538208007812, 7.330357074737549, 13.410547256469727, 6.6427812576293945, 6.702883720397949, 4.663326263427734, 4.6692047119140625, 26.884960174560547, 13.426279067993164, 9.35439395904541, 12.771747589111328, 56.5938606262207, 42.46167755126953, 16.790952682495117, 12.060800552368164, 29.723787307739258, 17.463882446289062, 8.726359367370605, 33.030479431152344, 26.892244338989258], \"Category\": [\"Default\", \"Default\", \"Default\", \"Default\", \"Default\", \"Default\", \"Default\", \"Default\", \"Default\", \"Default\", \"Default\", \"Default\", \"Default\", \"Default\", \"Default\", \"Default\", \"Default\", \"Default\", \"Default\", \"Default\", \"Default\", \"Default\", \"Default\", \"Default\", \"Default\", \"Default\", \"Default\", \"Default\", \"Default\", \"Default\", \"Topic1\", \"Topic1\", \"Topic1\", \"Topic1\", \"Topic1\", \"Topic1\", \"Topic1\", \"Topic1\", \"Topic1\", \"Topic1\", \"Topic1\", \"Topic1\", \"Topic1\", \"Topic1\", \"Topic1\", \"Topic1\", \"Topic1\", \"Topic1\", \"Topic1\", \"Topic1\", \"Topic1\", \"Topic1\", \"Topic1\", \"Topic1\", \"Topic1\", \"Topic1\", \"Topic1\", \"Topic1\", \"Topic1\", \"Topic1\", \"Topic1\", \"Topic1\", \"Topic1\", \"Topic1\", \"Topic1\", \"Topic1\", \"Topic1\", \"Topic1\", \"Topic1\", \"Topic1\", \"Topic1\", \"Topic1\", \"Topic1\", \"Topic1\", \"Topic1\", \"Topic1\", \"Topic1\", \"Topic1\", \"Topic1\", \"Topic1\", \"Topic1\", \"Topic1\", \"Topic1\", \"Topic1\", \"Topic1\", \"Topic1\", \"Topic1\", \"Topic1\", \"Topic1\", \"Topic1\", \"Topic1\", \"Topic1\", \"Topic1\", \"Topic1\", \"Topic1\", \"Topic1\", \"Topic2\", \"Topic2\", \"Topic2\", \"Topic2\", \"Topic2\", \"Topic2\", \"Topic2\", \"Topic2\", \"Topic2\", \"Topic2\", \"Topic2\", \"Topic2\", \"Topic2\", \"Topic2\", \"Topic2\", \"Topic2\", \"Topic2\", \"Topic2\", \"Topic2\", \"Topic2\", \"Topic2\", \"Topic2\", \"Topic2\", \"Topic2\", \"Topic2\", \"Topic2\", \"Topic2\", \"Topic2\", \"Topic2\", \"Topic2\", \"Topic2\", \"Topic2\", \"Topic2\", \"Topic2\", \"Topic2\", \"Topic2\", \"Topic2\", \"Topic2\", \"Topic2\", \"Topic2\", \"Topic2\", \"Topic2\", \"Topic2\", \"Topic2\", \"Topic2\", \"Topic2\", \"Topic2\", \"Topic2\", \"Topic2\", \"Topic2\", \"Topic2\", \"Topic2\", \"Topic2\", \"Topic2\", \"Topic2\", \"Topic2\", \"Topic2\", \"Topic2\", \"Topic2\", \"Topic2\", \"Topic2\", \"Topic2\", \"Topic2\", \"Topic2\", \"Topic3\", \"Topic3\", \"Topic3\", \"Topic3\", \"Topic3\", \"Topic3\", \"Topic3\", \"Topic3\", \"Topic3\", \"Topic3\", \"Topic3\", \"Topic3\", \"Topic3\", \"Topic3\", \"Topic3\", \"Topic3\", \"Topic3\", \"Topic3\", \"Topic3\", \"Topic3\", \"Topic3\", \"Topic3\", \"Topic3\", \"Topic3\", \"Topic3\", \"Topic3\", \"Topic3\", \"Topic3\", \"Topic3\", \"Topic3\", \"Topic3\", \"Topic3\", \"Topic3\", \"Topic3\", \"Topic3\", \"Topic3\", \"Topic3\", \"Topic3\", \"Topic3\", \"Topic3\", \"Topic3\", \"Topic3\", \"Topic3\", \"Topic3\", \"Topic3\", \"Topic3\", \"Topic3\", \"Topic3\", \"Topic3\", \"Topic3\", \"Topic3\", \"Topic3\", \"Topic3\", \"Topic3\", \"Topic3\", \"Topic3\", \"Topic3\", \"Topic3\", \"Topic3\", \"Topic3\", \"Topic3\", \"Topic3\", \"Topic3\", \"Topic3\", \"Topic3\", \"Topic3\", \"Topic3\", \"Topic4\", \"Topic4\", \"Topic4\", \"Topic4\", \"Topic4\", \"Topic4\", \"Topic4\", \"Topic4\", \"Topic4\", \"Topic4\", \"Topic4\", \"Topic4\", \"Topic4\", \"Topic4\", \"Topic4\", \"Topic4\", \"Topic4\", \"Topic4\", \"Topic4\", \"Topic4\", \"Topic4\", \"Topic4\", \"Topic4\", \"Topic4\", \"Topic4\", \"Topic4\", \"Topic4\", \"Topic4\", \"Topic4\", \"Topic4\", \"Topic4\", \"Topic4\", \"Topic4\", \"Topic4\", \"Topic4\", \"Topic4\", \"Topic4\", \"Topic4\", \"Topic4\", \"Topic4\", \"Topic4\", \"Topic4\", \"Topic4\", \"Topic4\", \"Topic4\", \"Topic4\", \"Topic4\", \"Topic4\", \"Topic4\", \"Topic4\", \"Topic4\", \"Topic4\", \"Topic4\", \"Topic4\", \"Topic4\", \"Topic4\", \"Topic4\", \"Topic4\", \"Topic4\", \"Topic4\", \"Topic4\", \"Topic4\", \"Topic4\", \"Topic4\", \"Topic5\", \"Topic5\", \"Topic5\", \"Topic5\", \"Topic5\", \"Topic5\", \"Topic5\", \"Topic5\", \"Topic5\", \"Topic5\", \"Topic5\", \"Topic5\", \"Topic5\", \"Topic5\", \"Topic5\", \"Topic5\", \"Topic5\", \"Topic5\", \"Topic5\", \"Topic5\", \"Topic5\", \"Topic5\", \"Topic5\", \"Topic5\", \"Topic5\", \"Topic5\", \"Topic5\", \"Topic5\", \"Topic5\", \"Topic5\", \"Topic5\", \"Topic5\", \"Topic5\", \"Topic5\", \"Topic5\", \"Topic5\", \"Topic5\", \"Topic5\", \"Topic5\", \"Topic5\", \"Topic5\", \"Topic5\", \"Topic5\", \"Topic5\", \"Topic5\", \"Topic5\", \"Topic5\", \"Topic5\", \"Topic5\", \"Topic5\", \"Topic5\", \"Topic5\", \"Topic5\", \"Topic5\", \"Topic5\", \"Topic5\", \"Topic5\", \"Topic5\", \"Topic5\", \"Topic5\", \"Topic5\", \"Topic5\", \"Topic5\", \"Topic5\", \"Topic5\", \"Topic5\", \"Topic6\", \"Topic6\", \"Topic6\", \"Topic6\", \"Topic6\", \"Topic6\", \"Topic6\", \"Topic6\", \"Topic6\", \"Topic6\", \"Topic6\", \"Topic6\", \"Topic6\", \"Topic6\", \"Topic6\", \"Topic6\", \"Topic6\", \"Topic6\", \"Topic6\", \"Topic6\", \"Topic6\", \"Topic6\", \"Topic6\", \"Topic6\", \"Topic6\", \"Topic6\", \"Topic6\", \"Topic6\", \"Topic6\", \"Topic6\", \"Topic6\", \"Topic6\", \"Topic6\", \"Topic6\", \"Topic6\", \"Topic6\", \"Topic6\", \"Topic6\", \"Topic6\", \"Topic6\", \"Topic6\", \"Topic6\", \"Topic6\", \"Topic6\", \"Topic6\", \"Topic6\", \"Topic6\", \"Topic6\", \"Topic6\", \"Topic6\", \"Topic6\", \"Topic6\", \"Topic6\", \"Topic6\", \"Topic6\", \"Topic6\", \"Topic6\", \"Topic6\", \"Topic6\", \"Topic6\", \"Topic6\", \"Topic6\", \"Topic6\", \"Topic6\", \"Topic6\", \"Topic6\", \"Topic6\"], \"logprob\": [30.0, 29.0, 28.0, 27.0, 26.0, 25.0, 24.0, 23.0, 22.0, 21.0, 20.0, 19.0, 18.0, 17.0, 16.0, 15.0, 14.0, 13.0, 12.0, 11.0, 10.0, 9.0, 8.0, 7.0, 6.0, 5.0, 4.0, 3.0, 2.0, 1.0, -6.256800174713135, -6.531199932098389, -6.569200038909912, -6.910600185394287, -6.910600185394287, -6.910600185394287, -6.910699844360352, -6.910699844360352, -6.910799980163574, -6.910799980163574, -6.910799980163574, -6.910900115966797, -6.910900115966797, -6.910900115966797, -6.910900115966797, -6.910900115966797, -6.910999774932861, -6.910999774932861, -6.911200046539307, -6.985099792480469, -6.987500190734863, -6.991399765014648, -7.032199859619141, -7.035200119018555, -6.531400203704834, -6.531099796295166, -6.785900115966797, -7.5295000076293945, -7.5295000076293945, -7.5295000076293945, -5.843900203704834, -6.851600170135498, -5.334400177001953, -5.878900051116943, -5.480899810791016, -4.048500061035156, -5.5903000831604, -5.311299800872803, -6.052499771118164, -6.308000087738037, -5.135700225830078, -5.182199954986572, -5.114099979400635, -6.041399955749512, -6.044099807739258, -4.833399772644043, -5.730599880218506, -6.256999969482422, -5.115099906921387, -5.2393999099731445, -5.425099849700928, -6.039899826049805, -5.029099941253662, -5.8460001945495605, -6.0416998863220215, -6.531000137329102, -6.252299785614014, -5.864699840545654, -6.256499767303467, -5.939199924468994, -5.785099983215332, -5.818699836730957, -5.956699848175049, -6.114799976348877, -6.0406999588012695, -6.105100154876709, -6.167300224304199, -6.4415998458862305, -6.441699981689453, -6.464799880981445, -6.485899925231934, -6.820899963378906, -6.821100234985352, -6.821100234985352, -6.821199893951416, -6.821199893951416, -6.821199893951416, -6.821199893951416, -6.821199893951416, -6.821199893951416, -6.821300029754639, -6.821400165557861, -6.821400165557861, -6.821400165557861, -6.821400165557861, -6.821400165557861, -6.821499824523926, -6.821599960327148, -6.822000026702881, -6.167099952697754, -6.882699966430664, -6.2154998779296875, -6.907700061798096, -5.378799915313721, -7.037300109863281, -7.439799785614014, -7.0690999031066895, -5.802199840545654, -6.441400051116943, -6.137800216674805, -4.598899841308594, -6.167699813842773, -5.696800231933594, -6.104599952697754, -6.0665998458862305, -5.862199783325195, -5.774899959564209, -5.990499973297119, -5.951900005340576, -5.760300159454346, -4.956299781799316, -5.378699779510498, -5.161799907684326, -6.4415998458862305, -5.274600028991699, -6.1707000732421875, -5.415800094604492, -5.605299949645996, -6.500100135803223, -5.6244001388549805, -5.604899883270264, -5.779099941253662, -5.917900085449219, -5.614699840545654, -5.876699924468994, -6.167200088500977, -5.9415998458862305, -6.013700008392334, -6.166600227355957, -6.166800022125244, -6.169400215148926, -6.44379997253418, -6.443900108337402, -6.823200225830078, -6.823200225830078, -6.823299884796143, -6.823299884796143, -6.823299884796143, -6.823400020599365, -6.823400020599365, -6.823400020599365, -6.823400020599365, -6.823400020599365, -6.823500156402588, -6.823800086975098, -6.16949987411499, -5.277900218963623, -6.662700176239014, -6.44379997253418, -6.44379997253418, -6.443999767303467, -5.277299880981445, -7.441999912261963, -7.441999912261963, -7.4421000480651855, -7.4421000480651855, -7.4421000480651855, -7.4421000480651855, -7.4421000480651855, -7.4421000480651855, -7.043000221252441, -7.054299831390381, -6.571700096130371, -6.169099807739258, -6.443600177764893, -6.443600177764893, -6.443900108337402, -6.811699867248535, -6.823400020599365, -5.494900226593018, -5.696400165557861, -6.125199794769287, -4.873199939727783, -4.798099994659424, -4.315000057220459, -5.693999767303467, -5.34060001373291, -4.930600166320801, -5.954100131988525, -4.984600067138672, -5.5416998863220215, -5.436600208282471, -6.169000148773193, -5.518700122833252, -6.410600185394287, -5.953999996185303, -5.599599838256836, -5.652400016784668, -5.595200061798096, -5.888299942016602, -5.774400234222412, -5.823400020599365, -6.169099807739258, -6.174699783325195, -6.269700050354004, -6.168700218200684, -6.16510009765625, -6.251299858093262, -6.5065999031066895, -6.835999965667725, -6.835999965667725, -6.836100101470947, -6.836100101470947, -6.836100101470947, -6.83620023727417, -6.836299896240234, -6.836299896240234, -6.836299896240234, -6.836299896240234, -6.836299896240234, -6.836299896240234, -6.836299896240234, -6.836299896240234, -6.836400032043457, -6.838099956512451, -5.878699779510498, -6.38670015335083, -6.922599792480469, -6.923699855804443, -6.933300018310547, -6.242400169372559, -6.96750020980835, -6.97189998626709, -6.457399845123291, -6.481599807739258, -6.995999813079834, -6.18209981918335, -6.1819000244140625, -6.456600189208984, -6.456500053405762, -4.5329999923706055, -5.774499893188477, -4.976099967956543, -6.1819000244140625, -5.261000156402588, -4.8480000495910645, -5.285099983215332, -5.840000152587891, -5.78980016708374, -5.789599895477295, -5.867300033569336, -6.387499809265137, -6.477200031280518, -6.227799892425537, -5.966599941253662, -5.895100116729736, -5.9670000076293945, -5.027299880981445, -5.8043999671936035, -5.572199821472168, -5.600500106811523, -5.651100158691406, -5.648900032043457, -5.689899921417236, -5.991600036621094, -5.723700046539307, -6.066400051116943, -6.0817999839782715, -6.182400226593018, -6.113500118255615, -6.181000232696533, -6.130000114440918, -6.404300212860107, -5.914899826049805, -6.783699989318848, -6.78380012512207, -6.78380012512207, -6.78380012512207, -6.78380012512207, -6.783899784088135, -6.783899784088135, -6.783899784088135, -6.783899784088135, -6.783999919891357, -6.783999919891357, -6.783999919891357, -6.783999919891357, -6.783999919891357, -6.783999919891357, -6.783999919891357, -6.78410005569458, -6.784200191497803, -6.784200191497803, -6.784200191497803, -6.129899978637695, -6.311999797821045, -5.73859977722168, -6.857999801635742, -6.618199825286865, -6.404399871826172, -6.411300182342529, -5.914700031280518, -6.14870023727417, -4.660200119018555, -5.587900161743164, -5.456999778747559, -4.090199947357178, -5.593100070953369, -5.3414998054504395, -6.129700183868408, -6.129799842834473, -5.916800022125244, -5.070000171661377, -6.1296000480651855, -5.469200134277344, -5.895100116729736, -5.9145002365112305, -6.404399871826172, -6.404200077056885, -6.4039998054504395, -5.914299964904785, -6.129499912261963, -5.48799991607666, -5.744800090789795, -5.920400142669678, -5.3403000831604, -5.673999786376953, -5.435400009155273, -5.266200065612793, -5.686999797821045, -5.916200160980225, -5.741000175476074, -5.695700168609619, -6.059800148010254, -6.074100017547607, -6.085599899291992, -6.122600078582764, -6.37470006942749, -6.375199794769287, -6.38100004196167, -6.388800144195557, -6.754000186920166, -6.754000186920166, -6.7540998458862305, -6.754199981689453, -6.754199981689453, -6.754199981689453, -6.754199981689453, -6.754300117492676, -6.754300117492676, -6.754300117492676, -6.75439977645874, -6.75439977645874, -6.781599998474121, -6.100100040435791, -6.3744001388549805, -6.374800205230713, -6.388800144195557, -6.953499794006348, -7.372900009155273, -7.372900009155273, -7.373000144958496, -7.373000144958496, -7.373000144958496, -7.373000144958496, -7.373000144958496, -7.373000144958496, -6.279699802398682, -6.1921000480651855, -6.998799800872803, -6.100200176239014, -6.100299835205078, -6.374899864196777, -6.375, -6.7540998458862305, -6.75439977645874, -5.884900093078613, -4.501299858093262, -4.881100177764893, -5.282400131225586, -5.371099948883057, -5.653600215911865, -5.385300159454346, -5.37060022354126, -4.815299987792969, -6.099999904632568, -5.878300189971924, -6.209499835968018, -6.2118000984191895, -6.374499797821045, -6.374300003051758, -5.604700088500977, -5.945899963378906, -6.103799819946289, -5.997200012207031, -5.520500183105469, -5.667799949645996, -5.968699932098389, -6.099800109863281, -6.0289998054504395, -6.136099815368652, -6.2307000160217285, -6.078999996185303, -6.140999794006348], \"loglift\": [30.0, 29.0, 28.0, 27.0, 26.0, 25.0, 24.0, 23.0, 22.0, 21.0, 20.0, 19.0, 18.0, 17.0, 16.0, 15.0, 14.0, 13.0, 12.0, 11.0, 10.0, 9.0, 8.0, 7.0, 6.0, 5.0, 4.0, 3.0, 2.0, 1.0, 1.5006999969482422, 1.450700044631958, 1.4139000177383423, 1.361199975013733, 1.3610999584197998, 1.3610999584197998, 1.3610999584197998, 1.3609999418258667, 1.3609999418258667, 1.3609000444412231, 1.3609000444412231, 1.3609000444412231, 1.3609000444412231, 1.3609000444412231, 1.3609000444412231, 1.36080002784729, 1.36080002784729, 1.36080002784729, 1.3605999946594238, 1.288699984550476, 1.285599946975708, 1.2817000150680542, 1.242900013923645, 1.23989999294281, 1.2314000129699707, 1.2311999797821045, 1.1986000537872314, 1.1519999504089355, 1.1519999504089355, 1.1519999504089355, 1.1359000205993652, 1.1407999992370605, 1.09660005569458, 1.0117000341415405, 0.8529999852180481, 0.45239999890327454, 0.842199981212616, 0.6682000160217285, 0.9305999875068665, 0.9937000274658203, 0.4616999924182892, 0.42010000348091125, 0.37779998779296875, 0.8539000153541565, 0.8519999980926514, 0.11999999731779099, 0.6061999797821045, 0.9254000186920166, 0.12559999525547028, 0.17299999296665192, 0.2727000117301941, 0.7034000158309937, -0.09309999644756317, 0.5461000204086304, 0.6972000002861023, 1.05239999294281, 0.8205999732017517, 0.38769999146461487, 0.8209999799728394, 0.26840001344680786, -0.08760000020265579, -0.06920000165700912, 0.17249999940395355, 0.43529999256134033, 0.12780000269412994, 0.3379000127315521, 1.6017999649047852, 1.551300048828125, 1.5511000156402588, 1.528499960899353, 1.506500005722046, 1.4605000019073486, 1.4603999853134155, 1.4603999853134155, 1.4602999687194824, 1.4602999687194824, 1.4602999687194824, 1.4602999687194824, 1.4602999687194824, 1.4602999687194824, 1.4601000547409058, 1.4601000547409058, 1.4601000547409058, 1.4601000547409058, 1.4601000547409058, 1.4600000381469727, 1.4600000381469727, 1.4599000215530396, 1.4594999551773071, 1.4249999523162842, 1.3981000185012817, 1.3747999668121338, 1.3729000091552734, 1.291700005531311, 1.2489999532699585, 1.2489999532699585, 1.2178000211715698, 1.0879000425338745, 1.145400047302246, 1.0465999841690063, 0.3544999957084656, 1.0223000049591064, 0.7452999949455261, 0.9775999784469604, 0.9229999780654907, 0.7537000179290771, 0.6615999937057495, 0.8264999985694885, 0.7928000092506409, 0.633899986743927, -0.0203000009059906, 0.31869998574256897, 0.07890000194311142, 1.1440000534057617, 0.13770000636577606, 0.9060999751091003, 0.18150000274181366, 0.14419999718666077, 1.0956000089645386, 0.05429999902844429, -0.0013000000035390258, 0.17659999430179596, 0.13490000367164612, -1.1138999462127686, -0.4717999994754791, 0.5080000162124634, -0.4496999979019165, -0.3160000145435333, 0.3327000141143799, 0.27379998564720154, 1.6075999736785889, 1.556399941444397, 1.5563000440597534, 1.4648000001907349, 1.4648000001907349, 1.4646999835968018, 1.4646999835968018, 1.4646999835968018, 1.4645999670028687, 1.4645999670028687, 1.4645999670028687, 1.4645999670028687, 1.4645999670028687, 1.4645999670028687, 1.4642000198364258, 1.4277000427246094, 1.403499960899353, 1.3380000591278076, 1.3282999992370605, 1.3281999826431274, 1.3280999660491943, 1.2805999517440796, 1.2517000436782837, 1.2517000436782837, 1.2517000436782837, 1.2517000436782837, 1.2517000436782837, 1.2516000270843506, 1.2516000270843506, 1.2516000270843506, 1.2472000122070312, 1.2342000007629395, 1.205199956893921, 1.132200002670288, 1.1520999670028687, 1.1519999504089355, 1.1476000547409058, 1.1861000061035156, 1.1828999519348145, 0.8420000076293945, 0.8543999791145325, 0.9620000123977661, 0.5392000079154968, 0.4426000118255615, 0.1858000010251999, 0.6992999911308289, 0.35690000653266907, 0.005400000140070915, 0.7906000018119812, -0.031199999153614044, 0.4140999913215637, 0.31279999017715454, 0.9140999913215637, 0.0835999995470047, 1.0292999744415283, 0.47850000858306885, -0.10769999772310257, -0.054999999701976776, -0.19020000100135803, 0.16439999639987946, -0.09570000320672989, -0.21969999372959137, 0.6492999792098999, 0.5005000233650208, 0.8212000131607056, 0.22550000250339508, 0.08720000088214874, 1.5369999408721924, 1.5059000253677368, 1.4627000093460083, 1.4625999927520752, 1.4625999927520752, 1.4625999927520752, 1.462499976158142, 1.462399959564209, 1.462399959564209, 1.462399959564209, 1.4622999429702759, 1.4622999429702759, 1.4622999429702759, 1.4622999429702759, 1.4622999429702759, 1.4622999429702759, 1.4622000455856323, 1.4605000019073486, 1.4375, 1.4005999565124512, 1.374500036239624, 1.3733999729156494, 1.364300012588501, 1.3626999855041504, 1.329699993133545, 1.3252999782562256, 1.3241000175476074, 1.3001999855041504, 1.2999000549316406, 1.267300009727478, 1.2626999616622925, 1.1500999927520752, 1.1461000442504883, 0.40299999713897705, 0.8414000272750854, 0.42879998683929443, 1.0145000219345093, 0.43650001287460327, 0.10540000349283218, 0.3935000002384186, 0.7150999903678894, 0.6531000137329102, 0.6046000123023987, 0.5769000053405762, 1.056399941444397, 1.1268999576568604, 0.859499990940094, 0.5903000235557556, 0.499099999666214, 0.5324000120162964, -0.5264999866485596, 0.3248000144958496, 0.029999999329447746, 0.0031999999191612005, 0.04659999907016754, -0.15700000524520874, -0.2775999903678894, 0.2160000056028366, -0.4830000102519989, 0.2786000072956085, 0.31029999256134033, 0.5672000050544739, -0.5160999894142151, 0.2603999972343445, 1.6495000123977661, 1.5982999801635742, 1.5277999639511108, 1.5063999891281128, 1.5063999891281128, 1.5063999891281128, 1.5062999725341797, 1.5062999725341797, 1.5061999559402466, 1.5061999559402466, 1.5061999559402466, 1.5061999559402466, 1.5061999559402466, 1.506100058555603, 1.506100058555603, 1.506100058555603, 1.506100058555603, 1.506100058555603, 1.506100058555603, 1.50600004196167, 1.50600004196167, 1.50600004196167, 1.5059000253677368, 1.4667999744415283, 1.4658000469207764, 1.4579999446868896, 1.431399941444397, 1.3824000358581543, 1.3775999546051025, 1.3711999654769897, 1.2733999490737915, 1.2935999631881714, 0.9434999823570251, 1.0881999731063843, 0.9836000204086304, 0.4106999933719635, 0.9613000154495239, 0.8269000053405762, 1.1818000078201294, 1.174299955368042, 0.9857000112533569, 0.4219000041484833, 1.061400055885315, 0.5835000276565552, 0.8568999767303467, 0.8300999999046326, 1.1907000541687012, 1.1886999607086182, 1.188099980354309, 0.6953999996185303, 0.8657000064849854, 0.20980000495910645, 0.462799996137619, 0.6297000050544739, -0.09960000216960907, 0.30550000071525574, -0.030400000512599945, -0.31279999017715454, -0.08959999680519104, 0.42879998683929443, -0.06239999830722809, -0.2833999991416931, 0.553600013256073, 0.259799987077713, -0.48339998722076416, 0.27160000801086426, 1.6438000202178955, 1.643399953842163, 1.6373000144958496, 1.6296000480651855, 1.5503000020980835, 1.5503000020980835, 1.5501999855041504, 1.5500999689102173, 1.5500999689102173, 1.5500999689102173, 1.5500999689102173, 1.5499999523162842, 1.5499999523162842, 1.5499999523162842, 1.5499999523162842, 1.5499000549316406, 1.5226000547409058, 1.5108000040054321, 1.4204000234603882, 1.4169000387191772, 1.4005999565124512, 1.3463000059127808, 1.3329999446868896, 1.3329999446868896, 1.3329999446868896, 1.3329999446868896, 1.3329999446868896, 1.3329999446868896, 1.332900047302246, 1.332900047302246, 1.3238999843597412, 1.2598999738693237, 1.3015999794006348, 1.2214000225067139, 1.2165000438690186, 1.2259000539779663, 1.225600004196167, 1.2623000144958496, 1.2619999647140503, 1.1166000366210938, 0.43459999561309814, 0.5238000154495239, 0.67330002784729, 0.3783999979496002, 0.5986999869346619, 0.29330000281333923, 0.23170000314712524, -0.31450000405311584, 0.8973000049591064, 0.5149999856948853, 0.8863000273704529, 0.875, 1.0750999450683594, 1.0740000009536743, 0.09309999644756317, 0.44620001316070557, 0.6496999859809875, 0.4449000060558319, -0.5670999884605408, -0.4271000027656555, 0.1996999979019165, 0.39959999918937683, -0.43160000443458557, -0.006899999920278788, 0.5922999978065491, -0.5871000289916992, -0.44350001215934753]}, \"token.table\": {\"Topic\": [3, 3, 6, 2, 2, 2, 1, 2, 6, 1, 2, 5, 5, 2, 4, 5, 1, 1, 1, 2, 3, 1, 2, 3, 4, 5, 6, 1, 2, 3, 4, 5, 6, 1, 6, 1, 4, 1, 2, 3, 4, 5, 6, 2, 5, 2, 6, 2, 3, 1, 2, 3, 4, 5, 6, 4, 2, 5, 3, 4, 6, 6, 3, 2, 1, 2, 3, 4, 5, 6, 1, 2, 3, 4, 5, 6, 1, 2, 3, 1, 2, 4, 5, 6, 6, 2, 6, 1, 5, 4, 3, 4, 1, 2, 3, 4, 5, 1, 2, 3, 4, 5, 6, 1, 1, 3, 4, 6, 2, 1, 4, 5, 6, 5, 4, 3, 3, 4, 5, 6, 3, 5, 3, 2, 2, 5, 1, 2, 3, 4, 5, 6, 6, 1, 2, 3, 4, 5, 6, 4, 1, 2, 3, 4, 5, 6, 3, 4, 1, 3, 5, 4, 6, 3, 4, 1, 2, 3, 6, 1, 2, 3, 4, 6, 1, 1, 3, 4, 5, 6, 2, 4, 1, 1, 2, 3, 4, 5, 6, 1, 2, 4, 5, 6, 4, 1, 5, 6, 1, 1, 2, 3, 4, 6, 3, 2, 1, 2, 3, 4, 5, 6, 5, 3, 2, 2, 3, 6, 6, 1, 2, 3, 5, 6, 1, 3, 4, 5, 6, 1, 4, 1, 4, 3, 5, 1, 5, 1, 3, 4, 3, 4, 5, 6, 3, 4, 5, 6, 1, 2, 3, 4, 5, 2, 1, 3, 6, 1, 3, 5, 6, 1, 3, 5, 2, 4, 6, 3, 1, 1, 6, 3, 1, 2, 3, 4, 5, 6, 1, 4, 1, 2, 3, 4, 5, 6, 4, 3, 4, 5, 6, 6, 4, 2, 4, 3, 6, 1, 1, 3, 3, 5, 2, 4, 1, 1, 2, 3, 4, 6, 1, 2, 6, 1, 2, 4, 5, 6, 2, 3, 4, 6, 1, 2, 4, 2, 1, 2, 3, 5, 1, 2, 6, 1, 2, 3, 4, 5, 6, 1, 2, 3, 4, 5, 1, 2, 3, 4, 5, 6, 1, 3, 3, 5, 3, 3, 3, 3, 5, 1, 1, 2, 4, 6, 5, 4, 2, 3, 4, 1, 2, 6, 1, 3, 4, 5, 6, 1, 2, 3, 4, 5, 6, 2, 1, 2, 3, 4, 5, 6, 4, 1, 2, 4, 5, 6, 1, 2, 3, 4, 5, 6, 1, 2, 4, 6, 2, 6, 1, 2, 3, 4, 6, 1, 2, 3, 4, 6, 6, 1, 2, 3, 5, 6, 1, 2, 3, 4, 5, 6, 2, 3, 5, 6, 1, 2, 3, 4, 5, 3, 1, 3, 4, 3, 2, 3, 4, 5, 6, 2, 2, 5, 3, 1, 2, 3, 4, 1, 3, 4, 5, 6, 6, 6, 5, 2, 5, 6, 1, 2, 3, 4, 5, 6, 6, 1, 2, 4, 5, 6, 2, 1, 2, 3, 4, 5, 6, 1, 3, 5, 5, 1, 2, 3, 4, 5, 6, 1, 2, 3, 4, 5, 6, 6, 1, 5, 6, 6, 5, 1, 2, 3, 5, 6, 5, 6, 5, 4, 4, 2, 4, 6, 3, 5, 1, 2, 3, 4, 5, 6, 2, 1, 2, 3, 4, 5, 6, 4, 4, 3, 6, 5, 1, 2, 3, 4, 5, 6, 2, 3, 5, 6, 4, 6, 5, 1, 6, 1, 4, 5, 1, 2, 3, 4, 5, 6, 3, 2, 6, 1, 2, 3, 4, 5, 6, 1, 1, 3, 4, 5, 6, 5, 6, 3, 4, 5, 6, 4, 1, 2, 3, 4, 6, 1, 4, 1, 3, 5, 5, 2, 3, 2, 1, 2, 3, 4, 6, 1, 3, 4, 5, 6, 2, 1, 4, 6, 1, 6, 1, 2, 1, 2, 3, 4, 5, 6, 4, 1, 4, 5, 6, 2, 3, 4, 5, 6, 1, 2, 4, 5, 6, 3, 1, 4, 1, 2, 4, 5, 1, 3, 5, 6, 5, 2, 1, 2, 3, 4, 5, 6, 4, 1, 2, 3, 4, 5, 6, 2, 4, 5, 2, 4, 1, 2, 4, 2, 3, 5, 1, 2, 3, 4, 5, 6, 3, 5, 1, 4, 6, 2, 3, 5, 6, 1, 1, 2, 3, 5, 1, 4, 6, 2, 4, 6, 1, 3, 1, 2, 5, 2, 3, 4, 1, 1, 2, 4, 5, 6, 1, 2, 3, 4, 5, 6, 4, 1, 3, 1, 2, 3, 4, 5, 1, 2, 3, 4, 5, 6, 1, 2, 3, 4, 5, 2, 4, 5, 6, 3, 6, 5, 5], \"Freq\": [0.7440847754478455, 0.3018948435783386, 0.6037896871566772, 0.4927126467227936, 0.4927104413509369, 0.4927122890949249, 0.24943473935127258, 0.24943473935127258, 0.49886947870254517, 0.24596494436264038, 0.49192988872528076, 0.24596494436264038, 0.8947751522064209, 0.24803537130355835, 0.24803537130355835, 0.4960707426071167, 0.48793184757232666, 0.4879317283630371, 0.18489226698875427, 0.18489226698875427, 0.5546767711639404, 0.07298331707715988, 0.18245829641819, 0.14596663415431976, 0.2554416060447693, 0.14596663415431976, 0.21894995868206024, 0.18585588037967682, 0.09292794018983841, 0.09292794018983841, 0.18585588037967682, 0.2787838280200958, 0.09292794018983841, 0.487929105758667, 0.5040858387947083, 0.298871785402298, 0.597743570804596, 0.2236804962158203, 0.19572043418884277, 0.2796006202697754, 0.1398003101348877, 0.11184024810791016, 0.05592012405395508, 0.4927122890949249, 0.4969852566719055, 0.7387169599533081, 0.5040843486785889, 0.4922837018966675, 0.4959341287612915, 0.2477291077375412, 0.0619322769343853, 0.1857968270778656, 0.1857968270778656, 0.2477291077375412, 0.0619322769343853, 0.5012377500534058, 0.2977210581302643, 0.5954421162605286, 0.2509100139141083, 0.5018200278282166, 0.2509100139141083, 0.5040033459663391, 0.7440850734710693, 0.4927104413509369, 0.17364272475242615, 0.15627846121788025, 0.17364272475242615, 0.24309982359409332, 0.017364272847771645, 0.24309982359409332, 0.08326065540313721, 0.11101420223712921, 0.13876774907112122, 0.24978195130825043, 0.16652131080627441, 0.24978195130825043, 0.24569427967071533, 0.49138855934143066, 0.24569427967071533, 0.09315696358680725, 0.372627854347229, 0.372627854347229, 0.09315696358680725, 0.09315696358680725, 0.504086434841156, 0.3012023866176605, 0.602404773235321, 0.49029847979545593, 0.24514923989772797, 0.5012369751930237, 0.3005792796611786, 0.6011585593223572, 0.23358696699142456, 0.3114492893218994, 0.07786232233047485, 0.1557246446609497, 0.1557246446609497, 0.1591395139694214, 0.2121860235929489, 0.2121860235929489, 0.05304650589823723, 0.26523253321647644, 0.10609301179647446, 0.48792922496795654, 0.21443921327590942, 0.21443921327590942, 0.21443921327590942, 0.42887842655181885, 0.7383779883384705, 0.48793116211891174, 0.7515803575515747, 0.2505267858505249, 0.7575187683105469, 0.49698466062545776, 0.5012359619140625, 0.4959346652030945, 0.136992946267128, 0.136992946267128, 0.136992946267128, 0.41097885370254517, 0.4970583915710449, 0.49698448181152344, 0.49593403935432434, 0.49271172285079956, 0.24748903512954712, 0.49497807025909424, 0.2290441393852234, 0.17178310453891754, 0.05726103484630585, 0.2290441393852234, 0.17178310453891754, 0.17178310453891754, 0.5040876865386963, 0.2921828329563141, 0.056189004331827164, 0.2022804170846939, 0.10114020854234695, 0.23599381744861603, 0.11237800866365433, 0.5004605650901794, 0.2120371311903, 0.24737665057182312, 0.1590278446674347, 0.17669761180877686, 0.12368832528591156, 0.08834880590438843, 0.7456875443458557, 0.2485625147819519, 0.48954007029533386, 0.4257238209247589, 0.6385857462882996, 0.37798741459846497, 0.37798741459846497, 0.24988792836666107, 0.49977585673332214, 0.1491895169019699, 0.2983790338039398, 0.1491895169019699, 0.2983790338039398, 0.4879321753978729, 0.3329622745513916, 0.1664811372756958, 0.499443382024765, 0.1664811372756958, 0.7303320169448853, 0.1486419141292572, 0.4459257423877716, 0.1486419141292572, 0.1486419141292572, 0.1486419141292572, 0.49638473987579346, 0.49638473987579346, 0.48793086409568787, 0.22816121578216553, 0.11408060789108276, 0.3422418236732483, 0.22816121578216553, 0.11408060789108276, 0.5018173456192017, 0.4216018319129944, 0.1405339390039444, 0.1405339390039444, 0.2108009159564972, 0.0702669695019722, 0.5012353658676147, 0.1867721974849701, 0.5603165626525879, 0.1867721974849701, 0.735036313533783, 0.25906553864479065, 0.12953276932239532, 0.1942991465330124, 0.12953276932239532, 0.25906553864479065, 0.7440847754478455, 0.7404495477676392, 0.26167985796928406, 0.08722662180662155, 0.08722662180662155, 0.1744532436132431, 0.26167985796928406, 0.08722662180662155, 0.4969855844974518, 0.4959346055984497, 0.4927113652229309, 0.8855560421943665, 0.49593424797058105, 0.5040854811668396, 0.7532253265380859, 0.11459532380104065, 0.2291906476020813, 0.11459532380104065, 0.11459532380104065, 0.2291906476020813, 0.13641899824142456, 0.13641899824142456, 0.13641899824142456, 0.2728379964828491, 0.4092569947242737, 0.48957791924476624, 0.5012362599372864, 0.1876768320798874, 0.7507073283195496, 0.24843133985996246, 0.7452940344810486, 0.5866077542304993, 0.29330387711524963, 0.14926467835903168, 0.44779402017593384, 0.44779402017593384, 0.6153614521026611, 0.0879087820649147, 0.0879087820649147, 0.1758175641298294, 0.6962746977806091, 0.09946781396865845, 0.09946781396865845, 0.09946781396865845, 0.1644873023033142, 0.493461936712265, 0.1644873023033142, 0.1644873023033142, 0.1644873023033142, 0.4927125871181488, 0.2960456907749176, 0.5920913815498352, 0.5040873289108276, 0.29681095480918884, 0.09893698245286942, 0.4946849048137665, 0.09893698245286942, 0.8752773404121399, 0.7440847754478455, 0.49698489904403687, 0.2502887547016144, 0.5005775094032288, 0.2502887547016144, 0.4959339201450348, 0.4879305958747864, 0.4879305362701416, 0.7532250881195068, 0.7440850138664246, 0.19771340489387512, 0.2965700924396515, 0.2965700924396515, 0.09885670244693756, 0.09885670244693756, 0.09885670244693756, 0.4879281520843506, 0.5004995465278625, 0.26036861538887024, 0.1115865483880043, 0.1115865483880043, 0.18597759306430817, 0.18597759306430817, 0.14878207445144653, 0.5012359023094177, 0.18867720663547516, 0.18867720663547516, 0.18867720663547516, 0.5660315752029419, 0.5040837526321411, 0.4998532831668854, 0.49506476521492004, 0.5012356042861938, 0.49593430757522583, 0.7574024200439453, 0.48856064677238464, 0.4879313111305237, 0.4959343671798706, 0.74381023645401, 0.49698564410209656, 0.49271199107170105, 0.5004497170448303, 0.4879283607006073, 0.18592721223831177, 0.22311265766620636, 0.22311265766620636, 0.26029810309410095, 0.11155632883310318, 0.2501471936702728, 0.2501471936702728, 0.5002943873405457, 0.26300981640815735, 0.08766994625329971, 0.35067978501319885, 0.08766994625329971, 0.17533989250659943, 0.1505393534898758, 0.1505393534898758, 0.3010787069797516, 0.3010787069797516, 0.492456316947937, 0.1641521006822586, 0.3283042013645172, 0.7380059957504272, 0.1059618890285492, 0.1059618890285492, 0.3178856670856476, 0.3178856670856476, 0.24939113855361938, 0.24939113855361938, 0.49878227710723877, 0.5420379638671875, 0.0774339959025383, 0.0774339959025383, 0.0774339959025383, 0.1548679918050766, 0.0774339959025383, 0.42139461636543274, 0.10534865409135818, 0.10534865409135818, 0.10534865409135818, 0.21069730818271637, 0.07817840576171875, 0.23453521728515625, 0.07817840576171875, 0.07817840576171875, 0.39089202880859375, 0.07817840576171875, 0.29604580998420715, 0.5920916199684143, 0.21296587586402893, 0.6388975977897644, 0.7440853118896484, 0.7440852522850037, 0.49593397974967957, 0.7441767454147339, 0.37208837270736694, 0.4879346787929535, 0.18775947391986847, 0.18775947391986847, 0.18775947391986847, 0.5632784366607666, 0.49698466062545776, 0.5012369155883789, 0.49623289704322815, 0.16541096568107605, 0.3308219313621521, 0.3676631450653076, 0.49021750688552856, 0.12255437672138214, 0.26187920570373535, 0.3491722643375397, 0.08729306608438492, 0.08729306608438492, 0.08729306608438492, 0.10647901147603989, 0.21295802295207977, 0.21295802295207977, 0.31943702697753906, 0.10647901147603989, 0.10647901147603989, 0.49271154403686523, 0.23510324954986572, 0.07836774736642838, 0.07836774736642838, 0.3134709894657135, 0.07836774736642838, 0.15673549473285675, 0.9026737213134766, 0.29792320728302, 0.074480801820755, 0.22344240546226501, 0.14896160364151, 0.22344240546226501, 0.14443297684192657, 0.1925773024559021, 0.24072162806987762, 0.048144325613975525, 0.048144325613975525, 0.28886595368385315, 0.5379554033279419, 0.13448885083198547, 0.26897770166397095, 0.13448885083198547, 0.4927108883857727, 0.7532252669334412, 0.14913634955883026, 0.14913634955883026, 0.37284085154533386, 0.07456817477941513, 0.2237045168876648, 0.1658264696598053, 0.24873970448970795, 0.08291323482990265, 0.24873970448970795, 0.24873970448970795, 0.7575901746749878, 0.2777547240257263, 0.18516981601715088, 0.09258490800857544, 0.2777547240257263, 0.09258490800857544, 0.27247560024261475, 0.12110026925802231, 0.15137533843517303, 0.15137533843517303, 0.24220053851604462, 0.09082520008087158, 0.4455052614212036, 0.29700350761413574, 0.14850175380706787, 0.14850175380706787, 0.12407061457633972, 0.12407061457633972, 0.12407061457633972, 0.12407061457633972, 0.37221184372901917, 0.8925063610076904, 0.5863480567932129, 0.29317402839660645, 0.5012191534042358, 0.49593502283096313, 0.4061111509799957, 0.1353703886270523, 0.1353703886270523, 0.1353703886270523, 0.1353703886270523, 0.4927150011062622, 0.37205442786216736, 0.7441088557243347, 0.4961684048175812, 0.4413633942604065, 0.294242262840271, 0.1471211314201355, 0.1471211314201355, 0.17521706223487854, 0.08760853111743927, 0.08760853111743927, 0.43804267048835754, 0.08760853111743927, 0.5040848851203918, 0.7532252669334412, 0.49698519706726074, 0.49536892771720886, 0.6660228371620178, 0.16650570929050446, 0.23822352290153503, 0.05955588072538376, 0.05955588072538376, 0.05955588072538376, 0.35733529925346375, 0.17866764962673187, 0.7532253265380859, 0.09839145839214325, 0.5903487801551819, 0.09839145839214325, 0.09839145839214325, 0.7575836181640625, 0.49271222949028015, 0.0746365487575531, 0.0746365487575531, 0.2239096611738205, 0.2985461950302124, 0.2239096611738205, 0.0746365487575531, 0.24728460609912872, 0.24728460609912872, 0.49456921219825745, 0.4969855844974518, 0.1565956473350525, 0.39148908853530884, 0.07829782366752625, 0.07829782366752625, 0.07829782366752625, 0.23489345610141754, 0.21195583045482635, 0.18840518593788147, 0.2590571343898773, 0.09420259296894073, 0.1413038820028305, 0.09420259296894073, 0.504085898399353, 0.16509020328521729, 0.49527058005332947, 0.16509020328521729, 0.5040861964225769, 0.49665161967277527, 0.352385550737381, 0.07047711312770844, 0.352385550737381, 0.07047711312770844, 0.14095422625541687, 0.5983286499977112, 0.2991643249988556, 0.49698537588119507, 0.5012361407279968, 0.5012356042861938, 0.738375723361969, 0.5007004141807556, 0.7532256841659546, 0.49633750319480896, 0.24816875159740448, 0.08782023936510086, 0.17564047873020172, 0.17564047873020172, 0.2634607255458832, 0.08782023936510086, 0.08782023936510086, 0.49271154403686523, 0.23474156856536865, 0.1564943790435791, 0.07824718952178955, 0.23474156856536865, 0.1564943790435791, 0.07824718952178955, 0.75301194190979, 0.5012346506118774, 0.37417250871658325, 0.37417250871658325, 0.4969843029975891, 0.3451220989227295, 0.09860631823539734, 0.147909477353096, 0.09860631823539734, 0.19721263647079468, 0.09860631823539734, 0.21236757934093475, 0.4247351586818695, 0.21236757934093475, 0.7532256245613098, 0.37798741459846497, 0.37798741459846497, 0.4969853162765503, 0.7311885356903076, 0.5040846467018127, 0.4885922968387604, 0.29901954531669617, 0.5980390906333923, 0.1069016307592392, 0.1069016307592392, 0.1069016307592392, 0.1069016307592392, 0.3207049071788788, 0.3207049071788788, 0.7440844178199768, 0.7418637275695801, 0.24728789925575256, 0.2353939563035965, 0.15692929923534393, 0.07846464961767197, 0.31385859847068787, 0.07846464961767197, 0.15692929923534393, 0.48793306946754456, 0.4931511878967285, 0.12328779697418213, 0.12328779697418213, 0.12328779697418213, 0.12328779697418213, 0.49698519706726074, 0.7532249689102173, 0.449454128742218, 0.2996360659599304, 0.1498180329799652, 0.1498180329799652, 0.501237154006958, 0.42328688502311707, 0.10582172125577927, 0.10582172125577927, 0.10582172125577927, 0.21164344251155853, 0.2989162802696228, 0.5978325605392456, 0.2471127212047577, 0.4942254424095154, 0.2471127212047577, 0.4969853162765503, 0.37101784348487854, 0.37101784348487854, 0.49271270632743835, 0.07463531196117401, 0.29854124784469604, 0.14927062392234802, 0.29854124784469604, 0.14927062392234802, 0.4927862584590912, 0.1231965646147728, 0.2463931292295456, 0.1231965646147728, 0.5040863752365112, 0.49271124601364136, 0.2149510681629181, 0.2149510681629181, 0.4299021363258362, 0.7380138635635376, 0.3690069317817688, 0.4889369308948517, 0.49271371960639954, 0.2704602777957916, 0.0676150694489479, 0.16903766989707947, 0.16903766989707947, 0.10142260044813156, 0.20284520089626312, 0.500522792339325, 0.5362061858177185, 0.13405154645442963, 0.13405154645442963, 0.13405154645442963, 0.10674552619457245, 0.2134910523891449, 0.10674552619457245, 0.4269821047782898, 0.2134910523891449, 0.10597419738769531, 0.42389678955078125, 0.10597419738769531, 0.21194839477539062, 0.10597419738769531, 0.7438096404075623, 0.7350364327430725, 0.5012378096580505, 0.4904685318470001, 0.12261713296175003, 0.12261713296175003, 0.24523426592350006, 0.2141692340373993, 0.2141692340373993, 0.2141692340373993, 0.4283384680747986, 0.49698495864868164, 0.4923996329307556, 0.30278778076171875, 0.2018585354089737, 0.16821543872356415, 0.10092926770448685, 0.1345723569393158, 0.10092926770448685, 0.5012356042861938, 0.1421050876379013, 0.1421050876379013, 0.07105254381895065, 0.21315763890743256, 0.21315763890743256, 0.1421050876379013, 0.42642742395401, 0.42642742395401, 0.4969854950904846, 0.7404731512069702, 0.24682438373565674, 0.213369682431221, 0.213369682431221, 0.6401090621948242, 0.29747527837753296, 0.5949505567550659, 0.7455837726593018, 0.4653058648109436, 0.0775509774684906, 0.2326529324054718, 0.0775509774684906, 0.0775509774684906, 0.5021451711654663, 0.4959349036216736, 0.4969850182533264, 0.5548975467681885, 0.1849658489227295, 0.1849658489227295, 0.16557544469833374, 0.16557544469833374, 0.49672630429267883, 0.16557544469833374, 0.7350364327430725, 0.1854144036769867, 0.1854144036769867, 0.1854144036769867, 0.5562431812286377, 0.21441614627838135, 0.643248438835144, 0.21441614627838135, 0.49271160364151, 0.3028712868690491, 0.6057425737380981, 0.29604580998420715, 0.5920916199684143, 0.7322277426719666, 0.3661138713359833, 0.4969850778579712, 0.2481566220521927, 0.4963132441043854, 0.2481566220521927, 0.4879292845726013, 0.4434480369091034, 0.1478160172700882, 0.1478160172700882, 0.1478160172700882, 0.1478160172700882, 0.06771179288625717, 0.16927948594093323, 0.13542358577251434, 0.16927948594093323, 0.4062707722187042, 0.033855896443128586, 0.5012350678443909, 0.48793211579322815, 0.4959346652030945, 0.11391957104206085, 0.34175872802734375, 0.11391957104206085, 0.2278391420841217, 0.11391957104206085, 0.15668319165706635, 0.19585399329662323, 0.23502478003501892, 0.07834159582853317, 0.11751239001750946, 0.23502478003501892, 0.2954016327857971, 0.44310247898101807, 0.14770081639289856, 0.14770081639289856, 0.14770081639289856, 0.27226126194000244, 0.13613063097000122, 0.40839189291000366, 0.27226126194000244, 0.2519805431365967, 0.7559416890144348, 0.49698489904403687, 0.49698495864868164], \"Term\": [\"acalmar\", \"acesso\", \"acesso\", \"acontecer\", \"acusado\", \"adiar\", \"agente\", \"agente\", \"agente\", \"alerta\", \"alerta\", \"alerta\", \"alunos\", \"amazonia\", \"amazonia\", \"amazonia\", \"ambiente\", \"amor\", \"andreiasadi\", \"andreiasadi\", \"andreiasadi\", \"anos\", \"anos\", \"anos\", \"anos\", \"anos\", \"anos\", \"antes\", \"antes\", \"antes\", \"antes\", \"antes\", \"antes\", \"anulado\", \"aparec\", \"aplicativo\", \"aplicativo\", \"apos\", \"apos\", \"apos\", \"apos\", \"apos\", \"apos\", \"apostar\", \"apresentam\", \"aras\", \"arrume\", \"assinada\", \"assoc\", \"auxilio\", \"auxilio\", \"auxilio\", \"auxilio\", \"auxilio\", \"auxilio\", \"avaliacao\", \"azevedo\", \"azevedo\", \"bastidores\", \"bastidores\", \"bastidores\", \"belarus\", \"bell\", \"bernardinho\", \"bolsonaro\", \"bolsonaro\", \"bolsonaro\", \"bolsonaro\", \"bolsonaro\", \"bolsonaro\", \"brasil\", \"brasil\", \"brasil\", \"brasil\", \"brasil\", \"brasil\", \"bruno\", \"bruno\", \"bruno\", \"cada\", \"cada\", \"cada\", \"cada\", \"cada\", \"caem\", \"caiu\", \"caiu\", \"campanha\", \"campanha\", \"cardiaca\", \"carros\", \"carros\", \"casa\", \"casa\", \"casa\", \"casa\", \"casa\", \"casos\", \"casos\", \"casos\", \"casos\", \"casos\", \"casos\", \"catarina\", \"causa\", \"causa\", \"causa\", \"causa\", \"causas\", \"causou\", \"ceara\", \"ceara\", \"celebra\", \"celulares\", \"chegar\", \"cobrancas\", \"combate\", \"combate\", \"combate\", \"combate\", \"comemorar\", \"computadores\", \"conduzem\", \"consequencias\", \"conta\", \"conta\", \"contra\", \"contra\", \"contra\", \"contra\", \"contra\", \"contra\", \"contribuir\", \"coronavirus\", \"coronavirus\", \"coronavirus\", \"coronavirus\", \"coronavirus\", \"coronavirus\", \"coveiro\", \"covid\", \"covid\", \"covid\", \"covid\", \"covid\", \"covid\", \"critica\", \"critica\", \"cuidado\", \"dados\", \"dados\", \"decisao\", \"decisao\", \"decreto\", \"decreto\", \"defende\", \"defende\", \"defende\", \"defende\", \"delegados\", \"dentro\", \"dentro\", \"dentro\", \"dentro\", \"depoem\", \"desde\", \"desde\", \"desde\", \"desde\", \"desde\", \"desejos\", \"desejos\", \"desgastado\", \"diadasmaes\", \"diadasmaes\", \"diadasmaes\", \"diadasmaes\", \"diadasmaes\", \"diario\", \"dias\", \"dias\", \"dias\", \"dias\", \"dias\", \"disparar\", \"distanciamento\", \"distanciamento\", \"distanciamento\", \"duplo\", \"durante\", \"durante\", \"durante\", \"durante\", \"durante\", \"dvllv\", \"eduardo\", \"emergencial\", \"emergencial\", \"emergencial\", \"emergencial\", \"emergencial\", \"emergencial\", \"emprestados\", \"encontrar\", \"entrar\", \"entrevista\", \"equipe\", \"equivoco\", \"escritorio\", \"estado\", \"estado\", \"estado\", \"estado\", \"estado\", \"estao\", \"estao\", \"estao\", \"estao\", \"estao\", \"estar\", \"estresse\", \"estudo\", \"estudo\", \"estudos\", \"estudos\", \"exame\", \"exame\", \"exames\", \"exames\", \"exames\", \"fake\", \"fake\", \"fake\", \"fake\", \"fatooufake\", \"fatooufake\", \"fatooufake\", \"fatooufake\", \"fazem\", \"fazem\", \"fazem\", \"fazem\", \"fazem\", \"fazia\", \"federais\", \"federais\", \"feed\", \"feira\", \"feira\", \"feira\", \"feira\", \"feita\", \"feitas\", \"filas\", \"flexibilizacao\", \"flexibilizacao\", \"flexibilizacao\", \"forca\", \"fritura\", \"funcionar\", \"gestao\", \"gkmms\", \"globonews\", \"globonews\", \"globonews\", \"globonews\", \"globonews\", \"globonews\", \"goias\", \"governadores\", \"governo\", \"governo\", \"governo\", \"governo\", \"governo\", \"governo\", \"gradual\", \"guedes\", \"guedes\", \"guedes\", \"guedes\", \"guerreiro\", \"hora\", \"ibaneis\", \"ibge\", \"idosa\", \"idoso\", \"idosos\", \"igreja\", \"ilustra\", \"inicio\", \"internacao\", \"intrigam\", \"irmao\", \"isolado\", \"isolamento\", \"isolamento\", \"isolamento\", \"isolamento\", \"isolamento\", \"jovem\", \"jovem\", \"jovem\", \"justica\", \"justica\", \"justica\", \"justica\", \"justica\", \"leia\", \"leia\", \"leia\", \"leia\", \"libera\", \"libera\", \"libera\", \"limite\", \"live\", \"live\", \"live\", \"live\", \"livra\", \"livra\", \"livra\", \"lockdown\", \"lockdown\", \"lockdown\", \"lockdown\", \"lockdown\", \"lockdown\", \"maes\", \"maes\", \"maes\", \"maes\", \"maes\", \"maio\", \"maio\", \"maio\", \"maio\", \"maio\", \"maio\", \"maior\", \"maior\", \"manaus\", \"manaus\", \"manif\", \"manipulada\", \"mapear\", \"maranhao\", \"maranhao\", \"marcha\", \"mascara\", \"mascara\", \"mascara\", \"mascara\", \"maternidade\", \"matou\", \"medico\", \"medico\", \"medico\", \"medida\", \"medida\", \"medida\", \"meio\", \"meio\", \"meio\", \"meio\", \"meio\", \"meses\", \"meses\", \"meses\", \"meses\", \"meses\", \"meses\", \"meuxgyzlre\", \"milhoes\", \"milhoes\", \"milhoes\", \"milhoes\", \"milhoes\", \"milhoes\", \"militares\", \"ministerio\", \"ministerio\", \"ministerio\", \"ministerio\", \"ministerio\", \"ministro\", \"ministro\", \"ministro\", \"ministro\", \"ministro\", \"ministro\", \"ministros\", \"ministros\", \"ministros\", \"ministros\", \"monitorar\", \"morar\", \"moro\", \"moro\", \"moro\", \"moro\", \"moro\", \"morre\", \"morre\", \"morre\", \"morre\", \"morre\", \"morreram\", \"morte\", \"morte\", \"morte\", \"morte\", \"morte\", \"mortes\", \"mortes\", \"mortes\", \"mortes\", \"mortes\", \"mortes\", \"mortos\", \"mortos\", \"mortos\", \"mortos\", \"mostram\", \"mostram\", \"mostram\", \"mostram\", \"mostram\", \"mostre\", \"motorista\", \"motorista\", \"motoristas\", \"muita\", \"mundo\", \"mundo\", \"mundo\", \"mundo\", \"mundo\", \"mutacoes\", \"naiara\", \"naiara\", \"natural\", \"nelson\", \"nelson\", \"nelson\", \"nelson\", \"nesta\", \"nesta\", \"nesta\", \"nesta\", \"nesta\", \"neta\", \"niro\", \"nomeacao\", \"noruega\", \"noticia\", \"noticia\", \"novo\", \"novo\", \"novo\", \"novo\", \"novo\", \"novo\", \"numer\", \"oassunto\", \"oassunto\", \"oassunto\", \"oassunto\", \"onde\", \"orla\", \"pacientes\", \"pacientes\", \"pacientes\", \"pacientes\", \"pacientes\", \"pacientes\", \"paga\", \"paga\", \"paga\", \"pagodinho\", \"pais\", \"pais\", \"pais\", \"pais\", \"pais\", \"pais\", \"pandemia\", \"pandemia\", \"pandemia\", \"pandemia\", \"pandemia\", \"pandemia\", \"paraiba\", \"parcela\", \"parcela\", \"parcela\", \"pare\", \"passo\", \"paulo\", \"paulo\", \"paulo\", \"paulo\", \"paulo\", \"pedidos\", \"pedidos\", \"pediram\", \"pega\", \"pequeno\", \"perdeu\", \"pernambuco\", \"perturbacao\", \"pesquisas\", \"pesquisas\", \"pessoas\", \"pessoas\", \"pessoas\", \"pessoas\", \"pessoas\", \"pessoas\", \"podcast\", \"pode\", \"pode\", \"pode\", \"pode\", \"pode\", \"pode\", \"politica\", \"postos\", \"preocupacao\", \"preocupacao\", \"preparam\", \"presidente\", \"presidente\", \"presidente\", \"presidente\", \"presidente\", \"presidente\", \"primeiro\", \"primeiro\", \"primeiro\", \"procuradoria\", \"producao\", \"producao\", \"professores\", \"pronto\", \"protecao\", \"proteger\", \"publica\", \"publica\", \"publico\", \"publico\", \"publico\", \"publico\", \"publico\", \"publico\", \"qmvfy\", \"quais\", \"quais\", \"quarentena\", \"quarentena\", \"quarentena\", \"quarentena\", \"quarentena\", \"quarentena\", \"quatro\", \"queda\", \"queda\", \"queda\", \"queda\", \"queda\", \"razao\", \"real\", \"recebe\", \"recebe\", \"recebe\", \"recebe\", \"receberam\", \"registra\", \"registra\", \"registra\", \"registra\", \"registra\", \"relaxamento\", \"relaxamento\", \"remedio\", \"remedio\", \"remedio\", \"rende\", \"repercussao\", \"repercussao\", \"responde\", \"reuniao\", \"reuniao\", \"reuniao\", \"reuniao\", \"reuniao\", \"rodizio\", \"rodizio\", \"rodizio\", \"rodizio\", \"rolar\", \"sabem\", \"sair\", \"sair\", \"sair\", \"santa\", \"santa\", \"saopaulo\", \"sars\", \"saude\", \"saude\", \"saude\", \"saude\", \"saude\", \"saude\", \"seguir\", \"segunda\", \"segunda\", \"segunda\", \"segunda\", \"segundo\", \"segundo\", \"segundo\", \"segundo\", \"segundo\", \"semana\", \"semana\", \"semana\", \"semana\", \"semana\", \"sendo\", \"separados\", \"sequencia\", \"sera\", \"sera\", \"sera\", \"sera\", \"servidores\", \"servidores\", \"servidores\", \"servidores\", \"sexta\", \"sindromes\", \"sobre\", \"sobre\", \"sobre\", \"sobre\", \"sobre\", \"sobre\", \"sobrevive\", \"social\", \"social\", \"social\", \"social\", \"social\", \"social\", \"sonhos\", \"sonhos\", \"supera\", \"supremo\", \"supremo\", \"suspeita\", \"suspeita\", \"suspeita\", \"suspende\", \"suspende\", \"suspensao\", \"teich\", \"teich\", \"teich\", \"teich\", \"teich\", \"temporario\", \"tentar\", \"terminar\", \"testes\", \"testes\", \"testes\", \"todos\", \"todos\", \"todos\", \"todos\", \"trata\", \"tratamento\", \"tratamento\", \"tratamento\", \"tratamento\", \"tres\", \"tres\", \"tres\", \"tribunal\", \"ultimas\", \"ultimas\", \"universidades\", \"universidades\", \"usou\", \"usou\", \"usuarios\", \"vacina\", \"vacina\", \"vacina\", \"valer\", \"veiculos\", \"veiculos\", \"veiculos\", \"veiculos\", \"veiculos\", \"veja\", \"veja\", \"veja\", \"veja\", \"veja\", \"veja\", \"vence\", \"vencer\", \"venda\", \"vida\", \"vida\", \"vida\", \"vida\", \"vida\", \"video\", \"video\", \"video\", \"video\", \"video\", \"video\", \"videos\", \"videos\", \"videos\", \"videos\", \"videos\", \"vitima\", \"vitima\", \"vitima\", \"vitima\", \"voce\", \"voce\", \"voces\", \"zeca\"]}, \"R\": 30, \"lambda.step\": 0.01, \"plot.opts\": {\"xlab\": \"PC1\", \"ylab\": \"PC2\"}, \"topic.order\": [2, 1, 5, 3, 4, 6]};\n",
              "\n",
              "function LDAvis_load_lib(url, callback){\n",
              "  var s = document.createElement('script');\n",
              "  s.src = url;\n",
              "  s.async = true;\n",
              "  s.onreadystatechange = s.onload = callback;\n",
              "  s.onerror = function(){console.warn(\"failed to load library \" + url);};\n",
              "  document.getElementsByTagName(\"head\")[0].appendChild(s);\n",
              "}\n",
              "\n",
              "if(typeof(LDAvis) !== \"undefined\"){\n",
              "   // already loaded: just create the visualization\n",
              "   !function(LDAvis){\n",
              "       new LDAvis(\"#\" + \"ldavis_el3841406748054021449222252206\", ldavis_el3841406748054021449222252206_data);\n",
              "   }(LDAvis);\n",
              "}else if(typeof define === \"function\" && define.amd){\n",
              "   // require.js is available: use it to load d3/LDAvis\n",
              "   require.config({paths: {d3: \"https://cdnjs.cloudflare.com/ajax/libs/d3/3.5.5/d3.min\"}});\n",
              "   require([\"d3\"], function(d3){\n",
              "      window.d3 = d3;\n",
              "      LDAvis_load_lib(\"https://cdn.rawgit.com/bmabey/pyLDAvis/files/ldavis.v1.0.0.js\", function(){\n",
              "        new LDAvis(\"#\" + \"ldavis_el3841406748054021449222252206\", ldavis_el3841406748054021449222252206_data);\n",
              "      });\n",
              "    });\n",
              "}else{\n",
              "    // require.js not available: dynamically load d3 & LDAvis\n",
              "    LDAvis_load_lib(\"https://cdnjs.cloudflare.com/ajax/libs/d3/3.5.5/d3.min.js\", function(){\n",
              "         LDAvis_load_lib(\"https://cdn.rawgit.com/bmabey/pyLDAvis/files/ldavis.v1.0.0.js\", function(){\n",
              "                 new LDAvis(\"#\" + \"ldavis_el3841406748054021449222252206\", ldavis_el3841406748054021449222252206_data);\n",
              "            })\n",
              "         });\n",
              "}\n",
              "</script>"
            ],
            "text/plain": [
              "PreparedData(topic_coordinates=              x         y  topics  cluster       Freq\n",
              "topic                                                \n",
              "1     -0.016847 -0.006071       1        1  18.663925\n",
              "0      0.062582  0.089573       2        1  16.817904\n",
              "4     -0.050913 -0.063403       3        1  16.690144\n",
              "2      0.073370 -0.007899       4        1  16.637285\n",
              "3     -0.101770  0.058714       5        1  15.993197\n",
              "5      0.033578 -0.070913       6        1  15.197541, topic_info=            Term       Freq      Total Category  logprob  loglift\n",
              "29   coronavirus  88.000000  88.000000  Default  30.0000  30.0000\n",
              "93     bolsonaro  57.000000  57.000000  Default  29.0000  29.0000\n",
              "89          veja  29.000000  29.000000  Default  28.0000  28.0000\n",
              "266   fatooufake  10.000000  10.000000  Default  27.0000  27.0000\n",
              "265         fake  11.000000  11.000000  Default  26.0000  26.0000\n",
              "..           ...        ...        ...      ...      ...      ...\n",
              "103        sobre   2.933711  29.723787   Topic6  -6.0290  -0.4316\n",
              "154       contra   2.635729  17.463882   Topic6  -6.1361  -0.0069\n",
              "108       estado   2.397982   8.726359   Topic6  -6.2307   0.5923\n",
              "272       mortes   2.790739  33.030479   Topic6  -6.0790  -0.5871\n",
              "129   isolamento   2.622862  26.892244   Topic6  -6.1410  -0.4435\n",
              "\n",
              "[424 rows x 6 columns], token_table=      Topic      Freq       Term\n",
              "term                            \n",
              "2014      3  0.744085    acalmar\n",
              "990       3  0.301895     acesso\n",
              "990       6  0.603790     acesso\n",
              "1723      2  0.492713  acontecer\n",
              "104       2  0.492710    acusado\n",
              "...     ...       ...        ...\n",
              "771       6  0.272261     vitima\n",
              "408       3  0.251981       voce\n",
              "408       6  0.755942       voce\n",
              "2778      5  0.496985      voces\n",
              "2780      5  0.496985       zeca\n",
              "\n",
              "[741 rows x 3 columns], R=30, lambda_step=0.01, plot_opts={'xlab': 'PC1', 'ylab': 'PC2'}, topic_order=[2, 1, 5, 3, 4, 6])"
            ]
          },
          "metadata": {
            "tags": []
          },
          "execution_count": 33
        }
      ]
    },
    {
      "cell_type": "code",
      "metadata": {
        "id": "IdITqdzjTDOl",
        "colab_type": "code",
        "outputId": "950cf909-876f-4251-b0e5-dcd02d72c86b",
        "colab": {
          "base_uri": "https://localhost:8080/",
          "height": 52
        }
      },
      "source": [
        "coherence_model_lda = CoherenceModel(model=lda_model, texts=processed_docs, dictionary=dictionary, coherence='c_v')\n",
        "coherence_lda = coherence_model_lda.get_coherence()\n",
        "print('\\nCoherence Score: ', coherence_lda)"
      ],
      "execution_count": 34,
      "outputs": [
        {
          "output_type": "stream",
          "text": [
            "\n",
            "Coherence Score:  0.4583834600970221\n"
          ],
          "name": "stdout"
        }
      ]
    },
    {
      "cell_type": "code",
      "metadata": {
        "id": "hqZ3DaVdpvLj",
        "colab_type": "code",
        "outputId": "91dc6676-d2ea-4aba-de9a-96575d8bb5e6",
        "colab": {
          "base_uri": "https://localhost:8080/",
          "height": 35
        }
      },
      "source": [
        "import numpy as np\n",
        "import tqdm\n",
        "\n",
        "grid = {}\n",
        "grid['Validation_Set'] = {}\n",
        "\n",
        "# Topics range\n",
        "min_topics = 2\n",
        "max_topics = 12\n",
        "step_size = 1\n",
        "topics_range = range(min_topics, max_topics, step_size)\n",
        "model_results = {'Topics': [],\n",
        "                 'Coherence': []\n",
        "                }\n",
        "\n",
        "pbar = tqdm.tqdm(total=len(topics_range))\n",
        "\n",
        "for k in topics_range:\n",
        "\n",
        "  cv = compute_coherence_values(corpus=corpus, dictionary=dictionary, k=k)\n",
        "  model_results['Topics'].append(k)\n",
        "  model_results['Coherence'].append(cv)\n",
        "  pbar.update(1)\n",
        "pbar.close()"
      ],
      "execution_count": 35,
      "outputs": [
        {
          "output_type": "stream",
          "text": [
            "100%|██████████| 10/10 [00:14<00:00,  1.42s/it]\n"
          ],
          "name": "stderr"
        }
      ]
    },
    {
      "cell_type": "code",
      "metadata": {
        "id": "0OcNXUz2vz8k",
        "colab_type": "code",
        "outputId": "8e317bdc-1aa7-4a5d-d6c0-495b99d810a1",
        "colab": {
          "base_uri": "https://localhost:8080/",
          "height": 295
        }
      },
      "source": [
        "import matplotlib.pyplot as plt \n",
        "\n",
        "x = model_results['Topics']\n",
        "y = model_results['Coherence']\n",
        "\n",
        "plt.plot(x, y) \n",
        "  \n",
        "# naming the x axis \n",
        "plt.xlabel('x - Topics') \n",
        "# naming the y axis \n",
        "plt.ylabel('y - Coherence') \n",
        "  \n",
        "# giving a title to my graph \n",
        "plt.title('Topics x Coherence') \n",
        "  \n",
        "# function to show the plot \n",
        "plt.show() "
      ],
      "execution_count": 36,
      "outputs": [
        {
          "output_type": "display_data",
          "data": {
            "image/png": "[encoded data removed]",
            "text/plain": [
              "<Figure size 432x288 with 1 Axes>"
            ]
          },
          "metadata": {
            "tags": [],
            "needs_background": "light"
          }
        }
      ]
    },
    {
      "cell_type": "code",
      "metadata": {
        "id": "mnQoGSZLy1uL",
        "colab_type": "code",
        "outputId": "4745a0ac-8e99-4e63-c39d-5556ed6ff0a7",
        "colab": {
          "base_uri": "https://localhost:8080/",
          "height": 212
        }
      },
      "source": [
        "model_results"
      ],
      "execution_count": 37,
      "outputs": [
        {
          "output_type": "execute_result",
          "data": {
            "text/plain": [
              "{'Coherence': [0.4227547019179222,\n",
              "  0.45919924856865674,\n",
              "  0.4638785297079835,\n",
              "  0.46707559162293955,\n",
              "  0.4583834600970221,\n",
              "  0.4599756710618167,\n",
              "  0.46452885586597636,\n",
              "  0.46558466726949443,\n",
              "  0.48305744306153053,\n",
              "  0.47928412463363856],\n",
              " 'Topics': [2, 3, 4, 5, 6, 7, 8, 9, 10, 11]}"
            ]
          },
          "metadata": {
            "tags": []
          },
          "execution_count": 37
        }
      ]
    },
    {
      "cell_type": "markdown",
      "metadata": {
        "id": "cjIVrpeWmJEe",
        "colab_type": "text"
      },
      "source": [
        "# primeiro modelo com 6 tópicos"
      ]
    },
    {
      "cell_type": "code",
      "metadata": {
        "id": "DLrCBcPmxn0k",
        "colab_type": "code",
        "outputId": "5e23464a-6377-4fb3-b462-34a0bf582f7c",
        "colab": {
          "base_uri": "https://localhost:8080/",
          "height": 392
        }
      },
      "source": [
        "np.random.seed(2018)\n",
        "lda_model = gensim.models.LdaMulticore(corpus, num_topics=10, id2word=dictionary)\n",
        "\n",
        "for idx, topic in lda_model.print_topics(-1):\n",
        "    print('Topic: {} \\nWords: {}'.format(idx, topic))"
      ],
      "execution_count": 38,
      "outputs": [
        {
          "output_type": "stream",
          "text": [
            "Topic: 0 \n",
            "Words: 0.010*\"covid\" + 0.008*\"isolamento\" + 0.007*\"pandemia\" + 0.006*\"apos\" + 0.006*\"sobre\" + 0.006*\"bolsonaro\" + 0.006*\"veja\" + 0.004*\"video\" + 0.004*\"meses\" + 0.004*\"mundo\"\n",
            "Topic: 1 \n",
            "Words: 0.015*\"coronavirus\" + 0.007*\"bolsonaro\" + 0.007*\"covid\" + 0.006*\"mortes\" + 0.006*\"pandemia\" + 0.006*\"apos\" + 0.006*\"saude\" + 0.006*\"governo\" + 0.005*\"teich\" + 0.005*\"paulo\"\n",
            "Topic: 2 \n",
            "Words: 0.010*\"bolsonaro\" + 0.008*\"covid\" + 0.007*\"brasil\" + 0.007*\"coronavirus\" + 0.006*\"mortes\" + 0.005*\"isolamento\" + 0.005*\"cada\" + 0.004*\"saude\" + 0.004*\"veja\" + 0.004*\"pandemia\"\n",
            "Topic: 3 \n",
            "Words: 0.019*\"coronavirus\" + 0.009*\"veja\" + 0.009*\"mortes\" + 0.007*\"brasil\" + 0.005*\"pandemia\" + 0.005*\"auxilio\" + 0.005*\"casos\" + 0.004*\"covid\" + 0.004*\"novo\" + 0.004*\"governo\"\n",
            "Topic: 4 \n",
            "Words: 0.011*\"coronavirus\" + 0.008*\"apos\" + 0.007*\"pandemia\" + 0.007*\"video\" + 0.007*\"anos\" + 0.006*\"bolsonaro\" + 0.005*\"ministro\" + 0.005*\"isolamento\" + 0.005*\"moro\" + 0.005*\"covid\"\n",
            "Topic: 5 \n",
            "Words: 0.014*\"bolsonaro\" + 0.010*\"brasil\" + 0.008*\"saude\" + 0.008*\"coronavirus\" + 0.005*\"nesta\" + 0.005*\"presidente\" + 0.004*\"pandemia\" + 0.004*\"feira\" + 0.004*\"ministerio\" + 0.003*\"anos\"\n",
            "Topic: 6 \n",
            "Words: 0.010*\"covid\" + 0.010*\"pandemia\" + 0.010*\"coronavirus\" + 0.008*\"anos\" + 0.006*\"sobre\" + 0.005*\"governo\" + 0.004*\"contra\" + 0.004*\"maio\" + 0.004*\"veja\" + 0.004*\"bolsonaro\"\n",
            "Topic: 7 \n",
            "Words: 0.014*\"covid\" + 0.010*\"coronavirus\" + 0.010*\"apos\" + 0.005*\"quarentena\" + 0.005*\"mortes\" + 0.005*\"casos\" + 0.005*\"justica\" + 0.005*\"milhoes\" + 0.004*\"bolsonaro\" + 0.004*\"pandemia\"\n",
            "Topic: 8 \n",
            "Words: 0.019*\"coronavirus\" + 0.007*\"video\" + 0.006*\"bolsonaro\" + 0.006*\"ministro\" + 0.005*\"brasil\" + 0.005*\"globonews\" + 0.004*\"presidente\" + 0.004*\"veja\" + 0.004*\"governo\" + 0.004*\"saude\"\n",
            "Topic: 9 \n",
            "Words: 0.013*\"bolsonaro\" + 0.010*\"coronavirus\" + 0.008*\"covid\" + 0.007*\"auxilio\" + 0.006*\"video\" + 0.006*\"apos\" + 0.006*\"presidente\" + 0.006*\"emergencial\" + 0.005*\"cada\" + 0.004*\"isolamento\"\n"
          ],
          "name": "stdout"
        }
      ]
    },
    {
      "cell_type": "code",
      "metadata": {
        "id": "BvmSvyhWx8hy",
        "colab_type": "code",
        "outputId": "76cd5a8a-1fea-4ee3-d57e-7777c111fe7c",
        "colab": {
          "base_uri": "https://localhost:8080/",
          "height": 52
        }
      },
      "source": [
        "coherence_model_lda_seis_topicos = CoherenceModel(model=lda_model, texts=processed_docs, dictionary=dictionary, coherence='c_v')\n",
        "coherence_lda = coherence_model_lda.get_coherence()\n",
        "print('\\nCoherence Score: ', coherence_lda)"
      ],
      "execution_count": 39,
      "outputs": [
        {
          "output_type": "stream",
          "text": [
            "\n",
            "Coherence Score:  0.4583834600970221\n"
          ],
          "name": "stdout"
        }
      ]
    },
    {
      "cell_type": "code",
      "metadata": {
        "id": "OJjPtx-ZyBfz",
        "colab_type": "code",
        "outputId": "7b76f56b-26c1-4df6-daf6-c1d4326920ea",
        "colab": {
          "base_uri": "https://localhost:8080/",
          "height": 860
        }
      },
      "source": [
        "pyLDAvis.enable_notebook()\n",
        "LDAvis_prepared = pyLDAvis.gensim.prepare(lda_model, corpus, dictionary)\n",
        "LDAvis_prepared"
      ],
      "execution_count": 40,
      "outputs": [
        {
          "output_type": "execute_result",
          "data": {
            "text/html": [
              "\n",
              "<link rel=\"stylesheet\" type=\"text/css\" href=\"https://cdn.rawgit.com/bmabey/pyLDAvis/files/ldavis.v1.0.0.css\">\n",
              "\n",
              "\n",
              "<div id=\"ldavis_el3841406748054020248951186322\"></div>\n",
              "<script type=\"text/javascript\">\n",
              "\n",
              "var ldavis_el3841406748054020248951186322_data = {\"mdsDat\": {\"x\": [-0.08521071822549571, 0.02040658231623904, 0.10433497805092373, -0.07866317194069894, 0.060896426207864895, 0.037568814415656945, -0.04806611922179042, 0.055360747538431614, -0.047374500054375684, -0.019253039086755387], \"y\": [0.04401045345534523, -0.0012928015663011278, -0.04917524774872903, 0.03348065281205534, 0.06672672400405745, 0.039474153228771326, -0.015870388356767653, -0.015217854040053115, -0.14607142663509792, 0.04393573484671939], \"topics\": [1, 2, 3, 4, 5, 6, 7, 8, 9, 10], \"cluster\": [1, 1, 1, 1, 1, 1, 1, 1, 1, 1], \"Freq\": [12.032623291015625, 10.69900894165039, 10.683892250061035, 10.47630500793457, 10.13092041015625, 9.861612319946289, 9.771949768066406, 9.189750671386719, 9.073476791381836, 8.080459594726562]}, \"tinfo\": {\"Term\": [\"coronavirus\", \"emergencial\", \"video\", \"covid\", \"cada\", \"auxilio\", \"bolsonaro\", \"veja\", \"apos\", \"isolamento\", \"nesta\", \"mortos\", \"teich\", \"fake\", \"quarentena\", \"depoimento\", \"fatooufake\", \"mundo\", \"recebe\", \"moro\", \"brasil\", \"globonews\", \"ministro\", \"mortes\", \"feira\", \"nelson\", \"paulo\", \"durante\", \"presidente\", \"profissionais\", \"agentes\", \"sobrevive\", \"cardiaca\", \"sequencia\", \"whatsapp\", \"sacos\", \"pega\", \"estresse\", \"paraiba\", \"tecnica\", \"guerreiro\", \"registro\", \"neta\", \"registrados\", \"suspende\", \"entenda\", \"pqdm\", \"certeza\", \"sambas\", \"estreou\", \"escolhas\", \"escolhi\", \"qygjtyff\", \"possivel\", \"flor\", \"xzgzx\", \"nqou\", \"prever\", \"rckpl\", \"eysynpc\", \"vacinacao\", \"maranhao\", \"inclusao\", \"etapa\", \"puerperas\", \"investigacao\", \"gripe\", \"terceira\", \"subnotificacao\", \"punicao\", \"aguda\", \"abertura\", \"cura\", \"grave\", \"medico\", \"noticia\", \"anos\", \"filha\", \"maio\", \"pandemia\", \"comeca\", \"covid\", \"fake\", \"sobre\", \"contra\", \"coronavirus\", \"moro\", \"governo\", \"hospital\", \"fatooufake\", \"feira\", \"durante\", \"diferente\", \"nesta\", \"veja\", \"mascaras\", \"pacientes\", \"dias\", \"bolsonaro\", \"saude\", \"mortes\", \"apos\", \"social\", \"casos\", \"goias\", \"belarus\", \"isolado\", \"anulado\", \"desgastado\", \"espantem\", \"fritura\", \"vencer\", \"kpkz\", \"motorista\", \"tenta\", \"separados\", \"trata\", \"testou\", \"aftzx\", \"pontes\", \"marcos\", \"riscos\", \"zsjrmyrq\", \"adejo\", \"sjrobine\", \"consecutiva\", \"sacadas\", \"yybc\", \"veiamh\", \"bqyi\", \"rvnkgeicca\", \"julgado\", \"laboratorio\", \"gbee\", \"nelson\", \"pronto\", \"brasileiro\", \"bancos\", \"campanha\", \"deixa\", \"cargo\", \"pagamento\", \"teich\", \"testes\", \"paulo\", \"rodizio\", \"minuto\", \"decide\", \"urgente\", \"minas\", \"cedulas\", \"coronavirus\", \"lockdown\", \"ministerio\", \"quarentena\", \"governo\", \"mortes\", \"hospital\", \"saude\", \"bolsonaro\", \"covid\", \"apos\", \"pandemia\", \"dias\", \"sobre\", \"novo\", \"ministros\", \"veiculos\", \"sera\", \"pede\", \"queda\", \"isolamento\", \"brasil\", \"ministro\", \"registra\", \"presidente\", \"quase\", \"contra\", \"entrar\", \"tata\", \"meuxgyzlre\", \"assessor\", \"werneck\", \"tornei\", \"algum\", \"conta\", \"perdeu\", \"caiu\", \"orla\", \"eduardo\", \"jheigfz\", \"pandas\", \"voltarao\", \"milionarias\", \"aeroclube\", \"qpkh\", \"quantias\", \"cano\", \"ilegal\", \"diniz\", \"enfrentamento\", \"tiktok\", \"nvhlkkw\", \"lacam\", \"mvhg\", \"camarg\", \"homens\", \"resgate\", \"coleta\", \"exclusivo\", \"alerta\", \"restricoes\", \"esperava\", \"mundial\", \"causas\", \"mundo\", \"mortos\", \"meses\", \"bernardinho\", \"supremo\", \"mulher\", \"unido\", \"reino\", \"isolamento\", \"videos\", \"semana\", \"aras\", \"entrevista\", \"todo\", \"covid\", \"sobre\", \"apos\", \"pandemia\", \"veja\", \"bolsonaro\", \"casa\", \"pais\", \"video\", \"reuniao\", \"ajuda\", \"morre\", \"globonews\", \"morte\", \"teich\", \"saude\", \"durante\", \"ministro\", \"coronavirus\", \"brasil\", \"governo\", \"anos\", \"receb\", \"direcao\", \"encontrar\", \"assoc\", \"informais\", \"mapear\", \"terras\", \"buscaram\", \"conduzem\", \"renda\", \"churrasco\", \"universidades\", \"federais\", \"guxqjeo\", \"mudei\", \"aujayjuvog\", \"energia\", \"testagem\", \"revisto\", \"cvysxr\", \"aspectos\", \"iyct\", \"rvkga\", \"blindar\", \"dncv\", \"ldozwjbvlh\", \"ambulantes\", \"atender\", \"campeoes\", \"edital\", \"desejos\", \"talentos\", \"importa\", \"saudade\", \"vidas\", \"rosto\", \"vacina\", \"caixa\", \"homem\", \"pedem\", \"heleno\", \"leonardo\", \"emergencial\", \"sonhos\", \"cada\", \"reais\", \"vejo\", \"auxilio\", \"bolsonaro\", \"presidente\", \"video\", \"coronavirus\", \"covid\", \"apos\", \"pessoas\", \"cinco\", \"isolamento\", \"veja\", \"depoimento\", \"prefeitura\", \"vida\", \"sobre\", \"brasil\", \"governo\", \"casos\", \"paulo\", \"fake\", \"casa\", \"moro\", \"dias\", \"tentar\", \"transito\", \"forca\", \"cecilia\", \"emendas\", \"idosa\", \"passar\", \"feitas\", \"manipulada\", \"manif\", \"gkmms\", \"carrao\", \"ajglyook\", \"bjtfjp\", \"bell\", \"zkuftkazs\", \"lpxd\", \"album\", \"expressiva\", \"excepc\", \"prestigiar\", \"manifestando\", \"arcebispo\", \"oremos\", \"wdfwi\", \"pumu\", \"cartazes\", \"negou\", \"gravidade\", \"mxms\", \"recebe\", \"revista\", \"citada\", \"depoimento\", \"sendo\", \"repercussao\", \"inicio\", \"primeiro\", \"preocupacao\", \"andreiasadi\", \"moro\", \"reajuste\", \"mostre\", \"visita\", \"video\", \"alta\", \"anos\", \"fatooufake\", \"paulo\", \"publico\", \"apos\", \"ministro\", \"estaduais\", \"tentou\", \"fake\", \"coronavirus\", \"pandemia\", \"isolamento\", \"teich\", \"reuniao\", \"bolsonaro\", \"durante\", \"profissionais\", \"sobre\", \"live\", \"covid\", \"saude\", \"mortes\", \"brasil\", \"pedido\", \"meio\", \"governo\", \"veja\", \"morreram\", \"equivoco\", \"anaflor\", \"respeito\", \"servidores\", \"perturbacao\", \"niro\", \"escritorio\", \"gestao\", \"pikixv\", \"reus\", \"condenado\", \"atuam\", \"axwg\", \"tvqqo\", \"hackeado\", \"sjxgk\", \"entorno\", \"gaga\", \"cinema\", \"manifesta\", \"bachelet\", \"criminosos\", \"vxqvba\", \"dzaus\", \"perder\", \"lavajato\", \"jwstb\", \"dphv\", \"inscricoes\", \"cantora\", \"respirador\", \"guedes\", \"exonera\", \"recebeu\", \"quinta\", \"petrobras\", \"decisao\", \"agente\", \"livra\", \"nesta\", \"acao\", \"feira\", \"combate\", \"brasil\", \"leia\", \"situacao\", \"sigilo\", \"bolsonaro\", \"saude\", \"reajuste\", \"porque\", \"estados\", \"enem\", \"planalto\", \"ministerio\", \"publico\", \"presidente\", \"blog\", \"veiculos\", \"coronavirus\", \"durante\", \"segunda\", \"profissionais\", \"novo\", \"horas\", \"ministro\", \"pandemia\", \"anos\", \"sobre\", \"alta\", \"mortes\", \"veja\", \"morre\", \"apos\", \"isolamento\", \"pereira\", \"experiencia\", \"professores\", \"emprestados\", \"celulares\", \"discute\", \"preparam\", \"reporter\", \"computadores\", \"sexta\", \"obitos\", \"alunos\", \"merval\", \"renataloprete\", \"junto\", \"tributo\", \"extrovertida\", \"robe\", \"piora\", \"uugqtznq\", \"processamento\", \"influencia\", \"zera\", \"circulaca\", \"zcsr\", \"otpupi\", \"evcf\", \"obras\", \"trafego\", \"alvaras\", \"wzvdcrcmhn\", \"roberto\", \"secretarias\", \"desmatamento\", \"suspensao\", \"paga\", \"datas\", \"plena\", \"bomdiabrasil\", \"jornalistas\", \"estudos\", \"decadas\", \"favela\", \"outras\", \"passo\", \"manaus\", \"internet\", \"parcela\", \"segundo\", \"veja\", \"coronavirus\", \"mortes\", \"emergencial\", \"auxilio\", \"brasil\", \"oassunto\", \"mascaras\", \"casos\", \"vitima\", \"novo\", \"todos\", \"pandemia\", \"governo\", \"justica\", \"covid\", \"sobre\", \"antes\", \"morte\", \"nesta\", \"casa\", \"pacientes\", \"fontes\", \"bolo\", \"seculo\", \"sandracoh\", \"declaracoes\", \"manifesto\", \"colocar\", \"temperatura\", \"amor\", \"perda\", \"humanitaria\", \"xyfur\", \"chineses\", \"pedacos\", \"lirscbw\", \"acentua\", \"xwee\", \"enfermeiro\", \"retire\", \"polo\", \"terminara\", \"ajrax\", \"zkeo\", \"youtube\", \"mortesporcovid\", \"acredita\", \"inicial\", \"orban\", \"podera\", \"bkmwel\", \"dona\", \"ameacas\", \"repudio\", \"viram\", \"derruba\", \"debate\", \"participou\", \"aniversario\", \"mortos\", \"globonews\", \"mascara\", \"coronavirus\", \"decide\", \"video\", \"todos\", \"ministro\", \"carro\", \"ficou\", \"fraude\", \"familia\", \"jovem\", \"presidente\", \"bolsonaro\", \"maes\", \"brasil\", \"veja\", \"isolamento\", \"governo\", \"saude\", \"dias\", \"blog\", \"milhoes\", \"covid\", \"mortes\", \"novo\", \"pandemia\", \"pacientes\", \"medo\", \"anos\", \"social\", \"estado\", \"moro\", \"maio\", \"proteger\", \"condena\", \"ocorrer\", \"falam\", \"netos\", \"gradual\", \"internacoes\", \"cbkg\", \"impediu\", \"administrador\", \"ndcmbqedhx\", \"reality\", \"musicas\", \"dhbk\", \"daniel\", \"iespmbkebs\", \"qbkk\", \"oralej\", \"luta\", \"indigena\", \"pessoal\", \"vidro\", \"majso\", \"youtuber\", \"vagas\", \"yzkolzb\", \"alves\", \"spqwjook\", \"unico\", \"imperial\", \"auwiw\", \"usam\", \"noticias\", \"noronha\", \"colegas\", \"empresario\", \"wuhan\", \"rede\", \"amigos\", \"fernando\", \"witzel\", \"pagar\", \"china\", \"novos\", \"quarentena\", \"estudo\", \"filhos\", \"neste\", \"justica\", \"vezes\", \"milhao\", \"prova\", \"covid\", \"investiga\", \"apos\", \"milhoes\", \"fazem\", \"casos\", \"filho\", \"coronavirus\", \"pode\", \"mortes\", \"contra\", \"fatooufake\", \"quase\", \"sobre\", \"morte\", \"pandemia\", \"lockdown\", \"bolsonaro\", \"anos\", \"brasil\", \"sanitaria\", \"seguir\", \"primeiros\", \"postos\", \"chegou\", \"governadores\", \"pacotes\", \"enteada\", \"caes\", \"caber\", \"alem\", \"xyyrxayau\", \"passados\", \"beleza\", \"tesla\", \"nwbsq\", \"fantasias\", \"comenta\", \"turne\", \"apokkimtet\", \"particulas\", \"ywsfjmbii\", \"lanca\", \"ssejls\", \"lizn\", \"dkojva\", \"atua\", \"categoria\", \"samuel\", \"particular\", \"ceara\", \"outros\", \"essenciais\", \"ameaca\", \"fala\", \"podem\", \"paises\", \"cada\", \"situacao\", \"precisa\", \"defesa\", \"precisam\", \"bolsonaro\", \"bastidores\", \"ficar\", \"vidas\", \"talentos\", \"rosto\", \"saudade\", \"desejos\", \"importa\", \"brasil\", \"critica\", \"social\", \"covid\", \"mortes\", \"vida\", \"isolamento\", \"meses\", \"coronavirus\", \"saude\", \"pessoas\", \"milhoes\", \"veja\", \"pacientes\", \"pandemia\", \"durante\", \"auxilio\", \"numero\", \"contra\", \"anos\", \"casos\", \"governo\", \"reuniao\", \"dias\", \"lockdown\"], \"Freq\": [88.0, 11.0, 25.0, 56.0, 10.0, 16.0, 57.0, 29.0, 35.0, 26.0, 11.0, 6.0, 12.0, 11.0, 12.0, 6.0, 10.0, 7.0, 6.0, 13.0, 35.0, 10.0, 20.0, 32.0, 10.0, 6.0, 14.0, 15.0, 20.0, 7.0, 1.4703664779663086, 1.4703655242919922, 1.4703623056411743, 1.4703618288040161, 1.4703577756881714, 1.4703577756881714, 1.4703550338745117, 1.4703540802001953, 1.4703532457351685, 1.4703515768051147, 1.4703516960144043, 1.4703463315963745, 1.470342755317688, 1.4703344106674194, 2.170525074005127, 2.87070894241333, 0.7701945304870605, 0.7701937556266785, 0.7701935172080994, 0.7701932191848755, 0.7701930999755859, 0.7701929211616516, 0.7701927423477173, 0.7701928615570068, 0.7701923847198486, 0.7701923847198486, 0.7701923847198486, 0.7701920866966248, 0.7701919078826904, 0.7701919078826904, 1.4703649282455444, 1.4703633785247803, 1.470362663269043, 1.470359206199646, 1.4703563451766968, 2.8707101345062256, 2.1705384254455566, 2.1705334186553955, 1.842897891998291, 2.1705331802368164, 1.4703692197799683, 1.470362901687622, 1.4703596830368042, 1.4703559875488281, 2.8706939220428467, 2.8706560134887695, 7.7719597816467285, 2.1705214977264404, 4.271032810211182, 9.38749885559082, 2.8707149028778076, 9.796234130859375, 3.5708959102630615, 5.671463966369629, 4.271096706390381, 9.172415733337402, 3.570923328399658, 4.687851905822754, 2.8707001209259033, 2.870738983154297, 2.870699882507324, 3.352076768875122, 2.170555353164673, 2.8705990314483643, 3.9248242378234863, 2.6306533813476562, 2.870715856552124, 2.8707289695739746, 3.5709595680236816, 2.8707528114318848, 2.5103302001953125, 2.1706082820892334, 2.1705658435821533, 2.170563220977783, 1.4449321031570435, 1.4449310302734375, 1.444930911064148, 1.4449282884597778, 1.444922924041748, 1.444920539855957, 1.4449201822280884, 1.44491708278656, 1.4449117183685303, 2.054387331008911, 1.5576307773590088, 0.7568716406822205, 0.7568711638450623, 0.7568703889846802, 0.7568702101707458, 0.7568700909614563, 0.7568699717521667, 0.7568698525428772, 0.7568696141242981, 0.7568694353103638, 0.7568692564964294, 0.7568693161010742, 0.7568692564964294, 0.7568691968917847, 0.7568690776824951, 0.7568687200546265, 0.756868839263916, 0.7568689584732056, 0.756868839263916, 0.756868839263916, 3.5091147422790527, 1.444921612739563, 1.4449270963668823, 1.4449219703674316, 1.9666860103607178, 2.1329758167266846, 2.1329894065856934, 2.064697742462158, 4.19718599319458, 2.1329760551452637, 4.197171211242676, 2.715837001800537, 1.4449213743209839, 1.444928526878357, 1.444915533065796, 1.4449270963668823, 1.0097944736480713, 13.142228126525879, 3.467900037765503, 3.50909686088562, 3.1560680866241455, 4.798763751983643, 5.310012340545654, 2.6022226810455322, 4.800850868225098, 6.3507819175720215, 6.063469409942627, 4.885293960571289, 5.300570011138916, 3.0556609630584717, 3.509162664413452, 2.74725341796875, 2.1330132484436035, 2.0305185317993164, 2.133004665374756, 2.133004665374756, 2.1330156326293945, 2.8210997581481934, 2.8210761547088623, 2.226442337036133, 2.1330068111419678, 2.133044958114624, 2.1330132484436035, 2.1330130100250244, 1.44319486618042, 1.4431936740875244, 1.4431936740875244, 1.4431921243667603, 1.443186640739441, 1.4431644678115845, 1.7477121353149414, 2.566154956817627, 1.7202037572860718, 2.130430221557617, 1.2403486967086792, 0.7559667229652405, 0.7559652924537659, 0.7559650540351868, 0.7559650540351868, 0.7559647560119629, 0.7559646964073181, 0.7559643983840942, 0.755963921546936, 0.755963921546936, 0.7559638619422913, 0.7559640407562256, 0.7559636831283569, 0.7559636831283569, 0.7559635043144226, 0.7559633851051331, 0.7559633851051331, 0.7559632658958435, 0.7559632658958435, 0.7559632062911987, 0.7559632658958435, 1.4431958198547363, 2.1304409503936768, 1.4431893825531006, 1.4431991577148438, 1.4431921243667603, 1.443191647529602, 3.5049078464508057, 2.81764554977417, 3.504913806915283, 1.0377566814422607, 1.7630717754364014, 2.130434036254883, 2.1304354667663574, 2.130413770675659, 6.786164283752441, 2.4714744091033936, 3.105241298675537, 1.247915267944336, 1.4432014226913452, 1.4431939125061035, 8.390613555908203, 5.566640853881836, 5.566657066345215, 6.037506103515625, 4.879390239715576, 5.5490593910217285, 2.8177239894866943, 2.8176920413970947, 3.504948854446411, 2.571723222732544, 2.1304409503936768, 2.2257843017578125, 2.130459785461426, 2.130441427230835, 2.1304569244384766, 2.5153982639312744, 2.130446195602417, 2.130479335784912, 2.130605697631836, 2.1305339336395264, 2.1305062770843506, 2.1304891109466553, 1.425097942352295, 1.4250965118408203, 1.425095558166504, 1.4250952005386353, 1.425094723701477, 1.4250937700271606, 1.4250929355621338, 1.425092339515686, 1.4250867366790771, 1.4250855445861816, 1.4250850677490234, 2.103710651397705, 2.1037023067474365, 0.7464824914932251, 0.7464815378189087, 0.7464814186096191, 0.7464814186096191, 0.7464814186096191, 0.7464814186096191, 0.7464811205863953, 0.7464812397956848, 0.7464812397956848, 0.7464810013771057, 0.7464808225631714, 0.7464808225631714, 0.7464808225631714, 0.7464808225631714, 0.7464808225631714, 0.7464807629585266, 0.7464808225631714, 2.103717088699341, 2.1037161350250244, 2.103712320327759, 2.1037113666534424, 2.1037068367004395, 2.1037065982818604, 2.103717565536499, 2.7823243141174316, 2.1037213802337646, 1.4250928163528442, 1.4250768423080444, 1.4250973463058472, 4.818209171295166, 2.103700876235962, 4.1395745277404785, 2.7823190689086914, 1.0451099872589111, 5.496805191040039, 11.156582832336426, 4.818230152130127, 5.1829657554626465, 8.706620216369629, 6.544025421142578, 4.818270206451416, 2.9081740379333496, 2.1037180423736572, 3.614046096801758, 3.5547537803649902, 2.1037251949310303, 2.103715419769287, 2.1037099361419678, 2.782386302947998, 2.3372621536254883, 2.1037802696228027, 2.1037490367889404, 2.103745222091675, 2.1037306785583496, 2.103729248046875, 2.1037254333496094, 2.1037168502807617, 1.4125218391418457, 1.412514090538025, 1.412514090538025, 1.412513017654419, 1.4125031232833862, 1.4124999046325684, 1.343946099281311, 0.7398955821990967, 0.739895224571228, 0.7398953437805176, 0.7398954033851624, 0.7398948669433594, 0.7398948669433594, 0.7398941516876221, 0.7398937344551086, 0.7398937344551086, 0.7398934960365295, 0.7398935556411743, 0.73989337682724, 0.7398933172225952, 0.7398933172225952, 0.73989337682724, 0.7398932576179504, 0.7398931384086609, 0.7398930191993713, 0.7398930788040161, 0.739892840385437, 0.7398930191993713, 0.739892840385437, 0.7398927807807922, 3.7066338062286377, 1.4125118255615234, 2.7577929496765137, 3.333578109741211, 1.412513256072998, 1.412520170211792, 1.412520170211792, 2.0851426124572754, 1.3009555339813232, 2.085164785385132, 4.015399932861328, 1.412519097328186, 1.4125231504440308, 1.412520408630371, 5.448317527770996, 2.7577714920043945, 5.448317527770996, 2.7577733993530273, 3.430436849594116, 2.5981500148773193, 6.120986461639404, 4.250092029571533, 1.1426670551300049, 1.3209978342056274, 2.7578063011169434, 8.665066719055176, 5.448369026184082, 4.103100299835205, 2.7577972412109375, 2.7577998638153076, 4.942897319793701, 2.7577998638153076, 2.085158348083496, 3.430475950241089, 2.2528412342071533, 3.9825782775878906, 3.1602277755737305, 3.133078098297119, 3.1620876789093018, 1.8710194826126099, 2.0851714611053467, 2.0851924419403076, 2.0851855278015137, 2.0589139461517334, 1.3947453498840332, 1.394744634628296, 1.394742488861084, 2.7230935096740723, 0.7305886745452881, 0.7305884957313538, 0.7305882573127747, 0.7305880188941956, 0.7305876016616821, 0.7305875420570374, 0.730587363243103, 0.7305873036384583, 0.730587363243103, 0.7305868864059448, 0.7305868864059448, 0.7305868864059448, 0.7305863499641418, 0.7305861711502075, 0.7305861711502075, 0.7305861711502075, 0.7305861115455627, 0.7305861711502075, 0.7305861711502075, 0.7305859327316284, 0.7305859327316284, 0.7305859327316284, 0.7305858135223389, 0.7305859327316284, 0.7305856943130493, 1.3947508335113525, 1.3947402238845825, 2.7230794429779053, 1.3947452306747437, 1.3947508335113525, 2.058906078338623, 1.3947566747665405, 1.3947490453720093, 1.9299893379211426, 1.9229592084884644, 4.051433086395264, 1.2727104425430298, 3.3872463703155518, 2.60697340965271, 8.230803489685059, 2.40028977394104, 1.3947420120239258, 1.620368480682373, 10.897574424743652, 6.622709274291992, 1.3947423696517944, 1.3947325944900513, 1.3947514295578003, 2.240400552749634, 1.6939468383789062, 3.3131136894226074, 2.6241018772125244, 3.8400187492370605, 2.7230916023254395, 2.0589277744293213, 6.443119049072266, 2.7231225967407227, 2.0589191913604736, 2.058912515640259, 2.7231075763702393, 2.195794105529785, 2.7231311798095703, 3.3873140811920166, 2.7231526374816895, 2.7211050987243652, 2.0500235557556152, 2.5688421726226807, 2.1867661476135254, 2.0589358806610107, 2.0589759349823, 2.058957576751709, 2.1074581146240234, 1.427635669708252, 1.4276334047317505, 1.4276295900344849, 1.4276293516159058, 1.4276267290115356, 1.4276258945465088, 1.427622675895691, 1.4276208877563477, 1.4276202917099, 1.4276186227798462, 2.107445240020752, 2.107471466064453, 2.787290334701538, 0.7478154897689819, 0.7478134036064148, 0.747812807559967, 0.747812807559967, 0.7478128671646118, 0.7478126287460327, 0.7478127479553223, 0.7478125691413879, 0.7478123307228088, 0.7478122115135193, 0.7478121519088745, 0.7478121519088745, 0.7478119134902954, 0.7478119134902954, 0.7478117942810059, 0.747811496257782, 0.7478116154670715, 1.4276326894760132, 1.4276340007781982, 1.4276398420333862, 1.4276331663131714, 2.1074676513671875, 1.4276390075683594, 1.4276385307312012, 1.4276398420333862, 1.4276357889175415, 2.072054624557495, 1.4276281595230103, 1.427628993988037, 1.427619457244873, 1.0513737201690674, 2.10745906829834, 2.1074512004852295, 2.4641122817993164, 3.342606544494629, 7.321425914764404, 14.602303504943848, 6.779708385467529, 3.4671339988708496, 3.805898904800415, 5.30775785446167, 2.787276029586792, 2.7872934341430664, 3.739908218383789, 2.3604345321655273, 3.4671733379364014, 2.107473850250244, 4.077998638153076, 3.467165231704712, 2.3991894721984863, 3.5209991931915283, 2.7873575687408447, 2.1074793338775635, 2.1074860095977783, 2.10748553276062, 2.107475519180298, 2.107485294342041, 1.388674259185791, 1.3886703252792358, 1.388667106628418, 1.3886663913726807, 1.3886655569076538, 1.3886643648147583, 1.3886643648147583, 1.3886616230010986, 1.388655185699463, 1.1676914691925049, 0.7274030447006226, 0.72740238904953, 0.727401614189148, 0.7274011373519897, 0.7274011373519897, 0.727401077747345, 0.7274010181427002, 0.7274008989334106, 0.7274004817008972, 0.727400541305542, 0.7274004817008972, 0.7274004817008972, 0.727400541305542, 0.7274003028869629, 0.7274002432823181, 0.7274001240730286, 0.7274000644683838, 0.7273999452590942, 0.7274000644683838, 0.7274000644683838, 1.3886679410934448, 1.388667345046997, 1.3886646032333374, 1.3886644840240479, 1.3886723518371582, 1.3886686563491821, 1.3886655569076538, 1.3886650800704956, 2.7112174034118652, 3.3724796772003174, 2.0499494075775146, 14.071950912475586, 1.3886702060699463, 5.506623268127441, 2.0499305725097656, 4.6950764656066895, 1.7483175992965698, 1.1267446279525757, 1.0978761911392212, 1.3886618614196777, 1.3886728286743164, 3.0675601959228516, 4.780813694000244, 2.049952507019043, 3.3725767135620117, 3.0383245944976807, 2.7112417221069336, 2.713052988052368, 2.711256980895996, 2.2009406089782715, 2.0499558448791504, 2.0499637126922607, 2.707871198654175, 2.390423059463501, 2.0499637126922607, 2.317286968231201, 1.707794427871704, 1.4709075689315796, 1.407409429550171, 1.3887066841125488, 1.3887044191360474, 1.3886995315551758, 1.3886966705322266, 1.372665286064148, 1.3726621866226196, 1.3726608753204346, 1.372657299041748, 1.3726528882980347, 1.372652530670166, 1.3726485967636108, 0.7190196514129639, 0.7190186381340027, 0.719018280506134, 0.7190180420875549, 0.7190176248550415, 0.7190176248550415, 0.7190172672271729, 0.7190166711807251, 0.7190166115760803, 0.719016432762146, 0.719016432762146, 0.7190162539482117, 0.7190163135528564, 0.719015896320343, 0.7190158367156982, 0.7190158367156982, 0.7190157771110535, 0.7190156579017639, 0.7190156579017639, 0.7190154790878296, 0.7190154194831848, 0.7190154194831848, 0.7190154790878296, 0.7190154194831848, 1.3726674318313599, 1.7088048458099365, 2.026305913925171, 1.3726592063903809, 1.3726694583892822, 1.0497881174087524, 1.3726565837860107, 1.3726565837860107, 1.3726547956466675, 2.026310682296753, 2.0263006687164307, 1.693868637084961, 1.897271752357483, 3.987278699874878, 2.0263121128082275, 2.0262982845306396, 2.556419849395752, 3.3336355686187744, 1.3726407289505005, 1.3726744651794434, 1.3726660013198853, 9.870243072509766, 1.3726513385772705, 6.913928985595703, 3.333611488342285, 2.026320695877075, 3.585344076156616, 2.0263116359710693, 7.504891872406006, 2.6799914836883545, 3.8189566135406494, 2.680004119873047, 2.0263266563415527, 2.026287794113159, 2.6800119876861572, 2.0263423919677734, 2.6800289154052734, 2.0263259410858154, 2.6801061630249023, 2.0263500213623047, 2.0264055728912354, 1.2997615337371826, 1.2997597455978394, 1.299750566482544, 1.2997492551803589, 1.2997492551803589, 1.255725383758545, 0.6808315515518188, 0.6808302402496338, 0.6808299422264099, 0.680829644203186, 0.680828869342804, 0.680828869342804, 0.6808288097381592, 0.6808285713195801, 0.6808285117149353, 0.6808284521102905, 0.6808285117149353, 0.680828332901001, 0.6808282732963562, 0.6808282732963562, 0.6808282732963562, 0.6808282136917114, 0.680828332901001, 0.6808282732963562, 0.6808282136917114, 0.6808281540870667, 0.6808280348777771, 0.6808282136917114, 0.6808279752731323, 0.6808278560638428, 1.9186975955963135, 1.2997394800186157, 1.272469401359558, 1.2400126457214355, 1.9186875820159912, 1.6546006202697754, 1.7532025575637817, 3.1565663814544678, 1.2997671365737915, 1.2997660636901855, 1.2997565269470215, 1.2997595071792603, 6.22549295425415, 1.299756407737732, 1.299762487411499, 1.2997705936431885, 1.2997620105743408, 1.2997581958770752, 1.2997556924819946, 1.2997547388076782, 1.2997543811798096, 4.4285430908203125, 1.2621744871139526, 2.537635564804077, 5.407199382781982, 3.86564302444458, 1.9186828136444092, 3.156602621078491, 1.9186829328536987, 4.361751556396484, 2.78637957572937, 1.9187192916870117, 1.918715238571167, 2.5376858711242676, 1.9187273979187012, 2.537663698196411, 1.9187185764312744, 1.9187339544296265, 1.7065480947494507, 1.8773384094238281, 1.9187660217285156, 1.670405387878418, 1.628193974494934, 1.2997957468032837, 1.2997924089431763, 1.299789309501648], \"Total\": [88.0, 11.0, 25.0, 56.0, 10.0, 16.0, 57.0, 29.0, 35.0, 26.0, 11.0, 6.0, 12.0, 11.0, 12.0, 6.0, 10.0, 7.0, 6.0, 13.0, 35.0, 10.0, 20.0, 32.0, 10.0, 6.0, 14.0, 15.0, 20.0, 7.0, 2.0708391666412354, 2.0708394050598145, 2.0708391666412354, 2.0708391666412354, 2.0708391666412354, 2.0708391666412354, 2.0708389282226562, 2.070838689804077, 2.0708389282226562, 2.070838689804077, 2.0708389282226562, 2.070838451385498, 2.070838212966919, 2.0708377361297607, 3.4496536254882812, 4.812030792236328, 1.370654582977295, 1.3706544637680054, 1.3706544637680054, 1.3706543445587158, 1.370654582977295, 1.370654582977295, 1.3706544637680054, 1.370654582977295, 1.3706543445587158, 1.3706543445587158, 1.3706543445587158, 1.3706543445587158, 1.3706543445587158, 1.3706544637680054, 2.6897857189178467, 2.689785957336426, 2.6897857189178467, 2.6897847652435303, 2.6897850036621094, 5.456859111785889, 4.069810390472412, 4.078042507171631, 3.440070629119873, 4.098987102508545, 2.7245020866394043, 2.7245020866394043, 2.732123374938965, 2.7350192070007324, 6.12066650390625, 6.159247398376465, 27.696826934814453, 4.723472595214844, 12.939693450927734, 42.66836929321289, 7.49416971206665, 56.49177932739258, 11.44306755065918, 29.89771270751953, 17.511781692504883, 88.80094909667969, 13.561981201171875, 27.044353485107422, 9.552469253540039, 10.039283752441406, 10.19113540649414, 15.488258361816406, 5.468093395233154, 11.521441459655762, 29.662687301635742, 10.202431678771973, 13.416788101196289, 14.191484451293945, 57.522132873535156, 29.509424209594727, 32.759464263916016, 35.7164421081543, 13.99838924407959, 18.742332458496094, 2.0466160774230957, 2.0466158390045166, 2.0466160774230957, 2.0466158390045166, 2.0466153621673584, 2.0466156005859375, 2.0466156005859375, 2.0466156005859375, 2.0466153621673584, 3.395879030227661, 2.7217845916748047, 1.3585429191589355, 1.358542561531067, 1.3585424423217773, 1.3585424423217773, 1.358542799949646, 1.3585426807403564, 1.358542561531067, 1.3585426807403564, 1.358542561531067, 1.3585424423217773, 1.3585426807403564, 1.3585426807403564, 1.358542561531067, 1.3585426807403564, 1.3585424423217773, 1.3585424423217773, 1.358542799949646, 1.358542561531067, 1.3585426807403564, 6.858161926269531, 2.7107961177825928, 2.7264561653137207, 2.73386549949646, 4.1082377433776855, 4.755863666534424, 4.757442474365234, 4.784593105316162, 12.843146324157715, 5.402964115142822, 14.22133731842041, 8.127238273620605, 3.3644585609436035, 3.369184732437134, 3.3865299224853516, 3.3980462551116943, 2.046095132827759, 88.80094909667969, 12.789421081542969, 13.375425338745117, 12.701583862304688, 27.044353485107422, 32.759464263916016, 9.552469253540039, 29.509424209594727, 57.522132873535156, 56.49177932739258, 35.7164421081543, 42.66836929321289, 14.191484451293945, 29.89771270751953, 16.880067825317383, 7.5019402503967285, 6.763864040374756, 8.143733024597168, 8.147072792053223, 8.174830436706543, 26.788227081298828, 35.98760223388672, 20.777921676635742, 9.4476900100708, 20.112102508544922, 10.087728500366211, 17.511781692504883, 2.044969320297241, 2.044969320297241, 2.044969320297241, 2.044969320297241, 2.044968843460083, 2.044968843460083, 2.727418899536133, 4.0481343269348145, 2.7270736694335938, 3.396399974822998, 2.0424249172210693, 1.3577195405960083, 1.3577195405960083, 1.3577195405960083, 1.3577195405960083, 1.3577195405960083, 1.3577195405960083, 1.3577194213867188, 1.3577191829681396, 1.3577193021774292, 1.3577195405960083, 1.3577196598052979, 1.3577194213867188, 1.3577194213867188, 1.3577194213867188, 1.3577194213867188, 1.3577194213867188, 1.3577194213867188, 1.3577194213867188, 1.3577193021774292, 1.3577194213867188, 2.698631525039673, 4.084473609924316, 2.70339035987854, 2.70625376701355, 2.7451539039611816, 2.7451539039611816, 7.376932621002197, 6.718270301818848, 9.36847972869873, 2.039884328842163, 4.089080810546875, 5.366297721862793, 5.410171031951904, 5.4102630615234375, 26.788227081298828, 6.7747063636779785, 9.488409042358398, 2.6996989250183105, 3.328096389770508, 3.343755006790161, 56.49177932739258, 29.89771270751953, 35.7164421081543, 42.66836929321289, 29.662687301635742, 57.522132873535156, 12.841747283935547, 12.847726821899414, 25.686491012573242, 13.450750350952148, 7.448631763458252, 12.022208213806152, 10.039880752563477, 10.788505554199219, 12.843146324157715, 29.509424209594727, 15.488258361816406, 20.777921676635742, 88.80094909667969, 35.98760223388672, 27.044353485107422, 27.696826934814453, 2.0277297496795654, 2.0277297496795654, 2.0277297496795654, 2.0277299880981445, 2.0277295112609863, 2.0277297496795654, 2.0277297496795654, 2.0277299880981445, 2.0277297496795654, 2.0277295112609863, 2.0277299880981445, 3.4065444469451904, 3.4065444469451904, 1.3490996360778809, 1.3490996360778809, 1.3490993976593018, 1.3490996360778809, 1.3490996360778809, 1.3490996360778809, 1.3490995168685913, 1.3490996360778809, 1.3490997552871704, 1.3490996360778809, 1.3490995168685913, 1.3490995168685913, 1.3490996360778809, 1.3490996360778809, 1.3490996360778809, 1.3490997552871704, 1.3490997552871704, 3.9442524909973145, 3.9442524909973145, 3.9442529678344727, 3.9442524909973145, 3.944251298904419, 3.9442524909973145, 4.0136847496032715, 5.415246963500977, 4.079185485839844, 2.7067654132843018, 2.714979648590088, 2.727914333343506, 11.538994789123535, 4.644437313079834, 10.52391529083252, 6.7893805503845215, 2.039799213409424, 16.126480102539062, 57.522132873535156, 20.112102508544922, 25.686491012573242, 88.80094909667969, 56.49177932739258, 35.7164421081543, 11.381103515625, 5.304433822631836, 26.788227081298828, 29.662687301635742, 6.771973133087158, 6.78414249420166, 8.654854774475098, 29.89771270751953, 35.98760223388672, 27.044353485107422, 18.742332458496094, 14.22133731842041, 11.44306755065918, 12.841747283935547, 13.561981201171875, 14.191484451293945, 2.015751600265503, 2.015751600265503, 2.015751600265503, 2.015751600265503, 2.015751361846924, 2.015751600265503, 2.016362190246582, 1.3431105613708496, 1.34311044216156, 1.3431105613708496, 1.3431107997894287, 1.34311044216156, 1.3431106805801392, 1.3431106805801392, 1.34311044216156, 1.3431105613708496, 1.343110203742981, 1.3431107997894287, 1.3431105613708496, 1.3431105613708496, 1.34311044216156, 1.3431105613708496, 1.3431103229522705, 1.34311044216156, 1.34311044216156, 1.3431105613708496, 1.3431103229522705, 1.3431106805801392, 1.34311044216156, 1.3431106805801392, 6.780329704284668, 2.634697675704956, 5.409753322601318, 6.771973133087158, 2.6943821907043457, 2.703824758529663, 2.7159361839294434, 4.729701995849609, 2.678049087524414, 5.377840518951416, 13.561981201171875, 3.3441128730773926, 3.358562707901001, 3.3742222785949707, 25.686491012573242, 9.407919883728027, 27.696826934814453, 10.039283752441406, 14.22133731842041, 9.360441207885742, 35.7164421081543, 20.777921676635742, 2.6740503311157227, 3.384941816329956, 11.44306755065918, 88.80094909667969, 42.66836929321289, 26.788227081298828, 12.843146324157715, 13.450750350952148, 57.522132873535156, 15.488258361816406, 7.4452667236328125, 29.89771270751953, 9.449461936950684, 56.49177932739258, 29.509424209594727, 32.759464263916016, 35.98760223388672, 6.738293170928955, 11.370885848999023, 27.044353485107422, 29.662687301635742, 2.6630115509033203, 1.9988303184509277, 1.9988306760787964, 1.9988303184509277, 4.678462982177734, 1.334649920463562, 1.3346500396728516, 1.3346498012542725, 1.334649920463562, 1.334649920463562, 1.334649682044983, 1.3346498012542725, 1.3346498012542725, 1.334649920463562, 1.3346498012542725, 1.334649920463562, 1.3346500396728516, 1.3346498012542725, 1.3346495628356934, 1.3346498012542725, 1.3346498012542725, 1.3346498012542725, 1.334649920463562, 1.3346500396728516, 1.3346498012542725, 1.3346498012542725, 1.3346498012542725, 1.3346498012542725, 1.334649920463562, 1.334649682044983, 2.6177773475646973, 2.617777109146118, 5.358302593231201, 2.6584224700927734, 2.6601154804229736, 4.051268577575684, 2.678670644760132, 2.678670644760132, 4.035274982452393, 4.035243988037109, 11.521441459655762, 2.6829094886779785, 10.19113540649414, 7.38759183883667, 35.98760223388672, 6.6865434646606445, 3.236722230911255, 4.012168884277344, 57.522132873535156, 29.509424209594727, 3.3441128730773926, 3.352677822113037, 3.3573009967803955, 6.623313903808594, 4.6674604415893555, 13.375425338745117, 9.360441207885742, 20.112102508544922, 11.432659149169922, 6.763864040374756, 88.80094909667969, 15.488258361816406, 7.441885471343994, 7.4452667236328125, 16.880067825317383, 10.049444198608398, 20.777921676635742, 42.66836929321289, 27.696826934814453, 29.89771270751953, 9.407919883728027, 32.759464263916016, 29.662687301635742, 12.022208213806152, 35.7164421081543, 26.788227081298828, 2.709989547729492, 2.0301499366760254, 2.0301496982574463, 2.030149459838867, 2.0301496982574463, 2.0301496982574463, 2.0301496982574463, 2.030149459838867, 2.030149459838867, 2.030149459838867, 2.030149459838867, 3.37127423286438, 3.3972396850585938, 4.708961486816406, 1.3503096103668213, 1.3503097295761108, 1.3503094911575317, 1.3503094911575317, 1.3503097295761108, 1.3503094911575317, 1.3503096103668213, 1.3503094911575317, 1.3503094911575317, 1.3503094911575317, 1.3503094911575317, 1.3503096103668213, 1.3503093719482422, 1.3503097295761108, 1.3503097295761108, 1.3503094911575317, 1.3503096103668213, 2.659036159515381, 2.6806509494781494, 2.683811664581299, 2.683811664581299, 4.076692581176758, 2.6943304538726807, 2.6943302154541016, 2.7027909755706787, 2.70878005027771, 4.071084499359131, 2.7173995971679688, 2.7303342819213867, 2.730334520339966, 2.021482467651367, 4.725440979003906, 4.731431484222412, 6.133336067199707, 9.429877281188965, 29.662687301635742, 88.80094909667969, 32.759464263916016, 11.538994789123535, 16.126480102539062, 35.98760223388672, 10.111642837524414, 10.202431678771973, 18.742332458496094, 7.4243693351745605, 16.880067825317383, 6.059722900390625, 42.66836929321289, 27.044353485107422, 11.332087516784668, 56.49177932739258, 29.89771270751953, 10.716400146484375, 10.788505554199219, 11.521441459655762, 12.841747283935547, 13.416788101196289, 1.9930380582809448, 1.993038296699524, 1.9930384159088135, 1.9930380582809448, 1.9930381774902344, 1.993038296699524, 1.9930384159088135, 1.9930381774902344, 1.993038296699524, 1.9904913902282715, 1.3317537307739258, 1.3317536115646362, 1.3317537307739258, 1.3317537307739258, 1.3317537307739258, 1.3317537307739258, 1.3317537307739258, 1.3317537307739258, 1.3317536115646362, 1.3317537307739258, 1.3317536115646362, 1.3317537307739258, 1.3317538499832153, 1.3317537307739258, 1.3317537307739258, 1.3317537307739258, 1.3317537307739258, 1.3317536115646362, 1.3317537307739258, 1.3317537307739258, 2.665679454803467, 2.671668529510498, 2.671668529510498, 2.6728782653808594, 2.680288314819336, 2.680288314819336, 2.680288076400757, 2.680288314819336, 6.718270301818848, 10.039880752563477, 5.369958877563477, 88.80094909667969, 3.369184732437134, 25.686491012573242, 6.059722900390625, 20.777921676635742, 5.393495082855225, 2.6884613037109375, 2.67982816696167, 4.019527435302734, 4.023921966552734, 20.112102508544922, 57.522132873535156, 9.382540702819824, 35.98760223388672, 29.662687301635742, 26.788227081298828, 27.044353485107422, 29.509424209594727, 14.191484451293945, 11.432659149169922, 12.579331398010254, 56.49177932739258, 32.759464263916016, 16.880067825317383, 42.66836929321289, 13.416788101196289, 4.694076061248779, 27.696826934814453, 13.99838924407959, 8.760039329528809, 13.561981201171875, 12.939693450927734, 1.97779381275177, 1.9777942895889282, 1.97779381275177, 1.9777940511703491, 1.9777942895889282, 1.9777942895889282, 1.9777941703796387, 1.3241314888000488, 1.3241314888000488, 1.3241314888000488, 1.324131727218628, 1.3241314888000488, 1.3241314888000488, 1.324131727218628, 1.3241314888000488, 1.324131727218628, 1.3241316080093384, 1.324131727218628, 1.3241316080093384, 1.3241316080093384, 1.3241316080093384, 1.3241316080093384, 1.324131727218628, 1.3241314888000488, 1.3241316080093384, 1.3241316080093384, 1.324131727218628, 1.3241316080093384, 1.3241314888000488, 1.3241316080093384, 1.3241314888000488, 2.596740245819092, 3.3151960372924805, 3.9958934783935547, 2.639078378677368, 2.641974925994873, 1.98298978805542, 2.6564247608184814, 2.665043592453003, 2.665867328643799, 4.670800685882568, 4.697521686553955, 4.002686500549316, 4.649143695831299, 12.701583862304688, 5.237261772155762, 5.3260955810546875, 7.363813877105713, 11.332087516784668, 3.2969255447387695, 3.318918466567993, 3.3290653228759766, 56.49177932739258, 3.3392632007598877, 35.7164421081543, 12.579331398010254, 6.022231101989746, 18.742332458496094, 6.714966297149658, 88.80094909667969, 12.728501319885254, 32.759464263916016, 17.511781692504883, 10.039283752441406, 10.087728500366211, 29.89771270751953, 10.788505554199219, 42.66836929321289, 12.789421081542969, 57.522132873535156, 27.696826934814453, 35.98760223388672, 1.9083609580993652, 1.9083614349365234, 1.9083621501922607, 1.9083621501922607, 1.9083621501922607, 1.913279414176941, 1.289414882659912, 1.2894151210784912, 1.2894151210784912, 1.2894151210784912, 1.2894151210784912, 1.2894151210784912, 1.2894151210784912, 1.2894151210784912, 1.2894151210784912, 1.2894151210784912, 1.2894152402877808, 1.2894151210784912, 1.2894151210784912, 1.2894151210784912, 1.2894151210784912, 1.2894151210784912, 1.2894153594970703, 1.2894152402877808, 1.2894152402877808, 1.2894152402877808, 1.2894151210784912, 1.2894152402877808, 1.2894151210784912, 1.2894153594970703, 3.9147419929504395, 2.58699369430542, 2.575590133666992, 2.577725410461426, 4.540846347808838, 3.956822395324707, 4.597542762756348, 10.52391529083252, 3.236722230911255, 3.257718801498413, 3.274242401123047, 3.2957963943481445, 57.522132873535156, 3.9093570709228516, 3.928727149963379, 3.944251298904419, 3.9442524909973145, 3.9442524909973145, 3.9442524909973145, 3.9442524909973145, 3.9442529678344727, 35.98760223388672, 3.9251151084899902, 13.99838924407959, 56.49177932739258, 32.759464263916016, 8.654854774475098, 26.788227081298828, 9.36847972869873, 88.80094909667969, 29.509424209594727, 11.381103515625, 12.579331398010254, 29.662687301635742, 13.416788101196289, 42.66836929321289, 15.488258361816406, 16.126480102539062, 10.094988822937012, 17.511781692504883, 27.696826934814453, 18.742332458496094, 27.044353485107422, 13.450750350952148, 14.191484451293945, 12.789421081542969], \"Category\": [\"Default\", \"Default\", \"Default\", \"Default\", \"Default\", \"Default\", \"Default\", \"Default\", \"Default\", \"Default\", \"Default\", \"Default\", \"Default\", \"Default\", \"Default\", \"Default\", \"Default\", \"Default\", \"Default\", \"Default\", \"Default\", \"Default\", \"Default\", \"Default\", \"Default\", \"Default\", \"Default\", \"Default\", \"Default\", \"Default\", \"Topic1\", \"Topic1\", \"Topic1\", \"Topic1\", \"Topic1\", \"Topic1\", \"Topic1\", \"Topic1\", \"Topic1\", \"Topic1\", \"Topic1\", \"Topic1\", \"Topic1\", \"Topic1\", \"Topic1\", \"Topic1\", \"Topic1\", \"Topic1\", \"Topic1\", \"Topic1\", \"Topic1\", \"Topic1\", \"Topic1\", \"Topic1\", \"Topic1\", \"Topic1\", \"Topic1\", \"Topic1\", \"Topic1\", \"Topic1\", \"Topic1\", \"Topic1\", \"Topic1\", \"Topic1\", \"Topic1\", \"Topic1\", \"Topic1\", \"Topic1\", \"Topic1\", \"Topic1\", \"Topic1\", \"Topic1\", \"Topic1\", \"Topic1\", \"Topic1\", \"Topic1\", \"Topic1\", \"Topic1\", \"Topic1\", \"Topic1\", \"Topic1\", \"Topic1\", \"Topic1\", \"Topic1\", \"Topic1\", \"Topic1\", \"Topic1\", \"Topic1\", \"Topic1\", \"Topic1\", \"Topic1\", \"Topic1\", \"Topic1\", \"Topic1\", \"Topic1\", \"Topic1\", \"Topic1\", \"Topic1\", \"Topic1\", \"Topic1\", \"Topic1\", \"Topic1\", \"Topic1\", \"Topic1\", \"Topic2\", \"Topic2\", \"Topic2\", \"Topic2\", \"Topic2\", \"Topic2\", \"Topic2\", \"Topic2\", \"Topic2\", \"Topic2\", \"Topic2\", \"Topic2\", \"Topic2\", \"Topic2\", \"Topic2\", \"Topic2\", \"Topic2\", \"Topic2\", \"Topic2\", \"Topic2\", \"Topic2\", \"Topic2\", \"Topic2\", \"Topic2\", \"Topic2\", \"Topic2\", \"Topic2\", \"Topic2\", \"Topic2\", \"Topic2\", \"Topic2\", \"Topic2\", \"Topic2\", \"Topic2\", \"Topic2\", \"Topic2\", \"Topic2\", \"Topic2\", \"Topic2\", \"Topic2\", \"Topic2\", \"Topic2\", \"Topic2\", \"Topic2\", \"Topic2\", \"Topic2\", \"Topic2\", \"Topic2\", \"Topic2\", \"Topic2\", \"Topic2\", \"Topic2\", \"Topic2\", \"Topic2\", \"Topic2\", \"Topic2\", \"Topic2\", \"Topic2\", \"Topic2\", \"Topic2\", \"Topic2\", \"Topic2\", \"Topic2\", \"Topic2\", \"Topic2\", \"Topic2\", \"Topic2\", \"Topic2\", \"Topic2\", \"Topic2\", \"Topic2\", \"Topic2\", \"Topic2\", \"Topic2\", \"Topic3\", \"Topic3\", \"Topic3\", \"Topic3\", \"Topic3\", \"Topic3\", \"Topic3\", \"Topic3\", \"Topic3\", \"Topic3\", \"Topic3\", \"Topic3\", \"Topic3\", \"Topic3\", \"Topic3\", \"Topic3\", \"Topic3\", \"Topic3\", \"Topic3\", \"Topic3\", \"Topic3\", \"Topic3\", \"Topic3\", \"Topic3\", \"Topic3\", \"Topic3\", \"Topic3\", \"Topic3\", \"Topic3\", \"Topic3\", \"Topic3\", \"Topic3\", \"Topic3\", \"Topic3\", \"Topic3\", \"Topic3\", \"Topic3\", \"Topic3\", \"Topic3\", \"Topic3\", \"Topic3\", \"Topic3\", \"Topic3\", \"Topic3\", \"Topic3\", \"Topic3\", \"Topic3\", \"Topic3\", \"Topic3\", \"Topic3\", \"Topic3\", \"Topic3\", \"Topic3\", \"Topic3\", \"Topic3\", \"Topic3\", \"Topic3\", \"Topic3\", \"Topic3\", \"Topic3\", \"Topic3\", \"Topic3\", \"Topic3\", \"Topic3\", \"Topic3\", \"Topic3\", \"Topic3\", \"Topic3\", \"Topic3\", \"Topic3\", \"Topic3\", \"Topic3\", \"Topic3\", \"Topic4\", \"Topic4\", \"Topic4\", \"Topic4\", \"Topic4\", \"Topic4\", \"Topic4\", \"Topic4\", \"Topic4\", \"Topic4\", \"Topic4\", \"Topic4\", \"Topic4\", \"Topic4\", \"Topic4\", \"Topic4\", \"Topic4\", \"Topic4\", \"Topic4\", \"Topic4\", \"Topic4\", \"Topic4\", \"Topic4\", \"Topic4\", \"Topic4\", \"Topic4\", \"Topic4\", \"Topic4\", \"Topic4\", \"Topic4\", \"Topic4\", \"Topic4\", \"Topic4\", \"Topic4\", \"Topic4\", \"Topic4\", \"Topic4\", \"Topic4\", \"Topic4\", \"Topic4\", \"Topic4\", \"Topic4\", \"Topic4\", \"Topic4\", \"Topic4\", \"Topic4\", \"Topic4\", \"Topic4\", \"Topic4\", \"Topic4\", \"Topic4\", \"Topic4\", \"Topic4\", \"Topic4\", \"Topic4\", \"Topic4\", \"Topic4\", \"Topic4\", \"Topic4\", \"Topic4\", \"Topic4\", \"Topic4\", \"Topic4\", \"Topic4\", \"Topic4\", \"Topic4\", \"Topic4\", \"Topic4\", \"Topic4\", \"Topic4\", \"Topic5\", \"Topic5\", \"Topic5\", \"Topic5\", \"Topic5\", \"Topic5\", \"Topic5\", \"Topic5\", \"Topic5\", \"Topic5\", \"Topic5\", \"Topic5\", \"Topic5\", \"Topic5\", \"Topic5\", \"Topic5\", \"Topic5\", \"Topic5\", \"Topic5\", \"Topic5\", \"Topic5\", \"Topic5\", \"Topic5\", \"Topic5\", \"Topic5\", \"Topic5\", \"Topic5\", \"Topic5\", \"Topic5\", \"Topic5\", \"Topic5\", \"Topic5\", \"Topic5\", \"Topic5\", \"Topic5\", \"Topic5\", \"Topic5\", \"Topic5\", \"Topic5\", \"Topic5\", \"Topic5\", \"Topic5\", \"Topic5\", \"Topic5\", \"Topic5\", \"Topic5\", \"Topic5\", \"Topic5\", \"Topic5\", \"Topic5\", \"Topic5\", \"Topic5\", \"Topic5\", \"Topic5\", \"Topic5\", \"Topic5\", \"Topic5\", \"Topic5\", \"Topic5\", \"Topic5\", \"Topic5\", \"Topic5\", \"Topic5\", \"Topic5\", \"Topic5\", \"Topic5\", \"Topic5\", \"Topic5\", \"Topic5\", \"Topic5\", \"Topic5\", \"Topic5\", \"Topic5\", \"Topic6\", \"Topic6\", \"Topic6\", \"Topic6\", \"Topic6\", \"Topic6\", \"Topic6\", \"Topic6\", \"Topic6\", \"Topic6\", \"Topic6\", \"Topic6\", \"Topic6\", \"Topic6\", \"Topic6\", \"Topic6\", \"Topic6\", \"Topic6\", \"Topic6\", \"Topic6\", \"Topic6\", \"Topic6\", \"Topic6\", \"Topic6\", \"Topic6\", \"Topic6\", \"Topic6\", \"Topic6\", \"Topic6\", \"Topic6\", \"Topic6\", \"Topic6\", \"Topic6\", \"Topic6\", \"Topic6\", \"Topic6\", \"Topic6\", \"Topic6\", \"Topic6\", \"Topic6\", \"Topic6\", \"Topic6\", \"Topic6\", \"Topic6\", \"Topic6\", \"Topic6\", \"Topic6\", \"Topic6\", \"Topic6\", \"Topic6\", \"Topic6\", \"Topic6\", \"Topic6\", \"Topic6\", \"Topic6\", \"Topic6\", \"Topic6\", \"Topic6\", \"Topic6\", \"Topic6\", \"Topic6\", \"Topic6\", \"Topic6\", \"Topic6\", \"Topic6\", \"Topic6\", \"Topic6\", \"Topic6\", \"Topic6\", \"Topic6\", \"Topic6\", \"Topic6\", \"Topic6\", \"Topic6\", \"Topic6\", \"Topic6\", \"Topic7\", \"Topic7\", \"Topic7\", \"Topic7\", \"Topic7\", \"Topic7\", \"Topic7\", \"Topic7\", \"Topic7\", \"Topic7\", \"Topic7\", \"Topic7\", \"Topic7\", \"Topic7\", \"Topic7\", \"Topic7\", \"Topic7\", \"Topic7\", \"Topic7\", \"Topic7\", \"Topic7\", \"Topic7\", \"Topic7\", \"Topic7\", \"Topic7\", \"Topic7\", \"Topic7\", \"Topic7\", \"Topic7\", \"Topic7\", \"Topic7\", \"Topic7\", \"Topic7\", \"Topic7\", \"Topic7\", \"Topic7\", \"Topic7\", \"Topic7\", \"Topic7\", \"Topic7\", \"Topic7\", \"Topic7\", \"Topic7\", \"Topic7\", \"Topic7\", \"Topic7\", \"Topic7\", \"Topic7\", \"Topic7\", \"Topic7\", \"Topic7\", \"Topic7\", \"Topic7\", \"Topic7\", \"Topic7\", \"Topic7\", \"Topic7\", \"Topic7\", \"Topic7\", \"Topic7\", \"Topic7\", \"Topic7\", \"Topic7\", \"Topic7\", \"Topic7\", \"Topic7\", \"Topic7\", \"Topic7\", \"Topic7\", \"Topic7\", \"Topic7\", \"Topic8\", \"Topic8\", \"Topic8\", \"Topic8\", \"Topic8\", \"Topic8\", \"Topic8\", \"Topic8\", \"Topic8\", \"Topic8\", \"Topic8\", \"Topic8\", \"Topic8\", \"Topic8\", \"Topic8\", \"Topic8\", \"Topic8\", \"Topic8\", \"Topic8\", \"Topic8\", \"Topic8\", \"Topic8\", \"Topic8\", \"Topic8\", \"Topic8\", \"Topic8\", \"Topic8\", \"Topic8\", \"Topic8\", \"Topic8\", \"Topic8\", \"Topic8\", \"Topic8\", \"Topic8\", \"Topic8\", \"Topic8\", \"Topic8\", \"Topic8\", \"Topic8\", \"Topic8\", \"Topic8\", \"Topic8\", \"Topic8\", \"Topic8\", \"Topic8\", \"Topic8\", \"Topic8\", \"Topic8\", \"Topic8\", \"Topic8\", \"Topic8\", \"Topic8\", \"Topic8\", \"Topic8\", \"Topic8\", \"Topic8\", \"Topic8\", \"Topic8\", \"Topic8\", \"Topic8\", \"Topic8\", \"Topic8\", \"Topic8\", \"Topic8\", \"Topic8\", \"Topic8\", \"Topic8\", \"Topic8\", \"Topic8\", \"Topic8\", \"Topic8\", \"Topic8\", \"Topic8\", \"Topic9\", \"Topic9\", \"Topic9\", \"Topic9\", \"Topic9\", \"Topic9\", \"Topic9\", \"Topic9\", \"Topic9\", \"Topic9\", \"Topic9\", \"Topic9\", \"Topic9\", \"Topic9\", \"Topic9\", \"Topic9\", \"Topic9\", \"Topic9\", \"Topic9\", \"Topic9\", \"Topic9\", \"Topic9\", \"Topic9\", \"Topic9\", \"Topic9\", \"Topic9\", \"Topic9\", \"Topic9\", \"Topic9\", \"Topic9\", \"Topic9\", \"Topic9\", \"Topic9\", \"Topic9\", \"Topic9\", \"Topic9\", \"Topic9\", \"Topic9\", \"Topic9\", \"Topic9\", \"Topic9\", \"Topic9\", \"Topic9\", \"Topic9\", \"Topic9\", \"Topic9\", \"Topic9\", \"Topic9\", \"Topic9\", \"Topic9\", \"Topic9\", \"Topic9\", \"Topic9\", \"Topic9\", \"Topic9\", \"Topic9\", \"Topic9\", \"Topic9\", \"Topic9\", \"Topic9\", \"Topic9\", \"Topic9\", \"Topic9\", \"Topic9\", \"Topic9\", \"Topic9\", \"Topic9\", \"Topic9\", \"Topic9\", \"Topic9\", \"Topic9\", \"Topic9\", \"Topic10\", \"Topic10\", \"Topic10\", \"Topic10\", \"Topic10\", \"Topic10\", \"Topic10\", \"Topic10\", \"Topic10\", \"Topic10\", \"Topic10\", \"Topic10\", \"Topic10\", \"Topic10\", \"Topic10\", \"Topic10\", \"Topic10\", \"Topic10\", \"Topic10\", \"Topic10\", \"Topic10\", \"Topic10\", \"Topic10\", \"Topic10\", \"Topic10\", \"Topic10\", \"Topic10\", \"Topic10\", \"Topic10\", \"Topic10\", \"Topic10\", \"Topic10\", \"Topic10\", \"Topic10\", \"Topic10\", \"Topic10\", \"Topic10\", \"Topic10\", \"Topic10\", \"Topic10\", \"Topic10\", \"Topic10\", \"Topic10\", \"Topic10\", \"Topic10\", \"Topic10\", \"Topic10\", \"Topic10\", \"Topic10\", \"Topic10\", \"Topic10\", \"Topic10\", \"Topic10\", \"Topic10\", \"Topic10\", \"Topic10\", \"Topic10\", \"Topic10\", \"Topic10\", \"Topic10\", \"Topic10\", \"Topic10\", \"Topic10\", \"Topic10\", \"Topic10\", \"Topic10\", \"Topic10\", \"Topic10\", \"Topic10\", \"Topic10\", \"Topic10\", \"Topic10\", \"Topic10\", \"Topic10\", \"Topic10\", \"Topic10\"], \"logprob\": [30.0, 29.0, 28.0, 27.0, 26.0, 25.0, 24.0, 23.0, 22.0, 21.0, 20.0, 19.0, 18.0, 17.0, 16.0, 15.0, 14.0, 13.0, 12.0, 11.0, 10.0, 9.0, 8.0, 7.0, 6.0, 5.0, 4.0, 3.0, 2.0, 1.0, -6.486299991607666, -6.486299991607666, -6.486299991607666, -6.486299991607666, -6.486299991607666, -6.486299991607666, -6.486299991607666, -6.486299991607666, -6.486299991607666, -6.486299991607666, -6.486299991607666, -6.486299991607666, -6.486299991607666, -6.486299991607666, -6.096799850463867, -5.817200183868408, -7.132900238037109, -7.132900238037109, -7.132900238037109, -7.132900238037109, -7.132900238037109, -7.132900238037109, -7.132900238037109, -7.132900238037109, -7.132900238037109, -7.132900238037109, -7.132900238037109, -7.132900238037109, -7.132900238037109, -7.132900238037109, -6.486299991607666, -6.486299991607666, -6.486299991607666, -6.486299991607666, -6.486299991607666, -5.817200183868408, -6.096799850463867, -6.096799850463867, -6.26039981842041, -6.096799850463867, -6.486299991607666, -6.486299991607666, -6.486299991607666, -6.486299991607666, -5.817200183868408, -5.817200183868408, -4.821199893951416, -6.096799850463867, -5.419899940490723, -4.632400035858154, -5.817200183868408, -4.589799880981445, -5.598999977111816, -5.136300086975098, -5.419899940490723, -4.655600070953369, -5.598899841308594, -5.3267998695373535, -5.817200183868408, -5.817200183868408, -5.817200183868408, -5.662199974060059, -6.096799850463867, -5.817299842834473, -5.504499912261963, -5.9045000076293945, -5.817200183868408, -5.817200183868408, -5.598899841308594, -5.817200183868408, -5.951399803161621, -6.096799850463867, -6.096799850463867, -6.096799850463867, -6.386199951171875, -6.386199951171875, -6.386199951171875, -6.386199951171875, -6.386199951171875, -6.386199951171875, -6.386199951171875, -6.386199951171875, -6.386300086975098, -6.034299850463867, -6.311100006103516, -7.032899856567383, -7.032899856567383, -7.032899856567383, -7.032899856567383, -7.032899856567383, -7.032899856567383, -7.032899856567383, -7.032899856567383, -7.032899856567383, -7.032899856567383, -7.032899856567383, -7.032899856567383, -7.032899856567383, -7.032899856567383, -7.032899856567383, -7.032899856567383, -7.032899856567383, -7.032899856567383, -7.032899856567383, -5.498899936676025, -6.386199951171875, -6.386199951171875, -6.386199951171875, -6.078000068664551, -5.996799945831299, -5.996799945831299, -6.029300212860107, -5.319900035858154, -5.996799945831299, -5.319900035858154, -5.755199909210205, -6.386199951171875, -6.386199951171875, -6.386300086975098, -6.386199951171875, -6.74459981918335, -4.178500175476074, -5.510799884796143, -5.498899936676025, -5.605000019073486, -5.1859002113342285, -5.084700107574463, -5.797900199890137, -5.185500144958496, -4.905700206756592, -4.952000141143799, -5.168099880218506, -5.08650016784668, -5.63730001449585, -5.498899936676025, -5.74370002746582, -5.996799945831299, -6.046000003814697, -5.996799945831299, -5.996799945831299, -5.996799945831299, -5.717199802398682, -5.717199802398682, -5.95389986038208, -5.996799945831299, -5.996799945831299, -5.996799945831299, -5.996799945831299, -6.386000156402588, -6.386000156402588, -6.386000156402588, -6.386000156402588, -6.386000156402588, -6.386000156402588, -6.1946001052856445, -5.810500144958496, -6.210400104522705, -5.996600151062012, -6.537499904632568, -7.032599925994873, -7.032599925994873, -7.032599925994873, -7.032599925994873, -7.032599925994873, -7.032599925994873, -7.032599925994873, -7.032599925994873, -7.032599925994873, -7.032599925994873, -7.032599925994873, -7.032599925994873, -7.032599925994873, -7.032599925994873, -7.032700061798096, -7.032700061798096, -7.032700061798096, -7.032700061798096, -7.032700061798096, -7.032700061798096, -6.386000156402588, -5.996600151062012, -6.386000156402588, -6.386000156402588, -6.386000156402588, -6.386000156402588, -5.498700141906738, -5.7170000076293945, -5.498700141906738, -6.715799808502197, -6.185800075531006, -5.996600151062012, -5.996600151062012, -5.996600151062012, -4.8379998207092285, -5.848100185394287, -5.619800090789795, -6.531400203704834, -6.386000156402588, -6.386000156402588, -4.625800132751465, -5.036099910736084, -5.036099910736084, -4.954899787902832, -5.167900085449219, -5.039299964904785, -5.7170000076293945, -5.7170000076293945, -5.498700141906738, -5.808300018310547, -5.996600151062012, -5.9527997970581055, -5.996600151062012, -5.996600151062012, -5.996600151062012, -5.83050012588501, -5.996600151062012, -5.996500015258789, -5.996500015258789, -5.996500015258789, -5.996500015258789, -5.996500015258789, -6.379000186920166, -6.379000186920166, -6.379000186920166, -6.379000186920166, -6.379000186920166, -6.379000186920166, -6.379000186920166, -6.379000186920166, -6.379000186920166, -6.379000186920166, -6.379000186920166, -5.98960018157959, -5.98960018157959, -7.025599956512451, -7.025700092315674, -7.025700092315674, -7.025700092315674, -7.025700092315674, -7.025700092315674, -7.025700092315674, -7.025700092315674, -7.025700092315674, -7.025700092315674, -7.025700092315674, -7.025700092315674, -7.025700092315674, -7.025700092315674, -7.025700092315674, -7.025700092315674, -7.025700092315674, -5.98960018157959, -5.98960018157959, -5.98960018157959, -5.98960018157959, -5.98960018157959, -5.98960018157959, -5.98960018157959, -5.710000038146973, -5.98960018157959, -6.379000186920166, -6.379000186920166, -6.379000186920166, -5.160900115966797, -5.98960018157959, -5.312699794769287, -5.710000038146973, -6.6890997886657715, -5.029099941253662, -4.321199893951416, -5.160900115966797, -5.087900161743164, -4.569200038909912, -4.854700088500977, -5.160900115966797, -5.6656999588012695, -5.98960018157959, -5.448400020599365, -5.465000152587891, -5.98960018157959, -5.98960018157959, -5.98960018157959, -5.710000038146973, -5.884300231933594, -5.989500045776367, -5.989500045776367, -5.989500045776367, -5.98960018157959, -5.98960018157959, -5.98960018157959, -5.98960018157959, -6.354400157928467, -6.354400157928467, -6.354400157928467, -6.354400157928467, -6.354400157928467, -6.354400157928467, -6.404099941253662, -7.000999927520752, -7.000999927520752, -7.000999927520752, -7.000999927520752, -7.000999927520752, -7.000999927520752, -7.000999927520752, -7.000999927520752, -7.000999927520752, -7.000999927520752, -7.000999927520752, -7.000999927520752, -7.000999927520752, -7.000999927520752, -7.000999927520752, -7.000999927520752, -7.000999927520752, -7.000999927520752, -7.000999927520752, -7.000999927520752, -7.000999927520752, -7.000999927520752, -7.000999927520752, -5.389599800109863, -6.354400157928467, -5.685299873352051, -5.495699882507324, -6.354400157928467, -6.354400157928467, -6.354400157928467, -5.964900016784668, -6.436600208282471, -5.964900016784668, -5.309599876403809, -6.354400157928467, -6.354400157928467, -6.354400157928467, -5.00439977645874, -5.685299873352051, -5.00439977645874, -5.685299873352051, -5.467100143432617, -5.744900226593018, -4.888000011444092, -5.252799987792969, -6.566400051116943, -6.42140007019043, -5.685299873352051, -4.54040002822876, -5.00439977645874, -5.288000106811523, -5.685299873352051, -5.685299873352051, -5.101799964904785, -5.685299873352051, -5.964900016784668, -5.4670000076293945, -5.887599945068359, -5.317800045013428, -5.549099922180176, -5.557700157165527, -5.548500061035156, -6.073299884796143, -5.964900016784668, -5.964900016784668, -5.964900016784668, -5.9506001472473145, -6.340099811553955, -6.340099811553955, -6.340099811553955, -5.671000003814697, -6.986700057983398, -6.986700057983398, -6.986700057983398, -6.986700057983398, -6.986700057983398, -6.986700057983398, -6.986700057983398, -6.986700057983398, -6.986700057983398, -6.986700057983398, -6.986700057983398, -6.986700057983398, -6.986700057983398, -6.986700057983398, -6.986700057983398, -6.986700057983398, -6.986700057983398, -6.986700057983398, -6.986700057983398, -6.986700057983398, -6.986700057983398, -6.986700057983398, -6.986700057983398, -6.986700057983398, -6.986700057983398, -6.340099811553955, -6.340099811553955, -5.671000003814697, -6.340099811553955, -6.340099811553955, -5.9506001472473145, -6.340099811553955, -6.340099811553955, -6.0152997970581055, -6.018899917602539, -5.27370023727417, -6.431700229644775, -5.4527997970581055, -5.714600086212158, -4.564899921417236, -5.7972002029418945, -6.340099811553955, -6.190100193023682, -4.284299850463867, -4.782299995422363, -6.340099811553955, -6.340099811553955, -6.340099811553955, -5.866099834442139, -6.145699977874756, -5.474899768829346, -5.708099842071533, -5.327300071716309, -5.671000003814697, -5.9506001472473145, -4.809800148010254, -5.671000003814697, -5.9506001472473145, -5.9506001472473145, -5.671000003814697, -5.886300086975098, -5.671000003814697, -5.4527997970581055, -5.671000003814697, -5.671800136566162, -5.954899787902832, -5.729300022125244, -5.890399932861328, -5.9506001472473145, -5.9506001472473145, -5.9506001472473145, -5.9182000160217285, -6.307600021362305, -6.307600021362305, -6.307700157165527, -6.307700157165527, -6.307700157165527, -6.307700157165527, -6.307700157165527, -6.307700157165527, -6.307700157165527, -6.307700157165527, -5.9182000160217285, -5.9182000160217285, -5.638599872589111, -6.9542999267578125, -6.9542999267578125, -6.9542999267578125, -6.9542999267578125, -6.9542999267578125, -6.9542999267578125, -6.9542999267578125, -6.9542999267578125, -6.9542999267578125, -6.9542999267578125, -6.9542999267578125, -6.9542999267578125, -6.9542999267578125, -6.9542999267578125, -6.9542999267578125, -6.9542999267578125, -6.9542999267578125, -6.307600021362305, -6.307600021362305, -6.307600021362305, -6.307600021362305, -5.9182000160217285, -6.307600021362305, -6.307600021362305, -6.307600021362305, -6.307600021362305, -5.935100078582764, -6.307700157165527, -6.307700157165527, -6.307700157165527, -6.61359977722168, -5.9182000160217285, -5.9182000160217285, -5.7617998123168945, -5.456900119781494, -4.672900199890137, -3.9825000762939453, -4.74970006942749, -5.420300006866455, -5.327099800109863, -4.994500160217285, -5.638599872589111, -5.638599872589111, -5.344600200653076, -5.804800033569336, -5.420300006866455, -5.9182000160217285, -5.2581000328063965, -5.420300006866455, -5.78849983215332, -5.404900074005127, -5.638599872589111, -5.9182000160217285, -5.9182000160217285, -5.9182000160217285, -5.9182000160217285, -5.9182000160217285, -6.273900032043457, -6.273900032043457, -6.273900032043457, -6.273900032043457, -6.273900032043457, -6.273900032043457, -6.273900032043457, -6.273900032043457, -6.273900032043457, -6.447199821472168, -6.920499801635742, -6.920499801635742, -6.920499801635742, -6.920499801635742, -6.920499801635742, -6.920499801635742, -6.920499801635742, -6.920499801635742, -6.920499801635742, -6.920499801635742, -6.920499801635742, -6.920499801635742, -6.920499801635742, -6.920499801635742, -6.920499801635742, -6.920499801635742, -6.920499801635742, -6.920499801635742, -6.920499801635742, -6.920499801635742, -6.273900032043457, -6.273900032043457, -6.273900032043457, -6.273900032043457, -6.273900032043457, -6.273900032043457, -6.273900032043457, -6.273900032043457, -5.604800224304199, -5.386600017547607, -5.884399890899658, -3.9581000804901123, -6.273900032043457, -4.896299839019775, -5.884399890899658, -5.055699825286865, -6.043600082397461, -6.482900142669678, -6.508900165557861, -6.273900032043457, -6.273900032043457, -5.481400012969971, -5.037600040435791, -5.884399890899658, -5.386600017547607, -5.490900039672852, -5.604800224304199, -5.6041998863220215, -5.604800224304199, -5.813399791717529, -5.884399890899658, -5.884399890899658, -5.606100082397461, -5.730800151824951, -5.884399890899658, -5.7617998123168945, -6.066999912261963, -6.216400146484375, -6.260499954223633, -6.273900032043457, -6.273900032043457, -6.273900032043457, -6.273900032043457, -6.272799968719482, -6.272799968719482, -6.272799968719482, -6.272799968719482, -6.272799968719482, -6.272799968719482, -6.272799968719482, -6.919400215148926, -6.919400215148926, -6.919400215148926, -6.919400215148926, -6.919400215148926, -6.919400215148926, -6.919400215148926, -6.919400215148926, -6.919400215148926, -6.919400215148926, -6.919400215148926, -6.919400215148926, -6.919400215148926, -6.919400215148926, -6.919400215148926, -6.919400215148926, -6.919400215148926, -6.919400215148926, -6.919400215148926, -6.919400215148926, -6.919400215148926, -6.919400215148926, -6.919400215148926, -6.919400215148926, -6.272799968719482, -6.053699970245361, -5.883299827575684, -6.272799968719482, -6.27269983291626, -6.540900230407715, -6.272799968719482, -6.272799968719482, -6.272799968719482, -5.883299827575684, -5.883299827575684, -6.0625, -5.949100017547607, -5.206399917602539, -5.883299827575684, -5.883299827575684, -5.650899887084961, -5.38539981842041, -6.272799968719482, -6.27269983291626, -6.272799968719482, -4.300000190734863, -6.272799968719482, -4.656000137329102, -5.38539981842041, -5.883299827575684, -5.312699794769287, -5.883299827575684, -4.573999881744385, -5.603700160980225, -5.249499797821045, -5.603700160980225, -5.883299827575684, -5.883299827575684, -5.603700160980225, -5.883299827575684, -5.603700160980225, -5.883299827575684, -5.603600025177002, -5.883299827575684, -5.883200168609619, -6.211400032043457, -6.211400032043457, -6.211400032043457, -6.211400032043457, -6.211400032043457, -6.2459001541137695, -6.857999801635742, -6.857999801635742, -6.857999801635742, -6.857999801635742, -6.857999801635742, -6.857999801635742, -6.857999801635742, -6.857999801635742, -6.857999801635742, -6.857999801635742, -6.857999801635742, -6.857999801635742, -6.857999801635742, -6.857999801635742, -6.857999801635742, -6.857999801635742, -6.857999801635742, -6.857999801635742, -6.857999801635742, -6.857999801635742, -6.857999801635742, -6.857999801635742, -6.857999801635742, -6.857999801635742, -5.822000026702881, -6.211400032043457, -6.232600212097168, -6.258500099182129, -5.822000026702881, -5.96999979019165, -5.912199974060059, -5.324100017547607, -6.211400032043457, -6.211400032043457, -6.211400032043457, -6.211400032043457, -4.644899845123291, -6.211400032043457, -6.211400032043457, -6.211400032043457, -6.211400032043457, -6.211400032043457, -6.211400032043457, -6.211400032043457, -6.211400032043457, -4.985499858856201, -6.240799903869629, -5.542399883270264, -4.785900115966797, -5.121500015258789, -5.822000026702881, -5.324100017547607, -5.822000026702881, -5.000699996948242, -5.44890022277832, -5.821899890899658, -5.821899890899658, -5.542300224304199, -5.821899890899658, -5.542399883270264, -5.821899890899658, -5.821899890899658, -5.9390997886657715, -5.843699932098389, -5.821899890899658, -5.9604997634887695, -5.986100196838379, -6.211400032043457, -6.211400032043457, -6.211400032043457], \"loglift\": [30.0, 29.0, 28.0, 27.0, 26.0, 25.0, 24.0, 23.0, 22.0, 21.0, 20.0, 19.0, 18.0, 17.0, 16.0, 15.0, 14.0, 13.0, 12.0, 11.0, 10.0, 9.0, 8.0, 7.0, 6.0, 5.0, 4.0, 3.0, 2.0, 1.0, 1.7750999927520752, 1.7750999927520752, 1.7750999927520752, 1.7750999927520752, 1.7750999927520752, 1.7750999927520752, 1.7750999927520752, 1.7750999927520752, 1.7750999927520752, 1.7750999927520752, 1.7750999927520752, 1.7750999927520752, 1.7750999927520752, 1.7750999927520752, 1.6541999578475952, 1.6009999513626099, 1.541100025177002, 1.541100025177002, 1.541100025177002, 1.541100025177002, 1.541100025177002, 1.541100025177002, 1.541100025177002, 1.541100025177002, 1.541100025177002, 1.541100025177002, 1.541100025177002, 1.541100025177002, 1.541100025177002, 1.541100025177002, 1.5135999917984009, 1.5135999917984009, 1.5135999917984009, 1.5135999917984009, 1.5135999917984009, 1.4752000570297241, 1.4888999462127686, 1.486899971961975, 1.493399977684021, 1.4817999601364136, 1.5008000135421753, 1.5008000135421753, 1.4980000257492065, 1.496899962425232, 1.3603999614715576, 1.354099988937378, 0.8468000292778015, 1.340000033378601, 1.0090999603271484, 0.6035000085830688, 1.1579999923706055, 0.36550000309944153, 0.953000009059906, 0.4551999866962433, 0.7064999938011169, -0.1526000052690506, 0.7831000089645386, 0.36500000953674316, 0.9153000116348267, 0.8655999898910522, 0.850600004196167, 0.5870000123977661, 1.193600058555603, 0.7279000282287598, 0.0949999988079071, 0.7621999979019165, 0.5756000280380249, 0.5195000171661377, -0.6618000268936157, -0.2125999927520752, -0.451200008392334, -0.6830999851226807, 0.25360000133514404, -0.03819999843835831, 1.8868999481201172, 1.8868999481201172, 1.8868999481201172, 1.8868999481201172, 1.8868999481201172, 1.8868999481201172, 1.8868999481201172, 1.8868999481201172, 1.8868999481201172, 1.7323999404907227, 1.676900029182434, 1.649999976158142, 1.649999976158142, 1.649999976158142, 1.649999976158142, 1.649999976158142, 1.649999976158142, 1.649999976158142, 1.649999976158142, 1.649999976158142, 1.649999976158142, 1.649999976158142, 1.649999976158142, 1.649999976158142, 1.649999976158142, 1.649999976158142, 1.649999976158142, 1.649999976158142, 1.649999976158142, 1.649999976158142, 1.5649000406265259, 1.6058000326156616, 1.600100040435791, 1.5973999500274658, 1.4983999729156494, 1.4332000017166138, 1.432800054550171, 1.3946000337600708, 1.1166000366210938, 1.3056000471115112, 1.0147000551223755, 1.1389000415802002, 1.389799952507019, 1.3883999586105347, 1.3832999467849731, 1.3798999786376953, 1.5288000106811523, 0.3244999945163727, 0.9298999905586243, 0.8970000147819519, 0.8425999879837036, 0.5059000253677368, 0.4153999984264374, 0.9345999956130981, 0.41909998655319214, 0.03139999881386757, 0.0031999999191612005, 0.24560000002384186, 0.149399995803833, 0.699400007724762, 0.09260000288486481, 0.4194999933242798, 0.977400004863739, 1.0317000150680542, 0.8952999711036682, 0.8949000239372253, 0.8914999961853027, -0.015799999237060547, -0.3109999895095825, 0.001500000013038516, 0.7468000054359436, -0.008799999952316284, 0.6812000274658203, 0.12970000505447388, 1.8878999948501587, 1.8878999948501587, 1.8878999948501587, 1.8878999948501587, 1.8878999948501587, 1.8878999948501587, 1.7913999557495117, 1.7805999517440796, 1.7755999565124512, 1.7699999809265137, 1.7376999855041504, 1.6509000062942505, 1.6509000062942505, 1.6509000062942505, 1.6509000062942505, 1.6509000062942505, 1.6509000062942505, 1.6509000062942505, 1.6509000062942505, 1.6509000062942505, 1.6509000062942505, 1.6509000062942505, 1.6509000062942505, 1.6509000062942505, 1.6509000062942505, 1.6509000062942505, 1.6509000062942505, 1.6509000062942505, 1.6509000062942505, 1.6509000062942505, 1.6509000062942505, 1.6104999780654907, 1.5856000185012817, 1.6088000535964966, 1.607699990272522, 1.593500018119812, 1.593500018119812, 1.4922000169754028, 1.3674999475479126, 1.2532000541687012, 1.5606000423431396, 1.3952000141143799, 1.312600016593933, 1.3044999837875366, 1.3044999837875366, 0.8633999824523926, 1.2280999422073364, 1.1195000410079956, 1.4648000001907349, 1.4009000062942505, 1.3961999416351318, 0.3294999897480011, 0.555400013923645, 0.3776000142097473, 0.2809999883174896, 0.43160000443458557, -0.10209999978542328, 0.7196999788284302, 0.7192000150680542, 0.24459999799728394, 0.5820000171661377, 0.9847000241279602, 0.5497999787330627, 0.6862000226974487, 0.614300012588501, 0.4399999976158142, -0.22579999268054962, 0.25270000100135803, -0.041099999099969864, -1.4936000108718872, -0.590399980545044, -0.30469998717308044, -0.32850000262260437, 1.90339994430542, 1.90339994430542, 1.90339994430542, 1.90339994430542, 1.90339994430542, 1.90339994430542, 1.90339994430542, 1.90339994430542, 1.90339994430542, 1.90339994430542, 1.90339994430542, 1.7740999460220337, 1.7740999460220337, 1.664199948310852, 1.664199948310852, 1.664199948310852, 1.664199948310852, 1.664199948310852, 1.664199948310852, 1.664199948310852, 1.664199948310852, 1.664199948310852, 1.664199948310852, 1.664199948310852, 1.664199948310852, 1.664199948310852, 1.664199948310852, 1.664199948310852, 1.664199948310852, 1.664199948310852, 1.627500057220459, 1.627500057220459, 1.627500057220459, 1.627500057220459, 1.627500057220459, 1.627500057220459, 1.6101000308990479, 1.5901000499725342, 1.5938999652862549, 1.6145000457763672, 1.6115000247955322, 1.6067999601364136, 1.382699966430664, 1.4641000032424927, 1.3229999542236328, 1.3639999628067017, 1.5872999429702759, 1.179800033569336, 0.6158999800682068, 0.8270999789237976, 0.6554999947547913, -0.06629999727010727, 0.10050000250339508, 0.25290000438690186, 0.8916000127792358, 1.3312000036239624, 0.25290000438690186, 0.13449999690055847, 1.0870000123977661, 1.0851999521255493, 0.8416000008583069, -0.11840000003576279, -0.4781000018119812, -0.2976999878883362, 0.0689999982714653, 0.3449999988079071, 0.5623999834060669, 0.4471000134944916, 0.39250001311302185, 0.34709998965263367, 1.934000015258789, 1.934000015258789, 1.934000015258789, 1.934000015258789, 1.933899998664856, 1.933899998664856, 1.8839000463485718, 1.6933000087738037, 1.6933000087738037, 1.6933000087738037, 1.6933000087738037, 1.6933000087738037, 1.6933000087738037, 1.6933000087738037, 1.6933000087738037, 1.6933000087738037, 1.6933000087738037, 1.6933000087738037, 1.6933000087738037, 1.6933000087738037, 1.6933000087738037, 1.6933000087738037, 1.6933000087738037, 1.6933000087738037, 1.6933000087738037, 1.6933000087738037, 1.6933000087738037, 1.6933000087738037, 1.6933000087738037, 1.6933000087738037, 1.6857000589370728, 1.666200041770935, 1.6158000230789185, 1.5808000564575195, 1.6438000202178955, 1.6403000354766846, 1.6358000040054321, 1.4706000089645386, 1.5676000118255615, 1.3421000242233276, 1.0723999738693237, 1.4278000593185425, 1.4234000444412231, 1.4187999963760376, 0.7389000058174133, 1.062399983406067, 0.6636000275611877, 0.9975000023841858, 0.8675000071525574, 1.0078999996185303, 0.5256999731063843, 0.7026000022888184, 1.4392999410629272, 1.3486000299453735, 0.866599977016449, -0.03750000149011612, 0.2313999980688095, 0.41339999437332153, 0.7512000203132629, 0.7049999833106995, -0.16459999978542328, 0.5638999938964844, 1.016800045967102, 0.12449999898672104, 0.8557999730110168, -0.3625999987125397, 0.05550000071525574, -0.0575999990105629, -0.14239999651908875, 1.0082999467849731, 0.5934000015258789, -0.27300000190734863, -0.36550000309944153, 2.0592000484466553, 1.9566999673843384, 1.9566999673843384, 1.9566999673843384, 1.7753000259399414, 1.7138999700546265, 1.7138999700546265, 1.7138999700546265, 1.7138999700546265, 1.7138999700546265, 1.7138999700546265, 1.7138999700546265, 1.7138999700546265, 1.7138999700546265, 1.7138999700546265, 1.7138999700546265, 1.7138999700546265, 1.7138999700546265, 1.7138999700546265, 1.7138999700546265, 1.7138999700546265, 1.7138999700546265, 1.7138999700546265, 1.7138999700546265, 1.7138999700546265, 1.7138999700546265, 1.7138999700546265, 1.7138999700546265, 1.7138999700546265, 1.7138999700546265, 1.686900019645691, 1.686900019645691, 1.6396000385284424, 1.6714999675750732, 1.6708999872207642, 1.6397000551223755, 1.6639000177383423, 1.6639000177383423, 1.5789999961853027, 1.5752999782562256, 1.271399974822998, 1.5707999467849731, 1.215000033378601, 1.274899959564209, 0.8411999940872192, 1.2920000553131104, 1.4746999740600586, 1.4098000526428223, 0.652899980545044, 0.8223000168800354, 1.4420000314712524, 1.4394999742507935, 1.438099980354309, 1.2325999736785889, 1.3029999732971191, 0.9210000038146973, 1.044800043106079, 0.6607000231742859, 0.8817999958992004, 1.1270999908447266, -0.3068999946117401, 0.5781999826431274, 1.031599998474121, 1.0311000347137451, 0.49219998717308044, 0.7954999804496765, 0.28439998626708984, -0.21690000593662262, -0.003000000026077032, -0.08020000159740448, 0.7928000092506409, -0.22920000553131104, -0.29089999198913574, 0.5519999861717224, -0.536899983882904, -0.2492000013589859, 2.074199914932251, 1.9736000299453735, 1.9736000299453735, 1.9736000299453735, 1.9736000299453735, 1.9736000299453735, 1.9736000299453735, 1.9736000299453735, 1.9736000299453735, 1.9736000299453735, 1.9736000299453735, 1.8558000326156616, 1.8481999635696411, 1.801300048828125, 1.7346999645233154, 1.7346999645233154, 1.7346999645233154, 1.7346999645233154, 1.7346999645233154, 1.7346999645233154, 1.7346999645233154, 1.7346999645233154, 1.7346999645233154, 1.7346999645233154, 1.7346999645233154, 1.7346999645233154, 1.7346999645233154, 1.7346999645233154, 1.7346999645233154, 1.7346999645233154, 1.7346999645233154, 1.7036999464035034, 1.6956000328063965, 1.6943999528884888, 1.6943999528884888, 1.6658999919891357, 1.690500020980835, 1.690500020980835, 1.687399983406067, 1.6851999759674072, 1.6503000259399414, 1.6820000410079956, 1.6771999597549438, 1.6771999597549438, 1.6719000339508057, 1.5182000398635864, 1.5168999433517456, 1.413699984550476, 1.2884999513626099, 0.9265999794006348, 0.5203999876976013, 0.7504000067710876, 1.1232999563217163, 0.8816999793052673, 0.4115999937057495, 1.0369999408721924, 1.0281000137329102, 0.7139000296592712, 1.1797000169754028, 0.742900013923645, 1.2695000171661377, -0.022199999541044235, 0.27149999141693115, 0.7731000185012817, -0.4496999979019165, -0.04699999839067459, 0.699400007724762, 0.6927000284194946, 0.6269000172615051, 0.5184000134468079, 0.4745999872684479, 2.0257999897003174, 2.0257999897003174, 2.0257999897003174, 2.0257999897003174, 2.0257999897003174, 2.0257999897003174, 2.0257999897003174, 2.0257999897003174, 2.0257999897003174, 1.853700041770935, 1.7822999954223633, 1.7822999954223633, 1.7822999954223633, 1.7822999954223633, 1.7822999954223633, 1.7822999954223633, 1.7822999954223633, 1.7822999954223633, 1.7822999954223633, 1.7822999954223633, 1.7822999954223633, 1.7822999954223633, 1.7822999954223633, 1.7822999954223633, 1.7822999954223633, 1.7822999954223633, 1.7822999954223633, 1.7822999954223633, 1.7822999954223633, 1.7822999954223633, 1.7350000143051147, 1.732699990272522, 1.732699990272522, 1.732300043106079, 1.7295000553131104, 1.7295000553131104, 1.7295000553131104, 1.7295000553131104, 1.479599952697754, 1.2962000370025635, 1.4241000413894653, 0.5449000000953674, 1.5008000135421753, 0.847100019454956, 1.3032000064849854, 0.8996999859809875, 1.2604999542236328, 1.5174000263214111, 1.4946999549865723, 1.3243000507354736, 1.323199987411499, 0.506600022315979, -0.10050000250339508, 0.8659999966621399, 0.019600000232458115, 0.10849999636411667, 0.09650000184774399, 0.0877000018954277, -0.00019999999494757503, 0.5232999920845032, 0.66839998960495, 0.5727999806404114, -0.6509000062942505, -0.2305999994277954, 0.27880001068115234, -0.5260000228881836, 0.32580000162124634, 1.226699948310852, -0.5924999713897705, 0.07649999856948853, 0.5453000068664551, 0.10819999873638153, 0.1551000028848648, 2.034600019454956, 2.034600019454956, 2.034600019454956, 2.034600019454956, 2.034600019454956, 2.034600019454956, 2.034600019454956, 1.789199948310852, 1.789199948310852, 1.789199948310852, 1.789199948310852, 1.789199948310852, 1.789199948310852, 1.789199948310852, 1.789199948310852, 1.789199948310852, 1.789199948310852, 1.789199948310852, 1.789199948310852, 1.789199948310852, 1.789199948310852, 1.789199948310852, 1.789199948310852, 1.789199948310852, 1.789199948310852, 1.789199948310852, 1.789199948310852, 1.789199948310852, 1.789199948310852, 1.789199948310852, 1.789199948310852, 1.7623000144958496, 1.7371000051498413, 1.7208000421524048, 1.7460999488830566, 1.7450000047683716, 1.763800024986267, 1.7395999431610107, 1.736299991607666, 1.7359999418258667, 1.5647000074386597, 1.559000015258789, 1.5398999452590942, 1.503499984741211, 1.2411999702453613, 1.4501999616622925, 1.43340003490448, 1.3417999744415283, 1.176200032234192, 1.5235999822616577, 1.5168999433517456, 1.5139000415802002, 0.6552000045776367, 1.5108000040054321, 0.7577000260353088, 1.0717999935150146, 1.3106000423431396, 0.7458999752998352, 1.20169997215271, -0.07100000232458115, 0.8417999744415283, 0.25060001015663147, 0.5228000283241272, 0.7994999885559082, 0.794700026512146, -0.01209999993443489, 0.7275999784469604, -0.3677999973297119, 0.5573999881744385, -0.6664999723434448, -0.21529999375343323, -0.4771000146865845, 2.131700038909912, 2.131700038909912, 2.1315999031066895, 2.1315999031066895, 2.1315999031066895, 2.094599962234497, 1.8770999908447266, 1.8770999908447266, 1.8770999908447266, 1.8770999908447266, 1.8770999908447266, 1.8770999908447266, 1.8770999908447266, 1.8770999908447266, 1.8770999908447266, 1.8770999908447266, 1.8770999908447266, 1.8770999908447266, 1.8770999908447266, 1.8770999908447266, 1.8770999908447266, 1.8770999908447266, 1.8770999908447266, 1.8770999908447266, 1.8770999908447266, 1.8770999908447266, 1.8770999908447266, 1.8770999908447266, 1.8770999908447266, 1.8770999908447266, 1.8026000261306763, 1.8273999691009521, 1.8106000423431396, 1.7839000225067139, 1.6541999578475952, 1.6438000202178955, 1.5515999794006348, 1.3115999698638916, 1.6032999753952026, 1.5968999862670898, 1.5917999744415283, 1.5852999687194824, 0.2921999990940094, 1.4144999980926514, 1.409600019454956, 1.4055999517440796, 1.4055999517440796, 1.4055999517440796, 1.4055999517440796, 1.4055999517440796, 1.4055999517440796, 0.4205999970436096, 1.3811999559402466, 0.8080000281333923, 0.16940000653266907, 0.37869998812675476, 1.0091999769210815, 0.3772999942302704, 0.9300000071525574, -0.49779999256134033, 0.155799999833107, 0.7354000210762024, 0.6352999806404114, 0.057100001722574234, 0.570900022983551, -0.30649998784065247, 0.42730000615119934, 0.38690000772476196, 0.7382000088691711, 0.2827000021934509, -0.15389999747276306, 0.09799999743700027, -0.29429998993873596, 0.17890000343322754, 0.12530000507831573, 0.22930000722408295]}, \"token.table\": {\"Topic\": [1, 9, 6, 7, 8, 8, 2, 9, 3, 2, 1, 5, 6, 1, 1, 9, 5, 8, 1, 3, 4, 6, 7, 8, 9, 5, 10, 2, 3, 6, 3, 1, 2, 3, 5, 6, 7, 10, 7, 8, 7, 9, 4, 6, 10, 4, 8, 3, 9, 8, 6, 3, 5, 8, 9, 3, 8, 1, 2, 3, 4, 5, 6, 7, 8, 9, 10, 1, 2, 4, 5, 6, 7, 8, 10, 2, 10, 1, 2, 3, 4, 5, 6, 7, 8, 9, 10, 3, 8, 5, 4, 3, 4, 4, 10, 6, 4, 9, 1, 2, 4, 7, 8, 9, 10, 6, 6, 2, 3, 5, 6, 10, 2, 10, 5, 3, 5, 8, 4, 1, 2, 3, 4, 6, 7, 8, 10, 8, 1, 2, 3, 4, 5, 6, 7, 8, 9, 10, 5, 7, 2, 1, 2, 3, 4, 5, 6, 7, 8, 9, 10, 2, 7, 4, 10, 1, 4, 6, 8, 10, 10, 3, 6, 2, 3, 4, 9, 3, 1, 2, 7, 4, 3, 6, 10, 1, 1, 2, 8, 5, 2, 5, 8, 5, 1, 2, 3, 4, 5, 7, 10, 1, 2, 4, 5, 6, 7, 8, 9, 10, 10, 1, 3, 9, 1, 3, 10, 5, 2, 3, 7, 1, 10, 3, 4, 9, 8, 4, 4, 6, 8, 9, 10, 6, 7, 1, 3, 5, 8, 8, 9, 3, 8, 3, 5, 6, 7, 8, 1, 2, 3, 6, 10, 10, 7, 9, 6, 4, 2, 3, 9, 1, 2, 3, 4, 5, 6, 7, 9, 10, 1, 2, 3, 4, 5, 6, 7, 8, 9, 10, 1, 2, 3, 4, 5, 7, 8, 9, 10, 6, 4, 5, 8, 10, 1, 8, 4, 9, 6, 7, 3, 8, 3, 7, 2, 8, 6, 7, 8, 3, 4, 10, 2, 3, 5, 8, 1, 4, 5, 3, 8, 4, 10, 2, 7, 9, 9, 1, 2, 3, 4, 6, 8, 10, 1, 3, 8, 3, 4, 7, 10, 4, 5, 8, 6, 1, 2, 3, 4, 5, 6, 10, 6, 4, 3, 5, 2, 4, 7, 9, 6, 9, 7, 4, 4, 6, 7, 9, 10, 4, 8, 3, 10, 1, 7, 8, 6, 3, 3, 6, 10, 6, 1, 1, 6, 2, 3, 8, 6, 10, 1, 3, 5, 6, 7, 8, 9, 4, 6, 7, 5, 7, 1, 1, 2, 7, 9, 10, 1, 7, 8, 1, 10, 7, 5, 3, 9, 6, 7, 5, 7, 1, 1, 4, 5, 9, 10, 2, 6, 8, 10, 9, 1, 5, 8, 9, 10, 1, 4, 5, 9, 10, 1, 7, 2, 3, 4, 5, 6, 9, 1, 4, 1, 2, 4, 5, 6, 7, 5, 2, 9, 2, 4, 9, 10, 2, 8, 1, 7, 9, 10, 2, 3, 4, 8, 9, 2, 5, 8, 9, 1, 8, 5, 4, 8, 2, 6, 2, 6, 5, 2, 3, 5, 6, 8, 10, 2, 10, 1, 2, 3, 4, 5, 6, 7, 8, 9, 10, 9, 1, 6, 5, 1, 7, 10, 4, 5, 6, 7, 1, 4, 6, 3, 4, 1, 4, 5, 3, 1, 2, 4, 6, 7, 8, 9, 10, 1, 2, 5, 6, 7, 8, 9, 8, 5, 9, 3, 9, 9, 4, 10, 1, 10, 9, 7, 4, 8, 1, 5, 6, 9, 4, 6, 7, 1, 8, 9, 1, 2, 4, 10, 2, 2, 3, 4, 5, 6, 7, 8, 9, 10, 4, 3, 4, 7, 2, 4, 6, 8, 2, 7, 1, 2, 6, 7, 8, 9, 10, 6, 2, 2, 3, 10, 6, 4, 1, 2, 4, 6, 10, 1, 4, 8, 1, 2, 3, 4, 5, 7, 9, 10, 1, 5, 6, 10, 1, 2, 3, 4, 5, 7, 8, 9, 10, 5, 9, 3, 4, 5, 6, 7, 8, 9, 1, 2, 3, 4, 5, 6, 7, 8, 10, 9, 4, 5, 6, 7, 5, 6, 5, 8, 5, 4, 1, 10, 2, 1, 4, 5, 6, 8, 1, 3, 4, 6, 7, 9, 1, 3, 5, 10, 2, 5, 8, 9, 1, 2, 3, 4, 5, 6, 9, 10, 3, 7, 1, 2, 3, 5, 6, 7, 10, 3, 7, 8, 9, 1, 2, 3, 4, 7, 8, 9, 10, 3, 2, 3, 6, 2, 4, 5, 6, 7, 8, 9, 10, 1, 2, 3, 4, 5, 6, 7, 8, 10, 1, 2, 3, 4, 5, 6, 2, 6, 9, 1, 2, 3, 4, 5, 8, 10, 1, 3, 4, 5, 6, 8, 9, 10, 6, 2, 3, 4, 5, 6, 7, 9, 1, 2, 3, 4, 5, 6, 7, 8, 9, 10, 8, 3, 8, 9, 4, 5, 6, 2, 8, 4, 1, 3, 8, 9, 10, 1, 3, 3, 5, 7, 10, 9, 3, 5, 9, 5, 1, 2, 3, 5, 1, 2, 4, 6, 7, 1, 2, 3, 4, 8, 9, 1, 9, 6, 3, 7, 9, 1, 6, 7, 4, 9, 1, 2, 4, 5, 6, 7, 8, 9, 3, 6, 9, 1, 1, 2, 3, 4, 5, 6, 7, 10, 3, 10, 1, 2, 3, 4, 6, 7, 8, 9, 10, 7, 7, 9, 9, 8, 5, 3, 7, 1, 7, 4, 10, 1, 2, 3, 5, 6, 7, 8, 10, 10, 2, 4, 7, 1, 2, 3, 1, 3, 4, 9, 1, 2, 3, 5, 6, 7, 8, 9, 10, 2, 3, 4, 10, 3, 1, 2, 3, 4, 5, 6, 7, 8, 9, 10, 1, 2, 3, 4, 7, 3, 8, 10, 10, 10, 5, 7, 1, 2, 4, 5, 6, 7, 8, 9, 8, 1, 2, 3, 4, 5, 6, 8, 2, 4, 1, 4, 5, 8, 9, 1, 8, 6, 3, 7, 6, 9, 1, 2, 3, 4, 5, 6, 8, 10, 6, 7, 6, 7, 1, 5, 6, 10, 6, 7, 1, 2, 3, 4, 5, 6, 7, 8, 9, 10, 1, 10, 8, 8, 2, 1, 6, 9, 1, 10, 1, 2, 8, 10, 1, 3, 10, 1, 2, 3, 4, 5, 6, 7, 5, 6, 7, 1, 2, 4, 5, 6, 7, 8, 9, 10, 5, 1, 1, 5, 7, 8, 10, 7, 7, 1, 2, 5, 6, 2, 6, 9, 4, 5, 9, 1, 3, 5, 6, 9, 10, 1, 10, 5, 1, 6, 9, 3, 3, 1, 2, 3, 6, 8, 9, 10, 1, 2, 3, 4, 6, 9, 10, 1, 2, 3, 4, 5, 6, 7, 1, 2, 6, 1, 1, 1, 4, 7, 9, 5, 6, 9, 4, 1, 4, 5, 6, 8, 4, 9, 2, 3, 4, 5, 6, 7, 8, 1, 1, 2, 3, 6, 8, 1, 7, 10, 4, 2, 5, 7, 4, 8, 3, 6, 6, 10, 3, 8, 1, 2, 3, 4, 5, 6, 8, 10, 6, 5, 10, 4, 2, 7, 7, 10, 2, 4, 5, 6, 7, 8, 4, 10, 4, 2, 2, 1, 1, 10, 8, 10, 4, 10, 1, 2, 3, 4, 5, 6, 7, 8, 9, 10, 7, 8, 10, 1, 2, 4, 5, 6, 3, 4, 6, 7, 8, 9, 1, 2, 3, 6, 8, 9, 10, 4, 5, 2, 1, 1, 2, 3, 4, 7, 9, 4, 5, 6, 7, 3, 5, 6, 8, 6, 10, 2, 6, 1, 2, 3, 4, 5, 6, 7, 9, 10, 1, 1, 2, 3, 4, 5, 6, 7, 8, 9, 10, 1, 4, 10, 9, 10, 1, 3, 1, 3, 8, 1, 4, 7, 9, 4, 10, 3, 1, 1, 2, 3, 5, 9, 10, 8, 2, 5, 5, 3, 5, 7, 1, 2, 10, 8, 4, 10, 4, 2, 4, 6, 8, 2, 3, 3, 7, 10, 3, 4, 7, 8, 3, 7, 5, 2, 7, 10, 6, 9, 2, 3, 6, 8, 1, 4, 2, 4, 8, 9, 10, 7, 4, 9, 1, 10, 9, 2, 2, 3, 6, 7, 1, 3, 4, 5, 6, 7, 8, 10, 4, 2, 1, 9, 10, 1, 4, 6, 7, 10, 4, 10, 1, 2, 3, 4, 5, 6, 7, 8, 2, 3, 5, 7, 9, 9, 7, 8, 4, 5, 7, 1, 3, 6, 7, 9, 3, 6, 5, 3, 1, 2, 4, 5, 9, 9, 7, 8, 8, 10, 1, 8, 9, 10, 2, 9, 7, 7, 8, 5, 2], \"Freq\": [0.3670395314693451, 0.3670395314693451, 0.37272968888282776, 0.37272968888282776, 0.7508895993232727, 0.7508895993232727, 0.736082911491394, 0.7552120089530945, 0.7365291118621826, 0.7360830307006836, 0.2478145807981491, 0.2478145807981491, 0.4956291615962982, 0.48289602994918823, 0.3670395314693451, 0.3670395314693451, 0.744540274143219, 0.7508895993232727, 0.13425284624099731, 0.26850569248199463, 0.13425284624099731, 0.13425284624099731, 0.13425284624099731, 0.13425284624099731, 0.13425284624099731, 0.7445402145385742, 0.7755454182624817, 0.24482959508895874, 0.4896591901779175, 0.24482959508895874, 0.7332940101623535, 0.10629342496395111, 0.10629342496395111, 0.10629342496395111, 0.31888025999069214, 0.21258684992790222, 0.10629342496395111, 0.10629342496395111, 0.5932474732398987, 0.29662373661994934, 0.7405709624290466, 0.7552118897438049, 0.741235077381134, 0.387938916683197, 0.387938916683197, 0.3742979168891907, 0.3742979168891907, 0.3752283751964569, 0.3752283751964569, 0.5017464756965637, 0.5002924799919128, 0.1859482377767563, 0.3718964755535126, 0.1859482377767563, 0.1859482377767563, 0.37309420108795166, 0.37309420108795166, 0.28884175419807434, 0.03610521927475929, 0.07221043854951859, 0.03610521927475929, 0.18052609264850616, 0.10831565409898758, 0.07221043854951859, 0.03610521927475929, 0.07221043854951859, 0.07221043854951859, 0.09331491589546204, 0.09331491589546204, 0.09331491589546204, 0.09331491589546204, 0.09331491589546204, 0.18662983179092407, 0.09331491589546204, 0.09331491589546204, 0.48861148953437805, 0.7755454182624817, 0.055996619164943695, 0.13999155163764954, 0.1679898500442505, 0.13999155163764954, 0.1679898500442505, 0.055996619164943695, 0.027998309582471848, 0.027998309582471848, 0.19598816335201263, 0.027998309582471848, 0.3704116642475128, 0.3704116642475128, 0.7445404529571533, 0.741235077381134, 0.48900488018989563, 0.4931623041629791, 0.741235077381134, 0.7755454182624817, 0.7492602467536926, 0.7412352561950684, 0.7552120089530945, 0.06200981140136719, 0.12401962280273438, 0.31004905700683594, 0.24803924560546875, 0.06200981140136719, 0.06200981140136719, 0.12401962280273438, 0.7492601275444031, 0.7492602467536926, 0.3657824397087097, 0.3657824397087097, 0.25579655170440674, 0.25579655170440674, 0.25579655170440674, 0.48861148953437805, 0.7755454182624817, 0.7445403933525085, 0.49022388458251953, 0.744540274143219, 0.7508895993232727, 0.7412351369857788, 0.0874687135219574, 0.0874687135219574, 0.0874687135219574, 0.0874687135219574, 0.2624061405658722, 0.0874687135219574, 0.1749374270439148, 0.0874687135219574, 0.5017464756965637, 0.06953845173120499, 0.10430767387151718, 0.10430767387151718, 0.19123074412345886, 0.08692306280136108, 0.19123074412345886, 0.017384612932801247, 0.08692306280136108, 0.05215383693575859, 0.10430767387151718, 0.3699879050254822, 0.3699879050254822, 0.7360830307006836, 0.0555746927857399, 0.08336204290390015, 0.0555746927857399, 0.0555746927857399, 0.08336204290390015, 0.2222987711429596, 0.13893674314022064, 0.08336204290390015, 0.0555746927857399, 0.1111493855714798, 0.3667764961719513, 0.3667764961719513, 0.4931623041629791, 0.7755454182624817, 0.09502167254686356, 0.3800866901874542, 0.09502167254686356, 0.09502167254686356, 0.2850649952888489, 0.7755454182624817, 0.5888587832450867, 0.29442939162254333, 0.184663787484169, 0.184663787484169, 0.5539913773536682, 0.184663787484169, 0.7365291714668274, 0.24341337382793427, 0.48682674765586853, 0.24341337382793427, 0.7412350177764893, 0.7365292906761169, 0.38200345635414124, 0.38200345635414124, 0.48289602994918823, 0.21019697189331055, 0.4203939437866211, 0.21019697189331055, 0.7445403933525085, 0.18540853261947632, 0.18540853261947632, 0.37081706523895264, 0.7445404529571533, 0.07787102460861206, 0.15574204921722412, 0.23361307382583618, 0.15574204921722412, 0.07787102460861206, 0.15574204921722412, 0.07787102460861206, 0.10671030730009079, 0.10671030730009079, 0.10671030730009079, 0.053355153650045395, 0.10671030730009079, 0.21342061460018158, 0.053355153650045395, 0.21342061460018158, 0.10671030730009079, 0.7755453586578369, 0.36427828669548035, 0.36427828669548035, 0.7552120089530945, 0.2554446756839752, 0.2554446756839752, 0.5108893513679504, 0.49609288573265076, 0.4887358248233795, 0.4887358248233795, 0.4925745129585266, 0.7295784950256348, 0.5240095257759094, 0.24983221292495728, 0.24983221292495728, 0.49966442584991455, 0.7508895993232727, 0.4931623041629791, 0.37704306840896606, 0.18852153420448303, 0.18852153420448303, 0.18852153420448303, 0.18852153420448303, 0.7492602467536926, 0.7405709624290466, 0.18485131859779358, 0.18485131859779358, 0.5545539259910583, 0.18485131859779358, 0.37892016768455505, 0.37892016768455505, 0.7365291714668274, 0.5017464756965637, 0.13536210358142853, 0.13536210358142853, 0.4060863256454468, 0.13536210358142853, 0.13536210358142853, 0.4003112018108368, 0.26687413454055786, 0.13343706727027893, 0.13343706727027893, 0.13343706727027893, 0.7755454182624817, 0.4925745725631714, 0.5056137442588806, 0.7492602467536926, 0.4931623637676239, 0.7360828518867493, 0.7410821318626404, 0.24702738225460052, 0.22841764986515045, 0.11420882493257523, 0.05710441246628761, 0.05710441246628761, 0.05710441246628761, 0.05710441246628761, 0.05710441246628761, 0.17131324112415314, 0.11420882493257523, 0.10135027021169662, 0.14639483392238617, 0.022522281855344772, 0.10135027021169662, 0.10135027021169662, 0.06756684184074402, 0.16891711950302124, 0.1576559692621231, 0.09008912742137909, 0.045044563710689545, 0.17701689898967743, 0.1062101423740387, 0.14161352813243866, 0.12391183525323868, 0.07080676406621933, 0.07080676406621933, 0.05310507118701935, 0.17701689898967743, 0.08850844949483871, 0.7492601275444031, 0.25476959347724915, 0.25476959347724915, 0.25476959347724915, 0.25476959347724915, 0.3660156726837158, 0.3660156726837158, 0.7412351369857788, 0.7552120089530945, 0.3711497187614441, 0.3711497187614441, 0.37309420108795166, 0.37309420108795166, 0.367998868227005, 0.367998868227005, 0.2968077063560486, 0.2968077063560486, 0.37331950664520264, 0.37331950664520264, 0.5017465353012085, 0.3054141700267792, 0.3054141700267792, 0.3054141700267792, 0.42053350806236267, 0.21026675403118134, 0.21026675403118134, 0.21026675403118134, 0.14766745269298553, 0.29533490538597107, 0.4430023431777954, 0.37309420108795166, 0.37309420108795166, 0.5070669054985046, 0.2535334527492523, 0.4886116087436676, 0.3726043999195099, 0.3726043999195099, 0.7552118897438049, 0.21139436960220337, 0.21139436960220337, 0.07046478986740112, 0.14092957973480225, 0.07046478986740112, 0.14092957973480225, 0.07046478986740112, 0.3657582104206085, 0.18287910521030426, 0.18287910521030426, 0.7365290522575378, 0.4931623637676239, 0.4925745129585266, 0.7755453586578369, 0.7412351369857788, 0.37513887882232666, 0.37513887882232666, 0.7492601275444031, 0.19369511306285858, 0.12913008034229279, 0.12913008034229279, 0.06456504017114639, 0.19369511306285858, 0.19369511306285858, 0.12913008034229279, 0.7492602467536926, 0.7412350177764893, 0.7365291118621826, 0.49609291553497314, 0.1733253300189972, 0.4333133101463318, 0.2599879801273346, 0.0866626650094986, 0.3785047233104706, 0.3785047233104706, 0.4925745725631714, 0.4931623637676239, 0.1509818285703659, 0.3019636571407318, 0.1509818285703659, 0.1509818285703659, 0.1509818285703659, 0.741235077381134, 0.7508895993232727, 0.7365291714668274, 0.7755454182624817, 0.6234374046325684, 0.20781247317790985, 0.20781247317790985, 0.7492602467536926, 0.48900488018989563, 0.30047208070755005, 0.30047208070755005, 0.30047208070755005, 0.5002925992012024, 0.72957843542099, 0.72957843542099, 0.7492602467536926, 0.4886115491390228, 0.36951449513435364, 0.36951449513435364, 0.38826054334640503, 0.38826054334640503, 0.11415474116802216, 0.11415474116802216, 0.11415474116802216, 0.11415474116802216, 0.11415474116802216, 0.11415474116802216, 0.11415474116802216, 0.2978582978248596, 0.2978582978248596, 0.2978582978248596, 0.3739645481109619, 0.3739645481109619, 0.7295785546302795, 0.4828961491584778, 0.19093947112560272, 0.19093947112560272, 0.38187894225120544, 0.19093947112560272, 0.2456347942352295, 0.491269588470459, 0.2456347942352295, 0.3717769682407379, 0.3717769682407379, 0.7405710220336914, 0.7445403337478638, 0.3705581724643707, 0.3705581724643707, 0.37616294622421265, 0.49257445335388184, 0.7445403337478638, 0.7405709624290466, 0.7295784950256348, 0.3495566248893738, 0.1747783124446869, 0.26216745376586914, 0.08738915622234344, 0.08738915622234344, 0.22022326290607452, 0.22022326290607452, 0.22022326290607452, 0.44044652581214905, 0.5056138038635254, 0.24878546595573425, 0.24878546595573425, 0.24878546595573425, 0.24878546595573425, 0.7755453586578369, 0.29882609844207764, 0.09960869699716568, 0.29882609844207764, 0.19921739399433136, 0.09960869699716568, 0.366255521774292, 0.366255521774292, 0.16605141758918762, 0.16605141758918762, 0.16605141758918762, 0.16605141758918762, 0.16605141758918762, 0.33210283517837524, 0.29355260729789734, 0.5871052145957947, 0.294373482465744, 0.09812449663877487, 0.09812449663877487, 0.09812449663877487, 0.294373482465744, 0.09812449663877487, 0.7445403337478638, 0.3751124441623688, 0.3751124441623688, 0.25453537702560425, 0.25453537702560425, 0.25453537702560425, 0.25453537702560425, 0.37195998430252075, 0.37195998430252075, 0.4234172999858856, 0.2117086499929428, 0.2117086499929428, 0.2117086499929428, 0.14892107248306274, 0.14892107248306274, 0.2978421449661255, 0.14892107248306274, 0.2978421449661255, 0.1877547949552536, 0.1877547949552536, 0.1877547949552536, 0.3755095899105072, 0.7295785546302795, 0.5017465949058533, 0.49609288573265076, 0.3731582462787628, 0.3731582462787628, 0.4886115491390228, 0.7492603659629822, 0.7360828518867493, 0.7492601275444031, 0.7445402145385742, 0.09960277378559113, 0.19920554757118225, 0.09960277378559113, 0.09960277378559113, 0.29880833625793457, 0.09960277378559113, 0.4886114299297333, 0.5226628184318542, 0.18488147854804993, 0.18488147854804993, 0.07395259290933609, 0.07395259290933609, 0.07395259290933609, 0.07395259290933609, 0.11092888563871384, 0.11092888563871384, 0.036976296454668045, 0.07395259290933609, 0.5056137442588806, 0.3656281530857086, 0.3656281530857086, 0.7445403933525085, 0.4914233982563019, 0.24571169912815094, 0.24571169912815094, 0.18662627041339874, 0.18662627041339874, 0.5598787665367126, 0.18662627041339874, 0.482896089553833, 0.741235077381134, 0.7492601275444031, 0.368326872587204, 0.368326872587204, 0.2451469749212265, 0.490293949842453, 0.2451469749212265, 0.7365291714668274, 0.09950798749923706, 0.09950798749923706, 0.09950798749923706, 0.19901597499847412, 0.19901597499847412, 0.09950798749923706, 0.09950798749923706, 0.09950798749923706, 0.314054936170578, 0.314054936170578, 0.1046849712729454, 0.1046849712729454, 0.1046849712729454, 0.1046849712729454, 0.1046849712729454, 0.7508895993232727, 0.49609288573265076, 0.7552118897438049, 0.7365291118621826, 0.7552120089530945, 0.7552119493484497, 0.5070668458938599, 0.25353342294692993, 0.371776819229126, 0.371776819229126, 0.7552119493484497, 0.7405709624290466, 0.4931624233722687, 0.7508895993232727, 0.36819717288017273, 0.36819717288017273, 0.7492603063583374, 0.5056138038635254, 0.21135252714157104, 0.21135252714157104, 0.4227050542831421, 0.2994672656059265, 0.2994672656059265, 0.2994672656059265, 0.5497667789459229, 0.18325559794902802, 0.18325559794902802, 0.18325559794902802, 0.4886114299297333, 0.11198949068784714, 0.26130881905555725, 0.14931932091712952, 0.14931932091712952, 0.07465966045856476, 0.03732983022928238, 0.11198949068784714, 0.03732983022928238, 0.11198949068784714, 0.7412350177764893, 0.7365291118621826, 0.3691698908805847, 0.3691698908805847, 0.24851375818252563, 0.24851375818252563, 0.24851375818252563, 0.24851375818252563, 0.7360827922821045, 0.7405709028244019, 0.08824499696493149, 0.08824499696493149, 0.08824499696493149, 0.17648999392986298, 0.08824499696493149, 0.26473498344421387, 0.08824499696493149, 0.7492602467536926, 0.4886116087436676, 0.736082911491394, 0.7365291714668274, 0.7755452990531921, 0.7492602467536926, 0.741235077381134, 0.14955410361289978, 0.14955410361289978, 0.14955410361289978, 0.29910820722579956, 0.14955410361289978, 0.36658042669296265, 0.36658042669296265, 0.7508895993232727, 0.10582613199949265, 0.10582613199949265, 0.10582613199949265, 0.10582613199949265, 0.2116522639989853, 0.10582613199949265, 0.10582613199949265, 0.10582613199949265, 0.24781648814678192, 0.24781648814678192, 0.49563297629356384, 0.7755453586578369, 0.15637923777103424, 0.23456886410713196, 0.07818961888551712, 0.07818961888551712, 0.07818961888551712, 0.07818961888551712, 0.07818961888551712, 0.15637923777103424, 0.07818961888551712, 0.7445405721664429, 0.7552119493484497, 0.1065809428691864, 0.2131618857383728, 0.1065809428691864, 0.1065809428691864, 0.1065809428691864, 0.2131618857383728, 0.1065809428691864, 0.3091263473033905, 0.15456317365169525, 0.07728158682584763, 0.07728158682584763, 0.07728158682584763, 0.07728158682584763, 0.07728158682584763, 0.07728158682584763, 0.07728158682584763, 0.7552118897438049, 0.21162046492099762, 0.21162046492099762, 0.21162046492099762, 0.42324092984199524, 0.7445403337478638, 0.7492602467536926, 0.7445403337478638, 0.5017464756965637, 0.7445403933525085, 0.4931623637676239, 0.3717767894268036, 0.3717767894268036, 0.7360828518867493, 0.1862211674451828, 0.1862211674451828, 0.1862211674451828, 0.1862211674451828, 0.3724423348903656, 0.2940475344657898, 0.09801585227251053, 0.09801585227251053, 0.09801585227251053, 0.2940475344657898, 0.09801585227251053, 0.49014270305633545, 0.16338090598583221, 0.16338090598583221, 0.16338090598583221, 0.2130344659090042, 0.2130344659090042, 0.2130344659090042, 0.2130344659090042, 0.087943896651268, 0.175887793302536, 0.087943896651268, 0.087943896651268, 0.175887793302536, 0.087943896651268, 0.087943896651268, 0.087943896651268, 0.2943566143512726, 0.5887132287025452, 0.10674090683460236, 0.10674090683460236, 0.4269636273384094, 0.10674090683460236, 0.10674090683460236, 0.10674090683460236, 0.2134818136692047, 0.48900488018989563, 0.301302969455719, 0.301302969455719, 0.301302969455719, 0.07949548214673996, 0.07949548214673996, 0.07949548214673996, 0.07949548214673996, 0.07949548214673996, 0.15899096429347992, 0.23848643898963928, 0.15899096429347992, 0.7365291118621826, 0.2942867577075958, 0.2942867577075958, 0.2942867577075958, 0.29905590415000916, 0.07476397603750229, 0.07476397603750229, 0.22429193556308746, 0.14952795207500458, 0.07476397603750229, 0.07476397603750229, 0.07476397603750229, 0.04812800884246826, 0.09625601768493652, 0.09625601768493652, 0.04812800884246826, 0.19251203536987305, 0.14438402652740479, 0.04812800884246826, 0.2406400442123413, 0.04812800884246826, 0.1332988440990448, 0.2665976881980896, 0.1332988440990448, 0.1332988440990448, 0.1332988440990448, 0.1332988440990448, 0.29722464084625244, 0.29722464084625244, 0.29722464084625244, 0.294942170381546, 0.0737355425953865, 0.0737355425953865, 0.147471085190773, 0.294942170381546, 0.0737355425953865, 0.0737355425953865, 0.08317939192056656, 0.16635878384113312, 0.08317939192056656, 0.08317939192056656, 0.16635878384113312, 0.08317939192056656, 0.08317939192056656, 0.08317939192056656, 0.7510294318199158, 0.09269124269485474, 0.18538248538970947, 0.09269124269485474, 0.09269124269485474, 0.09269124269485474, 0.18538248538970947, 0.18538248538970947, 0.09157659113407135, 0.15262764692306519, 0.030525529757142067, 0.061051059514284134, 0.09157659113407135, 0.09157659113407135, 0.21367870271205902, 0.061051059514284134, 0.12210211902856827, 0.12210211902856827, 0.7508895993232727, 0.44654351472854614, 0.44654351472854614, 0.14884783327579498, 0.2977464199066162, 0.2977464199066162, 0.2977464199066162, 0.5889491438865662, 0.2944745719432831, 0.741235077381134, 0.18634821474552155, 0.3726964294910431, 0.18634821474552155, 0.18634821474552155, 0.18634821474552155, 0.36427828669548035, 0.36427828669548035, 0.5422307848930359, 0.13555769622325897, 0.13555769622325897, 0.13555769622325897, 0.7552120089530945, 0.7365291714668274, 0.744540274143219, 0.7552118897438049, 0.744540274143219, 0.14581166207790375, 0.583246648311615, 0.14581166207790375, 0.14581166207790375, 0.26038408279418945, 0.08679469674825668, 0.08679469674825668, 0.34717878699302673, 0.17358939349651337, 0.13579919934272766, 0.13579919934272766, 0.13579919934272766, 0.13579919934272766, 0.13579919934272766, 0.407397598028183, 0.48289623856544495, 0.5056137442588806, 0.7492600679397583, 0.2502569258213043, 0.2502569258213043, 0.5005138516426086, 0.48707249760627747, 0.16235749423503876, 0.16235749423503876, 0.3016412854194641, 0.6032825708389282, 0.11848293989896774, 0.17772440612316132, 0.11848293989896774, 0.05924146994948387, 0.17772440612316132, 0.17772440612316132, 0.11848293989896774, 0.05924146994948387, 0.21509337425231934, 0.43018674850463867, 0.43018674850463867, 0.7295785546302795, 0.19811810553073883, 0.09905905276536942, 0.09905905276536942, 0.09905905276536942, 0.09905905276536942, 0.09905905276536942, 0.09905905276536942, 0.19811810553073883, 0.7365291714668274, 0.7755454182624817, 0.09889589995145798, 0.09889589995145798, 0.09889589995145798, 0.09889589995145798, 0.09889589995145798, 0.29668769240379333, 0.09889589995145798, 0.09889589995145798, 0.09889589995145798, 0.4925745725631714, 0.7405708432197571, 0.5056138634681702, 0.7552118897438049, 0.7508896589279175, 0.7445403933525085, 0.4896140694618225, 0.7405709028244019, 0.3662554919719696, 0.3662554919719696, 0.38654905557632446, 0.38654905557632446, 0.22360046207904816, 0.07453348487615585, 0.07453348487615585, 0.07453348487615585, 0.07453348487615585, 0.1490669697523117, 0.1490669697523117, 0.1490669697523117, 0.775545597076416, 0.2452968806028366, 0.2452968806028366, 0.4905937612056732, 0.20900419354438782, 0.41800838708877563, 0.20900419354438782, 0.21287821233272552, 0.21287821233272552, 0.21287821233272552, 0.42575642466545105, 0.15566955506801605, 0.07783477753400803, 0.23350434005260468, 0.15566955506801605, 0.07783477753400803, 0.07783477753400803, 0.07783477753400803, 0.07783477753400803, 0.07783477753400803, 0.2175074964761734, 0.2175074964761734, 0.2175074964761734, 0.4350149929523468, 0.7365291118621826, 0.21092908084392548, 0.11718282103538513, 0.14061938226222992, 0.023436564952135086, 0.11718282103538513, 0.07030969113111496, 0.09374625980854034, 0.04687312990427017, 0.07030969113111496, 0.07030969113111496, 0.482896089553833, 0.16304340958595276, 0.16304340958595276, 0.16304340958595276, 0.3260868191719055, 0.37309423089027405, 0.37309423089027405, 0.7755452990531921, 0.7755454182624817, 0.7755454182624817, 0.4959426522254944, 0.49468645453453064, 0.0703168734908104, 0.2812674939632416, 0.1406337469816208, 0.21095062792301178, 0.0703168734908104, 0.0703168734908104, 0.0703168734908104, 0.0703168734908104, 0.7508895993232727, 0.12274347245693207, 0.24548694491386414, 0.12274347245693207, 0.12274347245693207, 0.12274347245693207, 0.12274347245693207, 0.12274347245693207, 0.3694446384906769, 0.3694446384906769, 0.1484055370092392, 0.1484055370092392, 0.2968110740184784, 0.1484055370092392, 0.1484055370092392, 0.482896089553833, 0.5023885369300842, 0.7492602467536926, 0.7333868741989136, 0.7380102276802063, 0.7492601275444031, 0.7552119493484497, 0.1757298856973648, 0.0878649428486824, 0.0878649428486824, 0.2635948359966278, 0.0878649428486824, 0.0878649428486824, 0.0878649428486824, 0.1757298856973648, 0.37331950664520264, 0.37331950664520264, 0.7492601275444031, 0.7405708432197571, 0.21424926817417145, 0.21424926817417145, 0.4284985363483429, 0.21424926817417145, 0.3711497485637665, 0.3711497485637665, 0.07856384664773941, 0.07856384664773941, 0.07856384664773941, 0.07856384664773941, 0.07856384664773941, 0.07856384664773941, 0.07856384664773941, 0.07856384664773941, 0.23569153249263763, 0.07856384664773941, 0.25272804498672485, 0.5054560899734497, 0.7508895993232727, 0.7508895993232727, 0.7360827922821045, 0.29826903343200684, 0.29826903343200684, 0.29826903343200684, 0.72957843542099, 0.5240095257759094, 0.72957843542099, 0.3069632649421692, 0.3069632649421692, 0.3069632649421692, 0.30341678857803345, 0.30341678857803345, 0.30341678857803345, 0.1474025696516037, 0.1474025696516037, 0.1474025696516037, 0.2948051393032074, 0.1474025696516037, 0.1474025696516037, 0.1474025696516037, 0.37340614199638367, 0.37340614199638367, 0.4925745129585266, 0.04972130432724953, 0.09944260865449905, 0.24860653281211853, 0.04972130432724953, 0.1988852173089981, 0.09944260865449905, 0.14916391670703888, 0.04972130432724953, 0.04972130432724953, 0.7445403933525085, 0.7295785546302795, 0.21142980456352234, 0.4228596091270447, 0.21142980456352234, 0.21142980456352234, 0.5240095257759094, 0.7405709028244019, 0.4925745129585266, 0.13431352376937866, 0.2686270475387573, 0.2686270475387573, 0.2686270475387573, 0.3688953220844269, 0.3688953220844269, 0.5056138634681702, 0.30038461089134216, 0.30038461089134216, 0.30038461089134216, 0.10683257132768631, 0.10683257132768631, 0.3204977214336395, 0.3204977214336395, 0.10683257132768631, 0.10683257132768631, 0.3717769384384155, 0.3717769384384155, 0.7445403337478638, 0.4879254102706909, 0.24396270513534546, 0.7552119493484497, 0.7365291714668274, 0.7365293502807617, 0.07873033732175827, 0.2361910194158554, 0.07873033732175827, 0.15746067464351654, 0.07873033732175827, 0.3149213492870331, 0.07873033732175827, 0.19826069474220276, 0.19826069474220276, 0.09913034737110138, 0.09913034737110138, 0.09913034737110138, 0.19826069474220276, 0.09913034737110138, 0.12232669442892075, 0.2446533888578415, 0.12232669442892075, 0.12232669442892075, 0.12232669442892075, 0.12232669442892075, 0.12232669442892075, 0.24683625996112823, 0.24683625996112823, 0.49367251992225647, 0.7295784950256348, 0.7295785546302795, 0.14728884398937225, 0.44186651706695557, 0.2945776879787445, 0.14728884398937225, 0.29903295636177063, 0.29903295636177063, 0.7552120089530945, 0.4931623637676239, 0.14748544991016388, 0.14748544991016388, 0.5899417996406555, 0.3759235441684723, 0.3759235441684723, 0.37644582986831665, 0.37644582986831665, 0.2116919606924057, 0.10584598034620285, 0.10584598034620285, 0.10584598034620285, 0.10584598034620285, 0.10584598034620285, 0.10584598034620285, 0.4828963577747345, 0.48289617896080017, 0.18483389914035797, 0.36966779828071594, 0.18483389914035797, 0.18483389914035797, 0.21236105263233185, 0.6370831727981567, 0.21236105263233185, 0.4931624233722687, 0.3698464632034302, 0.3698464632034302, 0.4925745725631714, 0.3742979168891907, 0.3742979168891907, 0.7365292906761169, 0.5002925992012024, 0.3820034861564636, 0.3820034861564636, 0.36990588903427124, 0.7508896589279175, 0.07434529811143875, 0.07434529811143875, 0.22303588688373566, 0.1486905962228775, 0.22303588688373566, 0.07434529811143875, 0.07434529811143875, 0.07434529811143875, 0.7492603063583374, 0.37955018877983093, 0.37955018877983093, 0.741235077381134, 0.736082911491394, 0.7405709624290466, 0.3760761320590973, 0.3760761320590973, 0.36912909150123596, 0.12304303050041199, 0.12304303050041199, 0.12304303050041199, 0.12304303050041199, 0.12304303050041199, 0.5070669054985046, 0.2535334527492523, 0.741235077381134, 0.7360830307006836, 0.7360828518867493, 0.48289602994918823, 0.7295784950256348, 0.7755454182624817, 0.5017465949058533, 0.5240098834037781, 0.5070669054985046, 0.2535334527492523, 0.10166243463754654, 0.16943739354610443, 0.10166243463754654, 0.033887479454278946, 0.10166243463754654, 0.23721235990524292, 0.06777495890855789, 0.10166243463754654, 0.033887479454278946, 0.10166243463754654, 0.3730437159538269, 0.5017464756965637, 0.5240097641944885, 0.13437454402446747, 0.13437454402446747, 0.13437454402446747, 0.13437454402446747, 0.26874908804893494, 0.1060459166765213, 0.1060459166765213, 0.1060459166765213, 0.3181377649307251, 0.1060459166765213, 0.1060459166765213, 0.21078349649906158, 0.10539174824953079, 0.316175252199173, 0.10539174824953079, 0.10539174824953079, 0.10539174824953079, 0.10539174824953079, 0.37114259600639343, 0.37114259600639343, 0.7360827326774597, 0.48289602994918823, 0.12279380857944489, 0.24558761715888977, 0.12279380857944489, 0.12279380857944489, 0.12279380857944489, 0.12279380857944489, 0.21374541521072388, 0.21374541521072388, 0.6412362456321716, 0.4925745725631714, 0.24924175441265106, 0.24924175441265106, 0.4984835088253021, 0.24924175441265106, 0.30895453691482544, 0.30895453691482544, 0.7360830307006836, 0.7492600679397583, 0.20068424940109253, 0.13378949463367462, 0.20068424940109253, 0.10034212470054626, 0.10034212470054626, 0.10034212470054626, 0.10034212470054626, 0.10034212470054626, 0.033447373658418655, 0.48289597034454346, 0.1428735852241516, 0.0714367926120758, 0.0714367926120758, 0.0714367926120758, 0.0714367926120758, 0.0714367926120758, 0.0714367926120758, 0.0714367926120758, 0.0714367926120758, 0.21431037783622742, 0.21531133353710175, 0.4306226670742035, 0.21531133353710175, 0.7552119493484497, 0.7755453586578369, 0.5813834071159363, 0.29069170355796814, 0.24455374479293823, 0.48910748958587646, 0.24455374479293823, 0.5797683596611023, 0.28988417983055115, 0.3726043999195099, 0.3726043999195099, 0.5070669054985046, 0.2535334527492523, 0.48900488018989563, 0.4828961491584778, 0.07786253839731216, 0.31145015358924866, 0.15572507679462433, 0.2335876226425171, 0.07786253839731216, 0.07786253839731216, 0.5017465353012085, 0.7348120212554932, 0.3674060106277466, 0.49609288573265076, 0.29542604088783264, 0.29542604088783264, 0.29542604088783264, 0.49043136835098267, 0.24521568417549133, 0.24521568417549133, 0.7508896589279175, 0.4931623637676239, 0.7755454182624817, 0.741235077381134, 0.37016719579696655, 0.18508359789848328, 0.18508359789848328, 0.18508359789848328, 0.7360830307006836, 0.7365291714668274, 0.299064964056015, 0.299064964056015, 0.299064964056015, 0.1650240421295166, 0.1650240421295166, 0.3300480842590332, 0.3300480842590332, 0.4890049993991852, 0.7405708432197571, 0.49609288573265076, 0.736082911491394, 0.7405708432197571, 0.7755454182624817, 0.7492602467536926, 0.7552120089530945, 0.18483704328536987, 0.36967408657073975, 0.18483704328536987, 0.18483704328536987, 0.29355260729789734, 0.5871052145957947, 0.29528751969337463, 0.29528751969337463, 0.29528751969337463, 0.3850981891155243, 0.3850981891155243, 0.7405709624290466, 0.49829524755477905, 0.24914762377738953, 0.371776819229126, 0.371776819229126, 0.7552119493484497, 0.7360828518867493, 0.2956889569759369, 0.14784447848796844, 0.2956889569759369, 0.14784447848796844, 0.13484954833984375, 0.1685619354248047, 0.13484954833984375, 0.06742477416992188, 0.06742477416992188, 0.23598670959472656, 0.10113716125488281, 0.10113716125488281, 0.4902443289756775, 0.4886115491390228, 0.30331289768218994, 0.30331289768218994, 0.30331289768218994, 0.11554209142923355, 0.2310841828584671, 0.11554209142923355, 0.11554209142923355, 0.2310841828584671, 0.507067084312439, 0.2535335421562195, 0.07786194235086441, 0.038930971175432205, 0.15572388470172882, 0.19465485215187073, 0.19465485215187073, 0.038930971175432205, 0.038930971175432205, 0.23358581960201263, 0.14760787785053253, 0.29521575570106506, 0.14760787785053253, 0.14760787785053253, 0.14760787785053253, 0.7552119493484497, 0.374128520488739, 0.374128520488739, 0.29636457562446594, 0.29636457562446594, 0.29636457562446594, 0.13469158113002777, 0.13469158113002777, 0.13469158113002777, 0.26938316226005554, 0.13469158113002777, 0.7365291118621826, 0.7492600679397583, 0.7445403933525085, 0.4890049993991852, 0.48289602994918823, 0.2140960544347763, 0.2140960544347763, 0.2140960544347763, 0.4281921088695526, 0.5042890310287476, 0.7405709028244019, 0.7508895993232727, 0.7508896589279175, 0.7755454182624817, 0.7295785546302795, 0.7508895993232727, 0.7552120089530945, 0.7755454182624817, 0.736082911491394, 0.7552119493484497, 0.7405709624290466, 0.7405709624290466, 0.7508895397186279, 0.7445403337478638, 0.7360828518867493], \"Term\": [\"abertura\", \"abertura\", \"acao\", \"acao\", \"acentua\", \"acredita\", \"adejo\", \"administrador\", \"aeroclube\", \"aftzx\", \"agente\", \"agente\", \"agente\", \"agentes\", \"aguda\", \"aguda\", \"ajglyook\", \"ajrax\", \"ajuda\", \"ajuda\", \"ajuda\", \"ajuda\", \"ajuda\", \"ajuda\", \"ajuda\", \"album\", \"alem\", \"alerta\", \"alerta\", \"alerta\", \"algum\", \"alta\", \"alta\", \"alta\", \"alta\", \"alta\", \"alta\", \"alta\", \"alunos\", \"alunos\", \"alvaras\", \"alves\", \"ambulantes\", \"ameaca\", \"ameaca\", \"ameacas\", \"ameacas\", \"amigos\", \"amigos\", \"amor\", \"anaflor\", \"andreiasadi\", \"andreiasadi\", \"andreiasadi\", \"andreiasadi\", \"aniversario\", \"aniversario\", \"anos\", \"anos\", \"anos\", \"anos\", \"anos\", \"anos\", \"anos\", \"anos\", \"anos\", \"anos\", \"antes\", \"antes\", \"antes\", \"antes\", \"antes\", \"antes\", \"antes\", \"antes\", \"anulado\", \"apokkimtet\", \"apos\", \"apos\", \"apos\", \"apos\", \"apos\", \"apos\", \"apos\", \"apos\", \"apos\", \"apos\", \"aras\", \"aras\", \"arcebispo\", \"aspectos\", \"assessor\", \"assoc\", \"atender\", \"atua\", \"atuam\", \"aujayjuvog\", \"auwiw\", \"auxilio\", \"auxilio\", \"auxilio\", \"auxilio\", \"auxilio\", \"auxilio\", \"auxilio\", \"axwg\", \"bachelet\", \"bancos\", \"bancos\", \"bastidores\", \"bastidores\", \"bastidores\", \"belarus\", \"beleza\", \"bell\", \"bernardinho\", \"bjtfjp\", \"bkmwel\", \"blindar\", \"blog\", \"blog\", \"blog\", \"blog\", \"blog\", \"blog\", \"blog\", \"blog\", \"bolo\", \"bolsonaro\", \"bolsonaro\", \"bolsonaro\", \"bolsonaro\", \"bolsonaro\", \"bolsonaro\", \"bolsonaro\", \"bolsonaro\", \"bolsonaro\", \"bolsonaro\", \"bomdiabrasil\", \"bomdiabrasil\", \"bqyi\", \"brasil\", \"brasil\", \"brasil\", \"brasil\", \"brasil\", \"brasil\", \"brasil\", \"brasil\", \"brasil\", \"brasil\", \"brasileiro\", \"brasileiro\", \"buscaram\", \"caber\", \"cada\", \"cada\", \"cada\", \"cada\", \"cada\", \"caes\", \"caiu\", \"caiu\", \"caixa\", \"caixa\", \"caixa\", \"caixa\", \"camarg\", \"campanha\", \"campanha\", \"campanha\", \"campeoes\", \"cano\", \"cantora\", \"cantora\", \"cardiaca\", \"cargo\", \"cargo\", \"cargo\", \"carrao\", \"carro\", \"carro\", \"carro\", \"cartazes\", \"casa\", \"casa\", \"casa\", \"casa\", \"casa\", \"casa\", \"casa\", \"casos\", \"casos\", \"casos\", \"casos\", \"casos\", \"casos\", \"casos\", \"casos\", \"casos\", \"categoria\", \"causas\", \"causas\", \"cbkg\", \"ceara\", \"ceara\", \"ceara\", \"cecilia\", \"cedulas\", \"cedulas\", \"celulares\", \"certeza\", \"chegou\", \"china\", \"china\", \"china\", \"chineses\", \"churrasco\", \"cinco\", \"cinco\", \"cinco\", \"cinco\", \"cinco\", \"cinema\", \"circulaca\", \"citada\", \"citada\", \"citada\", \"citada\", \"colegas\", \"colegas\", \"coleta\", \"colocar\", \"combate\", \"combate\", \"combate\", \"combate\", \"combate\", \"comeca\", \"comeca\", \"comeca\", \"comeca\", \"comeca\", \"comenta\", \"computadores\", \"condena\", \"condenado\", \"conduzem\", \"consecutiva\", \"conta\", \"conta\", \"contra\", \"contra\", \"contra\", \"contra\", \"contra\", \"contra\", \"contra\", \"contra\", \"contra\", \"coronavirus\", \"coronavirus\", \"coronavirus\", \"coronavirus\", \"coronavirus\", \"coronavirus\", \"coronavirus\", \"coronavirus\", \"coronavirus\", \"coronavirus\", \"covid\", \"covid\", \"covid\", \"covid\", \"covid\", \"covid\", \"covid\", \"covid\", \"covid\", \"criminosos\", \"critica\", \"critica\", \"critica\", \"critica\", \"cura\", \"cura\", \"cvysxr\", \"daniel\", \"datas\", \"datas\", \"debate\", \"debate\", \"decadas\", \"decadas\", \"decide\", \"decide\", \"decisao\", \"decisao\", \"declaracoes\", \"defesa\", \"defesa\", \"defesa\", \"deixa\", \"deixa\", \"deixa\", \"deixa\", \"depoimento\", \"depoimento\", \"depoimento\", \"derruba\", \"derruba\", \"desejos\", \"desejos\", \"desgastado\", \"desmatamento\", \"desmatamento\", \"dhbk\", \"dias\", \"dias\", \"dias\", \"dias\", \"dias\", \"dias\", \"dias\", \"diferente\", \"diferente\", \"diferente\", \"diniz\", \"direcao\", \"discute\", \"dkojva\", \"dncv\", \"dona\", \"dona\", \"dphv\", \"durante\", \"durante\", \"durante\", \"durante\", \"durante\", \"durante\", \"durante\", \"dzaus\", \"edital\", \"eduardo\", \"emendas\", \"emergencial\", \"emergencial\", \"emergencial\", \"emergencial\", \"empresario\", \"empresario\", \"emprestados\", \"encontrar\", \"enem\", \"enem\", \"enem\", \"enem\", \"enem\", \"energia\", \"enfermeiro\", \"enfrentamento\", \"enteada\", \"entenda\", \"entenda\", \"entenda\", \"entorno\", \"entrar\", \"entrevista\", \"entrevista\", \"entrevista\", \"equivoco\", \"escolhas\", \"escolhi\", \"escritorio\", \"espantem\", \"esperava\", \"esperava\", \"essenciais\", \"essenciais\", \"estado\", \"estado\", \"estado\", \"estado\", \"estado\", \"estado\", \"estado\", \"estados\", \"estados\", \"estados\", \"estaduais\", \"estaduais\", \"estreou\", \"estresse\", \"estudo\", \"estudo\", \"estudo\", \"estudo\", \"estudos\", \"estudos\", \"estudos\", \"etapa\", \"etapa\", \"evcf\", \"excepc\", \"exclusivo\", \"exclusivo\", \"exonera\", \"experiencia\", \"expressiva\", \"extrovertida\", \"eysynpc\", \"fake\", \"fake\", \"fake\", \"fake\", \"fake\", \"fala\", \"fala\", \"fala\", \"fala\", \"falam\", \"familia\", \"familia\", \"familia\", \"familia\", \"fantasias\", \"fatooufake\", \"fatooufake\", \"fatooufake\", \"fatooufake\", \"fatooufake\", \"favela\", \"favela\", \"fazem\", \"fazem\", \"fazem\", \"fazem\", \"fazem\", \"fazem\", \"federais\", \"federais\", \"feira\", \"feira\", \"feira\", \"feira\", \"feira\", \"feira\", \"feitas\", \"fernando\", \"fernando\", \"ficar\", \"ficar\", \"ficar\", \"ficar\", \"ficou\", \"ficou\", \"filha\", \"filha\", \"filha\", \"filha\", \"filho\", \"filho\", \"filho\", \"filho\", \"filho\", \"filhos\", \"filhos\", \"filhos\", \"filhos\", \"flor\", \"fontes\", \"forca\", \"fraude\", \"fraude\", \"fritura\", \"gaga\", \"gbee\", \"gestao\", \"gkmms\", \"globonews\", \"globonews\", \"globonews\", \"globonews\", \"globonews\", \"globonews\", \"goias\", \"governadores\", \"governo\", \"governo\", \"governo\", \"governo\", \"governo\", \"governo\", \"governo\", \"governo\", \"governo\", \"governo\", \"gradual\", \"grave\", \"grave\", \"gravidade\", \"gripe\", \"gripe\", \"gripe\", \"guedes\", \"guedes\", \"guedes\", \"guedes\", \"guerreiro\", \"guxqjeo\", \"hackeado\", \"heleno\", \"heleno\", \"homem\", \"homem\", \"homem\", \"homens\", \"horas\", \"horas\", \"horas\", \"horas\", \"horas\", \"horas\", \"horas\", \"horas\", \"hospital\", \"hospital\", \"hospital\", \"hospital\", \"hospital\", \"hospital\", \"hospital\", \"humanitaria\", \"idosa\", \"iespmbkebs\", \"ilegal\", \"impediu\", \"imperial\", \"importa\", \"importa\", \"inclusao\", \"inclusao\", \"indigena\", \"influencia\", \"informais\", \"inicial\", \"inicio\", \"inicio\", \"inscricoes\", \"internacoes\", \"internet\", \"internet\", \"internet\", \"investiga\", \"investiga\", \"investiga\", \"investigacao\", \"investigacao\", \"investigacao\", \"investigacao\", \"isolado\", \"isolamento\", \"isolamento\", \"isolamento\", \"isolamento\", \"isolamento\", \"isolamento\", \"isolamento\", \"isolamento\", \"isolamento\", \"iyct\", \"jheigfz\", \"jornalistas\", \"jornalistas\", \"jovem\", \"jovem\", \"jovem\", \"jovem\", \"julgado\", \"junto\", \"justica\", \"justica\", \"justica\", \"justica\", \"justica\", \"justica\", \"justica\", \"jwstb\", \"kpkz\", \"laboratorio\", \"lacam\", \"lanca\", \"lavajato\", \"ldozwjbvlh\", \"leia\", \"leia\", \"leia\", \"leia\", \"leia\", \"leonardo\", \"leonardo\", \"lirscbw\", \"live\", \"live\", \"live\", \"live\", \"live\", \"live\", \"live\", \"live\", \"livra\", \"livra\", \"livra\", \"lizn\", \"lockdown\", \"lockdown\", \"lockdown\", \"lockdown\", \"lockdown\", \"lockdown\", \"lockdown\", \"lockdown\", \"lockdown\", \"lpxd\", \"luta\", \"maes\", \"maes\", \"maes\", \"maes\", \"maes\", \"maes\", \"maes\", \"maio\", \"maio\", \"maio\", \"maio\", \"maio\", \"maio\", \"maio\", \"maio\", \"maio\", \"majso\", \"manaus\", \"manaus\", \"manaus\", \"manaus\", \"manif\", \"manifesta\", \"manifestando\", \"manifesto\", \"manipulada\", \"mapear\", \"maranhao\", \"maranhao\", \"marcos\", \"mascara\", \"mascara\", \"mascara\", \"mascara\", \"mascara\", \"mascaras\", \"mascaras\", \"mascaras\", \"mascaras\", \"mascaras\", \"mascaras\", \"medico\", \"medico\", \"medico\", \"medico\", \"medo\", \"medo\", \"medo\", \"medo\", \"meio\", \"meio\", \"meio\", \"meio\", \"meio\", \"meio\", \"meio\", \"meio\", \"merval\", \"merval\", \"meses\", \"meses\", \"meses\", \"meses\", \"meses\", \"meses\", \"meses\", \"meuxgyzlre\", \"milhao\", \"milhao\", \"milhao\", \"milhoes\", \"milhoes\", \"milhoes\", \"milhoes\", \"milhoes\", \"milhoes\", \"milhoes\", \"milhoes\", \"milionarias\", \"minas\", \"minas\", \"minas\", \"ministerio\", \"ministerio\", \"ministerio\", \"ministerio\", \"ministerio\", \"ministerio\", \"ministerio\", \"ministerio\", \"ministro\", \"ministro\", \"ministro\", \"ministro\", \"ministro\", \"ministro\", \"ministro\", \"ministro\", \"ministro\", \"ministros\", \"ministros\", \"ministros\", \"ministros\", \"ministros\", \"ministros\", \"minuto\", \"minuto\", \"minuto\", \"moro\", \"moro\", \"moro\", \"moro\", \"moro\", \"moro\", \"moro\", \"morre\", \"morre\", \"morre\", \"morre\", \"morre\", \"morre\", \"morre\", \"morre\", \"morreram\", \"morte\", \"morte\", \"morte\", \"morte\", \"morte\", \"morte\", \"morte\", \"mortes\", \"mortes\", \"mortes\", \"mortes\", \"mortes\", \"mortes\", \"mortes\", \"mortes\", \"mortes\", \"mortes\", \"mortesporcovid\", \"mortos\", \"mortos\", \"mortos\", \"mostre\", \"mostre\", \"mostre\", \"motorista\", \"motorista\", \"mudei\", \"mulher\", \"mulher\", \"mulher\", \"mulher\", \"mulher\", \"mundial\", \"mundial\", \"mundo\", \"mundo\", \"mundo\", \"mundo\", \"musicas\", \"mvhg\", \"mxms\", \"ndcmbqedhx\", \"negou\", \"nelson\", \"nelson\", \"nelson\", \"nelson\", \"nesta\", \"nesta\", \"nesta\", \"nesta\", \"nesta\", \"neste\", \"neste\", \"neste\", \"neste\", \"neste\", \"neste\", \"neta\", \"netos\", \"niro\", \"noronha\", \"noronha\", \"noronha\", \"noticia\", \"noticia\", \"noticia\", \"noticias\", \"noticias\", \"novo\", \"novo\", \"novo\", \"novo\", \"novo\", \"novo\", \"novo\", \"novo\", \"novos\", \"novos\", \"novos\", \"nqou\", \"numero\", \"numero\", \"numero\", \"numero\", \"numero\", \"numero\", \"numero\", \"numero\", \"nvhlkkw\", \"nwbsq\", \"oassunto\", \"oassunto\", \"oassunto\", \"oassunto\", \"oassunto\", \"oassunto\", \"oassunto\", \"oassunto\", \"oassunto\", \"obitos\", \"obras\", \"ocorrer\", \"oralej\", \"orban\", \"oremos\", \"orla\", \"otpupi\", \"outras\", \"outras\", \"outros\", \"outros\", \"pacientes\", \"pacientes\", \"pacientes\", \"pacientes\", \"pacientes\", \"pacientes\", \"pacientes\", \"pacientes\", \"pacotes\", \"paga\", \"paga\", \"paga\", \"pagamento\", \"pagamento\", \"pagamento\", \"pagar\", \"pagar\", \"pagar\", \"pagar\", \"pais\", \"pais\", \"pais\", \"pais\", \"pais\", \"pais\", \"pais\", \"pais\", \"pais\", \"paises\", \"paises\", \"paises\", \"paises\", \"pandas\", \"pandemia\", \"pandemia\", \"pandemia\", \"pandemia\", \"pandemia\", \"pandemia\", \"pandemia\", \"pandemia\", \"pandemia\", \"pandemia\", \"paraiba\", \"parcela\", \"parcela\", \"parcela\", \"parcela\", \"participou\", \"participou\", \"particular\", \"particulas\", \"passados\", \"passar\", \"passo\", \"paulo\", \"paulo\", \"paulo\", \"paulo\", \"paulo\", \"paulo\", \"paulo\", \"paulo\", \"pedacos\", \"pede\", \"pede\", \"pede\", \"pede\", \"pede\", \"pede\", \"pede\", \"pedem\", \"pedem\", \"pedido\", \"pedido\", \"pedido\", \"pedido\", \"pedido\", \"pega\", \"perda\", \"perder\", \"perdeu\", \"pereira\", \"perturbacao\", \"pessoal\", \"pessoas\", \"pessoas\", \"pessoas\", \"pessoas\", \"pessoas\", \"pessoas\", \"pessoas\", \"pessoas\", \"petrobras\", \"petrobras\", \"pikixv\", \"piora\", \"planalto\", \"planalto\", \"planalto\", \"planalto\", \"plena\", \"plena\", \"pode\", \"pode\", \"pode\", \"pode\", \"pode\", \"pode\", \"pode\", \"pode\", \"pode\", \"pode\", \"podem\", \"podem\", \"podera\", \"polo\", \"pontes\", \"porque\", \"porque\", \"porque\", \"possivel\", \"postos\", \"pqdm\", \"precisa\", \"precisa\", \"precisa\", \"precisam\", \"precisam\", \"precisam\", \"prefeitura\", \"prefeitura\", \"prefeitura\", \"prefeitura\", \"prefeitura\", \"prefeitura\", \"prefeitura\", \"preocupacao\", \"preocupacao\", \"preparam\", \"presidente\", \"presidente\", \"presidente\", \"presidente\", \"presidente\", \"presidente\", \"presidente\", \"presidente\", \"presidente\", \"prestigiar\", \"prever\", \"primeiro\", \"primeiro\", \"primeiro\", \"primeiro\", \"primeiros\", \"processamento\", \"professores\", \"profissionais\", \"profissionais\", \"profissionais\", \"profissionais\", \"pronto\", \"pronto\", \"proteger\", \"prova\", \"prova\", \"prova\", \"publico\", \"publico\", \"publico\", \"publico\", \"publico\", \"publico\", \"puerperas\", \"puerperas\", \"pumu\", \"punicao\", \"punicao\", \"qbkk\", \"qpkh\", \"quantias\", \"quarentena\", \"quarentena\", \"quarentena\", \"quarentena\", \"quarentena\", \"quarentena\", \"quarentena\", \"quase\", \"quase\", \"quase\", \"quase\", \"quase\", \"quase\", \"quase\", \"queda\", \"queda\", \"queda\", \"queda\", \"queda\", \"queda\", \"queda\", \"quinta\", \"quinta\", \"quinta\", \"qygjtyff\", \"rckpl\", \"reais\", \"reais\", \"reais\", \"reais\", \"reajuste\", \"reajuste\", \"reality\", \"receb\", \"recebe\", \"recebe\", \"recebe\", \"recebeu\", \"recebeu\", \"rede\", \"rede\", \"registra\", \"registra\", \"registra\", \"registra\", \"registra\", \"registra\", \"registra\", \"registrados\", \"registro\", \"reino\", \"reino\", \"reino\", \"reino\", \"renataloprete\", \"renataloprete\", \"renataloprete\", \"renda\", \"repercussao\", \"repercussao\", \"reporter\", \"repudio\", \"repudio\", \"resgate\", \"respeito\", \"respirador\", \"respirador\", \"restricoes\", \"retire\", \"reuniao\", \"reuniao\", \"reuniao\", \"reuniao\", \"reuniao\", \"reuniao\", \"reuniao\", \"reuniao\", \"reus\", \"revista\", \"revista\", \"revisto\", \"riscos\", \"robe\", \"roberto\", \"roberto\", \"rodizio\", \"rodizio\", \"rodizio\", \"rodizio\", \"rodizio\", \"rodizio\", \"rosto\", \"rosto\", \"rvkga\", \"rvnkgeicca\", \"sacadas\", \"sacos\", \"sambas\", \"samuel\", \"sandracoh\", \"sanitaria\", \"saudade\", \"saudade\", \"saude\", \"saude\", \"saude\", \"saude\", \"saude\", \"saude\", \"saude\", \"saude\", \"saude\", \"saude\", \"secretarias\", \"seculo\", \"seguir\", \"segunda\", \"segunda\", \"segunda\", \"segunda\", \"segunda\", \"segundo\", \"segundo\", \"segundo\", \"segundo\", \"segundo\", \"segundo\", \"semana\", \"semana\", \"semana\", \"semana\", \"semana\", \"semana\", \"semana\", \"sendo\", \"sendo\", \"separados\", \"sequencia\", \"sera\", \"sera\", \"sera\", \"sera\", \"sera\", \"sera\", \"servidores\", \"servidores\", \"servidores\", \"sexta\", \"sigilo\", \"sigilo\", \"sigilo\", \"sigilo\", \"situacao\", \"situacao\", \"sjrobine\", \"sjxgk\", \"sobre\", \"sobre\", \"sobre\", \"sobre\", \"sobre\", \"sobre\", \"sobre\", \"sobre\", \"sobre\", \"sobrevive\", \"social\", \"social\", \"social\", \"social\", \"social\", \"social\", \"social\", \"social\", \"social\", \"social\", \"sonhos\", \"sonhos\", \"sonhos\", \"spqwjook\", \"ssejls\", \"subnotificacao\", \"subnotificacao\", \"supremo\", \"supremo\", \"supremo\", \"suspende\", \"suspende\", \"suspensao\", \"suspensao\", \"talentos\", \"talentos\", \"tata\", \"tecnica\", \"teich\", \"teich\", \"teich\", \"teich\", \"teich\", \"teich\", \"temperatura\", \"tenta\", \"tenta\", \"tentar\", \"tentou\", \"tentou\", \"tentou\", \"terceira\", \"terceira\", \"terceira\", \"terminara\", \"terras\", \"tesla\", \"testagem\", \"testes\", \"testes\", \"testes\", \"testes\", \"testou\", \"tiktok\", \"todo\", \"todo\", \"todo\", \"todos\", \"todos\", \"todos\", \"todos\", \"tornei\", \"trafego\", \"transito\", \"trata\", \"tributo\", \"turne\", \"tvqqo\", \"unico\", \"unido\", \"unido\", \"unido\", \"unido\", \"universidades\", \"universidades\", \"urgente\", \"urgente\", \"urgente\", \"usam\", \"usam\", \"uugqtznq\", \"vacina\", \"vacina\", \"vacinacao\", \"vacinacao\", \"vagas\", \"veiamh\", \"veiculos\", \"veiculos\", \"veiculos\", \"veiculos\", \"veja\", \"veja\", \"veja\", \"veja\", \"veja\", \"veja\", \"veja\", \"veja\", \"vejo\", \"vencer\", \"vezes\", \"vezes\", \"vezes\", \"vida\", \"vida\", \"vida\", \"vida\", \"vida\", \"vidas\", \"vidas\", \"video\", \"video\", \"video\", \"video\", \"video\", \"video\", \"video\", \"video\", \"videos\", \"videos\", \"videos\", \"videos\", \"videos\", \"vidro\", \"viram\", \"viram\", \"visita\", \"visita\", \"visita\", \"vitima\", \"vitima\", \"vitima\", \"vitima\", \"vitima\", \"voltarao\", \"vxqvba\", \"wdfwi\", \"werneck\", \"whatsapp\", \"witzel\", \"witzel\", \"witzel\", \"witzel\", \"wuhan\", \"wzvdcrcmhn\", \"xwee\", \"xyfur\", \"xyyrxayau\", \"xzgzx\", \"youtube\", \"youtuber\", \"ywsfjmbii\", \"yybc\", \"yzkolzb\", \"zcsr\", \"zera\", \"zkeo\", \"zkuftkazs\", \"zsjrmyrq\"]}, \"R\": 30, \"lambda.step\": 0.01, \"plot.opts\": {\"xlab\": \"PC1\", \"ylab\": \"PC2\"}, \"topic.order\": [7, 2, 1, 10, 5, 6, 4, 9, 8, 3]};\n",
              "\n",
              "function LDAvis_load_lib(url, callback){\n",
              "  var s = document.createElement('script');\n",
              "  s.src = url;\n",
              "  s.async = true;\n",
              "  s.onreadystatechange = s.onload = callback;\n",
              "  s.onerror = function(){console.warn(\"failed to load library \" + url);};\n",
              "  document.getElementsByTagName(\"head\")[0].appendChild(s);\n",
              "}\n",
              "\n",
              "if(typeof(LDAvis) !== \"undefined\"){\n",
              "   // already loaded: just create the visualization\n",
              "   !function(LDAvis){\n",
              "       new LDAvis(\"#\" + \"ldavis_el3841406748054020248951186322\", ldavis_el3841406748054020248951186322_data);\n",
              "   }(LDAvis);\n",
              "}else if(typeof define === \"function\" && define.amd){\n",
              "   // require.js is available: use it to load d3/LDAvis\n",
              "   require.config({paths: {d3: \"https://cdnjs.cloudflare.com/ajax/libs/d3/3.5.5/d3.min\"}});\n",
              "   require([\"d3\"], function(d3){\n",
              "      window.d3 = d3;\n",
              "      LDAvis_load_lib(\"https://cdn.rawgit.com/bmabey/pyLDAvis/files/ldavis.v1.0.0.js\", function(){\n",
              "        new LDAvis(\"#\" + \"ldavis_el3841406748054020248951186322\", ldavis_el3841406748054020248951186322_data);\n",
              "      });\n",
              "    });\n",
              "}else{\n",
              "    // require.js not available: dynamically load d3 & LDAvis\n",
              "    LDAvis_load_lib(\"https://cdnjs.cloudflare.com/ajax/libs/d3/3.5.5/d3.min.js\", function(){\n",
              "         LDAvis_load_lib(\"https://cdn.rawgit.com/bmabey/pyLDAvis/files/ldavis.v1.0.0.js\", function(){\n",
              "                 new LDAvis(\"#\" + \"ldavis_el3841406748054020248951186322\", ldavis_el3841406748054020248951186322_data);\n",
              "            })\n",
              "         });\n",
              "}\n",
              "</script>"
            ],
            "text/plain": [
              "PreparedData(topic_coordinates=              x         y  topics  cluster       Freq\n",
              "topic                                                \n",
              "6     -0.085211  0.044010       1        1  12.032623\n",
              "1      0.020407 -0.001293       2        1  10.699009\n",
              "0      0.104335 -0.049175       3        1  10.683892\n",
              "9     -0.078663  0.033481       4        1  10.476305\n",
              "4      0.060896  0.066727       5        1  10.130920\n",
              "5      0.037569  0.039474       6        1   9.861612\n",
              "3     -0.048066 -0.015870       7        1   9.771950\n",
              "8      0.055361 -0.015218       8        1   9.189751\n",
              "7     -0.047375 -0.146071       9        1   9.073477\n",
              "2     -0.019253  0.043936      10        1   8.080460, topic_info=             Term       Freq      Total Category  logprob  loglift\n",
              "29    coronavirus  88.000000  88.000000  Default  30.0000  30.0000\n",
              "708   emergencial  11.000000  11.000000  Default  29.0000  29.0000\n",
              "90          video  25.000000  25.000000  Default  28.0000  28.0000\n",
              "1           covid  56.000000  56.000000  Default  27.0000  27.0000\n",
              "1175         cada  10.000000  10.000000  Default  26.0000  26.0000\n",
              "...           ...        ...        ...      ...      ...      ...\n",
              "27          casos   1.670405  18.742332  Topic10  -5.9605   0.0980\n",
              "36        governo   1.628194  27.044353  Topic10  -5.9861  -0.2943\n",
              "121       reuniao   1.299796  13.450750  Topic10  -6.2114   0.1789\n",
              "156          dias   1.299792  14.191484  Topic10  -6.2114   0.1253\n",
              "527      lockdown   1.299789  12.789421  Topic10  -6.2114   0.2293\n",
              "\n",
              "[762 rows x 6 columns], token_table=      Topic      Freq       Term\n",
              "term                            \n",
              "717       1  0.367040   abertura\n",
              "717       9  0.367040   abertura\n",
              "92        6  0.372730       acao\n",
              "92        7  0.372730       acao\n",
              "3454      8  0.750890    acentua\n",
              "...     ...       ...        ...\n",
              "2944      7  0.740571       zcsr\n",
              "3260      7  0.740571       zera\n",
              "2992      8  0.750890       zkeo\n",
              "488       5  0.744540  zkuftkazs\n",
              "3535      2  0.736083   zsjrmyrq\n",
              "\n",
              "[1370 rows x 3 columns], R=30, lambda_step=0.01, plot_opts={'xlab': 'PC1', 'ylab': 'PC2'}, topic_order=[7, 2, 1, 10, 5, 6, 4, 9, 8, 3])"
            ]
          },
          "metadata": {
            "tags": []
          },
          "execution_count": 40
        }
      ]
    },
    {
      "cell_type": "code",
      "metadata": {
        "id": "N2zUnHsJooOg",
        "colab_type": "code",
        "outputId": "56b7dc4e-b56e-4bc0-8688-0e5bd617b60e",
        "colab": {
          "base_uri": "https://localhost:8080/",
          "height": 52
        }
      },
      "source": [
        "coherence_model_lda = CoherenceModel(model=lda_model, texts=processed_docs, dictionary=dictionary, coherence='c_v')\n",
        "coherence_lda = coherence_model_lda.get_coherence()\n",
        "print('\\nCoherence Score: ', coherence_lda)"
      ],
      "execution_count": 41,
      "outputs": [
        {
          "output_type": "stream",
          "text": [
            "\n",
            "Coherence Score:  0.48305744306153053\n"
          ],
          "name": "stdout"
        }
      ]
    }
  ]
}