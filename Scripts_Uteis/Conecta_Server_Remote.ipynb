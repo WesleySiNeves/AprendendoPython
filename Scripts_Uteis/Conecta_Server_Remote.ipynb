{
 "cells": [
  {
   "cell_type": "markdown",
   "metadata": {},
   "source": [
    "Declaração de Variaveis"
   ]
  },
  {
   "cell_type": "code",
   "execution_count": 12,
   "metadata": {},
   "outputs": [
    {
     "output_type": "stream",
     "name": "stdout",
     "text": "Collecting paramiko\n  Using cached https://files.pythonhosted.org/packages/06/1e/1e08baaaf6c3d3df1459fd85f0e7d2d6aa916f33958f151ee1ecc9800971/paramiko-2.7.1-py2.py3-none-any.whl\nRequirement already satisfied: pynacl>=1.0.1 in c:\\programdata\\anaconda3\\lib\\site-packages (from paramiko) (1.3.0)\nCollecting cryptography>=2.5 (from paramiko)\n  Using cached https://files.pythonhosted.org/packages/b9/10/900ee22ffe6df9955a894286f097f14b108574053ad1d75839a175623e24/cryptography-2.9.2-cp37-cp37m-win_amd64.whl\nRequirement already satisfied: bcrypt>=3.1.3 in c:\\programdata\\anaconda3\\lib\\site-packages (from paramiko) (3.1.7)\nRequirement already satisfied: six in c:\\programdata\\anaconda3\\lib\\site-packages (from pynacl>=1.0.1->paramiko) (1.11.0)\nRequirement already satisfied: cffi>=1.4.1 in c:\\programdata\\anaconda3\\lib\\site-packages (from pynacl>=1.0.1->paramiko) (1.11.5)\nRequirement already satisfied: pycparser in c:\\programdata\\anaconda3\\lib\\site-packages (from cffi>=1.4.1->pynacl>=1.0.1->paramiko) (2.18)\nInstalling collected packages: cryptography, paramiko\nSuccessfully installed cryptography-2.9.2 paramiko-2.7.1\ntensorflow 2.1.0 requires absl-py>=0.7.0, which is not installed.\ntensorflow 2.1.0 requires astor>=0.6.0, which is not installed.\ntensorflow 2.1.0 requires gast==0.2.2, which is not installed.\ntensorflow 2.1.0 requires google-pasta>=0.1.6, which is not installed.\ntensorflow 2.1.0 requires grpcio>=1.8.6, which is not installed.\ntensorflow 2.1.0 requires keras-applications>=1.0.8, which is not installed.\ntensorflow 2.1.0 requires keras-preprocessing>=1.1.0, which is not installed.\ntensorflow 2.1.0 requires opt-einsum>=2.3.2, which is not installed.\ntensorflow 2.1.0 requires protobuf>=3.8.0, which is not installed.\ntensorflow 2.1.0 requires tensorflow-estimator<2.2.0,>=2.1.0rc0, which is not installed.\ntensorflow 2.1.0 requires termcolor>=1.1.0, which is not installed.\ntensorboard 2.1.0 requires absl-py>=0.4, which is not installed.\ntensorboard 2.1.0 requires google-auth-oauthlib<0.5,>=0.4.1, which is not installed.\ntensorboard 2.1.0 requires grpcio>=1.24.3, which is not installed.\ntensorboard 2.1.0 requires markdown>=2.6.8, which is not installed.\ntensorboard 2.1.0 requires protobuf>=3.6.0, which is not installed.\ntwisted 18.7.0 requires PyHamcrest>=1.9.0, which is not installed.\ntensorflow 2.1.0 has requirement scipy==1.4.1; python_version >= \"3\", but you'll have scipy 1.1.0 which is incompatible.\ntensorflow 2.1.0 has requirement six>=1.12.0, but you'll have six 1.11.0 which is incompatible.\ntensorflow 2.1.0 has requirement wrapt>=1.11.1, but you'll have wrapt 1.10.11 which is incompatible.\ntensorboard 2.1.0 has requirement requests<3,>=2.21.0, but you'll have requests 2.19.1 which is incompatible.\nYou are using pip version 10.0.1, however version 20.1b1 is available.\nYou should consider upgrading via the 'python -m pip install --upgrade pip' command.\n"
    }
   ],
   "source": [
    "!pip install  paramiko --user\n"
   ]
  },
  {
   "cell_type": "code",
   "execution_count": 13,
   "metadata": {},
   "outputs": [],
   "source": [
    "server ='10.116.0.9'\n",
    "username ='implanta'\n",
    "password ='M@st3rP0w3rN@w3r@Hml'"
   ]
  },
  {
   "cell_type": "code",
   "execution_count": 14,
   "metadata": {},
   "outputs": [],
   "source": [
    "import os\n",
    "import paramiko"
   ]
  },
  {
   "cell_type": "code",
   "execution_count": 15,
   "metadata": {},
   "outputs": [
    {
     "output_type": "error",
     "ename": "NoValidConnectionsError",
     "evalue": "[Errno None] Unable to connect to port 22 on 10.116.0.9",
     "traceback": [
      "\u001b[1;31m---------------------------------------------------------------------------\u001b[0m",
      "\u001b[1;31mNoValidConnectionsError\u001b[0m                   Traceback (most recent call last)",
      "\u001b[1;32m<ipython-input-15-23e4c3814e0f>\u001b[0m in \u001b[0;36m<module>\u001b[1;34m()\u001b[0m\n\u001b[0;32m     23\u001b[0m \u001b[1;33m\u001b[0m\u001b[0m\n\u001b[0;32m     24\u001b[0m \u001b[0mcommand_1\u001b[0m \u001b[1;33m=\u001b[0m \u001b[1;34m\"cmd /c mkdir asdf\"\u001b[0m\u001b[1;33m\u001b[0m\u001b[0m\n\u001b[1;32m---> 25\u001b[1;33m \u001b[0moutput\u001b[0m \u001b[1;33m=\u001b[0m \u001b[0mexecute_command\u001b[0m\u001b[1;33m(\u001b[0m\u001b[0mdevice_details\u001b[0m\u001b[1;33m,\u001b[0m \u001b[0mcommand_1\u001b[0m\u001b[1;33m)\u001b[0m\u001b[1;33m\u001b[0m\u001b[0m\n\u001b[0m",
      "\u001b[1;32m<ipython-input-15-23e4c3814e0f>\u001b[0m in \u001b[0;36mexecute_command\u001b[1;34m(device_details, command)\u001b[0m\n\u001b[0;32m     12\u001b[0m        \u001b[0musername\u001b[0m \u001b[1;33m=\u001b[0m \u001b[0mdevice_details\u001b[0m\u001b[1;33m.\u001b[0m\u001b[0mget\u001b[0m\u001b[1;33m(\u001b[0m\u001b[1;34m'username'\u001b[0m\u001b[1;33m)\u001b[0m\u001b[1;33m\u001b[0m\u001b[0m\n\u001b[0;32m     13\u001b[0m        \u001b[0mpassword\u001b[0m \u001b[1;33m=\u001b[0m \u001b[0mdevice_details\u001b[0m\u001b[1;33m.\u001b[0m\u001b[0mget\u001b[0m\u001b[1;33m(\u001b[0m\u001b[1;34m'password'\u001b[0m\u001b[1;33m)\u001b[0m\u001b[1;33m\u001b[0m\u001b[0m\n\u001b[1;32m---> 14\u001b[1;33m        \u001b[0mssh_ns_obj\u001b[0m \u001b[1;33m=\u001b[0m \u001b[0mssh_connect\u001b[0m\u001b[1;33m(\u001b[0m\u001b[0mip\u001b[0m\u001b[1;33m,\u001b[0m \u001b[0musername\u001b[0m\u001b[1;33m,\u001b[0m \u001b[0mpassword\u001b[0m\u001b[1;33m)\u001b[0m\u001b[1;33m\u001b[0m\u001b[0m\n\u001b[0m\u001b[0;32m     15\u001b[0m        \u001b[0mssh_stdin\u001b[0m\u001b[1;33m,\u001b[0m \u001b[0mssh_stdout\u001b[0m\u001b[1;33m,\u001b[0m \u001b[0mssh_stderr\u001b[0m \u001b[1;33m=\u001b[0m \u001b[0mssh_ns_obj\u001b[0m\u001b[1;33m.\u001b[0m\u001b[0mexec_command\u001b[0m\u001b[1;33m(\u001b[0m\u001b[0mcommand\u001b[0m\u001b[1;33m)\u001b[0m\u001b[1;33m\u001b[0m\u001b[0m\n\u001b[0;32m     16\u001b[0m     \u001b[1;31m#    print ssh_stderr.read()\u001b[0m\u001b[1;33m\u001b[0m\u001b[1;33m\u001b[0m\u001b[0m\n",
      "\u001b[1;32m<ipython-input-15-23e4c3814e0f>\u001b[0m in \u001b[0;36mssh_connect\u001b[1;34m(ip, user, pwd)\u001b[0m\n\u001b[0;32m      4\u001b[0m         \u001b[0mssh\u001b[0m \u001b[1;33m=\u001b[0m \u001b[0mparamiko\u001b[0m\u001b[1;33m.\u001b[0m\u001b[0mSSHClient\u001b[0m\u001b[1;33m(\u001b[0m\u001b[1;33m)\u001b[0m\u001b[1;33m\u001b[0m\u001b[0m\n\u001b[0;32m      5\u001b[0m         \u001b[0mssh\u001b[0m\u001b[1;33m.\u001b[0m\u001b[0mset_missing_host_key_policy\u001b[0m\u001b[1;33m(\u001b[0m\u001b[0mparamiko\u001b[0m\u001b[1;33m.\u001b[0m\u001b[0mAutoAddPolicy\u001b[0m\u001b[1;33m(\u001b[0m\u001b[1;33m)\u001b[0m\u001b[1;33m)\u001b[0m\u001b[1;33m\u001b[0m\u001b[0m\n\u001b[1;32m----> 6\u001b[1;33m         \u001b[0mssh\u001b[0m\u001b[1;33m.\u001b[0m\u001b[0mconnect\u001b[0m\u001b[1;33m(\u001b[0m\u001b[0mip\u001b[0m\u001b[1;33m,\u001b[0m \u001b[0musername\u001b[0m\u001b[1;33m=\u001b[0m\u001b[0muser\u001b[0m\u001b[1;33m,\u001b[0m \u001b[0mpassword\u001b[0m\u001b[1;33m=\u001b[0m\u001b[0mpwd\u001b[0m\u001b[1;33m)\u001b[0m\u001b[1;33m\u001b[0m\u001b[0m\n\u001b[0m\u001b[0;32m      7\u001b[0m         \u001b[1;32mreturn\u001b[0m \u001b[0mssh\u001b[0m\u001b[1;33m\u001b[0m\u001b[0m\n\u001b[0;32m      8\u001b[0m \u001b[1;33m\u001b[0m\u001b[0m\n",
      "\u001b[1;32m~\\AppData\\Roaming\\Python\\Python37\\site-packages\\paramiko\\client.py\u001b[0m in \u001b[0;36mconnect\u001b[1;34m(self, hostname, port, username, password, pkey, key_filename, timeout, allow_agent, look_for_keys, compress, sock, gss_auth, gss_kex, gss_deleg_creds, gss_host, banner_timeout, auth_timeout, gss_trust_dns, passphrase, disabled_algorithms)\u001b[0m\n\u001b[0;32m    366\u001b[0m             \u001b[1;31m# (socket.error)\u001b[0m\u001b[1;33m\u001b[0m\u001b[1;33m\u001b[0m\u001b[0m\n\u001b[0;32m    367\u001b[0m             \u001b[1;32mif\u001b[0m \u001b[0mlen\u001b[0m\u001b[1;33m(\u001b[0m\u001b[0merrors\u001b[0m\u001b[1;33m)\u001b[0m \u001b[1;33m==\u001b[0m \u001b[0mlen\u001b[0m\u001b[1;33m(\u001b[0m\u001b[0mto_try\u001b[0m\u001b[1;33m)\u001b[0m\u001b[1;33m:\u001b[0m\u001b[1;33m\u001b[0m\u001b[0m\n\u001b[1;32m--> 368\u001b[1;33m                 \u001b[1;32mraise\u001b[0m \u001b[0mNoValidConnectionsError\u001b[0m\u001b[1;33m(\u001b[0m\u001b[0merrors\u001b[0m\u001b[1;33m)\u001b[0m\u001b[1;33m\u001b[0m\u001b[0m\n\u001b[0m\u001b[0;32m    369\u001b[0m \u001b[1;33m\u001b[0m\u001b[0m\n\u001b[0;32m    370\u001b[0m         t = self._transport = Transport(\n",
      "\u001b[1;31mNoValidConnectionsError\u001b[0m: [Errno None] Unable to connect to port 22 on 10.116.0.9"
     ]
    }
   ],
   "source": [
    "\n",
    "\n",
    "def ssh_connect(ip,user,pwd):\n",
    "        ssh = paramiko.SSHClient()\n",
    "        ssh.set_missing_host_key_policy(paramiko.AutoAddPolicy())\n",
    "        ssh.connect(ip, username=user, password=pwd)\n",
    "        return ssh\n",
    "\n",
    "\n",
    "def execute_command(device_details, command):\n",
    "       ip = device_details.get('ip')\n",
    "       username = device_details.get('username')\n",
    "       password = device_details.get('password')\n",
    "       ssh_ns_obj = ssh_connect(ip, username, password)\n",
    "       ssh_stdin, ssh_stdout, ssh_stderr = ssh_ns_obj.exec_command(command)\n",
    "    #    print ssh_stderr.read()\n",
    "       return ssh_stdout.read()\n",
    "\n",
    "device_details = dict()\n",
    "device_details['ip'] = server\n",
    "device_details['username'] = username\n",
    "device_details['password'] = password\n",
    "\n",
    "command_1 = \"cmd /c mkdir asdf\"\n",
    "output = execute_command(device_details, command_1)\n"
   ]
  },
  {
   "cell_type": "code",
   "execution_count": null,
   "metadata": {},
   "outputs": [],
   "source": []
  },
  {
   "cell_type": "code",
   "execution_count": 5,
   "metadata": {},
   "outputs": [
    {
     "output_type": "stream",
     "name": "stdout",
     "text": "\nThe following command must be run outside of the IPython shell:\n\n    $ pip install --upgrade pip\n\nThe Python package manager (pip) can only be used from outside of IPython.\nPlease reissue the `pip` command in a separate terminal or command prompt.\n\nSee the Python documentation for more information on how to install packages:\n\n    https://docs.python.org/3/installing/\n"
    }
   ],
   "source": [
    "python -m pip install --upgrade pip"
   ]
  },
  {
   "cell_type": "code",
   "execution_count": null,
   "metadata": {},
   "outputs": [],
   "source": [
    "\n",
    "\n",
    "creds = UncCredentials('USERNAME', 'PASSWORD')\n",
    "unc = UncDirectory(r'\\\\<computername>\\c$', creds)\n",
    "\n",
    "conn = UncDirectoryConnection(unc)\n",
    "conn.connect()\n",
    "\n",
    "print list(os.listdir(r'\\\\<computer_name>\\c$\\<folder>'))"
   ]
  }
 ],
 "metadata": {
  "language_info": {
   "codemirror_mode": {
    "name": "ipython",
    "version": 3
   },
   "file_extension": ".py",
   "mimetype": "text/x-python",
   "name": "python",
   "nbconvert_exporter": "python",
   "pygments_lexer": "ipython3",
   "version": "3.7.0-final"
  },
  "orig_nbformat": 2,
  "kernelspec": {
   "name": "python3",
   "display_name": "Python 3"
  }
 },
 "nbformat": 4,
 "nbformat_minor": 2
}