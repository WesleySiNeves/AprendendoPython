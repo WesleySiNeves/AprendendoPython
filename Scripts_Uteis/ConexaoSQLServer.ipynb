{
    "metadata": {
        "kernelspec": {
            "name": "python3",
            "display_name": "Python 3"
        },
        "language_info": {
            "name": "python",
            "version": "3.6.6",
            "mimetype": "text/x-python",
            "codemirror_mode": {
                "name": "ipython",
                "version": 3
            },
            "pygments_lexer": "ipython3",
            "nbconvert_exporter": "python",
            "file_extension": ".py"
        }
    },
    "nbformat_minor": 2,
    "nbformat": 4,
    "cells": [
        {
            "cell_type": "code",
            "execution_count": null,
            "metadata": {},
            "outputs": [
                {
                    "ename": "Error",
                    "evalue": "Jupyter cannot be started. Error attempting to locate jupyter: Data Science libraries notebook and jupyter are not installed in interpreter Python 3.7.0 64-bit ('Anaconda': conda).",
                    "output_type": "error",
                    "traceback": [
                        "Error: Jupyter cannot be started. Error attempting to locate jupyter: Data Science libraries notebook and jupyter are not installed in interpreter Python 3.7.0 64-bit ('Anaconda': conda).",
                        "at A.startServer (c:\\Users\\wesley.neves\\.vscode\\extensions\\ms-python.python-2020.2.64397\\out\\client\\extension.js:1:786120)",
                        "at async A.ensureServerAndNotebookImpl (c:\\Users\\wesley.neves\\.vscode\\extensions\\ms-python.python-2020.2.64397\\out\\client\\extension.js:1:785575)",
                        "at async A.ensureServerAndNotebook (c:\\Users\\wesley.neves\\.vscode\\extensions\\ms-python.python-2020.2.64397\\out\\client\\extension.js:1:785376)",
                        "at async A.submitCode (c:\\Users\\wesley.neves\\.vscode\\extensions\\ms-python.python-2020.2.64397\\out\\client\\extension.js:1:782328)",
                        "at async A.reexecuteCell (c:\\Users\\wesley.neves\\.vscode\\extensions\\ms-python.python-2020.2.64397\\out\\client\\extension.js:75:879318)"
                    ]
                }
            ],
            "source": [
                "import pyodbc as PDB  # Drive para conexão com banco de dados\n",
                "import pandas as pd\n",
                "\n"
            ]
        },
        {
            "cell_type": "markdown",
            "metadata": {
                "azdata_cell_guid": "9920fd48-bf91-478e-bb93-5adb3c43366d"
            },
            "source": [
                "# Conecta no SQL Server"
            ]
        },
        {
            "cell_type": "code",
            "execution_count": 2,
            "metadata": {
                "azdata_cell_guid": "ca02aae3-76ba-4e5e-94f4-5be9e89ba2e8"
            },
            "outputs": [],
            "source": [
                "\n",
                "server = 'rgdev-sqlsrv-dev01.database.windows.net'\n",
                "database = '15-implanta'\n",
                "username = 'implantadev01'\n",
                "password = 'Impl@ntadev01'\n",
                "driver= '{ODBC Driver 17 for SQL Server}'\n",
                "conexao = PDB.connect('DRIVER='+driver+';SERVER='+server+';PORT=1433;DATABASE='+database+';UID='+username+';PWD='+ password)\n",
                "query = \"SELECT * from Despesa.Empenhos\"\n",
                "\n",
                "\n",
                "\n"
            ]
        },
        {
            "cell_type": "code",
            "execution_count": 3,
            "metadata": {
                "azdata_cell_guid": "da4a9ab4-dddc-4f40-a40f-ea914ba3daf2"
            },
            "outputs": [],
            "source": [
                "empenhos = pd.read_sql(query,conexao)"
            ]
        },
        {
            "cell_type": "code",
            "execution_count": 4,
            "metadata": {
                "azdata_cell_guid": "0692d028-62ba-4424-96b5-2484b7495c46"
            },
            "outputs": [
                {
                    "data": {
                        "text/plain": "pandas.core.frame.DataFrame"
                    },
                    "execution_count": 4,
                    "metadata": {},
                    "output_type": "execute_result"
                }
            ],
            "source": [
                " type(empenhos)\r\n",
                "\r\n",
                "\r\n",
                "\r\n",
                ""
            ]
        },
        {
            "cell_type": "code",
            "execution_count": 5,
            "metadata": {
                "azdata_cell_guid": "d809b436-7503-4e29-a3c3-b53f3eb980b7"
            },
            "outputs": [
                {
                    "data": {
                        "text/plain": "count       6973.00\nmean       21521.77\nstd       214224.46\nmin            0.04\n25%          153.00\n50%          348.00\n75%         1500.00\nmax      5919000.00\nName: Valor, dtype: float64"
                    },
                    "execution_count": 5,
                    "metadata": {},
                    "output_type": "execute_result"
                }
            ],
            "source": [
                "empenhos[\"Valor\"].describe().round(2)"
            ]
        }
    ]
}