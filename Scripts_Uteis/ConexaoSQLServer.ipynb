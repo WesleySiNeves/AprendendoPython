{
    "metadata": {
        "kernelspec": {
            "name": "python3",
            "display_name": "Python 3"
        },
        "language_info": {
            "name": "python",
            "version": "3.6.6",
            "mimetype": "text/x-python",
            "codemirror_mode": {
                "name": "ipython",
                "version": 3
            },
            "pygments_lexer": "ipython3",
            "nbconvert_exporter": "python",
            "file_extension": ".py"
        }
    },
    "nbformat_minor": 2,
    "nbformat": 4,
    "cells": [
        {
            "cell_type": "code",
            "source": [
                "import pyodbc as PDB  # Drive para conexão com banco de dados\r\n",
                "import pandas as pd\r\n",
                "\r\n",
                ""
            ],
            "metadata": {
                "azdata_cell_guid": "5894bde9-87fb-4673-97eb-acf367db50a9"
            },
            "outputs": [
                {
                    "traceback": [
                        "\u001b[1;31m---------------------------------------------------------------------------\u001b[0m",
                        "\u001b[1;31mModuleNotFoundError\u001b[0m                       Traceback (most recent call last)",
                        "\u001b[1;32m<ipython-input-1-09355a3eab96>\u001b[0m in \u001b[0;36m<module>\u001b[1;34m\u001b[0m\n\u001b[1;32m----> 1\u001b[1;33m \u001b[1;32mimport\u001b[0m \u001b[0mpyodbc\u001b[0m \u001b[1;32mas\u001b[0m \u001b[0mPDB\u001b[0m  \u001b[1;31m# Drive para conexão com banco de dados\u001b[0m\u001b[1;33m\u001b[0m\u001b[0m\n\u001b[0m\u001b[0;32m      2\u001b[0m \u001b[1;32mimport\u001b[0m \u001b[0mpandas\u001b[0m \u001b[1;32mas\u001b[0m \u001b[0mpd\u001b[0m\u001b[1;33m\u001b[0m\u001b[0m\n\u001b[0;32m      3\u001b[0m \u001b[1;33m\u001b[0m\u001b[0m\n",
                        "\u001b[1;31mModuleNotFoundError\u001b[0m: No module named 'pyodbc'"
                    ],
                    "ename": "ModuleNotFoundError",
                    "evalue": "No module named 'pyodbc'",
                    "output_type": "error"
                }
            ],
            "execution_count": 1
        },
        {
            "cell_type": "markdown",
            "source": [
                "# Conecta no SQL Server"
            ],
            "metadata": {
                "azdata_cell_guid": "9920fd48-bf91-478e-bb93-5adb3c43366d"
            }
        },
        {
            "cell_type": "code",
            "source": [
                "\r\n",
                "server = 'rgdev-sqlsrv-dev01.database.windows.net'\r\n",
                "database = '15-implanta'\r\n",
                "username = 'implantadev01'\r\n",
                "password = 'Impl@ntadev01'\r\n",
                "driver= '{ODBC Driver 17 for SQL Server}'\r\n",
                "conexao = PDB.connect('DRIVER='+driver+';SERVER='+server+';PORT=1433;DATABASE='+database+';UID='+username+';PWD='+ password)\r\n",
                "query = \"SELECT * from Despesa.Empenhos\"\r\n",
                "\r\n",
                "\r\n",
                "\r\n",
                ""
            ],
            "metadata": {
                "azdata_cell_guid": "ca02aae3-76ba-4e5e-94f4-5be9e89ba2e8"
            },
            "outputs": [],
            "execution_count": 2
        },
        {
            "cell_type": "code",
            "source": [
                "empenhos = pd.read_sql(query,conexao)"
            ],
            "metadata": {
                "azdata_cell_guid": "da4a9ab4-dddc-4f40-a40f-ea914ba3daf2"
            },
            "outputs": [],
            "execution_count": 3
        },
        {
            "cell_type": "code",
            "source": [
                " type(empenhos)\r\n",
                "\r\n",
                "\r\n",
                "\r\n",
                ""
            ],
            "metadata": {
                "azdata_cell_guid": "0692d028-62ba-4424-96b5-2484b7495c46"
            },
            "outputs": [
                {
                    "output_type": "execute_result",
                    "execution_count": 4,
                    "data": {
                        "text/plain": "pandas.core.frame.DataFrame"
                    },
                    "metadata": {}
                }
            ],
            "execution_count": 4
        },
        {
            "cell_type": "code",
            "source": [
                "empenhos[\"Valor\"].describe().round(2)"
            ],
            "metadata": {
                "azdata_cell_guid": "d809b436-7503-4e29-a3c3-b53f3eb980b7"
            },
            "outputs": [
                {
                    "output_type": "execute_result",
                    "execution_count": 5,
                    "data": {
                        "text/plain": "count       6973.00\nmean       21521.77\nstd       214224.46\nmin            0.04\n25%          153.00\n50%          348.00\n75%         1500.00\nmax      5919000.00\nName: Valor, dtype: float64"
                    },
                    "metadata": {}
                }
            ],
            "execution_count": 5
        }
    ]
}