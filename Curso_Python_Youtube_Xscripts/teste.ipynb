{
    "metadata": {
        "kernelspec": {
            "name": "python3",
            "display_name": "Python 3"
        },
        "language_info": {
            "name": "python",
            "version": "3.6.6",
            "mimetype": "text/x-python",
            "codemirror_mode": {
                "name": "ipython",
                "version": 3
            },
            "pygments_lexer": "ipython3",
            "nbconvert_exporter": "python",
            "file_extension": ".py"
        }
    },
    "nbformat_minor": 2,
    "nbformat": 4,
    "cells": [
        {
            "cell_type": "code",
            "source": [
                "print(\"Ola\")\r\n",
                ""
            ],
            "metadata": {
                "azdata_cell_guid": "7d823b7c-4e09-409a-a990-dadbd1e59474"
            },
            "outputs": [
{
    "name": "stdout",
    "text": "Ola\n",
    "output_type": "stream"
}
],
            "execution_count": 1
        }
    ]
}