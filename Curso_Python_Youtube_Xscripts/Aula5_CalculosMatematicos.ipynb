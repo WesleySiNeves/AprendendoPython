{
  "nbformat": 4,
  "nbformat_minor": 0,
  "metadata": {
    "colab": {
      "name": "Aula_5_CalculosMatematicos.ipynb",
      "provenance": [],
      "collapsed_sections": [],
      "include_colab_link": true
    },
    "kernelspec": {
      "name": "python3",
      "display_name": "Python 3"
    }
  },
  "cells": [
    {
      "cell_type": "markdown",
      "metadata": {
        "id": "view-in-github",
        "colab_type": "text"
      },
      "source": [
        "<a href=\"https://colab.research.google.com/github/WesleySiNeves/AprendendoPython/blob/master/Aula_5_CalculosMatematicos.ipynb\" target=\"_parent\"><img src=\"https://colab.research.google.com/assets/colab-badge.svg\" alt=\"Open In Colab\"/></a>"
      ]
    },
    {
      "cell_type": "markdown",
      "metadata": {
        "id": "A0Uux0I5IsGE",
        "colab_type": "text"
      },
      "source": [
        "Fazer  Calculos\n",
        "\n",
        "vc tambem pode fazer o import math"
      ]
    },
    {
      "cell_type": "markdown",
      "metadata": {
        "id": "udUAW4RzIzo6",
        "colab_type": "text"
      },
      "source": [
        "Declaração de variaveis"
      ]
    },
    {
      "cell_type": "code",
      "metadata": {
        "id": "zLj8rzqBInHG",
        "colab_type": "code",
        "colab": {}
      },
      "source": [
        "variavel_1 = 6\n",
        "variavel_2 = 4"
      ],
      "execution_count": 0,
      "outputs": []
    },
    {
      "cell_type": "markdown",
      "metadata": {
        "id": "40nEYMHuKLUM",
        "colab_type": "text"
      },
      "source": [
        "# Soma"
      ]
    },
    {
      "cell_type": "code",
      "metadata": {
        "id": "GVgUIX7MI_e3",
        "colab_type": "code",
        "outputId": "f01b0273-cd1e-4bf3-dd4d-1f91e4d2de15",
        "colab": {
          "base_uri": "https://localhost:8080/",
          "height": 34
        }
      },
      "source": [
        "print(variavel_1  + variavel_2)"
      ],
      "execution_count": 0,
      "outputs": [
        {
          "output_type": "stream",
          "text": [
            "10\n"
          ],
          "name": "stdout"
        }
      ]
    },
    {
      "cell_type": "markdown",
      "metadata": {
        "id": "mUn0UOnrKOVX",
        "colab_type": "text"
      },
      "source": [
        "# Divisão\n"
      ]
    },
    {
      "cell_type": "code",
      "metadata": {
        "id": "cNyS6jNJJQMA",
        "colab_type": "code",
        "outputId": "ef4abd2f-78cd-4da0-e02e-04b20414c876",
        "colab": {
          "base_uri": "https://localhost:8080/",
          "height": 34
        }
      },
      "source": [
        "variavel_1 / variavel_2"
      ],
      "execution_count": 0,
      "outputs": [
        {
          "output_type": "execute_result",
          "data": {
            "text/plain": [
              "1.5"
            ]
          },
          "metadata": {
            "tags": []
          },
          "execution_count": 8
        }
      ]
    },
    {
      "cell_type": "markdown",
      "metadata": {
        "id": "hX9aWI5_JbJv",
        "colab_type": "text"
      },
      "source": [
        "# Retorna a divisão inteira"
      ]
    },
    {
      "cell_type": "code",
      "metadata": {
        "id": "R-dxFt0XJU6V",
        "colab_type": "code",
        "outputId": "a608b690-f132-4eb5-e9b1-3ea693558ba8",
        "colab": {
          "base_uri": "https://localhost:8080/",
          "height": 34
        }
      },
      "source": [
        "variavel_1 // variavel_2 "
      ],
      "execution_count": 0,
      "outputs": [
        {
          "output_type": "execute_result",
          "data": {
            "text/plain": [
              "1"
            ]
          },
          "metadata": {
            "tags": []
          },
          "execution_count": 9
        }
      ]
    },
    {
      "cell_type": "markdown",
      "metadata": {
        "id": "X7d7Ya2zJmxM",
        "colab_type": "text"
      },
      "source": [
        "# resto da divisão"
      ]
    },
    {
      "cell_type": "code",
      "metadata": {
        "id": "dURPRifJJrEy",
        "colab_type": "code",
        "outputId": "09930a27-52e0-4200-c80c-e16f2146db7d",
        "colab": {
          "base_uri": "https://localhost:8080/",
          "height": 34
        }
      },
      "source": [
        "variavel_1 % variavel_2"
      ],
      "execution_count": 0,
      "outputs": [
        {
          "output_type": "execute_result",
          "data": {
            "text/plain": [
              "2"
            ]
          },
          "metadata": {
            "tags": []
          },
          "execution_count": 10
        }
      ]
    },
    {
      "cell_type": "code",
      "metadata": {
        "id": "WsEznoMDKfZ8",
        "colab_type": "code",
        "colab": {}
      },
      "source": [
        "print(\"%i ,dividido por %i é:\", )"
      ],
      "execution_count": 0,
      "outputs": []
    },
    {
      "cell_type": "markdown",
      "metadata": {
        "id": "hPKDdCKjJw6-",
        "colab_type": "text"
      },
      "source": [
        "# Potencialização"
      ]
    },
    {
      "cell_type": "code",
      "metadata": {
        "id": "NgFeLGKyJ0Bp",
        "colab_type": "code",
        "outputId": "ee5cc82b-aa21-475e-fd93-62eca10cf692",
        "colab": {
          "base_uri": "https://localhost:8080/",
          "height": 34
        }
      },
      "source": [
        "3 ** 3"
      ],
      "execution_count": 0,
      "outputs": [
        {
          "output_type": "execute_result",
          "data": {
            "text/plain": [
              "27"
            ]
          },
          "metadata": {
            "tags": []
          },
          "execution_count": 12
        }
      ]
    },
    {
      "cell_type": "code",
      "metadata": {
        "id": "8qAiHDUhVDZA",
        "colab_type": "code",
        "outputId": "f72231d9-49b9-4f33-b376-3be33b2b3ee2",
        "colab": {
          "base_uri": "https://localhost:8080/",
          "height": 34
        }
      },
      "source": [
        "5 ** 2"
      ],
      "execution_count": 0,
      "outputs": [
        {
          "output_type": "execute_result",
          "data": {
            "text/plain": [
              "25"
            ]
          },
          "metadata": {
            "tags": []
          },
          "execution_count": 13
        }
      ]
    },
    {
      "cell_type": "code",
      "metadata": {
        "id": "Lp3W4E_8VF78",
        "colab_type": "code",
        "outputId": "c749db6f-64f0-47bc-9068-e0a1d77c7414",
        "colab": {
          "base_uri": "https://localhost:8080/",
          "height": 34
        }
      },
      "source": [
        "2 ** 8"
      ],
      "execution_count": 0,
      "outputs": [
        {
          "output_type": "execute_result",
          "data": {
            "text/plain": [
              "256"
            ]
          },
          "metadata": {
            "tags": []
          },
          "execution_count": 14
        }
      ]
    },
    {
      "cell_type": "markdown",
      "metadata": {
        "id": "Z9XgLPMCVPIY",
        "colab_type": "text"
      },
      "source": [
        "# Radiciação \n",
        "\n",
        "Em regra a radiciação e a potencia dividida por 1 / (radical da potencia)\n"
      ]
    },
    {
      "cell_type": "code",
      "metadata": {
        "id": "xRGr9N5JVT2m",
        "colab_type": "code",
        "outputId": "90eb14a2-9934-4757-cb8c-648acede8194",
        "colab": {
          "base_uri": "https://localhost:8080/",
          "height": 34
        }
      },
      "source": [
        "9 ** 2"
      ],
      "execution_count": 0,
      "outputs": [
        {
          "output_type": "execute_result",
          "data": {
            "text/plain": [
              "81"
            ]
          },
          "metadata": {
            "tags": []
          },
          "execution_count": 15
        }
      ]
    },
    {
      "cell_type": "code",
      "metadata": {
        "id": "3neN3yjpVdNE",
        "colab_type": "code",
        "outputId": "815513ef-dbba-4d3b-e40f-0ebd35866899",
        "colab": {
          "base_uri": "https://localhost:8080/",
          "height": 34
        }
      },
      "source": [
        "(9 ** 2) ** (1/2)"
      ],
      "execution_count": 0,
      "outputs": [
        {
          "output_type": "execute_result",
          "data": {
            "text/plain": [
              "9.0"
            ]
          },
          "metadata": {
            "tags": []
          },
          "execution_count": 17
        }
      ]
    },
    {
      "cell_type": "code",
      "metadata": {
        "id": "iAMTByaNVqoF",
        "colab_type": "code",
        "outputId": "c85639ef-26b2-4642-be5c-1bfa2508ab15",
        "colab": {
          "base_uri": "https://localhost:8080/",
          "height": 34
        }
      },
      "source": [
        "3 **3"
      ],
      "execution_count": 0,
      "outputs": [
        {
          "output_type": "execute_result",
          "data": {
            "text/plain": [
              "27"
            ]
          },
          "metadata": {
            "tags": []
          },
          "execution_count": 18
        }
      ]
    },
    {
      "cell_type": "code",
      "metadata": {
        "id": "BSAQnwpPVs8d",
        "colab_type": "code",
        "outputId": "928d9614-9dd7-43d3-c8f7-a9b44c8d552f",
        "colab": {
          "base_uri": "https://localhost:8080/",
          "height": 34
        }
      },
      "source": [
        "(3 ** 3)  ** (1/3)"
      ],
      "execution_count": 0,
      "outputs": [
        {
          "output_type": "execute_result",
          "data": {
            "text/plain": [
              "3.0"
            ]
          },
          "metadata": {
            "tags": []
          },
          "execution_count": 23
        }
      ]
    },
    {
      "cell_type": "code",
      "metadata": {
        "id": "oEiPDYYdWXsF",
        "colab_type": "code",
        "outputId": "bdb2e37d-1a44-4d50-fa75-63852fda0d87",
        "colab": {
          "base_uri": "https://localhost:8080/",
          "height": 34
        }
      },
      "source": [
        "import math\n",
        "\n",
        "math.pi"
      ],
      "execution_count": 0,
      "outputs": [
        {
          "output_type": "execute_result",
          "data": {
            "text/plain": [
              "3.141592653589793"
            ]
          },
          "metadata": {
            "tags": []
          },
          "execution_count": 27
        }
      ]
    },
    {
      "cell_type": "code",
      "metadata": {
        "id": "9VRZT2NiWlF-",
        "colab_type": "code",
        "outputId": "86962f4d-5ca2-46ef-ae97-c0e26e7c4001",
        "colab": {
          "base_uri": "https://localhost:8080/",
          "height": 34
        }
      },
      "source": [
        "math.atan(10)"
      ],
      "execution_count": 0,
      "outputs": [
        {
          "output_type": "execute_result",
          "data": {
            "text/plain": [
              "1.4711276743037347"
            ]
          },
          "metadata": {
            "tags": []
          },
          "execution_count": 28
        }
      ]
    },
    {
      "cell_type": "markdown",
      "metadata": {
        "id": "suBIeJNGQ9xW",
        "colab_type": "text"
      },
      "source": [
        "# Funções\n"
      ]
    },
    {
      "cell_type": "code",
      "metadata": {
        "id": "QDf8nA00RB28",
        "colab_type": "code",
        "colab": {
          "base_uri": "https://localhost:8080/",
          "height": 34
        },
        "outputId": "1478a706-6687-4a9c-a58d-53d963b23cd9"
      },
      "source": [
        "type(10)"
      ],
      "execution_count": 1,
      "outputs": [
        {
          "output_type": "execute_result",
          "data": {
            "text/plain": [
              "int"
            ]
          },
          "metadata": {
            "tags": []
          },
          "execution_count": 1
        }
      ]
    },
    {
      "cell_type": "code",
      "metadata": {
        "id": "bVlauqjXRMzN",
        "colab_type": "code",
        "colab": {
          "base_uri": "https://localhost:8080/",
          "height": 34
        },
        "outputId": "3247267c-713f-4bed-cdc7-1eb0f858983a"
      },
      "source": [
        "type(\"10\")"
      ],
      "execution_count": 2,
      "outputs": [
        {
          "output_type": "execute_result",
          "data": {
            "text/plain": [
              "str"
            ]
          },
          "metadata": {
            "tags": []
          },
          "execution_count": 2
        }
      ]
    },
    {
      "cell_type": "code",
      "metadata": {
        "id": "saHblg66ROw2",
        "colab_type": "code",
        "colab": {
          "base_uri": "https://localhost:8080/",
          "height": 34
        },
        "outputId": "fb34dc61-8fdc-4624-af49-c7f6a4223101"
      },
      "source": [
        "type(10.5)"
      ],
      "execution_count": 3,
      "outputs": [
        {
          "output_type": "execute_result",
          "data": {
            "text/plain": [
              "float"
            ]
          },
          "metadata": {
            "tags": []
          },
          "execution_count": 3
        }
      ]
    },
    {
      "cell_type": "markdown",
      "metadata": {
        "id": "wUnFPEpfRZr2",
        "colab_type": "text"
      },
      "source": [
        "# Operações com numeros Floats"
      ]
    },
    {
      "cell_type": "code",
      "metadata": {
        "id": "50ByyGN5RcmR",
        "colab_type": "code",
        "colab": {
          "base_uri": "https://localhost:8080/",
          "height": 34
        },
        "outputId": "356e9a8f-1270-4ad7-98bb-adf8378774e2"
      },
      "source": [
        "1 + 3.1"
      ],
      "execution_count": 4,
      "outputs": [
        {
          "output_type": "execute_result",
          "data": {
            "text/plain": [
              "4.1"
            ]
          },
          "metadata": {
            "tags": []
          },
          "execution_count": 4
        }
      ]
    },
    {
      "cell_type": "code",
      "metadata": {
        "id": "YG3fAPQCRiPl",
        "colab_type": "code",
        "colab": {
          "base_uri": "https://localhost:8080/",
          "height": 34
        },
        "outputId": "e8cd055f-fc6d-4738-b43b-cbeec044d7f9"
      },
      "source": [
        ""
      ],
      "execution_count": 6,
      "outputs": [
        {
          "output_type": "execute_result",
          "data": {
            "text/plain": [
              "1"
            ]
          },
          "metadata": {
            "tags": []
          },
          "execution_count": 6
        }
      ]
    },
    {
      "cell_type": "markdown",
      "metadata": {
        "id": "gmwm32jHXZIH",
        "colab_type": "text"
      },
      "source": [
        "#Conversões não faz arredondamento , apenas coleta a parte inteira do valor"
      ]
    },
    {
      "cell_type": "code",
      "metadata": {
        "id": "659FnUUrXbf6",
        "colab_type": "code",
        "colab": {
          "base_uri": "https://localhost:8080/",
          "height": 34
        },
        "outputId": "c38145ad-f9a7-4f6e-805a-b192d021af0c"
      },
      "source": [
        "int(5.0)"
      ],
      "execution_count": 7,
      "outputs": [
        {
          "output_type": "execute_result",
          "data": {
            "text/plain": [
              "5"
            ]
          },
          "metadata": {
            "tags": []
          },
          "execution_count": 7
        }
      ]
    },
    {
      "cell_type": "code",
      "metadata": {
        "id": "uCKhuOxJXdub",
        "colab_type": "code",
        "colab": {
          "base_uri": "https://localhost:8080/",
          "height": 34
        },
        "outputId": "8590f3fe-fa18-4816-f640-34be6bb0338b"
      },
      "source": [
        "int(5.5)"
      ],
      "execution_count": 8,
      "outputs": [
        {
          "output_type": "execute_result",
          "data": {
            "text/plain": [
              "5"
            ]
          },
          "metadata": {
            "tags": []
          },
          "execution_count": 8
        }
      ]
    },
    {
      "cell_type": "code",
      "metadata": {
        "id": "sJ9B2umBXf5b",
        "colab_type": "code",
        "colab": {
          "base_uri": "https://localhost:8080/",
          "height": 34
        },
        "outputId": "2d9728de-d24e-42c9-f20b-fa7cc735cea5"
      },
      "source": [
        "int(5.6)"
      ],
      "execution_count": 9,
      "outputs": [
        {
          "output_type": "execute_result",
          "data": {
            "text/plain": [
              "5"
            ]
          },
          "metadata": {
            "tags": []
          },
          "execution_count": 9
        }
      ]
    },
    {
      "cell_type": "code",
      "metadata": {
        "id": "9RrPwCrEXh6q",
        "colab_type": "code",
        "colab": {
          "base_uri": "https://localhost:8080/",
          "height": 34
        },
        "outputId": "71b926dd-4e95-41ee-b6b6-d6f578221e2d"
      },
      "source": [
        "int(5.7)"
      ],
      "execution_count": 10,
      "outputs": [
        {
          "output_type": "execute_result",
          "data": {
            "text/plain": [
              "5"
            ]
          },
          "metadata": {
            "tags": []
          },
          "execution_count": 10
        }
      ]
    },
    {
      "cell_type": "code",
      "metadata": {
        "id": "96yxRh5_XkBD",
        "colab_type": "code",
        "colab": {
          "base_uri": "https://localhost:8080/",
          "height": 34
        },
        "outputId": "2a01e408-a187-4377-fcc7-b9281dd312e8"
      },
      "source": [
        "int(5.8)"
      ],
      "execution_count": 11,
      "outputs": [
        {
          "output_type": "execute_result",
          "data": {
            "text/plain": [
              "5"
            ]
          },
          "metadata": {
            "tags": []
          },
          "execution_count": 11
        }
      ]
    },
    {
      "cell_type": "code",
      "metadata": {
        "id": "6FkyMQf3XmLT",
        "colab_type": "code",
        "colab": {
          "base_uri": "https://localhost:8080/",
          "height": 34
        },
        "outputId": "b5dfdb77-9371-454c-8323-2ecaa59a8524"
      },
      "source": [
        "int(5.9)"
      ],
      "execution_count": 12,
      "outputs": [
        {
          "output_type": "execute_result",
          "data": {
            "text/plain": [
              "5"
            ]
          },
          "metadata": {
            "tags": []
          },
          "execution_count": 12
        }
      ]
    }
  ]
}