{
  "nbformat": 4,
  "nbformat_minor": 0,
  "metadata": {
    "colab": {
      "name": "Aula6OperadoresComparativos.ipynb",
      "provenance": [],
      "collapsed_sections": [],
      "include_colab_link": true
    },
    "kernelspec": {
      "name": "python3",
      "display_name": "Python 3"
    }
  },
  "cells": [
    {
      "cell_type": "markdown",
      "metadata": {
        "id": "view-in-github",
        "colab_type": "text"
      },
      "source": [
        "<a href=\"https://colab.research.google.com/github/WesleySiNeves/AprendendoPython/blob/master/Aula6OperadoresComparativos.ipynb\" target=\"_parent\"><img src=\"https://colab.research.google.com/assets/colab-badge.svg\" alt=\"Open In Colab\"/></a>"
      ]
    },
    {
      "cell_type": "code",
      "metadata": {
        "id": "VD3bzEWhW5uU",
        "colab_type": "code",
        "colab": {}
      },
      "source": [
        ""
      ],
      "execution_count": 0,
      "outputs": []
    },
    {
      "cell_type": "markdown",
      "metadata": {
        "id": "v8a6SjwGXBRV",
        "colab_type": "text"
      },
      "source": [
        "# operadores relacionais \n",
        "\n",
        ">\n",
        "<\n",
        ">=\n",
        "<=\n",
        "++\n",
        "--\n",
        "==\n",
        "!=\n",
        "and\n",
        "or\n",
        "\n"
      ]
    },
    {
      "cell_type": "code",
      "metadata": {
        "id": "hx3NYmRCYID6",
        "colab_type": "code",
        "outputId": "75e0cec0-188b-44e9-9352-e0d8ee3458af",
        "colab": {
          "base_uri": "https://localhost:8080/",
          "height": 34
        }
      },
      "source": [
        "valor =1;\n",
        "segundo = 3\n",
        "\n",
        "(valor == segundo or 1==1)"
      ],
      "execution_count": 1,
      "outputs": [
        {
          "output_type": "execute_result",
          "data": {
            "text/plain": [
              "True"
            ]
          },
          "metadata": {
            "tags": []
          },
          "execution_count": 1
        }
      ]
    },
    {
      "cell_type": "code",
      "metadata": {
        "id": "BAdOGkSNhZ67",
        "colab_type": "code",
        "colab": {
          "base_uri": "https://localhost:8080/",
          "height": 68
        },
        "outputId": "ef871a86-ce61-490e-ee78-6e822230b1dd"
      },
      "source": [
        "entrada1 =  int(input(\"Digite um numero:\"))\n",
        "entrada2 =  int(input(\"Digite outro numero:\"))\n",
        "\n",
        "if(entrada1 > entrada2):\n",
        "  print(\"O numero %d é maior que %d.\"%(entrada1, entrada2))\n",
        "else:\n",
        "  print(\"O numero %d é menor que %d.\"%(entrada1, entrada2))"
      ],
      "execution_count": 5,
      "outputs": [
        {
          "output_type": "stream",
          "text": [
            "Digite um numero:10\n",
            "Digite outro numero:20\n",
            "O numero 10 é menor que 20.\n"
          ],
          "name": "stdout"
        }
      ]
    }
  ]
}