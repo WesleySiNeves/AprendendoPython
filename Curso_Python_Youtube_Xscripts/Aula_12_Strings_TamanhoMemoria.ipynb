{
 "nbformat": 4,
 "nbformat_minor": 2,
 "metadata": {
  "language_info": {
   "name": "python",
   "codemirror_mode": {
    "name": "ipython",
    "version": 3
   },
   "version": "3.7.4-final"
  },
  "orig_nbformat": 2,
  "file_extension": ".py",
  "mimetype": "text/x-python",
  "name": "python",
  "npconvert_exporter": "python",
  "pygments_lexer": "ipython3",
  "version": 3,
  "kernelspec": {
   "name": "python37464bitbaseconda12a05f8498994746951df3cf97509cd1",
   "display_name": "Python 3.7.4 64-bit ('base': conda)"
  }
 },
 "cells": [
  {
   "cell_type": "markdown",
   "execution_count": null,
   "metadata": {},
   "outputs": [],
   "source": [
    "## trabalhando com strings"
   ]
  },
  {
   "cell_type": "code",
   "execution_count": 1,
   "metadata": {},
   "outputs": [],
   "source": [
    "valor =\"wesley everton de jesus neves.\"\n"
   ]
  },
  {
   "cell_type": "code",
   "execution_count": 3,
   "metadata": {},
   "outputs": [
    {
     "data": {
      "text/plain": "30"
     },
     "execution_count": 3,
     "metadata": {},
     "output_type": "execute_result"
    }
   ],
   "source": [
    "len(valor)"
   ]
  },
  {
   "cell_type": "code",
   "execution_count": 5,
   "metadata": {},
   "outputs": [
    {
     "name": "stdout",
     "output_type": "stream",
     "text": "wesley everton \n de jesus neves\n"
    }
   ],
   "source": [
    "print(\"wesley everton \\n de jesus neves\")"
   ]
  },
  {
   "cell_type": "code",
   "execution_count": 6,
   "metadata": {},
   "outputs": [
    {
     "name": "stdout",
     "output_type": "stream",
     "text": "wesley everton \t de jesus neves\n"
    }
   ],
   "source": [
    "print(\"wesley everton \\t de jesus neves\")"
   ]
  },
  {
   "cell_type": "code",
   "execution_count": 8,
   "metadata": {},
   "outputs": [
    {
     "name": "stdout",
     "output_type": "stream",
     "text": "wesley everton \u000b de jesus neves\n"
    }
   ],
   "source": [
    "print(\"wesley everton \\v de jesus neves\")"
   ]
  },
  {
   "cell_type": "code",
   "execution_count": 9,
   "metadata": {},
   "outputs": [
    {
     "name": "stdout",
     "output_type": "stream",
     "text": "wesley everton \"de\" jesus neves\n"
    }
   ],
   "source": [
    "print(\"wesley everton \\\"de\\\" jesus neves\")"
   ]
  },
  {
   "cell_type": "code",
   "execution_count": 11,
   "metadata": {},
   "outputs": [
    {
     "name": "stdout",
     "output_type": "stream",
     "text": "eu tenho 30 cachorros\n"
    }
   ],
   "source": [
    "print(\"eu tenho %i cachorros\" %30)"
   ]
  },
  {
   "cell_type": "code",
   "execution_count": 13,
   "metadata": {},
   "outputs": [
    {
     "name": "stdout",
     "output_type": "stream",
     "text": "W\ne\ns\nl\ne\ny\n"
    }
   ],
   "source": [
    "nome= \"Wesley\"\n",
    "\n",
    "for item in nome:\n",
    "    print(item)"
   ]
  },
  {
   "cell_type": "markdown",
   "execution_count": null,
   "metadata": {},
   "outputs": [],
   "source": [
    "## Strings não podem ser modificadas como vetor\n"
   ]
  },
  {
   "cell_type": "code",
   "execution_count": 15,
   "metadata": {},
   "outputs": [
    {
     "ename": "TypeError",
     "evalue": "'str' object does not support item assignment",
     "output_type": "error",
     "traceback": [
      "\u001b[1;31m---------------------------------------------------------------------------\u001b[0m",
      "\u001b[1;31mTypeError\u001b[0m                                 Traceback (most recent call last)",
      "\u001b[1;32m<ipython-input-15-759bac9b9e1f>\u001b[0m in \u001b[0;36m<module>\u001b[1;34m\u001b[0m\n\u001b[1;32m----> 1\u001b[1;33m \u001b[0mnome\u001b[0m\u001b[1;33m[\u001b[0m\u001b[1;36m0\u001b[0m\u001b[1;33m]\u001b[0m \u001b[1;33m=\u001b[0m\u001b[1;34m\"A\"\u001b[0m\u001b[1;33m\u001b[0m\u001b[1;33m\u001b[0m\u001b[0m\n\u001b[0m",
      "\u001b[1;31mTypeError\u001b[0m: 'str' object does not support item assignment"
     ]
    }
   ],
   "source": [
    "nome[0] =\"A\""
   ]
  },
  {
   "cell_type": "code",
   "execution_count": 16,
   "metadata": {},
   "outputs": [
    {
     "data": {
      "text/plain": "'W'"
     },
     "execution_count": 16,
     "metadata": {},
     "output_type": "execute_result"
    }
   ],
   "source": [
    "nome[0:1]"
   ]
  },
  {
   "cell_type": "code",
   "execution_count": 17,
   "metadata": {},
   "outputs": [
    {
     "data": {
      "text/plain": "'yelseW'"
     },
     "execution_count": 17,
     "metadata": {},
     "output_type": "execute_result"
    }
   ],
   "source": [
    "nome[::-1]"
   ]
  },
  {
   "cell_type": "code",
   "execution_count": 31,
   "metadata": {},
   "outputs": [
    {
     "name": "stdout",
     "output_type": "stream",
     "text": "000 = \u0000  \n001 = \u0001  \n002 = \u0002  \n003 = \u0003  \n004 = \u0004  \n005 = \u0005  \n006 = \u0006  \n007 = \u0007  \n008 =  \n009 = \t  \n010 = \n  \n011 = \u000b  \n012 = \f  \n  \n014 = \u000e  \n015 = \u000f  \n016 = \u0010  \n017 = \u0011  \n018 = \u0012  \n019 = \u0013  \n020 = \u0014  \n021 = \u0015  \n022 = \u0016  \n023 = \u0017  \n024 = \u0018  \n025 = \u0019  \n026 = \u001a  \n027 = \u001b  \n028 = \u001c  \n029 = \u001d  \n030 = \u001e  \n031 = \u001f  \n032 =    \n033 = !  \n034 = \"  \n035 = #  \n036 = $  \n037 = %  \n038 = &  \n039 = '  \n040 = (  \n041 = )  \n042 = *  \n043 = +  \n044 = ,  \n045 = -  \n046 = .  \n047 = /  \n048 = 0  \n049 = 1  \n050 = 2  \n051 = 3  \n052 = 4  \n053 = 5  \n054 = 6  \n055 = 7  \n056 = 8  \n057 = 9  \n058 = :  \n059 = ;  \n060 = <  \n061 = =  \n062 = >  \n063 = ?  \n064 = @  \n065 = A  \n066 = B  \n067 = C  \n068 = D  \n069 = E  \n070 = F  \n071 = G  \n072 = H  \n073 = I  \n074 = J  \n075 = K  \n076 = L  \n077 = M  \n078 = N  \n079 = O  \n080 = P  \n081 = Q  \n082 = R  \n083 = S  \n084 = T  \n085 = U  \n086 = V  \n087 = W  \n088 = X  \n089 = Y  \n090 = Z  \n091 = [  \n092 = \\  \n093 = ]  \n094 = ^  \n095 = _  \n096 = `  \n097 = a  \n098 = b  \n099 = c  \n100 = d  \n101 = e  \n102 = f  \n103 = g  \n104 = h  \n105 = i  \n106 = j  \n107 = k  \n108 = l  \n109 = m  \n110 = n  \n111 = o  \n112 = p  \n113 = q  \n114 = r  \n115 = s  \n116 = t  \n117 = u  \n118 = v  \n119 = w  \n120 = x  \n121 = y  \n122 = z  \n123 = {  \n124 = |  \n125 = }  \n126 = ~  \n127 =   \n128 =   \n129 =   \n130 =   \n131 =   \n132 =   \n133 =   \n134 =   \n135 =   \n136 =   \n137 =   \n138 =   \n139 =   \n140 =   \n141 =   \n142 =   \n143 =   \n144 =   \n145 =   \n146 =   \n147 =   \n148 =   \n149 =   \n150 =   \n151 =   \n152 =   \n153 =   \n154 =   \n155 =   \n156 =   \n157 =   \n158 =   \n159 =   \n160 =    \n161 = ¡  \n162 = ¢  \n163 = £  \n164 = ¤  \n165 = ¥  \n166 = ¦  \n167 = §  \n168 = ¨  \n169 = ©  \n170 = ª  \n171 = «  \n172 = ¬  \n173 = ­  \n174 = ®  \n175 = ¯  \n176 = °  \n177 = ±  \n178 = ²  \n179 = ³  \n180 = ´  \n181 = µ  \n182 = ¶  \n183 = ·  \n184 = ¸  \n185 = ¹  \n186 = º  \n187 = »  \n188 = ¼  \n189 = ½  \n190 = ¾  \n191 = ¿  \n192 = À  \n193 = Á  \n194 = Â  \n195 = Ã  \n196 = Ä  \n197 = Å  \n198 = Æ  \n199 = Ç  \n200 = È  \n201 = É  \n202 = Ê  \n203 = Ë  \n204 = Ì  \n205 = Í  \n206 = Î  \n207 = Ï  \n208 = Ð  \n209 = Ñ  \n210 = Ò  \n211 = Ó  \n212 = Ô  \n213 = Õ  \n214 = Ö  \n215 = ×  \n216 = Ø  \n217 = Ù  \n218 = Ú  \n219 = Û  \n220 = Ü  \n221 = Ý  \n222 = Þ  \n223 = ß  \n224 = à  \n225 = á  \n226 = â  \n227 = ã  \n228 = ä  \n229 = å  \n230 = æ  \n231 = ç  \n232 = è  \n233 = é  \n234 = ê  \n235 = ë  \n236 = ì  \n237 = í  \n238 = î  \n239 = ï  \n240 = ð  \n241 = ñ  \n242 = ò  \n243 = ó  \n244 = ô  \n245 = õ  \n246 = ö  \n247 = ÷  \n248 = ø  \n249 = ù  \n250 = ú  \n251 = û  \n252 = ü  \n253 = ý  \n254 = þ  \n255 = ÿ  \n"
    }
   ],
   "source": [
    "for i in range(0,256):\n",
    "    print('%.3i = %s  '%(i,chr(i)))"
   ]
  },
  {
   "cell_type": "code",
   "execution_count": 41,
   "metadata": {},
   "outputs": [
    {
     "ename": "TypeError",
     "evalue": "not enough arguments for format string",
     "output_type": "error",
     "traceback": [
      "\u001b[1;31m---------------------------------------------------------------------------\u001b[0m",
      "\u001b[1;31mTypeError\u001b[0m                                 Traceback (most recent call last)",
      "\u001b[1;32m<ipython-input-41-d0fb130f7a7d>\u001b[0m in \u001b[0;36m<module>\u001b[1;34m\u001b[0m\n\u001b[0;32m      1\u001b[0m \u001b[1;32mfor\u001b[0m \u001b[0mi\u001b[0m \u001b[1;32min\u001b[0m \u001b[0mrange\u001b[0m\u001b[1;33m(\u001b[0m\u001b[1;36m0\u001b[0m\u001b[1;33m,\u001b[0m\u001b[1;36m256\u001b[0m\u001b[1;33m)\u001b[0m\u001b[1;33m:\u001b[0m\u001b[1;33m\u001b[0m\u001b[1;33m\u001b[0m\u001b[0m\n\u001b[1;32m----> 2\u001b[1;33m     \u001b[0mprint\u001b[0m\u001b[1;33m(\u001b[0m \u001b[1;34m'%i  = %c = %s'\u001b[0m\u001b[1;33m%\u001b[0m\u001b[0mi\u001b[0m\u001b[1;33m,\u001b[0m\u001b[0mchr\u001b[0m\u001b[1;33m(\u001b[0m\u001b[0mi\u001b[0m\u001b[1;33m)\u001b[0m\u001b[1;33m,\u001b[0m\u001b[0mord\u001b[0m\u001b[1;33m(\u001b[0m\u001b[0mchr\u001b[0m\u001b[1;33m(\u001b[0m\u001b[0mi\u001b[0m\u001b[1;33m)\u001b[0m\u001b[1;33m)\u001b[0m\u001b[1;33m)\u001b[0m\u001b[1;33m\u001b[0m\u001b[1;33m\u001b[0m\u001b[0m\n\u001b[0m",
      "\u001b[1;31mTypeError\u001b[0m: not enough arguments for format string"
     ]
    }
   ],
   "source": [
    "for i in range(0,256):\n",
    "    print( '%i  = %c = %s'%i,chr(i),ord(chr(i)))"
   ]
  },
  {
   "cell_type": "code",
   "execution_count": 4,
   "metadata": {},
   "outputs": [
    {
     "ename": "AttributeError",
     "evalue": "'str' object has no attribute 'bit_length'",
     "output_type": "error",
     "traceback": [
      "\u001b[1;31m---------------------------------------------------------------------------\u001b[0m",
      "\u001b[1;31mAttributeError\u001b[0m                            Traceback (most recent call last)",
      "\u001b[1;32m<ipython-input-4-a9b39801ab47>\u001b[0m in \u001b[0;36m<module>\u001b[1;34m\u001b[0m\n\u001b[1;32m----> 1\u001b[1;33m \u001b[0mvalor\u001b[0m\u001b[1;33m.\u001b[0m\u001b[0mbit_length\u001b[0m\u001b[1;33m(\u001b[0m\u001b[1;33m)\u001b[0m\u001b[1;33m\u001b[0m\u001b[1;33m\u001b[0m\u001b[0m\n\u001b[0m",
      "\u001b[1;31mAttributeError\u001b[0m: 'str' object has no attribute 'bit_length'"
     ]
    }
   ],
   "source": [
    "valor.bit_length()"
   ]
  },
  {
   "cell_type": "code",
   "execution_count": 4,
   "metadata": {},
   "outputs": [
    {
     "data": {
      "text/plain": "1"
     },
     "execution_count": 4,
     "metadata": {},
     "output_type": "execute_result"
    }
   ],
   "source": [
    "a= 1\n",
    "a.bit_length()"
   ]
  },
  {
   "cell_type": "code",
   "execution_count": 5,
   "metadata": {},
   "outputs": [
    {
     "data": {
      "text/plain": "1"
     },
     "execution_count": 5,
     "metadata": {},
     "output_type": "execute_result"
    }
   ],
   "source": [
    "int(a).bit_length()"
   ]
  },
  {
   "cell_type": "code",
   "execution_count": 7,
   "metadata": {},
   "outputs": [],
   "source": [
    "a= 10.5\n",
    "a."
   ]
  },
  {
   "cell_type": "markdown",
   "execution_count": null,
   "metadata": {},
   "outputs": [],
   "source": [
    "# Para retornar o ultimo  elemento de um array basta colocar -1"
   ]
  },
  {
   "cell_type": "code",
   "execution_count": 2,
   "metadata": {},
   "outputs": [
    {
     "name": "stdout",
     "output_type": "stream",
     "text": ".\n"
    }
   ],
   "source": [
    "print(valor[-1])"
   ]
  },
  {
   "cell_type": "markdown",
   "execution_count": null,
   "metadata": {},
   "outputs": [],
   "source": [
    "# Para fazer o reverse basta fazer assim"
   ]
  },
  {
   "cell_type": "code",
   "execution_count": 4,
   "metadata": {},
   "outputs": [
    {
     "name": "stdout",
     "output_type": "stream",
     "text": ".seven susej ed notreve yelsew\n"
    }
   ],
   "source": [
    "print(valor[::-1])"
   ]
  },
  {
   "cell_type": "markdown",
   "execution_count": null,
   "metadata": {},
   "outputs": [],
   "source": [
    "# Iniciar o substring na 5 posição"
   ]
  },
  {
   "cell_type": "code",
   "execution_count": 5,
   "metadata": {},
   "outputs": [
    {
     "name": "stdout",
     "output_type": "stream",
     "text": "y everton de jesus neves.\n"
    }
   ],
   "source": [
    "print(valor[5:])"
   ]
  },
  {
   "cell_type": "code",
   "execution_count": 6,
   "metadata": {},
   "outputs": [
    {
     "name": "stdout",
     "output_type": "stream",
     "text": "wesle\n"
    }
   ],
   "source": [
    "print(valor[:5])"
   ]
  },
  {
   "cell_type": "code",
   "execution_count": 7,
   "metadata": {},
   "outputs": [
    {
     "data": {
      "text/plain": "30"
     },
     "execution_count": 7,
     "metadata": {},
     "output_type": "execute_result"
    }
   ],
   "source": [
    "len(valor)"
   ]
  },
  {
   "cell_type": "code",
   "execution_count": 8,
   "metadata": {},
   "outputs": [
    {
     "data": {
      "text/plain": "'Wesley everton de jesus neves.'"
     },
     "execution_count": 8,
     "metadata": {},
     "output_type": "execute_result"
    }
   ],
   "source": [
    "valor.capitalize()"
   ]
  },
  {
   "cell_type": "code",
   "execution_count": null,
   "metadata": {},
   "outputs": [],
   "source": []
  },
  {
   "cell_type": "code",
   "execution_count": 9,
   "metadata": {},
   "outputs": [
    {
     "data": {
      "text/plain": "True"
     },
     "execution_count": 9,
     "metadata": {},
     "output_type": "execute_result"
    }
   ],
   "source": [
    "valor.endswith('.')"
   ]
  },
  {
   "cell_type": "code",
   "execution_count": 10,
   "metadata": {},
   "outputs": [
    {
     "data": {
      "text/plain": "True"
     },
     "execution_count": 10,
     "metadata": {},
     "output_type": "execute_result"
    }
   ],
   "source": [
    "valor.__contains__(\"w\")"
   ]
  },
  {
   "cell_type": "code",
   "execution_count": 11,
   "metadata": {},
   "outputs": [
    {
     "data": {
      "text/plain": "8"
     },
     "execution_count": 11,
     "metadata": {},
     "output_type": "execute_result"
    }
   ],
   "source": [
    "valor.count(\"e\")"
   ]
  },
  {
   "cell_type": "code",
   "execution_count": 12,
   "metadata": {},
   "outputs": [
    {
     "data": {
      "text/plain": "['wesley', 'everton', 'de', 'jesus', 'neves.']"
     },
     "execution_count": 12,
     "metadata": {},
     "output_type": "execute_result"
    }
   ],
   "source": [
    "valor.split(\" \")"
   ]
  },
  {
   "cell_type": "code",
   "execution_count": 13,
   "metadata": {},
   "outputs": [
    {
     "data": {
      "text/plain": "5"
     },
     "execution_count": 13,
     "metadata": {},
     "output_type": "execute_result"
    }
   ],
   "source": [
    "valor.find(\"y\")"
   ]
  },
  {
   "cell_type": "code",
   "execution_count": 14,
   "metadata": {},
   "outputs": [
    {
     "data": {
      "text/plain": "'WESLEY EVERTON DE JESUS NEVES.'"
     },
     "execution_count": 14,
     "metadata": {},
     "output_type": "execute_result"
    }
   ],
   "source": [
    "valor.upper()"
   ]
  },
  {
   "cell_type": "code",
   "execution_count": 15,
   "metadata": {},
   "outputs": [
    {
     "data": {
      "text/plain": "'wesley|everton|de|jesus|neves.'"
     },
     "execution_count": 15,
     "metadata": {},
     "output_type": "execute_result"
    }
   ],
   "source": [
    "valor.replace(\" \",\"|\")"
   ]
  },
  {
   "cell_type": "code",
   "execution_count": 16,
   "metadata": {},
   "outputs": [
    {
     "data": {
      "text/plain": "'wesleyevertondejesusneves.'"
     },
     "execution_count": 16,
     "metadata": {},
     "output_type": "execute_result"
    }
   ],
   "source": [
    "valor.replace(\" \",\"\")"
   ]
  },
  {
   "cell_type": "markdown",
   "execution_count": null,
   "metadata": {},
   "outputs": [],
   "source": [
    "## Retornar o Id da instancia do objeto"
   ]
  },
  {
   "cell_type": "code",
   "execution_count": 17,
   "metadata": {},
   "outputs": [
    {
     "data": {
      "text/plain": "2518411196096"
     },
     "execution_count": 17,
     "metadata": {},
     "output_type": "execute_result"
    }
   ],
   "source": [
    "id(valor)"
   ]
  },
  {
   "cell_type": "code",
   "execution_count": 18,
   "metadata": {},
   "outputs": [
    {
     "data": {
      "text/plain": "2518470487856"
     },
     "execution_count": 18,
     "metadata": {},
     "output_type": "execute_result"
    }
   ],
   "source": [
    "id(valor.replace(\" \",\"\"))"
   ]
  },
  {
   "cell_type": "markdown",
   "execution_count": null,
   "metadata": {},
   "outputs": [],
   "source": []
  },
  {
   "cell_type": "code",
   "execution_count": 23,
   "metadata": {},
   "outputs": [
    {
     "data": {
      "text/plain": "'d'"
     },
     "execution_count": 23,
     "metadata": {},
     "output_type": "execute_result"
    }
   ],
   "source": [
    " chr(100)"
   ]
  },
  {
   "cell_type": "code",
   "execution_count": 32,
   "metadata": {},
   "outputs": [
    {
     "data": {
      "text/plain": "100"
     },
     "execution_count": 32,
     "metadata": {},
     "output_type": "execute_result"
    }
   ],
   "source": [
    "ord('d')"
   ]
  },
  {
   "cell_type": "code",
   "execution_count": 30,
   "metadata": {},
   "outputs": [
    {
     "name": "stdout",
     "output_type": "stream",
     "text": "\n!\n\"\n#\n$\n%\n&\n'\n(\n)\n*\n+\n,\n-\n.\n/\n0\n1\n2\n3\n4\n5\n6\n7\n8\n9\n:\n;\n<\n=\n>\n?\n@\nA\nB\nC\nD\nE\nF\nG\nH\nI\nJ\nK\nL\nM\nN\nO\nP\nQ\nR\nS\nT\nU\nV\nW\nX\nY\nZ\n[\n\\\n]\n^\n_\n`\na\nb\nc\n"
    }
   ],
   "source": [
    "for item in range(32,100):\n",
    "     print(chr(item))"
   ]
  },
  {
   "cell_type": "code",
   "execution_count": 33,
   "metadata": {},
   "outputs": [
    {
     "data": {
      "text/plain": "<enumerate at 0x24a604b0278>"
     },
     "execution_count": 33,
     "metadata": {},
     "output_type": "execute_result"
    }
   ],
   "source": [
    "enumerate(valor)"
   ]
  },
  {
   "cell_type": "code",
   "execution_count": 34,
   "metadata": {},
   "outputs": [
    {
     "data": {
      "text/plain": "{0: 'w',\n 1: 'e',\n 2: 's',\n 3: 'l',\n 4: 'e',\n 5: 'y',\n 6: ' ',\n 7: 'e',\n 8: 'v',\n 9: 'e',\n 10: 'r',\n 11: 't',\n 12: 'o',\n 13: 'n',\n 14: ' ',\n 15: 'd',\n 16: 'e',\n 17: ' ',\n 18: 'j',\n 19: 'e',\n 20: 's',\n 21: 'u',\n 22: 's',\n 23: ' ',\n 24: 'n',\n 25: 'e',\n 26: 'v',\n 27: 'e',\n 28: 's',\n 29: '.'}"
     },
     "execution_count": 34,
     "metadata": {},
     "output_type": "execute_result"
    }
   ],
   "source": [
    "dict(enumerate(valor))"
   ]
  },
  {
   "cell_type": "code",
   "execution_count": 40,
   "metadata": {},
   "outputs": [
    {
     "data": {
      "text/plain": "{1: 'A'}"
     },
     "execution_count": 40,
     "metadata": {},
     "output_type": "execute_result"
    }
   ],
   "source": [
    "{1:\"A\",1:\"A\"}"
   ]
  }
 ]
}