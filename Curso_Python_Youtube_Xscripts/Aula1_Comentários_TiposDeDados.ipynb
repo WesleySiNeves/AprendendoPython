{
  "nbformat": 4,
  "nbformat_minor": 0,
  "metadata": {
    "colab": {
      "name": "Aula1_Comentários_TiposDeDados.ipynb",
      "provenance": [],
      "collapsed_sections": [],
      "include_colab_link": true
    },
    "kernelspec": {
      "name": "python3",
      "display_name": "Python 3"
    }
  },
  "cells": [
    {
      "cell_type": "markdown",
      "metadata": {
        "id": "view-in-github",
        "colab_type": "text"
      },
      "source": [
        "<a href=\"https://colab.research.google.com/github/WesleySiNeves/AprendendoPython/blob/master/Aula1_Coment%C3%A1rios_TiposDeDados.ipynb\" target=\"_parent\"><img src=\"https://colab.research.google.com/assets/colab-badge.svg\" alt=\"Open In Colab\"/></a>"
      ]
    },
    {
      "cell_type": "markdown",
      "metadata": {
        "id": "8-tDSgf1BY1_",
        "colab_type": "text"
      },
      "source": [
        "Aprendendo a fazer o comentário\n"
      ]
    },
    {
      "cell_type": "code",
      "metadata": {
        "id": "EM5B0Cbv_1Fp",
        "colab_type": "code",
        "colab": {}
      },
      "source": [
        "# Comentário de uma linha"
      ],
      "execution_count": 0,
      "outputs": []
    },
    {
      "cell_type": "markdown",
      "metadata": {
        "id": "2wo3BsMpBuKD",
        "colab_type": "text"
      },
      "source": [
        "Comentário de duas ou mais linhas"
      ]
    },
    {
      "cell_type": "code",
      "metadata": {
        "id": "Hd7hhtZCB2id",
        "colab_type": "code",
        "colab": {
          "base_uri": "https://localhost:8080/",
          "height": 34
        },
        "cellView": "both",
        "outputId": "f54717f2-a035-4dfa-846e-8f057fefff45"
      },
      "source": [
        "10 \n",
        "type(10)\n"
      ],
      "execution_count": 9,
      "outputs": [
        {
          "output_type": "execute_result",
          "data": {
            "text/plain": [
              "int"
            ]
          },
          "metadata": {
            "tags": []
          },
          "execution_count": 9
        }
      ]
    },
    {
      "cell_type": "code",
      "metadata": {
        "id": "Kb1Ki8QMC6ZD",
        "colab_type": "code",
        "colab": {
          "base_uri": "https://localhost:8080/",
          "height": 34
        },
        "outputId": "e2a489c1-40e2-4049-dcd8-109b0b778dbf"
      },
      "source": [
        "valor =\"wesley\"\n",
        "type(valor)"
      ],
      "execution_count": 10,
      "outputs": [
        {
          "output_type": "execute_result",
          "data": {
            "text/plain": [
              "str"
            ]
          },
          "metadata": {
            "tags": []
          },
          "execution_count": 10
        }
      ]
    },
    {
      "cell_type": "code",
      "metadata": {
        "id": "zA-SOSgmDGY6",
        "colab_type": "code",
        "colab": {
          "base_uri": "https://localhost:8080/",
          "height": 34
        },
        "outputId": "21f52322-d9a5-42d6-8992-8928c8564ef2"
      },
      "source": [
        "valordecimal = 10.5\n",
        "type(valordecimal)"
      ],
      "execution_count": 11,
      "outputs": [
        {
          "output_type": "execute_result",
          "data": {
            "text/plain": [
              "float"
            ]
          },
          "metadata": {
            "tags": []
          },
          "execution_count": 11
        }
      ]
    },
    {
      "cell_type": "code",
      "metadata": {
        "id": "-EvZs9L_DPec",
        "colab_type": "code",
        "colab": {
          "base_uri": "https://localhost:8080/",
          "height": 34
        },
        "outputId": "d73bd8c3-0838-446b-d5c2-a05f1c218fc7"
      },
      "source": [
        "valordecimal.is_integer()\n"
      ],
      "execution_count": 14,
      "outputs": [
        {
          "output_type": "execute_result",
          "data": {
            "text/plain": [
              "False"
            ]
          },
          "metadata": {
            "tags": []
          },
          "execution_count": 14
        }
      ]
    },
    {
      "cell_type": "code",
      "metadata": {
        "id": "TN0wc-wvDAU0",
        "colab_type": "code",
        "colab": {}
      },
      "source": [
        ""
      ],
      "execution_count": 0,
      "outputs": []
    }
  ]
}