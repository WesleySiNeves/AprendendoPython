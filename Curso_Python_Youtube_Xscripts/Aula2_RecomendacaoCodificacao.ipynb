{
  "nbformat": 4,
  "nbformat_minor": 0,
  "metadata": {
    "colab": {
      "name": "Aula2_RecomendacaoCodificacao.ipynb",
      "provenance": [],
      "collapsed_sections": [],
      "include_colab_link": true
    },
    "kernelspec": {
      "name": "python3",
      "display_name": "Python 3"
    }
  },
  "cells": [
    {
      "cell_type": "markdown",
      "metadata": {
        "id": "view-in-github",
        "colab_type": "text"
      },
      "source": [
        "<a href=\"https://colab.research.google.com/github/WesleySiNeves/AprendendoPython/blob/master/Aula2_RecomendacaoCodificacao.ipynb\" target=\"_parent\"><img src=\"https://colab.research.google.com/assets/colab-badge.svg\" alt=\"Open In Colab\"/></a>"
      ]
    },
    {
      "cell_type": "markdown",
      "metadata": {
        "id": "n5w0BxcDEh_n",
        "colab_type": "text"
      },
      "source": [
        "Aqui algumas recomendações"
      ]
    },
    {
      "cell_type": "code",
      "metadata": {
        "id": "lZeLaAymEqpC",
        "colab_type": "code",
        "colab": {}
      },
      "source": [
        "Nome de variaveis\n",
        "\n",
        "nome_variavel\n",
        "\n",
        "Nome das Classes\n",
        "\n",
        "Nome_Classe\n",
        "\n",
        "funçoes e metodos letra minusculas\n",
        "\n",
        "enviar_email()\n",
        "\n",
        "NomeConstantes\n",
        "\n",
        "SEMPRE_LETRA_MAISCULAS\n"
      ],
      "execution_count": 0,
      "outputs": []
    },
    {
      "cell_type": "code",
      "metadata": {
        "id": "yLniCx1BEW9B",
        "colab_type": "code",
        "colab": {}
      },
      "source": [
        ""
      ],
      "execution_count": 0,
      "outputs": []
    },
    {
      "cell_type": "code",
      "metadata": {
        "id": "ZF9ofwiZEl5q",
        "colab_type": "code",
        "colab": {}
      },
      "source": [
        ""
      ],
      "execution_count": 0,
      "outputs": []
    }
  ]
}