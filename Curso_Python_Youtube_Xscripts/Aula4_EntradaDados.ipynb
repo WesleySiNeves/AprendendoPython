{
  "nbformat": 4,
  "nbformat_minor": 0,
  "metadata": {
    "colab": {
      "name": "Aula_4_EntradaDados.ipynb",
      "provenance": [],
      "collapsed_sections": [],
      "include_colab_link": true
    },
    "kernelspec": {
      "name": "python3",
      "display_name": "Python 3"
    }
  },
  "cells": [
    {
      "cell_type": "markdown",
      "metadata": {
        "id": "view-in-github",
        "colab_type": "text"
      },
      "source": [
        "<a href=\"https://colab.research.google.com/github/WesleySiNeves/AprendendoPython/blob/master/Aula_4_EntradaDados.ipynb\" target=\"_parent\"><img src=\"https://colab.research.google.com/assets/colab-badge.svg\" alt=\"Open In Colab\"/></a>"
      ]
    },
    {
      "cell_type": "code",
      "metadata": {
        "id": "OGetdgZAHsW8",
        "colab_type": "code",
        "colab": {
          "base_uri": "https://localhost:8080/",
          "height": 51
        },
        "outputId": "976c2135-2931-407f-c744-9c5a3fb59261"
      },
      "source": [
        "user = input(\"Digite o usuário:\")\n",
        "senha = input(\"Digite sua senha:\")"
      ],
      "execution_count": 2,
      "outputs": [
        {
          "output_type": "stream",
          "text": [
            "Digite o usuário:wesley\n",
            "Digite sua senha:1\n"
          ],
          "name": "stdout"
        }
      ]
    },
    {
      "cell_type": "code",
      "metadata": {
        "id": "7E2mF-YxICGs",
        "colab_type": "code",
        "colab": {
          "base_uri": "https://localhost:8080/",
          "height": 34
        },
        "outputId": "ce1476c6-3bc2-409a-c34c-f3553a16cf82"
      },
      "source": [
        "print(\"user digitado %s\" %user);"
      ],
      "execution_count": 3,
      "outputs": [
        {
          "output_type": "stream",
          "text": [
            "user digitado wesley\n"
          ],
          "name": "stdout"
        }
      ]
    },
    {
      "cell_type": "code",
      "metadata": {
        "id": "SAgfhA0lIIp0",
        "colab_type": "code",
        "colab": {
          "base_uri": "https://localhost:8080/",
          "height": 34
        },
        "outputId": "034b770e-fcec-47df-ec43-e7daee51c331"
      },
      "source": [
        "print(\"senha digitado %s\" %senha);"
      ],
      "execution_count": 7,
      "outputs": [
        {
          "output_type": "stream",
          "text": [
            "senha digitado 1\n"
          ],
          "name": "stdout"
        }
      ]
    },
    {
      "cell_type": "code",
      "metadata": {
        "id": "HcysyVj2IUdP",
        "colab_type": "code",
        "colab": {
          "base_uri": "https://localhost:8080/",
          "height": 34
        },
        "outputId": "da921b0f-1ba5-4dcb-9bfd-1da44493e229"
      },
      "source": [
        "print(\"senha digitado %i\" %int(senha));"
      ],
      "execution_count": 9,
      "outputs": [
        {
          "output_type": "stream",
          "text": [
            "senha digitado 1\n"
          ],
          "name": "stdout"
        }
      ]
    },
    {
      "cell_type": "markdown",
      "metadata": {
        "id": "nZTGkga2HwRm",
        "colab_type": "text"
      },
      "source": [
        ""
      ]
    }
  ]
}