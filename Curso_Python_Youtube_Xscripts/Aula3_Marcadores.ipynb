{
  "nbformat": 4,
  "nbformat_minor": 0,
  "metadata": {
    "colab": {
      "name": "Aula3_Marcadores.ipynb",
      "provenance": [],
      "collapsed_sections": [],
      "include_colab_link": true
    },
    "kernelspec": {
      "name": "python3",
      "display_name": "Python 3"
    }
  },
  "cells": [
    {
      "cell_type": "markdown",
      "metadata": {
        "id": "view-in-github",
        "colab_type": "text"
      },
      "source": [
        "<a href=\"https://colab.research.google.com/github/WesleySiNeves/AprendendoPython/blob/master/Aula3_Marcadores.ipynb\" target=\"_parent\"><img src=\"https://colab.research.google.com/assets/colab-badge.svg\" alt=\"Open In Colab\"/></a>"
      ]
    },
    {
      "cell_type": "markdown",
      "metadata": {
        "id": "dNUXK7vZFsVz",
        "colab_type": "text"
      },
      "source": [
        "O marcador % indica para o python que naquele lugar deve ser colocado um valor \n",
        "i = inteiro"
      ]
    },
    {
      "cell_type": "code",
      "metadata": {
        "id": "1emNEWVvFo51",
        "colab_type": "code",
        "colab": {}
      },
      "source": [
        "numero_int =10\n",
        "numero_decimal =10.5\n",
        "numero_string =\"10.50\""
      ],
      "execution_count": 0,
      "outputs": []
    },
    {
      "cell_type": "code",
      "metadata": {
        "id": "9EkBoJ6RF286",
        "colab_type": "code",
        "colab": {
          "base_uri": "https://localhost:8080/",
          "height": 34
        },
        "outputId": "ee8127c1-5968-405f-ed80-c9e0ecc4c25e"
      },
      "source": [
        "print(\"O valor do numero é:\",numero_int)"
      ],
      "execution_count": 4,
      "outputs": [
        {
          "output_type": "stream",
          "text": [
            "O valor do numero é: 10\n"
          ],
          "name": "stdout"
        }
      ]
    },
    {
      "cell_type": "code",
      "metadata": {
        "id": "A8tojLRWGfCx",
        "colab_type": "code",
        "colab": {
          "base_uri": "https://localhost:8080/",
          "height": 34
        },
        "outputId": "c7d468a2-7fd2-4e37-db95-f63d7a849052"
      },
      "source": [
        "print(\"O valor do numero é:\" + str(numero_int))"
      ],
      "execution_count": 7,
      "outputs": [
        {
          "output_type": "stream",
          "text": [
            "O valor do numero é:10\n"
          ],
          "name": "stdout"
        }
      ]
    },
    {
      "cell_type": "code",
      "metadata": {
        "id": "eH3WJzm-GAOW",
        "colab_type": "code",
        "colab": {
          "base_uri": "https://localhost:8080/",
          "height": 34
        },
        "outputId": "84ca0d17-586a-48d5-a707-8e975c9b5842"
      },
      "source": [
        "print(\"O valor do numero é:\", str(numero_int))"
      ],
      "execution_count": 8,
      "outputs": [
        {
          "output_type": "stream",
          "text": [
            "O valor do numero é: 10\n"
          ],
          "name": "stdout"
        }
      ]
    },
    {
      "cell_type": "markdown",
      "metadata": {
        "id": "KVciZXj-G2IT",
        "colab_type": "text"
      },
      "source": [
        "Marcadores\n"
      ]
    },
    {
      "cell_type": "code",
      "metadata": {
        "id": "YJ9hG-GKF_UD",
        "colab_type": "code",
        "colab": {
          "base_uri": "https://localhost:8080/",
          "height": 34
        },
        "outputId": "f0280730-5009-4483-b407-62896bb3a4ba"
      },
      "source": [
        "print(\"O valor do numero é: %i\" %numero_int)"
      ],
      "execution_count": 10,
      "outputs": [
        {
          "output_type": "stream",
          "text": [
            "O valor do numero é: 10\n"
          ],
          "name": "stdout"
        }
      ]
    },
    {
      "cell_type": "code",
      "metadata": {
        "id": "MXE_g07BGA56",
        "colab_type": "code",
        "colab": {
          "base_uri": "https://localhost:8080/",
          "height": 34
        },
        "outputId": "f7b86508-e1f8-4c82-bb63-27fa8a2afc7b"
      },
      "source": [
        "print(\"O valor do numero é: %f\" %numero_decimal)"
      ],
      "execution_count": 11,
      "outputs": [
        {
          "output_type": "stream",
          "text": [
            "O valor do numero é: 10.500000\n"
          ],
          "name": "stdout"
        }
      ]
    },
    {
      "cell_type": "code",
      "metadata": {
        "id": "Ch2q0NepG_1E",
        "colab_type": "code",
        "colab": {
          "base_uri": "https://localhost:8080/",
          "height": 34
        },
        "outputId": "ce6b96ff-8b29-4d67-cfc5-e2ecb8a55b83"
      },
      "source": [
        "print(\"O valor do numero é: %.2f\" %numero_decimal)"
      ],
      "execution_count": 13,
      "outputs": [
        {
          "output_type": "stream",
          "text": [
            "O valor do numero é: 10.50\n"
          ],
          "name": "stdout"
        }
      ]
    },
    {
      "cell_type": "markdown",
      "metadata": {
        "id": "9Mbsr2P4HTU0",
        "colab_type": "text"
      },
      "source": [
        "Sempre quando for trabalhar com tipos de dados diferentes , precisamos converter os tipos"
      ]
    },
    {
      "cell_type": "code",
      "metadata": {
        "id": "LS8w57cRHOsF",
        "colab_type": "code",
        "colab": {
          "base_uri": "https://localhost:8080/",
          "height": 163
        },
        "outputId": "2b1241e4-88f0-4c74-a564-6756735e0ec7"
      },
      "source": [
        "print(\"O valor do numero é: \" +numero_decimal)"
      ],
      "execution_count": 14,
      "outputs": [
        {
          "output_type": "error",
          "ename": "TypeError",
          "evalue": "ignored",
          "traceback": [
            "\u001b[0;31m---------------------------------------------------------------------------\u001b[0m",
            "\u001b[0;31mTypeError\u001b[0m                                 Traceback (most recent call last)",
            "\u001b[0;32m<ipython-input-14-ddc003e5fee2>\u001b[0m in \u001b[0;36m<module>\u001b[0;34m()\u001b[0m\n\u001b[0;32m----> 1\u001b[0;31m \u001b[0mprint\u001b[0m\u001b[0;34m(\u001b[0m\u001b[0;34m\"O valor do numero é: \"\u001b[0m \u001b[0;34m+\u001b[0m\u001b[0mnumero_decimal\u001b[0m\u001b[0;34m)\u001b[0m\u001b[0;34m\u001b[0m\u001b[0;34m\u001b[0m\u001b[0m\n\u001b[0m",
            "\u001b[0;31mTypeError\u001b[0m: must be str, not float"
          ]
        }
      ]
    }
  ]
}