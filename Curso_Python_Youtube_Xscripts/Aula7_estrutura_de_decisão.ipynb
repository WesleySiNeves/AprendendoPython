{
  "nbformat": 4,
  "nbformat_minor": 0,
  "metadata": {
    "colab": {
      "name": "Aula7_estrutura de decisão.ipynb",
      "provenance": [],
      "collapsed_sections": [],
      "include_colab_link": true
    },
    "kernelspec": {
      "name": "python3",
      "display_name": "Python 3"
    }
  },
  "cells": [
    {
      "cell_type": "markdown",
      "metadata": {
        "id": "view-in-github",
        "colab_type": "text"
      },
      "source": [
        "<a href=\"https://colab.research.google.com/github/WesleySiNeves/AprendendoPython/blob/master/Aula7_estrutura_de_decis%C3%A3o.ipynb\" target=\"_parent\"><img src=\"https://colab.research.google.com/assets/colab-badge.svg\" alt=\"Open In Colab\"/></a>"
      ]
    },
    {
      "cell_type": "code",
      "metadata": {
        "id": "mGD0L7CXbJ5-",
        "colab_type": "code",
        "colab": {}
      },
      "source": [
        "variavel_1 = 30;\n",
        "variavel_2= 20;"
      ],
      "execution_count": 0,
      "outputs": []
    },
    {
      "cell_type": "code",
      "metadata": {
        "id": "BBy7_Wr4bVwM",
        "colab_type": "code",
        "colab": {
          "base_uri": "https://localhost:8080/",
          "height": 34
        },
        "outputId": "d383f1f8-c727-4afa-d1a4-eacb942dd68b"
      },
      "source": [
        "\n",
        "\n",
        "def facaIsso():\n",
        "  print(\"Isso\")\n",
        "\n",
        "def facaAquilo():\n",
        "  print(\"Aquilo\")\n",
        "\n",
        "if(variavel_1 <= variavel_2):\n",
        "   facaIsso()\n",
        "elif(variavel_2 <= variavel_1):\n",
        "  facaAquilo()\n",
        "     "
      ],
      "execution_count": 12,
      "outputs": [
        {
          "output_type": "stream",
          "text": [
            "Aquilo\n"
          ],
          "name": "stdout"
        }
      ]
    },
    {
      "cell_type": "code",
      "metadata": {
        "id": "-8ZzcSw6dSKS",
        "colab_type": "code",
        "colab": {
          "base_uri": "https://localhost:8080/",
          "height": 34
        },
        "outputId": "2ce6a104-d778-45e5-963e-751ff926933f"
      },
      "source": [
        "def facaIsso():\n",
        "  print(\"Isso\")\n",
        "\n",
        "def facaAquilo():\n",
        "  print(\"Aquilo\")\n",
        "\n",
        "if(variavel_1 <= variavel_2):\n",
        "  facaIsso()\n",
        "else:\n",
        "  if(variavel_2 <= variavel_1):\n",
        "        facaAquilo()\n",
        "      "
      ],
      "execution_count": 17,
      "outputs": [
        {
          "output_type": "stream",
          "text": [
            "Aquilo\n"
          ],
          "name": "stdout"
        }
      ]
    },
    {
      "cell_type": "markdown",
      "metadata": {
        "colab_type": "text",
        "id": "qVJ4oVTFgmvg"
      },
      "source": [
        "Estrutura Switch"
      ]
    }
  ]
}