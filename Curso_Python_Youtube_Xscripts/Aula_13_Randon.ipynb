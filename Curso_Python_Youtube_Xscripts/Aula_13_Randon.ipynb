{
 "nbformat": 4,
 "nbformat_minor": 2,
 "metadata": {
  "language_info": {
   "name": "python",
   "codemirror_mode": {
    "name": "ipython",
    "version": 3
   },
   "version": "3.7.4"
  },
  "orig_nbformat": 2,
  "file_extension": ".py",
  "mimetype": "text/x-python",
  "name": "python",
  "npconvert_exporter": "python",
  "pygments_lexer": "ipython3",
  "version": 3
 },
 "cells": [
  {
   "cell_type": "markdown",
   "execution_count": null,
   "metadata": {},
   "outputs": [],
   "source": []
  },
  {
   "cell_type": "code",
   "execution_count": 1,
   "metadata": {},
   "outputs": [],
   "source": [
    "import random"
   ]
  },
  {
   "cell_type": "code",
   "execution_count": 33,
   "metadata": {},
   "outputs": [
    {
     "name": "stdout",
     "output_type": "stream",
     "text": "3\n0\n2\n3\n1\n3\n1\n4\n4\n0\n"
    }
   ],
   "source": [
    " for inte in range(0,10):\n",
    "     print(random.randrange(0,5))\n",
    "    "
   ]
  },
  {
   "cell_type": "code",
   "execution_count": 34,
   "metadata": {},
   "outputs": [
    {
     "name": "stdout",
     "output_type": "stream",
     "text": "6\n6\n0\n6\n4\n0\n6\n2\n4\n0\n"
    }
   ],
   "source": [
    " for inte in range(0,10):\n",
    "     print(random.randrange(0,7,2))"
   ]
  },
  {
   "cell_type": "code",
   "execution_count": 38,
   "metadata": {},
   "outputs": [
    {
     "name": "stdout",
     "output_type": "stream",
     "text": "0\n2\n4\n3\n4\n2\n2\n2\n4\n1\n"
    }
   ],
   "source": [
    " for inte in range(0,10):\n",
    "     print(random.randint(0,4))"
   ]
  },
  {
   "cell_type": "code",
   "execution_count": 42,
   "metadata": {},
   "outputs": [
    {
     "name": "stdout",
     "output_type": "stream",
     "text": "Olá senhor\nOlá senhor\nBom dia Mestre\nBom dia Mestre\nBom dia Mestre\nBom dia Mestre\nOlá senhor\nOlá senhor\nBom dia Mestre\nBom dia Mestre\n"
    }
   ],
   "source": [
    " for inte in range(0,10):\n",
    "     print(random.choice([\"Olá senhor\",\"Bom dia Mestre\"]))"
   ]
  }
 ]
}