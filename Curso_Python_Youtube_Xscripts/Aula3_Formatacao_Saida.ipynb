{
  "nbformat": 4,
  "nbformat_minor": 0,
  "metadata": {
    "colab": {
      "name": "Aula3_Formatacao_Saida.ipynb",
      "provenance": [],
      "collapsed_sections": [],
      "include_colab_link": true
    },
    "kernelspec": {
      "name": "python3",
      "display_name": "Python 3"
    }
  },
  "cells": [
    {
      "cell_type": "markdown",
      "metadata": {
        "colab_type": "text",
        "id": "view-in-github"
      },
      "source": [
        "<a href=\"https://colab.research.google.com/github/WesleySiNeves/AprendendoPython/blob/master/Aula3_Marcadores.ipynb\" target=\"_parent\"><img src=\"https://colab.research.google.com/assets/colab-badge.svg\" alt=\"Open In Colab\"/></a>"
      ]
    },
    {
      "cell_type": "markdown",
      "metadata": {
        "colab_type": "text",
        "id": "dNUXK7vZFsVz"
      },
      "source": [
        "O marcador % indica para o python que naquele lugar deve ser colocado um valor \n",
        "i = inteiro"
      ]
    },
    {
      "cell_type": "code",
      "execution_count": 5,
      "metadata": {},
      "outputs": [],
      "source": [
        "numero_int =10\n",
        "numero_decimal =10.5556 \n",
        "numero_string =\"10.50\""
      ]
    },
    {
      "cell_type": "code",
      "execution_count": 6,
      "metadata": {},
      "outputs": [
        {
          "name": "stdout",
          "output_type": "stream",
          "text": "O valor do numero é: 10\n"
        }
      ],
      "source": [
        "print(\"O valor do numero é:\",numero_int)"
      ]
    },
    {
      "cell_type": "code",
      "execution_count": 7,
      "metadata": {},
      "outputs": [
        {
          "name": "stdout",
          "output_type": "stream",
          "text": "O valor do numero é:10\n"
        }
      ],
      "source": [
        "print(\"O valor do numero é:\" + str(numero_int))"
      ]
    },
    {
      "cell_type": "code",
      "execution_count": 9,
      "metadata": {},
      "outputs": [
        {
          "name": "stdout",
          "output_type": "stream",
          "text": "O valor do numero é: 10.5556\n"
        }
      ],
      "source": [
        "print(\"O valor do numero é:\", str(numero_decimal))"
      ]
    },
    {
      "cell_type": "markdown",
      "metadata": {
        "colab_type": "text",
        "id": "KVciZXj-G2IT"
      },
      "source": [
        "Marcadores\n"
      ]
    },
    {
      "cell_type": "code",
      "execution_count": 10,
      "metadata": {},
      "outputs": [
        {
          "name": "stdout",
          "output_type": "stream",
          "text": "O valor do numero é: 10\n"
        }
      ],
      "source": [
        "print(\"O valor do numero é: %i\" %numero_int)"
      ]
    },
    {
      "cell_type": "code",
      "execution_count": 12,
      "metadata": {},
      "outputs": [
        {
          "name": "stdout",
          "output_type": "stream",
          "text": "O valor do numero é: 10\n"
        }
      ],
      "source": [
        "print(\"O valor do numero é: %i\" %numero_decimal)"
      ]
    },
    {
      "cell_type": "code",
      "execution_count": 13,
      "metadata": {},
      "outputs": [
        {
          "name": "stdout",
          "output_type": "stream",
          "text": "O valor do numero é: 10.555600\n"
        }
      ],
      "source": [
        "print(\"O valor do numero é: %f\" %numero_decimal)"
      ]
    },
    {
      "cell_type": "code",
      "execution_count": 14,
      "metadata": {},
      "outputs": [
        {
          "name": "stdout",
          "output_type": "stream",
          "text": "O valor do numero é: 10.56\n"
        }
      ],
      "source": [
        "print(\"O valor do numero é: %.2f\" %numero_decimal)"
      ]
    },
    {
      "cell_type": "markdown",
      "metadata": {
        "colab_type": "text",
        "id": "9Mbsr2P4HTU0"
      },
      "source": [
        "Sempre quando for trabalhar com tipos de dados diferentes , precisamos converter os tipos"
      ]
    },
    {
      "cell_type": "code",
      "execution_count": 14,
      "metadata": {
        "colab": {
          "base_uri": "https://localhost:8080/",
          "height": 163
        },
        "colab_type": "code",
        "id": "LS8w57cRHOsF",
        "outputId": "2b1241e4-88f0-4c74-a564-6756735e0ec7"
      },
      "outputs": [
        {
          "ename": "TypeError",
          "evalue": "ignored",
          "output_type": "error",
          "traceback": [
            "\u001b[0;31m---------------------------------------------------------------------------\u001b[0m",
            "\u001b[0;31mTypeError\u001b[0m                                 Traceback (most recent call last)",
            "\u001b[0;32m<ipython-input-14-ddc003e5fee2>\u001b[0m in \u001b[0;36m<module>\u001b[0;34m()\u001b[0m\n\u001b[0;32m----> 1\u001b[0;31m \u001b[0mprint\u001b[0m\u001b[0;34m(\u001b[0m\u001b[0;34m\"O valor do numero é: \"\u001b[0m \u001b[0;34m+\u001b[0m\u001b[0mnumero_decimal\u001b[0m\u001b[0;34m)\u001b[0m\u001b[0;34m\u001b[0m\u001b[0;34m\u001b[0m\u001b[0m\n\u001b[0m",
            "\u001b[0;31mTypeError\u001b[0m: must be str, not float"
          ]
        }
      ],
      "source": [
        "print(\"O valor do numero é: \" +numero_decimal)"
      ]
    }
  ]
}