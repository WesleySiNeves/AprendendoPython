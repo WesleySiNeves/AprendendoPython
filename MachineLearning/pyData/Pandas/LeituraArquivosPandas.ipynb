{
    "metadata": {
        "kernelspec": {
            "name": "python3",
            "display_name": "Python 3"
        },
        "language_info": {
            "name": "python",
            "version": "3.6.6",
            "mimetype": "text/x-python",
            "codemirror_mode": {
                "name": "ipython",
                "version": 3
            },
            "pygments_lexer": "ipython3",
            "nbconvert_exporter": "python",
            "file_extension": ".py"
        }
    },
    "nbformat_minor": 2,
    "nbformat": 4,
    "cells": [
        {
            "cell_type": "markdown",
            "source": [
                "## Bibliotecas"
            ],
            "metadata": {
                "azdata_cell_guid": "33c1aea4-2bfd-426a-8c79-510f9c5abc1a"
            }
        },
        {
            "cell_type": "code",
            "source": [
                "import pyodbc as PDB  # Drive para conexão com banco de dados\r\n",
                "import pandas  as pd\r\n",
                ""
            ],
            "metadata": {
                "azdata_cell_guid": "25ac02b4-878e-4640-b60c-64d21485edb1",
                "tags": []
            },
            "outputs": [],
            "execution_count": null
        },
        {
            "cell_type": "markdown",
            "source": [
                "## Variaveis\r\n",
                ""
            ],
            "metadata": {
                "azdata_cell_guid": "c9227bff-1dca-483e-8e54-f29527ca32d5"
            }
        },
        {
            "cell_type": "code",
            "source": [
                "server = '172.20.1.114'\r\n",
                "database = 'erphomolog.cremesp.org.br'\r\n",
                "username = 'implanta.net'\r\n",
                "password = '159753'\r\n",
                "driver= '{ODBC Driver 17 for SQL Server}'\r\n",
                "\r\n",
                "\r\n",
                "diretorio= 'D:\\diferença depreciação implanta.xlsx'"
            ],
            "metadata": {
                "azdata_cell_guid": "99d30d51-e29b-47ff-a4f5-fb6e9cc23379",
                "tags": []
            },
            "outputs": [],
            "execution_count": null
        },
        {
            "cell_type": "markdown",
            "source": [
                "## Campos do dataframe"
            ],
            "metadata": {
                "azdata_cell_guid": "7a4c12dc-21e3-4b4e-a5ff-b08af49b76aa"
            }
        },
        {
            "cell_type": "code",
            "source": [
                "list(dados)\r\n",
                "\r\n",
                ""
            ],
            "metadata": {
                "azdata_cell_guid": "34fc971b-017b-4176-b227-ca10da9fc0aa",
                "tags": []
            },
            "outputs": [],
            "execution_count": null
        },
        {
            "cell_type": "code",
            "source": [
                "\r\n",
                "\r\n",
                ""
            ],
            "metadata": {
                "azdata_cell_guid": "55314f61-22e0-4bb1-a13a-b0a7cb36d7d9"
            },
            "outputs": [
                {
                    "traceback": [
                        "\u001b[1;31m---------------------------------------------------------------------------\u001b[0m",
                        "\u001b[1;31mAttributeError\u001b[0m                            Traceback (most recent call last)",
                        "\u001b[1;32m<ipython-input-41-e4085360b2f8>\u001b[0m in \u001b[0;36m<module>\u001b[1;34m\u001b[0m\n\u001b[1;32m----> 1\u001b[1;33m \u001b[0mdados\u001b[0m\u001b[1;33m.\u001b[0m\u001b[0mdecrible\u001b[0m\u001b[1;33m(\u001b[0m\u001b[1;33m)\u001b[0m\u001b[1;33m\u001b[0m\u001b[0m\n\u001b[0m\u001b[0;32m      2\u001b[0m \u001b[1;33m\u001b[0m\u001b[0m\n",
                        "\u001b[1;32mc:\\users\\wesley.neves\\azuredatastudio-python\\0.0.1\\lib\\site-packages\\pandas\\core\\generic.py\u001b[0m in \u001b[0;36m__getattr__\u001b[1;34m(self, name)\u001b[0m\n\u001b[0;32m   5177\u001b[0m             \u001b[1;32mif\u001b[0m \u001b[0mself\u001b[0m\u001b[1;33m.\u001b[0m\u001b[0m_info_axis\u001b[0m\u001b[1;33m.\u001b[0m\u001b[0m_can_hold_identifiers_and_holds_name\u001b[0m\u001b[1;33m(\u001b[0m\u001b[0mname\u001b[0m\u001b[1;33m)\u001b[0m\u001b[1;33m:\u001b[0m\u001b[1;33m\u001b[0m\u001b[0m\n\u001b[0;32m   5178\u001b[0m                 \u001b[1;32mreturn\u001b[0m \u001b[0mself\u001b[0m\u001b[1;33m[\u001b[0m\u001b[0mname\u001b[0m\u001b[1;33m]\u001b[0m\u001b[1;33m\u001b[0m\u001b[0m\n\u001b[1;32m-> 5179\u001b[1;33m             \u001b[1;32mreturn\u001b[0m \u001b[0mobject\u001b[0m\u001b[1;33m.\u001b[0m\u001b[0m__getattribute__\u001b[0m\u001b[1;33m(\u001b[0m\u001b[0mself\u001b[0m\u001b[1;33m,\u001b[0m \u001b[0mname\u001b[0m\u001b[1;33m)\u001b[0m\u001b[1;33m\u001b[0m\u001b[0m\n\u001b[0m\u001b[0;32m   5180\u001b[0m \u001b[1;33m\u001b[0m\u001b[0m\n\u001b[0;32m   5181\u001b[0m     \u001b[1;32mdef\u001b[0m \u001b[0m__setattr__\u001b[0m\u001b[1;33m(\u001b[0m\u001b[0mself\u001b[0m\u001b[1;33m,\u001b[0m \u001b[0mname\u001b[0m\u001b[1;33m,\u001b[0m \u001b[0mvalue\u001b[0m\u001b[1;33m)\u001b[0m\u001b[1;33m:\u001b[0m\u001b[1;33m\u001b[0m\u001b[0m\n",
                        "\u001b[1;31mAttributeError\u001b[0m: 'DataFrame' object has no attribute 'decrible'"
                    ],
                    "ename": "AttributeError",
                    "evalue": "'DataFrame' object has no attribute 'decrible'",
                    "output_type": "error"
                }
            ],
            "execution_count": 41
        },
        {
            "cell_type": "code",
            "source": [
                "cursor = conexao.cursor()\r\n",
                "\r\n",
                "for index,row in dados.iterrows():\r\n",
                "    sql = \"INSERT INTO Patrimonio.Planilha  VALUES (?, ?, ?, ?,?, ?, ?, ?, ?, ?, ?, ?)\"\r\n",
                "    cursor.execute(sql, (row['Código'],row['Data Aquisição/Reavaliação'],row['Valor Atual'],row['% Residual'],row['Vida util em anos'],row['% Depreciação'],row['Valor Residual'],row['Base de Calculo Depreciação'],row['Data Depreciação'],row['Valor Depreciação mensal'],row['Valor Implanta'],row['Diferença controle-Implanta']))\r\n",
                "    conexao.commit()\r\n",
                "   \r\n",
                "cursor.close()\r\n",
                "conexao.close()"
            ],
            "metadata": {
                "azdata_cell_guid": "04d61e9a-a506-46f1-ba63-bdedcbcd1f63",
                "tags": []
            },
            "outputs": [
                {
                    "traceback": [
                        "\u001b[1;31m---------------------------------------------------------------------------\u001b[0m",
                        "\u001b[1;31mProgrammingError\u001b[0m                          Traceback (most recent call last)",
                        "\u001b[1;32m<ipython-input-38-73eb7bbe9dc2>\u001b[0m in \u001b[0;36m<module>\u001b[1;34m\u001b[0m\n\u001b[0;32m      3\u001b[0m \u001b[1;32mfor\u001b[0m \u001b[0mindex\u001b[0m\u001b[1;33m,\u001b[0m\u001b[0mrow\u001b[0m \u001b[1;32min\u001b[0m \u001b[0mdados\u001b[0m\u001b[1;33m.\u001b[0m\u001b[0miterrows\u001b[0m\u001b[1;33m(\u001b[0m\u001b[1;33m)\u001b[0m\u001b[1;33m:\u001b[0m\u001b[1;33m\u001b[0m\u001b[0m\n\u001b[0;32m      4\u001b[0m     \u001b[0msql\u001b[0m \u001b[1;33m=\u001b[0m \u001b[1;34m\"INSERT INTO Patrimonio.Planilha  VALUES (?, ?, ?, ?,?, ?, ?, ?, ?, ?, ?, ?)\"\u001b[0m\u001b[1;33m\u001b[0m\u001b[0m\n\u001b[1;32m----> 5\u001b[1;33m     \u001b[0mcursor\u001b[0m\u001b[1;33m.\u001b[0m\u001b[0mexecute\u001b[0m\u001b[1;33m(\u001b[0m\u001b[0msql\u001b[0m\u001b[1;33m,\u001b[0m \u001b[1;33m(\u001b[0m\u001b[0mrow\u001b[0m\u001b[1;33m[\u001b[0m\u001b[1;34m'Código'\u001b[0m\u001b[1;33m]\u001b[0m\u001b[1;33m,\u001b[0m\u001b[0mrow\u001b[0m\u001b[1;33m[\u001b[0m\u001b[1;34m'Data Aquisição/Reavaliação'\u001b[0m\u001b[1;33m]\u001b[0m\u001b[1;33m,\u001b[0m\u001b[0mrow\u001b[0m\u001b[1;33m[\u001b[0m\u001b[1;34m'Valor Atual'\u001b[0m\u001b[1;33m]\u001b[0m\u001b[1;33m,\u001b[0m\u001b[0mrow\u001b[0m\u001b[1;33m[\u001b[0m\u001b[1;34m'% Residual'\u001b[0m\u001b[1;33m]\u001b[0m\u001b[1;33m,\u001b[0m\u001b[0mrow\u001b[0m\u001b[1;33m[\u001b[0m\u001b[1;34m'Vida util em anos'\u001b[0m\u001b[1;33m]\u001b[0m\u001b[1;33m,\u001b[0m\u001b[0mrow\u001b[0m\u001b[1;33m[\u001b[0m\u001b[1;34m'% Depreciação'\u001b[0m\u001b[1;33m]\u001b[0m\u001b[1;33m,\u001b[0m\u001b[0mrow\u001b[0m\u001b[1;33m[\u001b[0m\u001b[1;34m'Valor Residual'\u001b[0m\u001b[1;33m]\u001b[0m\u001b[1;33m,\u001b[0m\u001b[0mrow\u001b[0m\u001b[1;33m[\u001b[0m\u001b[1;34m'Base de Calculo Depreciação'\u001b[0m\u001b[1;33m]\u001b[0m\u001b[1;33m,\u001b[0m\u001b[0mrow\u001b[0m\u001b[1;33m[\u001b[0m\u001b[1;34m'Data Depreciação'\u001b[0m\u001b[1;33m]\u001b[0m\u001b[1;33m,\u001b[0m\u001b[0mrow\u001b[0m\u001b[1;33m[\u001b[0m\u001b[1;34m'Valor Depreciação mensal'\u001b[0m\u001b[1;33m]\u001b[0m\u001b[1;33m,\u001b[0m\u001b[0mrow\u001b[0m\u001b[1;33m[\u001b[0m\u001b[1;34m'Valor Implanta'\u001b[0m\u001b[1;33m]\u001b[0m\u001b[1;33m,\u001b[0m\u001b[0mrow\u001b[0m\u001b[1;33m[\u001b[0m\u001b[1;34m'Diferença controle-Implanta'\u001b[0m\u001b[1;33m]\u001b[0m\u001b[1;33m)\u001b[0m\u001b[1;33m)\u001b[0m\u001b[1;33m\u001b[0m\u001b[0m\n\u001b[0m\u001b[0;32m      6\u001b[0m     \u001b[0mconexao\u001b[0m\u001b[1;33m.\u001b[0m\u001b[0mcommit\u001b[0m\u001b[1;33m(\u001b[0m\u001b[1;33m)\u001b[0m\u001b[1;33m\u001b[0m\u001b[0m\n\u001b[0;32m      7\u001b[0m \u001b[1;33m\u001b[0m\u001b[0m\n",
                        "\u001b[1;31mProgrammingError\u001b[0m: ('42000', '[42000] [Microsoft][ODBC Driver 17 for SQL Server][SQL Server]The incoming tabular data stream (TDS) remote procedure call (RPC) protocol stream is incorrect. Parameter 14 (\"\"): The supplied value is not a valid instance of data type float. Check the source data for invalid values. An example of an invalid value is data of numeric type with scale greater than precision. (8023) (SQLExecDirectW)')"
                    ],
                    "ename": "ProgrammingError",
                    "evalue": "('42000', '[42000] [Microsoft][ODBC Driver 17 for SQL Server][SQL Server]The incoming tabular data stream (TDS) remote procedure call (RPC) protocol stream is incorrect. Parameter 14 (\"\"): The supplied value is not a valid instance of data type float. Check the source data for invalid values. An example of an invalid value is data of numeric type with scale greater than precision. (8023) (SQLExecDirectW)')",
                    "output_type": "error"
                }
            ],
            "execution_count": 38
        },
        {
            "cell_type": "code",
            "source": [
                "empenhos.head(2)"
            ],
            "metadata": {
                "azdata_cell_guid": "d6ac9071-d4e9-4079-81e7-b33f1ea6b45d",
                "tags": []
            },
            "outputs": [],
            "execution_count": null
        },
        {
            "cell_type": "code",
            "source": [
                "dados.head(2)\r\n",
                ""
            ],
            "metadata": {
                "azdata_cell_guid": "daf12d7d-6af8-4d40-a06b-25358a426c63"
            },
            "outputs": [
                {
                    "data": {
                        "text/plain": "   Código Data Aquisição/Reavaliação  Valor Atual  % Residual  \\\n0    1157                 2019-12-31       245.87         0.1   \n1    1198                 2019-12-31       135.32         0.1   \n\n   Vida util em anos  % Depreciação  Valor Residual  \\\n0                 10            0.1          24.587   \n1                 10            0.1          13.532   \n\n   Base de Calculo Depreciação Data Depreciação  Valor Depreciação mensal  \\\n0                       221.28       2020-01-31                      1.84   \n1                       121.79       2020-01-31                      1.01   \n\n   Valor Implanta  Diferença controle-Implanta  \n0            3.07                        -1.23  \n1            1.69                        -0.68  ",
                        "text/html": "<div>\n<style scoped>\n    .dataframe tbody tr th:only-of-type {\n        vertical-align: middle;\n    }\n\n    .dataframe tbody tr th {\n        vertical-align: top;\n    }\n\n    .dataframe thead th {\n        text-align: right;\n    }\n</style>\n<table border=\"1\" class=\"dataframe\">\n  <thead>\n    <tr style=\"text-align: right;\">\n      <th></th>\n      <th>Código</th>\n      <th>Data Aquisição/Reavaliação</th>\n      <th>Valor Atual</th>\n      <th>% Residual</th>\n      <th>Vida util em anos</th>\n      <th>% Depreciação</th>\n      <th>Valor Residual</th>\n      <th>Base de Calculo Depreciação</th>\n      <th>Data Depreciação</th>\n      <th>Valor Depreciação mensal</th>\n      <th>Valor Implanta</th>\n      <th>Diferença controle-Implanta</th>\n    </tr>\n  </thead>\n  <tbody>\n    <tr>\n      <td>0</td>\n      <td>1157</td>\n      <td>2019-12-31</td>\n      <td>245.87</td>\n      <td>0.1</td>\n      <td>10</td>\n      <td>0.1</td>\n      <td>24.587</td>\n      <td>221.28</td>\n      <td>2020-01-31</td>\n      <td>1.84</td>\n      <td>3.07</td>\n      <td>-1.23</td>\n    </tr>\n    <tr>\n      <td>1</td>\n      <td>1198</td>\n      <td>2019-12-31</td>\n      <td>135.32</td>\n      <td>0.1</td>\n      <td>10</td>\n      <td>0.1</td>\n      <td>13.532</td>\n      <td>121.79</td>\n      <td>2020-01-31</td>\n      <td>1.01</td>\n      <td>1.69</td>\n      <td>-0.68</td>\n    </tr>\n  </tbody>\n</table>\n</div>"
                    },
                    "metadata": {},
                    "execution_count": 39,
                    "output_type": "execute_result"
                }
            ],
            "execution_count": 39
        }
    ]
}