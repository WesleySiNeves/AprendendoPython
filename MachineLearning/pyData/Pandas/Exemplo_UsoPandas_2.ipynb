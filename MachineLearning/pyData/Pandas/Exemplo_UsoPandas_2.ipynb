{
    "metadata": {
        "kernelspec": {
            "name": "python3",
            "display_name": "Python 3"
        },
        "language_info": {
            "name": "python",
            "version": "3.7.0-final",
            "mimetype": "text/x-python",
            "codemirror_mode": {
                "name": "ipython",
                "version": 3
            },
            "pygments_lexer": "ipython3",
            "nbconvert_exporter": "python",
            "file_extension": ".py"
        }
    },
    "nbformat_minor": 2,
    "nbformat": 4,
    "cells": [
        {
            "cell_type": "code",
            "execution_count": 1,
            "metadata": {},
            "outputs": [],
            "source": [
                "import pandas as pd"
            ]
        },
        {
            "cell_type": "code",
            "execution_count": 2,
            "metadata": {},
            "outputs": [],
            "source": [
                "dados = pd.read_csv(r'D:\\Wesley\\VersionCode\\AprendendoPython\\AprendendoPython\\MachineLearning\\pyData\\Pandas\\file.csv')\n"
            ]
        },
        {
            "cell_type": "code",
            "execution_count": 3,
            "metadata": {},
            "outputs": [
                {
                    "data": {
                        "text/html": "<div>\n<style scoped>\n    .dataframe tbody tr th:only-of-type {\n        vertical-align: middle;\n    }\n\n    .dataframe tbody tr th {\n        vertical-align: top;\n    }\n\n    .dataframe thead th {\n        text-align: right;\n    }\n</style>\n<table border=\"1\" class=\"dataframe\">\n  <thead>\n    <tr style=\"text-align: right;\">\n      <th></th>\n      <th>EST</th>\n      <th>Temperature</th>\n      <th>DewPoint</th>\n      <th>Humidity</th>\n      <th>Sea Level PressureIn</th>\n      <th>VisibilityMiles</th>\n      <th>WindSpeedMPH</th>\n      <th>PrecipitationIn</th>\n      <th>CloudCover</th>\n      <th>Events</th>\n      <th>WindDirDegrees</th>\n    </tr>\n  </thead>\n  <tbody>\n    <tr>\n      <th>0</th>\n      <td>1/1/2016</td>\n      <td>38</td>\n      <td>23</td>\n      <td>52</td>\n      <td>30.03</td>\n      <td>10</td>\n      <td>8.0</td>\n      <td>0</td>\n      <td>5</td>\n      <td>NaN</td>\n      <td>281</td>\n    </tr>\n    <tr>\n      <th>1</th>\n      <td>1/2/2016</td>\n      <td>36</td>\n      <td>18</td>\n      <td>46</td>\n      <td>30.02</td>\n      <td>10</td>\n      <td>7.0</td>\n      <td>0</td>\n      <td>3</td>\n      <td>NaN</td>\n      <td>275</td>\n    </tr>\n  </tbody>\n</table>\n</div>",
                        "text/plain": "        EST  Temperature  DewPoint  Humidity  Sea Level PressureIn  \\\n0  1/1/2016           38        23        52                 30.03   \n1  1/2/2016           36        18        46                 30.02   \n\n   VisibilityMiles  WindSpeedMPH PrecipitationIn  CloudCover Events  \\\n0               10           8.0               0           5    NaN   \n1               10           7.0               0           3    NaN   \n\n   WindDirDegrees  \n0             281  \n1             275  "
                    },
                    "execution_count": 3,
                    "metadata": {},
                    "output_type": "execute_result"
                }
            ],
            "source": [
                "dados.head(2)"
            ]
        },
        {
            "cell_type": "markdown",
            "metadata": {
                "azdata_cell_guid": "ad965d6b-2b51-418f-9e05-1b0308154256"
            },
            "source": [
                "## Recuperando uma coluna"
            ]
        },
        {
            "cell_type": "code",
            "execution_count": 4,
            "metadata": {},
            "outputs": [
                {
                    "data": {
                        "text/plain": "0    38\n1    36\nName: Temperature, dtype: int64"
                    },
                    "execution_count": 4,
                    "metadata": {},
                    "output_type": "execute_result"
                }
            ],
            "source": [
                "dados.head(2).Temperature\n",
                "\n"
            ]
        },
        {
            "cell_type": "code",
            "execution_count": 11,
            "metadata": {
                "azdata_cell_guid": "17b3d002-7b97-4776-9648-188f601bd97b"
            },
            "outputs": [
                {
                    "data": {
                        "text/plain": "(50, 20, 34.67741935483871)"
                    },
                    "execution_count": 11,
                    "metadata": {},
                    "output_type": "execute_result"
                }
            ],
            "source": [
                "dados.Temperature.max(),dados.Temperature.min(),dados.Temperature.mean()"
            ]
        },
        {
            "cell_type": "markdown",
            "metadata": {
                "azdata_cell_guid": "6853c293-f1e4-4ed0-8057-1865dea37ecc"
            },
            "source": [
                "## Filtrando Dados"
            ]
        },
        {
            "cell_type": "code",
            "execution_count": 13,
            "metadata": {
                "azdata_cell_guid": "c34c200d-3e1c-463e-9d8e-04a94322cfe1"
            },
            "outputs": [
                {
                    "data": {
                        "text/html": "<div>\n<style scoped>\n    .dataframe tbody tr th:only-of-type {\n        vertical-align: middle;\n    }\n\n    .dataframe tbody tr th {\n        vertical-align: top;\n    }\n\n    .dataframe thead th {\n        text-align: right;\n    }\n</style>\n<table border=\"1\" class=\"dataframe\">\n  <thead>\n    <tr style=\"text-align: right;\">\n      <th></th>\n      <th>EST</th>\n      <th>Temperature</th>\n      <th>DewPoint</th>\n      <th>Humidity</th>\n      <th>Sea Level PressureIn</th>\n      <th>VisibilityMiles</th>\n      <th>WindSpeedMPH</th>\n      <th>PrecipitationIn</th>\n      <th>CloudCover</th>\n      <th>Events</th>\n      <th>WindDirDegrees</th>\n    </tr>\n  </thead>\n  <tbody>\n    <tr>\n      <td>0</td>\n      <td>1/1/2016</td>\n      <td>38</td>\n      <td>23</td>\n      <td>52</td>\n      <td>30.03</td>\n      <td>10</td>\n      <td>8.0</td>\n      <td>0</td>\n      <td>5</td>\n      <td>NaN</td>\n      <td>281</td>\n    </tr>\n    <tr>\n      <td>1</td>\n      <td>1/2/2016</td>\n      <td>36</td>\n      <td>18</td>\n      <td>46</td>\n      <td>30.02</td>\n      <td>10</td>\n      <td>7.0</td>\n      <td>0</td>\n      <td>3</td>\n      <td>NaN</td>\n      <td>275</td>\n    </tr>\n    <tr>\n      <td>2</td>\n      <td>1/3/2016</td>\n      <td>40</td>\n      <td>21</td>\n      <td>47</td>\n      <td>29.86</td>\n      <td>10</td>\n      <td>8.0</td>\n      <td>0</td>\n      <td>1</td>\n      <td>NaN</td>\n      <td>277</td>\n    </tr>\n    <tr>\n      <td>5</td>\n      <td>1/6/2016</td>\n      <td>33</td>\n      <td>4</td>\n      <td>35</td>\n      <td>30.50</td>\n      <td>10</td>\n      <td>4.0</td>\n      <td>0</td>\n      <td>0</td>\n      <td>NaN</td>\n      <td>259</td>\n    </tr>\n    <tr>\n      <td>6</td>\n      <td>1/7/2016</td>\n      <td>39</td>\n      <td>11</td>\n      <td>33</td>\n      <td>30.28</td>\n      <td>10</td>\n      <td>2.0</td>\n      <td>0</td>\n      <td>3</td>\n      <td>NaN</td>\n      <td>293</td>\n    </tr>\n    <tr>\n      <td>7</td>\n      <td>1/8/2016</td>\n      <td>39</td>\n      <td>29</td>\n      <td>64</td>\n      <td>30.20</td>\n      <td>10</td>\n      <td>4.0</td>\n      <td>0</td>\n      <td>8</td>\n      <td>NaN</td>\n      <td>79</td>\n    </tr>\n    <tr>\n      <td>8</td>\n      <td>1/9/2016</td>\n      <td>44</td>\n      <td>38</td>\n      <td>77</td>\n      <td>30.16</td>\n      <td>9</td>\n      <td>8.0</td>\n      <td>T</td>\n      <td>8</td>\n      <td>Rain</td>\n      <td>76</td>\n    </tr>\n    <tr>\n      <td>9</td>\n      <td>1/10/2016</td>\n      <td>50</td>\n      <td>46</td>\n      <td>71</td>\n      <td>29.59</td>\n      <td>4</td>\n      <td>NaN</td>\n      <td>1.8</td>\n      <td>7</td>\n      <td>Rain</td>\n      <td>109</td>\n    </tr>\n    <tr>\n      <td>10</td>\n      <td>1/11/2016</td>\n      <td>33</td>\n      <td>8</td>\n      <td>37</td>\n      <td>29.92</td>\n      <td>10</td>\n      <td>NaN</td>\n      <td>0</td>\n      <td>1</td>\n      <td>NaN</td>\n      <td>289</td>\n    </tr>\n    <tr>\n      <td>11</td>\n      <td>1/12/2016</td>\n      <td>35</td>\n      <td>15</td>\n      <td>53</td>\n      <td>29.85</td>\n      <td>10</td>\n      <td>6.0</td>\n      <td>T</td>\n      <td>4</td>\n      <td>NaN</td>\n      <td>235</td>\n    </tr>\n    <tr>\n      <td>14</td>\n      <td>1/15/2016</td>\n      <td>43</td>\n      <td>31</td>\n      <td>62</td>\n      <td>29.82</td>\n      <td>9</td>\n      <td>5.0</td>\n      <td>T</td>\n      <td>2</td>\n      <td>NaN</td>\n      <td>101</td>\n    </tr>\n    <tr>\n      <td>15</td>\n      <td>1/16/2016</td>\n      <td>47</td>\n      <td>37</td>\n      <td>70</td>\n      <td>29.52</td>\n      <td>8</td>\n      <td>7.0</td>\n      <td>0.24</td>\n      <td>7</td>\n      <td>Rain</td>\n      <td>340</td>\n    </tr>\n    <tr>\n      <td>16</td>\n      <td>1/17/2016</td>\n      <td>36</td>\n      <td>23</td>\n      <td>66</td>\n      <td>29.78</td>\n      <td>8</td>\n      <td>6.0</td>\n      <td>0.05</td>\n      <td>6</td>\n      <td>Fog-Snow</td>\n      <td>345</td>\n    </tr>\n    <tr>\n      <td>19</td>\n      <td>1/20/2016</td>\n      <td>32</td>\n      <td>15</td>\n      <td>49</td>\n      <td>30.13</td>\n      <td>10</td>\n      <td>6.0</td>\n      <td>0</td>\n      <td>2</td>\n      <td>NaN</td>\n      <td>302</td>\n    </tr>\n    <tr>\n      <td>20</td>\n      <td>1/21/2016</td>\n      <td>31</td>\n      <td>11</td>\n      <td>45</td>\n      <td>30.15</td>\n      <td>10</td>\n      <td>6.0</td>\n      <td>0</td>\n      <td>1</td>\n      <td>NaN</td>\n      <td>312</td>\n    </tr>\n    <tr>\n      <td>24</td>\n      <td>1/25/2016</td>\n      <td>34</td>\n      <td>18</td>\n      <td>54</td>\n      <td>30.25</td>\n      <td>10</td>\n      <td>3.0</td>\n      <td>0</td>\n      <td>2</td>\n      <td>NaN</td>\n      <td>286</td>\n    </tr>\n    <tr>\n      <td>25</td>\n      <td>1/26/2016</td>\n      <td>43</td>\n      <td>29</td>\n      <td>56</td>\n      <td>30.03</td>\n      <td>10</td>\n      <td>7.0</td>\n      <td>0</td>\n      <td>2</td>\n      <td>NaN</td>\n      <td>244</td>\n    </tr>\n    <tr>\n      <td>26</td>\n      <td>1/27/2016</td>\n      <td>41</td>\n      <td>22</td>\n      <td>45</td>\n      <td>30.03</td>\n      <td>10</td>\n      <td>7.0</td>\n      <td>T</td>\n      <td>3</td>\n      <td>Rain</td>\n      <td>311</td>\n    </tr>\n    <tr>\n      <td>27</td>\n      <td>1/28/2016</td>\n      <td>37</td>\n      <td>20</td>\n      <td>51</td>\n      <td>29.90</td>\n      <td>10</td>\n      <td>5.0</td>\n      <td>0</td>\n      <td>1</td>\n      <td>NaN</td>\n      <td>234</td>\n    </tr>\n    <tr>\n      <td>28</td>\n      <td>1/29/2016</td>\n      <td>36</td>\n      <td>21</td>\n      <td>50</td>\n      <td>29.58</td>\n      <td>10</td>\n      <td>8.0</td>\n      <td>0</td>\n      <td>4</td>\n      <td>NaN</td>\n      <td>298</td>\n    </tr>\n    <tr>\n      <td>29</td>\n      <td>1/30/2016</td>\n      <td>34</td>\n      <td>16</td>\n      <td>46</td>\n      <td>30.01</td>\n      <td>10</td>\n      <td>7.0</td>\n      <td>0</td>\n      <td>0</td>\n      <td>NaN</td>\n      <td>257</td>\n    </tr>\n    <tr>\n      <td>30</td>\n      <td>1/31/2016</td>\n      <td>46</td>\n      <td>28</td>\n      <td>52</td>\n      <td>29.90</td>\n      <td>10</td>\n      <td>5.0</td>\n      <td>0</td>\n      <td>0</td>\n      <td>NaN</td>\n      <td>241</td>\n    </tr>\n  </tbody>\n</table>\n</div>",
                        "text/plain": "          EST  Temperature  DewPoint  Humidity  Sea Level PressureIn  \\\n0    1/1/2016           38        23        52                 30.03   \n1    1/2/2016           36        18        46                 30.02   \n2    1/3/2016           40        21        47                 29.86   \n5    1/6/2016           33         4        35                 30.50   \n6    1/7/2016           39        11        33                 30.28   \n7    1/8/2016           39        29        64                 30.20   \n8    1/9/2016           44        38        77                 30.16   \n9   1/10/2016           50        46        71                 29.59   \n10  1/11/2016           33         8        37                 29.92   \n11  1/12/2016           35        15        53                 29.85   \n14  1/15/2016           43        31        62                 29.82   \n15  1/16/2016           47        37        70                 29.52   \n16  1/17/2016           36        23        66                 29.78   \n19  1/20/2016           32        15        49                 30.13   \n20  1/21/2016           31        11        45                 30.15   \n24  1/25/2016           34        18        54                 30.25   \n25  1/26/2016           43        29        56                 30.03   \n26  1/27/2016           41        22        45                 30.03   \n27  1/28/2016           37        20        51                 29.90   \n28  1/29/2016           36        21        50                 29.58   \n29  1/30/2016           34        16        46                 30.01   \n30  1/31/2016           46        28        52                 29.90   \n\n    VisibilityMiles  WindSpeedMPH PrecipitationIn  CloudCover    Events  \\\n0                10           8.0               0           5       NaN   \n1                10           7.0               0           3       NaN   \n2                10           8.0               0           1       NaN   \n5                10           4.0               0           0       NaN   \n6                10           2.0               0           3       NaN   \n7                10           4.0               0           8       NaN   \n8                 9           8.0               T           8      Rain   \n9                 4           NaN             1.8           7      Rain   \n10               10           NaN               0           1       NaN   \n11               10           6.0               T           4       NaN   \n14                9           5.0               T           2       NaN   \n15                8           7.0            0.24           7      Rain   \n16                8           6.0            0.05           6  Fog-Snow   \n19               10           6.0               0           2       NaN   \n20               10           6.0               0           1       NaN   \n24               10           3.0               0           2       NaN   \n25               10           7.0               0           2       NaN   \n26               10           7.0               T           3      Rain   \n27               10           5.0               0           1       NaN   \n28               10           8.0               0           4       NaN   \n29               10           7.0               0           0       NaN   \n30               10           5.0               0           0       NaN   \n\n    WindDirDegrees  \n0              281  \n1              275  \n2              277  \n5              259  \n6              293  \n7               79  \n8               76  \n9              109  \n10             289  \n11             235  \n14             101  \n15             340  \n16             345  \n19             302  \n20             312  \n24             286  \n25             244  \n26             311  \n27             234  \n28             298  \n29             257  \n30             241  "
                    },
                    "execution_count": 13,
                    "metadata": {},
                    "output_type": "execute_result"
                }
            ],
            "source": [
                "dados[dados[\"Temperature\"] > 30] "
            ]
        },
        {
            "cell_type": "code",
            "execution_count": 19,
            "metadata": {
                "azdata_cell_guid": "0b5d3cab-9db7-483a-880b-5dee54df4598"
            },
            "outputs": [
                {
                    "data": {
                        "text/plain": "8      1/9/2016\n9     1/10/2016\n15    1/16/2016\n26    1/27/2016\nName: EST, dtype: object"
                    },
                    "execution_count": 19,
                    "metadata": {},
                    "output_type": "execute_result"
                }
            ],
            "source": [
                "dados['EST'][dados['Events'] =='Rain']"
            ]
        }
    ]
}