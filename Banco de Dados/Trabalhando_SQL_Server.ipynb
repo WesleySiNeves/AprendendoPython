{
    "metadata": {
        "kernelspec": {
            "name": "python3",
            "display_name": "Python 3"
        },
        "language_info": {
            "name": "python",
            "version": "3.7.0-final",
            "mimetype": "text/x-python",
            "codemirror_mode": {
                "name": "ipython",
                "version": 3
            },
            "pygments_lexer": "ipython3",
            "nbconvert_exporter": "python",
            "file_extension": ".py"
        }
    },
    "nbformat_minor": 2,
    "nbformat": 4,
    "cells": [
        {
            "cell_type": "markdown",
            "metadata": {
                "azdata_cell_guid": "33c1aea4-2bfd-426a-8c79-510f9c5abc1a"
            },
            "source": [
                "## Bibliotecas"
            ]
        },
        {
            "cell_type": "code",
            "execution_count": 1,
            "metadata": {},
            "outputs": [],
            "source": [
                "import pyodbc as PDB  # Drive para conexão com banco de dados\n",
                "import pandas  as pd\n"
            ]
        },
        {
            "cell_type": "markdown",
            "metadata": {
                "azdata_cell_guid": "c9227bff-1dca-483e-8e54-f29527ca32d5"
            },
            "source": [
                "## Variaveis\r\n"
            ]
        },
        {
            "cell_type": "code",
            "execution_count": 2,
            "metadata": {},
            "outputs": [],
            "source": [
                "server = '?'\n",
                "database = '?'\n",
                "username = '?'\n",
                "password = '?'\n",
                "driver= '{ODBC Driver 17 for SQL Server}'\n",
                "\n",
                "\n",
                "\n",
                "diretorio= 'D:\\diferença depreciação implanta.xlsx'"
            ]
        },
        {
            "cell_type": "code",
            "execution_count": 3,
            "metadata": {},
            "outputs": [],
            "source": [
                "## Campos do dataframe\n",
                "# criar uma tabela no banco de dados\n",
                "\n",
                "# CREATE TABLE Patrimonio.Planilha\n",
                "# (\n",
                "# [Código] VARCHAR(30),\n",
                "#  [Data Aquisição/Reavaliação] DATE,\n",
                "#  [Valor Atual] DECIMAL(18,2),\n",
                "#  [% Residual] DECIMAL(18,2),\n",
                "#  [Vida util em anos] INT\t,\n",
                "#  [% Depreciação]DECIMAL(18,2),\n",
                "#  [Valor Residual] DECIMAL(18,3),\n",
                "#  [Base de Calculo Depreciação] DECIMAL(18,2),\n",
                "#  [Data Depreciação] DATE,\n",
                "#  [Valor Depreciação mensal] DECIMAL(18,2),\n",
                "#  [Valor Implanta] DECIMAL(18,2),\n",
                "#  [Diferença controle-Implanta] DECIMAL(18,2)\n",
                "\n",
                "# )\n",
                "\n",
                "dados = pd.read_excel(diretorio)"
            ]
        },
        {
            "cell_type": "code",
            "execution_count": 4,
            "metadata": {},
            "outputs": [
                {
                    "data": {
                        "text/plain": "['Código',\n 'Data Aquisição/Reavaliação',\n 'Valor Atual',\n '% Residual',\n 'Vida util em anos',\n '% Depreciação',\n 'Valor Residual',\n 'Base de Calculo Depreciação',\n 'Data Depreciação',\n 'Valor Depreciação mensal',\n 'Valor Implanta',\n 'Diferença controle-Implanta']"
                    },
                    "execution_count": 4,
                    "metadata": {},
                    "output_type": "execute_result"
                }
            ],
            "source": [
                "list(dados)\n",
                "\n"
            ]
        },
        {
            "cell_type": "code",
            "execution_count": 5,
            "metadata": {},
            "outputs": [
                {
                    "data": {
                        "text/plain": "(2775, 12)"
                    },
                    "execution_count": 5,
                    "metadata": {},
                    "output_type": "execute_result"
                }
            ],
            "source": [
                "dados.shape\n",
                "\n"
            ]
        },
        {
            "cell_type": "code",
            "execution_count": 6,
            "metadata": {},
            "outputs": [],
            "source": [
                "## Cria a conexão com o banco de dados\n",
                "conexao = PDB.connect('DRIVER='+driver+';SERVER='+server+';PORT=1433;DATABASE='+database+';UID='+username+';PWD='+ password)"
            ]
        },
        {
            "cell_type": "code",
            "execution_count": 7,
            "metadata": {},
            "outputs": [],
            "source": [
                "cursor = conexao.cursor()\n",
                "\n",
                "for index,row in dados.iterrows():\n",
                "    sql = \"INSERT INTO Patrimonio.Planilha  VALUES (?, ?, ?, ?,?, ?, ?, ?, ?, ?, ?, ?)\"\n",
                "    cursor.execute(sql, (row['Código'],row['Data Aquisição/Reavaliação'],row['Valor Atual'],row['% Residual'],row['Vida util em anos'],row['% Depreciação'],row['Valor Residual'],row['Base de Calculo Depreciação'],row['Data Depreciação'],row['Valor Depreciação mensal'],row['Valor Implanta'],row['Diferença controle-Implanta']))\n",
                "    conexao.commit()\n",
                "   \n",
                "cursor.close()\n",
                "conexao.close()"
            ]
        },
        {
            "cell_type": "code",
            "execution_count": 10,
            "metadata": {},
            "outputs": [
                {
                    "data": {
                        "text/html": "<div>\n<style scoped>\n    .dataframe tbody tr th:only-of-type {\n        vertical-align: middle;\n    }\n\n    .dataframe tbody tr th {\n        vertical-align: top;\n    }\n\n    .dataframe thead th {\n        text-align: right;\n    }\n</style>\n<table border=\"1\" class=\"dataframe\">\n  <thead>\n    <tr style=\"text-align: right;\">\n      <th></th>\n      <th>Código</th>\n      <th>Data Aquisição/Reavaliação</th>\n      <th>Valor Atual</th>\n      <th>% Residual</th>\n      <th>Vida util em anos</th>\n      <th>% Depreciação</th>\n      <th>Valor Residual</th>\n      <th>Base de Calculo Depreciação</th>\n      <th>Data Depreciação</th>\n      <th>Valor Depreciação mensal</th>\n      <th>Valor Implanta</th>\n      <th>Diferença controle-Implanta</th>\n    </tr>\n  </thead>\n  <tbody>\n    <tr>\n      <th>0</th>\n      <td>1157</td>\n      <td>2019-12-31</td>\n      <td>245.87</td>\n      <td>0.1</td>\n      <td>10</td>\n      <td>0.1</td>\n      <td>24.587</td>\n      <td>221.28</td>\n      <td>2020-01-31</td>\n      <td>1.84</td>\n      <td>3.07</td>\n      <td>-1.23</td>\n    </tr>\n    <tr>\n      <th>1</th>\n      <td>1198</td>\n      <td>2019-12-31</td>\n      <td>135.32</td>\n      <td>0.1</td>\n      <td>10</td>\n      <td>0.1</td>\n      <td>13.532</td>\n      <td>121.79</td>\n      <td>2020-01-31</td>\n      <td>1.01</td>\n      <td>1.69</td>\n      <td>-0.68</td>\n    </tr>\n  </tbody>\n</table>\n</div>",
                        "text/plain": "   Código Data Aquisição/Reavaliação  Valor Atual  % Residual  \\\n0    1157                 2019-12-31       245.87         0.1   \n1    1198                 2019-12-31       135.32         0.1   \n\n   Vida util em anos  % Depreciação  Valor Residual  \\\n0                 10            0.1          24.587   \n1                 10            0.1          13.532   \n\n   Base de Calculo Depreciação Data Depreciação  Valor Depreciação mensal  \\\n0                       221.28       2020-01-31                      1.84   \n1                       121.79       2020-01-31                      1.01   \n\n   Valor Implanta  Diferença controle-Implanta  \n0            3.07                        -1.23  \n1            1.69                        -0.68  "
                    },
                    "execution_count": 10,
                    "metadata": {},
                    "output_type": "execute_result"
                }
            ],
            "source": [
                "dados.head(2)\n"
            ]
        }
    ]
}