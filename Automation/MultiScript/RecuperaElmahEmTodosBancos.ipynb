{
 "metadata": {
  "language_info": {
   "codemirror_mode": {
    "name": "ipython",
    "version": 3
   },
   "file_extension": ".py",
   "mimetype": "text/x-python",
   "name": "python",
   "nbconvert_exporter": "python",
   "pygments_lexer": "ipython3",
   "version": "3.8.5-final"
  },
  "orig_nbformat": 2,
  "kernelspec": {
   "name": "python3",
   "display_name": "Python 3.8.5 64-bit (conda)",
   "metadata": {
    "interpreter": {
     "hash": "4f5fd65116d98c778731dcaf9e4b589b7136819a97f5eed575b66b67955b7fbe"
    }
   }
  }
 },
 "nbformat": 4,
 "nbformat_minor": 2,
 "cells": [
  {
   "source": [
    "## importação dos pacotes\n"
   ],
   "cell_type": "markdown",
   "metadata": {}
  },
  {
   "cell_type": "code",
   "execution_count": 1,
   "metadata": {},
   "outputs": [],
   "source": [
    "import pyodbc as PDB  # Drive para conexão com banco de dados\n",
    "import pandas  as pd\n",
    "import sys\n",
    "import traceback\n",
    "from datetime import date\n"
   ]
  },
  {
   "source": [
    "## variaveis de controle"
   ],
   "cell_type": "markdown",
   "metadata": {}
  },
  {
   "cell_type": "code",
   "execution_count": 2,
   "metadata": {},
   "outputs": [],
   "source": [
    "server_target = 'rgprd-sqlsrv-prd01.database.windows.net'\n",
    "database_master = 'master'\n",
    "username_server_target = 'implanta.net'\n",
    "password_target = 'M@st3rP0w3r@zur3Prd'\n",
    "driver= '{ODBC Driver 17 for SQL Server}'\n",
    "\n",
    "server_source ='DS10\\MSSQLSERVER2017'\n",
    "database_source =\"Elmah\"\n",
    "user_source =\"wesley\"\n",
    "password_source =\"M@st3rP0w3r@zur3Dev\"\n",
    "\n",
    "dados_df = pd.DataFrame()\n",
    "\n",
    "data_atual = date.today()\n",
    "\n"
   ]
  },
  {
   "source": [
    "## Utils\n"
   ],
   "cell_type": "markdown",
   "metadata": {}
  },
  {
   "cell_type": "code",
   "execution_count": 3,
   "metadata": {},
   "outputs": [],
   "source": [
    "def get_conection(driver,server,database,username,password):\n",
    "    _conexao = PDB.connect('DRIVER='+driver+';SERVER='+server+';PORT=1433;DATABASE='+database+';UID='+username+';PWD='+ password)\n",
    "    return _conexao  "
   ]
  },
  {
   "source": [
    "## Motodo para executar o select em cada banco de dados"
   ],
   "cell_type": "markdown",
   "metadata": {}
  },
  {
   "cell_type": "code",
   "execution_count": 4,
   "metadata": {},
   "outputs": [],
   "source": [
    "def executa_sql_get_elmah(database_name):\n",
    "    dados = pd.DataFrame()\n",
    "    try:\n",
    "        _con = get_conection(driver,server_target,database_name,username_server_target,password_target)\n",
    "        \n",
    "        query =\" EXEC dbo.GetElmahErrosOnAplication\"\n",
    "        \n",
    "\n",
    "        SQL_exec_procedure = pd.read_sql_query(query,_con)\n",
    "\n",
    "        dados = pd.DataFrame(SQL_exec_procedure, columns=['ErrorId','Application','Host','Type','Source','Message','User','StatusCode', \n",
    "         'TimeUtc','AllXml','ServerName'])\n",
    "         \n",
    "        ##dados.set_index('ErrorId',inplace=True)\n",
    "        _con.close() \n",
    "        return dados\n",
    "\n",
    "    except TypeError:\n",
    "        _con.close()\n",
    "    return dados\n",
    "\n",
    "\n",
    "    "
   ]
  },
  {
   "source": [
    "## executa teste"
   ],
   "cell_type": "markdown",
   "metadata": {}
  },
  {
   "cell_type": "code",
   "execution_count": 9,
   "metadata": {},
   "outputs": [],
   "source": [
    "dados =  executa_sql_get_elmah('crea-sp.implanta.net.br')"
   ]
  },
  {
   "cell_type": "code",
   "execution_count": 6,
   "metadata": {},
   "outputs": [
    {
     "output_type": "execute_result",
     "data": {
      "text/plain": [
       "ErrorId        1123\n",
       "Application    1123\n",
       "Host           1123\n",
       "Type           1123\n",
       "Source         1123\n",
       "Message        1123\n",
       "User           1123\n",
       "StatusCode     1123\n",
       "TimeUtc        1123\n",
       "AllXml         1123\n",
       "ServerName     1123\n",
       "dtype: int64"
      ]
     },
     "metadata": {},
     "execution_count": 6
    }
   ],
   "source": [
    "dados.count()"
   ]
  },
  {
   "cell_type": "code",
   "execution_count": 10,
   "metadata": {},
   "outputs": [],
   "source": [
    "\n",
    "dados = dados[~dados['Message'].str.startswith(\"Execution\")] # remove os erros do Hangfire\n",
    "\n",
    "dados = dados[~dados['Message'].str.startswith(\"Configuração do parcelamento não informada.\")] # Remove os erros de migração\n",
    "\n",
    "dados = dados[~dados['Message'].str.startswith(\"payment_type\")] # Remove as mensagens de cartão de creditos\n",
    "\n",
    "dados = dados[~dados['Message'].str.contains(\"order_number\")] # Remove as mensagens de cartão de creditos\n",
    "\n",
    "\n",
    "\n",
    "\n"
   ]
  },
  {
   "cell_type": "code",
   "execution_count": 8,
   "metadata": {},
   "outputs": [
    {
     "output_type": "execute_result",
     "data": {
      "text/plain": [
       "                                ErrorId Application        Host  \\\n",
       "1  C5F0B2BD-03D5-4DAA-9C94-C56AD231C6D0       Logon  PRD-CREA-1   \n",
       "2  B990F57F-50B7-4747-8E7C-61EF0147157B       Logon  PRD-CREA-1   \n",
       "3  B925DBC4-0873-4511-9BF7-EEBFDC899BAE     Siscont  PRD-CREA-1   \n",
       "4  C379B743-1180-417C-9D8B-A16A66CB95B3       Logon  PRD-CREA-1   \n",
       "7  A046437E-4ACF-4862-A217-0197437FAFA3     Siscont  PRD-CREA-1   \n",
       "\n",
       "                                              Type  \\\n",
       "1               System.Data.SqlClient.SqlException   \n",
       "2  System.Transactions.TransactionAbortedException   \n",
       "3                    System.NullReferenceException   \n",
       "4               System.Data.SqlClient.SqlException   \n",
       "7                         System.ArgumentException   \n",
       "\n",
       "                         Source  \\\n",
       "1  .Net SqlClient Data Provider   \n",
       "2           System.Transactions   \n",
       "3              App_Web_uskiekn0   \n",
       "4  .Net SqlClient Data Provider   \n",
       "7               Newtonsoft.Json   \n",
       "\n",
       "                                             Message       User  StatusCode  \\\n",
       "1  Transaction (Process ID 114) was deadlocked on...                      0   \n",
       "2                       The transaction has aborted.                    500   \n",
       "3  Object reference not set to an instance of an ...  VANDETEJO         500   \n",
       "4  Transaction (Process ID 424) was deadlocked on...                      0   \n",
       "7  Could not cast or convert from System.String t...   LENIRADM         500   \n",
       "\n",
       "                  TimeUtc                                             AllXml  \\\n",
       "1 2021-02-08 11:40:19.423  <error\\r\\n  application=\"Logon\"\\r\\n  host=\"PRD...   \n",
       "2 2021-02-08 11:40:19.500  <error\\r\\n  application=\"Logon\"\\r\\n  host=\"PRD...   \n",
       "3 2021-02-08 19:08:34.657  <error\\r\\n  application=\"Siscont\"\\r\\n  host=\"P...   \n",
       "4 2021-02-09 10:30:04.083  <error\\r\\n  application=\"Logon\"\\r\\n  host=\"PRD...   \n",
       "7 2021-02-08 11:47:19.217  <error\\r\\n  application=\"Siscont\"\\r\\n  host=\"P...   \n",
       "\n",
       "                ServerName  \n",
       "1  crea-sp.implanta.net.br  \n",
       "2  crea-sp.implanta.net.br  \n",
       "3  crea-sp.implanta.net.br  \n",
       "4  crea-sp.implanta.net.br  \n",
       "7  crea-sp.implanta.net.br  "
      ],
      "text/html": "<div>\n<style scoped>\n    .dataframe tbody tr th:only-of-type {\n        vertical-align: middle;\n    }\n\n    .dataframe tbody tr th {\n        vertical-align: top;\n    }\n\n    .dataframe thead th {\n        text-align: right;\n    }\n</style>\n<table border=\"1\" class=\"dataframe\">\n  <thead>\n    <tr style=\"text-align: right;\">\n      <th></th>\n      <th>ErrorId</th>\n      <th>Application</th>\n      <th>Host</th>\n      <th>Type</th>\n      <th>Source</th>\n      <th>Message</th>\n      <th>User</th>\n      <th>StatusCode</th>\n      <th>TimeUtc</th>\n      <th>AllXml</th>\n      <th>ServerName</th>\n    </tr>\n  </thead>\n  <tbody>\n    <tr>\n      <th>1</th>\n      <td>C5F0B2BD-03D5-4DAA-9C94-C56AD231C6D0</td>\n      <td>Logon</td>\n      <td>PRD-CREA-1</td>\n      <td>System.Data.SqlClient.SqlException</td>\n      <td>.Net SqlClient Data Provider</td>\n      <td>Transaction (Process ID 114) was deadlocked on...</td>\n      <td></td>\n      <td>0</td>\n      <td>2021-02-08 11:40:19.423</td>\n      <td>&lt;error\\r\\n  application=\"Logon\"\\r\\n  host=\"PRD...</td>\n      <td>crea-sp.implanta.net.br</td>\n    </tr>\n    <tr>\n      <th>2</th>\n      <td>B990F57F-50B7-4747-8E7C-61EF0147157B</td>\n      <td>Logon</td>\n      <td>PRD-CREA-1</td>\n      <td>System.Transactions.TransactionAbortedException</td>\n      <td>System.Transactions</td>\n      <td>The transaction has aborted.</td>\n      <td></td>\n      <td>500</td>\n      <td>2021-02-08 11:40:19.500</td>\n      <td>&lt;error\\r\\n  application=\"Logon\"\\r\\n  host=\"PRD...</td>\n      <td>crea-sp.implanta.net.br</td>\n    </tr>\n    <tr>\n      <th>3</th>\n      <td>B925DBC4-0873-4511-9BF7-EEBFDC899BAE</td>\n      <td>Siscont</td>\n      <td>PRD-CREA-1</td>\n      <td>System.NullReferenceException</td>\n      <td>App_Web_uskiekn0</td>\n      <td>Object reference not set to an instance of an ...</td>\n      <td>VANDETEJO</td>\n      <td>500</td>\n      <td>2021-02-08 19:08:34.657</td>\n      <td>&lt;error\\r\\n  application=\"Siscont\"\\r\\n  host=\"P...</td>\n      <td>crea-sp.implanta.net.br</td>\n    </tr>\n    <tr>\n      <th>4</th>\n      <td>C379B743-1180-417C-9D8B-A16A66CB95B3</td>\n      <td>Logon</td>\n      <td>PRD-CREA-1</td>\n      <td>System.Data.SqlClient.SqlException</td>\n      <td>.Net SqlClient Data Provider</td>\n      <td>Transaction (Process ID 424) was deadlocked on...</td>\n      <td></td>\n      <td>0</td>\n      <td>2021-02-09 10:30:04.083</td>\n      <td>&lt;error\\r\\n  application=\"Logon\"\\r\\n  host=\"PRD...</td>\n      <td>crea-sp.implanta.net.br</td>\n    </tr>\n    <tr>\n      <th>7</th>\n      <td>A046437E-4ACF-4862-A217-0197437FAFA3</td>\n      <td>Siscont</td>\n      <td>PRD-CREA-1</td>\n      <td>System.ArgumentException</td>\n      <td>Newtonsoft.Json</td>\n      <td>Could not cast or convert from System.String t...</td>\n      <td>LENIRADM</td>\n      <td>500</td>\n      <td>2021-02-08 11:47:19.217</td>\n      <td>&lt;error\\r\\n  application=\"Siscont\"\\r\\n  host=\"P...</td>\n      <td>crea-sp.implanta.net.br</td>\n    </tr>\n  </tbody>\n</table>\n</div>"
     },
     "metadata": {},
     "execution_count": 8
    }
   ],
   "source": []
  },
  {
   "source": [
    "## Conecta no servidor target e source "
   ],
   "cell_type": "markdown",
   "metadata": {}
  },
  {
   "cell_type": "code",
   "execution_count": 11,
   "metadata": {},
   "outputs": [],
   "source": [
    "database = 'master'\n",
    "\n",
    "conexao =get_conection(driver,server_target,database,username_server_target,password_target)\n",
    "\n",
    "target_conection =get_conection(driver,server_source,database_source,user_source,password_source)\n",
    " "
   ]
  },
  {
   "source": [
    "## Testa a Conexão com Source"
   ],
   "cell_type": "markdown",
   "metadata": {}
  },
  {
   "cell_type": "code",
   "execution_count": 12,
   "metadata": {
    "tags": []
   },
   "outputs": [
    {
     "output_type": "stream",
     "name": "stdout",
     "text": [
      "Microsoft SQL Server 2017 (RTM) - 14.0.1000.169 (X64) \n\tAug 22 2017 17:04:49 \n\tCopyright (C) 2017 Microsoft Corporation\n\tDeveloper Edition (64-bit) on Windows 10 Pro 10.0 <X64> (Build 18362: ) (Hypervisor)\n\n"
     ]
    }
   ],
   "source": [
    "cursor = target_conection.cursor()\n",
    "\n",
    "\n",
    "cursor.execute(\"SELECT @@Version\") \n",
    "row = cursor.fetchone() \n",
    "while row: \n",
    "    print(row[0])\n",
    "    row = cursor.fetchone()\n",
    "\n",
    "cursor.close()"
   ]
  },
  {
   "source": [
    "## Monta a query para ler todos so bancos de dados"
   ],
   "cell_type": "markdown",
   "metadata": {}
  },
  {
   "cell_type": "code",
   "execution_count": 13,
   "metadata": {},
   "outputs": [],
   "source": [
    "SQL_Query = pd.read_sql_query(\n",
    "'''SELECT  D.database_id,D.name FROM  sys.databases AS D\n",
    " order by D.database_id''', conexao)"
   ]
  },
  {
   "source": [
    "##Monta o DataFrame"
   ],
   "cell_type": "markdown",
   "metadata": {}
  },
  {
   "cell_type": "code",
   "execution_count": 14,
   "metadata": {},
   "outputs": [],
   "source": [
    "databases = pd.DataFrame(SQL_Query, columns=['database_id','name'])"
   ]
  },
  {
   "cell_type": "code",
   "execution_count": 15,
   "metadata": {},
   "outputs": [
    {
     "output_type": "execute_result",
     "data": {
      "text/plain": [
       "database_id    509\n",
       "name           509\n",
       "dtype: int64"
      ]
     },
     "metadata": {},
     "execution_count": 15
    }
   ],
   "source": [
    "databases.count()"
   ]
  },
  {
   "source": [
    "## Executa um filtro para executar as querys somente nos databases selecionados"
   ],
   "cell_type": "markdown",
   "metadata": {}
  },
  {
   "cell_type": "code",
   "execution_count": 16,
   "metadata": {},
   "outputs": [],
   "source": [
    "bancos_filtrados = databases[~databases['name'].str.contains(\"master|Manager|ajuda|Conversor|conversor|Copy|DNE|automationjobs|Configuracao|rglab|ESPELHO|apresentacao|COPY|Homologacao|EXCLUIR|202|PreMig|conversor|treinamento|patrimonio\")]"
   ]
  },
  {
   "cell_type": "code",
   "execution_count": 17,
   "metadata": {},
   "outputs": [
    {
     "output_type": "execute_result",
     "data": {
      "text/plain": [
       "database_id    411\n",
       "name           411\n",
       "dtype: int64"
      ]
     },
     "metadata": {},
     "execution_count": 17
    }
   ],
   "source": [
    "bancos_filtrados.count()"
   ]
  },
  {
   "cell_type": "code",
   "execution_count": 24,
   "metadata": {},
   "outputs": [
    {
     "output_type": "execute_result",
     "data": {
      "text/plain": [
       "     database_id                      name\n",
       "280          292  coren-rs.implanta.net.br\n",
       "328          341    crf-se.implanta.net.br\n",
       "107          111  coren-go.implanta.net.br\n",
       "310          322    crp-se.implanta.net.br\n",
       "302          314    crp-rs.implanta.net.br\n",
       "224          236   crfa-mg.implanta.net.br\n",
       "243          255   crfa-sp.implanta.net.br\n",
       "189          195   crmv-pa.implanta.net.br\n",
       "88            92    cau-pi.implanta.net.br\n",
       "270          282    crf-mg.implanta.net.br"
      ],
      "text/html": "<div>\n<style scoped>\n    .dataframe tbody tr th:only-of-type {\n        vertical-align: middle;\n    }\n\n    .dataframe tbody tr th {\n        vertical-align: top;\n    }\n\n    .dataframe thead th {\n        text-align: right;\n    }\n</style>\n<table border=\"1\" class=\"dataframe\">\n  <thead>\n    <tr style=\"text-align: right;\">\n      <th></th>\n      <th>database_id</th>\n      <th>name</th>\n    </tr>\n  </thead>\n  <tbody>\n    <tr>\n      <th>280</th>\n      <td>292</td>\n      <td>coren-rs.implanta.net.br</td>\n    </tr>\n    <tr>\n      <th>328</th>\n      <td>341</td>\n      <td>crf-se.implanta.net.br</td>\n    </tr>\n    <tr>\n      <th>107</th>\n      <td>111</td>\n      <td>coren-go.implanta.net.br</td>\n    </tr>\n    <tr>\n      <th>310</th>\n      <td>322</td>\n      <td>crp-se.implanta.net.br</td>\n    </tr>\n    <tr>\n      <th>302</th>\n      <td>314</td>\n      <td>crp-rs.implanta.net.br</td>\n    </tr>\n    <tr>\n      <th>224</th>\n      <td>236</td>\n      <td>crfa-mg.implanta.net.br</td>\n    </tr>\n    <tr>\n      <th>243</th>\n      <td>255</td>\n      <td>crfa-sp.implanta.net.br</td>\n    </tr>\n    <tr>\n      <th>189</th>\n      <td>195</td>\n      <td>crmv-pa.implanta.net.br</td>\n    </tr>\n    <tr>\n      <th>88</th>\n      <td>92</td>\n      <td>cau-pi.implanta.net.br</td>\n    </tr>\n    <tr>\n      <th>270</th>\n      <td>282</td>\n      <td>crf-mg.implanta.net.br</td>\n    </tr>\n  </tbody>\n</table>\n</div>"
     },
     "metadata": {},
     "execution_count": 24
    }
   ],
   "source": [
    "bancos_filtrados.sample(10)"
   ]
  },
  {
   "source": [
    "##Executa um for each para cada coluna datetime2"
   ],
   "cell_type": "markdown",
   "metadata": {}
  },
  {
   "cell_type": "code",
   "execution_count": 18,
   "metadata": {},
   "outputs": [],
   "source": [
    "target_conection =get_conection(driver,server_source,database_source,user_source,password_source)"
   ]
  },
  {
   "cell_type": "code",
   "execution_count": 26,
   "metadata": {},
   "outputs": [],
   "source": [
    "def insertElmah_intoTarget(data,target_conection):\n",
    "    cursor = target_conection.cursor()\n",
    "    \n",
    "    for i,row in data.iterrows():\n",
    "        sql =\"\"\n",
    "        sql = (\"INSERT INTO Staging.ELMAH_Error(ErrorId,Application,Host,Type,Source,Message,[User],StatusCode,TimeUtc,AllXml,ServerName)\"\n",
    "        \"SELECT '{0}', '{1}' ,'{2}','{3}','{4}','{5}','{6}',{7},'{8}',CAST('{9}' AS XML), '{10}' \"\n",
    "        \" WHERE NOT EXISTS(SELECT 1 FROM Staging.ELMAH_Error AS EE WHERE EE.ErrorId ='{0}' )\").format(row[\"ErrorId\"],\n",
    "        row[\"Application\"],row[\"Host\"],row[\"Type\"],row['Source'],row[\"Message\"].replace(\"'\",\"''\"),row[\"User\"],\n",
    "        row[\"StatusCode\"],row[\"TimeUtc\"].strftime(\"%Y-%m-%d %H:%M:%S\"),row[\"AllXml\"].replace(\"'\",\"''\"),row[\"ServerName\"])\n",
    "        cursor.execute(sql)\n",
    "         \n",
    "    # print(sql)\n",
    "# the connection is not autocommitted by default, so we must commit to save our # changes \n",
    "    target_conection.commit()\n",
    "    #return sql\n"
   ]
  },
  {
   "cell_type": "code",
   "execution_count": 23,
   "metadata": {
    "tags": []
   },
   "outputs": [],
   "source": [
    "insertElmah_intoTarget(dados,target_conection)"
   ]
  },
  {
   "cell_type": "code",
   "execution_count": 27,
   "metadata": {
    "tags": []
   },
   "outputs": [
    {
     "output_type": "stream",
     "name": "stdout",
     "text": [
      "caa-ma.implanta.net.br Total: 0\n",
      "cau-ac.implanta.net.br Total: 15\n",
      "cau-al.implanta.net.br Total: 10\n",
      "cau-am.implanta.net.br Total: 4\n",
      "cau-ap.implanta.net.br Total: 1\n",
      "cau-ba.implanta.net.br Total: 4\n",
      "cau-br.implanta.net.br Total: 35\n",
      "cau-ce.implanta.net.br Total: 5\n",
      "cau-df.implanta.net.br Total: 19\n",
      "cau-es.implanta.net.br Total: 7\n",
      "cau-go.implanta.net.br Total: 7\n",
      "cau-ma.implanta.net.br Total: 29\n",
      "cau-mg.implanta.net.br Total: 30\n",
      "cau-ms.implanta.net.br Total: 4\n",
      "cau-mt.implanta.net.br Total: 27\n",
      "cau-pa.implanta.net.br Total: 10\n",
      "cau-pb.implanta.net.br Total: 15\n",
      "cau-pe.implanta.net.br Total: 9\n",
      "cau-pi.implanta.net.br Total: 4\n",
      "cau-pr.implanta.net.br Total: 30\n",
      "cau-rj.implanta.net.br Total: 8\n",
      "cau-rn.implanta.net.br Total: 2\n",
      "cau-ro.implanta.net.br Total: 11\n",
      "cau-rr.implanta.net.br Total: 1\n",
      "cau-rs.implanta.net.br Total: 20\n",
      "cau-sc.implanta.net.br Total: 43\n",
      "cau-se.implanta.net.br Total: 19\n",
      "cau-sp.implanta.net.br Total: 47\n",
      "cau-to.implanta.net.br Total: 0\n",
      "cfa-br.implanta.net.br Total: 0\n",
      "cfbm-br.implanta.net.br Total: 0\n",
      "cfess-br.implanta.net.br Total: 12\n",
      "cff-br.implanta.net.br Total: 53\n",
      "cffa-br.implanta.net.br Total: 19\n",
      "cfm-br.implanta.net.br Total: 32\n",
      "cfmv-br.implanta.net.br Total: 1\n",
      "cfn-br.implanta.net.br Total: 5\n",
      "cfo-br.implanta.net.br Total: 7\n",
      "cfp-br.implanta.net.br Total: 13\n",
      "cfq-br.implanta.net.br Total: 15\n",
      "cft-br.implanta.net.br Total: 74\n",
      "cfta-br.implanta.net.br Total: 2\n",
      "codhab-df.implanta.net.br Total: 0\n",
      "cofen-br.implanta.net.br Total: 95\n",
      "coffito-br.implanta.net.br Total: 51\n",
      "confea-br.implanta.net.br Total: 44\n",
      "confere-br.implanta.net.br Total: 52\n",
      "conferp-br.implanta.net.br Total: 7\n",
      "conre-ba.implanta.net.br Total: 20\n",
      "conre-df.implanta.net.br Total: 9\n",
      "conrerp-ba.implanta.net.br Total: 12\n",
      "conrerp-df.implanta.net.br Total: 3\n",
      "conrerp-mg.implanta.net.br Total: 2\n",
      "conrerp-rj.implanta.net.br Total: 0\n",
      "conrerp-rs.implanta.net.br Total: 0\n",
      "conrerp-sp.implanta.net.br Total: 2\n",
      "consed-df.implanta.net.br Total: 10\n",
      "core-al.implanta.net.br Total: 3\n",
      "core-am.implanta.net.br Total: 39\n",
      "core-ap.implanta.net.br Total: 0\n",
      "core-ba.implanta.net.br Total: 74\n",
      "core-ce.implanta.net.br Total: 33\n",
      "core-df.implanta.net.br Total: 18\n",
      "core-es.implanta.net.br Total: 413\n",
      "core-go.implanta.net.br Total: 18\n",
      "core-ma.implanta.net.br Total: 68\n",
      "core-mg.implanta.net.br Total: 94\n",
      "core-ms.implanta.net.br Total: 42\n",
      "core-mt.implanta.net.br Total: 51\n",
      "core-pa.implanta.net.br Total: 33\n",
      "core-pb.implanta.net.br Total: 45\n",
      "core-pe.implanta.net.br Total: 58\n",
      "core-pi.implanta.net.br Total: 16\n",
      "core-pr.implanta.net.br Total: 261\n",
      "core-rj.implanta.net.br Total: 155\n",
      "core-rn.implanta.net.br Total: 41\n",
      "core-ro.implanta.net.br Total: 18\n",
      "core-rs.implanta.net.br Total: 55\n",
      "core-sc.implanta.net.br Total: 113\n",
      "core-se.implanta.net.br Total: 48\n",
      "core-sp.implanta.net.br Total: 171\n",
      "core-to.implanta.net.br Total: 31\n",
      "corecon-rs.implanta.net.br Total: 0\n",
      "corecon-sp.implanta.net.br Total: 0\n",
      "coren-ac.implanta.net.br Total: 25\n",
      "coren-al.implanta.net.br Total: 56\n",
      "coren-ap.implanta.net.br Total: 32\n",
      "coren-ba.implanta.net.br Total: 259\n",
      "coren-ce.implanta.net.br Total: 63\n",
      "coren-df.implanta.net.br Total: 91\n",
      "coren-es.implanta.net.br Total: 126\n",
      "coren-go.implanta.net.br Total: 37\n",
      "coren-ma.implanta.net.br Total: 67\n",
      "coren-mg.implanta.net.br Total: 240\n",
      "coren-ms.implanta.net.br Total: 41\n",
      "coren-pa.implanta.net.br Total: 64\n",
      "coren-pe.implanta.net.br Total: 90\n",
      "coren-pi.implanta.net.br Total: 99\n",
      "coren-pr.implanta.net.br Total: 99\n",
      "coren-rj.implanta.net.br Total: 161\n",
      "coren-rn.implanta.net.br Total: 66\n",
      "coren-ro.implanta.net.br Total: 44\n",
      "coren-rr.implanta.net.br Total: 26\n",
      "coren-rs.implanta.net.br Total: 75\n",
      "coren-sc.implanta.net.br Total: 105\n",
      "coren-sp.implanta.net.br Total: 266\n",
      "coren-to.implanta.net.br Total: 35\n",
      "cra-ac.implanta.net.br Total: 31\n",
      "cra-al.implanta.net.br Total: 1609\n",
      "cra-am.implanta.net.br Total: 3495\n",
      "cra-ap.implanta.net.br Total: 685\n",
      "cra-ba.implanta.net.br Total: 10033\n",
      "cra-df.implanta.net.br Total: 3715\n",
      "cra-es.implanta.net.br Total: 4298\n",
      "cra-go.implanta.net.br Total: 2956\n",
      "cra-ma.implanta.net.br Total: 2179\n",
      "cra-mg.implanta.net.br Total: 0\n",
      "cra-ms.implanta.net.br Total: 11053\n",
      "cra-mt.implanta.net.br Total: 699\n",
      "cra-pa.implanta.net.br Total: 3902\n",
      "cra-pb.implanta.net.br Total: 1427\n",
      "cra-pe.implanta.net.br Total: 561\n",
      "cra-pi.implanta.net.br Total: 1091\n",
      "cra-pr.implanta.net.br Total: 4091\n",
      "cra-rj.implanta.net.br Total: 0\n",
      "cra-rn.implanta.net.br Total: 1039\n",
      "cra-ro.implanta.net.br Total: 959\n",
      "cra-rr.implanta.net.br Total: 54\n",
      "cra-rs.implanta.net.br Total: 12755\n",
      "cra-sc.implanta.net.br Total: 2941\n",
      "cra-se.implanta.net.br Total: 1155\n",
      "cra-sp.implanta.net.br Total: 11673\n",
      "cra-to.implanta.net.br Total: 680\n",
      "crbm-01.implanta.net.br Total: 206\n",
      "crbm-02.implanta.net.br Total: 0\n",
      "crbm-03.implanta.net.br Total: 0\n",
      "crbm-04.implanta.net.br Total: 0\n",
      "crbm-05.implanta.net.br Total: 0\n",
      "crbm-06.implanta.net.br Total: 1\n",
      "crea-ac.implanta.net.br Total: 21\n",
      "crea-al.implanta.net.br Total: 218\n",
      "crea-am.implanta.net.br Total: 139\n",
      "crea-ap.implanta.net.br Total: 101\n",
      "crea-ba.implanta.net.br Total: 98\n",
      "crea-ce.implanta.net.br Total: 115\n",
      "crea-df.implanta.net.br Total: 94\n",
      "crea-es.implanta.net.br Total: 100\n",
      "crea-go.implanta.net.br Total: 349\n",
      "crea-ma.implanta.net.br Total: 75\n",
      "crea-mg.implanta.net.br Total: 1326\n",
      "crea-ms.implanta.net.br Total: 87\n",
      "crea-mt.implanta.net.br Total: 148\n",
      "crea-pa.implanta.net.br Total: 334\n",
      "crea-pb.implanta.net.br Total: 32\n",
      "crea-pe.implanta.net.br Total: 206\n",
      "crea-pi.implanta.net.br Total: 18\n",
      "crea-pr.implanta.net.br Total: 242\n",
      "crea-rj.implanta.net.br Total: 213\n",
      "crea-rn.implanta.net.br Total: 6\n",
      "crea-ro.implanta.net.br Total: 107\n",
      "crea-rr.implanta.net.br Total: 118\n",
      "crea-rs.implanta.net.br Total: 202\n",
      "crea-sc.implanta.net.br Total: 166\n",
      "crea-se.implanta.net.br Total: 70\n",
      "crea-sp.implanta.net.br Total: 783\n",
      "crea-to.implanta.net.br Total: 627\n",
      "cref-rs.implanta.net.br Total: 17\n",
      "cref-sp.implanta.net.br Total: 33\n",
      "crefito-ba.implanta.net.br Total: 32\n",
      "crefito-ce.implanta.net.br Total: 4\n",
      "crefito-df.implanta.net.br Total: 0\n",
      "crefito-es.implanta.net.br Total: 2\n",
      "crefito-ma.implanta.net.br Total: 17\n",
      "crefito-mg.implanta.net.br Total: 73\n",
      "crefito-ms.implanta.net.br Total: 16\n",
      "crefito-mt.implanta.net.br Total: 17\n",
      "crefito-pa.implanta.net.br Total: 0\n",
      "crefito-pe.implanta.net.br Total: 34\n",
      "crefito-pi.implanta.net.br Total: 1\n",
      "crefito-pr.implanta.net.br Total: 2\n",
      "crefito-rj.implanta.net.br Total: 0\n",
      "crefito-rs.implanta.net.br Total: 20\n",
      "crefito-sc.implanta.net.br Total: 58\n",
      "crefito-sp.implanta.net.br Total: 128\n",
      "cress-ac.implanta.net.br Total: 35\n",
      "cress-al.implanta.net.br Total: 890\n",
      "cress-am.implanta.net.br Total: 3275\n",
      "cress-ap.implanta.net.br Total: 264\n",
      "cress-ba.implanta.net.br Total: 103\n",
      "cress-ce.implanta.net.br Total: 3284\n",
      "cress-df.implanta.net.br Total: 1647\n",
      "cress-es.implanta.net.br Total: 45\n",
      "cress-go.implanta.net.br Total: 2659\n",
      "cress-ma.implanta.net.br Total: 937\n",
      "cress-mg.implanta.net.br Total: 7445\n",
      "cress-ms.implanta.net.br Total: 361\n",
      "cress-mt.implanta.net.br Total: 49\n",
      "cress-pa.implanta.net.br Total: 2059\n",
      "cress-pb.implanta.net.br Total: 74\n",
      "cress-pe.implanta.net.br Total: 1892\n",
      "cress-pi.implanta.net.br Total: 661\n",
      "cress-pr.implanta.net.br Total: 1187\n",
      "cress-rj.implanta.net.br Total: 9262\n",
      "cress-rn.implanta.net.br Total: 971\n",
      "cress-ro.implanta.net.br Total: 204\n",
      "cress-rr.implanta.net.br Total: 422\n",
      "cress-rs.implanta.net.br Total: 18830\n",
      "cress-sc.implanta.net.br Total: 1360\n",
      "cress-se.implanta.net.br Total: 169\n",
      "cress-sp.implanta.net.br Total: 10169\n",
      "cress-to.implanta.net.br Total: 34\n",
      "crf-ac.implanta.net.br Total: 38\n",
      "crf-al.implanta.net.br Total: 42\n",
      "crf-am.implanta.net.br Total: 845\n",
      "crf-ap.implanta.net.br Total: 45\n",
      "crf-ba.implanta.net.br Total: 59\n",
      "crf-ce.implanta.net.br Total: 242\n",
      "crf-df.implanta.net.br Total: 40\n",
      "crf-es.implanta.net.br Total: 71\n",
      "crf-go.implanta.net.br Total: 65\n",
      "crf-ma.implanta.net.br Total: 66\n",
      "crf-mg.implanta.net.br Total: 140\n",
      "crf-ms.implanta.net.br Total: 143\n",
      "crf-mt.implanta.net.br Total: 61\n",
      "crf-pa.implanta.net.br Total: 30\n",
      "crf-pb.implanta.net.br Total: 58\n",
      "crf-pe.implanta.net.br Total: 189\n",
      "crf-pi.implanta.net.br Total: 52\n",
      "crf-pr.implanta.net.br Total: 101\n",
      "crf-rj.implanta.net.br Total: 153\n",
      "crf-rn.implanta.net.br Total: 114\n",
      "crf-ro.implanta.net.br Total: 33\n",
      "crf-rr.implanta.net.br Total: 27\n",
      "crf-rs.implanta.net.br Total: 161\n",
      "crf-sc.implanta.net.br Total: 40\n",
      "crf-se.implanta.net.br Total: 25\n",
      "crf-sp.implanta.net.br Total: 180\n",
      "crf-to.implanta.net.br Total: 63\n",
      "crfa-am.implanta.net.br Total: 17\n",
      "crfa-ce.implanta.net.br Total: 31\n",
      "crfa-go.implanta.net.br Total: 99\n",
      "crfa-mg.implanta.net.br Total: 66\n",
      "crfa-pe.implanta.net.br Total: 111\n",
      "crfa-pr.implanta.net.br Total: 37\n",
      "crfa-rj.implanta.net.br Total: 39\n",
      "crfa-rs.implanta.net.br Total: 56\n",
      "crfa-sp.implanta.net.br Total: 41\n",
      "crm-ac.implanta.net.br Total: 27\n",
      "crm-al.implanta.net.br Total: 55\n",
      "crm-am.implanta.net.br Total: 154\n",
      "crm-ap.implanta.net.br Total: 67\n",
      "crm-ba.implanta.net.br Total: 157\n",
      "crm-ce.implanta.net.br Total: 93\n",
      "crm-df.implanta.net.br Total: 59\n",
      "crm-es.implanta.net.br Total: 88\n",
      "crm-go.implanta.net.br Total: 84\n",
      "crm-ma.implanta.net.br Total: 92\n",
      "crm-mg.implanta.net.br Total: 309\n",
      "crm-ms.implanta.net.br Total: 40\n",
      "crm-mt.implanta.net.br Total: 77\n",
      "crm-pa.implanta.net.br Total: 39\n",
      "crm-pb.implanta.net.br Total: 110\n",
      "crm-pe.implanta.net.br Total: 181\n",
      "crm-pi.implanta.net.br Total: 98\n",
      "crm-pr.implanta.net.br Total: 161\n",
      "crm-rj.implanta.net.br Total: 488\n",
      "crm-rn.implanta.net.br Total: 93\n",
      "crm-ro.implanta.net.br Total: 67\n",
      "crm-rr.implanta.net.br Total: 47\n",
      "crm-rs.implanta.net.br Total: 444\n",
      "crm-sc.implanta.net.br Total: 195\n",
      "crm-se.implanta.net.br Total: 91\n",
      "crm-to.implanta.net.br Total: 138\n",
      "crmv-ac.implanta.net.br Total: 1\n",
      "crmv-al.implanta.net.br Total: 10\n",
      "crmv-am.implanta.net.br Total: 8\n",
      "crmv-ap.implanta.net.br Total: 8\n",
      "crmv-ba.implanta.net.br Total: 83\n",
      "crmv-ce.implanta.net.br Total: 50\n",
      "crmv-df.implanta.net.br Total: 8\n",
      "crmv-es.implanta.net.br Total: 34\n",
      "crmv-go.implanta.net.br Total: 65\n",
      "crmv-ma.implanta.net.br Total: 23\n",
      "crmv-mg.implanta.net.br Total: 174\n",
      "crmv-ms.implanta.net.br Total: 28\n",
      "crmv-mt.implanta.net.br Total: 103\n",
      "crmv-pa.implanta.net.br Total: 12\n",
      "crmv-pb.implanta.net.br Total: 24\n",
      "crmv-pe.implanta.net.br Total: 8\n",
      "crmv-pi.implanta.net.br Total: 34\n",
      "crmv-pr.implanta.net.br Total: 64\n",
      "crmv-rj.implanta.net.br Total: 32\n",
      "crmv-rn.implanta.net.br Total: 17\n",
      "crmv-ro.implanta.net.br Total: 34\n",
      "crmv-rr.implanta.net.br Total: 6\n",
      "crmv-rs.implanta.net.br Total: 101\n",
      "crmv-sc.implanta.net.br Total: 77\n",
      "crmv-se.implanta.net.br Total: 16\n",
      "crmv-sp.implanta.net.br Total: 165\n",
      "crmv-to.implanta.net.br Total: 28\n",
      "crn-04.implanta.net.br Total: 179\n",
      "crn-06.implanta.net.br Total: 7\n",
      "crn-ba.implanta.net.br Total: 53\n",
      "crn-df.implanta.net.br Total: 87\n",
      "crn-mg.implanta.net.br Total: 65\n",
      "crn-pa.implanta.net.br Total: 19\n",
      "crn-pr.implanta.net.br Total: 48\n",
      "crn-rs.implanta.net.br Total: 14\n",
      "crn-sc.implanta.net.br Total: 84\n",
      "crn-sp.implanta.net.br Total: 49\n",
      "cro-ac.implanta.net.br Total: 176\n",
      "cro-al.implanta.net.br Total: 420\n",
      "cro-am.implanta.net.br Total: 884\n",
      "cro-ap.implanta.net.br Total: 236\n",
      "cro-ba.implanta.net.br Total: 21\n",
      "cro-ce.implanta.net.br Total: 5830\n",
      "cro-df.implanta.net.br Total: 2571\n",
      "cro-es.implanta.net.br Total: 6317\n",
      "cro-go.implanta.net.br Total: 5212\n",
      "cro-ma.implanta.net.br Total: 1262\n",
      "cro-mg.implanta.net.br Total: 6220\n",
      "cro-ms.implanta.net.br Total: 1778\n",
      "cro-mt.implanta.net.br Total: 1636\n",
      "cro-pa.implanta.net.br Total: 609\n",
      "cro-pb.implanta.net.br Total: 833\n",
      "cro-pe.implanta.net.br Total: 899\n",
      "cro-pi.implanta.net.br Total: 716\n",
      "cro-pr.implanta.net.br Total: 5150\n",
      "cro-rj.implanta.net.br Total: 38\n",
      "cro-rn.implanta.net.br Total: 835\n",
      "cro-ro.implanta.net.br Total: 1737\n",
      "cro-rr.implanta.net.br Total: 5584\n",
      "cro-rs.implanta.net.br Total: 5938\n",
      "cro-sc.implanta.net.br Total: 3321\n",
      "cro-se.implanta.net.br Total: 325\n",
      "cro-sp.implanta.net.br Total: 67496\n",
      "cro-to.implanta.net.br Total: 1064\n",
      "crp-al.implanta.net.br Total: 3\n",
      "crp-am.implanta.net.br Total: 5\n",
      "crp-ba.implanta.net.br Total: 34\n",
      "crp-ce.implanta.net.br Total: 58\n",
      "crp-df.implanta.net.br Total: 67\n",
      "crp-es.implanta.net.br Total: 64\n",
      "crp-go.implanta.net.br Total: 18\n",
      "crp-ma.implanta.net.br Total: 10\n",
      "crp-mg.implanta.net.br Total: 86\n",
      "crp-ms.implanta.net.br Total: 24\n",
      "crp-mt.implanta.net.br Total: 44\n",
      "crp-pa.implanta.net.br Total: 26\n",
      "crp-pb.implanta.net.br Total: 4\n",
      "crp-pe.implanta.net.br Total: 37\n",
      "crp-pi.implanta.net.br Total: 6\n",
      "crp-pr.implanta.net.br Total: 19\n",
      "crp-rj.implanta.net.br Total: 50\n",
      "crp-rn.implanta.net.br Total: 19\n",
      "crp-rs.implanta.net.br Total: 46\n",
      "crp-sc.implanta.net.br Total: 31\n",
      "crp-se.implanta.net.br Total: 55\n",
      "crp-sp.implanta.net.br Total: 220\n",
      "crp-to.implanta.net.br Total: 7\n",
      "crq-al.implanta.net.br Total: 18\n",
      "crq-am.implanta.net.br Total: 6628\n",
      "crq-ba.implanta.net.br Total: 31\n",
      "crq-ce.implanta.net.br Total: 87\n",
      "crq-es.implanta.net.br Total: 6\n",
      "crq-go.implanta.net.br Total: 153\n",
      "crq-ma.implanta.net.br Total: 47\n",
      "crq-mg.implanta.net.br Total: 0\n",
      "crq-ms.implanta.net.br Total: 35\n",
      "crq-mt.implanta.net.br Total: 596\n",
      "crq-pa.implanta.net.br Total: 4\n",
      "crq-pb.implanta.net.br Total: 30\n",
      "crq-pe.implanta.net.br Total: 57\n",
      "crq-pi.implanta.net.br Total: 14\n",
      "crq-pr.implanta.net.br Total: 74\n",
      "crq-rj.implanta.net.br Total: 155\n",
      "crq-rn.implanta.net.br Total: 49\n",
      "crq-rs.implanta.net.br Total: 6\n",
      "crq-sc.implanta.net.br Total: 20\n",
      "crq-se.implanta.net.br Total: 322\n",
      "crq-sp.implanta.net.br Total: 305\n",
      "crt-01.implanta.net.br Total: 192\n",
      "crt-02.implanta.net.br Total: 72\n",
      "crt-03.implanta.net.br Total: 71\n",
      "crt-04.implanta.net.br Total: 89\n",
      "crt-ba.implanta.net.br Total: 84\n",
      "crt-es.implanta.net.br Total: 53\n",
      "crt-mg.implanta.net.br Total: 56\n",
      "crt-rj.implanta.net.br Total: 109\n",
      "crt-rn.implanta.net.br Total: 29\n",
      "crt-rs.implanta.net.br Total: 35\n",
      "crt-sp.implanta.net.br Total: 221\n",
      "crtr-02.implanta.net.br Total: 45\n",
      "crtr-03.implanta.net.br Total: 40\n",
      "crtr-12.implanta.net.br Total: 3\n",
      "crtr-sp.implanta.net.br Total: 4608\n",
      "oab-ac.implanta.net.br Total: 41\n",
      "oab-al.implanta.net.br Total: 38\n",
      "oab-am.implanta.net.br Total: 120\n",
      "oab-ap.implanta.net.br Total: 1\n",
      "oab-ba.implanta.net.br Total: 51733\n",
      "oab-ce.implanta.net.br Total: 50\n",
      "oab-df.implanta.net.br Total: 229\n",
      "oab-ms.implanta.net.br Total: 50\n",
      "oab-pa.implanta.net.br Total: 222\n",
      "oab-pi.implanta.net.br Total: 33\n",
      "oab-rn.implanta.net.br Total: 65\n",
      "oab-ro.implanta.net.br Total: 0\n",
      "oab-rr.implanta.net.br Total: 0\n",
      "oab-rs.implanta.net.br Total: 350\n",
      "oab-se.implanta.net.br Total: 39\n"
     ]
    }
   ],
   "source": [
    "try:\n",
    "    database =\"\"\n",
    "    for i, linha in bancos_filtrados.sort_values(\"name\").iterrows():\n",
    "        database =linha['name']\n",
    "        retorno = executa_sql_get_elmah(linha['name'])\n",
    "        \n",
    "        # Executa o tratamento dos dados\n",
    "        retorno = retorno[~retorno['Message'].str.startswith(\"Execution\")] # remove os erros do Hangfire\n",
    "\n",
    "        retorno = retorno[~retorno['Message'].str.startswith(\"Configuração do parcelamento não informada.\")] # Remove os erros de migração\n",
    "\n",
    "        retorno = retorno[~retorno['Message'].str.startswith(\"payment_type\")] # Remove as mensagens de cartão de creditos\n",
    "\n",
    "        retorno = retorno[~retorno['Message'].str.contains(\"order_number\")] # Remove as mensagens de cartão de creditos\n",
    "\n",
    "        retorno = retorno[~retorno['Message'].str.contains(\"Monitoramento\")] # Remove as mensagens de cartão de creditos\n",
    "\n",
    "        retorno = retorno[~retorno['Message'].str.contains(\"amount\")] # Remove as mensagens de cartão de creditos\n",
    "\n",
    "        \n",
    "\n",
    "\n",
    "\n",
    "\n",
    "\n",
    "\n",
    "\n",
    "        print(database,\"Total:\",retorno[\"ErrorId\"].count())\n",
    "        comando = insertElmah_intoTarget(retorno,target_conection)\n",
    "\n",
    "except BaseException as ex:\n",
    "    # Get current system exception\n",
    "    ex_type, ex_value, ex_traceback = sys.exc_info()\n",
    "\n",
    "    # Extract unformatter stack traces as tuples\n",
    "    trace_back = traceback.extract_tb(ex_traceback)\n",
    "\n",
    "    # Format stacktrace\n",
    "    stack_trace = list()\n",
    "\n",
    "    for trace in trace_back:\n",
    "        stack_trace.append(\"File : %s , Line : %d, Func.Name : %s, Message : %s\" % (trace[0], trace[1], trace[2], trace[3]))\n",
    "\n",
    "    print(\"Exception type : %s \" % ex_type.__name__)\n",
    "    print(\"Exception message : %s\" %ex_value)\n",
    "    print(\"Stack trace : %s\" %stack_trace)\n",
    "    print(\"database : %s\" %database)\n",
    "    print(linha['name'],tableName,coluna,idregistro)         \n",
    "            \n",
    "            \n",
    "        \n",
    "\n",
    "\n",
    "\n"
   ]
  },
  {
   "source": [
    "target_conection.close()\n",
    "conexao.close()"
   ],
   "cell_type": "code",
   "metadata": {},
   "execution_count": 28,
   "outputs": []
  }
 ]
}