{
 "metadata": {
  "language_info": {
   "codemirror_mode": {
    "name": "ipython",
    "version": 3
   },
   "file_extension": ".py",
   "mimetype": "text/x-python",
   "name": "python",
   "nbconvert_exporter": "python",
   "pygments_lexer": "ipython3",
   "version": "3.8.5-final"
  },
  "orig_nbformat": 2,
  "kernelspec": {
   "name": "python3",
   "display_name": "Python 3.8.5 64-bit (conda)",
   "metadata": {
    "interpreter": {
     "hash": "4f5fd65116d98c778731dcaf9e4b589b7136819a97f5eed575b66b67955b7fbe"
    }
   }
  }
 },
 "nbformat": 4,
 "nbformat_minor": 2,
 "cells": [
  {
   "source": [
    "## importação dos pacotes\n"
   ],
   "cell_type": "markdown",
   "metadata": {}
  },
  {
   "cell_type": "code",
   "execution_count": 1,
   "metadata": {},
   "outputs": [],
   "source": [
    "import pyodbc as PDB  # Drive para conexão com banco de dados\n",
    "import pandas  as pd\n",
    "import sys\n",
    "import traceback\n",
    "from datetime import date\n"
   ]
  },
  {
   "source": [
    "## variaveis de controle"
   ],
   "cell_type": "markdown",
   "metadata": {}
  },
  {
   "cell_type": "code",
   "execution_count": 2,
   "metadata": {},
   "outputs": [],
   "source": [
    "server_target = 'rgprd-sqlsrv-prd01.database.windows.net'\n",
    "database_master = 'master'\n",
    "username_server_target = 'implanta.net'\n",
    "password_target = 'M@st3rP0w3r@zur3Prd'\n",
    "driver= '{ODBC Driver 17 for SQL Server}'\n",
    "\n",
    "server_source ='DS10\\MSSQLSERVER2017'\n",
    "database_source =\"Elmah\"\n",
    "user_source =\"wesley\"\n",
    "password_source =\"M@st3rP0w3r@zur3Dev\"\n",
    "\n",
    "dados_df = pd.DataFrame()\n",
    "\n",
    "data_atual = date.today()\n",
    "\n"
   ]
  },
  {
   "source": [
    "## Utils\n"
   ],
   "cell_type": "markdown",
   "metadata": {}
  },
  {
   "cell_type": "code",
   "execution_count": 3,
   "metadata": {},
   "outputs": [],
   "source": [
    "def get_conection(driver,server,database,username,password):\n",
    "    _conexao = PDB.connect('DRIVER='+driver+';SERVER='+server+';PORT=1433;DATABASE='+database+';UID='+username+';PWD='+ password)\n",
    "    return _conexao  "
   ]
  },
  {
   "source": [
    "## Motodo para executar o select em cada banco de dados"
   ],
   "cell_type": "markdown",
   "metadata": {}
  },
  {
   "cell_type": "code",
   "execution_count": 4,
   "metadata": {},
   "outputs": [],
   "source": [
    "def executa_sql_get_elmah(database_name):\n",
    "    dados = pd.DataFrame()\n",
    "    try:\n",
    "        _con = get_conection(driver,server_target,database_name,username_server_target,password_target)\n",
    "        \n",
    "        query =\" EXEC dbo.GetElmahErrosOnAplication\"\n",
    "        \n",
    "\n",
    "        SQL_exec_procedure = pd.read_sql_query(query,_con)\n",
    "\n",
    "        dados = pd.DataFrame(SQL_exec_procedure, columns=['ErrorId','Application','Host','Type','Source','Message','User','StatusCode', \n",
    "         'TimeUtc','AllXml','ServerName'])\n",
    "         \n",
    "        ##dados.set_index('ErrorId',inplace=True)\n",
    "        _con.close() \n",
    "        return dados\n",
    "\n",
    "    except TypeError:\n",
    "        _con.close()\n",
    "    return dados\n",
    "\n",
    "\n",
    "    "
   ]
  },
  {
   "source": [
    "## executa teste"
   ],
   "cell_type": "markdown",
   "metadata": {}
  },
  {
   "cell_type": "code",
   "execution_count": 5,
   "metadata": {},
   "outputs": [
    {
     "output_type": "execute_result",
     "data": {
      "text/plain": [
       "                                ErrorId          Application           Host  \\\n",
       "0  666E19D6-C981-4757-A0C3-D15561161B46              Siscont  RGPRD-WSVM-02   \n",
       "1  E9EBB2E1-1FBC-4EEE-85A3-882B8A52EC7C              Siscont  RGPRD-WSVM-02   \n",
       "2  08658EF6-68DD-4E3A-9EA2-53CA7CA01068                Logon  RGPRD-WSVM-02   \n",
       "3  13A354F0-ADA2-416F-8AE0-F4D99FE68982                Logon  RGPRD-WSVM-02   \n",
       "4  58D9EF1D-4A17-4348-A552-2CB632C06578  Portal Transpaência  RGPRD-WSVM-02   \n",
       "\n",
       "                                              Type  \\\n",
       "0                                            Error   \n",
       "1                                            Error   \n",
       "2               System.Data.SqlClient.SqlException   \n",
       "3  System.Transactions.TransactionAbortedException   \n",
       "4                         System.Web.HttpException   \n",
       "\n",
       "                         Source  \\\n",
       "0                                 \n",
       "1                   System.Data   \n",
       "2  .Net SqlClient Data Provider   \n",
       "3           System.Transactions   \n",
       "4                System.Web.Mvc   \n",
       "\n",
       "                                             Message User  StatusCode  \\\n",
       "0  Execution DelayedJobScheduler is in the Failed...                0   \n",
       "1  Execution BackgroundServerProcess is still in ...                0   \n",
       "2  Transaction (Process ID 608) was deadlocked on...                0   \n",
       "3                           A transação foi anulada.              500   \n",
       "4  A public action method 'BuscarEntityFaleConosc...              404   \n",
       "\n",
       "                  TimeUtc                                             AllXml  \\\n",
       "0 2020-11-28 17:58:05.620  <error\\r\\n  application=\"Hangfire\"\\r\\n  host=\"...   \n",
       "1 2020-11-28 18:11:43.143  <error\\r\\n  application=\"Hangfire\"\\r\\n  host=\"...   \n",
       "2 2020-11-30 11:13:16.843  <error\\r\\n  application=\"Logon\"\\r\\n  host=\"RGP...   \n",
       "3 2020-11-30 11:13:16.917  <error\\r\\n  application=\"Logon\"\\r\\n  host=\"RGP...   \n",
       "4 2020-12-01 10:42:39.370  <error\\r\\n  application=\"Portal Transpaência\"\\...   \n",
       "\n",
       "                ServerName  \n",
       "0  crea-sp.implanta.net.br  \n",
       "1  crea-sp.implanta.net.br  \n",
       "2  crea-sp.implanta.net.br  \n",
       "3  crea-sp.implanta.net.br  \n",
       "4  crea-sp.implanta.net.br  "
      ],
      "text/html": "<div>\n<style scoped>\n    .dataframe tbody tr th:only-of-type {\n        vertical-align: middle;\n    }\n\n    .dataframe tbody tr th {\n        vertical-align: top;\n    }\n\n    .dataframe thead th {\n        text-align: right;\n    }\n</style>\n<table border=\"1\" class=\"dataframe\">\n  <thead>\n    <tr style=\"text-align: right;\">\n      <th></th>\n      <th>ErrorId</th>\n      <th>Application</th>\n      <th>Host</th>\n      <th>Type</th>\n      <th>Source</th>\n      <th>Message</th>\n      <th>User</th>\n      <th>StatusCode</th>\n      <th>TimeUtc</th>\n      <th>AllXml</th>\n      <th>ServerName</th>\n    </tr>\n  </thead>\n  <tbody>\n    <tr>\n      <th>0</th>\n      <td>666E19D6-C981-4757-A0C3-D15561161B46</td>\n      <td>Siscont</td>\n      <td>RGPRD-WSVM-02</td>\n      <td>Error</td>\n      <td></td>\n      <td>Execution DelayedJobScheduler is in the Failed...</td>\n      <td></td>\n      <td>0</td>\n      <td>2020-11-28 17:58:05.620</td>\n      <td>&lt;error\\r\\n  application=\"Hangfire\"\\r\\n  host=\"...</td>\n      <td>crea-sp.implanta.net.br</td>\n    </tr>\n    <tr>\n      <th>1</th>\n      <td>E9EBB2E1-1FBC-4EEE-85A3-882B8A52EC7C</td>\n      <td>Siscont</td>\n      <td>RGPRD-WSVM-02</td>\n      <td>Error</td>\n      <td>System.Data</td>\n      <td>Execution BackgroundServerProcess is still in ...</td>\n      <td></td>\n      <td>0</td>\n      <td>2020-11-28 18:11:43.143</td>\n      <td>&lt;error\\r\\n  application=\"Hangfire\"\\r\\n  host=\"...</td>\n      <td>crea-sp.implanta.net.br</td>\n    </tr>\n    <tr>\n      <th>2</th>\n      <td>08658EF6-68DD-4E3A-9EA2-53CA7CA01068</td>\n      <td>Logon</td>\n      <td>RGPRD-WSVM-02</td>\n      <td>System.Data.SqlClient.SqlException</td>\n      <td>.Net SqlClient Data Provider</td>\n      <td>Transaction (Process ID 608) was deadlocked on...</td>\n      <td></td>\n      <td>0</td>\n      <td>2020-11-30 11:13:16.843</td>\n      <td>&lt;error\\r\\n  application=\"Logon\"\\r\\n  host=\"RGP...</td>\n      <td>crea-sp.implanta.net.br</td>\n    </tr>\n    <tr>\n      <th>3</th>\n      <td>13A354F0-ADA2-416F-8AE0-F4D99FE68982</td>\n      <td>Logon</td>\n      <td>RGPRD-WSVM-02</td>\n      <td>System.Transactions.TransactionAbortedException</td>\n      <td>System.Transactions</td>\n      <td>A transação foi anulada.</td>\n      <td></td>\n      <td>500</td>\n      <td>2020-11-30 11:13:16.917</td>\n      <td>&lt;error\\r\\n  application=\"Logon\"\\r\\n  host=\"RGP...</td>\n      <td>crea-sp.implanta.net.br</td>\n    </tr>\n    <tr>\n      <th>4</th>\n      <td>58D9EF1D-4A17-4348-A552-2CB632C06578</td>\n      <td>Portal Transpaência</td>\n      <td>RGPRD-WSVM-02</td>\n      <td>System.Web.HttpException</td>\n      <td>System.Web.Mvc</td>\n      <td>A public action method 'BuscarEntityFaleConosc...</td>\n      <td></td>\n      <td>404</td>\n      <td>2020-12-01 10:42:39.370</td>\n      <td>&lt;error\\r\\n  application=\"Portal Transpaência\"\\...</td>\n      <td>crea-sp.implanta.net.br</td>\n    </tr>\n  </tbody>\n</table>\n</div>"
     },
     "metadata": {},
     "execution_count": 5
    }
   ],
   "source": [
    "dados =  executa_sql_get_elmah('crea-sp.implanta.net.br')"
   ]
  },
  {
   "cell_type": "code",
   "execution_count": 6,
   "metadata": {},
   "outputs": [
    {
     "output_type": "execute_result",
     "data": {
      "text/plain": [
       "ErrorId        1870\n",
       "Application    1870\n",
       "Host           1870\n",
       "Type           1870\n",
       "Source         1870\n",
       "Message        1870\n",
       "User           1870\n",
       "StatusCode     1870\n",
       "TimeUtc        1870\n",
       "AllXml         1870\n",
       "ServerName     1870\n",
       "dtype: int64"
      ]
     },
     "metadata": {},
     "execution_count": 6
    }
   ],
   "source": [
    "dados.count()"
   ]
  },
  {
   "cell_type": "code",
   "execution_count": 13,
   "metadata": {},
   "outputs": [],
   "source": [
    "\n",
    "dados = dados[~dados['Message'].str.startswith(\"Execution\")] # remove os erros do Hangfire\n",
    "\n",
    "dados = dados[~dados['Message'].str.startswith(\"Configuração do parcelamento não informada.\")] # Remove os erros de migração\n",
    "\n",
    "dados = dados[~dados['Message'].str.startswith(\"payment_type\")] # Remove as mensagens de cartão de creditos\n",
    "\n",
    "dados = dados[~dados['Message'].str.contains(\"order_number\")] # Remove as mensagens de cartão de creditos\n",
    "\n",
    "\n",
    "\n",
    "\n"
   ]
  },
  {
   "source": [
    "## Conecta no servidor target e source "
   ],
   "cell_type": "markdown",
   "metadata": {}
  },
  {
   "cell_type": "code",
   "execution_count": 15,
   "metadata": {},
   "outputs": [],
   "source": [
    "database = 'master'\n",
    "\n",
    "conexao =get_conection(driver,server_target,database,username_server_target,password_target)\n",
    "\n",
    "target_conection =get_conection(driver,server_source,database_source,user_source,password_source)\n",
    " "
   ]
  },
  {
   "source": [
    "## Testa a Conexão com Source"
   ],
   "cell_type": "markdown",
   "metadata": {}
  },
  {
   "cell_type": "code",
   "execution_count": 16,
   "metadata": {
    "tags": []
   },
   "outputs": [
    {
     "output_type": "stream",
     "name": "stdout",
     "text": [
      "Microsoft SQL Server 2017 (RTM) - 14.0.1000.169 (X64) \n\tAug 22 2017 17:04:49 \n\tCopyright (C) 2017 Microsoft Corporation\n\tDeveloper Edition (64-bit) on Windows 10 Pro 10.0 <X64> (Build 18362: ) (Hypervisor)\n\n"
     ]
    }
   ],
   "source": [
    "cursor = target_conection.cursor()\n",
    "\n",
    "\n",
    "cursor.execute(\"SELECT @@Version\") \n",
    "row = cursor.fetchone() \n",
    "while row: \n",
    "    print(row[0])\n",
    "    row = cursor.fetchone()\n",
    "\n",
    "cursor.close()"
   ]
  },
  {
   "source": [
    "## Monta a query para ler todos so bancos de dados"
   ],
   "cell_type": "markdown",
   "metadata": {}
  },
  {
   "cell_type": "code",
   "execution_count": 17,
   "metadata": {},
   "outputs": [],
   "source": [
    "SQL_Query = pd.read_sql_query(\n",
    "'''SELECT  D.database_id,D.name FROM  sys.databases AS D\n",
    " order by D.database_id''', conexao)"
   ]
  },
  {
   "source": [
    "##Monta o DataFrame"
   ],
   "cell_type": "markdown",
   "metadata": {}
  },
  {
   "cell_type": "code",
   "execution_count": 18,
   "metadata": {},
   "outputs": [],
   "source": [
    "databases = pd.DataFrame(SQL_Query, columns=['database_id','name'])"
   ]
  },
  {
   "cell_type": "code",
   "execution_count": 19,
   "metadata": {},
   "outputs": [
    {
     "output_type": "execute_result",
     "data": {
      "text/plain": [
       "database_id    504\n",
       "name           504\n",
       "dtype: int64"
      ]
     },
     "metadata": {},
     "execution_count": 19
    }
   ],
   "source": [
    "databases.count()"
   ]
  },
  {
   "source": [
    "## Executa um filtro para executar as querys somente nos databases selecionados"
   ],
   "cell_type": "markdown",
   "metadata": {}
  },
  {
   "cell_type": "code",
   "execution_count": 20,
   "metadata": {},
   "outputs": [],
   "source": [
    "bancos_filtrados = databases[~databases['name'].str.contains(\"master|Manager|ajuda|Conversor|conversor|Copy|DNE|automationjobs|Configuracao|rglab|ESPELHO|apresentacao|COPY|Homologacao|EXCLUIR|202|PreMig|conversor|treinamento|patrimonio\")]"
   ]
  },
  {
   "cell_type": "code",
   "execution_count": 21,
   "metadata": {},
   "outputs": [
    {
     "output_type": "execute_result",
     "data": {
      "text/plain": [
       "database_id    411\n",
       "name           411\n",
       "dtype: int64"
      ]
     },
     "metadata": {},
     "execution_count": 21
    }
   ],
   "source": [
    "bancos_filtrados.count()"
   ]
  },
  {
   "cell_type": "code",
   "execution_count": 24,
   "metadata": {},
   "outputs": [
    {
     "output_type": "execute_result",
     "data": {
      "text/plain": [
       "     database_id                      name\n",
       "280          292  coren-rs.implanta.net.br\n",
       "328          341    crf-se.implanta.net.br\n",
       "107          111  coren-go.implanta.net.br\n",
       "310          322    crp-se.implanta.net.br\n",
       "302          314    crp-rs.implanta.net.br\n",
       "224          236   crfa-mg.implanta.net.br\n",
       "243          255   crfa-sp.implanta.net.br\n",
       "189          195   crmv-pa.implanta.net.br\n",
       "88            92    cau-pi.implanta.net.br\n",
       "270          282    crf-mg.implanta.net.br"
      ],
      "text/html": "<div>\n<style scoped>\n    .dataframe tbody tr th:only-of-type {\n        vertical-align: middle;\n    }\n\n    .dataframe tbody tr th {\n        vertical-align: top;\n    }\n\n    .dataframe thead th {\n        text-align: right;\n    }\n</style>\n<table border=\"1\" class=\"dataframe\">\n  <thead>\n    <tr style=\"text-align: right;\">\n      <th></th>\n      <th>database_id</th>\n      <th>name</th>\n    </tr>\n  </thead>\n  <tbody>\n    <tr>\n      <th>280</th>\n      <td>292</td>\n      <td>coren-rs.implanta.net.br</td>\n    </tr>\n    <tr>\n      <th>328</th>\n      <td>341</td>\n      <td>crf-se.implanta.net.br</td>\n    </tr>\n    <tr>\n      <th>107</th>\n      <td>111</td>\n      <td>coren-go.implanta.net.br</td>\n    </tr>\n    <tr>\n      <th>310</th>\n      <td>322</td>\n      <td>crp-se.implanta.net.br</td>\n    </tr>\n    <tr>\n      <th>302</th>\n      <td>314</td>\n      <td>crp-rs.implanta.net.br</td>\n    </tr>\n    <tr>\n      <th>224</th>\n      <td>236</td>\n      <td>crfa-mg.implanta.net.br</td>\n    </tr>\n    <tr>\n      <th>243</th>\n      <td>255</td>\n      <td>crfa-sp.implanta.net.br</td>\n    </tr>\n    <tr>\n      <th>189</th>\n      <td>195</td>\n      <td>crmv-pa.implanta.net.br</td>\n    </tr>\n    <tr>\n      <th>88</th>\n      <td>92</td>\n      <td>cau-pi.implanta.net.br</td>\n    </tr>\n    <tr>\n      <th>270</th>\n      <td>282</td>\n      <td>crf-mg.implanta.net.br</td>\n    </tr>\n  </tbody>\n</table>\n</div>"
     },
     "metadata": {},
     "execution_count": 24
    }
   ],
   "source": [
    "bancos_filtrados.sample(10)"
   ]
  },
  {
   "source": [
    "##Executa um for each para cada coluna datetime2"
   ],
   "cell_type": "markdown",
   "metadata": {}
  },
  {
   "cell_type": "code",
   "execution_count": 25,
   "metadata": {},
   "outputs": [],
   "source": [
    "target_conection =get_conection(driver,server_source,database_source,user_source,password_source)"
   ]
  },
  {
   "cell_type": "code",
   "execution_count": 29,
   "metadata": {},
   "outputs": [],
   "source": [
    "def insertElmah_intoTarget(data,target_conection):\n",
    "    cursor = target_conection.cursor()\n",
    "    \n",
    "    for i,row in data.iterrows():\n",
    "        sql =\"\"\n",
    "        sql = (\"INSERT INTO Staging.ELMAH_Error(ErrorId,Application,Host,Type,Source,Message,[User],StatusCode,TimeUtc,AllXml,ServerName)\"\n",
    "        \"SELECT '{0}', '{1}' ,'{2}','{3}','{4}','{5}','{6}',{7},'{8}','{9}', '{10}' \"\n",
    "        \" WHERE NOT EXISTS(SELECT 1 FROM Staging.ELMAH_Error AS EE WHERE EE.ErrorId ='{0}' )\").format(row[\"ErrorId\"],\n",
    "        row[\"Application\"],row[\"Host\"],row[\"Type\"],row['Source'],row[\"Message\"].replace(\"'\",\"''\"),row[\"User\"],\n",
    "        row[\"StatusCode\"],row[\"TimeUtc\"].strftime(\"%Y-%m-%d %H:%M:%S\"),row[\"AllXml\"].replace(\"'\",\"''\"),row[\"ServerName\"])\n",
    "        cursor.execute(sql)\n",
    "         \n",
    "    # print(sql)\n",
    "# the connection is not autocommitted by default, so we must commit to save our # changes \n",
    "    target_conection.commit()\n",
    "    #return sql\n"
   ]
  },
  {
   "cell_type": "code",
   "execution_count": 30,
   "metadata": {
    "tags": []
   },
   "outputs": [],
   "source": [
    "insertElmah_intoTarget(dados,target_conection)"
   ]
  },
  {
   "cell_type": "code",
   "execution_count": 31,
   "metadata": {
    "tags": []
   },
   "outputs": [
    {
     "output_type": "stream",
     "name": "stdout",
     "text": [
      "caa-ma.implanta.net.br Total: 16\n",
      "cau-ac.implanta.net.br Total: 61\n",
      "cau-al.implanta.net.br Total: 163\n",
      "cau-am.implanta.net.br Total: 110\n",
      "cau-ap.implanta.net.br Total: 113\n",
      "cau-ba.implanta.net.br Total: 131\n",
      "cau-br.implanta.net.br Total: 1486\n",
      "cau-ce.implanta.net.br Total: 153\n",
      "cau-df.implanta.net.br Total: 123\n",
      "cau-es.implanta.net.br Total: 187\n",
      "cau-go.implanta.net.br Total: 216\n",
      "cau-ma.implanta.net.br Total: 301\n",
      "cau-mg.implanta.net.br Total: 232\n",
      "cau-ms.implanta.net.br Total: 92\n",
      "cau-mt.implanta.net.br Total: 56\n",
      "cau-pa.implanta.net.br Total: 102\n",
      "cau-pb.implanta.net.br Total: 163\n",
      "cau-pe.implanta.net.br Total: 159\n",
      "cau-pi.implanta.net.br Total: 113\n",
      "cau-pr.implanta.net.br Total: 198\n",
      "cau-rj.implanta.net.br Total: 150\n",
      "cau-rn.implanta.net.br Total: 128\n",
      "cau-ro.implanta.net.br Total: 137\n",
      "cau-rr.implanta.net.br Total: 110\n",
      "cau-rs.implanta.net.br Total: 152\n",
      "cau-sc.implanta.net.br Total: 379\n",
      "cau-se.implanta.net.br Total: 212\n",
      "cau-sp.implanta.net.br Total: 811\n",
      "cau-to.implanta.net.br Total: 122\n",
      "cfa-br.implanta.net.br Total: 78\n",
      "cfbm-br.implanta.net.br Total: 0\n",
      "cfess-br.implanta.net.br Total: 5188\n",
      "cff-br.implanta.net.br Total: 1361\n",
      "cffa-br.implanta.net.br Total: 386\n",
      "cfm-br.implanta.net.br Total: 1251\n",
      "cfmv-br.implanta.net.br Total: 55\n",
      "cfn-br.implanta.net.br Total: 38\n",
      "cfo-br.implanta.net.br Total: 296\n",
      "cfp-br.implanta.net.br Total: 124\n",
      "cfq-br.implanta.net.br Total: 688\n",
      "cft-br.implanta.net.br Total: 1525\n",
      "cfta-br.implanta.net.br Total: 47\n",
      "codhab-df.implanta.net.br Total: 96\n",
      "cofen-br.implanta.net.br Total: 151\n",
      "coffito-br.implanta.net.br Total: 343\n",
      "confea-br.implanta.net.br Total: 93\n",
      "confere-br.implanta.net.br Total: 149\n",
      "conferp-br.implanta.net.br Total: 17\n",
      "conre-ba.implanta.net.br Total: 31\n",
      "conre-df.implanta.net.br Total: 33\n",
      "conrerp-ba.implanta.net.br Total: 44\n",
      "conrerp-df.implanta.net.br Total: 12\n",
      "conrerp-mg.implanta.net.br Total: 13\n",
      "conrerp-rj.implanta.net.br Total: 22\n",
      "conrerp-rs.implanta.net.br Total: 16\n",
      "conrerp-sp.implanta.net.br Total: 17\n",
      "consed-df.implanta.net.br Total: 15\n",
      "core-al.implanta.net.br Total: 43\n",
      "core-am.implanta.net.br Total: 99\n",
      "core-ap.implanta.net.br Total: 0\n",
      "core-ba.implanta.net.br Total: 137\n",
      "core-ce.implanta.net.br Total: 59\n",
      "core-df.implanta.net.br Total: 73\n",
      "core-es.implanta.net.br Total: 660\n",
      "core-go.implanta.net.br Total: 39\n",
      "core-ma.implanta.net.br Total: 92\n",
      "core-mg.implanta.net.br Total: 172\n",
      "core-ms.implanta.net.br Total: 79\n",
      "core-mt.implanta.net.br Total: 102\n",
      "core-pa.implanta.net.br Total: 36\n",
      "core-pb.implanta.net.br Total: 73\n",
      "core-pe.implanta.net.br Total: 99\n",
      "core-pi.implanta.net.br Total: 46\n",
      "core-pr.implanta.net.br Total: 571\n",
      "core-rj.implanta.net.br Total: 284\n",
      "core-rn.implanta.net.br Total: 111\n",
      "core-ro.implanta.net.br Total: 36\n",
      "core-rs.implanta.net.br Total: 88\n",
      "core-sc.implanta.net.br Total: 213\n",
      "core-se.implanta.net.br Total: 73\n",
      "core-sp.implanta.net.br Total: 464\n",
      "core-to.implanta.net.br Total: 33\n",
      "corecon-rs.implanta.net.br Total: 9\n",
      "corecon-sp.implanta.net.br Total: 5\n",
      "coren-ac.implanta.net.br Total: 42\n",
      "coren-al.implanta.net.br Total: 122\n",
      "coren-ap.implanta.net.br Total: 987\n",
      "coren-ba.implanta.net.br Total: 433\n",
      "coren-ce.implanta.net.br Total: 183\n",
      "coren-df.implanta.net.br Total: 146\n",
      "coren-es.implanta.net.br Total: 192\n",
      "coren-go.implanta.net.br Total: 84\n",
      "coren-ma.implanta.net.br Total: 120\n",
      "coren-mg.implanta.net.br Total: 485\n",
      "coren-ms.implanta.net.br Total: 51\n",
      "coren-pa.implanta.net.br Total: 126\n",
      "coren-pe.implanta.net.br Total: 184\n",
      "coren-pi.implanta.net.br Total: 159\n",
      "coren-pr.implanta.net.br Total: 167\n",
      "coren-rj.implanta.net.br Total: 293\n",
      "coren-rn.implanta.net.br Total: 220\n",
      "coren-ro.implanta.net.br Total: 88\n",
      "coren-rr.implanta.net.br Total: 69\n",
      "coren-rs.implanta.net.br Total: 168\n",
      "coren-sc.implanta.net.br Total: 172\n",
      "coren-sp.implanta.net.br Total: 402\n",
      "coren-to.implanta.net.br Total: 99\n",
      "cra-ac.implanta.net.br Total: 47\n",
      "cra-al.implanta.net.br Total: 2659\n",
      "cra-am.implanta.net.br Total: 20225\n",
      "cra-ap.implanta.net.br Total: 1442\n",
      "cra-ba.implanta.net.br Total: 22048\n",
      "cra-df.implanta.net.br Total: 14581\n",
      "cra-es.implanta.net.br Total: 12560\n",
      "cra-go.implanta.net.br Total: 4339\n",
      "cra-ma.implanta.net.br Total: 3969\n",
      "cra-mg.implanta.net.br Total: 0\n",
      "cra-ms.implanta.net.br Total: 14138\n",
      "cra-mt.implanta.net.br Total: 4028\n",
      "cra-pa.implanta.net.br Total: 10964\n",
      "cra-pb.implanta.net.br Total: 5003\n",
      "cra-pe.implanta.net.br Total: 1335\n",
      "cra-pi.implanta.net.br Total: 3045\n",
      "cra-pr.implanta.net.br Total: 10388\n",
      "cra-rj.implanta.net.br Total: 0\n",
      "cra-rn.implanta.net.br Total: 3926\n",
      "cra-ro.implanta.net.br Total: 2952\n",
      "cra-rr.implanta.net.br Total: 90\n",
      "cra-rs.implanta.net.br Total: 23314\n",
      "cra-sc.implanta.net.br Total: 9622\n",
      "cra-se.implanta.net.br Total: 2298\n",
      "cra-sp.implanta.net.br Total: 44402\n",
      "cra-to.implanta.net.br Total: 2002\n",
      "crbm-01.implanta.net.br Total: 283\n",
      "crbm-02.implanta.net.br Total: 0\n",
      "crbm-03.implanta.net.br Total: 0\n",
      "crbm-04.implanta.net.br Total: 0\n",
      "crbm-05.implanta.net.br Total: 0\n",
      "crbm-06.implanta.net.br Total: 0\n",
      "crea-ac.implanta.net.br Total: 70\n",
      "crea-al.implanta.net.br Total: 323\n",
      "crea-am.implanta.net.br Total: 347\n",
      "crea-ap.implanta.net.br Total: 150\n",
      "crea-ba.implanta.net.br Total: 204\n",
      "crea-ce.implanta.net.br Total: 173\n",
      "crea-df.implanta.net.br Total: 120\n",
      "crea-es.implanta.net.br Total: 215\n",
      "crea-go.implanta.net.br Total: 658\n",
      "crea-ma.implanta.net.br Total: 143\n",
      "crea-mg.implanta.net.br Total: 3082\n",
      "crea-ms.implanta.net.br Total: 108\n",
      "crea-mt.implanta.net.br Total: 314\n",
      "crea-pa.implanta.net.br Total: 483\n",
      "crea-pb.implanta.net.br Total: 77\n",
      "crea-pe.implanta.net.br Total: 329\n",
      "crea-pi.implanta.net.br Total: 74\n",
      "crea-pr.implanta.net.br Total: 448\n",
      "crea-rj.implanta.net.br Total: 369\n",
      "crea-rn.implanta.net.br Total: 19\n",
      "crea-ro.implanta.net.br Total: 178\n",
      "crea-rr.implanta.net.br Total: 121\n",
      "crea-rs.implanta.net.br Total: 370\n",
      "crea-sc.implanta.net.br Total: 355\n",
      "crea-se.implanta.net.br Total: 108\n",
      "crea-sp.implanta.net.br Total: 1157\n",
      "crea-to.implanta.net.br Total: 1039\n",
      "cref-rs.implanta.net.br Total: 4\n",
      "cref-sp.implanta.net.br Total: 160\n",
      "crefito-ba.implanta.net.br Total: 61\n",
      "crefito-ce.implanta.net.br Total: 34\n",
      "crefito-df.implanta.net.br Total: 10\n",
      "crefito-es.implanta.net.br Total: 12\n",
      "crefito-ma.implanta.net.br Total: 27\n",
      "crefito-mg.implanta.net.br Total: 150\n",
      "crefito-ms.implanta.net.br Total: 33\n",
      "crefito-mt.implanta.net.br Total: 46\n",
      "crefito-pa.implanta.net.br Total: 5\n",
      "crefito-pe.implanta.net.br Total: 47\n",
      "crefito-pi.implanta.net.br Total: 38\n",
      "crefito-pr.implanta.net.br Total: 57\n",
      "crefito-rj.implanta.net.br Total: 7\n",
      "crefito-rs.implanta.net.br Total: 179\n",
      "crefito-sc.implanta.net.br Total: 168\n",
      "crefito-sp.implanta.net.br Total: 299\n",
      "cress-ac.implanta.net.br Total: 87\n",
      "cress-al.implanta.net.br Total: 67214\n",
      "cress-am.implanta.net.br Total: 3637\n",
      "cress-ap.implanta.net.br Total: 3121\n",
      "cress-ba.implanta.net.br Total: 243\n",
      "cress-ce.implanta.net.br Total: 5362\n",
      "cress-df.implanta.net.br Total: 1926\n",
      "cress-es.implanta.net.br Total: 90\n",
      "cress-go.implanta.net.br Total: 3325\n",
      "cress-ma.implanta.net.br Total: 6203\n",
      "cress-mg.implanta.net.br Total: 12724\n",
      "cress-ms.implanta.net.br Total: 1353\n",
      "cress-mt.implanta.net.br Total: 160\n",
      "cress-pa.implanta.net.br Total: 3448\n",
      "cress-pb.implanta.net.br Total: 142\n",
      "cress-pe.implanta.net.br Total: 2311\n",
      "cress-pi.implanta.net.br Total: 943\n",
      "cress-pr.implanta.net.br Total: 2781\n",
      "cress-rj.implanta.net.br Total: 25387\n",
      "cress-rn.implanta.net.br Total: 1299\n",
      "cress-ro.implanta.net.br Total: 5535\n",
      "cress-rr.implanta.net.br Total: 907\n",
      "cress-rs.implanta.net.br Total: 20591\n",
      "cress-sc.implanta.net.br Total: 2398\n",
      "cress-se.implanta.net.br Total: 368\n",
      "cress-sp.implanta.net.br Total: 20723\n",
      "cress-to.implanta.net.br Total: 108\n",
      "crf-ac.implanta.net.br Total: 88\n",
      "crf-al.implanta.net.br Total: 110\n",
      "crf-am.implanta.net.br Total: 1428\n",
      "crf-ap.implanta.net.br Total: 86\n",
      "crf-ba.implanta.net.br Total: 92\n",
      "crf-ce.implanta.net.br Total: 488\n",
      "crf-df.implanta.net.br Total: 78\n",
      "crf-es.implanta.net.br Total: 179\n",
      "crf-go.implanta.net.br Total: 151\n",
      "crf-ma.implanta.net.br Total: 191\n",
      "crf-mg.implanta.net.br Total: 257\n",
      "crf-ms.implanta.net.br Total: 299\n",
      "crf-mt.implanta.net.br Total: 147\n",
      "crf-pa.implanta.net.br Total: 44\n",
      "crf-pb.implanta.net.br Total: 143\n",
      "crf-pe.implanta.net.br Total: 282\n",
      "crf-pi.implanta.net.br Total: 84\n",
      "crf-pr.implanta.net.br Total: 221\n",
      "crf-rj.implanta.net.br Total: 202\n",
      "crf-rn.implanta.net.br Total: 245\n",
      "crf-ro.implanta.net.br Total: 85\n",
      "crf-rr.implanta.net.br Total: 45\n",
      "crf-rs.implanta.net.br Total: 248\n",
      "crf-sc.implanta.net.br Total: 122\n",
      "crf-se.implanta.net.br Total: 68\n",
      "crf-sp.implanta.net.br Total: 425\n",
      "crf-to.implanta.net.br Total: 141\n",
      "crfa-am.implanta.net.br Total: 49\n",
      "crfa-ce.implanta.net.br Total: 51\n",
      "crfa-go.implanta.net.br Total: 226\n",
      "crfa-mg.implanta.net.br Total: 109\n",
      "crfa-pe.implanta.net.br Total: 254\n",
      "crfa-pr.implanta.net.br Total: 59\n",
      "crfa-rj.implanta.net.br Total: 80\n",
      "crfa-rs.implanta.net.br Total: 93\n",
      "crfa-sp.implanta.net.br Total: 78\n",
      "crm-ac.implanta.net.br Total: 101\n",
      "crm-al.implanta.net.br Total: 197\n",
      "crm-am.implanta.net.br Total: 200\n",
      "crm-ap.implanta.net.br Total: 42\n",
      "crm-ba.implanta.net.br Total: 270\n",
      "crm-ce.implanta.net.br Total: 152\n",
      "crm-df.implanta.net.br Total: 108\n",
      "crm-es.implanta.net.br Total: 223\n",
      "crm-go.implanta.net.br Total: 224\n",
      "crm-ma.implanta.net.br Total: 137\n",
      "crm-mg.implanta.net.br Total: 568\n",
      "crm-ms.implanta.net.br Total: 126\n",
      "crm-mt.implanta.net.br Total: 168\n",
      "crm-pa.implanta.net.br Total: 105\n",
      "crm-pb.implanta.net.br Total: 184\n",
      "crm-pe.implanta.net.br Total: 253\n",
      "crm-pi.implanta.net.br Total: 241\n",
      "crm-pr.implanta.net.br Total: 399\n",
      "crm-rj.implanta.net.br Total: 920\n",
      "crm-rn.implanta.net.br Total: 259\n",
      "crm-ro.implanta.net.br Total: 200\n",
      "crm-rr.implanta.net.br Total: 113\n",
      "crm-rs.implanta.net.br Total: 728\n",
      "crm-sc.implanta.net.br Total: 504\n",
      "crm-se.implanta.net.br Total: 153\n",
      "crm-to.implanta.net.br Total: 443\n",
      "crmv-ac.implanta.net.br Total: 20\n",
      "crmv-al.implanta.net.br Total: 27\n",
      "crmv-am.implanta.net.br Total: 19\n",
      "crmv-ap.implanta.net.br Total: 24\n",
      "crmv-ba.implanta.net.br Total: 181\n",
      "crmv-ce.implanta.net.br Total: 127\n",
      "crmv-df.implanta.net.br Total: 22\n",
      "crmv-es.implanta.net.br Total: 71\n",
      "crmv-go.implanta.net.br Total: 130\n",
      "crmv-ma.implanta.net.br Total: 46\n",
      "crmv-mg.implanta.net.br Total: 512\n",
      "crmv-ms.implanta.net.br Total: 51\n",
      "crmv-mt.implanta.net.br Total: 175\n",
      "crmv-pa.implanta.net.br Total: 32\n",
      "crmv-pb.implanta.net.br Total: 37\n",
      "crmv-pe.implanta.net.br Total: 51\n",
      "crmv-pi.implanta.net.br Total: 35\n",
      "crmv-pr.implanta.net.br Total: 137\n",
      "crmv-rj.implanta.net.br Total: 81\n",
      "crmv-rn.implanta.net.br Total: 57\n",
      "crmv-ro.implanta.net.br Total: 50\n",
      "crmv-rr.implanta.net.br Total: 17\n",
      "crmv-rs.implanta.net.br Total: 203\n",
      "crmv-sc.implanta.net.br Total: 115\n",
      "crmv-se.implanta.net.br Total: 53\n",
      "crmv-sp.implanta.net.br Total: 330\n",
      "crmv-to.implanta.net.br Total: 54\n",
      "crn-04.implanta.net.br Total: 249\n",
      "crn-06.implanta.net.br Total: 49\n",
      "crn-ba.implanta.net.br Total: 118\n",
      "crn-df.implanta.net.br Total: 194\n",
      "crn-mg.implanta.net.br Total: 136\n",
      "crn-pa.implanta.net.br Total: 39\n",
      "crn-pr.implanta.net.br Total: 99\n",
      "crn-rs.implanta.net.br Total: 40\n",
      "crn-sc.implanta.net.br Total: 112\n",
      "crn-sp.implanta.net.br Total: 93\n",
      "cro-ac.implanta.net.br Total: 565\n",
      "cro-al.implanta.net.br Total: 474\n",
      "cro-am.implanta.net.br Total: 2216\n",
      "cro-ap.implanta.net.br Total: 21682\n",
      "cro-ba.implanta.net.br Total: 30\n",
      "cro-ce.implanta.net.br Total: 7177\n",
      "cro-df.implanta.net.br Total: 2326\n",
      "cro-es.implanta.net.br Total: 6720\n",
      "cro-go.implanta.net.br Total: 8937\n",
      "cro-ma.implanta.net.br Total: 1643\n",
      "cro-mg.implanta.net.br Total: 4168\n",
      "cro-ms.implanta.net.br Total: 1582\n",
      "cro-mt.implanta.net.br Total: 1881\n",
      "cro-pa.implanta.net.br Total: 2607\n",
      "cro-pb.implanta.net.br Total: 1157\n",
      "cro-pe.implanta.net.br Total: 785\n",
      "cro-pi.implanta.net.br Total: 1589\n",
      "cro-pr.implanta.net.br Total: 45278\n",
      "cro-rj.implanta.net.br Total: 141\n",
      "cro-rn.implanta.net.br Total: 607\n",
      "cro-ro.implanta.net.br Total: 1496\n",
      "cro-rr.implanta.net.br Total: 5713\n",
      "cro-rs.implanta.net.br Total: 182\n",
      "cro-sc.implanta.net.br Total: 3774\n",
      "cro-se.implanta.net.br Total: 412\n",
      "cro-sp.implanta.net.br Total: 113718\n",
      "cro-to.implanta.net.br Total: 1935\n",
      "crp-al.implanta.net.br Total: 41\n",
      "crp-am.implanta.net.br Total: 10\n",
      "crp-ba.implanta.net.br Total: 90\n",
      "crp-ce.implanta.net.br Total: 114\n",
      "crp-df.implanta.net.br Total: 97\n",
      "crp-es.implanta.net.br Total: 294\n",
      "crp-go.implanta.net.br Total: 38\n",
      "crp-ma.implanta.net.br Total: 20\n",
      "crp-mg.implanta.net.br Total: 145\n",
      "crp-ms.implanta.net.br Total: 96\n",
      "crp-mt.implanta.net.br Total: 48\n",
      "crp-pa.implanta.net.br Total: 64\n",
      "crp-pb.implanta.net.br Total: 21\n",
      "crp-pe.implanta.net.br Total: 42\n",
      "crp-pi.implanta.net.br Total: 29\n",
      "crp-pr.implanta.net.br Total: 121\n",
      "crp-rj.implanta.net.br Total: 95\n",
      "crp-rn.implanta.net.br Total: 41\n",
      "crp-rs.implanta.net.br Total: 150\n",
      "crp-sc.implanta.net.br Total: 86\n",
      "crp-se.implanta.net.br Total: 58\n",
      "crp-sp.implanta.net.br Total: 358\n",
      "crp-to.implanta.net.br Total: 22\n",
      "crq-al.implanta.net.br Total: 114\n",
      "crq-am.implanta.net.br Total: 9706\n",
      "crq-ba.implanta.net.br Total: 233\n",
      "crq-ce.implanta.net.br Total: 179\n",
      "crq-es.implanta.net.br Total: 17\n",
      "crq-go.implanta.net.br Total: 447\n",
      "crq-ma.implanta.net.br Total: 193\n",
      "crq-mg.implanta.net.br Total: 3\n",
      "crq-ms.implanta.net.br Total: 33\n",
      "crq-mt.implanta.net.br Total: 1246\n",
      "crq-pa.implanta.net.br Total: 107\n",
      "crq-pb.implanta.net.br Total: 177\n",
      "crq-pe.implanta.net.br Total: 172\n",
      "crq-pi.implanta.net.br Total: 114\n",
      "crq-pr.implanta.net.br Total: 256\n",
      "crq-rj.implanta.net.br Total: 528\n",
      "crq-rn.implanta.net.br Total: 199\n",
      "crq-rs.implanta.net.br Total: 41\n",
      "crq-sc.implanta.net.br Total: 188\n",
      "crq-se.implanta.net.br Total: 378\n",
      "crq-sp.implanta.net.br Total: 1152\n",
      "crt-01.implanta.net.br Total: 290\n",
      "crt-02.implanta.net.br Total: 132\n",
      "crt-03.implanta.net.br Total: 235\n",
      "crt-04.implanta.net.br Total: 252\n",
      "crt-ba.implanta.net.br Total: 155\n",
      "crt-es.implanta.net.br Total: 120\n",
      "crt-mg.implanta.net.br Total: 114\n",
      "crt-rj.implanta.net.br Total: 219\n",
      "crt-rn.implanta.net.br Total: 136\n",
      "crt-rs.implanta.net.br Total: 136\n",
      "crt-sp.implanta.net.br Total: 599\n",
      "crtr-02.implanta.net.br Total: 57\n",
      "crtr-03.implanta.net.br Total: 103\n",
      "crtr-12.implanta.net.br Total: 20\n",
      "crtr-sp.implanta.net.br Total: 2971\n",
      "oab-ac.implanta.net.br Total: 59\n",
      "oab-al.implanta.net.br Total: 127\n",
      "oab-am.implanta.net.br Total: 267\n",
      "oab-ap.implanta.net.br Total: 20\n",
      "oab-ba.implanta.net.br Total: 86793\n",
      "oab-ce.implanta.net.br Total: 186\n",
      "oab-df.implanta.net.br Total: 469\n",
      "oab-ms.implanta.net.br Total: 164\n",
      "oab-pa.implanta.net.br Total: 405\n",
      "oab-pi.implanta.net.br Total: 71\n",
      "oab-rn.implanta.net.br Total: 182\n",
      "oab-ro.implanta.net.br Total: 12\n",
      "oab-rr.implanta.net.br Total: 8\n",
      "oab-rs.implanta.net.br Total: 720\n",
      "oab-se.implanta.net.br Total: 119\n"
     ]
    }
   ],
   "source": [
    "try:\n",
    "    database =\"\"\n",
    "    for i, linha in bancos_filtrados.sort_values(\"name\").iterrows():\n",
    "        database =linha['name']\n",
    "        retorno = executa_sql_get_elmah(linha['name'])\n",
    "        \n",
    "        # Executa o tratamento dos dados\n",
    "        retorno = retorno[~retorno['Message'].str.startswith(\"Execution\")] # remove os erros do Hangfire\n",
    "\n",
    "        retorno = retorno[~retorno['Message'].str.startswith(\"Configuração do parcelamento não informada.\")] # Remove os erros de migração\n",
    "\n",
    "        retorno = retorno[~retorno['Message'].str.startswith(\"payment_type\")] # Remove as mensagens de cartão de creditos\n",
    "\n",
    "        retorno = retorno[~retorno['Message'].str.contains(\"order_number\")] # Remove as mensagens de cartão de creditos\n",
    "\n",
    "        retorno = retorno[~retorno['Message'].str.contains(\"Monitoramento\")] # Remove as mensagens de cartão de creditos\n",
    "\n",
    "        retorno = retorno[~retorno['Message'].str.contains(\"amount\")] # Remove as mensagens de cartão de creditos\n",
    "\n",
    "        \n",
    "\n",
    "\n",
    "\n",
    "\n",
    "\n",
    "\n",
    "\n",
    "        print(database,\"Total:\",retorno[\"ErrorId\"].count())\n",
    "        comando = insertElmah_intoTarget(retorno,target_conection)\n",
    "\n",
    "except BaseException as ex:\n",
    "    # Get current system exception\n",
    "    ex_type, ex_value, ex_traceback = sys.exc_info()\n",
    "\n",
    "    # Extract unformatter stack traces as tuples\n",
    "    trace_back = traceback.extract_tb(ex_traceback)\n",
    "\n",
    "    # Format stacktrace\n",
    "    stack_trace = list()\n",
    "\n",
    "    for trace in trace_back:\n",
    "        stack_trace.append(\"File : %s , Line : %d, Func.Name : %s, Message : %s\" % (trace[0], trace[1], trace[2], trace[3]))\n",
    "\n",
    "    print(\"Exception type : %s \" % ex_type.__name__)\n",
    "    print(\"Exception message : %s\" %ex_value)\n",
    "    print(\"Stack trace : %s\" %stack_trace)\n",
    "    print(\"database : %s\" %database)\n",
    "    print(linha['name'],tableName,coluna,idregistro)         \n",
    "            \n",
    "            \n",
    "        \n",
    "\n",
    "\n",
    "\n"
   ]
  },
  {
   "source": [
    "target_conection.close()\n",
    "conexao.close()"
   ],
   "cell_type": "code",
   "metadata": {},
   "execution_count": null,
   "outputs": []
  }
 ]
}