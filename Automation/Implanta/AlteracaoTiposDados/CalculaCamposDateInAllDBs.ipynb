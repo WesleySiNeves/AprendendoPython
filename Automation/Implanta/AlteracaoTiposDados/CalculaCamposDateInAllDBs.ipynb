{
 "metadata": {
  "language_info": {
   "codemirror_mode": {
    "name": "ipython",
    "version": 3
   },
   "file_extension": ".py",
   "mimetype": "text/x-python",
   "name": "python",
   "nbconvert_exporter": "python",
   "pygments_lexer": "ipython3",
   "version": "3.7.0-final"
  },
  "orig_nbformat": 2,
  "kernelspec": {
   "name": "Python 3.7.0 64-bit ('Continuum': virtualenv)",
   "display_name": "Python 3.7.0 64-bit ('Continuum': virtualenv)",
   "metadata": {
    "interpreter": {
     "hash": "dd7f6452fe0c42a0aa89cff470a98819146e9cf7773dbf92064e44399a7d8f29"
    }
   }
  }
 },
 "nbformat": 4,
 "nbformat_minor": 2,
 "cells": [
  {
   "source": [
    "## importação dos pacotes\n"
   ],
   "cell_type": "markdown",
   "metadata": {}
  },
  {
   "cell_type": "code",
   "execution_count": 1,
   "metadata": {},
   "outputs": [],
   "source": [
    "import pyodbc as PDB  # Drive para conexão com banco de dados\n",
    "import pandas  as pd\n",
    "import sys\n",
    "import traceback\n"
   ]
  },
  {
   "source": [
    "## variaveis de controle"
   ],
   "cell_type": "markdown",
   "metadata": {}
  },
  {
   "cell_type": "code",
   "execution_count": 2,
   "metadata": {},
   "outputs": [],
   "source": [
    "server = '?'\n",
    "database = '?'\n",
    "username = '?'\n",
    "password = '?'\n",
    "driver= '{ODBC Driver 17 for SQL Server}'\n",
    "\n",
    "diretorio_planilha = r'D:\\1.Implanta(Nunca Apagar)\\Power BI Implanta\\Compressão Banco\\Alterações Datetime2 para Date\\TodasColunasDatetime2.xlsx'\n",
    "colunas_datetime2 = pd.DataFrame()\n"
   ]
  },
  {
   "source": [
    "## Utils\n"
   ],
   "cell_type": "markdown",
   "metadata": {}
  },
  {
   "cell_type": "code",
   "execution_count": 3,
   "metadata": {},
   "outputs": [],
   "source": [
    "def get_conection(driver,server,database,username,password):\n",
    "    _conexao = PDB.connect('DRIVER='+driver+';SERVER='+server+';PORT=1433;DATABASE='+database+';UID='+username+';PWD='+ password)\n",
    "    return _conexao\n",
    "\n",
    "\n",
    "\n",
    "    "
   ]
  },
  {
   "cell_type": "code",
   "execution_count": 4,
   "metadata": {},
   "outputs": [],
   "source": [
    "def executa_procedure(database_name,id,schemaName,tableName,column,dataType):\n",
    "    dados = pd.DataFrame()\n",
    "    try:\n",
    "        _con = get_conection(driver,server,database_name,username,password)\n",
    "        \n",
    "        query  = \"EXEC HealthCheck.uspCalculaAlteracaoCampoDatetime2ToDate @IdRegistro ={0},@SchemaName ='{1}',@TableName ='{2}',@Column ='{3}',@DataTypeAtual ='{4}'\".format(id,schemaName,tableName,column,dataType)\n",
    "\n",
    "        SQL_exec_procedure = pd.read_sql_query(query,_con)\n",
    "\n",
    "        dados = pd.DataFrame(SQL_exec_procedure, columns=['Id','SchemaName','TableName','Coluna','Type','Indexable','QuantidadeLinhas','PossoAlterar', \n",
    "         'DatabasesQuePossueValorHora','DatabasesQueNaoPossueValorHora','DatabasesTableVazio'])\n",
    "         \n",
    "         \n",
    "        dados.set_index('Id',inplace=True)\n",
    "        _con.close() \n",
    "        return dados\n",
    "\n",
    "    except TypeError:\n",
    "        _con.close()\n",
    "    return dados"
   ]
  },
  {
   "cell_type": "code",
   "execution_count": 5,
   "metadata": {},
   "outputs": [],
   "source": [
    "def carregar_excel_tipo_dados():\n",
    "    global colunas_datetime2\n",
    "    colunas_datetime2 = pd.read_excel(diretorio_planilha,index_col=0)\n",
    "\n",
    "    colunas_datetime2[\"SchemaName\"]= colunas_datetime2[\"SchemaName\"].astype(str) \n",
    "    colunas_datetime2[\"TableName\"]= colunas_datetime2[\"TableName\"].astype(str) \n",
    "    colunas_datetime2[\"Coluna\"]= colunas_datetime2[\"Coluna\"].astype(str) \n",
    "    colunas_datetime2[\"Type\"]= colunas_datetime2[\"Type\"].astype(str) \n",
    "    colunas_datetime2[\"Indexable\"]= colunas_datetime2[\"Indexable\"].astype(bool) \n",
    "    colunas_datetime2[\"QuantidadeLinhas\"]= colunas_datetime2[\"QuantidadeLinhas\"].astype(int) \n",
    "    colunas_datetime2[\"ExisteHoraMinutosSegundos\"]= colunas_datetime2[\"ExisteHoraMinutosSegundos\"].astype(bool) \n",
    "    colunas_datetime2[\"JaValidado\"]= colunas_datetime2[\"JaValidado\"].astype(bool)\n",
    "    colunas_datetime2[\"QuantidadeBancos\"]= colunas_datetime2[\"QuantidadeBancos\"].astype(int)\n",
    "\n",
    "    colunas_datetime2[\"DatabasesQuePossueValorHora\"]= colunas_datetime2[\"DatabasesQuePossueValorHora\"].astype(str) \n",
    "    colunas_datetime2[\"DatabasesQueNaoPossueValorHora\"]= colunas_datetime2[\"DatabasesQueNaoPossueValorHora\"].astype(str) \n",
    "    colunas_datetime2[\"DatabasesTableVazio\"]= colunas_datetime2[\"DatabasesTableVazio\"].astype(str) \n",
    "    \n",
    "    colunas_datetime2[\"DatabasesQuePossueValorHora\"].fillna(\"\", inplace = True) \n",
    "    colunas_datetime2[\"DatabasesQueNaoPossueValorHora\"].fillna(\"\", inplace = True) \n",
    "    colunas_datetime2[\"DatabasesTableVazio\"].fillna(\"\", inplace = True) \n",
    "\n",
    "    \n",
    "\n",
    "\n"
   ]
  },
  {
   "source": [
    "## Executa apenas para testar"
   ],
   "cell_type": "markdown",
   "metadata": {}
  },
  {
   "cell_type": "code",
   "execution_count": 6,
   "metadata": {},
   "outputs": [],
   "source": [
    "dados =  executa_procedure('db_name',1,'Processo','ProcessosAndamentos','DataPrazo','datetime2')"
   ]
  },
  {
   "cell_type": "code",
   "execution_count": 7,
   "metadata": {},
   "outputs": [
    {
     "output_type": "execute_result",
     "data": {
      "text/plain": [
       "   SchemaName            TableName     Coluna       Type  Indexable  \\\n",
       "Id                                                                    \n",
       "1    Processo  ProcessosAndamentos  DataPrazo  datetime2       True   \n",
       "\n",
       "    QuantidadeLinhas  PossoAlterar          DatabasesQuePossueValorHora  \\\n",
       "Id                                                                        \n",
       "1             175420         False  apresentacao-siscaf.implanta.net.br   \n",
       "\n",
       "   DatabasesQueNaoPossueValorHora DatabasesTableVazio  \n",
       "Id                                                     \n",
       "1                                                      "
      ],
      "text/html": "<div>\n<style scoped>\n    .dataframe tbody tr th:only-of-type {\n        vertical-align: middle;\n    }\n\n    .dataframe tbody tr th {\n        vertical-align: top;\n    }\n\n    .dataframe thead th {\n        text-align: right;\n    }\n</style>\n<table border=\"1\" class=\"dataframe\">\n  <thead>\n    <tr style=\"text-align: right;\">\n      <th></th>\n      <th>SchemaName</th>\n      <th>TableName</th>\n      <th>Coluna</th>\n      <th>Type</th>\n      <th>Indexable</th>\n      <th>QuantidadeLinhas</th>\n      <th>PossoAlterar</th>\n      <th>DatabasesQuePossueValorHora</th>\n      <th>DatabasesQueNaoPossueValorHora</th>\n      <th>DatabasesTableVazio</th>\n    </tr>\n    <tr>\n      <th>Id</th>\n      <th></th>\n      <th></th>\n      <th></th>\n      <th></th>\n      <th></th>\n      <th></th>\n      <th></th>\n      <th></th>\n      <th></th>\n      <th></th>\n    </tr>\n  </thead>\n  <tbody>\n    <tr>\n      <th>1</th>\n      <td>Processo</td>\n      <td>ProcessosAndamentos</td>\n      <td>DataPrazo</td>\n      <td>datetime2</td>\n      <td>True</td>\n      <td>175420</td>\n      <td>False</td>\n      <td>apresentacao-siscaf.implanta.net.br</td>\n      <td></td>\n      <td></td>\n    </tr>\n  </tbody>\n</table>\n</div>"
     },
     "metadata": {},
     "execution_count": 7
    }
   ],
   "source": [
    "dados"
   ]
  },
  {
   "source": [
    "## Conecta no servidor "
   ],
   "cell_type": "markdown",
   "metadata": {}
  },
  {
   "cell_type": "code",
   "execution_count": 34,
   "metadata": {},
   "outputs": [],
   "source": [
    "database = 'master'\n",
    "\n",
    "conexao =get_conection(driver,server,database,username,password)\n",
    " "
   ]
  },
  {
   "source": [
    "## Testa a Conexão"
   ],
   "cell_type": "markdown",
   "metadata": {}
  },
  {
   "cell_type": "code",
   "execution_count": 41,
   "metadata": {
    "tags": []
   },
   "outputs": [
    {
     "output_type": "stream",
     "name": "stdout",
     "text": [
      "Microsoft SQL Azure (RTM) - 12.0.2000.8 \n\tOct  1 2020 18:48:35 \n\tCopyright (C) 2019 Microsoft Corporation\n\n"
     ]
    }
   ],
   "source": [
    "cursor = conexao.cursor()\n",
    "\n",
    "\n",
    "cursor.execute(\"SELECT @@Version\") \n",
    "row = cursor.fetchone() \n",
    "while row: \n",
    "    print(row[0])\n",
    "    row = cursor.fetchone()\n",
    "\n",
    "cursor.close()"
   ]
  },
  {
   "source": [
    "## Monta a query para ler todos so bancos de dados"
   ],
   "cell_type": "markdown",
   "metadata": {}
  },
  {
   "cell_type": "code",
   "execution_count": 10,
   "metadata": {},
   "outputs": [],
   "source": [
    "SQL_Query = pd.read_sql_query(\n",
    "'''SELECT  D.database_id,D.name FROM  sys.databases AS D\n",
    " order by D.database_id''', conexao)"
   ]
  },
  {
   "source": [
    "##Monta o DataFrame"
   ],
   "cell_type": "markdown",
   "metadata": {}
  },
  {
   "cell_type": "code",
   "execution_count": 11,
   "metadata": {},
   "outputs": [],
   "source": [
    "databases = pd.DataFrame(SQL_Query, columns=['database_id','name'])"
   ]
  },
  {
   "cell_type": "code",
   "execution_count": 12,
   "metadata": {},
   "outputs": [
    {
     "output_type": "execute_result",
     "data": {
      "text/plain": [
       "database_id    511\n",
       "name           511\n",
       "dtype: int64"
      ]
     },
     "metadata": {},
     "execution_count": 12
    }
   ],
   "source": [
    "databases.count()"
   ]
  },
  {
   "source": [
    "## Executa um filtro para executar as querys somente nos databases selecionados"
   ],
   "cell_type": "markdown",
   "metadata": {}
  },
  {
   "cell_type": "code",
   "execution_count": 13,
   "metadata": {},
   "outputs": [],
   "source": [
    "bancos_filtrados = databases[~databases['name'].str.contains(\"master|Manager|ajuda|Conversor|conversor|Copy|DNE|automationjobs|Configuracao|rglab|ESPELHO|apresentacao|COPY|conrerp|conter-br|core-ap|cra-mg|cra-rj|crb-01|creci-es|creci-rj|crb|cfb|hml|crtr|crq-go|crq-ba|cau-al|crefito-pi|crp-mg|cref-rs|2020|cress-ap\")]"
   ]
  },
  {
   "cell_type": "code",
   "execution_count": 14,
   "metadata": {},
   "outputs": [
    {
     "output_type": "execute_result",
     "data": {
      "text/plain": [
       "database_id    387\n",
       "name           387\n",
       "dtype: int64"
      ]
     },
     "metadata": {},
     "execution_count": 14
    }
   ],
   "source": [
    "bancos_filtrados.count()"
   ]
  },
  {
   "cell_type": "code",
   "execution_count": 17,
   "metadata": {},
   "outputs": [
    {
     "output_type": "execute_result",
     "data": {
      "text/plain": [
       "     database_id                      name\n",
       "209          213    cra-pr.implanta.net.br\n",
       "244          248    crm-es.implanta.net.br\n",
       "98           102  coren-df.implanta.net.br\n",
       "228          232    crf-am.implanta.net.br\n",
       "405          409    cro-to.implanta.net.br\n",
       "415          419    crf-ms.implanta.net.br\n",
       "368          372    crq-ms.implanta.net.br\n",
       "113          117  cress-ms.implanta.net.br\n",
       "273          277    crq-am.implanta.net.br\n",
       "112          116    cau-rr.implanta.net.br\n",
       "422          426    oab-se.implanta.net.br\n",
       "265          269    crp-df.implanta.net.br\n",
       "41            45    cfm-br.implanta.net.br\n",
       "434          438    crf-al.implanta.net.br\n",
       "461          465    cro-mg.implanta.net.br\n",
       "33            37   core-ce.implanta.net.br\n",
       "196          200   crea-ma.implanta.net.br\n",
       "374          378    crq-pa.implanta.net.br\n",
       "308          312    crp-rn.implanta.net.br\n",
       "421          425    oab-rr.implanta.net.br"
      ],
      "text/html": "<div>\n<style scoped>\n    .dataframe tbody tr th:only-of-type {\n        vertical-align: middle;\n    }\n\n    .dataframe tbody tr th {\n        vertical-align: top;\n    }\n\n    .dataframe thead th {\n        text-align: right;\n    }\n</style>\n<table border=\"1\" class=\"dataframe\">\n  <thead>\n    <tr style=\"text-align: right;\">\n      <th></th>\n      <th>database_id</th>\n      <th>name</th>\n    </tr>\n  </thead>\n  <tbody>\n    <tr>\n      <th>209</th>\n      <td>213</td>\n      <td>cra-pr.implanta.net.br</td>\n    </tr>\n    <tr>\n      <th>244</th>\n      <td>248</td>\n      <td>crm-es.implanta.net.br</td>\n    </tr>\n    <tr>\n      <th>98</th>\n      <td>102</td>\n      <td>coren-df.implanta.net.br</td>\n    </tr>\n    <tr>\n      <th>228</th>\n      <td>232</td>\n      <td>crf-am.implanta.net.br</td>\n    </tr>\n    <tr>\n      <th>405</th>\n      <td>409</td>\n      <td>cro-to.implanta.net.br</td>\n    </tr>\n    <tr>\n      <th>415</th>\n      <td>419</td>\n      <td>crf-ms.implanta.net.br</td>\n    </tr>\n    <tr>\n      <th>368</th>\n      <td>372</td>\n      <td>crq-ms.implanta.net.br</td>\n    </tr>\n    <tr>\n      <th>113</th>\n      <td>117</td>\n      <td>cress-ms.implanta.net.br</td>\n    </tr>\n    <tr>\n      <th>273</th>\n      <td>277</td>\n      <td>crq-am.implanta.net.br</td>\n    </tr>\n    <tr>\n      <th>112</th>\n      <td>116</td>\n      <td>cau-rr.implanta.net.br</td>\n    </tr>\n    <tr>\n      <th>422</th>\n      <td>426</td>\n      <td>oab-se.implanta.net.br</td>\n    </tr>\n    <tr>\n      <th>265</th>\n      <td>269</td>\n      <td>crp-df.implanta.net.br</td>\n    </tr>\n    <tr>\n      <th>41</th>\n      <td>45</td>\n      <td>cfm-br.implanta.net.br</td>\n    </tr>\n    <tr>\n      <th>434</th>\n      <td>438</td>\n      <td>crf-al.implanta.net.br</td>\n    </tr>\n    <tr>\n      <th>461</th>\n      <td>465</td>\n      <td>cro-mg.implanta.net.br</td>\n    </tr>\n    <tr>\n      <th>33</th>\n      <td>37</td>\n      <td>core-ce.implanta.net.br</td>\n    </tr>\n    <tr>\n      <th>196</th>\n      <td>200</td>\n      <td>crea-ma.implanta.net.br</td>\n    </tr>\n    <tr>\n      <th>374</th>\n      <td>378</td>\n      <td>crq-pa.implanta.net.br</td>\n    </tr>\n    <tr>\n      <th>308</th>\n      <td>312</td>\n      <td>crp-rn.implanta.net.br</td>\n    </tr>\n    <tr>\n      <th>421</th>\n      <td>425</td>\n      <td>oab-rr.implanta.net.br</td>\n    </tr>\n  </tbody>\n</table>\n</div>"
     },
     "metadata": {},
     "execution_count": 17
    }
   ],
   "source": [
    "bancos_filtrados.sample(20)"
   ]
  },
  {
   "source": [
    "##Executa um for each para cada coluna datetime2"
   ],
   "cell_type": "markdown",
   "metadata": {}
  },
  {
   "cell_type": "code",
   "execution_count": 94,
   "metadata": {
    "tags": []
   },
   "outputs": [
    {
     "output_type": "stream",
     "name": "stdout",
     "text": [
      "==========================================>\n",
      "===>Schema: TCU Table: PlanejamentosResultados Coluna: DataCadastro idregistro 1297\n",
      "==========================================>\n",
      "===>Schema: Compra Table: OrdensServicos Coluna: Data idregistro 1298\n",
      "==========================================>\n",
      "===>Schema: Compra Table: OrdensServicos Coluna: DataPrevisao idregistro 1299\n",
      "==========================================>\n",
      "===>Schema: Compra Table: OrdensServicos Coluna: DataVencimentoNotaFiscal idregistro 1300\n",
      "==========================================>\n",
      "===>Schema: Compra Table: OrdensServicos Coluna: DataEnvioEmail idregistro 1301\n",
      "==========================================>\n",
      "===>Schema: Patrimonio Table: BensMoveisReparos Coluna: Data idregistro 1302\n",
      "==========================================>\n",
      "===>Schema: Patrimonio Table: BensMoveisReparos Coluna: DataInicio idregistro 1303\n",
      "==========================================>\n",
      "===>Schema: Patrimonio Table: BensMoveisReparos Coluna: DataTermino idregistro 1304\n",
      "==========================================>\n",
      "===>Schema: Financeiro Table: ConfiguracoesGeracoesDebitos Coluna: DataInicioVigencia idregistro 1305\n",
      "==========================================>\n",
      "===>Schema: Financeiro Table: ConfiguracoesGeracoesDebitos Coluna: DataTerminoVigencia idregistro 1306\n",
      "==========================================>\n",
      "===>Schema: Tramitacao Table: TramitacoesRecebimentos Coluna: DataRecebimento idregistro 1307\n",
      "==========================================>\n",
      "===>Schema: Tramitacao Table: TramitacoesRecebimentos Coluna: DataSaida idregistro 1308\n",
      "==========================================>\n",
      "===>Schema: DNE Table: CaixasPostaisComunitarias Coluna: DataCadastro idregistro 1309\n",
      "==========================================>\n",
      "===>Schema: Financeiro Table: ArquivosConciliacoesCieloHistoricosErros Coluna: ArquivoDataPrevistaPagamento idregistro 1310\n",
      "==========================================>\n",
      "===>Schema: Financeiro Table: ArquivosConciliacoesCieloHistoricosErros Coluna: ArquivoDataVenda idregistro 1311\n",
      "==========================================>\n",
      "===>Schema: Formulario Table: Preenchimentos Coluna: DataCriacao idregistro 1312\n",
      "==========================================>\n",
      "===>Schema: Formulario Table: Preenchimentos Coluna: DataAtualizacao idregistro 1313\n",
      "==========================================>\n",
      "===>Schema: Registro Table: FormacoesAcademicasDocumentos Coluna: DataExpedicao idregistro 1314\n",
      "==========================================>\n",
      "===>Schema: Registro Table: FormacoesAcademicasDocumentos Coluna: DataRegistro idregistro 1315\n",
      "==========================================>\n",
      "===>Schema: Registro Table: FormacoesAcademicasDocumentos Coluna: DataEntrega idregistro 1316\n",
      "==========================================>\n",
      "===>Schema: Projeto Table: HistoricosSituacoes Coluna: DataCriacao idregistro 1317\n",
      "==========================================>\n",
      "===>Schema: Financeiro Table: ParcelamentosParcelas Coluna: DataVencimento idregistro 1318\n",
      "==========================================>\n",
      "===>Schema: Financeiro Table: ParcelamentosParcelas Coluna: DataUltimoPagamento idregistro 1319\n",
      "==========================================>\n",
      "===>Schema: TCU Table: ProcessosIngressoFuncionarios Coluna: Data idregistro 1320\n",
      "==========================================>\n",
      "===>Schema: Patrimonio Table: BensMoveisSeguros Coluna: DataInicioVigencia idregistro 1321\n",
      "==========================================>\n",
      "===>Schema: Patrimonio Table: BensMoveisSeguros Coluna: DataFinalVigencia idregistro 1322\n",
      "==========================================>\n",
      "===>Schema: Serasa Table: Arquivos Coluna: DataCriacao idregistro 1323\n",
      "==========================================>\n",
      "===>Schema: Serasa Table: Arquivos Coluna: DataAtualizacao idregistro 1324\n",
      "==========================================>\n",
      "===>Schema: Serasa Table: Arquivos Coluna: DataGeracaoArquivo idregistro 1325\n",
      "==========================================>\n",
      "===>Schema: Cadastro Table: Cursos Coluna: DataChancela idregistro 1326\n",
      "==========================================>\n",
      "===>Schema: Licitacao Table: LicitacoesHistoricoSituacaoManual Coluna: Data idregistro 1327\n",
      "==========================================>\n",
      "===>Schema: Viagem Table: ProcessosPassagensTerrestresTrechos Coluna: DataIda idregistro 1328\n",
      "==========================================>\n",
      "===>Schema: Viagem Table: ProcessosPassagensTerrestresTrechos Coluna: DataVolta idregistro 1329\n",
      "==========================================>\n",
      "===>Schema: Cadin Table: NegativacoesHistoricos Coluna: Data idregistro 1330\n",
      "==========================================>\n",
      "===>Schema: DNE Table: CaixasPostaisComunitariasFaixas Coluna: DataCadastro idregistro 1331\n",
      "==========================================>\n",
      "===>Schema: Sistema Table: Lembretes Coluna: Data idregistro 1332\n",
      "==========================================>\n",
      "===>Schema: Registro Table: IdentidadesProfissionais Coluna: DataEmissao idregistro 1333\n",
      "==========================================>\n",
      "===>Schema: Registro Table: IdentidadesProfissionais Coluna: DataValidade idregistro 1334\n",
      "==========================================>\n",
      "===>Schema: Registro Table: IdentidadesProfissionais Coluna: DataCancelamento idregistro 1335\n",
      "==========================================>\n",
      "===>Schema: Registro Table: IdentidadesProfissionais Coluna: DataCriacao idregistro 1336\n",
      "==========================================>\n",
      "===>Schema: Registro Table: IdentidadesProfissionais Coluna: DataAtualizacao idregistro 1337\n",
      "==========================================>\n",
      "===>Schema: Registro Table: IdentidadesProfissionais Coluna: DataEntrega idregistro 1338\n",
      "==========================================>\n",
      "===>Schema: Registro Table: RegistrosConferencias Coluna: DataCriacao idregistro 1339\n",
      "==========================================>\n",
      "===>Schema: Registro Table: RegistrosConferencias Coluna: DataAtualizacao idregistro 1340\n",
      "==========================================>\n",
      "===>Schema: Patrimonio Table: BensMoveisSolicitacoes Coluna: Data idregistro 1341\n",
      "==========================================>\n",
      "===>Schema: Patrimonio Table: BensMoveisSolicitacoes Coluna: DataSituacao idregistro 1342\n",
      "==========================================>\n",
      "===>Schema: Viagem Table: ProcessosPassagensTrechos Coluna: DataIda idregistro 1343\n",
      "==========================================>\n",
      "===>Schema: Viagem Table: ProcessosPassagensTrechos Coluna: DataVolta idregistro 1344\n",
      "==========================================>\n",
      "===>Schema: Financeiro Table: ConfiguracoesGeracoesDebitosConfiguracoesValoresDT Coluna: DataInicioVigencia idregistro 1345\n",
      "==========================================>\n",
      "===>Schema: Financeiro Table: ConfiguracoesGeracoesDebitosConfiguracoesValoresDT Coluna: DataFimVigencia idregistro 1346\n",
      "==========================================>\n",
      "===>Schema: Financeiro Table: ConfiguracoesGeracoesDebitosConfiguracoesValoresDT Coluna: IsencaoDataEspecifica idregistro 1347\n",
      "==========================================>\n",
      "===>Schema: Financeiro Table: ConfiguracoesGeracoesDebitosConfiguracoesValoresDT Coluna: DescontoDataEspecifica idregistro 1348\n",
      "==========================================>\n",
      "===>Schema: DNE Table: Localidades Coluna: DataCadastro idregistro 1349\n",
      "==========================================>\n",
      "===>Schema: Registro Table: InativacoesColetivas Coluna: DataAgendamento idregistro 1350\n",
      "==========================================>\n",
      "===>Schema: Registro Table: InativacoesColetivas Coluna: DataInicioSituacao idregistro 1351\n",
      "==========================================>\n",
      "===>Schema: Registro Table: InativacoesColetivas Coluna: DataValidade idregistro 1352\n",
      "==========================================>\n",
      "===>Schema: Registro Table: InativacoesColetivas Coluna: DataAtualizacao idregistro 1353\n",
      "==========================================>\n",
      "===>Schema: Registro Table: InativacoesColetivas Coluna: DataCriacao idregistro 1354\n",
      "==========================================>\n",
      "===>Schema: Almoxarifado Table: Autorizacoes Coluna: Data idregistro 1355\n",
      "==========================================>\n",
      "===>Schema: Almoxarifado Table: Autorizacoes Coluna: DataModificacao idregistro 1356\n",
      "==========================================>\n",
      "===>Schema: Cadin Table: ProcessamentoArquivosRetornos Coluna: DataAgendamento idregistro 1357\n",
      "==========================================>\n",
      "===>Schema: Cadin Table: ProcessamentoArquivosRetornos Coluna: DataHoraProcessamento idregistro 1358\n",
      "==========================================>\n",
      "===>Schema: Processo Table: AndamentosLotes Coluna: DataPrazo idregistro 1359\n",
      "==========================================>\n",
      "===>Schema: Processo Table: AndamentosLotes Coluna: DataHora idregistro 1360\n",
      "==========================================>\n",
      "===>Schema: Processo Table: AndamentosLotes Coluna: DataReferencia idregistro 1361\n",
      "==========================================>\n",
      "===>Schema: Processo Table: AndamentosLotes Coluna: DataTermino idregistro 1362\n",
      "==========================================>\n",
      "===>Schema: Processo Table: AndamentosLotes Coluna: DataAtualizacao idregistro 1363\n",
      "==========================================>\n",
      "===>Schema: Processo Table: AndamentosLotes Coluna: DataCriacao idregistro 1364\n",
      "==========================================>\n",
      "===>Schema: Processo Table: AndamentosLotes Coluna: DataBaixaDeDistribuicao idregistro 1365\n",
      "==========================================>\n",
      "===>Schema: Processo Table: AndamentosLotes Coluna: DataPlenaria idregistro 1366\n"
     ]
    }
   ],
   "source": [
    "try:\n",
    "    carregar_excel_tipo_dados()\n",
    "    clone = colunas_datetime2\n",
    "\n",
    "    for index, row in clone[1294:].iterrows():\n",
    "        idregistro  =index\n",
    "        quatidadeLinhas  =row['QuantidadeLinhas']\n",
    "        ExisteHoraMinutosSegundos = row['ExisteHoraMinutosSegundos']\n",
    "        JaValidado = row['JaValidado']\n",
    "        \n",
    "        if(ExisteHoraMinutosSegundos ==False):\n",
    "            databasesQuePossueValorHora =row['DatabasesQuePossueValorHora']\n",
    "            databasesQueNaoPossueValorHora =row['DatabasesQueNaoPossueValorHora']\n",
    "            databasesTableVazio =row['DatabasesTableVazio'],\n",
    "            schemaName =row['SchemaName']\n",
    "            tableName =row['TableName']\n",
    "            coluna =row['Coluna']\n",
    "            print(\"==========================================>\")\n",
    "            print(\"===>Schema:\",schemaName,\"Table:\",tableName,\"Coluna:\",coluna,\"idregistro\",idregistro)\n",
    "\n",
    "            for i, linha in bancos_filtrados.sort_values(\"name\").iterrows():\n",
    "                \n",
    "                if(clone.at[idregistro,'ExisteHoraMinutosSegundos'] ==True):\n",
    "                    continue\n",
    "                \n",
    "                \n",
    "                retorno = executa_procedure(linha['name'],idregistro,schemaName,tableName,coluna,row['Type'])\n",
    "                \n",
    "                clone.at[idregistro,'QuantidadeBancos'] += 1\n",
    "                clone.at[idregistro,'QuantidadeLinhas'] =  quatidadeLinhas + int(retorno.loc[idregistro].QuantidadeLinhas)\n",
    "                possoAlterar = bool(retorno.loc[idregistro].PossoAlterar)\n",
    "                if(possoAlterar ==False):\n",
    "                    clone.at[idregistro,'ExisteHoraMinutosSegundos'] = True\n",
    "                    clone.at[idregistro,'JaValidado'] = True\n",
    "                    clone.at[idregistro,'DatabasesQuePossueValorHora']  += \"|\"+linha['name']\n",
    "                \n",
    "                else:\n",
    "                    if(int(retorno.loc[idregistro].QuantidadeLinhas) ==0):\n",
    "                        clone.at[idregistro,'DatabasesTableVazio']  += \"|\"+linha['name']\n",
    "                    else:\n",
    "                        clone.at[idregistro,'DatabasesQueNaoPossueValorHora']  += \"|\"+linha['name']\n",
    "\n",
    "                # print(linha['name'],\"Existe HH:\",clone.at[idregistro,'ExisteHoraMinutosSegundos'],'Vazio:' \"Sim\" if  clone.at[idregistro,'QuantidadeLinhas']==0 else 'Não' ) \n",
    "        \n",
    "        clone.at[idregistro,'JaValidado'] = True   \n",
    "\n",
    "                \n",
    "\n",
    "except BaseException as ex:\n",
    "    # Get current system exception\n",
    "    ex_type, ex_value, ex_traceback = sys.exc_info()\n",
    "\n",
    "    # Extract unformatter stack traces as tuples\n",
    "    trace_back = traceback.extract_tb(ex_traceback)\n",
    "\n",
    "    # Format stacktrace\n",
    "    stack_trace = list()\n",
    "\n",
    "    for trace in trace_back:\n",
    "        stack_trace.append(\"File : %s , Line : %d, Func.Name : %s, Message : %s\" % (trace[0], trace[1], trace[2], trace[3]))\n",
    "\n",
    "    print(\"Exception type : %s \" % ex_type.__name__)\n",
    "    print(\"Exception message : %s\" %ex_value)\n",
    "    print(\"Stack trace : %s\" %stack_trace)\n",
    "    print(linha['name'],tableName,coluna,idregistro)         \n",
    "            \n",
    "            \n",
    "        \n",
    "\n",
    "\n",
    "\n"
   ]
  },
  {
   "source": [
    "##teste erro\n"
   ],
   "cell_type": "markdown",
   "metadata": {}
  },
  {
   "cell_type": "code",
   "execution_count": 95,
   "metadata": {},
   "outputs": [],
   "source": [
    "def get_validation_query(row):\n",
    "    return \"SELECT L.{0},CAST(L.{0} AS TIME) FROM {1}.{2} AS L WHERE CAST(L.{0} AS TIME) <> '00:00:00.0000000'\".format(row['Coluna'],row['SchemaName'],row['TableName'])"
   ]
  },
  {
   "cell_type": "code",
   "execution_count": 96,
   "metadata": {},
   "outputs": [],
   "source": [
    "# Use .apply to save the new column if we'd like\n",
    "clone['QueryValidacao'] = clone.apply(get_validation_query, axis=1)\n"
   ]
  },
  {
   "cell_type": "code",
   "execution_count": 97,
   "metadata": {},
   "outputs": [
    {
     "output_type": "execute_result",
     "data": {
      "text/plain": [
       "      SchemaName                                          TableName  \\\n",
       "id                                                                    \n",
       "1297         TCU                            PlanejamentosResultados   \n",
       "1299      Compra                                     OrdensServicos   \n",
       "1304  Patrimonio                                  BensMoveisReparos   \n",
       "1305  Financeiro                       ConfiguracoesGeracoesDebitos   \n",
       "1306  Financeiro                       ConfiguracoesGeracoesDebitos   \n",
       "1310  Financeiro           ArquivosConciliacoesCieloHistoricosErros   \n",
       "1311  Financeiro           ArquivosConciliacoesCieloHistoricosErros   \n",
       "1317     Projeto                                HistoricosSituacoes   \n",
       "1322  Patrimonio                                  BensMoveisSeguros   \n",
       "1327   Licitacao                  LicitacoesHistoricoSituacaoManual   \n",
       "1332     Sistema                                          Lembretes   \n",
       "1347  Financeiro  ConfiguracoesGeracoesDebitosConfiguracoesValor...   \n",
       "1348  Financeiro  ConfiguracoesGeracoesDebitosConfiguracoesValor...   \n",
       "1352    Registro                               InativacoesColetivas   \n",
       "1357       Cadin                      ProcessamentoArquivosRetornos   \n",
       "1358       Cadin                      ProcessamentoArquivosRetornos   \n",
       "1361    Processo                                    AndamentosLotes   \n",
       "1362    Processo                                    AndamentosLotes   \n",
       "1365    Processo                                    AndamentosLotes   \n",
       "\n",
       "                            Coluna       Type  Indexable  QuantidadeLinhas  \\\n",
       "id                                                                           \n",
       "1297                  DataCadastro  datetime2       True                 3   \n",
       "1299                  DataPrevisao  datetime2       True               252   \n",
       "1304                   DataTermino  datetime2       True                 0   \n",
       "1305            DataInicioVigencia  datetime2       True                12   \n",
       "1306           DataTerminoVigencia  datetime2       True                12   \n",
       "1310  ArquivoDataPrevistaPagamento  datetime2       True               672   \n",
       "1311              ArquivoDataVenda  datetime2       True               672   \n",
       "1317                   DataCriacao  datetime2       True                 0   \n",
       "1322             DataFinalVigencia  datetime2       True                 0   \n",
       "1327                          Data  datetime2       True                 0   \n",
       "1332                          Data  datetime2       True                 0   \n",
       "1347         IsencaoDataEspecifica  datetime2       True                30   \n",
       "1348        DescontoDataEspecifica  datetime2       True                30   \n",
       "1352                  DataValidade  datetime2       True                 0   \n",
       "1357               DataAgendamento  datetime2       True                 0   \n",
       "1358         DataHoraProcessamento  datetime2       True                 0   \n",
       "1361                DataReferencia  datetime2       True                 2   \n",
       "1362                   DataTermino  datetime2       True                 2   \n",
       "1365       DataBaixaDeDistribuicao  datetime2       True                 2   \n",
       "\n",
       "      JaValidado  QuantidadeBancos  ExisteHoraMinutosSegundos  \\\n",
       "id                                                              \n",
       "1297        True               387                      False   \n",
       "1299        True               387                      False   \n",
       "1304        True               387                      False   \n",
       "1305        True               387                      False   \n",
       "1306        True               387                      False   \n",
       "1310        True               387                      False   \n",
       "1311        True               387                      False   \n",
       "1317        True               387                      False   \n",
       "1322        True               387                      False   \n",
       "1327        True               387                      False   \n",
       "1332        True               387                      False   \n",
       "1347        True               387                      False   \n",
       "1348        True               387                      False   \n",
       "1352        True               387                      False   \n",
       "1357        True               387                      False   \n",
       "1358        True               387                      False   \n",
       "1361        True               387                      False   \n",
       "1362        True               387                      False   \n",
       "1365        True               387                      False   \n",
       "\n",
       "     DatabasesQuePossueValorHora  \\\n",
       "id                                 \n",
       "1297                         nan   \n",
       "1299                         nan   \n",
       "1304                         nan   \n",
       "1305                         nan   \n",
       "1306                         nan   \n",
       "1310                         nan   \n",
       "1311                         nan   \n",
       "1317                         nan   \n",
       "1322                         nan   \n",
       "1327                         nan   \n",
       "1332                         nan   \n",
       "1347                         nan   \n",
       "1348                         nan   \n",
       "1352                         nan   \n",
       "1357                         nan   \n",
       "1358                         nan   \n",
       "1361                         nan   \n",
       "1362                         nan   \n",
       "1365                         nan   \n",
       "\n",
       "                         DatabasesQueNaoPossueValorHora  \\\n",
       "id                                                        \n",
       "1297  nan|cau-ac.implanta.net.br|cau-am.implanta.net...   \n",
       "1299  nan|cau-br.implanta.net.br|cau-mg.implanta.net...   \n",
       "1304  nan|cau-go.implanta.net.br|cau-sc.implanta.net...   \n",
       "1305  nan|cra-al.implanta.net.br|cra-am.implanta.net...   \n",
       "1306  nan|cra-al.implanta.net.br|cra-am.implanta.net...   \n",
       "1310  nan|cra-am.implanta.net.br|cra-df.implanta.net...   \n",
       "1311  nan|cra-am.implanta.net.br|cra-df.implanta.net...   \n",
       "1317                                                nan   \n",
       "1322  nan|cau-go.implanta.net.br|cau-sp.implanta.net...   \n",
       "1327  nan|cau-mg.implanta.net.br|cau-ro.implanta.net...   \n",
       "1332  nan|cfp-br.implanta.net.br|coren-pi.implanta.n...   \n",
       "1347  nan|cra-al.implanta.net.br|cra-am.implanta.net...   \n",
       "1348  nan|cra-al.implanta.net.br|cra-am.implanta.net...   \n",
       "1352  nan|cra-es.implanta.net.br|cra-pr.implanta.net...   \n",
       "1357                                                nan   \n",
       "1358                                                nan   \n",
       "1361  nan|cau-rs.implanta.net.br|cro-sp.implanta.net...   \n",
       "1362  nan|cau-rs.implanta.net.br|cro-sp.implanta.net...   \n",
       "1365  nan|cau-rs.implanta.net.br|cro-sp.implanta.net...   \n",
       "\n",
       "                                    DatabasesTableVazio  \\\n",
       "id                                                        \n",
       "1297  nan|caa-ma.implanta.net.br|cfa-br.implanta.net...   \n",
       "1299  nan|caa-ma.implanta.net.br|cau-ac.implanta.net...   \n",
       "1304  nan|caa-ma.implanta.net.br|cau-ac.implanta.net...   \n",
       "1305  nan|caa-ma.implanta.net.br|cau-ac.implanta.net...   \n",
       "1306  nan|caa-ma.implanta.net.br|cau-ac.implanta.net...   \n",
       "1310  nan|caa-ma.implanta.net.br|cau-ac.implanta.net...   \n",
       "1311  nan|caa-ma.implanta.net.br|cau-ac.implanta.net...   \n",
       "1317  nan|caa-ma.implanta.net.br|cau-ac.implanta.net...   \n",
       "1322  nan|caa-ma.implanta.net.br|cau-ac.implanta.net...   \n",
       "1327  nan|caa-ma.implanta.net.br|cau-ac.implanta.net...   \n",
       "1332  nan|caa-ma.implanta.net.br|cau-ac.implanta.net...   \n",
       "1347  nan|caa-ma.implanta.net.br|cau-ac.implanta.net...   \n",
       "1348  nan|caa-ma.implanta.net.br|cau-ac.implanta.net...   \n",
       "1352  nan|caa-ma.implanta.net.br|cau-ac.implanta.net...   \n",
       "1357  nan|caa-ma.implanta.net.br|cau-ac.implanta.net...   \n",
       "1358  nan|caa-ma.implanta.net.br|cau-ac.implanta.net...   \n",
       "1361  nan|caa-ma.implanta.net.br|cau-ac.implanta.net...   \n",
       "1362  nan|caa-ma.implanta.net.br|cau-ac.implanta.net...   \n",
       "1365  nan|caa-ma.implanta.net.br|cau-ac.implanta.net...   \n",
       "\n",
       "                                         QueryValidacao  \n",
       "id                                                       \n",
       "1297  SELECT L.DataCadastro,CAST(L.DataCadastro AS T...  \n",
       "1299  SELECT L.DataPrevisao,CAST(L.DataPrevisao AS T...  \n",
       "1304  SELECT L.DataTermino,CAST(L.DataTermino AS TIM...  \n",
       "1305  SELECT L.DataInicioVigencia,CAST(L.DataInicioV...  \n",
       "1306  SELECT L.DataTerminoVigencia,CAST(L.DataTermin...  \n",
       "1310  SELECT L.ArquivoDataPrevistaPagamento,CAST(L.A...  \n",
       "1311  SELECT L.ArquivoDataVenda,CAST(L.ArquivoDataVe...  \n",
       "1317  SELECT L.DataCriacao,CAST(L.DataCriacao AS TIM...  \n",
       "1322  SELECT L.DataFinalVigencia,CAST(L.DataFinalVig...  \n",
       "1327  SELECT L.Data,CAST(L.Data AS TIME) FROM Licita...  \n",
       "1332  SELECT L.Data,CAST(L.Data AS TIME) FROM Sistem...  \n",
       "1347  SELECT L.IsencaoDataEspecifica,CAST(L.IsencaoD...  \n",
       "1348  SELECT L.DescontoDataEspecifica,CAST(L.Descont...  \n",
       "1352  SELECT L.DataValidade,CAST(L.DataValidade AS T...  \n",
       "1357  SELECT L.DataAgendamento,CAST(L.DataAgendament...  \n",
       "1358  SELECT L.DataHoraProcessamento,CAST(L.DataHora...  \n",
       "1361  SELECT L.DataReferencia,CAST(L.DataReferencia ...  \n",
       "1362  SELECT L.DataTermino,CAST(L.DataTermino AS TIM...  \n",
       "1365  SELECT L.DataBaixaDeDistribuicao,CAST(L.DataBa...  "
      ],
      "text/html": "<div>\n<style scoped>\n    .dataframe tbody tr th:only-of-type {\n        vertical-align: middle;\n    }\n\n    .dataframe tbody tr th {\n        vertical-align: top;\n    }\n\n    .dataframe thead th {\n        text-align: right;\n    }\n</style>\n<table border=\"1\" class=\"dataframe\">\n  <thead>\n    <tr style=\"text-align: right;\">\n      <th></th>\n      <th>SchemaName</th>\n      <th>TableName</th>\n      <th>Coluna</th>\n      <th>Type</th>\n      <th>Indexable</th>\n      <th>QuantidadeLinhas</th>\n      <th>JaValidado</th>\n      <th>QuantidadeBancos</th>\n      <th>ExisteHoraMinutosSegundos</th>\n      <th>DatabasesQuePossueValorHora</th>\n      <th>DatabasesQueNaoPossueValorHora</th>\n      <th>DatabasesTableVazio</th>\n      <th>QueryValidacao</th>\n    </tr>\n    <tr>\n      <th>id</th>\n      <th></th>\n      <th></th>\n      <th></th>\n      <th></th>\n      <th></th>\n      <th></th>\n      <th></th>\n      <th></th>\n      <th></th>\n      <th></th>\n      <th></th>\n      <th></th>\n      <th></th>\n    </tr>\n  </thead>\n  <tbody>\n    <tr>\n      <th>1297</th>\n      <td>TCU</td>\n      <td>PlanejamentosResultados</td>\n      <td>DataCadastro</td>\n      <td>datetime2</td>\n      <td>True</td>\n      <td>3</td>\n      <td>True</td>\n      <td>387</td>\n      <td>False</td>\n      <td>nan</td>\n      <td>nan|cau-ac.implanta.net.br|cau-am.implanta.net...</td>\n      <td>nan|caa-ma.implanta.net.br|cfa-br.implanta.net...</td>\n      <td>SELECT L.DataCadastro,CAST(L.DataCadastro AS T...</td>\n    </tr>\n    <tr>\n      <th>1299</th>\n      <td>Compra</td>\n      <td>OrdensServicos</td>\n      <td>DataPrevisao</td>\n      <td>datetime2</td>\n      <td>True</td>\n      <td>252</td>\n      <td>True</td>\n      <td>387</td>\n      <td>False</td>\n      <td>nan</td>\n      <td>nan|cau-br.implanta.net.br|cau-mg.implanta.net...</td>\n      <td>nan|caa-ma.implanta.net.br|cau-ac.implanta.net...</td>\n      <td>SELECT L.DataPrevisao,CAST(L.DataPrevisao AS T...</td>\n    </tr>\n    <tr>\n      <th>1304</th>\n      <td>Patrimonio</td>\n      <td>BensMoveisReparos</td>\n      <td>DataTermino</td>\n      <td>datetime2</td>\n      <td>True</td>\n      <td>0</td>\n      <td>True</td>\n      <td>387</td>\n      <td>False</td>\n      <td>nan</td>\n      <td>nan|cau-go.implanta.net.br|cau-sc.implanta.net...</td>\n      <td>nan|caa-ma.implanta.net.br|cau-ac.implanta.net...</td>\n      <td>SELECT L.DataTermino,CAST(L.DataTermino AS TIM...</td>\n    </tr>\n    <tr>\n      <th>1305</th>\n      <td>Financeiro</td>\n      <td>ConfiguracoesGeracoesDebitos</td>\n      <td>DataInicioVigencia</td>\n      <td>datetime2</td>\n      <td>True</td>\n      <td>12</td>\n      <td>True</td>\n      <td>387</td>\n      <td>False</td>\n      <td>nan</td>\n      <td>nan|cra-al.implanta.net.br|cra-am.implanta.net...</td>\n      <td>nan|caa-ma.implanta.net.br|cau-ac.implanta.net...</td>\n      <td>SELECT L.DataInicioVigencia,CAST(L.DataInicioV...</td>\n    </tr>\n    <tr>\n      <th>1306</th>\n      <td>Financeiro</td>\n      <td>ConfiguracoesGeracoesDebitos</td>\n      <td>DataTerminoVigencia</td>\n      <td>datetime2</td>\n      <td>True</td>\n      <td>12</td>\n      <td>True</td>\n      <td>387</td>\n      <td>False</td>\n      <td>nan</td>\n      <td>nan|cra-al.implanta.net.br|cra-am.implanta.net...</td>\n      <td>nan|caa-ma.implanta.net.br|cau-ac.implanta.net...</td>\n      <td>SELECT L.DataTerminoVigencia,CAST(L.DataTermin...</td>\n    </tr>\n    <tr>\n      <th>1310</th>\n      <td>Financeiro</td>\n      <td>ArquivosConciliacoesCieloHistoricosErros</td>\n      <td>ArquivoDataPrevistaPagamento</td>\n      <td>datetime2</td>\n      <td>True</td>\n      <td>672</td>\n      <td>True</td>\n      <td>387</td>\n      <td>False</td>\n      <td>nan</td>\n      <td>nan|cra-am.implanta.net.br|cra-df.implanta.net...</td>\n      <td>nan|caa-ma.implanta.net.br|cau-ac.implanta.net...</td>\n      <td>SELECT L.ArquivoDataPrevistaPagamento,CAST(L.A...</td>\n    </tr>\n    <tr>\n      <th>1311</th>\n      <td>Financeiro</td>\n      <td>ArquivosConciliacoesCieloHistoricosErros</td>\n      <td>ArquivoDataVenda</td>\n      <td>datetime2</td>\n      <td>True</td>\n      <td>672</td>\n      <td>True</td>\n      <td>387</td>\n      <td>False</td>\n      <td>nan</td>\n      <td>nan|cra-am.implanta.net.br|cra-df.implanta.net...</td>\n      <td>nan|caa-ma.implanta.net.br|cau-ac.implanta.net...</td>\n      <td>SELECT L.ArquivoDataVenda,CAST(L.ArquivoDataVe...</td>\n    </tr>\n    <tr>\n      <th>1317</th>\n      <td>Projeto</td>\n      <td>HistoricosSituacoes</td>\n      <td>DataCriacao</td>\n      <td>datetime2</td>\n      <td>True</td>\n      <td>0</td>\n      <td>True</td>\n      <td>387</td>\n      <td>False</td>\n      <td>nan</td>\n      <td>nan</td>\n      <td>nan|caa-ma.implanta.net.br|cau-ac.implanta.net...</td>\n      <td>SELECT L.DataCriacao,CAST(L.DataCriacao AS TIM...</td>\n    </tr>\n    <tr>\n      <th>1322</th>\n      <td>Patrimonio</td>\n      <td>BensMoveisSeguros</td>\n      <td>DataFinalVigencia</td>\n      <td>datetime2</td>\n      <td>True</td>\n      <td>0</td>\n      <td>True</td>\n      <td>387</td>\n      <td>False</td>\n      <td>nan</td>\n      <td>nan|cau-go.implanta.net.br|cau-sp.implanta.net...</td>\n      <td>nan|caa-ma.implanta.net.br|cau-ac.implanta.net...</td>\n      <td>SELECT L.DataFinalVigencia,CAST(L.DataFinalVig...</td>\n    </tr>\n    <tr>\n      <th>1327</th>\n      <td>Licitacao</td>\n      <td>LicitacoesHistoricoSituacaoManual</td>\n      <td>Data</td>\n      <td>datetime2</td>\n      <td>True</td>\n      <td>0</td>\n      <td>True</td>\n      <td>387</td>\n      <td>False</td>\n      <td>nan</td>\n      <td>nan|cau-mg.implanta.net.br|cau-ro.implanta.net...</td>\n      <td>nan|caa-ma.implanta.net.br|cau-ac.implanta.net...</td>\n      <td>SELECT L.Data,CAST(L.Data AS TIME) FROM Licita...</td>\n    </tr>\n    <tr>\n      <th>1332</th>\n      <td>Sistema</td>\n      <td>Lembretes</td>\n      <td>Data</td>\n      <td>datetime2</td>\n      <td>True</td>\n      <td>0</td>\n      <td>True</td>\n      <td>387</td>\n      <td>False</td>\n      <td>nan</td>\n      <td>nan|cfp-br.implanta.net.br|coren-pi.implanta.n...</td>\n      <td>nan|caa-ma.implanta.net.br|cau-ac.implanta.net...</td>\n      <td>SELECT L.Data,CAST(L.Data AS TIME) FROM Sistem...</td>\n    </tr>\n    <tr>\n      <th>1347</th>\n      <td>Financeiro</td>\n      <td>ConfiguracoesGeracoesDebitosConfiguracoesValor...</td>\n      <td>IsencaoDataEspecifica</td>\n      <td>datetime2</td>\n      <td>True</td>\n      <td>30</td>\n      <td>True</td>\n      <td>387</td>\n      <td>False</td>\n      <td>nan</td>\n      <td>nan|cra-al.implanta.net.br|cra-am.implanta.net...</td>\n      <td>nan|caa-ma.implanta.net.br|cau-ac.implanta.net...</td>\n      <td>SELECT L.IsencaoDataEspecifica,CAST(L.IsencaoD...</td>\n    </tr>\n    <tr>\n      <th>1348</th>\n      <td>Financeiro</td>\n      <td>ConfiguracoesGeracoesDebitosConfiguracoesValor...</td>\n      <td>DescontoDataEspecifica</td>\n      <td>datetime2</td>\n      <td>True</td>\n      <td>30</td>\n      <td>True</td>\n      <td>387</td>\n      <td>False</td>\n      <td>nan</td>\n      <td>nan|cra-al.implanta.net.br|cra-am.implanta.net...</td>\n      <td>nan|caa-ma.implanta.net.br|cau-ac.implanta.net...</td>\n      <td>SELECT L.DescontoDataEspecifica,CAST(L.Descont...</td>\n    </tr>\n    <tr>\n      <th>1352</th>\n      <td>Registro</td>\n      <td>InativacoesColetivas</td>\n      <td>DataValidade</td>\n      <td>datetime2</td>\n      <td>True</td>\n      <td>0</td>\n      <td>True</td>\n      <td>387</td>\n      <td>False</td>\n      <td>nan</td>\n      <td>nan|cra-es.implanta.net.br|cra-pr.implanta.net...</td>\n      <td>nan|caa-ma.implanta.net.br|cau-ac.implanta.net...</td>\n      <td>SELECT L.DataValidade,CAST(L.DataValidade AS T...</td>\n    </tr>\n    <tr>\n      <th>1357</th>\n      <td>Cadin</td>\n      <td>ProcessamentoArquivosRetornos</td>\n      <td>DataAgendamento</td>\n      <td>datetime2</td>\n      <td>True</td>\n      <td>0</td>\n      <td>True</td>\n      <td>387</td>\n      <td>False</td>\n      <td>nan</td>\n      <td>nan</td>\n      <td>nan|caa-ma.implanta.net.br|cau-ac.implanta.net...</td>\n      <td>SELECT L.DataAgendamento,CAST(L.DataAgendament...</td>\n    </tr>\n    <tr>\n      <th>1358</th>\n      <td>Cadin</td>\n      <td>ProcessamentoArquivosRetornos</td>\n      <td>DataHoraProcessamento</td>\n      <td>datetime2</td>\n      <td>True</td>\n      <td>0</td>\n      <td>True</td>\n      <td>387</td>\n      <td>False</td>\n      <td>nan</td>\n      <td>nan</td>\n      <td>nan|caa-ma.implanta.net.br|cau-ac.implanta.net...</td>\n      <td>SELECT L.DataHoraProcessamento,CAST(L.DataHora...</td>\n    </tr>\n    <tr>\n      <th>1361</th>\n      <td>Processo</td>\n      <td>AndamentosLotes</td>\n      <td>DataReferencia</td>\n      <td>datetime2</td>\n      <td>True</td>\n      <td>2</td>\n      <td>True</td>\n      <td>387</td>\n      <td>False</td>\n      <td>nan</td>\n      <td>nan|cau-rs.implanta.net.br|cro-sp.implanta.net...</td>\n      <td>nan|caa-ma.implanta.net.br|cau-ac.implanta.net...</td>\n      <td>SELECT L.DataReferencia,CAST(L.DataReferencia ...</td>\n    </tr>\n    <tr>\n      <th>1362</th>\n      <td>Processo</td>\n      <td>AndamentosLotes</td>\n      <td>DataTermino</td>\n      <td>datetime2</td>\n      <td>True</td>\n      <td>2</td>\n      <td>True</td>\n      <td>387</td>\n      <td>False</td>\n      <td>nan</td>\n      <td>nan|cau-rs.implanta.net.br|cro-sp.implanta.net...</td>\n      <td>nan|caa-ma.implanta.net.br|cau-ac.implanta.net...</td>\n      <td>SELECT L.DataTermino,CAST(L.DataTermino AS TIM...</td>\n    </tr>\n    <tr>\n      <th>1365</th>\n      <td>Processo</td>\n      <td>AndamentosLotes</td>\n      <td>DataBaixaDeDistribuicao</td>\n      <td>datetime2</td>\n      <td>True</td>\n      <td>2</td>\n      <td>True</td>\n      <td>387</td>\n      <td>False</td>\n      <td>nan</td>\n      <td>nan|cau-rs.implanta.net.br|cro-sp.implanta.net...</td>\n      <td>nan|caa-ma.implanta.net.br|cau-ac.implanta.net...</td>\n      <td>SELECT L.DataBaixaDeDistribuicao,CAST(L.DataBa...</td>\n    </tr>\n  </tbody>\n</table>\n</div>"
     },
     "metadata": {},
     "execution_count": 97
    }
   ],
   "source": [
    "clone.query(\"QuantidadeBancos > 0 and ExisteHoraMinutosSegundos == False and JaValidado ==True\")"
   ]
  },
  {
   "source": [
    "## gera a planilha com o primeiro resultado"
   ],
   "cell_type": "markdown",
   "metadata": {}
  },
  {
   "cell_type": "code",
   "execution_count": 98,
   "metadata": {},
   "outputs": [],
   "source": [
    "clone.query(\"QuantidadeBancos > 0 and ExisteHoraMinutosSegundos == False and JaValidado ==True\").to_excel(r'D:\\1.Implanta(Nunca Apagar)\\Power BI Implanta\\Compressão Banco\\Alterações Datetime2 para Date\\CalculoCamposDate_V2_4.xlsx', index = True)"
   ]
  },
  {
   "source": [
    "##Fecha a conexão "
   ],
   "cell_type": "markdown",
   "metadata": {}
  },
  {
   "source": [
    "## Retorna somente os campos que podem ser alterados"
   ],
   "cell_type": "markdown",
   "metadata": {}
  },
  {
   "source": [
    "conexao.close()"
   ],
   "cell_type": "code",
   "metadata": {},
   "execution_count": null,
   "outputs": []
  }
 ]
}