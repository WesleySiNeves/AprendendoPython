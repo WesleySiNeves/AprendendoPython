{
 "cells": [
  {
   "cell_type": "markdown",
   "metadata": {},
   "source": [
    "# <font color='blue'>Data Science Academy - Python Fundamentos - Capítulo 6</font>\n",
    "\n",
    "## Download: http://github.com/dsacademybr"
   ]
  },
  {
   "cell_type": "markdown",
   "metadata": {},
   "source": [
    "### Update e Delete"
   ]
  },
  {
   "cell_type": "code",
   "execution_count": 8,
   "metadata": {},
   "outputs": [],
   "source": [
    "import sqlite3\n",
    "import random\n",
    "import time\n",
    "import datetime\n",
    " \n",
    "# Criando uma conexão\n",
    "conn = sqlite3.connect('dsa.db')   \n",
    "\n",
    "# Criando um cursor\n",
    "c = conn.cursor()\n",
    " \n",
    "# Função para criar uma tabela\n",
    "def create_table():\n",
    "    c.execute('CREATE TABLE IF NOT EXISTS produtos(id INTEGER PRIMARY KEY AUTOINCREMENT NOT NULL, date TEXT, '\\\n",
    "              'prod_name TEXT, valor REAL)')\n",
    "      \n",
    "# Função para inserir uma linha\n",
    "def data_insert():\n",
    "    c.execute(\"INSERT INTO produtos VALUES(002, '02-05-2016', 'teclado', 130 )\")\n",
    "    conn.commit()\n",
    "    c.close()\n",
    "    conn.close()\n",
    "    \n",
    "# Usando variáveis para inserir dados    \n",
    "def data_insert_var():\n",
    "    new_date = datetime.datetime.now()\n",
    "    new_prod_name = 'monitor'\n",
    "    new_valor = random.randrange(50,100)\n",
    "    c.execute(\"INSERT INTO produtos (date, prod_name, valor) VALUES (?, ?, ?, ?)\", \n",
    "              (new_date, new_prod_name, new_valor))\n",
    "    conn.commit()\n",
    "    \n",
    "# Leitura de dados\n",
    "def leitura_todos_dados():\n",
    "    c.execute(\"SELECT * FROM PRODUTOS\")\n",
    "    for linha in c.fetchall():\n",
    "        print(linha)\n",
    "        \n",
    "# Leitura de registros específicos\n",
    "def leitura_registros():\n",
    "    c.execute(\"SELECT * FROM PRODUTOS WHERE valor > 70.0\")\n",
    "    for linha in c.fetchall():\n",
    "        print(linha)      \n",
    "        \n",
    "# Leitura de colunas específicos\n",
    "def leitura_colunas():\n",
    "    c.execute(\"SELECT * FROM PRODUTOS\")\n",
    "    for linha in c.fetchall():\n",
    "        print(linha[3])  \n",
    "        \n",
    "# Update\n",
    "def atualiza_dados():\n",
    "    c.execute(\"UPDATE produtos SET valor = 70.00 WHERE valor = 99.0\")\n",
    "    conn.commit()\n",
    "    \n",
    "# Delete\n",
    "def remove_dados():\n",
    "    c.execute(\"DELETE FROM produtos WHERE valor = 62.0\")\n",
    "    conn.commit()"
   ]
  },
  {
   "cell_type": "code",
   "execution_count": 9,
   "metadata": {},
   "outputs": [],
   "source": [
    "atualiza_dados()"
   ]
  },
  {
   "cell_type": "code",
   "execution_count": 10,
   "metadata": {},
   "outputs": [
    {
     "name": "stdout",
     "output_type": "stream",
     "text": "(10, '2018-05-02 14:32:11', 'Teclado', 90.0)\n(11, '2020-01-22 15:20:33.681371', 'Monitor', 52.0)\n(12, '2020-01-22 15:20:35.216492', 'Monitor', 76.0)\n(13, '2020-01-22 15:20:36.334746', 'Teclado', 70.0)\n(14, '2020-01-22 15:20:37.464094', 'Teclado', 93.0)\n(15, '2020-01-22 15:20:38.581277', 'Teclado', 79.0)\n(16, '2020-01-22 15:20:39.710810', 'Teclado', 93.0)\n(17, '2020-01-22 15:20:40.817429', 'Monitor', 64.0)\n(18, '2020-01-22 15:20:41.947037', 'Teclado', 83.0)\n(19, '2020-01-22 15:20:43.076591', 'Teclado', 89.0)\n(20, '2020-01-22 15:20:44.216183', 'Monitor', 60.0)\n(21, '2020-01-22 15:20:45.345696', 'Teclado', 79.0)\n(22, '2020-01-22 15:20:46.463492', 'Monitor', 58.0)\n(23, '2020-01-22 15:20:47.581633', 'Monitor', 54.0)\n(24, '2020-01-22 15:20:48.721667', 'Monitor', 92.0)\n(25, '2020-01-22 15:20:49.850890', 'Teclado', 53.0)\n(26, '2020-01-22 15:20:50.980631', 'Teclado', 77.0)\n(27, '2020-01-22 15:20:52.064720', 'Monitor', 72.0)\n(28, '2020-01-22 15:20:53.193479', 'Monitor', 76.0)\n(29, '2020-01-22 15:20:54.297590', 'Teclado', 81.0)\n(30, '2020-01-22 15:20:55.408285', 'Teclado', 55.0)\n(31, '2020-01-22 15:20:56.514646', 'Teclado', 65.0)\n(32, '2020-01-22 15:20:57.644111', 'Monitor', 92.0)\n(33, '2020-01-22 15:20:58.784310', 'Monitor', 50.0)\n(34, '2020-01-22 15:20:59.902448', 'Monitor', 72.0)\n(35, '2020-01-22 15:21:01.031143', 'Teclado', 87.0)\n(36, '2020-01-22 15:21:02.116485', 'Teclado', 87.0)\n(37, '2020-01-22 15:21:03.209529', 'Teclado', 53.0)\n(38, '2020-01-22 15:21:04.319848', 'Teclado', 87.0)\n(39, '2020-01-22 15:21:05.442850', 'Monitor', 84.0)\n(40, '2020-01-22 15:21:06.560068', 'Monitor', 58.0)\n(41, '2020-01-22 15:21:07.674591', 'Monitor', 80.0)\n(42, '2020-01-22 15:21:08.768954', 'Monitor', 66.0)\n(43, '2020-01-22 15:21:09.860926', 'Monitor', 86.0)\n(44, '2020-01-22 15:21:10.983890', 'Monitor', 86.0)\n(45, '2020-01-22 15:21:12.108615', 'Monitor', 80.0)\n(46, '2020-01-22 15:21:13.230922', 'Teclado', 59.0)\n(47, '2020-01-22 15:21:14.324285', 'Teclado', 95.0)\n(48, '2020-01-22 15:21:15.433313', 'Monitor', 94.0)\n(49, '2020-01-22 15:21:16.552019', 'Monitor', 86.0)\n(50, '2020-01-22 15:21:17.673167', 'Monitor', 66.0)\n(51, '2020-01-22 15:21:18.788926', 'Monitor', 92.0)\n(52, '2020-01-22 15:21:19.906220', 'Teclado', 55.0)\n(53, '2020-01-22 15:21:21.009337', 'Teclado', 77.0)\n(54, '2020-01-22 15:21:22.142786', 'Monitor', 80.0)\n(56, '2020-01-22 15:21:24.363002', 'Monitor', 74.0)\n(57, '2020-01-22 15:21:25.469968', 'Teclado', 73.0)\n(58, '2020-01-22 15:21:26.578835', 'Teclado', 95.0)\n(59, '2020-01-22 15:21:27.709930', 'Teclado', 95.0)\n(60, '2020-01-22 15:21:28.827633', 'Teclado', 67.0)\n"
    }
   ],
   "source": [
    "leitura_todos_dados()"
   ]
  },
  {
   "cell_type": "code",
   "execution_count": 11,
   "metadata": {},
   "outputs": [],
   "source": [
    "remove_dados()"
   ]
  },
  {
   "cell_type": "code",
   "execution_count": 12,
   "metadata": {},
   "outputs": [
    {
     "name": "stdout",
     "output_type": "stream",
     "text": "(10, '2018-05-02 14:32:11', 'Teclado', 90.0)\n(11, '2020-01-22 15:20:33.681371', 'Monitor', 52.0)\n(12, '2020-01-22 15:20:35.216492', 'Monitor', 76.0)\n(13, '2020-01-22 15:20:36.334746', 'Teclado', 70.0)\n(14, '2020-01-22 15:20:37.464094', 'Teclado', 93.0)\n(15, '2020-01-22 15:20:38.581277', 'Teclado', 79.0)\n(16, '2020-01-22 15:20:39.710810', 'Teclado', 93.0)\n(17, '2020-01-22 15:20:40.817429', 'Monitor', 64.0)\n(18, '2020-01-22 15:20:41.947037', 'Teclado', 83.0)\n(19, '2020-01-22 15:20:43.076591', 'Teclado', 89.0)\n(20, '2020-01-22 15:20:44.216183', 'Monitor', 60.0)\n(21, '2020-01-22 15:20:45.345696', 'Teclado', 79.0)\n(22, '2020-01-22 15:20:46.463492', 'Monitor', 58.0)\n(23, '2020-01-22 15:20:47.581633', 'Monitor', 54.0)\n(24, '2020-01-22 15:20:48.721667', 'Monitor', 92.0)\n(25, '2020-01-22 15:20:49.850890', 'Teclado', 53.0)\n(26, '2020-01-22 15:20:50.980631', 'Teclado', 77.0)\n(27, '2020-01-22 15:20:52.064720', 'Monitor', 72.0)\n(28, '2020-01-22 15:20:53.193479', 'Monitor', 76.0)\n(29, '2020-01-22 15:20:54.297590', 'Teclado', 81.0)\n(30, '2020-01-22 15:20:55.408285', 'Teclado', 55.0)\n(31, '2020-01-22 15:20:56.514646', 'Teclado', 65.0)\n(32, '2020-01-22 15:20:57.644111', 'Monitor', 92.0)\n(33, '2020-01-22 15:20:58.784310', 'Monitor', 50.0)\n(34, '2020-01-22 15:20:59.902448', 'Monitor', 72.0)\n(35, '2020-01-22 15:21:01.031143', 'Teclado', 87.0)\n(36, '2020-01-22 15:21:02.116485', 'Teclado', 87.0)\n(37, '2020-01-22 15:21:03.209529', 'Teclado', 53.0)\n(38, '2020-01-22 15:21:04.319848', 'Teclado', 87.0)\n(39, '2020-01-22 15:21:05.442850', 'Monitor', 84.0)\n(40, '2020-01-22 15:21:06.560068', 'Monitor', 58.0)\n(41, '2020-01-22 15:21:07.674591', 'Monitor', 80.0)\n(42, '2020-01-22 15:21:08.768954', 'Monitor', 66.0)\n(43, '2020-01-22 15:21:09.860926', 'Monitor', 86.0)\n(44, '2020-01-22 15:21:10.983890', 'Monitor', 86.0)\n(45, '2020-01-22 15:21:12.108615', 'Monitor', 80.0)\n(46, '2020-01-22 15:21:13.230922', 'Teclado', 59.0)\n(47, '2020-01-22 15:21:14.324285', 'Teclado', 95.0)\n(48, '2020-01-22 15:21:15.433313', 'Monitor', 94.0)\n(49, '2020-01-22 15:21:16.552019', 'Monitor', 86.0)\n(50, '2020-01-22 15:21:17.673167', 'Monitor', 66.0)\n(51, '2020-01-22 15:21:18.788926', 'Monitor', 92.0)\n(52, '2020-01-22 15:21:19.906220', 'Teclado', 55.0)\n(53, '2020-01-22 15:21:21.009337', 'Teclado', 77.0)\n(54, '2020-01-22 15:21:22.142786', 'Monitor', 80.0)\n(56, '2020-01-22 15:21:24.363002', 'Monitor', 74.0)\n(57, '2020-01-22 15:21:25.469968', 'Teclado', 73.0)\n(58, '2020-01-22 15:21:26.578835', 'Teclado', 95.0)\n(59, '2020-01-22 15:21:27.709930', 'Teclado', 95.0)\n(60, '2020-01-22 15:21:28.827633', 'Teclado', 67.0)\n"
    }
   ],
   "source": [
    "leitura_todos_dados()"
   ]
  },
  {
   "cell_type": "markdown",
   "metadata": {},
   "source": [
    "# Fim"
   ]
  },
  {
   "cell_type": "markdown",
   "metadata": {},
   "source": [
    "### Obrigado - Data Science Academy - <a href=\"http://facebook.com/dsacademybr\">facebook.com/dsacademybr</a>"
   ]
  }
 ],
 "metadata": {
  "kernelspec": {
   "display_name": "Python 3.7.4 64-bit ('base': conda)",
   "language": "python",
   "name": "python37464bitbaseconda12a05f8498994746951df3cf97509cd1"
  },
  "language_info": {
   "codemirror_mode": {
    "name": "ipython",
    "version": 3
   },
   "file_extension": ".py",
   "mimetype": "text/x-python",
   "name": "python",
   "nbconvert_exporter": "python",
   "pygments_lexer": "ipython3",
   "version": "3.7.4-final"
  }
 },
 "nbformat": 4,
 "nbformat_minor": 1
}