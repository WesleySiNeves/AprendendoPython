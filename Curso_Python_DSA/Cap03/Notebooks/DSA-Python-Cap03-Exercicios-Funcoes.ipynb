{
 "cells": [
  {
   "cell_type": "markdown",
   "metadata": {},
   "source": [
    "# <font color='blue'>Data Science Academy - Python Fundamentos - Capítulo 3</font>\n",
    "\n",
    "## Download: http://github.com/dsacademybr"
   ]
  },
  {
   "cell_type": "markdown",
   "metadata": {},
   "source": [
    "## Exercícios - Métodos e Funções"
   ]
  },
  {
   "cell_type": "code",
   "execution_count": 2,
   "metadata": {},
   "outputs": [],
   "source": [
    "# Exercício 1 - Crie uma função que imprima a sequência de números pares entre 1 e 20 (a função não recebe parâmetro) e \n",
    "# depois faça uma chamada à função para listar os números     \n",
    "\n",
    "def imprime():\n",
    "    for item in range(0,21,2):\n",
    "        print(item)\n"
   ]
  },
  {
   "cell_type": "code",
   "execution_count": 3,
   "metadata": {},
   "outputs": [
    {
     "name": "stdout",
     "output_type": "stream",
     "text": "0\n2\n4\n6\n8\n10\n12\n14\n16\n18\n20\n"
    }
   ],
   "source": [
    "imprime()"
   ]
  },
  {
   "cell_type": "code",
   "execution_count": 1,
   "metadata": {},
   "outputs": [],
   "source": [
    "imprime_lambda = lambda x : print(x)"
   ]
  },
  {
   "cell_type": "code",
   "execution_count": 4,
   "metadata": {},
   "outputs": [
    {
     "name": "stdout",
     "output_type": "stream",
     "text": "20\n"
    }
   ],
   "source": [
    "imprime_lambda(20)"
   ]
  },
  {
   "cell_type": "markdown",
   "execution_count": null,
   "metadata": {},
   "outputs": [],
   "source": []
  },
  {
   "cell_type": "code",
   "execution_count": 3,
   "metadata": {},
   "outputs": [
    {
     "data": {
      "text/plain": "'AMOR'"
     },
     "execution_count": 3,
     "metadata": {},
     "output_type": "execute_result"
    }
   ],
   "source": [
    "# Exercício 2 - Crie uam função que receba uma string como argumento e retorne a mesma string em letras maiúsculas.\n",
    "# Faça uma chamada à função, passando como parâmetro uma string\n",
    "def to_Upper(texto):\n",
    "    return texto.upper()\n",
    "\n",
    "to_Upper(\"amor\")"
   ]
  },
  {
   "cell_type": "code",
   "execution_count": 5,
   "metadata": {},
   "outputs": [
    {
     "name": "stdout",
     "output_type": "stream",
     "text": "[1, 2, 3, 4, 5, 6]\n"
    }
   ],
   "source": [
    "# Exercício 3 - Crie uma função que receba como parâmetro uma lista de 4 elementos, adicione 2 elementos a lista e \n",
    "# imprima a lista\n",
    "lista = [1,2,3,4]\n",
    "\n",
    "def funcao_exercicio_3(paramentro):\n",
    "    paramentro.append(5)\n",
    "    paramentro.append(6)\n",
    "    print(paramentro)\n",
    "\n",
    "novaLista = funcao_exercicio_3(lista)"
   ]
  },
  {
   "cell_type": "code",
   "execution_count": 9,
   "metadata": {},
   "outputs": [
    {
     "data": {
      "text/plain": "[1, 2, 3, 4, 5, 6]"
     },
     "execution_count": 9,
     "metadata": {},
     "output_type": "execute_result"
    }
   ],
   "source": []
  },
  {
   "cell_type": "code",
   "execution_count": 12,
   "metadata": {},
   "outputs": [
    {
     "name": "stdout",
     "output_type": "stream",
     "text": "[1, 2]\n"
    }
   ],
   "source": [
    "funcao_exercicio_3(lista)"
   ]
  },
  {
   "cell_type": "code",
   "execution_count": 11,
   "metadata": {},
   "outputs": [],
   "source": [
    "# Exercício 4 - Crie uma função que receba um argumento formal e uma possível lista de elementos. Faça duas chamadas \n",
    "# à função, com apenas 1 elemento e na segunda chamada com 4 elementos\n",
    "\n",
    "def funcao_paramentro(paramentro, *args):\n",
    "    print(paramentro)\n",
    "    for item in args:\n",
    "        print(item)\n"
   ]
  },
  {
   "cell_type": "code",
   "execution_count": 13,
   "metadata": {},
   "outputs": [
    {
     "name": "stdout",
     "output_type": "stream",
     "text": "1\n1\n2\n3\n4\n5\n"
    }
   ],
   "source": [
    "funcao_paramentro(1)\n",
    "funcao_paramentro(1,2,3,4,5)"
   ]
  },
  {
   "cell_type": "code",
   "execution_count": null,
   "metadata": {
    "collapsed": true
   },
   "outputs": [],
   "source": [
    "# Exercício 5 - Crie uma função anônima e atribua seu retorno a uma variável chamada soma. A expressão vai receber 2 \n",
    "# números como parâmetro e retornar a soma deles"
   ]
  },
  {
   "cell_type": "code",
   "execution_count": 18,
   "metadata": {},
   "outputs": [
    {
     "data": {
      "text/plain": "7"
     },
     "execution_count": 18,
     "metadata": {},
     "output_type": "execute_result"
    }
   ],
   "source": [
    "soma = lambda a,b : a + b\n",
    "\n",
    "soma(3,4)"
   ]
  },
  {
   "cell_type": "code",
   "execution_count": null,
   "metadata": {},
   "outputs": [],
   "source": []
  },
  {
   "cell_type": "code",
   "execution_count": 15,
   "metadata": {},
   "outputs": [
    {
     "name": "stdout",
     "output_type": "stream",
     "text": "Dentro da função o total é:  30\nFora da função o total é:  0\n"
    }
   ],
   "source": [
    "# Exercício 6 - Execute o código abaixo e certifique-se que compreende a diferença entre variável global e local\n",
    "total = 0\n",
    "def soma( arg1, arg2 ):\n",
    "    total = arg1 + arg2; \n",
    "    print (\"Dentro da função o total é: \", total)\n",
    "    return total;\n",
    "\n",
    "\n",
    "soma( 10, 20 );\n",
    "print (\"Fora da função o total é: \", total)"
   ]
  },
  {
   "cell_type": "code",
   "execution_count": 19,
   "metadata": {},
   "outputs": [],
   "source": [
    "transforma = lambda temperatura : 1.8 + 32 + temperatura\n"
   ]
  },
  {
   "cell_type": "code",
   "execution_count": 23,
   "metadata": {},
   "outputs": [
    {
     "name": "stdout",
     "output_type": "stream",
     "text": "[73.0, 70.3, 71.1, 71.6]\n"
    }
   ],
   "source": [
    "# Exercício 7 - Abaixo você encontra uma lista com temperaturas em graus Celsius\n",
    "# Crie uma função anônima que converta cada temperatura para Fahrenheit\n",
    "# Dica: para conseguir realizar este exercício, você deve criar sua função lambda, dentro de uma função \n",
    "# (que será estudada no próximo capítulo). Isso permite aplicar sua função a cada elemento da lista\n",
    "# Como descobrir a fórmula matemática que converte de Celsius para Fahrenheit? Pesquise!!!\n",
    "Celsius = [39.2, 36.5, 37.3, 37.8]\n",
    "converte = lambda temperatura : 1.8 + 32 + temperatura\n",
    "Fahrenheit = map(converte,Celsius)\n",
    "print (list(Fahrenheit))"
   ]
  },
  {
   "cell_type": "code",
   "execution_count": 26,
   "metadata": {},
   "outputs": [
    {
     "data": {
      "text/plain": "dict_items([(1, 'A'), (2, 'B'), (3, 'C')])"
     },
     "execution_count": 26,
     "metadata": {},
     "output_type": "execute_result"
    }
   ],
   "source": [
    "# Exercício 8\n",
    "# Crie um dicionário e liste todos os métodos e atributos do dicionário\n",
    "\n",
    "dicionario = {1:'A',2:'B',3:'C'}\n",
    "dicionario.items()"
   ]
  },
  {
   "cell_type": "code",
   "execution_count": 16,
   "metadata": {},
   "outputs": [
    {
     "data": {
      "text/plain": "['Categorical',\n 'CategoricalDtype',\n 'CategoricalIndex',\n 'DataFrame',\n 'DateOffset',\n 'DatetimeIndex',\n 'DatetimeTZDtype',\n 'ExcelFile',\n 'ExcelWriter',\n 'Float64Index',\n 'Grouper',\n 'HDFStore',\n 'Index',\n 'IndexSlice',\n 'Int16Dtype',\n 'Int32Dtype',\n 'Int64Dtype',\n 'Int64Index',\n 'Int8Dtype',\n 'Interval',\n 'IntervalDtype',\n 'IntervalIndex',\n 'MultiIndex',\n 'NaT',\n 'NamedAgg',\n 'Period',\n 'PeriodDtype',\n 'PeriodIndex',\n 'RangeIndex',\n 'Series',\n 'SparseArray',\n 'SparseDataFrame',\n 'SparseDtype',\n 'SparseSeries',\n 'Timedelta',\n 'TimedeltaIndex',\n 'Timestamp',\n 'UInt16Dtype',\n 'UInt32Dtype',\n 'UInt64Dtype',\n 'UInt64Index',\n 'UInt8Dtype',\n '__builtins__',\n '__cached__',\n '__doc__',\n '__docformat__',\n '__file__',\n '__getattr__',\n '__git_version__',\n '__loader__',\n '__name__',\n '__package__',\n '__path__',\n '__spec__',\n '__version__',\n '_config',\n '_hashtable',\n '_lib',\n '_libs',\n '_np_version_under1p14',\n '_np_version_under1p15',\n '_np_version_under1p16',\n '_np_version_under1p17',\n '_tslib',\n '_typing',\n '_version',\n 'api',\n 'array',\n 'arrays',\n 'bdate_range',\n 'compat',\n 'concat',\n 'core',\n 'crosstab',\n 'cut',\n 'date_range',\n 'datetime',\n 'describe_option',\n 'errors',\n 'eval',\n 'factorize',\n 'get_dummies',\n 'get_option',\n 'infer_freq',\n 'interval_range',\n 'io',\n 'isna',\n 'isnull',\n 'lreshape',\n 'melt',\n 'merge',\n 'merge_asof',\n 'merge_ordered',\n 'notna',\n 'notnull',\n 'np',\n 'offsets',\n 'option_context',\n 'options',\n 'pandas',\n 'period_range',\n 'pivot',\n 'pivot_table',\n 'plotting',\n 'qcut',\n 'read_clipboard',\n 'read_csv',\n 'read_excel',\n 'read_feather',\n 'read_fwf',\n 'read_gbq',\n 'read_hdf',\n 'read_html',\n 'read_json',\n 'read_msgpack',\n 'read_parquet',\n 'read_pickle',\n 'read_sas',\n 'read_spss',\n 'read_sql',\n 'read_sql_query',\n 'read_sql_table',\n 'read_stata',\n 'read_table',\n 'reset_option',\n 'set_eng_float_format',\n 'set_option',\n 'show_versions',\n 'test',\n 'testing',\n 'timedelta_range',\n 'to_datetime',\n 'to_msgpack',\n 'to_numeric',\n 'to_pickle',\n 'to_timedelta',\n 'tseries',\n 'unique',\n 'util',\n 'value_counts',\n 'wide_to_long']"
     },
     "execution_count": 16,
     "metadata": {},
     "output_type": "execute_result"
    }
   ],
   "source": [
    "# Exercício 9\n",
    "# Abaixo você encontra a importação do Pandas, um dos principais pacotes Python para análise de dados.\n",
    "# Analise atentamente todos os métodos disponíveis. Um deles você vai usar no próximo exercício.\n",
    "import pandas as pd\n",
    "dir(pd)"
   ]
  },
  {
   "cell_type": "code",
   "execution_count": 15,
   "metadata": {},
   "outputs": [
    {
     "data": {
      "text/plain": "<module 'ntpath' from 'C:\\\\Users\\\\wesley.neves\\\\AppData\\\\Local\\\\Continuum\\\\anaconda3\\\\lib\\\\ntpath.py'>"
     },
     "execution_count": 15,
     "metadata": {},
     "output_type": "execute_result"
    }
   ],
   "source": [
    "import os\n",
    "\n",
    "os.path"
   ]
  },
  {
   "cell_type": "code",
   "execution_count": 16,
   "metadata": {},
   "outputs": [
    {
     "data": {
      "text/html": "<div>\n<style scoped>\n    .dataframe tbody tr th:only-of-type {\n        vertical-align: middle;\n    }\n\n    .dataframe tbody tr th {\n        vertical-align: top;\n    }\n\n    .dataframe thead th {\n        text-align: right;\n    }\n</style>\n<table border=\"1\" class=\"dataframe\">\n  <thead>\n    <tr style=\"text-align: right;\">\n      <th></th>\n      <th>admit</th>\n      <th>gre</th>\n      <th>gpa</th>\n      <th>rank</th>\n    </tr>\n  </thead>\n  <tbody>\n    <tr>\n      <td>0</td>\n      <td>0</td>\n      <td>380</td>\n      <td>3.61</td>\n      <td>3</td>\n    </tr>\n    <tr>\n      <td>1</td>\n      <td>1</td>\n      <td>660</td>\n      <td>3.67</td>\n      <td>3</td>\n    </tr>\n    <tr>\n      <td>2</td>\n      <td>1</td>\n      <td>880</td>\n      <td>4.00</td>\n      <td>1</td>\n    </tr>\n    <tr>\n      <td>3</td>\n      <td>1</td>\n      <td>640</td>\n      <td>3.19</td>\n      <td>4</td>\n    </tr>\n    <tr>\n      <td>4</td>\n      <td>0</td>\n      <td>520</td>\n      <td>2.93</td>\n      <td>4</td>\n    </tr>\n  </tbody>\n</table>\n</div>",
      "text/plain": "   admit  gre   gpa  rank\n0      0  380  3.61     3\n1      1  660  3.67     3\n2      1  880  4.00     1\n3      1  640  3.19     4\n4      0  520  2.93     4"
     },
     "execution_count": 16,
     "metadata": {},
     "output_type": "execute_result"
    }
   ],
   "source": [
    "# ************* Desafio ************* (pesquise na documentação Python)\n",
    "\n",
    "# Exercício 10 - Crie uma função que receba o arquivo abaixo como argumento e retorne um resumo estatístico descritivo \n",
    "# do arquivo. Dica, use Pandas e um de seus métodos, describe()\n",
    "# Arquivo: \"binary.csv\"\n",
    "import pandas as pd\n",
    "file_name = \"binary.csv\"\n",
    "\n",
    "\n",
    "data = pd.read_csv(file_name,\",\")\n",
    "\n",
    "data.head()\n",
    "\n",
    "\n",
    "\n",
    "\n",
    " "
   ]
  },
  {
   "cell_type": "markdown",
   "metadata": {},
   "source": [
    "# Fim"
   ]
  },
  {
   "cell_type": "markdown",
   "metadata": {},
   "source": [
    "### Obrigado - Data Science Academy - <a href=\"http://facebook.com/dsacademybr\">facebook.com/dsacademybr</a>"
   ]
  }
 ],
 "metadata": {
  "kernelspec": {
   "display_name": "Python 3.7.4 64-bit ('base': conda)",
   "language": "python",
   "name": "python37464bitbaseconda12a05f8498994746951df3cf97509cd1"
  },
  "language_info": {
   "codemirror_mode": {
    "name": "ipython",
    "version": 3
   },
   "file_extension": ".py",
   "mimetype": "text/x-python",
   "name": "python",
   "nbconvert_exporter": "python",
   "pygments_lexer": "ipython3",
   "version": "3.7.4-final"
  }
 },
 "nbformat": 4,
 "nbformat_minor": 1
}