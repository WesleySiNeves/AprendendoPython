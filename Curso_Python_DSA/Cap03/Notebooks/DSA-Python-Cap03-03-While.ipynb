{
 "cells": [
  {
   "cell_type": "markdown",
   "metadata": {},
   "source": [
    "# <font color='blue'>Data Science Academy - Python Fundamentos - Capítulo 3</font>\n",
    "\n",
    "## Download: http://github.com/dsacademybr"
   ]
  },
  {
   "cell_type": "markdown",
   "metadata": {},
   "source": [
    "### While"
   ]
  },
  {
   "cell_type": "code",
   "execution_count": 2,
   "metadata": {},
   "outputs": [
    {
     "name": "stdout",
     "output_type": "stream",
     "text": "0\n1\n2\n3\n4\n5\n6\n7\n8\n9\n"
    }
   ],
   "source": [
    "# Usando o loop while para imprimir os valores de 0 a 9\n",
    "counter = 0\n",
    "while counter < 10:\n",
    "    print(counter)\n",
    "    counter = counter + 1"
   ]
  },
  {
   "cell_type": "code",
   "execution_count": 3,
   "metadata": {},
   "outputs": [
    {
     "name": "stdout",
     "output_type": "stream",
     "text": "O valor de x nesta iteração é:  0\n x ainda é menor que 10, somando 1 a x\nO valor de x nesta iteração é:  1\n x ainda é menor que 10, somando 1 a x\nO valor de x nesta iteração é:  2\n x ainda é menor que 10, somando 1 a x\nO valor de x nesta iteração é:  3\n x ainda é menor que 10, somando 1 a x\nO valor de x nesta iteração é:  4\n x ainda é menor que 10, somando 1 a x\nO valor de x nesta iteração é:  5\n x ainda é menor que 10, somando 1 a x\nO valor de x nesta iteração é:  6\n x ainda é menor que 10, somando 1 a x\nO valor de x nesta iteração é:  7\n x ainda é menor que 10, somando 1 a x\nO valor de x nesta iteração é:  8\n x ainda é menor que 10, somando 1 a x\nO valor de x nesta iteração é:  9\n x ainda é menor que 10, somando 1 a x\nLoop concluído!\n"
    }
   ],
   "source": [
    "# Também é possível usar a claúsula else para encerrar o loop while\n",
    "x = 0\n",
    "\n",
    "while x < 10:\n",
    "    print ('O valor de x nesta iteração é: ', x)\n",
    "    print (' x ainda é menor que 10, somando 1 a x')\n",
    "    x += 1\n",
    "    \n",
    "else:\n",
    "    print ('Loop concluído!')"
   ]
  },
  {
   "cell_type": "markdown",
   "metadata": {},
   "source": [
    "### Pass, Break, Continue"
   ]
  },
  {
   "cell_type": "code",
   "execution_count": 4,
   "metadata": {},
   "outputs": [
    {
     "name": "stdout",
     "output_type": "stream",
     "text": "0\n1\n2\n3\n"
    }
   ],
   "source": [
    "counter = 0\n",
    "while counter < 100:\n",
    "    if counter == 4:\n",
    "        break\n",
    "    else:\n",
    "        #pass\n",
    "        print(counter)\n",
    "        counter = counter + 1"
   ]
  },
  {
   "cell_type": "code",
   "execution_count": 5,
   "metadata": {},
   "outputs": [
    {
     "name": "stdout",
     "output_type": "stream",
     "text": "P\ny\nt\no\nn\n"
    }
   ],
   "source": [
    "for verificador in \"Python\":\n",
    "    if verificador == \"h\":\n",
    "        continue\n",
    "    print(verificador)"
   ]
  },
  {
   "cell_type": "markdown",
   "metadata": {},
   "source": [
    "### While e For juntos"
   ]
  },
  {
   "cell_type": "code",
   "execution_count": 6,
   "metadata": {},
   "outputs": [
    {
     "name": "stdout",
     "output_type": "stream",
     "text": "2 é um número primo\n3 é um número primo\n5 é um número primo\n7 é um número primo\n11 é um número primo\n13 é um número primo\n17 é um número primo\n19 é um número primo\n23 é um número primo\n29 é um número primo\n"
    }
   ],
   "source": [
    "for i in range(2,30):\n",
    "    j = 2\n",
    "    counter = 0\n",
    "    while j < i:\n",
    "        if i % j == 0:\n",
    "            counter = 1\n",
    "            j = j + 1\n",
    "        else:\n",
    "            j = j + 1\n",
    "    \n",
    "    if counter == 0:\n",
    "        print(str(i) + \" é um número primo\")\n",
    "        counter = 0\n",
    "    else:\n",
    "        counter = 0"
   ]
  },
  {
   "cell_type": "code",
   "execution_count": 12,
   "metadata": {},
   "outputs": [
    {
     "name": "stdout",
     "output_type": "stream",
     "text": "[]\n"
    }
   ],
   "source": [
    "\n",
    "limite = 30\n",
    "numeros_Primos = []\n",
    "is_primo = False\n",
    "quantidade_divisores = 0\n",
    "\n",
    "for numero in range(1,limite,1):\n",
    "    is_primo = False\n",
    "    if(numero ==1):\n",
    "        is_primo = True\n",
    "        continue\n",
    "\n",
    "    for teste in range(2,numero):\n",
    "        if(numero % teste ==0):\n",
    "            quantidade_divisores +=1\n",
    "        \n",
    "        if(quantidade_divisores > 2):\n",
    "            is_primo = False\n",
    "            continue\n",
    "    \n",
    "    if(quantidade_divisores ==2):\n",
    "        is_primo = True\n",
    "\n",
    "\n",
    "    if(is_primo==True):\n",
    "        numeros_Primos.append(numero)\n",
    "        \n",
    "print(numeros_Primos)\n",
    "\n",
    "for i in numeros_Primos:\n",
    "     print(str(i) + \" é um número primo\")\n",
    "        "
   ]
  },
  {
   "cell_type": "markdown",
   "metadata": {},
   "source": [
    "# Fim"
   ]
  },
  {
   "cell_type": "markdown",
   "metadata": {},
   "source": [
    "### Obrigado - Data Science Academy - <a href=\"http://facebook.com/dsacademybr\">facebook.com/dsacademybr</a>"
   ]
  }
 ],
 "metadata": {
  "kernelspec": {
   "display_name": "Python 3.7.4 64-bit ('base': conda)",
   "language": "python",
   "name": "python37464bitbaseconda12a05f8498994746951df3cf97509cd1"
  },
  "language_info": {
   "codemirror_mode": {
    "name": "ipython",
    "version": 3
   },
   "file_extension": ".py",
   "mimetype": "text/x-python",
   "name": "python",
   "nbconvert_exporter": "python",
   "pygments_lexer": "ipython3",
   "version": "3.7.4-final"
  }
 },
 "nbformat": 4,
 "nbformat_minor": 1
}