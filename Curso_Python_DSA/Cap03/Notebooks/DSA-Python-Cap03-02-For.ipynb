{
 "cells": [
  {
   "cell_type": "markdown",
   "metadata": {},
   "source": [
    "# <font color='blue'>Data Science Academy - Python Fundamentos - Capítulo 3</font>\n",
    "\n",
    "\n",
    "## Download: http://github.com/dsacademybr"
   ]
  },
  {
   "cell_type": "markdown",
   "metadata": {},
   "source": [
    "### Loop For"
   ]
  },
  {
   "cell_type": "code",
   "execution_count": 1,
   "metadata": {},
   "outputs": [
    {
     "name": "stdout",
     "output_type": "stream",
     "text": "2\n3\n4\n"
    }
   ],
   "source": [
    "# Criando uma tupla e imprimindo cada um dos valores\n",
    "tp = (2,3,4)\n",
    "for i in tp:\n",
    "    print(i)"
   ]
  },
  {
   "cell_type": "code",
   "execution_count": 2,
   "metadata": {},
   "outputs": [
    {
     "name": "stdout",
     "output_type": "stream",
     "text": "Leite\nFrutas\nCarne\n"
    }
   ],
   "source": [
    "# Criando uma lista e imprimindo cada um dos valores\n",
    "ListaDoMercado = [\"Leite\", \"Frutas\", \"Carne\"]\n",
    "for i in ListaDoMercado:\n",
    "    print(i)"
   ]
  },
  {
   "cell_type": "code",
   "execution_count": 3,
   "metadata": {},
   "outputs": [
    {
     "name": "stdout",
     "output_type": "stream",
     "text": "0\n1\n2\n3\n4\n"
    }
   ],
   "source": [
    "# Imprimindo os valores no intervalo entre 0 e 5 (exclusive)\n",
    "for contador in range(0,5):\n",
    "    print(contador)"
   ]
  },
  {
   "cell_type": "code",
   "execution_count": 4,
   "metadata": {},
   "outputs": [
    {
     "name": "stdout",
     "output_type": "stream",
     "text": "2\n4\n6\n8\n10\n"
    }
   ],
   "source": [
    "# Imprimindo na tela os números pares da lista de números\n",
    "lista = [1,2,3,4,5,6,7,8,9,10]\n",
    "for num in lista:\n",
    "    if num % 2 == 0:\n",
    "        print (num)"
   ]
  },
  {
   "cell_type": "code",
   "execution_count": 20,
   "metadata": {},
   "outputs": [
    {
     "name": "stdout",
     "output_type": "stream",
     "text": "*\n  **\n   ***\n    ****\n     *****\n      ******\n       *******\n        ********\n         *********\n          **********\n"
    }
   ],
   "source": [
    "passo = 0\n",
    "for i in range(0,10,1):  \n",
    "    espaco =' '\n",
    "    calculo = (i +1)\n",
    "    calculaEspaco = calculo * espaco\n",
    "    montaArvore =   \"*\" * calculo\n",
    "    calculaEspaco + montaArvore\n",
    "    print(calculaEspaco + montaArvore)"
   ]
  },
  {
   "cell_type": "code",
   "execution_count": 5,
   "metadata": {},
   "outputs": [
    {
     "name": "stdout",
     "output_type": "stream",
     "text": "0\n2\n4\n6\n8\n10\n12\n14\n16\n18\n20\n22\n24\n26\n28\n30\n32\n34\n36\n38\n40\n42\n44\n46\n48\n50\n52\n54\n56\n58\n60\n62\n64\n66\n68\n70\n72\n74\n76\n78\n80\n82\n84\n86\n88\n90\n92\n94\n96\n98\n100\n"
    }
   ],
   "source": [
    "# Listando os números no intervalo entre 0 e 101, com incremento em 2\n",
    "for i in range(0,101,2):  \n",
    "    print(i)"
   ]
  },
  {
   "cell_type": "code",
   "execution_count": 6,
   "metadata": {},
   "outputs": [
    {
     "name": "stdout",
     "output_type": "stream",
     "text": [
      "P\n",
      "y\n",
      "t\n",
      "h\n",
      "o\n",
      "n\n",
      " \n",
      "é\n",
      " \n",
      "u\n",
      "m\n",
      "a\n",
      " \n",
      "l\n",
      "i\n",
      "n\n",
      "g\n",
      "u\n",
      "a\n",
      "g\n",
      "e\n",
      "m\n",
      " \n",
      "d\n",
      "e\n",
      " \n",
      "p\n",
      "r\n",
      "o\n",
      "g\n",
      "r\n",
      "a\n",
      "m\n",
      "a\n",
      "ç\n",
      "ã\n",
      "o\n",
      " \n",
      "d\n",
      "i\n",
      "v\n",
      "e\n",
      "r\n",
      "t\n",
      "i\n",
      "d\n",
      "a\n",
      "!\n"
     ]
    }
   ],
   "source": [
    "# Strings também são sequências\n",
    "for caracter in 'Python é uma linguagem de programação divertida!':\n",
    "    print (caracter)"
   ]
  },
  {
   "cell_type": "markdown",
   "metadata": {},
   "source": [
    "### Loops Aninhados"
   ]
  },
  {
   "cell_type": "code",
   "execution_count": 7,
   "metadata": {},
   "outputs": [
    {
     "name": "stdout",
     "output_type": "stream",
     "text": [
      "0\n",
      "1\n",
      "2\n",
      "3\n",
      "4\n",
      "0\n",
      "1\n",
      "2\n",
      "3\n",
      "4\n",
      "0\n",
      "1\n",
      "2\n",
      "3\n",
      "4\n",
      "0\n",
      "1\n",
      "2\n",
      "3\n",
      "4\n",
      "0\n",
      "1\n",
      "2\n",
      "3\n",
      "4\n"
     ]
    }
   ],
   "source": [
    "# Loops aninhados\n",
    "for i in range(0,5):\n",
    "    for a in range(0,5):\n",
    "        print(a)"
   ]
  },
  {
   "cell_type": "code",
   "execution_count": 8,
   "metadata": {},
   "outputs": [
    {
     "name": "stdout",
     "output_type": "stream",
     "text": [
      "462\n"
     ]
    }
   ],
   "source": [
    "# Operando os valores de uma lista com loop for\n",
    "listaB = [32,53,85,10,15,17,19]\n",
    "soma = 0\n",
    "for i in listaB:\n",
    "    double_i = i * 2\n",
    "    soma += double_i\n",
    "\n",
    "print(soma)"
   ]
  },
  {
   "cell_type": "code",
   "execution_count": 9,
   "metadata": {},
   "outputs": [
    {
     "name": "stdout",
     "output_type": "stream",
     "text": [
      "[1, 2, 3]\n",
      "[10, 15, 14]\n",
      "[10.1, 8.7, 2.3]\n"
     ]
    }
   ],
   "source": [
    "# Loops em lista de listas\n",
    "listas = [[1,2,3], [10,15,14], [10.1,8.7,2.3]]\n",
    "for valor in listas:\n",
    "    print(valor)"
   ]
  },
  {
   "cell_type": "code",
   "execution_count": 10,
   "metadata": {},
   "outputs": [
    {
     "name": "stdout",
     "output_type": "stream",
     "text": [
      "5\n"
     ]
    }
   ],
   "source": [
    "# Contando os itens de uma lista\n",
    "lista = [5,6,10,13,17]\n",
    "count = 0\n",
    "for item in lista:\n",
    "    count += 1\n",
    "    \n",
    "print(count)"
   ]
  },
  {
   "cell_type": "code",
   "execution_count": 11,
   "metadata": {},
   "outputs": [
    {
     "name": "stdout",
     "output_type": "stream",
     "text": [
      "3\n"
     ]
    }
   ],
   "source": [
    "# Contando o número de colunas\n",
    "lst = [[1,2,3],[3,4,5],[5,6,7]]\n",
    "primeira_linha = lst[0]\n",
    "count = 0\n",
    "for column in primeira_linha:\n",
    "    count = count + 1\n",
    "    \n",
    "print(count)"
   ]
  },
  {
   "cell_type": "code",
   "execution_count": 12,
   "metadata": {},
   "outputs": [
    {
     "name": "stdout",
     "output_type": "stream",
     "text": [
      "Número encontrado na lista!\n"
     ]
    }
   ],
   "source": [
    "# Pesquisando em listas\n",
    "listaC = [5, 6, 7, 10, 50]\n",
    "\n",
    "# Loop através da lista\n",
    "for item in listaC:\n",
    "    if item == 5:\n",
    "        print(\"Número encontrado na lista!\")"
   ]
  },
  {
   "cell_type": "code",
   "execution_count": 13,
   "metadata": {},
   "outputs": [
    {
     "name": "stdout",
     "output_type": "stream",
     "text": [
      "k1\n",
      "k2\n",
      "k3\n"
     ]
    }
   ],
   "source": [
    "# Listando as chaves de um dicionário\n",
    "dict = {'k1':'Python','k2':'R','k3':'Scala'}\n",
    "for item in dict:\n",
    "    print(item)"
   ]
  },
  {
   "cell_type": "code",
   "execution_count": 14,
   "metadata": {},
   "outputs": [
    {
     "name": "stdout",
     "output_type": "stream",
     "text": [
      "k1 Python\n",
      "k2 R\n",
      "k3 Scala\n"
     ]
    }
   ],
   "source": [
    "# Imprimindo chave e valor do dicionário. Usando o método items() para retornar os itens de um dicionário\n",
    "for k,v in dict.items():\n",
    "    print (k,v)"
   ]
  },
  {
   "cell_type": "markdown",
   "metadata": {},
   "source": [
    "# Fim"
   ]
  },
  {
   "cell_type": "markdown",
   "metadata": {},
   "source": [
    "### Obrigado - Data Science Academy - <a href=\"http://facebook.com/dsacademybr\">facebook.com/dsacademybr</a>"
   ]
  }
 ],
 "metadata": {
  "kernelspec": {
   "display_name": "Python 3",
   "language": "python",
   "name": "python3"
  },
  "language_info": {
   "codemirror_mode": {
    "name": "ipython",
    "version": 3
   },
   "file_extension": ".py",
   "mimetype": "text/x-python",
   "name": "python",
   "nbconvert_exporter": "python",
   "pygments_lexer": "ipython3",
   "version": "3.7.4"
  }
 },
 "nbformat": 4,
 "nbformat_minor": 1
}