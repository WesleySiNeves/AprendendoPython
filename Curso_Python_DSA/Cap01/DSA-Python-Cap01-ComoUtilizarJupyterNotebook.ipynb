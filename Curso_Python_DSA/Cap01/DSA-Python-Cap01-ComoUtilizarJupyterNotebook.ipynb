{
    "metadata": {
        "kernelspec": {
            "name": "python3",
            "display_name": "Python 3"
        },
        "language_info": {
            "name": "python",
            "version": "3.7.4-final",
            "mimetype": "text/x-python",
            "codemirror_mode": {
                "name": "ipython",
                "version": 3
            },
            "pygments_lexer": "ipython3",
            "nbconvert_exporter": "python",
            "file_extension": ".py"
        }
    },
    "nbformat_minor": 2,
    "nbformat": 4,
    "cells": [
        {
            "cell_type": "markdown",
            "metadata": {
                "azdata_cell_guid": "51411e49-f4d2-40e7-ae0c-4e1031c41e32"
            },
            "source": [
                "# <font color='blue'>Data Science Academy - Python Fundamentos</font>\n",
                "# <font color='blue'>Capítulo 1</font>\n"
            ]
        },
        {
            "cell_type": "markdown",
            "metadata": {
                "azdata_cell_guid": "e32eb96d-e130-4aef-890a-ad05c9742e66"
            },
            "source": [
                "## Como Utilizar o Jupyter Notebook"
            ]
        },
        {
            "cell_type": "code",
            "execution_count": 1,
            "metadata": {
                "azdata_cell_guid": "0a10d38e-b6be-4964-a286-f1e39120d2fc"
            },
            "outputs": [
                {
                    "name": "stdout",
                    "output_type": "stream",
                    "text": "Hello World\n"
                }
            ],
            "source": [
                "print(\"Hello World\")\n"
            ]
        },
        {
            "cell_type": "code",
            "execution_count": 0,
            "metadata": {
                "azdata_cell_guid": "675a63de-97d8-4834-9e43-74009574d43c"
            },
            "outputs": [],
            "source": [
                "2 + 2"
            ]
        },
        {
            "cell_type": "code",
            "execution_count": 3,
            "metadata": {},
            "outputs": [
                {
                    "data": {
                        "text/html": "<iframe width=\"560\" height=\"315\" src=\"https://www.youtube.com/embed/zOEy1mPQve4\" frameborder=\"0\" allow=\"autoplay; encrypted-media\" allowfullscreen></iframe>",
                        "text/plain": "<IPython.core.display.HTML object>"
                    },
                    "execution_count": 3,
                    "metadata": {},
                    "output_type": "execute_result"
                }
            ],
            "source": [
                "# Pressione as teclas shift e enter para executar esse código e assista o vídeo.\n",
                "\n",
                "from IPython.core.display import HTML\n",
                "HTML('<iframe width=\"560\" height=\"315\" src=\"https://www.youtube.com/embed/zOEy1mPQve4\" frameborder=\"0\" allow=\"autoplay; encrypted-media\" allowfullscreen></iframe>')"
            ]
        },
        {
            "cell_type": "markdown",
            "metadata": {
                "azdata_cell_guid": "61ed48cc-908b-4a19-8ce9-6d7fc18196dc"
            },
            "source": [
                "# Fim"
            ]
        },
        {
            "cell_type": "markdown",
            "metadata": {
                "azdata_cell_guid": "b6c49bf1-dfb5-425e-90a8-36516193e73a"
            },
            "source": [
                "### Obrigado - Data Science Academy - <a href=\"http://facebook.com/dsacademybr\">facebook.com/dsacademybr</a>"
            ]
        }
    ]
}