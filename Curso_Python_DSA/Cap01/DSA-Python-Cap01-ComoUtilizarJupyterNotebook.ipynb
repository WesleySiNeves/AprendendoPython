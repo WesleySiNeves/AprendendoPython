{
    "metadata": {
        "kernelspec": {
            "name": "python3",
            "display_name": "Python 3"
        },
        "language_info": {
            "name": "python",
            "version": "3.6.6",
            "mimetype": "text/x-python",
            "codemirror_mode": {
                "name": "ipython",
                "version": 3
            },
            "pygments_lexer": "ipython3",
            "nbconvert_exporter": "python",
            "file_extension": ".py"
        }
    },
    "nbformat_minor": 2,
    "nbformat": 4,
    "cells": [
        {
            "cell_type": "markdown",
            "source": [
                "# <font color='blue'>Data Science Academy - Python Fundamentos</font>\n",
                "# <font color='blue'>Capítulo 1</font>\n"
            ],
            "metadata": {
                "azdata_cell_guid": "51411e49-f4d2-40e7-ae0c-4e1031c41e32"
            }
        },
        {
            "cell_type": "markdown",
            "source": [
                "## Como Utilizar o Jupyter Notebook"
            ],
            "metadata": {
                "azdata_cell_guid": "e32eb96d-e130-4aef-890a-ad05c9742e66"
            }
        },
        {
            "cell_type": "code",
            "source": [
                "print(\"Hello World\")\r\n",
                ""
            ],
            "metadata": {
                "azdata_cell_guid": "0a10d38e-b6be-4964-a286-f1e39120d2fc"
            },
            "outputs": [
                {
                    "name": "stdout",
                    "text": "Hello World\n",
                    "output_type": "stream"
                }
            ],
            "execution_count": 1
        },
        {
            "cell_type": "code",
            "source": [
                "2 + 2"
            ],
            "metadata": {
                "azdata_cell_guid": "675a63de-97d8-4834-9e43-74009574d43c"
            },
            "outputs": [],
            "execution_count": 0
        },
        {
            "cell_type": "code",
            "source": [
                "# Pressione as teclas shift e enter para executar esse código e assista o vídeo.\n",
                "\n",
                "from IPython.core.display import HTML\n",
                "HTML('<iframe width=\"560\" height=\"315\" src=\"https://www.youtube.com/embed/zOEy1mPQve4\" frameborder=\"0\" allow=\"autoplay; encrypted-media\" allowfullscreen></iframe>')"
            ],
            "metadata": {
                "azdata_cell_guid": "eba5ab8f-f73e-4e37-8a5b-797dfd73c8ca"
            },
            "outputs": [
                {
                    "data": {
                        "text/plain": "<IPython.core.display.HTML object>",
                        "text/html": "<iframe width=\"560\" height=\"315\" src=\"https://www.youtube.com/embed/zOEy1mPQve4\" frameborder=\"0\" allow=\"autoplay; encrypted-media\" allowfullscreen></iframe>"
                    },
                    "metadata": {},
                    "execution_count": 3,
                    "output_type": "execute_result"
                }
            ],
            "execution_count": 3
        },
        {
            "cell_type": "markdown",
            "source": [
                "# Fim"
            ],
            "metadata": {
                "azdata_cell_guid": "61ed48cc-908b-4a19-8ce9-6d7fc18196dc"
            }
        },
        {
            "cell_type": "markdown",
            "source": [
                "### Obrigado - Data Science Academy - <a href=\"http://facebook.com/dsacademybr\">facebook.com/dsacademybr</a>"
            ],
            "metadata": {
                "azdata_cell_guid": "b6c49bf1-dfb5-425e-90a8-36516193e73a"
            }
        }
    ]
}