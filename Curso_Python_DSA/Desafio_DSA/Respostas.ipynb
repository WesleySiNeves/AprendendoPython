{
 "nbformat": 4,
 "nbformat_minor": 2,
 "metadata": {
  "language_info": {
   "name": "python",
   "codemirror_mode": {
    "name": "ipython",
    "version": 3
   }
  },
  "orig_nbformat": 2,
  "file_extension": ".py",
  "mimetype": "text/x-python",
  "name": "python",
  "npconvert_exporter": "python",
  "pygments_lexer": "ipython3",
  "version": 3
 },
 "cells": [
  {
   "cell_type": "markdown",
   "execution_count": null,
   "metadata": {},
   "outputs": [],
   "source": [
    "##\n",
    "\n",
    "Com  o  objetivo  de  ajudá-lo  no  desenvolvimento  das  suas  habilidades analíticas  e  de programação, criamos oprimeiroDesafioDSAno curso de Python Fundamentos Para Análise de Dados. Um conjunto de 5 missões que vão do  nível de dificuldade baixo ao avançado, com diversas  atividades  que  formam  a  base  em  Programação,  Análise  de  Dados  e  Inteligência Artificial.Essas são as suas missões\n"
   ]
  },
  {
   "cell_type": "code",
   "execution_count": null,
   "metadata": {},
   "outputs": [],
   "source": []
  }
 ]
}