{
 "cells": [
  {
   "cell_type": "markdown",
   "metadata": {},
   "source": [
    "# <font color='blue'>Data Science Academy - Python Fundamentos - Capítulo 8</font>\n",
    "\n",
    "## Download: http://github.com/dsacademybr"
   ]
  },
  {
   "cell_type": "markdown",
   "metadata": {},
   "source": [
    "## Pandas"
   ]
  },
  {
   "cell_type": "markdown",
   "metadata": {},
   "source": [
    "Para poder trabalhar com Pandas, você deve conhecer bem estas duas estruturas: Series e DataFrame."
   ]
  },
  {
   "cell_type": "markdown",
   "metadata": {},
   "source": [
    "Para importar o pandas, utilize: \n",
    "import pandas as pd\n",
    "\n",
    "Você também pode utilizar: \n",
    "from pandas import Series, DataFrame  "
   ]
  },
  {
   "cell_type": "markdown",
   "metadata": {},
   "source": [
    "Para atualizar o Pandas, abra o prompt de comando ou terminal e digite: pip install pandas -U"
   ]
  },
  {
   "cell_type": "markdown",
   "metadata": {},
   "source": [
    "## Series\n",
    "\n",
    "Series é um array unidimensional que contém um array de dados e um array de labels, chamado índice.\n"
   ]
  },
  {
   "cell_type": "code",
   "execution_count": 2,
   "metadata": {},
   "outputs": [
    {
     "name": "stdout",
     "output_type": "stream",
     "text": "Collecting pandas\n  Downloading https://files.pythonhosted.org/packages/a2/7d/54f09000634dc90eb3662500517feffe243a40cfc9cbd4e1a099b47de6b5/pandas-0.25.3-cp37-cp37m-win32.whl (7.9MB)\nRequirement already satisfied: numpy>=1.13.3 in c:\\users\\pcsolution\\appdata\\local\\programs\\python\\python37-32\\lib\\site-packages (from pandas) (1.18.1)\nRequirement already satisfied: python-dateutil>=2.6.1 in c:\\users\\pcsolution\\appdata\\roaming\\python\\python37\\site-packages (from pandas) (2.8.1)\nCollecting pytz>=2017.2 (from pandas)\n  Downloading https://files.pythonhosted.org/packages/e7/f9/f0b53f88060247251bf481fa6ea62cd0d25bf1b11a87888e53ce5b7c8ad2/pytz-2019.3-py2.py3-none-any.whl (509kB)\nRequirement already satisfied: six>=1.5 in c:\\users\\pcsolution\\appdata\\roaming\\python\\python37\\site-packages (from python-dateutil>=2.6.1->pandas) (1.13.0)\nInstalling collected packages: pytz, pandas\nSuccessfully installed pandas-0.25.3 pytz-2019.3\nNote: you may need to restart the kernel to use updated packages.\nYou are using pip version 19.0.3, however version 20.0.2 is available.\nYou should consider upgrading via the 'python -m pip install --upgrade pip' command.\n"
    }
   ],
   "source": [
    "pip install pandas"
   ]
  },
  {
   "cell_type": "code",
   "execution_count": 1,
   "metadata": {},
   "outputs": [],
   "source": [
    "from pandas import Series"
   ]
  },
  {
   "cell_type": "code",
   "execution_count": 2,
   "metadata": {},
   "outputs": [],
   "source": [
    "import pandas as pd"
   ]
  },
  {
   "cell_type": "code",
   "execution_count": 3,
   "metadata": {},
   "outputs": [
    {
     "output_type": "execute_result",
     "data": {
      "text/plain": "'1.0.1'"
     },
     "metadata": {},
     "execution_count": 3
    }
   ],
   "source": [
    "pd.__version__"
   ]
  },
  {
   "cell_type": "code",
   "execution_count": 4,
   "metadata": {},
   "outputs": [],
   "source": [
    "# Criando uma série sem especificar os índices\n",
    "Obj = Series([67, 78, -56, 13])"
   ]
  },
  {
   "cell_type": "code",
   "execution_count": 5,
   "metadata": {},
   "outputs": [
    {
     "output_type": "execute_result",
     "data": {
      "text/plain": "0    67\n1    78\n2   -56\n3    13\ndtype: int64"
     },
     "metadata": {},
     "execution_count": 5
    }
   ],
   "source": [
    "Obj"
   ]
  },
  {
   "cell_type": "code",
   "execution_count": 6,
   "metadata": {},
   "outputs": [
    {
     "output_type": "execute_result",
     "data": {
      "text/plain": "pandas.core.series.Series"
     },
     "metadata": {},
     "execution_count": 6
    }
   ],
   "source": [
    "type(Obj)"
   ]
  },
  {
   "cell_type": "code",
   "execution_count": 7,
   "metadata": {},
   "outputs": [
    {
     "output_type": "execute_result",
     "data": {
      "text/plain": "array([ 67,  78, -56,  13], dtype=int64)"
     },
     "metadata": {},
     "execution_count": 7
    }
   ],
   "source": [
    "Obj.values"
   ]
  },
  {
   "cell_type": "code",
   "execution_count": 8,
   "metadata": {},
   "outputs": [
    {
     "output_type": "execute_result",
     "data": {
      "text/plain": "RangeIndex(start=0, stop=4, step=1)"
     },
     "metadata": {},
     "execution_count": 8
    }
   ],
   "source": [
    "Obj.index"
   ]
  },
  {
   "cell_type": "markdown",
   "metadata": {},
   "source": []
  },
  {
   "cell_type": "code",
   "execution_count": 9,
   "metadata": {},
   "outputs": [],
   "source": [
    "# Criando uma série e especificando os índices\n",
    "Obj2 = Series([67, 78, -56, 13], index = ['a', 'b', 'c', 'd'])"
   ]
  },
  {
   "cell_type": "code",
   "execution_count": 10,
   "metadata": {},
   "outputs": [
    {
     "output_type": "execute_result",
     "data": {
      "text/plain": "a    67\nb    78\nc   -56\nd    13\ndtype: int64"
     },
     "metadata": {},
     "execution_count": 10
    }
   ],
   "source": [
    "Obj2"
   ]
  },
  {
   "cell_type": "code",
   "execution_count": 11,
   "metadata": {},
   "outputs": [
    {
     "output_type": "execute_result",
     "data": {
      "text/plain": "array([ 67,  78, -56,  13], dtype=int64)"
     },
     "metadata": {},
     "execution_count": 11
    }
   ],
   "source": [
    "Obj2.values"
   ]
  },
  {
   "cell_type": "code",
   "execution_count": 12,
   "metadata": {},
   "outputs": [
    {
     "output_type": "execute_result",
     "data": {
      "text/plain": "Index(['a', 'b', 'c', 'd'], dtype='object')"
     },
     "metadata": {},
     "execution_count": 12
    }
   ],
   "source": [
    "Obj2.index"
   ]
  },
  {
   "cell_type": "code",
   "execution_count": 13,
   "metadata": {},
   "outputs": [
    {
     "output_type": "execute_result",
     "data": {
      "text/plain": "a    67\nb    78\nd    13\ndtype: int64"
     },
     "metadata": {},
     "execution_count": 13
    }
   ],
   "source": [
    "Obj2[Obj2 > 3]"
   ]
  },
  {
   "cell_type": "code",
   "execution_count": 133,
   "metadata": {},
   "outputs": [
    {
     "data": {
      "text/plain": "78"
     },
     "execution_count": 133,
     "metadata": {},
     "output_type": "execute_result"
    }
   ],
   "source": [
    "Obj2['b']"
   ]
  },
  {
   "cell_type": "code",
   "execution_count": 134,
   "metadata": {},
   "outputs": [
    {
     "data": {
      "text/plain": "True"
     },
     "execution_count": 134,
     "metadata": {},
     "output_type": "execute_result"
    }
   ],
   "source": [
    "'d' in Obj2"
   ]
  },
  {
   "cell_type": "code",
   "execution_count": 14,
   "metadata": {},
   "outputs": [],
   "source": [
    "# Criando uma série de dados passando um dicionário como parâmetro\n",
    "dict = {'Futebol':5200, 'Tenis': 120, 'Natação':698, 'Volleyball':1550}\n"
   ]
  },
  {
   "cell_type": "code",
   "execution_count": 15,
   "metadata": {},
   "outputs": [],
   "source": [
    "# Criando uma série a partir de um dicionário\n",
    "Obj3 = Series(dict)"
   ]
  },
  {
   "cell_type": "code",
   "execution_count": 16,
   "metadata": {},
   "outputs": [
    {
     "output_type": "execute_result",
     "data": {
      "text/plain": "Futebol       5200\nTenis          120\nNatação        698\nVolleyball    1550\ndtype: int64"
     },
     "metadata": {},
     "execution_count": 16
    }
   ],
   "source": [
    "Obj3"
   ]
  },
  {
   "cell_type": "code",
   "execution_count": 23,
   "metadata": {},
   "outputs": [
    {
     "data": {
      "text/plain": "pandas.core.series.Series"
     },
     "execution_count": 23,
     "metadata": {},
     "output_type": "execute_result"
    }
   ],
   "source": [
    "type(Obj3)"
   ]
  },
  {
   "cell_type": "code",
   "execution_count": 24,
   "metadata": {},
   "outputs": [],
   "source": [
    "# Criando uma lista\n",
    "esportes = ['Futebol', 'Tenis', 'Natação', 'Basktetball']"
   ]
  },
  {
   "cell_type": "code",
   "execution_count": 137,
   "metadata": {},
   "outputs": [],
   "source": [
    "# Criando uma serie e usando uma lista como índice\n",
    "Obj4 = Series(dict, index=esportes)"
   ]
  },
  {
   "cell_type": "code",
   "execution_count": 138,
   "metadata": {},
   "outputs": [
    {
     "data": {
      "text/plain": "Futebol        5200.0\nTenis           120.0\nNatação         698.0\nBasktetball       NaN\ndtype: float64"
     },
     "execution_count": 138,
     "metadata": {},
     "output_type": "execute_result"
    }
   ],
   "source": [
    "Obj4"
   ]
  },
  {
   "cell_type": "code",
   "execution_count": 139,
   "metadata": {},
   "outputs": [
    {
     "data": {
      "text/plain": "Futebol        False\nTenis          False\nNatação        False\nBasktetball     True\ndtype: bool"
     },
     "execution_count": 139,
     "metadata": {},
     "output_type": "execute_result"
    }
   ],
   "source": [
    "pd.isnull(Obj4)"
   ]
  },
  {
   "cell_type": "code",
   "execution_count": 140,
   "metadata": {},
   "outputs": [
    {
     "data": {
      "text/plain": "Futebol         True\nTenis           True\nNatação         True\nBasktetball    False\ndtype: bool"
     },
     "execution_count": 140,
     "metadata": {},
     "output_type": "execute_result"
    }
   ],
   "source": [
    "pd.notnull(Obj4)"
   ]
  },
  {
   "cell_type": "code",
   "execution_count": 141,
   "metadata": {},
   "outputs": [
    {
     "data": {
      "text/plain": "Futebol        False\nTenis          False\nNatação        False\nBasktetball     True\ndtype: bool"
     },
     "execution_count": 141,
     "metadata": {},
     "output_type": "execute_result"
    }
   ],
   "source": [
    "Obj4.isnull()"
   ]
  },
  {
   "cell_type": "code",
   "execution_count": 30,
   "metadata": {},
   "outputs": [
    {
     "data": {
      "text/plain": "Basktetball        NaN\nFutebol        10400.0\nNatação         1396.0\nTenis            240.0\nVolleyball         NaN\ndtype: float64"
     },
     "execution_count": 30,
     "metadata": {},
     "output_type": "execute_result"
    }
   ],
   "source": [
    "# Concatenando Series\n",
    "Obj3 + Obj4"
   ]
  },
  {
   "cell_type": "code",
   "execution_count": 31,
   "metadata": {},
   "outputs": [],
   "source": [
    "Obj4.name = 'população'"
   ]
  },
  {
   "cell_type": "code",
   "execution_count": 32,
   "metadata": {},
   "outputs": [],
   "source": [
    "Obj4.index.name = 'esporte'"
   ]
  },
  {
   "cell_type": "code",
   "execution_count": 33,
   "metadata": {},
   "outputs": [
    {
     "data": {
      "text/plain": "esporte\nFutebol        5200.0\nTenis           120.0\nNatação         698.0\nBasktetball       NaN\nName: população, dtype: float64"
     },
     "execution_count": 33,
     "metadata": {},
     "output_type": "execute_result"
    }
   ],
   "source": [
    "Obj4"
   ]
  },
  {
   "cell_type": "markdown",
   "metadata": {},
   "source": [
    "## Dataframes\n",
    "\n",
    "Dataframes representam uma estrutura tabular semelhante a estrutura de uma planilha do Excel, contendo uma coleção de colunas em que cada uma pode ser um diferente tipo de valor (número, string, etc...). Os Dataframes possuem index e linhas e esta estrutura é muito semelhante a um dataframe em R. Os dados de um dataframe são armazenados e um ou mais blocos bidimensionais, ao invés de listas, dicionários ou alguma outra estrutura de array."
   ]
  },
  {
   "cell_type": "code",
   "execution_count": 17,
   "metadata": {},
   "outputs": [],
   "source": [
    "from pandas import DataFrame"
   ]
  },
  {
   "cell_type": "code",
   "execution_count": 18,
   "metadata": {},
   "outputs": [],
   "source": [
    "data = {'Estado': ['Santa Catarina', 'Paraná', 'Goiás', 'Bahia', 'Minas Gerais'], \n",
    "        'Ano': [2002, 2003, 2004, 2005, 2006], \n",
    "        'População': [1.5, 1.7, 3.6, 2.4, 2.9]}"
   ]
  },
  {
   "cell_type": "code",
   "execution_count": 19,
   "metadata": {},
   "outputs": [],
   "source": [
    "frame = DataFrame(data)"
   ]
  },
  {
   "cell_type": "code",
   "execution_count": 20,
   "metadata": {},
   "outputs": [
    {
     "output_type": "execute_result",
     "data": {
      "text/plain": "           Estado   Ano  População\n0  Santa Catarina  2002        1.5\n1          Paraná  2003        1.7\n2           Goiás  2004        3.6\n3           Bahia  2005        2.4\n4    Minas Gerais  2006        2.9",
      "text/html": "<div>\n<style scoped>\n    .dataframe tbody tr th:only-of-type {\n        vertical-align: middle;\n    }\n\n    .dataframe tbody tr th {\n        vertical-align: top;\n    }\n\n    .dataframe thead th {\n        text-align: right;\n    }\n</style>\n<table border=\"1\" class=\"dataframe\">\n  <thead>\n    <tr style=\"text-align: right;\">\n      <th></th>\n      <th>Estado</th>\n      <th>Ano</th>\n      <th>População</th>\n    </tr>\n  </thead>\n  <tbody>\n    <tr>\n      <th>0</th>\n      <td>Santa Catarina</td>\n      <td>2002</td>\n      <td>1.5</td>\n    </tr>\n    <tr>\n      <th>1</th>\n      <td>Paraná</td>\n      <td>2003</td>\n      <td>1.7</td>\n    </tr>\n    <tr>\n      <th>2</th>\n      <td>Goiás</td>\n      <td>2004</td>\n      <td>3.6</td>\n    </tr>\n    <tr>\n      <th>3</th>\n      <td>Bahia</td>\n      <td>2005</td>\n      <td>2.4</td>\n    </tr>\n    <tr>\n      <th>4</th>\n      <td>Minas Gerais</td>\n      <td>2006</td>\n      <td>2.9</td>\n    </tr>\n  </tbody>\n</table>\n</div>"
     },
     "metadata": {},
     "execution_count": 20
    }
   ],
   "source": [
    "frame"
   ]
  },
  {
   "cell_type": "code",
   "execution_count": 19,
   "metadata": {},
   "outputs": [
    {
     "output_type": "execute_result",
     "data": {
      "text/plain": "pandas.core.frame.DataFrame"
     },
     "metadata": {},
     "execution_count": 19
    }
   ],
   "source": [
    "type(frame)"
   ]
  },
  {
   "cell_type": "code",
   "execution_count": 21,
   "metadata": {},
   "outputs": [
    {
     "output_type": "execute_result",
     "data": {
      "text/plain": "    Ano          Estado  População\n0  2002  Santa Catarina        1.5\n1  2003          Paraná        1.7\n2  2004           Goiás        3.6\n3  2005           Bahia        2.4\n4  2006    Minas Gerais        2.9",
      "text/html": "<div>\n<style scoped>\n    .dataframe tbody tr th:only-of-type {\n        vertical-align: middle;\n    }\n\n    .dataframe tbody tr th {\n        vertical-align: top;\n    }\n\n    .dataframe thead th {\n        text-align: right;\n    }\n</style>\n<table border=\"1\" class=\"dataframe\">\n  <thead>\n    <tr style=\"text-align: right;\">\n      <th></th>\n      <th>Ano</th>\n      <th>Estado</th>\n      <th>População</th>\n    </tr>\n  </thead>\n  <tbody>\n    <tr>\n      <th>0</th>\n      <td>2002</td>\n      <td>Santa Catarina</td>\n      <td>1.5</td>\n    </tr>\n    <tr>\n      <th>1</th>\n      <td>2003</td>\n      <td>Paraná</td>\n      <td>1.7</td>\n    </tr>\n    <tr>\n      <th>2</th>\n      <td>2004</td>\n      <td>Goiás</td>\n      <td>3.6</td>\n    </tr>\n    <tr>\n      <th>3</th>\n      <td>2005</td>\n      <td>Bahia</td>\n      <td>2.4</td>\n    </tr>\n    <tr>\n      <th>4</th>\n      <td>2006</td>\n      <td>Minas Gerais</td>\n      <td>2.9</td>\n    </tr>\n  </tbody>\n</table>\n</div>"
     },
     "metadata": {},
     "execution_count": 21
    }
   ],
   "source": [
    "DataFrame(data, columns=['Ano', 'Estado', 'População'])"
   ]
  },
  {
   "cell_type": "code",
   "execution_count": 22,
   "metadata": {},
   "outputs": [
    {
     "output_type": "execute_result",
     "data": {
      "text/plain": "           Estado   Ano  População\n0  Santa Catarina  2002        1.5\n1          Paraná  2003        1.7\n2           Goiás  2004        3.6\n3           Bahia  2005        2.4\n4    Minas Gerais  2006        2.9",
      "text/html": "<div>\n<style scoped>\n    .dataframe tbody tr th:only-of-type {\n        vertical-align: middle;\n    }\n\n    .dataframe tbody tr th {\n        vertical-align: top;\n    }\n\n    .dataframe thead th {\n        text-align: right;\n    }\n</style>\n<table border=\"1\" class=\"dataframe\">\n  <thead>\n    <tr style=\"text-align: right;\">\n      <th></th>\n      <th>Estado</th>\n      <th>Ano</th>\n      <th>População</th>\n    </tr>\n  </thead>\n  <tbody>\n    <tr>\n      <th>0</th>\n      <td>Santa Catarina</td>\n      <td>2002</td>\n      <td>1.5</td>\n    </tr>\n    <tr>\n      <th>1</th>\n      <td>Paraná</td>\n      <td>2003</td>\n      <td>1.7</td>\n    </tr>\n    <tr>\n      <th>2</th>\n      <td>Goiás</td>\n      <td>2004</td>\n      <td>3.6</td>\n    </tr>\n    <tr>\n      <th>3</th>\n      <td>Bahia</td>\n      <td>2005</td>\n      <td>2.4</td>\n    </tr>\n    <tr>\n      <th>4</th>\n      <td>Minas Gerais</td>\n      <td>2006</td>\n      <td>2.9</td>\n    </tr>\n  </tbody>\n</table>\n</div>"
     },
     "metadata": {},
     "execution_count": 22
    }
   ],
   "source": [
    "frame"
   ]
  },
  {
   "cell_type": "code",
   "execution_count": 24,
   "metadata": {},
   "outputs": [],
   "source": [
    "frame[\"Regiao\"] =\"\""
   ]
  },
  {
   "cell_type": "code",
   "execution_count": 154,
   "metadata": {},
   "outputs": [
    {
     "data": {
      "text/html": "<div>\n<style scoped>\n    .dataframe tbody tr th:only-of-type {\n        vertical-align: middle;\n    }\n\n    .dataframe tbody tr th {\n        vertical-align: top;\n    }\n\n    .dataframe thead th {\n        text-align: right;\n    }\n</style>\n<table border=\"1\" class=\"dataframe\">\n  <thead>\n    <tr style=\"text-align: right;\">\n      <th></th>\n      <th>Estado</th>\n      <th>Ano</th>\n      <th>População</th>\n      <th>Regiao</th>\n    </tr>\n  </thead>\n  <tbody>\n    <tr>\n      <th>0</th>\n      <td>Santa Catarina</td>\n      <td>2002</td>\n      <td>1.5</td>\n      <td></td>\n    </tr>\n    <tr>\n      <th>1</th>\n      <td>Paraná</td>\n      <td>2003</td>\n      <td>1.7</td>\n      <td></td>\n    </tr>\n    <tr>\n      <th>2</th>\n      <td>Goiás</td>\n      <td>2004</td>\n      <td>3.6</td>\n      <td></td>\n    </tr>\n    <tr>\n      <th>3</th>\n      <td>Bahia</td>\n      <td>2005</td>\n      <td>2.4</td>\n      <td></td>\n    </tr>\n    <tr>\n      <th>4</th>\n      <td>Minas Gerais</td>\n      <td>2006</td>\n      <td>2.9</td>\n      <td></td>\n    </tr>\n  </tbody>\n</table>\n</div>",
      "text/plain": "           Estado   Ano  População Regiao\n0  Santa Catarina  2002        1.5       \n1          Paraná  2003        1.7       \n2           Goiás  2004        3.6       \n3           Bahia  2005        2.4       \n4    Minas Gerais  2006        2.9       "
     },
     "execution_count": 154,
     "metadata": {},
     "output_type": "execute_result"
    }
   ],
   "source": [
    "frame"
   ]
  },
  {
   "cell_type": "code",
   "execution_count": 23,
   "metadata": {},
   "outputs": [],
   "source": [
    "# Criando outro dataframe com os mesmo dados anteriores mas adicionando uma coluna\n",
    "frame2 = DataFrame(data, columns = ['Ano', 'Estado', 'População', 'Débito'], \n",
    "                   index = ['um', 'dois', 'três', 'quatro', 'cinco'])"
   ]
  },
  {
   "cell_type": "code",
   "execution_count": 24,
   "metadata": {},
   "outputs": [
    {
     "output_type": "execute_result",
     "data": {
      "text/plain": "         Ano          Estado  População Débito\num      2002  Santa Catarina        1.5    NaN\ndois    2003          Paraná        1.7    NaN\ntrês    2004           Goiás        3.6    NaN\nquatro  2005           Bahia        2.4    NaN\ncinco   2006    Minas Gerais        2.9    NaN",
      "text/html": "<div>\n<style scoped>\n    .dataframe tbody tr th:only-of-type {\n        vertical-align: middle;\n    }\n\n    .dataframe tbody tr th {\n        vertical-align: top;\n    }\n\n    .dataframe thead th {\n        text-align: right;\n    }\n</style>\n<table border=\"1\" class=\"dataframe\">\n  <thead>\n    <tr style=\"text-align: right;\">\n      <th></th>\n      <th>Ano</th>\n      <th>Estado</th>\n      <th>População</th>\n      <th>Débito</th>\n    </tr>\n  </thead>\n  <tbody>\n    <tr>\n      <th>um</th>\n      <td>2002</td>\n      <td>Santa Catarina</td>\n      <td>1.5</td>\n      <td>NaN</td>\n    </tr>\n    <tr>\n      <th>dois</th>\n      <td>2003</td>\n      <td>Paraná</td>\n      <td>1.7</td>\n      <td>NaN</td>\n    </tr>\n    <tr>\n      <th>três</th>\n      <td>2004</td>\n      <td>Goiás</td>\n      <td>3.6</td>\n      <td>NaN</td>\n    </tr>\n    <tr>\n      <th>quatro</th>\n      <td>2005</td>\n      <td>Bahia</td>\n      <td>2.4</td>\n      <td>NaN</td>\n    </tr>\n    <tr>\n      <th>cinco</th>\n      <td>2006</td>\n      <td>Minas Gerais</td>\n      <td>2.9</td>\n      <td>NaN</td>\n    </tr>\n  </tbody>\n</table>\n</div>"
     },
     "metadata": {},
     "execution_count": 24
    }
   ],
   "source": [
    "# Imprimindo o Dataframe\n",
    "frame2"
   ]
  },
  {
   "cell_type": "code",
   "execution_count": 25,
   "metadata": {},
   "outputs": [
    {
     "output_type": "execute_result",
     "data": {
      "text/plain": "um        Santa Catarina\ndois              Paraná\ntrês               Goiás\nquatro             Bahia\ncinco       Minas Gerais\nName: Estado, dtype: object"
     },
     "metadata": {},
     "execution_count": 25
    }
   ],
   "source": [
    "# Imprimindo apenas uma coluna do Dataframe\n",
    "frame2['Estado']"
   ]
  },
  {
   "cell_type": "code",
   "execution_count": 26,
   "metadata": {},
   "outputs": [
    {
     "output_type": "execute_result",
     "data": {
      "text/plain": "pandas.core.frame.DataFrame"
     },
     "metadata": {},
     "execution_count": 26
    }
   ],
   "source": [
    "type(frame2)"
   ]
  },
  {
   "cell_type": "code",
   "execution_count": 27,
   "metadata": {},
   "outputs": [
    {
     "output_type": "execute_result",
     "data": {
      "text/plain": "Index(['um', 'dois', 'três', 'quatro', 'cinco'], dtype='object')"
     },
     "metadata": {},
     "execution_count": 27
    }
   ],
   "source": [
    "frame2.index"
   ]
  },
  {
   "cell_type": "code",
   "execution_count": 28,
   "metadata": {},
   "outputs": [
    {
     "output_type": "execute_result",
     "data": {
      "text/plain": "pandas.core.indexes.base.Index"
     },
     "metadata": {},
     "execution_count": 28
    }
   ],
   "source": [
    "type(frame2.index)"
   ]
  },
  {
   "cell_type": "code",
   "execution_count": 29,
   "metadata": {},
   "outputs": [
    {
     "output_type": "execute_result",
     "data": {
      "text/plain": "pandas.core.indexes.base.Index"
     },
     "metadata": {},
     "execution_count": 29
    }
   ],
   "source": [
    "type(frame2.columns)"
   ]
  },
  {
   "cell_type": "code",
   "execution_count": 30,
   "metadata": {},
   "outputs": [
    {
     "output_type": "execute_result",
     "data": {
      "text/plain": "Index(['Ano', 'Estado', 'População', 'Débito'], dtype='object')"
     },
     "metadata": {},
     "execution_count": 30
    }
   ],
   "source": [
    "frame2.columns"
   ]
  },
  {
   "cell_type": "code",
   "execution_count": 31,
   "metadata": {},
   "outputs": [
    {
     "output_type": "execute_result",
     "data": {
      "text/plain": "array([[2002, 'Santa Catarina', 1.5, nan],\n       [2003, 'Paraná', 1.7, nan],\n       [2004, 'Goiás', 3.6, nan],\n       [2005, 'Bahia', 2.4, nan],\n       [2006, 'Minas Gerais', 2.9, nan]], dtype=object)"
     },
     "metadata": {},
     "execution_count": 31
    }
   ],
   "source": [
    "frame2.values"
   ]
  },
  {
   "cell_type": "code",
   "execution_count": 68,
   "metadata": {},
   "outputs": [
    {
     "data": {
      "text/plain": "Ano            int64\nEstado        object\nPopulação    float64\nDébito        object\ndtype: object"
     },
     "execution_count": 68,
     "metadata": {},
     "output_type": "execute_result"
    }
   ],
   "source": [
    "frame2.dtypes"
   ]
  },
  {
   "cell_type": "code",
   "execution_count": 32,
   "metadata": {},
   "outputs": [
    {
     "output_type": "execute_result",
     "data": {
      "text/plain": "um        2002\ndois      2003\ntrês      2004\nquatro    2005\ncinco     2006\nName: Ano, dtype: int64"
     },
     "metadata": {},
     "execution_count": 32
    }
   ],
   "source": [
    "frame2['Ano']"
   ]
  },
  {
   "cell_type": "code",
   "execution_count": 34,
   "metadata": {},
   "outputs": [
    {
     "output_type": "execute_result",
     "data": {
      "text/plain": "         Ano        Estado  População Débito\ntrês    2004         Goiás        3.6    NaN\nquatro  2005         Bahia        2.4    NaN\ncinco   2006  Minas Gerais        2.9    NaN",
      "text/html": "<div>\n<style scoped>\n    .dataframe tbody tr th:only-of-type {\n        vertical-align: middle;\n    }\n\n    .dataframe tbody tr th {\n        vertical-align: top;\n    }\n\n    .dataframe thead th {\n        text-align: right;\n    }\n</style>\n<table border=\"1\" class=\"dataframe\">\n  <thead>\n    <tr style=\"text-align: right;\">\n      <th></th>\n      <th>Ano</th>\n      <th>Estado</th>\n      <th>População</th>\n      <th>Débito</th>\n    </tr>\n  </thead>\n  <tbody>\n    <tr>\n      <th>três</th>\n      <td>2004</td>\n      <td>Goiás</td>\n      <td>3.6</td>\n      <td>NaN</td>\n    </tr>\n    <tr>\n      <th>quatro</th>\n      <td>2005</td>\n      <td>Bahia</td>\n      <td>2.4</td>\n      <td>NaN</td>\n    </tr>\n    <tr>\n      <th>cinco</th>\n      <td>2006</td>\n      <td>Minas Gerais</td>\n      <td>2.9</td>\n      <td>NaN</td>\n    </tr>\n  </tbody>\n</table>\n</div>"
     },
     "metadata": {},
     "execution_count": 34
    }
   ],
   "source": [
    "frame2[frame2.Ano > 2003]"
   ]
  },
  {
   "cell_type": "code",
   "execution_count": 35,
   "metadata": {},
   "outputs": [
    {
     "output_type": "execute_result",
     "data": {
      "text/plain": "         Ano          Estado  População Débito\num      2002  Santa Catarina        1.5    NaN\ndois    2003          Paraná        1.7    NaN\ntrês    2004           Goiás        3.6    NaN\nquatro  2005           Bahia        2.4    NaN\ncinco   2006    Minas Gerais        2.9    NaN",
      "text/html": "<div>\n<style scoped>\n    .dataframe tbody tr th:only-of-type {\n        vertical-align: middle;\n    }\n\n    .dataframe tbody tr th {\n        vertical-align: top;\n    }\n\n    .dataframe thead th {\n        text-align: right;\n    }\n</style>\n<table border=\"1\" class=\"dataframe\">\n  <thead>\n    <tr style=\"text-align: right;\">\n      <th></th>\n      <th>Ano</th>\n      <th>Estado</th>\n      <th>População</th>\n      <th>Débito</th>\n    </tr>\n  </thead>\n  <tbody>\n    <tr>\n      <th>um</th>\n      <td>2002</td>\n      <td>Santa Catarina</td>\n      <td>1.5</td>\n      <td>NaN</td>\n    </tr>\n    <tr>\n      <th>dois</th>\n      <td>2003</td>\n      <td>Paraná</td>\n      <td>1.7</td>\n      <td>NaN</td>\n    </tr>\n    <tr>\n      <th>três</th>\n      <td>2004</td>\n      <td>Goiás</td>\n      <td>3.6</td>\n      <td>NaN</td>\n    </tr>\n    <tr>\n      <th>quatro</th>\n      <td>2005</td>\n      <td>Bahia</td>\n      <td>2.4</td>\n      <td>NaN</td>\n    </tr>\n    <tr>\n      <th>cinco</th>\n      <td>2006</td>\n      <td>Minas Gerais</td>\n      <td>2.9</td>\n      <td>NaN</td>\n    </tr>\n  </tbody>\n</table>\n</div>"
     },
     "metadata": {},
     "execution_count": 35
    }
   ],
   "source": [
    "frame2[frame2[\"Débito\"].isnull()]"
   ]
  },
  {
   "cell_type": "code",
   "execution_count": 37,
   "metadata": {},
   "outputs": [
    {
     "output_type": "execute_result",
     "data": {
      "text/plain": "Empty DataFrame\nColumns: [Ano, Estado, População, Débito]\nIndex: []",
      "text/html": "<div>\n<style scoped>\n    .dataframe tbody tr th:only-of-type {\n        vertical-align: middle;\n    }\n\n    .dataframe tbody tr th {\n        vertical-align: top;\n    }\n\n    .dataframe thead th {\n        text-align: right;\n    }\n</style>\n<table border=\"1\" class=\"dataframe\">\n  <thead>\n    <tr style=\"text-align: right;\">\n      <th></th>\n      <th>Ano</th>\n      <th>Estado</th>\n      <th>População</th>\n      <th>Débito</th>\n    </tr>\n  </thead>\n  <tbody>\n  </tbody>\n</table>\n</div>"
     },
     "metadata": {},
     "execution_count": 37
    }
   ],
   "source": [
    "frame2[frame2[\"Débito\"].notnull()]"
   ]
  },
  {
   "cell_type": "code",
   "execution_count": null,
   "metadata": {},
   "outputs": [],
   "source": []
  },
  {
   "cell_type": "code",
   "execution_count": 38,
   "metadata": {},
   "outputs": [
    {
     "output_type": "execute_result",
     "data": {
      "text/plain": "       Ano          Estado  População Débito\num    2002  Santa Catarina        1.5    NaN\ndois  2003          Paraná        1.7    NaN",
      "text/html": "<div>\n<style scoped>\n    .dataframe tbody tr th:only-of-type {\n        vertical-align: middle;\n    }\n\n    .dataframe tbody tr th {\n        vertical-align: top;\n    }\n\n    .dataframe thead th {\n        text-align: right;\n    }\n</style>\n<table border=\"1\" class=\"dataframe\">\n  <thead>\n    <tr style=\"text-align: right;\">\n      <th></th>\n      <th>Ano</th>\n      <th>Estado</th>\n      <th>População</th>\n      <th>Débito</th>\n    </tr>\n  </thead>\n  <tbody>\n    <tr>\n      <th>um</th>\n      <td>2002</td>\n      <td>Santa Catarina</td>\n      <td>1.5</td>\n      <td>NaN</td>\n    </tr>\n    <tr>\n      <th>dois</th>\n      <td>2003</td>\n      <td>Paraná</td>\n      <td>1.7</td>\n      <td>NaN</td>\n    </tr>\n  </tbody>\n</table>\n</div>"
     },
     "metadata": {},
     "execution_count": 38
    }
   ],
   "source": [
    "frame2[:2]"
   ]
  },
  {
   "cell_type": "markdown",
   "metadata": {},
   "source": [
    "## Usando NumPy e Pandas"
   ]
  },
  {
   "cell_type": "code",
   "execution_count": 39,
   "metadata": {},
   "outputs": [],
   "source": [
    "# Importando o NumPy\n",
    "import numpy as np"
   ]
  },
  {
   "cell_type": "code",
   "execution_count": 40,
   "metadata": {},
   "outputs": [],
   "source": [
    "# Usando o NumPy para alimentar uma das colunas do dataframe\n",
    "frame2['Débito'] = np.arange(5.)"
   ]
  },
  {
   "cell_type": "code",
   "execution_count": 41,
   "metadata": {},
   "outputs": [
    {
     "output_type": "execute_result",
     "data": {
      "text/plain": "         Ano          Estado  População  Débito\num      2002  Santa Catarina        1.5     0.0\ndois    2003          Paraná        1.7     1.0\ntrês    2004           Goiás        3.6     2.0\nquatro  2005           Bahia        2.4     3.0\ncinco   2006    Minas Gerais        2.9     4.0",
      "text/html": "<div>\n<style scoped>\n    .dataframe tbody tr th:only-of-type {\n        vertical-align: middle;\n    }\n\n    .dataframe tbody tr th {\n        vertical-align: top;\n    }\n\n    .dataframe thead th {\n        text-align: right;\n    }\n</style>\n<table border=\"1\" class=\"dataframe\">\n  <thead>\n    <tr style=\"text-align: right;\">\n      <th></th>\n      <th>Ano</th>\n      <th>Estado</th>\n      <th>População</th>\n      <th>Débito</th>\n    </tr>\n  </thead>\n  <tbody>\n    <tr>\n      <th>um</th>\n      <td>2002</td>\n      <td>Santa Catarina</td>\n      <td>1.5</td>\n      <td>0.0</td>\n    </tr>\n    <tr>\n      <th>dois</th>\n      <td>2003</td>\n      <td>Paraná</td>\n      <td>1.7</td>\n      <td>1.0</td>\n    </tr>\n    <tr>\n      <th>três</th>\n      <td>2004</td>\n      <td>Goiás</td>\n      <td>3.6</td>\n      <td>2.0</td>\n    </tr>\n    <tr>\n      <th>quatro</th>\n      <td>2005</td>\n      <td>Bahia</td>\n      <td>2.4</td>\n      <td>3.0</td>\n    </tr>\n    <tr>\n      <th>cinco</th>\n      <td>2006</td>\n      <td>Minas Gerais</td>\n      <td>2.9</td>\n      <td>4.0</td>\n    </tr>\n  </tbody>\n</table>\n</div>"
     },
     "metadata": {},
     "execution_count": 41
    }
   ],
   "source": [
    "frame2"
   ]
  },
  {
   "cell_type": "code",
   "execution_count": 42,
   "metadata": {},
   "outputs": [
    {
     "output_type": "execute_result",
     "data": {
      "text/plain": "Index(['um', 'dois', 'três', 'quatro', 'cinco'], dtype='object')"
     },
     "metadata": {},
     "execution_count": 42
    }
   ],
   "source": [
    "frame2.index"
   ]
  },
  {
   "cell_type": "code",
   "execution_count": 43,
   "metadata": {},
   "outputs": [
    {
     "output_type": "execute_result",
     "data": {
      "text/plain": "array([[2002, 'Santa Catarina', 1.5, 0.0],\n       [2003, 'Paraná', 1.7, 1.0],\n       [2004, 'Goiás', 3.6, 2.0],\n       [2005, 'Bahia', 2.4, 3.0],\n       [2006, 'Minas Gerais', 2.9, 4.0]], dtype=object)"
     },
     "metadata": {},
     "execution_count": 43
    }
   ],
   "source": [
    "frame2.values"
   ]
  },
  {
   "cell_type": "code",
   "execution_count": 44,
   "metadata": {},
   "outputs": [
    {
     "output_type": "execute_result",
     "data": {
      "text/plain": "               Ano  População    Débito\ncount     5.000000   5.000000  5.000000\nmean   2004.000000   2.420000  2.000000\nstd       1.581139   0.864292  1.581139\nmin    2002.000000   1.500000  0.000000\n25%    2003.000000   1.700000  1.000000\n50%    2004.000000   2.400000  2.000000\n75%    2005.000000   2.900000  3.000000\nmax    2006.000000   3.600000  4.000000",
      "text/html": "<div>\n<style scoped>\n    .dataframe tbody tr th:only-of-type {\n        vertical-align: middle;\n    }\n\n    .dataframe tbody tr th {\n        vertical-align: top;\n    }\n\n    .dataframe thead th {\n        text-align: right;\n    }\n</style>\n<table border=\"1\" class=\"dataframe\">\n  <thead>\n    <tr style=\"text-align: right;\">\n      <th></th>\n      <th>Ano</th>\n      <th>População</th>\n      <th>Débito</th>\n    </tr>\n  </thead>\n  <tbody>\n    <tr>\n      <th>count</th>\n      <td>5.000000</td>\n      <td>5.000000</td>\n      <td>5.000000</td>\n    </tr>\n    <tr>\n      <th>mean</th>\n      <td>2004.000000</td>\n      <td>2.420000</td>\n      <td>2.000000</td>\n    </tr>\n    <tr>\n      <th>std</th>\n      <td>1.581139</td>\n      <td>0.864292</td>\n      <td>1.581139</td>\n    </tr>\n    <tr>\n      <th>min</th>\n      <td>2002.000000</td>\n      <td>1.500000</td>\n      <td>0.000000</td>\n    </tr>\n    <tr>\n      <th>25%</th>\n      <td>2003.000000</td>\n      <td>1.700000</td>\n      <td>1.000000</td>\n    </tr>\n    <tr>\n      <th>50%</th>\n      <td>2004.000000</td>\n      <td>2.400000</td>\n      <td>2.000000</td>\n    </tr>\n    <tr>\n      <th>75%</th>\n      <td>2005.000000</td>\n      <td>2.900000</td>\n      <td>3.000000</td>\n    </tr>\n    <tr>\n      <th>max</th>\n      <td>2006.000000</td>\n      <td>3.600000</td>\n      <td>4.000000</td>\n    </tr>\n  </tbody>\n</table>\n</div>"
     },
     "metadata": {},
     "execution_count": 44
    }
   ],
   "source": [
    "# Resumo do Dataframe\n",
    "frame2.describe()"
   ]
  },
  {
   "cell_type": "code",
   "execution_count": 45,
   "metadata": {},
   "outputs": [
    {
     "output_type": "execute_result",
     "data": {
      "text/plain": "         Ano  Estado  População  Débito\ndois    2003  Paraná        1.7     1.0\ntrês    2004   Goiás        3.6     2.0\nquatro  2005   Bahia        2.4     3.0",
      "text/html": "<div>\n<style scoped>\n    .dataframe tbody tr th:only-of-type {\n        vertical-align: middle;\n    }\n\n    .dataframe tbody tr th {\n        vertical-align: top;\n    }\n\n    .dataframe thead th {\n        text-align: right;\n    }\n</style>\n<table border=\"1\" class=\"dataframe\">\n  <thead>\n    <tr style=\"text-align: right;\">\n      <th></th>\n      <th>Ano</th>\n      <th>Estado</th>\n      <th>População</th>\n      <th>Débito</th>\n    </tr>\n  </thead>\n  <tbody>\n    <tr>\n      <th>dois</th>\n      <td>2003</td>\n      <td>Paraná</td>\n      <td>1.7</td>\n      <td>1.0</td>\n    </tr>\n    <tr>\n      <th>três</th>\n      <td>2004</td>\n      <td>Goiás</td>\n      <td>3.6</td>\n      <td>2.0</td>\n    </tr>\n    <tr>\n      <th>quatro</th>\n      <td>2005</td>\n      <td>Bahia</td>\n      <td>2.4</td>\n      <td>3.0</td>\n    </tr>\n  </tbody>\n</table>\n</div>"
     },
     "metadata": {},
     "execution_count": 45
    }
   ],
   "source": [
    "frame2['dois':'quatro']"
   ]
  },
  {
   "cell_type": "code",
   "execution_count": 46,
   "metadata": {},
   "outputs": [
    {
     "output_type": "error",
     "ename": "TypeError",
     "evalue": "'<' not supported between instances of 'str' and 'int'",
     "traceback": [
      "\u001b[1;31m---------------------------------------------------------------------------\u001b[0m",
      "\u001b[1;31mTypeError\u001b[0m                                 Traceback (most recent call last)",
      "\u001b[1;32m<ipython-input-46-acfa3a0da061>\u001b[0m in \u001b[0;36m<module>\u001b[1;34m\u001b[0m\n\u001b[1;32m----> 1\u001b[1;33m \u001b[0mframe2\u001b[0m \u001b[1;33m<\u001b[0m \u001b[1;36m5\u001b[0m\u001b[1;33m\u001b[0m\u001b[1;33m\u001b[0m\u001b[0m\n\u001b[0m",
      "\u001b[1;32m~\\Anaconda3\\lib\\site-packages\\pandas\\core\\ops\\__init__.py\u001b[0m in \u001b[0;36mf\u001b[1;34m(self, other)\u001b[0m\n\u001b[0;32m    786\u001b[0m             \u001b[1;31m# straight boolean comparisons we want to allow all columns\u001b[0m\u001b[1;33m\u001b[0m\u001b[1;33m\u001b[0m\u001b[1;33m\u001b[0m\u001b[0m\n\u001b[0;32m    787\u001b[0m             \u001b[1;31m# (regardless of dtype to pass thru) See #4537 for discussion.\u001b[0m\u001b[1;33m\u001b[0m\u001b[1;33m\u001b[0m\u001b[1;33m\u001b[0m\u001b[0m\n\u001b[1;32m--> 788\u001b[1;33m             \u001b[0mnew_data\u001b[0m \u001b[1;33m=\u001b[0m \u001b[0mdispatch_to_series\u001b[0m\u001b[1;33m(\u001b[0m\u001b[0mself\u001b[0m\u001b[1;33m,\u001b[0m \u001b[0mother\u001b[0m\u001b[1;33m,\u001b[0m \u001b[0mop\u001b[0m\u001b[1;33m)\u001b[0m\u001b[1;33m\u001b[0m\u001b[1;33m\u001b[0m\u001b[0m\n\u001b[0m\u001b[0;32m    789\u001b[0m             \u001b[1;32mreturn\u001b[0m \u001b[0mself\u001b[0m\u001b[1;33m.\u001b[0m\u001b[0m_construct_result\u001b[0m\u001b[1;33m(\u001b[0m\u001b[0mnew_data\u001b[0m\u001b[1;33m)\u001b[0m\u001b[1;33m\u001b[0m\u001b[1;33m\u001b[0m\u001b[0m\n\u001b[0;32m    790\u001b[0m \u001b[1;33m\u001b[0m\u001b[0m\n",
      "\u001b[1;32m~\\Anaconda3\\lib\\site-packages\\pandas\\core\\ops\\__init__.py\u001b[0m in \u001b[0;36mdispatch_to_series\u001b[1;34m(left, right, func, str_rep, axis)\u001b[0m\n\u001b[0;32m    376\u001b[0m         \u001b[1;31m# Get the appropriate array-op to apply to each block's values.\u001b[0m\u001b[1;33m\u001b[0m\u001b[1;33m\u001b[0m\u001b[1;33m\u001b[0m\u001b[0m\n\u001b[0;32m    377\u001b[0m         \u001b[0marray_op\u001b[0m \u001b[1;33m=\u001b[0m \u001b[0mget_array_op\u001b[0m\u001b[1;33m(\u001b[0m\u001b[0mfunc\u001b[0m\u001b[1;33m,\u001b[0m \u001b[0mstr_rep\u001b[0m\u001b[1;33m=\u001b[0m\u001b[0mstr_rep\u001b[0m\u001b[1;33m)\u001b[0m\u001b[1;33m\u001b[0m\u001b[1;33m\u001b[0m\u001b[0m\n\u001b[1;32m--> 378\u001b[1;33m         \u001b[0mbm\u001b[0m \u001b[1;33m=\u001b[0m \u001b[0mleft\u001b[0m\u001b[1;33m.\u001b[0m\u001b[0m_data\u001b[0m\u001b[1;33m.\u001b[0m\u001b[0mapply\u001b[0m\u001b[1;33m(\u001b[0m\u001b[0marray_op\u001b[0m\u001b[1;33m,\u001b[0m \u001b[0mright\u001b[0m\u001b[1;33m=\u001b[0m\u001b[0mright\u001b[0m\u001b[1;33m)\u001b[0m\u001b[1;33m\u001b[0m\u001b[1;33m\u001b[0m\u001b[0m\n\u001b[0m\u001b[0;32m    379\u001b[0m         \u001b[1;32mreturn\u001b[0m \u001b[0mtype\u001b[0m\u001b[1;33m(\u001b[0m\u001b[0mleft\u001b[0m\u001b[1;33m)\u001b[0m\u001b[1;33m(\u001b[0m\u001b[0mbm\u001b[0m\u001b[1;33m)\u001b[0m\u001b[1;33m\u001b[0m\u001b[1;33m\u001b[0m\u001b[0m\n\u001b[0;32m    380\u001b[0m \u001b[1;33m\u001b[0m\u001b[0m\n",
      "\u001b[1;32m~\\Anaconda3\\lib\\site-packages\\pandas\\core\\internals\\managers.py\u001b[0m in \u001b[0;36mapply\u001b[1;34m(self, f, filter, **kwargs)\u001b[0m\n\u001b[0;32m    438\u001b[0m \u001b[1;33m\u001b[0m\u001b[0m\n\u001b[0;32m    439\u001b[0m             \u001b[1;32mif\u001b[0m \u001b[0mcallable\u001b[0m\u001b[1;33m(\u001b[0m\u001b[0mf\u001b[0m\u001b[1;33m)\u001b[0m\u001b[1;33m:\u001b[0m\u001b[1;33m\u001b[0m\u001b[1;33m\u001b[0m\u001b[0m\n\u001b[1;32m--> 440\u001b[1;33m                 \u001b[0mapplied\u001b[0m \u001b[1;33m=\u001b[0m \u001b[0mb\u001b[0m\u001b[1;33m.\u001b[0m\u001b[0mapply\u001b[0m\u001b[1;33m(\u001b[0m\u001b[0mf\u001b[0m\u001b[1;33m,\u001b[0m \u001b[1;33m**\u001b[0m\u001b[0mkwargs\u001b[0m\u001b[1;33m)\u001b[0m\u001b[1;33m\u001b[0m\u001b[1;33m\u001b[0m\u001b[0m\n\u001b[0m\u001b[0;32m    441\u001b[0m             \u001b[1;32melse\u001b[0m\u001b[1;33m:\u001b[0m\u001b[1;33m\u001b[0m\u001b[1;33m\u001b[0m\u001b[0m\n\u001b[0;32m    442\u001b[0m                 \u001b[0mapplied\u001b[0m \u001b[1;33m=\u001b[0m \u001b[0mgetattr\u001b[0m\u001b[1;33m(\u001b[0m\u001b[0mb\u001b[0m\u001b[1;33m,\u001b[0m \u001b[0mf\u001b[0m\u001b[1;33m)\u001b[0m\u001b[1;33m(\u001b[0m\u001b[1;33m**\u001b[0m\u001b[0mkwargs\u001b[0m\u001b[1;33m)\u001b[0m\u001b[1;33m\u001b[0m\u001b[1;33m\u001b[0m\u001b[0m\n",
      "\u001b[1;32m~\\Anaconda3\\lib\\site-packages\\pandas\\core\\internals\\blocks.py\u001b[0m in \u001b[0;36mapply\u001b[1;34m(self, func, **kwargs)\u001b[0m\n\u001b[0;32m    388\u001b[0m         \"\"\"\n\u001b[0;32m    389\u001b[0m         \u001b[1;32mwith\u001b[0m \u001b[0mnp\u001b[0m\u001b[1;33m.\u001b[0m\u001b[0merrstate\u001b[0m\u001b[1;33m(\u001b[0m\u001b[0mall\u001b[0m\u001b[1;33m=\u001b[0m\u001b[1;34m\"ignore\"\u001b[0m\u001b[1;33m)\u001b[0m\u001b[1;33m:\u001b[0m\u001b[1;33m\u001b[0m\u001b[1;33m\u001b[0m\u001b[0m\n\u001b[1;32m--> 390\u001b[1;33m             \u001b[0mresult\u001b[0m \u001b[1;33m=\u001b[0m \u001b[0mfunc\u001b[0m\u001b[1;33m(\u001b[0m\u001b[0mself\u001b[0m\u001b[1;33m.\u001b[0m\u001b[0mvalues\u001b[0m\u001b[1;33m,\u001b[0m \u001b[1;33m**\u001b[0m\u001b[0mkwargs\u001b[0m\u001b[1;33m)\u001b[0m\u001b[1;33m\u001b[0m\u001b[1;33m\u001b[0m\u001b[0m\n\u001b[0m\u001b[0;32m    391\u001b[0m \u001b[1;33m\u001b[0m\u001b[0m\n\u001b[0;32m    392\u001b[0m         \u001b[1;32mif\u001b[0m \u001b[0mis_extension_array_dtype\u001b[0m\u001b[1;33m(\u001b[0m\u001b[0mresult\u001b[0m\u001b[1;33m)\u001b[0m \u001b[1;32mand\u001b[0m \u001b[0mresult\u001b[0m\u001b[1;33m.\u001b[0m\u001b[0mndim\u001b[0m \u001b[1;33m>\u001b[0m \u001b[1;36m1\u001b[0m\u001b[1;33m:\u001b[0m\u001b[1;33m\u001b[0m\u001b[1;33m\u001b[0m\u001b[0m\n",
      "\u001b[1;32m~\\Anaconda3\\lib\\site-packages\\pandas\\core\\ops\\array_ops.py\u001b[0m in \u001b[0;36mcomparison_op\u001b[1;34m(left, right, op)\u001b[0m\n\u001b[0;32m    245\u001b[0m \u001b[1;33m\u001b[0m\u001b[0m\n\u001b[0;32m    246\u001b[0m     \u001b[1;32melif\u001b[0m \u001b[0mis_object_dtype\u001b[0m\u001b[1;33m(\u001b[0m\u001b[0mlvalues\u001b[0m\u001b[1;33m.\u001b[0m\u001b[0mdtype\u001b[0m\u001b[1;33m)\u001b[0m\u001b[1;33m:\u001b[0m\u001b[1;33m\u001b[0m\u001b[1;33m\u001b[0m\u001b[0m\n\u001b[1;32m--> 247\u001b[1;33m         \u001b[0mres_values\u001b[0m \u001b[1;33m=\u001b[0m \u001b[0mcomp_method_OBJECT_ARRAY\u001b[0m\u001b[1;33m(\u001b[0m\u001b[0mop\u001b[0m\u001b[1;33m,\u001b[0m \u001b[0mlvalues\u001b[0m\u001b[1;33m,\u001b[0m \u001b[0mrvalues\u001b[0m\u001b[1;33m)\u001b[0m\u001b[1;33m\u001b[0m\u001b[1;33m\u001b[0m\u001b[0m\n\u001b[0m\u001b[0;32m    248\u001b[0m \u001b[1;33m\u001b[0m\u001b[0m\n\u001b[0;32m    249\u001b[0m     \u001b[1;32melse\u001b[0m\u001b[1;33m:\u001b[0m\u001b[1;33m\u001b[0m\u001b[1;33m\u001b[0m\u001b[0m\n",
      "\u001b[1;32m~\\Anaconda3\\lib\\site-packages\\pandas\\core\\ops\\array_ops.py\u001b[0m in \u001b[0;36mcomp_method_OBJECT_ARRAY\u001b[1;34m(op, x, y)\u001b[0m\n\u001b[0;32m     55\u001b[0m         \u001b[0mresult\u001b[0m \u001b[1;33m=\u001b[0m \u001b[0mlibops\u001b[0m\u001b[1;33m.\u001b[0m\u001b[0mvec_compare\u001b[0m\u001b[1;33m(\u001b[0m\u001b[0mx\u001b[0m\u001b[1;33m.\u001b[0m\u001b[0mravel\u001b[0m\u001b[1;33m(\u001b[0m\u001b[1;33m)\u001b[0m\u001b[1;33m,\u001b[0m \u001b[0my\u001b[0m\u001b[1;33m,\u001b[0m \u001b[0mop\u001b[0m\u001b[1;33m)\u001b[0m\u001b[1;33m\u001b[0m\u001b[1;33m\u001b[0m\u001b[0m\n\u001b[0;32m     56\u001b[0m     \u001b[1;32melse\u001b[0m\u001b[1;33m:\u001b[0m\u001b[1;33m\u001b[0m\u001b[1;33m\u001b[0m\u001b[0m\n\u001b[1;32m---> 57\u001b[1;33m         \u001b[0mresult\u001b[0m \u001b[1;33m=\u001b[0m \u001b[0mlibops\u001b[0m\u001b[1;33m.\u001b[0m\u001b[0mscalar_compare\u001b[0m\u001b[1;33m(\u001b[0m\u001b[0mx\u001b[0m\u001b[1;33m.\u001b[0m\u001b[0mravel\u001b[0m\u001b[1;33m(\u001b[0m\u001b[1;33m)\u001b[0m\u001b[1;33m,\u001b[0m \u001b[0my\u001b[0m\u001b[1;33m,\u001b[0m \u001b[0mop\u001b[0m\u001b[1;33m)\u001b[0m\u001b[1;33m\u001b[0m\u001b[1;33m\u001b[0m\u001b[0m\n\u001b[0m\u001b[0;32m     58\u001b[0m     \u001b[1;32mreturn\u001b[0m \u001b[0mresult\u001b[0m\u001b[1;33m.\u001b[0m\u001b[0mreshape\u001b[0m\u001b[1;33m(\u001b[0m\u001b[0mx\u001b[0m\u001b[1;33m.\u001b[0m\u001b[0mshape\u001b[0m\u001b[1;33m)\u001b[0m\u001b[1;33m\u001b[0m\u001b[1;33m\u001b[0m\u001b[0m\n\u001b[0;32m     59\u001b[0m \u001b[1;33m\u001b[0m\u001b[0m\n",
      "\u001b[1;32mpandas\\_libs\\ops.pyx\u001b[0m in \u001b[0;36mpandas._libs.ops.scalar_compare\u001b[1;34m()\u001b[0m\n",
      "\u001b[1;31mTypeError\u001b[0m: '<' not supported between instances of 'str' and 'int'"
     ]
    }
   ],
   "source": [
    "frame2 < 5"
   ]
  },
  {
   "cell_type": "markdown",
   "metadata": {},
   "source": [
    "## Localizando Registros Dentro do Dataframe"
   ]
  },
  {
   "cell_type": "code",
   "execution_count": 47,
   "metadata": {},
   "outputs": [
    {
     "output_type": "execute_result",
     "data": {
      "text/plain": "Ano           2005\nEstado       Bahia\nPopulação      2.4\nDébito           3\nName: quatro, dtype: object"
     },
     "metadata": {},
     "execution_count": 47
    }
   ],
   "source": [
    "frame2.loc['quatro']"
   ]
  },
  {
   "cell_type": "code",
   "execution_count": 168,
   "metadata": {},
   "outputs": [
    {
     "data": {
      "text/plain": "Ano           2004\nEstado       Goiás\nPopulação      3.6\nDébito           2\nName: três, dtype: object"
     },
     "execution_count": 168,
     "metadata": {},
     "output_type": "execute_result"
    }
   ],
   "source": [
    "frame2.iloc[2]"
   ]
  },
  {
   "cell_type": "markdown",
   "metadata": {},
   "source": [
    "## Invertendo as Colunas e Índices"
   ]
  },
  {
   "cell_type": "code",
   "execution_count": 48,
   "metadata": {},
   "outputs": [],
   "source": [
    "# Criando um dicionário\n",
    "web_stats = {'Dias':[1, 2, 3, 4, 5, 6, 7], \n",
    "             'Visitantes':[45, 23, 67, 78, 23, 12, 14], \n",
    "             'Taxas':[11, 22, 33, 44, 55, 66, 77]}"
   ]
  },
  {
   "cell_type": "code",
   "execution_count": 49,
   "metadata": {},
   "outputs": [],
   "source": [
    "df = pd.DataFrame(web_stats)"
   ]
  },
  {
   "cell_type": "code",
   "execution_count": 50,
   "metadata": {},
   "outputs": [
    {
     "output_type": "stream",
     "name": "stdout",
     "text": "Dias  Visitantes  Taxas\n0     1          45     11\n1     2          23     22\n2     3          67     33\n3     4          78     44\n4     5          23     55\n5     6          12     66\n6     7          14     77\n"
    }
   ],
   "source": [
    "print(df)"
   ]
  },
  {
   "cell_type": "code",
   "execution_count": 51,
   "metadata": {},
   "outputs": [
    {
     "output_type": "stream",
     "name": "stdout",
     "text": "Visitantes  Taxas\nDias                   \n1             45     11\n2             23     22\n3             67     33\n4             78     44\n5             23     55\n6             12     66\n7             14     77\n"
    }
   ],
   "source": [
    "# Visualizando uma coluna  index\n",
    "print(df.set_index('Dias'))"
   ]
  },
  {
   "cell_type": "code",
   "execution_count": 52,
   "metadata": {},
   "outputs": [
    {
     "output_type": "stream",
     "name": "stdout",
     "text": "Dias  Visitantes  Taxas\n0     1          45     11\n1     2          23     22\n2     3          67     33\n3     4          78     44\n4     5          23     55\n"
    }
   ],
   "source": [
    "print(df.head())"
   ]
  },
  {
   "cell_type": "code",
   "execution_count": 53,
   "metadata": {},
   "outputs": [
    {
     "output_type": "execute_result",
     "data": {
      "text/plain": "      Visitantes  Taxas\nDias                   \n1             45     11\n2             23     22\n3             67     33\n4             78     44\n5             23     55\n6             12     66\n7             14     77",
      "text/html": "<div>\n<style scoped>\n    .dataframe tbody tr th:only-of-type {\n        vertical-align: middle;\n    }\n\n    .dataframe tbody tr th {\n        vertical-align: top;\n    }\n\n    .dataframe thead th {\n        text-align: right;\n    }\n</style>\n<table border=\"1\" class=\"dataframe\">\n  <thead>\n    <tr style=\"text-align: right;\">\n      <th></th>\n      <th>Visitantes</th>\n      <th>Taxas</th>\n    </tr>\n    <tr>\n      <th>Dias</th>\n      <th></th>\n      <th></th>\n    </tr>\n  </thead>\n  <tbody>\n    <tr>\n      <th>1</th>\n      <td>45</td>\n      <td>11</td>\n    </tr>\n    <tr>\n      <th>2</th>\n      <td>23</td>\n      <td>22</td>\n    </tr>\n    <tr>\n      <th>3</th>\n      <td>67</td>\n      <td>33</td>\n    </tr>\n    <tr>\n      <th>4</th>\n      <td>78</td>\n      <td>44</td>\n    </tr>\n    <tr>\n      <th>5</th>\n      <td>23</td>\n      <td>55</td>\n    </tr>\n    <tr>\n      <th>6</th>\n      <td>12</td>\n      <td>66</td>\n    </tr>\n    <tr>\n      <th>7</th>\n      <td>14</td>\n      <td>77</td>\n    </tr>\n  </tbody>\n</table>\n</div>"
     },
     "metadata": {},
     "execution_count": 53
    }
   ],
   "source": [
    "df.set_index('Dias')"
   ]
  },
  {
   "cell_type": "code",
   "execution_count": 175,
   "metadata": {},
   "outputs": [
    {
     "data": {
      "text/html": "<div>\n<style scoped>\n    .dataframe tbody tr th:only-of-type {\n        vertical-align: middle;\n    }\n\n    .dataframe tbody tr th {\n        vertical-align: top;\n    }\n\n    .dataframe thead th {\n        text-align: right;\n    }\n</style>\n<table border=\"1\" class=\"dataframe\">\n  <thead>\n    <tr style=\"text-align: right;\">\n      <th></th>\n      <th>Dias</th>\n      <th>Visitantes</th>\n      <th>Taxas</th>\n    </tr>\n  </thead>\n  <tbody>\n    <tr>\n      <th>0</th>\n      <td>1</td>\n      <td>45</td>\n      <td>11</td>\n    </tr>\n    <tr>\n      <th>1</th>\n      <td>2</td>\n      <td>23</td>\n      <td>22</td>\n    </tr>\n    <tr>\n      <th>2</th>\n      <td>3</td>\n      <td>67</td>\n      <td>33</td>\n    </tr>\n    <tr>\n      <th>3</th>\n      <td>4</td>\n      <td>78</td>\n      <td>44</td>\n    </tr>\n    <tr>\n      <th>4</th>\n      <td>5</td>\n      <td>23</td>\n      <td>55</td>\n    </tr>\n  </tbody>\n</table>\n</div>",
      "text/plain": "   Dias  Visitantes  Taxas\n0     1          45     11\n1     2          23     22\n2     3          67     33\n3     4          78     44\n4     5          23     55"
     },
     "execution_count": 175,
     "metadata": {},
     "output_type": "execute_result"
    }
   ],
   "source": [
    "df.head()"
   ]
  },
  {
   "cell_type": "code",
   "execution_count": 113,
   "metadata": {},
   "outputs": [
    {
     "name": "stdout",
     "output_type": "stream",
     "text": "0    45\n1    23\n2    67\n3    78\n4    23\n5    12\n6    14\nName: Visitantes, dtype: int64\n"
    }
   ],
   "source": [
    "print(df['Visitantes'])"
   ]
  },
  {
   "cell_type": "code",
   "execution_count": 114,
   "metadata": {},
   "outputs": [
    {
     "name": "stdout",
     "output_type": "stream",
     "text": "Visitantes  Taxas\n0          45     11\n1          23     22\n2          67     33\n3          78     44\n4          23     55\n5          12     66\n6          14     77\n"
    }
   ],
   "source": [
    "print(df[['Visitantes', 'Taxas']])"
   ]
  },
  {
   "cell_type": "markdown",
   "metadata": {},
   "source": [
    "## Dataframes e Arquivos csv"
   ]
  },
  {
   "cell_type": "code",
   "execution_count": 54,
   "metadata": {},
   "outputs": [],
   "source": [
    "# Usando o método read_csv\n",
    "df = pd.read_csv('salarios.csv')"
   ]
  },
  {
   "cell_type": "code",
   "execution_count": 55,
   "metadata": {},
   "outputs": [
    {
     "output_type": "execute_result",
     "data": {
      "text/plain": "                      Name            Position Title        Department  \\\n0          AARON,  ELVIA J          WATER RATE TAKER       WATER MGMNT   \n1        AARON,  JEFFERY M            POLICE OFFICER            POLICE   \n2           AARON,  KARINA            POLICE OFFICER            POLICE   \n3      AARON,  KIMBERLEI R  CHIEF CONTRACT EXPEDITER  GENERAL SERVICES   \n4      ABAD JR,  VICENTE M         CIVIL ENGINEER IV       WATER MGMNT   \n...                    ...                       ...               ...   \n32177   ZYGOWICZ,  PETER J            POLICE OFFICER            POLICE   \n32178    ZYMANTAS,  MARK E            POLICE OFFICER            POLICE   \n32179  ZYRKOWSKI,  CARLO E            POLICE OFFICER            POLICE   \n32180  ZYSKOWSKI,  DARIUSZ   CHIEF DATA BASE ANALYST              DoIT   \n32181                  NaN                       NaN               NaN   \n\n      Employee Annual Salary  \n0                  $88968.00  \n1                  $80778.00  \n2                  $80778.00  \n3                  $84780.00  \n4                 $104736.00  \n...                      ...  \n32177              $86520.00  \n32178              $83616.00  \n32179              $86520.00  \n32180             $110352.00  \n32181                    NaN  \n\n[32182 rows x 4 columns]",
      "text/html": "<div>\n<style scoped>\n    .dataframe tbody tr th:only-of-type {\n        vertical-align: middle;\n    }\n\n    .dataframe tbody tr th {\n        vertical-align: top;\n    }\n\n    .dataframe thead th {\n        text-align: right;\n    }\n</style>\n<table border=\"1\" class=\"dataframe\">\n  <thead>\n    <tr style=\"text-align: right;\">\n      <th></th>\n      <th>Name</th>\n      <th>Position Title</th>\n      <th>Department</th>\n      <th>Employee Annual Salary</th>\n    </tr>\n  </thead>\n  <tbody>\n    <tr>\n      <th>0</th>\n      <td>AARON,  ELVIA J</td>\n      <td>WATER RATE TAKER</td>\n      <td>WATER MGMNT</td>\n      <td>$88968.00</td>\n    </tr>\n    <tr>\n      <th>1</th>\n      <td>AARON,  JEFFERY M</td>\n      <td>POLICE OFFICER</td>\n      <td>POLICE</td>\n      <td>$80778.00</td>\n    </tr>\n    <tr>\n      <th>2</th>\n      <td>AARON,  KARINA</td>\n      <td>POLICE OFFICER</td>\n      <td>POLICE</td>\n      <td>$80778.00</td>\n    </tr>\n    <tr>\n      <th>3</th>\n      <td>AARON,  KIMBERLEI R</td>\n      <td>CHIEF CONTRACT EXPEDITER</td>\n      <td>GENERAL SERVICES</td>\n      <td>$84780.00</td>\n    </tr>\n    <tr>\n      <th>4</th>\n      <td>ABAD JR,  VICENTE M</td>\n      <td>CIVIL ENGINEER IV</td>\n      <td>WATER MGMNT</td>\n      <td>$104736.00</td>\n    </tr>\n    <tr>\n      <th>...</th>\n      <td>...</td>\n      <td>...</td>\n      <td>...</td>\n      <td>...</td>\n    </tr>\n    <tr>\n      <th>32177</th>\n      <td>ZYGOWICZ,  PETER J</td>\n      <td>POLICE OFFICER</td>\n      <td>POLICE</td>\n      <td>$86520.00</td>\n    </tr>\n    <tr>\n      <th>32178</th>\n      <td>ZYMANTAS,  MARK E</td>\n      <td>POLICE OFFICER</td>\n      <td>POLICE</td>\n      <td>$83616.00</td>\n    </tr>\n    <tr>\n      <th>32179</th>\n      <td>ZYRKOWSKI,  CARLO E</td>\n      <td>POLICE OFFICER</td>\n      <td>POLICE</td>\n      <td>$86520.00</td>\n    </tr>\n    <tr>\n      <th>32180</th>\n      <td>ZYSKOWSKI,  DARIUSZ</td>\n      <td>CHIEF DATA BASE ANALYST</td>\n      <td>DoIT</td>\n      <td>$110352.00</td>\n    </tr>\n    <tr>\n      <th>32181</th>\n      <td>NaN</td>\n      <td>NaN</td>\n      <td>NaN</td>\n      <td>NaN</td>\n    </tr>\n  </tbody>\n</table>\n<p>32182 rows × 4 columns</p>\n</div>"
     },
     "metadata": {},
     "execution_count": 55
    }
   ],
   "source": [
    "df"
   ]
  },
  {
   "cell_type": "code",
   "execution_count": 59,
   "metadata": {},
   "outputs": [
    {
     "output_type": "execute_result",
     "data": {
      "text/plain": "                Name    Position Title   Department Employee Annual Salary\n0    AARON,  ELVIA J  WATER RATE TAKER  WATER MGMNT              $88968.00\n1  AARON,  JEFFERY M    POLICE OFFICER       POLICE              $80778.00",
      "text/html": "<div>\n<style scoped>\n    .dataframe tbody tr th:only-of-type {\n        vertical-align: middle;\n    }\n\n    .dataframe tbody tr th {\n        vertical-align: top;\n    }\n\n    .dataframe thead th {\n        text-align: right;\n    }\n</style>\n<table border=\"1\" class=\"dataframe\">\n  <thead>\n    <tr style=\"text-align: right;\">\n      <th></th>\n      <th>Name</th>\n      <th>Position Title</th>\n      <th>Department</th>\n      <th>Employee Annual Salary</th>\n    </tr>\n  </thead>\n  <tbody>\n    <tr>\n      <th>0</th>\n      <td>AARON,  ELVIA J</td>\n      <td>WATER RATE TAKER</td>\n      <td>WATER MGMNT</td>\n      <td>$88968.00</td>\n    </tr>\n    <tr>\n      <th>1</th>\n      <td>AARON,  JEFFERY M</td>\n      <td>POLICE OFFICER</td>\n      <td>POLICE</td>\n      <td>$80778.00</td>\n    </tr>\n  </tbody>\n</table>\n</div>"
     },
     "metadata": {},
     "execution_count": 59
    }
   ],
   "source": [
    "df[0:2]"
   ]
  },
  {
   "cell_type": "code",
   "execution_count": 178,
   "metadata": {},
   "outputs": [],
   "source": [
    "# Usando o método read_table\n",
    "df = pd.read_table('salarios.csv', sep = ',')"
   ]
  },
  {
   "cell_type": "code",
   "execution_count": 180,
   "metadata": {},
   "outputs": [
    {
     "data": {
      "text/html": "<div>\n<style scoped>\n    .dataframe tbody tr th:only-of-type {\n        vertical-align: middle;\n    }\n\n    .dataframe tbody tr th {\n        vertical-align: top;\n    }\n\n    .dataframe thead th {\n        text-align: right;\n    }\n</style>\n<table border=\"1\" class=\"dataframe\">\n  <thead>\n    <tr style=\"text-align: right;\">\n      <th></th>\n      <th>Name</th>\n      <th>Position Title</th>\n      <th>Department</th>\n      <th>Employee Annual Salary</th>\n    </tr>\n  </thead>\n  <tbody>\n    <tr>\n      <th>0</th>\n      <td>AARON,  ELVIA J</td>\n      <td>WATER RATE TAKER</td>\n      <td>WATER MGMNT</td>\n      <td>$88968.00</td>\n    </tr>\n    <tr>\n      <th>1</th>\n      <td>AARON,  JEFFERY M</td>\n      <td>POLICE OFFICER</td>\n      <td>POLICE</td>\n      <td>$80778.00</td>\n    </tr>\n    <tr>\n      <th>2</th>\n      <td>AARON,  KARINA</td>\n      <td>POLICE OFFICER</td>\n      <td>POLICE</td>\n      <td>$80778.00</td>\n    </tr>\n    <tr>\n      <th>3</th>\n      <td>AARON,  KIMBERLEI R</td>\n      <td>CHIEF CONTRACT EXPEDITER</td>\n      <td>GENERAL SERVICES</td>\n      <td>$84780.00</td>\n    </tr>\n    <tr>\n      <th>4</th>\n      <td>ABAD JR,  VICENTE M</td>\n      <td>CIVIL ENGINEER IV</td>\n      <td>WATER MGMNT</td>\n      <td>$104736.00</td>\n    </tr>\n    <tr>\n      <th>...</th>\n      <td>...</td>\n      <td>...</td>\n      <td>...</td>\n      <td>...</td>\n    </tr>\n    <tr>\n      <th>32177</th>\n      <td>ZYGOWICZ,  PETER J</td>\n      <td>POLICE OFFICER</td>\n      <td>POLICE</td>\n      <td>$86520.00</td>\n    </tr>\n    <tr>\n      <th>32178</th>\n      <td>ZYMANTAS,  MARK E</td>\n      <td>POLICE OFFICER</td>\n      <td>POLICE</td>\n      <td>$83616.00</td>\n    </tr>\n    <tr>\n      <th>32179</th>\n      <td>ZYRKOWSKI,  CARLO E</td>\n      <td>POLICE OFFICER</td>\n      <td>POLICE</td>\n      <td>$86520.00</td>\n    </tr>\n    <tr>\n      <th>32180</th>\n      <td>ZYSKOWSKI,  DARIUSZ</td>\n      <td>CHIEF DATA BASE ANALYST</td>\n      <td>DoIT</td>\n      <td>$110352.00</td>\n    </tr>\n    <tr>\n      <th>32181</th>\n      <td>NaN</td>\n      <td>NaN</td>\n      <td>NaN</td>\n      <td>NaN</td>\n    </tr>\n  </tbody>\n</table>\n<p>32182 rows × 4 columns</p>\n</div>",
      "text/plain": "                      Name            Position Title        Department  \\\n0          AARON,  ELVIA J          WATER RATE TAKER       WATER MGMNT   \n1        AARON,  JEFFERY M            POLICE OFFICER            POLICE   \n2           AARON,  KARINA            POLICE OFFICER            POLICE   \n3      AARON,  KIMBERLEI R  CHIEF CONTRACT EXPEDITER  GENERAL SERVICES   \n4      ABAD JR,  VICENTE M         CIVIL ENGINEER IV       WATER MGMNT   \n...                    ...                       ...               ...   \n32177   ZYGOWICZ,  PETER J            POLICE OFFICER            POLICE   \n32178    ZYMANTAS,  MARK E            POLICE OFFICER            POLICE   \n32179  ZYRKOWSKI,  CARLO E            POLICE OFFICER            POLICE   \n32180  ZYSKOWSKI,  DARIUSZ   CHIEF DATA BASE ANALYST              DoIT   \n32181                  NaN                       NaN               NaN   \n\n      Employee Annual Salary  \n0                  $88968.00  \n1                  $80778.00  \n2                  $80778.00  \n3                  $84780.00  \n4                 $104736.00  \n...                      ...  \n32177              $86520.00  \n32178              $83616.00  \n32179              $86520.00  \n32180             $110352.00  \n32181                    NaN  \n\n[32182 rows x 4 columns]"
     },
     "execution_count": 180,
     "metadata": {},
     "output_type": "execute_result"
    }
   ],
   "source": [
    "df"
   ]
  },
  {
   "cell_type": "code",
   "execution_count": 60,
   "metadata": {
    "tags": [
     "outputPrepend",
     "outputPrepend",
     "outputPrepend",
     "outputPrepend",
     "outputPrepend",
     "outputPrepend",
     "outputPrepend",
     "outputPrepend",
     "outputPrepend",
     "outputPrepend",
     "outputPrepend"
    ]
   },
   "outputs": [
    {
     "output_type": "stream",
     "name": "stdout",
     "text": "FINANCE,$111216.00\n\"YOUNG,  EUNICE\",SENIOR COMPANION,FAMILY & SUPPORT,$2756.00\n\"YOUNG,  GERALDINE\",CRIMINAL HISTORY ANALYST,POLICE,$80328.00\n\"YOUNG,  GREGORY J\",POLICE OFFICER,POLICE,$80778.00\n\"YOUNG,  IRENE S\",POLICE COMMUNICATIONS OPERATOR II,OEMC,$80940.00\n\"YOUNG,  JAMES G\",POLICE OFFICER,POLICE,$92316.00\n\"YOUNG,  JERMAINE M\",POLICE OFFICER,POLICE,$80778.00\n\"YOUNG,  JERRY L\",CLERK III,POLICE,$55428.00\n\"YOUNG,  JOHN A\",CONSTRUCTION LABORER,WATER MGMNT,$79040.00\n\"YOUNG JR,  KENNETH\",POLICE OFFICER,POLICE,$89718.00\n\"YOUNG JR,  LEROY\",CONSUMER INVESTIGATOR I,BUSINESS AFFAIRS,$69888.00\n\"YOUNG,  KENNETH\",DETENTION AIDE,POLICE,$67212.00\n\"YOUNG,  KRISTY\",CROSSING GUARD - PER AGREEMENT,POLICE,$13790.40\n\"YOUNG,  LADIVA M\",TREE TRIMMER,STREETS & SAN,$74464.00\n\"YOUNG,  LARRY\",OPERATING ENGINEER-GROUP C,AVIATION,$93745.60\n\"YOUNG,  LASHAUN\",TRAFFIC CONTROL AIDE-HOURLY,OEMC,$19656.00\n\"YOUNG,  LINDA F\",SANITATION LABORER,STREETS & SAN,$72384.00\n\"YOUNG,  LONNIE D\",POLICE OFFICER,POLICE,$86520.00\n\"YOUNG,  MAURICE A\",FIREFIGHTER-EMT (RECRUIT),FIRE,$54114.00\n\"YOUNG,  MICHELE D\",CROSSING GUARD,POLICE,$22131.20\n\"YOUNG,  PAUL D\",POLICE OFFICER,POLICE,$80778.00\n\"YOUNG,  RASHIDA L\",POLICE OFFICER,POLICE,$80778.00\n\"YOUNG,  RAY W\",SERGEANT,POLICE,$106920.00\n\"YOUNG,  RITA T\",TIMEKEEPER - CPD,POLICE,$73200.00\n\"YOUNG,  ROBERT A\",POLICE OFFICER,POLICE,$86520.00\n\"YOUNG,  RONALD L\",LIEUTENANT,FIRE,$110370.00\n\"YOUNG,  SARAH L\",MANAGER OF DATA ENTRY OPERATORS,FIRE,$57648.00\n\"YOUNG,  STEPHEN L\",FIREFIGHTER,FIRE,$93594.00\n\"YOUNG,  STEVEN A\",POLICE OFFICER,POLICE,$89718.00\n\"YOUNG,  SUSAN E\",POLICE OFFICER,POLICE,$80778.00\n\"YOUNG,  TAMARA S\",HEAD LIBRARY CLERK,PUBLIC LIBRARY,$60780.00\n\"YOUNG,  THOMAS E\",FIREFIGHTER/PARAMEDIC,FIRE,$90798.00\n\"YOUNG,  THOMAS P\",POLICE OFFICER,POLICE,$89718.00\n\"YOUNG,  TORRI R\",DENTAL ASST,HEALTH,$55428.00\n\"YOUNG,  YVONNE M\",TRAFFIC CONTROL AIDE-HOURLY,OEMC,$19656.00\n\"YOUNKINS,  MARK A\",CONTRACTS COMPLIANCE COORD,HEALTH,$80916.00\n\"YOUNKINS,  RHONDA C\",POLICE COMMUNICATIONS OPERATOR I,OEMC,$61260.00\n\"YOUSIF,  EVAN F\",POLICE OFFICER,POLICE,$83616.00\n\"YOUSTRA,  RYAN\",POLICE OFFICER,POLICE,$73296.00\n\"YOZA,  KENNETH K\",FIRE ENGINEER,FIRE,$93648.00\n\"YRACHETA,  LORI\",POOL MOTOR TRUCK DRIVER,AVIATION,$71780.80\n\"YUE,  HENRY K\",ACCOUNTANT I,FINANCE,$72840.00\n\"YUEN,  ELLEN\",HEAD LIBRARY CLERK,PUBLIC LIBRARY,$60780.00\n\"YUE,  WILLIAM K\",PREPRESS TECHNICIAN,GENERAL SERVICES,$50160.00\n\"YUKAWA,  LAURA G\",POLICE OFFICER,POLICE,$89718.00\n\"YU,  LIANG W\",LIBRARY CLERK,PUBLIC LIBRARY,$38208.00\n\"YU,  MING Z\",SENIOR COMPANION,FAMILY & SUPPORT,$2756.00\n\"YUNG,  MAY\",POOL MOTOR TRUCK DRIVER,STREETS & SAN,$71780.80\n\"YUNG,  TIMOTHY\",SUPVSR OF AUDITING,FINANCE,$99108.00\n\"YURISICH,  DONALD M\",POLICE OFFICER (ASSIGNED AS DETECTIVE),POLICE,$93648.00\n\"YUSUF,  MOHAMMAD A\",POLICE OFFICER,POLICE,$83616.00\n\"YU,  WAN FANG\",LIBRARIAN I,PUBLIC LIBRARY,$59352.00\n\"YZAGUIRRE,  MICHAEL R\",POLICE OFFICER,POLICE,$89718.00\n\"ZABEL,  SHERRY\",CLERK - BD OF ELECTIONS,BOARD OF ELECTION,$28608.00\n\"ZABER,  GREGORY S\",ASST CHIEF OPERATING ENGINEER,WATER MGMNT,$108534.40\n\"ZABER,  NICHOLAS E\",SERGEANT,POLICE,$106920.00\n\"ZABLOCKI,  EDMUND F\",POLICE OFFICER,POLICE,$83616.00\n\"ZACCAGNINI,  GEORGE J\",CAPTAIN-EMT,FIRE,$131466.00\n\"ZACCAGNINI,  JOSEPH A\",OPERATING ENGINEER-GROUP A,AVIATION,$98675.20\n\"ZACCAGNINO,  JOSEPH A\",POLICE OFFICER,POLICE,$83616.00\n\"ZACCONE,  THOMAS S\",POLICE OFFICER,POLICE,$80778.00\n\"ZACEK,  DAVID R\",POLICE OFFICER,POLICE,$89718.00\n\"ZACEK,  DEBRA A\",POLICE OFFICER,POLICE,$86520.00\n\"ZACH,  MICHAEL D\",FIREFIGHTER/PARAMEDIC,FIRE,$79584.00\n\"ZADURA,  STEFAN W\",POLICE OFFICER,POLICE,$83616.00\n\"ZAENTZ,  JONATHAN A\",PARAMEDIC FIELD CHIEF,FIRE,$128004.00\n\"ZAFIRIS,  CHRISTOPHER\",ARCHITECT IV,DISABILITIES,$104736.00\n\"ZAGLOBA,  AMANDA L\",LIBRARIAN I,PUBLIC LIBRARY,$53796.00\n\"ZAGONE,  JOSEPH M\",SEWER BRICKLAYER,WATER MGMNT,$88566.40\n\"ZAGORSKI,  RUSSELL\",POLICE OFFICER,POLICE,$69684.00\n\"ZAHDAN,  HAZEM\",FILTRATION ENGINEER III,WATER MGMNT,$95880.00\n\"ZAHDAN,  MOEEN D\",STAFF ASST TO THE ALDERMAN,CITY COUNCIL,$55656.00\n\"ZAHDAN,  ZIYADEH D\",PLUMBING INSPECTOR,WATER MGMNT,$99252.00\n\"ZAHLMANN,  KRISTINE L\",POLICE OFFICER,POLICE,$83616.00\n\"ZAHN,  DAVID R\",LIEUTENANT,POLICE,$116724.00\n\"ZAHRADNIK,  JOSEPH\",POLICE OFFICER,POLICE,$73296.00\n\"ZAIB,  ZOHAIB\",POLICE OFFICER,POLICE,$69684.00\n\"ZAIDAN,  JENNIFER L\",POLICE OFFICER,POLICE,$83616.00\n\"ZAIDI,  SYED K\",PARKING ENFORCEMENT AIDE,FINANCE,$46380.00\n\"ZAJA,  ALAN J\",BATTALION CHIEF,FIRE,$135480.00\n\"ZAJAC,  ANTHONY M\",FIRE ENGINEER-EMT,FIRE,$99324.00\n\"ZAJAC,  JASON R\",FIREFIGHTER-EMT,FIRE,$91764.00\n\"ZAJAC,  MARTIN E\",FIREFIGHTER-EMT (RECRUIT),FIRE,$54114.00\n\"ZAJAC,  VICTOR D\",FIREFIGHTER (PER ARBITRATORS AWARD)-PARAMEDIC,FIRE,$98244.00\n\"ZAJCZENKO,  STEFAN W\",POLICE OFFICER,POLICE,$86520.00\n\"ZAJDZINSKI,  VINCENT\",MACHINIST (AUTOMOTIVE),GENERAL SERVICES,$92248.00\n\"ZAKEE,  AMEER\",FIREFIGHTER-EMT,FIRE,$85680.00\n\"ZAKE,  JOSHUA S\",CIVIL ENGINEER IV,TRANSPORTN,$104736.00\n\"ZAK,  ELIZABETH V\",POLICE COMMUNICATIONS OPERATOR II,OEMC,$73764.00\n\"ZALA,  VEEJAY N\",POLICE OFFICER,POLICE,$86520.00\n\"ZALESKI,  MARIUSZ\",AVIATION SECURITY OFFICER,AVIATION,$64188.00\n\"ZALEWSKI,  DANIEL L\",POLICE OFFICER,POLICE,$92316.00\n\"ZALEWSKI,  FRANK A\",POOL MOTOR TRUCK DRIVER,STREETS & SAN,$71780.80\n\"ZALEWSKI,  JOHN E\",POLICE OFFICER (ASSIGNED AS DETECTIVE),POLICE,$97044.00\n\"ZALEWSKI,  MARK\",POLICE OFFICER,POLICE,$86520.00\n\"ZALEWSKI,  MICHAEL R\",ALDERMAN,CITY COUNCIL,$114996.00\n\"ZALINSKI,  ANDRZEJ\",POLICE OFFICER,POLICE,$65946.00\n\"ZALINSKI,  DONALD E\",POLICE OFFICER,POLICE,$86520.00\n\"ZALINSKI,  KIMBERLY S\",POLICE OFFICER,POLICE,$86520.00\n\"ZALINSKI,  SHANNON M\",LIBRARIAN I,PUBLIC LIBRARY,$72840.00\n\"ZALINSKI,  STANISLAW\",POLICE OFFICER,POLICE,$80778.00\n\"ZALLER,  MATTHEW J\",FIREFIGHTER/PARAMEDIC,FIRE,$87720.00\n\"ZAMARRIPA,  CRUZ C\",CROSSING GUARD,POLICE,$18324.80\n\"ZAMAYOA,  ALYSSA-MARIE\",PROGRAM AIDE,POLICE,$9360.00\n\"ZAMBRANO,  EMMANUEL\",POLICE OFFICER,POLICE,$69684.00\n\"ZAMBRANO,  JAVIER A\",POLICE OFFICER,POLICE,$83616.00\n\"ZAMBRANO JR,  LUIS\",POLICE OFFICER (ASSIGNED AS SECURITY SPECIALIST),POLICE,$106920.00\n\"ZAMBRANO,  SONIA\",POLICE OFFICER,POLICE,$83616.00\n\"ZAMOJSKA,  MARTA K\",POLICE OFFICER,POLICE,$69684.00\n\"ZAMOJSKI,  CAROLYN\",CROSSING GUARD,POLICE,$22131.20\n\"ZAMORA,  ANTHONY M\",POLICE OFFICER,POLICE,$80778.00\n\"ZAMORA,  CARLOS A\",POLICE OFFICER,POLICE,$83616.00\n\"ZAMORA,  HECTOR M\",POOL MOTOR TRUCK DRIVER,AVIATION,$71780.80\n\"ZAMORA II,  MARTIN\",POOL MOTOR TRUCK DRIVER,TRANSPORTN,$71780.80\n\"ZAMORA,  JANE F\",PROGRAM AUDITOR II,HEALTH,$73200.00\n\"ZAMORA,  JESUS\",GENERAL LABORER - DSS,STREETS & SAN,$43201.60\n\"ZAMORA,  LEONCIO\",ASPHALT LABORER,TRANSPORTN,$79040.00\n\"ZAMORA,  LOUIS C\",FIREFIGHTER-EMT,FIRE,$99258.00\n\"ZAMORA,  MARTIN\",MOTOR TRUCK DRIVER,STREETS & SAN,$71780.80\n\"ZAMORA,  MICHAEL\",FIRE ENGINEER-EMT,FIRE,$99324.00\n\"ZAMORA,  PASCUAL\",MOTOR TRUCK DRIVER,STREETS & SAN,$71780.80\n\"ZAMORA,  REBECCA A\",ADMIN SERVICES OFFICER I-EXCLUDED,POLICE,$64152.00\n\"ZAMUDIO,  JAIME\",FIREFIGHTER,FIRE,$90018.00\n\"ZAMZOW,  ANNE E\",POLICE OFFICER,POLICE,$83616.00\n\"ZANDERS,  JERRY J\",POLICE OFFICER,POLICE,$83616.00\n\"ZANGARIYA,  SOHEB M\",TRAFFIC CONTROL AIDE-HOURLY,OEMC,$19656.00\n\"ZANIN,  MICHAEL J\",ELECTRICAL MECHANIC,GENERAL SERVICES,$91520.00\n\"ZANKO,  JESSE A\",AVIATION SECURITY OFFICER,AVIATION,$48924.00\n\"ZAPATA,  HUGO\",SR PROCUREMENT SPECIALIST,PROCUREMENT,$84780.00\n\"ZAPATA,  JOSHUA\",POLICE OFFICER,POLICE,$83616.00\n\"ZAPATA,  MARGIE\",TRAFFIC CONTROL AIDE,OEMC,$35328.00\n\"ZAPATA,  MARIA G\",POLICE OFFICER,POLICE,$80778.00\n\"ZAPATA,  PEDRO\",POLICE OFFICER,POLICE,$86520.00\n\"ZARAGOZA,  GREGORY\",POLICE OFFICER,POLICE,$89718.00\n\"ZARAGOZA,  JUAN F\",POLICE OFFICER,POLICE,$89718.00\n\"ZARAGOZA,  MARTHA G\",POLICE OFFICER,POLICE,$86520.00\n\"ZARAGOZA,  MICHAEL\",POLICE OFFICER,POLICE,$69684.00\n\"ZARAGOZA,  RAYMUNDO\",POLICE OFFICER,POLICE,$83616.00\n\"ZARATE,  MARCOS\",ELECTRICAL MECHANIC-AUTO-POLICE MTR MNT,GENERAL SERVICES,$91520.00\n\"ZARATE,  RICHARD L\",FIRE ENGINEER-EMT,FIRE,$105918.00\n\"ZARATE,  ROSIEL\",SENIOR BUSINESS CONSULTANT,BUSINESS AFFAIRS,$67224.00\n\"ZARBOCK,  NICK F\",POLICE OFFICER,POLICE,$86520.00\n\"ZARCO,  GAMALIEL\",POLICE OFFICER,POLICE,$69684.00\n\"ZARCONE,  ANTHONY J\",FIREFIGHTER,FIRE,$90018.00\n\"ZAREMBA,  WILLIAM M\",DETENTION AIDE,POLICE,$61260.00\n\"ZARESKI,  WALTER S\",POOL MOTOR TRUCK DRIVER,STREETS & SAN,$71780.80\n\"ZARIC,  MARKO\",STAFF ASST TO THE ALDERMAN,CITY COUNCIL,$45684.00\n\"ZARKY,  ROGER P\",GARAGE ATTENDANT,GENERAL SERVICES,$46592.00\n\"ZARLENGA,  MICHAEL C\",SANITATION LABORER,STREETS & SAN,$72384.00\n\"ZARLENGA,  NICHOLAS\",FIREFIGHTER-EMT,FIRE,$85680.00\n\"ZAROBSKY,  JEFFREY O\",FIREFIGHTER/PARAMEDIC,FIRE,$87720.00\n\"ZARO,  NICHOLAS J\",WARD SUPERINTENDENT,STREETS & SAN,$97416.00\n\"ZATORA,  MONIKA\",POLICE OFFICER,POLICE,$80778.00\n\"ZATORA,  TOMASZ M\",POLICE OFFICER,POLICE,$80778.00\n\"ZATOR,  KENNETH W\",AVIATION SECURITY OFFICER - HOURLY,AVIATION,$22120.80\n\"ZATOR,  KEVIN M\",AVIATION SECURITY SERGEANT,AVIATION,$67224.00\n\"ZATTAIR,  NICK\",POLICE OFFICER,POLICE,$89718.00\n\"ZAUCEDO,  JOSE C\",FIREFIGHTER-EMT,FIRE,$88680.00\n\"ZAUKAS,  RYAN M\",POOL MOTOR TRUCK DRIVER,TRANSPORTN,$71780.80\n\"ZAVALA,  FERNANDO\",ACCOUNTANT IV,FINANCE,$95880.00\n\"ZAVALA,  JOSUE\",CONCRETE LABORER,TRANSPORTN,$79040.00\n\"ZAVALA,  MARK A\",LABORER,TRANSPORTN,$71136.00\n\"ZAVALA,  MATTHEW R\",SERVICE WRITER,GENERAL SERVICES,$61356.00\n\"ZAVALA,  MICHAEL D\",FRM OF MACHINISTS - AUTOMOTIVE,GENERAL SERVICES,$97448.00\n\"ZAVALA,  OLGA\",CROSSING GUARD,POLICE,$17492.80\n\"ZAVALA,  ROBERTO\",POLICE OFFICER,POLICE,$69684.00\n\"ZAVALA,  SHALINA P\",DATA ENTRY OPERATOR,POLICE,$41952.00\n\"ZAVALA,  VICTOR M\",EQUIPMENT DISPATCHER,GENERAL SERVICES,$73028.80\n\"ZAVALA,  WENSESLAO\",POLICE OFFICER,POLICE,$83616.00\n\"ZAVALETA,  RAMON\",POLICE OFFICER,POLICE,$83616.00\n\"ZAVISTAUSKAS,  ROMAS\",PLUMBER,WATER MGMNT,$97032.00\n\"ZAVOS,  JAMES M\",POOL MOTOR TRUCK DRIVER,STREETS & SAN,$71780.80\n\"ZAWADA,  RICHARD A\",POLICE OFFICER,POLICE,$89718.00\n\"ZAWADA,  ROMAN F\",POLICE OFFICER,POLICE,$83616.00\n\"ZAWADSKI,  JAMES\",CLERK IV,LAW,$66684.00\n\"ZAWADZKI,  SHELLEY M\",LIBRARIAN III,PUBLIC LIBRARY,$83256.00\n\"ZAWILA,  MARK A\",POLICE OFFICER (ASSIGNED AS DETECTIVE),POLICE,$97044.00\n\"ZAWILA,  ROBERT\",POOL MOTOR TRUCK DRIVER,STREETS & SAN,$71780.80\n\"ZAWORA,  JOHN M\",SUPVSR OF LOT CLEANING SERVICES,STREETS & SAN,$92304.00\n\"ZAYAS,  ALBERTO H\",POLICE OFFICER,POLICE,$80778.00\n\"ZAYAS,  ALEXIS M\",POLICE OFFICER,POLICE,$76902.00\n\"ZAYAS JR,  ANDRES\",SERGEANT,POLICE,$106920.00\n\"ZAYED,  SAMERA Z\",DISABILITY SPECIALIST II,DISABILITIES,$80424.00\n\"ZBELA,  KRYSTYNA Z\",POLICE OFFICER,POLICE,$80778.00\n\"ZBIKOWSKI,  THOMAS M\",FIREFIGHTER-EMT (RECRUIT),FIRE,$54114.00\n\"ZBOREK,  ROBERT\",VETERINARY ASST,ANIMAL CONTRL,$60780.00\n\"ZBORIL,  NORA A\",PUBLIC RELATIONS REPRESENTATIVE III,CULTURAL AFFAIRS,$70380.00\n\"ZDANYS,  DAVID A\",POLICE OFFICER,POLICE,$86520.00\n\"ZDEB,  MARK J\",POLICE OFFICER,POLICE,$80778.00\n\"ZDRZALKA,  PIOTR\",POLICE OFFICER,POLICE,$69684.00\n\"ZECEVICH,  DRAGAN\",FOREMAN OF ELECTRICAL MECHANICS,WATER MGMNT,$97760.00\n\"ZEFRAN,  FRANK J\",CONSTRUCTION LABORER,WATER MGMNT,$79040.00\n\"ZEFRAN,  JOHN L\",ASST GENERAL SUPT OF STREETS AND SANITATION,STREETS & SAN,$93024.00\n\"ZEGA,  JAMES E\",POLICE OFFICER,POLICE,$89718.00\n\"ZEGLIS,  THERESA\",POLICE OFFICER,POLICE,$69684.00\n\"ZEHAR,  DONALD L\",CONSTRUCTION LABORER,AVIATION,$79040.00\n\"ZEIGER,  EDWARD A\",POLICE COMMUNICATIONS OPERATOR I,OEMC,$77220.00\n\"ZEIGLER,  RICK A\",FIREFIGHTER (PER ARBITRATORS AWARD)-PARAMEDIC,FIRE,$108462.00\n\"ZEIMYS,  ERIK M\",HOISTING ENGINEER - MECHANIC,GENERAL SERVICES,$104208.00\n\"ZELAYA,  MANUEL E\",FOREMAN OF PAINTERS,AVIATION,$97697.60\n\"ZELEZNAK,  MARK J\",ELECTRICAL MECHANIC-AUTO-POLICE MTR MNT,GENERAL SERVICES,$91520.00\n\"ZELIG,  DAVID J\",POLICE OFFICER,POLICE,$89718.00\n\"ZELITZKY,  ADAM R\",SERGEANT,POLICE,$110370.00\n\"ZELLER,  DANIEL J\",FIREFIGHTER/PARAMEDIC,FIRE,$87720.00\n\"ZELLER,  ELIZABETH M\",PARAMEDIC I/C,FIRE,$87534.00\n\"ZEMEK,  HELEN O\",LIEUTENANT,POLICE,$120264.00\n\"ZEMKE,  CRAIG M\",SUPVSR OF CHILDREN SERVICES PROGRAMS,FAMILY & SUPPORT,$67224.00\n\"ZEMKE,  RICHARD P\",MACHINIST,AVIATION,$92248.00\n\"ZENDEJAS,  RUBEN\",FIREFIGHTER/PARAMEDIC,FIRE,$93942.00\n\"ZENERE,  MARCO\",POLICE OFFICER,POLICE,$69684.00\n\"ZENI,  MOHAMMAD S\",GARAGE ATTENDANT,GENERAL SERVICES,$46592.00\n\"ZENO DAVIS,  CHARISSE J\",POLICE OFFICER,POLICE,$89718.00\n\"ZEPEDA,  ADRIAN\",POLICE OFFICER,POLICE,$80778.00\n\"ZEPEDA,  ANDRES A\",POLICE OFFICER,POLICE,$83616.00\n\"ZEPEDA,  CARLOS\",CONSTRUCTION LABORER,WATER MGMNT,$79040.00\n\"ZEPEDA,  ERNESTO\",TREE TRIMMER,STREETS & SAN,$74464.00\n\"ZEPEDA,  JOSE R\",CONSTRUCTION LABORER,WATER MGMNT,$79040.00\n\"ZEPEDA,  LILIANA\",POLICE OFFICER,POLICE,$69684.00\n\"ZEPEDA,  LUIS\",WARD SUPERINTENDENT,STREETS & SAN,$83940.00\n\"ZEPEDA,  SERGIO\",ELECTRICAL MECHANIC,AVIATION,$91520.00\n\"ZERITIS,  ANGELO G\",FIRE ENGINEER-EMT,FIRE,$95958.00\n\"ZERMENO,  OSCAR\",POLICE OFFICER,POLICE,$80778.00\n\"ZERVAS,  NICHOLAS J\",LIEUTENANT-EMT,FIRE,$106524.00\n\"ZEUTSCHEL,  PAUL R\",FIREFIGHTER-EMT,FIRE,$85680.00\n\"ZHANG,  ANNE\",CIVIL ENGINEER III,TRANSPORTN,$72120.00\n\"ZHANG,  JACKIE L\",FOREMAN OF CEMENT FINISHERS,TRANSPORTN,$93808.00\n\"ZHANG,  JENNIFER\",HEAD LIBRARY CLERK,PUBLIC LIBRARY,$52848.00\n\"ZHANG,  KEFENG\",ACCOUNTING TECHNICIAN II,FINANCE,$58020.00\n\"ZHEN,  CHRISTINE\",LIBRARY PAGE,PUBLIC LIBRARY,$12407.20\n\"ZIA,  GREGORY P\",POLICE OFFICER,POLICE,$83616.00\n\"ZIA,  KEVIN M\",POLICE OFFICER,POLICE,$83616.00\n\"ZIARNO,  ELIZABETH\",PARALEGAL II,LAW,$73200.00\n\"ZICK,  JOYCE E\",CLINICAL THERAPIST III,HEALTH,$95880.00\n\"ZIC SCHLOMAS,  VIRGINIA M\",SERGEANT,POLICE,$110370.00\n\"ZIEBA,  AGNIESZKA\",POLICE OFFICER,POLICE,$69684.00\n\"ZIEDMAN,  CRAIG R\",POLICE OFFICER,POLICE,$86520.00\n\"ZIEGENBEIN,  HANS T\",LIEUTENANT-EMT,FIRE,$109872.00\n\"ZIEGLER,  BARBARA G\",CLERK CITY COUNCIL,CITY COUNCIL,$27300.00\n\"ZIEGLER,  WILLIAM F\",POLICE OFFICER,POLICE,$86520.00\n\"ZIELINSKI,  JOHN D\",POLICE OFFICER,POLICE,$89718.00\n\"ZIELINSKI,  KAREN L\",TRAFFIC CONTROL AIDE-HOURLY,OEMC,$19656.00\n\"ZIELINSKI,  MICHAEL A\",FIRE ENGINEER,FIRE,$93648.00\n\"ZIELINSKI,  ROBERT\",FOREMAN OF CEMENT FINISHERS,TRANSPORTN,$93808.00\n\"ZIELINSKI,  ROBERT C\",POLICE OFFICER,POLICE,$86520.00\n\"ZIELINSKI,  TECLA\",CROSSING GUARD,POLICE,$22131.20\n\"ZIELINSKI,  THEODORE J\",PLUMBER,WATER MGMNT,$97032.00\n\"ZIEMANN,  DAVID M\",CONSTRUCTION LABORER,WATER MGMNT,$79040.00\n\"ZIEMANN,  DONALD W\",MOTOR TRUCK DRIVER,WATER MGMNT,$71780.80\n\"ZIEMAN,  ROBERT\",POLICE OFFICER,POLICE,$65946.00\n\"ZIEMBA,  DONALD P\",FIREFIGHTER-EMT,FIRE,$88680.00\n\"ZIEMBA,  JOSEPH M\",POLICE COMMUNICATIONS OPERATOR II,OEMC,$77220.00\n\"ZIEMBA,  LLOYD W\",LIEUTENANT-EMT,FIRE,$109872.00\n\"ZIEMBA,  TIM C\",POLICE OFFICER,POLICE,$86520.00\n\"ZIENTARSKI,  DAVID A\",OPERATING ENGINEER-GROUP A,GENERAL SERVICES,$98675.20\n\"ZIGELMAN,  BENJAMIN M\",LIBRARY CLERK,PUBLIC LIBRARY,$40008.00\n\"ZIGELMAN,  LILYA\",LIBRARIAN III,PUBLIC LIBRARY,$83256.00\n\"ZILCH,  MARK\",FIREFIGHTER-EMT,FIRE,$85680.00\n\"ZILSKE,  KEITH J\",FIREFIGHTER,FIRE,$65946.00\n\"ZIMMERMAN,  EDWARD A\",POOL MOTOR TRUCK DRIVER,AVIATION,$71780.80\n\"ZIMMERMAN,  SARAH V\",LIBRARIAN I,PUBLIC LIBRARY,$72840.00\n\"ZIMO,  JOHN\",FIREFIGHTER/PARAMEDIC,FIRE,$90798.00\n\"ZIMS,  NATEESHA A\",AVIATION COMMUNICATIONS OPERATOR,OEMC,$64188.00\n\"ZINCHUK,  BRIAN C\",OPERATING ENGINEER-GROUP C,WATER MGMNT,$93745.60\n\"ZINCHUK,  JOHN M\",POLICE OFFICER,POLICE,$83616.00\n\"ZINGARELLI,  JOHN M\",FIREFIGHTER,FIRE,$80778.00\n\"ZINK,  JAMES H\",FIREFIGHTER,FIRE,$80778.00\n\"ZIOLKOWSKI,  THOMAS P\",FIREFIGHTER/PARAMEDIC,FIRE,$83514.00\n\"ZIOMEK,  JEFFREY G\",POOL MOTOR TRUCK DRIVER,TRANSPORTN,$71780.80\n\"ZIRNGIBL,  DIANE M\",STAFF ASST,AVIATION,$73200.00\n\"ZITTNAN,  VINCENT M\",PARAMEDIC I/C,FIRE,$83370.00\n\"ZIVAT,  MATTHEW\",POLICE OFFICER,POLICE,$92316.00\n\"ZIVAT,  MICHAEL\",CONSTRUCTION LABORER,WATER MGMNT,$79040.00\n\"ZIZUMBO,  DANIEL\",POOL MOTOR TRUCK DRIVER,WATER MGMNT,$71780.80\n\"ZIZUMBO,  DAVID\",MOTOR TRUCK DRIVER,STREETS & SAN,$71780.80\n\"ZIZUMBO,  FABIOLA\",SANITATION LABORER,STREETS & SAN,$72384.00\n\"ZIZUMBO,  JOSE N\",MOTOR TRUCK DRIVER,STREETS & SAN,$72862.40\n\"ZIZUMBO,  LUIS\",MOTOR TRUCK DRIVER,STREETS & SAN,$71780.80\n\"ZIZZO,  RUSS D\",MOTOR TRUCK DRIVER,AVIATION,$71780.80\n\"ZLOTKOWSKI,  JEFFREY\",POLICE OFFICER,POLICE,$89718.00\n\"ZNAK,  ANDRIY\",AVIATION SECURITY OFFICER,AVIATION,$48924.00\n\"ZNAVOR,  THOMAS A\",LIEUTENANT-PARAMEDIC,FIRE,$119868.00\n\"ZOCHOWSKI,  DAVID J\",OPERATING ENGINEER-GROUP C,AVIATION,$93745.60\n\"ZODO,  ALEX J\",POLICE OFFICER,POLICE,$83616.00\n\"ZODO,  NICOLA E\",SERGEANT,POLICE,$103590.00\n\"ZOGG,  PAUL V\",POLICE OFFICER,POLICE,$86520.00\n\"ZOLDAN,  ANTON J\",POLICE OFFICER,POLICE,$86520.00\n\"ZOLLER,  DANIEL F\",FIREFIGHTER,FIRE,$86520.00\n\"ZOLLER,  RICHARD S\",POLICE OFFICER,POLICE,$86520.00\n\"ZOLLNER,  BRIAN T\",FIREFIGHTER-EMT (RECRUIT),FIRE,$54114.00\n\"ZOLTEK,  JOHN J\",ELECTRICAL MECHANIC-AUTO-POLICE MTR MNT,GENERAL SERVICES,$91520.00\n\"ZON,  CHRISTOPHE K\",FIREFIGHTER,FIRE,$86520.00\n\"ZONSIUS,  MICHAEL\",MANAGING DEPUTY COMMISSIONER,AVIATION,$148644.00\n\"ZOOK,  JOHN S\",POLICE OFFICER,POLICE,$89718.00\n\"ZORNIAK,  ROMAN\",FIREFIGHTER/PARAMEDIC,FIRE,$87720.00\n\"ZOTTA,  CELESTINO\",FIREFIGHTER,FIRE,$93594.00\n\"ZOTTA,  FRANK\",POLICE OFFICER,POLICE,$89718.00\n\"ZOTTA,  SANDINO\",MECHANICAL ENGINEER IV,WATER MGMNT,$104736.00\n\"ZOVKO,  ERIKA\",ADMINISTRATIVE ASST,MAYOR'S OFFICE,$62796.00\n\"ZOVKO,  RICHARD A\",HOISTING ENGINEER - MECHANIC,GENERAL SERVICES,$104208.00\n\"ZUBB,  SHANNON M\",POLICE OFFICER,POLICE,$80778.00\n\"ZUBECK,  GINA M\",POLICE OFFICER,POLICE,$86520.00\n\"ZUBECK,  JAMES F\",POLICE OFFICER,POLICE,$86520.00\n\"ZUBER,  MICHAEL R\",POLICE OFFICER (ASSIGNED AS DETECTIVE),POLICE,$97044.00\n\"ZUCCARELLI,  ROBERT A\",BRIDGE AND STRUCTURAL IRON WORKER,TRANSPORTN,$89440.00\n\"ZUCKER,  MICHAEL J\",MACHINIST (AUTOMOTIVE),GENERAL SERVICES,$92248.00\n\"ZUELKE,  CHRISTOPHER W\",PARAMEDIC,FIRE,$80778.00\n\"ZUHR,  ANTHONY D\",FIREFIGHTER-EMT,FIRE,$85680.00\n\"ZUKLIC,  JASON M\",FIREFIGHTER-EMT,FIRE,$85680.00\n\"ZULEVIC,  JANAAN M\",POLICE OFFICER,POLICE,$46206.00\n\"ZULEY,  RICHARD P\",PROJECTS ADMINISTRATOR,AVIATION,$77772.00\n\"ZULFIC,  ALEN\",POLICE OFFICER,POLICE,$46206.00\n\"ZULKEY,  JOSEPH\",POLICE OFFICER,POLICE,$69684.00\n\"ZULLO,  GREGORY G\",POLICE OFFICER,POLICE,$89718.00\n\"ZULLO,  JOHN J\",FIREFIGHTER,FIRE,$93594.00\n\"ZUMARAS,  ROLAND A\",AIRPORT MAINTENANCE FOREMAN,AVIATION,$69409.60\n\"ZUMBROCK,  JOHN M\",POLICE OFFICER,POLICE,$83616.00\n\"ZUMMO,  ROBERT J\",MOTOR TRUCK DRIVER,STREETS & SAN,$71780.80\n\"ZUNICH,  JONATHAN G\",SANITATION LABORER,STREETS & SAN,$72384.00\n\"ZUNIGA JR,  JAMES\",GARAGE ATTENDANT,GENERAL SERVICES,$46592.00\n\"ZUNIGA,  JUAN M\",POLICE OFFICER,POLICE,$83616.00\n\"ZUNIGA,  JURDON\",POLICE OFFICER,POLICE,$69684.00\n\"ZUNIGA,  OSCAR\",POLICE OFFICER,POLICE,$69684.00\n\"ZUNIGA,  RONALD\",POLICE OFFICER,POLICE,$86520.00\n\"ZUNIGA,  THOMAS\",GENERAL LABORER - DSS,STREETS & SAN,$43201.60\n\"ZUNIGA,  VICENTE\",FIREFIGHTER-EMT,FIRE,$88680.00\n\"ZUNO,  ERIK\",LABORER - APPRENTICE,WATER MGMNT,$63232.00\n\"ZUPAN,  BILL M\",LIEUTENANT-EMT,FIRE,$106524.00\n\"ZUPANCIC,  KELLY\",POLICE OFFICER,POLICE,$46206.00\n\"ZUPAN,  VICTORIA J\",POLICE OFFICER,POLICE,$80778.00\n\"ZURAWSKI,  CAROL A\",CROSSING GUARD,POLICE,$21080.80\n\"ZURAWSKI,  JEFFREY\",FRM OF MACHINISTS - AUTOMOTIVE,GENERAL SERVICES,$97448.00\n\"ZURAWSKI,  MAC Z\",SANITATION LABORER,STREETS & SAN,$72384.00\n\"ZURAWSKI,  MARY E\",POLICE OFFICER,POLICE,$89718.00\n\"ZUREK,  FRANCIS\",ELECTRICAL MECHANIC,OEMC,$91520.00\n\"ZUREK,  MARY H\",SENIOR PUBLIC INFORMATION OFFICER,FINANCE,$80916.00\n\"ZURITA,  ADRIEL\",POLICE OFFICER,POLICE,$46206.00\n\"ZVANJA,  TINA M\",LEGAL SECRETARY,LAW,$69888.00\n\"ZWARYCZ MANN,  IRENE A\",CROSSING GUARD,POLICE,$16692.00\n\"ZWARYCZ,  THOMAS J\",POOL MOTOR TRUCK DRIVER,WATER MGMNT,$71780.80\n\"ZWIESLER,  MATTHEW\",AIRPORT OPERATIONS SUPVSR I,AVIATION,$69840.00\n\"ZWIT,  JEFFREY J\",POLICE OFFICER,POLICE,$83616.00\n\"ZWOLFER,  MATTHEW W\",FIREFIGHTER-EMT,FIRE,$91764.00\n\"ZYDEK,  BRYAN\",POLICE OFFICER,POLICE,$80778.00\n\"ZYGADLO,  JOHN P\",MACHINIST (AUTOMOTIVE),GENERAL SERVICES,$92248.00\n\"ZYGADLO,  MICHAEL J\",FRM OF MACHINISTS - AUTOMOTIVE,GENERAL SERVICES,$97448.00\n\"ZYGOWICZ,  PETER J\",POLICE OFFICER,POLICE,$86520.00\n\"ZYMANTAS,  MARK E\",POLICE OFFICER,POLICE,$83616.00\n\"ZYRKOWSKI,  CARLO E\",POLICE OFFICER,POLICE,$86520.00\n\"ZYSKOWSKI,  DARIUSZ\",CHIEF DATA BASE ANALYST,DoIT,$110352.00\n,,,\n"
    }
   ],
   "source": [
    "# No Windows use !type. No Mac ou Linux use !head\n",
    "#!head salarios.csv\n",
    "!type salarios.csv"
   ]
  },
  {
   "cell_type": "code",
   "execution_count": 61,
   "metadata": {},
   "outputs": [],
   "source": [
    "# Alterando o título das colunas\n",
    "df = pd.read_csv('salarios.csv', names = ['a', 'b', 'c', 'd'])"
   ]
  },
  {
   "cell_type": "code",
   "execution_count": 62,
   "metadata": {},
   "outputs": [
    {
     "output_type": "execute_result",
     "data": {
      "text/plain": "                         a                         b                 c  \\\n0                     Name            Position Title        Department   \n1          AARON,  ELVIA J          WATER RATE TAKER       WATER MGMNT   \n2        AARON,  JEFFERY M            POLICE OFFICER            POLICE   \n3           AARON,  KARINA            POLICE OFFICER            POLICE   \n4      AARON,  KIMBERLEI R  CHIEF CONTRACT EXPEDITER  GENERAL SERVICES   \n...                    ...                       ...               ...   \n32178   ZYGOWICZ,  PETER J            POLICE OFFICER            POLICE   \n32179    ZYMANTAS,  MARK E            POLICE OFFICER            POLICE   \n32180  ZYRKOWSKI,  CARLO E            POLICE OFFICER            POLICE   \n32181  ZYSKOWSKI,  DARIUSZ   CHIEF DATA BASE ANALYST              DoIT   \n32182                  NaN                       NaN               NaN   \n\n                            d  \n0      Employee Annual Salary  \n1                   $88968.00  \n2                   $80778.00  \n3                   $80778.00  \n4                   $84780.00  \n...                       ...  \n32178               $86520.00  \n32179               $83616.00  \n32180               $86520.00  \n32181              $110352.00  \n32182                     NaN  \n\n[32183 rows x 4 columns]",
      "text/html": "<div>\n<style scoped>\n    .dataframe tbody tr th:only-of-type {\n        vertical-align: middle;\n    }\n\n    .dataframe tbody tr th {\n        vertical-align: top;\n    }\n\n    .dataframe thead th {\n        text-align: right;\n    }\n</style>\n<table border=\"1\" class=\"dataframe\">\n  <thead>\n    <tr style=\"text-align: right;\">\n      <th></th>\n      <th>a</th>\n      <th>b</th>\n      <th>c</th>\n      <th>d</th>\n    </tr>\n  </thead>\n  <tbody>\n    <tr>\n      <th>0</th>\n      <td>Name</td>\n      <td>Position Title</td>\n      <td>Department</td>\n      <td>Employee Annual Salary</td>\n    </tr>\n    <tr>\n      <th>1</th>\n      <td>AARON,  ELVIA J</td>\n      <td>WATER RATE TAKER</td>\n      <td>WATER MGMNT</td>\n      <td>$88968.00</td>\n    </tr>\n    <tr>\n      <th>2</th>\n      <td>AARON,  JEFFERY M</td>\n      <td>POLICE OFFICER</td>\n      <td>POLICE</td>\n      <td>$80778.00</td>\n    </tr>\n    <tr>\n      <th>3</th>\n      <td>AARON,  KARINA</td>\n      <td>POLICE OFFICER</td>\n      <td>POLICE</td>\n      <td>$80778.00</td>\n    </tr>\n    <tr>\n      <th>4</th>\n      <td>AARON,  KIMBERLEI R</td>\n      <td>CHIEF CONTRACT EXPEDITER</td>\n      <td>GENERAL SERVICES</td>\n      <td>$84780.00</td>\n    </tr>\n    <tr>\n      <th>...</th>\n      <td>...</td>\n      <td>...</td>\n      <td>...</td>\n      <td>...</td>\n    </tr>\n    <tr>\n      <th>32178</th>\n      <td>ZYGOWICZ,  PETER J</td>\n      <td>POLICE OFFICER</td>\n      <td>POLICE</td>\n      <td>$86520.00</td>\n    </tr>\n    <tr>\n      <th>32179</th>\n      <td>ZYMANTAS,  MARK E</td>\n      <td>POLICE OFFICER</td>\n      <td>POLICE</td>\n      <td>$83616.00</td>\n    </tr>\n    <tr>\n      <th>32180</th>\n      <td>ZYRKOWSKI,  CARLO E</td>\n      <td>POLICE OFFICER</td>\n      <td>POLICE</td>\n      <td>$86520.00</td>\n    </tr>\n    <tr>\n      <th>32181</th>\n      <td>ZYSKOWSKI,  DARIUSZ</td>\n      <td>CHIEF DATA BASE ANALYST</td>\n      <td>DoIT</td>\n      <td>$110352.00</td>\n    </tr>\n    <tr>\n      <th>32182</th>\n      <td>NaN</td>\n      <td>NaN</td>\n      <td>NaN</td>\n      <td>NaN</td>\n    </tr>\n  </tbody>\n</table>\n<p>32183 rows × 4 columns</p>\n</div>"
     },
     "metadata": {},
     "execution_count": 62
    }
   ],
   "source": [
    "df"
   ]
  },
  {
   "cell_type": "markdown",
   "metadata": {},
   "source": [
    "## depois que terminamos o trabalho , podemos gerar um arquivo com o resultado, usando sys.stdout\n"
   ]
  },
  {
   "cell_type": "code",
   "execution_count": 63,
   "metadata": {},
   "outputs": [],
   "source": [
    "import sys"
   ]
  },
  {
   "cell_type": "code",
   "execution_count": 64,
   "metadata": {},
   "outputs": [],
   "source": [
    "data = pd.read_csv('salarios.csv')"
   ]
  },
  {
   "cell_type": "markdown",
   "metadata": {},
   "source": [
    "## gera um novo arquivo\n"
   ]
  },
  {
   "cell_type": "code",
   "execution_count": 65,
   "metadata": {
    "tags": [
     "outputPrepend",
     "outputPrepend",
     "outputPrepend",
     "outputPrepend",
     "outputPrepend",
     "outputPrepend",
     "outputPrepend",
     "outputPrepend",
     "outputPrepend"
    ]
   },
   "outputs": [
    {
     "output_type": "stream",
     "name": "stdout",
     "text": "1856|YOUNG,  ROBERT A|POLICE OFFICER|POLICE|$86520.00\n31857|YOUNG,  RONALD L|LIEUTENANT|FIRE|$110370.00\n31858|YOUNG,  SARAH L|MANAGER OF DATA ENTRY OPERATORS|FIRE|$57648.00\n31859|YOUNG,  STEPHEN L|FIREFIGHTER|FIRE|$93594.00\n31860|YOUNG,  STEVEN A|POLICE OFFICER|POLICE|$89718.00\n31861|YOUNG,  SUSAN E|POLICE OFFICER|POLICE|$80778.00\n31862|YOUNG,  TAMARA S|HEAD LIBRARY CLERK|PUBLIC LIBRARY|$60780.00\n31863|YOUNG,  THOMAS E|FIREFIGHTER/PARAMEDIC|FIRE|$90798.00\n31864|YOUNG,  THOMAS P|POLICE OFFICER|POLICE|$89718.00\n31865|YOUNG,  TORRI R|DENTAL ASST|HEALTH|$55428.00\n31866|YOUNG,  YVONNE M|TRAFFIC CONTROL AIDE-HOURLY|OEMC|$19656.00\n31867|YOUNKINS,  MARK A|CONTRACTS COMPLIANCE COORD|HEALTH|$80916.00\n31868|YOUNKINS,  RHONDA C|POLICE COMMUNICATIONS OPERATOR I|OEMC|$61260.00\n31869|YOUSIF,  EVAN F|POLICE OFFICER|POLICE|$83616.00\n31870|YOUSTRA,  RYAN|POLICE OFFICER|POLICE|$73296.00\n31871|YOZA,  KENNETH K|FIRE ENGINEER|FIRE|$93648.00\n31872|YRACHETA,  LORI|POOL MOTOR TRUCK DRIVER|AVIATION|$71780.80\n31873|YUE,  HENRY K|ACCOUNTANT I|FINANCE|$72840.00\n31874|YUEN,  ELLEN|HEAD LIBRARY CLERK|PUBLIC LIBRARY|$60780.00\n31875|YUE,  WILLIAM K|PREPRESS TECHNICIAN|GENERAL SERVICES|$50160.00\n31876|YUKAWA,  LAURA G|POLICE OFFICER|POLICE|$89718.00\n31877|YU,  LIANG W|LIBRARY CLERK|PUBLIC LIBRARY|$38208.00\n31878|YU,  MING Z|SENIOR COMPANION|FAMILY & SUPPORT|$2756.00\n31879|YUNG,  MAY|POOL MOTOR TRUCK DRIVER|STREETS & SAN|$71780.80\n31880|YUNG,  TIMOTHY|SUPVSR OF AUDITING|FINANCE|$99108.00\n31881|YURISICH,  DONALD M|POLICE OFFICER (ASSIGNED AS DETECTIVE)|POLICE|$93648.00\n31882|YUSUF,  MOHAMMAD A|POLICE OFFICER|POLICE|$83616.00\n31883|YU,  WAN FANG|LIBRARIAN I|PUBLIC LIBRARY|$59352.00\n31884|YZAGUIRRE,  MICHAEL R|POLICE OFFICER|POLICE|$89718.00\n31885|ZABEL,  SHERRY|CLERK - BD OF ELECTIONS|BOARD OF ELECTION|$28608.00\n31886|ZABER,  GREGORY S|ASST CHIEF OPERATING ENGINEER|WATER MGMNT|$108534.40\n31887|ZABER,  NICHOLAS E|SERGEANT|POLICE|$106920.00\n31888|ZABLOCKI,  EDMUND F|POLICE OFFICER|POLICE|$83616.00\n31889|ZACCAGNINI,  GEORGE J|CAPTAIN-EMT|FIRE|$131466.00\n31890|ZACCAGNINI,  JOSEPH A|OPERATING ENGINEER-GROUP A|AVIATION|$98675.20\n31891|ZACCAGNINO,  JOSEPH A|POLICE OFFICER|POLICE|$83616.00\n31892|ZACCONE,  THOMAS S|POLICE OFFICER|POLICE|$80778.00\n31893|ZACEK,  DAVID R|POLICE OFFICER|POLICE|$89718.00\n31894|ZACEK,  DEBRA A|POLICE OFFICER|POLICE|$86520.00\n31895|ZACH,  MICHAEL D|FIREFIGHTER/PARAMEDIC|FIRE|$79584.00\n31896|ZADURA,  STEFAN W|POLICE OFFICER|POLICE|$83616.00\n31897|ZAENTZ,  JONATHAN A|PARAMEDIC FIELD CHIEF|FIRE|$128004.00\n31898|ZAFIRIS,  CHRISTOPHER|ARCHITECT IV|DISABILITIES|$104736.00\n31899|ZAGLOBA,  AMANDA L|LIBRARIAN I|PUBLIC LIBRARY|$53796.00\n31900|ZAGONE,  JOSEPH M|SEWER BRICKLAYER|WATER MGMNT|$88566.40\n31901|ZAGORSKI,  RUSSELL|POLICE OFFICER|POLICE|$69684.00\n31902|ZAHDAN,  HAZEM|FILTRATION ENGINEER III|WATER MGMNT|$95880.00\n31903|ZAHDAN,  MOEEN D|STAFF ASST TO THE ALDERMAN|CITY COUNCIL|$55656.00\n31904|ZAHDAN,  ZIYADEH D|PLUMBING INSPECTOR|WATER MGMNT|$99252.00\n31905|ZAHLMANN,  KRISTINE L|POLICE OFFICER|POLICE|$83616.00\n31906|ZAHN,  DAVID R|LIEUTENANT|POLICE|$116724.00\n31907|ZAHRADNIK,  JOSEPH|POLICE OFFICER|POLICE|$73296.00\n31908|ZAIB,  ZOHAIB|POLICE OFFICER|POLICE|$69684.00\n31909|ZAIDAN,  JENNIFER L|POLICE OFFICER|POLICE|$83616.00\n31910|ZAIDI,  SYED K|PARKING ENFORCEMENT AIDE|FINANCE|$46380.00\n31911|ZAJA,  ALAN J|BATTALION CHIEF|FIRE|$135480.00\n31912|ZAJAC,  ANTHONY M|FIRE ENGINEER-EMT|FIRE|$99324.00\n31913|ZAJAC,  JASON R|FIREFIGHTER-EMT|FIRE|$91764.00\n31914|ZAJAC,  MARTIN E|FIREFIGHTER-EMT (RECRUIT)|FIRE|$54114.00\n31915|ZAJAC,  VICTOR D|FIREFIGHTER (PER ARBITRATORS AWARD)-PARAMEDIC|FIRE|$98244.00\n31916|ZAJCZENKO,  STEFAN W|POLICE OFFICER|POLICE|$86520.00\n31917|ZAJDZINSKI,  VINCENT|MACHINIST (AUTOMOTIVE)|GENERAL SERVICES|$92248.00\n31918|ZAKEE,  AMEER|FIREFIGHTER-EMT|FIRE|$85680.00\n31919|ZAKE,  JOSHUA S|CIVIL ENGINEER IV|TRANSPORTN|$104736.00\n31920|ZAK,  ELIZABETH V|POLICE COMMUNICATIONS OPERATOR II|OEMC|$73764.00\n31921|ZALA,  VEEJAY N|POLICE OFFICER|POLICE|$86520.00\n31922|ZALESKI,  MARIUSZ|AVIATION SECURITY OFFICER|AVIATION|$64188.00\n31923|ZALEWSKI,  DANIEL L|POLICE OFFICER|POLICE|$92316.00\n31924|ZALEWSKI,  FRANK A|POOL MOTOR TRUCK DRIVER|STREETS & SAN|$71780.80\n31925|ZALEWSKI,  JOHN E|POLICE OFFICER (ASSIGNED AS DETECTIVE)|POLICE|$97044.00\n31926|ZALEWSKI,  MARK|POLICE OFFICER|POLICE|$86520.00\n31927|ZALEWSKI,  MICHAEL R|ALDERMAN|CITY COUNCIL|$114996.00\n31928|ZALINSKI,  ANDRZEJ|POLICE OFFICER|POLICE|$65946.00\n31929|ZALINSKI,  DONALD E|POLICE OFFICER|POLICE|$86520.00\n31930|ZALINSKI,  KIMBERLY S|POLICE OFFICER|POLICE|$86520.00\n31931|ZALINSKI,  SHANNON M|LIBRARIAN I|PUBLIC LIBRARY|$72840.00\n31932|ZALINSKI,  STANISLAW|POLICE OFFICER|POLICE|$80778.00\n31933|ZALLER,  MATTHEW J|FIREFIGHTER/PARAMEDIC|FIRE|$87720.00\n31934|ZAMARRIPA,  CRUZ C|CROSSING GUARD|POLICE|$18324.80\n31935|ZAMAYOA,  ALYSSA-MARIE|PROGRAM AIDE|POLICE|$9360.00\n31936|ZAMBRANO,  EMMANUEL|POLICE OFFICER|POLICE|$69684.00\n31937|ZAMBRANO,  JAVIER A|POLICE OFFICER|POLICE|$83616.00\n31938|ZAMBRANO JR,  LUIS|POLICE OFFICER (ASSIGNED AS SECURITY SPECIALIST)|POLICE|$106920.00\n31939|ZAMBRANO,  SONIA|POLICE OFFICER|POLICE|$83616.00\n31940|ZAMOJSKA,  MARTA K|POLICE OFFICER|POLICE|$69684.00\n31941|ZAMOJSKI,  CAROLYN|CROSSING GUARD|POLICE|$22131.20\n31942|ZAMORA,  ANTHONY M|POLICE OFFICER|POLICE|$80778.00\n31943|ZAMORA,  CARLOS A|POLICE OFFICER|POLICE|$83616.00\n31944|ZAMORA,  HECTOR M|POOL MOTOR TRUCK DRIVER|AVIATION|$71780.80\n31945|ZAMORA II,  MARTIN|POOL MOTOR TRUCK DRIVER|TRANSPORTN|$71780.80\n31946|ZAMORA,  JANE F|PROGRAM AUDITOR II|HEALTH|$73200.00\n31947|ZAMORA,  JESUS|GENERAL LABORER - DSS|STREETS & SAN|$43201.60\n31948|ZAMORA,  LEONCIO|ASPHALT LABORER|TRANSPORTN|$79040.00\n31949|ZAMORA,  LOUIS C|FIREFIGHTER-EMT|FIRE|$99258.00\n31950|ZAMORA,  MARTIN|MOTOR TRUCK DRIVER|STREETS & SAN|$71780.80\n31951|ZAMORA,  MICHAEL|FIRE ENGINEER-EMT|FIRE|$99324.00\n31952|ZAMORA,  PASCUAL|MOTOR TRUCK DRIVER|STREETS & SAN|$71780.80\n31953|ZAMORA,  REBECCA A|ADMIN SERVICES OFFICER I-EXCLUDED|POLICE|$64152.00\n31954|ZAMUDIO,  JAIME|FIREFIGHTER|FIRE|$90018.00\n31955|ZAMZOW,  ANNE E|POLICE OFFICER|POLICE|$83616.00\n31956|ZANDERS,  JERRY J|POLICE OFFICER|POLICE|$83616.00\n31957|ZANGARIYA,  SOHEB M|TRAFFIC CONTROL AIDE-HOURLY|OEMC|$19656.00\n31958|ZANIN,  MICHAEL J|ELECTRICAL MECHANIC|GENERAL SERVICES|$91520.00\n31959|ZANKO,  JESSE A|AVIATION SECURITY OFFICER|AVIATION|$48924.00\n31960|ZAPATA,  HUGO|SR PROCUREMENT SPECIALIST|PROCUREMENT|$84780.00\n31961|ZAPATA,  JOSHUA|POLICE OFFICER|POLICE|$83616.00\n31962|ZAPATA,  MARGIE|TRAFFIC CONTROL AIDE|OEMC|$35328.00\n31963|ZAPATA,  MARIA G|POLICE OFFICER|POLICE|$80778.00\n31964|ZAPATA,  PEDRO|POLICE OFFICER|POLICE|$86520.00\n31965|ZARAGOZA,  GREGORY|POLICE OFFICER|POLICE|$89718.00\n31966|ZARAGOZA,  JUAN F|POLICE OFFICER|POLICE|$89718.00\n31967|ZARAGOZA,  MARTHA G|POLICE OFFICER|POLICE|$86520.00\n31968|ZARAGOZA,  MICHAEL|POLICE OFFICER|POLICE|$69684.00\n31969|ZARAGOZA,  RAYMUNDO|POLICE OFFICER|POLICE|$83616.00\n31970|ZARATE,  MARCOS|ELECTRICAL MECHANIC-AUTO-POLICE MTR MNT|GENERAL SERVICES|$91520.00\n31971|ZARATE,  RICHARD L|FIRE ENGINEER-EMT|FIRE|$105918.00\n31972|ZARATE,  ROSIEL|SENIOR BUSINESS CONSULTANT|BUSINESS AFFAIRS|$67224.00\n31973|ZARBOCK,  NICK F|POLICE OFFICER|POLICE|$86520.00\n31974|ZARCO,  GAMALIEL|POLICE OFFICER|POLICE|$69684.00\n31975|ZARCONE,  ANTHONY J|FIREFIGHTER|FIRE|$90018.00\n31976|ZAREMBA,  WILLIAM M|DETENTION AIDE|POLICE|$61260.00\n31977|ZARESKI,  WALTER S|POOL MOTOR TRUCK DRIVER|STREETS & SAN|$71780.80\n31978|ZARIC,  MARKO|STAFF ASST TO THE ALDERMAN|CITY COUNCIL|$45684.00\n31979|ZARKY,  ROGER P|GARAGE ATTENDANT|GENERAL SERVICES|$46592.00\n31980|ZARLENGA,  MICHAEL C|SANITATION LABORER|STREETS & SAN|$72384.00\n31981|ZARLENGA,  NICHOLAS|FIREFIGHTER-EMT|FIRE|$85680.00\n31982|ZAROBSKY,  JEFFREY O|FIREFIGHTER/PARAMEDIC|FIRE|$87720.00\n31983|ZARO,  NICHOLAS J|WARD SUPERINTENDENT|STREETS & SAN|$97416.00\n31984|ZATORA,  MONIKA|POLICE OFFICER|POLICE|$80778.00\n31985|ZATORA,  TOMASZ M|POLICE OFFICER|POLICE|$80778.00\n31986|ZATOR,  KENNETH W|AVIATION SECURITY OFFICER - HOURLY|AVIATION|$22120.80\n31987|ZATOR,  KEVIN M|AVIATION SECURITY SERGEANT|AVIATION|$67224.00\n31988|ZATTAIR,  NICK|POLICE OFFICER|POLICE|$89718.00\n31989|ZAUCEDO,  JOSE C|FIREFIGHTER-EMT|FIRE|$88680.00\n31990|ZAUKAS,  RYAN M|POOL MOTOR TRUCK DRIVER|TRANSPORTN|$71780.80\n31991|ZAVALA,  FERNANDO|ACCOUNTANT IV|FINANCE|$95880.00\n31992|ZAVALA,  JOSUE|CONCRETE LABORER|TRANSPORTN|$79040.00\n31993|ZAVALA,  MARK A|LABORER|TRANSPORTN|$71136.00\n31994|ZAVALA,  MATTHEW R|SERVICE WRITER|GENERAL SERVICES|$61356.00\n31995|ZAVALA,  MICHAEL D|FRM OF MACHINISTS - AUTOMOTIVE|GENERAL SERVICES|$97448.00\n31996|ZAVALA,  OLGA|CROSSING GUARD|POLICE|$17492.80\n31997|ZAVALA,  ROBERTO|POLICE OFFICER|POLICE|$69684.00\n31998|ZAVALA,  SHALINA P|DATA ENTRY OPERATOR|POLICE|$41952.00\n31999|ZAVALA,  VICTOR M|EQUIPMENT DISPATCHER|GENERAL SERVICES|$73028.80\n32000|ZAVALA,  WENSESLAO|POLICE OFFICER|POLICE|$83616.00\n32001|ZAVALETA,  RAMON|POLICE OFFICER|POLICE|$83616.00\n32002|ZAVISTAUSKAS,  ROMAS|PLUMBER|WATER MGMNT|$97032.00\n32003|ZAVOS,  JAMES M|POOL MOTOR TRUCK DRIVER|STREETS & SAN|$71780.80\n32004|ZAWADA,  RICHARD A|POLICE OFFICER|POLICE|$89718.00\n32005|ZAWADA,  ROMAN F|POLICE OFFICER|POLICE|$83616.00\n32006|ZAWADSKI,  JAMES|CLERK IV|LAW|$66684.00\n32007|ZAWADZKI,  SHELLEY M|LIBRARIAN III|PUBLIC LIBRARY|$83256.00\n32008|ZAWILA,  MARK A|POLICE OFFICER (ASSIGNED AS DETECTIVE)|POLICE|$97044.00\n32009|ZAWILA,  ROBERT|POOL MOTOR TRUCK DRIVER|STREETS & SAN|$71780.80\n32010|ZAWORA,  JOHN M|SUPVSR OF LOT CLEANING SERVICES|STREETS & SAN|$92304.00\n32011|ZAYAS,  ALBERTO H|POLICE OFFICER|POLICE|$80778.00\n32012|ZAYAS,  ALEXIS M|POLICE OFFICER|POLICE|$76902.00\n32013|ZAYAS JR,  ANDRES|SERGEANT|POLICE|$106920.00\n32014|ZAYED,  SAMERA Z|DISABILITY SPECIALIST II|DISABILITIES|$80424.00\n32015|ZBELA,  KRYSTYNA Z|POLICE OFFICER|POLICE|$80778.00\n32016|ZBIKOWSKI,  THOMAS M|FIREFIGHTER-EMT (RECRUIT)|FIRE|$54114.00\n32017|ZBOREK,  ROBERT|VETERINARY ASST|ANIMAL CONTRL|$60780.00\n32018|ZBORIL,  NORA A|PUBLIC RELATIONS REPRESENTATIVE III|CULTURAL AFFAIRS|$70380.00\n32019|ZDANYS,  DAVID A|POLICE OFFICER|POLICE|$86520.00\n32020|ZDEB,  MARK J|POLICE OFFICER|POLICE|$80778.00\n32021|ZDRZALKA,  PIOTR|POLICE OFFICER|POLICE|$69684.00\n32022|ZECEVICH,  DRAGAN|FOREMAN OF ELECTRICAL MECHANICS|WATER MGMNT|$97760.00\n32023|ZEFRAN,  FRANK J|CONSTRUCTION LABORER|WATER MGMNT|$79040.00\n32024|ZEFRAN,  JOHN L|ASST GENERAL SUPT OF STREETS AND SANITATION|STREETS & SAN|$93024.00\n32025|ZEGA,  JAMES E|POLICE OFFICER|POLICE|$89718.00\n32026|ZEGLIS,  THERESA|POLICE OFFICER|POLICE|$69684.00\n32027|ZEHAR,  DONALD L|CONSTRUCTION LABORER|AVIATION|$79040.00\n32028|ZEIGER,  EDWARD A|POLICE COMMUNICATIONS OPERATOR I|OEMC|$77220.00\n32029|ZEIGLER,  RICK A|FIREFIGHTER (PER ARBITRATORS AWARD)-PARAMEDIC|FIRE|$108462.00\n32030|ZEIMYS,  ERIK M|HOISTING ENGINEER - MECHANIC|GENERAL SERVICES|$104208.00\n32031|ZELAYA,  MANUEL E|FOREMAN OF PAINTERS|AVIATION|$97697.60\n32032|ZELEZNAK,  MARK J|ELECTRICAL MECHANIC-AUTO-POLICE MTR MNT|GENERAL SERVICES|$91520.00\n32033|ZELIG,  DAVID J|POLICE OFFICER|POLICE|$89718.00\n32034|ZELITZKY,  ADAM R|SERGEANT|POLICE|$110370.00\n32035|ZELLER,  DANIEL J|FIREFIGHTER/PARAMEDIC|FIRE|$87720.00\n32036|ZELLER,  ELIZABETH M|PARAMEDIC I/C|FIRE|$87534.00\n32037|ZEMEK,  HELEN O|LIEUTENANT|POLICE|$120264.00\n32038|ZEMKE,  CRAIG M|SUPVSR OF CHILDREN SERVICES PROGRAMS|FAMILY & SUPPORT|$67224.00\n32039|ZEMKE,  RICHARD P|MACHINIST|AVIATION|$92248.00\n32040|ZENDEJAS,  RUBEN|FIREFIGHTER/PARAMEDIC|FIRE|$93942.00\n32041|ZENERE,  MARCO|POLICE OFFICER|POLICE|$69684.00\n32042|ZENI,  MOHAMMAD S|GARAGE ATTENDANT|GENERAL SERVICES|$46592.00\n32043|ZENO DAVIS,  CHARISSE J|POLICE OFFICER|POLICE|$89718.00\n32044|ZEPEDA,  ADRIAN|POLICE OFFICER|POLICE|$80778.00\n32045|ZEPEDA,  ANDRES A|POLICE OFFICER|POLICE|$83616.00\n32046|ZEPEDA,  CARLOS|CONSTRUCTION LABORER|WATER MGMNT|$79040.00\n32047|ZEPEDA,  ERNESTO|TREE TRIMMER|STREETS & SAN|$74464.00\n32048|ZEPEDA,  JOSE R|CONSTRUCTION LABORER|WATER MGMNT|$79040.00\n32049|ZEPEDA,  LILIANA|POLICE OFFICER|POLICE|$69684.00\n32050|ZEPEDA,  LUIS|WARD SUPERINTENDENT|STREETS & SAN|$83940.00\n32051|ZEPEDA,  SERGIO|ELECTRICAL MECHANIC|AVIATION|$91520.00\n32052|ZERITIS,  ANGELO G|FIRE ENGINEER-EMT|FIRE|$95958.00\n32053|ZERMENO,  OSCAR|POLICE OFFICER|POLICE|$80778.00\n32054|ZERVAS,  NICHOLAS J|LIEUTENANT-EMT|FIRE|$106524.00\n32055|ZEUTSCHEL,  PAUL R|FIREFIGHTER-EMT|FIRE|$85680.00\n32056|ZHANG,  ANNE|CIVIL ENGINEER III|TRANSPORTN|$72120.00\n32057|ZHANG,  JACKIE L|FOREMAN OF CEMENT FINISHERS|TRANSPORTN|$93808.00\n32058|ZHANG,  JENNIFER|HEAD LIBRARY CLERK|PUBLIC LIBRARY|$52848.00\n32059|ZHANG,  KEFENG|ACCOUNTING TECHNICIAN II|FINANCE|$58020.00\n32060|ZHEN,  CHRISTINE|LIBRARY PAGE|PUBLIC LIBRARY|$12407.20\n32061|ZIA,  GREGORY P|POLICE OFFICER|POLICE|$83616.00\n32062|ZIA,  KEVIN M|POLICE OFFICER|POLICE|$83616.00\n32063|ZIARNO,  ELIZABETH|PARALEGAL II|LAW|$73200.00\n32064|ZICK,  JOYCE E|CLINICAL THERAPIST III|HEALTH|$95880.00\n32065|ZIC SCHLOMAS,  VIRGINIA M|SERGEANT|POLICE|$110370.00\n32066|ZIEBA,  AGNIESZKA|POLICE OFFICER|POLICE|$69684.00\n32067|ZIEDMAN,  CRAIG R|POLICE OFFICER|POLICE|$86520.00\n32068|ZIEGENBEIN,  HANS T|LIEUTENANT-EMT|FIRE|$109872.00\n32069|ZIEGLER,  BARBARA G|CLERK CITY COUNCIL|CITY COUNCIL|$27300.00\n32070|ZIEGLER,  WILLIAM F|POLICE OFFICER|POLICE|$86520.00\n32071|ZIELINSKI,  JOHN D|POLICE OFFICER|POLICE|$89718.00\n32072|ZIELINSKI,  KAREN L|TRAFFIC CONTROL AIDE-HOURLY|OEMC|$19656.00\n32073|ZIELINSKI,  MICHAEL A|FIRE ENGINEER|FIRE|$93648.00\n32074|ZIELINSKI,  ROBERT|FOREMAN OF CEMENT FINISHERS|TRANSPORTN|$93808.00\n32075|ZIELINSKI,  ROBERT C|POLICE OFFICER|POLICE|$86520.00\n32076|ZIELINSKI,  TECLA|CROSSING GUARD|POLICE|$22131.20\n32077|ZIELINSKI,  THEODORE J|PLUMBER|WATER MGMNT|$97032.00\n32078|ZIEMANN,  DAVID M|CONSTRUCTION LABORER|WATER MGMNT|$79040.00\n32079|ZIEMANN,  DONALD W|MOTOR TRUCK DRIVER|WATER MGMNT|$71780.80\n32080|ZIEMAN,  ROBERT|POLICE OFFICER|POLICE|$65946.00\n32081|ZIEMBA,  DONALD P|FIREFIGHTER-EMT|FIRE|$88680.00\n32082|ZIEMBA,  JOSEPH M|POLICE COMMUNICATIONS OPERATOR II|OEMC|$77220.00\n32083|ZIEMBA,  LLOYD W|LIEUTENANT-EMT|FIRE|$109872.00\n32084|ZIEMBA,  TIM C|POLICE OFFICER|POLICE|$86520.00\n32085|ZIENTARSKI,  DAVID A|OPERATING ENGINEER-GROUP A|GENERAL SERVICES|$98675.20\n32086|ZIGELMAN,  BENJAMIN M|LIBRARY CLERK|PUBLIC LIBRARY|$40008.00\n32087|ZIGELMAN,  LILYA|LIBRARIAN III|PUBLIC LIBRARY|$83256.00\n32088|ZILCH,  MARK|FIREFIGHTER-EMT|FIRE|$85680.00\n32089|ZILSKE,  KEITH J|FIREFIGHTER|FIRE|$65946.00\n32090|ZIMMERMAN,  EDWARD A|POOL MOTOR TRUCK DRIVER|AVIATION|$71780.80\n32091|ZIMMERMAN,  SARAH V|LIBRARIAN I|PUBLIC LIBRARY|$72840.00\n32092|ZIMO,  JOHN|FIREFIGHTER/PARAMEDIC|FIRE|$90798.00\n32093|ZIMS,  NATEESHA A|AVIATION COMMUNICATIONS OPERATOR|OEMC|$64188.00\n32094|ZINCHUK,  BRIAN C|OPERATING ENGINEER-GROUP C|WATER MGMNT|$93745.60\n32095|ZINCHUK,  JOHN M|POLICE OFFICER|POLICE|$83616.00\n32096|ZINGARELLI,  JOHN M|FIREFIGHTER|FIRE|$80778.00\n32097|ZINK,  JAMES H|FIREFIGHTER|FIRE|$80778.00\n32098|ZIOLKOWSKI,  THOMAS P|FIREFIGHTER/PARAMEDIC|FIRE|$83514.00\n32099|ZIOMEK,  JEFFREY G|POOL MOTOR TRUCK DRIVER|TRANSPORTN|$71780.80\n32100|ZIRNGIBL,  DIANE M|STAFF ASST|AVIATION|$73200.00\n32101|ZITTNAN,  VINCENT M|PARAMEDIC I/C|FIRE|$83370.00\n32102|ZIVAT,  MATTHEW|POLICE OFFICER|POLICE|$92316.00\n32103|ZIVAT,  MICHAEL|CONSTRUCTION LABORER|WATER MGMNT|$79040.00\n32104|ZIZUMBO,  DANIEL|POOL MOTOR TRUCK DRIVER|WATER MGMNT|$71780.80\n32105|ZIZUMBO,  DAVID|MOTOR TRUCK DRIVER|STREETS & SAN|$71780.80\n32106|ZIZUMBO,  FABIOLA|SANITATION LABORER|STREETS & SAN|$72384.00\n32107|ZIZUMBO,  JOSE N|MOTOR TRUCK DRIVER|STREETS & SAN|$72862.40\n32108|ZIZUMBO,  LUIS|MOTOR TRUCK DRIVER|STREETS & SAN|$71780.80\n32109|ZIZZO,  RUSS D|MOTOR TRUCK DRIVER|AVIATION|$71780.80\n32110|ZLOTKOWSKI,  JEFFREY|POLICE OFFICER|POLICE|$89718.00\n32111|ZNAK,  ANDRIY|AVIATION SECURITY OFFICER|AVIATION|$48924.00\n32112|ZNAVOR,  THOMAS A|LIEUTENANT-PARAMEDIC|FIRE|$119868.00\n32113|ZOCHOWSKI,  DAVID J|OPERATING ENGINEER-GROUP C|AVIATION|$93745.60\n32114|ZODO,  ALEX J|POLICE OFFICER|POLICE|$83616.00\n32115|ZODO,  NICOLA E|SERGEANT|POLICE|$103590.00\n32116|ZOGG,  PAUL V|POLICE OFFICER|POLICE|$86520.00\n32117|ZOLDAN,  ANTON J|POLICE OFFICER|POLICE|$86520.00\n32118|ZOLLER,  DANIEL F|FIREFIGHTER|FIRE|$86520.00\n32119|ZOLLER,  RICHARD S|POLICE OFFICER|POLICE|$86520.00\n32120|ZOLLNER,  BRIAN T|FIREFIGHTER-EMT (RECRUIT)|FIRE|$54114.00\n32121|ZOLTEK,  JOHN J|ELECTRICAL MECHANIC-AUTO-POLICE MTR MNT|GENERAL SERVICES|$91520.00\n32122|ZON,  CHRISTOPHE K|FIREFIGHTER|FIRE|$86520.00\n32123|ZONSIUS,  MICHAEL|MANAGING DEPUTY COMMISSIONER|AVIATION|$148644.00\n32124|ZOOK,  JOHN S|POLICE OFFICER|POLICE|$89718.00\n32125|ZORNIAK,  ROMAN|FIREFIGHTER/PARAMEDIC|FIRE|$87720.00\n32126|ZOTTA,  CELESTINO|FIREFIGHTER|FIRE|$93594.00\n32127|ZOTTA,  FRANK|POLICE OFFICER|POLICE|$89718.00\n32128|ZOTTA,  SANDINO|MECHANICAL ENGINEER IV|WATER MGMNT|$104736.00\n32129|ZOVKO,  ERIKA|ADMINISTRATIVE ASST|MAYOR'S OFFICE|$62796.00\n32130|ZOVKO,  RICHARD A|HOISTING ENGINEER - MECHANIC|GENERAL SERVICES|$104208.00\n32131|ZUBB,  SHANNON M|POLICE OFFICER|POLICE|$80778.00\n32132|ZUBECK,  GINA M|POLICE OFFICER|POLICE|$86520.00\n32133|ZUBECK,  JAMES F|POLICE OFFICER|POLICE|$86520.00\n32134|ZUBER,  MICHAEL R|POLICE OFFICER (ASSIGNED AS DETECTIVE)|POLICE|$97044.00\n32135|ZUCCARELLI,  ROBERT A|BRIDGE AND STRUCTURAL IRON WORKER|TRANSPORTN|$89440.00\n32136|ZUCKER,  MICHAEL J|MACHINIST (AUTOMOTIVE)|GENERAL SERVICES|$92248.00\n32137|ZUELKE,  CHRISTOPHER W|PARAMEDIC|FIRE|$80778.00\n32138|ZUHR,  ANTHONY D|FIREFIGHTER-EMT|FIRE|$85680.00\n32139|ZUKLIC,  JASON M|FIREFIGHTER-EMT|FIRE|$85680.00\n32140|ZULEVIC,  JANAAN M|POLICE OFFICER|POLICE|$46206.00\n32141|ZULEY,  RICHARD P|PROJECTS ADMINISTRATOR|AVIATION|$77772.00\n32142|ZULFIC,  ALEN|POLICE OFFICER|POLICE|$46206.00\n32143|ZULKEY,  JOSEPH|POLICE OFFICER|POLICE|$69684.00\n32144|ZULLO,  GREGORY G|POLICE OFFICER|POLICE|$89718.00\n32145|ZULLO,  JOHN J|FIREFIGHTER|FIRE|$93594.00\n32146|ZUMARAS,  ROLAND A|AIRPORT MAINTENANCE FOREMAN|AVIATION|$69409.60\n32147|ZUMBROCK,  JOHN M|POLICE OFFICER|POLICE|$83616.00\n32148|ZUMMO,  ROBERT J|MOTOR TRUCK DRIVER|STREETS & SAN|$71780.80\n32149|ZUNICH,  JONATHAN G|SANITATION LABORER|STREETS & SAN|$72384.00\n32150|ZUNIGA JR,  JAMES|GARAGE ATTENDANT|GENERAL SERVICES|$46592.00\n32151|ZUNIGA,  JUAN M|POLICE OFFICER|POLICE|$83616.00\n32152|ZUNIGA,  JURDON|POLICE OFFICER|POLICE|$69684.00\n32153|ZUNIGA,  OSCAR|POLICE OFFICER|POLICE|$69684.00\n32154|ZUNIGA,  RONALD|POLICE OFFICER|POLICE|$86520.00\n32155|ZUNIGA,  THOMAS|GENERAL LABORER - DSS|STREETS & SAN|$43201.60\n32156|ZUNIGA,  VICENTE|FIREFIGHTER-EMT|FIRE|$88680.00\n32157|ZUNO,  ERIK|LABORER - APPRENTICE|WATER MGMNT|$63232.00\n32158|ZUPAN,  BILL M|LIEUTENANT-EMT|FIRE|$106524.00\n32159|ZUPANCIC,  KELLY|POLICE OFFICER|POLICE|$46206.00\n32160|ZUPAN,  VICTORIA J|POLICE OFFICER|POLICE|$80778.00\n32161|ZURAWSKI,  CAROL A|CROSSING GUARD|POLICE|$21080.80\n32162|ZURAWSKI,  JEFFREY|FRM OF MACHINISTS - AUTOMOTIVE|GENERAL SERVICES|$97448.00\n32163|ZURAWSKI,  MAC Z|SANITATION LABORER|STREETS & SAN|$72384.00\n32164|ZURAWSKI,  MARY E|POLICE OFFICER|POLICE|$89718.00\n32165|ZUREK,  FRANCIS|ELECTRICAL MECHANIC|OEMC|$91520.00\n32166|ZUREK,  MARY H|SENIOR PUBLIC INFORMATION OFFICER|FINANCE|$80916.00\n32167|ZURITA,  ADRIEL|POLICE OFFICER|POLICE|$46206.00\n32168|ZVANJA,  TINA M|LEGAL SECRETARY|LAW|$69888.00\n32169|ZWARYCZ MANN,  IRENE A|CROSSING GUARD|POLICE|$16692.00\n32170|ZWARYCZ,  THOMAS J|POOL MOTOR TRUCK DRIVER|WATER MGMNT|$71780.80\n32171|ZWIESLER,  MATTHEW|AIRPORT OPERATIONS SUPVSR I|AVIATION|$69840.00\n32172|ZWIT,  JEFFREY J|POLICE OFFICER|POLICE|$83616.00\n32173|ZWOLFER,  MATTHEW W|FIREFIGHTER-EMT|FIRE|$91764.00\n32174|ZYDEK,  BRYAN|POLICE OFFICER|POLICE|$80778.00\n32175|ZYGADLO,  JOHN P|MACHINIST (AUTOMOTIVE)|GENERAL SERVICES|$92248.00\n32176|ZYGADLO,  MICHAEL J|FRM OF MACHINISTS - AUTOMOTIVE|GENERAL SERVICES|$97448.00\n32177|ZYGOWICZ,  PETER J|POLICE OFFICER|POLICE|$86520.00\n32178|ZYMANTAS,  MARK E|POLICE OFFICER|POLICE|$83616.00\n32179|ZYRKOWSKI,  CARLO E|POLICE OFFICER|POLICE|$86520.00\n32180|ZYSKOWSKI,  DARIUSZ|CHIEF DATA BASE ANALYST|DoIT|$110352.00\n32181||||\n"
    }
   ],
   "source": [
    "data.to_csv(sys.stdout, sep = '|')"
   ]
  },
  {
   "cell_type": "code",
   "execution_count": 194,
   "metadata": {},
   "outputs": [],
   "source": [
    "# Criando um Dataframe\n",
    "dates = pd.date_range('20180101', periods = 10)\n",
    "df = pd.DataFrame(np.random.randn(10,4), index = dates, columns = list('ABCD'))"
   ]
  },
  {
   "cell_type": "code",
   "execution_count": 195,
   "metadata": {},
   "outputs": [
    {
     "data": {
      "text/html": "<div>\n<style scoped>\n    .dataframe tbody tr th:only-of-type {\n        vertical-align: middle;\n    }\n\n    .dataframe tbody tr th {\n        vertical-align: top;\n    }\n\n    .dataframe thead th {\n        text-align: right;\n    }\n</style>\n<table border=\"1\" class=\"dataframe\">\n  <thead>\n    <tr style=\"text-align: right;\">\n      <th></th>\n      <th>A</th>\n      <th>B</th>\n      <th>C</th>\n      <th>D</th>\n    </tr>\n  </thead>\n  <tbody>\n    <tr>\n      <th>2018-01-01</th>\n      <td>-0.675158</td>\n      <td>1.959836</td>\n      <td>0.211115</td>\n      <td>0.795705</td>\n    </tr>\n    <tr>\n      <th>2018-01-02</th>\n      <td>-1.285896</td>\n      <td>-0.051123</td>\n      <td>-2.456084</td>\n      <td>1.673086</td>\n    </tr>\n    <tr>\n      <th>2018-01-03</th>\n      <td>-2.424201</td>\n      <td>-1.173546</td>\n      <td>1.312133</td>\n      <td>0.386789</td>\n    </tr>\n    <tr>\n      <th>2018-01-04</th>\n      <td>-0.121912</td>\n      <td>-0.133020</td>\n      <td>-1.218690</td>\n      <td>-1.088328</td>\n    </tr>\n    <tr>\n      <th>2018-01-05</th>\n      <td>-0.728353</td>\n      <td>0.757085</td>\n      <td>0.623163</td>\n      <td>1.104276</td>\n    </tr>\n    <tr>\n      <th>2018-01-06</th>\n      <td>1.356606</td>\n      <td>0.175318</td>\n      <td>-1.082154</td>\n      <td>-1.753155</td>\n    </tr>\n    <tr>\n      <th>2018-01-07</th>\n      <td>-0.277148</td>\n      <td>0.365817</td>\n      <td>1.023818</td>\n      <td>0.597664</td>\n    </tr>\n    <tr>\n      <th>2018-01-08</th>\n      <td>-0.425920</td>\n      <td>0.303370</td>\n      <td>0.231234</td>\n      <td>0.965943</td>\n    </tr>\n    <tr>\n      <th>2018-01-09</th>\n      <td>-1.890567</td>\n      <td>-0.635541</td>\n      <td>-0.017188</td>\n      <td>0.300733</td>\n    </tr>\n    <tr>\n      <th>2018-01-10</th>\n      <td>-0.119903</td>\n      <td>0.317417</td>\n      <td>-0.205143</td>\n      <td>0.077336</td>\n    </tr>\n  </tbody>\n</table>\n</div>",
      "text/plain": "                   A         B         C         D\n2018-01-01 -0.675158  1.959836  0.211115  0.795705\n2018-01-02 -1.285896 -0.051123 -2.456084  1.673086\n2018-01-03 -2.424201 -1.173546  1.312133  0.386789\n2018-01-04 -0.121912 -0.133020 -1.218690 -1.088328\n2018-01-05 -0.728353  0.757085  0.623163  1.104276\n2018-01-06  1.356606  0.175318 -1.082154 -1.753155\n2018-01-07 -0.277148  0.365817  1.023818  0.597664\n2018-01-08 -0.425920  0.303370  0.231234  0.965943\n2018-01-09 -1.890567 -0.635541 -0.017188  0.300733\n2018-01-10 -0.119903  0.317417 -0.205143  0.077336"
     },
     "execution_count": 195,
     "metadata": {},
     "output_type": "execute_result"
    }
   ],
   "source": [
    "df"
   ]
  },
  {
   "cell_type": "code",
   "execution_count": 196,
   "metadata": {},
   "outputs": [
    {
     "data": {
      "text/html": "<div>\n<style scoped>\n    .dataframe tbody tr th:only-of-type {\n        vertical-align: middle;\n    }\n\n    .dataframe tbody tr th {\n        vertical-align: top;\n    }\n\n    .dataframe thead th {\n        text-align: right;\n    }\n</style>\n<table border=\"1\" class=\"dataframe\">\n  <thead>\n    <tr style=\"text-align: right;\">\n      <th></th>\n      <th>A</th>\n      <th>B</th>\n      <th>C</th>\n      <th>D</th>\n    </tr>\n  </thead>\n  <tbody>\n    <tr>\n      <th>2018-01-01</th>\n      <td>-0.675158</td>\n      <td>1.959836</td>\n      <td>0.211115</td>\n      <td>0.795705</td>\n    </tr>\n    <tr>\n      <th>2018-01-02</th>\n      <td>-1.285896</td>\n      <td>-0.051123</td>\n      <td>-2.456084</td>\n      <td>1.673086</td>\n    </tr>\n    <tr>\n      <th>2018-01-03</th>\n      <td>-2.424201</td>\n      <td>-1.173546</td>\n      <td>1.312133</td>\n      <td>0.386789</td>\n    </tr>\n    <tr>\n      <th>2018-01-04</th>\n      <td>-0.121912</td>\n      <td>-0.133020</td>\n      <td>-1.218690</td>\n      <td>-1.088328</td>\n    </tr>\n    <tr>\n      <th>2018-01-05</th>\n      <td>-0.728353</td>\n      <td>0.757085</td>\n      <td>0.623163</td>\n      <td>1.104276</td>\n    </tr>\n  </tbody>\n</table>\n</div>",
      "text/plain": "                   A         B         C         D\n2018-01-01 -0.675158  1.959836  0.211115  0.795705\n2018-01-02 -1.285896 -0.051123 -2.456084  1.673086\n2018-01-03 -2.424201 -1.173546  1.312133  0.386789\n2018-01-04 -0.121912 -0.133020 -1.218690 -1.088328\n2018-01-05 -0.728353  0.757085  0.623163  1.104276"
     },
     "execution_count": 196,
     "metadata": {},
     "output_type": "execute_result"
    }
   ],
   "source": [
    "df.head()"
   ]
  },
  {
   "cell_type": "code",
   "execution_count": 197,
   "metadata": {},
   "outputs": [
    {
     "data": {
      "text/html": "<div>\n<style scoped>\n    .dataframe tbody tr th:only-of-type {\n        vertical-align: middle;\n    }\n\n    .dataframe tbody tr th {\n        vertical-align: top;\n    }\n\n    .dataframe thead th {\n        text-align: right;\n    }\n</style>\n<table border=\"1\" class=\"dataframe\">\n  <thead>\n    <tr style=\"text-align: right;\">\n      <th></th>\n      <th>A</th>\n      <th>B</th>\n      <th>C</th>\n      <th>D</th>\n    </tr>\n  </thead>\n  <tbody>\n    <tr>\n      <th>count</th>\n      <td>10.000000</td>\n      <td>10.000000</td>\n      <td>10.000000</td>\n      <td>10.000000</td>\n    </tr>\n    <tr>\n      <th>mean</th>\n      <td>-0.659245</td>\n      <td>0.188561</td>\n      <td>-0.157780</td>\n      <td>0.306005</td>\n    </tr>\n    <tr>\n      <th>std</th>\n      <td>1.047359</td>\n      <td>0.831154</td>\n      <td>1.142041</td>\n      <td>1.027926</td>\n    </tr>\n    <tr>\n      <th>min</th>\n      <td>-2.424201</td>\n      <td>-1.173546</td>\n      <td>-2.456084</td>\n      <td>-1.753155</td>\n    </tr>\n    <tr>\n      <th>25%</th>\n      <td>-1.146510</td>\n      <td>-0.112546</td>\n      <td>-0.862901</td>\n      <td>0.133185</td>\n    </tr>\n    <tr>\n      <th>50%</th>\n      <td>-0.550539</td>\n      <td>0.239344</td>\n      <td>0.096964</td>\n      <td>0.492227</td>\n    </tr>\n    <tr>\n      <th>75%</th>\n      <td>-0.160721</td>\n      <td>0.353717</td>\n      <td>0.525181</td>\n      <td>0.923384</td>\n    </tr>\n    <tr>\n      <th>max</th>\n      <td>1.356606</td>\n      <td>1.959836</td>\n      <td>1.312133</td>\n      <td>1.673086</td>\n    </tr>\n  </tbody>\n</table>\n</div>",
      "text/plain": "               A          B          C          D\ncount  10.000000  10.000000  10.000000  10.000000\nmean   -0.659245   0.188561  -0.157780   0.306005\nstd     1.047359   0.831154   1.142041   1.027926\nmin    -2.424201  -1.173546  -2.456084  -1.753155\n25%    -1.146510  -0.112546  -0.862901   0.133185\n50%    -0.550539   0.239344   0.096964   0.492227\n75%    -0.160721   0.353717   0.525181   0.923384\nmax     1.356606   1.959836   1.312133   1.673086"
     },
     "execution_count": 197,
     "metadata": {},
     "output_type": "execute_result"
    }
   ],
   "source": [
    "# quick data summary\n",
    "df.describe()"
   ]
  },
  {
   "cell_type": "markdown",
   "metadata": {},
   "source": [
    "## veja que quando chamamos 'df.mean()' ele faz a media por coluna \n",
    "## veja que quando chamamos 'df.mean(1)' ele faz a media por linha"
   ]
  },
  {
   "cell_type": "code",
   "execution_count": 200,
   "metadata": {},
   "outputs": [
    {
     "data": {
      "text/plain": "A   -0.659245\nB    0.188561\nC   -0.157780\nD    0.306005\ndtype: float64"
     },
     "execution_count": 200,
     "metadata": {},
     "output_type": "execute_result"
    }
   ],
   "source": [
    "# Calculando a média\n",
    "df.mean()"
   ]
  },
  {
   "cell_type": "code",
   "execution_count": 201,
   "metadata": {},
   "outputs": [
    {
     "data": {
      "text/plain": "2018-01-01    0.572875\n2018-01-02   -0.530005\n2018-01-03   -0.474706\n2018-01-04   -0.640488\n2018-01-05    0.439043\n2018-01-06   -0.325846\n2018-01-07    0.427537\n2018-01-08    0.268657\n2018-01-09   -0.560641\n2018-01-10    0.017427\nFreq: D, dtype: float64"
     },
     "execution_count": 201,
     "metadata": {},
     "output_type": "execute_result"
    }
   ],
   "source": [
    "# Pivot e cálculo da média\n",
    "df.mean(1)"
   ]
  },
  {
   "cell_type": "code",
   "execution_count": 202,
   "metadata": {},
   "outputs": [
    {
     "data": {
      "text/html": "<div>\n<style scoped>\n    .dataframe tbody tr th:only-of-type {\n        vertical-align: middle;\n    }\n\n    .dataframe tbody tr th {\n        vertical-align: top;\n    }\n\n    .dataframe thead th {\n        text-align: right;\n    }\n</style>\n<table border=\"1\" class=\"dataframe\">\n  <thead>\n    <tr style=\"text-align: right;\">\n      <th></th>\n      <th>A</th>\n      <th>B</th>\n      <th>C</th>\n      <th>D</th>\n    </tr>\n  </thead>\n  <tbody>\n    <tr>\n      <th>2018-01-01</th>\n      <td>-0.675158</td>\n      <td>1.959836</td>\n      <td>0.211115</td>\n      <td>0.795705</td>\n    </tr>\n    <tr>\n      <th>2018-01-02</th>\n      <td>-1.961055</td>\n      <td>1.908713</td>\n      <td>-2.244969</td>\n      <td>2.468791</td>\n    </tr>\n    <tr>\n      <th>2018-01-03</th>\n      <td>-4.385256</td>\n      <td>0.735166</td>\n      <td>-0.932836</td>\n      <td>2.855580</td>\n    </tr>\n    <tr>\n      <th>2018-01-04</th>\n      <td>-4.507168</td>\n      <td>0.602146</td>\n      <td>-2.151527</td>\n      <td>1.767253</td>\n    </tr>\n    <tr>\n      <th>2018-01-05</th>\n      <td>-5.235521</td>\n      <td>1.359231</td>\n      <td>-1.528364</td>\n      <td>2.871529</td>\n    </tr>\n    <tr>\n      <th>2018-01-06</th>\n      <td>-3.878915</td>\n      <td>1.534549</td>\n      <td>-2.610518</td>\n      <td>1.118374</td>\n    </tr>\n    <tr>\n      <th>2018-01-07</th>\n      <td>-4.156063</td>\n      <td>1.900366</td>\n      <td>-1.586700</td>\n      <td>1.716038</td>\n    </tr>\n    <tr>\n      <th>2018-01-08</th>\n      <td>-4.581983</td>\n      <td>2.203736</td>\n      <td>-1.355466</td>\n      <td>2.681981</td>\n    </tr>\n    <tr>\n      <th>2018-01-09</th>\n      <td>-6.472550</td>\n      <td>1.568195</td>\n      <td>-1.372654</td>\n      <td>2.982714</td>\n    </tr>\n    <tr>\n      <th>2018-01-10</th>\n      <td>-6.592453</td>\n      <td>1.885612</td>\n      <td>-1.577798</td>\n      <td>3.060050</td>\n    </tr>\n  </tbody>\n</table>\n</div>",
      "text/plain": "                   A         B         C         D\n2018-01-01 -0.675158  1.959836  0.211115  0.795705\n2018-01-02 -1.961055  1.908713 -2.244969  2.468791\n2018-01-03 -4.385256  0.735166 -0.932836  2.855580\n2018-01-04 -4.507168  0.602146 -2.151527  1.767253\n2018-01-05 -5.235521  1.359231 -1.528364  2.871529\n2018-01-06 -3.878915  1.534549 -2.610518  1.118374\n2018-01-07 -4.156063  1.900366 -1.586700  1.716038\n2018-01-08 -4.581983  2.203736 -1.355466  2.681981\n2018-01-09 -6.472550  1.568195 -1.372654  2.982714\n2018-01-10 -6.592453  1.885612 -1.577798  3.060050"
     },
     "execution_count": 202,
     "metadata": {},
     "output_type": "execute_result"
    }
   ],
   "source": [
    "# Usando métodos\n",
    "df.apply(np.cumsum)"
   ]
  },
  {
   "cell_type": "code",
   "execution_count": 203,
   "metadata": {},
   "outputs": [
    {
     "data": {
      "text/html": "<div>\n<style scoped>\n    .dataframe tbody tr th:only-of-type {\n        vertical-align: middle;\n    }\n\n    .dataframe tbody tr th {\n        vertical-align: top;\n    }\n\n    .dataframe thead th {\n        text-align: right;\n    }\n</style>\n<table border=\"1\" class=\"dataframe\">\n  <thead>\n    <tr style=\"text-align: right;\">\n      <th></th>\n      <th>A</th>\n      <th>B</th>\n      <th>C</th>\n      <th>D</th>\n    </tr>\n  </thead>\n  <tbody>\n    <tr>\n      <th>2018-01-01</th>\n      <td>-0.675158</td>\n      <td>1.959836</td>\n      <td>0.211115</td>\n      <td>0.795705</td>\n    </tr>\n    <tr>\n      <th>2018-01-02</th>\n      <td>-1.285896</td>\n      <td>-0.051123</td>\n      <td>-2.456084</td>\n      <td>1.673086</td>\n    </tr>\n    <tr>\n      <th>2018-01-03</th>\n      <td>-2.424201</td>\n      <td>-1.173546</td>\n      <td>1.312133</td>\n      <td>0.386789</td>\n    </tr>\n    <tr>\n      <th>2018-01-04</th>\n      <td>-0.121912</td>\n      <td>-0.133020</td>\n      <td>-1.218690</td>\n      <td>-1.088328</td>\n    </tr>\n    <tr>\n      <th>2018-01-05</th>\n      <td>-0.728353</td>\n      <td>0.757085</td>\n      <td>0.623163</td>\n      <td>1.104276</td>\n    </tr>\n    <tr>\n      <th>2018-01-06</th>\n      <td>1.356606</td>\n      <td>0.175318</td>\n      <td>-1.082154</td>\n      <td>-1.753155</td>\n    </tr>\n    <tr>\n      <th>2018-01-07</th>\n      <td>-0.277148</td>\n      <td>0.365817</td>\n      <td>1.023818</td>\n      <td>0.597664</td>\n    </tr>\n    <tr>\n      <th>2018-01-08</th>\n      <td>-0.425920</td>\n      <td>0.303370</td>\n      <td>0.231234</td>\n      <td>0.965943</td>\n    </tr>\n    <tr>\n      <th>2018-01-09</th>\n      <td>-1.890567</td>\n      <td>-0.635541</td>\n      <td>-0.017188</td>\n      <td>0.300733</td>\n    </tr>\n    <tr>\n      <th>2018-01-10</th>\n      <td>-0.119903</td>\n      <td>0.317417</td>\n      <td>-0.205143</td>\n      <td>0.077336</td>\n    </tr>\n  </tbody>\n</table>\n</div>",
      "text/plain": "                   A         B         C         D\n2018-01-01 -0.675158  1.959836  0.211115  0.795705\n2018-01-02 -1.285896 -0.051123 -2.456084  1.673086\n2018-01-03 -2.424201 -1.173546  1.312133  0.386789\n2018-01-04 -0.121912 -0.133020 -1.218690 -1.088328\n2018-01-05 -0.728353  0.757085  0.623163  1.104276\n2018-01-06  1.356606  0.175318 -1.082154 -1.753155\n2018-01-07 -0.277148  0.365817  1.023818  0.597664\n2018-01-08 -0.425920  0.303370  0.231234  0.965943\n2018-01-09 -1.890567 -0.635541 -0.017188  0.300733\n2018-01-10 -0.119903  0.317417 -0.205143  0.077336"
     },
     "execution_count": 203,
     "metadata": {},
     "output_type": "execute_result"
    }
   ],
   "source": [
    "df"
   ]
  },
  {
   "cell_type": "code",
   "execution_count": 204,
   "metadata": {},
   "outputs": [
    {
     "data": {
      "text/html": "<div>\n<style scoped>\n    .dataframe tbody tr th:only-of-type {\n        vertical-align: middle;\n    }\n\n    .dataframe tbody tr th {\n        vertical-align: top;\n    }\n\n    .dataframe thead th {\n        text-align: right;\n    }\n</style>\n<table border=\"1\" class=\"dataframe\">\n  <thead>\n    <tr style=\"text-align: right;\">\n      <th></th>\n      <th>chave</th>\n      <th>coluna1</th>\n      <th>coluna2</th>\n    </tr>\n  </thead>\n  <tbody>\n    <tr>\n      <th>0</th>\n      <td>chave1</td>\n      <td>1</td>\n      <td>4</td>\n    </tr>\n    <tr>\n      <th>1</th>\n      <td>chave2</td>\n      <td>2</td>\n      <td>5</td>\n    </tr>\n  </tbody>\n</table>\n</div>",
      "text/plain": "    chave  coluna1  coluna2\n0  chave1        1        4\n1  chave2        2        5"
     },
     "execution_count": 204,
     "metadata": {},
     "output_type": "execute_result"
    }
   ],
   "source": [
    "# Merge de Dataframes\n",
    "left = pd.DataFrame({'chave': ['chave1', 'chave2'], 'coluna1': [1, 2]})\n",
    "right = pd.DataFrame({'chave': ['chave1', 'chave2'], 'coluna2': [4, 5]})\n",
    "pd.merge(left, right, on='chave')"
   ]
  },
  {
   "cell_type": "code",
   "execution_count": 207,
   "metadata": {},
   "outputs": [],
   "source": [
    "# Adicionando um elemento ao Dataframe\n",
    "df = pd.DataFrame(np.random.rand(8, 4), columns=['A', 'B', 'C', 'D'])"
   ]
  },
  {
   "cell_type": "code",
   "execution_count": 208,
   "metadata": {},
   "outputs": [
    {
     "data": {
      "text/html": "<div>\n<style scoped>\n    .dataframe tbody tr th:only-of-type {\n        vertical-align: middle;\n    }\n\n    .dataframe tbody tr th {\n        vertical-align: top;\n    }\n\n    .dataframe thead th {\n        text-align: right;\n    }\n</style>\n<table border=\"1\" class=\"dataframe\">\n  <thead>\n    <tr style=\"text-align: right;\">\n      <th></th>\n      <th>A</th>\n      <th>B</th>\n      <th>C</th>\n      <th>D</th>\n    </tr>\n  </thead>\n  <tbody>\n    <tr>\n      <th>0</th>\n      <td>0.603252</td>\n      <td>0.812128</td>\n      <td>0.462085</td>\n      <td>0.447004</td>\n    </tr>\n    <tr>\n      <th>1</th>\n      <td>0.790855</td>\n      <td>0.414262</td>\n      <td>0.264403</td>\n      <td>0.059692</td>\n    </tr>\n    <tr>\n      <th>2</th>\n      <td>0.249159</td>\n      <td>0.503903</td>\n      <td>0.011975</td>\n      <td>0.414769</td>\n    </tr>\n    <tr>\n      <th>3</th>\n      <td>0.514896</td>\n      <td>0.086443</td>\n      <td>0.736772</td>\n      <td>0.765728</td>\n    </tr>\n    <tr>\n      <th>4</th>\n      <td>0.303028</td>\n      <td>0.616000</td>\n      <td>0.204321</td>\n      <td>0.338841</td>\n    </tr>\n    <tr>\n      <th>5</th>\n      <td>0.676420</td>\n      <td>0.212097</td>\n      <td>0.933216</td>\n      <td>0.101966</td>\n    </tr>\n    <tr>\n      <th>6</th>\n      <td>0.349158</td>\n      <td>0.673971</td>\n      <td>0.383799</td>\n      <td>0.536038</td>\n    </tr>\n    <tr>\n      <th>7</th>\n      <td>0.303045</td>\n      <td>0.757147</td>\n      <td>0.474490</td>\n      <td>0.608823</td>\n    </tr>\n  </tbody>\n</table>\n</div>",
      "text/plain": "          A         B         C         D\n0  0.603252  0.812128  0.462085  0.447004\n1  0.790855  0.414262  0.264403  0.059692\n2  0.249159  0.503903  0.011975  0.414769\n3  0.514896  0.086443  0.736772  0.765728\n4  0.303028  0.616000  0.204321  0.338841\n5  0.676420  0.212097  0.933216  0.101966\n6  0.349158  0.673971  0.383799  0.536038\n7  0.303045  0.757147  0.474490  0.608823"
     },
     "execution_count": 208,
     "metadata": {},
     "output_type": "execute_result"
    }
   ],
   "source": [
    "df"
   ]
  },
  {
   "cell_type": "code",
   "execution_count": 209,
   "metadata": {},
   "outputs": [],
   "source": [
    "s = df.iloc[3]"
   ]
  },
  {
   "cell_type": "code",
   "execution_count": 210,
   "metadata": {},
   "outputs": [
    {
     "data": {
      "text/html": "<div>\n<style scoped>\n    .dataframe tbody tr th:only-of-type {\n        vertical-align: middle;\n    }\n\n    .dataframe tbody tr th {\n        vertical-align: top;\n    }\n\n    .dataframe thead th {\n        text-align: right;\n    }\n</style>\n<table border=\"1\" class=\"dataframe\">\n  <thead>\n    <tr style=\"text-align: right;\">\n      <th></th>\n      <th>A</th>\n      <th>B</th>\n      <th>C</th>\n      <th>D</th>\n    </tr>\n  </thead>\n  <tbody>\n    <tr>\n      <th>0</th>\n      <td>0.603252</td>\n      <td>0.812128</td>\n      <td>0.462085</td>\n      <td>0.447004</td>\n    </tr>\n    <tr>\n      <th>1</th>\n      <td>0.790855</td>\n      <td>0.414262</td>\n      <td>0.264403</td>\n      <td>0.059692</td>\n    </tr>\n    <tr>\n      <th>2</th>\n      <td>0.249159</td>\n      <td>0.503903</td>\n      <td>0.011975</td>\n      <td>0.414769</td>\n    </tr>\n    <tr>\n      <th>3</th>\n      <td>0.514896</td>\n      <td>0.086443</td>\n      <td>0.736772</td>\n      <td>0.765728</td>\n    </tr>\n    <tr>\n      <th>4</th>\n      <td>0.303028</td>\n      <td>0.616000</td>\n      <td>0.204321</td>\n      <td>0.338841</td>\n    </tr>\n    <tr>\n      <th>5</th>\n      <td>0.676420</td>\n      <td>0.212097</td>\n      <td>0.933216</td>\n      <td>0.101966</td>\n    </tr>\n    <tr>\n      <th>6</th>\n      <td>0.349158</td>\n      <td>0.673971</td>\n      <td>0.383799</td>\n      <td>0.536038</td>\n    </tr>\n    <tr>\n      <th>7</th>\n      <td>0.303045</td>\n      <td>0.757147</td>\n      <td>0.474490</td>\n      <td>0.608823</td>\n    </tr>\n    <tr>\n      <th>8</th>\n      <td>0.514896</td>\n      <td>0.086443</td>\n      <td>0.736772</td>\n      <td>0.765728</td>\n    </tr>\n  </tbody>\n</table>\n</div>",
      "text/plain": "          A         B         C         D\n0  0.603252  0.812128  0.462085  0.447004\n1  0.790855  0.414262  0.264403  0.059692\n2  0.249159  0.503903  0.011975  0.414769\n3  0.514896  0.086443  0.736772  0.765728\n4  0.303028  0.616000  0.204321  0.338841\n5  0.676420  0.212097  0.933216  0.101966\n6  0.349158  0.673971  0.383799  0.536038\n7  0.303045  0.757147  0.474490  0.608823\n8  0.514896  0.086443  0.736772  0.765728"
     },
     "execution_count": 210,
     "metadata": {},
     "output_type": "execute_result"
    }
   ],
   "source": [
    "# Adicionando um elemento ao Dataframe\n",
    "df.append(s, ignore_index=True)"
   ]
  },
  {
   "cell_type": "markdown",
   "metadata": {},
   "source": [
    "## Time Series"
   ]
  },
  {
   "cell_type": "code",
   "execution_count": 215,
   "metadata": {},
   "outputs": [],
   "source": [
    "# Criando um range de datas com frequência de segundos\n",
    "rng = pd.date_range('1/1/2018', periods = 50, freq = 'S')"
   ]
  },
  {
   "cell_type": "code",
   "execution_count": 217,
   "metadata": {},
   "outputs": [],
   "source": [
    "ts = pd.Series(np.random.randint(0, 500, len(rng)), index = rng)"
   ]
  },
  {
   "cell_type": "code",
   "execution_count": 218,
   "metadata": {},
   "outputs": [
    {
     "data": {
      "text/plain": "2018-01-01 00:00:00    494\n2018-01-01 00:00:01    244\n2018-01-01 00:00:02     23\n2018-01-01 00:00:03     61\n2018-01-01 00:00:04    450\n2018-01-01 00:00:05    245\n2018-01-01 00:00:06    266\n2018-01-01 00:00:07    478\n2018-01-01 00:00:08    256\n2018-01-01 00:00:09     35\n2018-01-01 00:00:10    349\n2018-01-01 00:00:11    254\n2018-01-01 00:00:12      0\n2018-01-01 00:00:13    139\n2018-01-01 00:00:14     34\n2018-01-01 00:00:15    356\n2018-01-01 00:00:16     25\n2018-01-01 00:00:17    206\n2018-01-01 00:00:18    152\n2018-01-01 00:00:19    487\n2018-01-01 00:00:20    129\n2018-01-01 00:00:21    379\n2018-01-01 00:00:22    115\n2018-01-01 00:00:23     54\n2018-01-01 00:00:24     15\n2018-01-01 00:00:25    408\n2018-01-01 00:00:26    198\n2018-01-01 00:00:27    245\n2018-01-01 00:00:28    171\n2018-01-01 00:00:29    351\n2018-01-01 00:00:30    181\n2018-01-01 00:00:31    332\n2018-01-01 00:00:32     70\n2018-01-01 00:00:33    373\n2018-01-01 00:00:34    149\n2018-01-01 00:00:35    407\n2018-01-01 00:00:36    363\n2018-01-01 00:00:37    213\n2018-01-01 00:00:38    434\n2018-01-01 00:00:39    147\n2018-01-01 00:00:40    470\n2018-01-01 00:00:41    155\n2018-01-01 00:00:42    262\n2018-01-01 00:00:43    475\n2018-01-01 00:00:44    133\n2018-01-01 00:00:45    459\n2018-01-01 00:00:46    202\n2018-01-01 00:00:47     27\n2018-01-01 00:00:48    113\n2018-01-01 00:00:49    295\nFreq: S, dtype: int32"
     },
     "execution_count": 218,
     "metadata": {},
     "output_type": "execute_result"
    }
   ],
   "source": [
    "ts"
   ]
  },
  {
   "cell_type": "code",
   "execution_count": 216,
   "metadata": {},
   "outputs": [
    {
     "data": {
      "text/plain": "DatetimeIndex(['2018-01-01 00:00:00', '2018-01-01 00:00:01',\n               '2018-01-01 00:00:02', '2018-01-01 00:00:03',\n               '2018-01-01 00:00:04', '2018-01-01 00:00:05',\n               '2018-01-01 00:00:06', '2018-01-01 00:00:07',\n               '2018-01-01 00:00:08', '2018-01-01 00:00:09',\n               '2018-01-01 00:00:10', '2018-01-01 00:00:11',\n               '2018-01-01 00:00:12', '2018-01-01 00:00:13',\n               '2018-01-01 00:00:14', '2018-01-01 00:00:15',\n               '2018-01-01 00:00:16', '2018-01-01 00:00:17',\n               '2018-01-01 00:00:18', '2018-01-01 00:00:19',\n               '2018-01-01 00:00:20', '2018-01-01 00:00:21',\n               '2018-01-01 00:00:22', '2018-01-01 00:00:23',\n               '2018-01-01 00:00:24', '2018-01-01 00:00:25',\n               '2018-01-01 00:00:26', '2018-01-01 00:00:27',\n               '2018-01-01 00:00:28', '2018-01-01 00:00:29',\n               '2018-01-01 00:00:30', '2018-01-01 00:00:31',\n               '2018-01-01 00:00:32', '2018-01-01 00:00:33',\n               '2018-01-01 00:00:34', '2018-01-01 00:00:35',\n               '2018-01-01 00:00:36', '2018-01-01 00:00:37',\n               '2018-01-01 00:00:38', '2018-01-01 00:00:39',\n               '2018-01-01 00:00:40', '2018-01-01 00:00:41',\n               '2018-01-01 00:00:42', '2018-01-01 00:00:43',\n               '2018-01-01 00:00:44', '2018-01-01 00:00:45',\n               '2018-01-01 00:00:46', '2018-01-01 00:00:47',\n               '2018-01-01 00:00:48', '2018-01-01 00:00:49'],\n              dtype='datetime64[ns]', freq='S')"
     },
     "execution_count": 216,
     "metadata": {},
     "output_type": "execute_result"
    }
   ],
   "source": [
    "rng"
   ]
  },
  {
   "cell_type": "code",
   "execution_count": 220,
   "metadata": {},
   "outputs": [
    {
     "data": {
      "text/plain": "2016-01-31   -0.063664\n2016-02-29   -0.038279\n2016-03-31   -1.031436\n2016-04-30    0.449344\n2016-05-31    0.661019\n2016-06-30   -1.486797\n2016-07-31   -0.510510\n2016-08-31    0.174734\n2016-09-30   -0.191316\n2016-10-31   -0.002111\nFreq: M, dtype: float64"
     },
     "execution_count": 220,
     "metadata": {},
     "output_type": "execute_result"
    }
   ],
   "source": [
    "# Criando um range de datas com frequência de meses\n",
    "rng = pd.date_range('1/1/2016', periods=10, freq='M')\n",
    "ts = pd.Series(np.random.randn(len(rng)), index=rng)\n",
    "ts"
   ]
  },
  {
   "cell_type": "markdown",
   "metadata": {},
   "source": [
    "## Plotting"
   ]
  },
  {
   "cell_type": "code",
   "execution_count": 221,
   "metadata": {},
   "outputs": [],
   "source": [
    "import matplotlib.pyplot as plt\n",
    "from matplotlib import style\n",
    "%matplotlib inline"
   ]
  },
  {
   "cell_type": "code",
   "execution_count": 222,
   "metadata": {},
   "outputs": [
    {
     "data": {
      "text/plain": "<matplotlib.axes._subplots.AxesSubplot at 0xd45d9d0>"
     },
     "execution_count": 222,
     "metadata": {},
     "output_type": "execute_result"
    },
    {
     "data": {
      "image/png": "[encoded data removed]",
      "image/svg+xml": "<?xml version=\"1.0\" encoding=\"utf-8\" standalone=\"no\"?>\r\n<!DOCTYPE svg PUBLIC \"-//W3C//DTD SVG 1.1//EN\"\r\n  \"http://www.w3.org/Graphics/SVG/1.1/DTD/svg11.dtd\">\r\n<!-- Created with matplotlib (https://matplotlib.org/) -->\r\n<svg height=\"259.715937pt\" version=\"1.1\" viewBox=\"0 0 377.304687 259.715937\" width=\"377.304687pt\" xmlns=\"http://www.w3.org/2000/svg\" xmlns:xlink=\"http://www.w3.org/1999/xlink\">\r\n <defs>\r\n  <style type=\"text/css\">\r\n*{stroke-linecap:butt;stroke-linejoin:round;}\r\n  </style>\r\n </defs>\r\n <g id=\"figure_1\">\r\n  <g id=\"patch_1\">\r\n   <path d=\"M 0 259.715937 \r\nL 377.304687 259.715937 \r\nL 377.304687 0 \r\nL 0 0 \r\nz\r\n\" style=\"fill:none;\"/>\r\n  </g>\r\n  <g id=\"axes_1\">\r\n   <g id=\"patch_2\">\r\n    <path d=\"M 35.304688 224.64 \r\nL 370.104688 224.64 \r\nL 370.104688 7.2 \r\nL 35.304688 7.2 \r\nz\r\n\" style=\"fill:#ffffff;\"/>\r\n   </g>\r\n   <g id=\"matplotlib.axis_1\">\r\n    <g id=\"xtick_1\">\r\n     <g id=\"line2d_1\">\r\n      <defs>\r\n       <path d=\"M 0 0 \r\nL 0 3.5 \r\n\" id=\"md666011169\" style=\"stroke:#000000;stroke-width:0.8;\"/>\r\n      </defs>\r\n      <g>\r\n       <use style=\"stroke:#000000;stroke-width:0.8;\" x=\"35.304688\" xlink:href=\"#md666011169\" y=\"224.64\"/>\r\n      </g>\r\n     </g>\r\n     <g id=\"text_1\">\r\n      <!-- Jan -->\r\n      <defs>\r\n       <path d=\"M 9.8125 72.90625 \r\nL 19.671875 72.90625 \r\nL 19.671875 5.078125 \r\nQ 19.671875 -8.109375 14.671875 -14.0625 \r\nQ 9.671875 -20.015625 -1.421875 -20.015625 \r\nL -5.171875 -20.015625 \r\nL -5.171875 -11.71875 \r\nL -2.09375 -11.71875 \r\nQ 4.4375 -11.71875 7.125 -8.046875 \r\nQ 9.8125 -4.390625 9.8125 5.078125 \r\nz\r\n\" id=\"DejaVuSans-74\"/>\r\n       <path d=\"M 34.28125 27.484375 \r\nQ 23.390625 27.484375 19.1875 25 \r\nQ 14.984375 22.515625 14.984375 16.5 \r\nQ 14.984375 11.71875 18.140625 8.90625 \r\nQ 21.296875 6.109375 26.703125 6.109375 \r\nQ 34.1875 6.109375 38.703125 11.40625 \r\nQ 43.21875 16.703125 43.21875 25.484375 \r\nL 43.21875 27.484375 \r\nz\r\nM 52.203125 31.203125 \r\nL 52.203125 0 \r\nL 43.21875 0 \r\nL 43.21875 8.296875 \r\nQ 40.140625 3.328125 35.546875 0.953125 \r\nQ 30.953125 -1.421875 24.3125 -1.421875 \r\nQ 15.921875 -1.421875 10.953125 3.296875 \r\nQ 6 8.015625 6 15.921875 \r\nQ 6 25.140625 12.171875 29.828125 \r\nQ 18.359375 34.515625 30.609375 34.515625 \r\nL 43.21875 34.515625 \r\nL 43.21875 35.40625 \r\nQ 43.21875 41.609375 39.140625 45 \r\nQ 35.0625 48.390625 27.6875 48.390625 \r\nQ 23 48.390625 18.546875 47.265625 \r\nQ 14.109375 46.140625 10.015625 43.890625 \r\nL 10.015625 52.203125 \r\nQ 14.9375 54.109375 19.578125 55.046875 \r\nQ 24.21875 56 28.609375 56 \r\nQ 40.484375 56 46.34375 49.84375 \r\nQ 52.203125 43.703125 52.203125 31.203125 \r\nz\r\n\" id=\"DejaVuSans-97\"/>\r\n       <path d=\"M 54.890625 33.015625 \r\nL 54.890625 0 \r\nL 45.90625 0 \r\nL 45.90625 32.71875 \r\nQ 45.90625 40.484375 42.875 44.328125 \r\nQ 39.84375 48.1875 33.796875 48.1875 \r\nQ 26.515625 48.1875 22.3125 43.546875 \r\nQ 18.109375 38.921875 18.109375 30.90625 \r\nL 18.109375 0 \r\nL 9.078125 0 \r\nL 9.078125 54.6875 \r\nL 18.109375 54.6875 \r\nL 18.109375 46.1875 \r\nQ 21.34375 51.125 25.703125 53.5625 \r\nQ 30.078125 56 35.796875 56 \r\nQ 45.21875 56 50.046875 50.171875 \r\nQ 54.890625 44.34375 54.890625 33.015625 \r\nz\r\n\" id=\"DejaVuSans-110\"/>\r\n      </defs>\r\n      <g transform=\"translate(27.596875 239.238438)scale(0.1 -0.1)\">\r\n       <use xlink:href=\"#DejaVuSans-74\"/>\r\n       <use x=\"29.492188\" xlink:href=\"#DejaVuSans-97\"/>\r\n       <use x=\"90.771484\" xlink:href=\"#DejaVuSans-110\"/>\r\n      </g>\r\n      <!-- 2016 -->\r\n      <defs>\r\n       <path d=\"M 19.1875 8.296875 \r\nL 53.609375 8.296875 \r\nL 53.609375 0 \r\nL 7.328125 0 \r\nL 7.328125 8.296875 \r\nQ 12.9375 14.109375 22.625 23.890625 \r\nQ 32.328125 33.6875 34.8125 36.53125 \r\nQ 39.546875 41.84375 41.421875 45.53125 \r\nQ 43.3125 49.21875 43.3125 52.78125 \r\nQ 43.3125 58.59375 39.234375 62.25 \r\nQ 35.15625 65.921875 28.609375 65.921875 \r\nQ 23.96875 65.921875 18.8125 64.3125 \r\nQ 13.671875 62.703125 7.8125 59.421875 \r\nL 7.8125 69.390625 \r\nQ 13.765625 71.78125 18.9375 73 \r\nQ 24.125 74.21875 28.421875 74.21875 \r\nQ 39.75 74.21875 46.484375 68.546875 \r\nQ 53.21875 62.890625 53.21875 53.421875 \r\nQ 53.21875 48.921875 51.53125 44.890625 \r\nQ 49.859375 40.875 45.40625 35.40625 \r\nQ 44.1875 33.984375 37.640625 27.21875 \r\nQ 31.109375 20.453125 19.1875 8.296875 \r\nz\r\n\" id=\"DejaVuSans-50\"/>\r\n       <path d=\"M 31.78125 66.40625 \r\nQ 24.171875 66.40625 20.328125 58.90625 \r\nQ 16.5 51.421875 16.5 36.375 \r\nQ 16.5 21.390625 20.328125 13.890625 \r\nQ 24.171875 6.390625 31.78125 6.390625 \r\nQ 39.453125 6.390625 43.28125 13.890625 \r\nQ 47.125 21.390625 47.125 36.375 \r\nQ 47.125 51.421875 43.28125 58.90625 \r\nQ 39.453125 66.40625 31.78125 66.40625 \r\nz\r\nM 31.78125 74.21875 \r\nQ 44.046875 74.21875 50.515625 64.515625 \r\nQ 56.984375 54.828125 56.984375 36.375 \r\nQ 56.984375 17.96875 50.515625 8.265625 \r\nQ 44.046875 -1.421875 31.78125 -1.421875 \r\nQ 19.53125 -1.421875 13.0625 8.265625 \r\nQ 6.59375 17.96875 6.59375 36.375 \r\nQ 6.59375 54.828125 13.0625 64.515625 \r\nQ 19.53125 74.21875 31.78125 74.21875 \r\nz\r\n\" id=\"DejaVuSans-48\"/>\r\n       <path d=\"M 12.40625 8.296875 \r\nL 28.515625 8.296875 \r\nL 28.515625 63.921875 \r\nL 10.984375 60.40625 \r\nL 10.984375 69.390625 \r\nL 28.421875 72.90625 \r\nL 38.28125 72.90625 \r\nL 38.28125 8.296875 \r\nL 54.390625 8.296875 \r\nL 54.390625 0 \r\nL 12.40625 0 \r\nz\r\n\" id=\"DejaVuSans-49\"/>\r\n       <path d=\"M 33.015625 40.375 \r\nQ 26.375 40.375 22.484375 35.828125 \r\nQ 18.609375 31.296875 18.609375 23.390625 \r\nQ 18.609375 15.53125 22.484375 10.953125 \r\nQ 26.375 6.390625 33.015625 6.390625 \r\nQ 39.65625 6.390625 43.53125 10.953125 \r\nQ 47.40625 15.53125 47.40625 23.390625 \r\nQ 47.40625 31.296875 43.53125 35.828125 \r\nQ 39.65625 40.375 33.015625 40.375 \r\nz\r\nM 52.59375 71.296875 \r\nL 52.59375 62.3125 \r\nQ 48.875 64.0625 45.09375 64.984375 \r\nQ 41.3125 65.921875 37.59375 65.921875 \r\nQ 27.828125 65.921875 22.671875 59.328125 \r\nQ 17.53125 52.734375 16.796875 39.40625 \r\nQ 19.671875 43.65625 24.015625 45.921875 \r\nQ 28.375 48.1875 33.59375 48.1875 \r\nQ 44.578125 48.1875 50.953125 41.515625 \r\nQ 57.328125 34.859375 57.328125 23.390625 \r\nQ 57.328125 12.15625 50.6875 5.359375 \r\nQ 44.046875 -1.421875 33.015625 -1.421875 \r\nQ 20.359375 -1.421875 13.671875 8.265625 \r\nQ 6.984375 17.96875 6.984375 36.375 \r\nQ 6.984375 53.65625 15.1875 63.9375 \r\nQ 23.390625 74.21875 37.203125 74.21875 \r\nQ 40.921875 74.21875 44.703125 73.484375 \r\nQ 48.484375 72.75 52.59375 71.296875 \r\nz\r\n\" id=\"DejaVuSans-54\"/>\r\n      </defs>\r\n      <g transform=\"translate(22.579687 250.43625)scale(0.1 -0.1)\">\r\n       <use xlink:href=\"#DejaVuSans-50\"/>\r\n       <use x=\"63.623047\" xlink:href=\"#DejaVuSans-48\"/>\r\n       <use x=\"127.246094\" xlink:href=\"#DejaVuSans-49\"/>\r\n       <use x=\"190.869141\" xlink:href=\"#DejaVuSans-54\"/>\r\n      </g>\r\n     </g>\r\n    </g>\r\n    <g id=\"xtick_2\">\r\n     <g id=\"line2d_2\">\r\n      <g>\r\n       <use style=\"stroke:#000000;stroke-width:0.8;\" x=\"96.360399\" xlink:href=\"#md666011169\" y=\"224.64\"/>\r\n      </g>\r\n     </g>\r\n     <g id=\"text_2\">\r\n      <!-- Apr -->\r\n      <defs>\r\n       <path d=\"M 34.1875 63.1875 \r\nL 20.796875 26.90625 \r\nL 47.609375 26.90625 \r\nz\r\nM 28.609375 72.90625 \r\nL 39.796875 72.90625 \r\nL 67.578125 0 \r\nL 57.328125 0 \r\nL 50.6875 18.703125 \r\nL 17.828125 18.703125 \r\nL 11.1875 0 \r\nL 0.78125 0 \r\nz\r\n\" id=\"DejaVuSans-65\"/>\r\n       <path d=\"M 18.109375 8.203125 \r\nL 18.109375 -20.796875 \r\nL 9.078125 -20.796875 \r\nL 9.078125 54.6875 \r\nL 18.109375 54.6875 \r\nL 18.109375 46.390625 \r\nQ 20.953125 51.265625 25.265625 53.625 \r\nQ 29.59375 56 35.59375 56 \r\nQ 45.5625 56 51.78125 48.09375 \r\nQ 58.015625 40.1875 58.015625 27.296875 \r\nQ 58.015625 14.40625 51.78125 6.484375 \r\nQ 45.5625 -1.421875 35.59375 -1.421875 \r\nQ 29.59375 -1.421875 25.265625 0.953125 \r\nQ 20.953125 3.328125 18.109375 8.203125 \r\nz\r\nM 48.6875 27.296875 \r\nQ 48.6875 37.203125 44.609375 42.84375 \r\nQ 40.53125 48.484375 33.40625 48.484375 \r\nQ 26.265625 48.484375 22.1875 42.84375 \r\nQ 18.109375 37.203125 18.109375 27.296875 \r\nQ 18.109375 17.390625 22.1875 11.75 \r\nQ 26.265625 6.109375 33.40625 6.109375 \r\nQ 40.53125 6.109375 44.609375 11.75 \r\nQ 48.6875 17.390625 48.6875 27.296875 \r\nz\r\n\" id=\"DejaVuSans-112\"/>\r\n       <path d=\"M 41.109375 46.296875 \r\nQ 39.59375 47.171875 37.8125 47.578125 \r\nQ 36.03125 48 33.890625 48 \r\nQ 26.265625 48 22.1875 43.046875 \r\nQ 18.109375 38.09375 18.109375 28.8125 \r\nL 18.109375 0 \r\nL 9.078125 0 \r\nL 9.078125 54.6875 \r\nL 18.109375 54.6875 \r\nL 18.109375 46.1875 \r\nQ 20.953125 51.171875 25.484375 53.578125 \r\nQ 30.03125 56 36.53125 56 \r\nQ 37.453125 56 38.578125 55.875 \r\nQ 39.703125 55.765625 41.0625 55.515625 \r\nz\r\n\" id=\"DejaVuSans-114\"/>\r\n      </defs>\r\n      <g transform=\"translate(87.710399 239.238438)scale(0.1 -0.1)\">\r\n       <use xlink:href=\"#DejaVuSans-65\"/>\r\n       <use x=\"68.408203\" xlink:href=\"#DejaVuSans-112\"/>\r\n       <use x=\"131.884766\" xlink:href=\"#DejaVuSans-114\"/>\r\n      </g>\r\n     </g>\r\n    </g>\r\n    <g id=\"xtick_3\">\r\n     <g id=\"line2d_3\">\r\n      <g>\r\n       <use style=\"stroke:#000000;stroke-width:0.8;\" x=\"157.41611\" xlink:href=\"#md666011169\" y=\"224.64\"/>\r\n      </g>\r\n     </g>\r\n     <g id=\"text_3\">\r\n      <!-- Jul -->\r\n      <defs>\r\n       <path d=\"M 8.5 21.578125 \r\nL 8.5 54.6875 \r\nL 17.484375 54.6875 \r\nL 17.484375 21.921875 \r\nQ 17.484375 14.15625 20.5 10.265625 \r\nQ 23.53125 6.390625 29.59375 6.390625 \r\nQ 36.859375 6.390625 41.078125 11.03125 \r\nQ 45.3125 15.671875 45.3125 23.6875 \r\nL 45.3125 54.6875 \r\nL 54.296875 54.6875 \r\nL 54.296875 0 \r\nL 45.3125 0 \r\nL 45.3125 8.40625 \r\nQ 42.046875 3.421875 37.71875 1 \r\nQ 33.40625 -1.421875 27.6875 -1.421875 \r\nQ 18.265625 -1.421875 13.375 4.4375 \r\nQ 8.5 10.296875 8.5 21.578125 \r\nz\r\nM 31.109375 56 \r\nz\r\n\" id=\"DejaVuSans-117\"/>\r\n       <path d=\"M 9.421875 75.984375 \r\nL 18.40625 75.984375 \r\nL 18.40625 0 \r\nL 9.421875 0 \r\nz\r\n\" id=\"DejaVuSans-108\"/>\r\n      </defs>\r\n      <g transform=\"translate(151.383298 239.238438)scale(0.1 -0.1)\">\r\n       <use xlink:href=\"#DejaVuSans-74\"/>\r\n       <use x=\"29.492188\" xlink:href=\"#DejaVuSans-117\"/>\r\n       <use x=\"92.871094\" xlink:href=\"#DejaVuSans-108\"/>\r\n      </g>\r\n     </g>\r\n    </g>\r\n    <g id=\"xtick_4\">\r\n     <g id=\"line2d_4\">\r\n      <g>\r\n       <use style=\"stroke:#000000;stroke-width:0.8;\" x=\"219.142764\" xlink:href=\"#md666011169\" y=\"224.64\"/>\r\n      </g>\r\n     </g>\r\n     <g id=\"text_4\">\r\n      <!-- Oct -->\r\n      <defs>\r\n       <path d=\"M 39.40625 66.21875 \r\nQ 28.65625 66.21875 22.328125 58.203125 \r\nQ 16.015625 50.203125 16.015625 36.375 \r\nQ 16.015625 22.609375 22.328125 14.59375 \r\nQ 28.65625 6.59375 39.40625 6.59375 \r\nQ 50.140625 6.59375 56.421875 14.59375 \r\nQ 62.703125 22.609375 62.703125 36.375 \r\nQ 62.703125 50.203125 56.421875 58.203125 \r\nQ 50.140625 66.21875 39.40625 66.21875 \r\nz\r\nM 39.40625 74.21875 \r\nQ 54.734375 74.21875 63.90625 63.9375 \r\nQ 73.09375 53.65625 73.09375 36.375 \r\nQ 73.09375 19.140625 63.90625 8.859375 \r\nQ 54.734375 -1.421875 39.40625 -1.421875 \r\nQ 24.03125 -1.421875 14.8125 8.828125 \r\nQ 5.609375 19.09375 5.609375 36.375 \r\nQ 5.609375 53.65625 14.8125 63.9375 \r\nQ 24.03125 74.21875 39.40625 74.21875 \r\nz\r\n\" id=\"DejaVuSans-79\"/>\r\n       <path d=\"M 48.78125 52.59375 \r\nL 48.78125 44.1875 \r\nQ 44.96875 46.296875 41.140625 47.34375 \r\nQ 37.3125 48.390625 33.40625 48.390625 \r\nQ 24.65625 48.390625 19.8125 42.84375 \r\nQ 14.984375 37.3125 14.984375 27.296875 \r\nQ 14.984375 17.28125 19.8125 11.734375 \r\nQ 24.65625 6.203125 33.40625 6.203125 \r\nQ 37.3125 6.203125 41.140625 7.25 \r\nQ 44.96875 8.296875 48.78125 10.40625 \r\nL 48.78125 2.09375 \r\nQ 45.015625 0.34375 40.984375 -0.53125 \r\nQ 36.96875 -1.421875 32.421875 -1.421875 \r\nQ 20.0625 -1.421875 12.78125 6.34375 \r\nQ 5.515625 14.109375 5.515625 27.296875 \r\nQ 5.515625 40.671875 12.859375 48.328125 \r\nQ 20.21875 56 33.015625 56 \r\nQ 37.15625 56 41.109375 55.140625 \r\nQ 45.0625 54.296875 48.78125 52.59375 \r\nz\r\n\" id=\"DejaVuSans-99\"/>\r\n       <path d=\"M 18.3125 70.21875 \r\nL 18.3125 54.6875 \r\nL 36.8125 54.6875 \r\nL 36.8125 47.703125 \r\nL 18.3125 47.703125 \r\nL 18.3125 18.015625 \r\nQ 18.3125 11.328125 20.140625 9.421875 \r\nQ 21.96875 7.515625 27.59375 7.515625 \r\nL 36.8125 7.515625 \r\nL 36.8125 0 \r\nL 27.59375 0 \r\nQ 17.1875 0 13.234375 3.875 \r\nQ 9.28125 7.765625 9.28125 18.015625 \r\nL 9.28125 47.703125 \r\nL 2.6875 47.703125 \r\nL 2.6875 54.6875 \r\nL 9.28125 54.6875 \r\nL 9.28125 70.21875 \r\nz\r\n\" id=\"DejaVuSans-116\"/>\r\n      </defs>\r\n      <g transform=\"translate(210.497451 239.238438)scale(0.1 -0.1)\">\r\n       <use xlink:href=\"#DejaVuSans-79\"/>\r\n       <use x=\"78.710938\" xlink:href=\"#DejaVuSans-99\"/>\r\n       <use x=\"133.691406\" xlink:href=\"#DejaVuSans-116\"/>\r\n      </g>\r\n     </g>\r\n    </g>\r\n    <g id=\"xtick_5\">\r\n     <g id=\"line2d_5\">\r\n      <g>\r\n       <use style=\"stroke:#000000;stroke-width:0.8;\" x=\"280.869417\" xlink:href=\"#md666011169\" y=\"224.64\"/>\r\n      </g>\r\n     </g>\r\n     <g id=\"text_5\">\r\n      <!-- Jan -->\r\n      <g transform=\"translate(273.161604 239.238438)scale(0.1 -0.1)\">\r\n       <use xlink:href=\"#DejaVuSans-74\"/>\r\n       <use x=\"29.492188\" xlink:href=\"#DejaVuSans-97\"/>\r\n       <use x=\"90.771484\" xlink:href=\"#DejaVuSans-110\"/>\r\n      </g>\r\n      <!-- 2017 -->\r\n      <defs>\r\n       <path d=\"M 8.203125 72.90625 \r\nL 55.078125 72.90625 \r\nL 55.078125 68.703125 \r\nL 28.609375 0 \r\nL 18.3125 0 \r\nL 43.21875 64.59375 \r\nL 8.203125 64.59375 \r\nz\r\n\" id=\"DejaVuSans-55\"/>\r\n      </defs>\r\n      <g transform=\"translate(268.144417 250.43625)scale(0.1 -0.1)\">\r\n       <use xlink:href=\"#DejaVuSans-50\"/>\r\n       <use x=\"63.623047\" xlink:href=\"#DejaVuSans-48\"/>\r\n       <use x=\"127.246094\" xlink:href=\"#DejaVuSans-49\"/>\r\n       <use x=\"190.869141\" xlink:href=\"#DejaVuSans-55\"/>\r\n      </g>\r\n     </g>\r\n    </g>\r\n    <g id=\"xtick_6\">\r\n     <g id=\"line2d_6\">\r\n      <g>\r\n       <use style=\"stroke:#000000;stroke-width:0.8;\" x=\"341.254186\" xlink:href=\"#md666011169\" y=\"224.64\"/>\r\n      </g>\r\n     </g>\r\n     <g id=\"text_6\">\r\n      <!-- Apr -->\r\n      <g transform=\"translate(332.604186 239.238438)scale(0.1 -0.1)\">\r\n       <use xlink:href=\"#DejaVuSans-65\"/>\r\n       <use x=\"68.408203\" xlink:href=\"#DejaVuSans-112\"/>\r\n       <use x=\"131.884766\" xlink:href=\"#DejaVuSans-114\"/>\r\n      </g>\r\n     </g>\r\n    </g>\r\n    <g id=\"xtick_7\">\r\n     <g id=\"line2d_7\">\r\n      <g>\r\n       <use style=\"stroke:#000000;stroke-width:0.8;\" x=\"370.104687\" xlink:href=\"#md666011169\" y=\"224.64\"/>\r\n      </g>\r\n     </g>\r\n    </g>\r\n    <g id=\"xtick_8\">\r\n     <g id=\"line2d_8\">\r\n      <defs>\r\n       <path d=\"M 0 0 \r\nL 0 2 \r\n\" id=\"m22146702a1\" style=\"stroke:#000000;stroke-width:0.6;\"/>\r\n      </defs>\r\n      <g>\r\n       <use style=\"stroke:#000000;stroke-width:0.6;\" x=\"56.103886\" xlink:href=\"#m22146702a1\" y=\"224.64\"/>\r\n      </g>\r\n     </g>\r\n    </g>\r\n    <g id=\"xtick_9\">\r\n     <g id=\"line2d_9\">\r\n      <g>\r\n       <use style=\"stroke:#000000;stroke-width:0.6;\" x=\"75.561201\" xlink:href=\"#m22146702a1\" y=\"224.64\"/>\r\n      </g>\r\n     </g>\r\n    </g>\r\n    <g id=\"xtick_10\">\r\n     <g id=\"line2d_10\">\r\n      <g>\r\n       <use style=\"stroke:#000000;stroke-width:0.6;\" x=\"116.488655\" xlink:href=\"#m22146702a1\" y=\"224.64\"/>\r\n      </g>\r\n     </g>\r\n    </g>\r\n    <g id=\"xtick_11\">\r\n     <g id=\"line2d_11\">\r\n      <g>\r\n       <use style=\"stroke:#000000;stroke-width:0.6;\" x=\"137.287854\" xlink:href=\"#m22146702a1\" y=\"224.64\"/>\r\n      </g>\r\n     </g>\r\n    </g>\r\n    <g id=\"xtick_12\">\r\n     <g id=\"line2d_12\">\r\n      <g>\r\n       <use style=\"stroke:#000000;stroke-width:0.6;\" x=\"178.215309\" xlink:href=\"#m22146702a1\" y=\"224.64\"/>\r\n      </g>\r\n     </g>\r\n    </g>\r\n    <g id=\"xtick_13\">\r\n     <g id=\"line2d_13\">\r\n      <g>\r\n       <use style=\"stroke:#000000;stroke-width:0.6;\" x=\"199.014507\" xlink:href=\"#m22146702a1\" y=\"224.64\"/>\r\n      </g>\r\n     </g>\r\n    </g>\r\n    <g id=\"xtick_14\">\r\n     <g id=\"line2d_14\">\r\n      <g>\r\n       <use style=\"stroke:#000000;stroke-width:0.6;\" x=\"239.941962\" xlink:href=\"#m22146702a1\" y=\"224.64\"/>\r\n      </g>\r\n     </g>\r\n    </g>\r\n    <g id=\"xtick_15\">\r\n     <g id=\"line2d_15\">\r\n      <g>\r\n       <use style=\"stroke:#000000;stroke-width:0.6;\" x=\"260.070219\" xlink:href=\"#m22146702a1\" y=\"224.64\"/>\r\n      </g>\r\n     </g>\r\n    </g>\r\n    <g id=\"xtick_16\">\r\n     <g id=\"line2d_16\">\r\n      <g>\r\n       <use style=\"stroke:#000000;stroke-width:0.6;\" x=\"301.668615\" xlink:href=\"#m22146702a1\" y=\"224.64\"/>\r\n      </g>\r\n     </g>\r\n    </g>\r\n    <g id=\"xtick_17\">\r\n     <g id=\"line2d_17\">\r\n      <g>\r\n       <use style=\"stroke:#000000;stroke-width:0.6;\" x=\"320.454988\" xlink:href=\"#m22146702a1\" y=\"224.64\"/>\r\n      </g>\r\n     </g>\r\n    </g>\r\n    <g id=\"xtick_18\">\r\n     <g id=\"line2d_18\">\r\n      <g>\r\n       <use style=\"stroke:#000000;stroke-width:0.6;\" x=\"361.382443\" xlink:href=\"#m22146702a1\" y=\"224.64\"/>\r\n      </g>\r\n     </g>\r\n    </g>\r\n   </g>\r\n   <g id=\"matplotlib.axis_2\">\r\n    <g id=\"ytick_1\">\r\n     <g id=\"line2d_19\">\r\n      <defs>\r\n       <path d=\"M 0 0 \r\nL -3.5 0 \r\n\" id=\"m88e52dadca\" style=\"stroke:#000000;stroke-width:0.8;\"/>\r\n      </defs>\r\n      <g>\r\n       <use style=\"stroke:#000000;stroke-width:0.8;\" x=\"35.304688\" xlink:href=\"#m88e52dadca\" y=\"211.005064\"/>\r\n      </g>\r\n     </g>\r\n     <g id=\"text_7\">\r\n      <!-- −50 -->\r\n      <defs>\r\n       <path d=\"M 10.59375 35.5 \r\nL 73.1875 35.5 \r\nL 73.1875 27.203125 \r\nL 10.59375 27.203125 \r\nz\r\n\" id=\"DejaVuSans-8722\"/>\r\n       <path d=\"M 10.796875 72.90625 \r\nL 49.515625 72.90625 \r\nL 49.515625 64.59375 \r\nL 19.828125 64.59375 \r\nL 19.828125 46.734375 \r\nQ 21.96875 47.46875 24.109375 47.828125 \r\nQ 26.265625 48.1875 28.421875 48.1875 \r\nQ 40.625 48.1875 47.75 41.5 \r\nQ 54.890625 34.8125 54.890625 23.390625 \r\nQ 54.890625 11.625 47.5625 5.09375 \r\nQ 40.234375 -1.421875 26.90625 -1.421875 \r\nQ 22.3125 -1.421875 17.546875 -0.640625 \r\nQ 12.796875 0.140625 7.71875 1.703125 \r\nL 7.71875 11.625 \r\nQ 12.109375 9.234375 16.796875 8.0625 \r\nQ 21.484375 6.890625 26.703125 6.890625 \r\nQ 35.15625 6.890625 40.078125 11.328125 \r\nQ 45.015625 15.765625 45.015625 23.390625 \r\nQ 45.015625 31 40.078125 35.4375 \r\nQ 35.15625 39.890625 26.703125 39.890625 \r\nQ 22.75 39.890625 18.8125 39.015625 \r\nQ 14.890625 38.140625 10.796875 36.28125 \r\nz\r\n\" id=\"DejaVuSans-53\"/>\r\n      </defs>\r\n      <g transform=\"translate(7.2 214.804283)scale(0.1 -0.1)\">\r\n       <use xlink:href=\"#DejaVuSans-8722\"/>\r\n       <use x=\"83.789062\" xlink:href=\"#DejaVuSans-53\"/>\r\n       <use x=\"147.412109\" xlink:href=\"#DejaVuSans-48\"/>\r\n      </g>\r\n     </g>\r\n    </g>\r\n    <g id=\"ytick_2\">\r\n     <g id=\"line2d_20\">\r\n      <g>\r\n       <use style=\"stroke:#000000;stroke-width:0.8;\" x=\"35.304688\" xlink:href=\"#m88e52dadca\" y=\"173.177662\"/>\r\n      </g>\r\n     </g>\r\n     <g id=\"text_8\">\r\n      <!-- −40 -->\r\n      <defs>\r\n       <path d=\"M 37.796875 64.3125 \r\nL 12.890625 25.390625 \r\nL 37.796875 25.390625 \r\nz\r\nM 35.203125 72.90625 \r\nL 47.609375 72.90625 \r\nL 47.609375 25.390625 \r\nL 58.015625 25.390625 \r\nL 58.015625 17.1875 \r\nL 47.609375 17.1875 \r\nL 47.609375 0 \r\nL 37.796875 0 \r\nL 37.796875 17.1875 \r\nL 4.890625 17.1875 \r\nL 4.890625 26.703125 \r\nz\r\n\" id=\"DejaVuSans-52\"/>\r\n      </defs>\r\n      <g transform=\"translate(7.2 176.97688)scale(0.1 -0.1)\">\r\n       <use xlink:href=\"#DejaVuSans-8722\"/>\r\n       <use x=\"83.789062\" xlink:href=\"#DejaVuSans-52\"/>\r\n       <use x=\"147.412109\" xlink:href=\"#DejaVuSans-48\"/>\r\n      </g>\r\n     </g>\r\n    </g>\r\n    <g id=\"ytick_3\">\r\n     <g id=\"line2d_21\">\r\n      <g>\r\n       <use style=\"stroke:#000000;stroke-width:0.8;\" x=\"35.304688\" xlink:href=\"#m88e52dadca\" y=\"135.350259\"/>\r\n      </g>\r\n     </g>\r\n     <g id=\"text_9\">\r\n      <!-- −30 -->\r\n      <defs>\r\n       <path d=\"M 40.578125 39.3125 \r\nQ 47.65625 37.796875 51.625 33 \r\nQ 55.609375 28.21875 55.609375 21.1875 \r\nQ 55.609375 10.40625 48.1875 4.484375 \r\nQ 40.765625 -1.421875 27.09375 -1.421875 \r\nQ 22.515625 -1.421875 17.65625 -0.515625 \r\nQ 12.796875 0.390625 7.625 2.203125 \r\nL 7.625 11.71875 \r\nQ 11.71875 9.328125 16.59375 8.109375 \r\nQ 21.484375 6.890625 26.8125 6.890625 \r\nQ 36.078125 6.890625 40.9375 10.546875 \r\nQ 45.796875 14.203125 45.796875 21.1875 \r\nQ 45.796875 27.640625 41.28125 31.265625 \r\nQ 36.765625 34.90625 28.71875 34.90625 \r\nL 20.21875 34.90625 \r\nL 20.21875 43.015625 \r\nL 29.109375 43.015625 \r\nQ 36.375 43.015625 40.234375 45.921875 \r\nQ 44.09375 48.828125 44.09375 54.296875 \r\nQ 44.09375 59.90625 40.109375 62.90625 \r\nQ 36.140625 65.921875 28.71875 65.921875 \r\nQ 24.65625 65.921875 20.015625 65.03125 \r\nQ 15.375 64.15625 9.8125 62.3125 \r\nL 9.8125 71.09375 \r\nQ 15.4375 72.65625 20.34375 73.4375 \r\nQ 25.25 74.21875 29.59375 74.21875 \r\nQ 40.828125 74.21875 47.359375 69.109375 \r\nQ 53.90625 64.015625 53.90625 55.328125 \r\nQ 53.90625 49.265625 50.4375 45.09375 \r\nQ 46.96875 40.921875 40.578125 39.3125 \r\nz\r\n\" id=\"DejaVuSans-51\"/>\r\n      </defs>\r\n      <g transform=\"translate(7.2 139.149478)scale(0.1 -0.1)\">\r\n       <use xlink:href=\"#DejaVuSans-8722\"/>\r\n       <use x=\"83.789062\" xlink:href=\"#DejaVuSans-51\"/>\r\n       <use x=\"147.412109\" xlink:href=\"#DejaVuSans-48\"/>\r\n      </g>\r\n     </g>\r\n    </g>\r\n    <g id=\"ytick_4\">\r\n     <g id=\"line2d_22\">\r\n      <g>\r\n       <use style=\"stroke:#000000;stroke-width:0.8;\" x=\"35.304688\" xlink:href=\"#m88e52dadca\" y=\"97.522857\"/>\r\n      </g>\r\n     </g>\r\n     <g id=\"text_10\">\r\n      <!-- −20 -->\r\n      <g transform=\"translate(7.2 101.322076)scale(0.1 -0.1)\">\r\n       <use xlink:href=\"#DejaVuSans-8722\"/>\r\n       <use x=\"83.789062\" xlink:href=\"#DejaVuSans-50\"/>\r\n       <use x=\"147.412109\" xlink:href=\"#DejaVuSans-48\"/>\r\n      </g>\r\n     </g>\r\n    </g>\r\n    <g id=\"ytick_5\">\r\n     <g id=\"line2d_23\">\r\n      <g>\r\n       <use style=\"stroke:#000000;stroke-width:0.8;\" x=\"35.304688\" xlink:href=\"#m88e52dadca\" y=\"59.695455\"/>\r\n      </g>\r\n     </g>\r\n     <g id=\"text_11\">\r\n      <!-- −10 -->\r\n      <g transform=\"translate(7.2 63.494673)scale(0.1 -0.1)\">\r\n       <use xlink:href=\"#DejaVuSans-8722\"/>\r\n       <use x=\"83.789062\" xlink:href=\"#DejaVuSans-49\"/>\r\n       <use x=\"147.412109\" xlink:href=\"#DejaVuSans-48\"/>\r\n      </g>\r\n     </g>\r\n    </g>\r\n    <g id=\"ytick_6\">\r\n     <g id=\"line2d_24\">\r\n      <g>\r\n       <use style=\"stroke:#000000;stroke-width:0.8;\" x=\"35.304688\" xlink:href=\"#m88e52dadca\" y=\"21.868052\"/>\r\n      </g>\r\n     </g>\r\n     <g id=\"text_12\">\r\n      <!-- 0 -->\r\n      <g transform=\"translate(21.942188 25.667271)scale(0.1 -0.1)\">\r\n       <use xlink:href=\"#DejaVuSans-48\"/>\r\n      </g>\r\n     </g>\r\n    </g>\r\n   </g>\r\n   <g id=\"line2d_25\">\r\n    <path clip-path=\"url(#p44e45e5f46)\" d=\"M 35.304688 27.77524 \r\nL 35.975629 28.814202 \r\nL 36.646571 30.494586 \r\nL 37.317513 28.084133 \r\nL 37.988455 29.763128 \r\nL 38.659397 28.895265 \r\nL 39.330339 23.959209 \r\nL 40.001281 28.27459 \r\nL 40.672223 28.451558 \r\nL 41.343164 33.904775 \r\nL 42.014106 34.923102 \r\nL 42.685048 37.1698 \r\nL 43.35599 36.649414 \r\nL 44.026932 33.792764 \r\nL 44.697874 31.871011 \r\nL 45.368816 30.948386 \r\nL 46.039758 31.446004 \r\nL 46.7107 29.189043 \r\nL 47.381641 25.027416 \r\nL 48.052583 21.945728 \r\nL 49.394467 28.206187 \r\nL 50.065409 34.534384 \r\nL 50.736351 28.513933 \r\nL 51.407293 20.01737 \r\nL 52.078235 17.083636 \r\nL 52.749176 19.798104 \r\nL 53.420118 23.186292 \r\nL 54.09106 25.326111 \r\nL 54.762002 22.730781 \r\nL 55.432944 25.674733 \r\nL 56.103886 26.9594 \r\nL 56.774828 25.863662 \r\nL 57.44577 25.196288 \r\nL 58.116712 22.560318 \r\nL 58.787653 18.63499 \r\nL 59.458595 17.259871 \r\nL 60.129537 18.616558 \r\nL 60.800479 21.119537 \r\nL 61.471421 21.177631 \r\nL 62.142363 17.249041 \r\nL 62.813305 22.68962 \r\nL 63.484247 29.401687 \r\nL 64.155189 28.588369 \r\nL 64.82613 36.345903 \r\nL 65.497072 33.601212 \r\nL 66.168014 44.683584 \r\nL 66.838956 40.454755 \r\nL 67.509898 39.556028 \r\nL 68.18084 42.220889 \r\nL 68.851782 39.909041 \r\nL 69.522724 44.545736 \r\nL 70.193665 44.209449 \r\nL 70.864607 50.523278 \r\nL 71.535549 53.218987 \r\nL 72.206491 50.909054 \r\nL 72.877433 60.074241 \r\nL 73.548375 62.585582 \r\nL 74.219317 64.475646 \r\nL 74.890259 55.83946 \r\nL 75.561201 57.399584 \r\nL 76.232142 56.456798 \r\nL 76.903084 58.629629 \r\nL 77.574026 60.374383 \r\nL 78.244968 61.637852 \r\nL 78.91591 62.541471 \r\nL 79.586852 66.33174 \r\nL 80.257794 71.072401 \r\nL 80.928736 74.825886 \r\nL 81.599677 74.754607 \r\nL 82.270619 75.574364 \r\nL 82.941561 75.884652 \r\nL 83.612503 75.914022 \r\nL 84.283445 79.156335 \r\nL 84.954387 78.05659 \r\nL 85.625329 71.638653 \r\nL 86.296271 72.468576 \r\nL 86.967213 71.991767 \r\nL 87.638154 76.943474 \r\nL 88.309096 71.492642 \r\nL 88.980038 72.659648 \r\nL 89.65098 70.893055 \r\nL 90.321922 73.306965 \r\nL 90.992864 76.203776 \r\nL 91.663806 75.18547 \r\nL 92.334748 72.904682 \r\nL 93.00569 74.230934 \r\nL 93.676631 74.574544 \r\nL 94.347573 76.107293 \r\nL 95.018515 79.296599 \r\nL 95.689457 86.968319 \r\nL 96.360399 86.69428 \r\nL 97.702283 98.267999 \r\nL 98.373225 94.826171 \r\nL 99.044166 96.413291 \r\nL 99.715108 100.898352 \r\nL 100.38605 103.262584 \r\nL 101.056992 102.993098 \r\nL 101.727934 103.075874 \r\nL 102.398876 98.445592 \r\nL 103.069818 99.256628 \r\nL 103.74076 99.292702 \r\nL 104.411702 96.882283 \r\nL 105.082643 100.316455 \r\nL 106.424527 90.150668 \r\nL 107.095469 88.198293 \r\nL 107.766411 91.525706 \r\nL 108.437353 90.486279 \r\nL 109.108295 94.019261 \r\nL 109.779237 95.680366 \r\nL 110.450178 93.894065 \r\nL 111.12112 90.988384 \r\nL 111.792062 87.185598 \r\nL 112.463004 82.508626 \r\nL 113.133946 79.334168 \r\nL 113.804888 78.619488 \r\nL 114.47583 74.969379 \r\nL 115.146772 78.531519 \r\nL 115.817714 78.284145 \r\nL 116.488655 83.209365 \r\nL 117.159597 80.316544 \r\nL 118.501481 86.839494 \r\nL 119.172423 94.948726 \r\nL 119.843365 92.05668 \r\nL 120.514307 85.882393 \r\nL 121.185249 86.158963 \r\nL 122.527132 97.585453 \r\nL 123.869016 93.10754 \r\nL 124.539958 92.837951 \r\nL 125.2109 92.17864 \r\nL 125.881842 97.343678 \r\nL 126.552784 101.101711 \r\nL 127.223726 106.593286 \r\nL 128.565609 111.484456 \r\nL 129.236551 112.304419 \r\nL 129.907493 112.374816 \r\nL 130.578435 114.383012 \r\nL 131.249377 112.644994 \r\nL 131.920319 117.421756 \r\nL 132.591261 110.101384 \r\nL 133.262203 111.435133 \r\nL 133.933144 111.841399 \r\nL 134.604086 107.978678 \r\nL 135.275028 117.373082 \r\nL 135.94597 122.081101 \r\nL 136.616912 122.017192 \r\nL 137.287854 119.765588 \r\nL 137.958796 124.913859 \r\nL 138.629738 126.431745 \r\nL 139.300679 128.563626 \r\nL 140.642563 135.99078 \r\nL 141.313505 137.453282 \r\nL 141.984447 139.313815 \r\nL 142.655389 137.9836 \r\nL 143.326331 141.899571 \r\nL 143.997273 144.391983 \r\nL 144.668215 142.028913 \r\nL 145.339156 141.625996 \r\nL 146.010098 137.178061 \r\nL 146.68104 145.682986 \r\nL 147.351982 139.302403 \r\nL 148.022924 144.657409 \r\nL 148.693866 147.642033 \r\nL 149.364808 151.931645 \r\nL 150.03575 154.559671 \r\nL 151.377633 146.874121 \r\nL 152.048575 141.372171 \r\nL 152.719517 141.89591 \r\nL 153.390459 145.907527 \r\nL 154.061401 144.422893 \r\nL 154.732343 139.479178 \r\nL 155.403285 135.653445 \r\nL 156.745168 141.160678 \r\nL 157.41611 139.054779 \r\nL 158.087052 143.817342 \r\nL 158.757994 147.75723 \r\nL 159.428936 149.170521 \r\nL 160.099878 152.408451 \r\nL 160.77082 153.788083 \r\nL 161.441762 156.945939 \r\nL 162.112704 154.655745 \r\nL 162.783645 156.389508 \r\nL 164.125529 147.283419 \r\nL 165.467413 145.006206 \r\nL 166.138355 152.610403 \r\nL 166.809297 157.1469 \r\nL 167.480239 151.682776 \r\nL 168.15118 154.5566 \r\nL 168.822122 159.177915 \r\nL 169.493064 160.995608 \r\nL 170.164006 160.933897 \r\nL 170.834948 161.422078 \r\nL 171.50589 158.012374 \r\nL 172.176832 162.556324 \r\nL 172.847774 165.353511 \r\nL 173.518716 163.209885 \r\nL 174.860599 157.375131 \r\nL 175.531541 157.100548 \r\nL 176.202483 154.189689 \r\nL 176.873425 160.505034 \r\nL 177.544367 155.830293 \r\nL 178.886251 159.870172 \r\nL 179.557193 159.192723 \r\nL 180.228134 162.723569 \r\nL 180.899076 163.015856 \r\nL 182.24096 152.849408 \r\nL 182.911902 154.600543 \r\nL 183.582844 154.78488 \r\nL 184.253786 151.728136 \r\nL 184.924728 152.685077 \r\nL 185.595669 149.073281 \r\nL 186.266611 141.249807 \r\nL 186.937553 138.319468 \r\nL 187.608495 139.884438 \r\nL 188.279437 143.698653 \r\nL 188.950379 142.429509 \r\nL 189.621321 143.577631 \r\nL 190.292263 139.33268 \r\nL 190.963205 141.371663 \r\nL 191.634146 138.625095 \r\nL 192.305088 137.290433 \r\nL 192.97603 138.206334 \r\nL 193.646972 144.36577 \r\nL 194.317914 146.859065 \r\nL 194.988856 151.348719 \r\nL 195.659798 150.378661 \r\nL 196.33074 152.233944 \r\nL 197.001681 152.215887 \r\nL 197.672623 154.590054 \r\nL 198.343565 156.51207 \r\nL 199.014507 148.9334 \r\nL 199.685449 147.799712 \r\nL 200.356391 145.932406 \r\nL 201.027333 144.688257 \r\nL 201.698275 137.938231 \r\nL 202.369217 136.333214 \r\nL 203.040158 129.61036 \r\nL 203.7111 129.869582 \r\nL 204.382042 127.560416 \r\nL 205.052984 118.961027 \r\nL 205.723926 127.939448 \r\nL 206.394868 129.176226 \r\nL 207.06581 125.05313 \r\nL 207.736752 124.303944 \r\nL 208.407694 120.274315 \r\nL 209.078635 121.618439 \r\nL 209.749577 123.843547 \r\nL 210.420519 122.630215 \r\nL 211.091461 119.2849 \r\nL 211.762403 123.462977 \r\nL 212.433345 126.689103 \r\nL 213.104287 122.816851 \r\nL 213.775229 124.995129 \r\nL 214.44617 126.771515 \r\nL 215.788054 131.144648 \r\nL 216.458996 134.424162 \r\nL 217.129938 131.888125 \r\nL 217.80088 134.620609 \r\nL 218.471822 132.473539 \r\nL 219.142764 132.95745 \r\nL 220.484647 129.037165 \r\nL 221.155589 127.308281 \r\nL 221.826531 129.072667 \r\nL 222.497473 131.797713 \r\nL 223.168415 138.728446 \r\nL 223.839357 144.182895 \r\nL 224.510299 147.966159 \r\nL 225.181241 148.120112 \r\nL 225.852182 146.5592 \r\nL 226.523124 146.171549 \r\nL 227.865008 138.918289 \r\nL 228.53595 141.122695 \r\nL 229.206892 134.341328 \r\nL 229.877834 130.495331 \r\nL 230.548776 124.058162 \r\nL 231.219718 125.699539 \r\nL 231.890659 124.737972 \r\nL 232.561601 119.970368 \r\nL 233.232543 125.845211 \r\nL 233.903485 123.26964 \r\nL 234.574427 125.633835 \r\nL 235.245369 122.841956 \r\nL 235.916311 125.840069 \r\nL 237.258195 125.88956 \r\nL 237.929136 127.857818 \r\nL 238.600078 127.848061 \r\nL 239.27102 130.641326 \r\nL 239.941962 127.020158 \r\nL 240.612904 126.420992 \r\nL 241.954788 132.355322 \r\nL 242.62573 140.933928 \r\nL 243.296671 143.336394 \r\nL 243.967613 140.403361 \r\nL 244.638555 140.792311 \r\nL 245.309497 147.257038 \r\nL 245.980439 146.142126 \r\nL 246.651381 146.378803 \r\nL 247.322323 151.714088 \r\nL 247.993265 149.252982 \r\nL 248.664207 155.940655 \r\nL 249.335148 160.240056 \r\nL 250.00609 166.717105 \r\nL 250.677032 164.157271 \r\nL 251.347974 168.775402 \r\nL 252.018916 171.175663 \r\nL 252.689858 166.975809 \r\nL 253.3608 170.358613 \r\nL 254.031742 168.500644 \r\nL 254.702683 172.608683 \r\nL 255.373625 169.697628 \r\nL 256.044567 175.166567 \r\nL 256.715509 176.065923 \r\nL 257.386451 177.621125 \r\nL 258.057393 174.445295 \r\nL 258.728335 167.837403 \r\nL 259.399277 166.71278 \r\nL 260.070219 177.422477 \r\nL 260.74116 183.595724 \r\nL 261.412102 183.293598 \r\nL 262.083044 183.479626 \r\nL 262.753986 180.865546 \r\nL 263.424928 184.441936 \r\nL 264.09587 185.106117 \r\nL 264.766812 184.762678 \r\nL 265.437754 190.375547 \r\nL 266.108696 188.132578 \r\nL 266.779637 177.620331 \r\nL 267.450579 184.102675 \r\nL 268.121521 188.260634 \r\nL 268.792463 189.111901 \r\nL 269.463405 192.005394 \r\nL 270.134347 192.287221 \r\nL 270.805289 191.284728 \r\nL 271.476231 192.982778 \r\nL 272.147172 190.397596 \r\nL 272.818114 193.943345 \r\nL 273.489056 191.964873 \r\nL 274.159998 187.873723 \r\nL 274.83094 190.786388 \r\nL 275.501882 191.949425 \r\nL 276.172824 184.779203 \r\nL 276.843766 192.167852 \r\nL 277.514708 205.373837 \r\nL 278.185649 206.794503 \r\nL 278.856591 209.831583 \r\nL 279.527533 208.299122 \r\nL 280.198475 210.285059 \r\nL 280.869417 214.756364 \r\nL 282.211301 204.93731 \r\nL 282.882243 198.017444 \r\nL 283.553184 193.117268 \r\nL 284.224126 194.433094 \r\nL 284.895068 188.995152 \r\nL 285.56601 187.434521 \r\nL 286.236952 182.552216 \r\nL 286.907894 180.798471 \r\nL 287.578836 179.474914 \r\nL 288.249778 178.448556 \r\nL 288.92072 183.156326 \r\nL 289.591661 178.425625 \r\nL 290.262603 179.522275 \r\nL 290.933545 183.821031 \r\nL 291.604487 183.951353 \r\nL 292.275429 183.872283 \r\nL 292.946371 189.516181 \r\nL 293.617313 184.935307 \r\nL 294.288255 189.02345 \r\nL 294.959197 188.891806 \r\nL 295.630138 180.219687 \r\nL 296.30108 179.772702 \r\nL 296.972022 176.606028 \r\nL 297.642964 176.843422 \r\nL 298.313906 176.238067 \r\nL 298.984848 175.475701 \r\nL 299.65579 180.53438 \r\nL 300.326732 179.258849 \r\nL 300.997673 173.036399 \r\nL 301.668615 179.925393 \r\nL 302.339557 169.222325 \r\nL 303.681441 174.24316 \r\nL 304.352383 178.598865 \r\nL 305.023325 177.220753 \r\nL 305.694267 180.5669 \r\nL 306.365209 177.607487 \r\nL 307.03615 175.351431 \r\nL 307.707092 176.194865 \r\nL 308.378034 169.835102 \r\nL 309.048976 177.706031 \r\nL 309.719918 183.85066 \r\nL 310.39086 185.546987 \r\nL 311.061802 184.633292 \r\nL 311.732744 181.74428 \r\nL 312.403685 177.874821 \r\nL 313.074627 180.927009 \r\nL 313.745569 185.981059 \r\nL 314.416511 182.769375 \r\nL 315.758395 170.477407 \r\nL 316.429337 175.514321 \r\nL 317.100279 171.452035 \r\nL 318.442162 172.873712 \r\nL 319.113104 171.264257 \r\nL 319.784046 180.287678 \r\nL 321.12593 189.961109 \r\nL 321.796872 186.756973 \r\nL 322.467814 182.977027 \r\nL 323.138756 181.53163 \r\nL 323.809698 178.220052 \r\nL 324.480639 176.650841 \r\nL 325.151581 170.190477 \r\nL 325.822523 170.899652 \r\nL 326.493465 173.787402 \r\nL 327.164407 177.792573 \r\nL 327.835349 177.149369 \r\nL 328.506291 178.060383 \r\nL 329.177233 180.776238 \r\nL 329.848174 170.750119 \r\nL 330.519116 181.136561 \r\nL 331.190058 179.713705 \r\nL 332.531942 175.019103 \r\nL 333.202884 171.447364 \r\nL 333.873826 172.953231 \r\nL 334.544768 169.506626 \r\nL 335.21571 166.740882 \r\nL 335.886651 167.455498 \r\nL 336.557593 166.95762 \r\nL 337.228535 164.267506 \r\nL 337.899477 167.37736 \r\nL 338.570419 167.13819 \r\nL 339.241361 171.885016 \r\nL 339.912303 173.165549 \r\nL 340.583245 171.980661 \r\nL 341.254186 174.63722 \r\nL 341.925128 175.844646 \r\nL 342.59607 174.741734 \r\nL 343.267012 175.073819 \r\nL 343.937954 171.485781 \r\nL 344.608896 171.403854 \r\nL 345.279838 167.685894 \r\nL 345.95078 165.692837 \r\nL 346.621722 167.916952 \r\nL 347.292663 164.468442 \r\nL 347.963605 164.574318 \r\nL 349.305489 162.445224 \r\nL 349.976431 158.024895 \r\nL 350.647373 149.919328 \r\nL 351.318315 153.452772 \r\nL 351.989257 151.195662 \r\nL 352.660199 153.463373 \r\nL 353.33114 146.797957 \r\nL 354.002082 147.273568 \r\nL 354.673024 146.014992 \r\nL 355.343966 146.963413 \r\nL 356.014908 145.21721 \r\nL 356.68585 147.222974 \r\nL 357.356792 146.913021 \r\nL 358.027734 142.807742 \r\nL 358.698675 145.749545 \r\nL 359.369617 140.294141 \r\nL 360.040559 146.961141 \r\nL 360.711501 150.081564 \r\nL 361.382443 150.025474 \r\nL 362.053385 149.068381 \r\nL 362.724327 144.602136 \r\nL 363.395269 146.989986 \r\nL 364.066211 144.817477 \r\nL 364.737152 151.363883 \r\nL 365.408094 153.680748 \r\nL 366.079036 157.164967 \r\nL 366.749978 162.123134 \r\nL 367.42092 165.065053 \r\nL 368.091862 165.808508 \r\nL 368.762804 164.23092 \r\nL 369.433746 169.474618 \r\nL 370.104687 167.75161 \r\nL 370.104687 167.75161 \r\n\" style=\"fill:none;stroke:#1f77b4;stroke-linecap:square;stroke-width:1.5;\"/>\r\n   </g>\r\n   <g id=\"patch_3\">\r\n    <path d=\"M 35.304688 224.64 \r\nL 35.304688 7.2 \r\n\" style=\"fill:none;stroke:#000000;stroke-linecap:square;stroke-linejoin:miter;stroke-width:0.8;\"/>\r\n   </g>\r\n   <g id=\"patch_4\">\r\n    <path d=\"M 370.104688 224.64 \r\nL 370.104688 7.2 \r\n\" style=\"fill:none;stroke:#000000;stroke-linecap:square;stroke-linejoin:miter;stroke-width:0.8;\"/>\r\n   </g>\r\n   <g id=\"patch_5\">\r\n    <path d=\"M 35.304688 224.64 \r\nL 370.104687 224.64 \r\n\" style=\"fill:none;stroke:#000000;stroke-linecap:square;stroke-linejoin:miter;stroke-width:0.8;\"/>\r\n   </g>\r\n   <g id=\"patch_6\">\r\n    <path d=\"M 35.304688 7.2 \r\nL 370.104687 7.2 \r\n\" style=\"fill:none;stroke:#000000;stroke-linecap:square;stroke-linejoin:miter;stroke-width:0.8;\"/>\r\n   </g>\r\n  </g>\r\n </g>\r\n <defs>\r\n  <clipPath id=\"p44e45e5f46\">\r\n   <rect height=\"217.44\" width=\"334.8\" x=\"35.304688\" y=\"7.2\"/>\r\n  </clipPath>\r\n </defs>\r\n</svg>\r\n",
      "text/plain": "<Figure size 432x288 with 1 Axes>"
     },
     "metadata": {
      "needs_background": "light"
     },
     "output_type": "display_data"
    }
   ],
   "source": [
    "# Time Series Plot\n",
    "ts = pd.Series(np.random.randn(500), index=pd.date_range('1/1/2016', periods=500))\n",
    "ts = ts.cumsum()\n",
    "ts.plot()"
   ]
  },
  {
   "cell_type": "code",
   "execution_count": 223,
   "metadata": {},
   "outputs": [
    {
     "data": {
      "text/plain": "<matplotlib.legend.Legend at 0xd51ba10>"
     },
     "execution_count": 223,
     "metadata": {},
     "output_type": "execute_result"
    },
    {
     "data": {
      "text/plain": "<Figure size 432x288 with 0 Axes>"
     },
     "metadata": {},
     "output_type": "display_data"
    },
    {
     "data": {
      "image/png": "[encoded data removed]",
      "image/svg+xml": "<?xml version=\"1.0\" encoding=\"utf-8\" standalone=\"no\"?>\r\n<!DOCTYPE svg PUBLIC \"-//W3C//DTD SVG 1.1//EN\"\r\n  \"http://www.w3.org/Graphics/SVG/1.1/DTD/svg11.dtd\">\r\n<!-- Created with matplotlib (https://matplotlib.org/) -->\r\n<svg height=\"259.715937pt\" version=\"1.1\" viewBox=\"0 0 377.304687 259.715937\" width=\"377.304687pt\" xmlns=\"http://www.w3.org/2000/svg\" xmlns:xlink=\"http://www.w3.org/1999/xlink\">\r\n <defs>\r\n  <style type=\"text/css\">\r\n*{stroke-linecap:butt;stroke-linejoin:round;}\r\n  </style>\r\n </defs>\r\n <g id=\"figure_1\">\r\n  <g id=\"patch_1\">\r\n   <path d=\"M 0 259.715937 \r\nL 377.304687 259.715937 \r\nL 377.304687 0 \r\nL 0 0 \r\nz\r\n\" style=\"fill:none;\"/>\r\n  </g>\r\n  <g id=\"axes_1\">\r\n   <g id=\"patch_2\">\r\n    <path d=\"M 35.304688 224.64 \r\nL 370.104688 224.64 \r\nL 370.104688 7.2 \r\nL 35.304688 7.2 \r\nz\r\n\" style=\"fill:#ffffff;\"/>\r\n   </g>\r\n   <g id=\"matplotlib.axis_1\">\r\n    <g id=\"xtick_1\">\r\n     <g id=\"line2d_1\">\r\n      <defs>\r\n       <path d=\"M 0 0 \r\nL 0 3.5 \r\n\" id=\"me52e23dabe\" style=\"stroke:#000000;stroke-width:0.8;\"/>\r\n      </defs>\r\n      <g>\r\n       <use style=\"stroke:#000000;stroke-width:0.8;\" x=\"35.304688\" xlink:href=\"#me52e23dabe\" y=\"224.64\"/>\r\n      </g>\r\n     </g>\r\n     <g id=\"text_1\">\r\n      <!-- Jan -->\r\n      <defs>\r\n       <path d=\"M 9.8125 72.90625 \r\nL 19.671875 72.90625 \r\nL 19.671875 5.078125 \r\nQ 19.671875 -8.109375 14.671875 -14.0625 \r\nQ 9.671875 -20.015625 -1.421875 -20.015625 \r\nL -5.171875 -20.015625 \r\nL -5.171875 -11.71875 \r\nL -2.09375 -11.71875 \r\nQ 4.4375 -11.71875 7.125 -8.046875 \r\nQ 9.8125 -4.390625 9.8125 5.078125 \r\nz\r\n\" id=\"DejaVuSans-74\"/>\r\n       <path d=\"M 34.28125 27.484375 \r\nQ 23.390625 27.484375 19.1875 25 \r\nQ 14.984375 22.515625 14.984375 16.5 \r\nQ 14.984375 11.71875 18.140625 8.90625 \r\nQ 21.296875 6.109375 26.703125 6.109375 \r\nQ 34.1875 6.109375 38.703125 11.40625 \r\nQ 43.21875 16.703125 43.21875 25.484375 \r\nL 43.21875 27.484375 \r\nz\r\nM 52.203125 31.203125 \r\nL 52.203125 0 \r\nL 43.21875 0 \r\nL 43.21875 8.296875 \r\nQ 40.140625 3.328125 35.546875 0.953125 \r\nQ 30.953125 -1.421875 24.3125 -1.421875 \r\nQ 15.921875 -1.421875 10.953125 3.296875 \r\nQ 6 8.015625 6 15.921875 \r\nQ 6 25.140625 12.171875 29.828125 \r\nQ 18.359375 34.515625 30.609375 34.515625 \r\nL 43.21875 34.515625 \r\nL 43.21875 35.40625 \r\nQ 43.21875 41.609375 39.140625 45 \r\nQ 35.0625 48.390625 27.6875 48.390625 \r\nQ 23 48.390625 18.546875 47.265625 \r\nQ 14.109375 46.140625 10.015625 43.890625 \r\nL 10.015625 52.203125 \r\nQ 14.9375 54.109375 19.578125 55.046875 \r\nQ 24.21875 56 28.609375 56 \r\nQ 40.484375 56 46.34375 49.84375 \r\nQ 52.203125 43.703125 52.203125 31.203125 \r\nz\r\n\" id=\"DejaVuSans-97\"/>\r\n       <path d=\"M 54.890625 33.015625 \r\nL 54.890625 0 \r\nL 45.90625 0 \r\nL 45.90625 32.71875 \r\nQ 45.90625 40.484375 42.875 44.328125 \r\nQ 39.84375 48.1875 33.796875 48.1875 \r\nQ 26.515625 48.1875 22.3125 43.546875 \r\nQ 18.109375 38.921875 18.109375 30.90625 \r\nL 18.109375 0 \r\nL 9.078125 0 \r\nL 9.078125 54.6875 \r\nL 18.109375 54.6875 \r\nL 18.109375 46.1875 \r\nQ 21.34375 51.125 25.703125 53.5625 \r\nQ 30.078125 56 35.796875 56 \r\nQ 45.21875 56 50.046875 50.171875 \r\nQ 54.890625 44.34375 54.890625 33.015625 \r\nz\r\n\" id=\"DejaVuSans-110\"/>\r\n      </defs>\r\n      <g transform=\"translate(27.596875 239.238438)scale(0.1 -0.1)\">\r\n       <use xlink:href=\"#DejaVuSans-74\"/>\r\n       <use x=\"29.492188\" xlink:href=\"#DejaVuSans-97\"/>\r\n       <use x=\"90.771484\" xlink:href=\"#DejaVuSans-110\"/>\r\n      </g>\r\n      <!-- 2016 -->\r\n      <defs>\r\n       <path d=\"M 19.1875 8.296875 \r\nL 53.609375 8.296875 \r\nL 53.609375 0 \r\nL 7.328125 0 \r\nL 7.328125 8.296875 \r\nQ 12.9375 14.109375 22.625 23.890625 \r\nQ 32.328125 33.6875 34.8125 36.53125 \r\nQ 39.546875 41.84375 41.421875 45.53125 \r\nQ 43.3125 49.21875 43.3125 52.78125 \r\nQ 43.3125 58.59375 39.234375 62.25 \r\nQ 35.15625 65.921875 28.609375 65.921875 \r\nQ 23.96875 65.921875 18.8125 64.3125 \r\nQ 13.671875 62.703125 7.8125 59.421875 \r\nL 7.8125 69.390625 \r\nQ 13.765625 71.78125 18.9375 73 \r\nQ 24.125 74.21875 28.421875 74.21875 \r\nQ 39.75 74.21875 46.484375 68.546875 \r\nQ 53.21875 62.890625 53.21875 53.421875 \r\nQ 53.21875 48.921875 51.53125 44.890625 \r\nQ 49.859375 40.875 45.40625 35.40625 \r\nQ 44.1875 33.984375 37.640625 27.21875 \r\nQ 31.109375 20.453125 19.1875 8.296875 \r\nz\r\n\" id=\"DejaVuSans-50\"/>\r\n       <path d=\"M 31.78125 66.40625 \r\nQ 24.171875 66.40625 20.328125 58.90625 \r\nQ 16.5 51.421875 16.5 36.375 \r\nQ 16.5 21.390625 20.328125 13.890625 \r\nQ 24.171875 6.390625 31.78125 6.390625 \r\nQ 39.453125 6.390625 43.28125 13.890625 \r\nQ 47.125 21.390625 47.125 36.375 \r\nQ 47.125 51.421875 43.28125 58.90625 \r\nQ 39.453125 66.40625 31.78125 66.40625 \r\nz\r\nM 31.78125 74.21875 \r\nQ 44.046875 74.21875 50.515625 64.515625 \r\nQ 56.984375 54.828125 56.984375 36.375 \r\nQ 56.984375 17.96875 50.515625 8.265625 \r\nQ 44.046875 -1.421875 31.78125 -1.421875 \r\nQ 19.53125 -1.421875 13.0625 8.265625 \r\nQ 6.59375 17.96875 6.59375 36.375 \r\nQ 6.59375 54.828125 13.0625 64.515625 \r\nQ 19.53125 74.21875 31.78125 74.21875 \r\nz\r\n\" id=\"DejaVuSans-48\"/>\r\n       <path d=\"M 12.40625 8.296875 \r\nL 28.515625 8.296875 \r\nL 28.515625 63.921875 \r\nL 10.984375 60.40625 \r\nL 10.984375 69.390625 \r\nL 28.421875 72.90625 \r\nL 38.28125 72.90625 \r\nL 38.28125 8.296875 \r\nL 54.390625 8.296875 \r\nL 54.390625 0 \r\nL 12.40625 0 \r\nz\r\n\" id=\"DejaVuSans-49\"/>\r\n       <path d=\"M 33.015625 40.375 \r\nQ 26.375 40.375 22.484375 35.828125 \r\nQ 18.609375 31.296875 18.609375 23.390625 \r\nQ 18.609375 15.53125 22.484375 10.953125 \r\nQ 26.375 6.390625 33.015625 6.390625 \r\nQ 39.65625 6.390625 43.53125 10.953125 \r\nQ 47.40625 15.53125 47.40625 23.390625 \r\nQ 47.40625 31.296875 43.53125 35.828125 \r\nQ 39.65625 40.375 33.015625 40.375 \r\nz\r\nM 52.59375 71.296875 \r\nL 52.59375 62.3125 \r\nQ 48.875 64.0625 45.09375 64.984375 \r\nQ 41.3125 65.921875 37.59375 65.921875 \r\nQ 27.828125 65.921875 22.671875 59.328125 \r\nQ 17.53125 52.734375 16.796875 39.40625 \r\nQ 19.671875 43.65625 24.015625 45.921875 \r\nQ 28.375 48.1875 33.59375 48.1875 \r\nQ 44.578125 48.1875 50.953125 41.515625 \r\nQ 57.328125 34.859375 57.328125 23.390625 \r\nQ 57.328125 12.15625 50.6875 5.359375 \r\nQ 44.046875 -1.421875 33.015625 -1.421875 \r\nQ 20.359375 -1.421875 13.671875 8.265625 \r\nQ 6.984375 17.96875 6.984375 36.375 \r\nQ 6.984375 53.65625 15.1875 63.9375 \r\nQ 23.390625 74.21875 37.203125 74.21875 \r\nQ 40.921875 74.21875 44.703125 73.484375 \r\nQ 48.484375 72.75 52.59375 71.296875 \r\nz\r\n\" id=\"DejaVuSans-54\"/>\r\n      </defs>\r\n      <g transform=\"translate(22.579687 250.43625)scale(0.1 -0.1)\">\r\n       <use xlink:href=\"#DejaVuSans-50\"/>\r\n       <use x=\"63.623047\" xlink:href=\"#DejaVuSans-48\"/>\r\n       <use x=\"127.246094\" xlink:href=\"#DejaVuSans-49\"/>\r\n       <use x=\"190.869141\" xlink:href=\"#DejaVuSans-54\"/>\r\n      </g>\r\n     </g>\r\n    </g>\r\n    <g id=\"xtick_2\">\r\n     <g id=\"line2d_2\">\r\n      <g>\r\n       <use style=\"stroke:#000000;stroke-width:0.8;\" x=\"96.360399\" xlink:href=\"#me52e23dabe\" y=\"224.64\"/>\r\n      </g>\r\n     </g>\r\n     <g id=\"text_2\">\r\n      <!-- Apr -->\r\n      <defs>\r\n       <path d=\"M 34.1875 63.1875 \r\nL 20.796875 26.90625 \r\nL 47.609375 26.90625 \r\nz\r\nM 28.609375 72.90625 \r\nL 39.796875 72.90625 \r\nL 67.578125 0 \r\nL 57.328125 0 \r\nL 50.6875 18.703125 \r\nL 17.828125 18.703125 \r\nL 11.1875 0 \r\nL 0.78125 0 \r\nz\r\n\" id=\"DejaVuSans-65\"/>\r\n       <path d=\"M 18.109375 8.203125 \r\nL 18.109375 -20.796875 \r\nL 9.078125 -20.796875 \r\nL 9.078125 54.6875 \r\nL 18.109375 54.6875 \r\nL 18.109375 46.390625 \r\nQ 20.953125 51.265625 25.265625 53.625 \r\nQ 29.59375 56 35.59375 56 \r\nQ 45.5625 56 51.78125 48.09375 \r\nQ 58.015625 40.1875 58.015625 27.296875 \r\nQ 58.015625 14.40625 51.78125 6.484375 \r\nQ 45.5625 -1.421875 35.59375 -1.421875 \r\nQ 29.59375 -1.421875 25.265625 0.953125 \r\nQ 20.953125 3.328125 18.109375 8.203125 \r\nz\r\nM 48.6875 27.296875 \r\nQ 48.6875 37.203125 44.609375 42.84375 \r\nQ 40.53125 48.484375 33.40625 48.484375 \r\nQ 26.265625 48.484375 22.1875 42.84375 \r\nQ 18.109375 37.203125 18.109375 27.296875 \r\nQ 18.109375 17.390625 22.1875 11.75 \r\nQ 26.265625 6.109375 33.40625 6.109375 \r\nQ 40.53125 6.109375 44.609375 11.75 \r\nQ 48.6875 17.390625 48.6875 27.296875 \r\nz\r\n\" id=\"DejaVuSans-112\"/>\r\n       <path d=\"M 41.109375 46.296875 \r\nQ 39.59375 47.171875 37.8125 47.578125 \r\nQ 36.03125 48 33.890625 48 \r\nQ 26.265625 48 22.1875 43.046875 \r\nQ 18.109375 38.09375 18.109375 28.8125 \r\nL 18.109375 0 \r\nL 9.078125 0 \r\nL 9.078125 54.6875 \r\nL 18.109375 54.6875 \r\nL 18.109375 46.1875 \r\nQ 20.953125 51.171875 25.484375 53.578125 \r\nQ 30.03125 56 36.53125 56 \r\nQ 37.453125 56 38.578125 55.875 \r\nQ 39.703125 55.765625 41.0625 55.515625 \r\nz\r\n\" id=\"DejaVuSans-114\"/>\r\n      </defs>\r\n      <g transform=\"translate(87.710399 239.238438)scale(0.1 -0.1)\">\r\n       <use xlink:href=\"#DejaVuSans-65\"/>\r\n       <use x=\"68.408203\" xlink:href=\"#DejaVuSans-112\"/>\r\n       <use x=\"131.884766\" xlink:href=\"#DejaVuSans-114\"/>\r\n      </g>\r\n     </g>\r\n    </g>\r\n    <g id=\"xtick_3\">\r\n     <g id=\"line2d_3\">\r\n      <g>\r\n       <use style=\"stroke:#000000;stroke-width:0.8;\" x=\"157.41611\" xlink:href=\"#me52e23dabe\" y=\"224.64\"/>\r\n      </g>\r\n     </g>\r\n     <g id=\"text_3\">\r\n      <!-- Jul -->\r\n      <defs>\r\n       <path d=\"M 8.5 21.578125 \r\nL 8.5 54.6875 \r\nL 17.484375 54.6875 \r\nL 17.484375 21.921875 \r\nQ 17.484375 14.15625 20.5 10.265625 \r\nQ 23.53125 6.390625 29.59375 6.390625 \r\nQ 36.859375 6.390625 41.078125 11.03125 \r\nQ 45.3125 15.671875 45.3125 23.6875 \r\nL 45.3125 54.6875 \r\nL 54.296875 54.6875 \r\nL 54.296875 0 \r\nL 45.3125 0 \r\nL 45.3125 8.40625 \r\nQ 42.046875 3.421875 37.71875 1 \r\nQ 33.40625 -1.421875 27.6875 -1.421875 \r\nQ 18.265625 -1.421875 13.375 4.4375 \r\nQ 8.5 10.296875 8.5 21.578125 \r\nz\r\nM 31.109375 56 \r\nz\r\n\" id=\"DejaVuSans-117\"/>\r\n       <path d=\"M 9.421875 75.984375 \r\nL 18.40625 75.984375 \r\nL 18.40625 0 \r\nL 9.421875 0 \r\nz\r\n\" id=\"DejaVuSans-108\"/>\r\n      </defs>\r\n      <g transform=\"translate(151.383298 239.238438)scale(0.1 -0.1)\">\r\n       <use xlink:href=\"#DejaVuSans-74\"/>\r\n       <use x=\"29.492188\" xlink:href=\"#DejaVuSans-117\"/>\r\n       <use x=\"92.871094\" xlink:href=\"#DejaVuSans-108\"/>\r\n      </g>\r\n     </g>\r\n    </g>\r\n    <g id=\"xtick_4\">\r\n     <g id=\"line2d_4\">\r\n      <g>\r\n       <use style=\"stroke:#000000;stroke-width:0.8;\" x=\"219.142764\" xlink:href=\"#me52e23dabe\" y=\"224.64\"/>\r\n      </g>\r\n     </g>\r\n     <g id=\"text_4\">\r\n      <!-- Oct -->\r\n      <defs>\r\n       <path d=\"M 39.40625 66.21875 \r\nQ 28.65625 66.21875 22.328125 58.203125 \r\nQ 16.015625 50.203125 16.015625 36.375 \r\nQ 16.015625 22.609375 22.328125 14.59375 \r\nQ 28.65625 6.59375 39.40625 6.59375 \r\nQ 50.140625 6.59375 56.421875 14.59375 \r\nQ 62.703125 22.609375 62.703125 36.375 \r\nQ 62.703125 50.203125 56.421875 58.203125 \r\nQ 50.140625 66.21875 39.40625 66.21875 \r\nz\r\nM 39.40625 74.21875 \r\nQ 54.734375 74.21875 63.90625 63.9375 \r\nQ 73.09375 53.65625 73.09375 36.375 \r\nQ 73.09375 19.140625 63.90625 8.859375 \r\nQ 54.734375 -1.421875 39.40625 -1.421875 \r\nQ 24.03125 -1.421875 14.8125 8.828125 \r\nQ 5.609375 19.09375 5.609375 36.375 \r\nQ 5.609375 53.65625 14.8125 63.9375 \r\nQ 24.03125 74.21875 39.40625 74.21875 \r\nz\r\n\" id=\"DejaVuSans-79\"/>\r\n       <path d=\"M 48.78125 52.59375 \r\nL 48.78125 44.1875 \r\nQ 44.96875 46.296875 41.140625 47.34375 \r\nQ 37.3125 48.390625 33.40625 48.390625 \r\nQ 24.65625 48.390625 19.8125 42.84375 \r\nQ 14.984375 37.3125 14.984375 27.296875 \r\nQ 14.984375 17.28125 19.8125 11.734375 \r\nQ 24.65625 6.203125 33.40625 6.203125 \r\nQ 37.3125 6.203125 41.140625 7.25 \r\nQ 44.96875 8.296875 48.78125 10.40625 \r\nL 48.78125 2.09375 \r\nQ 45.015625 0.34375 40.984375 -0.53125 \r\nQ 36.96875 -1.421875 32.421875 -1.421875 \r\nQ 20.0625 -1.421875 12.78125 6.34375 \r\nQ 5.515625 14.109375 5.515625 27.296875 \r\nQ 5.515625 40.671875 12.859375 48.328125 \r\nQ 20.21875 56 33.015625 56 \r\nQ 37.15625 56 41.109375 55.140625 \r\nQ 45.0625 54.296875 48.78125 52.59375 \r\nz\r\n\" id=\"DejaVuSans-99\"/>\r\n       <path d=\"M 18.3125 70.21875 \r\nL 18.3125 54.6875 \r\nL 36.8125 54.6875 \r\nL 36.8125 47.703125 \r\nL 18.3125 47.703125 \r\nL 18.3125 18.015625 \r\nQ 18.3125 11.328125 20.140625 9.421875 \r\nQ 21.96875 7.515625 27.59375 7.515625 \r\nL 36.8125 7.515625 \r\nL 36.8125 0 \r\nL 27.59375 0 \r\nQ 17.1875 0 13.234375 3.875 \r\nQ 9.28125 7.765625 9.28125 18.015625 \r\nL 9.28125 47.703125 \r\nL 2.6875 47.703125 \r\nL 2.6875 54.6875 \r\nL 9.28125 54.6875 \r\nL 9.28125 70.21875 \r\nz\r\n\" id=\"DejaVuSans-116\"/>\r\n      </defs>\r\n      <g transform=\"translate(210.497451 239.238438)scale(0.1 -0.1)\">\r\n       <use xlink:href=\"#DejaVuSans-79\"/>\r\n       <use x=\"78.710938\" xlink:href=\"#DejaVuSans-99\"/>\r\n       <use x=\"133.691406\" xlink:href=\"#DejaVuSans-116\"/>\r\n      </g>\r\n     </g>\r\n    </g>\r\n    <g id=\"xtick_5\">\r\n     <g id=\"line2d_5\">\r\n      <g>\r\n       <use style=\"stroke:#000000;stroke-width:0.8;\" x=\"280.869417\" xlink:href=\"#me52e23dabe\" y=\"224.64\"/>\r\n      </g>\r\n     </g>\r\n     <g id=\"text_5\">\r\n      <!-- Jan -->\r\n      <g transform=\"translate(273.161604 239.238438)scale(0.1 -0.1)\">\r\n       <use xlink:href=\"#DejaVuSans-74\"/>\r\n       <use x=\"29.492188\" xlink:href=\"#DejaVuSans-97\"/>\r\n       <use x=\"90.771484\" xlink:href=\"#DejaVuSans-110\"/>\r\n      </g>\r\n      <!-- 2017 -->\r\n      <defs>\r\n       <path d=\"M 8.203125 72.90625 \r\nL 55.078125 72.90625 \r\nL 55.078125 68.703125 \r\nL 28.609375 0 \r\nL 18.3125 0 \r\nL 43.21875 64.59375 \r\nL 8.203125 64.59375 \r\nz\r\n\" id=\"DejaVuSans-55\"/>\r\n      </defs>\r\n      <g transform=\"translate(268.144417 250.43625)scale(0.1 -0.1)\">\r\n       <use xlink:href=\"#DejaVuSans-50\"/>\r\n       <use x=\"63.623047\" xlink:href=\"#DejaVuSans-48\"/>\r\n       <use x=\"127.246094\" xlink:href=\"#DejaVuSans-49\"/>\r\n       <use x=\"190.869141\" xlink:href=\"#DejaVuSans-55\"/>\r\n      </g>\r\n     </g>\r\n    </g>\r\n    <g id=\"xtick_6\">\r\n     <g id=\"line2d_6\">\r\n      <g>\r\n       <use style=\"stroke:#000000;stroke-width:0.8;\" x=\"341.254186\" xlink:href=\"#me52e23dabe\" y=\"224.64\"/>\r\n      </g>\r\n     </g>\r\n     <g id=\"text_6\">\r\n      <!-- Apr -->\r\n      <g transform=\"translate(332.604186 239.238438)scale(0.1 -0.1)\">\r\n       <use xlink:href=\"#DejaVuSans-65\"/>\r\n       <use x=\"68.408203\" xlink:href=\"#DejaVuSans-112\"/>\r\n       <use x=\"131.884766\" xlink:href=\"#DejaVuSans-114\"/>\r\n      </g>\r\n     </g>\r\n    </g>\r\n    <g id=\"xtick_7\">\r\n     <g id=\"line2d_7\">\r\n      <g>\r\n       <use style=\"stroke:#000000;stroke-width:0.8;\" x=\"370.104687\" xlink:href=\"#me52e23dabe\" y=\"224.64\"/>\r\n      </g>\r\n     </g>\r\n    </g>\r\n    <g id=\"xtick_8\">\r\n     <g id=\"line2d_8\">\r\n      <defs>\r\n       <path d=\"M 0 0 \r\nL 0 2 \r\n\" id=\"m9655be3df0\" style=\"stroke:#000000;stroke-width:0.6;\"/>\r\n      </defs>\r\n      <g>\r\n       <use style=\"stroke:#000000;stroke-width:0.6;\" x=\"56.103886\" xlink:href=\"#m9655be3df0\" y=\"224.64\"/>\r\n      </g>\r\n     </g>\r\n    </g>\r\n    <g id=\"xtick_9\">\r\n     <g id=\"line2d_9\">\r\n      <g>\r\n       <use style=\"stroke:#000000;stroke-width:0.6;\" x=\"75.561201\" xlink:href=\"#m9655be3df0\" y=\"224.64\"/>\r\n      </g>\r\n     </g>\r\n    </g>\r\n    <g id=\"xtick_10\">\r\n     <g id=\"line2d_10\">\r\n      <g>\r\n       <use style=\"stroke:#000000;stroke-width:0.6;\" x=\"116.488655\" xlink:href=\"#m9655be3df0\" y=\"224.64\"/>\r\n      </g>\r\n     </g>\r\n    </g>\r\n    <g id=\"xtick_11\">\r\n     <g id=\"line2d_11\">\r\n      <g>\r\n       <use style=\"stroke:#000000;stroke-width:0.6;\" x=\"137.287854\" xlink:href=\"#m9655be3df0\" y=\"224.64\"/>\r\n      </g>\r\n     </g>\r\n    </g>\r\n    <g id=\"xtick_12\">\r\n     <g id=\"line2d_12\">\r\n      <g>\r\n       <use style=\"stroke:#000000;stroke-width:0.6;\" x=\"178.215309\" xlink:href=\"#m9655be3df0\" y=\"224.64\"/>\r\n      </g>\r\n     </g>\r\n    </g>\r\n    <g id=\"xtick_13\">\r\n     <g id=\"line2d_13\">\r\n      <g>\r\n       <use style=\"stroke:#000000;stroke-width:0.6;\" x=\"199.014507\" xlink:href=\"#m9655be3df0\" y=\"224.64\"/>\r\n      </g>\r\n     </g>\r\n    </g>\r\n    <g id=\"xtick_14\">\r\n     <g id=\"line2d_14\">\r\n      <g>\r\n       <use style=\"stroke:#000000;stroke-width:0.6;\" x=\"239.941962\" xlink:href=\"#m9655be3df0\" y=\"224.64\"/>\r\n      </g>\r\n     </g>\r\n    </g>\r\n    <g id=\"xtick_15\">\r\n     <g id=\"line2d_15\">\r\n      <g>\r\n       <use style=\"stroke:#000000;stroke-width:0.6;\" x=\"260.070219\" xlink:href=\"#m9655be3df0\" y=\"224.64\"/>\r\n      </g>\r\n     </g>\r\n    </g>\r\n    <g id=\"xtick_16\">\r\n     <g id=\"line2d_16\">\r\n      <g>\r\n       <use style=\"stroke:#000000;stroke-width:0.6;\" x=\"301.668615\" xlink:href=\"#m9655be3df0\" y=\"224.64\"/>\r\n      </g>\r\n     </g>\r\n    </g>\r\n    <g id=\"xtick_17\">\r\n     <g id=\"line2d_17\">\r\n      <g>\r\n       <use style=\"stroke:#000000;stroke-width:0.6;\" x=\"320.454988\" xlink:href=\"#m9655be3df0\" y=\"224.64\"/>\r\n      </g>\r\n     </g>\r\n    </g>\r\n    <g id=\"xtick_18\">\r\n     <g id=\"line2d_18\">\r\n      <g>\r\n       <use style=\"stroke:#000000;stroke-width:0.6;\" x=\"361.382443\" xlink:href=\"#m9655be3df0\" y=\"224.64\"/>\r\n      </g>\r\n     </g>\r\n    </g>\r\n   </g>\r\n   <g id=\"matplotlib.axis_2\">\r\n    <g id=\"ytick_1\">\r\n     <g id=\"line2d_19\">\r\n      <defs>\r\n       <path d=\"M 0 0 \r\nL -3.5 0 \r\n\" id=\"m7702980175\" style=\"stroke:#000000;stroke-width:0.8;\"/>\r\n      </defs>\r\n      <g>\r\n       <use style=\"stroke:#000000;stroke-width:0.8;\" x=\"35.304688\" xlink:href=\"#m7702980175\" y=\"193.97336\"/>\r\n      </g>\r\n     </g>\r\n     <g id=\"text_7\">\r\n      <!-- −20 -->\r\n      <defs>\r\n       <path d=\"M 10.59375 35.5 \r\nL 73.1875 35.5 \r\nL 73.1875 27.203125 \r\nL 10.59375 27.203125 \r\nz\r\n\" id=\"DejaVuSans-8722\"/>\r\n      </defs>\r\n      <g transform=\"translate(7.2 197.772579)scale(0.1 -0.1)\">\r\n       <use xlink:href=\"#DejaVuSans-8722\"/>\r\n       <use x=\"83.789062\" xlink:href=\"#DejaVuSans-50\"/>\r\n       <use x=\"147.412109\" xlink:href=\"#DejaVuSans-48\"/>\r\n      </g>\r\n     </g>\r\n    </g>\r\n    <g id=\"ytick_2\">\r\n     <g id=\"line2d_20\">\r\n      <g>\r\n       <use style=\"stroke:#000000;stroke-width:0.8;\" x=\"35.304688\" xlink:href=\"#m7702980175\" y=\"152.488704\"/>\r\n      </g>\r\n     </g>\r\n     <g id=\"text_8\">\r\n      <!-- −10 -->\r\n      <g transform=\"translate(7.2 156.287922)scale(0.1 -0.1)\">\r\n       <use xlink:href=\"#DejaVuSans-8722\"/>\r\n       <use x=\"83.789062\" xlink:href=\"#DejaVuSans-49\"/>\r\n       <use x=\"147.412109\" xlink:href=\"#DejaVuSans-48\"/>\r\n      </g>\r\n     </g>\r\n    </g>\r\n    <g id=\"ytick_3\">\r\n     <g id=\"line2d_21\">\r\n      <g>\r\n       <use style=\"stroke:#000000;stroke-width:0.8;\" x=\"35.304688\" xlink:href=\"#m7702980175\" y=\"111.004047\"/>\r\n      </g>\r\n     </g>\r\n     <g id=\"text_9\">\r\n      <!-- 0 -->\r\n      <g transform=\"translate(21.942188 114.803266)scale(0.1 -0.1)\">\r\n       <use xlink:href=\"#DejaVuSans-48\"/>\r\n      </g>\r\n     </g>\r\n    </g>\r\n    <g id=\"ytick_4\">\r\n     <g id=\"line2d_22\">\r\n      <g>\r\n       <use style=\"stroke:#000000;stroke-width:0.8;\" x=\"35.304688\" xlink:href=\"#m7702980175\" y=\"69.519391\"/>\r\n      </g>\r\n     </g>\r\n     <g id=\"text_10\">\r\n      <!-- 10 -->\r\n      <g transform=\"translate(15.579688 73.31861)scale(0.1 -0.1)\">\r\n       <use xlink:href=\"#DejaVuSans-49\"/>\r\n       <use x=\"63.623047\" xlink:href=\"#DejaVuSans-48\"/>\r\n      </g>\r\n     </g>\r\n    </g>\r\n    <g id=\"ytick_5\">\r\n     <g id=\"line2d_23\">\r\n      <g>\r\n       <use style=\"stroke:#000000;stroke-width:0.8;\" x=\"35.304688\" xlink:href=\"#m7702980175\" y=\"28.034735\"/>\r\n      </g>\r\n     </g>\r\n     <g id=\"text_11\">\r\n      <!-- 20 -->\r\n      <g transform=\"translate(15.579688 31.833954)scale(0.1 -0.1)\">\r\n       <use xlink:href=\"#DejaVuSans-50\"/>\r\n       <use x=\"63.623047\" xlink:href=\"#DejaVuSans-48\"/>\r\n      </g>\r\n     </g>\r\n    </g>\r\n   </g>\r\n   <g id=\"line2d_24\">\r\n    <path clip-path=\"url(#p5995a88a2b)\" d=\"M 35.304688 108.988357 \r\nL 35.975629 105.400526 \r\nL 36.646571 107.266859 \r\nL 37.317513 100.975663 \r\nL 37.988455 101.202813 \r\nL 38.659397 103.086842 \r\nL 39.330339 101.829434 \r\nL 40.001281 92.82182 \r\nL 40.672223 100.667251 \r\nL 41.343164 93.103164 \r\nL 42.014106 98.470707 \r\nL 43.35599 107.085149 \r\nL 44.026932 109.895232 \r\nL 44.697874 105.272797 \r\nL 45.368816 106.989088 \r\nL 46.039758 112.590835 \r\nL 46.7107 115.024397 \r\nL 47.381641 114.864723 \r\nL 48.052583 107.394907 \r\nL 48.723525 105.883191 \r\nL 49.394467 108.64457 \r\nL 50.065409 106.519683 \r\nL 50.736351 109.860331 \r\nL 51.407293 108.26838 \r\nL 52.078235 105.624453 \r\nL 52.749176 103.483855 \r\nL 54.09106 97.117302 \r\nL 54.762002 96.63685 \r\nL 55.432944 93.526246 \r\nL 56.103886 93.766489 \r\nL 56.774828 96.423472 \r\nL 57.44577 88.514285 \r\nL 58.116712 90.364697 \r\nL 58.787653 85.404922 \r\nL 59.458595 76.81932 \r\nL 60.129537 74.999777 \r\nL 60.800479 75.715965 \r\nL 61.471421 71.489622 \r\nL 62.142363 68.594703 \r\nL 62.813305 63.306017 \r\nL 63.484247 63.561162 \r\nL 64.155189 72.977008 \r\nL 64.82613 74.011953 \r\nL 65.497072 72.495466 \r\nL 68.18084 88.517931 \r\nL 68.851782 87.71561 \r\nL 69.522724 91.951373 \r\nL 70.193665 93.790988 \r\nL 70.864607 90.679657 \r\nL 71.535549 92.794356 \r\nL 72.206491 87.692202 \r\nL 72.877433 88.360494 \r\nL 73.548375 86.516283 \r\nL 74.219317 87.560842 \r\nL 74.890259 92.306115 \r\nL 75.561201 93.001917 \r\nL 76.232142 94.487919 \r\nL 76.903084 92.467501 \r\nL 77.574026 87.602998 \r\nL 78.244968 89.872403 \r\nL 78.91591 84.311691 \r\nL 79.586852 86.847434 \r\nL 80.257794 87.309891 \r\nL 80.928736 82.530261 \r\nL 81.599677 89.935307 \r\nL 82.270619 90.411794 \r\nL 82.941561 85.510963 \r\nL 83.612503 93.949562 \r\nL 84.283445 90.377738 \r\nL 84.954387 85.767882 \r\nL 86.967213 77.170504 \r\nL 87.638154 81.093722 \r\nL 88.309096 82.85085 \r\nL 88.980038 80.910231 \r\nL 89.65098 86.048577 \r\nL 90.321922 83.696391 \r\nL 90.992864 90.350029 \r\nL 91.663806 84.992341 \r\nL 92.334748 93.020243 \r\nL 93.00569 87.199666 \r\nL 93.676631 88.811541 \r\nL 94.347573 91.92079 \r\nL 95.018515 96.722289 \r\nL 95.689457 95.870535 \r\nL 96.360399 97.948366 \r\nL 97.031341 94.000641 \r\nL 97.702283 97.909115 \r\nL 98.373225 96.366238 \r\nL 99.044166 98.382043 \r\nL 99.715108 98.553693 \r\nL 100.38605 98.149069 \r\nL 101.056992 99.425111 \r\nL 101.727934 105.498352 \r\nL 102.398876 98.624478 \r\nL 103.069818 98.506838 \r\nL 103.74076 100.371107 \r\nL 104.411702 104.061927 \r\nL 105.082643 99.446238 \r\nL 105.753585 98.469631 \r\nL 106.424527 95.986979 \r\nL 107.095469 94.623595 \r\nL 107.766411 88.881828 \r\nL 108.437353 86.771087 \r\nL 109.108295 85.958749 \r\nL 109.779237 91.62283 \r\nL 110.450178 91.631612 \r\nL 111.12112 91.878662 \r\nL 111.792062 93.443347 \r\nL 113.133946 106.778235 \r\nL 113.804888 105.038628 \r\nL 114.47583 108.497609 \r\nL 115.146772 106.527776 \r\nL 115.817714 105.645477 \r\nL 116.488655 102.244607 \r\nL 117.159597 97.364879 \r\nL 117.830539 96.7191 \r\nL 118.501481 99.71369 \r\nL 119.172423 105.346241 \r\nL 119.843365 105.898276 \r\nL 120.514307 104.102658 \r\nL 121.185249 105.04156 \r\nL 121.856191 102.774795 \r\nL 122.527132 107.437753 \r\nL 123.198074 104.715373 \r\nL 124.539958 111.630222 \r\nL 125.2109 111.165321 \r\nL 125.881842 113.390241 \r\nL 126.552784 111.895668 \r\nL 127.223726 104.11381 \r\nL 127.894667 114.554406 \r\nL 128.565609 112.737893 \r\nL 129.236551 117.602183 \r\nL 129.907493 121.222309 \r\nL 130.578435 116.260377 \r\nL 131.249377 114.95898 \r\nL 131.920319 116.627621 \r\nL 132.591261 119.554423 \r\nL 133.262203 124.367016 \r\nL 133.933144 121.027527 \r\nL 134.604086 120.574365 \r\nL 135.275028 127.413262 \r\nL 135.94597 131.006599 \r\nL 136.616912 129.045216 \r\nL 137.287854 130.178937 \r\nL 137.958796 140.006312 \r\nL 139.300679 131.104416 \r\nL 139.971621 129.45805 \r\nL 140.642563 135.568842 \r\nL 141.313505 125.98754 \r\nL 141.984447 118.91737 \r\nL 142.655389 118.575671 \r\nL 143.326331 119.865564 \r\nL 143.997273 116.812395 \r\nL 144.668215 116.19913 \r\nL 145.339156 118.197317 \r\nL 146.010098 124.425739 \r\nL 146.68104 114.366746 \r\nL 147.351982 111.430753 \r\nL 148.693866 120.336275 \r\nL 149.364808 119.861761 \r\nL 150.03575 114.996621 \r\nL 150.706692 107.501012 \r\nL 151.377633 111.920773 \r\nL 152.048575 114.508439 \r\nL 152.719517 115.822564 \r\nL 153.390459 115.829919 \r\nL 154.732343 110.845095 \r\nL 155.403285 114.213377 \r\nL 156.074227 113.775506 \r\nL 156.745168 111.895586 \r\nL 157.41611 118.627704 \r\nL 158.087052 119.809549 \r\nL 158.757994 123.670401 \r\nL 159.428936 124.774503 \r\nL 160.099878 123.455689 \r\nL 160.77082 128.287911 \r\nL 161.441762 126.977071 \r\nL 162.112704 126.045103 \r\nL 162.783645 128.846775 \r\nL 163.454587 128.252476 \r\nL 164.125529 135.357343 \r\nL 164.796471 137.261 \r\nL 165.467413 138.423448 \r\nL 166.138355 135.254118 \r\nL 166.809297 144.10843 \r\nL 167.480239 144.842181 \r\nL 168.15118 143.892112 \r\nL 168.822122 139.698584 \r\nL 169.493064 129.608471 \r\nL 170.164006 129.075293 \r\nL 170.834948 133.767019 \r\nL 171.50589 135.753405 \r\nL 172.176832 133.022121 \r\nL 172.847774 125.730933 \r\nL 173.518716 133.540937 \r\nL 174.189657 136.698745 \r\nL 174.860599 134.409809 \r\nL 175.531541 138.802703 \r\nL 176.202483 140.47113 \r\nL 176.873425 147.419397 \r\nL 177.544367 141.977155 \r\nL 178.215309 149.96273 \r\nL 178.886251 148.073881 \r\nL 179.557193 138.818953 \r\nL 180.228134 140.761376 \r\nL 181.570018 158.191835 \r\nL 182.24096 158.883846 \r\nL 182.911902 155.854314 \r\nL 183.582844 157.296858 \r\nL 184.253786 157.949777 \r\nL 184.924728 155.782358 \r\nL 185.595669 155.040221 \r\nL 186.266611 153.081282 \r\nL 186.937553 154.859633 \r\nL 187.608495 138.675844 \r\nL 188.279437 143.327262 \r\nL 188.950379 144.910194 \r\nL 189.621321 147.812781 \r\nL 190.963205 136.739138 \r\nL 191.634146 128.146486 \r\nL 192.305088 128.402875 \r\nL 192.97603 122.890865 \r\nL 193.646972 126.97319 \r\nL 194.317914 128.215007 \r\nL 194.988856 138.096103 \r\nL 195.659798 134.985698 \r\nL 196.33074 134.997576 \r\nL 197.001681 139.277381 \r\nL 197.672623 136.061912 \r\nL 198.343565 134.696941 \r\nL 199.014507 128.011798 \r\nL 199.685449 125.623862 \r\nL 200.356391 121.021304 \r\nL 201.027333 127.098765 \r\nL 201.698275 137.377416 \r\nL 202.369217 139.129539 \r\nL 203.040158 133.919057 \r\nL 203.7111 135.447542 \r\nL 204.382042 137.66449 \r\nL 205.723926 144.31595 \r\nL 206.394868 145.772534 \r\nL 207.06581 151.044695 \r\nL 207.736752 152.100544 \r\nL 208.407694 148.221117 \r\nL 209.078635 148.592849 \r\nL 209.749577 148.583708 \r\nL 210.420519 138.775749 \r\nL 211.091461 143.608444 \r\nL 211.762403 137.098603 \r\nL 213.104287 138.287033 \r\nL 213.775229 137.625252 \r\nL 214.44617 130.22076 \r\nL 215.117112 126.872371 \r\nL 215.788054 128.354565 \r\nL 217.129938 135.060385 \r\nL 217.80088 129.100315 \r\nL 218.471822 131.902597 \r\nL 219.142764 129.171795 \r\nL 219.813706 131.456433 \r\nL 220.484647 124.681831 \r\nL 221.155589 125.422269 \r\nL 221.826531 126.473981 \r\nL 222.497473 126.557835 \r\nL 223.168415 128.732217 \r\nL 223.839357 126.357034 \r\nL 224.510299 130.086732 \r\nL 225.181241 129.982919 \r\nL 225.852182 123.230129 \r\nL 226.523124 127.263932 \r\nL 227.865008 118.644076 \r\nL 228.53595 120.275211 \r\nL 229.206892 118.133836 \r\nL 229.877834 116.611746 \r\nL 230.548776 114.745148 \r\nL 231.219718 111.180854 \r\nL 231.890659 109.349112 \r\nL 232.561601 110.93439 \r\nL 233.232543 113.894371 \r\nL 233.903485 107.339655 \r\nL 234.574427 102.301359 \r\nL 235.245369 98.612909 \r\nL 235.916311 96.691654 \r\nL 237.258195 108.531014 \r\nL 237.929136 110.732262 \r\nL 238.600078 100.671583 \r\nL 239.27102 97.513557 \r\nL 239.941962 104.835644 \r\nL 240.612904 98.985523 \r\nL 241.283846 100.980032 \r\nL 241.954788 92.839667 \r\nL 242.62573 93.461782 \r\nL 243.967613 105.291442 \r\nL 244.638555 103.63648 \r\nL 245.309497 104.574741 \r\nL 245.980439 103.733829 \r\nL 246.651381 100.695351 \r\nL 247.322323 104.308494 \r\nL 247.993265 101.115564 \r\nL 248.664207 99.099807 \r\nL 250.00609 108.56811 \r\nL 250.677032 109.871981 \r\nL 251.347974 112.076817 \r\nL 252.018916 112.295932 \r\nL 252.689858 114.078826 \r\nL 253.3608 117.140666 \r\nL 254.031742 118.774795 \r\nL 254.702683 113.830517 \r\nL 255.373625 112.676319 \r\nL 256.044567 116.168534 \r\nL 257.386451 119.812487 \r\nL 259.399277 106.409223 \r\nL 260.070219 106.152489 \r\nL 260.74116 106.94718 \r\nL 261.412102 102.228191 \r\nL 262.083044 95.933141 \r\nL 262.753986 96.994747 \r\nL 263.424928 91.772882 \r\nL 264.09587 96.77545 \r\nL 264.766812 93.017624 \r\nL 265.437754 91.143501 \r\nL 266.108696 85.43615 \r\nL 266.779637 84.091483 \r\nL 267.450579 90.569789 \r\nL 268.121521 88.953553 \r\nL 268.792463 95.768499 \r\nL 269.463405 98.380922 \r\nL 270.134347 94.895889 \r\nL 270.805289 100.278821 \r\nL 271.476231 95.02936 \r\nL 272.147172 100.328076 \r\nL 272.818114 96.894515 \r\nL 273.489056 104.474517 \r\nL 274.159998 106.890349 \r\nL 274.83094 113.908706 \r\nL 275.501882 109.110277 \r\nL 276.172824 111.315633 \r\nL 276.843766 109.201602 \r\nL 277.514708 103.403597 \r\nL 278.856591 104.69792 \r\nL 279.527533 105.190418 \r\nL 280.198475 103.693471 \r\nL 280.869417 103.121425 \r\nL 282.211301 95.940553 \r\nL 282.882243 96.741179 \r\nL 283.553184 99.074031 \r\nL 284.224126 102.311315 \r\nL 284.895068 106.646153 \r\nL 285.56601 102.845604 \r\nL 286.236952 106.749096 \r\nL 286.907894 112.686186 \r\nL 287.578836 110.655479 \r\nL 288.249778 109.591075 \r\nL 288.92072 110.282537 \r\nL 289.591661 109.341868 \r\nL 290.262603 107.665072 \r\nL 290.933545 114.962261 \r\nL 291.604487 117.889592 \r\nL 292.275429 118.478947 \r\nL 292.946371 112.026581 \r\nL 293.617313 113.194512 \r\nL 294.288255 107.63777 \r\nL 294.959197 105.846088 \r\nL 295.630138 108.983042 \r\nL 296.972022 105.256189 \r\nL 298.313906 97.851899 \r\nL 298.984848 103.880955 \r\nL 299.65579 99.926035 \r\nL 300.326732 93.768896 \r\nL 300.997673 95.062241 \r\nL 302.339557 99.725413 \r\nL 303.010499 104.709987 \r\nL 303.681441 105.191908 \r\nL 304.352383 97.531486 \r\nL 305.023325 92.172441 \r\nL 305.694267 100.536745 \r\nL 306.365209 95.169734 \r\nL 307.707092 105.970581 \r\nL 308.378034 102.747967 \r\nL 309.048976 102.659694 \r\nL 309.719918 101.740364 \r\nL 310.39086 101.415742 \r\nL 311.061802 100.165618 \r\nL 311.732744 103.878596 \r\nL 312.403685 93.535152 \r\nL 313.074627 90.584751 \r\nL 313.745569 90.834566 \r\nL 314.416511 87.902427 \r\nL 315.087453 89.7302 \r\nL 315.758395 86.31012 \r\nL 316.429337 85.614779 \r\nL 317.771221 93.007576 \r\nL 318.442162 101.102355 \r\nL 319.113104 101.957859 \r\nL 319.784046 101.752708 \r\nL 320.454988 101.829032 \r\nL 321.12593 101.66718 \r\nL 322.467814 104.058901 \r\nL 323.138756 105.036822 \r\nL 323.809698 111.487082 \r\nL 324.480639 111.770339 \r\nL 325.151581 112.743288 \r\nL 325.822523 110.179453 \r\nL 326.493465 116.481095 \r\nL 327.164407 111.36232 \r\nL 327.835349 115.924895 \r\nL 328.506291 117.697136 \r\nL 329.177233 113.29404 \r\nL 329.848174 116.380182 \r\nL 330.519116 116.399784 \r\nL 331.190058 110.895269 \r\nL 331.861 112.384125 \r\nL 332.531942 118.156636 \r\nL 333.202884 121.030861 \r\nL 333.873826 123.321718 \r\nL 334.544768 122.90749 \r\nL 335.21571 119.637969 \r\nL 335.886651 117.850736 \r\nL 336.557593 117.094466 \r\nL 337.228535 110.979164 \r\nL 337.899477 118.364654 \r\nL 338.570419 119.112972 \r\nL 339.912303 124.449332 \r\nL 340.583245 127.802842 \r\nL 341.254186 133.738853 \r\nL 341.925128 135.842285 \r\nL 342.59607 137.082948 \r\nL 343.267012 144.186707 \r\nL 343.937954 147.420702 \r\nL 344.608896 156.976553 \r\nL 345.279838 155.85691 \r\nL 345.95078 158.145577 \r\nL 346.621722 155.534735 \r\nL 347.292663 154.593847 \r\nL 348.634547 145.434808 \r\nL 349.305489 143.357432 \r\nL 349.976431 142.812344 \r\nL 350.647373 144.28472 \r\nL 351.318315 140.303039 \r\nL 351.989257 143.758163 \r\nL 352.660199 139.246453 \r\nL 353.33114 139.915393 \r\nL 354.673024 128.916775 \r\nL 355.343966 127.82799 \r\nL 356.014908 131.694593 \r\nL 356.68585 133.616543 \r\nL 357.356792 136.569591 \r\nL 358.027734 141.208488 \r\nL 358.698675 141.902859 \r\nL 359.369617 139.624834 \r\nL 360.040559 138.415186 \r\nL 360.711501 133.724282 \r\nL 361.382443 136.285605 \r\nL 362.053385 136.285549 \r\nL 362.724327 141.108174 \r\nL 363.395269 143.137819 \r\nL 364.066211 140.334866 \r\nL 364.737152 133.287931 \r\nL 365.408094 136.066697 \r\nL 366.079036 136.710546 \r\nL 366.749978 135.785926 \r\nL 367.42092 138.642293 \r\nL 368.091862 137.779277 \r\nL 368.762804 138.387454 \r\nL 370.104687 146.006332 \r\nL 370.104687 146.006332 \r\n\" style=\"fill:none;stroke:#1f77b4;stroke-linecap:square;stroke-width:1.5;\"/>\r\n   </g>\r\n   <g id=\"line2d_25\">\r\n    <path clip-path=\"url(#p5995a88a2b)\" d=\"M 35.304688 111.830906 \r\nL 35.975629 108.025396 \r\nL 37.317513 114.080605 \r\nL 37.988455 117.167656 \r\nL 38.659397 108.349385 \r\nL 40.001281 102.071302 \r\nL 40.672223 102.397107 \r\nL 41.343164 100.764348 \r\nL 42.014106 108.700742 \r\nL 42.685048 110.88317 \r\nL 43.35599 110.845522 \r\nL 44.026932 114.987324 \r\nL 44.697874 108.26748 \r\nL 45.368816 110.796618 \r\nL 46.039758 119.615783 \r\nL 46.7107 119.076231 \r\nL 47.381641 117.817189 \r\nL 48.052583 112.605583 \r\nL 48.723525 109.608158 \r\nL 49.394467 105.553705 \r\nL 50.065409 110.141899 \r\nL 50.736351 111.456801 \r\nL 51.407293 112.294539 \r\nL 52.078235 115.820423 \r\nL 52.749176 121.117332 \r\nL 53.420118 121.121245 \r\nL 54.09106 120.014367 \r\nL 54.762002 129.089132 \r\nL 55.432944 134.182515 \r\nL 56.103886 128.358929 \r\nL 56.774828 131.169743 \r\nL 57.44577 125.51846 \r\nL 58.116712 134.229962 \r\nL 58.787653 137.812041 \r\nL 59.458595 126.974272 \r\nL 60.129537 129.323363 \r\nL 60.800479 128.596657 \r\nL 61.471421 132.864962 \r\nL 62.142363 128.933478 \r\nL 62.813305 124.247705 \r\nL 63.484247 122.683616 \r\nL 64.155189 131.323548 \r\nL 64.82613 122.431205 \r\nL 65.497072 121.035167 \r\nL 66.168014 119.103144 \r\nL 66.838956 122.410654 \r\nL 67.509898 116.812434 \r\nL 68.18084 117.771537 \r\nL 68.851782 120.907299 \r\nL 69.522724 122.475865 \r\nL 70.193665 127.928458 \r\nL 70.864607 138.930168 \r\nL 71.535549 130.343468 \r\nL 72.206491 124.662499 \r\nL 72.877433 125.434612 \r\nL 73.548375 119.101504 \r\nL 74.219317 116.790491 \r\nL 74.890259 118.700721 \r\nL 75.561201 113.800767 \r\nL 76.232142 114.659578 \r\nL 76.903084 123.86072 \r\nL 77.574026 122.695976 \r\nL 78.244968 127.172008 \r\nL 78.91591 126.365585 \r\nL 79.586852 123.605049 \r\nL 80.257794 128.85064 \r\nL 80.928736 131.88663 \r\nL 81.599677 138.012437 \r\nL 82.270619 141.552064 \r\nL 82.941561 142.362301 \r\nL 83.612503 143.379215 \r\nL 84.283445 142.299811 \r\nL 84.954387 152.348759 \r\nL 85.625329 158.399108 \r\nL 86.296271 151.325977 \r\nL 86.967213 150.233792 \r\nL 87.638154 151.891179 \r\nL 88.309096 154.655864 \r\nL 88.980038 156.823561 \r\nL 89.65098 155.881614 \r\nL 90.321922 152.963252 \r\nL 90.992864 146.911275 \r\nL 92.334748 141.425976 \r\nL 93.00569 145.867605 \r\nL 93.676631 142.442109 \r\nL 94.347573 145.43738 \r\nL 95.018515 141.037391 \r\nL 95.689457 150.224352 \r\nL 96.360399 149.406243 \r\nL 97.031341 146.752564 \r\nL 97.702283 141.601941 \r\nL 98.373225 139.541724 \r\nL 99.044166 141.409474 \r\nL 99.715108 134.366345 \r\nL 100.38605 133.137562 \r\nL 101.056992 137.04246 \r\nL 101.727934 138.207402 \r\nL 102.398876 142.658665 \r\nL 103.069818 141.794175 \r\nL 103.74076 149.08653 \r\nL 104.411702 147.265385 \r\nL 105.082643 150.649299 \r\nL 106.424527 161.236637 \r\nL 107.095469 163.222151 \r\nL 107.766411 167.44329 \r\nL 108.437353 167.23471 \r\nL 109.108295 173.793098 \r\nL 109.779237 169.314215 \r\nL 110.450178 169.371321 \r\nL 111.12112 165.564985 \r\nL 111.792062 163.376645 \r\nL 112.463004 169.255399 \r\nL 113.133946 171.902794 \r\nL 113.804888 169.712128 \r\nL 114.47583 169.046453 \r\nL 115.146772 167.516146 \r\nL 115.817714 167.410472 \r\nL 116.488655 164.521686 \r\nL 117.159597 165.88283 \r\nL 117.830539 165.911739 \r\nL 118.501481 168.583718 \r\nL 119.172423 166.537986 \r\nL 119.843365 162.081219 \r\nL 120.514307 161.296392 \r\nL 121.185249 166.364533 \r\nL 121.856191 165.300837 \r\nL 122.527132 167.761831 \r\nL 123.198074 172.848764 \r\nL 123.869016 177.058179 \r\nL 124.539958 182.575334 \r\nL 125.2109 177.747894 \r\nL 125.881842 175.316217 \r\nL 126.552784 167.846466 \r\nL 127.223726 166.568486 \r\nL 127.894667 168.707226 \r\nL 128.565609 170.417147 \r\nL 129.236551 170.567734 \r\nL 129.907493 176.62416 \r\nL 130.578435 177.810661 \r\nL 131.249377 182.079515 \r\nL 131.920319 176.83262 \r\nL 132.591261 183.505655 \r\nL 133.262203 179.943994 \r\nL 133.933144 186.025837 \r\nL 134.604086 179.95369 \r\nL 135.275028 179.666269 \r\nL 135.94597 176.191018 \r\nL 136.616912 175.891137 \r\nL 137.287854 176.446772 \r\nL 137.958796 174.861968 \r\nL 138.629738 172.200014 \r\nL 139.300679 172.280807 \r\nL 139.971621 176.158512 \r\nL 140.642563 182.155882 \r\nL 141.984447 190.75522 \r\nL 142.655389 194.150027 \r\nL 143.997273 187.93091 \r\nL 144.668215 189.82696 \r\nL 145.339156 196.568835 \r\nL 146.010098 193.23636 \r\nL 146.68104 196.637314 \r\nL 147.351982 203.922344 \r\nL 148.022924 201.10185 \r\nL 148.693866 196.579341 \r\nL 149.364808 202.075457 \r\nL 150.03575 203.136933 \r\nL 150.706692 206.911455 \r\nL 151.377633 204.978865 \r\nL 152.048575 205.020535 \r\nL 152.719517 197.306445 \r\nL 153.390459 199.009514 \r\nL 154.061401 205.820601 \r\nL 154.732343 200.131503 \r\nL 155.403285 197.564569 \r\nL 156.074227 196.437344 \r\nL 156.745168 197.781022 \r\nL 157.41611 199.933365 \r\nL 158.087052 190.788173 \r\nL 158.757994 192.111556 \r\nL 159.428936 192.011537 \r\nL 160.099878 187.836398 \r\nL 161.441762 195.221386 \r\nL 162.112704 192.645202 \r\nL 162.783645 195.650027 \r\nL 163.454587 189.228775 \r\nL 164.125529 192.989617 \r\nL 164.796471 191.862106 \r\nL 165.467413 189.448782 \r\nL 166.138355 188.683795 \r\nL 166.809297 188.827196 \r\nL 167.480239 193.884185 \r\nL 168.15118 190.924533 \r\nL 168.822122 196.419439 \r\nL 169.493064 197.360436 \r\nL 170.164006 190.050347 \r\nL 170.834948 193.089034 \r\nL 171.50589 200.522082 \r\nL 172.176832 201.941694 \r\nL 172.847774 208.527246 \r\nL 173.518716 206.632557 \r\nL 174.189657 205.735453 \r\nL 174.860599 214.756364 \r\nL 175.531541 213.375724 \r\nL 176.202483 214.74213 \r\nL 176.873425 211.866836 \r\nL 177.544367 208.219272 \r\nL 178.886251 192.245317 \r\nL 179.557193 196.974904 \r\nL 180.228134 196.110244 \r\nL 180.899076 189.104109 \r\nL 181.570018 186.474842 \r\nL 182.24096 179.889147 \r\nL 182.911902 180.569304 \r\nL 183.582844 183.086832 \r\nL 184.253786 182.316725 \r\nL 184.924728 183.97465 \r\nL 185.595669 175.692501 \r\nL 186.266611 175.405756 \r\nL 186.937553 172.453159 \r\nL 187.608495 174.488479 \r\nL 188.279437 169.427414 \r\nL 188.950379 171.637885 \r\nL 189.621321 172.878784 \r\nL 190.292263 178.579887 \r\nL 190.963205 180.272074 \r\nL 192.305088 177.696898 \r\nL 192.97603 175.237044 \r\nL 193.646972 169.421367 \r\nL 194.317914 167.601593 \r\nL 194.988856 164.446224 \r\nL 195.659798 168.406216 \r\nL 196.33074 167.513546 \r\nL 197.001681 170.007486 \r\nL 197.672623 169.316343 \r\nL 198.343565 167.978816 \r\nL 199.014507 163.687856 \r\nL 199.685449 168.40273 \r\nL 200.356391 170.979215 \r\nL 201.698275 157.76155 \r\nL 202.369217 154.921756 \r\nL 203.040158 146.940611 \r\nL 203.7111 141.587123 \r\nL 204.382042 144.843648 \r\nL 205.052984 140.773583 \r\nL 205.723926 132.898715 \r\nL 206.394868 137.111764 \r\nL 207.06581 135.929413 \r\nL 207.736752 129.99357 \r\nL 208.407694 128.941193 \r\nL 209.078635 130.03825 \r\nL 209.749577 133.695307 \r\nL 210.420519 133.988203 \r\nL 211.091461 144.615719 \r\nL 211.762403 147.564118 \r\nL 212.433345 143.291195 \r\nL 213.104287 139.865176 \r\nL 213.775229 142.115323 \r\nL 214.44617 148.89198 \r\nL 215.117112 145.963176 \r\nL 215.788054 144.132752 \r\nL 216.458996 148.32587 \r\nL 217.129938 148.52697 \r\nL 217.80088 151.770344 \r\nL 218.471822 153.071651 \r\nL 219.142764 156.500434 \r\nL 219.813706 151.254922 \r\nL 220.484647 152.620189 \r\nL 221.155589 150.121184 \r\nL 221.826531 144.748109 \r\nL 222.497473 141.035999 \r\nL 223.168415 138.324008 \r\nL 223.839357 137.208625 \r\nL 224.510299 128.957181 \r\nL 225.852182 134.392933 \r\nL 226.523124 133.601508 \r\nL 227.194066 129.912125 \r\nL 227.865008 139.752405 \r\nL 228.53595 134.080409 \r\nL 229.206892 133.930594 \r\nL 229.877834 134.845975 \r\nL 230.548776 145.63092 \r\nL 231.219718 138.283334 \r\nL 231.890659 136.891918 \r\nL 232.561601 135.827279 \r\nL 233.232543 137.447425 \r\nL 233.903485 131.203807 \r\nL 235.245369 128.003005 \r\nL 235.916311 131.12739 \r\nL 236.587253 139.840687 \r\nL 237.258195 145.857856 \r\nL 237.929136 142.558258 \r\nL 238.600078 147.842054 \r\nL 239.27102 151.440365 \r\nL 239.941962 156.060125 \r\nL 240.612904 147.085628 \r\nL 241.283846 147.654883 \r\nL 241.954788 153.444658 \r\nL 242.62573 147.570347 \r\nL 243.296671 143.633011 \r\nL 243.967613 136.333885 \r\nL 244.638555 130.661177 \r\nL 245.980439 124.136817 \r\nL 246.651381 127.99336 \r\nL 247.322323 126.837032 \r\nL 247.993265 126.803265 \r\nL 248.664207 137.766745 \r\nL 249.335148 140.747112 \r\nL 250.00609 146.441351 \r\nL 250.677032 143.360462 \r\nL 251.347974 139.378404 \r\nL 252.018916 139.506074 \r\nL 252.689858 139.825975 \r\nL 253.3608 140.331272 \r\nL 254.031742 135.171088 \r\nL 254.702683 137.638967 \r\nL 256.044567 141.081704 \r\nL 256.715509 141.797922 \r\nL 258.728335 135.663334 \r\nL 259.399277 125.276843 \r\nL 260.070219 126.194237 \r\nL 260.74116 125.344474 \r\nL 261.412102 123.001273 \r\nL 262.083044 123.180078 \r\nL 262.753986 121.131535 \r\nL 263.424928 123.777734 \r\nL 264.09587 115.990643 \r\nL 264.766812 115.886747 \r\nL 265.437754 117.577643 \r\nL 266.108696 119.687034 \r\nL 266.779637 116.839631 \r\nL 267.450579 119.607742 \r\nL 268.121521 127.004066 \r\nL 268.792463 130.744493 \r\nL 269.463405 123.42174 \r\nL 270.134347 121.591699 \r\nL 270.805289 124.510318 \r\nL 271.476231 119.918288 \r\nL 272.147172 119.617587 \r\nL 272.818114 117.852873 \r\nL 273.489056 113.550651 \r\nL 274.159998 112.012085 \r\nL 274.83094 116.361577 \r\nL 275.501882 107.352876 \r\nL 276.843766 115.487442 \r\nL 277.514708 111.881479 \r\nL 278.185649 117.175113 \r\nL 278.856591 116.861906 \r\nL 279.527533 114.839044 \r\nL 280.198475 118.264367 \r\nL 280.869417 116.012487 \r\nL 281.540359 106.222215 \r\nL 282.211301 108.521174 \r\nL 282.882243 110.177555 \r\nL 283.553184 113.656479 \r\nL 284.895068 106.901098 \r\nL 285.56601 107.534728 \r\nL 286.236952 107.439547 \r\nL 286.907894 111.369721 \r\nL 287.578836 111.180986 \r\nL 288.249778 118.526315 \r\nL 288.92072 109.556857 \r\nL 289.591661 118.139236 \r\nL 290.262603 112.063446 \r\nL 290.933545 113.927056 \r\nL 291.604487 113.940283 \r\nL 292.946371 123.962768 \r\nL 294.288255 125.943982 \r\nL 294.959197 126.730587 \r\nL 295.630138 129.432915 \r\nL 296.30108 128.722248 \r\nL 296.972022 127.30475 \r\nL 297.642964 120.318477 \r\nL 298.313906 120.293629 \r\nL 300.326732 127.284094 \r\nL 300.997673 125.508693 \r\nL 301.668615 126.666467 \r\nL 302.339557 126.418461 \r\nL 303.010499 124.861702 \r\nL 303.681441 119.121052 \r\nL 304.352383 126.554245 \r\nL 305.023325 123.644769 \r\nL 305.694267 129.8882 \r\nL 306.365209 124.474477 \r\nL 307.03615 130.922781 \r\nL 307.707092 124.566139 \r\nL 308.378034 125.197012 \r\nL 309.048976 120.425805 \r\nL 309.719918 117.753768 \r\nL 310.39086 124.261577 \r\nL 311.061802 122.564191 \r\nL 311.732744 122.646642 \r\nL 312.403685 118.948862 \r\nL 313.074627 125.984878 \r\nL 313.745569 125.631238 \r\nL 314.416511 117.538082 \r\nL 315.087453 121.772822 \r\nL 315.758395 124.175785 \r\nL 316.429337 123.856205 \r\nL 317.100279 116.427445 \r\nL 317.771221 120.868331 \r\nL 318.442162 116.118007 \r\nL 319.113104 113.117327 \r\nL 319.784046 112.363 \r\nL 320.454988 116.62563 \r\nL 321.12593 117.758929 \r\nL 321.796872 123.726427 \r\nL 322.467814 126.906861 \r\nL 323.138756 123.43132 \r\nL 323.809698 124.223384 \r\nL 324.480639 125.470174 \r\nL 325.151581 123.958852 \r\nL 325.822523 119.046869 \r\nL 326.493465 119.651935 \r\nL 327.164407 117.224537 \r\nL 327.835349 117.04249 \r\nL 328.506291 122.838474 \r\nL 329.177233 125.841416 \r\nL 329.848174 127.986506 \r\nL 330.519116 132.640785 \r\nL 331.190058 131.003541 \r\nL 331.861 131.889566 \r\nL 333.202884 122.499328 \r\nL 334.544768 117.441511 \r\nL 335.21571 116.246498 \r\nL 335.886651 122.425021 \r\nL 336.557593 123.746072 \r\nL 337.228535 127.631706 \r\nL 337.899477 129.590924 \r\nL 338.570419 130.118918 \r\nL 339.241361 122.963742 \r\nL 339.912303 129.360926 \r\nL 340.583245 128.840423 \r\nL 341.254186 135.979961 \r\nL 341.925128 137.904265 \r\nL 342.59607 141.969453 \r\nL 343.267012 143.226358 \r\nL 343.937954 146.520759 \r\nL 345.279838 159.030446 \r\nL 345.95078 161.379062 \r\nL 346.621722 166.671368 \r\nL 347.292663 167.762043 \r\nL 347.963605 173.730721 \r\nL 348.634547 173.331656 \r\nL 349.305489 173.702222 \r\nL 349.976431 173.614422 \r\nL 351.318315 169.854479 \r\nL 351.989257 169.01235 \r\nL 352.660199 170.841901 \r\nL 353.33114 171.553335 \r\nL 354.002082 165.212908 \r\nL 354.673024 168.398293 \r\nL 356.014908 161.581342 \r\nL 356.68585 153.800988 \r\nL 357.356792 158.875191 \r\nL 358.027734 161.975327 \r\nL 358.698675 160.364306 \r\nL 359.369617 163.537195 \r\nL 360.040559 163.527655 \r\nL 361.382443 176.682726 \r\nL 362.724327 169.575353 \r\nL 363.395269 168.77915 \r\nL 364.066211 164.201568 \r\nL 364.737152 161.372946 \r\nL 366.079036 167.742833 \r\nL 366.749978 161.436755 \r\nL 367.42092 169.86509 \r\nL 368.091862 164.861357 \r\nL 368.762804 155.008945 \r\nL 369.433746 150.201674 \r\nL 370.104687 143.772268 \r\nL 370.104687 143.772268 \r\n\" style=\"fill:none;stroke:#ff7f0e;stroke-linecap:square;stroke-width:1.5;\"/>\r\n   </g>\r\n   <g id=\"line2d_26\">\r\n    <path clip-path=\"url(#p5995a88a2b)\" d=\"M 35.304688 113.253621 \r\nL 35.975629 108.701349 \r\nL 36.646571 113.539728 \r\nL 37.317513 112.291987 \r\nL 37.988455 113.596919 \r\nL 38.659397 106.171343 \r\nL 39.330339 109.62348 \r\nL 40.001281 111.654797 \r\nL 40.672223 112.276517 \r\nL 41.343164 110.104538 \r\nL 42.014106 111.020611 \r\nL 42.685048 114.257921 \r\nL 43.35599 119.134438 \r\nL 44.026932 119.023536 \r\nL 44.697874 121.96065 \r\nL 45.368816 122.519537 \r\nL 46.039758 124.182127 \r\nL 46.7107 124.558664 \r\nL 47.381641 128.67306 \r\nL 48.052583 122.314469 \r\nL 48.723525 128.777295 \r\nL 49.394467 128.500197 \r\nL 50.065409 120.247914 \r\nL 50.736351 117.093457 \r\nL 51.407293 120.310522 \r\nL 52.078235 120.656499 \r\nL 52.749176 113.294342 \r\nL 53.420118 111.034794 \r\nL 54.09106 117.152042 \r\nL 54.762002 117.307027 \r\nL 55.432944 115.313153 \r\nL 56.103886 106.989645 \r\nL 56.774828 109.640795 \r\nL 57.44577 106.148173 \r\nL 58.116712 108.911566 \r\nL 58.787653 104.572666 \r\nL 59.458595 109.397293 \r\nL 60.129537 106.991613 \r\nL 60.800479 106.85739 \r\nL 62.142363 112.499704 \r\nL 62.813305 112.560056 \r\nL 63.484247 110.612617 \r\nL 64.155189 118.719019 \r\nL 65.497072 126.139501 \r\nL 66.838956 117.483916 \r\nL 67.509898 111.358055 \r\nL 68.18084 110.656422 \r\nL 69.522724 100.679971 \r\nL 70.864607 113.044035 \r\nL 71.535549 108.194341 \r\nL 72.206491 112.646105 \r\nL 72.877433 112.704661 \r\nL 73.548375 116.643823 \r\nL 74.219317 112.883613 \r\nL 74.890259 108.178141 \r\nL 75.561201 111.63499 \r\nL 76.232142 113.175473 \r\nL 77.574026 106.114337 \r\nL 78.244968 108.541603 \r\nL 78.91591 109.184837 \r\nL 79.586852 102.789942 \r\nL 80.257794 99.23774 \r\nL 80.928736 101.753452 \r\nL 81.599677 103.370523 \r\nL 82.270619 100.869215 \r\nL 82.941561 94.743969 \r\nL 83.612503 95.034569 \r\nL 84.283445 91.285036 \r\nL 84.954387 92.622576 \r\nL 85.625329 92.971575 \r\nL 86.296271 92.988541 \r\nL 86.967213 92.234965 \r\nL 87.638154 92.252224 \r\nL 88.309096 85.137875 \r\nL 89.65098 100.322034 \r\nL 90.321922 99.367096 \r\nL 90.992864 97.569844 \r\nL 91.663806 97.869845 \r\nL 92.334748 93.949081 \r\nL 93.00569 95.102688 \r\nL 93.676631 90.377938 \r\nL 94.347573 101.196888 \r\nL 95.018515 97.603445 \r\nL 95.689457 99.78715 \r\nL 96.360399 95.853978 \r\nL 97.031341 100.546121 \r\nL 97.702283 101.35207 \r\nL 98.373225 106.274986 \r\nL 99.715108 98.751753 \r\nL 100.38605 93.0218 \r\nL 101.056992 94.256835 \r\nL 101.727934 90.1859 \r\nL 102.398876 88.265323 \r\nL 103.069818 88.635126 \r\nL 103.74076 89.800045 \r\nL 104.411702 87.812617 \r\nL 105.082643 83.039379 \r\nL 105.753585 83.209808 \r\nL 106.424527 83.668023 \r\nL 107.095469 80.482379 \r\nL 108.437353 83.928579 \r\nL 109.108295 81.023518 \r\nL 109.779237 76.929642 \r\nL 111.12112 84.69436 \r\nL 111.792062 78.403138 \r\nL 112.463004 80.936193 \r\nL 113.133946 82.820537 \r\nL 113.804888 78.917189 \r\nL 114.47583 86.099458 \r\nL 115.146772 81.126081 \r\nL 115.817714 79.599922 \r\nL 116.488655 79.999709 \r\nL 117.159597 86.57666 \r\nL 117.830539 86.442042 \r\nL 118.501481 81.678006 \r\nL 119.172423 87.606463 \r\nL 119.843365 83.52169 \r\nL 120.514307 84.519563 \r\nL 121.185249 77.106765 \r\nL 121.856191 74.16273 \r\nL 122.527132 69.514693 \r\nL 123.198074 63.390119 \r\nL 123.869016 67.751992 \r\nL 124.539958 68.817084 \r\nL 125.2109 70.382553 \r\nL 125.881842 72.602028 \r\nL 126.552784 72.62945 \r\nL 127.223726 73.644211 \r\nL 127.894667 71.370611 \r\nL 129.236551 78.664826 \r\nL 129.907493 76.968932 \r\nL 130.578435 72.108024 \r\nL 131.249377 77.891877 \r\nL 131.920319 84.953211 \r\nL 132.591261 77.000714 \r\nL 133.262203 72.29306 \r\nL 133.933144 69.512025 \r\nL 134.604086 74.174355 \r\nL 135.275028 77.632969 \r\nL 135.94597 80.319841 \r\nL 136.616912 78.074005 \r\nL 137.287854 84.488676 \r\nL 137.958796 85.646612 \r\nL 138.629738 87.870697 \r\nL 139.300679 84.304565 \r\nL 139.971621 79.745845 \r\nL 140.642563 82.061455 \r\nL 141.313505 72.324481 \r\nL 141.984447 71.277993 \r\nL 142.655389 73.332181 \r\nL 143.326331 77.914217 \r\nL 143.997273 85.936402 \r\nL 144.668215 89.413712 \r\nL 145.339156 97.215841 \r\nL 146.68104 106.383091 \r\nL 147.351982 107.974571 \r\nL 148.022924 115.723248 \r\nL 148.693866 120.391855 \r\nL 149.364808 118.474266 \r\nL 150.03575 121.820651 \r\nL 150.706692 128.717693 \r\nL 151.377633 133.374884 \r\nL 152.048575 139.385452 \r\nL 152.719517 137.542462 \r\nL 153.390459 134.120952 \r\nL 154.061401 136.029642 \r\nL 154.732343 136.796485 \r\nL 155.403285 133.886519 \r\nL 156.074227 134.492705 \r\nL 157.41611 137.806276 \r\nL 158.087052 137.800805 \r\nL 158.757994 141.915452 \r\nL 159.428936 138.192338 \r\nL 160.099878 133.567123 \r\nL 160.77082 133.328908 \r\nL 161.441762 134.048255 \r\nL 162.112704 129.518425 \r\nL 162.783645 136.021146 \r\nL 163.454587 129.478629 \r\nL 164.125529 130.303562 \r\nL 164.796471 128.500787 \r\nL 166.138355 136.282833 \r\nL 166.809297 141.727892 \r\nL 167.480239 134.23289 \r\nL 168.15118 123.809442 \r\nL 168.822122 129.12843 \r\nL 169.493064 128.632783 \r\nL 170.164006 126.043304 \r\nL 170.834948 126.77873 \r\nL 171.50589 127.719422 \r\nL 172.176832 122.115618 \r\nL 172.847774 117.950092 \r\nL 173.518716 123.281154 \r\nL 174.189657 118.954512 \r\nL 174.860599 116.589375 \r\nL 175.531541 118.927088 \r\nL 176.202483 118.513533 \r\nL 176.873425 116.078917 \r\nL 177.544367 117.410634 \r\nL 178.215309 121.068756 \r\nL 178.886251 121.140863 \r\nL 179.557193 121.63982 \r\nL 180.228134 123.52829 \r\nL 180.899076 122.659642 \r\nL 181.570018 123.572021 \r\nL 182.24096 122.613101 \r\nL 182.911902 127.562452 \r\nL 183.582844 123.563273 \r\nL 184.253786 120.438766 \r\nL 184.924728 127.547314 \r\nL 185.595669 126.79766 \r\nL 186.266611 122.496668 \r\nL 186.937553 123.701646 \r\nL 187.608495 129.243314 \r\nL 188.279437 129.882702 \r\nL 188.950379 127.289526 \r\nL 189.621321 126.91391 \r\nL 190.292263 119.682939 \r\nL 190.963205 121.120395 \r\nL 191.634146 128.081738 \r\nL 192.305088 130.89862 \r\nL 192.97603 122.010461 \r\nL 193.646972 121.140418 \r\nL 194.317914 121.482978 \r\nL 194.988856 117.425439 \r\nL 195.659798 120.13173 \r\nL 196.33074 112.064783 \r\nL 197.001681 113.499826 \r\nL 197.672623 114.07053 \r\nL 198.343565 115.726694 \r\nL 199.014507 113.66147 \r\nL 199.685449 114.773316 \r\nL 200.356391 114.309067 \r\nL 201.027333 117.492127 \r\nL 201.698275 120.081124 \r\nL 202.369217 124.745897 \r\nL 203.040158 124.322708 \r\nL 203.7111 121.244191 \r\nL 204.382042 123.862241 \r\nL 205.052984 116.251612 \r\nL 205.723926 120.399565 \r\nL 207.06581 131.782738 \r\nL 207.736752 128.687977 \r\nL 209.078635 124.118816 \r\nL 209.749577 132.327102 \r\nL 210.420519 132.63916 \r\nL 211.091461 128.625942 \r\nL 211.762403 122.994332 \r\nL 212.433345 122.939466 \r\nL 213.104287 125.637106 \r\nL 213.775229 122.569578 \r\nL 214.44617 122.989364 \r\nL 216.458996 136.683666 \r\nL 217.129938 134.344445 \r\nL 217.80088 135.890147 \r\nL 218.471822 137.754337 \r\nL 219.813706 122.406476 \r\nL 220.484647 120.858219 \r\nL 221.155589 120.044947 \r\nL 221.826531 123.01604 \r\nL 222.497473 119.906916 \r\nL 223.168415 117.93865 \r\nL 223.839357 122.585321 \r\nL 224.510299 129.716911 \r\nL 225.181241 125.713062 \r\nL 225.852182 117.654832 \r\nL 226.523124 117.643947 \r\nL 227.194066 112.471054 \r\nL 227.865008 114.332312 \r\nL 228.53595 114.662302 \r\nL 229.206892 114.447942 \r\nL 231.219718 108.268643 \r\nL 231.890659 114.116395 \r\nL 232.561601 112.855791 \r\nL 233.232543 109.435245 \r\nL 233.903485 115.113351 \r\nL 234.574427 113.344299 \r\nL 235.245369 104.792038 \r\nL 235.916311 104.613019 \r\nL 236.587253 108.531917 \r\nL 237.258195 109.245387 \r\nL 237.929136 103.376909 \r\nL 238.600078 102.334977 \r\nL 239.27102 94.567186 \r\nL 239.941962 104.259449 \r\nL 240.612904 108.617219 \r\nL 241.283846 108.170985 \r\nL 241.954788 115.937681 \r\nL 242.62573 116.068224 \r\nL 243.296671 117.914184 \r\nL 243.967613 111.571951 \r\nL 244.638555 115.523148 \r\nL 245.309497 109.570267 \r\nL 245.980439 111.146902 \r\nL 246.651381 111.358709 \r\nL 247.322323 117.743924 \r\nL 247.993265 115.821164 \r\nL 248.664207 115.428782 \r\nL 249.335148 116.83957 \r\nL 250.00609 113.204616 \r\nL 250.677032 114.948495 \r\nL 251.347974 111.192377 \r\nL 252.018916 114.005429 \r\nL 252.689858 122.19897 \r\nL 253.3608 127.997588 \r\nL 254.031742 127.276212 \r\nL 254.702683 130.229592 \r\nL 255.373625 131.103795 \r\nL 256.715509 123.668874 \r\nL 257.386451 112.903576 \r\nL 258.057393 108.942923 \r\nL 258.728335 101.58925 \r\nL 259.399277 103.750543 \r\nL 260.070219 101.608245 \r\nL 260.74116 103.997644 \r\nL 261.412102 96.119492 \r\nL 262.083044 94.588726 \r\nL 262.753986 94.780567 \r\nL 263.424928 95.256584 \r\nL 264.09587 88.317653 \r\nL 264.766812 94.36512 \r\nL 266.108696 96.624982 \r\nL 266.779637 94.353911 \r\nL 267.450579 96.532989 \r\nL 268.121521 88.13944 \r\nL 268.792463 90.190653 \r\nL 269.463405 85.009747 \r\nL 270.134347 83.925838 \r\nL 270.805289 87.508871 \r\nL 271.476231 80.746567 \r\nL 272.147172 84.370695 \r\nL 272.818114 83.430341 \r\nL 273.489056 78.408713 \r\nL 274.159998 80.624149 \r\nL 274.83094 77.859709 \r\nL 275.501882 81.034522 \r\nL 276.172824 79.300808 \r\nL 276.843766 75.303731 \r\nL 277.514708 77.395108 \r\nL 278.185649 77.217506 \r\nL 278.856591 77.874491 \r\nL 279.527533 79.08991 \r\nL 280.198475 75.695822 \r\nL 280.869417 77.667975 \r\nL 281.540359 77.535202 \r\nL 282.211301 78.716281 \r\nL 282.882243 70.592598 \r\nL 283.553184 73.445177 \r\nL 284.224126 72.670292 \r\nL 284.895068 79.849722 \r\nL 285.56601 78.565743 \r\nL 286.236952 88.378427 \r\nL 286.907894 90.304352 \r\nL 287.578836 89.423965 \r\nL 288.249778 89.824242 \r\nL 289.591661 83.521044 \r\nL 290.262603 92.925945 \r\nL 290.933545 88.528512 \r\nL 291.604487 88.323239 \r\nL 292.275429 81.543723 \r\nL 292.946371 90.652718 \r\nL 293.617313 87.3331 \r\nL 294.288255 87.573242 \r\nL 294.959197 82.277389 \r\nL 295.630138 89.60995 \r\nL 296.30108 90.814163 \r\nL 296.972022 83.034529 \r\nL 297.642964 86.113916 \r\nL 298.313906 80.52489 \r\nL 298.984848 78.867729 \r\nL 299.65579 74.142421 \r\nL 300.326732 72.979188 \r\nL 300.997673 76.842837 \r\nL 301.668615 83.785989 \r\nL 303.010499 93.823794 \r\nL 304.352383 80.147331 \r\nL 305.023325 82.119719 \r\nL 305.694267 80.478333 \r\nL 306.365209 81.005544 \r\nL 307.03615 78.852456 \r\nL 307.707092 76.283249 \r\nL 309.719918 62.94218 \r\nL 310.39086 64.828474 \r\nL 311.061802 61.328793 \r\nL 311.732744 62.379646 \r\nL 312.403685 63.685216 \r\nL 313.074627 59.473293 \r\nL 313.745569 58.940534 \r\nL 315.087453 59.603366 \r\nL 315.758395 58.029274 \r\nL 316.429337 57.904286 \r\nL 317.771221 50.972333 \r\nL 318.442162 54.107714 \r\nL 319.113104 52.038011 \r\nL 319.784046 47.301383 \r\nL 320.454988 47.4183 \r\nL 321.12593 49.905003 \r\nL 321.796872 49.753079 \r\nL 322.467814 46.694867 \r\nL 323.138756 51.047894 \r\nL 323.809698 52.670399 \r\nL 324.480639 58.46668 \r\nL 325.151581 53.913522 \r\nL 325.822523 53.301255 \r\nL 326.493465 48.780089 \r\nL 327.164407 46.2952 \r\nL 327.835349 55.796231 \r\nL 328.506291 56.514258 \r\nL 329.177233 61.301206 \r\nL 329.848174 54.941483 \r\nL 330.519116 57.635003 \r\nL 331.190058 64.637421 \r\nL 331.861 59.14232 \r\nL 332.531942 64.459086 \r\nL 333.202884 65.114392 \r\nL 333.873826 64.551059 \r\nL 334.544768 61.859931 \r\nL 335.21571 61.575227 \r\nL 335.886651 59.124575 \r\nL 336.557593 49.926562 \r\nL 337.228535 50.591517 \r\nL 337.899477 54.65065 \r\nL 338.570419 57.243592 \r\nL 339.241361 63.613561 \r\nL 339.912303 63.772256 \r\nL 341.254186 48.648862 \r\nL 341.925128 49.882097 \r\nL 343.267012 42.378175 \r\nL 343.937954 42.395843 \r\nL 344.608896 41.348894 \r\nL 345.279838 44.404365 \r\nL 345.95078 39.864313 \r\nL 346.621722 36.661597 \r\nL 347.292663 32.118431 \r\nL 347.963605 25.52854 \r\nL 348.634547 32.69102 \r\nL 349.976431 18.25016 \r\nL 350.647373 18.66258 \r\nL 351.318315 17.083636 \r\nL 351.989257 26.509091 \r\nL 352.660199 26.472867 \r\nL 353.33114 19.829091 \r\nL 354.002082 18.769359 \r\nL 354.673024 25.730653 \r\nL 355.343966 27.544581 \r\nL 356.014908 33.928142 \r\nL 356.68585 33.755006 \r\nL 357.356792 34.076651 \r\nL 358.027734 33.960383 \r\nL 358.698675 23.800022 \r\nL 359.369617 22.969771 \r\nL 360.040559 29.26229 \r\nL 360.711501 28.834495 \r\nL 361.382443 33.090582 \r\nL 362.053385 33.828542 \r\nL 362.724327 31.638296 \r\nL 363.395269 31.046737 \r\nL 364.066211 33.141184 \r\nL 364.737152 34.673655 \r\nL 365.408094 38.608083 \r\nL 366.079036 49.453647 \r\nL 366.749978 50.932384 \r\nL 367.42092 47.652565 \r\nL 368.091862 47.422867 \r\nL 368.762804 40.763398 \r\nL 370.104687 34.603761 \r\nL 370.104687 34.603761 \r\n\" style=\"fill:none;stroke:#2ca02c;stroke-linecap:square;stroke-width:1.5;\"/>\r\n   </g>\r\n   <g id=\"line2d_27\">\r\n    <path clip-path=\"url(#p5995a88a2b)\" d=\"M 35.304688 108.93209 \r\nL 35.975629 109.534028 \r\nL 36.646571 116.477113 \r\nL 37.317513 109.937607 \r\nL 37.988455 111.424655 \r\nL 38.659397 106.198705 \r\nL 40.001281 99.504256 \r\nL 40.672223 99.065622 \r\nL 41.343164 102.505415 \r\nL 42.685048 92.735463 \r\nL 43.35599 99.019157 \r\nL 44.026932 93.722238 \r\nL 44.697874 95.555679 \r\nL 45.368816 102.283847 \r\nL 46.039758 102.586414 \r\nL 46.7107 101.36669 \r\nL 48.052583 93.357704 \r\nL 48.723525 94.185961 \r\nL 49.394467 95.970571 \r\nL 50.065409 97.286321 \r\nL 50.736351 97.648478 \r\nL 51.407293 93.977412 \r\nL 52.078235 95.347868 \r\nL 52.749176 91.8838 \r\nL 53.420118 84.825271 \r\nL 54.09106 89.404093 \r\nL 54.762002 91.040523 \r\nL 55.432944 94.446761 \r\nL 56.103886 96.057335 \r\nL 56.774828 96.771314 \r\nL 57.44577 97.695714 \r\nL 58.116712 103.037833 \r\nL 58.787653 97.597913 \r\nL 59.458595 104.235189 \r\nL 60.129537 106.58719 \r\nL 60.800479 101.217727 \r\nL 61.471421 103.130225 \r\nL 62.142363 101.316535 \r\nL 62.813305 101.017736 \r\nL 63.484247 104.345659 \r\nL 64.155189 98.304789 \r\nL 64.82613 96.366879 \r\nL 65.497072 94.070093 \r\nL 66.838956 103.180778 \r\nL 67.509898 103.394435 \r\nL 68.18084 103.335052 \r\nL 68.851782 109.254689 \r\nL 69.522724 110.952209 \r\nL 70.193665 101.69747 \r\nL 70.864607 104.014279 \r\nL 71.535549 111.388957 \r\nL 72.206491 111.562399 \r\nL 72.877433 110.790318 \r\nL 73.548375 114.082816 \r\nL 74.219317 107.947651 \r\nL 74.890259 108.549283 \r\nL 75.561201 100.776869 \r\nL 76.232142 90.529324 \r\nL 77.574026 81.179339 \r\nL 78.244968 78.324585 \r\nL 78.91591 86.301189 \r\nL 79.586852 89.815343 \r\nL 80.257794 97.306188 \r\nL 80.928736 96.61616 \r\nL 82.270619 90.249822 \r\nL 82.941561 90.317552 \r\nL 83.612503 90.056994 \r\nL 84.283445 86.655403 \r\nL 84.954387 90.60129 \r\nL 85.625329 93.455747 \r\nL 86.296271 98.529219 \r\nL 86.967213 93.583771 \r\nL 87.638154 94.238108 \r\nL 88.309096 96.929478 \r\nL 88.980038 102.332049 \r\nL 89.65098 100.192501 \r\nL 90.321922 102.196525 \r\nL 90.992864 101.432028 \r\nL 91.663806 98.308806 \r\nL 92.334748 96.488877 \r\nL 93.00569 95.523409 \r\nL 93.676631 97.800513 \r\nL 94.347573 99.649511 \r\nL 95.018515 100.162494 \r\nL 95.689457 102.622148 \r\nL 96.360399 98.294452 \r\nL 97.031341 104.612987 \r\nL 97.702283 107.08229 \r\nL 98.373225 104.912978 \r\nL 99.044166 110.411471 \r\nL 99.715108 112.435196 \r\nL 100.38605 114.049547 \r\nL 101.727934 118.171165 \r\nL 102.398876 114.806728 \r\nL 103.069818 118.746364 \r\nL 103.74076 121.048768 \r\nL 104.411702 125.542003 \r\nL 105.082643 132.300324 \r\nL 105.753585 129.16404 \r\nL 106.424527 128.355105 \r\nL 107.095469 123.184156 \r\nL 107.766411 121.022471 \r\nL 108.437353 117.677127 \r\nL 109.108295 124.980915 \r\nL 109.779237 120.471755 \r\nL 110.450178 123.086188 \r\nL 111.12112 123.641957 \r\nL 111.792062 123.626576 \r\nL 112.463004 120.757348 \r\nL 113.133946 133.819894 \r\nL 113.804888 131.838935 \r\nL 114.47583 129.448578 \r\nL 115.146772 129.331282 \r\nL 115.817714 130.654287 \r\nL 116.488655 132.291062 \r\nL 117.159597 128.919596 \r\nL 117.830539 127.894412 \r\nL 118.501481 128.933957 \r\nL 119.172423 127.736894 \r\nL 119.843365 130.30628 \r\nL 120.514307 128.861273 \r\nL 121.185249 128.984547 \r\nL 121.856191 125.644265 \r\nL 122.527132 119.654278 \r\nL 123.198074 119.333959 \r\nL 123.869016 115.524693 \r\nL 124.539958 106.819737 \r\nL 125.2109 112.641064 \r\nL 125.881842 108.90939 \r\nL 126.552784 112.86539 \r\nL 127.223726 110.217242 \r\nL 127.894667 115.045525 \r\nL 128.565609 114.827132 \r\nL 129.236551 116.004394 \r\nL 129.907493 121.652136 \r\nL 130.578435 114.46635 \r\nL 131.249377 118.612745 \r\nL 131.920319 115.787086 \r\nL 132.591261 114.80481 \r\nL 133.262203 114.863952 \r\nL 133.933144 116.308649 \r\nL 134.604086 121.786502 \r\nL 135.275028 122.467625 \r\nL 135.94597 111.501908 \r\nL 136.616912 116.365887 \r\nL 137.287854 115.890119 \r\nL 137.958796 112.561222 \r\nL 138.629738 110.130802 \r\nL 139.300679 108.580937 \r\nL 139.971621 106.036117 \r\nL 140.642563 97.686998 \r\nL 141.313505 108.679512 \r\nL 141.984447 109.625417 \r\nL 142.655389 115.423454 \r\nL 143.326331 113.020693 \r\nL 143.997273 114.308181 \r\nL 144.668215 116.590907 \r\nL 145.339156 119.532287 \r\nL 146.010098 119.001313 \r\nL 146.68104 120.971223 \r\nL 147.351982 119.760165 \r\nL 148.022924 114.550921 \r\nL 148.693866 113.647954 \r\nL 149.364808 117.853151 \r\nL 150.03575 123.078606 \r\nL 150.706692 120.89569 \r\nL 151.377633 120.607703 \r\nL 152.048575 124.158398 \r\nL 152.719517 113.586785 \r\nL 153.390459 108.601215 \r\nL 154.061401 107.147157 \r\nL 154.732343 98.380816 \r\nL 156.074227 100.01411 \r\nL 156.745168 102.852722 \r\nL 157.41611 91.73809 \r\nL 158.087052 86.962506 \r\nL 158.757994 90.523024 \r\nL 159.428936 89.99085 \r\nL 160.099878 85.39121 \r\nL 162.112704 74.619001 \r\nL 162.783645 76.603818 \r\nL 164.125529 82.703843 \r\nL 164.796471 77.438791 \r\nL 165.467413 73.50761 \r\nL 166.138355 84.567692 \r\nL 166.809297 87.388808 \r\nL 167.480239 91.858054 \r\nL 168.15118 94.041054 \r\nL 168.822122 92.762408 \r\nL 169.493064 95.205346 \r\nL 170.164006 98.500834 \r\nL 171.50589 88.046586 \r\nL 172.176832 94.465132 \r\nL 172.847774 93.42554 \r\nL 173.518716 99.188924 \r\nL 174.189657 88.806178 \r\nL 174.860599 87.005399 \r\nL 175.531541 88.308433 \r\nL 176.202483 88.272787 \r\nL 176.873425 90.708864 \r\nL 178.215309 80.248911 \r\nL 178.886251 78.398601 \r\nL 179.557193 78.988651 \r\nL 180.228134 75.447889 \r\nL 180.899076 73.151099 \r\nL 181.570018 74.024262 \r\nL 182.24096 74.241436 \r\nL 182.911902 75.522917 \r\nL 183.582844 73.35223 \r\nL 184.253786 78.189964 \r\nL 184.924728 76.601933 \r\nL 185.595669 77.659492 \r\nL 186.937553 85.641829 \r\nL 187.608495 79.771051 \r\nL 188.279437 76.857847 \r\nL 188.950379 78.205111 \r\nL 190.292263 68.592437 \r\nL 190.963205 71.202089 \r\nL 191.634146 71.170413 \r\nL 192.305088 68.203041 \r\nL 193.646972 65.444509 \r\nL 194.317914 65.993693 \r\nL 194.988856 67.559487 \r\nL 195.659798 63.54521 \r\nL 196.33074 66.890912 \r\nL 197.001681 63.74601 \r\nL 197.672623 68.057522 \r\nL 199.014507 62.454711 \r\nL 199.685449 61.092234 \r\nL 200.356391 68.032781 \r\nL 201.027333 71.340076 \r\nL 201.698275 61.636799 \r\nL 202.369217 62.011951 \r\nL 203.040158 65.752616 \r\nL 203.7111 64.713421 \r\nL 204.382042 67.805457 \r\nL 205.052984 71.446037 \r\nL 205.723926 67.478445 \r\nL 206.394868 74.509163 \r\nL 207.06581 72.742353 \r\nL 207.736752 72.385108 \r\nL 208.407694 80.600109 \r\nL 209.078635 82.368002 \r\nL 210.420519 81.601735 \r\nL 211.091461 78.937077 \r\nL 211.762403 81.214621 \r\nL 212.433345 82.670873 \r\nL 213.104287 78.205479 \r\nL 213.775229 78.99507 \r\nL 214.44617 72.975358 \r\nL 215.117112 79.410128 \r\nL 215.788054 74.499722 \r\nL 217.129938 61.868262 \r\nL 217.80088 60.982094 \r\nL 218.471822 54.013643 \r\nL 219.142764 53.109446 \r\nL 219.813706 54.59025 \r\nL 220.484647 52.9865 \r\nL 221.155589 52.885204 \r\nL 221.826531 62.856956 \r\nL 222.497473 64.472113 \r\nL 223.168415 63.759461 \r\nL 223.839357 61.575768 \r\nL 224.510299 59.83393 \r\nL 225.181241 60.875886 \r\nL 225.852182 59.550692 \r\nL 226.523124 62.94244 \r\nL 227.194066 62.617167 \r\nL 227.865008 60.726453 \r\nL 228.53595 53.966011 \r\nL 229.206892 61.80632 \r\nL 229.877834 60.083201 \r\nL 230.548776 61.801276 \r\nL 231.219718 52.93323 \r\nL 231.890659 57.133574 \r\nL 232.561601 67.23295 \r\nL 233.232543 67.429985 \r\nL 233.903485 63.589641 \r\nL 234.574427 64.215945 \r\nL 235.245369 60.014086 \r\nL 236.587253 57.814276 \r\nL 237.258195 55.397144 \r\nL 237.929136 48.566683 \r\nL 238.600078 46.251044 \r\nL 239.27102 54.522193 \r\nL 239.941962 46.957969 \r\nL 240.612904 46.040207 \r\nL 241.283846 50.467424 \r\nL 241.954788 47.76262 \r\nL 242.62573 41.856883 \r\nL 243.296671 42.047168 \r\nL 244.638555 44.474796 \r\nL 245.309497 56.850813 \r\nL 245.980439 58.832465 \r\nL 246.651381 51.036163 \r\nL 247.322323 55.164486 \r\nL 247.993265 56.407747 \r\nL 249.335148 66.543701 \r\nL 250.00609 70.488216 \r\nL 250.677032 72.898348 \r\nL 251.347974 74.529328 \r\nL 252.018916 64.410593 \r\nL 252.689858 69.405856 \r\nL 253.3608 70.43666 \r\nL 254.031742 70.826344 \r\nL 254.702683 69.998085 \r\nL 255.373625 68.363565 \r\nL 256.044567 64.956897 \r\nL 256.715509 65.490525 \r\nL 257.386451 64.188747 \r\nL 258.057393 67.067917 \r\nL 258.728335 76.770228 \r\nL 259.399277 82.303214 \r\nL 260.070219 79.909722 \r\nL 260.74116 81.545221 \r\nL 261.412102 81.794222 \r\nL 262.083044 85.71673 \r\nL 262.753986 92.215488 \r\nL 263.424928 84.777602 \r\nL 264.09587 87.920031 \r\nL 264.766812 88.861902 \r\nL 265.437754 89.506942 \r\nL 266.108696 87.061244 \r\nL 266.779637 81.801864 \r\nL 267.450579 83.086526 \r\nL 268.121521 83.172251 \r\nL 268.792463 82.719413 \r\nL 269.463405 85.070304 \r\nL 270.134347 83.474509 \r\nL 271.476231 94.804731 \r\nL 272.147172 95.002071 \r\nL 272.818114 95.449033 \r\nL 273.489056 84.688013 \r\nL 274.159998 85.463059 \r\nL 274.83094 81.1046 \r\nL 275.501882 83.845374 \r\nL 276.172824 81.51438 \r\nL 276.843766 80.842809 \r\nL 277.514708 80.00211 \r\nL 278.185649 92.561303 \r\nL 278.856591 90.931515 \r\nL 279.527533 91.250199 \r\nL 280.198475 90.583294 \r\nL 280.869417 88.295996 \r\nL 281.540359 88.461907 \r\nL 282.211301 76.855384 \r\nL 282.882243 76.345939 \r\nL 284.224126 62.119979 \r\nL 284.895068 51.034423 \r\nL 285.56601 52.6528 \r\nL 286.907894 53.432576 \r\nL 287.578836 57.018874 \r\nL 288.249778 64.669992 \r\nL 289.591661 58.581135 \r\nL 290.262603 57.881467 \r\nL 290.933545 63.869016 \r\nL 291.604487 67.075458 \r\nL 292.275429 64.492365 \r\nL 292.946371 64.367915 \r\nL 294.959197 58.827341 \r\nL 295.630138 60.185829 \r\nL 296.30108 71.926833 \r\nL 296.972022 72.377944 \r\nL 297.642964 78.092585 \r\nL 298.313906 72.213632 \r\nL 298.984848 69.396235 \r\nL 299.65579 64.230018 \r\nL 300.326732 62.496242 \r\nL 300.997673 57.694044 \r\nL 301.668615 55.019568 \r\nL 302.339557 56.824452 \r\nL 303.010499 52.829997 \r\nL 303.681441 55.504523 \r\nL 304.352383 56.488197 \r\nL 305.023325 54.440308 \r\nL 306.365209 53.233213 \r\nL 307.03615 50.795282 \r\nL 307.707092 57.269832 \r\nL 308.378034 57.640155 \r\nL 309.048976 57.024023 \r\nL 310.39086 64.650944 \r\nL 311.061802 61.520289 \r\nL 311.732744 69.797576 \r\nL 312.403685 68.647485 \r\nL 313.074627 73.738659 \r\nL 313.745569 76.195848 \r\nL 315.087453 84.502492 \r\nL 315.758395 86.786845 \r\nL 316.429337 92.23349 \r\nL 317.100279 88.917741 \r\nL 317.771221 86.567021 \r\nL 318.442162 78.611762 \r\nL 319.113104 79.908441 \r\nL 319.784046 86.559451 \r\nL 320.454988 89.11231 \r\nL 321.12593 96.80251 \r\nL 321.796872 90.601846 \r\nL 322.467814 89.217764 \r\nL 323.138756 93.610271 \r\nL 323.809698 93.618665 \r\nL 324.480639 97.674719 \r\nL 325.151581 97.339661 \r\nL 325.822523 99.737903 \r\nL 326.493465 101.661564 \r\nL 327.835349 95.752975 \r\nL 328.506291 90.743964 \r\nL 329.177233 92.178384 \r\nL 329.848174 84.978966 \r\nL 330.519116 82.06958 \r\nL 331.190058 86.017373 \r\nL 331.861 75.722146 \r\nL 332.531942 74.170283 \r\nL 333.202884 77.501483 \r\nL 333.873826 79.615529 \r\nL 334.544768 86.772887 \r\nL 335.21571 88.647904 \r\nL 335.886651 82.561952 \r\nL 336.557593 77.823443 \r\nL 337.899477 79.613006 \r\nL 338.570419 79.928621 \r\nL 339.241361 79.851151 \r\nL 339.912303 85.574164 \r\nL 340.583245 83.293081 \r\nL 341.254186 83.898145 \r\nL 342.59607 73.206428 \r\nL 343.267012 76.882206 \r\nL 343.937954 75.391639 \r\nL 344.608896 77.705502 \r\nL 345.279838 74.679717 \r\nL 345.95078 74.049798 \r\nL 346.621722 74.668039 \r\nL 347.292663 73.169878 \r\nL 347.963605 76.904639 \r\nL 348.634547 79.12481 \r\nL 349.305489 78.151586 \r\nL 349.976431 66.078169 \r\nL 350.647373 66.104824 \r\nL 351.318315 64.474807 \r\nL 351.989257 63.884119 \r\nL 352.660199 72.635876 \r\nL 353.33114 68.114764 \r\nL 354.002082 80.521727 \r\nL 354.673024 77.317923 \r\nL 356.014908 72.715652 \r\nL 356.68585 77.98382 \r\nL 357.356792 76.712934 \r\nL 358.027734 76.266391 \r\nL 358.698675 78.279628 \r\nL 359.369617 82.067627 \r\nL 360.040559 84.45353 \r\nL 360.711501 84.072848 \r\nL 361.382443 84.944178 \r\nL 362.053385 88.700309 \r\nL 362.724327 81.867306 \r\nL 363.395269 85.690787 \r\nL 364.066211 81.638951 \r\nL 364.737152 83.183997 \r\nL 365.408094 83.493603 \r\nL 366.079036 86.312314 \r\nL 366.749978 84.895489 \r\nL 367.42092 84.202822 \r\nL 368.091862 81.795268 \r\nL 368.762804 82.031383 \r\nL 369.433746 84.259665 \r\nL 370.104687 84.233862 \r\nL 370.104687 84.233862 \r\n\" style=\"fill:none;stroke:#d62728;stroke-linecap:square;stroke-width:1.5;\"/>\r\n   </g>\r\n   <g id=\"patch_3\">\r\n    <path d=\"M 35.304688 224.64 \r\nL 35.304688 7.2 \r\n\" style=\"fill:none;stroke:#000000;stroke-linecap:square;stroke-linejoin:miter;stroke-width:0.8;\"/>\r\n   </g>\r\n   <g id=\"patch_4\">\r\n    <path d=\"M 370.104688 224.64 \r\nL 370.104688 7.2 \r\n\" style=\"fill:none;stroke:#000000;stroke-linecap:square;stroke-linejoin:miter;stroke-width:0.8;\"/>\r\n   </g>\r\n   <g id=\"patch_5\">\r\n    <path d=\"M 35.304688 224.64 \r\nL 370.104687 224.64 \r\n\" style=\"fill:none;stroke:#000000;stroke-linecap:square;stroke-linejoin:miter;stroke-width:0.8;\"/>\r\n   </g>\r\n   <g id=\"patch_6\">\r\n    <path d=\"M 35.304688 7.2 \r\nL 370.104687 7.2 \r\n\" style=\"fill:none;stroke:#000000;stroke-linecap:square;stroke-linejoin:miter;stroke-width:0.8;\"/>\r\n   </g>\r\n   <g id=\"legend_1\">\r\n    <g id=\"patch_7\">\r\n     <path d=\"M 42.304688 219.64 \r\nL 82.004688 219.64 \r\nQ 84.004688 219.64 84.004688 217.64 \r\nL 84.004688 159.9275 \r\nQ 84.004688 157.9275 82.004688 157.9275 \r\nL 42.304688 157.9275 \r\nQ 40.304688 157.9275 40.304688 159.9275 \r\nL 40.304688 217.64 \r\nQ 40.304688 219.64 42.304688 219.64 \r\nz\r\n\" style=\"fill:#ffffff;opacity:0.8;stroke:#cccccc;stroke-linejoin:miter;\"/>\r\n    </g>\r\n    <g id=\"line2d_28\">\r\n     <path d=\"M 44.304688 166.025937 \r\nL 64.304688 166.025937 \r\n\" style=\"fill:none;stroke:#1f77b4;stroke-linecap:square;stroke-width:1.5;\"/>\r\n    </g>\r\n    <g id=\"line2d_29\"/>\r\n    <g id=\"text_12\">\r\n     <!-- A -->\r\n     <g transform=\"translate(72.304688 169.525937)scale(0.1 -0.1)\">\r\n      <use xlink:href=\"#DejaVuSans-65\"/>\r\n     </g>\r\n    </g>\r\n    <g id=\"line2d_30\">\r\n     <path d=\"M 44.304688 180.704062 \r\nL 64.304688 180.704062 \r\n\" style=\"fill:none;stroke:#ff7f0e;stroke-linecap:square;stroke-width:1.5;\"/>\r\n    </g>\r\n    <g id=\"line2d_31\"/>\r\n    <g id=\"text_13\">\r\n     <!-- B -->\r\n     <defs>\r\n      <path d=\"M 19.671875 34.8125 \r\nL 19.671875 8.109375 \r\nL 35.5 8.109375 \r\nQ 43.453125 8.109375 47.28125 11.40625 \r\nQ 51.125 14.703125 51.125 21.484375 \r\nQ 51.125 28.328125 47.28125 31.5625 \r\nQ 43.453125 34.8125 35.5 34.8125 \r\nz\r\nM 19.671875 64.796875 \r\nL 19.671875 42.828125 \r\nL 34.28125 42.828125 \r\nQ 41.5 42.828125 45.03125 45.53125 \r\nQ 48.578125 48.25 48.578125 53.8125 \r\nQ 48.578125 59.328125 45.03125 62.0625 \r\nQ 41.5 64.796875 34.28125 64.796875 \r\nz\r\nM 9.8125 72.90625 \r\nL 35.015625 72.90625 \r\nQ 46.296875 72.90625 52.390625 68.21875 \r\nQ 58.5 63.53125 58.5 54.890625 \r\nQ 58.5 48.1875 55.375 44.234375 \r\nQ 52.25 40.28125 46.1875 39.3125 \r\nQ 53.46875 37.75 57.5 32.78125 \r\nQ 61.53125 27.828125 61.53125 20.40625 \r\nQ 61.53125 10.640625 54.890625 5.3125 \r\nQ 48.25 0 35.984375 0 \r\nL 9.8125 0 \r\nz\r\n\" id=\"DejaVuSans-66\"/>\r\n     </defs>\r\n     <g transform=\"translate(72.304688 184.204062)scale(0.1 -0.1)\">\r\n      <use xlink:href=\"#DejaVuSans-66\"/>\r\n     </g>\r\n    </g>\r\n    <g id=\"line2d_32\">\r\n     <path d=\"M 44.304688 195.382187 \r\nL 64.304688 195.382187 \r\n\" style=\"fill:none;stroke:#2ca02c;stroke-linecap:square;stroke-width:1.5;\"/>\r\n    </g>\r\n    <g id=\"line2d_33\"/>\r\n    <g id=\"text_14\">\r\n     <!-- C -->\r\n     <defs>\r\n      <path d=\"M 64.40625 67.28125 \r\nL 64.40625 56.890625 \r\nQ 59.421875 61.53125 53.78125 63.8125 \r\nQ 48.140625 66.109375 41.796875 66.109375 \r\nQ 29.296875 66.109375 22.65625 58.46875 \r\nQ 16.015625 50.828125 16.015625 36.375 \r\nQ 16.015625 21.96875 22.65625 14.328125 \r\nQ 29.296875 6.6875 41.796875 6.6875 \r\nQ 48.140625 6.6875 53.78125 8.984375 \r\nQ 59.421875 11.28125 64.40625 15.921875 \r\nL 64.40625 5.609375 \r\nQ 59.234375 2.09375 53.4375 0.328125 \r\nQ 47.65625 -1.421875 41.21875 -1.421875 \r\nQ 24.65625 -1.421875 15.125 8.703125 \r\nQ 5.609375 18.84375 5.609375 36.375 \r\nQ 5.609375 53.953125 15.125 64.078125 \r\nQ 24.65625 74.21875 41.21875 74.21875 \r\nQ 47.75 74.21875 53.53125 72.484375 \r\nQ 59.328125 70.75 64.40625 67.28125 \r\nz\r\n\" id=\"DejaVuSans-67\"/>\r\n     </defs>\r\n     <g transform=\"translate(72.304688 198.882187)scale(0.1 -0.1)\">\r\n      <use xlink:href=\"#DejaVuSans-67\"/>\r\n     </g>\r\n    </g>\r\n    <g id=\"line2d_34\">\r\n     <path d=\"M 44.304688 210.060313 \r\nL 64.304688 210.060313 \r\n\" style=\"fill:none;stroke:#d62728;stroke-linecap:square;stroke-width:1.5;\"/>\r\n    </g>\r\n    <g id=\"line2d_35\"/>\r\n    <g id=\"text_15\">\r\n     <!-- D -->\r\n     <defs>\r\n      <path d=\"M 19.671875 64.796875 \r\nL 19.671875 8.109375 \r\nL 31.59375 8.109375 \r\nQ 46.6875 8.109375 53.6875 14.9375 \r\nQ 60.6875 21.78125 60.6875 36.53125 \r\nQ 60.6875 51.171875 53.6875 57.984375 \r\nQ 46.6875 64.796875 31.59375 64.796875 \r\nz\r\nM 9.8125 72.90625 \r\nL 30.078125 72.90625 \r\nQ 51.265625 72.90625 61.171875 64.09375 \r\nQ 71.09375 55.28125 71.09375 36.53125 \r\nQ 71.09375 17.671875 61.125 8.828125 \r\nQ 51.171875 0 30.078125 0 \r\nL 9.8125 0 \r\nz\r\n\" id=\"DejaVuSans-68\"/>\r\n     </defs>\r\n     <g transform=\"translate(72.304688 213.560313)scale(0.1 -0.1)\">\r\n      <use xlink:href=\"#DejaVuSans-68\"/>\r\n     </g>\r\n    </g>\r\n   </g>\r\n  </g>\r\n </g>\r\n <defs>\r\n  <clipPath id=\"p5995a88a2b\">\r\n   <rect height=\"217.44\" width=\"334.8\" x=\"35.304688\" y=\"7.2\"/>\r\n  </clipPath>\r\n </defs>\r\n</svg>\r\n",
      "text/plain": "<Figure size 432x288 with 1 Axes>"
     },
     "metadata": {
      "needs_background": "light"
     },
     "output_type": "display_data"
    }
   ],
   "source": [
    "# DataFrame Plot\n",
    "df = pd.DataFrame(np.random.randn(500, 4), index = ts.index, columns = ['A', 'B', 'C', 'D'])\n",
    "df = df.cumsum()\n",
    "plt.figure(); df.plot(); plt.legend(loc = 'best')"
   ]
  },
  {
   "cell_type": "markdown",
   "metadata": {},
   "source": [
    "## Outuput"
   ]
  },
  {
   "cell_type": "code",
   "execution_count": 227,
   "metadata": {},
   "outputs": [],
   "source": [
    "# Import\n",
    "import os"
   ]
  },
  {
   "cell_type": "code",
   "execution_count": 228,
   "metadata": {},
   "outputs": [
    {
     "name": "stdout",
     "output_type": "stream",
     "text": "Collecting openpyxl\n  Downloading https://files.pythonhosted.org/packages/95/8c/83563c60489954e5b80f9e2596b93a68e1ac4e4a730deb1aae632066d704/openpyxl-3.0.3.tar.gz (172kB)\nCollecting jdcal (from openpyxl)\n  Downloading https://files.pythonhosted.org/packages/f0/da/572cbc0bc582390480bbd7c4e93d14dc46079778ed915b505dc494b37c57/jdcal-1.4.1-py2.py3-none-any.whl\nCollecting et_xmlfile (from openpyxl)\n  Downloading https://files.pythonhosted.org/packages/22/28/a99c42aea746e18382ad9fb36f64c1c1f04216f41797f2f0fa567da11388/et_xmlfile-1.0.1.tar.gz\nInstalling collected packages: jdcal, et-xmlfile, openpyxl\n  Running setup.py install for et-xmlfile: started\n    Running setup.py install for et-xmlfile: finished with status 'done'\n  Running setup.py install for openpyxl: started\n    Running setup.py install for openpyxl: finished with status 'done'\nSuccessfully installed et-xmlfile-1.0.1 jdcal-1.4.1 openpyxl-3.0.3\nNote: you may need to restart the kernel to use updated packages.\nYou are using pip version 19.0.3, however version 20.0.2 is available.\nYou should consider upgrading via the 'python -m pip install --upgrade pip' command.\n"
    }
   ],
   "source": [
    "pip install openpyxl"
   ]
  },
  {
   "cell_type": "code",
   "execution_count": 225,
   "metadata": {},
   "outputs": [
    {
     "name": "stderr",
     "output_type": "stream",
     "text": "O sistema n�o pode encontrar o arquivo especificado.\n"
    }
   ],
   "source": [
    "# Verificando se o arquivo existe. No Windows use !type teste-df-output.xlsx\n",
    "# !head teste-df-output.xlsx\n",
    "!type teste-df-output.xlsx"
   ]
  },
  {
   "cell_type": "code",
   "execution_count": 229,
   "metadata": {},
   "outputs": [],
   "source": [
    "# Gerando um arquivo excel a partir de um Dataframe\n",
    "df.to_excel('teste-df-output.xlsx', sheet_name='Sheet1')"
   ]
  },
  {
   "cell_type": "code",
   "execution_count": 230,
   "metadata": {},
   "outputs": [
    {
     "name": "stderr",
     "output_type": "stream",
     "text": "'head' n�o � reconhecido como um comando interno\nou externo, um programa oper�vel ou um arquivo em lotes.\n"
    }
   ],
   "source": [
    "# Verificando se o arquivo existe. No Windows use !type teste-df-output.xlsx\n",
    "!head teste-df-output.xlsx"
   ]
  },
  {
   "cell_type": "code",
   "execution_count": 96,
   "metadata": {
    "collapsed": true
   },
   "outputs": [],
   "source": [
    "# Lendo o arquivo excel para um Dataframe\n",
    "newDf2 = pd.read_excel('teste-df-output.xlsx', 'Sheet1', index_col=None, na_values=['NA'])"
   ]
  },
  {
   "cell_type": "code",
   "execution_count": 97,
   "metadata": {},
   "outputs": [
    {
     "data": {
      "text/html": [
       "<div>\n",
       "<style scoped>\n",
       "    .dataframe tbody tr th:only-of-type {\n",
       "        vertical-align: middle;\n",
       "    }\n",
       "\n",
       "    .dataframe tbody tr th {\n",
       "        vertical-align: top;\n",
       "    }\n",
       "\n",
       "    .dataframe thead th {\n",
       "        text-align: right;\n",
       "    }\n",
       "</style>\n",
       "<table border=\"1\" class=\"dataframe\">\n",
       "  <thead>\n",
       "    <tr style=\"text-align: right;\">\n",
       "      <th></th>\n",
       "      <th>A</th>\n",
       "      <th>B</th>\n",
       "      <th>C</th>\n",
       "      <th>D</th>\n",
       "    </tr>\n",
       "  </thead>\n",
       "  <tbody>\n",
       "    <tr>\n",
       "      <th>2016-01-01</th>\n",
       "      <td>-0.761369</td>\n",
       "      <td>-3.342568</td>\n",
       "      <td>-0.313439</td>\n",
       "      <td>0.578510</td>\n",
       "    </tr>\n",
       "    <tr>\n",
       "      <th>2016-01-02</th>\n",
       "      <td>0.617142</td>\n",
       "      <td>-2.462747</td>\n",
       "      <td>-0.461796</td>\n",
       "      <td>0.778261</td>\n",
       "    </tr>\n",
       "    <tr>\n",
       "      <th>2016-01-03</th>\n",
       "      <td>1.302244</td>\n",
       "      <td>-3.243220</td>\n",
       "      <td>0.130391</td>\n",
       "      <td>1.374311</td>\n",
       "    </tr>\n",
       "    <tr>\n",
       "      <th>2016-01-04</th>\n",
       "      <td>0.777429</td>\n",
       "      <td>-3.201828</td>\n",
       "      <td>0.099690</td>\n",
       "      <td>0.199357</td>\n",
       "    </tr>\n",
       "    <tr>\n",
       "      <th>2016-01-05</th>\n",
       "      <td>1.421156</td>\n",
       "      <td>-3.081203</td>\n",
       "      <td>-0.621358</td>\n",
       "      <td>-1.700826</td>\n",
       "    </tr>\n",
       "  </tbody>\n",
       "</table>\n",
       "</div>"
      ],
      "text/plain": [
       "                   A         B         C         D\n",
       "2016-01-01 -0.761369 -3.342568 -0.313439  0.578510\n",
       "2016-01-02  0.617142 -2.462747 -0.461796  0.778261\n",
       "2016-01-03  1.302244 -3.243220  0.130391  1.374311\n",
       "2016-01-04  0.777429 -3.201828  0.099690  0.199357\n",
       "2016-01-05  1.421156 -3.081203 -0.621358 -1.700826"
      ]
     },
     "execution_count": 97,
     "metadata": {},
     "output_type": "execute_result"
    }
   ],
   "source": [
    "newDf2.head()"
   ]
  },
  {
   "cell_type": "code",
   "execution_count": 98,
   "metadata": {
    "collapsed": true
   },
   "outputs": [],
   "source": [
    "os.remove('teste-df-output.xlsx')"
   ]
  },
  {
   "cell_type": "code",
   "execution_count": 99,
   "metadata": {},
   "outputs": [
    {
     "name": "stdout",
     "output_type": "stream",
     "text": [
      "head: teste-df-output.xlsx: No such file or directory\r\n"
     ]
    }
   ],
   "source": [
    "# Verificando se o arquivo existe. No Windows use !type teste-df-output.xlsx\n",
    "!head teste-df-output.xlsx"
   ]
  },
  {
   "cell_type": "markdown",
   "metadata": {},
   "source": [
    "Conheça a Formação Cientista de Dados, um programa completo, 100% online e 100% em português, com 340 horas, mais de 1.200 aulas em vídeos e 26 projetos, que vão ajudá-lo a se tornar um dos profissionais mais cobiçados do mercado de análise de dados. Clique no link abaixo, faça sua inscrição, comece hoje mesmo e aumente sua empregabilidade:\n",
    "\n",
    "https://www.datascienceacademy.com.br/pages/formacao-cientista-de-dados"
   ]
  },
  {
   "cell_type": "markdown",
   "metadata": {
    "collapsed": true
   },
   "source": [
    "# Fim"
   ]
  },
  {
   "cell_type": "markdown",
   "metadata": {},
   "source": [
    "### Obrigado - Data Science Academy - <a href=\"http://facebook.com/dsacademybr\">facebook.com/dsacademybr</a>"
   ]
  }
 ],
 "metadata": {
  "kernelspec": {
   "display_name": "Python 3",
   "language": "python",
   "name": "python3"
  },
  "language_info": {
   "codemirror_mode": {
    "name": "ipython",
    "version": 3
   },
   "file_extension": ".py",
   "mimetype": "text/x-python",
   "name": "python",
   "nbconvert_exporter": "python",
   "pygments_lexer": "ipython3",
   "version": "3.7.6-final"
  }
 },
 "nbformat": 4,
 "nbformat_minor": 1
}