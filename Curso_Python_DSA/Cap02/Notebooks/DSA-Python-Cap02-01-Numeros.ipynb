{
    "metadata": {
        "kernelspec": {
            "name": "python3",
            "display_name": "Python 3"
        },
        "language_info": {
            "name": "python",
            "version": "3.7.4-final",
            "mimetype": "text/x-python",
            "codemirror_mode": {
                "name": "ipython",
                "version": 3
            },
            "pygments_lexer": "ipython3",
            "nbconvert_exporter": "python",
            "file_extension": ".py"
        }
    },
    "nbformat_minor": 2,
    "nbformat": 4,
    "cells": [
        {
            "cell_type": "markdown",
            "metadata": {
                "azdata_cell_guid": "049392bf-ec08-41de-a619-9a505f951b9d"
            },
            "source": [
                "# <font color='blue'>Data Science Academy - Python Fundamentos - Capítulo 2</font>\n",
                "\n",
                "## Download: http://github.com/dsacademybr"
            ]
        },
        {
            "cell_type": "markdown",
            "metadata": {
                "azdata_cell_guid": "a91e3964-35fd-473b-b963-9c42df8a756a"
            },
            "source": [
                "## Números e Operações Matemáticas"
            ]
        },
        {
            "cell_type": "markdown",
            "metadata": {
                "azdata_cell_guid": "bad81889-2e3c-41a6-86d2-5797621fa1d3"
            },
            "source": [
                "# Pressione as teclas shift e enter para executar o código em uma célula ou pressione o botão Play no menu superior"
            ]
        },
        {
            "cell_type": "code",
            "execution_count": 1,
            "metadata": {
                "azdata_cell_guid": "5dfe910f-0fb8-4ab9-92b2-27ee574c0262"
            },
            "outputs": [
                {
                    "data": {
                        "text/plain": "8"
                    },
                    "execution_count": 1,
                    "metadata": {},
                    "output_type": "execute_result"
                }
            ],
            "source": [
                "# Soma\n",
                "4 + 4"
            ]
        },
        {
            "cell_type": "code",
            "execution_count": 2,
            "metadata": {
                "azdata_cell_guid": "82e13c4e-5caa-4cc6-acd9-d48879b16be3"
            },
            "outputs": [
                {
                    "data": {
                        "text/plain": "1"
                    },
                    "execution_count": 2,
                    "metadata": {},
                    "output_type": "execute_result"
                }
            ],
            "source": [
                "# Subtração\n",
                "4 - 3"
            ]
        },
        {
            "cell_type": "code",
            "execution_count": 3,
            "metadata": {
                "azdata_cell_guid": "f2ab12f0-83ee-4a71-b955-b8c6a8a499bc"
            },
            "outputs": [
                {
                    "data": {
                        "text/plain": "9"
                    },
                    "execution_count": 3,
                    "metadata": {},
                    "output_type": "execute_result"
                }
            ],
            "source": [
                "# Multiplicação\n",
                "3 * 3"
            ]
        },
        {
            "cell_type": "code",
            "execution_count": 4,
            "metadata": {
                "azdata_cell_guid": "e28fbece-2c44-4657-9388-13f3ed10a634"
            },
            "outputs": [
                {
                    "data": {
                        "text/plain": "1.5"
                    },
                    "execution_count": 4,
                    "metadata": {},
                    "output_type": "execute_result"
                }
            ],
            "source": [
                "# Divisão\n",
                "3 / 2"
            ]
        },
        {
            "cell_type": "code",
            "execution_count": 5,
            "metadata": {
                "azdata_cell_guid": "6f3dd0e5-8627-4d3b-9a8d-7945acbdeb3a"
            },
            "outputs": [
                {
                    "data": {
                        "text/plain": "16"
                    },
                    "execution_count": 5,
                    "metadata": {},
                    "output_type": "execute_result"
                }
            ],
            "source": [
                "# Potência\n",
                "4 ** 2  "
            ]
        },
        {
            "cell_type": "code",
            "execution_count": 6,
            "metadata": {
                "azdata_cell_guid": "31ce2a80-5606-47d6-8c51-52cf0b51eac9"
            },
            "outputs": [
                {
                    "data": {
                        "text/plain": "1"
                    },
                    "execution_count": 6,
                    "metadata": {},
                    "output_type": "execute_result"
                }
            ],
            "source": [
                "# Módulo\n",
                "10 % 3  "
            ]
        },
        {
            "cell_type": "markdown",
            "metadata": {
                "azdata_cell_guid": "7039cd17-8d3e-48d6-bba2-cb00c014cf11"
            },
            "source": [
                "### Função Type"
            ]
        },
        {
            "cell_type": "code",
            "execution_count": 1,
            "metadata": {},
            "outputs": [
                {
                    "data": {
                        "text/plain": "int"
                    },
                    "execution_count": 1,
                    "metadata": {},
                    "output_type": "execute_result"
                }
            ],
            "source": [
                "type(5)"
            ]
        },
        {
            "cell_type": "code",
            "execution_count": 8,
            "metadata": {
                "azdata_cell_guid": "0609ad53-8740-4e30-95b0-d0b6c38b8263"
            },
            "outputs": [
                {
                    "data": {
                        "text/plain": "float"
                    },
                    "execution_count": 8,
                    "metadata": {},
                    "output_type": "execute_result"
                }
            ],
            "source": [
                "type(5.0)"
            ]
        },
        {
            "cell_type": "code",
            "execution_count": 9,
            "metadata": {
                "azdata_cell_guid": "910cae31-6604-4754-b9c7-0e3ebabdd85d"
            },
            "outputs": [
                {
                    "data": {
                        "text/plain": "str"
                    },
                    "execution_count": 9,
                    "metadata": {},
                    "output_type": "execute_result"
                }
            ],
            "source": [
                "a = 'Eu sou uma string'\n",
                "type(a)"
            ]
        },
        {
            "cell_type": "markdown",
            "metadata": {
                "azdata_cell_guid": "e3c99a2c-73bb-4b11-a290-c62707b6b439"
            },
            "source": [
                "### Operações com números float"
            ]
        },
        {
            "cell_type": "code",
            "execution_count": 2,
            "metadata": {},
            "outputs": [
                {
                    "data": {
                        "text/plain": "9.5"
                    },
                    "execution_count": 2,
                    "metadata": {},
                    "output_type": "execute_result"
                }
            ],
            "source": [
                "3.1 + 6.4"
            ]
        },
        {
            "cell_type": "code",
            "execution_count": 11,
            "metadata": {
                "azdata_cell_guid": "ddc9ad0a-4a22-4d12-b720-f5b6b3a15e37"
            },
            "outputs": [
                {
                    "data": {
                        "text/plain": "8.0"
                    },
                    "execution_count": 11,
                    "metadata": {},
                    "output_type": "execute_result"
                }
            ],
            "source": [
                "4 + 4.0"
            ]
        },
        {
            "cell_type": "code",
            "execution_count": 12,
            "metadata": {
                "azdata_cell_guid": "c6009b76-5fde-49e7-8006-b6c89781e338"
            },
            "outputs": [
                {
                    "data": {
                        "text/plain": "8"
                    },
                    "execution_count": 12,
                    "metadata": {},
                    "output_type": "execute_result"
                }
            ],
            "source": [
                "4 + 4"
            ]
        },
        {
            "cell_type": "code",
            "execution_count": 13,
            "metadata": {
                "azdata_cell_guid": "73a0cfba-6641-4638-88da-20ff49208af5"
            },
            "outputs": [
                {
                    "data": {
                        "text/plain": "2.0"
                    },
                    "execution_count": 13,
                    "metadata": {},
                    "output_type": "execute_result"
                }
            ],
            "source": [
                "# Resultado é um número float\n",
                "4 / 2"
            ]
        },
        {
            "cell_type": "code",
            "execution_count": 3,
            "metadata": {},
            "outputs": [
                {
                    "data": {
                        "text/plain": "2"
                    },
                    "execution_count": 3,
                    "metadata": {},
                    "output_type": "execute_result"
                }
            ],
            "source": [
                "# Resultado é um número inteiro\n",
                "4 // 2"
            ]
        },
        {
            "cell_type": "code",
            "execution_count": 4,
            "metadata": {},
            "outputs": [
                {
                    "data": {
                        "text/plain": "1.3333333333333333"
                    },
                    "execution_count": 4,
                    "metadata": {},
                    "output_type": "execute_result"
                }
            ],
            "source": [
                "4 / 3.0"
            ]
        },
        {
            "cell_type": "code",
            "execution_count": 16,
            "metadata": {
                "azdata_cell_guid": "167704c6-99c8-4655-8dff-0dd045e9bb46"
            },
            "outputs": [
                {
                    "data": {
                        "text/plain": "1.0"
                    },
                    "execution_count": 16,
                    "metadata": {},
                    "output_type": "execute_result"
                }
            ],
            "source": [
                "4 // 3.0"
            ]
        },
        {
            "cell_type": "markdown",
            "metadata": {
                "azdata_cell_guid": "229e8e43-0341-49cb-a535-10de8a0c2669"
            },
            "source": [
                "### Conversão"
            ]
        },
        {
            "cell_type": "code",
            "execution_count": 17,
            "metadata": {
                "azdata_cell_guid": "2cdad73c-4d69-46de-a65d-2a315fd554de"
            },
            "outputs": [
                {
                    "data": {
                        "text/plain": "9.0"
                    },
                    "execution_count": 17,
                    "metadata": {},
                    "output_type": "execute_result"
                }
            ],
            "source": [
                "float(9)"
            ]
        },
        {
            "cell_type": "code",
            "execution_count": 18,
            "metadata": {
                "azdata_cell_guid": "88a11220-1152-4706-90b1-db45e6f6239b"
            },
            "outputs": [
                {
                    "data": {
                        "text/plain": "6"
                    },
                    "execution_count": 18,
                    "metadata": {},
                    "output_type": "execute_result"
                }
            ],
            "source": [
                "int(6.0)"
            ]
        },
        {
            "cell_type": "code",
            "execution_count": 1,
            "metadata": {
                "azdata_cell_guid": "88719a8b-be4c-4abb-adae-6cc5154a3f92"
            },
            "outputs": [
                {
                    "data": {
                        "text/plain": "6"
                    },
                    "execution_count": 1,
                    "metadata": {},
                    "output_type": "execute_result"
                }
            ],
            "source": [
                "int(6.5)"
            ]
        },
        {
            "cell_type": "markdown",
            "metadata": {
                "azdata_cell_guid": "c505a810-325d-4f5a-bca9-9e5c5b021e28"
            },
            "source": [
                "### Hexadecimal e Binário"
            ]
        },
        {
            "cell_type": "code",
            "execution_count": 5,
            "metadata": {},
            "outputs": [
                {
                    "data": {
                        "text/plain": "'0x18a'"
                    },
                    "execution_count": 5,
                    "metadata": {},
                    "output_type": "execute_result"
                }
            ],
            "source": [
                "hex(394)"
            ]
        },
        {
            "cell_type": "code",
            "execution_count": 6,
            "metadata": {},
            "outputs": [
                {
                    "data": {
                        "text/plain": "'0xd9'"
                    },
                    "execution_count": 6,
                    "metadata": {},
                    "output_type": "execute_result"
                }
            ],
            "source": [
                "hex(217)"
            ]
        },
        {
            "cell_type": "code",
            "execution_count": 7,
            "metadata": {},
            "outputs": [
                {
                    "data": {
                        "text/plain": "'0b100011110'"
                    },
                    "execution_count": 7,
                    "metadata": {},
                    "output_type": "execute_result"
                }
            ],
            "source": [
                "bin(286)"
            ]
        },
        {
            "cell_type": "code",
            "execution_count": 8,
            "metadata": {},
            "outputs": [
                {
                    "data": {
                        "text/plain": "'0b101'"
                    },
                    "execution_count": 8,
                    "metadata": {},
                    "output_type": "execute_result"
                }
            ],
            "source": [
                "bin(5)"
            ]
        },
        {
            "cell_type": "code",
            "execution_count": 9,
            "metadata": {},
            "outputs": [
                {
                    "data": {
                        "text/plain": "'0b110000110'"
                    },
                    "execution_count": 9,
                    "metadata": {},
                    "output_type": "execute_result"
                }
            ],
            "source": [
                "bin(390)"
            ]
        },
        {
            "cell_type": "markdown",
            "metadata": {
                "azdata_cell_guid": "23138599-7c37-4b87-9ec7-673b94e980ef"
            },
            "source": [
                "### Funções abs, round e pow"
            ]
        },
        {
            "cell_type": "code",
            "execution_count": 10,
            "metadata": {},
            "outputs": [
                {
                    "data": {
                        "text/plain": "8"
                    },
                    "execution_count": 10,
                    "metadata": {},
                    "output_type": "execute_result"
                }
            ],
            "source": [
                "# Retorna o valor absoluto\n",
                "abs(-8)"
            ]
        },
        {
            "cell_type": "code",
            "execution_count": 13,
            "metadata": {
                "azdata_cell_guid": "1c13e10e-b702-4c92-a17e-c7954a5173a1"
            },
            "outputs": [
                {
                    "data": {
                        "text/plain": "8"
                    },
                    "execution_count": 13,
                    "metadata": {},
                    "output_type": "execute_result"
                }
            ],
            "source": [
                "# Retorna o valor absoluto\n",
                "abs(8)"
            ]
        },
        {
            "cell_type": "code",
            "execution_count": 14,
            "metadata": {
                "azdata_cell_guid": "25a7a0ca-2bd6-474f-99ff-90f725d1b54e"
            },
            "outputs": [
                {
                    "data": {
                        "text/plain": "3.14"
                    },
                    "execution_count": 14,
                    "metadata": {},
                    "output_type": "execute_result"
                }
            ],
            "source": [
                "# Retorna o valor com arredondamento\n",
                "round(3.14151922,2)"
            ]
        },
        {
            "cell_type": "code",
            "execution_count": 15,
            "metadata": {
                "azdata_cell_guid": "67b80ece-cf1e-4145-b29b-28e19d10be52"
            },
            "outputs": [
                {
                    "data": {
                        "text/plain": "16"
                    },
                    "execution_count": 15,
                    "metadata": {},
                    "output_type": "execute_result"
                }
            ],
            "source": [
                "# Potência\n",
                "pow(4,2)"
            ]
        },
        {
            "cell_type": "code",
            "execution_count": 28,
            "metadata": {
                "azdata_cell_guid": "bad8e75d-f61c-43d4-afe3-e5df609d0167"
            },
            "outputs": [
                {
                    "data": {
                        "text/plain": "125"
                    },
                    "execution_count": 28,
                    "metadata": {},
                    "output_type": "execute_result"
                }
            ],
            "source": [
                "# Potência\n",
                "pow(5,3)"
            ]
        },
        {
            "cell_type": "markdown",
            "metadata": {
                "azdata_cell_guid": "4a8bf1ec-f5b8-4e62-84c7-0adf9c1af37d"
            },
            "source": [
                "# Fim"
            ]
        },
        {
            "cell_type": "markdown",
            "metadata": {
                "azdata_cell_guid": "c10881dc-2c8e-446c-a8b4-f4583b5ac4b9"
            },
            "source": [
                "### Obrigado - Data Science Academy - <a href=\"http://facebook.com/dsacademybr\">facebook.com/dsacademybr</a>"
            ]
        },
        {
            "cell_type": "code",
            "execution_count": 0,
            "metadata": {
                "azdata_cell_guid": "0188a853-57ed-48bf-83e9-0a43f107bdf4"
            },
            "outputs": [],
            "source": [
                ""
            ]
        },
        {
            "cell_type": "code",
            "execution_count": 0,
            "metadata": {
                "azdata_cell_guid": "cfa7d670-0dbd-47b7-810e-8bbdcbfb360d"
            },
            "outputs": [],
            "source": [
                ""
            ]
        }
    ]
}