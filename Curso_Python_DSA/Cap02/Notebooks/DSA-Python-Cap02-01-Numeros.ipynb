{
    "metadata": {
        "kernelspec": {
            "name": "python3",
            "display_name": "Python 3"
        },
        "language_info": {
            "name": "python",
            "version": "3.6.6",
            "mimetype": "text/x-python",
            "codemirror_mode": {
                "name": "ipython",
                "version": 3
            },
            "pygments_lexer": "ipython3",
            "nbconvert_exporter": "python",
            "file_extension": ".py"
        }
    },
    "nbformat_minor": 2,
    "nbformat": 4,
    "cells": [
        {
            "cell_type": "markdown",
            "source": [
                "# <font color='blue'>Data Science Academy - Python Fundamentos - Capítulo 2</font>\n",
                "\n",
                "## Download: http://github.com/dsacademybr"
            ],
            "metadata": {
                "azdata_cell_guid": "049392bf-ec08-41de-a619-9a505f951b9d"
            }
        },
        {
            "cell_type": "markdown",
            "source": [
                "## Números e Operações Matemáticas"
            ],
            "metadata": {
                "azdata_cell_guid": "a91e3964-35fd-473b-b963-9c42df8a756a"
            }
        },
        {
            "cell_type": "markdown",
            "source": [
                "# Pressione as teclas shift e enter para executar o código em uma célula ou pressione o botão Play no menu superior"
            ],
            "metadata": {
                "azdata_cell_guid": "bad81889-2e3c-41a6-86d2-5797621fa1d3"
            }
        },
        {
            "cell_type": "code",
            "source": [
                "# Soma\n",
                "4 + 4"
            ],
            "metadata": {
                "azdata_cell_guid": "5dfe910f-0fb8-4ab9-92b2-27ee574c0262"
            },
            "outputs": [
                {
                    "output_type": "execute_result",
                    "execution_count": 1,
                    "data": {
                        "text/plain": "8"
                    },
                    "metadata": {}
                }
            ],
            "execution_count": 1
        },
        {
            "cell_type": "code",
            "source": [
                "# Subtração\n",
                "4 - 3"
            ],
            "metadata": {
                "azdata_cell_guid": "82e13c4e-5caa-4cc6-acd9-d48879b16be3"
            },
            "outputs": [
                {
                    "output_type": "execute_result",
                    "execution_count": 2,
                    "data": {
                        "text/plain": "1"
                    },
                    "metadata": {}
                }
            ],
            "execution_count": 2
        },
        {
            "cell_type": "code",
            "source": [
                "# Multiplicação\n",
                "3 * 3"
            ],
            "metadata": {
                "azdata_cell_guid": "f2ab12f0-83ee-4a71-b955-b8c6a8a499bc"
            },
            "outputs": [
                {
                    "output_type": "execute_result",
                    "execution_count": 3,
                    "data": {
                        "text/plain": "9"
                    },
                    "metadata": {}
                }
            ],
            "execution_count": 3
        },
        {
            "cell_type": "code",
            "source": [
                "# Divisão\n",
                "3 / 2"
            ],
            "metadata": {
                "azdata_cell_guid": "e28fbece-2c44-4657-9388-13f3ed10a634"
            },
            "outputs": [
                {
                    "output_type": "execute_result",
                    "execution_count": 4,
                    "data": {
                        "text/plain": "1.5"
                    },
                    "metadata": {}
                }
            ],
            "execution_count": 4
        },
        {
            "cell_type": "code",
            "source": [
                "# Potência\n",
                "4 ** 2  "
            ],
            "metadata": {
                "azdata_cell_guid": "6f3dd0e5-8627-4d3b-9a8d-7945acbdeb3a"
            },
            "outputs": [
                {
                    "output_type": "execute_result",
                    "execution_count": 5,
                    "data": {
                        "text/plain": "16"
                    },
                    "metadata": {}
                }
            ],
            "execution_count": 5
        },
        {
            "cell_type": "code",
            "source": [
                "# Módulo\n",
                "10 % 3  "
            ],
            "metadata": {
                "azdata_cell_guid": "31ce2a80-5606-47d6-8c51-52cf0b51eac9"
            },
            "outputs": [
                {
                    "output_type": "execute_result",
                    "execution_count": 6,
                    "data": {
                        "text/plain": "1"
                    },
                    "metadata": {}
                }
            ],
            "execution_count": 6
        },
        {
            "cell_type": "markdown",
            "source": [
                "### Função Type"
            ],
            "metadata": {
                "azdata_cell_guid": "7039cd17-8d3e-48d6-bba2-cb00c014cf11"
            }
        },
        {
            "cell_type": "code",
            "source": [
                "type(5)"
            ],
            "metadata": {
                "azdata_cell_guid": "00996ba9-1938-46a7-bef2-4324524ace87"
            },
            "outputs": [
                {
                    "output_type": "execute_result",
                    "execution_count": 7,
                    "data": {
                        "text/plain": "int"
                    },
                    "metadata": {}
                }
            ],
            "execution_count": 7
        },
        {
            "cell_type": "code",
            "source": [
                "type(5.0)"
            ],
            "metadata": {
                "azdata_cell_guid": "0609ad53-8740-4e30-95b0-d0b6c38b8263"
            },
            "outputs": [
                {
                    "output_type": "execute_result",
                    "execution_count": 8,
                    "data": {
                        "text/plain": "float"
                    },
                    "metadata": {}
                }
            ],
            "execution_count": 8
        },
        {
            "cell_type": "code",
            "source": [
                "a = 'Eu sou uma string'\n",
                "type(a)"
            ],
            "metadata": {
                "azdata_cell_guid": "910cae31-6604-4754-b9c7-0e3ebabdd85d"
            },
            "outputs": [
                {
                    "output_type": "execute_result",
                    "execution_count": 9,
                    "data": {
                        "text/plain": "str"
                    },
                    "metadata": {}
                }
            ],
            "execution_count": 9
        },
        {
            "cell_type": "markdown",
            "source": [
                "### Operações com números float"
            ],
            "metadata": {
                "azdata_cell_guid": "e3c99a2c-73bb-4b11-a290-c62707b6b439"
            }
        },
        {
            "cell_type": "code",
            "source": [
                "3.1 + 6.4"
            ],
            "metadata": {
                "azdata_cell_guid": "a5c0b5be-af0e-464d-8d31-7d7a39c80fca"
            },
            "outputs": [
                {
                    "output_type": "execute_result",
                    "execution_count": 10,
                    "data": {
                        "text/plain": "9.5"
                    },
                    "metadata": {}
                }
            ],
            "execution_count": 10
        },
        {
            "cell_type": "code",
            "source": [
                "4 + 4.0"
            ],
            "metadata": {
                "azdata_cell_guid": "ddc9ad0a-4a22-4d12-b720-f5b6b3a15e37"
            },
            "outputs": [
                {
                    "output_type": "execute_result",
                    "execution_count": 11,
                    "data": {
                        "text/plain": "8.0"
                    },
                    "metadata": {}
                }
            ],
            "execution_count": 11
        },
        {
            "cell_type": "code",
            "source": [
                "4 + 4"
            ],
            "metadata": {
                "azdata_cell_guid": "c6009b76-5fde-49e7-8006-b6c89781e338"
            },
            "outputs": [
                {
                    "output_type": "execute_result",
                    "execution_count": 12,
                    "data": {
                        "text/plain": "8"
                    },
                    "metadata": {}
                }
            ],
            "execution_count": 12
        },
        {
            "cell_type": "code",
            "source": [
                "# Resultado é um número float\n",
                "4 / 2"
            ],
            "metadata": {
                "azdata_cell_guid": "73a0cfba-6641-4638-88da-20ff49208af5"
            },
            "outputs": [
                {
                    "output_type": "execute_result",
                    "execution_count": 13,
                    "data": {
                        "text/plain": "2.0"
                    },
                    "metadata": {}
                }
            ],
            "execution_count": 13
        },
        {
            "cell_type": "code",
            "source": [
                "# Resultado é um número inteiro\n",
                "4 // 2"
            ],
            "metadata": {
                "azdata_cell_guid": "d01d68a2-0357-46c4-89a4-1cefa4c8d552"
            },
            "outputs": [
                {
                    "output_type": "execute_result",
                    "execution_count": 14,
                    "data": {
                        "text/plain": "2"
                    },
                    "metadata": {}
                }
            ],
            "execution_count": 14
        },
        {
            "cell_type": "code",
            "source": [
                "4 / 3.0"
            ],
            "metadata": {
                "azdata_cell_guid": "ccd56e21-c686-4bca-93a8-3d1840f2f549"
            },
            "outputs": [
                {
                    "output_type": "execute_result",
                    "execution_count": 15,
                    "data": {
                        "text/plain": "1.3333333333333333"
                    },
                    "metadata": {}
                }
            ],
            "execution_count": 15
        },
        {
            "cell_type": "code",
            "source": [
                "4 // 3.0"
            ],
            "metadata": {
                "azdata_cell_guid": "167704c6-99c8-4655-8dff-0dd045e9bb46"
            },
            "outputs": [
                {
                    "output_type": "execute_result",
                    "execution_count": 16,
                    "data": {
                        "text/plain": "1.0"
                    },
                    "metadata": {}
                }
            ],
            "execution_count": 16
        },
        {
            "cell_type": "markdown",
            "source": [
                "### Conversão"
            ],
            "metadata": {
                "azdata_cell_guid": "229e8e43-0341-49cb-a535-10de8a0c2669"
            }
        },
        {
            "cell_type": "code",
            "source": [
                "float(9)"
            ],
            "metadata": {
                "azdata_cell_guid": "2cdad73c-4d69-46de-a65d-2a315fd554de"
            },
            "outputs": [
                {
                    "output_type": "execute_result",
                    "execution_count": 17,
                    "data": {
                        "text/plain": "9.0"
                    },
                    "metadata": {}
                }
            ],
            "execution_count": 17
        },
        {
            "cell_type": "code",
            "source": [
                "int(6.0)"
            ],
            "metadata": {
                "azdata_cell_guid": "88a11220-1152-4706-90b1-db45e6f6239b"
            },
            "outputs": [
                {
                    "output_type": "execute_result",
                    "execution_count": 18,
                    "data": {
                        "text/plain": "6"
                    },
                    "metadata": {}
                }
            ],
            "execution_count": 18
        },
        {
            "cell_type": "code",
            "source": [
                "int(6.5)"
            ],
            "metadata": {
                "azdata_cell_guid": "88719a8b-be4c-4abb-adae-6cc5154a3f92"
            },
            "outputs": [
                {
                    "data": {
                        "text/plain": "6"
                    },
                    "metadata": {},
                    "execution_count": 1,
                    "output_type": "execute_result"
                }
            ],
            "execution_count": 1
        },
        {
            "cell_type": "markdown",
            "source": [
                "### Hexadecimal e Binário"
            ],
            "metadata": {
                "azdata_cell_guid": "c505a810-325d-4f5a-bca9-9e5c5b021e28"
            }
        },
        {
            "cell_type": "code",
            "source": [
                "hex(394)"
            ],
            "metadata": {
                "azdata_cell_guid": "48722c0d-d3e0-4844-9a5d-2665d90d2557"
            },
            "outputs": [
                {
                    "data": {
                        "text/plain": "'0x18a'"
                    },
                    "metadata": {},
                    "execution_count": 2,
                    "output_type": "execute_result"
                }
            ],
            "execution_count": 2
        },
        {
            "cell_type": "code",
            "source": [
                "hex(217)"
            ],
            "metadata": {
                "azdata_cell_guid": "41d0e548-31a6-42d7-9a91-5f46bf4c94e5"
            },
            "outputs": [
                {
                    "data": {
                        "text/plain": "'0xd9'"
                    },
                    "metadata": {},
                    "execution_count": 3,
                    "output_type": "execute_result"
                }
            ],
            "execution_count": 3
        },
        {
            "cell_type": "code",
            "source": [
                "bin(286)"
            ],
            "metadata": {
                "azdata_cell_guid": "869a4e6a-af4b-4263-801b-5a3064ed6b2e"
            },
            "outputs": [
                {
                    "data": {
                        "text/plain": "'0b100011110'"
                    },
                    "metadata": {},
                    "execution_count": 4,
                    "output_type": "execute_result"
                }
            ],
            "execution_count": 4
        },
        {
            "cell_type": "code",
            "source": [
                "bin(5)"
            ],
            "metadata": {
                "azdata_cell_guid": "6bde8aab-629b-46ca-b33f-29e07b889e46"
            },
            "outputs": [
                {
                    "data": {
                        "text/plain": "'0b101'"
                    },
                    "metadata": {},
                    "execution_count": 11,
                    "output_type": "execute_result"
                }
            ],
            "execution_count": 11
        },
        {
            "cell_type": "code",
            "source": [
                "bin(390)"
            ],
            "metadata": {
                "azdata_cell_guid": "5b9a3b0c-0bbc-439e-89be-fb7954e8a608"
            },
            "outputs": [
                {
                    "output_type": "execute_result",
                    "execution_count": 23,
                    "data": {
                        "text/plain": "'0b110000110'"
                    },
                    "metadata": {}
                }
            ],
            "execution_count": 23
        },
        {
            "cell_type": "markdown",
            "source": [
                "### Funções abs, round e pow"
            ],
            "metadata": {
                "azdata_cell_guid": "23138599-7c37-4b87-9ec7-673b94e980ef"
            }
        },
        {
            "cell_type": "code",
            "source": [
                "# Retorna o valor absoluto\n",
                "abs(-8)"
            ],
            "metadata": {
                "azdata_cell_guid": "4bc2a371-053f-42f4-9a9c-9a716b7b7911"
            },
            "outputs": [
                {
                    "data": {
                        "text/plain": "8"
                    },
                    "metadata": {},
                    "execution_count": 12,
                    "output_type": "execute_result"
                }
            ],
            "execution_count": 12
        },
        {
            "cell_type": "code",
            "source": [
                "# Retorna o valor absoluto\n",
                "abs(8)"
            ],
            "metadata": {
                "azdata_cell_guid": "1c13e10e-b702-4c92-a17e-c7954a5173a1"
            },
            "outputs": [
                {
                    "data": {
                        "text/plain": "8"
                    },
                    "metadata": {},
                    "execution_count": 13,
                    "output_type": "execute_result"
                }
            ],
            "execution_count": 13
        },
        {
            "cell_type": "code",
            "source": [
                "# Retorna o valor com arredondamento\n",
                "round(3.14151922,2)"
            ],
            "metadata": {
                "azdata_cell_guid": "25a7a0ca-2bd6-474f-99ff-90f725d1b54e"
            },
            "outputs": [
                {
                    "data": {
                        "text/plain": "3.14"
                    },
                    "metadata": {},
                    "execution_count": 14,
                    "output_type": "execute_result"
                }
            ],
            "execution_count": 14
        },
        {
            "cell_type": "code",
            "source": [
                "# Potência\n",
                "pow(4,2)"
            ],
            "metadata": {
                "azdata_cell_guid": "67b80ece-cf1e-4145-b29b-28e19d10be52"
            },
            "outputs": [
                {
                    "data": {
                        "text/plain": "16"
                    },
                    "metadata": {},
                    "execution_count": 15,
                    "output_type": "execute_result"
                }
            ],
            "execution_count": 15
        },
        {
            "cell_type": "code",
            "source": [
                "# Potência\n",
                "pow(5,3)"
            ],
            "metadata": {
                "azdata_cell_guid": "bad8e75d-f61c-43d4-afe3-e5df609d0167"
            },
            "outputs": [
                {
                    "output_type": "execute_result",
                    "execution_count": 28,
                    "data": {
                        "text/plain": "125"
                    },
                    "metadata": {}
                }
            ],
            "execution_count": 28
        },
        {
            "cell_type": "markdown",
            "source": [
                "# Fim"
            ],
            "metadata": {
                "azdata_cell_guid": "4a8bf1ec-f5b8-4e62-84c7-0adf9c1af37d"
            }
        },
        {
            "cell_type": "markdown",
            "source": [
                "### Obrigado - Data Science Academy - <a href=\"http://facebook.com/dsacademybr\">facebook.com/dsacademybr</a>"
            ],
            "metadata": {
                "azdata_cell_guid": "c10881dc-2c8e-446c-a8b4-f4583b5ac4b9"
            }
        },
        {
            "cell_type": "code",
            "source": [
                ""
            ],
            "metadata": {
                "azdata_cell_guid": "0188a853-57ed-48bf-83e9-0a43f107bdf4"
            },
            "outputs": [],
            "execution_count": 0
        },
        {
            "cell_type": "code",
            "source": [
                ""
            ],
            "metadata": {
                "azdata_cell_guid": "cfa7d670-0dbd-47b7-810e-8bbdcbfb360d"
            },
            "outputs": [],
            "execution_count": 0
        }
    ]
}