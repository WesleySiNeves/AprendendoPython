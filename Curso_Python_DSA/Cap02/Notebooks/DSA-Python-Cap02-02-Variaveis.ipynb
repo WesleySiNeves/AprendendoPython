{
    "metadata": {
        "kernelspec": {
            "name": "python3",
            "display_name": "Python 3"
        },
        "language_info": {
            "name": "python",
            "version": "3.6.6",
            "mimetype": "text/x-python",
            "codemirror_mode": {
                "name": "ipython",
                "version": 3
            },
            "pygments_lexer": "ipython3",
            "nbconvert_exporter": "python",
            "file_extension": ".py"
        }
    },
    "nbformat_minor": 2,
    "nbformat": 4,
    "cells": [
        {
            "cell_type": "markdown",
            "source": [
                "# <font color='blue'>Data Science Academy - Python Fundamentos - Capítulo 2</font>\n",
                "\n",
                "## Download: http://github.com/dsacademybr"
            ],
            "metadata": {
                "azdata_cell_guid": "ab3ecd6f-8ec0-41c0-9cc2-bca6be79e6c9"
            }
        },
        {
            "cell_type": "markdown",
            "source": [
                "## Variáveis e Operadores "
            ],
            "metadata": {
                "azdata_cell_guid": "bd944b46-c54d-4c9c-8c34-4de54bfa4a54"
            }
        },
        {
            "cell_type": "code",
            "source": [
                "# Atribuindo o valor 1 à variável var_teste\n",
                "var_teste = 1"
            ],
            "metadata": {
                "collapsed": true,
                "azdata_cell_guid": "fa65481c-df44-4dff-b509-67f4444660bc"
            },
            "outputs": [],
            "execution_count": 2
        },
        {
            "cell_type": "code",
            "source": [
                "# Imprimindo o valor da variável\n",
                "var_teste"
            ],
            "metadata": {
                "azdata_cell_guid": "b4f72984-f4d0-4e89-ace6-2e7dd7f6b7ad"
            },
            "outputs": [
                {
                    "output_type": "execute_result",
                    "execution_count": 3,
                    "data": {
                        "text/plain": "1"
                    },
                    "metadata": {}
                }
            ],
            "execution_count": 3
        },
        {
            "cell_type": "code",
            "source": [
                "# Imprimindo o valor da variável\n",
                "print(var_teste)"
            ],
            "metadata": {
                "azdata_cell_guid": "b34f5c96-7e3e-4580-b07c-e453ee387c80"
            },
            "outputs": [
                {
                    "output_type": "stream",
                    "name": "stdout",
                    "text": "1\n"
                }
            ],
            "execution_count": 4
        },
        {
            "cell_type": "code",
            "source": [
                "# Não podemos utilizar uma variável que não foi definida. Veja a mensagem de erro.\n",
                "my_var"
            ],
            "metadata": {
                "azdata_cell_guid": "2fbbef15-7136-4878-afb1-760022039b3c"
            },
            "outputs": [
                {
                    "output_type": "error",
                    "ename": "NameError",
                    "evalue": "name 'my_var' is not defined",
                    "traceback": [
                        "\u001b[0;31m---------------------------------------------------------------------------\u001b[0m",
                        "\u001b[0;31mNameError\u001b[0m                                 Traceback (most recent call last)",
                        "\u001b[0;32m<ipython-input-4-69c69bcfbd2f>\u001b[0m in \u001b[0;36m<module>\u001b[0;34m()\u001b[0m\n\u001b[1;32m      1\u001b[0m \u001b[0;31m# Não podemos utilizar uma variável que não foi definida. Veja a mensagem de erro.\u001b[0m\u001b[0;34m\u001b[0m\u001b[0;34m\u001b[0m\u001b[0m\n\u001b[0;32m----> 2\u001b[0;31m \u001b[0mmy_var\u001b[0m\u001b[0;34m\u001b[0m\u001b[0m\n\u001b[0m",
                        "\u001b[0;31mNameError\u001b[0m: name 'my_var' is not defined"
                    ]
                }
            ],
            "execution_count": 4
        },
        {
            "cell_type": "code",
            "source": [
                "var_teste = 2"
            ],
            "metadata": {
                "collapsed": true,
                "azdata_cell_guid": "c0ae92d3-bbdd-4d57-b395-f9d909443167"
            },
            "outputs": [],
            "execution_count": 5
        },
        {
            "cell_type": "code",
            "source": [
                "var_teste"
            ],
            "metadata": {
                "azdata_cell_guid": "8e147833-a3de-4a33-8359-151ce87451b0"
            },
            "outputs": [
                {
                    "output_type": "execute_result",
                    "execution_count": 6,
                    "data": {
                        "text/plain": "2"
                    },
                    "metadata": {}
                }
            ],
            "execution_count": 6
        },
        {
            "cell_type": "code",
            "source": [
                "type(var_teste)"
            ],
            "metadata": {
                "azdata_cell_guid": "8b2878f6-288e-4488-b35a-922af1b6db39"
            },
            "outputs": [
                {
                    "output_type": "execute_result",
                    "execution_count": 7,
                    "data": {
                        "text/plain": "int"
                    },
                    "metadata": {}
                }
            ],
            "execution_count": 7
        },
        {
            "cell_type": "code",
            "source": [
                "var_teste = 9.5"
            ],
            "metadata": {
                "collapsed": true,
                "azdata_cell_guid": "fe8ea5c5-d529-4dbf-bc1d-1bef34633b12"
            },
            "outputs": [],
            "execution_count": 8
        },
        {
            "cell_type": "code",
            "source": [
                "type(var_teste)"
            ],
            "metadata": {
                "azdata_cell_guid": "3d116a3b-9fc0-4f09-a419-3996b832cca1"
            },
            "outputs": [
                {
                    "output_type": "execute_result",
                    "execution_count": 9,
                    "data": {
                        "text/plain": "float"
                    },
                    "metadata": {}
                }
            ],
            "execution_count": 9
        },
        {
            "cell_type": "code",
            "source": [
                "x = 1"
            ],
            "metadata": {
                "collapsed": true,
                "azdata_cell_guid": "32708b00-29aa-484c-b3fe-0107f04efb5f"
            },
            "outputs": [],
            "execution_count": 10
        },
        {
            "cell_type": "code",
            "source": [
                "x"
            ],
            "metadata": {
                "azdata_cell_guid": "5b6da262-a539-4319-bb99-e3814f5bf239"
            },
            "outputs": [
                {
                    "output_type": "execute_result",
                    "execution_count": 11,
                    "data": {
                        "text/plain": "1"
                    },
                    "metadata": {}
                }
            ],
            "execution_count": 11
        },
        {
            "cell_type": "markdown",
            "source": [
                "## Declaração Múltipla"
            ],
            "metadata": {
                "azdata_cell_guid": "2fa09b9f-854e-4704-a9e3-933b36483b41"
            }
        },
        {
            "cell_type": "code",
            "source": [
                "pessoa1, pessoa2, pessoa3 = \"Maria\", \"José\", \"Tobias\""
            ],
            "metadata": {
                "collapsed": true,
                "azdata_cell_guid": "da13b625-fa19-4082-900a-44c6b469f37a"
            },
            "outputs": [],
            "execution_count": 12
        },
        {
            "cell_type": "code",
            "source": [
                "pessoa1"
            ],
            "metadata": {
                "azdata_cell_guid": "1c5b2869-0e70-46e2-a6a1-eac4c7dc8da5"
            },
            "outputs": [
                {
                    "output_type": "execute_result",
                    "execution_count": 13,
                    "data": {
                        "text/plain": "'Maria'"
                    },
                    "metadata": {}
                }
            ],
            "execution_count": 13
        },
        {
            "cell_type": "code",
            "source": [
                "pessoa2"
            ],
            "metadata": {
                "azdata_cell_guid": "9d630141-09e6-4acb-ac77-f200e4f67d22"
            },
            "outputs": [
                {
                    "output_type": "execute_result",
                    "execution_count": 14,
                    "data": {
                        "text/plain": "'José'"
                    },
                    "metadata": {}
                }
            ],
            "execution_count": 14
        },
        {
            "cell_type": "code",
            "source": [
                "pessoa3"
            ],
            "metadata": {
                "azdata_cell_guid": "c185e020-7312-4366-8af7-6d2a5ca032fa"
            },
            "outputs": [
                {
                    "output_type": "execute_result",
                    "execution_count": 15,
                    "data": {
                        "text/plain": "'Tobias'"
                    },
                    "metadata": {}
                }
            ],
            "execution_count": 15
        },
        {
            "cell_type": "code",
            "source": [
                "fruta1 = fruta2 = fruta3 = \"Laranja\""
            ],
            "metadata": {
                "collapsed": true,
                "azdata_cell_guid": "9bca2fda-9f88-41b8-94c2-7d9bef1f2a6d"
            },
            "outputs": [],
            "execution_count": 16
        },
        {
            "cell_type": "code",
            "source": [
                "fruta1"
            ],
            "metadata": {
                "azdata_cell_guid": "7ffc4bf9-3b28-4397-ba53-f46229602e44"
            },
            "outputs": [
                {
                    "output_type": "execute_result",
                    "execution_count": 17,
                    "data": {
                        "text/plain": "'Laranja'"
                    },
                    "metadata": {}
                }
            ],
            "execution_count": 17
        },
        {
            "cell_type": "code",
            "source": [
                "fruta2"
            ],
            "metadata": {
                "azdata_cell_guid": "28c27b85-7037-4dd5-960e-a3d32b041d06"
            },
            "outputs": [
                {
                    "output_type": "execute_result",
                    "execution_count": 18,
                    "data": {
                        "text/plain": "'Laranja'"
                    },
                    "metadata": {}
                }
            ],
            "execution_count": 18
        },
        {
            "cell_type": "code",
            "source": [
                "# Fique atento!!! Python é case-sensitive. Criamos a variável fruta2, mas não a variável Fruta2.\n",
                "# Letras maiúsculas e minúsculas tem diferença no nome da variável.\n",
                "Fruta2"
            ],
            "metadata": {
                "azdata_cell_guid": "115141d7-9c75-413a-a0ee-ea02fa09faa5"
            },
            "outputs": [
                {
                    "output_type": "error",
                    "ename": "NameError",
                    "evalue": "name 'Fruta2' is not defined",
                    "traceback": [
                        "\u001b[0;31m---------------------------------------------------------------------------\u001b[0m",
                        "\u001b[0;31mNameError\u001b[0m                                 Traceback (most recent call last)",
                        "\u001b[0;32m<ipython-input-19-606ffd20ecf6>\u001b[0m in \u001b[0;36m<module>\u001b[0;34m()\u001b[0m\n\u001b[0;32m----> 1\u001b[0;31m \u001b[0mFruta2\u001b[0m\u001b[0;34m\u001b[0m\u001b[0m\n\u001b[0m",
                        "\u001b[0;31mNameError\u001b[0m: name 'Fruta2' is not defined"
                    ]
                }
            ],
            "execution_count": 19
        },
        {
            "cell_type": "markdown",
            "source": [
                "## Pode-se usar letras, números e underline (mas não se pode começar com números)"
            ],
            "metadata": {
                "azdata_cell_guid": "ea78f227-21dd-4a4f-a36b-7ec378c9055f"
            }
        },
        {
            "cell_type": "code",
            "source": [
                "x1 = 50"
            ],
            "metadata": {
                "collapsed": true,
                "azdata_cell_guid": "4a8e8d0b-0a8f-46bd-a475-68bbeb623bb5"
            },
            "outputs": [],
            "execution_count": 20
        },
        {
            "cell_type": "code",
            "source": [
                "x1"
            ],
            "metadata": {
                "azdata_cell_guid": "dc4d4819-2c46-4215-af6d-c44692a79585"
            },
            "outputs": [
                {
                    "output_type": "execute_result",
                    "execution_count": 21,
                    "data": {
                        "text/plain": "50"
                    },
                    "metadata": {}
                }
            ],
            "execution_count": 21
        },
        {
            "cell_type": "code",
            "source": [
                "# Mensagem de erro, pois o Python não permite nomes de variáveis que iniciem com números\n",
                "1x = 50"
            ],
            "metadata": {
                "azdata_cell_guid": "86ac575a-5fa1-4836-91b7-232e16391fad"
            },
            "outputs": [
                {
                    "output_type": "error",
                    "ename": "SyntaxError",
                    "evalue": "invalid syntax (<ipython-input-22-038522b53cfc>, line 2)",
                    "traceback": [
                        "\u001b[0;36m  File \u001b[0;32m\"<ipython-input-22-038522b53cfc>\"\u001b[0;36m, line \u001b[0;32m2\u001b[0m\n\u001b[0;31m    1x = 50\u001b[0m\n\u001b[0m     ^\u001b[0m\n\u001b[0;31mSyntaxError\u001b[0m\u001b[0;31m:\u001b[0m invalid syntax\n"
                    ]
                }
            ],
            "execution_count": 22
        },
        {
            "cell_type": "markdown",
            "source": [
                "## Não se pode usar palavras reservadas como nome de variável\n",
                "\n",
                "## False      \n",
                "## class      \n",
                "## finally    \n",
                "## is         \n",
                "## return\n",
                "## None       \n",
                "## continue   \n",
                "## for        \n",
                "## lambda     \n",
                "## try\n",
                "## True       \n",
                "## def        \n",
                "## from       \n",
                "## nonlocal   \n",
                "## while\n",
                "## and        \n",
                "## del        \n",
                "## global     \n",
                "## not        \n",
                "## with\n",
                "## as         \n",
                "## elif       \n",
                "## if         \n",
                "## or         \n",
                "## yield\n",
                "## assert     \n",
                "## else       \n",
                "## import     \n",
                "## pass\n",
                "## break      \n",
                "## except     \n",
                "## in         \n",
                "## raise"
            ],
            "metadata": {
                "azdata_cell_guid": "5cd96bfc-ee3d-4954-8ae1-da13699f8854"
            }
        },
        {
            "cell_type": "code",
            "source": [
                "# Não podemos usar palavras reservadas como nome de variável\n",
                "break = 1"
            ],
            "metadata": {
                "azdata_cell_guid": "dfd22513-4ea4-4d24-9cd4-f98bc769b55a"
            },
            "outputs": [
                {
                    "output_type": "error",
                    "ename": "SyntaxError",
                    "evalue": "invalid syntax (<ipython-input-23-dd17f949cdf7>, line 2)",
                    "traceback": [
                        "\u001b[0;36m  File \u001b[0;32m\"<ipython-input-23-dd17f949cdf7>\"\u001b[0;36m, line \u001b[0;32m2\u001b[0m\n\u001b[0;31m    break = 1\u001b[0m\n\u001b[0m          ^\u001b[0m\n\u001b[0;31mSyntaxError\u001b[0m\u001b[0;31m:\u001b[0m invalid syntax\n"
                    ]
                }
            ],
            "execution_count": 23
        },
        {
            "cell_type": "markdown",
            "source": [
                "## Variáveis atribuídas a outras variáveis e ordem dos operadores"
            ],
            "metadata": {
                "azdata_cell_guid": "f32dd634-56a5-46b3-a6be-4a1193f777a6"
            }
        },
        {
            "cell_type": "code",
            "source": [
                "largura = 2"
            ],
            "metadata": {
                "collapsed": true,
                "azdata_cell_guid": "a8dfc66f-e97d-40d5-b0ff-65b3a5d006b8"
            },
            "outputs": [],
            "execution_count": 24
        },
        {
            "cell_type": "code",
            "source": [
                "altura = 4"
            ],
            "metadata": {
                "collapsed": true,
                "azdata_cell_guid": "3caf7c68-0ebf-414d-a9ae-eb00defe59a4"
            },
            "outputs": [],
            "execution_count": 25
        },
        {
            "cell_type": "code",
            "source": [
                "area = largura * altura"
            ],
            "metadata": {
                "collapsed": true,
                "azdata_cell_guid": "ca20efdf-9ad1-4adf-b340-f5548f520031"
            },
            "outputs": [],
            "execution_count": 26
        },
        {
            "cell_type": "code",
            "source": [
                "area"
            ],
            "metadata": {
                "azdata_cell_guid": "7f8ea4e6-fc7d-43f0-8473-a4c15b9260cb"
            },
            "outputs": [
                {
                    "output_type": "execute_result",
                    "execution_count": 27,
                    "data": {
                        "text/plain": "8"
                    },
                    "metadata": {}
                }
            ],
            "execution_count": 27
        },
        {
            "cell_type": "code",
            "source": [
                "perimetro = 2 * largura + 2 * altura"
            ],
            "metadata": {
                "collapsed": true,
                "azdata_cell_guid": "b6041334-9886-42e7-95a9-90a97b97b6fa"
            },
            "outputs": [],
            "execution_count": 28
        },
        {
            "cell_type": "code",
            "source": [
                "perimetro"
            ],
            "metadata": {
                "azdata_cell_guid": "fdef0e83-6469-4277-91f8-6b6cd5817a19"
            },
            "outputs": [
                {
                    "output_type": "execute_result",
                    "execution_count": 29,
                    "data": {
                        "text/plain": "12"
                    },
                    "metadata": {}
                }
            ],
            "execution_count": 29
        },
        {
            "cell_type": "code",
            "source": [
                "# A ordem dos operadores é a mesma seguida na Matemática\n",
                "perimetro = 2 * (largura + 2)  * altura"
            ],
            "metadata": {
                "collapsed": true,
                "azdata_cell_guid": "ea8fdba7-9ee9-423f-96bb-c9717dc5524d"
            },
            "outputs": [],
            "execution_count": 30
        },
        {
            "cell_type": "code",
            "source": [
                "perimetro"
            ],
            "metadata": {
                "azdata_cell_guid": "433e25cb-783e-4458-b082-559738ee633c"
            },
            "outputs": [
                {
                    "output_type": "execute_result",
                    "execution_count": 31,
                    "data": {
                        "text/plain": "32"
                    },
                    "metadata": {}
                }
            ],
            "execution_count": 31
        },
        {
            "cell_type": "markdown",
            "source": [
                "## Operações com variáveis"
            ],
            "metadata": {
                "azdata_cell_guid": "56929023-49fc-47ce-9030-db6b8527fd4e"
            }
        },
        {
            "cell_type": "code",
            "source": [
                "idade1 = 25"
            ],
            "metadata": {
                "collapsed": true,
                "azdata_cell_guid": "83cbd29f-286e-4fc9-9776-4257175c88d8"
            },
            "outputs": [],
            "execution_count": 32
        },
        {
            "cell_type": "code",
            "source": [
                "idade2 = 35"
            ],
            "metadata": {
                "collapsed": true,
                "azdata_cell_guid": "0970297f-39be-438f-8f2e-23c96059fe22"
            },
            "outputs": [],
            "execution_count": 33
        },
        {
            "cell_type": "code",
            "source": [
                "idade1 + idade2"
            ],
            "metadata": {
                "azdata_cell_guid": "a6425880-4685-43e4-843d-7b952127f308"
            },
            "outputs": [
                {
                    "output_type": "execute_result",
                    "execution_count": 34,
                    "data": {
                        "text/plain": "60"
                    },
                    "metadata": {}
                }
            ],
            "execution_count": 34
        },
        {
            "cell_type": "code",
            "source": [
                "idade2 - idade1"
            ],
            "metadata": {
                "azdata_cell_guid": "5e067c00-e78b-41db-a336-50b34011554c"
            },
            "outputs": [
                {
                    "output_type": "execute_result",
                    "execution_count": 35,
                    "data": {
                        "text/plain": "10"
                    },
                    "metadata": {}
                }
            ],
            "execution_count": 35
        },
        {
            "cell_type": "code",
            "source": [
                "idade2 * idade1"
            ],
            "metadata": {
                "azdata_cell_guid": "a4111ce2-1494-440d-ae95-a8060a28f3ed"
            },
            "outputs": [
                {
                    "output_type": "execute_result",
                    "execution_count": 36,
                    "data": {
                        "text/plain": "875"
                    },
                    "metadata": {}
                }
            ],
            "execution_count": 36
        },
        {
            "cell_type": "code",
            "source": [
                "idade2 / idade1"
            ],
            "metadata": {
                "azdata_cell_guid": "2c86533d-fe5e-4375-8bb4-3f664f684126"
            },
            "outputs": [
                {
                    "output_type": "execute_result",
                    "execution_count": 37,
                    "data": {
                        "text/plain": "1.4"
                    },
                    "metadata": {}
                }
            ],
            "execution_count": 37
        },
        {
            "cell_type": "code",
            "source": [
                "idade2 % idade1"
            ],
            "metadata": {
                "azdata_cell_guid": "210c8162-f16e-4ab9-a190-a07ef1b488ee"
            },
            "outputs": [
                {
                    "output_type": "execute_result",
                    "execution_count": 38,
                    "data": {
                        "text/plain": "10"
                    },
                    "metadata": {}
                }
            ],
            "execution_count": 38
        },
        {
            "cell_type": "markdown",
            "source": [
                "## Concatenação de Variáveis"
            ],
            "metadata": {
                "azdata_cell_guid": "b5a204cd-47d3-495e-8baa-69f44e6ca1d3"
            }
        },
        {
            "cell_type": "code",
            "source": [
                "nome = \"Steve\""
            ],
            "metadata": {
                "collapsed": true,
                "azdata_cell_guid": "c6852a42-bce1-4b13-ae5f-7292a027fc6d"
            },
            "outputs": [],
            "execution_count": 39
        },
        {
            "cell_type": "code",
            "source": [
                "sobrenome = \"Jobs\""
            ],
            "metadata": {
                "collapsed": true,
                "azdata_cell_guid": "094172c3-168a-41eb-8700-dbf4546e4692"
            },
            "outputs": [],
            "execution_count": 40
        },
        {
            "cell_type": "code",
            "source": [
                "fullName = nome + \" \" + sobrenome"
            ],
            "metadata": {
                "collapsed": true,
                "azdata_cell_guid": "718b4afd-178e-4b56-8e3b-d417f8e0a799"
            },
            "outputs": [],
            "execution_count": 41
        },
        {
            "cell_type": "code",
            "source": [
                "fullName"
            ],
            "metadata": {
                "azdata_cell_guid": "c47a5d2b-ff53-4add-a4f1-3863bdf7c06d"
            },
            "outputs": [
                {
                    "output_type": "execute_result",
                    "execution_count": 42,
                    "data": {
                        "text/plain": "'Steve Jobs'"
                    },
                    "metadata": {}
                }
            ],
            "execution_count": 42
        },
        {
            "cell_type": "markdown",
            "source": [
                "# Fim"
            ],
            "metadata": {
                "azdata_cell_guid": "f12a645b-3a5e-42bc-bc41-8389d46a1b21"
            }
        },
        {
            "cell_type": "markdown",
            "source": [
                "### Obrigado - Data Science Academy - <a href=\"http://facebook.com/dsacademybr\">facebook.com/dsacademybr</a>"
            ],
            "metadata": {
                "azdata_cell_guid": "62dbf194-7a4d-40dc-824d-977e5272bfb5"
            }
        }
    ]
}