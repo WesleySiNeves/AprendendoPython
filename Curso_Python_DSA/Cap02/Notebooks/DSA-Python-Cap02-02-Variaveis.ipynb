{
    "metadata": {
        "kernelspec": {
            "name": "python3",
            "display_name": "Python 3"
        },
        "language_info": {
            "name": "python",
            "version": "3.7.0-final",
            "mimetype": "text/x-python",
            "codemirror_mode": {
                "name": "ipython",
                "version": 3
            },
            "pygments_lexer": "ipython3",
            "nbconvert_exporter": "python",
            "file_extension": ".py"
        }
    },
    "nbformat_minor": 2,
    "nbformat": 4,
    "cells": [
        {
            "cell_type": "markdown",
            "metadata": {
                "azdata_cell_guid": "ab3ecd6f-8ec0-41c0-9cc2-bca6be79e6c9"
            },
            "source": [
                "# <font color='blue'>Data Science Academy - Python Fundamentos - Capítulo 2</font>\n",
                "\n",
                "## Download: http://github.com/dsacademybr"
            ]
        },
        {
            "cell_type": "markdown",
            "metadata": {
                "azdata_cell_guid": "bd944b46-c54d-4c9c-8c34-4de54bfa4a54"
            },
            "source": [
                "## Variáveis e Operadores "
            ]
        },
        {
            "cell_type": "code",
            "execution_count": 1,
            "metadata": {},
            "outputs": [
                {
                    "output_type": "stream",
                    "name": "stdout",
                    "text": [
                        "A quantidade de 10 dolares equivale a 56.1 em reais\n"
                    ]
                }
            ],
            "source": [
                "quantidade_Dolares = input(\"qual a quantidade de dólares?\")\n",
                "cotacao = input(\"qual é o valor da cotação\")\n",
                "\n",
                "conversao =  float(quantidade_Dolares) * float(cotacao)\n",
                "print(\"A quantidade de {0} dolares equivale a {1} em reais\".format(quantidade_Dolares,conversao))\n"
            ]
        },
        {
            "cell_type": "code",
            "execution_count": 2,
            "metadata": {},
            "outputs": [],
            "source": [
                "# Atribuindo o valor 1 à variável var_teste\n",
                "var_teste = 1           "
            ]
        },
        {
            "cell_type": "code",
            "execution_count": 3,
            "metadata": {
                "azdata_cell_guid": "b4f72984-f4d0-4e89-ace6-2e7dd7f6b7ad"
            },
            "outputs": [
                {
                    "data": {
                        "text/plain": "1"
                    },
                    "execution_count": 3,
                    "metadata": {},
                    "output_type": "execute_result"
                }
            ],
            "source": [
                "# Imprimindo o valor da variável\n",
                "var_teste"
            ]
        },
        {
            "cell_type": "code",
            "execution_count": 4,
            "metadata": {
                "azdata_cell_guid": "b34f5c96-7e3e-4580-b07c-e453ee387c80"
            },
            "outputs": [
                {
                    "name": "stdout",
                    "output_type": "stream",
                    "text": "1\n"
                }
            ],
            "source": [
                "# Imprimindo o valor da variável\n",
                "print(var_teste)"
            ]
        },
        {
            "cell_type": "code",
            "execution_count": 4,
            "metadata": {
                "azdata_cell_guid": "2fbbef15-7136-4878-afb1-760022039b3c"
            },
            "outputs": [
                {
                    "ename": "NameError",
                    "evalue": "name 'my_var' is not defined",
                    "output_type": "error",
                    "traceback": [
                        "\u001b[0;31m---------------------------------------------------------------------------\u001b[0m",
                        "\u001b[0;31mNameError\u001b[0m                                 Traceback (most recent call last)",
                        "\u001b[0;32m<ipython-input-4-69c69bcfbd2f>\u001b[0m in \u001b[0;36m<module>\u001b[0;34m()\u001b[0m\n\u001b[1;32m      1\u001b[0m \u001b[0;31m# Não podemos utilizar uma variável que não foi definida. Veja a mensagem de erro.\u001b[0m\u001b[0;34m\u001b[0m\u001b[0;34m\u001b[0m\u001b[0m\n\u001b[0;32m----> 2\u001b[0;31m \u001b[0mmy_var\u001b[0m\u001b[0;34m\u001b[0m\u001b[0m\n\u001b[0m",
                        "\u001b[0;31mNameError\u001b[0m: name 'my_var' is not defined"
                    ]
                }
            ],
            "source": [
                "# Não podemos utilizar uma variável que não foi definida. Veja a mensagem de erro.\n",
                "my_var"
            ]
        },
        {
            "cell_type": "code",
            "execution_count": 5,
            "metadata": {
                "azdata_cell_guid": "c0ae92d3-bbdd-4d57-b395-f9d909443167",
                "collapsed": true
            },
            "outputs": [],
            "source": [
                "var_teste = 2"
            ]
        },
        {
            "cell_type": "code",
            "execution_count": 6,
            "metadata": {
                "azdata_cell_guid": "8e147833-a3de-4a33-8359-151ce87451b0"
            },
            "outputs": [
                {
                    "data": {
                        "text/plain": "2"
                    },
                    "execution_count": 6,
                    "metadata": {},
                    "output_type": "execute_result"
                }
            ],
            "source": [
                "var_teste"
            ]
        },
        {
            "cell_type": "code",
            "execution_count": 1,
            "metadata": {},
            "outputs": [
                {
                    "ename": "NameError",
                    "evalue": "name 'var_teste' is not defined",
                    "output_type": "error",
                    "traceback": [
                        "\u001b[1;31m---------------------------------------------------------------------------\u001b[0m",
                        "\u001b[1;31mNameError\u001b[0m                                 Traceback (most recent call last)",
                        "\u001b[1;32m<ipython-input-1-2f717f3e1f9e>\u001b[0m in \u001b[0;36m<module>\u001b[1;34m\u001b[0m\n\u001b[1;32m----> 1\u001b[1;33m \u001b[0mtype\u001b[0m\u001b[1;33m(\u001b[0m\u001b[0mvar_teste\u001b[0m\u001b[1;33m)\u001b[0m\u001b[1;33m\u001b[0m\u001b[1;33m\u001b[0m\u001b[0m\n\u001b[0m",
                        "\u001b[1;31mNameError\u001b[0m: name 'var_teste' is not defined"
                    ]
                }
            ],
            "source": [
                "type(var_teste)"
            ]
        },
        {
            "cell_type": "code",
            "execution_count": 8,
            "metadata": {
                "azdata_cell_guid": "fe8ea5c5-d529-4dbf-bc1d-1bef34633b12",
                "collapsed": true
            },
            "outputs": [],
            "source": [
                "var_teste = 9.5"
            ]
        },
        {
            "cell_type": "code",
            "execution_count": 9,
            "metadata": {
                "azdata_cell_guid": "3d116a3b-9fc0-4f09-a419-3996b832cca1"
            },
            "outputs": [
                {
                    "data": {
                        "text/plain": "float"
                    },
                    "execution_count": 9,
                    "metadata": {},
                    "output_type": "execute_result"
                }
            ],
            "source": [
                "type(var_teste)"
            ]
        },
        {
            "cell_type": "code",
            "execution_count": 10,
            "metadata": {
                "azdata_cell_guid": "32708b00-29aa-484c-b3fe-0107f04efb5f",
                "collapsed": true
            },
            "outputs": [],
            "source": [
                "x = 1"
            ]
        },
        {
            "cell_type": "code",
            "execution_count": 11,
            "metadata": {
                "azdata_cell_guid": "5b6da262-a539-4319-bb99-e3814f5bf239"
            },
            "outputs": [
                {
                    "data": {
                        "text/plain": "1"
                    },
                    "execution_count": 11,
                    "metadata": {},
                    "output_type": "execute_result"
                }
            ],
            "source": [
                "x"
            ]
        },
        {
            "cell_type": "markdown",
            "metadata": {
                "azdata_cell_guid": "2fa09b9f-854e-4704-a9e3-933b36483b41"
            },
            "source": [
                "## Declaração Múltipla"
            ]
        },
        {
            "cell_type": "code",
            "execution_count": 3,
            "metadata": {},
            "outputs": [],
            "source": [
                "pessoa1, pessoa2, pessoa3 = \"Maria\", \"José\", \"Tobias\""
            ]
        },
        {
            "cell_type": "code",
            "execution_count": 4,
            "metadata": {},
            "outputs": [
                {
                    "data": {
                        "text/plain": "'Maria'"
                    },
                    "execution_count": 4,
                    "metadata": {},
                    "output_type": "execute_result"
                }
            ],
            "source": [
                "pessoa1"
            ]
        },
        {
            "cell_type": "code",
            "execution_count": 14,
            "metadata": {
                "azdata_cell_guid": "9d630141-09e6-4acb-ac77-f200e4f67d22"
            },
            "outputs": [
                {
                    "data": {
                        "text/plain": "'José'"
                    },
                    "execution_count": 14,
                    "metadata": {},
                    "output_type": "execute_result"
                }
            ],
            "source": [
                "pessoa2"
            ]
        },
        {
            "cell_type": "code",
            "execution_count": 15,
            "metadata": {
                "azdata_cell_guid": "c185e020-7312-4366-8af7-6d2a5ca032fa"
            },
            "outputs": [
                {
                    "data": {
                        "text/plain": "'Tobias'"
                    },
                    "execution_count": 15,
                    "metadata": {},
                    "output_type": "execute_result"
                }
            ],
            "source": [
                "pessoa3"
            ]
        },
        {
            "cell_type": "code",
            "execution_count": 5,
            "metadata": {},
            "outputs": [],
            "source": [
                "fruta1 = fruta2 = fruta3 = \"Laranja\""
            ]
        },
        {
            "cell_type": "code",
            "execution_count": 6,
            "metadata": {},
            "outputs": [
                {
                    "data": {
                        "text/plain": "'Laranja'"
                    },
                    "execution_count": 6,
                    "metadata": {},
                    "output_type": "execute_result"
                }
            ],
            "source": [
                "fruta1"
            ]
        },
        {
            "cell_type": "code",
            "execution_count": 7,
            "metadata": {},
            "outputs": [
                {
                    "data": {
                        "text/plain": "'Laranja'"
                    },
                    "execution_count": 7,
                    "metadata": {},
                    "output_type": "execute_result"
                }
            ],
            "source": [
                "fruta2"
            ]
        },
        {
            "cell_type": "code",
            "execution_count": 8,
            "metadata": {},
            "outputs": [
                {
                    "ename": "NameError",
                    "evalue": "name 'Fruta2' is not defined",
                    "output_type": "error",
                    "traceback": [
                        "\u001b[1;31m---------------------------------------------------------------------------\u001b[0m",
                        "\u001b[1;31mNameError\u001b[0m                                 Traceback (most recent call last)",
                        "\u001b[1;32m<ipython-input-8-064185b35816>\u001b[0m in \u001b[0;36m<module>\u001b[1;34m\u001b[0m\n\u001b[0;32m      1\u001b[0m \u001b[1;31m# Fique atento!!! Python é case-sensitive. Criamos a variável fruta2, mas não a variável Fruta2.\u001b[0m\u001b[1;33m\u001b[0m\u001b[1;33m\u001b[0m\u001b[1;33m\u001b[0m\u001b[0m\n\u001b[0;32m      2\u001b[0m \u001b[1;31m# Letras maiúsculas e minúsculas tem diferença no nome da variável.\u001b[0m\u001b[1;33m\u001b[0m\u001b[1;33m\u001b[0m\u001b[1;33m\u001b[0m\u001b[0m\n\u001b[1;32m----> 3\u001b[1;33m \u001b[0mFruta2\u001b[0m\u001b[1;33m\u001b[0m\u001b[1;33m\u001b[0m\u001b[0m\n\u001b[0m",
                        "\u001b[1;31mNameError\u001b[0m: name 'Fruta2' is not defined"
                    ]
                }
            ],
            "source": [
                "# Fique atento!!! Python é case-sensitive. Criamos a variável fruta2, mas não a variável Fruta2.\n",
                "# Letras maiúsculas e minúsculas tem diferença no nome da variável.\n",
                "Fruta2"
            ]
        },
        {
            "cell_type": "markdown",
            "metadata": {
                "azdata_cell_guid": "ea78f227-21dd-4a4f-a36b-7ec378c9055f"
            },
            "source": [
                "## Pode-se usar letras, números e underline (mas não se pode começar com números)"
            ]
        },
        {
            "cell_type": "code",
            "execution_count": 20,
            "metadata": {
                "azdata_cell_guid": "4a8e8d0b-0a8f-46bd-a475-68bbeb623bb5",
                "collapsed": true
            },
            "outputs": [],
            "source": [
                "x1 = 50"
            ]
        },
        {
            "cell_type": "code",
            "execution_count": 21,
            "metadata": {
                "azdata_cell_guid": "dc4d4819-2c46-4215-af6d-c44692a79585"
            },
            "outputs": [
                {
                    "data": {
                        "text/plain": "50"
                    },
                    "execution_count": 21,
                    "metadata": {},
                    "output_type": "execute_result"
                }
            ],
            "source": [
                "x1"
            ]
        },
        {
            "cell_type": "code",
            "execution_count": 22,
            "metadata": {
                "azdata_cell_guid": "86ac575a-5fa1-4836-91b7-232e16391fad"
            },
            "outputs": [
                {
                    "ename": "SyntaxError",
                    "evalue": "invalid syntax (<ipython-input-22-038522b53cfc>, line 2)",
                    "output_type": "error",
                    "traceback": [
                        "\u001b[0;36m  File \u001b[0;32m\"<ipython-input-22-038522b53cfc>\"\u001b[0;36m, line \u001b[0;32m2\u001b[0m\n\u001b[0;31m    1x = 50\u001b[0m\n\u001b[0m     ^\u001b[0m\n\u001b[0;31mSyntaxError\u001b[0m\u001b[0;31m:\u001b[0m invalid syntax\n"
                    ]
                }
            ],
            "source": [
                "# Mensagem de erro, pois o Python não permite nomes de variáveis que iniciem com números\n",
                "1x = 50"
            ]
        },
        {
            "cell_type": "markdown",
            "metadata": {
                "azdata_cell_guid": "5cd96bfc-ee3d-4954-8ae1-da13699f8854"
            },
            "source": [
                "## Não se pode usar palavras reservadas como nome de variável\n",
                "\n",
                "## False      \n",
                "## class      \n",
                "## finally    \n",
                "## is         \n",
                "## return\n",
                "## None       \n",
                "## continue   \n",
                "## for        \n",
                "## lambda     \n",
                "## try\n",
                "## True       \n",
                "## def        \n",
                "## from       \n",
                "## nonlocal   \n",
                "## while\n",
                "## and        \n",
                "## del        \n",
                "## global     \n",
                "## not        \n",
                "## with\n",
                "## as         \n",
                "## elif       \n",
                "## if         \n",
                "## or         \n",
                "## yield\n",
                "## assert     \n",
                "## else       \n",
                "## import     \n",
                "## pass\n",
                "## break      \n",
                "## except     \n",
                "## in         \n",
                "## raise"
            ]
        },
        {
            "cell_type": "code",
            "execution_count": 23,
            "metadata": {
                "azdata_cell_guid": "dfd22513-4ea4-4d24-9cd4-f98bc769b55a"
            },
            "outputs": [
                {
                    "ename": "SyntaxError",
                    "evalue": "invalid syntax (<ipython-input-23-dd17f949cdf7>, line 2)",
                    "output_type": "error",
                    "traceback": [
                        "\u001b[0;36m  File \u001b[0;32m\"<ipython-input-23-dd17f949cdf7>\"\u001b[0;36m, line \u001b[0;32m2\u001b[0m\n\u001b[0;31m    break = 1\u001b[0m\n\u001b[0m          ^\u001b[0m\n\u001b[0;31mSyntaxError\u001b[0m\u001b[0;31m:\u001b[0m invalid syntax\n"
                    ]
                }
            ],
            "source": [
                "# Não podemos usar palavras reservadas como nome de variável\n",
                "break = 1"
            ]
        },
        {
            "cell_type": "markdown",
            "metadata": {
                "azdata_cell_guid": "f32dd634-56a5-46b3-a6be-4a1193f777a6"
            },
            "source": [
                "## Variáveis atribuídas a outras variáveis e ordem dos operadores"
            ]
        },
        {
            "cell_type": "code",
            "execution_count": 4,
            "metadata": {},
            "outputs": [],
            "source": [
                "largura = 2"
            ]
        },
        {
            "cell_type": "code",
            "execution_count": null,
            "metadata": {},
            "outputs": [],
            "source": []
        },
        {
            "cell_type": "code",
            "execution_count": 5,
            "metadata": {},
            "outputs": [],
            "source": [
                "altura = 4"
            ]
        },
        {
            "cell_type": "code",
            "execution_count": 6,
            "metadata": {},
            "outputs": [],
            "source": [
                "area = largura * altura"
            ]
        },
        {
            "cell_type": "code",
            "execution_count": 7,
            "metadata": {},
            "outputs": [
                {
                    "data": {
                        "text/plain": "8"
                    },
                    "execution_count": 7,
                    "metadata": {},
                    "output_type": "execute_result"
                }
            ],
            "source": [
                "area"
            ]
        },
        {
            "cell_type": "code",
            "execution_count": 8,
            "metadata": {},
            "outputs": [],
            "source": [
                "perimetro = 2 * largura + 2 * altura"
            ]
        },
        {
            "cell_type": "code",
            "execution_count": 29,
            "metadata": {
                "azdata_cell_guid": "fdef0e83-6469-4277-91f8-6b6cd5817a19"
            },
            "outputs": [
                {
                    "data": {
                        "text/plain": "12"
                    },
                    "execution_count": 29,
                    "metadata": {},
                    "output_type": "execute_result"
                }
            ],
            "source": [
                "perimetro"
            ]
        },
        {
            "cell_type": "code",
            "execution_count": 9,
            "metadata": {},
            "outputs": [],
            "source": [
                "# A ordem dos operadores é a mesma seguida na Matemática\n",
                "perimetro = 2 * (largura + 2)  * altura"
            ]
        },
        {
            "cell_type": "code",
            "execution_count": 10,
            "metadata": {},
            "outputs": [
                {
                    "data": {
                        "text/plain": "32"
                    },
                    "execution_count": 10,
                    "metadata": {},
                    "output_type": "execute_result"
                }
            ],
            "source": [
                "perimetro"
            ]
        },
        {
            "cell_type": "markdown",
            "metadata": {
                "azdata_cell_guid": "56929023-49fc-47ce-9030-db6b8527fd4e"
            },
            "source": [
                "## Operações com variáveis"
            ]
        },
        {
            "cell_type": "code",
            "execution_count": 32,
            "metadata": {
                "azdata_cell_guid": "83cbd29f-286e-4fc9-9776-4257175c88d8",
                "collapsed": true
            },
            "outputs": [],
            "source": [
                "idade1 = 25"
            ]
        },
        {
            "cell_type": "code",
            "execution_count": 33,
            "metadata": {
                "azdata_cell_guid": "0970297f-39be-438f-8f2e-23c96059fe22",
                "collapsed": true
            },
            "outputs": [],
            "source": [
                "idade2 = 35"
            ]
        },
        {
            "cell_type": "code",
            "execution_count": 34,
            "metadata": {
                "azdata_cell_guid": "a6425880-4685-43e4-843d-7b952127f308"
            },
            "outputs": [
                {
                    "data": {
                        "text/plain": "60"
                    },
                    "execution_count": 34,
                    "metadata": {},
                    "output_type": "execute_result"
                }
            ],
            "source": [
                "idade1 + idade2"
            ]
        },
        {
            "cell_type": "code",
            "execution_count": 35,
            "metadata": {
                "azdata_cell_guid": "5e067c00-e78b-41db-a336-50b34011554c"
            },
            "outputs": [
                {
                    "data": {
                        "text/plain": "10"
                    },
                    "execution_count": 35,
                    "metadata": {},
                    "output_type": "execute_result"
                }
            ],
            "source": [
                "idade2 - idade1"
            ]
        },
        {
            "cell_type": "code",
            "execution_count": 36,
            "metadata": {
                "azdata_cell_guid": "a4111ce2-1494-440d-ae95-a8060a28f3ed"
            },
            "outputs": [
                {
                    "data": {
                        "text/plain": "875"
                    },
                    "execution_count": 36,
                    "metadata": {},
                    "output_type": "execute_result"
                }
            ],
            "source": [
                "idade2 * idade1"
            ]
        },
        {
            "cell_type": "code",
            "execution_count": 37,
            "metadata": {
                "azdata_cell_guid": "2c86533d-fe5e-4375-8bb4-3f664f684126"
            },
            "outputs": [
                {
                    "data": {
                        "text/plain": "1.4"
                    },
                    "execution_count": 37,
                    "metadata": {},
                    "output_type": "execute_result"
                }
            ],
            "source": [
                "idade2 / idade1"
            ]
        },
        {
            "cell_type": "code",
            "execution_count": 38,
            "metadata": {
                "azdata_cell_guid": "210c8162-f16e-4ab9-a190-a07ef1b488ee"
            },
            "outputs": [
                {
                    "data": {
                        "text/plain": "10"
                    },
                    "execution_count": 38,
                    "metadata": {},
                    "output_type": "execute_result"
                }
            ],
            "source": [
                "idade2 % idade1"
            ]
        },
        {
            "cell_type": "markdown",
            "metadata": {
                "azdata_cell_guid": "b5a204cd-47d3-495e-8baa-69f44e6ca1d3"
            },
            "source": [
                "## Concatenação de Variáveis"
            ]
        },
        {
            "cell_type": "code",
            "execution_count": 39,
            "metadata": {
                "azdata_cell_guid": "c6852a42-bce1-4b13-ae5f-7292a027fc6d",
                "collapsed": true
            },
            "outputs": [],
            "source": [
                "nome = \"Steve\""
            ]
        },
        {
            "cell_type": "code",
            "execution_count": 40,
            "metadata": {
                "azdata_cell_guid": "094172c3-168a-41eb-8700-dbf4546e4692",
                "collapsed": true
            },
            "outputs": [],
            "source": [
                "sobrenome = \"Jobs\""
            ]
        },
        {
            "cell_type": "code",
            "execution_count": 41,
            "metadata": {
                "azdata_cell_guid": "718b4afd-178e-4b56-8e3b-d417f8e0a799",
                "collapsed": true
            },
            "outputs": [],
            "source": [
                "fullName = nome + \" \" + sobrenome"
            ]
        },
        {
            "cell_type": "code",
            "execution_count": 42,
            "metadata": {
                "azdata_cell_guid": "c47a5d2b-ff53-4add-a4f1-3863bdf7c06d"
            },
            "outputs": [
                {
                    "data": {
                        "text/plain": "'Steve Jobs'"
                    },
                    "execution_count": 42,
                    "metadata": {},
                    "output_type": "execute_result"
                }
            ],
            "source": [
                "fullName"
            ]
        },
        {
            "cell_type": "markdown",
            "metadata": {
                "azdata_cell_guid": "f12a645b-3a5e-42bc-bc41-8389d46a1b21"
            },
            "source": [
                "# Fim"
            ]
        },
        {
            "cell_type": "markdown",
            "metadata": {
                "azdata_cell_guid": "62dbf194-7a4d-40dc-824d-977e5272bfb5"
            },
            "source": [
                "### Obrigado - Data Science Academy - <a href=\"http://facebook.com/dsacademybr\">facebook.com/dsacademybr</a>"
            ]
        }
    ]
}