{
 "nbformat": 4,
 "nbformat_minor": 2,
 "metadata": {
  "language_info": {
   "name": "python",
   "codemirror_mode": {
    "name": "ipython",
    "version": 3
   },
   "version": "3.7.4-final"
  },
  "orig_nbformat": 2,
  "file_extension": ".py",
  "mimetype": "text/x-python",
  "name": "python",
  "npconvert_exporter": "python",
  "pygments_lexer": "ipython3",
  "version": 3,
  "kernelspec": {
   "name": "python3",
   "display_name": "Python 3"
  }
 },
 "cells": [
  {
   "cell_type": "markdown",
   "metadata": {},
   "source": [
    "## importando as bibliotecas Necessárias\n"
   ]
  },
  {
   "cell_type": "code",
   "execution_count": 2,
   "metadata": {},
   "outputs": [],
   "source": [
    "import datetime\n",
    "import json \n",
    "import pandas as pd\n",
    "from pymongo import MongoClient"
   ]
  },
  {
   "cell_type": "markdown",
   "metadata": {},
   "source": [
    "## Carregar as dados do arquivo aluguel.csv"
   ]
  },
  {
   "cell_type": "code",
   "execution_count": 102,
   "metadata": {},
   "outputs": [],
   "source": [
    "diretorio = r\"F:\\VersionCode\\AprendendoPython\\AprendendoPython\\arquivos\\aluguel.csv\""
   ]
  },
  {
   "cell_type": "code",
   "execution_count": 103,
   "metadata": {},
   "outputs": [],
   "source": [
    "class AluguelEntity():\n",
    "    def __init__(self,tipo,bairro,quartos,vagas,suites,area,valor,condominio,iptu,data=None):\n",
    "        self.Tipo =tipo\n",
    "        self.Bairro =bairro\n",
    "        self.Quartos =quartos\n",
    "        self.Vagas =vagas\n",
    "        self.Suites =suites\n",
    "        self.Area =area\n",
    "        self.Valor =valor\n",
    "        self.Condominio  =condominio\n",
    "        self.IPTU =iptu\n",
    "       \n"
   ]
  },
  {
   "cell_type": "code",
   "execution_count": 104,
   "metadata": {},
   "outputs": [
    {
     "data": {
      "text/html": "<div>\n<style scoped>\n    .dataframe tbody tr th:only-of-type {\n        vertical-align: middle;\n    }\n\n    .dataframe tbody tr th {\n        vertical-align: top;\n    }\n\n    .dataframe thead th {\n        text-align: right;\n    }\n</style>\n<table border=\"1\" class=\"dataframe\">\n  <thead>\n    <tr style=\"text-align: right;\">\n      <th></th>\n      <th>Tipo</th>\n      <th>Bairro</th>\n      <th>Quartos</th>\n      <th>Vagas</th>\n      <th>Suites</th>\n      <th>Area</th>\n      <th>Valor</th>\n      <th>Condominio</th>\n      <th>IPTU</th>\n    </tr>\n  </thead>\n  <tbody>\n    <tr>\n      <td>0</td>\n      <td>Quitinete</td>\n      <td>Copacabana</td>\n      <td>1</td>\n      <td>0</td>\n      <td>0</td>\n      <td>40</td>\n      <td>1700.0</td>\n      <td>500.0</td>\n      <td>60.0</td>\n    </tr>\n    <tr>\n      <td>1</td>\n      <td>Casa</td>\n      <td>Jardim Botânico</td>\n      <td>2</td>\n      <td>0</td>\n      <td>1</td>\n      <td>100</td>\n      <td>7000.0</td>\n      <td>NaN</td>\n      <td>NaN</td>\n    </tr>\n    <tr>\n      <td>2</td>\n      <td>Conjunto Comercial/Sala</td>\n      <td>Barra da Tijuca</td>\n      <td>0</td>\n      <td>4</td>\n      <td>0</td>\n      <td>150</td>\n      <td>5200.0</td>\n      <td>4020.0</td>\n      <td>1111.0</td>\n    </tr>\n    <tr>\n      <td>3</td>\n      <td>Apartamento</td>\n      <td>Centro</td>\n      <td>1</td>\n      <td>0</td>\n      <td>0</td>\n      <td>15</td>\n      <td>800.0</td>\n      <td>390.0</td>\n      <td>20.0</td>\n    </tr>\n    <tr>\n      <td>4</td>\n      <td>Apartamento</td>\n      <td>Higienópolis</td>\n      <td>1</td>\n      <td>0</td>\n      <td>0</td>\n      <td>48</td>\n      <td>800.0</td>\n      <td>230.0</td>\n      <td>NaN</td>\n    </tr>\n  </tbody>\n</table>\n</div>",
      "text/plain": "                      Tipo           Bairro  Quartos  Vagas  Suites  Area  \\\n0                Quitinete       Copacabana        1      0       0    40   \n1                     Casa  Jardim Botânico        2      0       1   100   \n2  Conjunto Comercial/Sala  Barra da Tijuca        0      4       0   150   \n3              Apartamento           Centro        1      0       0    15   \n4              Apartamento     Higienópolis        1      0       0    48   \n\n    Valor  Condominio    IPTU  \n0  1700.0       500.0    60.0  \n1  7000.0         NaN     NaN  \n2  5200.0      4020.0  1111.0  \n3   800.0       390.0    20.0  \n4   800.0       230.0     NaN  "
     },
     "execution_count": 104,
     "metadata": {},
     "output_type": "execute_result"
    }
   ],
   "source": [
    "\n",
    "\n",
    "dataset = pd.read_csv(diretorio,\";\")\n",
    "\n",
    "dataset.head()"
   ]
  },
  {
   "cell_type": "code",
   "execution_count": 111,
   "metadata": {},
   "outputs": [],
   "source": [
    "dados =[]"
   ]
  },
  {
   "cell_type": "markdown",
   "metadata": {},
   "source": [
    "## transformar os dados em uma lista de dicionarios JSon\n",
    "https://www.geeksforgeeks.org/pandas-parsing-json-dataset/\n",
    "https://stackoverflow.com/questions/10292368/insert-python-object-in-mongodb\n",
    "\n",
    "\n",
    "\n"
   ]
  },
  {
   "cell_type": "code",
   "execution_count": 117,
   "metadata": {},
   "outputs": [
    {
     "data": {
      "text/plain": "(32960, 9)"
     },
     "execution_count": 117,
     "metadata": {},
     "output_type": "execute_result"
    }
   ],
   "source": [
    "dataset.shape"
   ]
  },
  {
   "cell_type": "code",
   "execution_count": 112,
   "metadata": {},
   "outputs": [],
   "source": [
    "for  index, rows in dataset.iterrows():\n",
    "    entidade = AluguelEntity(rows.Tipo,rows.Bairro,rows.Quartos,rows.Vagas,rows.Suites,rows.Area,rows.Valor,rows.Condominio,rows.IPTU)\n",
    "    value = json.dumps(entidade, default=lambda x:x.__dict__)\n",
    "    value = json.loads(value)\n",
    "    dados.append(value)\n",
    "\n"
   ]
  },
  {
   "cell_type": "code",
   "execution_count": 113,
   "metadata": {},
   "outputs": [
    {
     "data": {
      "text/plain": "  'Bairro': 'Copacabana',\n  'Quartos': 0,\n  'Vagas': 9,\n  'Suites': 0,\n  'Area': 0,\n  'Valor': 450.0,\n  'Condominio': nan,\n  'IPTU': nan},\n {'Tipo': 'Apartamento',\n  'Bairro': 'Barra da Tijuca',\n  'Quartos': 3,\n  'Vagas': 2,\n  'Suites': 3,\n  'Area': 89,\n  'Valor': 4500.0,\n  'Condominio': 1200.0,\n  'IPTU': 211.0},\n {'Tipo': 'Galpão/Depósito/Armazém',\n  'Bairro': 'Tijuca',\n  'Quartos': 0,\n  'Vagas': 60,\n  'Suites': 0,\n  'Area': 700,\n  'Valor': 9900.0,\n  'Condominio': nan,\n  'IPTU': nan},\n {'Tipo': 'Apartamento',\n  'Bairro': 'Barra da Tijuca',\n  'Quartos': 4,\n  'Vagas': 3,\n  'Suites': 2,\n  'Area': 398,\n  'Valor': 16000.0,\n  'Condominio': 2600.0,\n  'IPTU': 11000.0},\n {'Tipo': 'Apartamento',\n  'Bairro': 'Ipanema',\n  'Quartos': 2,\n  'Vagas': 2,\n  'Suites': 1,\n  'Area': 130,\n  'Valor': 8000.0,\n  'Condominio': 2000.0,\n  'IPTU': 660.0},\n {'Tipo': 'Apartamento',\n  'Bairro': 'Barra da Tijuca',\n  'Quartos': 2,\n  'Vagas': 1,\n  'Suites': 1,\n  'Area': 69,\n  'Valor': 2500.0,\n  'Condominio': 940.0,\n  'IPTU': 800.0},\n {'Tipo': 'Apartamento',\n  'Bairro': 'Ipanema',\n  'Quartos': 4,\n  'Vagas': 2,\n  'Suites': 1,\n  'Area': 200,\n  'Valor': 9500.0,\n  'Condominio': 3600.0,\n  'IPTU': 1500.0},\n {'Tipo': 'Loja Shopping/ Ct Comercial',\n  'Bairro': 'Recreio dos Bandeirantes',\n  'Quartos': 0,\n  'Vagas': 1,\n  'Suites': 0,\n  'Area': 105,\n  'Valor': 6000.0,\n  'Condominio': 490.0,\n  'IPTU': 1.0},\n {'Tipo': 'Conjunto Comercial/Sala',\n  'Bairro': 'Barra da Tijuca',\n  'Quartos': 0,\n  'Vagas': 1,\n  'Suites': 0,\n  'Area': 28,\n  'Valor': 800.0,\n  'Condominio': 720.0,\n  'IPTU': 130.0},\n {'Tipo': 'Apartamento',\n  'Bairro': 'Recreio dos Bandeirantes',\n  'Quartos': 1,\n  'Vagas': 1,\n  'Suites': 1,\n  'Area': 45,\n  'Valor': 1500.0,\n  'Condominio': 1200.0,\n  'IPTU': 440.0},\n {'Tipo': 'Apartamento',\n  'Bairro': 'Botafogo',\n  'Quartos': 1,\n  'Vagas': 1,\n  'Suites': 0,\n  'Area': 65,\n  'Valor': 2200.0,\n  'Condominio': 679.0,\n  'IPTU': 27.0},\n {'Tipo': 'Apartamento',\n  'Bairro': 'Barra da Tijuca',\n  'Quartos': 2,\n  'Vagas': 1,\n  'Suites': 2,\n  'Area': 100,\n  'Valor': 10000.0,\n  'Condominio': 5155.0,\n  'IPTU': 502.0},\n {'Tipo': 'Apartamento',\n  'Bairro': 'Méier',\n  'Quartos': 3,\n  'Vagas': 0,\n  'Suites': 0,\n  'Area': 60,\n  'Valor': 1300.0,\n  'Condominio': 450.0,\n  'IPTU': nan},\n {'Tipo': 'Apartamento',\n  'Bairro': 'Barra da Tijuca',\n  'Quartos': 2,\n  'Vagas': 2,\n  'Suites': 1,\n  'Area': 75,\n  'Valor': 1400.0,\n  'Condominio': 800.0,\n  'IPTU': 100.0},\n {'Tipo': 'Apartamento',\n  'Bairro': 'Leblon',\n  'Quartos': 3,\n  'Vagas': 1,\n  'Suites': 2,\n  'Area': 155,\n  'Valor': 7200.0,\n  'Condominio': 1515.0,\n  'IPTU': 538.0},\n {'Tipo': 'Apartamento',\n  'Bairro': 'Tijuca',\n  'Quartos': 2,\n  'Vagas': 1,\n  'Suites': 1,\n  'Area': 70,\n  'Valor': 1600.0,\n  'Condominio': 740.0,\n  'IPTU': nan},\n {'Tipo': 'Apartamento',\n  'Bairro': 'Leblon',\n  'Quartos': 2,\n  'Vagas': 2,\n  'Suites': 1,\n  'Area': 65,\n  'Valor': 5000.0,\n  'Condominio': 1950.0,\n  'IPTU': 300.0},\n {'Tipo': 'Conjunto Comercial/Sala',\n  'Bairro': 'Recreio dos Bandeirantes',\n  'Quartos': 0,\n  'Vagas': 1,\n  'Suites': 0,\n  'Area': 26,\n  'Valor': 700.0,\n  'Condominio': 450.0,\n  'IPTU': nan},\n {'Tipo': 'Conjunto Comercial/Sala',\n  'Bairro': 'Centro',\n  'Quartos': 0,\n  'Vagas': 4,\n  'Suites': 0,\n  'Area': 250,\n  'Valor': 3000.0,\n  'Condominio': 2120.0,\n  'IPTU': 506.0},\n {'Tipo': 'Apartamento',\n  'Bairro': 'Tijuca',\n  'Quartos': 3,\n  'Vagas': 2,\n  'Suites': 1,\n  'Area': 150,\n  'Valor': 2000.0,\n  'Condominio': 1700.0,\n  'IPTU': 210.0},\n {'Tipo': 'Apartamento',\n  'Bairro': 'Barra da Tijuca',\n  'Quartos': 4,\n  'Vagas': 3,\n  'Suites': 4,\n  'Area': 245,\n  'Valor': 11000.0,\n  'Condominio': 3000.0,\n  'IPTU': 544.0},\n {'Tipo': 'Conjunto Comercial/Sala',\n  'Bairro': 'Penha',\n  'Quartos': 0,\n  'Vagas': 0,\n  'Suites': 0,\n  'Area': 178,\n  'Valor': 2500.0,\n  'Condominio': nan,\n  'IPTU': 290.0},\n {'Tipo': 'Apartamento',\n  'Bairro': 'Lagoa',\n  'Quartos': 3,\n  'Vagas': 2,\n  'Suites': 3,\n  'Area': 125,\n  'Valor': 4800.0,\n  'Condominio': 1600.0,\n  'IPTU': 460.0},\n {'Tipo': 'Apartamento',\n  'Bairro': 'Leblon',\n  'Quartos': 2,\n  'Vagas': 0,\n  'Suites': 1,\n  'Area': 71,\n  'Valor': 6700.0,\n  'Condominio': 2070.0,\n  'IPTU': nan},\n {'Tipo': 'Apartamento',\n  'Bairro': 'Anil',\n  'Quartos': 2,\n  'Vagas': 1,\n  'Suites': 0,\n  'Area': 46,\n  'Valor': 1100.0,\n  'Condominio': 430.0,\n  'IPTU': 12.0},\n {'Tipo': 'Conjunto Comercial/Sala',\n  'Bairro': 'Botafogo',\n  'Quartos': 0,\n  'Vagas': 7,\n  'Suites': 0,\n  'Area': 457,\n  'Valor': 50000.0,\n  'Condominio': 17546.0,\n  'IPTU': nan},\n {'Tipo': 'Conjunto Comercial/Sala',\n  'Bairro': 'Centro',\n  'Quartos': 0,\n  'Vagas': 0,\n  'Suites': 0,\n  'Area': 320,\n  'Valor': 16000.0,\n  'Condominio': 6340.0,\n  'IPTU': 1775.0},\n {'Tipo': 'Apartamento',\n  'Bairro': 'Freguesia (Jacarepaguá)',\n  'Quartos': 2,\n  'Vagas': 1,\n  'Suites': 1,\n  'Area': 70,\n  'Valor': 1300.0,\n  'Condominio': 720.0,\n  'IPTU': 85.0},\n {'Tipo': 'Apartamento',\n  'Bairro': 'Copacabana',\n  'Quartos': 1,\n  'Vagas': 0,\n  'Suites': 1,\n  'Area': 39,\n  'Valor': 1800.0,\n  'Condominio': 600.0,\n  'IPTU': nan},\n {'Tipo': 'Apartamento',\n  'Bairro': 'Santa Teresa',\n  'Quartos': 1,\n  'Vagas': 0,\n  'Suites': 0,\n  'Area': 21,\n  'Valor': 800.0,\n  'Condominio': 312.0,\n  'IPTU': 15.0},\n {'Tipo': 'Apartamento',\n  'Bairro': 'Vila Isabel',\n  'Quartos': 3,\n  'Vagas': 1,\n  'Suites': 0,\n  'Area': 95,\n  'Valor': 1250.0,\n  'Condominio': 650.0,\n  'IPTU': 60.0},\n {'Tipo': 'Casa de Condomínio',\n  'Bairro': 'Joá',\n  'Quartos': 6,\n  'Vagas': 4,\n  'Suites': 6,\n  'Area': 550,\n  'Valor': 25000.0,\n  'Condominio': nan,\n  'IPTU': 672.0},\n {'Tipo': 'Apartamento',\n  'Bairro': 'Copacabana',\n  'Quartos': 1,\n  'Vagas': 0,\n  'Suites': 0,\n  'Area': 36,\n  'Valor': 2200.0,\n  'Condominio': 590.0,\n  'IPTU': nan},\n {'Tipo': 'Apartamento',\n  'Bairro': 'Barra da Tijuca',\n  'Quartos': 2,\n  'Vagas': 1,\n  'Suites': 1,\n  'Area': 67,\n  'Valor': 2000.0,\n  'Condominio': 1300.0,\n  'IPTU': 119.0},\n {'Tipo': 'Apartamento',\n  'Bairro': 'Copacabana',\n  'Quartos': 3,\n  'Vagas': 2,\n  'Suites': 1,\n  'Area': 190,\n  'Valor': 7000.0,\n  'Condominio': 2000.0,\n  'IPTU': 639.0},\n {'Tipo': 'Apartamento',\n  'Bairro': 'Andaraí',\n  'Quartos': 3,\n  'Vagas': 0,\n  'Suites': 0,\n  'Area': 64,\n  'Valor': 1300.0,\n  'Condominio': 310.0,\n  'IPTU': 20.0},\n {'Tipo': 'Loja/Salão',\n  'Bairro': 'Quintino Bocaiúva',\n  'Quartos': 0,\n  'Vagas': 0,\n  'Suites': 0,\n  'Area': 100,\n  'Valor': 2200.0,\n  'Condominio': nan,\n  'IPTU': 16.0},\n {'Tipo': 'Conjunto Comercial/Sala',\n  'Bairro': 'Centro',\n  'Quartos': 0,\n  'Vagas': 0,\n  'Suites': 0,\n  'Area': 60,\n  'Valor': 2000.0,\n  'Condominio': 860.0,\n  'IPTU': 170.0},\n {'Tipo': 'Apartamento',\n  'Bairro': 'Ipanema',\n  'Quartos': 3,\n  'Vagas': 0,\n  'Suites': 0,\n  'Area': 90,\n  'Valor': 3500.0,\n  'Condominio': 998.0,\n  'IPTU': 95.0},\n {'Tipo': 'Conjunto Comercial/Sala',\n  'Bairro': 'Centro',\n  'Quartos': 0,\n  'Vagas': 0,\n  'Suites': 0,\n  'Area': 200,\n  'Valor': 6000.0,\n  'Condominio': 3730.0,\n  'IPTU': 500.0},\n {'Tipo': 'Apartamento',\n  'Bairro': 'Copacabana',\n  'Quartos': 3,\n  'Vagas': 1,\n  'Suites': 0,\n  'Area': 90,\n  'Valor': 3800.0,\n  'Condominio': 900.0,\n  'IPTU': 230.0},\n {'Tipo': 'Apartamento',\n  'Bairro': 'São Conrado',\n  'Quartos': 4,\n  'Vagas': 4,\n  'Suites': 2,\n  'Area': 460,\n  'Valor': 10000.0,\n  'Condominio': 5600.0,\n  'IPTU': 500.0},\n {'Tipo': 'Conjunto Comercial/Sala',\n  'Bairro': 'Barra da Tijuca',\n  'Quartos': 0,\n  'Vagas': 1,\n  'Suites': 0,\n  'Area': 35,\n  'Valor': 2000.0,\n  'Condominio': 1009.0,\n  'IPTU': 262.0},\n {'Tipo': 'Apartamento',\n  'Bairro': 'Recreio dos Bandeirantes',\n  'Quartos': 3,\n  'Vagas': 1,\n  'Suites': 1,\n  'Area': 82,\n  'Valor': 2000.0,\n  'Condominio': 989.0,\n  'IPTU': 1313.0},\n {'Tipo': 'Casa',\n  'Bairro': 'Campo Grande',\n  'Quartos': 5,\n  'Vagas': 2,\n  'Suites': 5,\n  'Area': 120,\n  'Valor': 10000.0,\n  'Condominio': nan,\n  'IPTU': nan},\n {'Tipo': 'Casa Comercial',\n  'Bairro': 'Centro',\n  'Quartos': 0,\n  'Vagas': 2,\n  'Suites': 0,\n  'Area': 258,\n  'Valor': 14000.0,\n  'Condominio': 4900.0,\n  'IPTU': 1000.0},\n {'Tipo': 'Apartamento',\n  'Bairro': 'Curicica',\n  'Quartos': 2,\n  'Vagas': 1,\n  'Suites': 1,\n  'Area': 58,\n  'Valor': 1350.0,\n  'Condominio': 590.0,\n  'IPTU': 560.0},\n {'Tipo': 'Loja/Salão',\n  'Bairro': 'Gamboa',\n  'Quartos': 0,\n  'Vagas': 1,\n  'Suites': 0,\n  'Area': 40,\n  'Valor': 1300.0,\n  'Condominio': nan,\n  'IPTU': 154.0},\n {'Tipo': 'Apartamento',\n  'Bairro': 'Flamengo',\n  'Quartos': 4,\n  'Vagas': 0,\n  'Suites': 1,\n  'Area': 648,\n  'Valor': 18000.0,\n  'Condominio': 3540.0,\n  'IPTU': 2187.0},\n {'Tipo': 'Casa',\n  'Bairro': 'Vargem Grande',\n  'Quartos': 7,\n  'Vagas': 10,\n  'Suites': 2,\n  'Area': 500,\n  'Valor': 12000.0,\n  'Condominio': nan,\n  'IPTU': 20.0},\n {'Tipo': 'Casa de Condomínio',\n  'Bairro': 'Barra da Tijuca',\n  'Quartos': 5,\n  'Vagas': 5,\n  'Suites': 5,\n  'Area': 600,\n  'Valor': 20000.0,\n  'Condominio': 2300.0,\n  'IPTU': nan},\n {'Tipo': 'Apartamento',\n  'Bairro': 'São Conrado',\n  'Quartos': 4,\n  'Vagas': 3,\n  'Suites': 1,\n  'Area': 260,\n  'Valor': 8500.0,\n  'Condominio': 3650.0,\n  'IPTU': 1170.0},\n {'Tipo': 'Loja Shopping/ Ct Comercial',\n  'Bairro': 'Barra da Tijuca',\n  'Quartos': 0,\n  'Vagas': 2,\n  'Suites': 0,\n  'Area': 84,\n  'Valor': 5500.0,\n  'Condominio': 995.0,\n  'IPTU': 420.0},\n {'Tipo': 'Apartamento',\n  'Bairro': 'Ipanema',\n  'Quartos': 3,\n  'Vagas': 3,\n  'Suites': 2,\n  'Area': 270,\n  'Valor': 16000.0,\n  'Condominio': 3100.0,\n  'IPTU': 7813.0},\n {'Tipo': 'Apartamento',\n  'Bairro': 'Camorim',\n  'Quartos': 2,\n  'Vagas': 1,\n  'Suites': 1,\n  'Area': 51,\n  'Valor': 1200.0,\n  'Condominio': 550.0,\n  'IPTU': 650.0},\n {'Tipo': 'Apartamento',\n  'Bairro': 'Lagoa',\n  'Quartos': 3,\n  'Vagas': 2,\n  'Suites': 1,\n  'Area': 162,\n  'Valor': 5500.0,\n  'Condominio': 1500.0,\n  'IPTU': 627.0},\n {'Tipo': 'Apartamento',\n  'Bairro': 'Tijuca',\n  'Quartos': 2,\n  'Vagas': 1,\n  'Suites': 1,\n  'Area': 85,\n  'Valor': 1600.0,\n  'Condominio': 960.0,\n  'IPTU': 90.0},\n {'Tipo': 'Apartamento',\n  'Bairro': 'Ipanema',\n  'Quartos': 1,\n  'Vagas': 0,\n  'Suites': 0,\n  'Area': 50,\n  'Valor': 2100.0,\n  'Condominio': 630.0,\n  'IPTU': nan},\n {'Tipo': 'Apartamento',\n  'Bairro': 'Cachambi',\n  'Quartos': 2,\n  'Vagas': 1,\n  'Suites': 0,\n  'Area': 55,\n  'Valor': 1200.0,\n  'Condominio': 364.0,\n  'IPTU': nan},\n {'Tipo': 'Casa',\n  'Bairro': 'Barra da Tijuca',\n  'Quartos': 4,\n  'Vagas': 6,\n  'Suites': 2,\n  'Area': 800,\n  'Valor': 9800.0,\n  'Condominio': nan,\n  'IPTU': 490.0},\n {'Tipo': 'Apartamento',\n  'Bairro': 'Méier',\n  'Quartos': 2,\n  'Vagas': 1,\n  'Suites': 0,\n  'Area': 77,\n  'Valor': 1000.0,\n  'Condominio': 925.0,\n  'IPTU': nan},\n {'Tipo': 'Apartamento',\n  'Bairro': 'Barra da Tijuca',\n  'Quartos': 1,\n  'Vagas': 1,\n  'Suites': 1,\n  'Area': 69,\n  'Valor': 1900.0,\n  'Condominio': 1007.0,\n  'IPTU': 159.0},\n {'Tipo': 'Conjunto Comercial/Sala',\n  'Bairro': 'Centro',\n  'Quartos': 0,\n  'Vagas': 0,\n  'Suites': 0,\n  'Area': 151,\n  'Valor': 6040.0,\n  'Condominio': 5200.0,\n  'IPTU': nan},\n {'Tipo': 'Conjunto Comercial/Sala',\n  'Bairro': 'Botafogo',\n  'Quartos': 0,\n  'Vagas': 17,\n  'Suites': 0,\n  'Area': 795,\n  'Valor': 107394.0,\n  'Condominio': 29832.0,\n  'IPTU': nan},\n {'Tipo': 'Conjunto Comercial/Sala',\n  'Bairro': 'Bangu',\n  'Quartos': 0,\n  'Vagas': 1,\n  'Suites': 0,\n  'Area': 24,\n  'Valor': 800.0,\n  'Condominio': 454.0,\n  'IPTU': 21.0},\n {'Tipo': 'Conjunto Comercial/Sala',\n  'Bairro': 'Centro',\n  'Quartos': 0,\n  'Vagas': 0,\n  'Suites': 0,\n  'Area': 116,\n  'Valor': 2600.0,\n  'Condominio': 1090.0,\n  'IPTU': nan},\n {'Tipo': 'Loja Shopping/ Ct Comercial',\n  'Bairro': 'Vila da Penha',\n  'Quartos': 0,\n  'Vagas': 0,\n  'Suites': 0,\n  'Area': 145,\n  'Valor': 7000.0,\n  'Condominio': nan,\n  'IPTU': nan},\n {'Tipo': 'Quitinete',\n  'Bairro': 'Copacabana',\n  'Quartos': 1,\n  'Vagas': 0,\n  'Suites': 0,\n  'Area': 28,\n  'Valor': 1500.0,\n  'Condominio': 450.0,\n  'IPTU': nan},\n {'Tipo': 'Apartamento',\n  'Bairro': 'Maracanã',\n  'Quartos': 2,\n  'Vagas': 1,\n  'Suites': 1,\n  'Area': 85,\n  'Valor': 2500.0,\n  'Condominio': 492.0,\n  'IPTU': nan},\n {'Tipo': 'Conjunto Comercial/Sala',\n  'Bairro': 'Copacabana',\n  'Quartos': 0,\n  'Vagas': 0,\n  'Suites': 0,\n  'Area': 29,\n  'Valor': 1600.0,\n  'Condominio': 494.0,\n  'IPTU': 101.0},\n {'Tipo': 'Galpão/Depósito/Armazém',\n  'Bairro': 'Vigário Geral',\n  'Quartos': 0,\n  'Vagas': 0,\n  'Suites': 0,\n  'Area': 2170,\n  'Valor': 40000.0,\n  'Condominio': nan,\n  'IPTU': 2784.0},\n {'Tipo': 'Apartamento',\n  'Bairro': 'Colégio',\n  'Quartos': 1,\n  'Vagas': 0,\n  'Suites': 0,\n  'Area': 58,\n  'Valor': 950.0,\n  'Condominio': nan,\n  'IPTU': nan},\n {'Tipo': 'Casa',\n  'Bairro': 'Recreio dos Bandeirantes',\n  'Quartos': 3,\n  'Vagas': 0,\n  'Suites': 0,\n  'Area': 614,\n  'Valor': 4500.0,\n  'Condominio': nan,\n  'IPTU': 576.0},\n {'Tipo': 'Casa',\n  'Bairro': 'Tijuca',\n  'Quartos': 4,\n  'Vagas': 6,\n  'Suites': 0,\n  'Area': 160,\n  'Valor': 3500.0,\n  'Condominio': nan,\n  'IPTU': nan},\n {'Tipo': 'Apartamento',\n  'Bairro': 'Tijuca',\n  'Quartos': 3,\n  'Vagas': 1,\n  'Suites': 1,\n  'Area': 80,\n  'Valor': 3000.0,\n  'Condominio': 967.0,\n  'IPTU': 184.0},\n {'Tipo': 'Apartamento',\n  'Bairro': 'Barra da Tijuca',\n  'Quartos': 2,\n  'Vagas': 1,\n  'Suites': 1,\n  'Area': 70,\n  'Valor': 1150.0,\n  'Condominio': 1260.0,\n  'IPTU': 160.0},\n {'Tipo': 'Apartamento',\n  'Bairro': 'Leblon',\n  'Quartos': 2,\n  'Vagas': 1,\n  'Suites': 1,\n  'Area': 90,\n  'Valor': 3500.0,\n  'Condominio': 1150.0,\n  'IPTU': 3300.0},\n {'Tipo': 'Galpão/Depósito/Armazém',\n  'Bairro': 'Irajá',\n  'Quartos': 0,\n  'Vagas': 34,\n  'Suites': 0,\n  'Area': 14730,\n  'Valor': 301965.0,\n  'Condominio': 55974.0,\n  'IPTU': 13257.0},\n {'Tipo': 'Conjunto Comercial/Sala',\n  'Bairro': 'Barra da Tijuca',\n  'Quartos': 0,\n  'Vagas': 1,\n  'Suites': 0,\n  'Area': 21,\n  'Valor': 1200.0,\n  'Condominio': 550.0,\n  'IPTU': 100.0},\n {'Tipo': 'Casa Comercial',\n  'Bairro': 'Bonsucesso',\n  'Quartos': 0,\n  'Vagas': 2,\n  'Suites': 0,\n  'Area': 180,\n  'Valor': 4500.0,\n  'Condominio': nan,\n  'IPTU': nan},\n {'Tipo': 'Apartamento',\n  'Bairro': 'Leblon',\n  'Quartos': 3,\n  'Vagas': 2,\n  'Suites': 2,\n  'Area': 262,\n  'Valor': 20000.0,\n  'Condominio': 2579.0,\n  'IPTU': 1351.0},\n {'Tipo': 'Apartamento',\n  'Bairro': 'Rocha Miranda',\n  'Quartos': 1,\n  'Vagas': 0,\n  'Suites': 0,\n  'Area': 33,\n  'Valor': 750.0,\n  'Condominio': nan,\n  'IPTU': nan},\n {'Tipo': 'Apartamento',\n  'Bairro': 'Laranjeiras',\n  'Quartos': 2,\n  'Vagas': 1,\n  'Suites': 0,\n  'Area': 63,\n  'Valor': 2500.0,\n  'Condominio': 968.0,\n  'IPTU': 93.0},\n {'Tipo': 'Apartamento',\n  'Bairro': 'Laranjeiras',\n  'Quartos': 2,\n  'Vagas': 1,\n  'Suites': 0,\n  'Area': 79,\n  'Valor': 2300.0,\n  'Condominio': 780.0,\n  'IPTU': 118.0},\n {'Tipo': 'Apartamento',\n  'Bairro': 'Jardim Botânico',\n  'Quartos': 2,\n  'Vagas': 2,\n  'Suites': 1,\n  'Area': 83,\n  'Valor': 3500.0,\n  'Condominio': 1790.0,\n  'IPTU': 196.0},\n {'Tipo': 'Conjunto Comercial/Sala',\n  'Bairro': 'Centro',\n  'Quartos': 0,\n  'Vagas': 0,\n  'Suites': 0,\n  'Area': 660,\n  'Valor': 56100.0,\n  'Condominio': 8400.0,\n  'IPTU': nan},\n {'Tipo': 'Apartamento',\n  'Bairro': 'Vila Isabel',\n  'Quartos': 2,\n  'Vagas': 0,\n  'Suites': 0,\n  'Area': 80,\n  'Valor': 1700.0,\n  'Condominio': 450.0,\n  'IPTU': 60.0},\n {'Tipo': 'Conjunto Comercial/Sala',\n  'Bairro': 'Centro',\n  'Quartos': 0,\n  'Vagas': 0,\n  'Suites': 0,\n  'Area': 60,\n  'Valor': 1500.0,\n  'Condominio': 898.0,\n  'IPTU': 168.0},\n {'Tipo': 'Apartamento',\n  'Bairro': 'Laranjeiras',\n  'Quartos': 4,\n  'Vagas': 2,\n  'Suites': 1,\n  'Area': 270,\n  'Valor': 5500.0,\n  'Condominio': 2750.0,\n  'IPTU': 420.0},\n {'Tipo': 'Prédio Inteiro',\n  'Bairro': 'Centro',\n  'Quartos': 0,\n  'Vagas': 0,\n  'Suites': 0,\n  'Area': 1164,\n  'Valor': 40000.0,\n  'Condominio': nan,\n  'IPTU': 8682.0},\n {'Tipo': 'Apartamento',\n  'Bairro': 'São Conrado',\n  'Quartos': 3,\n  'Vagas': 2,\n  'Suites': 1,\n  'Area': 157,\n  'Valor': 6400.0,\n  'Condominio': 1792.0,\n  'IPTU': 460.0},\n {'Tipo': 'Conjunto Comercial/Sala',\n  'Bairro': 'Centro',\n  'Quartos': 0,\n  'Vagas': 0,\n  'Suites': 0,\n  'Area': 80,\n  'Valor': 1555.0,\n  'Condominio': nan,\n  'IPTU': nan},\n {'Tipo': 'Apartamento',\n  'Bairro': 'Ipanema',\n  'Quartos': 3,\n  'Vagas': 1,\n  'Suites': 2,\n  'Area': 108,\n  'Valor': 5800.0,\n  'Condominio': 1735.0,\n  'IPTU': 368.0},\n {'Tipo': 'Apartamento',\n  'Bairro': 'Ipanema',\n  'Quartos': 3,\n  'Vagas': 2,\n  'Suites': 1,\n  'Area': 166,\n  'Valor': 7000.0,\n  'Condominio': 3400.0,\n  'IPTU': nan},\n {'Tipo': 'Apartamento',\n  'Bairro': 'Botafogo',\n  'Quartos': 1,\n  'Vagas': 0,\n  'Suites': 0,\n  'Area': 53,\n  'Valor': 1600.0,\n  'Condominio': 770.0,\n  'IPTU': 70.0},\n {'Tipo': 'Conjunto Comercial/Sala',\n  'Bairro': 'Barra da Tijuca',\n  'Quartos': 0,\n  'Vagas': 1,\n  'Suites': 0,\n  'Area': 21,\n  'Valor': 800.0,\n  'Condominio': 727.0,\n  'IPTU': nan},\n {'Tipo': 'Quitinete',\n  'Bairro': 'Copacabana',\n  'Quartos': 1,\n  'Vagas': 0,\n  'Suites': 0,\n  'Area': 15,\n  'Valor': 800.0,\n  'Condominio': 305.0,\n  'IPTU': 24.0},\n {'Tipo': 'Conjunto Comercial/Sala',\n  'Bairro': 'Barra da Tijuca',\n  'Quartos': 0,\n  'Vagas': 1,\n  'Suites': 0,\n  'Area': 27,\n  'Valor': 700.0,\n  'Condominio': 700.0,\n  'IPTU': 47.0},\n {'Tipo': 'Galpão/Depósito/Armazém',\n  'Bairro': 'Pavuna',\n  'Quartos': 0,\n  'Vagas': 8,\n  'Suites': 0,\n  'Area': 1981,\n  'Valor': 39630.0,\n  'Condominio': 7928.0,\n  'IPTU': 2377.0},\n {'Tipo': 'Conjunto Comercial/Sala',\n  'Bairro': 'Barra da Tijuca',\n  'Quartos': 0,\n  'Vagas': 0,\n  'Suites': 0,\n  'Area': 33,\n  'Valor': 1000.0,\n  'Condominio': 500.0,\n  'IPTU': 1000.0},\n {'Tipo': 'Apartamento',\n  'Bairro': 'Lagoa',\n  'Quartos': 3,\n  'Vagas': 1,\n  'Suites': 1,\n  'Area': 120,\n  'Valor': 5500.0,\n  'Condominio': 1080.0,\n  'IPTU': 555.0},\n {'Tipo': 'Conjunto Comercial/Sala',\n  'Bairro': 'Centro',\n  'Quartos': 0,\n  'Vagas': 0,\n  'Suites': 0,\n  'Area': 220,\n  'Valor': 12000.0,\n  'Condominio': 4800.0,\n  'IPTU': 1365.0},\n {'Tipo': 'Apartamento',\n  'Bairro': 'Barra da Tijuca',\n  'Quartos': 3,\n  'Vagas': 2,\n  'Suites': 2,\n  'Area': 168,\n  'Valor': 3500.0,\n  'Condominio': 2138.0,\n  'IPTU': 401.0},\n {'Tipo': 'Apartamento',\n  'Bairro': 'Tijuca',\n  'Quartos': 2,\n  'Vagas': 0,\n  'Suites': 1,\n  'Area': 48,\n  'Valor': 1700.0,\n  'Condominio': 700.0,\n  'IPTU': nan},\n {'Tipo': 'Apartamento',\n  'Bairro': 'Barra da Tijuca',\n  'Quartos': 2,\n  'Vagas': 1,\n  'Suites': 1,\n  'Area': 60,\n  'Valor': 2800.0,\n  'Condominio': 900.0,\n  'IPTU': 149.0},\n {'Tipo': 'Conjunto Comercial/Sala',\n  'Bairro': 'Centro',\n  'Quartos': 0,\n  'Vagas': 1,\n  'Suites': 0,\n  'Area': 259,\n  'Valor': 23319.0,\n  'Condominio': 5036.0,\n  'IPTU': 572.0},\n {'Tipo': 'Conjunto Comercial/Sala',\n  'Bairro': 'Barra da Tijuca',\n  'Quartos': 0,\n  'Vagas': 1,\n  'Suites': 0,\n  'Area': 35,\n  'Valor': 1250.0,\n  'Condominio': 1000.0,\n  'IPTU': 206.0},\n {'Tipo': 'Apartamento',\n  'Bairro': 'Laranjeiras',\n  'Quartos': 4,\n  'Vagas': 0,\n  'Suites': 2,\n  'Area': 217,\n  'Valor': 9000.0,\n  'Condominio': 1200.0,\n  'IPTU': nan},\n {'Tipo': 'Conjunto Comercial/Sala',\n  'Bairro': 'Centro',\n  'Quartos': 0,\n  'Vagas': 0,\n  'Suites': 0,\n  'Area': 375,\n  'Valor': 28125.0,\n  'Condominio': 6000.0,\n  'IPTU': nan},\n {'Tipo': 'Apartamento',\n  'Bairro': 'Ipanema',\n  'Quartos': 2,\n  'Vagas': 0,\n  'Suites': 0,\n  'Area': 73,\n  'Valor': 3000.0,\n  'Condominio': 700.0,\n  'IPTU': 190.0},\n {'Tipo': 'Conjunto Comercial/Sala',\n  'Bairro': 'Centro',\n  'Quartos': 0,\n  'Vagas': 0,\n  'Suites': 0,\n  'Area': 56,\n  'Valor': 1400.0,\n  'Condominio': 931.0,\n  'IPTU': 175.0},\n {'Tipo': 'Casa de Condomínio',\n  'Bairro': 'Recreio dos Bandeirantes',\n  'Quartos': 4,\n  'Vagas': 4,\n  'Suites': 4,\n  'Area': 540,\n  'Valor': 10500.0,\n  'Condominio': 850.0,\n  'IPTU': 1000.0},\n {'Tipo': 'Conjunto Comercial/Sala',\n  'Bairro': 'Centro',\n  'Quartos': 0,\n  'Vagas': 0,\n  'Suites': 0,\n  'Area': 70,\n  'Valor': 2300.0,\n  'Condominio': 1960.0,\n  'IPTU': 249.0},\n {'Tipo': 'Apartamento',\n  'Bairro': 'Leblon',\n  'Quartos': 2,\n  'Vagas': 1,\n  'Suites': 0,\n  'Area': 73,\n  'Valor': 3800.0,\n  'Condominio': 1100.0,\n  'IPTU': 210.0},\n {'Tipo': 'Conjunto Comercial/Sala',\n  'Bairro': 'Barra da Tijuca',\n  'Quartos': 0,\n  'Vagas': 1,\n  'Suites': 0,\n  'Area': 80,\n  'Valor': 4500.0,\n  'Condominio': 1800.0,\n  'IPTU': nan},\n ...]"
     },
     "execution_count": 113,
     "metadata": {},
     "output_type": "execute_result"
    }
   ],
   "source": [
    "dados"
   ]
  },
  {
   "cell_type": "markdown",
   "metadata": {},
   "source": [
    "## Fazer a conexão com o MongoDB\n"
   ]
  },
  {
   "cell_type": "code",
   "execution_count": 17,
   "metadata": {},
   "outputs": [],
   "source": [
    "conn = MongoClient('localhost', 27017)\n",
    "\n",
    "database = conn.Imobiliaria"
   ]
  },
  {
   "cell_type": "code",
   "execution_count": 18,
   "metadata": {},
   "outputs": [
    {
     "data": {
      "text/plain": "pymongo.database.Database"
     },
     "execution_count": 18,
     "metadata": {},
     "output_type": "execute_result"
    }
   ],
   "source": [
    "type(database)"
   ]
  },
  {
   "cell_type": "code",
   "execution_count": 19,
   "metadata": {},
   "outputs": [],
   "source": [
    "collection = database.Alugueis"
   ]
  },
  {
   "cell_type": "markdown",
   "metadata": {},
   "source": [
    "## Iterar sobre cadas item da lista e fazer o insert no Mongo DB\n"
   ]
  },
  {
   "cell_type": "code",
   "execution_count": 118,
   "metadata": {},
   "outputs": [],
   "source": [
    "for item in dados:\n",
    "    collection.insert_one(item)"
   ]
  },
  {
   "cell_type": "markdown",
   "metadata": {},
   "source": [
    "## Recupera um registro para saber se houve inserções"
   ]
  },
  {
   "cell_type": "code",
   "execution_count": 4,
   "metadata": {},
   "outputs": [
    {
     "data": {
      "text/plain": "{'_id': ObjectId('5e2a07142bb8be5841a0a088'),\n 'Tipo': 'Quitinete',\n 'Bairro': 'Copacabana',\n 'Quartos': 1,\n 'Vagas': 0,\n 'Suites': 0,\n 'Area': 40,\n 'Valor': 1700.0,\n 'Condominio': 500.0,\n 'IPTU': 60.0}"
     },
     "execution_count": 4,
     "metadata": {},
     "output_type": "execute_result"
    }
   ],
   "source": [
    "database.Alugueis.find_one()"
   ]
  },
  {
   "cell_type": "markdown",
   "metadata": {},
   "source": [
    "## encerra a conexão com o o banco de dados\n"
   ]
  },
  {
   "cell_type": "code",
   "execution_count": 5,
   "metadata": {},
   "outputs": [],
   "source": [
    "conn.close()"
   ]
  },
  {
   "cell_type": "markdown",
   "metadata": {},
   "source": [
    "## recupera os dados do Mongo DB e Cria um Data Set no Pandas\n"
   ]
  },
  {
   "cell_type": "code",
   "execution_count": 23,
   "metadata": {},
   "outputs": [],
   "source": [
    "conn = MongoClient('localhost', 27017)\n",
    "\n",
    "databaseImobiliaria = conn.Imobiliaria"
   ]
  },
  {
   "cell_type": "code",
   "execution_count": 21,
   "metadata": {},
   "outputs": [
    {
     "name": "stdout",
     "output_type": "stream",
     "text": "0}\n{'_id': ObjectId('5e2a07212bb8be5841a120e5'), 'Tipo': 'Apartamento', 'Bairro': 'Barra da Tijuca', 'Quartos': 3, 'Vagas': 3, 'Suites': 3, 'Area': 266, 'Valor': 8900.0, 'Condominio': 3500.0, 'IPTU': 480.0}\n{'_id': ObjectId('5e2a07212bb8be5841a120e6'), 'Tipo': 'Apartamento', 'Bairro': 'Irajá', 'Quartos': 2, 'Vagas': 1, 'Suites': 0, 'Area': 62, 'Valor': 1000.0, 'Condominio': 300.0, 'IPTU': nan}\n{'_id': ObjectId('5e2a07212bb8be5841a120e7'), 'Tipo': 'Apartamento', 'Bairro': 'São Conrado', 'Quartos': 4, 'Vagas': 2, 'Suites': 1, 'Area': 166, 'Valor': 4000.0, 'Condominio': 1933.0, 'IPTU': 388.0}\n{'_id': ObjectId('5e2a07212bb8be5841a120e8'), 'Tipo': 'Apartamento', 'Bairro': 'Leblon', 'Quartos': 4, 'Vagas': 2, 'Suites': 1, 'Area': 178, 'Valor': 15000.0, 'Condominio': 2541.0, 'IPTU': 696.0}\n{'_id': ObjectId('5e2a07212bb8be5841a120e9'), 'Tipo': 'Casa de Vila', 'Bairro': 'Pavuna', 'Quartos': 2, 'Vagas': 0, 'Suites': 0, 'Area': 55, 'Valor': 600.0, 'Condominio': nan, 'IPTU': nan}\n{'_id': ObjectId('5e2a07212bb8be5841a120ea'), 'Tipo': 'Conjunto Comercial/Sala', 'Bairro': 'Del Castilho', 'Quartos': 0, 'Vagas': 1, 'Suites': 0, 'Area': 175, 'Valor': 3000.0, 'Condominio': nan, 'IPTU': 199.0}\n{'_id': ObjectId('5e2a07212bb8be5841a120eb'), 'Tipo': 'Casa de Condomínio', 'Bairro': 'Barra da Tijuca', 'Quartos': 4, 'Vagas': 3, 'Suites': 2, 'Area': 250, 'Valor': 7500.0, 'Condominio': 1300.0, 'IPTU': 680.0}\n{'_id': ObjectId('5e2a07212bb8be5841a120ec'), 'Tipo': 'Conjunto Comercial/Sala', 'Bairro': 'Jardim Botânico', 'Quartos': 1, 'Vagas': 3, 'Suites': 0, 'Area': 500, 'Valor': 17000.0, 'Condominio': nan, 'IPTU': 1000.0}\n{'_id': ObjectId('5e2a07212bb8be5841a120ed'), 'Tipo': 'Casa de Condomínio', 'Bairro': 'Barra da Tijuca', 'Quartos': 4, 'Vagas': 3, 'Suites': 4, 'Area': 460, 'Valor': 12000.0, 'Condominio': 1000.0, 'IPTU': 1200.0}\n{'_id': ObjectId('5e2a07212bb8be5841a120ee'), 'Tipo': 'Apartamento', 'Bairro': 'Campo Grande', 'Quartos': 2, 'Vagas': 1, 'Suites': 0, 'Area': 45, 'Valor': 770.0, 'Condominio': 230.0, 'IPTU': nan}\n{'_id': ObjectId('5e2a07212bb8be5841a120ef'), 'Tipo': 'Apartamento', 'Bairro': 'Laranjeiras', 'Quartos': 1, 'Vagas': 1, 'Suites': 0, 'Area': 50, 'Valor': 2500.0, 'Condominio': 800.0, 'IPTU': 600.0}\n{'_id': ObjectId('5e2a07212bb8be5841a120f0'), 'Tipo': 'Apartamento', 'Bairro': 'Lagoa', 'Quartos': 3, 'Vagas': 2, 'Suites': 1, 'Area': 200, 'Valor': 10000.0, 'Condominio': 1479.0, 'IPTU': 800.0}\n{'_id': ObjectId('5e2a07212bb8be5841a120f1'), 'Tipo': 'Apartamento', 'Bairro': 'Lagoa', 'Quartos': 2, 'Vagas': 1, 'Suites': 1, 'Area': 139, 'Valor': 7000.0, 'Condominio': 720.0, 'IPTU': 463.0}\n{'_id': ObjectId('5e2a07212bb8be5841a120f2'), 'Tipo': 'Apartamento', 'Bairro': 'Barra da Tijuca', 'Quartos': 4, 'Vagas': 3, 'Suites': 4, 'Area': 366, 'Valor': 12800.0, 'Condominio': 3157.0, 'IPTU': nan}\n{'_id': ObjectId('5e2a07212bb8be5841a120f3'), 'Tipo': 'Apartamento', 'Bairro': 'Leblon', 'Quartos': 2, 'Vagas': 0, 'Suites': 0, 'Area': 73, 'Valor': 3000.0, 'Condominio': 500.0, 'IPTU': 284.0}\n{'_id': ObjectId('5e2a07212bb8be5841a120f4'), 'Tipo': 'Apartamento', 'Bairro': 'Barra da Tijuca', 'Quartos': 2, 'Vagas': 1, 'Suites': 1, 'Area': 72, 'Valor': 1700.0, 'Condominio': 870.0, 'IPTU': 160.0}\n{'_id': ObjectId('5e2a07212bb8be5841a120f5'), 'Tipo': 'Apartamento', 'Bairro': 'Recreio dos Bandeirantes', 'Quartos': 4, 'Vagas': 2, 'Suites': 2, 'Area': 230, 'Valor': 7000.0, 'Condominio': 1490.0, 'IPTU': nan}\n{'_id': ObjectId('5e2a07212bb8be5841a120f6'), 'Tipo': 'Apartamento', 'Bairro': 'Tijuca', 'Quartos': 3, 'Vagas': 1, 'Suites': 0, 'Area': 75, 'Valor': 1900.0, 'Condominio': 860.0, 'IPTU': 141.0}\n{'_id': ObjectId('5e2a07212bb8be5841a120f7'), 'Tipo': 'Conjunto Comercial/Sala', 'Bairro': 'Recreio dos Bandeirantes', 'Quartos': 0, 'Vagas': 1, 'Suites': 0, 'Area': 32, 'Valor': 1500.0, 'Condominio': 360.0, 'IPTU': 130.0}\n{'_id': ObjectId('5e2a07212bb8be5841a120f8'), 'Tipo': 'Apartamento', 'Bairro': 'Barra da Tijuca', 'Quartos': 3, 'Vagas': 2, 'Suites': 1, 'Area': 105, 'Valor': 3500.0, 'Condominio': 1400.0, 'IPTU': 271.0}\n{'_id': ObjectId('5e2a07212bb8be5841a120f9'), 'Tipo': 'Apartamento', 'Bairro': 'Taquara', 'Quartos': 2, 'Vagas': 1, 'Suites': 1, 'Area': 71, 'Valor': 1300.0, 'Condominio': 470.0, 'IPTU': nan}\n{'_id': ObjectId('5e2a07212bb8be5841a120fa'), 'Tipo': 'Apartamento', 'Bairro': 'Irajá', 'Quartos': 2, 'Vagas': 1, 'Suites': 0, 'Area': 50, 'Valor': 900.0, 'Condominio': 300.0, 'IPTU': nan}\n{'_id': ObjectId('5e2a07212bb8be5841a120fb'), 'Tipo': 'Conjunto Comercial/Sala', 'Bairro': 'Jacarepaguá', 'Quartos': 0, 'Vagas': 1, 'Suites': 0, 'Area': 28, 'Valor': 650.0, 'Condominio': 787.0, 'IPTU': 104.0}\n{'_id': ObjectId('5e2a07212bb8be5841a120fc'), 'Tipo': 'Conjunto Comercial/Sala', 'Bairro': 'Botafogo', 'Quartos': 0, 'Vagas': 18, 'Suites': 0, 'Area': 958, 'Valor': 95784.0, 'Condominio': 29698.0, 'IPTU': 5509.0}\n{'_id': ObjectId('5e2a07212bb8be5841a120fd'), 'Tipo': 'Conjunto Comercial/Sala', 'Bairro': 'Centro', 'Quartos': 0, 'Vagas': 0, 'Suites': 0, 'Area': 27, 'Valor': 1000.0, 'Condominio': 432.0, 'IPTU': 84.0}\n{'_id': ObjectId('5e2a07212bb8be5841a120fe'), 'Tipo': 'Conjunto Comercial/Sala', 'Bairro': 'Centro', 'Quartos': 0, 'Vagas': 0, 'Suites': 0, 'Area': 400, 'Valor': 9900.0, 'Condominio': 3650.0, 'IPTU': 1250.0}\n{'_id': ObjectId('5e2a07212bb8be5841a120ff'), 'Tipo': 'Apartamento', 'Bairro': 'Leblon', 'Quartos': 3, 'Vagas': 4, 'Suites': 3, 'Area': 451, 'Valor': 17000.0, 'Condominio': 4200.0, 'IPTU': 1717.0}\n{'_id': ObjectId('5e2a07212bb8be5841a12100'), 'Tipo': 'Conjunto Comercial/Sala', 'Bairro': 'Barra da Tijuca', 'Quartos': 0, 'Vagas': 1, 'Suites': 0, 'Area': 34, 'Valor': 1250.0, 'Condominio': 1300.0, 'IPTU': nan}\n{'_id': ObjectId('5e2a07212bb8be5841a12101'), 'Tipo': 'Conjunto Comercial/Sala', 'Bairro': 'Botafogo', 'Quartos': 0, 'Vagas': 8, 'Suites': 0, 'Area': 467, 'Valor': 53730.0, 'Condominio': 14796.0, 'IPTU': 2728.0}\n{'_id': ObjectId('5e2a07212bb8be5841a12102'), 'Tipo': 'Apartamento', 'Bairro': 'Freguesia (Jacarepaguá)', 'Quartos': 2, 'Vagas': 1, 'Suites': 1, 'Area': 87, 'Valor': 1300.0, 'Condominio': 869.0, 'IPTU': 77.0}\n{'_id': ObjectId('5e2a07212bb8be5841a12103'), 'Tipo': 'Apartamento', 'Bairro': 'Lagoa', 'Quartos': 3, 'Vagas': 2, 'Suites': 3, 'Area': 125, 'Valor': 4800.0, 'Condominio': 1600.0, 'IPTU': 48.0}\n{'_id': ObjectId('5e2a07212bb8be5841a12104'), 'Tipo': 'Apartamento', 'Bairro': 'Copacabana', 'Quartos': 4, 'Vagas': 2, 'Suites': 2, 'Area': 389, 'Valor': 13640.0, 'Condominio': 4829.0, 'IPTU': 1154.0}\n{'_id': ObjectId('5e2a07212bb8be5841a12105'), 'Tipo': 'Casa', 'Bairro': 'Recreio dos Bandeirantes', 'Quartos': 4, 'Vagas': 2, 'Suites': 2, 'Area': 352, 'Valor': 6500.0, 'Condominio': nan, 'IPTU': nan}\n{'_id': ObjectId('5e2a07212bb8be5841a12106'), 'Tipo': 'Conjunto Comercial/Sala', 'Bairro': 'Glória', 'Quartos': 0, 'Vagas': 0, 'Suites': 0, 'Area': 95, 'Valor': 2400.0, 'Condominio': 840.0, 'IPTU': 325.0}\n{'_id': ObjectId('5e2a07212bb8be5841a12107'), 'Tipo': 'Conjunto Comercial/Sala', 'Bairro': 'Ipanema', 'Quartos': 0, 'Vagas': 0, 'Suites': 0, 'Area': 26, 'Valor': 1300.0, 'Condominio': 740.0, 'IPTU': 200.0}\n{'_id': ObjectId('5e2a07212bb8be5841a12108'), 'Tipo': 'Conjunto Comercial/Sala', 'Bairro': 'Centro', 'Quartos': 0, 'Vagas': 0, 'Suites': 0, 'Area': 210, 'Valor': 8000.0, 'Condominio': 1900.0, 'IPTU': 590.0}\n{'_id': ObjectId('5e2a07212bb8be5841a12109'), 'Tipo': 'Galpão/Depósito/Armazém', 'Bairro': 'Anil', 'Quartos': 0, 'Vagas': 0, 'Suites': 0, 'Area': 5500, 'Valor': 70000.0, 'Condominio': nan, 'IPTU': nan}\n{'_id': ObjectId('5e2a07212bb8be5841a1210a'), 'Tipo': 'Casa de Condomínio', 'Bairro': 'Barra da Tijuca', 'Quartos': 5, 'Vagas': 2, 'Suites': 5, 'Area': 554, 'Valor': 20000.0, 'Condominio': 1892.0, 'IPTU': 1743.0}\n{'_id': ObjectId('5e2a07212bb8be5841a1210b'), 'Tipo': 'Galpão/Depósito/Armazém', 'Bairro': 'Bonsucesso', 'Quartos': 0, 'Vagas': 0, 'Suites': 0, 'Area': 3200, 'Valor': 18000.0, 'Condominio': nan, 'IPTU': nan}\n{'_id': ObjectId('5e2a07212bb8be5841a1210c'), 'Tipo': 'Apartamento', 'Bairro': 'Copacabana', 'Quartos': 1, 'Vagas': 0, 'Suites': 0, 'Area': 60, 'Valor': 2400.0, 'Condominio': 530.0, 'IPTU': 78.0}\n{'_id': ObjectId('5e2a07212bb8be5841a1210d'), 'Tipo': 'Apartamento', 'Bairro': 'Recreio dos Bandeirantes', 'Quartos': 3, 'Vagas': 2, 'Suites': 1, 'Area': 113, 'Valor': 2100.0, 'Condominio': 611.0, 'IPTU': nan}\n{'_id': ObjectId('5e2a07212bb8be5841a1210e'), 'Tipo': 'Apartamento', 'Bairro': 'Leblon', 'Quartos': 2, 'Vagas': 1, 'Suites': 1, 'Area': 90, 'Valor': 10500.0, 'Condominio': 23511.0, 'IPTU': 352.0}\n{'_id': ObjectId('5e2a07212bb8be5841a1210f'), 'Tipo': 'Apartamento', 'Bairro': 'Leblon', 'Quartos': 3, 'Vagas': 2, 'Suites': 1, 'Area': 200, 'Valor': 16000.0, 'Condominio': 4200.0, 'IPTU': 850.0}\n{'_id': ObjectId('5e2a07212bb8be5841a12110'), 'Tipo': 'Apartamento', 'Bairro': 'Leblon', 'Quartos': 4, 'Vagas': 3, 'Suites': 2, 'Area': 280, 'Valor': 10000.0, 'Condominio': 3315.0, 'IPTU': 770.0}\n{'_id': ObjectId('5e2a07212bb8be5841a12111'), 'Tipo': 'Apartamento', 'Bairro': 'Ipanema', 'Quartos': 3, 'Vagas': 1, 'Suites': 1, 'Area': 118, 'Valor': 6000.0, 'Condominio': 980.0, 'IPTU': 250.0}\n{'_id': ObjectId('5e2a07212bb8be5841a12112'), 'Tipo': 'Apartamento', 'Bairro': 'Olaria', 'Quartos': 2, 'Vagas': 0, 'Suites': 0, 'Area': 67, 'Valor': 1250.0, 'Condominio': 150.0, 'IPTU': nan}\n{'_id': ObjectId('5e2a07212bb8be5841a12113'), 'Tipo': 'Apartamento', 'Bairro': 'Botafogo', 'Quartos': 3, 'Vagas': 2, 'Suites': 1, 'Area': 100, 'Valor': 4500.0, 'Condominio': 1600.0, 'IPTU': 205.0}\n{'_id': ObjectId('5e2a07212bb8be5841a12114'), 'Tipo': 'Casa de Condomínio', 'Bairro': 'Freguesia (Jacarepaguá)', 'Quartos': 3, 'Vagas': 3, 'Suites': 1, 'Area': 155, 'Valor': 2000.0, 'Condominio': 530.0, 'IPTU': 1250.0}\n{'_id': ObjectId('5e2a07212bb8be5841a12115'), 'Tipo': 'Apartamento', 'Bairro': 'Lagoa', 'Quartos': 3, 'Vagas': 3, 'Suites': 1, 'Area': 225, 'Valor': 12000.0, 'Condominio': 3756.0, 'IPTU': 977.0}\n{'_id': ObjectId('5e2a07212bb8be5841a12116'), 'Tipo': 'Conjunto Comercial/Sala', 'Bairro': 'Barra da Tijuca', 'Quartos': 0, 'Vagas': 2, 'Suites': 0, 'Area': 72, 'Valor': 2800.0, 'Condominio': 2550.0, 'IPTU': nan}\n{'_id': ObjectId('5e2a07212bb8be5841a12117'), 'Tipo': 'Casa', 'Bairro': 'Bento Ribeiro', 'Quartos': 2, 'Vagas': 1, 'Suites': 0, 'Area': 60, 'Valor': 1400.0, 'Condominio': nan, 'IPTU': nan}\n{'_id': ObjectId('5e2a07212bb8be5841a12118'), 'Tipo': 'Conjunto Comercial/Sala', 'Bairro': 'Taquara', 'Quartos': 0, 'Vagas': 1, 'Suites': 0, 'Area': 36, 'Valor': 1500.0, 'Condominio': nan, 'IPTU': nan}\n{'_id': ObjectId('5e2a07212bb8be5841a12119'), 'Tipo': 'Conjunto Comercial/Sala', 'Bairro': 'Centro', 'Quartos': 0, 'Vagas': 0, 'Suites': 0, 'Area': 423, 'Valor': 11000.0, 'Condominio': 8082.0, 'IPTU': 1977.0}\n{'_id': ObjectId('5e2a07212bb8be5841a1211a'), 'Tipo': 'Loja/Salão', 'Bairro': 'Campo Grande', 'Quartos': 0, 'Vagas': 0, 'Suites': 0, 'Area': 160, 'Valor': 2650.0, 'Condominio': nan, 'IPTU': nan}\n{'_id': ObjectId('5e2a07212bb8be5841a1211b'), 'Tipo': 'Apartamento', 'Bairro': 'Flamengo', 'Quartos': 1, 'Vagas': 0, 'Suites': 0, 'Area': 48, 'Valor': 2200.0, 'Condominio': 478.0, 'IPTU': nan}\n{'_id': ObjectId('5e2a07212bb8be5841a1211c'), 'Tipo': 'Apartamento', 'Bairro': 'Copacabana', 'Quartos': 2, 'Vagas': 0, 'Suites': 0, 'Area': 67, 'Valor': 2450.0, 'Condominio': 679.0, 'IPTU': 80.0}\n{'_id': ObjectId('5e2a07212bb8be5841a1211d'), 'Tipo': 'Conjunto Comercial/Sala', 'Bairro': 'Centro', 'Quartos': 0, 'Vagas': 0, 'Suites': 0, 'Area': 30, 'Valor': 500.0, 'Condominio': 500.0, 'IPTU': 95.0}\n{'_id': ObjectId('5e2a07212bb8be5841a1211e'), 'Tipo': 'Apartamento', 'Bairro': 'Ipanema', 'Quartos': 1, 'Vagas': 0, 'Suites': 0, 'Area': 55, 'Valor': 2000.0, 'Condominio': 630.0, 'IPTU': 19.0}\n{'_id': ObjectId('5e2a07212bb8be5841a1211f'), 'Tipo': 'Apartamento', 'Bairro': 'Recreio dos Bandeirantes', 'Quartos': 3, 'Vagas': 2, 'Suites': 1, 'Area': 100, 'Valor': 2500.0, 'Condominio': 650.0, 'IPTU': 1864.0}\n{'_id': ObjectId('5e2a07212bb8be5841a12120'), 'Tipo': 'Apartamento', 'Bairro': 'Jardim Botânico', 'Quartos': 3, 'Vagas': 1, 'Suites': 2, 'Area': 145, 'Valor': 5000.0, 'Condominio': 1296.0, 'IPTU': 317.0}\n{'_id': ObjectId('5e2a07212bb8be5841a12121'), 'Tipo': 'Apartamento', 'Bairro': 'Recreio dos Bandeirantes', 'Quartos': 3, 'Vagas': 2, 'Suites': 1, 'Area': 115, 'Valor': 2000.0, 'Condominio': 482.0, 'IPTU': 166.0}\n{'_id': ObjectId('5e2a07212bb8be5841a12122'), 'Tipo': 'Apartamento', 'Bairro': 'Barra da Tijuca', 'Quartos': 1, 'Vagas': 1, 'Suites': 0, 'Area': 62, 'Valor': 1700.0, 'Condominio': 945.0, 'IPTU': 180.0}\n{'_id': ObjectId('5e2a07212bb8be5841a12123'), 'Tipo': 'Conjunto Comercial/Sala', 'Bairro': 'Barra da Tijuca', 'Quartos': 0, 'Vagas': 16, 'Suites': 0, 'Area': 430, 'Valor': 31000.0, 'Condominio': 117471.0, 'IPTU': 22873.0}\n{'_id': ObjectId('5e2a07212bb8be5841a12124'), 'Tipo': 'Casa de Condomínio', 'Bairro': 'Barra da Tijuca', 'Quartos': 3, 'Vagas': 5, 'Suites': 3, 'Area': 1000, 'Valor': 20000.0, 'Condominio': 3000.0, 'IPTU': nan}\n{'_id': ObjectId('5e2a07212bb8be5841a12125'), 'Tipo': 'Apartamento', 'Bairro': 'Campinho', 'Quartos': 2, 'Vagas': 0, 'Suites': 0, 'Area': 63, 'Valor': 800.0, 'Condominio': 392.0, 'IPTU': nan}\n{'_id': ObjectId('5e2a07212bb8be5841a12126'), 'Tipo': 'Conjunto Comercial/Sala', 'Bairro': 'Bangu', 'Quartos': 0, 'Vagas': 0, 'Suites': 0, 'Area': 24, 'Valor': 800.0, 'Condominio': 500.0, 'IPTU': nan}\n{'_id': ObjectId('5e2a07212bb8be5841a12127'), 'Tipo': 'Loja Shopping/ Ct Comercial', 'Bairro': 'Barra da Tijuca', 'Quartos': 0, 'Vagas': 1, 'Suites': 0, 'Area': 42, 'Valor': 1950.0, 'Condominio': 500.0, 'IPTU': 1550.0}\n{'_id': ObjectId('5e2a07212bb8be5841a12128'), 'Tipo': 'Loja/Salão', 'Bairro': 'Leblon', 'Quartos': 0, 'Vagas': 0, 'Suites': 0, 'Area': 68, 'Valor': 25000.0, 'Condominio': nan, 'IPTU': 1113.0}\n{'_id': ObjectId('5e2a07212bb8be5841a12129'), 'Tipo': 'Loja/Salão', 'Bairro': 'Freguesia (Jacarepaguá)', 'Quartos': 0, 'Vagas': 0, 'Suites': 0, 'Area': 80, 'Valor': 5800.0, 'Condominio': nan, 'IPTU': 215.0}\n{'_id': ObjectId('5e2a07212bb8be5841a1212a'), 'Tipo': 'Apartamento', 'Bairro': 'Freguesia (Jacarepaguá)', 'Quartos': 2, 'Vagas': 1, 'Suites': 0, 'Area': 60, 'Valor': 500.0, 'Condominio': 900.0, 'IPTU': 148.0}\n{'_id': ObjectId('5e2a07212bb8be5841a1212b'), 'Tipo': 'Casa', 'Bairro': 'Centro', 'Quartos': 5, 'Vagas': 0, 'Suites': 1, 'Area': 160, 'Valor': 5000.0, 'Condominio': nan, 'IPTU': 80.0}\n{'_id': ObjectId('5e2a07212bb8be5841a1212c'), 'Tipo': 'Apartamento', 'Bairro': 'Todos os Santos', 'Quartos': 3, 'Vagas': 0, 'Suites': 0, 'Area': 54, 'Valor': 1500.0, 'Condominio': 289.0, 'IPTU': 35.0}\n{'_id': ObjectId('5e2a07212bb8be5841a1212d'), 'Tipo': 'Apartamento', 'Bairro': 'Recreio dos Bandeirantes', 'Quartos': 2, 'Vagas': 1, 'Suites': 1, 'Area': 105, 'Valor': 2100.0, 'Condominio': 648.0, 'IPTU': 156.0}\n{'_id': ObjectId('5e2a07212bb8be5841a1212e'), 'Tipo': 'Apartamento', 'Bairro': 'Jacarepaguá', 'Quartos': 2, 'Vagas': 1, 'Suites': 1, 'Area': 78, 'Valor': 2200.0, 'Condominio': 790.0, 'IPTU': 180.0}\n{'_id': ObjectId('5e2a07212bb8be5841a1212f'), 'Tipo': 'Apartamento', 'Bairro': 'Leblon', 'Quartos': 1, 'Vagas': 1, 'Suites': 1, 'Area': 50, 'Valor': 4300.0, 'Condominio': 1730.0, 'IPTU': 259.0}\n{'_id': ObjectId('5e2a07212bb8be5841a12130'), 'Tipo': 'Apartamento', 'Bairro': 'Copacabana', 'Quartos': 2, 'Vagas': 0, 'Suites': 1, 'Area': 70, 'Valor': 4100.0, 'Condominio': 700.0, 'IPTU': 90.0}\n{'_id': ObjectId('5e2a07212bb8be5841a12131'), 'Tipo': 'Conjunto Comercial/Sala', 'Bairro': 'Centro', 'Quartos': 0, 'Vagas': 0, 'Suites': 0, 'Area': 150, 'Valor': 10000.0, 'Condominio': 2680.0, 'IPTU': 800.0}\n{'_id': ObjectId('5e2a07212bb8be5841a12132'), 'Tipo': 'Apartamento', 'Bairro': 'Copacabana', 'Quartos': 1, 'Vagas': 0, 'Suites': 0, 'Area': 50, 'Valor': 1950.0, 'Condominio': 450.0, 'IPTU': 70.0}\n{'_id': ObjectId('5e2a07212bb8be5841a12133'), 'Tipo': 'Conjunto Comercial/Sala', 'Bairro': 'Barra da Tijuca', 'Quartos': 0, 'Vagas': 1, 'Suites': 0, 'Area': 36, 'Valor': 1100.0, 'Condominio': 1200.0, 'IPTU': 270.0}\n{'_id': ObjectId('5e2a07212bb8be5841a12134'), 'Tipo': 'Apartamento', 'Bairro': 'Barra da Tijuca', 'Quartos': 2, 'Vagas': 1, 'Suites': 1, 'Area': 85, 'Valor': 2250.0, 'Condominio': 1561.0, 'IPTU': 197.0}\n{'_id': ObjectId('5e2a07212bb8be5841a12135'), 'Tipo': 'Apartamento', 'Bairro': 'Barra da Tijuca', 'Quartos': 3, 'Vagas': 2, 'Suites': 0, 'Area': 98, 'Valor': 2300.0, 'Condominio': 887.0, 'IPTU': 177.0}\n{'_id': ObjectId('5e2a07212bb8be5841a12136'), 'Tipo': 'Conjunto Comercial/Sala', 'Bairro': 'Barra da Tijuca', 'Quartos': 0, 'Vagas': 1, 'Suites': 0, 'Area': 55, 'Valor': 2000.0, 'Condominio': 1096.0, 'IPTU': nan}\n{'_id': ObjectId('5e2a07212bb8be5841a12137'), 'Tipo': 'Apartamento', 'Bairro': 'Barra da Tijuca', 'Quartos': 3, 'Vagas': 2, 'Suites': 2, 'Area': 140, 'Valor': 5500.0, 'Condominio': 1900.0, 'IPTU': 700.0}\n{'_id': ObjectId('5e2a07212bb8be5841a12138'), 'Tipo': 'Apartamento', 'Bairro': 'Recreio dos Bandeirantes', 'Quartos': 3, 'Vagas': 2, 'Suites': 1, 'Area': 88, 'Valor': 1550.0, 'Condominio': 790.0, 'IPTU': nan}\n{'_id': ObjectId('5e2a07212bb8be5841a12139'), 'Tipo': 'Quitinete', 'Bairro': 'Copacabana', 'Quartos': 1, 'Vagas': 0, 'Suites': 0, 'Area': 22, 'Valor': 1500.0, 'Condominio': 286.0, 'IPTU': 200.0}\n{'_id': ObjectId('5e2a07212bb8be5841a1213a'), 'Tipo': 'Conjunto Comercial/Sala', 'Bairro': 'Centro', 'Quartos': 0, 'Vagas': 0, 'Suites': 0, 'Area': 140, 'Valor': 4000.0, 'Condominio': 1412.0, 'IPTU': 496.0}\n{'_id': ObjectId('5e2a07212bb8be5841a1213b'), 'Tipo': 'Apartamento', 'Bairro': 'Leblon', 'Quartos': 3, 'Vagas': 0, 'Suites': 1, 'Area': 80, 'Valor': 3000.0, 'Condominio': 1010.0, 'IPTU': 249.0}\n{'_id': ObjectId('5e2a07212bb8be5841a1213c'), 'Tipo': 'Conjunto Comercial/Sala', 'Bairro': 'Centro', 'Quartos': 0, 'Vagas': 0, 'Suites': 0, 'Area': 32, 'Valor': 600.0, 'Condominio': 1035.0, 'IPTU': 83.0}\n{'_id': ObjectId('5e2a07212bb8be5841a1213d'), 'Tipo': 'Apartamento', 'Bairro': 'Ipanema', 'Quartos': 3, 'Vagas': 1, 'Suites': 2, 'Area': 150, 'Valor': 15000.0, 'Condominio': 1400.0, 'IPTU': 600.0}\n{'_id': ObjectId('5e2a07212bb8be5841a1213e'), 'Tipo': 'Apartamento', 'Bairro': 'Tijuca', 'Quartos': 1, 'Vagas': 0, 'Suites': 0, 'Area': 28, 'Valor': 1000.0, 'Condominio': 360.0, 'IPTU': 25.0}\n{'_id': ObjectId('5e2a07212bb8be5841a1213f'), 'Tipo': 'Apartamento', 'Bairro': 'Vila Valqueire', 'Quartos': 2, 'Vagas': 0, 'Suites': 0, 'Area': 52, 'Valor': 1000.0, 'Condominio': 550.0, 'IPTU': nan}\n{'_id': ObjectId('5e2a07212bb8be5841a12140'), 'Tipo': 'Casa de Condomínio', 'Bairro': 'Barra da Tijuca', 'Quartos': 5, 'Vagas': 3, 'Suites': 4, 'Area': 450, 'Valor': 15000.0, 'Condominio': 1711.0, 'IPTU': 2332.0}\n{'_id': ObjectId('5e2a07212bb8be5841a12141'), 'Tipo': 'Apartamento', 'Bairro': 'Méier', 'Quartos': 2, 'Vagas': 0, 'Suites': 0, 'Area': 70, 'Valor': 900.0, 'Condominio': 490.0, 'IPTU': 48.0}\n{'_id': ObjectId('5e2a07212bb8be5841a12142'), 'Tipo': 'Box/Garagem', 'Bairro': 'Centro', 'Quartos': 0, 'Vagas': 0, 'Suites': 0, 'Area': 755, 'Valor': 14000.0, 'Condominio': nan, 'IPTU': nan}\n{'_id': ObjectId('5e2a07212bb8be5841a12143'), 'Tipo': 'Quitinete', 'Bairro': 'Centro', 'Quartos': 0, 'Vagas': 0, 'Suites': 0, 'Area': 27, 'Valor': 800.0, 'Condominio': 350.0, 'IPTU': 25.0}\n{'_id': ObjectId('5e2a07212bb8be5841a12144'), 'Tipo': 'Apartamento', 'Bairro': 'Jacarepaguá', 'Quartos': 3, 'Vagas': 1, 'Suites': 2, 'Area': 78, 'Valor': 1800.0, 'Condominio': 800.0, 'IPTU': 40.0}\n{'_id': ObjectId('5e2a07212bb8be5841a12145'), 'Tipo': 'Apartamento', 'Bairro': 'São Francisco Xavier', 'Quartos': 2, 'Vagas': 1, 'Suites': 0, 'Area': 48, 'Valor': 1400.0, 'Condominio': 509.0, 'IPTU': 37.0}\n{'_id': ObjectId('5e2a07212bb8be5841a12146'), 'Tipo': 'Apartamento', 'Bairro': 'Leblon', 'Quartos': 2, 'Vagas': 0, 'Suites': 0, 'Area': 70, 'Valor': 3000.0, 'Condominio': 760.0, 'IPTU': nan}\n{'_id': ObjectId('5e2a07212bb8be5841a12147'), 'Tipo': 'Conjunto Comercial/Sala', 'Bairro': 'Centro', 'Quartos': 0, 'Vagas': 0, 'Suites': 0, 'Area': 250, 'Valor': 6500.0, 'Condominio': 4206.0, 'IPTU': 1109.0}\n"
    }
   ],
   "source": [
    "\n",
    "\n",
    "for item in databaseImobiliaria.Alugueis.find():\n",
    "    print(item)\n"
   ]
  },
  {
   "cell_type": "markdown",
   "metadata": {},
   "source": [
    "## criar um dataset em pandas  recuperando os dados do Mongo\n"
   ]
  },
  {
   "cell_type": "code",
   "execution_count": 24,
   "metadata": {},
   "outputs": [],
   "source": [
    "dados_database = [{\"Tipo\": item[\"Tipo\"], \"Bairro\" : item[\"Bairro\"] ,\"Quartos\" : item[\"Quartos\"] ,\"Suites\" : item[\"Suites\"], \"Valor\" : item[\"Valor\"],} for item in databaseImobiliaria.Alugueis.find()]"
   ]
  },
  {
   "cell_type": "code",
   "execution_count": 26,
   "metadata": {},
   "outputs": [
    {
     "data": {
      "text/html": "<div>\n<style scoped>\n    .dataframe tbody tr th:only-of-type {\n        vertical-align: middle;\n    }\n\n    .dataframe tbody tr th {\n        vertical-align: top;\n    }\n\n    .dataframe thead th {\n        text-align: right;\n    }\n</style>\n<table border=\"1\" class=\"dataframe\">\n  <thead>\n    <tr style=\"text-align: right;\">\n      <th></th>\n      <th>Tipo</th>\n      <th>Bairro</th>\n      <th>Quartos</th>\n      <th>Suites</th>\n      <th>Valor</th>\n    </tr>\n  </thead>\n  <tbody>\n    <tr>\n      <td>0</td>\n      <td>Quitinete</td>\n      <td>Copacabana</td>\n      <td>1</td>\n      <td>0</td>\n      <td>1700.0</td>\n    </tr>\n    <tr>\n      <td>1</td>\n      <td>Casa</td>\n      <td>Jardim Botânico</td>\n      <td>2</td>\n      <td>1</td>\n      <td>7000.0</td>\n    </tr>\n    <tr>\n      <td>2</td>\n      <td>Conjunto Comercial/Sala</td>\n      <td>Barra da Tijuca</td>\n      <td>0</td>\n      <td>0</td>\n      <td>5200.0</td>\n    </tr>\n    <tr>\n      <td>3</td>\n      <td>Apartamento</td>\n      <td>Centro</td>\n      <td>1</td>\n      <td>0</td>\n      <td>800.0</td>\n    </tr>\n    <tr>\n      <td>4</td>\n      <td>Apartamento</td>\n      <td>Higienópolis</td>\n      <td>1</td>\n      <td>0</td>\n      <td>800.0</td>\n    </tr>\n  </tbody>\n</table>\n</div>",
      "text/plain": "                      Tipo           Bairro  Quartos  Suites   Valor\n0                Quitinete       Copacabana        1       0  1700.0\n1                     Casa  Jardim Botânico        2       1  7000.0\n2  Conjunto Comercial/Sala  Barra da Tijuca        0       0  5200.0\n3              Apartamento           Centro        1       0   800.0\n4              Apartamento     Higienópolis        1       0   800.0"
     },
     "execution_count": 26,
     "metadata": {},
     "output_type": "execute_result"
    }
   ],
   "source": [
    "dataset_pandas  = pd.DataFrame(dados_database)\n",
    "dataset_pandas.head()"
   ]
  },
  {
   "cell_type": "markdown",
   "metadata": {},
   "source": [
    "## Importar a biblioteca a gerar um grafico\n",
    "\n"
   ]
  },
  {
   "cell_type": "code",
   "execution_count": 30,
   "metadata": {},
   "outputs": [
    {
     "data": {
      "text/plain": "0                      Quitinete\n1                           Casa\n2        Conjunto Comercial/Sala\n3                    Apartamento\n4                    Apartamento\n                  ...           \n32955                  Quitinete\n32956                Apartamento\n32957                Apartamento\n32958                Apartamento\n32959    Conjunto Comercial/Sala\nName: Tipo, Length: 32960, dtype: object"
     },
     "execution_count": 30,
     "metadata": {},
     "output_type": "execute_result"
    }
   ],
   "source": [
    "dataset_pandas.Tipo"
   ]
  },
  {
   "cell_type": "code",
   "execution_count": 40,
   "metadata": {},
   "outputs": [
    {
     "data": {
      "text/html": "<div>\n<style scoped>\n    .dataframe tbody tr th:only-of-type {\n        vertical-align: middle;\n    }\n\n    .dataframe tbody tr th {\n        vertical-align: top;\n    }\n\n    .dataframe thead th {\n        text-align: right;\n    }\n</style>\n<table border=\"1\" class=\"dataframe\">\n  <thead>\n    <tr style=\"text-align: right;\">\n      <th></th>\n      <th>Tipo</th>\n      <th>count</th>\n    </tr>\n  </thead>\n  <tbody>\n    <tr>\n      <td>0</td>\n      <td>apartamento</td>\n      <td>19532</td>\n    </tr>\n    <tr>\n      <td>1</td>\n      <td>armazém</td>\n      <td>623</td>\n    </tr>\n    <tr>\n      <td>2</td>\n      <td>box</td>\n      <td>82</td>\n    </tr>\n    <tr>\n      <td>3</td>\n      <td>casa</td>\n      <td>2477</td>\n    </tr>\n    <tr>\n      <td>4</td>\n      <td>chalé</td>\n      <td>1</td>\n    </tr>\n    <tr>\n      <td>5</td>\n      <td>chácara</td>\n      <td>1</td>\n    </tr>\n    <tr>\n      <td>6</td>\n      <td>comercial</td>\n      <td>7327</td>\n    </tr>\n    <tr>\n      <td>7</td>\n      <td>condomínio</td>\n      <td>1001</td>\n    </tr>\n    <tr>\n      <td>8</td>\n      <td>conjunto</td>\n      <td>6815</td>\n    </tr>\n    <tr>\n      <td>9</td>\n      <td>ct</td>\n      <td>247</td>\n    </tr>\n    <tr>\n      <td>10</td>\n      <td>de</td>\n      <td>1245</td>\n    </tr>\n    <tr>\n      <td>11</td>\n      <td>depósito</td>\n      <td>623</td>\n    </tr>\n    <tr>\n      <td>12</td>\n      <td>flat</td>\n      <td>476</td>\n    </tr>\n    <tr>\n      <td>13</td>\n      <td>galpão</td>\n      <td>623</td>\n    </tr>\n    <tr>\n      <td>14</td>\n      <td>garagem</td>\n      <td>82</td>\n    </tr>\n    <tr>\n      <td>15</td>\n      <td>hotel</td>\n      <td>2</td>\n    </tr>\n    <tr>\n      <td>16</td>\n      <td>indústria</td>\n      <td>1</td>\n    </tr>\n    <tr>\n      <td>17</td>\n      <td>inteiro</td>\n      <td>301</td>\n    </tr>\n    <tr>\n      <td>18</td>\n      <td>loft</td>\n      <td>51</td>\n    </tr>\n    <tr>\n      <td>19</td>\n      <td>loja</td>\n      <td>1673</td>\n    </tr>\n    <tr>\n      <td>20</td>\n      <td>loteamento</td>\n      <td>5</td>\n    </tr>\n    <tr>\n      <td>21</td>\n      <td>padrão</td>\n      <td>70</td>\n    </tr>\n    <tr>\n      <td>22</td>\n      <td>pousada</td>\n      <td>1</td>\n    </tr>\n    <tr>\n      <td>23</td>\n      <td>prédio</td>\n      <td>301</td>\n    </tr>\n    <tr>\n      <td>24</td>\n      <td>quitinete</td>\n      <td>836</td>\n    </tr>\n    <tr>\n      <td>25</td>\n      <td>sala</td>\n      <td>6815</td>\n    </tr>\n    <tr>\n      <td>26</td>\n      <td>salão</td>\n      <td>1426</td>\n    </tr>\n    <tr>\n      <td>27</td>\n      <td>shopping</td>\n      <td>247</td>\n    </tr>\n    <tr>\n      <td>28</td>\n      <td>studio</td>\n      <td>4</td>\n    </tr>\n    <tr>\n      <td>29</td>\n      <td>sítio</td>\n      <td>10</td>\n    </tr>\n    <tr>\n      <td>30</td>\n      <td>terreno</td>\n      <td>70</td>\n    </tr>\n    <tr>\n      <td>31</td>\n      <td>vila</td>\n      <td>249</td>\n    </tr>\n  </tbody>\n</table>\n</div>",
      "text/plain": "           Tipo  count\n0   apartamento  19532\n1       armazém    623\n2           box     82\n3          casa   2477\n4         chalé      1\n5       chácara      1\n6     comercial   7327\n7    condomínio   1001\n8      conjunto   6815\n9            ct    247\n10           de   1245\n11     depósito    623\n12         flat    476\n13       galpão    623\n14      garagem     82\n15        hotel      2\n16    indústria      1\n17      inteiro    301\n18         loft     51\n19         loja   1673\n20   loteamento      5\n21       padrão     70\n22      pousada      1\n23       prédio    301\n24    quitinete    836\n25         sala   6815\n26        salão   1426\n27     shopping    247\n28       studio      4\n29        sítio     10\n30      terreno     70\n31         vila    249"
     },
     "execution_count": 40,
     "metadata": {},
     "output_type": "execute_result"
    }
   ],
   "source": [
    "from sklearn.feature_extraction.text  import CountVectorizer\n",
    "\n",
    "cv = CountVectorizer()\n",
    "count_matrix = cv.fit_transform( dataset_pandas.Tipo)\n",
    "\n",
    "\n",
    "word_count = pd.DataFrame(cv.get_feature_names(), columns=[\"Tipo\"])\n",
    "word_count[\"count\"] = count_matrix.sum(axis=0).tolist()[0]\n",
    "\n",
    "word_count[:50]\n",
    "\n"
   ]
  }
 ]
}