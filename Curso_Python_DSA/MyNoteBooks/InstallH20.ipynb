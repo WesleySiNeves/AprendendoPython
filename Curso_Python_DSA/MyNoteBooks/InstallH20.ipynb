{
 "cells": [
  {
   "cell_type": "code",
   "execution_count": 2,
   "metadata": {},
   "outputs": [
    {
     "output_type": "stream",
     "name": "stdout",
     "text": "Requirement already satisfied: requests in c:\\users\\wesley.neves\\anaconda3\\envs\\deep learning\\lib\\site-packages (2.23.0)\nRequirement already satisfied: urllib3!=1.25.0,!=1.25.1,<1.26,>=1.21.1 in c:\\users\\wesley.neves\\anaconda3\\envs\\deep learning\\lib\\site-packages (from requests) (1.25.8)\nRequirement already satisfied: chardet<4,>=3.0.2 in c:\\users\\wesley.neves\\anaconda3\\envs\\deep learning\\lib\\site-packages (from requests) (3.0.4)\nRequirement already satisfied: idna<3,>=2.5 in c:\\users\\wesley.neves\\anaconda3\\envs\\deep learning\\lib\\site-packages (from requests) (2.9)\nRequirement already satisfied: certifi>=2017.4.17 in c:\\users\\wesley.neves\\anaconda3\\envs\\deep learning\\lib\\site-packages (from requests) (2020.4.5.1)\n"
    }
   ],
   "source": [
    "!pip install requests"
   ]
  },
  {
   "cell_type": "code",
   "execution_count": 3,
   "metadata": {},
   "outputs": [
    {
     "output_type": "stream",
     "name": "stdout",
     "text": "Collecting tabulate\n  Downloading tabulate-0.8.7-py3-none-any.whl (24 kB)\nInstalling collected packages: tabulate\nSuccessfully installed tabulate-0.8.7\n"
    }
   ],
   "source": [
    "!pip install tabulate"
   ]
  },
  {
   "cell_type": "code",
   "execution_count": 4,
   "metadata": {},
   "outputs": [
    {
     "output_type": "stream",
     "name": "stdout",
     "text": "Requirement already satisfied: colorama>=0.3.8 in c:\\users\\wesley.neves\\anaconda3\\envs\\deep learning\\lib\\site-packages (0.4.3)\nCollecting future\n  Downloading future-0.18.2.tar.gz (829 kB)\nBuilding wheels for collected packages: future\n  Building wheel for future (setup.py): started\n  Building wheel for future (setup.py): finished with status 'done'\n  Created wheel for future: filename=future-0.18.2-py3-none-any.whl size=491062 sha256=48304f1e369e3aeaf0cb9f1eb28191f49f6a862e1d59a981da53e5333aa77b74\n  Stored in directory: c:\\users\\wesley.neves\\appdata\\local\\pip\\cache\\wheels\\56\\b0\\fe\\4410d17b32f1f0c3cf54cdfb2bc04d7b4b8f4ae377e2229ba0\nSuccessfully built future\nInstalling collected packages: future\nSuccessfully installed future-0.18.2\n"
    }
   ],
   "source": [
    "!pip install \"colorama>=0.3.8\"\n",
    "!pip install future"
   ]
  },
  {
   "cell_type": "code",
   "execution_count": 5,
   "metadata": {},
   "outputs": [
    {
     "output_type": "stream",
     "name": "stderr",
     "text": "WARNING: Skipping h2o as it is not installed.\n"
    }
   ],
   "source": [
    "!pip uninstall h2o"
   ]
  },
  {
   "cell_type": "code",
   "execution_count": 6,
   "metadata": {},
   "outputs": [
    {
     "output_type": "stream",
     "name": "stdout",
     "text": "Collecting h2o==3.30.0.3\n  Downloading http://h2o-release.s3.amazonaws.com/h2o/rel-zahradnik/3/Python/h2o-3.30.0.3-py2.py3-none-any.whl (128.4 MB)\nRequirement already satisfied: requests in c:\\users\\wesley.neves\\anaconda3\\envs\\deep learning\\lib\\site-packages (from h2o==3.30.0.3) (2.23.0)\nRequirement already satisfied: tabulate in c:\\users\\wesley.neves\\anaconda3\\envs\\deep learning\\lib\\site-packages (from h2o==3.30.0.3) (0.8.7)\nRequirement already satisfied: future in c:\\users\\wesley.neves\\anaconda3\\envs\\deep learning\\lib\\site-packages (from h2o==3.30.0.3) (0.18.2)\nRequirement already satisfied: colorama>=0.3.8 in c:\\users\\wesley.neves\\anaconda3\\envs\\deep learning\\lib\\site-packages (from h2o==3.30.0.3) (0.4.3)\nRequirement already satisfied: urllib3!=1.25.0,!=1.25.1,<1.26,>=1.21.1 in c:\\users\\wesley.neves\\anaconda3\\envs\\deep learning\\lib\\site-packages (from requests->h2o==3.30.0.3) (1.25.8)\nRequirement already satisfied: idna<3,>=2.5 in c:\\users\\wesley.neves\\anaconda3\\envs\\deep learning\\lib\\site-packages (from requests->h2o==3.30.0.3) (2.9)\nRequirement already satisfied: certifi>=2017.4.17 in c:\\users\\wesley.neves\\anaconda3\\envs\\deep learning\\lib\\site-packages (from requests->h2o==3.30.0.3) (2020.4.5.1)\nRequirement already satisfied: chardet<4,>=3.0.2 in c:\\users\\wesley.neves\\anaconda3\\envs\\deep learning\\lib\\site-packages (from requests->h2o==3.30.0.3) (3.0.4)\nInstalling collected packages: h2o\nSuccessfully installed h2o-3.30.0.3\n"
    }
   ],
   "source": [
    "!pip install http://h2o-release.s3.amazonaws.com/h2o/rel-zahradnik/3/Python/h2o-3.30.0.3-py2.py3-none-any.whl"
   ]
  },
  {
   "cell_type": "code",
   "execution_count": 7,
   "metadata": {},
   "outputs": [],
   "source": [
    "import h2o"
   ]
  },
  {
   "cell_type": "code",
   "execution_count": 8,
   "metadata": {},
   "outputs": [
    {
     "output_type": "stream",
     "name": "stdout",
     "text": "Checking whether there is an H2O instance running at http://localhost:54321..... not found.\nAttempting to start a local H2O server...\n; Java HotSpot(TM) Client VM (build 25.221-b11, mixed mode, sharing)\n  Starting server from C:\\Users\\Wesley.Neves\\Anaconda3\\envs\\Deep Learning\\lib\\site-packages\\h2o\\backend\\bin\\h2o.jar\n  Ice root: C:\\Users\\WESLEY~1.NEV\\AppData\\Local\\Temp\\tmp8uudokir\n  JVM stdout: C:\\Users\\WESLEY~1.NEV\\AppData\\Local\\Temp\\tmp8uudokir\\h2o_Wesley_Neves_started_from_python.out\n  JVM stderr: C:\\Users\\WESLEY~1.NEV\\AppData\\Local\\Temp\\tmp8uudokir\\h2o_Wesley_Neves_started_from_python.err\n  Server is running at http://127.0.0.1:54321\nConnecting to H2O server at http://127.0.0.1:54321 ... successful.\n"
    },
    {
     "output_type": "display_data",
     "data": {
      "text/plain": "--------------------------  ---------------------------------------------------------\nH2O_cluster_uptime:         02 secs\nH2O_cluster_timezone:       America/Sao_Paulo\nH2O_data_parsing_timezone:  UTC\nH2O_cluster_version:        3.30.0.3\nH2O_cluster_version_age:    10 hours and 21 minutes\nH2O_cluster_name:           H2O_from_python_Wesley_Neves_bb3avf\nH2O_cluster_total_nodes:    1\nH2O_cluster_free_memory:    247.5 Mb\nH2O_cluster_total_cores:    0\nH2O_cluster_allowed_cores:  0\nH2O_cluster_status:         accepting new members, healthy\nH2O_connection_url:         http://127.0.0.1:54321\nH2O_connection_proxy:       {\"http\": null, \"https\": null}\nH2O_internal_security:      False\nH2O_API_Extensions:         Amazon S3, Algos, AutoML, Core V3, TargetEncoder, Core V4\nPython_version:             3.7.7 final\n--------------------------  ---------------------------------------------------------",
      "text/html": "<div style=\"overflow:auto\"><table style=\"width:50%\"><tr><td>H2O_cluster_uptime:</td>\n<td>02 secs</td></tr>\n<tr><td>H2O_cluster_timezone:</td>\n<td>America/Sao_Paulo</td></tr>\n<tr><td>H2O_data_parsing_timezone:</td>\n<td>UTC</td></tr>\n<tr><td>H2O_cluster_version:</td>\n<td>3.30.0.3</td></tr>\n<tr><td>H2O_cluster_version_age:</td>\n<td>10 hours and 21 minutes </td></tr>\n<tr><td>H2O_cluster_name:</td>\n<td>H2O_from_python_Wesley_Neves_bb3avf</td></tr>\n<tr><td>H2O_cluster_total_nodes:</td>\n<td>1</td></tr>\n<tr><td>H2O_cluster_free_memory:</td>\n<td>247.5 Mb</td></tr>\n<tr><td>H2O_cluster_total_cores:</td>\n<td>0</td></tr>\n<tr><td>H2O_cluster_allowed_cores:</td>\n<td>0</td></tr>\n<tr><td>H2O_cluster_status:</td>\n<td>accepting new members, healthy</td></tr>\n<tr><td>H2O_connection_url:</td>\n<td>http://127.0.0.1:54321</td></tr>\n<tr><td>H2O_connection_proxy:</td>\n<td>{\"http\": null, \"https\": null}</td></tr>\n<tr><td>H2O_internal_security:</td>\n<td>False</td></tr>\n<tr><td>H2O_API_Extensions:</td>\n<td>Amazon S3, Algos, AutoML, Core V3, TargetEncoder, Core V4</td></tr>\n<tr><td>Python_version:</td>\n<td>3.7.7 final</td></tr></table></div>"
     },
     "metadata": {}
    }
   ],
   "source": [
    "h2o.init()"
   ]
  },
  {
   "cell_type": "code",
   "execution_count": null,
   "metadata": {},
   "outputs": [],
   "source": [
    "h2o.demo(\"glm\")\n",
    "h2o.demos."
   ]
  },
  {
   "cell_type": "code",
   "execution_count": null,
   "metadata": {},
   "outputs": [],
   "source": []
  }
 ],
 "metadata": {
  "language_info": {
   "codemirror_mode": {
    "name": "ipython",
    "version": 3
   },
   "file_extension": ".py",
   "mimetype": "text/x-python",
   "name": "python",
   "nbconvert_exporter": "python",
   "pygments_lexer": "ipython3",
   "version": "3.7.7-final"
  },
  "orig_nbformat": 2,
  "kernelspec": {
   "name": "python37764bitdeeplearningconda70b0a9c2c78b49cfaeeb6e88dd7dfba8",
   "display_name": "Python 3.7.7 64-bit ('Deep Learning': conda)"
  }
 },
 "nbformat": 4,
 "nbformat_minor": 2
}