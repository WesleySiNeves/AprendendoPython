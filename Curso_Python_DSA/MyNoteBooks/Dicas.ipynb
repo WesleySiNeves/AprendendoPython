{
 "cells": [
  {
   "cell_type": "markdown",
   "metadata": {},
   "source": [
    "## remover acentos em python"
   ]
  },
  {
   "cell_type": "code",
   "execution_count": 15,
   "metadata": {},
   "outputs": [
    {
     "name": "stdout",
     "output_type": "stream",
     "text": "Collecting unidecode\n  Downloading https://files.pythonhosted.org/packages/d0/42/d9edfed04228bacea2d824904cae367ee9efd05e6cce7ceaaedd0b0ad964/Unidecode-1.1.1-py2.py3-none-any.whl (238kB)\nInstalling collected packages: unidecode\nSuccessfully installed unidecode-1.1.1\nNote: you may need to restart the kernel to use updated packages.\n"
    }
   ],
   "source": [
    "pip install unidecode"
   ]
  },
  {
   "cell_type": "code",
   "execution_count": 16,
   "metadata": {},
   "outputs": [],
   "source": [
    "# rede com  o python base conda \n",
    "#!pip install unicode\n",
    "\n",
    "from unidecode import unidecode\n",
    "\n"
   ]
  },
  {
   "cell_type": "code",
   "execution_count": 17,
   "metadata": {},
   "outputs": [
    {
     "data": {
      "text/plain": "'Cafe'"
     },
     "execution_count": 17,
     "metadata": {},
     "output_type": "execute_result"
    }
   ],
   "source": [
    "palavra = 'Café'\n",
    "\n",
    "unidecode(palavra)"
   ]
  },
  {
   "cell_type": "code",
   "execution_count": 1,
   "metadata": {},
   "outputs": [
    {
     "output_type": "stream",
     "name": "stdout",
     "text": "87\n0x57\n101\n0x65\n115\n0x73\n108\n0x6c\n101\n0x65\n121\n0x79\n32\n0x20\n78\n0x4e\n101\n0x65\n118\n0x76\n101\n0x65\n115\n0x73\n0x570x650x730x6c0x650x790x200x4e0x650x760x650x73\n"
    }
   ],
   "source": [
    "result =''\n",
    "for letra in \"Wesley Neves\":\n",
    "    print(ord(letra))\n",
    "    print(hex(ord(letra)))\n",
    "    result = result + \"\".join(hex(ord(letra)))\n",
    "\n",
    "print(result)"
   ]
  },
  {
   "cell_type": "code",
   "execution_count": 21,
   "metadata": {},
   "outputs": [],
   "source": [
    "s ='Data Science Academy'"
   ]
  },
  {
   "cell_type": "code",
   "execution_count": 22,
   "metadata": {},
   "outputs": [],
   "source": [
    "# Concatenando strings\n",
    "s = s + ' é a melhor maneira de estar preparado para o mercado de trabalho em Ciência de Dados!'"
   ]
  },
  {
   "cell_type": "code",
   "execution_count": 25,
   "metadata": {},
   "outputs": [
    {
     "output_type": "execute_result",
     "data": {
      "text/plain": "[('Data', 1),\n ('Science', 1),\n ('Academy', 1),\n ('é', 1),\n ('a', 16),\n ('melhor', 1),\n ('maneira', 1),\n ('de', 4),\n ('estar', 1),\n ('preparado', 1),\n ('para', 2),\n ('o', 6),\n ('mercado', 1),\n ('de', 4),\n ('trabalho', 1),\n ('em', 2),\n ('Ciência', 1),\n ('de', 4),\n ('Dados!', 1)]"
     },
     "metadata": {},
     "execution_count": 25
    }
   ],
   "source": [
    "retorno = []\n",
    "\n",
    "for item in s.split():\n",
    "    retorno.append((item,s.count(item)))\n",
    "    \n",
    "   \n",
    "retorno"
   ]
  },
  {
   "cell_type": "code",
   "execution_count": 15,
   "metadata": {},
   "outputs": [
    {
     "output_type": "error",
     "ename": "AttributeError",
     "evalue": "'list' object has no attribute 'keys'",
     "traceback": [
      "\u001b[1;31m---------------------------------------------------------------------------\u001b[0m",
      "\u001b[1;31mAttributeError\u001b[0m                            Traceback (most recent call last)",
      "\u001b[1;32m<ipython-input-15-8c1ef4948401>\u001b[0m in \u001b[0;36m<module>\u001b[1;34m\u001b[0m\n\u001b[1;32m----> 1\u001b[1;33m \u001b[0mretorno\u001b[0m\u001b[1;33m.\u001b[0m\u001b[0mkeys\u001b[0m\u001b[1;33m(\u001b[0m\u001b[1;33m)\u001b[0m\u001b[1;33m\u001b[0m\u001b[1;33m\u001b[0m\u001b[0m\n\u001b[0m",
      "\u001b[1;31mAttributeError\u001b[0m: 'list' object has no attribute 'keys'"
     ]
    }
   ],
   "source": [
    "retorno.keys()"
   ]
  },
  {
   "cell_type": "markdown",
   "metadata": {},
   "source": [
    "# Gerar Guids\n"
   ]
  },
  {
   "cell_type": "code",
   "execution_count": 3,
   "metadata": {},
   "outputs": [],
   "source": [
    "import uuid"
   ]
  },
  {
   "cell_type": "code",
   "execution_count": 6,
   "metadata": {},
   "outputs": [
    {
     "output_type": "execute_result",
     "data": {
      "text/plain": "UUID('c2de9663-227f-4dca-a481-c9b4f942d75e')"
     },
     "metadata": {},
     "execution_count": 6
    }
   ],
   "source": [
    "uuid.uuid4()"
   ]
  },
  {
   "cell_type": "code",
   "execution_count": null,
   "metadata": {},
   "outputs": [],
   "source": []
  },
  {
   "cell_type": "code",
   "execution_count": 5,
   "metadata": {},
   "outputs": [
    {
     "output_type": "execute_result",
     "data": {
      "text/plain": "uuid.UUID"
     },
     "metadata": {},
     "execution_count": 5
    }
   ],
   "source": [
    "type(uuid.uuid4())\n"
   ]
  },
  {
   "cell_type": "code",
   "execution_count": null,
   "metadata": {},
   "outputs": [],
   "source": [
    "remote_dir = r'\\\\rghml-wsvm-01\\C:\\inetpub\\wwwroot'\n",
    "\n",
    "files ='C:\\inetpub\\wwwroot\\M-SAM-01.implantadev.net.br\\siscont\\App_Data\\Elmah.Errors'"
   ]
  }
 ],
 "metadata": {
  "language_info": {
   "name": "python",
   "codemirror_mode": {
    "name": "ipython",
    "version": 3
   },
   "version": "3.7.6-final"
  },
  "orig_nbformat": 2,
  "file_extension": ".py",
  "mimetype": "text/x-python",
  "name": "python",
  "npconvert_exporter": "python",
  "pygments_lexer": "ipython3",
  "version": 3,
  "kernelspec": {
   "name": "python3",
   "display_name": "Python 3"
  }
 },
 "nbformat": 4,
 "nbformat_minor": 2
}